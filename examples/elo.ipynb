{
 "cells": [
  {
   "cell_type": "code",
   "execution_count": 1,
   "metadata": {},
   "outputs": [
    {
     "data": {
      "text/plain": [
       "<torch.autograd.grad_mode.set_grad_enabled at 0x7f584c346ad0>"
      ]
     },
     "execution_count": 1,
     "metadata": {},
     "output_type": "execute_result"
    }
   ],
   "source": [
    "import os\n",
    "import sys\n",
    "sys.path.append(os.path.abspath('..'))\n",
    "\n",
    "import numpy as np\n",
    "import random\n",
    "import torch\n",
    "from torch.utils.data import DataLoader\n",
    "from transformer_lens import HookedTransformer\n",
    "from transformer_lens import utils as tutils\n",
    "from transformer_lens.evals import make_pile_data_loader, evaluate_on_dataset\n",
    "\n",
    "from functools import partial\n",
    "from datasets import load_dataset\n",
    "from tqdm import tqdm\n",
    "\n",
    "from sae_lens import SAE\n",
    "# from sae_lens.toolkit.pretrained_saes import get_gpt2_res_jb_saes\n",
    "# from sae_lens import SparseAutoencoder, ActivationsStore\n",
    "\n",
    "from steering.evals_utils import multi_criterion_evaluation, compute_battles\n",
    "from steering.utils import normalise_decoder\n",
    "from steering.patch import generate, scores_2d, patch_resid\n",
    "\n",
    "# from sae_vis.data_config_classes import SaeVisConfig\n",
    "# from sae_vis.data_storing_fns import SaeVisData\n",
    "\n",
    "import plotly.express as px\n",
    "import plotly.graph_objects as go\n",
    "from plotly.subplots import make_subplots\n",
    "import pandas as pd\n",
    "import json\n",
    "\n",
    "torch.set_grad_enabled(False)"
   ]
  },
  {
   "cell_type": "code",
   "execution_count": 2,
   "metadata": {},
   "outputs": [
    {
     "name": "stderr",
     "output_type": "stream",
     "text": [
      "`config.hidden_act` is ignored, you should use `config.hidden_activation` instead.\n",
      "Gemma's activation function will be set to `gelu_pytorch_tanh`. Please, use\n",
      "`config.hidden_activation` if you want to override this behaviour.\n",
      "See https://github.com/huggingface/transformers/pull/29402 for more details.\n"
     ]
    },
    {
     "data": {
      "application/vnd.jupyter.widget-view+json": {
       "model_id": "24d35615e82448db9a46f12308cf9a35",
       "version_major": 2,
       "version_minor": 0
      },
      "text/plain": [
       "Loading checkpoint shards:   0%|          | 0/2 [00:00<?, ?it/s]"
      ]
     },
     "metadata": {},
     "output_type": "display_data"
    },
    {
     "name": "stderr",
     "output_type": "stream",
     "text": [
      "WARNING:root:You are not using LayerNorm, so the writing weights can't be centered! Skipping\n"
     ]
    },
    {
     "name": "stdout",
     "output_type": "stream",
     "text": [
      "Loaded pretrained model gemma-2b into HookedTransformer\n"
     ]
    }
   ],
   "source": [
    "device = torch.device(\"cuda\" if torch.cuda.is_available() else \"cpu\")\n",
    "model = HookedTransformer.from_pretrained(\"gemma-2b\", device=device)"
   ]
  },
  {
   "cell_type": "code",
   "execution_count": 3,
   "metadata": {},
   "outputs": [],
   "source": [
    "hp6 = \"blocks.6.hook_resid_post\"\n",
    "\n",
    "sae6, _, _ = SAE.from_pretrained(\n",
    "    release = \"gemma-2b-res-jb\", # see other options in sae_lens/pretrained_saes.yaml\n",
    "    sae_id = hp6, # won't always be a hook point\n",
    "    device = 'cpu'\n",
    ")\n",
    "\n",
    "sae6 = sae6.to(device)\n",
    "normalise_decoder(sae6)"
   ]
  },
  {
   "cell_type": "code",
   "execution_count": 4,
   "metadata": {},
   "outputs": [],
   "source": [
    "intelligence = sae6.W_dec[10351]   # intelligence and genius\n",
    "writing = sae6.W_dec[1058]  # writing\n",
    "anger = sae6.W_dec[1062]  # anger\n",
    "london = sae6.W_dec[10138]  # London\n",
    "wedding = sae6.W_dec[8406]  # wedding\n",
    "broad_wedding = sae6.W_dec[2378] # broad wedding"
   ]
  },
  {
   "cell_type": "code",
   "execution_count": 5,
   "metadata": {},
   "outputs": [],
   "source": [
    "scales = [x for x in range(0, 120, 10)]\n",
    "prompt = \"I think\"\n",
    "\n",
    "name = \"wedding\"\n",
    "\n",
    "steer = wedding\n",
    "\n",
    "# eval_criterion = \"Mentions writing or anything related to writing\" # writing\n",
    "# eval_criterion = \"Mentions London or anything related to London\" # London\n",
    "eval_criterion = \"Mentions wedding or anything related to wedding\" # wedding\n",
    "# eval_criterion = \"Text is angry or mentions anger/frustration or anything related to anger\" # anger\n",
    "\n",
    "coherence_criterion = \"Text is coherent, the grammar is correct.\""
   ]
  },
  {
   "cell_type": "code",
   "execution_count": 29,
   "metadata": {},
   "outputs": [],
   "source": [
    "def rate(scale, steering_vector, json_path=None):\n",
    "    texts = generate(model,\n",
    "        hooks=[(hp6, partial(patch_resid, steering=steering_vector, scale=scale))],\n",
    "        max_new_tokens=25,\n",
    "        prompt=prompt,\n",
    "        batch_size=64, # 64\n",
    "        n_samples=128, # 128\n",
    "        )\n",
    "\n",
    "    # eval = evaluate_completions(texts, criterion=eval_criterion, prompt=prompt, verbose=False)\n",
    "    # coherence = evaluate_completions(texts, criterion=coherence_criterion, prompt=prompt, verbose=False)\n",
    "    eval, coherence = multi_criterion_evaluation(texts,\n",
    "                                                 [eval_criterion, coherence_criterion],\n",
    "                                                 prompt=prompt,\n",
    "                                                 verbose=False,\n",
    "                                                 )\n",
    "    scores = [e['score'] for e in eval]\n",
    "    coherence_scores = [e['score'] for e in coherence]\n",
    "    return scores, coherence_scores, texts"
   ]
  },
  {
   "cell_type": "code",
   "execution_count": 30,
   "metadata": {},
   "outputs": [
    {
     "name": "stderr",
     "output_type": "stream",
     "text": [
      "100%|██████████| 12/12 [03:54<00:00, 19.54s/it]\n"
     ]
    }
   ],
   "source": [
    "avg_scores = []\n",
    "avg_coherence = []\n",
    "all_scores = []\n",
    "all_coherence = []\n",
    "\n",
    "all_texts = []\n",
    "\n",
    "for scale in tqdm(scales):\n",
    "    scores, coherence, texts = rate(scale, steer)\n",
    "    avg_scores.append(sum(scores) / len(scores))\n",
    "    avg_coherence.append(sum(coherence) / len(coherence))\n",
    "    all_scores.append(scores)\n",
    "    all_coherence.append(coherence)\n",
    "    all_texts.append(texts)\n",
    "\n",
    "# scale to be from 0 to 1\n",
    "avg_scores = [(x - 1) / 9 for x in avg_scores]\n",
    "avg_coherence = [(x - 1) / 9 for x in avg_coherence]\n",
    "\n",
    "# Scale all_scores and all_coherence to be from 0 to 1\n",
    "all_scores = [[(score - 1) / 9 for score in scale_scores] for scale_scores in all_scores]\n",
    "all_coherence = [[(coh - 1) / 9 for coh in scale_coherence] for scale_coherence in all_coherence]"
   ]
  },
  {
   "cell_type": "code",
   "execution_count": 31,
   "metadata": {},
   "outputs": [
    {
     "name": "stdout",
     "output_type": "stream",
     "text": [
      "Error in run_battle: Request timed out.\n",
      "Error in run_battle: Request timed out.\n",
      "Error in run_battle: Request timed out.\n",
      "Error in run_battle: Request timed out.\n",
      "Error in run_battle: Request timed out.\n",
      "Error in run_battle: Request timed out.\n",
      "Error in run_battle: Request timed out.\n",
      "Error in run_battle: Request timed out.\n",
      "Error in run_battle: Request timed out.\n",
      "Error in run_battle: Request timed out.\n",
      "Error in run_battle: Request timed out.\n",
      "Error in run_battle: Request timed out.\n",
      "Error in run_battle: Request timed out.\n",
      "Error in run_battle: Request timed out.\n",
      "Error in run_battle: Request timed out.\n",
      "Error in run_battle: Request timed out.\n",
      "Error in run_battle: Request timed out.\n",
      "Error in run_battle: Request timed out.\n",
      "Error in run_battle: Request timed out.\n",
      "Error in run_battle: Request timed out.\n",
      "Error in run_battle: Request timed out.\n",
      "Error in run_battle: Request timed out.\n",
      "Error in run_battle: Request timed out.\n",
      "Error in run_battle: Request timed out.\n",
      "Error in run_battle: Request timed out.\n",
      "Error in run_battle: Request timed out.\n",
      "Error in run_battle: Request timed out.\n",
      "Error in run_battle: Request timed out.\n",
      "Error in run_battle: Request timed out.\n"
     ]
    }
   ],
   "source": [
    "coherence_battle_results = compute_battles(all_texts,\n",
    "                                           coherence_criterion,\n",
    "                                           prompt=prompt,\n",
    "                                           n_iterations_per_model=128,\n",
    "                                           )\n",
    "\n",
    "eval_battle_results = compute_battles(all_texts,\n",
    "                                           eval_criterion,\n",
    "                                           prompt=prompt,\n",
    "                                           n_iterations_per_model=128,\n",
    "                                           )"
   ]
  },
  {
   "cell_type": "code",
   "execution_count": 32,
   "metadata": {},
   "outputs": [
    {
     "data": {
      "application/vnd.plotly.v1+json": {
       "config": {
        "plotlyServerURL": "https://plot.ly"
       },
       "data": [
        {
         "alignmentgroup": "True",
         "bingroup": "x",
         "hovertemplate": "x=%{x}<br>count=%{y}<extra></extra>",
         "legendgroup": "",
         "marker": {
          "color": "#636efa",
          "pattern": {
           "shape": ""
          }
         },
         "name": "",
         "offsetgroup": "",
         "orientation": "v",
         "showlegend": false,
         "type": "histogram",
         "x": [
          "A",
          "A",
          "A",
          "B",
          "B",
          "B",
          "A",
          "B",
          "B",
          "A",
          "A",
          "A",
          "A",
          "A",
          "A",
          "A",
          "B",
          "B",
          "B",
          "B",
          "A",
          "A",
          "A",
          "A",
          "A",
          "A",
          "A",
          "B",
          "A",
          "B",
          "A",
          "B",
          "A",
          "B",
          "A",
          "A",
          "A",
          "A",
          "B",
          "A",
          "A",
          "A",
          "A",
          "A",
          "A",
          "B",
          "A",
          "A",
          "A",
          "A",
          "A",
          "B",
          "A",
          "A",
          "A",
          "B",
          "A",
          "A",
          "A",
          "A",
          "A",
          "B",
          "A",
          "B",
          "A",
          "A",
          "A",
          "A",
          "B",
          "A",
          "B",
          "A",
          "A",
          "B",
          "A",
          "A",
          "A",
          "B",
          "A",
          "A",
          "B",
          "B",
          "A",
          "A",
          "B",
          "B",
          "B",
          "B",
          "B",
          "A",
          "A",
          "A",
          "B",
          "A",
          "A",
          "A",
          "A",
          "A",
          "A",
          "B",
          "B",
          "A",
          "B",
          "A",
          "B",
          "A",
          "A",
          "A",
          "B",
          "B",
          "A",
          "B",
          "B",
          "A",
          "A",
          "B",
          "A",
          "A",
          "A",
          "A",
          "A",
          "A",
          "A",
          "A",
          "B",
          "A",
          "B",
          "A",
          "A",
          "A",
          "A",
          "A",
          "B",
          "A",
          "A",
          "A",
          "A",
          "B",
          "A",
          "B",
          "B",
          "A",
          "A",
          "A",
          "A",
          "B",
          "B",
          "A",
          "B",
          "B",
          "A",
          "B",
          "A",
          "B",
          "B",
          "B",
          "A",
          "B",
          "B",
          "B",
          "B",
          "B",
          "A",
          "A",
          "A",
          "B",
          "A",
          "B",
          "B",
          "A",
          "A",
          "A",
          "A",
          "B",
          "A",
          "B",
          "A",
          "B",
          "A",
          "B",
          "A",
          "A",
          "A",
          "B",
          "B",
          "A",
          "B",
          "B",
          "A",
          "A",
          "A",
          "A",
          "A",
          "B",
          "B",
          "A",
          "A",
          "B",
          "A",
          "B",
          "A",
          "B",
          "B",
          "B",
          "B",
          "A",
          "A",
          "A",
          "B",
          "A",
          "A",
          "A",
          "A",
          "A",
          "B",
          "A",
          "B",
          "A",
          "A",
          "B",
          "A",
          "A",
          "A",
          "A",
          "A",
          "A",
          "A",
          "A",
          "A",
          "B",
          "B",
          "A",
          "A",
          "B",
          "B",
          "A",
          "A",
          "B",
          "A",
          "A",
          "A",
          "A",
          "A",
          "A",
          "A",
          "A",
          "A",
          "B",
          "B",
          "B",
          "A",
          "A",
          "B",
          "A",
          "B",
          "A",
          "A",
          "A",
          "A",
          "B",
          "B",
          "A",
          "A",
          "A",
          "A",
          "B",
          "B",
          "A",
          "A",
          "A",
          "A",
          "A",
          "A",
          "B",
          "B",
          "B",
          "A",
          "A",
          "B",
          "A",
          "A",
          "B",
          "B",
          "A",
          "B",
          "A",
          "B",
          "A",
          "B",
          "A",
          "B",
          "A",
          "A",
          "A",
          "A",
          "A",
          "B",
          "B",
          "B",
          "B",
          "A",
          "A",
          "B",
          "B",
          "B",
          "A",
          "B",
          "A",
          "A",
          "A",
          "A",
          "A",
          "A",
          "B",
          "B",
          "A",
          "A",
          "A",
          "A",
          "B",
          "B",
          "B",
          "B",
          "B",
          "A",
          "A",
          "B",
          "A",
          "A",
          "A",
          "A",
          "A",
          "B",
          "B",
          "B",
          "A",
          "A",
          "B",
          "A",
          "A",
          "B",
          "B",
          "A",
          "B",
          "B",
          "A",
          "B",
          "A",
          "B",
          "B",
          "B",
          "A",
          "B",
          "B",
          "B",
          "A",
          "A",
          "A",
          "A",
          "A",
          "B",
          "A",
          "A",
          "B",
          "A",
          "A",
          "B",
          "A",
          "A",
          "A",
          "B",
          "A",
          "A",
          "A",
          "A",
          "A",
          "A",
          "B",
          "A",
          "B",
          "A",
          "B",
          "A",
          "A",
          "B",
          "B",
          "B",
          "B",
          "A",
          "B",
          "A",
          "B",
          "A",
          "B",
          "A",
          "A",
          "B",
          "A",
          "A",
          "A",
          "B",
          "A",
          "A",
          "B",
          "B",
          "B",
          "A",
          "B",
          "A",
          "A",
          "B",
          "A",
          "A",
          "B",
          "A",
          "A",
          "A",
          "A",
          "A",
          "B",
          "B",
          "B",
          "A",
          "A",
          "B",
          "B",
          "B",
          "B",
          "A",
          "A",
          "B",
          "A",
          "A",
          "B",
          "A",
          "A",
          "A",
          "B",
          "A",
          "A",
          "B",
          "A",
          "B",
          "A",
          "A",
          "A",
          "A",
          "A",
          "B",
          "B",
          "A",
          "A",
          "A",
          "A",
          "A",
          "A",
          "A",
          "A",
          "A",
          "B",
          "A",
          "A",
          "A",
          "A",
          "A",
          "B",
          "B",
          "A",
          "A",
          "B",
          "A",
          "B",
          "A",
          "B",
          "A",
          "A",
          "B",
          "A",
          "A",
          "A",
          "A",
          "A",
          "A",
          "A",
          "B",
          "B",
          "B",
          "B",
          "B",
          "A",
          "A",
          "A",
          "A",
          "A",
          "B",
          "A",
          "A",
          "B",
          "A",
          "A",
          "B",
          "A",
          "B",
          "A",
          "A",
          "B",
          "B",
          "A",
          "A",
          "A",
          "A",
          "A",
          "A",
          "A",
          "A",
          "B",
          "B",
          "A",
          "B",
          "A",
          "A",
          "A",
          "B",
          "B",
          "B",
          "A",
          "B",
          "A",
          "B",
          "B",
          "A",
          "A",
          "A",
          "B",
          "A",
          "A",
          "A",
          "A",
          "A",
          "A",
          "B",
          "A",
          "A",
          "A",
          "A",
          "A",
          "B",
          "A",
          "B",
          "A",
          "A",
          "B",
          "A",
          "A",
          "A",
          "A",
          "B",
          "B",
          "A",
          "B",
          "A",
          "B",
          "A",
          "A",
          "A",
          "B",
          "A",
          "A",
          "B",
          "A",
          "A",
          "A",
          "A",
          "A",
          "A",
          "A",
          "B",
          "A",
          "A",
          "A",
          "A",
          "B",
          "B",
          "B",
          "B",
          "A",
          "A",
          "B",
          "A",
          "A",
          "A",
          "A",
          "B",
          "A",
          "B",
          "B",
          "A",
          "A",
          "A",
          "A",
          "A",
          "A",
          "B",
          "A",
          "A",
          "A",
          "A",
          "A",
          "A",
          "A",
          "A",
          "A",
          "A",
          "A",
          "A",
          "B",
          "A",
          "A",
          "A",
          "B",
          "B",
          "B",
          "A",
          "B",
          "B",
          "A",
          "A",
          "A",
          "B",
          "B",
          "A",
          "B",
          "A",
          "A",
          "A",
          "B",
          "B",
          "B",
          "B",
          "B",
          "A",
          "A",
          "A",
          "B",
          "B",
          "A",
          "B",
          "B",
          "B",
          "A",
          "A",
          "A",
          "A",
          "A",
          "B",
          "A",
          "B",
          "A",
          "A",
          "A",
          "B",
          "B",
          "A",
          "A",
          "B",
          "A",
          "B",
          "A",
          "A",
          "A",
          "B",
          "B",
          "A",
          "A",
          "A",
          "A",
          "A",
          "B",
          "A",
          "A",
          "A",
          "A",
          "B",
          "A",
          "B",
          "A",
          "B",
          "A",
          "A",
          "A",
          "A",
          "A",
          "A",
          "A",
          "B",
          "B",
          "A",
          "A",
          "A",
          "A",
          "A",
          "A",
          "B",
          "A",
          "A",
          "A",
          "A",
          "B",
          "A",
          "A",
          "B",
          "B",
          "B",
          "A",
          "A",
          "B",
          "B",
          "B",
          "A",
          "B",
          "B",
          "A",
          "A",
          "B",
          "B",
          "A",
          "B",
          "A",
          "A",
          "B",
          "A",
          "A",
          "A",
          "B",
          "B",
          "B",
          "A",
          "A",
          "A",
          "B",
          "A",
          "B",
          "A",
          "A",
          "A",
          "A",
          "B",
          "A",
          "A",
          "A",
          "A",
          "B",
          "B",
          "A",
          "B",
          "B",
          "A",
          "B",
          "A",
          "A",
          "A",
          "B",
          "B",
          "B",
          "A",
          "B",
          "A",
          "B",
          "A",
          "B",
          "A",
          "B",
          "B",
          "B",
          "B",
          "A",
          "A",
          "A",
          "A",
          "A",
          "B",
          "A",
          "A",
          "B",
          "B",
          "B",
          "B",
          "B",
          "B",
          "A",
          "A",
          "A",
          "B",
          "A",
          "B",
          "A",
          "A",
          "B",
          "A",
          "A",
          "A",
          "B",
          "A",
          "A",
          "B",
          "B",
          "A",
          "B",
          "A",
          "A",
          "A",
          "A",
          "B",
          "B",
          "B",
          "A",
          "A",
          "B",
          "A",
          "A",
          "A",
          "B",
          "B",
          "A",
          "B",
          "B",
          "B",
          "A",
          "A",
          "B",
          "A",
          "A",
          "A",
          "B",
          "A",
          "B",
          "B",
          "B",
          "B",
          "B",
          "A",
          "A",
          "B",
          "A",
          "A",
          "B",
          "A",
          "A",
          "B",
          "B",
          "B",
          "A",
          "A",
          "A",
          "B",
          "B",
          "A",
          "A",
          "B",
          "B",
          "B",
          "B",
          "A",
          "B",
          "B",
          "A",
          "B",
          "A",
          "A",
          "A",
          "B",
          "A",
          "A",
          "A",
          "B",
          "A",
          "A",
          "B",
          "B",
          "B",
          "B",
          "A",
          "A",
          "B",
          "A",
          "A",
          "B",
          "A",
          "A",
          "B",
          "A",
          "A",
          "B",
          "A",
          "B",
          "B",
          "A",
          "B",
          "B",
          "B",
          "B",
          "A",
          "A",
          "A",
          "A",
          "A",
          "B",
          "B",
          "A",
          "A",
          "B",
          "B",
          "A",
          "B",
          "A",
          "A",
          "A",
          "A",
          "A",
          "A",
          "A",
          "B",
          "A",
          "B",
          "A",
          "B",
          "A",
          "B",
          "A",
          "B",
          "A",
          "A",
          "A",
          "A",
          "B",
          "A",
          "B",
          "A",
          "A",
          "B",
          "A",
          "A",
          "A",
          "A",
          "A",
          "A",
          "B",
          "A",
          "A",
          "B",
          "A",
          "A",
          "B",
          "A",
          "A",
          "A",
          "B",
          "B",
          "B",
          "A",
          "A",
          "A",
          "A",
          "A",
          "A",
          "B",
          "A",
          "A",
          "A",
          "A",
          "A",
          "B",
          "B",
          "B",
          "B",
          "B",
          "A",
          "B",
          "A",
          "A",
          "A",
          "B",
          "B",
          "B",
          "A",
          "A",
          "A",
          "A",
          "B",
          "A",
          "A",
          "B",
          "A",
          "A",
          "A",
          "A",
          "A",
          "B",
          "A",
          "A",
          "A",
          "A",
          "A",
          "A",
          "B",
          "A",
          "B",
          "A",
          "B",
          "A",
          "B",
          "A",
          "A",
          "A",
          "A",
          "B",
          "B",
          "B",
          "A",
          "A",
          "A",
          "A",
          "B",
          "A",
          "A",
          "A",
          "B",
          "A",
          "B",
          "A",
          "A",
          "B",
          "B",
          "A",
          "A",
          "B",
          "B",
          "A",
          "A",
          "A",
          "A",
          "A",
          "A",
          "A",
          "A",
          "A",
          "A",
          "A",
          "B",
          "B",
          "B",
          "A",
          "B",
          "A",
          "A",
          "A",
          "B",
          "A",
          "A",
          "A",
          "A",
          "B",
          "A",
          "A",
          "A",
          "B",
          "A",
          "A",
          "A",
          "B",
          "A",
          "B",
          "B",
          "A",
          "A",
          "A",
          "A",
          "A",
          "A",
          "B",
          "A",
          "B",
          "A",
          "A",
          "A",
          "B",
          "A",
          "B",
          "B",
          "A",
          "A",
          "A",
          "B",
          "A",
          "A",
          "A",
          "A",
          "B",
          "A",
          "B",
          "A",
          "B",
          "B",
          "A",
          "B",
          "B",
          "B",
          "A",
          "A",
          "A",
          "B",
          "A",
          "B",
          "B",
          "B",
          "B",
          "A",
          "A",
          "A",
          "B",
          "A",
          "B",
          "A",
          "B",
          "A",
          "A",
          "A",
          "B",
          "B",
          "A",
          "A",
          "B",
          "B",
          "A",
          "A",
          "A",
          "A",
          "A",
          "B",
          "A",
          "B",
          "B",
          "B",
          "B",
          "B",
          "B",
          "B",
          "B",
          "B",
          "A",
          "A",
          "B",
          "A",
          "B",
          "A",
          "A",
          "B",
          "A",
          "B",
          "A",
          "A",
          "A",
          "A",
          "B",
          "B",
          "A",
          "B",
          "B",
          "A",
          "A",
          "B",
          "A",
          "B",
          "B",
          "B",
          "A",
          "B",
          "A",
          "A",
          "A",
          "A",
          "A",
          "A",
          "A",
          "B",
          "B",
          "A",
          "A",
          "A",
          "A",
          "B",
          "B",
          "A",
          "A",
          "B",
          "A",
          "B",
          "B",
          "B",
          "A",
          "A",
          "A",
          "B",
          "A",
          "B",
          "A",
          "B",
          "A",
          "B",
          "A",
          "B",
          "B",
          "B",
          "B",
          "A",
          "B",
          "B",
          "A",
          "B",
          "A",
          "B",
          "A",
          "A",
          "A",
          "B",
          "A",
          "A",
          "A",
          "B",
          "B",
          "A",
          "A",
          "A",
          "A",
          "B",
          "B",
          "A",
          "A",
          "A",
          "B",
          "B",
          "A",
          "B",
          "A",
          "A",
          "A",
          "A",
          "A",
          "A",
          "A",
          "A",
          "A",
          "A",
          "B",
          "A",
          "A",
          "A",
          "B",
          "A",
          "A",
          "B",
          "B",
          "A",
          "A",
          "B",
          "A",
          "A",
          "B",
          "A",
          "A",
          "B",
          "A",
          "A",
          "A",
          "B",
          "B",
          "B",
          "A",
          "A",
          "A",
          "A",
          "B",
          "A",
          "B",
          "A",
          "B",
          "A",
          "B",
          "B",
          "A",
          "B",
          "A",
          "B",
          "A",
          "A",
          "A",
          "A",
          "B",
          "A",
          "B",
          "A",
          "A",
          "A",
          "B",
          "A",
          "A",
          "A",
          "A",
          "B",
          "A",
          "B",
          "B",
          "A",
          "B",
          "B",
          "A",
          "A",
          "B",
          "B",
          "B",
          "B",
          "B",
          "B",
          "A",
          "A",
          "A",
          "A",
          "B",
          "A",
          "B",
          "B",
          "A",
          "A",
          "B",
          "B",
          "A",
          "A",
          "A",
          "A",
          "A",
          "A",
          "A",
          "A",
          "B",
          "A",
          "A",
          "A",
          "A",
          "B",
          "B",
          "A",
          "A",
          "B",
          "B",
          "A",
          "A",
          "A",
          "A",
          "A",
          "B",
          "B",
          "B",
          "A",
          "A",
          "A",
          "A",
          "A",
          "B",
          "A",
          "A",
          "A",
          "A",
          "A",
          "B",
          "B",
          "A",
          "A",
          "A",
          "A",
          "A",
          "A",
          "B",
          "A",
          "A",
          "B",
          "B",
          "B",
          "A",
          "B",
          "A",
          "A",
          "B",
          "B",
          "B",
          "B",
          "A",
          "B",
          "A",
          "B",
          "A",
          "A",
          "B",
          "B",
          "A",
          "B",
          "A",
          "A",
          "A",
          "B",
          "B",
          "A",
          "A",
          "B",
          "A",
          "B",
          "B",
          "A",
          "B",
          "B",
          "B",
          "A",
          "A",
          "B",
          "A",
          "A",
          "B",
          "A",
          "B",
          "A",
          "A",
          "A",
          "B",
          "A",
          "B",
          "A",
          "B",
          "A",
          "A",
          "B",
          "A",
          "A",
          "B",
          "A",
          "A",
          "A",
          "B",
          "A",
          "A",
          "A",
          "A",
          "A",
          "A",
          "A",
          "B",
          "A",
          "A",
          "B",
          "A",
          "B",
          "A",
          "B",
          "B",
          "A",
          "A",
          "A",
          "A",
          "B",
          "B",
          "A",
          "A",
          "A",
          "B",
          "A",
          "A",
          "A",
          "B",
          "A",
          "A",
          "A",
          "A",
          "A",
          "A",
          "A",
          "A",
          "A",
          "A",
          "A",
          "A",
          "A",
          "A",
          "B",
          "B",
          "A",
          "A",
          "B",
          "A",
          "A",
          "A",
          "B",
          "A",
          "A",
          "B",
          "A",
          "A",
          "A",
          "B",
          "B",
          "B",
          "A",
          "B",
          "A",
          "B",
          "A",
          "B",
          "A",
          "A",
          "A",
          "B",
          "A",
          "A",
          "A",
          "A",
          "A",
          "A",
          "A",
          "A",
          "A",
          "B",
          "B",
          "B",
          "A",
          "B",
          "A",
          "B",
          "A",
          "A",
          "B",
          "A",
          "B",
          "B",
          "A",
          "A",
          "B",
          "A",
          "B",
          "A",
          "B",
          "B",
          "A",
          "B",
          "A",
          "A",
          "A",
          "A",
          "B",
          "B",
          "B",
          "A",
          "A",
          "A",
          "B",
          "A",
          "A",
          "B",
          "A",
          "B",
          "A",
          "A",
          "B",
          "B",
          "A",
          "B",
          "A",
          "A",
          "B",
          "B",
          "B",
          "A",
          "A",
          "B",
          "B",
          "A",
          "A",
          "A",
          "A",
          "B",
          "B",
          "B",
          "A",
          "A",
          "A",
          "B",
          "B",
          "A",
          "B",
          "B",
          "B",
          "A",
          "B",
          "A",
          "A",
          "A",
          "A",
          "A",
          "A",
          "B",
          "B",
          "A",
          "A",
          "A",
          "A",
          "A",
          "A",
          "B",
          "B",
          "A",
          "A",
          "A",
          "A",
          "A",
          "A",
          "A",
          "A",
          "A",
          "A",
          "A",
          "A",
          "A",
          "A",
          "A",
          "B",
          "A",
          "B",
          "B",
          "A",
          "A",
          "B",
          "B",
          "A",
          "B",
          "B",
          "B",
          "A",
          "A",
          "B",
          "B",
          "B",
          "A",
          "A",
          "B",
          "B",
          "B",
          "B",
          "A",
          "B",
          "B",
          "B",
          "B",
          "A",
          "B",
          "A",
          "A",
          "A",
          "A",
          "B",
          "B",
          "B",
          "B",
          "A",
          "A",
          "A",
          "B",
          "A",
          "A",
          "A",
          "A",
          "A",
          "B",
          "A",
          "A",
          "B",
          "A",
          "A",
          "A",
          "A",
          "A",
          "A",
          "A",
          "B",
          "B",
          "A",
          "B",
          "B",
          "A",
          "B",
          "B",
          "B",
          "A",
          "B",
          "B",
          "B",
          "B",
          "A",
          "B",
          "B",
          "A",
          "B",
          "A",
          "A",
          "A",
          "A",
          "B",
          "B",
          "A",
          "A",
          "A",
          "A",
          "A",
          "A",
          "B",
          "A",
          "A",
          "A",
          "A",
          "A",
          "A",
          "B",
          "A",
          "A",
          "A",
          "B",
          "A",
          "A",
          "A",
          "A",
          "A",
          "A",
          "B",
          "B",
          "A",
          "A",
          "A",
          "A",
          "B",
          "B",
          "A",
          "B",
          "B",
          "B",
          "B",
          "B",
          "A",
          "A",
          "A",
          "B",
          "A",
          "A",
          "B",
          "B",
          "B",
          "A",
          "A",
          "B",
          "B",
          "A",
          "B",
          "B",
          "B",
          "B",
          "A",
          "A",
          "A",
          "A",
          "B",
          "A",
          "A",
          "A",
          "A",
          "A",
          "A",
          "B",
          "A",
          "A",
          "A",
          "B",
          "A",
          "B",
          "B",
          "A",
          "A",
          "A",
          "A",
          "A",
          "B",
          "B",
          "A",
          "B",
          "A",
          "A",
          "A",
          "B",
          "B",
          "A",
          "B",
          "A",
          "A",
          "B",
          "A",
          "B",
          "B",
          "B",
          "B",
          "A",
          "A",
          "B",
          "B",
          "A",
          "A",
          "A",
          "A",
          "A",
          "B",
          "B",
          "A",
          "A",
          "A",
          "B",
          "A",
          "B",
          "A",
          "A",
          "B",
          "A",
          "A",
          "B",
          "B",
          "B",
          "A",
          "B",
          "B",
          "B",
          "A",
          "B",
          "A",
          "B",
          "A",
          "A",
          "B",
          "B",
          "B",
          "B",
          "B",
          "A",
          "B",
          "A",
          "A",
          "A",
          "A",
          "B",
          "A",
          "A",
          "A",
          "A",
          "B",
          "A",
          "B",
          "B",
          "B",
          "B",
          "A",
          "A",
          "A",
          "A",
          "A",
          "B",
          "A",
          "B",
          "B",
          "A",
          "B",
          "B",
          "B",
          "A",
          "A",
          "B",
          "A",
          "A",
          "A",
          "B",
          "A",
          "A",
          "A",
          "A",
          "B",
          "A",
          "B",
          "B",
          "A",
          "A",
          "B",
          "A",
          "A",
          "A",
          "B",
          "B",
          "A",
          "A",
          "B",
          "A",
          "A",
          "A",
          "B",
          "B",
          "B",
          "A",
          "A",
          "A",
          "A",
          "B",
          "A",
          "A",
          "B",
          "A",
          "A",
          "B",
          "A",
          "A",
          "A",
          "A",
          "A",
          "A",
          "A",
          "B",
          "A",
          "B",
          "B",
          "A",
          "B",
          "B",
          "A",
          "A",
          "A",
          "B",
          "B",
          "B",
          "B",
          "A",
          "A",
          "B",
          "A",
          "A",
          "B",
          "A",
          "A",
          "B",
          "A",
          "A",
          "A",
          "A",
          "A",
          "B",
          "A",
          "B",
          "B",
          "A",
          "A",
          "A",
          "A",
          "A",
          "A",
          "A",
          "B",
          "A",
          "A",
          "A",
          "A",
          "B",
          "A",
          "B",
          "A",
          "B",
          "B",
          "B",
          "A",
          "A",
          "A",
          "A",
          "A",
          "B",
          "A",
          "A",
          "B",
          "B",
          "A",
          "A",
          "A",
          "A",
          "A",
          "B",
          "A",
          "A",
          "A",
          "B",
          "B",
          "A",
          "A",
          "B",
          "B",
          "A",
          "A",
          "B",
          "B",
          "A",
          "B",
          "A",
          "A",
          "B",
          "A",
          "B",
          "A",
          "A",
          "B",
          "B",
          "A",
          "A",
          "A",
          "A",
          "B",
          "A",
          "B",
          "B",
          "B",
          "A",
          "A",
          "A",
          "B",
          "A",
          "B",
          "B",
          "A",
          "B",
          "B",
          "A",
          "B",
          "A",
          "B",
          "A",
          "A",
          "B",
          "A",
          "B",
          "A",
          "B",
          "B",
          "A",
          "B",
          "A",
          "A",
          "B",
          "A",
          "A",
          "A",
          "B",
          "B",
          "A",
          "A",
          "B",
          "A",
          "B",
          "B",
          "B",
          "A",
          "A",
          "A",
          "A",
          "A",
          "B",
          "B",
          "A",
          "A",
          "B",
          "A",
          "A",
          "A",
          "A",
          "B",
          "A",
          "B",
          "A",
          "A",
          "A",
          "B",
          "B",
          "A",
          "A",
          "B",
          "A",
          "B",
          "B",
          "A",
          "A",
          "B",
          "A",
          "B",
          "A",
          "A",
          "B",
          "A",
          "A",
          "A",
          "B",
          "B",
          "B",
          "A",
          "A",
          "A",
          "A",
          "B",
          "B",
          "A",
          "A",
          "B",
          "A",
          "A",
          "B",
          "B",
          "A",
          "B",
          "A",
          "B",
          "A",
          "B",
          "A",
          "B",
          "A",
          "A",
          "B",
          "A",
          "B",
          "A",
          "B",
          "B",
          "A",
          "A",
          "B",
          "A",
          "A",
          "B",
          "B",
          "A",
          "A",
          "B",
          "A",
          "A",
          "B",
          "B",
          "A",
          "B",
          "A",
          "B",
          "A",
          "A",
          "A",
          "B",
          "A",
          "A",
          "B",
          "A",
          "A",
          "A",
          "B",
          "A",
          "B",
          "A",
          "B",
          "A",
          "A",
          "B",
          "A",
          "B",
          "B",
          "A",
          "B",
          "A",
          "A",
          "A",
          "A",
          "A",
          "B",
          "B",
          "B",
          "A",
          "B",
          "B",
          "B",
          "B",
          "A",
          "B",
          "A",
          "B",
          "A",
          "A",
          "B",
          "B",
          "A",
          "B",
          "A",
          "A",
          "A",
          "B",
          "A",
          "B",
          "A",
          "A",
          "B",
          "B",
          "A",
          "A",
          "B",
          "B",
          "B",
          "A",
          "A",
          "A",
          "A",
          "A",
          "A",
          "A",
          "A",
          "A",
          "A",
          "A",
          "B",
          "A",
          "A",
          "A",
          "A",
          "A",
          "B",
          "B",
          "B",
          "B",
          "B",
          "B",
          "A",
          "B",
          "A",
          "A",
          "B",
          "A",
          "A",
          "B",
          "A",
          "A",
          "B",
          "A",
          "A",
          "A",
          "A",
          "A",
          "A",
          "B",
          "A",
          "A",
          "A",
          "B",
          "A",
          "B",
          "A",
          "A",
          "B",
          "A",
          "A",
          "A",
          "A",
          "A",
          "B",
          "A",
          "B",
          "A",
          "A",
          "B",
          "A",
          "A",
          "A",
          "A",
          "B",
          "A",
          "A",
          "A",
          "A",
          "A",
          "B",
          "A",
          "B",
          "B",
          "A",
          "B",
          "A",
          "A",
          "B",
          "B",
          "A",
          "B",
          "A",
          "B",
          "A",
          "A",
          "A",
          "B",
          "A",
          "A",
          "A",
          "B",
          "A",
          "A",
          "A",
          "A",
          "A",
          "B",
          "B",
          "B",
          "B",
          "A",
          "A",
          "A",
          "B",
          "B",
          "A",
          "A",
          "B",
          "A",
          "A",
          "A",
          "A",
          "A",
          "B",
          "A",
          "A",
          "B",
          "A",
          "A",
          "A",
          "A",
          "A",
          "B",
          "A",
          "A",
          "A",
          "A",
          "A",
          "A",
          "B",
          "B",
          "B",
          "A",
          "B",
          "A",
          "A",
          "B",
          "A",
          "B",
          "B",
          "B",
          "B",
          "B",
          "A",
          "A",
          "B",
          "A",
          "A",
          "B",
          "A",
          "B",
          "A",
          "A",
          "B",
          "A",
          "B",
          "B",
          "A",
          "A",
          "A",
          "A",
          "A",
          "A",
          "B",
          "A",
          "A",
          "B",
          "A",
          "A",
          "A",
          "A",
          "A",
          "B",
          "A",
          "A",
          "A",
          "B",
          "A",
          "B",
          "B",
          "A",
          "B",
          "A",
          "A",
          "A",
          "A",
          "B",
          "B",
          "A",
          "B",
          "B",
          "A",
          "A",
          "A",
          "B",
          "A",
          "B",
          "A",
          "B",
          "B",
          "A",
          "B",
          "B",
          "B",
          "A",
          "A",
          "B",
          "A",
          "A",
          "A",
          "A",
          "B",
          "A",
          "B",
          "B",
          "A",
          "A",
          "A",
          "B",
          "B",
          "B",
          "A",
          "A",
          "A",
          "B",
          "B",
          "A",
          "A",
          "B",
          "A",
          "B",
          "A",
          "B",
          "A",
          "B",
          "A",
          "A",
          "B",
          "A",
          "B",
          "B",
          "A",
          "B",
          "B",
          "B",
          "A",
          "B",
          "A",
          "A",
          "A",
          "A",
          "A",
          "B",
          "A",
          "B",
          "A",
          "A",
          "A",
          "A",
          "A",
          "A",
          "A",
          "B",
          "A",
          "A",
          "A",
          "A",
          "B",
          "A",
          "A",
          "A",
          "A",
          "A",
          "B",
          "B",
          "A",
          "A",
          "A",
          "A",
          "A",
          "A",
          "B",
          "B",
          "B",
          "A",
          "A",
          "A",
          "A",
          "B",
          "B",
          "A",
          "A",
          "B",
          "B",
          "A",
          "A",
          "A",
          "A",
          "B",
          "A",
          "B",
          "B",
          "A",
          "B",
          "B",
          "A",
          "A",
          "B",
          "B",
          "A",
          "B",
          "A",
          "A",
          "B",
          "A",
          "B",
          "A",
          "A",
          "A",
          "A",
          "A",
          "A",
          "B",
          "A",
          "A",
          "B",
          "A",
          "A",
          "B",
          "A",
          "B",
          "A",
          "B",
          "B",
          "A",
          "A",
          "B",
          "B",
          "A",
          "A",
          "A",
          "B",
          "B",
          "A",
          "A",
          "A",
          "B",
          "B",
          "A",
          "B",
          "A",
          "A",
          "B",
          "A",
          "B",
          "A",
          "B",
          "A",
          "B",
          "B",
          "B",
          "B",
          "B",
          "A",
          "A",
          "B",
          "B",
          "B",
          "A",
          "A",
          "B",
          "A",
          "A",
          "B",
          "A",
          "A",
          "A",
          "B",
          "A",
          "B",
          "B",
          "B",
          "A",
          "A",
          "A",
          "A",
          "B",
          "B",
          "A",
          "A",
          "A",
          "B",
          "B",
          "A",
          "A",
          "A",
          "B",
          "A",
          "A",
          "A",
          "A",
          "B",
          "A",
          "A",
          "A",
          "A",
          "B",
          "A",
          "B",
          "B",
          "A",
          "B",
          "A",
          "A",
          "B",
          "A",
          "A",
          "B",
          "A",
          "A",
          "A",
          "B",
          "B",
          "B",
          "B",
          "A",
          "A",
          "A",
          "A",
          "A",
          "A",
          "B",
          "A",
          "A",
          "A",
          "A",
          "B",
          "A",
          "A",
          "B",
          "A",
          "A",
          "A",
          "B",
          "A",
          "A",
          "B",
          "A",
          "A",
          "B",
          "A",
          "B",
          "B",
          "A",
          "A",
          "A",
          "A",
          "A",
          "A",
          "B",
          "A",
          "B",
          "B",
          "B",
          "A",
          "B",
          "A",
          "A",
          "B",
          "A",
          "A",
          "A",
          "A",
          "A",
          "B",
          "A",
          "A",
          "A",
          "A",
          "B",
          "A",
          "B",
          "A",
          "A",
          "B",
          "A",
          "A",
          "B",
          "B",
          "B",
          "B",
          "A",
          "B",
          "A",
          "A",
          "B",
          "A",
          "A",
          "A",
          "A",
          "A",
          "A",
          "B",
          "B",
          "B",
          "A",
          "A",
          "A",
          "B",
          "A",
          "A",
          "A",
          "B",
          "A",
          "A",
          "B",
          "B",
          "A",
          "A",
          "B",
          "B",
          "A",
          "B",
          "B",
          "B",
          "A",
          "A",
          "B",
          "B",
          "A",
          "A",
          "B",
          "A",
          "A",
          "A",
          "B",
          "B",
          "A",
          "A",
          "B",
          "B",
          "A",
          "A",
          "A",
          "A",
          "A",
          "A",
          "B",
          "A",
          "B",
          "B",
          "B",
          "B",
          "A",
          "A",
          "B",
          "A",
          "A",
          "B",
          "B",
          "A",
          "A",
          "A",
          "A",
          "A",
          "B",
          "A",
          "A",
          "A",
          "A",
          "A",
          "A",
          "A",
          "B",
          "B",
          "A",
          "B",
          "A",
          "A",
          "A",
          "B",
          "A",
          "B",
          "A",
          "A",
          "A",
          "B",
          "A",
          "A",
          "A",
          "B",
          "B",
          "A",
          "A",
          "A",
          "A",
          "B",
          "A",
          "A",
          "A",
          "A",
          "A",
          "A",
          "A",
          "B",
          "A",
          "A",
          "B",
          "B",
          "B",
          "B",
          "A",
          "A",
          "B",
          "B",
          "A",
          "B",
          "B",
          "B",
          "B",
          "B",
          "B",
          "B",
          "A",
          "A",
          "B",
          "A",
          "B",
          "A",
          "B",
          "A",
          "B",
          "B",
          "A",
          "A",
          "A",
          "A",
          "A",
          "A",
          "A",
          "B",
          "B",
          "A",
          "A",
          "A",
          "B",
          "A",
          "B",
          "B",
          "A",
          "A",
          "A",
          "A",
          "B",
          "B",
          "A",
          "B",
          "A",
          "A",
          "A",
          "A",
          "A",
          "A",
          "B",
          "A",
          "B",
          "B",
          "A",
          "B",
          "A",
          "A",
          "B",
          "A",
          "A",
          "A",
          "B",
          "A",
          "B",
          "B",
          "B",
          "A",
          "B",
          "A",
          "A",
          "A",
          "A",
          "A",
          "A",
          "B",
          "B",
          "A",
          "A",
          "B",
          "B",
          "B",
          "B",
          "A",
          "B",
          "A",
          "B",
          "B",
          "A",
          "A",
          "A",
          "A",
          "B",
          "B",
          "A",
          "B",
          "A",
          "A",
          "A",
          "B",
          "A",
          "A",
          "B",
          "A",
          "B",
          "B",
          "B",
          "B",
          "A",
          "A",
          "A",
          "A",
          "A",
          "A",
          "B",
          "B",
          "A",
          "A",
          "A",
          "B",
          "A",
          "B",
          "A",
          "B",
          "B",
          "A",
          "B",
          "A",
          "B",
          "A",
          "B",
          "A",
          "A",
          "A",
          "B",
          "A",
          "B",
          "A",
          "B",
          "A",
          "B",
          "A",
          "B",
          "B",
          "B",
          "A",
          "A",
          "B",
          "B",
          "B",
          "A",
          "A",
          "B",
          "B",
          "A",
          "A",
          "A",
          "A",
          "B",
          "B",
          "B",
          "A",
          "A",
          "A",
          "B",
          "A",
          "A",
          "B",
          "B",
          "B",
          "A",
          "A",
          "B",
          "B",
          "A",
          "B",
          "B",
          "A",
          "B",
          "A",
          "B",
          "A",
          "A",
          "A",
          "A",
          "A",
          "A",
          "A",
          "B",
          "A",
          "A",
          "A",
          "B",
          "B",
          "B",
          "B",
          "B",
          "B",
          "A",
          "A",
          "A",
          "A",
          "B"
         ],
         "xaxis": "x",
         "yaxis": "y"
        }
       ],
       "layout": {
        "barmode": "relative",
        "legend": {
         "tracegroupgap": 0
        },
        "margin": {
         "t": 60
        },
        "template": {
         "data": {
          "bar": [
           {
            "error_x": {
             "color": "#2a3f5f"
            },
            "error_y": {
             "color": "#2a3f5f"
            },
            "marker": {
             "line": {
              "color": "#E5ECF6",
              "width": 0.5
             },
             "pattern": {
              "fillmode": "overlay",
              "size": 10,
              "solidity": 0.2
             }
            },
            "type": "bar"
           }
          ],
          "barpolar": [
           {
            "marker": {
             "line": {
              "color": "#E5ECF6",
              "width": 0.5
             },
             "pattern": {
              "fillmode": "overlay",
              "size": 10,
              "solidity": 0.2
             }
            },
            "type": "barpolar"
           }
          ],
          "carpet": [
           {
            "aaxis": {
             "endlinecolor": "#2a3f5f",
             "gridcolor": "white",
             "linecolor": "white",
             "minorgridcolor": "white",
             "startlinecolor": "#2a3f5f"
            },
            "baxis": {
             "endlinecolor": "#2a3f5f",
             "gridcolor": "white",
             "linecolor": "white",
             "minorgridcolor": "white",
             "startlinecolor": "#2a3f5f"
            },
            "type": "carpet"
           }
          ],
          "choropleth": [
           {
            "colorbar": {
             "outlinewidth": 0,
             "ticks": ""
            },
            "type": "choropleth"
           }
          ],
          "contour": [
           {
            "colorbar": {
             "outlinewidth": 0,
             "ticks": ""
            },
            "colorscale": [
             [
              0,
              "#0d0887"
             ],
             [
              0.1111111111111111,
              "#46039f"
             ],
             [
              0.2222222222222222,
              "#7201a8"
             ],
             [
              0.3333333333333333,
              "#9c179e"
             ],
             [
              0.4444444444444444,
              "#bd3786"
             ],
             [
              0.5555555555555556,
              "#d8576b"
             ],
             [
              0.6666666666666666,
              "#ed7953"
             ],
             [
              0.7777777777777778,
              "#fb9f3a"
             ],
             [
              0.8888888888888888,
              "#fdca26"
             ],
             [
              1,
              "#f0f921"
             ]
            ],
            "type": "contour"
           }
          ],
          "contourcarpet": [
           {
            "colorbar": {
             "outlinewidth": 0,
             "ticks": ""
            },
            "type": "contourcarpet"
           }
          ],
          "heatmap": [
           {
            "colorbar": {
             "outlinewidth": 0,
             "ticks": ""
            },
            "colorscale": [
             [
              0,
              "#0d0887"
             ],
             [
              0.1111111111111111,
              "#46039f"
             ],
             [
              0.2222222222222222,
              "#7201a8"
             ],
             [
              0.3333333333333333,
              "#9c179e"
             ],
             [
              0.4444444444444444,
              "#bd3786"
             ],
             [
              0.5555555555555556,
              "#d8576b"
             ],
             [
              0.6666666666666666,
              "#ed7953"
             ],
             [
              0.7777777777777778,
              "#fb9f3a"
             ],
             [
              0.8888888888888888,
              "#fdca26"
             ],
             [
              1,
              "#f0f921"
             ]
            ],
            "type": "heatmap"
           }
          ],
          "heatmapgl": [
           {
            "colorbar": {
             "outlinewidth": 0,
             "ticks": ""
            },
            "colorscale": [
             [
              0,
              "#0d0887"
             ],
             [
              0.1111111111111111,
              "#46039f"
             ],
             [
              0.2222222222222222,
              "#7201a8"
             ],
             [
              0.3333333333333333,
              "#9c179e"
             ],
             [
              0.4444444444444444,
              "#bd3786"
             ],
             [
              0.5555555555555556,
              "#d8576b"
             ],
             [
              0.6666666666666666,
              "#ed7953"
             ],
             [
              0.7777777777777778,
              "#fb9f3a"
             ],
             [
              0.8888888888888888,
              "#fdca26"
             ],
             [
              1,
              "#f0f921"
             ]
            ],
            "type": "heatmapgl"
           }
          ],
          "histogram": [
           {
            "marker": {
             "pattern": {
              "fillmode": "overlay",
              "size": 10,
              "solidity": 0.2
             }
            },
            "type": "histogram"
           }
          ],
          "histogram2d": [
           {
            "colorbar": {
             "outlinewidth": 0,
             "ticks": ""
            },
            "colorscale": [
             [
              0,
              "#0d0887"
             ],
             [
              0.1111111111111111,
              "#46039f"
             ],
             [
              0.2222222222222222,
              "#7201a8"
             ],
             [
              0.3333333333333333,
              "#9c179e"
             ],
             [
              0.4444444444444444,
              "#bd3786"
             ],
             [
              0.5555555555555556,
              "#d8576b"
             ],
             [
              0.6666666666666666,
              "#ed7953"
             ],
             [
              0.7777777777777778,
              "#fb9f3a"
             ],
             [
              0.8888888888888888,
              "#fdca26"
             ],
             [
              1,
              "#f0f921"
             ]
            ],
            "type": "histogram2d"
           }
          ],
          "histogram2dcontour": [
           {
            "colorbar": {
             "outlinewidth": 0,
             "ticks": ""
            },
            "colorscale": [
             [
              0,
              "#0d0887"
             ],
             [
              0.1111111111111111,
              "#46039f"
             ],
             [
              0.2222222222222222,
              "#7201a8"
             ],
             [
              0.3333333333333333,
              "#9c179e"
             ],
             [
              0.4444444444444444,
              "#bd3786"
             ],
             [
              0.5555555555555556,
              "#d8576b"
             ],
             [
              0.6666666666666666,
              "#ed7953"
             ],
             [
              0.7777777777777778,
              "#fb9f3a"
             ],
             [
              0.8888888888888888,
              "#fdca26"
             ],
             [
              1,
              "#f0f921"
             ]
            ],
            "type": "histogram2dcontour"
           }
          ],
          "mesh3d": [
           {
            "colorbar": {
             "outlinewidth": 0,
             "ticks": ""
            },
            "type": "mesh3d"
           }
          ],
          "parcoords": [
           {
            "line": {
             "colorbar": {
              "outlinewidth": 0,
              "ticks": ""
             }
            },
            "type": "parcoords"
           }
          ],
          "pie": [
           {
            "automargin": true,
            "type": "pie"
           }
          ],
          "scatter": [
           {
            "fillpattern": {
             "fillmode": "overlay",
             "size": 10,
             "solidity": 0.2
            },
            "type": "scatter"
           }
          ],
          "scatter3d": [
           {
            "line": {
             "colorbar": {
              "outlinewidth": 0,
              "ticks": ""
             }
            },
            "marker": {
             "colorbar": {
              "outlinewidth": 0,
              "ticks": ""
             }
            },
            "type": "scatter3d"
           }
          ],
          "scattercarpet": [
           {
            "marker": {
             "colorbar": {
              "outlinewidth": 0,
              "ticks": ""
             }
            },
            "type": "scattercarpet"
           }
          ],
          "scattergeo": [
           {
            "marker": {
             "colorbar": {
              "outlinewidth": 0,
              "ticks": ""
             }
            },
            "type": "scattergeo"
           }
          ],
          "scattergl": [
           {
            "marker": {
             "colorbar": {
              "outlinewidth": 0,
              "ticks": ""
             }
            },
            "type": "scattergl"
           }
          ],
          "scattermapbox": [
           {
            "marker": {
             "colorbar": {
              "outlinewidth": 0,
              "ticks": ""
             }
            },
            "type": "scattermapbox"
           }
          ],
          "scatterpolar": [
           {
            "marker": {
             "colorbar": {
              "outlinewidth": 0,
              "ticks": ""
             }
            },
            "type": "scatterpolar"
           }
          ],
          "scatterpolargl": [
           {
            "marker": {
             "colorbar": {
              "outlinewidth": 0,
              "ticks": ""
             }
            },
            "type": "scatterpolargl"
           }
          ],
          "scatterternary": [
           {
            "marker": {
             "colorbar": {
              "outlinewidth": 0,
              "ticks": ""
             }
            },
            "type": "scatterternary"
           }
          ],
          "surface": [
           {
            "colorbar": {
             "outlinewidth": 0,
             "ticks": ""
            },
            "colorscale": [
             [
              0,
              "#0d0887"
             ],
             [
              0.1111111111111111,
              "#46039f"
             ],
             [
              0.2222222222222222,
              "#7201a8"
             ],
             [
              0.3333333333333333,
              "#9c179e"
             ],
             [
              0.4444444444444444,
              "#bd3786"
             ],
             [
              0.5555555555555556,
              "#d8576b"
             ],
             [
              0.6666666666666666,
              "#ed7953"
             ],
             [
              0.7777777777777778,
              "#fb9f3a"
             ],
             [
              0.8888888888888888,
              "#fdca26"
             ],
             [
              1,
              "#f0f921"
             ]
            ],
            "type": "surface"
           }
          ],
          "table": [
           {
            "cells": {
             "fill": {
              "color": "#EBF0F8"
             },
             "line": {
              "color": "white"
             }
            },
            "header": {
             "fill": {
              "color": "#C8D4E3"
             },
             "line": {
              "color": "white"
             }
            },
            "type": "table"
           }
          ]
         },
         "layout": {
          "annotationdefaults": {
           "arrowcolor": "#2a3f5f",
           "arrowhead": 0,
           "arrowwidth": 1
          },
          "autotypenumbers": "strict",
          "coloraxis": {
           "colorbar": {
            "outlinewidth": 0,
            "ticks": ""
           }
          },
          "colorscale": {
           "diverging": [
            [
             0,
             "#8e0152"
            ],
            [
             0.1,
             "#c51b7d"
            ],
            [
             0.2,
             "#de77ae"
            ],
            [
             0.3,
             "#f1b6da"
            ],
            [
             0.4,
             "#fde0ef"
            ],
            [
             0.5,
             "#f7f7f7"
            ],
            [
             0.6,
             "#e6f5d0"
            ],
            [
             0.7,
             "#b8e186"
            ],
            [
             0.8,
             "#7fbc41"
            ],
            [
             0.9,
             "#4d9221"
            ],
            [
             1,
             "#276419"
            ]
           ],
           "sequential": [
            [
             0,
             "#0d0887"
            ],
            [
             0.1111111111111111,
             "#46039f"
            ],
            [
             0.2222222222222222,
             "#7201a8"
            ],
            [
             0.3333333333333333,
             "#9c179e"
            ],
            [
             0.4444444444444444,
             "#bd3786"
            ],
            [
             0.5555555555555556,
             "#d8576b"
            ],
            [
             0.6666666666666666,
             "#ed7953"
            ],
            [
             0.7777777777777778,
             "#fb9f3a"
            ],
            [
             0.8888888888888888,
             "#fdca26"
            ],
            [
             1,
             "#f0f921"
            ]
           ],
           "sequentialminus": [
            [
             0,
             "#0d0887"
            ],
            [
             0.1111111111111111,
             "#46039f"
            ],
            [
             0.2222222222222222,
             "#7201a8"
            ],
            [
             0.3333333333333333,
             "#9c179e"
            ],
            [
             0.4444444444444444,
             "#bd3786"
            ],
            [
             0.5555555555555556,
             "#d8576b"
            ],
            [
             0.6666666666666666,
             "#ed7953"
            ],
            [
             0.7777777777777778,
             "#fb9f3a"
            ],
            [
             0.8888888888888888,
             "#fdca26"
            ],
            [
             1,
             "#f0f921"
            ]
           ]
          },
          "colorway": [
           "#636efa",
           "#EF553B",
           "#00cc96",
           "#ab63fa",
           "#FFA15A",
           "#19d3f3",
           "#FF6692",
           "#B6E880",
           "#FF97FF",
           "#FECB52"
          ],
          "font": {
           "color": "#2a3f5f"
          },
          "geo": {
           "bgcolor": "white",
           "lakecolor": "white",
           "landcolor": "#E5ECF6",
           "showlakes": true,
           "showland": true,
           "subunitcolor": "white"
          },
          "hoverlabel": {
           "align": "left"
          },
          "hovermode": "closest",
          "mapbox": {
           "style": "light"
          },
          "paper_bgcolor": "white",
          "plot_bgcolor": "#E5ECF6",
          "polar": {
           "angularaxis": {
            "gridcolor": "white",
            "linecolor": "white",
            "ticks": ""
           },
           "bgcolor": "#E5ECF6",
           "radialaxis": {
            "gridcolor": "white",
            "linecolor": "white",
            "ticks": ""
           }
          },
          "scene": {
           "xaxis": {
            "backgroundcolor": "#E5ECF6",
            "gridcolor": "white",
            "gridwidth": 2,
            "linecolor": "white",
            "showbackground": true,
            "ticks": "",
            "zerolinecolor": "white"
           },
           "yaxis": {
            "backgroundcolor": "#E5ECF6",
            "gridcolor": "white",
            "gridwidth": 2,
            "linecolor": "white",
            "showbackground": true,
            "ticks": "",
            "zerolinecolor": "white"
           },
           "zaxis": {
            "backgroundcolor": "#E5ECF6",
            "gridcolor": "white",
            "gridwidth": 2,
            "linecolor": "white",
            "showbackground": true,
            "ticks": "",
            "zerolinecolor": "white"
           }
          },
          "shapedefaults": {
           "line": {
            "color": "#2a3f5f"
           }
          },
          "ternary": {
           "aaxis": {
            "gridcolor": "white",
            "linecolor": "white",
            "ticks": ""
           },
           "baxis": {
            "gridcolor": "white",
            "linecolor": "white",
            "ticks": ""
           },
           "bgcolor": "#E5ECF6",
           "caxis": {
            "gridcolor": "white",
            "linecolor": "white",
            "ticks": ""
           }
          },
          "title": {
           "x": 0.05
          },
          "xaxis": {
           "automargin": true,
           "gridcolor": "white",
           "linecolor": "white",
           "ticks": "",
           "title": {
            "standoff": 15
           },
           "zerolinecolor": "white",
           "zerolinewidth": 2
          },
          "yaxis": {
           "automargin": true,
           "gridcolor": "white",
           "linecolor": "white",
           "ticks": "",
           "title": {
            "standoff": 15
           },
           "zerolinecolor": "white",
           "zerolinewidth": 2
          }
         }
        },
        "xaxis": {
         "anchor": "y",
         "domain": [
          0,
          1
         ],
         "title": {
          "text": "x"
         }
        },
        "yaxis": {
         "anchor": "x",
         "domain": [
          0,
          1
         ],
         "title": {
          "text": "count"
         }
        }
       }
      },
      "text/html": [
       "<div>                            <div id=\"038cc901-c529-4aa3-a654-be9b706a0b16\" class=\"plotly-graph-div\" style=\"height:525px; width:100%;\"></div>            <script type=\"text/javascript\">                require([\"plotly\"], function(Plotly) {                    window.PLOTLYENV=window.PLOTLYENV || {};                                    if (document.getElementById(\"038cc901-c529-4aa3-a654-be9b706a0b16\")) {                    Plotly.newPlot(                        \"038cc901-c529-4aa3-a654-be9b706a0b16\",                        [{\"alignmentgroup\":\"True\",\"bingroup\":\"x\",\"hovertemplate\":\"x=%{x}\\u003cbr\\u003ecount=%{y}\\u003cextra\\u003e\\u003c\\u002fextra\\u003e\",\"legendgroup\":\"\",\"marker\":{\"color\":\"#636efa\",\"pattern\":{\"shape\":\"\"}},\"name\":\"\",\"offsetgroup\":\"\",\"orientation\":\"v\",\"showlegend\":false,\"x\":[\"A\",\"A\",\"A\",\"B\",\"B\",\"B\",\"A\",\"B\",\"B\",\"A\",\"A\",\"A\",\"A\",\"A\",\"A\",\"A\",\"B\",\"B\",\"B\",\"B\",\"A\",\"A\",\"A\",\"A\",\"A\",\"A\",\"A\",\"B\",\"A\",\"B\",\"A\",\"B\",\"A\",\"B\",\"A\",\"A\",\"A\",\"A\",\"B\",\"A\",\"A\",\"A\",\"A\",\"A\",\"A\",\"B\",\"A\",\"A\",\"A\",\"A\",\"A\",\"B\",\"A\",\"A\",\"A\",\"B\",\"A\",\"A\",\"A\",\"A\",\"A\",\"B\",\"A\",\"B\",\"A\",\"A\",\"A\",\"A\",\"B\",\"A\",\"B\",\"A\",\"A\",\"B\",\"A\",\"A\",\"A\",\"B\",\"A\",\"A\",\"B\",\"B\",\"A\",\"A\",\"B\",\"B\",\"B\",\"B\",\"B\",\"A\",\"A\",\"A\",\"B\",\"A\",\"A\",\"A\",\"A\",\"A\",\"A\",\"B\",\"B\",\"A\",\"B\",\"A\",\"B\",\"A\",\"A\",\"A\",\"B\",\"B\",\"A\",\"B\",\"B\",\"A\",\"A\",\"B\",\"A\",\"A\",\"A\",\"A\",\"A\",\"A\",\"A\",\"A\",\"B\",\"A\",\"B\",\"A\",\"A\",\"A\",\"A\",\"A\",\"B\",\"A\",\"A\",\"A\",\"A\",\"B\",\"A\",\"B\",\"B\",\"A\",\"A\",\"A\",\"A\",\"B\",\"B\",\"A\",\"B\",\"B\",\"A\",\"B\",\"A\",\"B\",\"B\",\"B\",\"A\",\"B\",\"B\",\"B\",\"B\",\"B\",\"A\",\"A\",\"A\",\"B\",\"A\",\"B\",\"B\",\"A\",\"A\",\"A\",\"A\",\"B\",\"A\",\"B\",\"A\",\"B\",\"A\",\"B\",\"A\",\"A\",\"A\",\"B\",\"B\",\"A\",\"B\",\"B\",\"A\",\"A\",\"A\",\"A\",\"A\",\"B\",\"B\",\"A\",\"A\",\"B\",\"A\",\"B\",\"A\",\"B\",\"B\",\"B\",\"B\",\"A\",\"A\",\"A\",\"B\",\"A\",\"A\",\"A\",\"A\",\"A\",\"B\",\"A\",\"B\",\"A\",\"A\",\"B\",\"A\",\"A\",\"A\",\"A\",\"A\",\"A\",\"A\",\"A\",\"A\",\"B\",\"B\",\"A\",\"A\",\"B\",\"B\",\"A\",\"A\",\"B\",\"A\",\"A\",\"A\",\"A\",\"A\",\"A\",\"A\",\"A\",\"A\",\"B\",\"B\",\"B\",\"A\",\"A\",\"B\",\"A\",\"B\",\"A\",\"A\",\"A\",\"A\",\"B\",\"B\",\"A\",\"A\",\"A\",\"A\",\"B\",\"B\",\"A\",\"A\",\"A\",\"A\",\"A\",\"A\",\"B\",\"B\",\"B\",\"A\",\"A\",\"B\",\"A\",\"A\",\"B\",\"B\",\"A\",\"B\",\"A\",\"B\",\"A\",\"B\",\"A\",\"B\",\"A\",\"A\",\"A\",\"A\",\"A\",\"B\",\"B\",\"B\",\"B\",\"A\",\"A\",\"B\",\"B\",\"B\",\"A\",\"B\",\"A\",\"A\",\"A\",\"A\",\"A\",\"A\",\"B\",\"B\",\"A\",\"A\",\"A\",\"A\",\"B\",\"B\",\"B\",\"B\",\"B\",\"A\",\"A\",\"B\",\"A\",\"A\",\"A\",\"A\",\"A\",\"B\",\"B\",\"B\",\"A\",\"A\",\"B\",\"A\",\"A\",\"B\",\"B\",\"A\",\"B\",\"B\",\"A\",\"B\",\"A\",\"B\",\"B\",\"B\",\"A\",\"B\",\"B\",\"B\",\"A\",\"A\",\"A\",\"A\",\"A\",\"B\",\"A\",\"A\",\"B\",\"A\",\"A\",\"B\",\"A\",\"A\",\"A\",\"B\",\"A\",\"A\",\"A\",\"A\",\"A\",\"A\",\"B\",\"A\",\"B\",\"A\",\"B\",\"A\",\"A\",\"B\",\"B\",\"B\",\"B\",\"A\",\"B\",\"A\",\"B\",\"A\",\"B\",\"A\",\"A\",\"B\",\"A\",\"A\",\"A\",\"B\",\"A\",\"A\",\"B\",\"B\",\"B\",\"A\",\"B\",\"A\",\"A\",\"B\",\"A\",\"A\",\"B\",\"A\",\"A\",\"A\",\"A\",\"A\",\"B\",\"B\",\"B\",\"A\",\"A\",\"B\",\"B\",\"B\",\"B\",\"A\",\"A\",\"B\",\"A\",\"A\",\"B\",\"A\",\"A\",\"A\",\"B\",\"A\",\"A\",\"B\",\"A\",\"B\",\"A\",\"A\",\"A\",\"A\",\"A\",\"B\",\"B\",\"A\",\"A\",\"A\",\"A\",\"A\",\"A\",\"A\",\"A\",\"A\",\"B\",\"A\",\"A\",\"A\",\"A\",\"A\",\"B\",\"B\",\"A\",\"A\",\"B\",\"A\",\"B\",\"A\",\"B\",\"A\",\"A\",\"B\",\"A\",\"A\",\"A\",\"A\",\"A\",\"A\",\"A\",\"B\",\"B\",\"B\",\"B\",\"B\",\"A\",\"A\",\"A\",\"A\",\"A\",\"B\",\"A\",\"A\",\"B\",\"A\",\"A\",\"B\",\"A\",\"B\",\"A\",\"A\",\"B\",\"B\",\"A\",\"A\",\"A\",\"A\",\"A\",\"A\",\"A\",\"A\",\"B\",\"B\",\"A\",\"B\",\"A\",\"A\",\"A\",\"B\",\"B\",\"B\",\"A\",\"B\",\"A\",\"B\",\"B\",\"A\",\"A\",\"A\",\"B\",\"A\",\"A\",\"A\",\"A\",\"A\",\"A\",\"B\",\"A\",\"A\",\"A\",\"A\",\"A\",\"B\",\"A\",\"B\",\"A\",\"A\",\"B\",\"A\",\"A\",\"A\",\"A\",\"B\",\"B\",\"A\",\"B\",\"A\",\"B\",\"A\",\"A\",\"A\",\"B\",\"A\",\"A\",\"B\",\"A\",\"A\",\"A\",\"A\",\"A\",\"A\",\"A\",\"B\",\"A\",\"A\",\"A\",\"A\",\"B\",\"B\",\"B\",\"B\",\"A\",\"A\",\"B\",\"A\",\"A\",\"A\",\"A\",\"B\",\"A\",\"B\",\"B\",\"A\",\"A\",\"A\",\"A\",\"A\",\"A\",\"B\",\"A\",\"A\",\"A\",\"A\",\"A\",\"A\",\"A\",\"A\",\"A\",\"A\",\"A\",\"A\",\"B\",\"A\",\"A\",\"A\",\"B\",\"B\",\"B\",\"A\",\"B\",\"B\",\"A\",\"A\",\"A\",\"B\",\"B\",\"A\",\"B\",\"A\",\"A\",\"A\",\"B\",\"B\",\"B\",\"B\",\"B\",\"A\",\"A\",\"A\",\"B\",\"B\",\"A\",\"B\",\"B\",\"B\",\"A\",\"A\",\"A\",\"A\",\"A\",\"B\",\"A\",\"B\",\"A\",\"A\",\"A\",\"B\",\"B\",\"A\",\"A\",\"B\",\"A\",\"B\",\"A\",\"A\",\"A\",\"B\",\"B\",\"A\",\"A\",\"A\",\"A\",\"A\",\"B\",\"A\",\"A\",\"A\",\"A\",\"B\",\"A\",\"B\",\"A\",\"B\",\"A\",\"A\",\"A\",\"A\",\"A\",\"A\",\"A\",\"B\",\"B\",\"A\",\"A\",\"A\",\"A\",\"A\",\"A\",\"B\",\"A\",\"A\",\"A\",\"A\",\"B\",\"A\",\"A\",\"B\",\"B\",\"B\",\"A\",\"A\",\"B\",\"B\",\"B\",\"A\",\"B\",\"B\",\"A\",\"A\",\"B\",\"B\",\"A\",\"B\",\"A\",\"A\",\"B\",\"A\",\"A\",\"A\",\"B\",\"B\",\"B\",\"A\",\"A\",\"A\",\"B\",\"A\",\"B\",\"A\",\"A\",\"A\",\"A\",\"B\",\"A\",\"A\",\"A\",\"A\",\"B\",\"B\",\"A\",\"B\",\"B\",\"A\",\"B\",\"A\",\"A\",\"A\",\"B\",\"B\",\"B\",\"A\",\"B\",\"A\",\"B\",\"A\",\"B\",\"A\",\"B\",\"B\",\"B\",\"B\",\"A\",\"A\",\"A\",\"A\",\"A\",\"B\",\"A\",\"A\",\"B\",\"B\",\"B\",\"B\",\"B\",\"B\",\"A\",\"A\",\"A\",\"B\",\"A\",\"B\",\"A\",\"A\",\"B\",\"A\",\"A\",\"A\",\"B\",\"A\",\"A\",\"B\",\"B\",\"A\",\"B\",\"A\",\"A\",\"A\",\"A\",\"B\",\"B\",\"B\",\"A\",\"A\",\"B\",\"A\",\"A\",\"A\",\"B\",\"B\",\"A\",\"B\",\"B\",\"B\",\"A\",\"A\",\"B\",\"A\",\"A\",\"A\",\"B\",\"A\",\"B\",\"B\",\"B\",\"B\",\"B\",\"A\",\"A\",\"B\",\"A\",\"A\",\"B\",\"A\",\"A\",\"B\",\"B\",\"B\",\"A\",\"A\",\"A\",\"B\",\"B\",\"A\",\"A\",\"B\",\"B\",\"B\",\"B\",\"A\",\"B\",\"B\",\"A\",\"B\",\"A\",\"A\",\"A\",\"B\",\"A\",\"A\",\"A\",\"B\",\"A\",\"A\",\"B\",\"B\",\"B\",\"B\",\"A\",\"A\",\"B\",\"A\",\"A\",\"B\",\"A\",\"A\",\"B\",\"A\",\"A\",\"B\",\"A\",\"B\",\"B\",\"A\",\"B\",\"B\",\"B\",\"B\",\"A\",\"A\",\"A\",\"A\",\"A\",\"B\",\"B\",\"A\",\"A\",\"B\",\"B\",\"A\",\"B\",\"A\",\"A\",\"A\",\"A\",\"A\",\"A\",\"A\",\"B\",\"A\",\"B\",\"A\",\"B\",\"A\",\"B\",\"A\",\"B\",\"A\",\"A\",\"A\",\"A\",\"B\",\"A\",\"B\",\"A\",\"A\",\"B\",\"A\",\"A\",\"A\",\"A\",\"A\",\"A\",\"B\",\"A\",\"A\",\"B\",\"A\",\"A\",\"B\",\"A\",\"A\",\"A\",\"B\",\"B\",\"B\",\"A\",\"A\",\"A\",\"A\",\"A\",\"A\",\"B\",\"A\",\"A\",\"A\",\"A\",\"A\",\"B\",\"B\",\"B\",\"B\",\"B\",\"A\",\"B\",\"A\",\"A\",\"A\",\"B\",\"B\",\"B\",\"A\",\"A\",\"A\",\"A\",\"B\",\"A\",\"A\",\"B\",\"A\",\"A\",\"A\",\"A\",\"A\",\"B\",\"A\",\"A\",\"A\",\"A\",\"A\",\"A\",\"B\",\"A\",\"B\",\"A\",\"B\",\"A\",\"B\",\"A\",\"A\",\"A\",\"A\",\"B\",\"B\",\"B\",\"A\",\"A\",\"A\",\"A\",\"B\",\"A\",\"A\",\"A\",\"B\",\"A\",\"B\",\"A\",\"A\",\"B\",\"B\",\"A\",\"A\",\"B\",\"B\",\"A\",\"A\",\"A\",\"A\",\"A\",\"A\",\"A\",\"A\",\"A\",\"A\",\"A\",\"B\",\"B\",\"B\",\"A\",\"B\",\"A\",\"A\",\"A\",\"B\",\"A\",\"A\",\"A\",\"A\",\"B\",\"A\",\"A\",\"A\",\"B\",\"A\",\"A\",\"A\",\"B\",\"A\",\"B\",\"B\",\"A\",\"A\",\"A\",\"A\",\"A\",\"A\",\"B\",\"A\",\"B\",\"A\",\"A\",\"A\",\"B\",\"A\",\"B\",\"B\",\"A\",\"A\",\"A\",\"B\",\"A\",\"A\",\"A\",\"A\",\"B\",\"A\",\"B\",\"A\",\"B\",\"B\",\"A\",\"B\",\"B\",\"B\",\"A\",\"A\",\"A\",\"B\",\"A\",\"B\",\"B\",\"B\",\"B\",\"A\",\"A\",\"A\",\"B\",\"A\",\"B\",\"A\",\"B\",\"A\",\"A\",\"A\",\"B\",\"B\",\"A\",\"A\",\"B\",\"B\",\"A\",\"A\",\"A\",\"A\",\"A\",\"B\",\"A\",\"B\",\"B\",\"B\",\"B\",\"B\",\"B\",\"B\",\"B\",\"B\",\"A\",\"A\",\"B\",\"A\",\"B\",\"A\",\"A\",\"B\",\"A\",\"B\",\"A\",\"A\",\"A\",\"A\",\"B\",\"B\",\"A\",\"B\",\"B\",\"A\",\"A\",\"B\",\"A\",\"B\",\"B\",\"B\",\"A\",\"B\",\"A\",\"A\",\"A\",\"A\",\"A\",\"A\",\"A\",\"B\",\"B\",\"A\",\"A\",\"A\",\"A\",\"B\",\"B\",\"A\",\"A\",\"B\",\"A\",\"B\",\"B\",\"B\",\"A\",\"A\",\"A\",\"B\",\"A\",\"B\",\"A\",\"B\",\"A\",\"B\",\"A\",\"B\",\"B\",\"B\",\"B\",\"A\",\"B\",\"B\",\"A\",\"B\",\"A\",\"B\",\"A\",\"A\",\"A\",\"B\",\"A\",\"A\",\"A\",\"B\",\"B\",\"A\",\"A\",\"A\",\"A\",\"B\",\"B\",\"A\",\"A\",\"A\",\"B\",\"B\",\"A\",\"B\",\"A\",\"A\",\"A\",\"A\",\"A\",\"A\",\"A\",\"A\",\"A\",\"A\",\"B\",\"A\",\"A\",\"A\",\"B\",\"A\",\"A\",\"B\",\"B\",\"A\",\"A\",\"B\",\"A\",\"A\",\"B\",\"A\",\"A\",\"B\",\"A\",\"A\",\"A\",\"B\",\"B\",\"B\",\"A\",\"A\",\"A\",\"A\",\"B\",\"A\",\"B\",\"A\",\"B\",\"A\",\"B\",\"B\",\"A\",\"B\",\"A\",\"B\",\"A\",\"A\",\"A\",\"A\",\"B\",\"A\",\"B\",\"A\",\"A\",\"A\",\"B\",\"A\",\"A\",\"A\",\"A\",\"B\",\"A\",\"B\",\"B\",\"A\",\"B\",\"B\",\"A\",\"A\",\"B\",\"B\",\"B\",\"B\",\"B\",\"B\",\"A\",\"A\",\"A\",\"A\",\"B\",\"A\",\"B\",\"B\",\"A\",\"A\",\"B\",\"B\",\"A\",\"A\",\"A\",\"A\",\"A\",\"A\",\"A\",\"A\",\"B\",\"A\",\"A\",\"A\",\"A\",\"B\",\"B\",\"A\",\"A\",\"B\",\"B\",\"A\",\"A\",\"A\",\"A\",\"A\",\"B\",\"B\",\"B\",\"A\",\"A\",\"A\",\"A\",\"A\",\"B\",\"A\",\"A\",\"A\",\"A\",\"A\",\"B\",\"B\",\"A\",\"A\",\"A\",\"A\",\"A\",\"A\",\"B\",\"A\",\"A\",\"B\",\"B\",\"B\",\"A\",\"B\",\"A\",\"A\",\"B\",\"B\",\"B\",\"B\",\"A\",\"B\",\"A\",\"B\",\"A\",\"A\",\"B\",\"B\",\"A\",\"B\",\"A\",\"A\",\"A\",\"B\",\"B\",\"A\",\"A\",\"B\",\"A\",\"B\",\"B\",\"A\",\"B\",\"B\",\"B\",\"A\",\"A\",\"B\",\"A\",\"A\",\"B\",\"A\",\"B\",\"A\",\"A\",\"A\",\"B\",\"A\",\"B\",\"A\",\"B\",\"A\",\"A\",\"B\",\"A\",\"A\",\"B\",\"A\",\"A\",\"A\",\"B\",\"A\",\"A\",\"A\",\"A\",\"A\",\"A\",\"A\",\"B\",\"A\",\"A\",\"B\",\"A\",\"B\",\"A\",\"B\",\"B\",\"A\",\"A\",\"A\",\"A\",\"B\",\"B\",\"A\",\"A\",\"A\",\"B\",\"A\",\"A\",\"A\",\"B\",\"A\",\"A\",\"A\",\"A\",\"A\",\"A\",\"A\",\"A\",\"A\",\"A\",\"A\",\"A\",\"A\",\"A\",\"B\",\"B\",\"A\",\"A\",\"B\",\"A\",\"A\",\"A\",\"B\",\"A\",\"A\",\"B\",\"A\",\"A\",\"A\",\"B\",\"B\",\"B\",\"A\",\"B\",\"A\",\"B\",\"A\",\"B\",\"A\",\"A\",\"A\",\"B\",\"A\",\"A\",\"A\",\"A\",\"A\",\"A\",\"A\",\"A\",\"A\",\"B\",\"B\",\"B\",\"A\",\"B\",\"A\",\"B\",\"A\",\"A\",\"B\",\"A\",\"B\",\"B\",\"A\",\"A\",\"B\",\"A\",\"B\",\"A\",\"B\",\"B\",\"A\",\"B\",\"A\",\"A\",\"A\",\"A\",\"B\",\"B\",\"B\",\"A\",\"A\",\"A\",\"B\",\"A\",\"A\",\"B\",\"A\",\"B\",\"A\",\"A\",\"B\",\"B\",\"A\",\"B\",\"A\",\"A\",\"B\",\"B\",\"B\",\"A\",\"A\",\"B\",\"B\",\"A\",\"A\",\"A\",\"A\",\"B\",\"B\",\"B\",\"A\",\"A\",\"A\",\"B\",\"B\",\"A\",\"B\",\"B\",\"B\",\"A\",\"B\",\"A\",\"A\",\"A\",\"A\",\"A\",\"A\",\"B\",\"B\",\"A\",\"A\",\"A\",\"A\",\"A\",\"A\",\"B\",\"B\",\"A\",\"A\",\"A\",\"A\",\"A\",\"A\",\"A\",\"A\",\"A\",\"A\",\"A\",\"A\",\"A\",\"A\",\"A\",\"B\",\"A\",\"B\",\"B\",\"A\",\"A\",\"B\",\"B\",\"A\",\"B\",\"B\",\"B\",\"A\",\"A\",\"B\",\"B\",\"B\",\"A\",\"A\",\"B\",\"B\",\"B\",\"B\",\"A\",\"B\",\"B\",\"B\",\"B\",\"A\",\"B\",\"A\",\"A\",\"A\",\"A\",\"B\",\"B\",\"B\",\"B\",\"A\",\"A\",\"A\",\"B\",\"A\",\"A\",\"A\",\"A\",\"A\",\"B\",\"A\",\"A\",\"B\",\"A\",\"A\",\"A\",\"A\",\"A\",\"A\",\"A\",\"B\",\"B\",\"A\",\"B\",\"B\",\"A\",\"B\",\"B\",\"B\",\"A\",\"B\",\"B\",\"B\",\"B\",\"A\",\"B\",\"B\",\"A\",\"B\",\"A\",\"A\",\"A\",\"A\",\"B\",\"B\",\"A\",\"A\",\"A\",\"A\",\"A\",\"A\",\"B\",\"A\",\"A\",\"A\",\"A\",\"A\",\"A\",\"B\",\"A\",\"A\",\"A\",\"B\",\"A\",\"A\",\"A\",\"A\",\"A\",\"A\",\"B\",\"B\",\"A\",\"A\",\"A\",\"A\",\"B\",\"B\",\"A\",\"B\",\"B\",\"B\",\"B\",\"B\",\"A\",\"A\",\"A\",\"B\",\"A\",\"A\",\"B\",\"B\",\"B\",\"A\",\"A\",\"B\",\"B\",\"A\",\"B\",\"B\",\"B\",\"B\",\"A\",\"A\",\"A\",\"A\",\"B\",\"A\",\"A\",\"A\",\"A\",\"A\",\"A\",\"B\",\"A\",\"A\",\"A\",\"B\",\"A\",\"B\",\"B\",\"A\",\"A\",\"A\",\"A\",\"A\",\"B\",\"B\",\"A\",\"B\",\"A\",\"A\",\"A\",\"B\",\"B\",\"A\",\"B\",\"A\",\"A\",\"B\",\"A\",\"B\",\"B\",\"B\",\"B\",\"A\",\"A\",\"B\",\"B\",\"A\",\"A\",\"A\",\"A\",\"A\",\"B\",\"B\",\"A\",\"A\",\"A\",\"B\",\"A\",\"B\",\"A\",\"A\",\"B\",\"A\",\"A\",\"B\",\"B\",\"B\",\"A\",\"B\",\"B\",\"B\",\"A\",\"B\",\"A\",\"B\",\"A\",\"A\",\"B\",\"B\",\"B\",\"B\",\"B\",\"A\",\"B\",\"A\",\"A\",\"A\",\"A\",\"B\",\"A\",\"A\",\"A\",\"A\",\"B\",\"A\",\"B\",\"B\",\"B\",\"B\",\"A\",\"A\",\"A\",\"A\",\"A\",\"B\",\"A\",\"B\",\"B\",\"A\",\"B\",\"B\",\"B\",\"A\",\"A\",\"B\",\"A\",\"A\",\"A\",\"B\",\"A\",\"A\",\"A\",\"A\",\"B\",\"A\",\"B\",\"B\",\"A\",\"A\",\"B\",\"A\",\"A\",\"A\",\"B\",\"B\",\"A\",\"A\",\"B\",\"A\",\"A\",\"A\",\"B\",\"B\",\"B\",\"A\",\"A\",\"A\",\"A\",\"B\",\"A\",\"A\",\"B\",\"A\",\"A\",\"B\",\"A\",\"A\",\"A\",\"A\",\"A\",\"A\",\"A\",\"B\",\"A\",\"B\",\"B\",\"A\",\"B\",\"B\",\"A\",\"A\",\"A\",\"B\",\"B\",\"B\",\"B\",\"A\",\"A\",\"B\",\"A\",\"A\",\"B\",\"A\",\"A\",\"B\",\"A\",\"A\",\"A\",\"A\",\"A\",\"B\",\"A\",\"B\",\"B\",\"A\",\"A\",\"A\",\"A\",\"A\",\"A\",\"A\",\"B\",\"A\",\"A\",\"A\",\"A\",\"B\",\"A\",\"B\",\"A\",\"B\",\"B\",\"B\",\"A\",\"A\",\"A\",\"A\",\"A\",\"B\",\"A\",\"A\",\"B\",\"B\",\"A\",\"A\",\"A\",\"A\",\"A\",\"B\",\"A\",\"A\",\"A\",\"B\",\"B\",\"A\",\"A\",\"B\",\"B\",\"A\",\"A\",\"B\",\"B\",\"A\",\"B\",\"A\",\"A\",\"B\",\"A\",\"B\",\"A\",\"A\",\"B\",\"B\",\"A\",\"A\",\"A\",\"A\",\"B\",\"A\",\"B\",\"B\",\"B\",\"A\",\"A\",\"A\",\"B\",\"A\",\"B\",\"B\",\"A\",\"B\",\"B\",\"A\",\"B\",\"A\",\"B\",\"A\",\"A\",\"B\",\"A\",\"B\",\"A\",\"B\",\"B\",\"A\",\"B\",\"A\",\"A\",\"B\",\"A\",\"A\",\"A\",\"B\",\"B\",\"A\",\"A\",\"B\",\"A\",\"B\",\"B\",\"B\",\"A\",\"A\",\"A\",\"A\",\"A\",\"B\",\"B\",\"A\",\"A\",\"B\",\"A\",\"A\",\"A\",\"A\",\"B\",\"A\",\"B\",\"A\",\"A\",\"A\",\"B\",\"B\",\"A\",\"A\",\"B\",\"A\",\"B\",\"B\",\"A\",\"A\",\"B\",\"A\",\"B\",\"A\",\"A\",\"B\",\"A\",\"A\",\"A\",\"B\",\"B\",\"B\",\"A\",\"A\",\"A\",\"A\",\"B\",\"B\",\"A\",\"A\",\"B\",\"A\",\"A\",\"B\",\"B\",\"A\",\"B\",\"A\",\"B\",\"A\",\"B\",\"A\",\"B\",\"A\",\"A\",\"B\",\"A\",\"B\",\"A\",\"B\",\"B\",\"A\",\"A\",\"B\",\"A\",\"A\",\"B\",\"B\",\"A\",\"A\",\"B\",\"A\",\"A\",\"B\",\"B\",\"A\",\"B\",\"A\",\"B\",\"A\",\"A\",\"A\",\"B\",\"A\",\"A\",\"B\",\"A\",\"A\",\"A\",\"B\",\"A\",\"B\",\"A\",\"B\",\"A\",\"A\",\"B\",\"A\",\"B\",\"B\",\"A\",\"B\",\"A\",\"A\",\"A\",\"A\",\"A\",\"B\",\"B\",\"B\",\"A\",\"B\",\"B\",\"B\",\"B\",\"A\",\"B\",\"A\",\"B\",\"A\",\"A\",\"B\",\"B\",\"A\",\"B\",\"A\",\"A\",\"A\",\"B\",\"A\",\"B\",\"A\",\"A\",\"B\",\"B\",\"A\",\"A\",\"B\",\"B\",\"B\",\"A\",\"A\",\"A\",\"A\",\"A\",\"A\",\"A\",\"A\",\"A\",\"A\",\"A\",\"B\",\"A\",\"A\",\"A\",\"A\",\"A\",\"B\",\"B\",\"B\",\"B\",\"B\",\"B\",\"A\",\"B\",\"A\",\"A\",\"B\",\"A\",\"A\",\"B\",\"A\",\"A\",\"B\",\"A\",\"A\",\"A\",\"A\",\"A\",\"A\",\"B\",\"A\",\"A\",\"A\",\"B\",\"A\",\"B\",\"A\",\"A\",\"B\",\"A\",\"A\",\"A\",\"A\",\"A\",\"B\",\"A\",\"B\",\"A\",\"A\",\"B\",\"A\",\"A\",\"A\",\"A\",\"B\",\"A\",\"A\",\"A\",\"A\",\"A\",\"B\",\"A\",\"B\",\"B\",\"A\",\"B\",\"A\",\"A\",\"B\",\"B\",\"A\",\"B\",\"A\",\"B\",\"A\",\"A\",\"A\",\"B\",\"A\",\"A\",\"A\",\"B\",\"A\",\"A\",\"A\",\"A\",\"A\",\"B\",\"B\",\"B\",\"B\",\"A\",\"A\",\"A\",\"B\",\"B\",\"A\",\"A\",\"B\",\"A\",\"A\",\"A\",\"A\",\"A\",\"B\",\"A\",\"A\",\"B\",\"A\",\"A\",\"A\",\"A\",\"A\",\"B\",\"A\",\"A\",\"A\",\"A\",\"A\",\"A\",\"B\",\"B\",\"B\",\"A\",\"B\",\"A\",\"A\",\"B\",\"A\",\"B\",\"B\",\"B\",\"B\",\"B\",\"A\",\"A\",\"B\",\"A\",\"A\",\"B\",\"A\",\"B\",\"A\",\"A\",\"B\",\"A\",\"B\",\"B\",\"A\",\"A\",\"A\",\"A\",\"A\",\"A\",\"B\",\"A\",\"A\",\"B\",\"A\",\"A\",\"A\",\"A\",\"A\",\"B\",\"A\",\"A\",\"A\",\"B\",\"A\",\"B\",\"B\",\"A\",\"B\",\"A\",\"A\",\"A\",\"A\",\"B\",\"B\",\"A\",\"B\",\"B\",\"A\",\"A\",\"A\",\"B\",\"A\",\"B\",\"A\",\"B\",\"B\",\"A\",\"B\",\"B\",\"B\",\"A\",\"A\",\"B\",\"A\",\"A\",\"A\",\"A\",\"B\",\"A\",\"B\",\"B\",\"A\",\"A\",\"A\",\"B\",\"B\",\"B\",\"A\",\"A\",\"A\",\"B\",\"B\",\"A\",\"A\",\"B\",\"A\",\"B\",\"A\",\"B\",\"A\",\"B\",\"A\",\"A\",\"B\",\"A\",\"B\",\"B\",\"A\",\"B\",\"B\",\"B\",\"A\",\"B\",\"A\",\"A\",\"A\",\"A\",\"A\",\"B\",\"A\",\"B\",\"A\",\"A\",\"A\",\"A\",\"A\",\"A\",\"A\",\"B\",\"A\",\"A\",\"A\",\"A\",\"B\",\"A\",\"A\",\"A\",\"A\",\"A\",\"B\",\"B\",\"A\",\"A\",\"A\",\"A\",\"A\",\"A\",\"B\",\"B\",\"B\",\"A\",\"A\",\"A\",\"A\",\"B\",\"B\",\"A\",\"A\",\"B\",\"B\",\"A\",\"A\",\"A\",\"A\",\"B\",\"A\",\"B\",\"B\",\"A\",\"B\",\"B\",\"A\",\"A\",\"B\",\"B\",\"A\",\"B\",\"A\",\"A\",\"B\",\"A\",\"B\",\"A\",\"A\",\"A\",\"A\",\"A\",\"A\",\"B\",\"A\",\"A\",\"B\",\"A\",\"A\",\"B\",\"A\",\"B\",\"A\",\"B\",\"B\",\"A\",\"A\",\"B\",\"B\",\"A\",\"A\",\"A\",\"B\",\"B\",\"A\",\"A\",\"A\",\"B\",\"B\",\"A\",\"B\",\"A\",\"A\",\"B\",\"A\",\"B\",\"A\",\"B\",\"A\",\"B\",\"B\",\"B\",\"B\",\"B\",\"A\",\"A\",\"B\",\"B\",\"B\",\"A\",\"A\",\"B\",\"A\",\"A\",\"B\",\"A\",\"A\",\"A\",\"B\",\"A\",\"B\",\"B\",\"B\",\"A\",\"A\",\"A\",\"A\",\"B\",\"B\",\"A\",\"A\",\"A\",\"B\",\"B\",\"A\",\"A\",\"A\",\"B\",\"A\",\"A\",\"A\",\"A\",\"B\",\"A\",\"A\",\"A\",\"A\",\"B\",\"A\",\"B\",\"B\",\"A\",\"B\",\"A\",\"A\",\"B\",\"A\",\"A\",\"B\",\"A\",\"A\",\"A\",\"B\",\"B\",\"B\",\"B\",\"A\",\"A\",\"A\",\"A\",\"A\",\"A\",\"B\",\"A\",\"A\",\"A\",\"A\",\"B\",\"A\",\"A\",\"B\",\"A\",\"A\",\"A\",\"B\",\"A\",\"A\",\"B\",\"A\",\"A\",\"B\",\"A\",\"B\",\"B\",\"A\",\"A\",\"A\",\"A\",\"A\",\"A\",\"B\",\"A\",\"B\",\"B\",\"B\",\"A\",\"B\",\"A\",\"A\",\"B\",\"A\",\"A\",\"A\",\"A\",\"A\",\"B\",\"A\",\"A\",\"A\",\"A\",\"B\",\"A\",\"B\",\"A\",\"A\",\"B\",\"A\",\"A\",\"B\",\"B\",\"B\",\"B\",\"A\",\"B\",\"A\",\"A\",\"B\",\"A\",\"A\",\"A\",\"A\",\"A\",\"A\",\"B\",\"B\",\"B\",\"A\",\"A\",\"A\",\"B\",\"A\",\"A\",\"A\",\"B\",\"A\",\"A\",\"B\",\"B\",\"A\",\"A\",\"B\",\"B\",\"A\",\"B\",\"B\",\"B\",\"A\",\"A\",\"B\",\"B\",\"A\",\"A\",\"B\",\"A\",\"A\",\"A\",\"B\",\"B\",\"A\",\"A\",\"B\",\"B\",\"A\",\"A\",\"A\",\"A\",\"A\",\"A\",\"B\",\"A\",\"B\",\"B\",\"B\",\"B\",\"A\",\"A\",\"B\",\"A\",\"A\",\"B\",\"B\",\"A\",\"A\",\"A\",\"A\",\"A\",\"B\",\"A\",\"A\",\"A\",\"A\",\"A\",\"A\",\"A\",\"B\",\"B\",\"A\",\"B\",\"A\",\"A\",\"A\",\"B\",\"A\",\"B\",\"A\",\"A\",\"A\",\"B\",\"A\",\"A\",\"A\",\"B\",\"B\",\"A\",\"A\",\"A\",\"A\",\"B\",\"A\",\"A\",\"A\",\"A\",\"A\",\"A\",\"A\",\"B\",\"A\",\"A\",\"B\",\"B\",\"B\",\"B\",\"A\",\"A\",\"B\",\"B\",\"A\",\"B\",\"B\",\"B\",\"B\",\"B\",\"B\",\"B\",\"A\",\"A\",\"B\",\"A\",\"B\",\"A\",\"B\",\"A\",\"B\",\"B\",\"A\",\"A\",\"A\",\"A\",\"A\",\"A\",\"A\",\"B\",\"B\",\"A\",\"A\",\"A\",\"B\",\"A\",\"B\",\"B\",\"A\",\"A\",\"A\",\"A\",\"B\",\"B\",\"A\",\"B\",\"A\",\"A\",\"A\",\"A\",\"A\",\"A\",\"B\",\"A\",\"B\",\"B\",\"A\",\"B\",\"A\",\"A\",\"B\",\"A\",\"A\",\"A\",\"B\",\"A\",\"B\",\"B\",\"B\",\"A\",\"B\",\"A\",\"A\",\"A\",\"A\",\"A\",\"A\",\"B\",\"B\",\"A\",\"A\",\"B\",\"B\",\"B\",\"B\",\"A\",\"B\",\"A\",\"B\",\"B\",\"A\",\"A\",\"A\",\"A\",\"B\",\"B\",\"A\",\"B\",\"A\",\"A\",\"A\",\"B\",\"A\",\"A\",\"B\",\"A\",\"B\",\"B\",\"B\",\"B\",\"A\",\"A\",\"A\",\"A\",\"A\",\"A\",\"B\",\"B\",\"A\",\"A\",\"A\",\"B\",\"A\",\"B\",\"A\",\"B\",\"B\",\"A\",\"B\",\"A\",\"B\",\"A\",\"B\",\"A\",\"A\",\"A\",\"B\",\"A\",\"B\",\"A\",\"B\",\"A\",\"B\",\"A\",\"B\",\"B\",\"B\",\"A\",\"A\",\"B\",\"B\",\"B\",\"A\",\"A\",\"B\",\"B\",\"A\",\"A\",\"A\",\"A\",\"B\",\"B\",\"B\",\"A\",\"A\",\"A\",\"B\",\"A\",\"A\",\"B\",\"B\",\"B\",\"A\",\"A\",\"B\",\"B\",\"A\",\"B\",\"B\",\"A\",\"B\",\"A\",\"B\",\"A\",\"A\",\"A\",\"A\",\"A\",\"A\",\"A\",\"B\",\"A\",\"A\",\"A\",\"B\",\"B\",\"B\",\"B\",\"B\",\"B\",\"A\",\"A\",\"A\",\"A\",\"B\"],\"xaxis\":\"x\",\"yaxis\":\"y\",\"type\":\"histogram\"}],                        {\"template\":{\"data\":{\"histogram2dcontour\":[{\"type\":\"histogram2dcontour\",\"colorbar\":{\"outlinewidth\":0,\"ticks\":\"\"},\"colorscale\":[[0.0,\"#0d0887\"],[0.1111111111111111,\"#46039f\"],[0.2222222222222222,\"#7201a8\"],[0.3333333333333333,\"#9c179e\"],[0.4444444444444444,\"#bd3786\"],[0.5555555555555556,\"#d8576b\"],[0.6666666666666666,\"#ed7953\"],[0.7777777777777778,\"#fb9f3a\"],[0.8888888888888888,\"#fdca26\"],[1.0,\"#f0f921\"]]}],\"choropleth\":[{\"type\":\"choropleth\",\"colorbar\":{\"outlinewidth\":0,\"ticks\":\"\"}}],\"histogram2d\":[{\"type\":\"histogram2d\",\"colorbar\":{\"outlinewidth\":0,\"ticks\":\"\"},\"colorscale\":[[0.0,\"#0d0887\"],[0.1111111111111111,\"#46039f\"],[0.2222222222222222,\"#7201a8\"],[0.3333333333333333,\"#9c179e\"],[0.4444444444444444,\"#bd3786\"],[0.5555555555555556,\"#d8576b\"],[0.6666666666666666,\"#ed7953\"],[0.7777777777777778,\"#fb9f3a\"],[0.8888888888888888,\"#fdca26\"],[1.0,\"#f0f921\"]]}],\"heatmap\":[{\"type\":\"heatmap\",\"colorbar\":{\"outlinewidth\":0,\"ticks\":\"\"},\"colorscale\":[[0.0,\"#0d0887\"],[0.1111111111111111,\"#46039f\"],[0.2222222222222222,\"#7201a8\"],[0.3333333333333333,\"#9c179e\"],[0.4444444444444444,\"#bd3786\"],[0.5555555555555556,\"#d8576b\"],[0.6666666666666666,\"#ed7953\"],[0.7777777777777778,\"#fb9f3a\"],[0.8888888888888888,\"#fdca26\"],[1.0,\"#f0f921\"]]}],\"heatmapgl\":[{\"type\":\"heatmapgl\",\"colorbar\":{\"outlinewidth\":0,\"ticks\":\"\"},\"colorscale\":[[0.0,\"#0d0887\"],[0.1111111111111111,\"#46039f\"],[0.2222222222222222,\"#7201a8\"],[0.3333333333333333,\"#9c179e\"],[0.4444444444444444,\"#bd3786\"],[0.5555555555555556,\"#d8576b\"],[0.6666666666666666,\"#ed7953\"],[0.7777777777777778,\"#fb9f3a\"],[0.8888888888888888,\"#fdca26\"],[1.0,\"#f0f921\"]]}],\"contourcarpet\":[{\"type\":\"contourcarpet\",\"colorbar\":{\"outlinewidth\":0,\"ticks\":\"\"}}],\"contour\":[{\"type\":\"contour\",\"colorbar\":{\"outlinewidth\":0,\"ticks\":\"\"},\"colorscale\":[[0.0,\"#0d0887\"],[0.1111111111111111,\"#46039f\"],[0.2222222222222222,\"#7201a8\"],[0.3333333333333333,\"#9c179e\"],[0.4444444444444444,\"#bd3786\"],[0.5555555555555556,\"#d8576b\"],[0.6666666666666666,\"#ed7953\"],[0.7777777777777778,\"#fb9f3a\"],[0.8888888888888888,\"#fdca26\"],[1.0,\"#f0f921\"]]}],\"surface\":[{\"type\":\"surface\",\"colorbar\":{\"outlinewidth\":0,\"ticks\":\"\"},\"colorscale\":[[0.0,\"#0d0887\"],[0.1111111111111111,\"#46039f\"],[0.2222222222222222,\"#7201a8\"],[0.3333333333333333,\"#9c179e\"],[0.4444444444444444,\"#bd3786\"],[0.5555555555555556,\"#d8576b\"],[0.6666666666666666,\"#ed7953\"],[0.7777777777777778,\"#fb9f3a\"],[0.8888888888888888,\"#fdca26\"],[1.0,\"#f0f921\"]]}],\"mesh3d\":[{\"type\":\"mesh3d\",\"colorbar\":{\"outlinewidth\":0,\"ticks\":\"\"}}],\"scatter\":[{\"fillpattern\":{\"fillmode\":\"overlay\",\"size\":10,\"solidity\":0.2},\"type\":\"scatter\"}],\"parcoords\":[{\"type\":\"parcoords\",\"line\":{\"colorbar\":{\"outlinewidth\":0,\"ticks\":\"\"}}}],\"scatterpolargl\":[{\"type\":\"scatterpolargl\",\"marker\":{\"colorbar\":{\"outlinewidth\":0,\"ticks\":\"\"}}}],\"bar\":[{\"error_x\":{\"color\":\"#2a3f5f\"},\"error_y\":{\"color\":\"#2a3f5f\"},\"marker\":{\"line\":{\"color\":\"#E5ECF6\",\"width\":0.5},\"pattern\":{\"fillmode\":\"overlay\",\"size\":10,\"solidity\":0.2}},\"type\":\"bar\"}],\"scattergeo\":[{\"type\":\"scattergeo\",\"marker\":{\"colorbar\":{\"outlinewidth\":0,\"ticks\":\"\"}}}],\"scatterpolar\":[{\"type\":\"scatterpolar\",\"marker\":{\"colorbar\":{\"outlinewidth\":0,\"ticks\":\"\"}}}],\"histogram\":[{\"marker\":{\"pattern\":{\"fillmode\":\"overlay\",\"size\":10,\"solidity\":0.2}},\"type\":\"histogram\"}],\"scattergl\":[{\"type\":\"scattergl\",\"marker\":{\"colorbar\":{\"outlinewidth\":0,\"ticks\":\"\"}}}],\"scatter3d\":[{\"type\":\"scatter3d\",\"line\":{\"colorbar\":{\"outlinewidth\":0,\"ticks\":\"\"}},\"marker\":{\"colorbar\":{\"outlinewidth\":0,\"ticks\":\"\"}}}],\"scattermapbox\":[{\"type\":\"scattermapbox\",\"marker\":{\"colorbar\":{\"outlinewidth\":0,\"ticks\":\"\"}}}],\"scatterternary\":[{\"type\":\"scatterternary\",\"marker\":{\"colorbar\":{\"outlinewidth\":0,\"ticks\":\"\"}}}],\"scattercarpet\":[{\"type\":\"scattercarpet\",\"marker\":{\"colorbar\":{\"outlinewidth\":0,\"ticks\":\"\"}}}],\"carpet\":[{\"aaxis\":{\"endlinecolor\":\"#2a3f5f\",\"gridcolor\":\"white\",\"linecolor\":\"white\",\"minorgridcolor\":\"white\",\"startlinecolor\":\"#2a3f5f\"},\"baxis\":{\"endlinecolor\":\"#2a3f5f\",\"gridcolor\":\"white\",\"linecolor\":\"white\",\"minorgridcolor\":\"white\",\"startlinecolor\":\"#2a3f5f\"},\"type\":\"carpet\"}],\"table\":[{\"cells\":{\"fill\":{\"color\":\"#EBF0F8\"},\"line\":{\"color\":\"white\"}},\"header\":{\"fill\":{\"color\":\"#C8D4E3\"},\"line\":{\"color\":\"white\"}},\"type\":\"table\"}],\"barpolar\":[{\"marker\":{\"line\":{\"color\":\"#E5ECF6\",\"width\":0.5},\"pattern\":{\"fillmode\":\"overlay\",\"size\":10,\"solidity\":0.2}},\"type\":\"barpolar\"}],\"pie\":[{\"automargin\":true,\"type\":\"pie\"}]},\"layout\":{\"autotypenumbers\":\"strict\",\"colorway\":[\"#636efa\",\"#EF553B\",\"#00cc96\",\"#ab63fa\",\"#FFA15A\",\"#19d3f3\",\"#FF6692\",\"#B6E880\",\"#FF97FF\",\"#FECB52\"],\"font\":{\"color\":\"#2a3f5f\"},\"hovermode\":\"closest\",\"hoverlabel\":{\"align\":\"left\"},\"paper_bgcolor\":\"white\",\"plot_bgcolor\":\"#E5ECF6\",\"polar\":{\"bgcolor\":\"#E5ECF6\",\"angularaxis\":{\"gridcolor\":\"white\",\"linecolor\":\"white\",\"ticks\":\"\"},\"radialaxis\":{\"gridcolor\":\"white\",\"linecolor\":\"white\",\"ticks\":\"\"}},\"ternary\":{\"bgcolor\":\"#E5ECF6\",\"aaxis\":{\"gridcolor\":\"white\",\"linecolor\":\"white\",\"ticks\":\"\"},\"baxis\":{\"gridcolor\":\"white\",\"linecolor\":\"white\",\"ticks\":\"\"},\"caxis\":{\"gridcolor\":\"white\",\"linecolor\":\"white\",\"ticks\":\"\"}},\"coloraxis\":{\"colorbar\":{\"outlinewidth\":0,\"ticks\":\"\"}},\"colorscale\":{\"sequential\":[[0.0,\"#0d0887\"],[0.1111111111111111,\"#46039f\"],[0.2222222222222222,\"#7201a8\"],[0.3333333333333333,\"#9c179e\"],[0.4444444444444444,\"#bd3786\"],[0.5555555555555556,\"#d8576b\"],[0.6666666666666666,\"#ed7953\"],[0.7777777777777778,\"#fb9f3a\"],[0.8888888888888888,\"#fdca26\"],[1.0,\"#f0f921\"]],\"sequentialminus\":[[0.0,\"#0d0887\"],[0.1111111111111111,\"#46039f\"],[0.2222222222222222,\"#7201a8\"],[0.3333333333333333,\"#9c179e\"],[0.4444444444444444,\"#bd3786\"],[0.5555555555555556,\"#d8576b\"],[0.6666666666666666,\"#ed7953\"],[0.7777777777777778,\"#fb9f3a\"],[0.8888888888888888,\"#fdca26\"],[1.0,\"#f0f921\"]],\"diverging\":[[0,\"#8e0152\"],[0.1,\"#c51b7d\"],[0.2,\"#de77ae\"],[0.3,\"#f1b6da\"],[0.4,\"#fde0ef\"],[0.5,\"#f7f7f7\"],[0.6,\"#e6f5d0\"],[0.7,\"#b8e186\"],[0.8,\"#7fbc41\"],[0.9,\"#4d9221\"],[1,\"#276419\"]]},\"xaxis\":{\"gridcolor\":\"white\",\"linecolor\":\"white\",\"ticks\":\"\",\"title\":{\"standoff\":15},\"zerolinecolor\":\"white\",\"automargin\":true,\"zerolinewidth\":2},\"yaxis\":{\"gridcolor\":\"white\",\"linecolor\":\"white\",\"ticks\":\"\",\"title\":{\"standoff\":15},\"zerolinecolor\":\"white\",\"automargin\":true,\"zerolinewidth\":2},\"scene\":{\"xaxis\":{\"backgroundcolor\":\"#E5ECF6\",\"gridcolor\":\"white\",\"linecolor\":\"white\",\"showbackground\":true,\"ticks\":\"\",\"zerolinecolor\":\"white\",\"gridwidth\":2},\"yaxis\":{\"backgroundcolor\":\"#E5ECF6\",\"gridcolor\":\"white\",\"linecolor\":\"white\",\"showbackground\":true,\"ticks\":\"\",\"zerolinecolor\":\"white\",\"gridwidth\":2},\"zaxis\":{\"backgroundcolor\":\"#E5ECF6\",\"gridcolor\":\"white\",\"linecolor\":\"white\",\"showbackground\":true,\"ticks\":\"\",\"zerolinecolor\":\"white\",\"gridwidth\":2}},\"shapedefaults\":{\"line\":{\"color\":\"#2a3f5f\"}},\"annotationdefaults\":{\"arrowcolor\":\"#2a3f5f\",\"arrowhead\":0,\"arrowwidth\":1},\"geo\":{\"bgcolor\":\"white\",\"landcolor\":\"#E5ECF6\",\"subunitcolor\":\"white\",\"showland\":true,\"showlakes\":true,\"lakecolor\":\"white\"},\"title\":{\"x\":0.05},\"mapbox\":{\"style\":\"light\"}}},\"xaxis\":{\"anchor\":\"y\",\"domain\":[0.0,1.0],\"title\":{\"text\":\"x\"}},\"yaxis\":{\"anchor\":\"x\",\"domain\":[0.0,1.0],\"title\":{\"text\":\"count\"}},\"legend\":{\"tracegroupgap\":0},\"margin\":{\"t\":60},\"barmode\":\"relative\"},                        {\"responsive\": true}                    ).then(function(){\n",
       "                            \n",
       "var gd = document.getElementById('038cc901-c529-4aa3-a654-be9b706a0b16');\n",
       "var x = new MutationObserver(function (mutations, observer) {{\n",
       "        var display = window.getComputedStyle(gd).display;\n",
       "        if (!display || display === 'none') {{\n",
       "            console.log([gd, 'removed!']);\n",
       "            Plotly.purge(gd);\n",
       "            observer.disconnect();\n",
       "        }}\n",
       "}});\n",
       "\n",
       "// Listen for the removal of the full notebook cells\n",
       "var notebookContainer = gd.closest('#notebook-container');\n",
       "if (notebookContainer) {{\n",
       "    x.observe(notebookContainer, {childList: true});\n",
       "}}\n",
       "\n",
       "// Listen for the clearing of the current output cell\n",
       "var outputEl = gd.closest('.output');\n",
       "if (outputEl) {{\n",
       "    x.observe(outputEl, {childList: true});\n",
       "}}\n",
       "\n",
       "                        })                };                });            </script>        </div>"
      ]
     },
     "metadata": {},
     "output_type": "display_data"
    }
   ],
   "source": [
    "simple_res = []\n",
    "for r in coherence_battle_results:\n",
    "    if r['winner'] == 'tie':\n",
    "        simple_res.append('tie')\n",
    "    elif r['winner'] == 'A':\n",
    "        simple_res.append('A')\n",
    "    elif r['winner'] == 'B':\n",
    "        simple_res.append('B')\n",
    "\n",
    "px.histogram(x=simple_res)\n"
   ]
  },
  {
   "cell_type": "code",
   "execution_count": 33,
   "metadata": {},
   "outputs": [],
   "source": [
    "import math\n",
    "from collections import defaultdict\n",
    "\n",
    "def calculate_elo_ratings(comparisons, initial_rating=1500, k_factor=16):\n",
    "    ratings = defaultdict(lambda: initial_rating)\n",
    "    \n",
    "    for comparison in comparisons:\n",
    "        model_1 = comparison['model_1']\n",
    "        model_2 = comparison['model_2']\n",
    "        winner = comparison['winner'] # 'A' or 'B' or 'tie'\n",
    "        \n",
    "        rating_1 = ratings[model_1]\n",
    "        rating_2 = ratings[model_2]\n",
    "        \n",
    "        expected_score_1 = 1 / (1 + math.pow(10, (rating_2 - rating_1) / 400))\n",
    "        expected_score_2 = 1 - expected_score_1\n",
    "        \n",
    "        if winner == \"tie\":\n",
    "            actual_score_1 = actual_score_2 = 0.5\n",
    "        else:\n",
    "            actual_score_1 = 1 if winner == \"A\" else 0\n",
    "            actual_score_2 = 1 - actual_score_1\n",
    "        \n",
    "        ratings[model_1] += k_factor * (actual_score_1 - expected_score_1)\n",
    "        ratings[model_2] += k_factor * (actual_score_2 - expected_score_2)\n",
    "    \n",
    "    # Sort the ratings by model ID\n",
    "    sorted_ratings = sorted(ratings.items(), key=lambda x: x[0])\n",
    "    return [rating for _, rating in sorted_ratings]\n",
    "\n",
    "# c_elo_ratings = calculate_elo_ratings(coherence_battle_results)\n",
    "# c_elo_ratings = [(r-1000)/1000 for r in c_elo_ratings]\n",
    "# print(c_elo_ratings)\n",
    "\n",
    "# e_elo_ratings = calculate_elo_ratings(eval_battle_results)\n",
    "# e_elo_ratings = [(r-1000)/1000 for r in e_elo_ratings]\n",
    "# print(e_elo_ratings)\n"
   ]
  },
  {
   "cell_type": "code",
   "execution_count": 34,
   "metadata": {},
   "outputs": [],
   "source": [
    "def get_bootstrap_result(comparisons, num_rounds=1000):\n",
    "    num_models = max(max(comp['model_1'], comp['model_2']) for comp in comparisons) + 1\n",
    "    bootstrap_results = []\n",
    "\n",
    "    for _ in tqdm(range(num_rounds), desc=\"Bootstrap Progress\"):\n",
    "        # Resample comparisons with replacement\n",
    "        resampled_comparisons = random.choices(comparisons, k=len(comparisons))\n",
    "        \n",
    "        # Calculate Elo ratings for this bootstrap sample\n",
    "        elo_ratings = calculate_elo_ratings(resampled_comparisons)\n",
    "        \n",
    "        # Ensure all model IDs are represented\n",
    "        full_ratings = [elo_ratings[i] if i < len(elo_ratings) else 1500 for i in range(num_models)]\n",
    "        \n",
    "        bootstrap_results.append(full_ratings)\n",
    "\n",
    "    # Convert results to numpy array for easier calculations\n",
    "    bootstrap_results = np.array(bootstrap_results)\n",
    "\n",
    "    # Calculate median and 95% confidence intervals\n",
    "    median_ratings = np.median(bootstrap_results, axis=0)\n",
    "    confidence_intervals = np.percentile(bootstrap_results, [2.5, 97.5], axis=0)\n",
    "\n",
    "    return median_ratings, confidence_intervals"
   ]
  },
  {
   "cell_type": "code",
   "execution_count": 35,
   "metadata": {},
   "outputs": [
    {
     "name": "stderr",
     "output_type": "stream",
     "text": [
      "Bootstrap Progress:   5%|▌         | 51/1000 [00:00<00:01, 501.82it/s]"
     ]
    },
    {
     "name": "stderr",
     "output_type": "stream",
     "text": [
      "Bootstrap Progress: 100%|██████████| 1000/1000 [00:01<00:00, 515.79it/s]\n",
      "Bootstrap Progress: 100%|██████████| 1000/1000 [00:01<00:00, 532.83it/s]"
     ]
    },
    {
     "name": "stdout",
     "output_type": "stream",
     "text": [
      "[1512.52376523 1507.39965374 1531.8871314  1525.8237115  1499.24831187\n",
      " 1514.44808742 1560.78898887 1485.44452092 1489.19310003 1479.19365663\n",
      " 1458.13639619 1435.86387072]\n",
      "[[1443.46972168 1431.16331843 1462.19066996 1453.92060564 1428.66504535\n",
      "  1441.61102709 1486.64489777 1411.44965344 1420.74279206 1408.09812394\n",
      "  1386.17024086 1364.89373594]\n",
      " [1585.76598186 1582.26215235 1600.24978372 1596.08724469 1571.44867066\n",
      "  1581.28031424 1631.10668749 1551.04755384 1562.69961696 1548.68295711\n",
      "  1527.39891289 1507.47728138]]\n"
     ]
    },
    {
     "name": "stderr",
     "output_type": "stream",
     "text": [
      "\n"
     ]
    }
   ],
   "source": [
    "c_median_ratings, c_confidence_intervals = get_bootstrap_result(coherence_battle_results)\n",
    "e_median_ratings, e_confidence_intervals = get_bootstrap_result(eval_battle_results)\n",
    "print(c_median_ratings)\n",
    "print(c_confidence_intervals)"
   ]
  },
  {
   "cell_type": "code",
   "execution_count": 36,
   "metadata": {},
   "outputs": [],
   "source": [
    "c_baseline = c_median_ratings[0]\n",
    "e_baseline = e_median_ratings[0]\n",
    "# compute p win against baseline\n",
    "c_p_win = [(1 / (1 + math.pow(10, (c_baseline - r) / 400))) for r in c_median_ratings]\n",
    "e_p_win = [(1 / (1 + math.pow(10, (e_baseline - r) / 400))) for r in e_median_ratings]\n",
    "\n",
    "c_p_win_top = [(1 / (1 + math.pow(10, (c_baseline - r) / 400))) for r in c_confidence_intervals[0]]\n",
    "c_p_win_bottom = [(1 / (1 + math.pow(10, (c_baseline - r) / 400))) for r in c_confidence_intervals[1]]\n",
    "e_p_win_top = [(1 / (1 + math.pow(10, (e_baseline - r) / 400))) for r in e_confidence_intervals[0]]\n",
    "e_p_win_bottom = [(1 / (1 + math.pow(10, (e_baseline - r) / 400))) for r in e_confidence_intervals[1]]"
   ]
  },
  {
   "cell_type": "code",
   "execution_count": 37,
   "metadata": {},
   "outputs": [
    {
     "data": {
      "application/vnd.plotly.v1+json": {
       "config": {
        "plotlyServerURL": "https://plot.ly"
       },
       "data": [
        {
         "hovertemplate": "variable=Average Scores<br>Scale=%{x}<br>value=%{y}<extra></extra>",
         "legendgroup": "Average Scores",
         "line": {
          "color": "#636efa",
          "dash": "solid"
         },
         "marker": {
          "symbol": "circle"
         },
         "mode": "lines",
         "name": "Average Scores",
         "orientation": "v",
         "showlegend": true,
         "type": "scatter",
         "x": [
          0,
          10,
          20,
          30,
          40,
          50,
          60,
          70,
          80,
          90,
          100,
          110
         ],
         "xaxis": "x",
         "y": [
          0.006076388888888889,
          0.006076388888888889,
          0.016493055555555556,
          0.017361111111111112,
          0.04991319444444445,
          0.0954861111111111,
          0.1111111111111111,
          0.12890625,
          0.1232638888888889,
          0.1310763888888889,
          0.06987847222222222,
          0.1423611111111111
         ],
         "yaxis": "y"
        },
        {
         "hovertemplate": "variable=Average Coherence<br>Scale=%{x}<br>value=%{y}<extra></extra>",
         "legendgroup": "Average Coherence",
         "line": {
          "color": "#EF553B",
          "dash": "solid"
         },
         "marker": {
          "symbol": "circle"
         },
         "mode": "lines",
         "name": "Average Coherence",
         "orientation": "v",
         "showlegend": true,
         "type": "scatter",
         "x": [
          0,
          10,
          20,
          30,
          40,
          50,
          60,
          70,
          80,
          90,
          100,
          110
         ],
         "xaxis": "x",
         "y": [
          0.7699652777777778,
          0.7612847222222222,
          0.76953125,
          0.7673611111111112,
          0.7625868055555556,
          0.7408854166666666,
          0.7517361111111112,
          0.7478298611111112,
          0.7456597222222222,
          0.71484375,
          0.6636284722222222,
          0.6401909722222222
         ],
         "yaxis": "y"
        },
        {
         "hovertemplate": "variable=Coherence Elo<br>Scale=%{x}<br>value=%{y}<extra></extra>",
         "legendgroup": "Coherence Elo",
         "line": {
          "color": "#00cc96",
          "dash": "solid"
         },
         "marker": {
          "symbol": "circle"
         },
         "mode": "lines",
         "name": "Coherence Elo",
         "orientation": "v",
         "showlegend": true,
         "type": "scatter",
         "x": [
          0,
          10,
          20,
          30,
          40,
          50,
          60,
          70,
          80,
          90,
          100,
          110
         ],
         "xaxis": "x",
         "y": [
          0.5,
          0.49262634540797023,
          0.5278373082293966,
          0.5191308175105553,
          0.4809043791146391,
          0.5027692939202271,
          0.5690158465711734,
          0.4611085541772673,
          0.466474849919233,
          0.4521807201368336,
          0.4223634017886877,
          0.39143367253496036
         ],
         "yaxis": "y"
        },
        {
         "hovertemplate": "variable=Eval Elo<br>Scale=%{x}<br>value=%{y}<extra></extra>",
         "legendgroup": "Eval Elo",
         "line": {
          "color": "#ab63fa",
          "dash": "solid"
         },
         "marker": {
          "symbol": "circle"
         },
         "mode": "lines",
         "name": "Eval Elo",
         "orientation": "v",
         "showlegend": true,
         "type": "scatter",
         "x": [
          0,
          10,
          20,
          30,
          40,
          50,
          60,
          70,
          80,
          90,
          100,
          110
         ],
         "xaxis": "x",
         "y": [
          0.5,
          0.5045900852983745,
          0.5462054674645522,
          0.5254863771611022,
          0.6154953009680334,
          0.6346459495296921,
          0.6646110326713851,
          0.664743398330312,
          0.6681714293041482,
          0.6459630129627703,
          0.6780678026051068,
          0.6976833202054774
         ],
         "yaxis": "y"
        }
       ],
       "layout": {
        "legend": {
         "title": {
          "text": "Metrics"
         },
         "tracegroupgap": 0
        },
        "template": {
         "data": {
          "bar": [
           {
            "error_x": {
             "color": "#2a3f5f"
            },
            "error_y": {
             "color": "#2a3f5f"
            },
            "marker": {
             "line": {
              "color": "#E5ECF6",
              "width": 0.5
             },
             "pattern": {
              "fillmode": "overlay",
              "size": 10,
              "solidity": 0.2
             }
            },
            "type": "bar"
           }
          ],
          "barpolar": [
           {
            "marker": {
             "line": {
              "color": "#E5ECF6",
              "width": 0.5
             },
             "pattern": {
              "fillmode": "overlay",
              "size": 10,
              "solidity": 0.2
             }
            },
            "type": "barpolar"
           }
          ],
          "carpet": [
           {
            "aaxis": {
             "endlinecolor": "#2a3f5f",
             "gridcolor": "white",
             "linecolor": "white",
             "minorgridcolor": "white",
             "startlinecolor": "#2a3f5f"
            },
            "baxis": {
             "endlinecolor": "#2a3f5f",
             "gridcolor": "white",
             "linecolor": "white",
             "minorgridcolor": "white",
             "startlinecolor": "#2a3f5f"
            },
            "type": "carpet"
           }
          ],
          "choropleth": [
           {
            "colorbar": {
             "outlinewidth": 0,
             "ticks": ""
            },
            "type": "choropleth"
           }
          ],
          "contour": [
           {
            "colorbar": {
             "outlinewidth": 0,
             "ticks": ""
            },
            "colorscale": [
             [
              0,
              "#0d0887"
             ],
             [
              0.1111111111111111,
              "#46039f"
             ],
             [
              0.2222222222222222,
              "#7201a8"
             ],
             [
              0.3333333333333333,
              "#9c179e"
             ],
             [
              0.4444444444444444,
              "#bd3786"
             ],
             [
              0.5555555555555556,
              "#d8576b"
             ],
             [
              0.6666666666666666,
              "#ed7953"
             ],
             [
              0.7777777777777778,
              "#fb9f3a"
             ],
             [
              0.8888888888888888,
              "#fdca26"
             ],
             [
              1,
              "#f0f921"
             ]
            ],
            "type": "contour"
           }
          ],
          "contourcarpet": [
           {
            "colorbar": {
             "outlinewidth": 0,
             "ticks": ""
            },
            "type": "contourcarpet"
           }
          ],
          "heatmap": [
           {
            "colorbar": {
             "outlinewidth": 0,
             "ticks": ""
            },
            "colorscale": [
             [
              0,
              "#0d0887"
             ],
             [
              0.1111111111111111,
              "#46039f"
             ],
             [
              0.2222222222222222,
              "#7201a8"
             ],
             [
              0.3333333333333333,
              "#9c179e"
             ],
             [
              0.4444444444444444,
              "#bd3786"
             ],
             [
              0.5555555555555556,
              "#d8576b"
             ],
             [
              0.6666666666666666,
              "#ed7953"
             ],
             [
              0.7777777777777778,
              "#fb9f3a"
             ],
             [
              0.8888888888888888,
              "#fdca26"
             ],
             [
              1,
              "#f0f921"
             ]
            ],
            "type": "heatmap"
           }
          ],
          "heatmapgl": [
           {
            "colorbar": {
             "outlinewidth": 0,
             "ticks": ""
            },
            "colorscale": [
             [
              0,
              "#0d0887"
             ],
             [
              0.1111111111111111,
              "#46039f"
             ],
             [
              0.2222222222222222,
              "#7201a8"
             ],
             [
              0.3333333333333333,
              "#9c179e"
             ],
             [
              0.4444444444444444,
              "#bd3786"
             ],
             [
              0.5555555555555556,
              "#d8576b"
             ],
             [
              0.6666666666666666,
              "#ed7953"
             ],
             [
              0.7777777777777778,
              "#fb9f3a"
             ],
             [
              0.8888888888888888,
              "#fdca26"
             ],
             [
              1,
              "#f0f921"
             ]
            ],
            "type": "heatmapgl"
           }
          ],
          "histogram": [
           {
            "marker": {
             "pattern": {
              "fillmode": "overlay",
              "size": 10,
              "solidity": 0.2
             }
            },
            "type": "histogram"
           }
          ],
          "histogram2d": [
           {
            "colorbar": {
             "outlinewidth": 0,
             "ticks": ""
            },
            "colorscale": [
             [
              0,
              "#0d0887"
             ],
             [
              0.1111111111111111,
              "#46039f"
             ],
             [
              0.2222222222222222,
              "#7201a8"
             ],
             [
              0.3333333333333333,
              "#9c179e"
             ],
             [
              0.4444444444444444,
              "#bd3786"
             ],
             [
              0.5555555555555556,
              "#d8576b"
             ],
             [
              0.6666666666666666,
              "#ed7953"
             ],
             [
              0.7777777777777778,
              "#fb9f3a"
             ],
             [
              0.8888888888888888,
              "#fdca26"
             ],
             [
              1,
              "#f0f921"
             ]
            ],
            "type": "histogram2d"
           }
          ],
          "histogram2dcontour": [
           {
            "colorbar": {
             "outlinewidth": 0,
             "ticks": ""
            },
            "colorscale": [
             [
              0,
              "#0d0887"
             ],
             [
              0.1111111111111111,
              "#46039f"
             ],
             [
              0.2222222222222222,
              "#7201a8"
             ],
             [
              0.3333333333333333,
              "#9c179e"
             ],
             [
              0.4444444444444444,
              "#bd3786"
             ],
             [
              0.5555555555555556,
              "#d8576b"
             ],
             [
              0.6666666666666666,
              "#ed7953"
             ],
             [
              0.7777777777777778,
              "#fb9f3a"
             ],
             [
              0.8888888888888888,
              "#fdca26"
             ],
             [
              1,
              "#f0f921"
             ]
            ],
            "type": "histogram2dcontour"
           }
          ],
          "mesh3d": [
           {
            "colorbar": {
             "outlinewidth": 0,
             "ticks": ""
            },
            "type": "mesh3d"
           }
          ],
          "parcoords": [
           {
            "line": {
             "colorbar": {
              "outlinewidth": 0,
              "ticks": ""
             }
            },
            "type": "parcoords"
           }
          ],
          "pie": [
           {
            "automargin": true,
            "type": "pie"
           }
          ],
          "scatter": [
           {
            "fillpattern": {
             "fillmode": "overlay",
             "size": 10,
             "solidity": 0.2
            },
            "type": "scatter"
           }
          ],
          "scatter3d": [
           {
            "line": {
             "colorbar": {
              "outlinewidth": 0,
              "ticks": ""
             }
            },
            "marker": {
             "colorbar": {
              "outlinewidth": 0,
              "ticks": ""
             }
            },
            "type": "scatter3d"
           }
          ],
          "scattercarpet": [
           {
            "marker": {
             "colorbar": {
              "outlinewidth": 0,
              "ticks": ""
             }
            },
            "type": "scattercarpet"
           }
          ],
          "scattergeo": [
           {
            "marker": {
             "colorbar": {
              "outlinewidth": 0,
              "ticks": ""
             }
            },
            "type": "scattergeo"
           }
          ],
          "scattergl": [
           {
            "marker": {
             "colorbar": {
              "outlinewidth": 0,
              "ticks": ""
             }
            },
            "type": "scattergl"
           }
          ],
          "scattermapbox": [
           {
            "marker": {
             "colorbar": {
              "outlinewidth": 0,
              "ticks": ""
             }
            },
            "type": "scattermapbox"
           }
          ],
          "scatterpolar": [
           {
            "marker": {
             "colorbar": {
              "outlinewidth": 0,
              "ticks": ""
             }
            },
            "type": "scatterpolar"
           }
          ],
          "scatterpolargl": [
           {
            "marker": {
             "colorbar": {
              "outlinewidth": 0,
              "ticks": ""
             }
            },
            "type": "scatterpolargl"
           }
          ],
          "scatterternary": [
           {
            "marker": {
             "colorbar": {
              "outlinewidth": 0,
              "ticks": ""
             }
            },
            "type": "scatterternary"
           }
          ],
          "surface": [
           {
            "colorbar": {
             "outlinewidth": 0,
             "ticks": ""
            },
            "colorscale": [
             [
              0,
              "#0d0887"
             ],
             [
              0.1111111111111111,
              "#46039f"
             ],
             [
              0.2222222222222222,
              "#7201a8"
             ],
             [
              0.3333333333333333,
              "#9c179e"
             ],
             [
              0.4444444444444444,
              "#bd3786"
             ],
             [
              0.5555555555555556,
              "#d8576b"
             ],
             [
              0.6666666666666666,
              "#ed7953"
             ],
             [
              0.7777777777777778,
              "#fb9f3a"
             ],
             [
              0.8888888888888888,
              "#fdca26"
             ],
             [
              1,
              "#f0f921"
             ]
            ],
            "type": "surface"
           }
          ],
          "table": [
           {
            "cells": {
             "fill": {
              "color": "#EBF0F8"
             },
             "line": {
              "color": "white"
             }
            },
            "header": {
             "fill": {
              "color": "#C8D4E3"
             },
             "line": {
              "color": "white"
             }
            },
            "type": "table"
           }
          ]
         },
         "layout": {
          "annotationdefaults": {
           "arrowcolor": "#2a3f5f",
           "arrowhead": 0,
           "arrowwidth": 1
          },
          "autotypenumbers": "strict",
          "coloraxis": {
           "colorbar": {
            "outlinewidth": 0,
            "ticks": ""
           }
          },
          "colorscale": {
           "diverging": [
            [
             0,
             "#8e0152"
            ],
            [
             0.1,
             "#c51b7d"
            ],
            [
             0.2,
             "#de77ae"
            ],
            [
             0.3,
             "#f1b6da"
            ],
            [
             0.4,
             "#fde0ef"
            ],
            [
             0.5,
             "#f7f7f7"
            ],
            [
             0.6,
             "#e6f5d0"
            ],
            [
             0.7,
             "#b8e186"
            ],
            [
             0.8,
             "#7fbc41"
            ],
            [
             0.9,
             "#4d9221"
            ],
            [
             1,
             "#276419"
            ]
           ],
           "sequential": [
            [
             0,
             "#0d0887"
            ],
            [
             0.1111111111111111,
             "#46039f"
            ],
            [
             0.2222222222222222,
             "#7201a8"
            ],
            [
             0.3333333333333333,
             "#9c179e"
            ],
            [
             0.4444444444444444,
             "#bd3786"
            ],
            [
             0.5555555555555556,
             "#d8576b"
            ],
            [
             0.6666666666666666,
             "#ed7953"
            ],
            [
             0.7777777777777778,
             "#fb9f3a"
            ],
            [
             0.8888888888888888,
             "#fdca26"
            ],
            [
             1,
             "#f0f921"
            ]
           ],
           "sequentialminus": [
            [
             0,
             "#0d0887"
            ],
            [
             0.1111111111111111,
             "#46039f"
            ],
            [
             0.2222222222222222,
             "#7201a8"
            ],
            [
             0.3333333333333333,
             "#9c179e"
            ],
            [
             0.4444444444444444,
             "#bd3786"
            ],
            [
             0.5555555555555556,
             "#d8576b"
            ],
            [
             0.6666666666666666,
             "#ed7953"
            ],
            [
             0.7777777777777778,
             "#fb9f3a"
            ],
            [
             0.8888888888888888,
             "#fdca26"
            ],
            [
             1,
             "#f0f921"
            ]
           ]
          },
          "colorway": [
           "#636efa",
           "#EF553B",
           "#00cc96",
           "#ab63fa",
           "#FFA15A",
           "#19d3f3",
           "#FF6692",
           "#B6E880",
           "#FF97FF",
           "#FECB52"
          ],
          "font": {
           "color": "#2a3f5f"
          },
          "geo": {
           "bgcolor": "white",
           "lakecolor": "white",
           "landcolor": "#E5ECF6",
           "showlakes": true,
           "showland": true,
           "subunitcolor": "white"
          },
          "hoverlabel": {
           "align": "left"
          },
          "hovermode": "closest",
          "mapbox": {
           "style": "light"
          },
          "paper_bgcolor": "white",
          "plot_bgcolor": "#E5ECF6",
          "polar": {
           "angularaxis": {
            "gridcolor": "white",
            "linecolor": "white",
            "ticks": ""
           },
           "bgcolor": "#E5ECF6",
           "radialaxis": {
            "gridcolor": "white",
            "linecolor": "white",
            "ticks": ""
           }
          },
          "scene": {
           "xaxis": {
            "backgroundcolor": "#E5ECF6",
            "gridcolor": "white",
            "gridwidth": 2,
            "linecolor": "white",
            "showbackground": true,
            "ticks": "",
            "zerolinecolor": "white"
           },
           "yaxis": {
            "backgroundcolor": "#E5ECF6",
            "gridcolor": "white",
            "gridwidth": 2,
            "linecolor": "white",
            "showbackground": true,
            "ticks": "",
            "zerolinecolor": "white"
           },
           "zaxis": {
            "backgroundcolor": "#E5ECF6",
            "gridcolor": "white",
            "gridwidth": 2,
            "linecolor": "white",
            "showbackground": true,
            "ticks": "",
            "zerolinecolor": "white"
           }
          },
          "shapedefaults": {
           "line": {
            "color": "#2a3f5f"
           }
          },
          "ternary": {
           "aaxis": {
            "gridcolor": "white",
            "linecolor": "white",
            "ticks": ""
           },
           "baxis": {
            "gridcolor": "white",
            "linecolor": "white",
            "ticks": ""
           },
           "bgcolor": "#E5ECF6",
           "caxis": {
            "gridcolor": "white",
            "linecolor": "white",
            "ticks": ""
           }
          },
          "title": {
           "x": 0.05
          },
          "xaxis": {
           "automargin": true,
           "gridcolor": "white",
           "linecolor": "white",
           "ticks": "",
           "title": {
            "standoff": 15
           },
           "zerolinecolor": "white",
           "zerolinewidth": 2
          },
          "yaxis": {
           "automargin": true,
           "gridcolor": "white",
           "linecolor": "white",
           "ticks": "",
           "title": {
            "standoff": 15
           },
           "zerolinecolor": "white",
           "zerolinewidth": 2
          }
         }
        },
        "title": {
         "text": "wedding"
        },
        "xaxis": {
         "anchor": "y",
         "domain": [
          0,
          1
         ],
         "title": {
          "text": "Scale"
         }
        },
        "yaxis": {
         "anchor": "x",
         "domain": [
          0,
          1
         ],
         "title": {
          "text": "Values"
         }
        }
       }
      },
      "text/html": [
       "<div>                            <div id=\"03fdabb8-3dc6-4691-99c4-5f36fa6dc430\" class=\"plotly-graph-div\" style=\"height:525px; width:100%;\"></div>            <script type=\"text/javascript\">                require([\"plotly\"], function(Plotly) {                    window.PLOTLYENV=window.PLOTLYENV || {};                                    if (document.getElementById(\"03fdabb8-3dc6-4691-99c4-5f36fa6dc430\")) {                    Plotly.newPlot(                        \"03fdabb8-3dc6-4691-99c4-5f36fa6dc430\",                        [{\"hovertemplate\":\"variable=Average Scores\\u003cbr\\u003eScale=%{x}\\u003cbr\\u003evalue=%{y}\\u003cextra\\u003e\\u003c\\u002fextra\\u003e\",\"legendgroup\":\"Average Scores\",\"line\":{\"color\":\"#636efa\",\"dash\":\"solid\"},\"marker\":{\"symbol\":\"circle\"},\"mode\":\"lines\",\"name\":\"Average Scores\",\"orientation\":\"v\",\"showlegend\":true,\"x\":[0,10,20,30,40,50,60,70,80,90,100,110],\"xaxis\":\"x\",\"y\":[0.006076388888888889,0.006076388888888889,0.016493055555555556,0.017361111111111112,0.04991319444444445,0.0954861111111111,0.1111111111111111,0.12890625,0.1232638888888889,0.1310763888888889,0.06987847222222222,0.1423611111111111],\"yaxis\":\"y\",\"type\":\"scatter\"},{\"hovertemplate\":\"variable=Average Coherence\\u003cbr\\u003eScale=%{x}\\u003cbr\\u003evalue=%{y}\\u003cextra\\u003e\\u003c\\u002fextra\\u003e\",\"legendgroup\":\"Average Coherence\",\"line\":{\"color\":\"#EF553B\",\"dash\":\"solid\"},\"marker\":{\"symbol\":\"circle\"},\"mode\":\"lines\",\"name\":\"Average Coherence\",\"orientation\":\"v\",\"showlegend\":true,\"x\":[0,10,20,30,40,50,60,70,80,90,100,110],\"xaxis\":\"x\",\"y\":[0.7699652777777778,0.7612847222222222,0.76953125,0.7673611111111112,0.7625868055555556,0.7408854166666666,0.7517361111111112,0.7478298611111112,0.7456597222222222,0.71484375,0.6636284722222222,0.6401909722222222],\"yaxis\":\"y\",\"type\":\"scatter\"},{\"hovertemplate\":\"variable=Coherence Elo\\u003cbr\\u003eScale=%{x}\\u003cbr\\u003evalue=%{y}\\u003cextra\\u003e\\u003c\\u002fextra\\u003e\",\"legendgroup\":\"Coherence Elo\",\"line\":{\"color\":\"#00cc96\",\"dash\":\"solid\"},\"marker\":{\"symbol\":\"circle\"},\"mode\":\"lines\",\"name\":\"Coherence Elo\",\"orientation\":\"v\",\"showlegend\":true,\"x\":[0,10,20,30,40,50,60,70,80,90,100,110],\"xaxis\":\"x\",\"y\":[0.5,0.49262634540797023,0.5278373082293966,0.5191308175105553,0.4809043791146391,0.5027692939202271,0.5690158465711734,0.4611085541772673,0.466474849919233,0.4521807201368336,0.4223634017886877,0.39143367253496036],\"yaxis\":\"y\",\"type\":\"scatter\"},{\"hovertemplate\":\"variable=Eval Elo\\u003cbr\\u003eScale=%{x}\\u003cbr\\u003evalue=%{y}\\u003cextra\\u003e\\u003c\\u002fextra\\u003e\",\"legendgroup\":\"Eval Elo\",\"line\":{\"color\":\"#ab63fa\",\"dash\":\"solid\"},\"marker\":{\"symbol\":\"circle\"},\"mode\":\"lines\",\"name\":\"Eval Elo\",\"orientation\":\"v\",\"showlegend\":true,\"x\":[0,10,20,30,40,50,60,70,80,90,100,110],\"xaxis\":\"x\",\"y\":[0.5,0.5045900852983745,0.5462054674645522,0.5254863771611022,0.6154953009680334,0.6346459495296921,0.6646110326713851,0.664743398330312,0.6681714293041482,0.6459630129627703,0.6780678026051068,0.6976833202054774],\"yaxis\":\"y\",\"type\":\"scatter\"}],                        {\"template\":{\"data\":{\"histogram2dcontour\":[{\"type\":\"histogram2dcontour\",\"colorbar\":{\"outlinewidth\":0,\"ticks\":\"\"},\"colorscale\":[[0.0,\"#0d0887\"],[0.1111111111111111,\"#46039f\"],[0.2222222222222222,\"#7201a8\"],[0.3333333333333333,\"#9c179e\"],[0.4444444444444444,\"#bd3786\"],[0.5555555555555556,\"#d8576b\"],[0.6666666666666666,\"#ed7953\"],[0.7777777777777778,\"#fb9f3a\"],[0.8888888888888888,\"#fdca26\"],[1.0,\"#f0f921\"]]}],\"choropleth\":[{\"type\":\"choropleth\",\"colorbar\":{\"outlinewidth\":0,\"ticks\":\"\"}}],\"histogram2d\":[{\"type\":\"histogram2d\",\"colorbar\":{\"outlinewidth\":0,\"ticks\":\"\"},\"colorscale\":[[0.0,\"#0d0887\"],[0.1111111111111111,\"#46039f\"],[0.2222222222222222,\"#7201a8\"],[0.3333333333333333,\"#9c179e\"],[0.4444444444444444,\"#bd3786\"],[0.5555555555555556,\"#d8576b\"],[0.6666666666666666,\"#ed7953\"],[0.7777777777777778,\"#fb9f3a\"],[0.8888888888888888,\"#fdca26\"],[1.0,\"#f0f921\"]]}],\"heatmap\":[{\"type\":\"heatmap\",\"colorbar\":{\"outlinewidth\":0,\"ticks\":\"\"},\"colorscale\":[[0.0,\"#0d0887\"],[0.1111111111111111,\"#46039f\"],[0.2222222222222222,\"#7201a8\"],[0.3333333333333333,\"#9c179e\"],[0.4444444444444444,\"#bd3786\"],[0.5555555555555556,\"#d8576b\"],[0.6666666666666666,\"#ed7953\"],[0.7777777777777778,\"#fb9f3a\"],[0.8888888888888888,\"#fdca26\"],[1.0,\"#f0f921\"]]}],\"heatmapgl\":[{\"type\":\"heatmapgl\",\"colorbar\":{\"outlinewidth\":0,\"ticks\":\"\"},\"colorscale\":[[0.0,\"#0d0887\"],[0.1111111111111111,\"#46039f\"],[0.2222222222222222,\"#7201a8\"],[0.3333333333333333,\"#9c179e\"],[0.4444444444444444,\"#bd3786\"],[0.5555555555555556,\"#d8576b\"],[0.6666666666666666,\"#ed7953\"],[0.7777777777777778,\"#fb9f3a\"],[0.8888888888888888,\"#fdca26\"],[1.0,\"#f0f921\"]]}],\"contourcarpet\":[{\"type\":\"contourcarpet\",\"colorbar\":{\"outlinewidth\":0,\"ticks\":\"\"}}],\"contour\":[{\"type\":\"contour\",\"colorbar\":{\"outlinewidth\":0,\"ticks\":\"\"},\"colorscale\":[[0.0,\"#0d0887\"],[0.1111111111111111,\"#46039f\"],[0.2222222222222222,\"#7201a8\"],[0.3333333333333333,\"#9c179e\"],[0.4444444444444444,\"#bd3786\"],[0.5555555555555556,\"#d8576b\"],[0.6666666666666666,\"#ed7953\"],[0.7777777777777778,\"#fb9f3a\"],[0.8888888888888888,\"#fdca26\"],[1.0,\"#f0f921\"]]}],\"surface\":[{\"type\":\"surface\",\"colorbar\":{\"outlinewidth\":0,\"ticks\":\"\"},\"colorscale\":[[0.0,\"#0d0887\"],[0.1111111111111111,\"#46039f\"],[0.2222222222222222,\"#7201a8\"],[0.3333333333333333,\"#9c179e\"],[0.4444444444444444,\"#bd3786\"],[0.5555555555555556,\"#d8576b\"],[0.6666666666666666,\"#ed7953\"],[0.7777777777777778,\"#fb9f3a\"],[0.8888888888888888,\"#fdca26\"],[1.0,\"#f0f921\"]]}],\"mesh3d\":[{\"type\":\"mesh3d\",\"colorbar\":{\"outlinewidth\":0,\"ticks\":\"\"}}],\"scatter\":[{\"fillpattern\":{\"fillmode\":\"overlay\",\"size\":10,\"solidity\":0.2},\"type\":\"scatter\"}],\"parcoords\":[{\"type\":\"parcoords\",\"line\":{\"colorbar\":{\"outlinewidth\":0,\"ticks\":\"\"}}}],\"scatterpolargl\":[{\"type\":\"scatterpolargl\",\"marker\":{\"colorbar\":{\"outlinewidth\":0,\"ticks\":\"\"}}}],\"bar\":[{\"error_x\":{\"color\":\"#2a3f5f\"},\"error_y\":{\"color\":\"#2a3f5f\"},\"marker\":{\"line\":{\"color\":\"#E5ECF6\",\"width\":0.5},\"pattern\":{\"fillmode\":\"overlay\",\"size\":10,\"solidity\":0.2}},\"type\":\"bar\"}],\"scattergeo\":[{\"type\":\"scattergeo\",\"marker\":{\"colorbar\":{\"outlinewidth\":0,\"ticks\":\"\"}}}],\"scatterpolar\":[{\"type\":\"scatterpolar\",\"marker\":{\"colorbar\":{\"outlinewidth\":0,\"ticks\":\"\"}}}],\"histogram\":[{\"marker\":{\"pattern\":{\"fillmode\":\"overlay\",\"size\":10,\"solidity\":0.2}},\"type\":\"histogram\"}],\"scattergl\":[{\"type\":\"scattergl\",\"marker\":{\"colorbar\":{\"outlinewidth\":0,\"ticks\":\"\"}}}],\"scatter3d\":[{\"type\":\"scatter3d\",\"line\":{\"colorbar\":{\"outlinewidth\":0,\"ticks\":\"\"}},\"marker\":{\"colorbar\":{\"outlinewidth\":0,\"ticks\":\"\"}}}],\"scattermapbox\":[{\"type\":\"scattermapbox\",\"marker\":{\"colorbar\":{\"outlinewidth\":0,\"ticks\":\"\"}}}],\"scatterternary\":[{\"type\":\"scatterternary\",\"marker\":{\"colorbar\":{\"outlinewidth\":0,\"ticks\":\"\"}}}],\"scattercarpet\":[{\"type\":\"scattercarpet\",\"marker\":{\"colorbar\":{\"outlinewidth\":0,\"ticks\":\"\"}}}],\"carpet\":[{\"aaxis\":{\"endlinecolor\":\"#2a3f5f\",\"gridcolor\":\"white\",\"linecolor\":\"white\",\"minorgridcolor\":\"white\",\"startlinecolor\":\"#2a3f5f\"},\"baxis\":{\"endlinecolor\":\"#2a3f5f\",\"gridcolor\":\"white\",\"linecolor\":\"white\",\"minorgridcolor\":\"white\",\"startlinecolor\":\"#2a3f5f\"},\"type\":\"carpet\"}],\"table\":[{\"cells\":{\"fill\":{\"color\":\"#EBF0F8\"},\"line\":{\"color\":\"white\"}},\"header\":{\"fill\":{\"color\":\"#C8D4E3\"},\"line\":{\"color\":\"white\"}},\"type\":\"table\"}],\"barpolar\":[{\"marker\":{\"line\":{\"color\":\"#E5ECF6\",\"width\":0.5},\"pattern\":{\"fillmode\":\"overlay\",\"size\":10,\"solidity\":0.2}},\"type\":\"barpolar\"}],\"pie\":[{\"automargin\":true,\"type\":\"pie\"}]},\"layout\":{\"autotypenumbers\":\"strict\",\"colorway\":[\"#636efa\",\"#EF553B\",\"#00cc96\",\"#ab63fa\",\"#FFA15A\",\"#19d3f3\",\"#FF6692\",\"#B6E880\",\"#FF97FF\",\"#FECB52\"],\"font\":{\"color\":\"#2a3f5f\"},\"hovermode\":\"closest\",\"hoverlabel\":{\"align\":\"left\"},\"paper_bgcolor\":\"white\",\"plot_bgcolor\":\"#E5ECF6\",\"polar\":{\"bgcolor\":\"#E5ECF6\",\"angularaxis\":{\"gridcolor\":\"white\",\"linecolor\":\"white\",\"ticks\":\"\"},\"radialaxis\":{\"gridcolor\":\"white\",\"linecolor\":\"white\",\"ticks\":\"\"}},\"ternary\":{\"bgcolor\":\"#E5ECF6\",\"aaxis\":{\"gridcolor\":\"white\",\"linecolor\":\"white\",\"ticks\":\"\"},\"baxis\":{\"gridcolor\":\"white\",\"linecolor\":\"white\",\"ticks\":\"\"},\"caxis\":{\"gridcolor\":\"white\",\"linecolor\":\"white\",\"ticks\":\"\"}},\"coloraxis\":{\"colorbar\":{\"outlinewidth\":0,\"ticks\":\"\"}},\"colorscale\":{\"sequential\":[[0.0,\"#0d0887\"],[0.1111111111111111,\"#46039f\"],[0.2222222222222222,\"#7201a8\"],[0.3333333333333333,\"#9c179e\"],[0.4444444444444444,\"#bd3786\"],[0.5555555555555556,\"#d8576b\"],[0.6666666666666666,\"#ed7953\"],[0.7777777777777778,\"#fb9f3a\"],[0.8888888888888888,\"#fdca26\"],[1.0,\"#f0f921\"]],\"sequentialminus\":[[0.0,\"#0d0887\"],[0.1111111111111111,\"#46039f\"],[0.2222222222222222,\"#7201a8\"],[0.3333333333333333,\"#9c179e\"],[0.4444444444444444,\"#bd3786\"],[0.5555555555555556,\"#d8576b\"],[0.6666666666666666,\"#ed7953\"],[0.7777777777777778,\"#fb9f3a\"],[0.8888888888888888,\"#fdca26\"],[1.0,\"#f0f921\"]],\"diverging\":[[0,\"#8e0152\"],[0.1,\"#c51b7d\"],[0.2,\"#de77ae\"],[0.3,\"#f1b6da\"],[0.4,\"#fde0ef\"],[0.5,\"#f7f7f7\"],[0.6,\"#e6f5d0\"],[0.7,\"#b8e186\"],[0.8,\"#7fbc41\"],[0.9,\"#4d9221\"],[1,\"#276419\"]]},\"xaxis\":{\"gridcolor\":\"white\",\"linecolor\":\"white\",\"ticks\":\"\",\"title\":{\"standoff\":15},\"zerolinecolor\":\"white\",\"automargin\":true,\"zerolinewidth\":2},\"yaxis\":{\"gridcolor\":\"white\",\"linecolor\":\"white\",\"ticks\":\"\",\"title\":{\"standoff\":15},\"zerolinecolor\":\"white\",\"automargin\":true,\"zerolinewidth\":2},\"scene\":{\"xaxis\":{\"backgroundcolor\":\"#E5ECF6\",\"gridcolor\":\"white\",\"linecolor\":\"white\",\"showbackground\":true,\"ticks\":\"\",\"zerolinecolor\":\"white\",\"gridwidth\":2},\"yaxis\":{\"backgroundcolor\":\"#E5ECF6\",\"gridcolor\":\"white\",\"linecolor\":\"white\",\"showbackground\":true,\"ticks\":\"\",\"zerolinecolor\":\"white\",\"gridwidth\":2},\"zaxis\":{\"backgroundcolor\":\"#E5ECF6\",\"gridcolor\":\"white\",\"linecolor\":\"white\",\"showbackground\":true,\"ticks\":\"\",\"zerolinecolor\":\"white\",\"gridwidth\":2}},\"shapedefaults\":{\"line\":{\"color\":\"#2a3f5f\"}},\"annotationdefaults\":{\"arrowcolor\":\"#2a3f5f\",\"arrowhead\":0,\"arrowwidth\":1},\"geo\":{\"bgcolor\":\"white\",\"landcolor\":\"#E5ECF6\",\"subunitcolor\":\"white\",\"showland\":true,\"showlakes\":true,\"lakecolor\":\"white\"},\"title\":{\"x\":0.05},\"mapbox\":{\"style\":\"light\"}}},\"xaxis\":{\"anchor\":\"y\",\"domain\":[0.0,1.0],\"title\":{\"text\":\"Scale\"}},\"yaxis\":{\"anchor\":\"x\",\"domain\":[0.0,1.0],\"title\":{\"text\":\"Values\"}},\"legend\":{\"title\":{\"text\":\"Metrics\"},\"tracegroupgap\":0},\"title\":{\"text\":\"wedding\"}},                        {\"responsive\": true}                    ).then(function(){\n",
       "                            \n",
       "var gd = document.getElementById('03fdabb8-3dc6-4691-99c4-5f36fa6dc430');\n",
       "var x = new MutationObserver(function (mutations, observer) {{\n",
       "        var display = window.getComputedStyle(gd).display;\n",
       "        if (!display || display === 'none') {{\n",
       "            console.log([gd, 'removed!']);\n",
       "            Plotly.purge(gd);\n",
       "            observer.disconnect();\n",
       "        }}\n",
       "}});\n",
       "\n",
       "// Listen for the removal of the full notebook cells\n",
       "var notebookContainer = gd.closest('#notebook-container');\n",
       "if (notebookContainer) {{\n",
       "    x.observe(notebookContainer, {childList: true});\n",
       "}}\n",
       "\n",
       "// Listen for the clearing of the current output cell\n",
       "var outputEl = gd.closest('.output');\n",
       "if (outputEl) {{\n",
       "    x.observe(outputEl, {childList: true});\n",
       "}}\n",
       "\n",
       "                        })                };                });            </script>        </div>"
      ]
     },
     "metadata": {},
     "output_type": "display_data"
    }
   ],
   "source": [
    "df = pd.DataFrame({\n",
    "    'Scale': scales,\n",
    "    'Average Scores': avg_scores,\n",
    "    'Average Coherence': avg_coherence,\n",
    "    'Coherence Elo': c_p_win,\n",
    "    'Eval Elo': e_p_win,\n",
    "})\n",
    "\n",
    "fig = px.line(df, x='Scale', y=['Average Scores', 'Average Coherence', 'Coherence Elo', 'Eval Elo'],\n",
    "              title=name)\n",
    "\n",
    "fig.update_layout(\n",
    "    xaxis_title=\"Scale\",\n",
    "    yaxis_title=\"Values\",\n",
    "    legend_title=\"Metrics\"\n",
    ")\n",
    "\n",
    "# Show the plot\n",
    "fig.show()"
   ]
  },
  {
   "cell_type": "code",
   "execution_count": 38,
   "metadata": {},
   "outputs": [
    {
     "data": {
      "application/vnd.plotly.v1+json": {
       "config": {
        "plotlyServerURL": "https://plot.ly"
       },
       "data": [
        {
         "hovertemplate": "variable=Coherence Elo<br>Scale=%{x}<br>value=%{y}<extra></extra>",
         "legendgroup": "Coherence Elo",
         "line": {
          "color": "#636efa",
          "dash": "solid"
         },
         "marker": {
          "symbol": "circle"
         },
         "mode": "lines",
         "name": "Coherence Elo",
         "orientation": "v",
         "showlegend": true,
         "type": "scatter",
         "x": [
          0,
          10,
          20,
          30,
          40,
          50,
          60,
          70,
          80,
          90,
          100,
          110
         ],
         "xaxis": "x",
         "y": [
          0.5,
          0.49262634540797023,
          0.5278373082293966,
          0.5191308175105553,
          0.4809043791146391,
          0.5027692939202271,
          0.5690158465711734,
          0.4611085541772673,
          0.466474849919233,
          0.4521807201368336,
          0.4223634017886877,
          0.39143367253496036
         ],
         "yaxis": "y"
        },
        {
         "hovertemplate": "variable=Eval Elo<br>Scale=%{x}<br>value=%{y}<extra></extra>",
         "legendgroup": "Eval Elo",
         "line": {
          "color": "#EF553B",
          "dash": "solid"
         },
         "marker": {
          "symbol": "circle"
         },
         "mode": "lines",
         "name": "Eval Elo",
         "orientation": "v",
         "showlegend": true,
         "type": "scatter",
         "x": [
          0,
          10,
          20,
          30,
          40,
          50,
          60,
          70,
          80,
          90,
          100,
          110
         ],
         "xaxis": "x",
         "y": [
          0.5,
          0.5045900852983745,
          0.5462054674645522,
          0.5254863771611022,
          0.6154953009680334,
          0.6346459495296921,
          0.6646110326713851,
          0.664743398330312,
          0.6681714293041482,
          0.6459630129627703,
          0.6780678026051068,
          0.6976833202054774
         ],
         "yaxis": "y"
        },
        {
         "hovertemplate": "variable=Score * Coherence<br>Scale=%{x}<br>value=%{y}<extra></extra>",
         "legendgroup": "Score * Coherence",
         "line": {
          "color": "#00cc96",
          "dash": "solid"
         },
         "marker": {
          "symbol": "circle"
         },
         "mode": "lines",
         "name": "Score * Coherence",
         "orientation": "v",
         "showlegend": true,
         "type": "scatter",
         "x": [
          0,
          10,
          20,
          30,
          40,
          50,
          60,
          70,
          80,
          90,
          100,
          110
         ],
         "xaxis": "x",
         "y": [
          0.25,
          0.24857436964963417,
          0.2883076236866685,
          0.272796172566303,
          0.29599438556001006,
          0.3190804959343754,
          0.37817420939605,
          0.30651886730297345,
          0.3116851672049719,
          0.2920920203832642,
          0.2863910237516733,
          0.2730967442944147
         ],
         "yaxis": "y"
        }
       ],
       "layout": {
        "legend": {
         "title": {
          "text": "Metrics"
         },
         "tracegroupgap": 0
        },
        "template": {
         "data": {
          "bar": [
           {
            "error_x": {
             "color": "#2a3f5f"
            },
            "error_y": {
             "color": "#2a3f5f"
            },
            "marker": {
             "line": {
              "color": "#E5ECF6",
              "width": 0.5
             },
             "pattern": {
              "fillmode": "overlay",
              "size": 10,
              "solidity": 0.2
             }
            },
            "type": "bar"
           }
          ],
          "barpolar": [
           {
            "marker": {
             "line": {
              "color": "#E5ECF6",
              "width": 0.5
             },
             "pattern": {
              "fillmode": "overlay",
              "size": 10,
              "solidity": 0.2
             }
            },
            "type": "barpolar"
           }
          ],
          "carpet": [
           {
            "aaxis": {
             "endlinecolor": "#2a3f5f",
             "gridcolor": "white",
             "linecolor": "white",
             "minorgridcolor": "white",
             "startlinecolor": "#2a3f5f"
            },
            "baxis": {
             "endlinecolor": "#2a3f5f",
             "gridcolor": "white",
             "linecolor": "white",
             "minorgridcolor": "white",
             "startlinecolor": "#2a3f5f"
            },
            "type": "carpet"
           }
          ],
          "choropleth": [
           {
            "colorbar": {
             "outlinewidth": 0,
             "ticks": ""
            },
            "type": "choropleth"
           }
          ],
          "contour": [
           {
            "colorbar": {
             "outlinewidth": 0,
             "ticks": ""
            },
            "colorscale": [
             [
              0,
              "#0d0887"
             ],
             [
              0.1111111111111111,
              "#46039f"
             ],
             [
              0.2222222222222222,
              "#7201a8"
             ],
             [
              0.3333333333333333,
              "#9c179e"
             ],
             [
              0.4444444444444444,
              "#bd3786"
             ],
             [
              0.5555555555555556,
              "#d8576b"
             ],
             [
              0.6666666666666666,
              "#ed7953"
             ],
             [
              0.7777777777777778,
              "#fb9f3a"
             ],
             [
              0.8888888888888888,
              "#fdca26"
             ],
             [
              1,
              "#f0f921"
             ]
            ],
            "type": "contour"
           }
          ],
          "contourcarpet": [
           {
            "colorbar": {
             "outlinewidth": 0,
             "ticks": ""
            },
            "type": "contourcarpet"
           }
          ],
          "heatmap": [
           {
            "colorbar": {
             "outlinewidth": 0,
             "ticks": ""
            },
            "colorscale": [
             [
              0,
              "#0d0887"
             ],
             [
              0.1111111111111111,
              "#46039f"
             ],
             [
              0.2222222222222222,
              "#7201a8"
             ],
             [
              0.3333333333333333,
              "#9c179e"
             ],
             [
              0.4444444444444444,
              "#bd3786"
             ],
             [
              0.5555555555555556,
              "#d8576b"
             ],
             [
              0.6666666666666666,
              "#ed7953"
             ],
             [
              0.7777777777777778,
              "#fb9f3a"
             ],
             [
              0.8888888888888888,
              "#fdca26"
             ],
             [
              1,
              "#f0f921"
             ]
            ],
            "type": "heatmap"
           }
          ],
          "heatmapgl": [
           {
            "colorbar": {
             "outlinewidth": 0,
             "ticks": ""
            },
            "colorscale": [
             [
              0,
              "#0d0887"
             ],
             [
              0.1111111111111111,
              "#46039f"
             ],
             [
              0.2222222222222222,
              "#7201a8"
             ],
             [
              0.3333333333333333,
              "#9c179e"
             ],
             [
              0.4444444444444444,
              "#bd3786"
             ],
             [
              0.5555555555555556,
              "#d8576b"
             ],
             [
              0.6666666666666666,
              "#ed7953"
             ],
             [
              0.7777777777777778,
              "#fb9f3a"
             ],
             [
              0.8888888888888888,
              "#fdca26"
             ],
             [
              1,
              "#f0f921"
             ]
            ],
            "type": "heatmapgl"
           }
          ],
          "histogram": [
           {
            "marker": {
             "pattern": {
              "fillmode": "overlay",
              "size": 10,
              "solidity": 0.2
             }
            },
            "type": "histogram"
           }
          ],
          "histogram2d": [
           {
            "colorbar": {
             "outlinewidth": 0,
             "ticks": ""
            },
            "colorscale": [
             [
              0,
              "#0d0887"
             ],
             [
              0.1111111111111111,
              "#46039f"
             ],
             [
              0.2222222222222222,
              "#7201a8"
             ],
             [
              0.3333333333333333,
              "#9c179e"
             ],
             [
              0.4444444444444444,
              "#bd3786"
             ],
             [
              0.5555555555555556,
              "#d8576b"
             ],
             [
              0.6666666666666666,
              "#ed7953"
             ],
             [
              0.7777777777777778,
              "#fb9f3a"
             ],
             [
              0.8888888888888888,
              "#fdca26"
             ],
             [
              1,
              "#f0f921"
             ]
            ],
            "type": "histogram2d"
           }
          ],
          "histogram2dcontour": [
           {
            "colorbar": {
             "outlinewidth": 0,
             "ticks": ""
            },
            "colorscale": [
             [
              0,
              "#0d0887"
             ],
             [
              0.1111111111111111,
              "#46039f"
             ],
             [
              0.2222222222222222,
              "#7201a8"
             ],
             [
              0.3333333333333333,
              "#9c179e"
             ],
             [
              0.4444444444444444,
              "#bd3786"
             ],
             [
              0.5555555555555556,
              "#d8576b"
             ],
             [
              0.6666666666666666,
              "#ed7953"
             ],
             [
              0.7777777777777778,
              "#fb9f3a"
             ],
             [
              0.8888888888888888,
              "#fdca26"
             ],
             [
              1,
              "#f0f921"
             ]
            ],
            "type": "histogram2dcontour"
           }
          ],
          "mesh3d": [
           {
            "colorbar": {
             "outlinewidth": 0,
             "ticks": ""
            },
            "type": "mesh3d"
           }
          ],
          "parcoords": [
           {
            "line": {
             "colorbar": {
              "outlinewidth": 0,
              "ticks": ""
             }
            },
            "type": "parcoords"
           }
          ],
          "pie": [
           {
            "automargin": true,
            "type": "pie"
           }
          ],
          "scatter": [
           {
            "fillpattern": {
             "fillmode": "overlay",
             "size": 10,
             "solidity": 0.2
            },
            "type": "scatter"
           }
          ],
          "scatter3d": [
           {
            "line": {
             "colorbar": {
              "outlinewidth": 0,
              "ticks": ""
             }
            },
            "marker": {
             "colorbar": {
              "outlinewidth": 0,
              "ticks": ""
             }
            },
            "type": "scatter3d"
           }
          ],
          "scattercarpet": [
           {
            "marker": {
             "colorbar": {
              "outlinewidth": 0,
              "ticks": ""
             }
            },
            "type": "scattercarpet"
           }
          ],
          "scattergeo": [
           {
            "marker": {
             "colorbar": {
              "outlinewidth": 0,
              "ticks": ""
             }
            },
            "type": "scattergeo"
           }
          ],
          "scattergl": [
           {
            "marker": {
             "colorbar": {
              "outlinewidth": 0,
              "ticks": ""
             }
            },
            "type": "scattergl"
           }
          ],
          "scattermapbox": [
           {
            "marker": {
             "colorbar": {
              "outlinewidth": 0,
              "ticks": ""
             }
            },
            "type": "scattermapbox"
           }
          ],
          "scatterpolar": [
           {
            "marker": {
             "colorbar": {
              "outlinewidth": 0,
              "ticks": ""
             }
            },
            "type": "scatterpolar"
           }
          ],
          "scatterpolargl": [
           {
            "marker": {
             "colorbar": {
              "outlinewidth": 0,
              "ticks": ""
             }
            },
            "type": "scatterpolargl"
           }
          ],
          "scatterternary": [
           {
            "marker": {
             "colorbar": {
              "outlinewidth": 0,
              "ticks": ""
             }
            },
            "type": "scatterternary"
           }
          ],
          "surface": [
           {
            "colorbar": {
             "outlinewidth": 0,
             "ticks": ""
            },
            "colorscale": [
             [
              0,
              "#0d0887"
             ],
             [
              0.1111111111111111,
              "#46039f"
             ],
             [
              0.2222222222222222,
              "#7201a8"
             ],
             [
              0.3333333333333333,
              "#9c179e"
             ],
             [
              0.4444444444444444,
              "#bd3786"
             ],
             [
              0.5555555555555556,
              "#d8576b"
             ],
             [
              0.6666666666666666,
              "#ed7953"
             ],
             [
              0.7777777777777778,
              "#fb9f3a"
             ],
             [
              0.8888888888888888,
              "#fdca26"
             ],
             [
              1,
              "#f0f921"
             ]
            ],
            "type": "surface"
           }
          ],
          "table": [
           {
            "cells": {
             "fill": {
              "color": "#EBF0F8"
             },
             "line": {
              "color": "white"
             }
            },
            "header": {
             "fill": {
              "color": "#C8D4E3"
             },
             "line": {
              "color": "white"
             }
            },
            "type": "table"
           }
          ]
         },
         "layout": {
          "annotationdefaults": {
           "arrowcolor": "#2a3f5f",
           "arrowhead": 0,
           "arrowwidth": 1
          },
          "autotypenumbers": "strict",
          "coloraxis": {
           "colorbar": {
            "outlinewidth": 0,
            "ticks": ""
           }
          },
          "colorscale": {
           "diverging": [
            [
             0,
             "#8e0152"
            ],
            [
             0.1,
             "#c51b7d"
            ],
            [
             0.2,
             "#de77ae"
            ],
            [
             0.3,
             "#f1b6da"
            ],
            [
             0.4,
             "#fde0ef"
            ],
            [
             0.5,
             "#f7f7f7"
            ],
            [
             0.6,
             "#e6f5d0"
            ],
            [
             0.7,
             "#b8e186"
            ],
            [
             0.8,
             "#7fbc41"
            ],
            [
             0.9,
             "#4d9221"
            ],
            [
             1,
             "#276419"
            ]
           ],
           "sequential": [
            [
             0,
             "#0d0887"
            ],
            [
             0.1111111111111111,
             "#46039f"
            ],
            [
             0.2222222222222222,
             "#7201a8"
            ],
            [
             0.3333333333333333,
             "#9c179e"
            ],
            [
             0.4444444444444444,
             "#bd3786"
            ],
            [
             0.5555555555555556,
             "#d8576b"
            ],
            [
             0.6666666666666666,
             "#ed7953"
            ],
            [
             0.7777777777777778,
             "#fb9f3a"
            ],
            [
             0.8888888888888888,
             "#fdca26"
            ],
            [
             1,
             "#f0f921"
            ]
           ],
           "sequentialminus": [
            [
             0,
             "#0d0887"
            ],
            [
             0.1111111111111111,
             "#46039f"
            ],
            [
             0.2222222222222222,
             "#7201a8"
            ],
            [
             0.3333333333333333,
             "#9c179e"
            ],
            [
             0.4444444444444444,
             "#bd3786"
            ],
            [
             0.5555555555555556,
             "#d8576b"
            ],
            [
             0.6666666666666666,
             "#ed7953"
            ],
            [
             0.7777777777777778,
             "#fb9f3a"
            ],
            [
             0.8888888888888888,
             "#fdca26"
            ],
            [
             1,
             "#f0f921"
            ]
           ]
          },
          "colorway": [
           "#636efa",
           "#EF553B",
           "#00cc96",
           "#ab63fa",
           "#FFA15A",
           "#19d3f3",
           "#FF6692",
           "#B6E880",
           "#FF97FF",
           "#FECB52"
          ],
          "font": {
           "color": "#2a3f5f"
          },
          "geo": {
           "bgcolor": "white",
           "lakecolor": "white",
           "landcolor": "#E5ECF6",
           "showlakes": true,
           "showland": true,
           "subunitcolor": "white"
          },
          "hoverlabel": {
           "align": "left"
          },
          "hovermode": "closest",
          "mapbox": {
           "style": "light"
          },
          "paper_bgcolor": "white",
          "plot_bgcolor": "#E5ECF6",
          "polar": {
           "angularaxis": {
            "gridcolor": "white",
            "linecolor": "white",
            "ticks": ""
           },
           "bgcolor": "#E5ECF6",
           "radialaxis": {
            "gridcolor": "white",
            "linecolor": "white",
            "ticks": ""
           }
          },
          "scene": {
           "xaxis": {
            "backgroundcolor": "#E5ECF6",
            "gridcolor": "white",
            "gridwidth": 2,
            "linecolor": "white",
            "showbackground": true,
            "ticks": "",
            "zerolinecolor": "white"
           },
           "yaxis": {
            "backgroundcolor": "#E5ECF6",
            "gridcolor": "white",
            "gridwidth": 2,
            "linecolor": "white",
            "showbackground": true,
            "ticks": "",
            "zerolinecolor": "white"
           },
           "zaxis": {
            "backgroundcolor": "#E5ECF6",
            "gridcolor": "white",
            "gridwidth": 2,
            "linecolor": "white",
            "showbackground": true,
            "ticks": "",
            "zerolinecolor": "white"
           }
          },
          "shapedefaults": {
           "line": {
            "color": "#2a3f5f"
           }
          },
          "ternary": {
           "aaxis": {
            "gridcolor": "white",
            "linecolor": "white",
            "ticks": ""
           },
           "baxis": {
            "gridcolor": "white",
            "linecolor": "white",
            "ticks": ""
           },
           "bgcolor": "#E5ECF6",
           "caxis": {
            "gridcolor": "white",
            "linecolor": "white",
            "ticks": ""
           }
          },
          "title": {
           "x": 0.05
          },
          "xaxis": {
           "automargin": true,
           "gridcolor": "white",
           "linecolor": "white",
           "ticks": "",
           "title": {
            "standoff": 15
           },
           "zerolinecolor": "white",
           "zerolinewidth": 2
          },
          "yaxis": {
           "automargin": true,
           "gridcolor": "white",
           "linecolor": "white",
           "ticks": "",
           "title": {
            "standoff": 15
           },
           "zerolinecolor": "white",
           "zerolinewidth": 2
          }
         }
        },
        "title": {
         "text": "wedding"
        },
        "xaxis": {
         "anchor": "y",
         "domain": [
          0,
          1
         ],
         "title": {
          "text": "Scale"
         }
        },
        "yaxis": {
         "anchor": "x",
         "domain": [
          0,
          1
         ],
         "title": {
          "text": "Values"
         }
        }
       }
      },
      "text/html": [
       "<div>                            <div id=\"26b4aa48-fe54-427c-803c-5b3083c12673\" class=\"plotly-graph-div\" style=\"height:525px; width:100%;\"></div>            <script type=\"text/javascript\">                require([\"plotly\"], function(Plotly) {                    window.PLOTLYENV=window.PLOTLYENV || {};                                    if (document.getElementById(\"26b4aa48-fe54-427c-803c-5b3083c12673\")) {                    Plotly.newPlot(                        \"26b4aa48-fe54-427c-803c-5b3083c12673\",                        [{\"hovertemplate\":\"variable=Coherence Elo\\u003cbr\\u003eScale=%{x}\\u003cbr\\u003evalue=%{y}\\u003cextra\\u003e\\u003c\\u002fextra\\u003e\",\"legendgroup\":\"Coherence Elo\",\"line\":{\"color\":\"#636efa\",\"dash\":\"solid\"},\"marker\":{\"symbol\":\"circle\"},\"mode\":\"lines\",\"name\":\"Coherence Elo\",\"orientation\":\"v\",\"showlegend\":true,\"x\":[0,10,20,30,40,50,60,70,80,90,100,110],\"xaxis\":\"x\",\"y\":[0.5,0.49262634540797023,0.5278373082293966,0.5191308175105553,0.4809043791146391,0.5027692939202271,0.5690158465711734,0.4611085541772673,0.466474849919233,0.4521807201368336,0.4223634017886877,0.39143367253496036],\"yaxis\":\"y\",\"type\":\"scatter\"},{\"hovertemplate\":\"variable=Eval Elo\\u003cbr\\u003eScale=%{x}\\u003cbr\\u003evalue=%{y}\\u003cextra\\u003e\\u003c\\u002fextra\\u003e\",\"legendgroup\":\"Eval Elo\",\"line\":{\"color\":\"#EF553B\",\"dash\":\"solid\"},\"marker\":{\"symbol\":\"circle\"},\"mode\":\"lines\",\"name\":\"Eval Elo\",\"orientation\":\"v\",\"showlegend\":true,\"x\":[0,10,20,30,40,50,60,70,80,90,100,110],\"xaxis\":\"x\",\"y\":[0.5,0.5045900852983745,0.5462054674645522,0.5254863771611022,0.6154953009680334,0.6346459495296921,0.6646110326713851,0.664743398330312,0.6681714293041482,0.6459630129627703,0.6780678026051068,0.6976833202054774],\"yaxis\":\"y\",\"type\":\"scatter\"},{\"hovertemplate\":\"variable=Score * Coherence\\u003cbr\\u003eScale=%{x}\\u003cbr\\u003evalue=%{y}\\u003cextra\\u003e\\u003c\\u002fextra\\u003e\",\"legendgroup\":\"Score * Coherence\",\"line\":{\"color\":\"#00cc96\",\"dash\":\"solid\"},\"marker\":{\"symbol\":\"circle\"},\"mode\":\"lines\",\"name\":\"Score * Coherence\",\"orientation\":\"v\",\"showlegend\":true,\"x\":[0,10,20,30,40,50,60,70,80,90,100,110],\"xaxis\":\"x\",\"y\":[0.25,0.24857436964963417,0.2883076236866685,0.272796172566303,0.29599438556001006,0.3190804959343754,0.37817420939605,0.30651886730297345,0.3116851672049719,0.2920920203832642,0.2863910237516733,0.2730967442944147],\"yaxis\":\"y\",\"type\":\"scatter\"}],                        {\"template\":{\"data\":{\"histogram2dcontour\":[{\"type\":\"histogram2dcontour\",\"colorbar\":{\"outlinewidth\":0,\"ticks\":\"\"},\"colorscale\":[[0.0,\"#0d0887\"],[0.1111111111111111,\"#46039f\"],[0.2222222222222222,\"#7201a8\"],[0.3333333333333333,\"#9c179e\"],[0.4444444444444444,\"#bd3786\"],[0.5555555555555556,\"#d8576b\"],[0.6666666666666666,\"#ed7953\"],[0.7777777777777778,\"#fb9f3a\"],[0.8888888888888888,\"#fdca26\"],[1.0,\"#f0f921\"]]}],\"choropleth\":[{\"type\":\"choropleth\",\"colorbar\":{\"outlinewidth\":0,\"ticks\":\"\"}}],\"histogram2d\":[{\"type\":\"histogram2d\",\"colorbar\":{\"outlinewidth\":0,\"ticks\":\"\"},\"colorscale\":[[0.0,\"#0d0887\"],[0.1111111111111111,\"#46039f\"],[0.2222222222222222,\"#7201a8\"],[0.3333333333333333,\"#9c179e\"],[0.4444444444444444,\"#bd3786\"],[0.5555555555555556,\"#d8576b\"],[0.6666666666666666,\"#ed7953\"],[0.7777777777777778,\"#fb9f3a\"],[0.8888888888888888,\"#fdca26\"],[1.0,\"#f0f921\"]]}],\"heatmap\":[{\"type\":\"heatmap\",\"colorbar\":{\"outlinewidth\":0,\"ticks\":\"\"},\"colorscale\":[[0.0,\"#0d0887\"],[0.1111111111111111,\"#46039f\"],[0.2222222222222222,\"#7201a8\"],[0.3333333333333333,\"#9c179e\"],[0.4444444444444444,\"#bd3786\"],[0.5555555555555556,\"#d8576b\"],[0.6666666666666666,\"#ed7953\"],[0.7777777777777778,\"#fb9f3a\"],[0.8888888888888888,\"#fdca26\"],[1.0,\"#f0f921\"]]}],\"heatmapgl\":[{\"type\":\"heatmapgl\",\"colorbar\":{\"outlinewidth\":0,\"ticks\":\"\"},\"colorscale\":[[0.0,\"#0d0887\"],[0.1111111111111111,\"#46039f\"],[0.2222222222222222,\"#7201a8\"],[0.3333333333333333,\"#9c179e\"],[0.4444444444444444,\"#bd3786\"],[0.5555555555555556,\"#d8576b\"],[0.6666666666666666,\"#ed7953\"],[0.7777777777777778,\"#fb9f3a\"],[0.8888888888888888,\"#fdca26\"],[1.0,\"#f0f921\"]]}],\"contourcarpet\":[{\"type\":\"contourcarpet\",\"colorbar\":{\"outlinewidth\":0,\"ticks\":\"\"}}],\"contour\":[{\"type\":\"contour\",\"colorbar\":{\"outlinewidth\":0,\"ticks\":\"\"},\"colorscale\":[[0.0,\"#0d0887\"],[0.1111111111111111,\"#46039f\"],[0.2222222222222222,\"#7201a8\"],[0.3333333333333333,\"#9c179e\"],[0.4444444444444444,\"#bd3786\"],[0.5555555555555556,\"#d8576b\"],[0.6666666666666666,\"#ed7953\"],[0.7777777777777778,\"#fb9f3a\"],[0.8888888888888888,\"#fdca26\"],[1.0,\"#f0f921\"]]}],\"surface\":[{\"type\":\"surface\",\"colorbar\":{\"outlinewidth\":0,\"ticks\":\"\"},\"colorscale\":[[0.0,\"#0d0887\"],[0.1111111111111111,\"#46039f\"],[0.2222222222222222,\"#7201a8\"],[0.3333333333333333,\"#9c179e\"],[0.4444444444444444,\"#bd3786\"],[0.5555555555555556,\"#d8576b\"],[0.6666666666666666,\"#ed7953\"],[0.7777777777777778,\"#fb9f3a\"],[0.8888888888888888,\"#fdca26\"],[1.0,\"#f0f921\"]]}],\"mesh3d\":[{\"type\":\"mesh3d\",\"colorbar\":{\"outlinewidth\":0,\"ticks\":\"\"}}],\"scatter\":[{\"fillpattern\":{\"fillmode\":\"overlay\",\"size\":10,\"solidity\":0.2},\"type\":\"scatter\"}],\"parcoords\":[{\"type\":\"parcoords\",\"line\":{\"colorbar\":{\"outlinewidth\":0,\"ticks\":\"\"}}}],\"scatterpolargl\":[{\"type\":\"scatterpolargl\",\"marker\":{\"colorbar\":{\"outlinewidth\":0,\"ticks\":\"\"}}}],\"bar\":[{\"error_x\":{\"color\":\"#2a3f5f\"},\"error_y\":{\"color\":\"#2a3f5f\"},\"marker\":{\"line\":{\"color\":\"#E5ECF6\",\"width\":0.5},\"pattern\":{\"fillmode\":\"overlay\",\"size\":10,\"solidity\":0.2}},\"type\":\"bar\"}],\"scattergeo\":[{\"type\":\"scattergeo\",\"marker\":{\"colorbar\":{\"outlinewidth\":0,\"ticks\":\"\"}}}],\"scatterpolar\":[{\"type\":\"scatterpolar\",\"marker\":{\"colorbar\":{\"outlinewidth\":0,\"ticks\":\"\"}}}],\"histogram\":[{\"marker\":{\"pattern\":{\"fillmode\":\"overlay\",\"size\":10,\"solidity\":0.2}},\"type\":\"histogram\"}],\"scattergl\":[{\"type\":\"scattergl\",\"marker\":{\"colorbar\":{\"outlinewidth\":0,\"ticks\":\"\"}}}],\"scatter3d\":[{\"type\":\"scatter3d\",\"line\":{\"colorbar\":{\"outlinewidth\":0,\"ticks\":\"\"}},\"marker\":{\"colorbar\":{\"outlinewidth\":0,\"ticks\":\"\"}}}],\"scattermapbox\":[{\"type\":\"scattermapbox\",\"marker\":{\"colorbar\":{\"outlinewidth\":0,\"ticks\":\"\"}}}],\"scatterternary\":[{\"type\":\"scatterternary\",\"marker\":{\"colorbar\":{\"outlinewidth\":0,\"ticks\":\"\"}}}],\"scattercarpet\":[{\"type\":\"scattercarpet\",\"marker\":{\"colorbar\":{\"outlinewidth\":0,\"ticks\":\"\"}}}],\"carpet\":[{\"aaxis\":{\"endlinecolor\":\"#2a3f5f\",\"gridcolor\":\"white\",\"linecolor\":\"white\",\"minorgridcolor\":\"white\",\"startlinecolor\":\"#2a3f5f\"},\"baxis\":{\"endlinecolor\":\"#2a3f5f\",\"gridcolor\":\"white\",\"linecolor\":\"white\",\"minorgridcolor\":\"white\",\"startlinecolor\":\"#2a3f5f\"},\"type\":\"carpet\"}],\"table\":[{\"cells\":{\"fill\":{\"color\":\"#EBF0F8\"},\"line\":{\"color\":\"white\"}},\"header\":{\"fill\":{\"color\":\"#C8D4E3\"},\"line\":{\"color\":\"white\"}},\"type\":\"table\"}],\"barpolar\":[{\"marker\":{\"line\":{\"color\":\"#E5ECF6\",\"width\":0.5},\"pattern\":{\"fillmode\":\"overlay\",\"size\":10,\"solidity\":0.2}},\"type\":\"barpolar\"}],\"pie\":[{\"automargin\":true,\"type\":\"pie\"}]},\"layout\":{\"autotypenumbers\":\"strict\",\"colorway\":[\"#636efa\",\"#EF553B\",\"#00cc96\",\"#ab63fa\",\"#FFA15A\",\"#19d3f3\",\"#FF6692\",\"#B6E880\",\"#FF97FF\",\"#FECB52\"],\"font\":{\"color\":\"#2a3f5f\"},\"hovermode\":\"closest\",\"hoverlabel\":{\"align\":\"left\"},\"paper_bgcolor\":\"white\",\"plot_bgcolor\":\"#E5ECF6\",\"polar\":{\"bgcolor\":\"#E5ECF6\",\"angularaxis\":{\"gridcolor\":\"white\",\"linecolor\":\"white\",\"ticks\":\"\"},\"radialaxis\":{\"gridcolor\":\"white\",\"linecolor\":\"white\",\"ticks\":\"\"}},\"ternary\":{\"bgcolor\":\"#E5ECF6\",\"aaxis\":{\"gridcolor\":\"white\",\"linecolor\":\"white\",\"ticks\":\"\"},\"baxis\":{\"gridcolor\":\"white\",\"linecolor\":\"white\",\"ticks\":\"\"},\"caxis\":{\"gridcolor\":\"white\",\"linecolor\":\"white\",\"ticks\":\"\"}},\"coloraxis\":{\"colorbar\":{\"outlinewidth\":0,\"ticks\":\"\"}},\"colorscale\":{\"sequential\":[[0.0,\"#0d0887\"],[0.1111111111111111,\"#46039f\"],[0.2222222222222222,\"#7201a8\"],[0.3333333333333333,\"#9c179e\"],[0.4444444444444444,\"#bd3786\"],[0.5555555555555556,\"#d8576b\"],[0.6666666666666666,\"#ed7953\"],[0.7777777777777778,\"#fb9f3a\"],[0.8888888888888888,\"#fdca26\"],[1.0,\"#f0f921\"]],\"sequentialminus\":[[0.0,\"#0d0887\"],[0.1111111111111111,\"#46039f\"],[0.2222222222222222,\"#7201a8\"],[0.3333333333333333,\"#9c179e\"],[0.4444444444444444,\"#bd3786\"],[0.5555555555555556,\"#d8576b\"],[0.6666666666666666,\"#ed7953\"],[0.7777777777777778,\"#fb9f3a\"],[0.8888888888888888,\"#fdca26\"],[1.0,\"#f0f921\"]],\"diverging\":[[0,\"#8e0152\"],[0.1,\"#c51b7d\"],[0.2,\"#de77ae\"],[0.3,\"#f1b6da\"],[0.4,\"#fde0ef\"],[0.5,\"#f7f7f7\"],[0.6,\"#e6f5d0\"],[0.7,\"#b8e186\"],[0.8,\"#7fbc41\"],[0.9,\"#4d9221\"],[1,\"#276419\"]]},\"xaxis\":{\"gridcolor\":\"white\",\"linecolor\":\"white\",\"ticks\":\"\",\"title\":{\"standoff\":15},\"zerolinecolor\":\"white\",\"automargin\":true,\"zerolinewidth\":2},\"yaxis\":{\"gridcolor\":\"white\",\"linecolor\":\"white\",\"ticks\":\"\",\"title\":{\"standoff\":15},\"zerolinecolor\":\"white\",\"automargin\":true,\"zerolinewidth\":2},\"scene\":{\"xaxis\":{\"backgroundcolor\":\"#E5ECF6\",\"gridcolor\":\"white\",\"linecolor\":\"white\",\"showbackground\":true,\"ticks\":\"\",\"zerolinecolor\":\"white\",\"gridwidth\":2},\"yaxis\":{\"backgroundcolor\":\"#E5ECF6\",\"gridcolor\":\"white\",\"linecolor\":\"white\",\"showbackground\":true,\"ticks\":\"\",\"zerolinecolor\":\"white\",\"gridwidth\":2},\"zaxis\":{\"backgroundcolor\":\"#E5ECF6\",\"gridcolor\":\"white\",\"linecolor\":\"white\",\"showbackground\":true,\"ticks\":\"\",\"zerolinecolor\":\"white\",\"gridwidth\":2}},\"shapedefaults\":{\"line\":{\"color\":\"#2a3f5f\"}},\"annotationdefaults\":{\"arrowcolor\":\"#2a3f5f\",\"arrowhead\":0,\"arrowwidth\":1},\"geo\":{\"bgcolor\":\"white\",\"landcolor\":\"#E5ECF6\",\"subunitcolor\":\"white\",\"showland\":true,\"showlakes\":true,\"lakecolor\":\"white\"},\"title\":{\"x\":0.05},\"mapbox\":{\"style\":\"light\"}}},\"xaxis\":{\"anchor\":\"y\",\"domain\":[0.0,1.0],\"title\":{\"text\":\"Scale\"}},\"yaxis\":{\"anchor\":\"x\",\"domain\":[0.0,1.0],\"title\":{\"text\":\"Values\"}},\"legend\":{\"title\":{\"text\":\"Metrics\"},\"tracegroupgap\":0},\"title\":{\"text\":\"wedding\"}},                        {\"responsive\": true}                    ).then(function(){\n",
       "                            \n",
       "var gd = document.getElementById('26b4aa48-fe54-427c-803c-5b3083c12673');\n",
       "var x = new MutationObserver(function (mutations, observer) {{\n",
       "        var display = window.getComputedStyle(gd).display;\n",
       "        if (!display || display === 'none') {{\n",
       "            console.log([gd, 'removed!']);\n",
       "            Plotly.purge(gd);\n",
       "            observer.disconnect();\n",
       "        }}\n",
       "}});\n",
       "\n",
       "// Listen for the removal of the full notebook cells\n",
       "var notebookContainer = gd.closest('#notebook-container');\n",
       "if (notebookContainer) {{\n",
       "    x.observe(notebookContainer, {childList: true});\n",
       "}}\n",
       "\n",
       "// Listen for the clearing of the current output cell\n",
       "var outputEl = gd.closest('.output');\n",
       "if (outputEl) {{\n",
       "    x.observe(outputEl, {childList: true});\n",
       "}}\n",
       "\n",
       "                        })                };                });            </script>        </div>"
      ]
     },
     "metadata": {},
     "output_type": "display_data"
    }
   ],
   "source": [
    "df = pd.DataFrame({\n",
    "    'Scale': scales,\n",
    "    'Coherence Elo': c_p_win,\n",
    "    'Eval Elo': e_p_win,\n",
    "    \"Score * Coherence\": [a * b for a, b in zip(c_p_win, e_p_win)],\n",
    "})\n",
    "\n",
    "fig = px.line(df, x='Scale', y=['Coherence Elo', 'Eval Elo', \"Score * Coherence\"],\n",
    "              title=name)\n",
    "\n",
    "fig.update_layout(\n",
    "    xaxis_title=\"Scale\",\n",
    "    yaxis_title=\"Values\",\n",
    "    legend_title=\"Metrics\"\n",
    ")\n",
    "\n",
    "# Show the plot\n",
    "fig.show()"
   ]
  },
  {
   "cell_type": "code",
   "execution_count": null,
   "metadata": {},
   "outputs": [],
   "source": []
  },
  {
   "cell_type": "code",
   "execution_count": null,
   "metadata": {},
   "outputs": [],
   "source": []
  },
  {
   "cell_type": "code",
   "execution_count": 39,
   "metadata": {},
   "outputs": [
    {
     "data": {
      "application/vnd.plotly.v1+json": {
       "config": {
        "plotlyServerURL": "https://plot.ly"
       },
       "data": [
        {
         "mode": "lines",
         "name": "Coherence Elo",
         "type": "scatter",
         "x": [
          0,
          10,
          20,
          30,
          40,
          50,
          60,
          70,
          80,
          90,
          100,
          110
         ],
         "y": [
          0.5,
          0.49262634540797023,
          0.5278373082293966,
          0.5191308175105553,
          0.4809043791146391,
          0.5027692939202271,
          0.5690158465711734,
          0.4611085541772673,
          0.466474849919233,
          0.4521807201368336,
          0.4223634017886877,
          0.39143367253496036
         ]
        },
        {
         "mode": "lines",
         "name": "Eval Elo",
         "type": "scatter",
         "x": [
          0,
          10,
          20,
          30,
          40,
          50,
          60,
          70,
          80,
          90,
          100,
          110
         ],
         "y": [
          0.5,
          0.5045900852983745,
          0.5462054674645522,
          0.5254863771611022,
          0.6154953009680334,
          0.6346459495296921,
          0.6646110326713851,
          0.664743398330312,
          0.6681714293041482,
          0.6459630129627703,
          0.6780678026051068,
          0.6976833202054774
         ]
        },
        {
         "mode": "lines",
         "name": "Score * Coherence",
         "type": "scatter",
         "x": [
          0,
          10,
          20,
          30,
          40,
          50,
          60,
          70,
          80,
          90,
          100,
          110
         ],
         "y": [
          0.25,
          0.24857436964963417,
          0.2883076236866685,
          0.272796172566303,
          0.29599438556001006,
          0.3190804959343754,
          0.37817420939605,
          0.30651886730297345,
          0.3116851672049719,
          0.2920920203832642,
          0.2863910237516733,
          0.2730967442944147
         ]
        },
        {
         "line": {
          "width": 0
         },
         "mode": "lines",
         "showlegend": false,
         "type": "scatter",
         "x": [
          0,
          10,
          20,
          30,
          40,
          50,
          60,
          70,
          80,
          90,
          100,
          110
         ],
         "y": [
          0.40191145022781627,
          0.38500723436120304,
          0.4280673768200691,
          0.41645408936391287,
          0.38160777842700283,
          0.3993422384267055,
          0.4628260384783639,
          0.35851176718988914,
          0.3709055977917311,
          0.35408696837364184,
          0.32577666270311884,
          0.2994691994522342
         ]
        },
        {
         "fill": "tonexty",
         "fillcolor": "rgba(68, 68, 68, 0.3)",
         "line": {
          "width": 0
         },
         "mode": "lines",
         "name": "Coherence CI",
         "type": "scatter",
         "x": [
          0,
          10,
          20,
          30,
          40,
          50,
          60,
          70,
          80,
          90,
          100,
          110
         ],
         "y": [
          0.6038699013788039,
          0.5990351299579757,
          0.6236316463887849,
          0.6179910778140345,
          0.5839959427191548,
          0.5976768283963266,
          0.6643227956864041,
          0.555214097812725,
          0.5717110007222627,
          0.5518501899581163,
          0.5213939878066918,
          0.4927380366405193
         ]
        },
        {
         "line": {
          "width": 0
         },
         "mode": "lines",
         "showlegend": false,
         "type": "scatter",
         "x": [
          0,
          10,
          20,
          30,
          40,
          50,
          60,
          70,
          80,
          90,
          100,
          110
         ],
         "y": [
          0.4282549361969727,
          0.43662651059310187,
          0.46920753105353463,
          0.44551273154090504,
          0.5333343706242145,
          0.5597818552726379,
          0.5916556709807544,
          0.5915292537019446,
          0.5949440600389959,
          0.5626599669204455,
          0.5943694528092048,
          0.6215000925519399
         ]
        },
        {
         "fill": "tonexty",
         "fillcolor": "rgba(68, 68, 68, 0.3)",
         "line": {
          "width": 0
         },
         "mode": "lines",
         "name": "Eval CI",
         "type": "scatter",
         "x": [
          0,
          10,
          20,
          30,
          40,
          50,
          60,
          70,
          80,
          90,
          100,
          110
         ],
         "y": [
          0.5747376561208363,
          0.5802064079485553,
          0.6255202701948588,
          0.6089911334486734,
          0.6895806126265593,
          0.7056955619017129,
          0.7365894117389535,
          0.7356075750596279,
          0.737258337082734,
          0.7166668595985666,
          0.7436000704260778,
          0.7606126303870376
         ]
        }
       ],
       "layout": {
        "legend": {
         "title": {
          "text": "Metrics"
         }
        },
        "template": {
         "data": {
          "bar": [
           {
            "error_x": {
             "color": "#2a3f5f"
            },
            "error_y": {
             "color": "#2a3f5f"
            },
            "marker": {
             "line": {
              "color": "#E5ECF6",
              "width": 0.5
             },
             "pattern": {
              "fillmode": "overlay",
              "size": 10,
              "solidity": 0.2
             }
            },
            "type": "bar"
           }
          ],
          "barpolar": [
           {
            "marker": {
             "line": {
              "color": "#E5ECF6",
              "width": 0.5
             },
             "pattern": {
              "fillmode": "overlay",
              "size": 10,
              "solidity": 0.2
             }
            },
            "type": "barpolar"
           }
          ],
          "carpet": [
           {
            "aaxis": {
             "endlinecolor": "#2a3f5f",
             "gridcolor": "white",
             "linecolor": "white",
             "minorgridcolor": "white",
             "startlinecolor": "#2a3f5f"
            },
            "baxis": {
             "endlinecolor": "#2a3f5f",
             "gridcolor": "white",
             "linecolor": "white",
             "minorgridcolor": "white",
             "startlinecolor": "#2a3f5f"
            },
            "type": "carpet"
           }
          ],
          "choropleth": [
           {
            "colorbar": {
             "outlinewidth": 0,
             "ticks": ""
            },
            "type": "choropleth"
           }
          ],
          "contour": [
           {
            "colorbar": {
             "outlinewidth": 0,
             "ticks": ""
            },
            "colorscale": [
             [
              0,
              "#0d0887"
             ],
             [
              0.1111111111111111,
              "#46039f"
             ],
             [
              0.2222222222222222,
              "#7201a8"
             ],
             [
              0.3333333333333333,
              "#9c179e"
             ],
             [
              0.4444444444444444,
              "#bd3786"
             ],
             [
              0.5555555555555556,
              "#d8576b"
             ],
             [
              0.6666666666666666,
              "#ed7953"
             ],
             [
              0.7777777777777778,
              "#fb9f3a"
             ],
             [
              0.8888888888888888,
              "#fdca26"
             ],
             [
              1,
              "#f0f921"
             ]
            ],
            "type": "contour"
           }
          ],
          "contourcarpet": [
           {
            "colorbar": {
             "outlinewidth": 0,
             "ticks": ""
            },
            "type": "contourcarpet"
           }
          ],
          "heatmap": [
           {
            "colorbar": {
             "outlinewidth": 0,
             "ticks": ""
            },
            "colorscale": [
             [
              0,
              "#0d0887"
             ],
             [
              0.1111111111111111,
              "#46039f"
             ],
             [
              0.2222222222222222,
              "#7201a8"
             ],
             [
              0.3333333333333333,
              "#9c179e"
             ],
             [
              0.4444444444444444,
              "#bd3786"
             ],
             [
              0.5555555555555556,
              "#d8576b"
             ],
             [
              0.6666666666666666,
              "#ed7953"
             ],
             [
              0.7777777777777778,
              "#fb9f3a"
             ],
             [
              0.8888888888888888,
              "#fdca26"
             ],
             [
              1,
              "#f0f921"
             ]
            ],
            "type": "heatmap"
           }
          ],
          "heatmapgl": [
           {
            "colorbar": {
             "outlinewidth": 0,
             "ticks": ""
            },
            "colorscale": [
             [
              0,
              "#0d0887"
             ],
             [
              0.1111111111111111,
              "#46039f"
             ],
             [
              0.2222222222222222,
              "#7201a8"
             ],
             [
              0.3333333333333333,
              "#9c179e"
             ],
             [
              0.4444444444444444,
              "#bd3786"
             ],
             [
              0.5555555555555556,
              "#d8576b"
             ],
             [
              0.6666666666666666,
              "#ed7953"
             ],
             [
              0.7777777777777778,
              "#fb9f3a"
             ],
             [
              0.8888888888888888,
              "#fdca26"
             ],
             [
              1,
              "#f0f921"
             ]
            ],
            "type": "heatmapgl"
           }
          ],
          "histogram": [
           {
            "marker": {
             "pattern": {
              "fillmode": "overlay",
              "size": 10,
              "solidity": 0.2
             }
            },
            "type": "histogram"
           }
          ],
          "histogram2d": [
           {
            "colorbar": {
             "outlinewidth": 0,
             "ticks": ""
            },
            "colorscale": [
             [
              0,
              "#0d0887"
             ],
             [
              0.1111111111111111,
              "#46039f"
             ],
             [
              0.2222222222222222,
              "#7201a8"
             ],
             [
              0.3333333333333333,
              "#9c179e"
             ],
             [
              0.4444444444444444,
              "#bd3786"
             ],
             [
              0.5555555555555556,
              "#d8576b"
             ],
             [
              0.6666666666666666,
              "#ed7953"
             ],
             [
              0.7777777777777778,
              "#fb9f3a"
             ],
             [
              0.8888888888888888,
              "#fdca26"
             ],
             [
              1,
              "#f0f921"
             ]
            ],
            "type": "histogram2d"
           }
          ],
          "histogram2dcontour": [
           {
            "colorbar": {
             "outlinewidth": 0,
             "ticks": ""
            },
            "colorscale": [
             [
              0,
              "#0d0887"
             ],
             [
              0.1111111111111111,
              "#46039f"
             ],
             [
              0.2222222222222222,
              "#7201a8"
             ],
             [
              0.3333333333333333,
              "#9c179e"
             ],
             [
              0.4444444444444444,
              "#bd3786"
             ],
             [
              0.5555555555555556,
              "#d8576b"
             ],
             [
              0.6666666666666666,
              "#ed7953"
             ],
             [
              0.7777777777777778,
              "#fb9f3a"
             ],
             [
              0.8888888888888888,
              "#fdca26"
             ],
             [
              1,
              "#f0f921"
             ]
            ],
            "type": "histogram2dcontour"
           }
          ],
          "mesh3d": [
           {
            "colorbar": {
             "outlinewidth": 0,
             "ticks": ""
            },
            "type": "mesh3d"
           }
          ],
          "parcoords": [
           {
            "line": {
             "colorbar": {
              "outlinewidth": 0,
              "ticks": ""
             }
            },
            "type": "parcoords"
           }
          ],
          "pie": [
           {
            "automargin": true,
            "type": "pie"
           }
          ],
          "scatter": [
           {
            "fillpattern": {
             "fillmode": "overlay",
             "size": 10,
             "solidity": 0.2
            },
            "type": "scatter"
           }
          ],
          "scatter3d": [
           {
            "line": {
             "colorbar": {
              "outlinewidth": 0,
              "ticks": ""
             }
            },
            "marker": {
             "colorbar": {
              "outlinewidth": 0,
              "ticks": ""
             }
            },
            "type": "scatter3d"
           }
          ],
          "scattercarpet": [
           {
            "marker": {
             "colorbar": {
              "outlinewidth": 0,
              "ticks": ""
             }
            },
            "type": "scattercarpet"
           }
          ],
          "scattergeo": [
           {
            "marker": {
             "colorbar": {
              "outlinewidth": 0,
              "ticks": ""
             }
            },
            "type": "scattergeo"
           }
          ],
          "scattergl": [
           {
            "marker": {
             "colorbar": {
              "outlinewidth": 0,
              "ticks": ""
             }
            },
            "type": "scattergl"
           }
          ],
          "scattermapbox": [
           {
            "marker": {
             "colorbar": {
              "outlinewidth": 0,
              "ticks": ""
             }
            },
            "type": "scattermapbox"
           }
          ],
          "scatterpolar": [
           {
            "marker": {
             "colorbar": {
              "outlinewidth": 0,
              "ticks": ""
             }
            },
            "type": "scatterpolar"
           }
          ],
          "scatterpolargl": [
           {
            "marker": {
             "colorbar": {
              "outlinewidth": 0,
              "ticks": ""
             }
            },
            "type": "scatterpolargl"
           }
          ],
          "scatterternary": [
           {
            "marker": {
             "colorbar": {
              "outlinewidth": 0,
              "ticks": ""
             }
            },
            "type": "scatterternary"
           }
          ],
          "surface": [
           {
            "colorbar": {
             "outlinewidth": 0,
             "ticks": ""
            },
            "colorscale": [
             [
              0,
              "#0d0887"
             ],
             [
              0.1111111111111111,
              "#46039f"
             ],
             [
              0.2222222222222222,
              "#7201a8"
             ],
             [
              0.3333333333333333,
              "#9c179e"
             ],
             [
              0.4444444444444444,
              "#bd3786"
             ],
             [
              0.5555555555555556,
              "#d8576b"
             ],
             [
              0.6666666666666666,
              "#ed7953"
             ],
             [
              0.7777777777777778,
              "#fb9f3a"
             ],
             [
              0.8888888888888888,
              "#fdca26"
             ],
             [
              1,
              "#f0f921"
             ]
            ],
            "type": "surface"
           }
          ],
          "table": [
           {
            "cells": {
             "fill": {
              "color": "#EBF0F8"
             },
             "line": {
              "color": "white"
             }
            },
            "header": {
             "fill": {
              "color": "#C8D4E3"
             },
             "line": {
              "color": "white"
             }
            },
            "type": "table"
           }
          ]
         },
         "layout": {
          "annotationdefaults": {
           "arrowcolor": "#2a3f5f",
           "arrowhead": 0,
           "arrowwidth": 1
          },
          "autotypenumbers": "strict",
          "coloraxis": {
           "colorbar": {
            "outlinewidth": 0,
            "ticks": ""
           }
          },
          "colorscale": {
           "diverging": [
            [
             0,
             "#8e0152"
            ],
            [
             0.1,
             "#c51b7d"
            ],
            [
             0.2,
             "#de77ae"
            ],
            [
             0.3,
             "#f1b6da"
            ],
            [
             0.4,
             "#fde0ef"
            ],
            [
             0.5,
             "#f7f7f7"
            ],
            [
             0.6,
             "#e6f5d0"
            ],
            [
             0.7,
             "#b8e186"
            ],
            [
             0.8,
             "#7fbc41"
            ],
            [
             0.9,
             "#4d9221"
            ],
            [
             1,
             "#276419"
            ]
           ],
           "sequential": [
            [
             0,
             "#0d0887"
            ],
            [
             0.1111111111111111,
             "#46039f"
            ],
            [
             0.2222222222222222,
             "#7201a8"
            ],
            [
             0.3333333333333333,
             "#9c179e"
            ],
            [
             0.4444444444444444,
             "#bd3786"
            ],
            [
             0.5555555555555556,
             "#d8576b"
            ],
            [
             0.6666666666666666,
             "#ed7953"
            ],
            [
             0.7777777777777778,
             "#fb9f3a"
            ],
            [
             0.8888888888888888,
             "#fdca26"
            ],
            [
             1,
             "#f0f921"
            ]
           ],
           "sequentialminus": [
            [
             0,
             "#0d0887"
            ],
            [
             0.1111111111111111,
             "#46039f"
            ],
            [
             0.2222222222222222,
             "#7201a8"
            ],
            [
             0.3333333333333333,
             "#9c179e"
            ],
            [
             0.4444444444444444,
             "#bd3786"
            ],
            [
             0.5555555555555556,
             "#d8576b"
            ],
            [
             0.6666666666666666,
             "#ed7953"
            ],
            [
             0.7777777777777778,
             "#fb9f3a"
            ],
            [
             0.8888888888888888,
             "#fdca26"
            ],
            [
             1,
             "#f0f921"
            ]
           ]
          },
          "colorway": [
           "#636efa",
           "#EF553B",
           "#00cc96",
           "#ab63fa",
           "#FFA15A",
           "#19d3f3",
           "#FF6692",
           "#B6E880",
           "#FF97FF",
           "#FECB52"
          ],
          "font": {
           "color": "#2a3f5f"
          },
          "geo": {
           "bgcolor": "white",
           "lakecolor": "white",
           "landcolor": "#E5ECF6",
           "showlakes": true,
           "showland": true,
           "subunitcolor": "white"
          },
          "hoverlabel": {
           "align": "left"
          },
          "hovermode": "closest",
          "mapbox": {
           "style": "light"
          },
          "paper_bgcolor": "white",
          "plot_bgcolor": "#E5ECF6",
          "polar": {
           "angularaxis": {
            "gridcolor": "white",
            "linecolor": "white",
            "ticks": ""
           },
           "bgcolor": "#E5ECF6",
           "radialaxis": {
            "gridcolor": "white",
            "linecolor": "white",
            "ticks": ""
           }
          },
          "scene": {
           "xaxis": {
            "backgroundcolor": "#E5ECF6",
            "gridcolor": "white",
            "gridwidth": 2,
            "linecolor": "white",
            "showbackground": true,
            "ticks": "",
            "zerolinecolor": "white"
           },
           "yaxis": {
            "backgroundcolor": "#E5ECF6",
            "gridcolor": "white",
            "gridwidth": 2,
            "linecolor": "white",
            "showbackground": true,
            "ticks": "",
            "zerolinecolor": "white"
           },
           "zaxis": {
            "backgroundcolor": "#E5ECF6",
            "gridcolor": "white",
            "gridwidth": 2,
            "linecolor": "white",
            "showbackground": true,
            "ticks": "",
            "zerolinecolor": "white"
           }
          },
          "shapedefaults": {
           "line": {
            "color": "#2a3f5f"
           }
          },
          "ternary": {
           "aaxis": {
            "gridcolor": "white",
            "linecolor": "white",
            "ticks": ""
           },
           "baxis": {
            "gridcolor": "white",
            "linecolor": "white",
            "ticks": ""
           },
           "bgcolor": "#E5ECF6",
           "caxis": {
            "gridcolor": "white",
            "linecolor": "white",
            "ticks": ""
           }
          },
          "title": {
           "x": 0.05
          },
          "xaxis": {
           "automargin": true,
           "gridcolor": "white",
           "linecolor": "white",
           "ticks": "",
           "title": {
            "standoff": 15
           },
           "zerolinecolor": "white",
           "zerolinewidth": 2
          },
          "yaxis": {
           "automargin": true,
           "gridcolor": "white",
           "linecolor": "white",
           "ticks": "",
           "title": {
            "standoff": 15
           },
           "zerolinecolor": "white",
           "zerolinewidth": 2
          }
         }
        },
        "title": {
         "text": "wedding"
        },
        "xaxis": {
         "title": {
          "text": "Scale"
         }
        },
        "yaxis": {
         "title": {
          "text": "Values"
         }
        }
       }
      },
      "text/html": [
       "<div>                            <div id=\"76a89222-646a-4b6b-a8e6-a44f627ef52e\" class=\"plotly-graph-div\" style=\"height:525px; width:100%;\"></div>            <script type=\"text/javascript\">                require([\"plotly\"], function(Plotly) {                    window.PLOTLYENV=window.PLOTLYENV || {};                                    if (document.getElementById(\"76a89222-646a-4b6b-a8e6-a44f627ef52e\")) {                    Plotly.newPlot(                        \"76a89222-646a-4b6b-a8e6-a44f627ef52e\",                        [{\"mode\":\"lines\",\"name\":\"Coherence Elo\",\"x\":[0,10,20,30,40,50,60,70,80,90,100,110],\"y\":[0.5,0.49262634540797023,0.5278373082293966,0.5191308175105553,0.4809043791146391,0.5027692939202271,0.5690158465711734,0.4611085541772673,0.466474849919233,0.4521807201368336,0.4223634017886877,0.39143367253496036],\"type\":\"scatter\"},{\"mode\":\"lines\",\"name\":\"Eval Elo\",\"x\":[0,10,20,30,40,50,60,70,80,90,100,110],\"y\":[0.5,0.5045900852983745,0.5462054674645522,0.5254863771611022,0.6154953009680334,0.6346459495296921,0.6646110326713851,0.664743398330312,0.6681714293041482,0.6459630129627703,0.6780678026051068,0.6976833202054774],\"type\":\"scatter\"},{\"mode\":\"lines\",\"name\":\"Score * Coherence\",\"x\":[0,10,20,30,40,50,60,70,80,90,100,110],\"y\":[0.25,0.24857436964963417,0.2883076236866685,0.272796172566303,0.29599438556001006,0.3190804959343754,0.37817420939605,0.30651886730297345,0.3116851672049719,0.2920920203832642,0.2863910237516733,0.2730967442944147],\"type\":\"scatter\"},{\"line\":{\"width\":0},\"mode\":\"lines\",\"showlegend\":false,\"x\":[0,10,20,30,40,50,60,70,80,90,100,110],\"y\":[0.40191145022781627,0.38500723436120304,0.4280673768200691,0.41645408936391287,0.38160777842700283,0.3993422384267055,0.4628260384783639,0.35851176718988914,0.3709055977917311,0.35408696837364184,0.32577666270311884,0.2994691994522342],\"type\":\"scatter\"},{\"fill\":\"tonexty\",\"fillcolor\":\"rgba(68, 68, 68, 0.3)\",\"line\":{\"width\":0},\"mode\":\"lines\",\"name\":\"Coherence CI\",\"x\":[0,10,20,30,40,50,60,70,80,90,100,110],\"y\":[0.6038699013788039,0.5990351299579757,0.6236316463887849,0.6179910778140345,0.5839959427191548,0.5976768283963266,0.6643227956864041,0.555214097812725,0.5717110007222627,0.5518501899581163,0.5213939878066918,0.4927380366405193],\"type\":\"scatter\"},{\"line\":{\"width\":0},\"mode\":\"lines\",\"showlegend\":false,\"x\":[0,10,20,30,40,50,60,70,80,90,100,110],\"y\":[0.4282549361969727,0.43662651059310187,0.46920753105353463,0.44551273154090504,0.5333343706242145,0.5597818552726379,0.5916556709807544,0.5915292537019446,0.5949440600389959,0.5626599669204455,0.5943694528092048,0.6215000925519399],\"type\":\"scatter\"},{\"fill\":\"tonexty\",\"fillcolor\":\"rgba(68, 68, 68, 0.3)\",\"line\":{\"width\":0},\"mode\":\"lines\",\"name\":\"Eval CI\",\"x\":[0,10,20,30,40,50,60,70,80,90,100,110],\"y\":[0.5747376561208363,0.5802064079485553,0.6255202701948588,0.6089911334486734,0.6895806126265593,0.7056955619017129,0.7365894117389535,0.7356075750596279,0.737258337082734,0.7166668595985666,0.7436000704260778,0.7606126303870376],\"type\":\"scatter\"}],                        {\"template\":{\"data\":{\"histogram2dcontour\":[{\"type\":\"histogram2dcontour\",\"colorbar\":{\"outlinewidth\":0,\"ticks\":\"\"},\"colorscale\":[[0.0,\"#0d0887\"],[0.1111111111111111,\"#46039f\"],[0.2222222222222222,\"#7201a8\"],[0.3333333333333333,\"#9c179e\"],[0.4444444444444444,\"#bd3786\"],[0.5555555555555556,\"#d8576b\"],[0.6666666666666666,\"#ed7953\"],[0.7777777777777778,\"#fb9f3a\"],[0.8888888888888888,\"#fdca26\"],[1.0,\"#f0f921\"]]}],\"choropleth\":[{\"type\":\"choropleth\",\"colorbar\":{\"outlinewidth\":0,\"ticks\":\"\"}}],\"histogram2d\":[{\"type\":\"histogram2d\",\"colorbar\":{\"outlinewidth\":0,\"ticks\":\"\"},\"colorscale\":[[0.0,\"#0d0887\"],[0.1111111111111111,\"#46039f\"],[0.2222222222222222,\"#7201a8\"],[0.3333333333333333,\"#9c179e\"],[0.4444444444444444,\"#bd3786\"],[0.5555555555555556,\"#d8576b\"],[0.6666666666666666,\"#ed7953\"],[0.7777777777777778,\"#fb9f3a\"],[0.8888888888888888,\"#fdca26\"],[1.0,\"#f0f921\"]]}],\"heatmap\":[{\"type\":\"heatmap\",\"colorbar\":{\"outlinewidth\":0,\"ticks\":\"\"},\"colorscale\":[[0.0,\"#0d0887\"],[0.1111111111111111,\"#46039f\"],[0.2222222222222222,\"#7201a8\"],[0.3333333333333333,\"#9c179e\"],[0.4444444444444444,\"#bd3786\"],[0.5555555555555556,\"#d8576b\"],[0.6666666666666666,\"#ed7953\"],[0.7777777777777778,\"#fb9f3a\"],[0.8888888888888888,\"#fdca26\"],[1.0,\"#f0f921\"]]}],\"heatmapgl\":[{\"type\":\"heatmapgl\",\"colorbar\":{\"outlinewidth\":0,\"ticks\":\"\"},\"colorscale\":[[0.0,\"#0d0887\"],[0.1111111111111111,\"#46039f\"],[0.2222222222222222,\"#7201a8\"],[0.3333333333333333,\"#9c179e\"],[0.4444444444444444,\"#bd3786\"],[0.5555555555555556,\"#d8576b\"],[0.6666666666666666,\"#ed7953\"],[0.7777777777777778,\"#fb9f3a\"],[0.8888888888888888,\"#fdca26\"],[1.0,\"#f0f921\"]]}],\"contourcarpet\":[{\"type\":\"contourcarpet\",\"colorbar\":{\"outlinewidth\":0,\"ticks\":\"\"}}],\"contour\":[{\"type\":\"contour\",\"colorbar\":{\"outlinewidth\":0,\"ticks\":\"\"},\"colorscale\":[[0.0,\"#0d0887\"],[0.1111111111111111,\"#46039f\"],[0.2222222222222222,\"#7201a8\"],[0.3333333333333333,\"#9c179e\"],[0.4444444444444444,\"#bd3786\"],[0.5555555555555556,\"#d8576b\"],[0.6666666666666666,\"#ed7953\"],[0.7777777777777778,\"#fb9f3a\"],[0.8888888888888888,\"#fdca26\"],[1.0,\"#f0f921\"]]}],\"surface\":[{\"type\":\"surface\",\"colorbar\":{\"outlinewidth\":0,\"ticks\":\"\"},\"colorscale\":[[0.0,\"#0d0887\"],[0.1111111111111111,\"#46039f\"],[0.2222222222222222,\"#7201a8\"],[0.3333333333333333,\"#9c179e\"],[0.4444444444444444,\"#bd3786\"],[0.5555555555555556,\"#d8576b\"],[0.6666666666666666,\"#ed7953\"],[0.7777777777777778,\"#fb9f3a\"],[0.8888888888888888,\"#fdca26\"],[1.0,\"#f0f921\"]]}],\"mesh3d\":[{\"type\":\"mesh3d\",\"colorbar\":{\"outlinewidth\":0,\"ticks\":\"\"}}],\"scatter\":[{\"fillpattern\":{\"fillmode\":\"overlay\",\"size\":10,\"solidity\":0.2},\"type\":\"scatter\"}],\"parcoords\":[{\"type\":\"parcoords\",\"line\":{\"colorbar\":{\"outlinewidth\":0,\"ticks\":\"\"}}}],\"scatterpolargl\":[{\"type\":\"scatterpolargl\",\"marker\":{\"colorbar\":{\"outlinewidth\":0,\"ticks\":\"\"}}}],\"bar\":[{\"error_x\":{\"color\":\"#2a3f5f\"},\"error_y\":{\"color\":\"#2a3f5f\"},\"marker\":{\"line\":{\"color\":\"#E5ECF6\",\"width\":0.5},\"pattern\":{\"fillmode\":\"overlay\",\"size\":10,\"solidity\":0.2}},\"type\":\"bar\"}],\"scattergeo\":[{\"type\":\"scattergeo\",\"marker\":{\"colorbar\":{\"outlinewidth\":0,\"ticks\":\"\"}}}],\"scatterpolar\":[{\"type\":\"scatterpolar\",\"marker\":{\"colorbar\":{\"outlinewidth\":0,\"ticks\":\"\"}}}],\"histogram\":[{\"marker\":{\"pattern\":{\"fillmode\":\"overlay\",\"size\":10,\"solidity\":0.2}},\"type\":\"histogram\"}],\"scattergl\":[{\"type\":\"scattergl\",\"marker\":{\"colorbar\":{\"outlinewidth\":0,\"ticks\":\"\"}}}],\"scatter3d\":[{\"type\":\"scatter3d\",\"line\":{\"colorbar\":{\"outlinewidth\":0,\"ticks\":\"\"}},\"marker\":{\"colorbar\":{\"outlinewidth\":0,\"ticks\":\"\"}}}],\"scattermapbox\":[{\"type\":\"scattermapbox\",\"marker\":{\"colorbar\":{\"outlinewidth\":0,\"ticks\":\"\"}}}],\"scatterternary\":[{\"type\":\"scatterternary\",\"marker\":{\"colorbar\":{\"outlinewidth\":0,\"ticks\":\"\"}}}],\"scattercarpet\":[{\"type\":\"scattercarpet\",\"marker\":{\"colorbar\":{\"outlinewidth\":0,\"ticks\":\"\"}}}],\"carpet\":[{\"aaxis\":{\"endlinecolor\":\"#2a3f5f\",\"gridcolor\":\"white\",\"linecolor\":\"white\",\"minorgridcolor\":\"white\",\"startlinecolor\":\"#2a3f5f\"},\"baxis\":{\"endlinecolor\":\"#2a3f5f\",\"gridcolor\":\"white\",\"linecolor\":\"white\",\"minorgridcolor\":\"white\",\"startlinecolor\":\"#2a3f5f\"},\"type\":\"carpet\"}],\"table\":[{\"cells\":{\"fill\":{\"color\":\"#EBF0F8\"},\"line\":{\"color\":\"white\"}},\"header\":{\"fill\":{\"color\":\"#C8D4E3\"},\"line\":{\"color\":\"white\"}},\"type\":\"table\"}],\"barpolar\":[{\"marker\":{\"line\":{\"color\":\"#E5ECF6\",\"width\":0.5},\"pattern\":{\"fillmode\":\"overlay\",\"size\":10,\"solidity\":0.2}},\"type\":\"barpolar\"}],\"pie\":[{\"automargin\":true,\"type\":\"pie\"}]},\"layout\":{\"autotypenumbers\":\"strict\",\"colorway\":[\"#636efa\",\"#EF553B\",\"#00cc96\",\"#ab63fa\",\"#FFA15A\",\"#19d3f3\",\"#FF6692\",\"#B6E880\",\"#FF97FF\",\"#FECB52\"],\"font\":{\"color\":\"#2a3f5f\"},\"hovermode\":\"closest\",\"hoverlabel\":{\"align\":\"left\"},\"paper_bgcolor\":\"white\",\"plot_bgcolor\":\"#E5ECF6\",\"polar\":{\"bgcolor\":\"#E5ECF6\",\"angularaxis\":{\"gridcolor\":\"white\",\"linecolor\":\"white\",\"ticks\":\"\"},\"radialaxis\":{\"gridcolor\":\"white\",\"linecolor\":\"white\",\"ticks\":\"\"}},\"ternary\":{\"bgcolor\":\"#E5ECF6\",\"aaxis\":{\"gridcolor\":\"white\",\"linecolor\":\"white\",\"ticks\":\"\"},\"baxis\":{\"gridcolor\":\"white\",\"linecolor\":\"white\",\"ticks\":\"\"},\"caxis\":{\"gridcolor\":\"white\",\"linecolor\":\"white\",\"ticks\":\"\"}},\"coloraxis\":{\"colorbar\":{\"outlinewidth\":0,\"ticks\":\"\"}},\"colorscale\":{\"sequential\":[[0.0,\"#0d0887\"],[0.1111111111111111,\"#46039f\"],[0.2222222222222222,\"#7201a8\"],[0.3333333333333333,\"#9c179e\"],[0.4444444444444444,\"#bd3786\"],[0.5555555555555556,\"#d8576b\"],[0.6666666666666666,\"#ed7953\"],[0.7777777777777778,\"#fb9f3a\"],[0.8888888888888888,\"#fdca26\"],[1.0,\"#f0f921\"]],\"sequentialminus\":[[0.0,\"#0d0887\"],[0.1111111111111111,\"#46039f\"],[0.2222222222222222,\"#7201a8\"],[0.3333333333333333,\"#9c179e\"],[0.4444444444444444,\"#bd3786\"],[0.5555555555555556,\"#d8576b\"],[0.6666666666666666,\"#ed7953\"],[0.7777777777777778,\"#fb9f3a\"],[0.8888888888888888,\"#fdca26\"],[1.0,\"#f0f921\"]],\"diverging\":[[0,\"#8e0152\"],[0.1,\"#c51b7d\"],[0.2,\"#de77ae\"],[0.3,\"#f1b6da\"],[0.4,\"#fde0ef\"],[0.5,\"#f7f7f7\"],[0.6,\"#e6f5d0\"],[0.7,\"#b8e186\"],[0.8,\"#7fbc41\"],[0.9,\"#4d9221\"],[1,\"#276419\"]]},\"xaxis\":{\"gridcolor\":\"white\",\"linecolor\":\"white\",\"ticks\":\"\",\"title\":{\"standoff\":15},\"zerolinecolor\":\"white\",\"automargin\":true,\"zerolinewidth\":2},\"yaxis\":{\"gridcolor\":\"white\",\"linecolor\":\"white\",\"ticks\":\"\",\"title\":{\"standoff\":15},\"zerolinecolor\":\"white\",\"automargin\":true,\"zerolinewidth\":2},\"scene\":{\"xaxis\":{\"backgroundcolor\":\"#E5ECF6\",\"gridcolor\":\"white\",\"linecolor\":\"white\",\"showbackground\":true,\"ticks\":\"\",\"zerolinecolor\":\"white\",\"gridwidth\":2},\"yaxis\":{\"backgroundcolor\":\"#E5ECF6\",\"gridcolor\":\"white\",\"linecolor\":\"white\",\"showbackground\":true,\"ticks\":\"\",\"zerolinecolor\":\"white\",\"gridwidth\":2},\"zaxis\":{\"backgroundcolor\":\"#E5ECF6\",\"gridcolor\":\"white\",\"linecolor\":\"white\",\"showbackground\":true,\"ticks\":\"\",\"zerolinecolor\":\"white\",\"gridwidth\":2}},\"shapedefaults\":{\"line\":{\"color\":\"#2a3f5f\"}},\"annotationdefaults\":{\"arrowcolor\":\"#2a3f5f\",\"arrowhead\":0,\"arrowwidth\":1},\"geo\":{\"bgcolor\":\"white\",\"landcolor\":\"#E5ECF6\",\"subunitcolor\":\"white\",\"showland\":true,\"showlakes\":true,\"lakecolor\":\"white\"},\"title\":{\"x\":0.05},\"mapbox\":{\"style\":\"light\"}}},\"title\":{\"text\":\"wedding\"},\"xaxis\":{\"title\":{\"text\":\"Scale\"}},\"yaxis\":{\"title\":{\"text\":\"Values\"}},\"legend\":{\"title\":{\"text\":\"Metrics\"}}},                        {\"responsive\": true}                    ).then(function(){\n",
       "                            \n",
       "var gd = document.getElementById('76a89222-646a-4b6b-a8e6-a44f627ef52e');\n",
       "var x = new MutationObserver(function (mutations, observer) {{\n",
       "        var display = window.getComputedStyle(gd).display;\n",
       "        if (!display || display === 'none') {{\n",
       "            console.log([gd, 'removed!']);\n",
       "            Plotly.purge(gd);\n",
       "            observer.disconnect();\n",
       "        }}\n",
       "}});\n",
       "\n",
       "// Listen for the removal of the full notebook cells\n",
       "var notebookContainer = gd.closest('#notebook-container');\n",
       "if (notebookContainer) {{\n",
       "    x.observe(notebookContainer, {childList: true});\n",
       "}}\n",
       "\n",
       "// Listen for the clearing of the current output cell\n",
       "var outputEl = gd.closest('.output');\n",
       "if (outputEl) {{\n",
       "    x.observe(outputEl, {childList: true});\n",
       "}}\n",
       "\n",
       "                        })                };                });            </script>        </div>"
      ]
     },
     "metadata": {},
     "output_type": "display_data"
    }
   ],
   "source": [
    "df = pd.DataFrame({\n",
    "    'Scale': scales,\n",
    "    'Coherence Elo': c_p_win,\n",
    "    'Eval Elo': e_p_win,\n",
    "    \"Score * Coherence\": [a * b for a, b in zip(c_p_win, e_p_win)],\n",
    "    'Coherence Upper': c_p_win_top,\n",
    "    'Coherence Lower': c_p_win_bottom,\n",
    "    'Eval Upper': e_p_win_top,\n",
    "    'Eval Lower': e_p_win_bottom,\n",
    "})\n",
    "\n",
    "fig = go.Figure()\n",
    "\n",
    "# Add traces for each metric\n",
    "for column in ['Coherence Elo', 'Eval Elo', \"Score * Coherence\"]:\n",
    "    fig.add_trace(go.Scatter(\n",
    "        x=df['Scale'], \n",
    "        y=df[column],\n",
    "        mode='lines',\n",
    "        name=column\n",
    "    ))\n",
    "\n",
    "# Add error bars for Coherence Elo\n",
    "fig.add_trace(go.Scatter(\n",
    "    x=df['Scale'],\n",
    "    y=df['Coherence Upper'],\n",
    "    mode='lines',\n",
    "    line=dict(width=0),\n",
    "    showlegend=False\n",
    "))\n",
    "fig.add_trace(go.Scatter(\n",
    "    x=df['Scale'],\n",
    "    y=df['Coherence Lower'],\n",
    "    mode='lines',\n",
    "    line=dict(width=0),\n",
    "    fillcolor='rgba(68, 68, 68, 0.3)',\n",
    "    fill='tonexty',\n",
    "    name='Coherence CI'\n",
    "))\n",
    "\n",
    "# Add error bars for Eval Elo\n",
    "fig.add_trace(go.Scatter(\n",
    "    x=df['Scale'],\n",
    "    y=df['Eval Upper'],\n",
    "    mode='lines',\n",
    "    line=dict(width=0),\n",
    "    showlegend=False\n",
    "))\n",
    "fig.add_trace(go.Scatter(\n",
    "    x=df['Scale'],\n",
    "    y=df['Eval Lower'],\n",
    "    mode='lines',\n",
    "    line=dict(width=0),\n",
    "    fillcolor='rgba(68, 68, 68, 0.3)',\n",
    "    fill='tonexty',\n",
    "    name='Eval CI'\n",
    "))\n",
    "\n",
    "fig.update_layout(\n",
    "    title=name,\n",
    "    xaxis_title=\"Scale\",\n",
    "    yaxis_title=\"Values\",\n",
    "    legend_title=\"Metrics\"\n",
    ")\n",
    "\n",
    "# Show the plot\n",
    "fig.show()"
   ]
  },
  {
   "cell_type": "code",
   "execution_count": null,
   "metadata": {},
   "outputs": [],
   "source": []
  },
  {
   "cell_type": "code",
   "execution_count": null,
   "metadata": {},
   "outputs": [],
   "source": []
  }
 ],
 "metadata": {
  "kernelspec": {
   "display_name": ".venv",
   "language": "python",
   "name": "python3"
  },
  "language_info": {
   "codemirror_mode": {
    "name": "ipython",
    "version": 3
   },
   "file_extension": ".py",
   "mimetype": "text/x-python",
   "name": "python",
   "nbconvert_exporter": "python",
   "pygments_lexer": "ipython3",
   "version": "3.10.14"
  }
 },
 "nbformat": 4,
 "nbformat_minor": 2
}
