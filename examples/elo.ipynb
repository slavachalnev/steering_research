{
 "cells": [
  {
   "cell_type": "code",
   "execution_count": 1,
   "metadata": {},
   "outputs": [
    {
     "data": {
      "text/plain": [
       "<torch.autograd.grad_mode.set_grad_enabled at 0x7f1c6c17df30>"
      ]
     },
     "execution_count": 1,
     "metadata": {},
     "output_type": "execute_result"
    }
   ],
   "source": [
    "import os\n",
    "import sys\n",
    "sys.path.append(os.path.abspath('..'))\n",
    "\n",
    "import numpy as np\n",
    "import random\n",
    "import torch\n",
    "from torch.utils.data import DataLoader\n",
    "from transformer_lens import HookedTransformer\n",
    "from transformer_lens import utils as tutils\n",
    "from transformer_lens.evals import make_pile_data_loader, evaluate_on_dataset\n",
    "\n",
    "from functools import partial\n",
    "from datasets import load_dataset\n",
    "from tqdm import tqdm\n",
    "\n",
    "from sae_lens import SAE\n",
    "# from sae_lens.toolkit.pretrained_saes import get_gpt2_res_jb_saes\n",
    "# from sae_lens import SparseAutoencoder, ActivationsStore\n",
    "\n",
    "from steering.evals_utils import multi_criterion_evaluation, compute_battles\n",
    "from steering.utils import normalise_decoder\n",
    "from steering.patch import generate, scores_2d, patch_resid\n",
    "\n",
    "# from sae_vis.data_config_classes import SaeVisConfig\n",
    "# from sae_vis.data_storing_fns import SaeVisData\n",
    "\n",
    "import plotly.express as px\n",
    "import plotly.graph_objects as go\n",
    "from plotly.subplots import make_subplots\n",
    "import pandas as pd\n",
    "import json\n",
    "\n",
    "torch.set_grad_enabled(False)"
   ]
  },
  {
   "cell_type": "code",
   "execution_count": 2,
   "metadata": {},
   "outputs": [
    {
     "name": "stderr",
     "output_type": "stream",
     "text": [
      "`config.hidden_act` is ignored, you should use `config.hidden_activation` instead.\n",
      "Gemma's activation function will be set to `gelu_pytorch_tanh`. Please, use\n",
      "`config.hidden_activation` if you want to override this behaviour.\n",
      "See https://github.com/huggingface/transformers/pull/29402 for more details.\n"
     ]
    },
    {
     "data": {
      "application/vnd.jupyter.widget-view+json": {
       "model_id": "7e005fc40a6549fb8d5edcacc882384f",
       "version_major": 2,
       "version_minor": 0
      },
      "text/plain": [
       "Loading checkpoint shards:   0%|          | 0/2 [00:00<?, ?it/s]"
      ]
     },
     "metadata": {},
     "output_type": "display_data"
    },
    {
     "name": "stderr",
     "output_type": "stream",
     "text": [
      "WARNING:root:You are not using LayerNorm, so the writing weights can't be centered! Skipping\n"
     ]
    },
    {
     "name": "stdout",
     "output_type": "stream",
     "text": [
      "Loaded pretrained model gemma-2b into HookedTransformer\n"
     ]
    }
   ],
   "source": [
    "device = torch.device(\"cuda\" if torch.cuda.is_available() else \"cpu\")\n",
    "model = HookedTransformer.from_pretrained(\"gemma-2b\", device=device)"
   ]
  },
  {
   "cell_type": "code",
   "execution_count": 3,
   "metadata": {},
   "outputs": [],
   "source": [
    "hp6 = \"blocks.6.hook_resid_post\"\n",
    "\n",
    "sae6, _, _ = SAE.from_pretrained(\n",
    "    release = \"gemma-2b-res-jb\", # see other options in sae_lens/pretrained_saes.yaml\n",
    "    sae_id = hp6, # won't always be a hook point\n",
    "    device = 'cpu'\n",
    ")\n",
    "\n",
    "sae6 = sae6.to(device)\n",
    "normalise_decoder(sae6)"
   ]
  },
  {
   "cell_type": "code",
   "execution_count": 4,
   "metadata": {},
   "outputs": [],
   "source": [
    "intelligence = sae6.W_dec[10351]   # intelligence and genius\n",
    "writing = sae6.W_dec[1058]  # writing\n",
    "anger = sae6.W_dec[1062]  # anger\n",
    "london = sae6.W_dec[10138]  # London\n",
    "wedding = sae6.W_dec[8406]  # wedding\n",
    "broad_wedding = sae6.W_dec[2378] # broad wedding"
   ]
  },
  {
   "cell_type": "code",
   "execution_count": 5,
   "metadata": {},
   "outputs": [],
   "source": [
    "scales = [x for x in range(0, 120, 10)]\n",
    "prompt = \"I think\"\n",
    "\n",
    "name = \"anger\"\n",
    "\n",
    "steer = anger\n",
    "\n",
    "# eval_criterion = \"Mentions writing or anything related to writing\" # writing\n",
    "# eval_criterion = \"Mentions London or anything related to London\" # London\n",
    "# eval_criterion = \"Mentions wedding or anything related to wedding\" # wedding\n",
    "eval_criterion = \"Text is angry or mentions anger/frustration or anything related to anger\" # anger\n",
    "\n",
    "coherence_criterion = \"Text is coherent, the grammar is correct.\""
   ]
  },
  {
   "cell_type": "code",
   "execution_count": 75,
   "metadata": {},
   "outputs": [],
   "source": [
    "def rate(scale, steering_vector, json_path=None):\n",
    "    texts = generate(model,\n",
    "        hooks=[(hp6, partial(patch_resid, steering=steering_vector, scale=scale))],\n",
    "        max_new_tokens=25,\n",
    "        prompt=prompt,\n",
    "        batch_size=64,\n",
    "        n_samples=128,\n",
    "        )\n",
    "\n",
    "    # eval = evaluate_completions(texts, criterion=eval_criterion, prompt=prompt, verbose=False)\n",
    "    # coherence = evaluate_completions(texts, criterion=coherence_criterion, prompt=prompt, verbose=False)\n",
    "    eval, coherence = multi_criterion_evaluation(texts,\n",
    "                                                 [eval_criterion, coherence_criterion],\n",
    "                                                 prompt=prompt,\n",
    "                                                 verbose=False,\n",
    "                                                 )\n",
    "    scores = [e['score'] for e in eval]\n",
    "    coherence_scores = [e['score'] for e in coherence]\n",
    "    return scores, coherence_scores, texts"
   ]
  },
  {
   "cell_type": "code",
   "execution_count": 76,
   "metadata": {},
   "outputs": [
    {
     "name": "stderr",
     "output_type": "stream",
     "text": [
      "100%|██████████| 12/12 [03:52<00:00, 19.38s/it]\n"
     ]
    }
   ],
   "source": [
    "avg_scores = []\n",
    "avg_coherence = []\n",
    "all_scores = []\n",
    "all_coherence = []\n",
    "\n",
    "all_texts = []\n",
    "\n",
    "for scale in tqdm(scales):\n",
    "    scores, coherence, texts = rate(scale, steer)\n",
    "    avg_scores.append(sum(scores) / len(scores))\n",
    "    avg_coherence.append(sum(coherence) / len(coherence))\n",
    "    all_scores.append(scores)\n",
    "    all_coherence.append(coherence)\n",
    "    all_texts.append(texts)\n",
    "\n",
    "# scale to be from 0 to 1\n",
    "avg_scores = [(x - 1) / 9 for x in avg_scores]\n",
    "avg_coherence = [(x - 1) / 9 for x in avg_coherence]\n",
    "\n",
    "# Scale all_scores and all_coherence to be from 0 to 1\n",
    "all_scores = [[(score - 1) / 9 for score in scale_scores] for scale_scores in all_scores]\n",
    "all_coherence = [[(coh - 1) / 9 for coh in scale_coherence] for scale_coherence in all_coherence]"
   ]
  },
  {
   "cell_type": "code",
   "execution_count": 77,
   "metadata": {},
   "outputs": [
    {
     "name": "stdout",
     "output_type": "stream",
     "text": [
      "Error in evaluate_completion: Request timed out.\n"
     ]
    }
   ],
   "source": [
    "coherence_battle_results = compute_battles(all_texts,\n",
    "                                           coherence_criterion,\n",
    "                                           prompt=prompt,\n",
    "                                           n_iterations_per_model=128,\n",
    "                                          #  model='gpt-4o'\n",
    "                                        #    do_shuffle=False,\n",
    "                                        #    reverse = True,\n",
    "                                           )"
   ]
  },
  {
   "cell_type": "code",
   "execution_count": 78,
   "metadata": {},
   "outputs": [
    {
     "data": {
      "text/plain": [
       "[{'winner': 1, 'tie': False, 'model_1': 2, 'model_2': 0},\n",
       " {'winner': 2, 'tie': False, 'model_1': 6, 'model_2': 8},\n",
       " {'winner': 1, 'tie': True, 'model_1': 10, 'model_2': 10},\n",
       " {'winner': 1, 'tie': True, 'model_1': 1, 'model_2': 1},\n",
       " {'winner': 2, 'tie': False, 'model_1': 1, 'model_2': 5},\n",
       " {'winner': 2, 'tie': False, 'model_1': 2, 'model_2': 4},\n",
       " {'winner': 2, 'tie': False, 'model_1': 8, 'model_2': 3},\n",
       " {'winner': 2, 'tie': False, 'model_1': 3, 'model_2': 6},\n",
       " {'winner': 2, 'tie': False, 'model_1': 2, 'model_2': 9},\n",
       " {'winner': 2, 'tie': False, 'model_1': 1, 'model_2': 10},\n",
       " {'winner': 2, 'tie': False, 'model_1': 9, 'model_2': 3},\n",
       " {'winner': 2, 'tie': False, 'model_1': 4, 'model_2': 6},\n",
       " {'winner': 2, 'tie': False, 'model_1': 5, 'model_2': 10},\n",
       " {'winner': 2, 'tie': False, 'model_1': 0, 'model_2': 7},\n",
       " {'winner': 2, 'tie': False, 'model_1': 6, 'model_2': 3},\n",
       " {'winner': 2, 'tie': False, 'model_1': 10, 'model_2': 0},\n",
       " {'winner': 2, 'tie': False, 'model_1': 6, 'model_2': 1},\n",
       " {'winner': 2, 'tie': False, 'model_1': 8, 'model_2': 3},\n",
       " {'winner': 2, 'tie': False, 'model_1': 4, 'model_2': 1},\n",
       " {'winner': 2, 'tie': False, 'model_1': 8, 'model_2': 11},\n",
       " {'winner': 2, 'tie': False, 'model_1': 10, 'model_2': 5},\n",
       " {'winner': 2, 'tie': False, 'model_1': 4, 'model_2': 6},\n",
       " {'winner': 2, 'tie': False, 'model_1': 0, 'model_2': 6},\n",
       " {'winner': 2, 'tie': False, 'model_1': 4, 'model_2': 0},\n",
       " {'winner': 2, 'tie': False, 'model_1': 7, 'model_2': 6},\n",
       " {'winner': 2, 'tie': False, 'model_1': 0, 'model_2': 3},\n",
       " {'winner': 1, 'tie': False, 'model_1': 2, 'model_2': 2},\n",
       " {'winner': 2, 'tie': False, 'model_1': 5, 'model_2': 3},\n",
       " {'winner': 2, 'tie': False, 'model_1': 9, 'model_2': 1},\n",
       " {'winner': 2, 'tie': False, 'model_1': 11, 'model_2': 2},\n",
       " {'winner': 2, 'tie': False, 'model_1': 5, 'model_2': 2},\n",
       " {'winner': 1, 'tie': False, 'model_1': 1, 'model_2': 0},\n",
       " {'winner': 2, 'tie': False, 'model_1': 8, 'model_2': 11},\n",
       " {'winner': 2, 'tie': False, 'model_1': 3, 'model_2': 4},\n",
       " {'winner': 2, 'tie': False, 'model_1': 1, 'model_2': 11},\n",
       " {'winner': 2, 'tie': False, 'model_1': 4, 'model_2': 8},\n",
       " {'winner': 2, 'tie': False, 'model_1': 6, 'model_2': 10},\n",
       " {'winner': 2, 'tie': False, 'model_1': 11, 'model_2': 6},\n",
       " {'winner': 2, 'tie': False, 'model_1': 11, 'model_2': 4},\n",
       " {'winner': 2, 'tie': False, 'model_1': 3, 'model_2': 7},\n",
       " {'winner': 2, 'tie': False, 'model_1': 7, 'model_2': 4},\n",
       " {'winner': 2, 'tie': False, 'model_1': 6, 'model_2': 9},\n",
       " {'winner': 2, 'tie': False, 'model_1': 9, 'model_2': 5},\n",
       " {'winner': 2, 'tie': False, 'model_1': 3, 'model_2': 1},\n",
       " {'winner': 2, 'tie': False, 'model_1': 1, 'model_2': 8},\n",
       " {'winner': 2, 'tie': False, 'model_1': 7, 'model_2': 10},\n",
       " {'winner': 2, 'tie': False, 'model_1': 6, 'model_2': 4},\n",
       " {'winner': 2, 'tie': False, 'model_1': 10, 'model_2': 4},\n",
       " {'winner': 2, 'tie': False, 'model_1': 0, 'model_2': 8},\n",
       " {'winner': 2, 'tie': False, 'model_1': 6, 'model_2': 1},\n",
       " {'winner': 2, 'tie': False, 'model_1': 5, 'model_2': 10},\n",
       " {'winner': 2, 'tie': False, 'model_1': 0, 'model_2': 11},\n",
       " {'winner': 2, 'tie': False, 'model_1': 3, 'model_2': 6},\n",
       " {'winner': 2, 'tie': False, 'model_1': 11, 'model_2': 3},\n",
       " {'winner': 2, 'tie': False, 'model_1': 9, 'model_2': 6},\n",
       " {'winner': 2, 'tie': False, 'model_1': 9, 'model_2': 1},\n",
       " {'winner': 2, 'tie': False, 'model_1': 2, 'model_2': 8},\n",
       " {'winner': 2, 'tie': False, 'model_1': 10, 'model_2': 8},\n",
       " {'winner': 2, 'tie': False, 'model_1': 3, 'model_2': 1},\n",
       " {'winner': 2, 'tie': False, 'model_1': 11, 'model_2': 2},\n",
       " {'winner': 2, 'tie': False, 'model_1': 0, 'model_2': 9},\n",
       " {'winner': 2, 'tie': False, 'model_1': 6, 'model_2': 4},\n",
       " {'winner': 2, 'tie': False, 'model_1': 5, 'model_2': 8},\n",
       " {'winner': 2, 'tie': False, 'model_1': 4, 'model_2': 9},\n",
       " {'winner': 2, 'tie': False, 'model_1': 4, 'model_2': 8},\n",
       " {'winner': 2, 'tie': False, 'model_1': 6, 'model_2': 3},\n",
       " {'winner': 2, 'tie': False, 'model_1': 10, 'model_2': 0},\n",
       " {'winner': 2, 'tie': False, 'model_1': 6, 'model_2': 0},\n",
       " {'winner': 2, 'tie': False, 'model_1': 11, 'model_2': 9},\n",
       " {'winner': 2, 'tie': False, 'model_1': 6, 'model_2': 4},\n",
       " {'winner': 2, 'tie': False, 'model_1': 7, 'model_2': 1},\n",
       " {'winner': 2, 'tie': False, 'model_1': 9, 'model_2': 1},\n",
       " {'winner': 2, 'tie': False, 'model_1': 8, 'model_2': 3},\n",
       " {'winner': 2, 'tie': False, 'model_1': 6, 'model_2': 11},\n",
       " {'winner': 2, 'tie': False, 'model_1': 1, 'model_2': 6},\n",
       " {'winner': 2, 'tie': False, 'model_1': 8, 'model_2': 1},\n",
       " {'winner': 2, 'tie': False, 'model_1': 7, 'model_2': 10},\n",
       " {'winner': 2, 'tie': False, 'model_1': 11, 'model_2': 10},\n",
       " {'winner': 2, 'tie': False, 'model_1': 7, 'model_2': 4},\n",
       " {'winner': 2, 'tie': False, 'model_1': 4, 'model_2': 1},\n",
       " {'winner': 2, 'tie': False, 'model_1': 4, 'model_2': 9},\n",
       " {'winner': 2, 'tie': False, 'model_1': 10, 'model_2': 0},\n",
       " {'winner': 2, 'tie': False, 'model_1': 11, 'model_2': 7},\n",
       " {'winner': 2, 'tie': False, 'model_1': 0, 'model_2': 10},\n",
       " {'winner': 2, 'tie': False, 'model_1': 4, 'model_2': 3},\n",
       " {'winner': 2, 'tie': False, 'model_1': 10, 'model_2': 8},\n",
       " {'winner': 2, 'tie': False, 'model_1': 1, 'model_2': 5},\n",
       " {'winner': 2, 'tie': False, 'model_1': 7, 'model_2': 1},\n",
       " {'winner': 2, 'tie': False, 'model_1': 11, 'model_2': 8},\n",
       " {'winner': 2, 'tie': False, 'model_1': 5, 'model_2': 10},\n",
       " {'winner': 2, 'tie': False, 'model_1': 3, 'model_2': 7},\n",
       " {'winner': 1, 'tie': True, 'model_1': 10, 'model_2': 10},\n",
       " {'winner': 2, 'tie': False, 'model_1': 8, 'model_2': 0},\n",
       " {'winner': 2, 'tie': False, 'model_1': 4, 'model_2': 11},\n",
       " {'winner': 2, 'tie': False, 'model_1': 6, 'model_2': 5},\n",
       " {'winner': 2, 'tie': False, 'model_1': 0, 'model_2': 7},\n",
       " {'winner': 2, 'tie': False, 'model_1': 11, 'model_2': 1},\n",
       " {'winner': 2, 'tie': False, 'model_1': 7, 'model_2': 0},\n",
       " {'winner': 1, 'tie': True, 'model_1': 8, 'model_2': 8},\n",
       " {'winner': 2, 'tie': False, 'model_1': 7, 'model_2': 4}]"
      ]
     },
     "execution_count": 78,
     "metadata": {},
     "output_type": "execute_result"
    }
   ],
   "source": [
    "coherence_battle_results[:100]"
   ]
  },
  {
   "cell_type": "code",
   "execution_count": 88,
   "metadata": {},
   "outputs": [
    {
     "data": {
      "application/vnd.plotly.v1+json": {
       "config": {
        "plotlyServerURL": "https://plot.ly"
       },
       "data": [
        {
         "alignmentgroup": "True",
         "bingroup": "x",
         "hovertemplate": "x=%{x}<br>count=%{y}<extra></extra>",
         "legendgroup": "",
         "marker": {
          "color": "#636efa",
          "pattern": {
           "shape": ""
          }
         },
         "name": "",
         "offsetgroup": "",
         "orientation": "v",
         "showlegend": false,
         "type": "histogram",
         "x": [
          "one",
          "two",
          "tie",
          "tie",
          "two",
          "two",
          "two",
          "two",
          "two",
          "two",
          "two",
          "two",
          "two",
          "two",
          "two",
          "two",
          "two",
          "two",
          "two",
          "two",
          "two",
          "two",
          "two",
          "two",
          "two",
          "two",
          "one",
          "two",
          "two",
          "two",
          "two",
          "one",
          "two",
          "two",
          "two",
          "two",
          "two",
          "two",
          "two",
          "two",
          "two",
          "two",
          "two",
          "two",
          "two",
          "two",
          "two",
          "two",
          "two",
          "two",
          "two",
          "two",
          "two",
          "two",
          "two",
          "two",
          "two",
          "two",
          "two",
          "two",
          "two",
          "two",
          "two",
          "two",
          "two",
          "two",
          "two",
          "two",
          "two",
          "two",
          "two",
          "two",
          "two",
          "two",
          "two",
          "two",
          "two",
          "two",
          "two",
          "two",
          "two",
          "two",
          "two",
          "two",
          "two",
          "two",
          "two",
          "two",
          "two",
          "two",
          "two",
          "tie",
          "two",
          "two",
          "two",
          "two",
          "two",
          "two",
          "tie",
          "two",
          "two",
          "two",
          "two",
          "two",
          "two",
          "two",
          "two",
          "two",
          "two",
          "two",
          "two",
          "two",
          "two",
          "two",
          "tie",
          "two",
          "two",
          "two",
          "two",
          "two",
          "two",
          "two",
          "two",
          "two",
          "two",
          "two",
          "two",
          "two",
          "two",
          "two",
          "two",
          "two",
          "two",
          "two",
          "two",
          "two",
          "two",
          "two",
          "two",
          "two",
          "tie",
          "two",
          "two",
          "two",
          "two",
          "two",
          "two",
          "two",
          "two",
          "two",
          "two",
          "two",
          "two",
          "two",
          "two",
          "two",
          "two",
          "two",
          "two",
          "two",
          "two",
          "two",
          "two",
          "two",
          "tie",
          "two",
          "one",
          "two",
          "two",
          "two",
          "two",
          "two",
          "two",
          "two",
          "two",
          "two",
          "two",
          "two",
          "two",
          "two",
          "tie",
          "two",
          "two",
          "two",
          "two",
          "two",
          "two",
          "two",
          "tie",
          "two",
          "two",
          "tie",
          "two",
          "two",
          "two",
          "two",
          "two",
          "two",
          "two",
          "two",
          "two",
          "two",
          "two",
          "two",
          "two",
          "two",
          "two",
          "two",
          "tie",
          "two",
          "two",
          "two",
          "two",
          "two",
          "two",
          "two",
          "two",
          "tie",
          "two",
          "two",
          "two",
          "two",
          "two",
          "two",
          "two",
          "two",
          "two",
          "two",
          "two",
          "two",
          "two",
          "tie",
          "two",
          "tie",
          "two",
          "two",
          "two",
          "two",
          "two",
          "two",
          "two",
          "two",
          "two",
          "two",
          "two",
          "two",
          "two",
          "two",
          "two",
          "two",
          "two",
          "two",
          "two",
          "two",
          "two",
          "two",
          "two",
          "two",
          "two",
          "two",
          "two",
          "two",
          "two",
          "two",
          "two",
          "two",
          "two",
          "two",
          "two",
          "two",
          "two",
          "two",
          "two",
          "two",
          "two",
          "two",
          "two",
          "two",
          "two",
          "two",
          "two",
          "two",
          "one",
          "two",
          "two",
          "two",
          "tie",
          "two",
          "two",
          "two",
          "two",
          "two",
          "two",
          "two",
          "two",
          "two",
          "two",
          "two",
          "two",
          "two",
          "two",
          "two",
          "one",
          "two",
          "two",
          "two",
          "two",
          "tie",
          "two",
          "two",
          "two",
          "two",
          "two",
          "two",
          "two",
          "two",
          "two",
          "two",
          "two",
          "two",
          "two",
          "two",
          "two",
          "two",
          "two",
          "two",
          "two",
          "two",
          "two",
          "two",
          "two",
          "two",
          "two",
          "two",
          "two",
          "two",
          "two",
          "two",
          "two",
          "two",
          "two",
          "two",
          "tie",
          "tie",
          "two",
          "tie",
          "two",
          "two",
          "two",
          "two",
          "two",
          "two",
          "two",
          "two",
          "two",
          "two",
          "two",
          "two",
          "two",
          "two",
          "two",
          "two",
          "two",
          "two",
          "two",
          "one",
          "two",
          "two",
          "two",
          "tie",
          "two",
          "two",
          "two",
          "two",
          "two",
          "two",
          "two",
          "two",
          "two",
          "two",
          "two",
          "two",
          "two",
          "two",
          "two",
          "two",
          "two",
          "two",
          "one",
          "two",
          "two",
          "tie",
          "two",
          "two",
          "two",
          "two",
          "two",
          "two",
          "two",
          "two",
          "two",
          "two",
          "two",
          "two",
          "two",
          "two",
          "tie",
          "tie",
          "two",
          "two",
          "two",
          "two",
          "two",
          "two",
          "two",
          "two",
          "two",
          "two",
          "tie",
          "two",
          "two",
          "two",
          "one",
          "two",
          "two",
          "two",
          "two",
          "two",
          "two",
          "two",
          "two",
          "two",
          "two",
          "two",
          "two",
          "two",
          "two",
          "tie",
          "two",
          "two",
          "two",
          "two",
          "two",
          "two",
          "two",
          "two",
          "two",
          "two",
          "two",
          "two",
          "two",
          "tie",
          "two",
          "two",
          "two",
          "two",
          "two",
          "two",
          "two",
          "two",
          "two",
          "two",
          "two",
          "two",
          "two",
          "two",
          "two",
          "two",
          "two",
          "two",
          "two",
          "two",
          "two",
          "two",
          "two",
          "one",
          "two",
          "two",
          "tie",
          "two",
          "two",
          "two",
          "two",
          "two",
          "two",
          "two",
          "two",
          "two",
          "two",
          "two",
          "two",
          "two",
          "two",
          "two",
          "two",
          "two",
          "two",
          "two",
          "two",
          "two",
          "two",
          "two",
          "two",
          "two",
          "two",
          "two",
          "two",
          "two",
          "two",
          "two",
          "two",
          "two",
          "two",
          "two",
          "two",
          "two",
          "two",
          "two",
          "two",
          "two",
          "two",
          "tie",
          "two",
          "two",
          "two",
          "two",
          "two",
          "two",
          "two",
          "two",
          "two",
          "two",
          "two",
          "two",
          "two",
          "two",
          "two",
          "two",
          "two",
          "two",
          "two",
          "two",
          "two",
          "two",
          "tie",
          "two",
          "tie",
          "two",
          "two",
          "two",
          "two",
          "two",
          "two",
          "two",
          "two",
          "tie",
          "two",
          "two",
          "two",
          "two",
          "two",
          "two",
          "two",
          "two",
          "two",
          "two",
          "two",
          "two",
          "two",
          "two",
          "two",
          "tie",
          "two",
          "tie",
          "two",
          "tie",
          "two",
          "two",
          "two",
          "two",
          "tie",
          "two",
          "two",
          "two",
          "two",
          "two",
          "tie",
          "two",
          "two",
          "two",
          "two",
          "two",
          "tie",
          "tie",
          "two",
          "two",
          "two",
          "two",
          "two",
          "two",
          "two",
          "two",
          "tie",
          "two",
          "two",
          "two",
          "two",
          "two",
          "two",
          "tie",
          "two",
          "two",
          "two",
          "one",
          "two",
          "two",
          "two",
          "two",
          "two",
          "one",
          "two",
          "two",
          "two",
          "two",
          "one",
          "two",
          "two",
          "two",
          "two",
          "two",
          "two",
          "two",
          "two",
          "two",
          "two",
          "two",
          "two",
          "two",
          "one",
          "two",
          "two",
          "two",
          "two",
          "two",
          "two",
          "two",
          "tie",
          "two",
          "two",
          "two",
          "tie",
          "two",
          "two",
          "two",
          "two",
          "two",
          "two",
          "two",
          "one",
          "two",
          "two",
          "two",
          "two",
          "tie",
          "two",
          "two",
          "two",
          "two",
          "two",
          "two",
          "two",
          "two",
          "two",
          "two",
          "two",
          "two",
          "two",
          "two",
          "two",
          "two",
          "two",
          "two",
          "two",
          "two",
          "two",
          "two",
          "one",
          "two",
          "two",
          "two",
          "two",
          "two",
          "two",
          "two",
          "two",
          "one",
          "two",
          "two",
          "two",
          "two",
          "two",
          "two",
          "two",
          "two",
          "two",
          "two",
          "two",
          "tie",
          "tie",
          "one",
          "two",
          "two",
          "two",
          "two",
          "two",
          "two",
          "two",
          "two",
          "two",
          "two",
          "two",
          "two",
          "two",
          "two",
          "one",
          "two",
          "tie",
          "two",
          "two",
          "two",
          "two",
          "two",
          "two",
          "two",
          "two",
          "two",
          "two",
          "two",
          "two",
          "two",
          "two",
          "two",
          "two",
          "two",
          "two",
          "tie",
          "two",
          "two",
          "tie",
          "two",
          "two",
          "one",
          "two",
          "two",
          "two",
          "two",
          "one",
          "two",
          "tie",
          "two",
          "tie",
          "two",
          "two",
          "two",
          "two",
          "two",
          "two",
          "two",
          "two",
          "two",
          "two",
          "two",
          "two",
          "two",
          "two",
          "two",
          "two",
          "two",
          "two",
          "two",
          "tie",
          "two",
          "tie",
          "two",
          "two",
          "two",
          "tie",
          "two",
          "two",
          "two",
          "two",
          "two",
          "two",
          "two",
          "two",
          "two",
          "tie",
          "two",
          "two",
          "two",
          "two",
          "two",
          "two",
          "two",
          "tie",
          "two",
          "two",
          "two",
          "two",
          "tie",
          "two",
          "two",
          "two",
          "two",
          "one",
          "two",
          "two",
          "two",
          "tie",
          "two",
          "tie",
          "two",
          "two",
          "two",
          "two",
          "two",
          "two",
          "two",
          "two",
          "two",
          "two",
          "two",
          "two",
          "two",
          "two",
          "two",
          "two",
          "two",
          "two",
          "two",
          "two",
          "two",
          "one",
          "two",
          "two",
          "two",
          "two",
          "two",
          "two",
          "tie",
          "two",
          "two",
          "two",
          "two",
          "two",
          "two",
          "two",
          "two",
          "two",
          "two",
          "two",
          "two",
          "two",
          "two",
          "two",
          "two",
          "two",
          "two",
          "two",
          "two",
          "two",
          "two",
          "two",
          "two",
          "two",
          "tie",
          "two",
          "two",
          "two",
          "two",
          "two",
          "two",
          "two",
          "two",
          "two",
          "two",
          "two",
          "two",
          "two",
          "two",
          "two",
          "two",
          "two",
          "two",
          "two",
          "two",
          "two",
          "two",
          "two",
          "two",
          "two",
          "tie",
          "tie",
          "two",
          "two",
          "two",
          "one",
          "two",
          "two",
          "two",
          "two",
          "two",
          "two",
          "two",
          "tie",
          "two",
          "two",
          "two",
          "two",
          "two",
          "two",
          "two",
          "two",
          "two",
          "two",
          "two",
          "two",
          "two",
          "two",
          "two",
          "two",
          "tie",
          "two",
          "tie",
          "two",
          "two",
          "tie",
          "two",
          "two",
          "two",
          "two",
          "two",
          "two",
          "two",
          "two",
          "two",
          "two",
          "two",
          "two",
          "two",
          "two",
          "two",
          "two",
          "two",
          "two",
          "two",
          "two",
          "two",
          "two",
          "two",
          "two",
          "two",
          "two",
          "two",
          "two",
          "tie",
          "two",
          "two",
          "two",
          "two",
          "two",
          "two",
          "two",
          "two",
          "two",
          "two",
          "two",
          "tie",
          "two",
          "two",
          "two",
          "two",
          "two",
          "tie",
          "two",
          "two",
          "two",
          "two",
          "two",
          "two",
          "two",
          "two",
          "two",
          "two",
          "two",
          "two",
          "two",
          "two",
          "two",
          "two",
          "two",
          "two",
          "two",
          "tie",
          "two",
          "two",
          "two",
          "two",
          "two",
          "two",
          "two",
          "two",
          "two",
          "two",
          "two",
          "two",
          "two",
          "two",
          "two",
          "one",
          "two",
          "two",
          "two",
          "two",
          "two",
          "two",
          "two",
          "two",
          "two",
          "two",
          "two",
          "two",
          "two",
          "two",
          "two",
          "two",
          "two",
          "two",
          "two",
          "two",
          "two",
          "two",
          "two",
          "two",
          "two",
          "two",
          "two",
          "two",
          "two",
          "two",
          "two",
          "two",
          "two",
          "two",
          "two",
          "two",
          "two",
          "two",
          "two",
          "two",
          "two",
          "two",
          "two",
          "two",
          "tie",
          "two",
          "two",
          "two",
          "two",
          "two",
          "two",
          "tie",
          "one",
          "two",
          "two",
          "two",
          "two",
          "two",
          "two",
          "two",
          "tie",
          "two",
          "two",
          "two",
          "two",
          "two",
          "two",
          "two",
          "two",
          "two",
          "two",
          "two",
          "two",
          "two",
          "two",
          "two",
          "two",
          "two",
          "two",
          "two",
          "two",
          "two",
          "two",
          "two",
          "one",
          "two",
          "tie",
          "two",
          "two",
          "two",
          "two",
          "two",
          "two",
          "two",
          "tie",
          "two",
          "two",
          "two",
          "two",
          "two",
          "two",
          "two",
          "two",
          "two",
          "two",
          "one",
          "two",
          "two",
          "two",
          "two",
          "two",
          "two",
          "tie",
          "two",
          "two",
          "two",
          "two",
          "two",
          "two",
          "two",
          "tie",
          "two",
          "two",
          "two",
          "two",
          "tie",
          "two",
          "two",
          "two",
          "two",
          "two",
          "two",
          "two",
          "two",
          "two",
          "two",
          "two",
          "two",
          "two",
          "two",
          "two",
          "two",
          "two",
          "two",
          "two",
          "two",
          "two",
          "two",
          "tie",
          "two",
          "two",
          "two",
          "two",
          "two",
          "two",
          "two",
          "tie",
          "two",
          "two",
          "one",
          "two",
          "two",
          "two",
          "two",
          "two",
          "two",
          "two",
          "two",
          "two",
          "two",
          "two",
          "two",
          "two",
          "two",
          "two",
          "two",
          "two",
          "two",
          "two",
          "tie",
          "two",
          "two",
          "two",
          "two",
          "two",
          "two",
          "two",
          "two",
          "two",
          "tie",
          "two",
          "two",
          "two",
          "two",
          "two",
          "tie",
          "two",
          "two",
          "two",
          "two",
          "one",
          "two",
          "two",
          "two",
          "two",
          "two",
          "two",
          "two",
          "two",
          "two",
          "two",
          "two",
          "two",
          "tie",
          "two",
          "two",
          "two",
          "one",
          "two",
          "two",
          "two",
          "two",
          "two",
          "two",
          "two",
          "two",
          "two",
          "two",
          "tie",
          "tie",
          "two",
          "two",
          "two",
          "two",
          "two",
          "two",
          "two",
          "two",
          "two",
          "two",
          "two",
          "tie",
          "two",
          "two",
          "tie",
          "two",
          "two",
          "two",
          "two",
          "tie",
          "two",
          "two",
          "two",
          "two",
          "two",
          "two",
          "two",
          "two",
          "two",
          "two",
          "two",
          "two",
          "two",
          "two",
          "two",
          "two",
          "two",
          "two",
          "two",
          "two",
          "two",
          "two",
          "two",
          "two",
          "two",
          "two",
          "two",
          "two",
          "tie",
          "two",
          "two",
          "two",
          "two",
          "two",
          "two",
          "two",
          "two",
          "two",
          "two",
          "two",
          "two",
          "tie",
          "two",
          "two",
          "two",
          "two",
          "tie",
          "two",
          "two",
          "two",
          "two",
          "two",
          "two",
          "two",
          "two",
          "two",
          "two",
          "two",
          "two",
          "two",
          "two",
          "tie",
          "two",
          "two",
          "two",
          "tie",
          "two",
          "two",
          "two",
          "two",
          "two",
          "two",
          "two",
          "two",
          "two",
          "two",
          "two",
          "two",
          "two",
          "two",
          "two",
          "two",
          "two",
          "two",
          "two",
          "two",
          "two",
          "tie",
          "two",
          "tie",
          "two",
          "two",
          "two",
          "two",
          "two",
          "two",
          "two",
          "two",
          "two",
          "two",
          "two",
          "two",
          "two",
          "two",
          "two",
          "one",
          "two",
          "two",
          "two",
          "two",
          "two",
          "two",
          "two",
          "two",
          "two",
          "two",
          "two",
          "two",
          "two",
          "two",
          "two",
          "two",
          "two",
          "one",
          "two",
          "two",
          "two",
          "two",
          "one",
          "two",
          "two",
          "two",
          "two",
          "two",
          "two",
          "two",
          "tie",
          "two",
          "two",
          "two",
          "two",
          "two",
          "two",
          "two",
          "two",
          "two",
          "two",
          "two",
          "two",
          "two",
          "two",
          "two",
          "two",
          "two",
          "two",
          "two",
          "two",
          "two",
          "two",
          "two",
          "two",
          "two",
          "two",
          "two",
          "two",
          "two",
          "two",
          "two",
          "two",
          "two",
          "tie",
          "two",
          "two",
          "two",
          "one",
          "two",
          "tie",
          "tie",
          "two",
          "two",
          "two",
          "two",
          "two",
          "one",
          "two",
          "two",
          "two",
          "two",
          "two",
          "two",
          "tie",
          "two",
          "two",
          "two",
          "two",
          "two",
          "two",
          "tie",
          "two",
          "two",
          "two",
          "two",
          "two",
          "two",
          "two",
          "two",
          "two",
          "two",
          "two",
          "two",
          "two",
          "two",
          "two",
          "two",
          "two",
          "two",
          "two",
          "two",
          "two",
          "two",
          "two",
          "two",
          "two",
          "two",
          "two",
          "two",
          "two",
          "two",
          "two",
          "two",
          "two",
          "two",
          "two",
          "two",
          "two",
          "two",
          "two",
          "two",
          "tie",
          "two",
          "two",
          "two",
          "two",
          "two",
          "two",
          "tie",
          "tie",
          "two",
          "two",
          "two",
          "two",
          "two",
          "two",
          "two",
          "two",
          "two",
          "two",
          "two",
          "two",
          "two",
          "tie",
          "two",
          "two",
          "two",
          "two",
          "two",
          "two",
          "two",
          "two",
          "two",
          "two",
          "two",
          "two",
          "tie",
          "two",
          "two",
          "two",
          "two",
          "two",
          "two",
          "two",
          "two",
          "two",
          "two",
          "two",
          "two",
          "two",
          "two",
          "two",
          "two",
          "two",
          "two",
          "two",
          "two",
          "two",
          "two",
          "two",
          "two",
          "two",
          "two",
          "tie",
          "two",
          "two",
          "two",
          "two",
          "tie",
          "two",
          "two",
          "two",
          "two",
          "two",
          "two",
          "two",
          "two",
          "two",
          "two",
          "two",
          "two",
          "two",
          "two",
          "two",
          "one",
          "two",
          "tie",
          "two",
          "two",
          "one",
          "two",
          "two",
          "two",
          "two",
          "two",
          "tie",
          "two",
          "two",
          "two",
          "two",
          "two",
          "two",
          "two",
          "tie",
          "two",
          "tie",
          "two",
          "two",
          "two",
          "two",
          "two",
          "two",
          "two",
          "two",
          "two",
          "two",
          "two",
          "two",
          "two",
          "two",
          "two",
          "two",
          "two",
          "two",
          "two",
          "two",
          "tie",
          "two",
          "two",
          "two",
          "two",
          "two",
          "two",
          "two",
          "two",
          "two",
          "tie",
          "two",
          "two",
          "two",
          "two",
          "two",
          "two",
          "two",
          "two",
          "two",
          "two",
          "two",
          "two",
          "two",
          "two",
          "two",
          "two",
          "tie",
          "two",
          "two",
          "two",
          "two",
          "two",
          "two",
          "tie",
          "two",
          "two",
          "two",
          "two",
          "two",
          "two",
          "two",
          "two",
          "tie",
          "two",
          "two",
          "two",
          "two",
          "two",
          "two",
          "two",
          "two",
          "two",
          "tie",
          "two",
          "two",
          "two",
          "two",
          "two",
          "two",
          "two",
          "two",
          "two",
          "two",
          "two",
          "tie",
          "two",
          "tie",
          "two",
          "two",
          "two",
          "two",
          "two",
          "two",
          "tie",
          "two",
          "two",
          "two",
          "two",
          "two",
          "two",
          "two",
          "two",
          "two",
          "two",
          "two",
          "two",
          "two",
          "two",
          "two",
          "tie",
          "two",
          "two",
          "two",
          "two",
          "two",
          "two",
          "two",
          "two",
          "two",
          "two",
          "tie",
          "one",
          "two",
          "two",
          "two",
          "two",
          "two",
          "two",
          "tie",
          "two",
          "two",
          "one",
          "two",
          "one",
          "two",
          "tie",
          "two",
          "two",
          "two",
          "two",
          "two",
          "two",
          "two",
          "two",
          "two",
          "two",
          "two",
          "two",
          "two",
          "tie",
          "two",
          "two",
          "two",
          "two",
          "two",
          "two",
          "tie",
          "two",
          "two",
          "two",
          "two",
          "two",
          "two",
          "two",
          "two",
          "two",
          "two",
          "two",
          "two",
          "two",
          "two",
          "two",
          "two",
          "two",
          "two",
          "two",
          "tie",
          "two",
          "two",
          "two",
          "two",
          "two",
          "two",
          "two",
          "two",
          "two",
          "two",
          "two",
          "tie",
          "two",
          "two",
          "two",
          "two",
          "two",
          "two",
          "two",
          "two",
          "two",
          "two",
          "two",
          "two",
          "two",
          "two",
          "two",
          "two",
          "two",
          "two",
          "two",
          "two",
          "two",
          "two",
          "two",
          "two",
          "two",
          "two",
          "two",
          "two",
          "tie",
          "two",
          "two",
          "two",
          "two",
          "two",
          "tie",
          "two",
          "two",
          "two",
          "two",
          "two",
          "two",
          "two",
          "two",
          "two",
          "two",
          "two",
          "two",
          "two",
          "two",
          "two",
          "two",
          "two",
          "two",
          "two",
          "two",
          "tie",
          "tie",
          "two",
          "two",
          "two",
          "two",
          "two",
          "two",
          "two",
          "two",
          "two",
          "two",
          "two",
          "two",
          "tie",
          "one",
          "two",
          "two",
          "two",
          "two",
          "two",
          "two",
          "tie",
          "two",
          "two",
          "two",
          "two",
          "two",
          "two",
          "two",
          "two",
          "two",
          "two",
          "two",
          "two",
          "two",
          "two",
          "two",
          "two",
          "two",
          "tie",
          "two",
          "two",
          "two",
          "two",
          "two",
          "tie",
          "two",
          "two",
          "two",
          "two",
          "two",
          "two",
          "two",
          "two",
          "two",
          "two",
          "two",
          "two",
          "two",
          "two",
          "two",
          "tie",
          "two",
          "two",
          "two",
          "two",
          "two",
          "two",
          "two",
          "two",
          "tie",
          "one",
          "tie",
          "two",
          "one",
          "two",
          "two",
          "tie",
          "two",
          "one",
          "two",
          "two",
          "two",
          "two",
          "two",
          "two",
          "two",
          "two",
          "two",
          "two",
          "two",
          "two",
          "two",
          "two",
          "two",
          "two",
          "one",
          "two",
          "two",
          "two",
          "two",
          "two",
          "tie",
          "two",
          "two",
          "two",
          "two",
          "two",
          "two",
          "two",
          "two",
          "two",
          "two",
          "two",
          "two",
          "two",
          "two",
          "two",
          "tie",
          "two",
          "two",
          "two",
          "two",
          "two",
          "one",
          "two",
          "two",
          "two",
          "two",
          "two",
          "two",
          "two",
          "two",
          "two",
          "two",
          "two",
          "two",
          "two",
          "two",
          "tie",
          "two",
          "two",
          "two",
          "two",
          "two",
          "tie",
          "two",
          "two",
          "tie",
          "two",
          "two",
          "tie",
          "two",
          "two",
          "two",
          "two",
          "two",
          "two",
          "two",
          "two",
          "two",
          "two",
          "two",
          "two",
          "two",
          "two",
          "two",
          "two",
          "two",
          "one",
          "two",
          "two",
          "two",
          "two",
          "two",
          "two",
          "two",
          "two",
          "tie",
          "two",
          "two",
          "two",
          "two",
          "two",
          "two",
          "two",
          "tie",
          "two",
          "two",
          "two",
          "two",
          "two",
          "two",
          "two",
          "two",
          "two",
          "two",
          "two",
          "two",
          "two",
          "two",
          "two",
          "two",
          "two",
          "two",
          "tie",
          "two",
          "two",
          "two",
          "two",
          "two",
          "two",
          "two",
          "two",
          "two",
          "two",
          "two",
          "two",
          "tie",
          "two",
          "two",
          "two",
          "two",
          "two",
          "two",
          "two",
          "two",
          "two",
          "two",
          "two",
          "two",
          "two",
          "two",
          "two",
          "two",
          "two",
          "two",
          "two",
          "two",
          "tie",
          "two",
          "two",
          "two",
          "two",
          "two",
          "two",
          "two",
          "two",
          "two",
          "two",
          "two",
          "two",
          "two",
          "two",
          "two",
          "tie",
          "two",
          "two",
          "tie",
          "two",
          "two",
          "two",
          "tie",
          "two",
          "two",
          "two",
          "two",
          "two",
          "two",
          "two",
          "two",
          "two",
          "two",
          "two",
          "tie",
          "two",
          "two",
          "two",
          "two",
          "two",
          "two",
          "two",
          "two",
          "two",
          "tie",
          "two",
          "two",
          "two",
          "two",
          "tie",
          "two",
          "two",
          "two",
          "two",
          "two",
          "two",
          "two",
          "two",
          "two",
          "two",
          "two",
          "two",
          "two",
          "two",
          "two",
          "two",
          "two",
          "two",
          "two",
          "two",
          "two",
          "tie",
          "two",
          "two",
          "two",
          "two",
          "two",
          "tie",
          "two",
          "tie",
          "two",
          "two",
          "two",
          "two",
          "two",
          "two",
          "two",
          "two",
          "two",
          "two",
          "two",
          "two",
          "two",
          "two",
          "two",
          "two",
          "two",
          "two",
          "two",
          "one",
          "two",
          "two",
          "two",
          "two",
          "two",
          "two",
          "two",
          "two",
          "two",
          "two",
          "two",
          "two",
          "two",
          "two",
          "two",
          "two",
          "two",
          "two",
          "two",
          "two",
          "two",
          "two",
          "two",
          "two",
          "two",
          "two",
          "tie",
          "two",
          "two",
          "two",
          "two",
          "tie",
          "two",
          "two",
          "two",
          "two",
          "two",
          "two",
          "two",
          "two",
          "tie",
          "two",
          "tie",
          "two",
          "two",
          "two",
          "two",
          "two",
          "two",
          "two",
          "two",
          "two",
          "two",
          "two",
          "two",
          "two",
          "two",
          "two",
          "two",
          "two",
          "two",
          "two",
          "two",
          "two",
          "two",
          "two",
          "two",
          "two",
          "two",
          "two",
          "two",
          "two",
          "two",
          "two",
          "two",
          "two",
          "two",
          "two",
          "tie",
          "two",
          "two",
          "two",
          "two",
          "two",
          "two",
          "tie",
          "two",
          "two",
          "two",
          "two",
          "two",
          "two",
          "tie",
          "two",
          "two",
          "two",
          "two",
          "two",
          "two",
          "two",
          "two",
          "two",
          "two",
          "two",
          "two",
          "two",
          "two",
          "two",
          "two",
          "two",
          "two",
          "two",
          "two",
          "two",
          "two",
          "two",
          "two",
          "two",
          "two",
          "two",
          "two",
          "two",
          "two",
          "two",
          "two",
          "two",
          "two",
          "two",
          "two",
          "two",
          "two",
          "two",
          "two",
          "two",
          "two",
          "two",
          "two",
          "two",
          "two",
          "two",
          "two",
          "two",
          "two",
          "tie",
          "two",
          "two",
          "two",
          "two",
          "two",
          "two",
          "two",
          "two",
          "two",
          "two",
          "tie",
          "two",
          "two",
          "tie",
          "two",
          "two",
          "two",
          "two",
          "two",
          "two",
          "two",
          "two",
          "two",
          "two",
          "two",
          "two",
          "tie",
          "two",
          "two",
          "two",
          "two",
          "two",
          "two",
          "two",
          "two",
          "two",
          "tie",
          "two",
          "two",
          "two",
          "tie",
          "two",
          "two",
          "two",
          "tie",
          "two",
          "two",
          "two",
          "two",
          "two",
          "two",
          "two",
          "two",
          "tie",
          "two",
          "two",
          "two",
          "two",
          "two",
          "two",
          "two",
          "two",
          "two",
          "two",
          "two",
          "two",
          "tie",
          "tie",
          "two",
          "two",
          "two",
          "two",
          "two",
          "two",
          "two",
          "two",
          "tie",
          "two",
          "tie",
          "two",
          "two",
          "two",
          "two",
          "two",
          "two",
          "two",
          "two",
          "two",
          "two",
          "two",
          "two",
          "two",
          "two",
          "tie",
          "two",
          "two",
          "two",
          "two",
          "two",
          "two",
          "two",
          "two",
          "two",
          "tie",
          "one",
          "two",
          "two",
          "two",
          "two",
          "two",
          "two",
          "two",
          "two",
          "two",
          "two",
          "two",
          "two",
          "two",
          "two",
          "tie",
          "two",
          "two",
          "two",
          "two",
          "two",
          "two",
          "two",
          "two",
          "two",
          "two",
          "two",
          "two",
          "two",
          "two",
          "two",
          "two",
          "two",
          "two",
          "two",
          "two",
          "two",
          "two",
          "two",
          "tie",
          "two",
          "two",
          "two",
          "two",
          "two",
          "two",
          "two",
          "two",
          "two",
          "two",
          "two",
          "two",
          "two",
          "two",
          "two",
          "tie",
          "two",
          "two",
          "two",
          "two",
          "two",
          "two",
          "two",
          "two",
          "two",
          "two",
          "two",
          "two",
          "two",
          "two",
          "two",
          "two",
          "tie",
          "tie",
          "tie",
          "two",
          "two",
          "two",
          "two",
          "two",
          "two",
          "two",
          "two",
          "two",
          "two",
          "two",
          "two",
          "two",
          "two",
          "tie",
          "two",
          "two",
          "two",
          "two",
          "two",
          "two",
          "two",
          "two",
          "two",
          "two",
          "two",
          "two",
          "two",
          "two",
          "two",
          "two",
          "two",
          "two",
          "two",
          "two",
          "two",
          "two",
          "two",
          "two",
          "two",
          "two",
          "two",
          "two",
          "two",
          "two",
          "two",
          "two",
          "tie",
          "two",
          "one",
          "two",
          "tie",
          "two",
          "two",
          "two",
          "two",
          "two",
          "two",
          "two",
          "two",
          "two",
          "two",
          "two",
          "tie",
          "two",
          "tie",
          "two",
          "two",
          "two",
          "two",
          "two",
          "two",
          "two",
          "two",
          "two",
          "two",
          "two",
          "two",
          "two",
          "two",
          "two",
          "two",
          "two",
          "tie",
          "two",
          "two",
          "two",
          "two",
          "two",
          "two",
          "two",
          "two",
          "two",
          "two",
          "two",
          "two",
          "two",
          "two",
          "two",
          "two",
          "two",
          "two",
          "two",
          "two",
          "tie",
          "two",
          "two",
          "two",
          "two",
          "two",
          "two",
          "two",
          "two",
          "two",
          "two",
          "two",
          "two",
          "two",
          "two",
          "tie",
          "two",
          "two",
          "two",
          "two",
          "two",
          "two",
          "two",
          "two",
          "two",
          "two",
          "one",
          "tie",
          "two",
          "two",
          "two",
          "two",
          "two",
          "two",
          "two",
          "two",
          "two",
          "two",
          "two",
          "two",
          "two",
          "two",
          "two",
          "two",
          "two",
          "two",
          "two",
          "two",
          "two",
          "two",
          "two",
          "two",
          "two",
          "two",
          "two",
          "two",
          "two",
          "two",
          "two",
          "two",
          "two",
          "two",
          "two",
          "two",
          "tie",
          "tie",
          "two",
          "two",
          "two",
          "one",
          "two",
          "two",
          "two",
          "two",
          "two",
          "two",
          "two",
          "two",
          "two",
          "two",
          "two",
          "two",
          "two",
          "two",
          "two",
          "tie",
          "two",
          "two",
          "two",
          "two",
          "two",
          "two",
          "two",
          "two",
          "two",
          "two",
          "two",
          "two",
          "two",
          "two",
          "two",
          "two",
          "two",
          "two",
          "two",
          "two",
          "tie",
          "two",
          "tie",
          "two",
          "two",
          "two",
          "two",
          "two",
          "two",
          "two",
          "two",
          "two",
          "two",
          "two",
          "two",
          "tie",
          "tie",
          "two",
          "two",
          "one",
          "two",
          "two",
          "two",
          "two",
          "two",
          "two",
          "two",
          "two",
          "two",
          "two",
          "two",
          "two",
          "two",
          "two",
          "two",
          "two",
          "two",
          "two",
          "two",
          "two",
          "two",
          "two",
          "two",
          "two",
          "two",
          "two",
          "two",
          "two",
          "two",
          "two",
          "one",
          "two",
          "two",
          "two",
          "two",
          "two",
          "two",
          "two",
          "two",
          "two",
          "two",
          "two",
          "two",
          "two",
          "two",
          "two",
          "one",
          "two",
          "two",
          "two",
          "tie",
          "two",
          "two",
          "two",
          "tie",
          "two",
          "two",
          "one",
          "tie",
          "two",
          "two",
          "two",
          "two",
          "two",
          "two",
          "two",
          "two",
          "two",
          "tie",
          "two",
          "tie",
          "two",
          "two",
          "two",
          "two",
          "two",
          "tie",
          "two",
          "two",
          "two",
          "two",
          "two",
          "two",
          "two",
          "one",
          "two",
          "two",
          "two",
          "tie",
          "two",
          "two",
          "two",
          "two",
          "one",
          "two",
          "two",
          "two",
          "two",
          "two",
          "two",
          "two",
          "two",
          "two",
          "two",
          "two",
          "two",
          "two",
          "two",
          "two",
          "two",
          "two",
          "two",
          "two",
          "two",
          "two",
          "two",
          "two",
          "two",
          "two",
          "tie",
          "two",
          "two",
          "two",
          "two",
          "two",
          "two",
          "two",
          "two",
          "tie",
          "two",
          "two",
          "two",
          "two",
          "two",
          "two",
          "two",
          "two",
          "two",
          "two",
          "two",
          "two",
          "two",
          "two",
          "two",
          "two",
          "two",
          "two",
          "two",
          "two",
          "two",
          "tie",
          "two",
          "two",
          "two",
          "two",
          "two",
          "two",
          "two",
          "two",
          "two",
          "two",
          "two",
          "two",
          "two",
          "two",
          "two",
          "two",
          "two",
          "two",
          "two",
          "two",
          "two",
          "two",
          "two",
          "two",
          "two",
          "two",
          "one",
          "two",
          "two",
          "two",
          "two",
          "two",
          "two",
          "two",
          "two",
          "two",
          "two",
          "two",
          "two",
          "two",
          "two",
          "two",
          "one",
          "two",
          "two",
          "two",
          "two",
          "two",
          "two",
          "two",
          "two",
          "two",
          "two",
          "two",
          "two",
          "two",
          "two",
          "two",
          "two",
          "two",
          "two",
          "two",
          "two",
          "two",
          "two",
          "two",
          "two",
          "two",
          "two",
          "two",
          "two",
          "two",
          "two",
          "two",
          "two",
          "two",
          "two",
          "two",
          "two",
          "two",
          "two",
          "two",
          "tie",
          "two",
          "tie",
          "two",
          "two",
          "two",
          "two",
          "two",
          "two",
          "two",
          "two",
          "two",
          "two",
          "two",
          "two",
          "two",
          "two",
          "two",
          "two",
          "two",
          "two",
          "two",
          "two",
          "two",
          "two",
          "two",
          "two",
          "two",
          "two",
          "two",
          "two",
          "two",
          "two",
          "two",
          "two",
          "two",
          "two",
          "two",
          "two",
          "two",
          "two",
          "two",
          "two",
          "two",
          "two",
          "two",
          "two",
          "one",
          "two",
          "two",
          "two",
          "two",
          "two",
          "two",
          "two",
          "two",
          "two",
          "two",
          "two",
          "two",
          "two",
          "two",
          "tie",
          "two",
          "two",
          "tie",
          "tie",
          "two",
          "two",
          "two",
          "two",
          "two",
          "two",
          "two",
          "two",
          "two",
          "two",
          "two",
          "two",
          "two",
          "two",
          "two",
          "two",
          "two",
          "two",
          "two"
         ],
         "xaxis": "x",
         "yaxis": "y"
        }
       ],
       "layout": {
        "barmode": "relative",
        "legend": {
         "tracegroupgap": 0
        },
        "margin": {
         "t": 60
        },
        "template": {
         "data": {
          "bar": [
           {
            "error_x": {
             "color": "#2a3f5f"
            },
            "error_y": {
             "color": "#2a3f5f"
            },
            "marker": {
             "line": {
              "color": "#E5ECF6",
              "width": 0.5
             },
             "pattern": {
              "fillmode": "overlay",
              "size": 10,
              "solidity": 0.2
             }
            },
            "type": "bar"
           }
          ],
          "barpolar": [
           {
            "marker": {
             "line": {
              "color": "#E5ECF6",
              "width": 0.5
             },
             "pattern": {
              "fillmode": "overlay",
              "size": 10,
              "solidity": 0.2
             }
            },
            "type": "barpolar"
           }
          ],
          "carpet": [
           {
            "aaxis": {
             "endlinecolor": "#2a3f5f",
             "gridcolor": "white",
             "linecolor": "white",
             "minorgridcolor": "white",
             "startlinecolor": "#2a3f5f"
            },
            "baxis": {
             "endlinecolor": "#2a3f5f",
             "gridcolor": "white",
             "linecolor": "white",
             "minorgridcolor": "white",
             "startlinecolor": "#2a3f5f"
            },
            "type": "carpet"
           }
          ],
          "choropleth": [
           {
            "colorbar": {
             "outlinewidth": 0,
             "ticks": ""
            },
            "type": "choropleth"
           }
          ],
          "contour": [
           {
            "colorbar": {
             "outlinewidth": 0,
             "ticks": ""
            },
            "colorscale": [
             [
              0,
              "#0d0887"
             ],
             [
              0.1111111111111111,
              "#46039f"
             ],
             [
              0.2222222222222222,
              "#7201a8"
             ],
             [
              0.3333333333333333,
              "#9c179e"
             ],
             [
              0.4444444444444444,
              "#bd3786"
             ],
             [
              0.5555555555555556,
              "#d8576b"
             ],
             [
              0.6666666666666666,
              "#ed7953"
             ],
             [
              0.7777777777777778,
              "#fb9f3a"
             ],
             [
              0.8888888888888888,
              "#fdca26"
             ],
             [
              1,
              "#f0f921"
             ]
            ],
            "type": "contour"
           }
          ],
          "contourcarpet": [
           {
            "colorbar": {
             "outlinewidth": 0,
             "ticks": ""
            },
            "type": "contourcarpet"
           }
          ],
          "heatmap": [
           {
            "colorbar": {
             "outlinewidth": 0,
             "ticks": ""
            },
            "colorscale": [
             [
              0,
              "#0d0887"
             ],
             [
              0.1111111111111111,
              "#46039f"
             ],
             [
              0.2222222222222222,
              "#7201a8"
             ],
             [
              0.3333333333333333,
              "#9c179e"
             ],
             [
              0.4444444444444444,
              "#bd3786"
             ],
             [
              0.5555555555555556,
              "#d8576b"
             ],
             [
              0.6666666666666666,
              "#ed7953"
             ],
             [
              0.7777777777777778,
              "#fb9f3a"
             ],
             [
              0.8888888888888888,
              "#fdca26"
             ],
             [
              1,
              "#f0f921"
             ]
            ],
            "type": "heatmap"
           }
          ],
          "heatmapgl": [
           {
            "colorbar": {
             "outlinewidth": 0,
             "ticks": ""
            },
            "colorscale": [
             [
              0,
              "#0d0887"
             ],
             [
              0.1111111111111111,
              "#46039f"
             ],
             [
              0.2222222222222222,
              "#7201a8"
             ],
             [
              0.3333333333333333,
              "#9c179e"
             ],
             [
              0.4444444444444444,
              "#bd3786"
             ],
             [
              0.5555555555555556,
              "#d8576b"
             ],
             [
              0.6666666666666666,
              "#ed7953"
             ],
             [
              0.7777777777777778,
              "#fb9f3a"
             ],
             [
              0.8888888888888888,
              "#fdca26"
             ],
             [
              1,
              "#f0f921"
             ]
            ],
            "type": "heatmapgl"
           }
          ],
          "histogram": [
           {
            "marker": {
             "pattern": {
              "fillmode": "overlay",
              "size": 10,
              "solidity": 0.2
             }
            },
            "type": "histogram"
           }
          ],
          "histogram2d": [
           {
            "colorbar": {
             "outlinewidth": 0,
             "ticks": ""
            },
            "colorscale": [
             [
              0,
              "#0d0887"
             ],
             [
              0.1111111111111111,
              "#46039f"
             ],
             [
              0.2222222222222222,
              "#7201a8"
             ],
             [
              0.3333333333333333,
              "#9c179e"
             ],
             [
              0.4444444444444444,
              "#bd3786"
             ],
             [
              0.5555555555555556,
              "#d8576b"
             ],
             [
              0.6666666666666666,
              "#ed7953"
             ],
             [
              0.7777777777777778,
              "#fb9f3a"
             ],
             [
              0.8888888888888888,
              "#fdca26"
             ],
             [
              1,
              "#f0f921"
             ]
            ],
            "type": "histogram2d"
           }
          ],
          "histogram2dcontour": [
           {
            "colorbar": {
             "outlinewidth": 0,
             "ticks": ""
            },
            "colorscale": [
             [
              0,
              "#0d0887"
             ],
             [
              0.1111111111111111,
              "#46039f"
             ],
             [
              0.2222222222222222,
              "#7201a8"
             ],
             [
              0.3333333333333333,
              "#9c179e"
             ],
             [
              0.4444444444444444,
              "#bd3786"
             ],
             [
              0.5555555555555556,
              "#d8576b"
             ],
             [
              0.6666666666666666,
              "#ed7953"
             ],
             [
              0.7777777777777778,
              "#fb9f3a"
             ],
             [
              0.8888888888888888,
              "#fdca26"
             ],
             [
              1,
              "#f0f921"
             ]
            ],
            "type": "histogram2dcontour"
           }
          ],
          "mesh3d": [
           {
            "colorbar": {
             "outlinewidth": 0,
             "ticks": ""
            },
            "type": "mesh3d"
           }
          ],
          "parcoords": [
           {
            "line": {
             "colorbar": {
              "outlinewidth": 0,
              "ticks": ""
             }
            },
            "type": "parcoords"
           }
          ],
          "pie": [
           {
            "automargin": true,
            "type": "pie"
           }
          ],
          "scatter": [
           {
            "fillpattern": {
             "fillmode": "overlay",
             "size": 10,
             "solidity": 0.2
            },
            "type": "scatter"
           }
          ],
          "scatter3d": [
           {
            "line": {
             "colorbar": {
              "outlinewidth": 0,
              "ticks": ""
             }
            },
            "marker": {
             "colorbar": {
              "outlinewidth": 0,
              "ticks": ""
             }
            },
            "type": "scatter3d"
           }
          ],
          "scattercarpet": [
           {
            "marker": {
             "colorbar": {
              "outlinewidth": 0,
              "ticks": ""
             }
            },
            "type": "scattercarpet"
           }
          ],
          "scattergeo": [
           {
            "marker": {
             "colorbar": {
              "outlinewidth": 0,
              "ticks": ""
             }
            },
            "type": "scattergeo"
           }
          ],
          "scattergl": [
           {
            "marker": {
             "colorbar": {
              "outlinewidth": 0,
              "ticks": ""
             }
            },
            "type": "scattergl"
           }
          ],
          "scattermapbox": [
           {
            "marker": {
             "colorbar": {
              "outlinewidth": 0,
              "ticks": ""
             }
            },
            "type": "scattermapbox"
           }
          ],
          "scatterpolar": [
           {
            "marker": {
             "colorbar": {
              "outlinewidth": 0,
              "ticks": ""
             }
            },
            "type": "scatterpolar"
           }
          ],
          "scatterpolargl": [
           {
            "marker": {
             "colorbar": {
              "outlinewidth": 0,
              "ticks": ""
             }
            },
            "type": "scatterpolargl"
           }
          ],
          "scatterternary": [
           {
            "marker": {
             "colorbar": {
              "outlinewidth": 0,
              "ticks": ""
             }
            },
            "type": "scatterternary"
           }
          ],
          "surface": [
           {
            "colorbar": {
             "outlinewidth": 0,
             "ticks": ""
            },
            "colorscale": [
             [
              0,
              "#0d0887"
             ],
             [
              0.1111111111111111,
              "#46039f"
             ],
             [
              0.2222222222222222,
              "#7201a8"
             ],
             [
              0.3333333333333333,
              "#9c179e"
             ],
             [
              0.4444444444444444,
              "#bd3786"
             ],
             [
              0.5555555555555556,
              "#d8576b"
             ],
             [
              0.6666666666666666,
              "#ed7953"
             ],
             [
              0.7777777777777778,
              "#fb9f3a"
             ],
             [
              0.8888888888888888,
              "#fdca26"
             ],
             [
              1,
              "#f0f921"
             ]
            ],
            "type": "surface"
           }
          ],
          "table": [
           {
            "cells": {
             "fill": {
              "color": "#EBF0F8"
             },
             "line": {
              "color": "white"
             }
            },
            "header": {
             "fill": {
              "color": "#C8D4E3"
             },
             "line": {
              "color": "white"
             }
            },
            "type": "table"
           }
          ]
         },
         "layout": {
          "annotationdefaults": {
           "arrowcolor": "#2a3f5f",
           "arrowhead": 0,
           "arrowwidth": 1
          },
          "autotypenumbers": "strict",
          "coloraxis": {
           "colorbar": {
            "outlinewidth": 0,
            "ticks": ""
           }
          },
          "colorscale": {
           "diverging": [
            [
             0,
             "#8e0152"
            ],
            [
             0.1,
             "#c51b7d"
            ],
            [
             0.2,
             "#de77ae"
            ],
            [
             0.3,
             "#f1b6da"
            ],
            [
             0.4,
             "#fde0ef"
            ],
            [
             0.5,
             "#f7f7f7"
            ],
            [
             0.6,
             "#e6f5d0"
            ],
            [
             0.7,
             "#b8e186"
            ],
            [
             0.8,
             "#7fbc41"
            ],
            [
             0.9,
             "#4d9221"
            ],
            [
             1,
             "#276419"
            ]
           ],
           "sequential": [
            [
             0,
             "#0d0887"
            ],
            [
             0.1111111111111111,
             "#46039f"
            ],
            [
             0.2222222222222222,
             "#7201a8"
            ],
            [
             0.3333333333333333,
             "#9c179e"
            ],
            [
             0.4444444444444444,
             "#bd3786"
            ],
            [
             0.5555555555555556,
             "#d8576b"
            ],
            [
             0.6666666666666666,
             "#ed7953"
            ],
            [
             0.7777777777777778,
             "#fb9f3a"
            ],
            [
             0.8888888888888888,
             "#fdca26"
            ],
            [
             1,
             "#f0f921"
            ]
           ],
           "sequentialminus": [
            [
             0,
             "#0d0887"
            ],
            [
             0.1111111111111111,
             "#46039f"
            ],
            [
             0.2222222222222222,
             "#7201a8"
            ],
            [
             0.3333333333333333,
             "#9c179e"
            ],
            [
             0.4444444444444444,
             "#bd3786"
            ],
            [
             0.5555555555555556,
             "#d8576b"
            ],
            [
             0.6666666666666666,
             "#ed7953"
            ],
            [
             0.7777777777777778,
             "#fb9f3a"
            ],
            [
             0.8888888888888888,
             "#fdca26"
            ],
            [
             1,
             "#f0f921"
            ]
           ]
          },
          "colorway": [
           "#636efa",
           "#EF553B",
           "#00cc96",
           "#ab63fa",
           "#FFA15A",
           "#19d3f3",
           "#FF6692",
           "#B6E880",
           "#FF97FF",
           "#FECB52"
          ],
          "font": {
           "color": "#2a3f5f"
          },
          "geo": {
           "bgcolor": "white",
           "lakecolor": "white",
           "landcolor": "#E5ECF6",
           "showlakes": true,
           "showland": true,
           "subunitcolor": "white"
          },
          "hoverlabel": {
           "align": "left"
          },
          "hovermode": "closest",
          "mapbox": {
           "style": "light"
          },
          "paper_bgcolor": "white",
          "plot_bgcolor": "#E5ECF6",
          "polar": {
           "angularaxis": {
            "gridcolor": "white",
            "linecolor": "white",
            "ticks": ""
           },
           "bgcolor": "#E5ECF6",
           "radialaxis": {
            "gridcolor": "white",
            "linecolor": "white",
            "ticks": ""
           }
          },
          "scene": {
           "xaxis": {
            "backgroundcolor": "#E5ECF6",
            "gridcolor": "white",
            "gridwidth": 2,
            "linecolor": "white",
            "showbackground": true,
            "ticks": "",
            "zerolinecolor": "white"
           },
           "yaxis": {
            "backgroundcolor": "#E5ECF6",
            "gridcolor": "white",
            "gridwidth": 2,
            "linecolor": "white",
            "showbackground": true,
            "ticks": "",
            "zerolinecolor": "white"
           },
           "zaxis": {
            "backgroundcolor": "#E5ECF6",
            "gridcolor": "white",
            "gridwidth": 2,
            "linecolor": "white",
            "showbackground": true,
            "ticks": "",
            "zerolinecolor": "white"
           }
          },
          "shapedefaults": {
           "line": {
            "color": "#2a3f5f"
           }
          },
          "ternary": {
           "aaxis": {
            "gridcolor": "white",
            "linecolor": "white",
            "ticks": ""
           },
           "baxis": {
            "gridcolor": "white",
            "linecolor": "white",
            "ticks": ""
           },
           "bgcolor": "#E5ECF6",
           "caxis": {
            "gridcolor": "white",
            "linecolor": "white",
            "ticks": ""
           }
          },
          "title": {
           "x": 0.05
          },
          "xaxis": {
           "automargin": true,
           "gridcolor": "white",
           "linecolor": "white",
           "ticks": "",
           "title": {
            "standoff": 15
           },
           "zerolinecolor": "white",
           "zerolinewidth": 2
          },
          "yaxis": {
           "automargin": true,
           "gridcolor": "white",
           "linecolor": "white",
           "ticks": "",
           "title": {
            "standoff": 15
           },
           "zerolinecolor": "white",
           "zerolinewidth": 2
          }
         }
        },
        "xaxis": {
         "anchor": "y",
         "domain": [
          0,
          1
         ],
         "title": {
          "text": "x"
         }
        },
        "yaxis": {
         "anchor": "x",
         "domain": [
          0,
          1
         ],
         "title": {
          "text": "count"
         }
        }
       }
      },
      "text/html": [
       "<div>                            <div id=\"1f9b3016-b9b9-42ea-97a7-8a9bb47483fa\" class=\"plotly-graph-div\" style=\"height:525px; width:100%;\"></div>            <script type=\"text/javascript\">                require([\"plotly\"], function(Plotly) {                    window.PLOTLYENV=window.PLOTLYENV || {};                                    if (document.getElementById(\"1f9b3016-b9b9-42ea-97a7-8a9bb47483fa\")) {                    Plotly.newPlot(                        \"1f9b3016-b9b9-42ea-97a7-8a9bb47483fa\",                        [{\"alignmentgroup\":\"True\",\"bingroup\":\"x\",\"hovertemplate\":\"x=%{x}\\u003cbr\\u003ecount=%{y}\\u003cextra\\u003e\\u003c\\u002fextra\\u003e\",\"legendgroup\":\"\",\"marker\":{\"color\":\"#636efa\",\"pattern\":{\"shape\":\"\"}},\"name\":\"\",\"offsetgroup\":\"\",\"orientation\":\"v\",\"showlegend\":false,\"x\":[\"one\",\"two\",\"tie\",\"tie\",\"two\",\"two\",\"two\",\"two\",\"two\",\"two\",\"two\",\"two\",\"two\",\"two\",\"two\",\"two\",\"two\",\"two\",\"two\",\"two\",\"two\",\"two\",\"two\",\"two\",\"two\",\"two\",\"one\",\"two\",\"two\",\"two\",\"two\",\"one\",\"two\",\"two\",\"two\",\"two\",\"two\",\"two\",\"two\",\"two\",\"two\",\"two\",\"two\",\"two\",\"two\",\"two\",\"two\",\"two\",\"two\",\"two\",\"two\",\"two\",\"two\",\"two\",\"two\",\"two\",\"two\",\"two\",\"two\",\"two\",\"two\",\"two\",\"two\",\"two\",\"two\",\"two\",\"two\",\"two\",\"two\",\"two\",\"two\",\"two\",\"two\",\"two\",\"two\",\"two\",\"two\",\"two\",\"two\",\"two\",\"two\",\"two\",\"two\",\"two\",\"two\",\"two\",\"two\",\"two\",\"two\",\"two\",\"two\",\"tie\",\"two\",\"two\",\"two\",\"two\",\"two\",\"two\",\"tie\",\"two\",\"two\",\"two\",\"two\",\"two\",\"two\",\"two\",\"two\",\"two\",\"two\",\"two\",\"two\",\"two\",\"two\",\"two\",\"tie\",\"two\",\"two\",\"two\",\"two\",\"two\",\"two\",\"two\",\"two\",\"two\",\"two\",\"two\",\"two\",\"two\",\"two\",\"two\",\"two\",\"two\",\"two\",\"two\",\"two\",\"two\",\"two\",\"two\",\"two\",\"two\",\"tie\",\"two\",\"two\",\"two\",\"two\",\"two\",\"two\",\"two\",\"two\",\"two\",\"two\",\"two\",\"two\",\"two\",\"two\",\"two\",\"two\",\"two\",\"two\",\"two\",\"two\",\"two\",\"two\",\"two\",\"tie\",\"two\",\"one\",\"two\",\"two\",\"two\",\"two\",\"two\",\"two\",\"two\",\"two\",\"two\",\"two\",\"two\",\"two\",\"two\",\"tie\",\"two\",\"two\",\"two\",\"two\",\"two\",\"two\",\"two\",\"tie\",\"two\",\"two\",\"tie\",\"two\",\"two\",\"two\",\"two\",\"two\",\"two\",\"two\",\"two\",\"two\",\"two\",\"two\",\"two\",\"two\",\"two\",\"two\",\"two\",\"tie\",\"two\",\"two\",\"two\",\"two\",\"two\",\"two\",\"two\",\"two\",\"tie\",\"two\",\"two\",\"two\",\"two\",\"two\",\"two\",\"two\",\"two\",\"two\",\"two\",\"two\",\"two\",\"two\",\"tie\",\"two\",\"tie\",\"two\",\"two\",\"two\",\"two\",\"two\",\"two\",\"two\",\"two\",\"two\",\"two\",\"two\",\"two\",\"two\",\"two\",\"two\",\"two\",\"two\",\"two\",\"two\",\"two\",\"two\",\"two\",\"two\",\"two\",\"two\",\"two\",\"two\",\"two\",\"two\",\"two\",\"two\",\"two\",\"two\",\"two\",\"two\",\"two\",\"two\",\"two\",\"two\",\"two\",\"two\",\"two\",\"two\",\"two\",\"two\",\"two\",\"two\",\"two\",\"one\",\"two\",\"two\",\"two\",\"tie\",\"two\",\"two\",\"two\",\"two\",\"two\",\"two\",\"two\",\"two\",\"two\",\"two\",\"two\",\"two\",\"two\",\"two\",\"two\",\"one\",\"two\",\"two\",\"two\",\"two\",\"tie\",\"two\",\"two\",\"two\",\"two\",\"two\",\"two\",\"two\",\"two\",\"two\",\"two\",\"two\",\"two\",\"two\",\"two\",\"two\",\"two\",\"two\",\"two\",\"two\",\"two\",\"two\",\"two\",\"two\",\"two\",\"two\",\"two\",\"two\",\"two\",\"two\",\"two\",\"two\",\"two\",\"two\",\"two\",\"tie\",\"tie\",\"two\",\"tie\",\"two\",\"two\",\"two\",\"two\",\"two\",\"two\",\"two\",\"two\",\"two\",\"two\",\"two\",\"two\",\"two\",\"two\",\"two\",\"two\",\"two\",\"two\",\"two\",\"one\",\"two\",\"two\",\"two\",\"tie\",\"two\",\"two\",\"two\",\"two\",\"two\",\"two\",\"two\",\"two\",\"two\",\"two\",\"two\",\"two\",\"two\",\"two\",\"two\",\"two\",\"two\",\"two\",\"one\",\"two\",\"two\",\"tie\",\"two\",\"two\",\"two\",\"two\",\"two\",\"two\",\"two\",\"two\",\"two\",\"two\",\"two\",\"two\",\"two\",\"two\",\"tie\",\"tie\",\"two\",\"two\",\"two\",\"two\",\"two\",\"two\",\"two\",\"two\",\"two\",\"two\",\"tie\",\"two\",\"two\",\"two\",\"one\",\"two\",\"two\",\"two\",\"two\",\"two\",\"two\",\"two\",\"two\",\"two\",\"two\",\"two\",\"two\",\"two\",\"two\",\"tie\",\"two\",\"two\",\"two\",\"two\",\"two\",\"two\",\"two\",\"two\",\"two\",\"two\",\"two\",\"two\",\"two\",\"tie\",\"two\",\"two\",\"two\",\"two\",\"two\",\"two\",\"two\",\"two\",\"two\",\"two\",\"two\",\"two\",\"two\",\"two\",\"two\",\"two\",\"two\",\"two\",\"two\",\"two\",\"two\",\"two\",\"two\",\"one\",\"two\",\"two\",\"tie\",\"two\",\"two\",\"two\",\"two\",\"two\",\"two\",\"two\",\"two\",\"two\",\"two\",\"two\",\"two\",\"two\",\"two\",\"two\",\"two\",\"two\",\"two\",\"two\",\"two\",\"two\",\"two\",\"two\",\"two\",\"two\",\"two\",\"two\",\"two\",\"two\",\"two\",\"two\",\"two\",\"two\",\"two\",\"two\",\"two\",\"two\",\"two\",\"two\",\"two\",\"two\",\"two\",\"tie\",\"two\",\"two\",\"two\",\"two\",\"two\",\"two\",\"two\",\"two\",\"two\",\"two\",\"two\",\"two\",\"two\",\"two\",\"two\",\"two\",\"two\",\"two\",\"two\",\"two\",\"two\",\"two\",\"tie\",\"two\",\"tie\",\"two\",\"two\",\"two\",\"two\",\"two\",\"two\",\"two\",\"two\",\"tie\",\"two\",\"two\",\"two\",\"two\",\"two\",\"two\",\"two\",\"two\",\"two\",\"two\",\"two\",\"two\",\"two\",\"two\",\"two\",\"tie\",\"two\",\"tie\",\"two\",\"tie\",\"two\",\"two\",\"two\",\"two\",\"tie\",\"two\",\"two\",\"two\",\"two\",\"two\",\"tie\",\"two\",\"two\",\"two\",\"two\",\"two\",\"tie\",\"tie\",\"two\",\"two\",\"two\",\"two\",\"two\",\"two\",\"two\",\"two\",\"tie\",\"two\",\"two\",\"two\",\"two\",\"two\",\"two\",\"tie\",\"two\",\"two\",\"two\",\"one\",\"two\",\"two\",\"two\",\"two\",\"two\",\"one\",\"two\",\"two\",\"two\",\"two\",\"one\",\"two\",\"two\",\"two\",\"two\",\"two\",\"two\",\"two\",\"two\",\"two\",\"two\",\"two\",\"two\",\"two\",\"one\",\"two\",\"two\",\"two\",\"two\",\"two\",\"two\",\"two\",\"tie\",\"two\",\"two\",\"two\",\"tie\",\"two\",\"two\",\"two\",\"two\",\"two\",\"two\",\"two\",\"one\",\"two\",\"two\",\"two\",\"two\",\"tie\",\"two\",\"two\",\"two\",\"two\",\"two\",\"two\",\"two\",\"two\",\"two\",\"two\",\"two\",\"two\",\"two\",\"two\",\"two\",\"two\",\"two\",\"two\",\"two\",\"two\",\"two\",\"two\",\"one\",\"two\",\"two\",\"two\",\"two\",\"two\",\"two\",\"two\",\"two\",\"one\",\"two\",\"two\",\"two\",\"two\",\"two\",\"two\",\"two\",\"two\",\"two\",\"two\",\"two\",\"tie\",\"tie\",\"one\",\"two\",\"two\",\"two\",\"two\",\"two\",\"two\",\"two\",\"two\",\"two\",\"two\",\"two\",\"two\",\"two\",\"two\",\"one\",\"two\",\"tie\",\"two\",\"two\",\"two\",\"two\",\"two\",\"two\",\"two\",\"two\",\"two\",\"two\",\"two\",\"two\",\"two\",\"two\",\"two\",\"two\",\"two\",\"two\",\"tie\",\"two\",\"two\",\"tie\",\"two\",\"two\",\"one\",\"two\",\"two\",\"two\",\"two\",\"one\",\"two\",\"tie\",\"two\",\"tie\",\"two\",\"two\",\"two\",\"two\",\"two\",\"two\",\"two\",\"two\",\"two\",\"two\",\"two\",\"two\",\"two\",\"two\",\"two\",\"two\",\"two\",\"two\",\"two\",\"tie\",\"two\",\"tie\",\"two\",\"two\",\"two\",\"tie\",\"two\",\"two\",\"two\",\"two\",\"two\",\"two\",\"two\",\"two\",\"two\",\"tie\",\"two\",\"two\",\"two\",\"two\",\"two\",\"two\",\"two\",\"tie\",\"two\",\"two\",\"two\",\"two\",\"tie\",\"two\",\"two\",\"two\",\"two\",\"one\",\"two\",\"two\",\"two\",\"tie\",\"two\",\"tie\",\"two\",\"two\",\"two\",\"two\",\"two\",\"two\",\"two\",\"two\",\"two\",\"two\",\"two\",\"two\",\"two\",\"two\",\"two\",\"two\",\"two\",\"two\",\"two\",\"two\",\"two\",\"one\",\"two\",\"two\",\"two\",\"two\",\"two\",\"two\",\"tie\",\"two\",\"two\",\"two\",\"two\",\"two\",\"two\",\"two\",\"two\",\"two\",\"two\",\"two\",\"two\",\"two\",\"two\",\"two\",\"two\",\"two\",\"two\",\"two\",\"two\",\"two\",\"two\",\"two\",\"two\",\"two\",\"tie\",\"two\",\"two\",\"two\",\"two\",\"two\",\"two\",\"two\",\"two\",\"two\",\"two\",\"two\",\"two\",\"two\",\"two\",\"two\",\"two\",\"two\",\"two\",\"two\",\"two\",\"two\",\"two\",\"two\",\"two\",\"two\",\"tie\",\"tie\",\"two\",\"two\",\"two\",\"one\",\"two\",\"two\",\"two\",\"two\",\"two\",\"two\",\"two\",\"tie\",\"two\",\"two\",\"two\",\"two\",\"two\",\"two\",\"two\",\"two\",\"two\",\"two\",\"two\",\"two\",\"two\",\"two\",\"two\",\"two\",\"tie\",\"two\",\"tie\",\"two\",\"two\",\"tie\",\"two\",\"two\",\"two\",\"two\",\"two\",\"two\",\"two\",\"two\",\"two\",\"two\",\"two\",\"two\",\"two\",\"two\",\"two\",\"two\",\"two\",\"two\",\"two\",\"two\",\"two\",\"two\",\"two\",\"two\",\"two\",\"two\",\"two\",\"two\",\"tie\",\"two\",\"two\",\"two\",\"two\",\"two\",\"two\",\"two\",\"two\",\"two\",\"two\",\"two\",\"tie\",\"two\",\"two\",\"two\",\"two\",\"two\",\"tie\",\"two\",\"two\",\"two\",\"two\",\"two\",\"two\",\"two\",\"two\",\"two\",\"two\",\"two\",\"two\",\"two\",\"two\",\"two\",\"two\",\"two\",\"two\",\"two\",\"tie\",\"two\",\"two\",\"two\",\"two\",\"two\",\"two\",\"two\",\"two\",\"two\",\"two\",\"two\",\"two\",\"two\",\"two\",\"two\",\"one\",\"two\",\"two\",\"two\",\"two\",\"two\",\"two\",\"two\",\"two\",\"two\",\"two\",\"two\",\"two\",\"two\",\"two\",\"two\",\"two\",\"two\",\"two\",\"two\",\"two\",\"two\",\"two\",\"two\",\"two\",\"two\",\"two\",\"two\",\"two\",\"two\",\"two\",\"two\",\"two\",\"two\",\"two\",\"two\",\"two\",\"two\",\"two\",\"two\",\"two\",\"two\",\"two\",\"two\",\"two\",\"tie\",\"two\",\"two\",\"two\",\"two\",\"two\",\"two\",\"tie\",\"one\",\"two\",\"two\",\"two\",\"two\",\"two\",\"two\",\"two\",\"tie\",\"two\",\"two\",\"two\",\"two\",\"two\",\"two\",\"two\",\"two\",\"two\",\"two\",\"two\",\"two\",\"two\",\"two\",\"two\",\"two\",\"two\",\"two\",\"two\",\"two\",\"two\",\"two\",\"two\",\"one\",\"two\",\"tie\",\"two\",\"two\",\"two\",\"two\",\"two\",\"two\",\"two\",\"tie\",\"two\",\"two\",\"two\",\"two\",\"two\",\"two\",\"two\",\"two\",\"two\",\"two\",\"one\",\"two\",\"two\",\"two\",\"two\",\"two\",\"two\",\"tie\",\"two\",\"two\",\"two\",\"two\",\"two\",\"two\",\"two\",\"tie\",\"two\",\"two\",\"two\",\"two\",\"tie\",\"two\",\"two\",\"two\",\"two\",\"two\",\"two\",\"two\",\"two\",\"two\",\"two\",\"two\",\"two\",\"two\",\"two\",\"two\",\"two\",\"two\",\"two\",\"two\",\"two\",\"two\",\"two\",\"tie\",\"two\",\"two\",\"two\",\"two\",\"two\",\"two\",\"two\",\"tie\",\"two\",\"two\",\"one\",\"two\",\"two\",\"two\",\"two\",\"two\",\"two\",\"two\",\"two\",\"two\",\"two\",\"two\",\"two\",\"two\",\"two\",\"two\",\"two\",\"two\",\"two\",\"two\",\"tie\",\"two\",\"two\",\"two\",\"two\",\"two\",\"two\",\"two\",\"two\",\"two\",\"tie\",\"two\",\"two\",\"two\",\"two\",\"two\",\"tie\",\"two\",\"two\",\"two\",\"two\",\"one\",\"two\",\"two\",\"two\",\"two\",\"two\",\"two\",\"two\",\"two\",\"two\",\"two\",\"two\",\"two\",\"tie\",\"two\",\"two\",\"two\",\"one\",\"two\",\"two\",\"two\",\"two\",\"two\",\"two\",\"two\",\"two\",\"two\",\"two\",\"tie\",\"tie\",\"two\",\"two\",\"two\",\"two\",\"two\",\"two\",\"two\",\"two\",\"two\",\"two\",\"two\",\"tie\",\"two\",\"two\",\"tie\",\"two\",\"two\",\"two\",\"two\",\"tie\",\"two\",\"two\",\"two\",\"two\",\"two\",\"two\",\"two\",\"two\",\"two\",\"two\",\"two\",\"two\",\"two\",\"two\",\"two\",\"two\",\"two\",\"two\",\"two\",\"two\",\"two\",\"two\",\"two\",\"two\",\"two\",\"two\",\"two\",\"two\",\"tie\",\"two\",\"two\",\"two\",\"two\",\"two\",\"two\",\"two\",\"two\",\"two\",\"two\",\"two\",\"two\",\"tie\",\"two\",\"two\",\"two\",\"two\",\"tie\",\"two\",\"two\",\"two\",\"two\",\"two\",\"two\",\"two\",\"two\",\"two\",\"two\",\"two\",\"two\",\"two\",\"two\",\"tie\",\"two\",\"two\",\"two\",\"tie\",\"two\",\"two\",\"two\",\"two\",\"two\",\"two\",\"two\",\"two\",\"two\",\"two\",\"two\",\"two\",\"two\",\"two\",\"two\",\"two\",\"two\",\"two\",\"two\",\"two\",\"two\",\"tie\",\"two\",\"tie\",\"two\",\"two\",\"two\",\"two\",\"two\",\"two\",\"two\",\"two\",\"two\",\"two\",\"two\",\"two\",\"two\",\"two\",\"two\",\"one\",\"two\",\"two\",\"two\",\"two\",\"two\",\"two\",\"two\",\"two\",\"two\",\"two\",\"two\",\"two\",\"two\",\"two\",\"two\",\"two\",\"two\",\"one\",\"two\",\"two\",\"two\",\"two\",\"one\",\"two\",\"two\",\"two\",\"two\",\"two\",\"two\",\"two\",\"tie\",\"two\",\"two\",\"two\",\"two\",\"two\",\"two\",\"two\",\"two\",\"two\",\"two\",\"two\",\"two\",\"two\",\"two\",\"two\",\"two\",\"two\",\"two\",\"two\",\"two\",\"two\",\"two\",\"two\",\"two\",\"two\",\"two\",\"two\",\"two\",\"two\",\"two\",\"two\",\"two\",\"two\",\"tie\",\"two\",\"two\",\"two\",\"one\",\"two\",\"tie\",\"tie\",\"two\",\"two\",\"two\",\"two\",\"two\",\"one\",\"two\",\"two\",\"two\",\"two\",\"two\",\"two\",\"tie\",\"two\",\"two\",\"two\",\"two\",\"two\",\"two\",\"tie\",\"two\",\"two\",\"two\",\"two\",\"two\",\"two\",\"two\",\"two\",\"two\",\"two\",\"two\",\"two\",\"two\",\"two\",\"two\",\"two\",\"two\",\"two\",\"two\",\"two\",\"two\",\"two\",\"two\",\"two\",\"two\",\"two\",\"two\",\"two\",\"two\",\"two\",\"two\",\"two\",\"two\",\"two\",\"two\",\"two\",\"two\",\"two\",\"two\",\"two\",\"tie\",\"two\",\"two\",\"two\",\"two\",\"two\",\"two\",\"tie\",\"tie\",\"two\",\"two\",\"two\",\"two\",\"two\",\"two\",\"two\",\"two\",\"two\",\"two\",\"two\",\"two\",\"two\",\"tie\",\"two\",\"two\",\"two\",\"two\",\"two\",\"two\",\"two\",\"two\",\"two\",\"two\",\"two\",\"two\",\"tie\",\"two\",\"two\",\"two\",\"two\",\"two\",\"two\",\"two\",\"two\",\"two\",\"two\",\"two\",\"two\",\"two\",\"two\",\"two\",\"two\",\"two\",\"two\",\"two\",\"two\",\"two\",\"two\",\"two\",\"two\",\"two\",\"two\",\"tie\",\"two\",\"two\",\"two\",\"two\",\"tie\",\"two\",\"two\",\"two\",\"two\",\"two\",\"two\",\"two\",\"two\",\"two\",\"two\",\"two\",\"two\",\"two\",\"two\",\"two\",\"one\",\"two\",\"tie\",\"two\",\"two\",\"one\",\"two\",\"two\",\"two\",\"two\",\"two\",\"tie\",\"two\",\"two\",\"two\",\"two\",\"two\",\"two\",\"two\",\"tie\",\"two\",\"tie\",\"two\",\"two\",\"two\",\"two\",\"two\",\"two\",\"two\",\"two\",\"two\",\"two\",\"two\",\"two\",\"two\",\"two\",\"two\",\"two\",\"two\",\"two\",\"two\",\"two\",\"tie\",\"two\",\"two\",\"two\",\"two\",\"two\",\"two\",\"two\",\"two\",\"two\",\"tie\",\"two\",\"two\",\"two\",\"two\",\"two\",\"two\",\"two\",\"two\",\"two\",\"two\",\"two\",\"two\",\"two\",\"two\",\"two\",\"two\",\"tie\",\"two\",\"two\",\"two\",\"two\",\"two\",\"two\",\"tie\",\"two\",\"two\",\"two\",\"two\",\"two\",\"two\",\"two\",\"two\",\"tie\",\"two\",\"two\",\"two\",\"two\",\"two\",\"two\",\"two\",\"two\",\"two\",\"tie\",\"two\",\"two\",\"two\",\"two\",\"two\",\"two\",\"two\",\"two\",\"two\",\"two\",\"two\",\"tie\",\"two\",\"tie\",\"two\",\"two\",\"two\",\"two\",\"two\",\"two\",\"tie\",\"two\",\"two\",\"two\",\"two\",\"two\",\"two\",\"two\",\"two\",\"two\",\"two\",\"two\",\"two\",\"two\",\"two\",\"two\",\"tie\",\"two\",\"two\",\"two\",\"two\",\"two\",\"two\",\"two\",\"two\",\"two\",\"two\",\"tie\",\"one\",\"two\",\"two\",\"two\",\"two\",\"two\",\"two\",\"tie\",\"two\",\"two\",\"one\",\"two\",\"one\",\"two\",\"tie\",\"two\",\"two\",\"two\",\"two\",\"two\",\"two\",\"two\",\"two\",\"two\",\"two\",\"two\",\"two\",\"two\",\"tie\",\"two\",\"two\",\"two\",\"two\",\"two\",\"two\",\"tie\",\"two\",\"two\",\"two\",\"two\",\"two\",\"two\",\"two\",\"two\",\"two\",\"two\",\"two\",\"two\",\"two\",\"two\",\"two\",\"two\",\"two\",\"two\",\"two\",\"tie\",\"two\",\"two\",\"two\",\"two\",\"two\",\"two\",\"two\",\"two\",\"two\",\"two\",\"two\",\"tie\",\"two\",\"two\",\"two\",\"two\",\"two\",\"two\",\"two\",\"two\",\"two\",\"two\",\"two\",\"two\",\"two\",\"two\",\"two\",\"two\",\"two\",\"two\",\"two\",\"two\",\"two\",\"two\",\"two\",\"two\",\"two\",\"two\",\"two\",\"two\",\"tie\",\"two\",\"two\",\"two\",\"two\",\"two\",\"tie\",\"two\",\"two\",\"two\",\"two\",\"two\",\"two\",\"two\",\"two\",\"two\",\"two\",\"two\",\"two\",\"two\",\"two\",\"two\",\"two\",\"two\",\"two\",\"two\",\"two\",\"tie\",\"tie\",\"two\",\"two\",\"two\",\"two\",\"two\",\"two\",\"two\",\"two\",\"two\",\"two\",\"two\",\"two\",\"tie\",\"one\",\"two\",\"two\",\"two\",\"two\",\"two\",\"two\",\"tie\",\"two\",\"two\",\"two\",\"two\",\"two\",\"two\",\"two\",\"two\",\"two\",\"two\",\"two\",\"two\",\"two\",\"two\",\"two\",\"two\",\"two\",\"tie\",\"two\",\"two\",\"two\",\"two\",\"two\",\"tie\",\"two\",\"two\",\"two\",\"two\",\"two\",\"two\",\"two\",\"two\",\"two\",\"two\",\"two\",\"two\",\"two\",\"two\",\"two\",\"tie\",\"two\",\"two\",\"two\",\"two\",\"two\",\"two\",\"two\",\"two\",\"tie\",\"one\",\"tie\",\"two\",\"one\",\"two\",\"two\",\"tie\",\"two\",\"one\",\"two\",\"two\",\"two\",\"two\",\"two\",\"two\",\"two\",\"two\",\"two\",\"two\",\"two\",\"two\",\"two\",\"two\",\"two\",\"two\",\"one\",\"two\",\"two\",\"two\",\"two\",\"two\",\"tie\",\"two\",\"two\",\"two\",\"two\",\"two\",\"two\",\"two\",\"two\",\"two\",\"two\",\"two\",\"two\",\"two\",\"two\",\"two\",\"tie\",\"two\",\"two\",\"two\",\"two\",\"two\",\"one\",\"two\",\"two\",\"two\",\"two\",\"two\",\"two\",\"two\",\"two\",\"two\",\"two\",\"two\",\"two\",\"two\",\"two\",\"tie\",\"two\",\"two\",\"two\",\"two\",\"two\",\"tie\",\"two\",\"two\",\"tie\",\"two\",\"two\",\"tie\",\"two\",\"two\",\"two\",\"two\",\"two\",\"two\",\"two\",\"two\",\"two\",\"two\",\"two\",\"two\",\"two\",\"two\",\"two\",\"two\",\"two\",\"one\",\"two\",\"two\",\"two\",\"two\",\"two\",\"two\",\"two\",\"two\",\"tie\",\"two\",\"two\",\"two\",\"two\",\"two\",\"two\",\"two\",\"tie\",\"two\",\"two\",\"two\",\"two\",\"two\",\"two\",\"two\",\"two\",\"two\",\"two\",\"two\",\"two\",\"two\",\"two\",\"two\",\"two\",\"two\",\"two\",\"tie\",\"two\",\"two\",\"two\",\"two\",\"two\",\"two\",\"two\",\"two\",\"two\",\"two\",\"two\",\"two\",\"tie\",\"two\",\"two\",\"two\",\"two\",\"two\",\"two\",\"two\",\"two\",\"two\",\"two\",\"two\",\"two\",\"two\",\"two\",\"two\",\"two\",\"two\",\"two\",\"two\",\"two\",\"tie\",\"two\",\"two\",\"two\",\"two\",\"two\",\"two\",\"two\",\"two\",\"two\",\"two\",\"two\",\"two\",\"two\",\"two\",\"two\",\"tie\",\"two\",\"two\",\"tie\",\"two\",\"two\",\"two\",\"tie\",\"two\",\"two\",\"two\",\"two\",\"two\",\"two\",\"two\",\"two\",\"two\",\"two\",\"two\",\"tie\",\"two\",\"two\",\"two\",\"two\",\"two\",\"two\",\"two\",\"two\",\"two\",\"tie\",\"two\",\"two\",\"two\",\"two\",\"tie\",\"two\",\"two\",\"two\",\"two\",\"two\",\"two\",\"two\",\"two\",\"two\",\"two\",\"two\",\"two\",\"two\",\"two\",\"two\",\"two\",\"two\",\"two\",\"two\",\"two\",\"two\",\"tie\",\"two\",\"two\",\"two\",\"two\",\"two\",\"tie\",\"two\",\"tie\",\"two\",\"two\",\"two\",\"two\",\"two\",\"two\",\"two\",\"two\",\"two\",\"two\",\"two\",\"two\",\"two\",\"two\",\"two\",\"two\",\"two\",\"two\",\"two\",\"one\",\"two\",\"two\",\"two\",\"two\",\"two\",\"two\",\"two\",\"two\",\"two\",\"two\",\"two\",\"two\",\"two\",\"two\",\"two\",\"two\",\"two\",\"two\",\"two\",\"two\",\"two\",\"two\",\"two\",\"two\",\"two\",\"two\",\"tie\",\"two\",\"two\",\"two\",\"two\",\"tie\",\"two\",\"two\",\"two\",\"two\",\"two\",\"two\",\"two\",\"two\",\"tie\",\"two\",\"tie\",\"two\",\"two\",\"two\",\"two\",\"two\",\"two\",\"two\",\"two\",\"two\",\"two\",\"two\",\"two\",\"two\",\"two\",\"two\",\"two\",\"two\",\"two\",\"two\",\"two\",\"two\",\"two\",\"two\",\"two\",\"two\",\"two\",\"two\",\"two\",\"two\",\"two\",\"two\",\"two\",\"two\",\"two\",\"two\",\"tie\",\"two\",\"two\",\"two\",\"two\",\"two\",\"two\",\"tie\",\"two\",\"two\",\"two\",\"two\",\"two\",\"two\",\"tie\",\"two\",\"two\",\"two\",\"two\",\"two\",\"two\",\"two\",\"two\",\"two\",\"two\",\"two\",\"two\",\"two\",\"two\",\"two\",\"two\",\"two\",\"two\",\"two\",\"two\",\"two\",\"two\",\"two\",\"two\",\"two\",\"two\",\"two\",\"two\",\"two\",\"two\",\"two\",\"two\",\"two\",\"two\",\"two\",\"two\",\"two\",\"two\",\"two\",\"two\",\"two\",\"two\",\"two\",\"two\",\"two\",\"two\",\"two\",\"two\",\"two\",\"two\",\"tie\",\"two\",\"two\",\"two\",\"two\",\"two\",\"two\",\"two\",\"two\",\"two\",\"two\",\"tie\",\"two\",\"two\",\"tie\",\"two\",\"two\",\"two\",\"two\",\"two\",\"two\",\"two\",\"two\",\"two\",\"two\",\"two\",\"two\",\"tie\",\"two\",\"two\",\"two\",\"two\",\"two\",\"two\",\"two\",\"two\",\"two\",\"tie\",\"two\",\"two\",\"two\",\"tie\",\"two\",\"two\",\"two\",\"tie\",\"two\",\"two\",\"two\",\"two\",\"two\",\"two\",\"two\",\"two\",\"tie\",\"two\",\"two\",\"two\",\"two\",\"two\",\"two\",\"two\",\"two\",\"two\",\"two\",\"two\",\"two\",\"tie\",\"tie\",\"two\",\"two\",\"two\",\"two\",\"two\",\"two\",\"two\",\"two\",\"tie\",\"two\",\"tie\",\"two\",\"two\",\"two\",\"two\",\"two\",\"two\",\"two\",\"two\",\"two\",\"two\",\"two\",\"two\",\"two\",\"two\",\"tie\",\"two\",\"two\",\"two\",\"two\",\"two\",\"two\",\"two\",\"two\",\"two\",\"tie\",\"one\",\"two\",\"two\",\"two\",\"two\",\"two\",\"two\",\"two\",\"two\",\"two\",\"two\",\"two\",\"two\",\"two\",\"two\",\"tie\",\"two\",\"two\",\"two\",\"two\",\"two\",\"two\",\"two\",\"two\",\"two\",\"two\",\"two\",\"two\",\"two\",\"two\",\"two\",\"two\",\"two\",\"two\",\"two\",\"two\",\"two\",\"two\",\"two\",\"tie\",\"two\",\"two\",\"two\",\"two\",\"two\",\"two\",\"two\",\"two\",\"two\",\"two\",\"two\",\"two\",\"two\",\"two\",\"two\",\"tie\",\"two\",\"two\",\"two\",\"two\",\"two\",\"two\",\"two\",\"two\",\"two\",\"two\",\"two\",\"two\",\"two\",\"two\",\"two\",\"two\",\"tie\",\"tie\",\"tie\",\"two\",\"two\",\"two\",\"two\",\"two\",\"two\",\"two\",\"two\",\"two\",\"two\",\"two\",\"two\",\"two\",\"two\",\"tie\",\"two\",\"two\",\"two\",\"two\",\"two\",\"two\",\"two\",\"two\",\"two\",\"two\",\"two\",\"two\",\"two\",\"two\",\"two\",\"two\",\"two\",\"two\",\"two\",\"two\",\"two\",\"two\",\"two\",\"two\",\"two\",\"two\",\"two\",\"two\",\"two\",\"two\",\"two\",\"two\",\"tie\",\"two\",\"one\",\"two\",\"tie\",\"two\",\"two\",\"two\",\"two\",\"two\",\"two\",\"two\",\"two\",\"two\",\"two\",\"two\",\"tie\",\"two\",\"tie\",\"two\",\"two\",\"two\",\"two\",\"two\",\"two\",\"two\",\"two\",\"two\",\"two\",\"two\",\"two\",\"two\",\"two\",\"two\",\"two\",\"two\",\"tie\",\"two\",\"two\",\"two\",\"two\",\"two\",\"two\",\"two\",\"two\",\"two\",\"two\",\"two\",\"two\",\"two\",\"two\",\"two\",\"two\",\"two\",\"two\",\"two\",\"two\",\"tie\",\"two\",\"two\",\"two\",\"two\",\"two\",\"two\",\"two\",\"two\",\"two\",\"two\",\"two\",\"two\",\"two\",\"two\",\"tie\",\"two\",\"two\",\"two\",\"two\",\"two\",\"two\",\"two\",\"two\",\"two\",\"two\",\"one\",\"tie\",\"two\",\"two\",\"two\",\"two\",\"two\",\"two\",\"two\",\"two\",\"two\",\"two\",\"two\",\"two\",\"two\",\"two\",\"two\",\"two\",\"two\",\"two\",\"two\",\"two\",\"two\",\"two\",\"two\",\"two\",\"two\",\"two\",\"two\",\"two\",\"two\",\"two\",\"two\",\"two\",\"two\",\"two\",\"two\",\"two\",\"tie\",\"tie\",\"two\",\"two\",\"two\",\"one\",\"two\",\"two\",\"two\",\"two\",\"two\",\"two\",\"two\",\"two\",\"two\",\"two\",\"two\",\"two\",\"two\",\"two\",\"two\",\"tie\",\"two\",\"two\",\"two\",\"two\",\"two\",\"two\",\"two\",\"two\",\"two\",\"two\",\"two\",\"two\",\"two\",\"two\",\"two\",\"two\",\"two\",\"two\",\"two\",\"two\",\"tie\",\"two\",\"tie\",\"two\",\"two\",\"two\",\"two\",\"two\",\"two\",\"two\",\"two\",\"two\",\"two\",\"two\",\"two\",\"tie\",\"tie\",\"two\",\"two\",\"one\",\"two\",\"two\",\"two\",\"two\",\"two\",\"two\",\"two\",\"two\",\"two\",\"two\",\"two\",\"two\",\"two\",\"two\",\"two\",\"two\",\"two\",\"two\",\"two\",\"two\",\"two\",\"two\",\"two\",\"two\",\"two\",\"two\",\"two\",\"two\",\"two\",\"two\",\"one\",\"two\",\"two\",\"two\",\"two\",\"two\",\"two\",\"two\",\"two\",\"two\",\"two\",\"two\",\"two\",\"two\",\"two\",\"two\",\"one\",\"two\",\"two\",\"two\",\"tie\",\"two\",\"two\",\"two\",\"tie\",\"two\",\"two\",\"one\",\"tie\",\"two\",\"two\",\"two\",\"two\",\"two\",\"two\",\"two\",\"two\",\"two\",\"tie\",\"two\",\"tie\",\"two\",\"two\",\"two\",\"two\",\"two\",\"tie\",\"two\",\"two\",\"two\",\"two\",\"two\",\"two\",\"two\",\"one\",\"two\",\"two\",\"two\",\"tie\",\"two\",\"two\",\"two\",\"two\",\"one\",\"two\",\"two\",\"two\",\"two\",\"two\",\"two\",\"two\",\"two\",\"two\",\"two\",\"two\",\"two\",\"two\",\"two\",\"two\",\"two\",\"two\",\"two\",\"two\",\"two\",\"two\",\"two\",\"two\",\"two\",\"two\",\"tie\",\"two\",\"two\",\"two\",\"two\",\"two\",\"two\",\"two\",\"two\",\"tie\",\"two\",\"two\",\"two\",\"two\",\"two\",\"two\",\"two\",\"two\",\"two\",\"two\",\"two\",\"two\",\"two\",\"two\",\"two\",\"two\",\"two\",\"two\",\"two\",\"two\",\"two\",\"tie\",\"two\",\"two\",\"two\",\"two\",\"two\",\"two\",\"two\",\"two\",\"two\",\"two\",\"two\",\"two\",\"two\",\"two\",\"two\",\"two\",\"two\",\"two\",\"two\",\"two\",\"two\",\"two\",\"two\",\"two\",\"two\",\"two\",\"one\",\"two\",\"two\",\"two\",\"two\",\"two\",\"two\",\"two\",\"two\",\"two\",\"two\",\"two\",\"two\",\"two\",\"two\",\"two\",\"one\",\"two\",\"two\",\"two\",\"two\",\"two\",\"two\",\"two\",\"two\",\"two\",\"two\",\"two\",\"two\",\"two\",\"two\",\"two\",\"two\",\"two\",\"two\",\"two\",\"two\",\"two\",\"two\",\"two\",\"two\",\"two\",\"two\",\"two\",\"two\",\"two\",\"two\",\"two\",\"two\",\"two\",\"two\",\"two\",\"two\",\"two\",\"two\",\"two\",\"tie\",\"two\",\"tie\",\"two\",\"two\",\"two\",\"two\",\"two\",\"two\",\"two\",\"two\",\"two\",\"two\",\"two\",\"two\",\"two\",\"two\",\"two\",\"two\",\"two\",\"two\",\"two\",\"two\",\"two\",\"two\",\"two\",\"two\",\"two\",\"two\",\"two\",\"two\",\"two\",\"two\",\"two\",\"two\",\"two\",\"two\",\"two\",\"two\",\"two\",\"two\",\"two\",\"two\",\"two\",\"two\",\"two\",\"two\",\"one\",\"two\",\"two\",\"two\",\"two\",\"two\",\"two\",\"two\",\"two\",\"two\",\"two\",\"two\",\"two\",\"two\",\"two\",\"tie\",\"two\",\"two\",\"tie\",\"tie\",\"two\",\"two\",\"two\",\"two\",\"two\",\"two\",\"two\",\"two\",\"two\",\"two\",\"two\",\"two\",\"two\",\"two\",\"two\",\"two\",\"two\",\"two\",\"two\"],\"xaxis\":\"x\",\"yaxis\":\"y\",\"type\":\"histogram\"}],                        {\"template\":{\"data\":{\"histogram2dcontour\":[{\"type\":\"histogram2dcontour\",\"colorbar\":{\"outlinewidth\":0,\"ticks\":\"\"},\"colorscale\":[[0.0,\"#0d0887\"],[0.1111111111111111,\"#46039f\"],[0.2222222222222222,\"#7201a8\"],[0.3333333333333333,\"#9c179e\"],[0.4444444444444444,\"#bd3786\"],[0.5555555555555556,\"#d8576b\"],[0.6666666666666666,\"#ed7953\"],[0.7777777777777778,\"#fb9f3a\"],[0.8888888888888888,\"#fdca26\"],[1.0,\"#f0f921\"]]}],\"choropleth\":[{\"type\":\"choropleth\",\"colorbar\":{\"outlinewidth\":0,\"ticks\":\"\"}}],\"histogram2d\":[{\"type\":\"histogram2d\",\"colorbar\":{\"outlinewidth\":0,\"ticks\":\"\"},\"colorscale\":[[0.0,\"#0d0887\"],[0.1111111111111111,\"#46039f\"],[0.2222222222222222,\"#7201a8\"],[0.3333333333333333,\"#9c179e\"],[0.4444444444444444,\"#bd3786\"],[0.5555555555555556,\"#d8576b\"],[0.6666666666666666,\"#ed7953\"],[0.7777777777777778,\"#fb9f3a\"],[0.8888888888888888,\"#fdca26\"],[1.0,\"#f0f921\"]]}],\"heatmap\":[{\"type\":\"heatmap\",\"colorbar\":{\"outlinewidth\":0,\"ticks\":\"\"},\"colorscale\":[[0.0,\"#0d0887\"],[0.1111111111111111,\"#46039f\"],[0.2222222222222222,\"#7201a8\"],[0.3333333333333333,\"#9c179e\"],[0.4444444444444444,\"#bd3786\"],[0.5555555555555556,\"#d8576b\"],[0.6666666666666666,\"#ed7953\"],[0.7777777777777778,\"#fb9f3a\"],[0.8888888888888888,\"#fdca26\"],[1.0,\"#f0f921\"]]}],\"heatmapgl\":[{\"type\":\"heatmapgl\",\"colorbar\":{\"outlinewidth\":0,\"ticks\":\"\"},\"colorscale\":[[0.0,\"#0d0887\"],[0.1111111111111111,\"#46039f\"],[0.2222222222222222,\"#7201a8\"],[0.3333333333333333,\"#9c179e\"],[0.4444444444444444,\"#bd3786\"],[0.5555555555555556,\"#d8576b\"],[0.6666666666666666,\"#ed7953\"],[0.7777777777777778,\"#fb9f3a\"],[0.8888888888888888,\"#fdca26\"],[1.0,\"#f0f921\"]]}],\"contourcarpet\":[{\"type\":\"contourcarpet\",\"colorbar\":{\"outlinewidth\":0,\"ticks\":\"\"}}],\"contour\":[{\"type\":\"contour\",\"colorbar\":{\"outlinewidth\":0,\"ticks\":\"\"},\"colorscale\":[[0.0,\"#0d0887\"],[0.1111111111111111,\"#46039f\"],[0.2222222222222222,\"#7201a8\"],[0.3333333333333333,\"#9c179e\"],[0.4444444444444444,\"#bd3786\"],[0.5555555555555556,\"#d8576b\"],[0.6666666666666666,\"#ed7953\"],[0.7777777777777778,\"#fb9f3a\"],[0.8888888888888888,\"#fdca26\"],[1.0,\"#f0f921\"]]}],\"surface\":[{\"type\":\"surface\",\"colorbar\":{\"outlinewidth\":0,\"ticks\":\"\"},\"colorscale\":[[0.0,\"#0d0887\"],[0.1111111111111111,\"#46039f\"],[0.2222222222222222,\"#7201a8\"],[0.3333333333333333,\"#9c179e\"],[0.4444444444444444,\"#bd3786\"],[0.5555555555555556,\"#d8576b\"],[0.6666666666666666,\"#ed7953\"],[0.7777777777777778,\"#fb9f3a\"],[0.8888888888888888,\"#fdca26\"],[1.0,\"#f0f921\"]]}],\"mesh3d\":[{\"type\":\"mesh3d\",\"colorbar\":{\"outlinewidth\":0,\"ticks\":\"\"}}],\"scatter\":[{\"fillpattern\":{\"fillmode\":\"overlay\",\"size\":10,\"solidity\":0.2},\"type\":\"scatter\"}],\"parcoords\":[{\"type\":\"parcoords\",\"line\":{\"colorbar\":{\"outlinewidth\":0,\"ticks\":\"\"}}}],\"scatterpolargl\":[{\"type\":\"scatterpolargl\",\"marker\":{\"colorbar\":{\"outlinewidth\":0,\"ticks\":\"\"}}}],\"bar\":[{\"error_x\":{\"color\":\"#2a3f5f\"},\"error_y\":{\"color\":\"#2a3f5f\"},\"marker\":{\"line\":{\"color\":\"#E5ECF6\",\"width\":0.5},\"pattern\":{\"fillmode\":\"overlay\",\"size\":10,\"solidity\":0.2}},\"type\":\"bar\"}],\"scattergeo\":[{\"type\":\"scattergeo\",\"marker\":{\"colorbar\":{\"outlinewidth\":0,\"ticks\":\"\"}}}],\"scatterpolar\":[{\"type\":\"scatterpolar\",\"marker\":{\"colorbar\":{\"outlinewidth\":0,\"ticks\":\"\"}}}],\"histogram\":[{\"marker\":{\"pattern\":{\"fillmode\":\"overlay\",\"size\":10,\"solidity\":0.2}},\"type\":\"histogram\"}],\"scattergl\":[{\"type\":\"scattergl\",\"marker\":{\"colorbar\":{\"outlinewidth\":0,\"ticks\":\"\"}}}],\"scatter3d\":[{\"type\":\"scatter3d\",\"line\":{\"colorbar\":{\"outlinewidth\":0,\"ticks\":\"\"}},\"marker\":{\"colorbar\":{\"outlinewidth\":0,\"ticks\":\"\"}}}],\"scattermapbox\":[{\"type\":\"scattermapbox\",\"marker\":{\"colorbar\":{\"outlinewidth\":0,\"ticks\":\"\"}}}],\"scatterternary\":[{\"type\":\"scatterternary\",\"marker\":{\"colorbar\":{\"outlinewidth\":0,\"ticks\":\"\"}}}],\"scattercarpet\":[{\"type\":\"scattercarpet\",\"marker\":{\"colorbar\":{\"outlinewidth\":0,\"ticks\":\"\"}}}],\"carpet\":[{\"aaxis\":{\"endlinecolor\":\"#2a3f5f\",\"gridcolor\":\"white\",\"linecolor\":\"white\",\"minorgridcolor\":\"white\",\"startlinecolor\":\"#2a3f5f\"},\"baxis\":{\"endlinecolor\":\"#2a3f5f\",\"gridcolor\":\"white\",\"linecolor\":\"white\",\"minorgridcolor\":\"white\",\"startlinecolor\":\"#2a3f5f\"},\"type\":\"carpet\"}],\"table\":[{\"cells\":{\"fill\":{\"color\":\"#EBF0F8\"},\"line\":{\"color\":\"white\"}},\"header\":{\"fill\":{\"color\":\"#C8D4E3\"},\"line\":{\"color\":\"white\"}},\"type\":\"table\"}],\"barpolar\":[{\"marker\":{\"line\":{\"color\":\"#E5ECF6\",\"width\":0.5},\"pattern\":{\"fillmode\":\"overlay\",\"size\":10,\"solidity\":0.2}},\"type\":\"barpolar\"}],\"pie\":[{\"automargin\":true,\"type\":\"pie\"}]},\"layout\":{\"autotypenumbers\":\"strict\",\"colorway\":[\"#636efa\",\"#EF553B\",\"#00cc96\",\"#ab63fa\",\"#FFA15A\",\"#19d3f3\",\"#FF6692\",\"#B6E880\",\"#FF97FF\",\"#FECB52\"],\"font\":{\"color\":\"#2a3f5f\"},\"hovermode\":\"closest\",\"hoverlabel\":{\"align\":\"left\"},\"paper_bgcolor\":\"white\",\"plot_bgcolor\":\"#E5ECF6\",\"polar\":{\"bgcolor\":\"#E5ECF6\",\"angularaxis\":{\"gridcolor\":\"white\",\"linecolor\":\"white\",\"ticks\":\"\"},\"radialaxis\":{\"gridcolor\":\"white\",\"linecolor\":\"white\",\"ticks\":\"\"}},\"ternary\":{\"bgcolor\":\"#E5ECF6\",\"aaxis\":{\"gridcolor\":\"white\",\"linecolor\":\"white\",\"ticks\":\"\"},\"baxis\":{\"gridcolor\":\"white\",\"linecolor\":\"white\",\"ticks\":\"\"},\"caxis\":{\"gridcolor\":\"white\",\"linecolor\":\"white\",\"ticks\":\"\"}},\"coloraxis\":{\"colorbar\":{\"outlinewidth\":0,\"ticks\":\"\"}},\"colorscale\":{\"sequential\":[[0.0,\"#0d0887\"],[0.1111111111111111,\"#46039f\"],[0.2222222222222222,\"#7201a8\"],[0.3333333333333333,\"#9c179e\"],[0.4444444444444444,\"#bd3786\"],[0.5555555555555556,\"#d8576b\"],[0.6666666666666666,\"#ed7953\"],[0.7777777777777778,\"#fb9f3a\"],[0.8888888888888888,\"#fdca26\"],[1.0,\"#f0f921\"]],\"sequentialminus\":[[0.0,\"#0d0887\"],[0.1111111111111111,\"#46039f\"],[0.2222222222222222,\"#7201a8\"],[0.3333333333333333,\"#9c179e\"],[0.4444444444444444,\"#bd3786\"],[0.5555555555555556,\"#d8576b\"],[0.6666666666666666,\"#ed7953\"],[0.7777777777777778,\"#fb9f3a\"],[0.8888888888888888,\"#fdca26\"],[1.0,\"#f0f921\"]],\"diverging\":[[0,\"#8e0152\"],[0.1,\"#c51b7d\"],[0.2,\"#de77ae\"],[0.3,\"#f1b6da\"],[0.4,\"#fde0ef\"],[0.5,\"#f7f7f7\"],[0.6,\"#e6f5d0\"],[0.7,\"#b8e186\"],[0.8,\"#7fbc41\"],[0.9,\"#4d9221\"],[1,\"#276419\"]]},\"xaxis\":{\"gridcolor\":\"white\",\"linecolor\":\"white\",\"ticks\":\"\",\"title\":{\"standoff\":15},\"zerolinecolor\":\"white\",\"automargin\":true,\"zerolinewidth\":2},\"yaxis\":{\"gridcolor\":\"white\",\"linecolor\":\"white\",\"ticks\":\"\",\"title\":{\"standoff\":15},\"zerolinecolor\":\"white\",\"automargin\":true,\"zerolinewidth\":2},\"scene\":{\"xaxis\":{\"backgroundcolor\":\"#E5ECF6\",\"gridcolor\":\"white\",\"linecolor\":\"white\",\"showbackground\":true,\"ticks\":\"\",\"zerolinecolor\":\"white\",\"gridwidth\":2},\"yaxis\":{\"backgroundcolor\":\"#E5ECF6\",\"gridcolor\":\"white\",\"linecolor\":\"white\",\"showbackground\":true,\"ticks\":\"\",\"zerolinecolor\":\"white\",\"gridwidth\":2},\"zaxis\":{\"backgroundcolor\":\"#E5ECF6\",\"gridcolor\":\"white\",\"linecolor\":\"white\",\"showbackground\":true,\"ticks\":\"\",\"zerolinecolor\":\"white\",\"gridwidth\":2}},\"shapedefaults\":{\"line\":{\"color\":\"#2a3f5f\"}},\"annotationdefaults\":{\"arrowcolor\":\"#2a3f5f\",\"arrowhead\":0,\"arrowwidth\":1},\"geo\":{\"bgcolor\":\"white\",\"landcolor\":\"#E5ECF6\",\"subunitcolor\":\"white\",\"showland\":true,\"showlakes\":true,\"lakecolor\":\"white\"},\"title\":{\"x\":0.05},\"mapbox\":{\"style\":\"light\"}}},\"xaxis\":{\"anchor\":\"y\",\"domain\":[0.0,1.0],\"title\":{\"text\":\"x\"}},\"yaxis\":{\"anchor\":\"x\",\"domain\":[0.0,1.0],\"title\":{\"text\":\"count\"}},\"legend\":{\"tracegroupgap\":0},\"margin\":{\"t\":60},\"barmode\":\"relative\"},                        {\"responsive\": true}                    ).then(function(){\n",
       "                            \n",
       "var gd = document.getElementById('1f9b3016-b9b9-42ea-97a7-8a9bb47483fa');\n",
       "var x = new MutationObserver(function (mutations, observer) {{\n",
       "        var display = window.getComputedStyle(gd).display;\n",
       "        if (!display || display === 'none') {{\n",
       "            console.log([gd, 'removed!']);\n",
       "            Plotly.purge(gd);\n",
       "            observer.disconnect();\n",
       "        }}\n",
       "}});\n",
       "\n",
       "// Listen for the removal of the full notebook cells\n",
       "var notebookContainer = gd.closest('#notebook-container');\n",
       "if (notebookContainer) {{\n",
       "    x.observe(notebookContainer, {childList: true});\n",
       "}}\n",
       "\n",
       "// Listen for the clearing of the current output cell\n",
       "var outputEl = gd.closest('.output');\n",
       "if (outputEl) {{\n",
       "    x.observe(outputEl, {childList: true});\n",
       "}}\n",
       "\n",
       "                        })                };                });            </script>        </div>"
      ]
     },
     "metadata": {},
     "output_type": "display_data"
    }
   ],
   "source": [
    "simple_res = []\n",
    "for r in coherence_battle_results:\n",
    "    if r['tie']:\n",
    "        simple_res.append('tie')\n",
    "    elif r['winner'] == 1:\n",
    "        simple_res.append('one')\n",
    "    elif r['winner'] == 2:\n",
    "        simple_res.append('two')\n",
    "\n",
    "px.histogram(x=simple_res)\n"
   ]
  },
  {
   "cell_type": "code",
   "execution_count": 79,
   "metadata": {},
   "outputs": [
    {
     "data": {
      "text/plain": [
       "[0.45237873369521686,\n",
       " 0.4926265310728829,\n",
       " 0.9215189035708103,\n",
       " 0.465773255028723,\n",
       " 0.44427737621564733,\n",
       " 0.444017195431941,\n",
       " 0.4646702222194899,\n",
       " 0.4824440130379091,\n",
       " 0.4682095926039381,\n",
       " 0.4386360718597648,\n",
       " 0.46450690307764514,\n",
       " 0.4609412021860303]"
      ]
     },
     "execution_count": 79,
     "metadata": {},
     "output_type": "execute_result"
    }
   ],
   "source": [
    "import math\n",
    "from collections import defaultdict\n",
    "\n",
    "def calculate_elo_ratings(comparisons, initial_rating=1500, k_factor=8):\n",
    "    ratings = defaultdict(lambda: initial_rating)\n",
    "    \n",
    "    for comparison in comparisons:\n",
    "        model_1 = comparison['model_1']\n",
    "        model_2 = comparison['model_2']\n",
    "        winner = comparison['winner']\n",
    "        is_tie = comparison['tie']\n",
    "        \n",
    "        rating_1 = ratings[model_1]\n",
    "        rating_2 = ratings[model_2]\n",
    "        \n",
    "        expected_score_1 = 1 / (1 + math.pow(10, (rating_2 - rating_1) / 400))\n",
    "        expected_score_2 = 1 - expected_score_1\n",
    "        \n",
    "        if is_tie:\n",
    "            actual_score_1 = actual_score_2 = 0.5\n",
    "        else:\n",
    "            actual_score_1 = 1 if winner == model_1 else 0\n",
    "            actual_score_2 = 1 - actual_score_1\n",
    "        \n",
    "        ratings[model_1] += k_factor * (actual_score_1 - expected_score_1)\n",
    "        ratings[model_2] += k_factor * (actual_score_2 - expected_score_2)\n",
    "    \n",
    "    # Sort the ratings by model ID\n",
    "    sorted_ratings = sorted(ratings.items(), key=lambda x: x[0])\n",
    "    return [rating for _, rating in sorted_ratings]\n",
    "\n",
    "elo_ratings = calculate_elo_ratings(coherence_battle_results)\n",
    "elo_ratings = [(r-1000)/1000 for r in elo_ratings]\n",
    "elo_ratings"
   ]
  },
  {
   "cell_type": "code",
   "execution_count": 80,
   "metadata": {},
   "outputs": [],
   "source": [
    "def get_bootstrap_result(comparisons, num_rounds=1000):\n",
    "    num_models = max(max(comp['model_1'], comp['model_2']) for comp in comparisons) + 1\n",
    "    bootstrap_results = []\n",
    "\n",
    "    for _ in tqdm(range(num_rounds), desc=\"Bootstrap Progress\"):\n",
    "        # Resample comparisons with replacement\n",
    "        resampled_comparisons = random.choices(comparisons, k=len(comparisons))\n",
    "        \n",
    "        # Calculate Elo ratings for this bootstrap sample\n",
    "        elo_ratings = calculate_elo_ratings(resampled_comparisons)\n",
    "        \n",
    "        # Ensure all model IDs are represented\n",
    "        full_ratings = [elo_ratings[i] if i < len(elo_ratings) else 1500 for i in range(num_models)]\n",
    "        \n",
    "        bootstrap_results.append(full_ratings)\n",
    "\n",
    "    # Convert results to numpy array for easier calculations\n",
    "    bootstrap_results = np.array(bootstrap_results)\n",
    "\n",
    "    # Calculate median and 95% confidence intervals\n",
    "    median_ratings = np.median(bootstrap_results, axis=0)\n",
    "    confidence_intervals = np.percentile(bootstrap_results, [2.5, 97.5], axis=0)\n",
    "\n",
    "    return median_ratings, confidence_intervals"
   ]
  },
  {
   "cell_type": "code",
   "execution_count": 81,
   "metadata": {},
   "outputs": [
    {
     "name": "stderr",
     "output_type": "stream",
     "text": [
      "Bootstrap Progress: 100%|██████████| 1000/1000 [00:02<00:00, 495.89it/s]\n"
     ]
    },
    {
     "data": {
      "text/plain": [
       "array([1451.09239779, 1520.50964692, 1918.28230105, 1445.86011728,\n",
       "       1461.56578304, 1465.87451713, 1459.10328725, 1439.05424492,\n",
       "       1459.64142854, 1453.40621462, 1468.08896186, 1458.60210043])"
      ]
     },
     "execution_count": 81,
     "metadata": {},
     "output_type": "execute_result"
    }
   ],
   "source": [
    "median_ratings, confidence_intervals = get_bootstrap_result(coherence_battle_results)\n",
    "median_ratings"
   ]
  },
  {
   "cell_type": "code",
   "execution_count": 82,
   "metadata": {},
   "outputs": [
    {
     "data": {
      "text/plain": [
       "array([[1397.79413991, 1471.78512406, 1882.09175726, 1397.03714098,\n",
       "        1411.07125725, 1420.84975408, 1412.55636532, 1389.8859755 ,\n",
       "        1407.35035211, 1409.65052804, 1416.888154  , 1411.13125956],\n",
       "       [1504.0727467 , 1571.58102952, 1954.59568539, 1492.40231009,\n",
       "        1513.18737448, 1519.98191094, 1507.97572548, 1488.3368589 ,\n",
       "        1506.0314301 , 1501.76653367, 1518.49340818, 1510.3017773 ]])"
      ]
     },
     "execution_count": 82,
     "metadata": {},
     "output_type": "execute_result"
    }
   ],
   "source": [
    "confidence_intervals"
   ]
  },
  {
   "cell_type": "code",
   "execution_count": 83,
   "metadata": {},
   "outputs": [
    {
     "data": {
      "application/vnd.plotly.v1+json": {
       "config": {
        "plotlyServerURL": "https://plot.ly"
       },
       "data": [
        {
         "hovertemplate": "variable=Average Scores<br>Scale=%{x}<br>value=%{y}<extra></extra>",
         "legendgroup": "Average Scores",
         "line": {
          "color": "#636efa",
          "dash": "solid"
         },
         "marker": {
          "symbol": "circle"
         },
         "mode": "lines",
         "name": "Average Scores",
         "orientation": "v",
         "showlegend": true,
         "type": "scatter",
         "x": [
          0,
          10,
          20,
          30,
          40,
          50,
          60,
          70,
          80,
          90,
          100,
          110
         ],
         "xaxis": "x",
         "y": [
          0.10199652777777778,
          0.1037326388888889,
          0.12630208333333334,
          0.13758680555555555,
          0.1792534722222222,
          0.1909722222222222,
          0.1840277777777778,
          0.21961805555555555,
          0.21180555555555555,
          0.19401041666666666,
          0.19270833333333334,
          0.18836805555555555
         ],
         "yaxis": "y"
        },
        {
         "hovertemplate": "variable=Average Coherence<br>Scale=%{x}<br>value=%{y}<extra></extra>",
         "legendgroup": "Average Coherence",
         "line": {
          "color": "#EF553B",
          "dash": "solid"
         },
         "marker": {
          "symbol": "circle"
         },
         "mode": "lines",
         "name": "Average Coherence",
         "orientation": "v",
         "showlegend": true,
         "type": "scatter",
         "x": [
          0,
          10,
          20,
          30,
          40,
          50,
          60,
          70,
          80,
          90,
          100,
          110
         ],
         "xaxis": "x",
         "y": [
          0.7664930555555556,
          0.7630208333333334,
          0.7608506944444444,
          0.7608506944444444,
          0.75,
          0.7482638888888888,
          0.7131076388888888,
          0.6983506944444444,
          0.6553819444444444,
          0.6072048611111112,
          0.6076388888888888,
          0.5946180555555556
         ],
         "yaxis": "y"
        },
        {
         "hovertemplate": "variable=Scores * Coherence<br>Scale=%{x}<br>value=%{y}<extra></extra>",
         "legendgroup": "Scores * Coherence",
         "line": {
          "color": "#00cc96",
          "dash": "solid"
         },
         "marker": {
          "symbol": "circle"
         },
         "mode": "lines",
         "name": "Scores * Coherence",
         "orientation": "v",
         "showlegend": true,
         "type": "scatter",
         "x": [
          0,
          10,
          20,
          30,
          40,
          50,
          60,
          70,
          80,
          90,
          100,
          110
         ],
         "xaxis": "x",
         "y": [
          0.07817963023244599,
          0.07915016456886576,
          0.09609702781394676,
          0.10468301655333719,
          0.13444010416666666,
          0.14289761766975306,
          0.13123161410108025,
          0.1533704216097608,
          0.1388135368441358,
          0.11780406810619214,
          0.1170970775462963,
          0.11200704692322531
         ],
         "yaxis": "y"
        },
        {
         "hovertemplate": "variable=Coherence Elo<br>Scale=%{x}<br>value=%{y}<extra></extra>",
         "legendgroup": "Coherence Elo",
         "line": {
          "color": "#ab63fa",
          "dash": "solid"
         },
         "marker": {
          "symbol": "circle"
         },
         "mode": "lines",
         "name": "Coherence Elo",
         "orientation": "v",
         "showlegend": true,
         "type": "scatter",
         "x": [
          0,
          10,
          20,
          30,
          40,
          50,
          60,
          70,
          80,
          90,
          100,
          110
         ],
         "xaxis": "x",
         "y": [
          0.45237873369521686,
          0.4926265310728829,
          0.9215189035708103,
          0.465773255028723,
          0.44427737621564733,
          0.444017195431941,
          0.4646702222194899,
          0.4824440130379091,
          0.4682095926039381,
          0.4386360718597648,
          0.46450690307764514,
          0.4609412021860303
         ],
         "yaxis": "y"
        }
       ],
       "layout": {
        "legend": {
         "title": {
          "text": "Metrics"
         },
         "tracegroupgap": 0
        },
        "template": {
         "data": {
          "bar": [
           {
            "error_x": {
             "color": "#2a3f5f"
            },
            "error_y": {
             "color": "#2a3f5f"
            },
            "marker": {
             "line": {
              "color": "#E5ECF6",
              "width": 0.5
             },
             "pattern": {
              "fillmode": "overlay",
              "size": 10,
              "solidity": 0.2
             }
            },
            "type": "bar"
           }
          ],
          "barpolar": [
           {
            "marker": {
             "line": {
              "color": "#E5ECF6",
              "width": 0.5
             },
             "pattern": {
              "fillmode": "overlay",
              "size": 10,
              "solidity": 0.2
             }
            },
            "type": "barpolar"
           }
          ],
          "carpet": [
           {
            "aaxis": {
             "endlinecolor": "#2a3f5f",
             "gridcolor": "white",
             "linecolor": "white",
             "minorgridcolor": "white",
             "startlinecolor": "#2a3f5f"
            },
            "baxis": {
             "endlinecolor": "#2a3f5f",
             "gridcolor": "white",
             "linecolor": "white",
             "minorgridcolor": "white",
             "startlinecolor": "#2a3f5f"
            },
            "type": "carpet"
           }
          ],
          "choropleth": [
           {
            "colorbar": {
             "outlinewidth": 0,
             "ticks": ""
            },
            "type": "choropleth"
           }
          ],
          "contour": [
           {
            "colorbar": {
             "outlinewidth": 0,
             "ticks": ""
            },
            "colorscale": [
             [
              0,
              "#0d0887"
             ],
             [
              0.1111111111111111,
              "#46039f"
             ],
             [
              0.2222222222222222,
              "#7201a8"
             ],
             [
              0.3333333333333333,
              "#9c179e"
             ],
             [
              0.4444444444444444,
              "#bd3786"
             ],
             [
              0.5555555555555556,
              "#d8576b"
             ],
             [
              0.6666666666666666,
              "#ed7953"
             ],
             [
              0.7777777777777778,
              "#fb9f3a"
             ],
             [
              0.8888888888888888,
              "#fdca26"
             ],
             [
              1,
              "#f0f921"
             ]
            ],
            "type": "contour"
           }
          ],
          "contourcarpet": [
           {
            "colorbar": {
             "outlinewidth": 0,
             "ticks": ""
            },
            "type": "contourcarpet"
           }
          ],
          "heatmap": [
           {
            "colorbar": {
             "outlinewidth": 0,
             "ticks": ""
            },
            "colorscale": [
             [
              0,
              "#0d0887"
             ],
             [
              0.1111111111111111,
              "#46039f"
             ],
             [
              0.2222222222222222,
              "#7201a8"
             ],
             [
              0.3333333333333333,
              "#9c179e"
             ],
             [
              0.4444444444444444,
              "#bd3786"
             ],
             [
              0.5555555555555556,
              "#d8576b"
             ],
             [
              0.6666666666666666,
              "#ed7953"
             ],
             [
              0.7777777777777778,
              "#fb9f3a"
             ],
             [
              0.8888888888888888,
              "#fdca26"
             ],
             [
              1,
              "#f0f921"
             ]
            ],
            "type": "heatmap"
           }
          ],
          "heatmapgl": [
           {
            "colorbar": {
             "outlinewidth": 0,
             "ticks": ""
            },
            "colorscale": [
             [
              0,
              "#0d0887"
             ],
             [
              0.1111111111111111,
              "#46039f"
             ],
             [
              0.2222222222222222,
              "#7201a8"
             ],
             [
              0.3333333333333333,
              "#9c179e"
             ],
             [
              0.4444444444444444,
              "#bd3786"
             ],
             [
              0.5555555555555556,
              "#d8576b"
             ],
             [
              0.6666666666666666,
              "#ed7953"
             ],
             [
              0.7777777777777778,
              "#fb9f3a"
             ],
             [
              0.8888888888888888,
              "#fdca26"
             ],
             [
              1,
              "#f0f921"
             ]
            ],
            "type": "heatmapgl"
           }
          ],
          "histogram": [
           {
            "marker": {
             "pattern": {
              "fillmode": "overlay",
              "size": 10,
              "solidity": 0.2
             }
            },
            "type": "histogram"
           }
          ],
          "histogram2d": [
           {
            "colorbar": {
             "outlinewidth": 0,
             "ticks": ""
            },
            "colorscale": [
             [
              0,
              "#0d0887"
             ],
             [
              0.1111111111111111,
              "#46039f"
             ],
             [
              0.2222222222222222,
              "#7201a8"
             ],
             [
              0.3333333333333333,
              "#9c179e"
             ],
             [
              0.4444444444444444,
              "#bd3786"
             ],
             [
              0.5555555555555556,
              "#d8576b"
             ],
             [
              0.6666666666666666,
              "#ed7953"
             ],
             [
              0.7777777777777778,
              "#fb9f3a"
             ],
             [
              0.8888888888888888,
              "#fdca26"
             ],
             [
              1,
              "#f0f921"
             ]
            ],
            "type": "histogram2d"
           }
          ],
          "histogram2dcontour": [
           {
            "colorbar": {
             "outlinewidth": 0,
             "ticks": ""
            },
            "colorscale": [
             [
              0,
              "#0d0887"
             ],
             [
              0.1111111111111111,
              "#46039f"
             ],
             [
              0.2222222222222222,
              "#7201a8"
             ],
             [
              0.3333333333333333,
              "#9c179e"
             ],
             [
              0.4444444444444444,
              "#bd3786"
             ],
             [
              0.5555555555555556,
              "#d8576b"
             ],
             [
              0.6666666666666666,
              "#ed7953"
             ],
             [
              0.7777777777777778,
              "#fb9f3a"
             ],
             [
              0.8888888888888888,
              "#fdca26"
             ],
             [
              1,
              "#f0f921"
             ]
            ],
            "type": "histogram2dcontour"
           }
          ],
          "mesh3d": [
           {
            "colorbar": {
             "outlinewidth": 0,
             "ticks": ""
            },
            "type": "mesh3d"
           }
          ],
          "parcoords": [
           {
            "line": {
             "colorbar": {
              "outlinewidth": 0,
              "ticks": ""
             }
            },
            "type": "parcoords"
           }
          ],
          "pie": [
           {
            "automargin": true,
            "type": "pie"
           }
          ],
          "scatter": [
           {
            "fillpattern": {
             "fillmode": "overlay",
             "size": 10,
             "solidity": 0.2
            },
            "type": "scatter"
           }
          ],
          "scatter3d": [
           {
            "line": {
             "colorbar": {
              "outlinewidth": 0,
              "ticks": ""
             }
            },
            "marker": {
             "colorbar": {
              "outlinewidth": 0,
              "ticks": ""
             }
            },
            "type": "scatter3d"
           }
          ],
          "scattercarpet": [
           {
            "marker": {
             "colorbar": {
              "outlinewidth": 0,
              "ticks": ""
             }
            },
            "type": "scattercarpet"
           }
          ],
          "scattergeo": [
           {
            "marker": {
             "colorbar": {
              "outlinewidth": 0,
              "ticks": ""
             }
            },
            "type": "scattergeo"
           }
          ],
          "scattergl": [
           {
            "marker": {
             "colorbar": {
              "outlinewidth": 0,
              "ticks": ""
             }
            },
            "type": "scattergl"
           }
          ],
          "scattermapbox": [
           {
            "marker": {
             "colorbar": {
              "outlinewidth": 0,
              "ticks": ""
             }
            },
            "type": "scattermapbox"
           }
          ],
          "scatterpolar": [
           {
            "marker": {
             "colorbar": {
              "outlinewidth": 0,
              "ticks": ""
             }
            },
            "type": "scatterpolar"
           }
          ],
          "scatterpolargl": [
           {
            "marker": {
             "colorbar": {
              "outlinewidth": 0,
              "ticks": ""
             }
            },
            "type": "scatterpolargl"
           }
          ],
          "scatterternary": [
           {
            "marker": {
             "colorbar": {
              "outlinewidth": 0,
              "ticks": ""
             }
            },
            "type": "scatterternary"
           }
          ],
          "surface": [
           {
            "colorbar": {
             "outlinewidth": 0,
             "ticks": ""
            },
            "colorscale": [
             [
              0,
              "#0d0887"
             ],
             [
              0.1111111111111111,
              "#46039f"
             ],
             [
              0.2222222222222222,
              "#7201a8"
             ],
             [
              0.3333333333333333,
              "#9c179e"
             ],
             [
              0.4444444444444444,
              "#bd3786"
             ],
             [
              0.5555555555555556,
              "#d8576b"
             ],
             [
              0.6666666666666666,
              "#ed7953"
             ],
             [
              0.7777777777777778,
              "#fb9f3a"
             ],
             [
              0.8888888888888888,
              "#fdca26"
             ],
             [
              1,
              "#f0f921"
             ]
            ],
            "type": "surface"
           }
          ],
          "table": [
           {
            "cells": {
             "fill": {
              "color": "#EBF0F8"
             },
             "line": {
              "color": "white"
             }
            },
            "header": {
             "fill": {
              "color": "#C8D4E3"
             },
             "line": {
              "color": "white"
             }
            },
            "type": "table"
           }
          ]
         },
         "layout": {
          "annotationdefaults": {
           "arrowcolor": "#2a3f5f",
           "arrowhead": 0,
           "arrowwidth": 1
          },
          "autotypenumbers": "strict",
          "coloraxis": {
           "colorbar": {
            "outlinewidth": 0,
            "ticks": ""
           }
          },
          "colorscale": {
           "diverging": [
            [
             0,
             "#8e0152"
            ],
            [
             0.1,
             "#c51b7d"
            ],
            [
             0.2,
             "#de77ae"
            ],
            [
             0.3,
             "#f1b6da"
            ],
            [
             0.4,
             "#fde0ef"
            ],
            [
             0.5,
             "#f7f7f7"
            ],
            [
             0.6,
             "#e6f5d0"
            ],
            [
             0.7,
             "#b8e186"
            ],
            [
             0.8,
             "#7fbc41"
            ],
            [
             0.9,
             "#4d9221"
            ],
            [
             1,
             "#276419"
            ]
           ],
           "sequential": [
            [
             0,
             "#0d0887"
            ],
            [
             0.1111111111111111,
             "#46039f"
            ],
            [
             0.2222222222222222,
             "#7201a8"
            ],
            [
             0.3333333333333333,
             "#9c179e"
            ],
            [
             0.4444444444444444,
             "#bd3786"
            ],
            [
             0.5555555555555556,
             "#d8576b"
            ],
            [
             0.6666666666666666,
             "#ed7953"
            ],
            [
             0.7777777777777778,
             "#fb9f3a"
            ],
            [
             0.8888888888888888,
             "#fdca26"
            ],
            [
             1,
             "#f0f921"
            ]
           ],
           "sequentialminus": [
            [
             0,
             "#0d0887"
            ],
            [
             0.1111111111111111,
             "#46039f"
            ],
            [
             0.2222222222222222,
             "#7201a8"
            ],
            [
             0.3333333333333333,
             "#9c179e"
            ],
            [
             0.4444444444444444,
             "#bd3786"
            ],
            [
             0.5555555555555556,
             "#d8576b"
            ],
            [
             0.6666666666666666,
             "#ed7953"
            ],
            [
             0.7777777777777778,
             "#fb9f3a"
            ],
            [
             0.8888888888888888,
             "#fdca26"
            ],
            [
             1,
             "#f0f921"
            ]
           ]
          },
          "colorway": [
           "#636efa",
           "#EF553B",
           "#00cc96",
           "#ab63fa",
           "#FFA15A",
           "#19d3f3",
           "#FF6692",
           "#B6E880",
           "#FF97FF",
           "#FECB52"
          ],
          "font": {
           "color": "#2a3f5f"
          },
          "geo": {
           "bgcolor": "white",
           "lakecolor": "white",
           "landcolor": "#E5ECF6",
           "showlakes": true,
           "showland": true,
           "subunitcolor": "white"
          },
          "hoverlabel": {
           "align": "left"
          },
          "hovermode": "closest",
          "mapbox": {
           "style": "light"
          },
          "paper_bgcolor": "white",
          "plot_bgcolor": "#E5ECF6",
          "polar": {
           "angularaxis": {
            "gridcolor": "white",
            "linecolor": "white",
            "ticks": ""
           },
           "bgcolor": "#E5ECF6",
           "radialaxis": {
            "gridcolor": "white",
            "linecolor": "white",
            "ticks": ""
           }
          },
          "scene": {
           "xaxis": {
            "backgroundcolor": "#E5ECF6",
            "gridcolor": "white",
            "gridwidth": 2,
            "linecolor": "white",
            "showbackground": true,
            "ticks": "",
            "zerolinecolor": "white"
           },
           "yaxis": {
            "backgroundcolor": "#E5ECF6",
            "gridcolor": "white",
            "gridwidth": 2,
            "linecolor": "white",
            "showbackground": true,
            "ticks": "",
            "zerolinecolor": "white"
           },
           "zaxis": {
            "backgroundcolor": "#E5ECF6",
            "gridcolor": "white",
            "gridwidth": 2,
            "linecolor": "white",
            "showbackground": true,
            "ticks": "",
            "zerolinecolor": "white"
           }
          },
          "shapedefaults": {
           "line": {
            "color": "#2a3f5f"
           }
          },
          "ternary": {
           "aaxis": {
            "gridcolor": "white",
            "linecolor": "white",
            "ticks": ""
           },
           "baxis": {
            "gridcolor": "white",
            "linecolor": "white",
            "ticks": ""
           },
           "bgcolor": "#E5ECF6",
           "caxis": {
            "gridcolor": "white",
            "linecolor": "white",
            "ticks": ""
           }
          },
          "title": {
           "x": 0.05
          },
          "xaxis": {
           "automargin": true,
           "gridcolor": "white",
           "linecolor": "white",
           "ticks": "",
           "title": {
            "standoff": 15
           },
           "zerolinecolor": "white",
           "zerolinewidth": 2
          },
          "yaxis": {
           "automargin": true,
           "gridcolor": "white",
           "linecolor": "white",
           "ticks": "",
           "title": {
            "standoff": 15
           },
           "zerolinecolor": "white",
           "zerolinewidth": 2
          }
         }
        },
        "title": {
         "text": "anger"
        },
        "xaxis": {
         "anchor": "y",
         "domain": [
          0,
          1
         ],
         "title": {
          "text": "Scale"
         }
        },
        "yaxis": {
         "anchor": "x",
         "domain": [
          0,
          1
         ],
         "title": {
          "text": "Values"
         }
        }
       }
      },
      "text/html": [
       "<div>                            <div id=\"73aaff60-d6af-4a12-8420-8f7f8c389fde\" class=\"plotly-graph-div\" style=\"height:525px; width:100%;\"></div>            <script type=\"text/javascript\">                require([\"plotly\"], function(Plotly) {                    window.PLOTLYENV=window.PLOTLYENV || {};                                    if (document.getElementById(\"73aaff60-d6af-4a12-8420-8f7f8c389fde\")) {                    Plotly.newPlot(                        \"73aaff60-d6af-4a12-8420-8f7f8c389fde\",                        [{\"hovertemplate\":\"variable=Average Scores\\u003cbr\\u003eScale=%{x}\\u003cbr\\u003evalue=%{y}\\u003cextra\\u003e\\u003c\\u002fextra\\u003e\",\"legendgroup\":\"Average Scores\",\"line\":{\"color\":\"#636efa\",\"dash\":\"solid\"},\"marker\":{\"symbol\":\"circle\"},\"mode\":\"lines\",\"name\":\"Average Scores\",\"orientation\":\"v\",\"showlegend\":true,\"x\":[0,10,20,30,40,50,60,70,80,90,100,110],\"xaxis\":\"x\",\"y\":[0.10199652777777778,0.1037326388888889,0.12630208333333334,0.13758680555555555,0.1792534722222222,0.1909722222222222,0.1840277777777778,0.21961805555555555,0.21180555555555555,0.19401041666666666,0.19270833333333334,0.18836805555555555],\"yaxis\":\"y\",\"type\":\"scatter\"},{\"hovertemplate\":\"variable=Average Coherence\\u003cbr\\u003eScale=%{x}\\u003cbr\\u003evalue=%{y}\\u003cextra\\u003e\\u003c\\u002fextra\\u003e\",\"legendgroup\":\"Average Coherence\",\"line\":{\"color\":\"#EF553B\",\"dash\":\"solid\"},\"marker\":{\"symbol\":\"circle\"},\"mode\":\"lines\",\"name\":\"Average Coherence\",\"orientation\":\"v\",\"showlegend\":true,\"x\":[0,10,20,30,40,50,60,70,80,90,100,110],\"xaxis\":\"x\",\"y\":[0.7664930555555556,0.7630208333333334,0.7608506944444444,0.7608506944444444,0.75,0.7482638888888888,0.7131076388888888,0.6983506944444444,0.6553819444444444,0.6072048611111112,0.6076388888888888,0.5946180555555556],\"yaxis\":\"y\",\"type\":\"scatter\"},{\"hovertemplate\":\"variable=Scores * Coherence\\u003cbr\\u003eScale=%{x}\\u003cbr\\u003evalue=%{y}\\u003cextra\\u003e\\u003c\\u002fextra\\u003e\",\"legendgroup\":\"Scores * Coherence\",\"line\":{\"color\":\"#00cc96\",\"dash\":\"solid\"},\"marker\":{\"symbol\":\"circle\"},\"mode\":\"lines\",\"name\":\"Scores * Coherence\",\"orientation\":\"v\",\"showlegend\":true,\"x\":[0,10,20,30,40,50,60,70,80,90,100,110],\"xaxis\":\"x\",\"y\":[0.07817963023244599,0.07915016456886576,0.09609702781394676,0.10468301655333719,0.13444010416666666,0.14289761766975306,0.13123161410108025,0.1533704216097608,0.1388135368441358,0.11780406810619214,0.1170970775462963,0.11200704692322531],\"yaxis\":\"y\",\"type\":\"scatter\"},{\"hovertemplate\":\"variable=Coherence Elo\\u003cbr\\u003eScale=%{x}\\u003cbr\\u003evalue=%{y}\\u003cextra\\u003e\\u003c\\u002fextra\\u003e\",\"legendgroup\":\"Coherence Elo\",\"line\":{\"color\":\"#ab63fa\",\"dash\":\"solid\"},\"marker\":{\"symbol\":\"circle\"},\"mode\":\"lines\",\"name\":\"Coherence Elo\",\"orientation\":\"v\",\"showlegend\":true,\"x\":[0,10,20,30,40,50,60,70,80,90,100,110],\"xaxis\":\"x\",\"y\":[0.45237873369521686,0.4926265310728829,0.9215189035708103,0.465773255028723,0.44427737621564733,0.444017195431941,0.4646702222194899,0.4824440130379091,0.4682095926039381,0.4386360718597648,0.46450690307764514,0.4609412021860303],\"yaxis\":\"y\",\"type\":\"scatter\"}],                        {\"template\":{\"data\":{\"histogram2dcontour\":[{\"type\":\"histogram2dcontour\",\"colorbar\":{\"outlinewidth\":0,\"ticks\":\"\"},\"colorscale\":[[0.0,\"#0d0887\"],[0.1111111111111111,\"#46039f\"],[0.2222222222222222,\"#7201a8\"],[0.3333333333333333,\"#9c179e\"],[0.4444444444444444,\"#bd3786\"],[0.5555555555555556,\"#d8576b\"],[0.6666666666666666,\"#ed7953\"],[0.7777777777777778,\"#fb9f3a\"],[0.8888888888888888,\"#fdca26\"],[1.0,\"#f0f921\"]]}],\"choropleth\":[{\"type\":\"choropleth\",\"colorbar\":{\"outlinewidth\":0,\"ticks\":\"\"}}],\"histogram2d\":[{\"type\":\"histogram2d\",\"colorbar\":{\"outlinewidth\":0,\"ticks\":\"\"},\"colorscale\":[[0.0,\"#0d0887\"],[0.1111111111111111,\"#46039f\"],[0.2222222222222222,\"#7201a8\"],[0.3333333333333333,\"#9c179e\"],[0.4444444444444444,\"#bd3786\"],[0.5555555555555556,\"#d8576b\"],[0.6666666666666666,\"#ed7953\"],[0.7777777777777778,\"#fb9f3a\"],[0.8888888888888888,\"#fdca26\"],[1.0,\"#f0f921\"]]}],\"heatmap\":[{\"type\":\"heatmap\",\"colorbar\":{\"outlinewidth\":0,\"ticks\":\"\"},\"colorscale\":[[0.0,\"#0d0887\"],[0.1111111111111111,\"#46039f\"],[0.2222222222222222,\"#7201a8\"],[0.3333333333333333,\"#9c179e\"],[0.4444444444444444,\"#bd3786\"],[0.5555555555555556,\"#d8576b\"],[0.6666666666666666,\"#ed7953\"],[0.7777777777777778,\"#fb9f3a\"],[0.8888888888888888,\"#fdca26\"],[1.0,\"#f0f921\"]]}],\"heatmapgl\":[{\"type\":\"heatmapgl\",\"colorbar\":{\"outlinewidth\":0,\"ticks\":\"\"},\"colorscale\":[[0.0,\"#0d0887\"],[0.1111111111111111,\"#46039f\"],[0.2222222222222222,\"#7201a8\"],[0.3333333333333333,\"#9c179e\"],[0.4444444444444444,\"#bd3786\"],[0.5555555555555556,\"#d8576b\"],[0.6666666666666666,\"#ed7953\"],[0.7777777777777778,\"#fb9f3a\"],[0.8888888888888888,\"#fdca26\"],[1.0,\"#f0f921\"]]}],\"contourcarpet\":[{\"type\":\"contourcarpet\",\"colorbar\":{\"outlinewidth\":0,\"ticks\":\"\"}}],\"contour\":[{\"type\":\"contour\",\"colorbar\":{\"outlinewidth\":0,\"ticks\":\"\"},\"colorscale\":[[0.0,\"#0d0887\"],[0.1111111111111111,\"#46039f\"],[0.2222222222222222,\"#7201a8\"],[0.3333333333333333,\"#9c179e\"],[0.4444444444444444,\"#bd3786\"],[0.5555555555555556,\"#d8576b\"],[0.6666666666666666,\"#ed7953\"],[0.7777777777777778,\"#fb9f3a\"],[0.8888888888888888,\"#fdca26\"],[1.0,\"#f0f921\"]]}],\"surface\":[{\"type\":\"surface\",\"colorbar\":{\"outlinewidth\":0,\"ticks\":\"\"},\"colorscale\":[[0.0,\"#0d0887\"],[0.1111111111111111,\"#46039f\"],[0.2222222222222222,\"#7201a8\"],[0.3333333333333333,\"#9c179e\"],[0.4444444444444444,\"#bd3786\"],[0.5555555555555556,\"#d8576b\"],[0.6666666666666666,\"#ed7953\"],[0.7777777777777778,\"#fb9f3a\"],[0.8888888888888888,\"#fdca26\"],[1.0,\"#f0f921\"]]}],\"mesh3d\":[{\"type\":\"mesh3d\",\"colorbar\":{\"outlinewidth\":0,\"ticks\":\"\"}}],\"scatter\":[{\"fillpattern\":{\"fillmode\":\"overlay\",\"size\":10,\"solidity\":0.2},\"type\":\"scatter\"}],\"parcoords\":[{\"type\":\"parcoords\",\"line\":{\"colorbar\":{\"outlinewidth\":0,\"ticks\":\"\"}}}],\"scatterpolargl\":[{\"type\":\"scatterpolargl\",\"marker\":{\"colorbar\":{\"outlinewidth\":0,\"ticks\":\"\"}}}],\"bar\":[{\"error_x\":{\"color\":\"#2a3f5f\"},\"error_y\":{\"color\":\"#2a3f5f\"},\"marker\":{\"line\":{\"color\":\"#E5ECF6\",\"width\":0.5},\"pattern\":{\"fillmode\":\"overlay\",\"size\":10,\"solidity\":0.2}},\"type\":\"bar\"}],\"scattergeo\":[{\"type\":\"scattergeo\",\"marker\":{\"colorbar\":{\"outlinewidth\":0,\"ticks\":\"\"}}}],\"scatterpolar\":[{\"type\":\"scatterpolar\",\"marker\":{\"colorbar\":{\"outlinewidth\":0,\"ticks\":\"\"}}}],\"histogram\":[{\"marker\":{\"pattern\":{\"fillmode\":\"overlay\",\"size\":10,\"solidity\":0.2}},\"type\":\"histogram\"}],\"scattergl\":[{\"type\":\"scattergl\",\"marker\":{\"colorbar\":{\"outlinewidth\":0,\"ticks\":\"\"}}}],\"scatter3d\":[{\"type\":\"scatter3d\",\"line\":{\"colorbar\":{\"outlinewidth\":0,\"ticks\":\"\"}},\"marker\":{\"colorbar\":{\"outlinewidth\":0,\"ticks\":\"\"}}}],\"scattermapbox\":[{\"type\":\"scattermapbox\",\"marker\":{\"colorbar\":{\"outlinewidth\":0,\"ticks\":\"\"}}}],\"scatterternary\":[{\"type\":\"scatterternary\",\"marker\":{\"colorbar\":{\"outlinewidth\":0,\"ticks\":\"\"}}}],\"scattercarpet\":[{\"type\":\"scattercarpet\",\"marker\":{\"colorbar\":{\"outlinewidth\":0,\"ticks\":\"\"}}}],\"carpet\":[{\"aaxis\":{\"endlinecolor\":\"#2a3f5f\",\"gridcolor\":\"white\",\"linecolor\":\"white\",\"minorgridcolor\":\"white\",\"startlinecolor\":\"#2a3f5f\"},\"baxis\":{\"endlinecolor\":\"#2a3f5f\",\"gridcolor\":\"white\",\"linecolor\":\"white\",\"minorgridcolor\":\"white\",\"startlinecolor\":\"#2a3f5f\"},\"type\":\"carpet\"}],\"table\":[{\"cells\":{\"fill\":{\"color\":\"#EBF0F8\"},\"line\":{\"color\":\"white\"}},\"header\":{\"fill\":{\"color\":\"#C8D4E3\"},\"line\":{\"color\":\"white\"}},\"type\":\"table\"}],\"barpolar\":[{\"marker\":{\"line\":{\"color\":\"#E5ECF6\",\"width\":0.5},\"pattern\":{\"fillmode\":\"overlay\",\"size\":10,\"solidity\":0.2}},\"type\":\"barpolar\"}],\"pie\":[{\"automargin\":true,\"type\":\"pie\"}]},\"layout\":{\"autotypenumbers\":\"strict\",\"colorway\":[\"#636efa\",\"#EF553B\",\"#00cc96\",\"#ab63fa\",\"#FFA15A\",\"#19d3f3\",\"#FF6692\",\"#B6E880\",\"#FF97FF\",\"#FECB52\"],\"font\":{\"color\":\"#2a3f5f\"},\"hovermode\":\"closest\",\"hoverlabel\":{\"align\":\"left\"},\"paper_bgcolor\":\"white\",\"plot_bgcolor\":\"#E5ECF6\",\"polar\":{\"bgcolor\":\"#E5ECF6\",\"angularaxis\":{\"gridcolor\":\"white\",\"linecolor\":\"white\",\"ticks\":\"\"},\"radialaxis\":{\"gridcolor\":\"white\",\"linecolor\":\"white\",\"ticks\":\"\"}},\"ternary\":{\"bgcolor\":\"#E5ECF6\",\"aaxis\":{\"gridcolor\":\"white\",\"linecolor\":\"white\",\"ticks\":\"\"},\"baxis\":{\"gridcolor\":\"white\",\"linecolor\":\"white\",\"ticks\":\"\"},\"caxis\":{\"gridcolor\":\"white\",\"linecolor\":\"white\",\"ticks\":\"\"}},\"coloraxis\":{\"colorbar\":{\"outlinewidth\":0,\"ticks\":\"\"}},\"colorscale\":{\"sequential\":[[0.0,\"#0d0887\"],[0.1111111111111111,\"#46039f\"],[0.2222222222222222,\"#7201a8\"],[0.3333333333333333,\"#9c179e\"],[0.4444444444444444,\"#bd3786\"],[0.5555555555555556,\"#d8576b\"],[0.6666666666666666,\"#ed7953\"],[0.7777777777777778,\"#fb9f3a\"],[0.8888888888888888,\"#fdca26\"],[1.0,\"#f0f921\"]],\"sequentialminus\":[[0.0,\"#0d0887\"],[0.1111111111111111,\"#46039f\"],[0.2222222222222222,\"#7201a8\"],[0.3333333333333333,\"#9c179e\"],[0.4444444444444444,\"#bd3786\"],[0.5555555555555556,\"#d8576b\"],[0.6666666666666666,\"#ed7953\"],[0.7777777777777778,\"#fb9f3a\"],[0.8888888888888888,\"#fdca26\"],[1.0,\"#f0f921\"]],\"diverging\":[[0,\"#8e0152\"],[0.1,\"#c51b7d\"],[0.2,\"#de77ae\"],[0.3,\"#f1b6da\"],[0.4,\"#fde0ef\"],[0.5,\"#f7f7f7\"],[0.6,\"#e6f5d0\"],[0.7,\"#b8e186\"],[0.8,\"#7fbc41\"],[0.9,\"#4d9221\"],[1,\"#276419\"]]},\"xaxis\":{\"gridcolor\":\"white\",\"linecolor\":\"white\",\"ticks\":\"\",\"title\":{\"standoff\":15},\"zerolinecolor\":\"white\",\"automargin\":true,\"zerolinewidth\":2},\"yaxis\":{\"gridcolor\":\"white\",\"linecolor\":\"white\",\"ticks\":\"\",\"title\":{\"standoff\":15},\"zerolinecolor\":\"white\",\"automargin\":true,\"zerolinewidth\":2},\"scene\":{\"xaxis\":{\"backgroundcolor\":\"#E5ECF6\",\"gridcolor\":\"white\",\"linecolor\":\"white\",\"showbackground\":true,\"ticks\":\"\",\"zerolinecolor\":\"white\",\"gridwidth\":2},\"yaxis\":{\"backgroundcolor\":\"#E5ECF6\",\"gridcolor\":\"white\",\"linecolor\":\"white\",\"showbackground\":true,\"ticks\":\"\",\"zerolinecolor\":\"white\",\"gridwidth\":2},\"zaxis\":{\"backgroundcolor\":\"#E5ECF6\",\"gridcolor\":\"white\",\"linecolor\":\"white\",\"showbackground\":true,\"ticks\":\"\",\"zerolinecolor\":\"white\",\"gridwidth\":2}},\"shapedefaults\":{\"line\":{\"color\":\"#2a3f5f\"}},\"annotationdefaults\":{\"arrowcolor\":\"#2a3f5f\",\"arrowhead\":0,\"arrowwidth\":1},\"geo\":{\"bgcolor\":\"white\",\"landcolor\":\"#E5ECF6\",\"subunitcolor\":\"white\",\"showland\":true,\"showlakes\":true,\"lakecolor\":\"white\"},\"title\":{\"x\":0.05},\"mapbox\":{\"style\":\"light\"}}},\"xaxis\":{\"anchor\":\"y\",\"domain\":[0.0,1.0],\"title\":{\"text\":\"Scale\"}},\"yaxis\":{\"anchor\":\"x\",\"domain\":[0.0,1.0],\"title\":{\"text\":\"Values\"}},\"legend\":{\"title\":{\"text\":\"Metrics\"},\"tracegroupgap\":0},\"title\":{\"text\":\"anger\"}},                        {\"responsive\": true}                    ).then(function(){\n",
       "                            \n",
       "var gd = document.getElementById('73aaff60-d6af-4a12-8420-8f7f8c389fde');\n",
       "var x = new MutationObserver(function (mutations, observer) {{\n",
       "        var display = window.getComputedStyle(gd).display;\n",
       "        if (!display || display === 'none') {{\n",
       "            console.log([gd, 'removed!']);\n",
       "            Plotly.purge(gd);\n",
       "            observer.disconnect();\n",
       "        }}\n",
       "}});\n",
       "\n",
       "// Listen for the removal of the full notebook cells\n",
       "var notebookContainer = gd.closest('#notebook-container');\n",
       "if (notebookContainer) {{\n",
       "    x.observe(notebookContainer, {childList: true});\n",
       "}}\n",
       "\n",
       "// Listen for the clearing of the current output cell\n",
       "var outputEl = gd.closest('.output');\n",
       "if (outputEl) {{\n",
       "    x.observe(outputEl, {childList: true});\n",
       "}}\n",
       "\n",
       "                        })                };                });            </script>        </div>"
      ]
     },
     "metadata": {},
     "output_type": "display_data"
    }
   ],
   "source": [
    "df = pd.DataFrame({\n",
    "    'Scale': scales,\n",
    "    'Average Scores': avg_scores,\n",
    "    'Average Coherence': avg_coherence,\n",
    "    'Scores * Coherence': [a * b for a, b in zip(avg_scores, avg_coherence)],\n",
    "    'Coherence Elo': elo_ratings,\n",
    "})\n",
    "\n",
    "# Create the line plot with multiple traces\n",
    "fig = px.line(df, x='Scale', y=['Average Scores', 'Average Coherence', 'Scores * Coherence', 'Coherence Elo'],\n",
    "              title=name)\n",
    "\n",
    "# Customize the layout if needed\n",
    "fig.update_layout(\n",
    "    xaxis_title=\"Scale\",\n",
    "    yaxis_title=\"Values\",\n",
    "    legend_title=\"Metrics\"\n",
    ")\n",
    "\n",
    "# Show the plot\n",
    "fig.show()"
   ]
  },
  {
   "cell_type": "code",
   "execution_count": 84,
   "metadata": {},
   "outputs": [
    {
     "data": {
      "application/vnd.plotly.v1+json": {
       "config": {
        "plotlyServerURL": "https://plot.ly"
       },
       "data": [
        {
         "hovertemplate": "variable=0<br>index=%{x}<br>value=%{y}<extra></extra>",
         "legendgroup": "0",
         "line": {
          "color": "#636efa",
          "dash": "solid"
         },
         "marker": {
          "symbol": "circle"
         },
         "mode": "lines",
         "name": "0",
         "orientation": "v",
         "showlegend": true,
         "type": "scatter",
         "x": [
          0,
          1,
          2,
          3,
          4,
          5,
          6,
          7,
          8,
          9,
          10,
          11
         ],
         "xaxis": "x",
         "y": [
          1451.0923977943025,
          1520.5096469197463,
          1918.28230105222,
          1445.8601172756446,
          1461.5657830388855,
          1465.874517134699,
          1459.1032872536011,
          1439.0542449192828,
          1459.641428542091,
          1453.406214615079,
          1468.0889618606425,
          1458.6021004339484
         ],
         "yaxis": "y"
        }
       ],
       "layout": {
        "legend": {
         "title": {
          "text": "variable"
         },
         "tracegroupgap": 0
        },
        "margin": {
         "t": 60
        },
        "template": {
         "data": {
          "bar": [
           {
            "error_x": {
             "color": "#2a3f5f"
            },
            "error_y": {
             "color": "#2a3f5f"
            },
            "marker": {
             "line": {
              "color": "#E5ECF6",
              "width": 0.5
             },
             "pattern": {
              "fillmode": "overlay",
              "size": 10,
              "solidity": 0.2
             }
            },
            "type": "bar"
           }
          ],
          "barpolar": [
           {
            "marker": {
             "line": {
              "color": "#E5ECF6",
              "width": 0.5
             },
             "pattern": {
              "fillmode": "overlay",
              "size": 10,
              "solidity": 0.2
             }
            },
            "type": "barpolar"
           }
          ],
          "carpet": [
           {
            "aaxis": {
             "endlinecolor": "#2a3f5f",
             "gridcolor": "white",
             "linecolor": "white",
             "minorgridcolor": "white",
             "startlinecolor": "#2a3f5f"
            },
            "baxis": {
             "endlinecolor": "#2a3f5f",
             "gridcolor": "white",
             "linecolor": "white",
             "minorgridcolor": "white",
             "startlinecolor": "#2a3f5f"
            },
            "type": "carpet"
           }
          ],
          "choropleth": [
           {
            "colorbar": {
             "outlinewidth": 0,
             "ticks": ""
            },
            "type": "choropleth"
           }
          ],
          "contour": [
           {
            "colorbar": {
             "outlinewidth": 0,
             "ticks": ""
            },
            "colorscale": [
             [
              0,
              "#0d0887"
             ],
             [
              0.1111111111111111,
              "#46039f"
             ],
             [
              0.2222222222222222,
              "#7201a8"
             ],
             [
              0.3333333333333333,
              "#9c179e"
             ],
             [
              0.4444444444444444,
              "#bd3786"
             ],
             [
              0.5555555555555556,
              "#d8576b"
             ],
             [
              0.6666666666666666,
              "#ed7953"
             ],
             [
              0.7777777777777778,
              "#fb9f3a"
             ],
             [
              0.8888888888888888,
              "#fdca26"
             ],
             [
              1,
              "#f0f921"
             ]
            ],
            "type": "contour"
           }
          ],
          "contourcarpet": [
           {
            "colorbar": {
             "outlinewidth": 0,
             "ticks": ""
            },
            "type": "contourcarpet"
           }
          ],
          "heatmap": [
           {
            "colorbar": {
             "outlinewidth": 0,
             "ticks": ""
            },
            "colorscale": [
             [
              0,
              "#0d0887"
             ],
             [
              0.1111111111111111,
              "#46039f"
             ],
             [
              0.2222222222222222,
              "#7201a8"
             ],
             [
              0.3333333333333333,
              "#9c179e"
             ],
             [
              0.4444444444444444,
              "#bd3786"
             ],
             [
              0.5555555555555556,
              "#d8576b"
             ],
             [
              0.6666666666666666,
              "#ed7953"
             ],
             [
              0.7777777777777778,
              "#fb9f3a"
             ],
             [
              0.8888888888888888,
              "#fdca26"
             ],
             [
              1,
              "#f0f921"
             ]
            ],
            "type": "heatmap"
           }
          ],
          "heatmapgl": [
           {
            "colorbar": {
             "outlinewidth": 0,
             "ticks": ""
            },
            "colorscale": [
             [
              0,
              "#0d0887"
             ],
             [
              0.1111111111111111,
              "#46039f"
             ],
             [
              0.2222222222222222,
              "#7201a8"
             ],
             [
              0.3333333333333333,
              "#9c179e"
             ],
             [
              0.4444444444444444,
              "#bd3786"
             ],
             [
              0.5555555555555556,
              "#d8576b"
             ],
             [
              0.6666666666666666,
              "#ed7953"
             ],
             [
              0.7777777777777778,
              "#fb9f3a"
             ],
             [
              0.8888888888888888,
              "#fdca26"
             ],
             [
              1,
              "#f0f921"
             ]
            ],
            "type": "heatmapgl"
           }
          ],
          "histogram": [
           {
            "marker": {
             "pattern": {
              "fillmode": "overlay",
              "size": 10,
              "solidity": 0.2
             }
            },
            "type": "histogram"
           }
          ],
          "histogram2d": [
           {
            "colorbar": {
             "outlinewidth": 0,
             "ticks": ""
            },
            "colorscale": [
             [
              0,
              "#0d0887"
             ],
             [
              0.1111111111111111,
              "#46039f"
             ],
             [
              0.2222222222222222,
              "#7201a8"
             ],
             [
              0.3333333333333333,
              "#9c179e"
             ],
             [
              0.4444444444444444,
              "#bd3786"
             ],
             [
              0.5555555555555556,
              "#d8576b"
             ],
             [
              0.6666666666666666,
              "#ed7953"
             ],
             [
              0.7777777777777778,
              "#fb9f3a"
             ],
             [
              0.8888888888888888,
              "#fdca26"
             ],
             [
              1,
              "#f0f921"
             ]
            ],
            "type": "histogram2d"
           }
          ],
          "histogram2dcontour": [
           {
            "colorbar": {
             "outlinewidth": 0,
             "ticks": ""
            },
            "colorscale": [
             [
              0,
              "#0d0887"
             ],
             [
              0.1111111111111111,
              "#46039f"
             ],
             [
              0.2222222222222222,
              "#7201a8"
             ],
             [
              0.3333333333333333,
              "#9c179e"
             ],
             [
              0.4444444444444444,
              "#bd3786"
             ],
             [
              0.5555555555555556,
              "#d8576b"
             ],
             [
              0.6666666666666666,
              "#ed7953"
             ],
             [
              0.7777777777777778,
              "#fb9f3a"
             ],
             [
              0.8888888888888888,
              "#fdca26"
             ],
             [
              1,
              "#f0f921"
             ]
            ],
            "type": "histogram2dcontour"
           }
          ],
          "mesh3d": [
           {
            "colorbar": {
             "outlinewidth": 0,
             "ticks": ""
            },
            "type": "mesh3d"
           }
          ],
          "parcoords": [
           {
            "line": {
             "colorbar": {
              "outlinewidth": 0,
              "ticks": ""
             }
            },
            "type": "parcoords"
           }
          ],
          "pie": [
           {
            "automargin": true,
            "type": "pie"
           }
          ],
          "scatter": [
           {
            "fillpattern": {
             "fillmode": "overlay",
             "size": 10,
             "solidity": 0.2
            },
            "type": "scatter"
           }
          ],
          "scatter3d": [
           {
            "line": {
             "colorbar": {
              "outlinewidth": 0,
              "ticks": ""
             }
            },
            "marker": {
             "colorbar": {
              "outlinewidth": 0,
              "ticks": ""
             }
            },
            "type": "scatter3d"
           }
          ],
          "scattercarpet": [
           {
            "marker": {
             "colorbar": {
              "outlinewidth": 0,
              "ticks": ""
             }
            },
            "type": "scattercarpet"
           }
          ],
          "scattergeo": [
           {
            "marker": {
             "colorbar": {
              "outlinewidth": 0,
              "ticks": ""
             }
            },
            "type": "scattergeo"
           }
          ],
          "scattergl": [
           {
            "marker": {
             "colorbar": {
              "outlinewidth": 0,
              "ticks": ""
             }
            },
            "type": "scattergl"
           }
          ],
          "scattermapbox": [
           {
            "marker": {
             "colorbar": {
              "outlinewidth": 0,
              "ticks": ""
             }
            },
            "type": "scattermapbox"
           }
          ],
          "scatterpolar": [
           {
            "marker": {
             "colorbar": {
              "outlinewidth": 0,
              "ticks": ""
             }
            },
            "type": "scatterpolar"
           }
          ],
          "scatterpolargl": [
           {
            "marker": {
             "colorbar": {
              "outlinewidth": 0,
              "ticks": ""
             }
            },
            "type": "scatterpolargl"
           }
          ],
          "scatterternary": [
           {
            "marker": {
             "colorbar": {
              "outlinewidth": 0,
              "ticks": ""
             }
            },
            "type": "scatterternary"
           }
          ],
          "surface": [
           {
            "colorbar": {
             "outlinewidth": 0,
             "ticks": ""
            },
            "colorscale": [
             [
              0,
              "#0d0887"
             ],
             [
              0.1111111111111111,
              "#46039f"
             ],
             [
              0.2222222222222222,
              "#7201a8"
             ],
             [
              0.3333333333333333,
              "#9c179e"
             ],
             [
              0.4444444444444444,
              "#bd3786"
             ],
             [
              0.5555555555555556,
              "#d8576b"
             ],
             [
              0.6666666666666666,
              "#ed7953"
             ],
             [
              0.7777777777777778,
              "#fb9f3a"
             ],
             [
              0.8888888888888888,
              "#fdca26"
             ],
             [
              1,
              "#f0f921"
             ]
            ],
            "type": "surface"
           }
          ],
          "table": [
           {
            "cells": {
             "fill": {
              "color": "#EBF0F8"
             },
             "line": {
              "color": "white"
             }
            },
            "header": {
             "fill": {
              "color": "#C8D4E3"
             },
             "line": {
              "color": "white"
             }
            },
            "type": "table"
           }
          ]
         },
         "layout": {
          "annotationdefaults": {
           "arrowcolor": "#2a3f5f",
           "arrowhead": 0,
           "arrowwidth": 1
          },
          "autotypenumbers": "strict",
          "coloraxis": {
           "colorbar": {
            "outlinewidth": 0,
            "ticks": ""
           }
          },
          "colorscale": {
           "diverging": [
            [
             0,
             "#8e0152"
            ],
            [
             0.1,
             "#c51b7d"
            ],
            [
             0.2,
             "#de77ae"
            ],
            [
             0.3,
             "#f1b6da"
            ],
            [
             0.4,
             "#fde0ef"
            ],
            [
             0.5,
             "#f7f7f7"
            ],
            [
             0.6,
             "#e6f5d0"
            ],
            [
             0.7,
             "#b8e186"
            ],
            [
             0.8,
             "#7fbc41"
            ],
            [
             0.9,
             "#4d9221"
            ],
            [
             1,
             "#276419"
            ]
           ],
           "sequential": [
            [
             0,
             "#0d0887"
            ],
            [
             0.1111111111111111,
             "#46039f"
            ],
            [
             0.2222222222222222,
             "#7201a8"
            ],
            [
             0.3333333333333333,
             "#9c179e"
            ],
            [
             0.4444444444444444,
             "#bd3786"
            ],
            [
             0.5555555555555556,
             "#d8576b"
            ],
            [
             0.6666666666666666,
             "#ed7953"
            ],
            [
             0.7777777777777778,
             "#fb9f3a"
            ],
            [
             0.8888888888888888,
             "#fdca26"
            ],
            [
             1,
             "#f0f921"
            ]
           ],
           "sequentialminus": [
            [
             0,
             "#0d0887"
            ],
            [
             0.1111111111111111,
             "#46039f"
            ],
            [
             0.2222222222222222,
             "#7201a8"
            ],
            [
             0.3333333333333333,
             "#9c179e"
            ],
            [
             0.4444444444444444,
             "#bd3786"
            ],
            [
             0.5555555555555556,
             "#d8576b"
            ],
            [
             0.6666666666666666,
             "#ed7953"
            ],
            [
             0.7777777777777778,
             "#fb9f3a"
            ],
            [
             0.8888888888888888,
             "#fdca26"
            ],
            [
             1,
             "#f0f921"
            ]
           ]
          },
          "colorway": [
           "#636efa",
           "#EF553B",
           "#00cc96",
           "#ab63fa",
           "#FFA15A",
           "#19d3f3",
           "#FF6692",
           "#B6E880",
           "#FF97FF",
           "#FECB52"
          ],
          "font": {
           "color": "#2a3f5f"
          },
          "geo": {
           "bgcolor": "white",
           "lakecolor": "white",
           "landcolor": "#E5ECF6",
           "showlakes": true,
           "showland": true,
           "subunitcolor": "white"
          },
          "hoverlabel": {
           "align": "left"
          },
          "hovermode": "closest",
          "mapbox": {
           "style": "light"
          },
          "paper_bgcolor": "white",
          "plot_bgcolor": "#E5ECF6",
          "polar": {
           "angularaxis": {
            "gridcolor": "white",
            "linecolor": "white",
            "ticks": ""
           },
           "bgcolor": "#E5ECF6",
           "radialaxis": {
            "gridcolor": "white",
            "linecolor": "white",
            "ticks": ""
           }
          },
          "scene": {
           "xaxis": {
            "backgroundcolor": "#E5ECF6",
            "gridcolor": "white",
            "gridwidth": 2,
            "linecolor": "white",
            "showbackground": true,
            "ticks": "",
            "zerolinecolor": "white"
           },
           "yaxis": {
            "backgroundcolor": "#E5ECF6",
            "gridcolor": "white",
            "gridwidth": 2,
            "linecolor": "white",
            "showbackground": true,
            "ticks": "",
            "zerolinecolor": "white"
           },
           "zaxis": {
            "backgroundcolor": "#E5ECF6",
            "gridcolor": "white",
            "gridwidth": 2,
            "linecolor": "white",
            "showbackground": true,
            "ticks": "",
            "zerolinecolor": "white"
           }
          },
          "shapedefaults": {
           "line": {
            "color": "#2a3f5f"
           }
          },
          "ternary": {
           "aaxis": {
            "gridcolor": "white",
            "linecolor": "white",
            "ticks": ""
           },
           "baxis": {
            "gridcolor": "white",
            "linecolor": "white",
            "ticks": ""
           },
           "bgcolor": "#E5ECF6",
           "caxis": {
            "gridcolor": "white",
            "linecolor": "white",
            "ticks": ""
           }
          },
          "title": {
           "x": 0.05
          },
          "xaxis": {
           "automargin": true,
           "gridcolor": "white",
           "linecolor": "white",
           "ticks": "",
           "title": {
            "standoff": 15
           },
           "zerolinecolor": "white",
           "zerolinewidth": 2
          },
          "yaxis": {
           "automargin": true,
           "gridcolor": "white",
           "linecolor": "white",
           "ticks": "",
           "title": {
            "standoff": 15
           },
           "zerolinecolor": "white",
           "zerolinewidth": 2
          }
         }
        },
        "xaxis": {
         "anchor": "y",
         "domain": [
          0,
          1
         ],
         "title": {
          "text": "index"
         }
        },
        "yaxis": {
         "anchor": "x",
         "domain": [
          0,
          1
         ],
         "title": {
          "text": "value"
         }
        }
       }
      },
      "text/html": [
       "<div>                            <div id=\"3da81395-ed7f-4e0a-8e8a-245988928e50\" class=\"plotly-graph-div\" style=\"height:525px; width:100%;\"></div>            <script type=\"text/javascript\">                require([\"plotly\"], function(Plotly) {                    window.PLOTLYENV=window.PLOTLYENV || {};                                    if (document.getElementById(\"3da81395-ed7f-4e0a-8e8a-245988928e50\")) {                    Plotly.newPlot(                        \"3da81395-ed7f-4e0a-8e8a-245988928e50\",                        [{\"hovertemplate\":\"variable=0\\u003cbr\\u003eindex=%{x}\\u003cbr\\u003evalue=%{y}\\u003cextra\\u003e\\u003c\\u002fextra\\u003e\",\"legendgroup\":\"0\",\"line\":{\"color\":\"#636efa\",\"dash\":\"solid\"},\"marker\":{\"symbol\":\"circle\"},\"mode\":\"lines\",\"name\":\"0\",\"orientation\":\"v\",\"showlegend\":true,\"x\":[0,1,2,3,4,5,6,7,8,9,10,11],\"xaxis\":\"x\",\"y\":[1451.0923977943025,1520.5096469197463,1918.28230105222,1445.8601172756446,1461.5657830388855,1465.874517134699,1459.1032872536011,1439.0542449192828,1459.641428542091,1453.406214615079,1468.0889618606425,1458.6021004339484],\"yaxis\":\"y\",\"type\":\"scatter\"}],                        {\"template\":{\"data\":{\"histogram2dcontour\":[{\"type\":\"histogram2dcontour\",\"colorbar\":{\"outlinewidth\":0,\"ticks\":\"\"},\"colorscale\":[[0.0,\"#0d0887\"],[0.1111111111111111,\"#46039f\"],[0.2222222222222222,\"#7201a8\"],[0.3333333333333333,\"#9c179e\"],[0.4444444444444444,\"#bd3786\"],[0.5555555555555556,\"#d8576b\"],[0.6666666666666666,\"#ed7953\"],[0.7777777777777778,\"#fb9f3a\"],[0.8888888888888888,\"#fdca26\"],[1.0,\"#f0f921\"]]}],\"choropleth\":[{\"type\":\"choropleth\",\"colorbar\":{\"outlinewidth\":0,\"ticks\":\"\"}}],\"histogram2d\":[{\"type\":\"histogram2d\",\"colorbar\":{\"outlinewidth\":0,\"ticks\":\"\"},\"colorscale\":[[0.0,\"#0d0887\"],[0.1111111111111111,\"#46039f\"],[0.2222222222222222,\"#7201a8\"],[0.3333333333333333,\"#9c179e\"],[0.4444444444444444,\"#bd3786\"],[0.5555555555555556,\"#d8576b\"],[0.6666666666666666,\"#ed7953\"],[0.7777777777777778,\"#fb9f3a\"],[0.8888888888888888,\"#fdca26\"],[1.0,\"#f0f921\"]]}],\"heatmap\":[{\"type\":\"heatmap\",\"colorbar\":{\"outlinewidth\":0,\"ticks\":\"\"},\"colorscale\":[[0.0,\"#0d0887\"],[0.1111111111111111,\"#46039f\"],[0.2222222222222222,\"#7201a8\"],[0.3333333333333333,\"#9c179e\"],[0.4444444444444444,\"#bd3786\"],[0.5555555555555556,\"#d8576b\"],[0.6666666666666666,\"#ed7953\"],[0.7777777777777778,\"#fb9f3a\"],[0.8888888888888888,\"#fdca26\"],[1.0,\"#f0f921\"]]}],\"heatmapgl\":[{\"type\":\"heatmapgl\",\"colorbar\":{\"outlinewidth\":0,\"ticks\":\"\"},\"colorscale\":[[0.0,\"#0d0887\"],[0.1111111111111111,\"#46039f\"],[0.2222222222222222,\"#7201a8\"],[0.3333333333333333,\"#9c179e\"],[0.4444444444444444,\"#bd3786\"],[0.5555555555555556,\"#d8576b\"],[0.6666666666666666,\"#ed7953\"],[0.7777777777777778,\"#fb9f3a\"],[0.8888888888888888,\"#fdca26\"],[1.0,\"#f0f921\"]]}],\"contourcarpet\":[{\"type\":\"contourcarpet\",\"colorbar\":{\"outlinewidth\":0,\"ticks\":\"\"}}],\"contour\":[{\"type\":\"contour\",\"colorbar\":{\"outlinewidth\":0,\"ticks\":\"\"},\"colorscale\":[[0.0,\"#0d0887\"],[0.1111111111111111,\"#46039f\"],[0.2222222222222222,\"#7201a8\"],[0.3333333333333333,\"#9c179e\"],[0.4444444444444444,\"#bd3786\"],[0.5555555555555556,\"#d8576b\"],[0.6666666666666666,\"#ed7953\"],[0.7777777777777778,\"#fb9f3a\"],[0.8888888888888888,\"#fdca26\"],[1.0,\"#f0f921\"]]}],\"surface\":[{\"type\":\"surface\",\"colorbar\":{\"outlinewidth\":0,\"ticks\":\"\"},\"colorscale\":[[0.0,\"#0d0887\"],[0.1111111111111111,\"#46039f\"],[0.2222222222222222,\"#7201a8\"],[0.3333333333333333,\"#9c179e\"],[0.4444444444444444,\"#bd3786\"],[0.5555555555555556,\"#d8576b\"],[0.6666666666666666,\"#ed7953\"],[0.7777777777777778,\"#fb9f3a\"],[0.8888888888888888,\"#fdca26\"],[1.0,\"#f0f921\"]]}],\"mesh3d\":[{\"type\":\"mesh3d\",\"colorbar\":{\"outlinewidth\":0,\"ticks\":\"\"}}],\"scatter\":[{\"fillpattern\":{\"fillmode\":\"overlay\",\"size\":10,\"solidity\":0.2},\"type\":\"scatter\"}],\"parcoords\":[{\"type\":\"parcoords\",\"line\":{\"colorbar\":{\"outlinewidth\":0,\"ticks\":\"\"}}}],\"scatterpolargl\":[{\"type\":\"scatterpolargl\",\"marker\":{\"colorbar\":{\"outlinewidth\":0,\"ticks\":\"\"}}}],\"bar\":[{\"error_x\":{\"color\":\"#2a3f5f\"},\"error_y\":{\"color\":\"#2a3f5f\"},\"marker\":{\"line\":{\"color\":\"#E5ECF6\",\"width\":0.5},\"pattern\":{\"fillmode\":\"overlay\",\"size\":10,\"solidity\":0.2}},\"type\":\"bar\"}],\"scattergeo\":[{\"type\":\"scattergeo\",\"marker\":{\"colorbar\":{\"outlinewidth\":0,\"ticks\":\"\"}}}],\"scatterpolar\":[{\"type\":\"scatterpolar\",\"marker\":{\"colorbar\":{\"outlinewidth\":0,\"ticks\":\"\"}}}],\"histogram\":[{\"marker\":{\"pattern\":{\"fillmode\":\"overlay\",\"size\":10,\"solidity\":0.2}},\"type\":\"histogram\"}],\"scattergl\":[{\"type\":\"scattergl\",\"marker\":{\"colorbar\":{\"outlinewidth\":0,\"ticks\":\"\"}}}],\"scatter3d\":[{\"type\":\"scatter3d\",\"line\":{\"colorbar\":{\"outlinewidth\":0,\"ticks\":\"\"}},\"marker\":{\"colorbar\":{\"outlinewidth\":0,\"ticks\":\"\"}}}],\"scattermapbox\":[{\"type\":\"scattermapbox\",\"marker\":{\"colorbar\":{\"outlinewidth\":0,\"ticks\":\"\"}}}],\"scatterternary\":[{\"type\":\"scatterternary\",\"marker\":{\"colorbar\":{\"outlinewidth\":0,\"ticks\":\"\"}}}],\"scattercarpet\":[{\"type\":\"scattercarpet\",\"marker\":{\"colorbar\":{\"outlinewidth\":0,\"ticks\":\"\"}}}],\"carpet\":[{\"aaxis\":{\"endlinecolor\":\"#2a3f5f\",\"gridcolor\":\"white\",\"linecolor\":\"white\",\"minorgridcolor\":\"white\",\"startlinecolor\":\"#2a3f5f\"},\"baxis\":{\"endlinecolor\":\"#2a3f5f\",\"gridcolor\":\"white\",\"linecolor\":\"white\",\"minorgridcolor\":\"white\",\"startlinecolor\":\"#2a3f5f\"},\"type\":\"carpet\"}],\"table\":[{\"cells\":{\"fill\":{\"color\":\"#EBF0F8\"},\"line\":{\"color\":\"white\"}},\"header\":{\"fill\":{\"color\":\"#C8D4E3\"},\"line\":{\"color\":\"white\"}},\"type\":\"table\"}],\"barpolar\":[{\"marker\":{\"line\":{\"color\":\"#E5ECF6\",\"width\":0.5},\"pattern\":{\"fillmode\":\"overlay\",\"size\":10,\"solidity\":0.2}},\"type\":\"barpolar\"}],\"pie\":[{\"automargin\":true,\"type\":\"pie\"}]},\"layout\":{\"autotypenumbers\":\"strict\",\"colorway\":[\"#636efa\",\"#EF553B\",\"#00cc96\",\"#ab63fa\",\"#FFA15A\",\"#19d3f3\",\"#FF6692\",\"#B6E880\",\"#FF97FF\",\"#FECB52\"],\"font\":{\"color\":\"#2a3f5f\"},\"hovermode\":\"closest\",\"hoverlabel\":{\"align\":\"left\"},\"paper_bgcolor\":\"white\",\"plot_bgcolor\":\"#E5ECF6\",\"polar\":{\"bgcolor\":\"#E5ECF6\",\"angularaxis\":{\"gridcolor\":\"white\",\"linecolor\":\"white\",\"ticks\":\"\"},\"radialaxis\":{\"gridcolor\":\"white\",\"linecolor\":\"white\",\"ticks\":\"\"}},\"ternary\":{\"bgcolor\":\"#E5ECF6\",\"aaxis\":{\"gridcolor\":\"white\",\"linecolor\":\"white\",\"ticks\":\"\"},\"baxis\":{\"gridcolor\":\"white\",\"linecolor\":\"white\",\"ticks\":\"\"},\"caxis\":{\"gridcolor\":\"white\",\"linecolor\":\"white\",\"ticks\":\"\"}},\"coloraxis\":{\"colorbar\":{\"outlinewidth\":0,\"ticks\":\"\"}},\"colorscale\":{\"sequential\":[[0.0,\"#0d0887\"],[0.1111111111111111,\"#46039f\"],[0.2222222222222222,\"#7201a8\"],[0.3333333333333333,\"#9c179e\"],[0.4444444444444444,\"#bd3786\"],[0.5555555555555556,\"#d8576b\"],[0.6666666666666666,\"#ed7953\"],[0.7777777777777778,\"#fb9f3a\"],[0.8888888888888888,\"#fdca26\"],[1.0,\"#f0f921\"]],\"sequentialminus\":[[0.0,\"#0d0887\"],[0.1111111111111111,\"#46039f\"],[0.2222222222222222,\"#7201a8\"],[0.3333333333333333,\"#9c179e\"],[0.4444444444444444,\"#bd3786\"],[0.5555555555555556,\"#d8576b\"],[0.6666666666666666,\"#ed7953\"],[0.7777777777777778,\"#fb9f3a\"],[0.8888888888888888,\"#fdca26\"],[1.0,\"#f0f921\"]],\"diverging\":[[0,\"#8e0152\"],[0.1,\"#c51b7d\"],[0.2,\"#de77ae\"],[0.3,\"#f1b6da\"],[0.4,\"#fde0ef\"],[0.5,\"#f7f7f7\"],[0.6,\"#e6f5d0\"],[0.7,\"#b8e186\"],[0.8,\"#7fbc41\"],[0.9,\"#4d9221\"],[1,\"#276419\"]]},\"xaxis\":{\"gridcolor\":\"white\",\"linecolor\":\"white\",\"ticks\":\"\",\"title\":{\"standoff\":15},\"zerolinecolor\":\"white\",\"automargin\":true,\"zerolinewidth\":2},\"yaxis\":{\"gridcolor\":\"white\",\"linecolor\":\"white\",\"ticks\":\"\",\"title\":{\"standoff\":15},\"zerolinecolor\":\"white\",\"automargin\":true,\"zerolinewidth\":2},\"scene\":{\"xaxis\":{\"backgroundcolor\":\"#E5ECF6\",\"gridcolor\":\"white\",\"linecolor\":\"white\",\"showbackground\":true,\"ticks\":\"\",\"zerolinecolor\":\"white\",\"gridwidth\":2},\"yaxis\":{\"backgroundcolor\":\"#E5ECF6\",\"gridcolor\":\"white\",\"linecolor\":\"white\",\"showbackground\":true,\"ticks\":\"\",\"zerolinecolor\":\"white\",\"gridwidth\":2},\"zaxis\":{\"backgroundcolor\":\"#E5ECF6\",\"gridcolor\":\"white\",\"linecolor\":\"white\",\"showbackground\":true,\"ticks\":\"\",\"zerolinecolor\":\"white\",\"gridwidth\":2}},\"shapedefaults\":{\"line\":{\"color\":\"#2a3f5f\"}},\"annotationdefaults\":{\"arrowcolor\":\"#2a3f5f\",\"arrowhead\":0,\"arrowwidth\":1},\"geo\":{\"bgcolor\":\"white\",\"landcolor\":\"#E5ECF6\",\"subunitcolor\":\"white\",\"showland\":true,\"showlakes\":true,\"lakecolor\":\"white\"},\"title\":{\"x\":0.05},\"mapbox\":{\"style\":\"light\"}}},\"xaxis\":{\"anchor\":\"y\",\"domain\":[0.0,1.0],\"title\":{\"text\":\"index\"}},\"yaxis\":{\"anchor\":\"x\",\"domain\":[0.0,1.0],\"title\":{\"text\":\"value\"}},\"legend\":{\"title\":{\"text\":\"variable\"},\"tracegroupgap\":0},\"margin\":{\"t\":60}},                        {\"responsive\": true}                    ).then(function(){\n",
       "                            \n",
       "var gd = document.getElementById('3da81395-ed7f-4e0a-8e8a-245988928e50');\n",
       "var x = new MutationObserver(function (mutations, observer) {{\n",
       "        var display = window.getComputedStyle(gd).display;\n",
       "        if (!display || display === 'none') {{\n",
       "            console.log([gd, 'removed!']);\n",
       "            Plotly.purge(gd);\n",
       "            observer.disconnect();\n",
       "        }}\n",
       "}});\n",
       "\n",
       "// Listen for the removal of the full notebook cells\n",
       "var notebookContainer = gd.closest('#notebook-container');\n",
       "if (notebookContainer) {{\n",
       "    x.observe(notebookContainer, {childList: true});\n",
       "}}\n",
       "\n",
       "// Listen for the clearing of the current output cell\n",
       "var outputEl = gd.closest('.output');\n",
       "if (outputEl) {{\n",
       "    x.observe(outputEl, {childList: true});\n",
       "}}\n",
       "\n",
       "                        })                };                });            </script>        </div>"
      ]
     },
     "metadata": {},
     "output_type": "display_data"
    }
   ],
   "source": [
    "px.line(median_ratings)"
   ]
  },
  {
   "cell_type": "code",
   "execution_count": null,
   "metadata": {},
   "outputs": [],
   "source": []
  },
  {
   "cell_type": "code",
   "execution_count": 85,
   "metadata": {},
   "outputs": [
    {
     "data": {
      "application/vnd.plotly.v1+json": {
       "config": {
        "plotlyServerURL": "https://plot.ly"
       },
       "data": [
        {
         "colorscale": [
          [
           0,
           "#440154"
          ],
          [
           0.1111111111111111,
           "#482878"
          ],
          [
           0.2222222222222222,
           "#3e4989"
          ],
          [
           0.3333333333333333,
           "#31688e"
          ],
          [
           0.4444444444444444,
           "#26828e"
          ],
          [
           0.5555555555555556,
           "#1f9e89"
          ],
          [
           0.6666666666666666,
           "#35b779"
          ],
          [
           0.7777777777777778,
           "#6ece58"
          ],
          [
           0.8888888888888888,
           "#b5de2b"
          ],
          [
           1,
           "#fde725"
          ]
         ],
         "hoverongaps": false,
         "type": "heatmap",
         "x": [
          0,
          1,
          2,
          3,
          4,
          5,
          6,
          7,
          8,
          9,
          10,
          11
         ],
         "y": [
          0,
          1,
          2,
          3,
          4,
          5,
          6,
          7,
          8,
          9,
          10,
          11
         ],
         "z": [
          [
           0,
           0,
           19,
           23,
           22,
           27,
           16,
           23,
           21,
           26,
           15,
           17
          ],
          [
           34,
           0,
           0,
           41,
           25,
           16,
           34,
           30,
           23,
           23,
           21,
           19
          ],
          [
           23,
           42,
           11,
           42,
           43,
           36,
           28,
           43,
           57,
           48,
           49,
           41
          ],
          [
           27,
           8,
           0,
           0,
           19,
           25,
           22,
           20,
           18,
           28,
           14,
           25
          ],
          [
           24,
           11,
           0,
           23,
           0,
           21,
           26,
           20,
           16,
           22,
           22,
           35
          ],
          [
           25,
           26,
           0,
           22,
           20,
           0,
           24,
           22,
           24,
           24,
           16,
           23
          ],
          [
           20,
           22,
           0,
           22,
           30,
           18,
           0,
           18,
           20,
           21,
           23,
           26
          ],
          [
           13,
           21,
           0,
           23,
           17,
           15,
           17,
           0,
           19,
           20,
           25,
           17
          ],
          [
           27,
           32,
           0,
           18,
           17,
           23,
           16,
           14,
           0,
           17,
           24,
           16
          ],
          [
           23,
           17,
           0,
           18,
           23,
           26,
           20,
           24,
           19,
           0,
           21,
           19
          ],
          [
           23,
           24,
           0,
           13,
           23,
           27,
           26,
           24,
           22,
           20,
           0,
           21
          ],
          [
           23,
           18,
           0,
           22,
           22,
           19,
           23,
           21,
           24,
           16,
           29,
           0
          ]
         ]
        }
       ],
       "layout": {
        "height": 800,
        "template": {
         "data": {
          "bar": [
           {
            "error_x": {
             "color": "#2a3f5f"
            },
            "error_y": {
             "color": "#2a3f5f"
            },
            "marker": {
             "line": {
              "color": "#E5ECF6",
              "width": 0.5
             },
             "pattern": {
              "fillmode": "overlay",
              "size": 10,
              "solidity": 0.2
             }
            },
            "type": "bar"
           }
          ],
          "barpolar": [
           {
            "marker": {
             "line": {
              "color": "#E5ECF6",
              "width": 0.5
             },
             "pattern": {
              "fillmode": "overlay",
              "size": 10,
              "solidity": 0.2
             }
            },
            "type": "barpolar"
           }
          ],
          "carpet": [
           {
            "aaxis": {
             "endlinecolor": "#2a3f5f",
             "gridcolor": "white",
             "linecolor": "white",
             "minorgridcolor": "white",
             "startlinecolor": "#2a3f5f"
            },
            "baxis": {
             "endlinecolor": "#2a3f5f",
             "gridcolor": "white",
             "linecolor": "white",
             "minorgridcolor": "white",
             "startlinecolor": "#2a3f5f"
            },
            "type": "carpet"
           }
          ],
          "choropleth": [
           {
            "colorbar": {
             "outlinewidth": 0,
             "ticks": ""
            },
            "type": "choropleth"
           }
          ],
          "contour": [
           {
            "colorbar": {
             "outlinewidth": 0,
             "ticks": ""
            },
            "colorscale": [
             [
              0,
              "#0d0887"
             ],
             [
              0.1111111111111111,
              "#46039f"
             ],
             [
              0.2222222222222222,
              "#7201a8"
             ],
             [
              0.3333333333333333,
              "#9c179e"
             ],
             [
              0.4444444444444444,
              "#bd3786"
             ],
             [
              0.5555555555555556,
              "#d8576b"
             ],
             [
              0.6666666666666666,
              "#ed7953"
             ],
             [
              0.7777777777777778,
              "#fb9f3a"
             ],
             [
              0.8888888888888888,
              "#fdca26"
             ],
             [
              1,
              "#f0f921"
             ]
            ],
            "type": "contour"
           }
          ],
          "contourcarpet": [
           {
            "colorbar": {
             "outlinewidth": 0,
             "ticks": ""
            },
            "type": "contourcarpet"
           }
          ],
          "heatmap": [
           {
            "colorbar": {
             "outlinewidth": 0,
             "ticks": ""
            },
            "colorscale": [
             [
              0,
              "#0d0887"
             ],
             [
              0.1111111111111111,
              "#46039f"
             ],
             [
              0.2222222222222222,
              "#7201a8"
             ],
             [
              0.3333333333333333,
              "#9c179e"
             ],
             [
              0.4444444444444444,
              "#bd3786"
             ],
             [
              0.5555555555555556,
              "#d8576b"
             ],
             [
              0.6666666666666666,
              "#ed7953"
             ],
             [
              0.7777777777777778,
              "#fb9f3a"
             ],
             [
              0.8888888888888888,
              "#fdca26"
             ],
             [
              1,
              "#f0f921"
             ]
            ],
            "type": "heatmap"
           }
          ],
          "heatmapgl": [
           {
            "colorbar": {
             "outlinewidth": 0,
             "ticks": ""
            },
            "colorscale": [
             [
              0,
              "#0d0887"
             ],
             [
              0.1111111111111111,
              "#46039f"
             ],
             [
              0.2222222222222222,
              "#7201a8"
             ],
             [
              0.3333333333333333,
              "#9c179e"
             ],
             [
              0.4444444444444444,
              "#bd3786"
             ],
             [
              0.5555555555555556,
              "#d8576b"
             ],
             [
              0.6666666666666666,
              "#ed7953"
             ],
             [
              0.7777777777777778,
              "#fb9f3a"
             ],
             [
              0.8888888888888888,
              "#fdca26"
             ],
             [
              1,
              "#f0f921"
             ]
            ],
            "type": "heatmapgl"
           }
          ],
          "histogram": [
           {
            "marker": {
             "pattern": {
              "fillmode": "overlay",
              "size": 10,
              "solidity": 0.2
             }
            },
            "type": "histogram"
           }
          ],
          "histogram2d": [
           {
            "colorbar": {
             "outlinewidth": 0,
             "ticks": ""
            },
            "colorscale": [
             [
              0,
              "#0d0887"
             ],
             [
              0.1111111111111111,
              "#46039f"
             ],
             [
              0.2222222222222222,
              "#7201a8"
             ],
             [
              0.3333333333333333,
              "#9c179e"
             ],
             [
              0.4444444444444444,
              "#bd3786"
             ],
             [
              0.5555555555555556,
              "#d8576b"
             ],
             [
              0.6666666666666666,
              "#ed7953"
             ],
             [
              0.7777777777777778,
              "#fb9f3a"
             ],
             [
              0.8888888888888888,
              "#fdca26"
             ],
             [
              1,
              "#f0f921"
             ]
            ],
            "type": "histogram2d"
           }
          ],
          "histogram2dcontour": [
           {
            "colorbar": {
             "outlinewidth": 0,
             "ticks": ""
            },
            "colorscale": [
             [
              0,
              "#0d0887"
             ],
             [
              0.1111111111111111,
              "#46039f"
             ],
             [
              0.2222222222222222,
              "#7201a8"
             ],
             [
              0.3333333333333333,
              "#9c179e"
             ],
             [
              0.4444444444444444,
              "#bd3786"
             ],
             [
              0.5555555555555556,
              "#d8576b"
             ],
             [
              0.6666666666666666,
              "#ed7953"
             ],
             [
              0.7777777777777778,
              "#fb9f3a"
             ],
             [
              0.8888888888888888,
              "#fdca26"
             ],
             [
              1,
              "#f0f921"
             ]
            ],
            "type": "histogram2dcontour"
           }
          ],
          "mesh3d": [
           {
            "colorbar": {
             "outlinewidth": 0,
             "ticks": ""
            },
            "type": "mesh3d"
           }
          ],
          "parcoords": [
           {
            "line": {
             "colorbar": {
              "outlinewidth": 0,
              "ticks": ""
             }
            },
            "type": "parcoords"
           }
          ],
          "pie": [
           {
            "automargin": true,
            "type": "pie"
           }
          ],
          "scatter": [
           {
            "fillpattern": {
             "fillmode": "overlay",
             "size": 10,
             "solidity": 0.2
            },
            "type": "scatter"
           }
          ],
          "scatter3d": [
           {
            "line": {
             "colorbar": {
              "outlinewidth": 0,
              "ticks": ""
             }
            },
            "marker": {
             "colorbar": {
              "outlinewidth": 0,
              "ticks": ""
             }
            },
            "type": "scatter3d"
           }
          ],
          "scattercarpet": [
           {
            "marker": {
             "colorbar": {
              "outlinewidth": 0,
              "ticks": ""
             }
            },
            "type": "scattercarpet"
           }
          ],
          "scattergeo": [
           {
            "marker": {
             "colorbar": {
              "outlinewidth": 0,
              "ticks": ""
             }
            },
            "type": "scattergeo"
           }
          ],
          "scattergl": [
           {
            "marker": {
             "colorbar": {
              "outlinewidth": 0,
              "ticks": ""
             }
            },
            "type": "scattergl"
           }
          ],
          "scattermapbox": [
           {
            "marker": {
             "colorbar": {
              "outlinewidth": 0,
              "ticks": ""
             }
            },
            "type": "scattermapbox"
           }
          ],
          "scatterpolar": [
           {
            "marker": {
             "colorbar": {
              "outlinewidth": 0,
              "ticks": ""
             }
            },
            "type": "scatterpolar"
           }
          ],
          "scatterpolargl": [
           {
            "marker": {
             "colorbar": {
              "outlinewidth": 0,
              "ticks": ""
             }
            },
            "type": "scatterpolargl"
           }
          ],
          "scatterternary": [
           {
            "marker": {
             "colorbar": {
              "outlinewidth": 0,
              "ticks": ""
             }
            },
            "type": "scatterternary"
           }
          ],
          "surface": [
           {
            "colorbar": {
             "outlinewidth": 0,
             "ticks": ""
            },
            "colorscale": [
             [
              0,
              "#0d0887"
             ],
             [
              0.1111111111111111,
              "#46039f"
             ],
             [
              0.2222222222222222,
              "#7201a8"
             ],
             [
              0.3333333333333333,
              "#9c179e"
             ],
             [
              0.4444444444444444,
              "#bd3786"
             ],
             [
              0.5555555555555556,
              "#d8576b"
             ],
             [
              0.6666666666666666,
              "#ed7953"
             ],
             [
              0.7777777777777778,
              "#fb9f3a"
             ],
             [
              0.8888888888888888,
              "#fdca26"
             ],
             [
              1,
              "#f0f921"
             ]
            ],
            "type": "surface"
           }
          ],
          "table": [
           {
            "cells": {
             "fill": {
              "color": "#EBF0F8"
             },
             "line": {
              "color": "white"
             }
            },
            "header": {
             "fill": {
              "color": "#C8D4E3"
             },
             "line": {
              "color": "white"
             }
            },
            "type": "table"
           }
          ]
         },
         "layout": {
          "annotationdefaults": {
           "arrowcolor": "#2a3f5f",
           "arrowhead": 0,
           "arrowwidth": 1
          },
          "autotypenumbers": "strict",
          "coloraxis": {
           "colorbar": {
            "outlinewidth": 0,
            "ticks": ""
           }
          },
          "colorscale": {
           "diverging": [
            [
             0,
             "#8e0152"
            ],
            [
             0.1,
             "#c51b7d"
            ],
            [
             0.2,
             "#de77ae"
            ],
            [
             0.3,
             "#f1b6da"
            ],
            [
             0.4,
             "#fde0ef"
            ],
            [
             0.5,
             "#f7f7f7"
            ],
            [
             0.6,
             "#e6f5d0"
            ],
            [
             0.7,
             "#b8e186"
            ],
            [
             0.8,
             "#7fbc41"
            ],
            [
             0.9,
             "#4d9221"
            ],
            [
             1,
             "#276419"
            ]
           ],
           "sequential": [
            [
             0,
             "#0d0887"
            ],
            [
             0.1111111111111111,
             "#46039f"
            ],
            [
             0.2222222222222222,
             "#7201a8"
            ],
            [
             0.3333333333333333,
             "#9c179e"
            ],
            [
             0.4444444444444444,
             "#bd3786"
            ],
            [
             0.5555555555555556,
             "#d8576b"
            ],
            [
             0.6666666666666666,
             "#ed7953"
            ],
            [
             0.7777777777777778,
             "#fb9f3a"
            ],
            [
             0.8888888888888888,
             "#fdca26"
            ],
            [
             1,
             "#f0f921"
            ]
           ],
           "sequentialminus": [
            [
             0,
             "#0d0887"
            ],
            [
             0.1111111111111111,
             "#46039f"
            ],
            [
             0.2222222222222222,
             "#7201a8"
            ],
            [
             0.3333333333333333,
             "#9c179e"
            ],
            [
             0.4444444444444444,
             "#bd3786"
            ],
            [
             0.5555555555555556,
             "#d8576b"
            ],
            [
             0.6666666666666666,
             "#ed7953"
            ],
            [
             0.7777777777777778,
             "#fb9f3a"
            ],
            [
             0.8888888888888888,
             "#fdca26"
            ],
            [
             1,
             "#f0f921"
            ]
           ]
          },
          "colorway": [
           "#636efa",
           "#EF553B",
           "#00cc96",
           "#ab63fa",
           "#FFA15A",
           "#19d3f3",
           "#FF6692",
           "#B6E880",
           "#FF97FF",
           "#FECB52"
          ],
          "font": {
           "color": "#2a3f5f"
          },
          "geo": {
           "bgcolor": "white",
           "lakecolor": "white",
           "landcolor": "#E5ECF6",
           "showlakes": true,
           "showland": true,
           "subunitcolor": "white"
          },
          "hoverlabel": {
           "align": "left"
          },
          "hovermode": "closest",
          "mapbox": {
           "style": "light"
          },
          "paper_bgcolor": "white",
          "plot_bgcolor": "#E5ECF6",
          "polar": {
           "angularaxis": {
            "gridcolor": "white",
            "linecolor": "white",
            "ticks": ""
           },
           "bgcolor": "#E5ECF6",
           "radialaxis": {
            "gridcolor": "white",
            "linecolor": "white",
            "ticks": ""
           }
          },
          "scene": {
           "xaxis": {
            "backgroundcolor": "#E5ECF6",
            "gridcolor": "white",
            "gridwidth": 2,
            "linecolor": "white",
            "showbackground": true,
            "ticks": "",
            "zerolinecolor": "white"
           },
           "yaxis": {
            "backgroundcolor": "#E5ECF6",
            "gridcolor": "white",
            "gridwidth": 2,
            "linecolor": "white",
            "showbackground": true,
            "ticks": "",
            "zerolinecolor": "white"
           },
           "zaxis": {
            "backgroundcolor": "#E5ECF6",
            "gridcolor": "white",
            "gridwidth": 2,
            "linecolor": "white",
            "showbackground": true,
            "ticks": "",
            "zerolinecolor": "white"
           }
          },
          "shapedefaults": {
           "line": {
            "color": "#2a3f5f"
           }
          },
          "ternary": {
           "aaxis": {
            "gridcolor": "white",
            "linecolor": "white",
            "ticks": ""
           },
           "baxis": {
            "gridcolor": "white",
            "linecolor": "white",
            "ticks": ""
           },
           "bgcolor": "#E5ECF6",
           "caxis": {
            "gridcolor": "white",
            "linecolor": "white",
            "ticks": ""
           }
          },
          "title": {
           "x": 0.05
          },
          "xaxis": {
           "automargin": true,
           "gridcolor": "white",
           "linecolor": "white",
           "ticks": "",
           "title": {
            "standoff": 15
           },
           "zerolinecolor": "white",
           "zerolinewidth": 2
          },
          "yaxis": {
           "automargin": true,
           "gridcolor": "white",
           "linecolor": "white",
           "ticks": "",
           "title": {
            "standoff": 15
           },
           "zerolinecolor": "white",
           "zerolinewidth": 2
          }
         }
        },
        "title": {
         "text": "Model Comparison Heatmap: Number of Wins"
        },
        "width": 800,
        "xaxis": {
         "tickmode": "linear",
         "title": {
          "text": "Model ID (Loser)"
         }
        },
        "yaxis": {
         "tickmode": "linear",
         "title": {
          "text": "Model ID (Winner)"
         }
        }
       }
      },
      "text/html": [
       "<div>                            <div id=\"d74b80e9-c941-4e7f-9718-70df2d80c951\" class=\"plotly-graph-div\" style=\"height:800px; width:800px;\"></div>            <script type=\"text/javascript\">                require([\"plotly\"], function(Plotly) {                    window.PLOTLYENV=window.PLOTLYENV || {};                                    if (document.getElementById(\"d74b80e9-c941-4e7f-9718-70df2d80c951\")) {                    Plotly.newPlot(                        \"d74b80e9-c941-4e7f-9718-70df2d80c951\",                        [{\"colorscale\":[[0.0,\"#440154\"],[0.1111111111111111,\"#482878\"],[0.2222222222222222,\"#3e4989\"],[0.3333333333333333,\"#31688e\"],[0.4444444444444444,\"#26828e\"],[0.5555555555555556,\"#1f9e89\"],[0.6666666666666666,\"#35b779\"],[0.7777777777777778,\"#6ece58\"],[0.8888888888888888,\"#b5de2b\"],[1.0,\"#fde725\"]],\"hoverongaps\":false,\"x\":[0,1,2,3,4,5,6,7,8,9,10,11],\"y\":[0,1,2,3,4,5,6,7,8,9,10,11],\"z\":[[0,0,19,23,22,27,16,23,21,26,15,17],[34,0,0,41,25,16,34,30,23,23,21,19],[23,42,11,42,43,36,28,43,57,48,49,41],[27,8,0,0,19,25,22,20,18,28,14,25],[24,11,0,23,0,21,26,20,16,22,22,35],[25,26,0,22,20,0,24,22,24,24,16,23],[20,22,0,22,30,18,0,18,20,21,23,26],[13,21,0,23,17,15,17,0,19,20,25,17],[27,32,0,18,17,23,16,14,0,17,24,16],[23,17,0,18,23,26,20,24,19,0,21,19],[23,24,0,13,23,27,26,24,22,20,0,21],[23,18,0,22,22,19,23,21,24,16,29,0]],\"type\":\"heatmap\"}],                        {\"template\":{\"data\":{\"histogram2dcontour\":[{\"type\":\"histogram2dcontour\",\"colorbar\":{\"outlinewidth\":0,\"ticks\":\"\"},\"colorscale\":[[0.0,\"#0d0887\"],[0.1111111111111111,\"#46039f\"],[0.2222222222222222,\"#7201a8\"],[0.3333333333333333,\"#9c179e\"],[0.4444444444444444,\"#bd3786\"],[0.5555555555555556,\"#d8576b\"],[0.6666666666666666,\"#ed7953\"],[0.7777777777777778,\"#fb9f3a\"],[0.8888888888888888,\"#fdca26\"],[1.0,\"#f0f921\"]]}],\"choropleth\":[{\"type\":\"choropleth\",\"colorbar\":{\"outlinewidth\":0,\"ticks\":\"\"}}],\"histogram2d\":[{\"type\":\"histogram2d\",\"colorbar\":{\"outlinewidth\":0,\"ticks\":\"\"},\"colorscale\":[[0.0,\"#0d0887\"],[0.1111111111111111,\"#46039f\"],[0.2222222222222222,\"#7201a8\"],[0.3333333333333333,\"#9c179e\"],[0.4444444444444444,\"#bd3786\"],[0.5555555555555556,\"#d8576b\"],[0.6666666666666666,\"#ed7953\"],[0.7777777777777778,\"#fb9f3a\"],[0.8888888888888888,\"#fdca26\"],[1.0,\"#f0f921\"]]}],\"heatmap\":[{\"type\":\"heatmap\",\"colorbar\":{\"outlinewidth\":0,\"ticks\":\"\"},\"colorscale\":[[0.0,\"#0d0887\"],[0.1111111111111111,\"#46039f\"],[0.2222222222222222,\"#7201a8\"],[0.3333333333333333,\"#9c179e\"],[0.4444444444444444,\"#bd3786\"],[0.5555555555555556,\"#d8576b\"],[0.6666666666666666,\"#ed7953\"],[0.7777777777777778,\"#fb9f3a\"],[0.8888888888888888,\"#fdca26\"],[1.0,\"#f0f921\"]]}],\"heatmapgl\":[{\"type\":\"heatmapgl\",\"colorbar\":{\"outlinewidth\":0,\"ticks\":\"\"},\"colorscale\":[[0.0,\"#0d0887\"],[0.1111111111111111,\"#46039f\"],[0.2222222222222222,\"#7201a8\"],[0.3333333333333333,\"#9c179e\"],[0.4444444444444444,\"#bd3786\"],[0.5555555555555556,\"#d8576b\"],[0.6666666666666666,\"#ed7953\"],[0.7777777777777778,\"#fb9f3a\"],[0.8888888888888888,\"#fdca26\"],[1.0,\"#f0f921\"]]}],\"contourcarpet\":[{\"type\":\"contourcarpet\",\"colorbar\":{\"outlinewidth\":0,\"ticks\":\"\"}}],\"contour\":[{\"type\":\"contour\",\"colorbar\":{\"outlinewidth\":0,\"ticks\":\"\"},\"colorscale\":[[0.0,\"#0d0887\"],[0.1111111111111111,\"#46039f\"],[0.2222222222222222,\"#7201a8\"],[0.3333333333333333,\"#9c179e\"],[0.4444444444444444,\"#bd3786\"],[0.5555555555555556,\"#d8576b\"],[0.6666666666666666,\"#ed7953\"],[0.7777777777777778,\"#fb9f3a\"],[0.8888888888888888,\"#fdca26\"],[1.0,\"#f0f921\"]]}],\"surface\":[{\"type\":\"surface\",\"colorbar\":{\"outlinewidth\":0,\"ticks\":\"\"},\"colorscale\":[[0.0,\"#0d0887\"],[0.1111111111111111,\"#46039f\"],[0.2222222222222222,\"#7201a8\"],[0.3333333333333333,\"#9c179e\"],[0.4444444444444444,\"#bd3786\"],[0.5555555555555556,\"#d8576b\"],[0.6666666666666666,\"#ed7953\"],[0.7777777777777778,\"#fb9f3a\"],[0.8888888888888888,\"#fdca26\"],[1.0,\"#f0f921\"]]}],\"mesh3d\":[{\"type\":\"mesh3d\",\"colorbar\":{\"outlinewidth\":0,\"ticks\":\"\"}}],\"scatter\":[{\"fillpattern\":{\"fillmode\":\"overlay\",\"size\":10,\"solidity\":0.2},\"type\":\"scatter\"}],\"parcoords\":[{\"type\":\"parcoords\",\"line\":{\"colorbar\":{\"outlinewidth\":0,\"ticks\":\"\"}}}],\"scatterpolargl\":[{\"type\":\"scatterpolargl\",\"marker\":{\"colorbar\":{\"outlinewidth\":0,\"ticks\":\"\"}}}],\"bar\":[{\"error_x\":{\"color\":\"#2a3f5f\"},\"error_y\":{\"color\":\"#2a3f5f\"},\"marker\":{\"line\":{\"color\":\"#E5ECF6\",\"width\":0.5},\"pattern\":{\"fillmode\":\"overlay\",\"size\":10,\"solidity\":0.2}},\"type\":\"bar\"}],\"scattergeo\":[{\"type\":\"scattergeo\",\"marker\":{\"colorbar\":{\"outlinewidth\":0,\"ticks\":\"\"}}}],\"scatterpolar\":[{\"type\":\"scatterpolar\",\"marker\":{\"colorbar\":{\"outlinewidth\":0,\"ticks\":\"\"}}}],\"histogram\":[{\"marker\":{\"pattern\":{\"fillmode\":\"overlay\",\"size\":10,\"solidity\":0.2}},\"type\":\"histogram\"}],\"scattergl\":[{\"type\":\"scattergl\",\"marker\":{\"colorbar\":{\"outlinewidth\":0,\"ticks\":\"\"}}}],\"scatter3d\":[{\"type\":\"scatter3d\",\"line\":{\"colorbar\":{\"outlinewidth\":0,\"ticks\":\"\"}},\"marker\":{\"colorbar\":{\"outlinewidth\":0,\"ticks\":\"\"}}}],\"scattermapbox\":[{\"type\":\"scattermapbox\",\"marker\":{\"colorbar\":{\"outlinewidth\":0,\"ticks\":\"\"}}}],\"scatterternary\":[{\"type\":\"scatterternary\",\"marker\":{\"colorbar\":{\"outlinewidth\":0,\"ticks\":\"\"}}}],\"scattercarpet\":[{\"type\":\"scattercarpet\",\"marker\":{\"colorbar\":{\"outlinewidth\":0,\"ticks\":\"\"}}}],\"carpet\":[{\"aaxis\":{\"endlinecolor\":\"#2a3f5f\",\"gridcolor\":\"white\",\"linecolor\":\"white\",\"minorgridcolor\":\"white\",\"startlinecolor\":\"#2a3f5f\"},\"baxis\":{\"endlinecolor\":\"#2a3f5f\",\"gridcolor\":\"white\",\"linecolor\":\"white\",\"minorgridcolor\":\"white\",\"startlinecolor\":\"#2a3f5f\"},\"type\":\"carpet\"}],\"table\":[{\"cells\":{\"fill\":{\"color\":\"#EBF0F8\"},\"line\":{\"color\":\"white\"}},\"header\":{\"fill\":{\"color\":\"#C8D4E3\"},\"line\":{\"color\":\"white\"}},\"type\":\"table\"}],\"barpolar\":[{\"marker\":{\"line\":{\"color\":\"#E5ECF6\",\"width\":0.5},\"pattern\":{\"fillmode\":\"overlay\",\"size\":10,\"solidity\":0.2}},\"type\":\"barpolar\"}],\"pie\":[{\"automargin\":true,\"type\":\"pie\"}]},\"layout\":{\"autotypenumbers\":\"strict\",\"colorway\":[\"#636efa\",\"#EF553B\",\"#00cc96\",\"#ab63fa\",\"#FFA15A\",\"#19d3f3\",\"#FF6692\",\"#B6E880\",\"#FF97FF\",\"#FECB52\"],\"font\":{\"color\":\"#2a3f5f\"},\"hovermode\":\"closest\",\"hoverlabel\":{\"align\":\"left\"},\"paper_bgcolor\":\"white\",\"plot_bgcolor\":\"#E5ECF6\",\"polar\":{\"bgcolor\":\"#E5ECF6\",\"angularaxis\":{\"gridcolor\":\"white\",\"linecolor\":\"white\",\"ticks\":\"\"},\"radialaxis\":{\"gridcolor\":\"white\",\"linecolor\":\"white\",\"ticks\":\"\"}},\"ternary\":{\"bgcolor\":\"#E5ECF6\",\"aaxis\":{\"gridcolor\":\"white\",\"linecolor\":\"white\",\"ticks\":\"\"},\"baxis\":{\"gridcolor\":\"white\",\"linecolor\":\"white\",\"ticks\":\"\"},\"caxis\":{\"gridcolor\":\"white\",\"linecolor\":\"white\",\"ticks\":\"\"}},\"coloraxis\":{\"colorbar\":{\"outlinewidth\":0,\"ticks\":\"\"}},\"colorscale\":{\"sequential\":[[0.0,\"#0d0887\"],[0.1111111111111111,\"#46039f\"],[0.2222222222222222,\"#7201a8\"],[0.3333333333333333,\"#9c179e\"],[0.4444444444444444,\"#bd3786\"],[0.5555555555555556,\"#d8576b\"],[0.6666666666666666,\"#ed7953\"],[0.7777777777777778,\"#fb9f3a\"],[0.8888888888888888,\"#fdca26\"],[1.0,\"#f0f921\"]],\"sequentialminus\":[[0.0,\"#0d0887\"],[0.1111111111111111,\"#46039f\"],[0.2222222222222222,\"#7201a8\"],[0.3333333333333333,\"#9c179e\"],[0.4444444444444444,\"#bd3786\"],[0.5555555555555556,\"#d8576b\"],[0.6666666666666666,\"#ed7953\"],[0.7777777777777778,\"#fb9f3a\"],[0.8888888888888888,\"#fdca26\"],[1.0,\"#f0f921\"]],\"diverging\":[[0,\"#8e0152\"],[0.1,\"#c51b7d\"],[0.2,\"#de77ae\"],[0.3,\"#f1b6da\"],[0.4,\"#fde0ef\"],[0.5,\"#f7f7f7\"],[0.6,\"#e6f5d0\"],[0.7,\"#b8e186\"],[0.8,\"#7fbc41\"],[0.9,\"#4d9221\"],[1,\"#276419\"]]},\"xaxis\":{\"gridcolor\":\"white\",\"linecolor\":\"white\",\"ticks\":\"\",\"title\":{\"standoff\":15},\"zerolinecolor\":\"white\",\"automargin\":true,\"zerolinewidth\":2},\"yaxis\":{\"gridcolor\":\"white\",\"linecolor\":\"white\",\"ticks\":\"\",\"title\":{\"standoff\":15},\"zerolinecolor\":\"white\",\"automargin\":true,\"zerolinewidth\":2},\"scene\":{\"xaxis\":{\"backgroundcolor\":\"#E5ECF6\",\"gridcolor\":\"white\",\"linecolor\":\"white\",\"showbackground\":true,\"ticks\":\"\",\"zerolinecolor\":\"white\",\"gridwidth\":2},\"yaxis\":{\"backgroundcolor\":\"#E5ECF6\",\"gridcolor\":\"white\",\"linecolor\":\"white\",\"showbackground\":true,\"ticks\":\"\",\"zerolinecolor\":\"white\",\"gridwidth\":2},\"zaxis\":{\"backgroundcolor\":\"#E5ECF6\",\"gridcolor\":\"white\",\"linecolor\":\"white\",\"showbackground\":true,\"ticks\":\"\",\"zerolinecolor\":\"white\",\"gridwidth\":2}},\"shapedefaults\":{\"line\":{\"color\":\"#2a3f5f\"}},\"annotationdefaults\":{\"arrowcolor\":\"#2a3f5f\",\"arrowhead\":0,\"arrowwidth\":1},\"geo\":{\"bgcolor\":\"white\",\"landcolor\":\"#E5ECF6\",\"subunitcolor\":\"white\",\"showland\":true,\"showlakes\":true,\"lakecolor\":\"white\"},\"title\":{\"x\":0.05},\"mapbox\":{\"style\":\"light\"}}},\"xaxis\":{\"title\":{\"text\":\"Model ID (Loser)\"},\"tickmode\":\"linear\"},\"yaxis\":{\"title\":{\"text\":\"Model ID (Winner)\"},\"tickmode\":\"linear\"},\"title\":{\"text\":\"Model Comparison Heatmap: Number of Wins\"},\"width\":800,\"height\":800},                        {\"responsive\": true}                    ).then(function(){\n",
       "                            \n",
       "var gd = document.getElementById('d74b80e9-c941-4e7f-9718-70df2d80c951');\n",
       "var x = new MutationObserver(function (mutations, observer) {{\n",
       "        var display = window.getComputedStyle(gd).display;\n",
       "        if (!display || display === 'none') {{\n",
       "            console.log([gd, 'removed!']);\n",
       "            Plotly.purge(gd);\n",
       "            observer.disconnect();\n",
       "        }}\n",
       "}});\n",
       "\n",
       "// Listen for the removal of the full notebook cells\n",
       "var notebookContainer = gd.closest('#notebook-container');\n",
       "if (notebookContainer) {{\n",
       "    x.observe(notebookContainer, {childList: true});\n",
       "}}\n",
       "\n",
       "// Listen for the clearing of the current output cell\n",
       "var outputEl = gd.closest('.output');\n",
       "if (outputEl) {{\n",
       "    x.observe(outputEl, {childList: true});\n",
       "}}\n",
       "\n",
       "                        })                };                });            </script>        </div>"
      ]
     },
     "metadata": {},
     "output_type": "display_data"
    }
   ],
   "source": [
    "def create_comparison_heatmap(comparisons):\n",
    "    # Create a dictionary to store win counts\n",
    "    win_counts = defaultdict(lambda: defaultdict(int))\n",
    "    \n",
    "    # Count wins for each model pair\n",
    "    for comp in comparisons:\n",
    "        model_1 = comp['model_1']\n",
    "        model_2 = comp['model_2']\n",
    "        winner = comp['winner']\n",
    "        \n",
    "        if not comp['tie']:\n",
    "            if winner == model_1:\n",
    "                win_counts[model_1][model_2] += 1\n",
    "            else:\n",
    "                win_counts[model_2][model_1] += 1\n",
    "\n",
    "    # Get unique model IDs\n",
    "    model_ids = sorted(set(model_id for comp in comparisons for model_id in [comp['model_1'], comp['model_2']]))\n",
    "\n",
    "    # Create the heatmap data\n",
    "    heatmap_data = [[win_counts[y][x] for x in model_ids] for y in model_ids]\n",
    "\n",
    "    # Create the heatmap\n",
    "    fig = go.Figure(data=go.Heatmap(\n",
    "        z=heatmap_data,\n",
    "        x=model_ids,\n",
    "        y=model_ids,\n",
    "        colorscale='Viridis',\n",
    "        hoverongaps=False))\n",
    "\n",
    "    # Update layout\n",
    "    fig.update_layout(\n",
    "        title='Model Comparison Heatmap: Number of Wins',\n",
    "        xaxis_title='Model ID (Loser)',\n",
    "        yaxis_title='Model ID (Winner)',\n",
    "        xaxis=dict(tickmode='linear'),\n",
    "        yaxis=dict(tickmode='linear'),\n",
    "        width=800,\n",
    "        height=800,\n",
    "    )\n",
    "\n",
    "    return fig\n",
    "\n",
    "create_comparison_heatmap(coherence_battle_results)"
   ]
  },
  {
   "cell_type": "code",
   "execution_count": 86,
   "metadata": {},
   "outputs": [
    {
     "data": {
      "text/plain": [
       "['I think you would find the 203s in the E4L line too soft? My friend has a 20',\n",
       " 'I think all this is a lie to keep them in the dark.. The truth is he has been using a drug thats bad for him',\n",
       " \"I think we're gonna have to start looking for a new drummer. I mean, it can't be THAT difficult, we\",\n",
       " \"I think they were really good at the beginning. Since then they've been mediocre to awful. I hate them so much. I\",\n",
       " 'I think that you can do it, just check this website:\\n\\nhttp://www.sands.com.sg/en/',\n",
       " 'I think it is fair to say that most of use do not think that the vast majority of young people are violent or unruly. When',\n",
       " 'I think it’s really important to take pride in what you’re doing, and we’re trying to do an environment where',\n",
       " 'I think this is a duplicate of #34\\n\\nWhat is the status here? Is the issue assigned to a developer?\\n\\n@',\n",
       " \"I think if you're a beginner, <em>the way</em> of how you learn is probably most important: reading the manual,\",\n",
       " \"I think it'd be neat to put one of the giant wooden sticks that were around the place before they were moved to their new\",\n",
       " \"I think it would depend on how much money you're willing to spend versus how much value you could get by adding a few more\",\n",
       " \"I think the same. I got this and the first time I tried it it just didn't work out. And the second time\",\n",
       " 'I think the term you are looking for is \"diaphragm\".\\n\"The diaphragm is a muscular partition whose primary function is',\n",
       " 'I think that one of the most common questions I get from new people is why do I call myself a copywriter. Isn’t',\n",
       " 'I think you need a small, single handle or large, one on the side, two handles. Just for a little bit of water',\n",
       " 'I think that the new owners have their hands full and must be looking to sell the business or reimagine it so it makes good profit',\n",
       " 'I think you are using the wrong word for that. <i>Enforcer</i> is someone who keeps the peace, such as a cop',\n",
       " 'I think that all of you know about the game Minecraft which is released from Mojang studio. This game already became really popular one and',\n",
       " 'I think it is because when you set a breakpoint the debugger stops when you put the first line of code in the breakpoint code, but',\n",
       " 'I think I’m getting close to finishing up with the main part of the house and am shifting around my tools a little bit.',\n",
       " 'I think the point is that the \"classic\" is a 1.5D game (but not in the 96-',\n",
       " 'I think it’s pretty easy to see why. I mean, just look at how beautiful it is there.\\n\\nYou start with',\n",
       " 'I think he is right with the 4K one. For the most part, it comes from the 4K master. However',\n",
       " \"I think the only bad part about this would be that you wouldn't get to own this beautiful home that features 4 bedrooms,\",\n",
       " 'I think these photos are pretty self explanatory on what it’s like for myself when I go to the gym.\\n\\nI actually do',\n",
       " \"I think he looks quite good, but I don't really like his voice. I am kind of confused on the character, because\",\n",
       " 'I think it’s a wonderful time in the world we live in today that the Bible is seen as a part of a healthy,',\n",
       " 'I think I have done everything the way you are supposed to do it.\\nI had this same problem and solved it using a new',\n",
       " 'I think I have this one figured out.\\n\\nWe\\'ve been getting a lot of spam on our site about our latest post \"',\n",
       " 'I think this is a very important question at this time, particularly for parents who need to be more creative with how they are teaching their',\n",
       " 'I think this is from the \"old\" era when they had an actual TV series.\\nI have the same version of the same',\n",
       " \"I think there are only a few characters on this series that I dislike.\\n\\nSansa - it's because, unlike so many\",\n",
       " \"I think I've seen this movie before. I haven't.\\n\\nThe movie is about a young boy who lives a rather\",\n",
       " 'I think there is a bug with my character not being able to interact with objects, the character is a 2,1,2',\n",
       " 'I think i will just ask you the question first.\\n\\nMy understanding is that <b>the</b> is used for items/things/',\n",
       " 'I think you just need to do \"The One\" scene with him.\\nI think this too. I know that you have done',\n",
       " 'I think there are two main reasons:\\n\\n1. The first one, which is kind of obvious, is cost. Many manufacturers offer',\n",
       " 'I think the word “fable” has many definitions. A fable is a type of story that involves characters with unique characteristics or personalities',\n",
       " 'I think it’s important for small businesses to know that there is no one way to be successful in business. We’re so',\n",
       " 'I think the only major change this season came at the end when the girls all were in a 3-2 defeat against an all',\n",
       " 'I think this is a unique situation, and for this particular case, I think the standard answer is this should not be a problem:',\n",
       " 'I think that one of the things I appreciate about the <em>Star Wars</em> movies is that unlike most films that are set thousands of',\n",
       " 'I think that a long and short question should be asked first.\\n\\nThe question is not stated as clearly as it would be if the',\n",
       " 'I think part of one of her jobs was to be the head of special projects and she always gave her opinions on issues, and a',\n",
       " 'I think, I know.\\n\\nI understand that things will change.\\nThat the world will not stay as it is.\\n\\nAnd',\n",
       " 'I think we don’t even need to discuss the concept of the ‘Big Four’ or the ‘Big Number’ anymore. They',\n",
       " \"I think we've reached maximum levels of how the internet will troll each other for 3rd party content.\\n\\nThis is the\",\n",
       " 'I think that the issue may be a failure of the transmission fluid to lubricate the clutch pack in this particular engine, there may be',\n",
       " 'I think this is the first time I’ve ever shared a recipe on the blog that is a recipe I found, tweaked, tried',\n",
       " 'I think you can only see the details of a contract if:\\n\\n1. It’s been created by a sales org\\n2',\n",
       " 'I think we should find out what the actual purpose of the game is.\\n\\nIn real life games, if you’re playing any',\n",
       " 'I think I was born into a world without rules!\\n\\n\\nIn 1964 at the age of 11 my parents',\n",
       " 'I think I’m starting to lose my mind.  There’s this thing called the Great Migration, and it’s going',\n",
       " \"I think I've found a workaround for the issue:\\nI've added a listener to the onAfterImage() handler and\",\n",
       " 'I think your question is answered in the docs:\\n\\n<blockquote>By default, a page is a noninteractive entity, but a user can',\n",
       " \"I think many people feel like this - either after 30 or 40 or 50. Or when they're\",\n",
       " 'I think it\\'s more a marketing thing than a technical issue. \"Open\" means that the connection between two nodes is open.',\n",
       " 'I think these are the best of the group. I tried a little bit on the one on the right, and it was quite wet',\n",
       " 'I think most of us like the idea of an <strong>all-in-one computer</strong>. The ability to have a computer,',\n",
       " 'I think in this case we might have two different interpretations of the word <em>contemptible</em> in use which is causing this difficulty',\n",
       " 'I think you may have been a bit hasty in removing the existing one that was a 17\" with no wheel. Many people',\n",
       " \"I think some of you thought I was off, but I wasn't -- I <em>am</em> off. And my wife has\",\n",
       " 'I think you mean that <code>$request->files</code> is not empty, however its keys are missing.\\n\\nDo this:\\n\\n',\n",
       " 'I think you are a great mom. The only thing that I could add to the list would be to teach my son to share his',\n",
       " 'I think it is a good question.\\n\\nI’d actually go one step further. If a woman gets pregnant in their first attempt',\n",
       " 'I think that you need to make sense of the words \"<em>I need to live for my children</em>\". Why do your children deserve',\n",
       " 'I think these may be my favorite cupcakes I have ever made! The colors are beautiful, but more importantly than that this recipe has made',\n",
       " 'I think when you put your heart and soul into it, you end up making more than just a business out of the art. A',\n",
       " 'I think I have the same issue and it happens in 2 locations, a site I have worked on and another on my own domain',\n",
       " 'I think that in the most recent seasons of <i>Game of Thrones</i> a lot of things are happening in just one episode. The',\n",
       " \"I think it's a good idea, but it's got some pretty glaring flaws.\\n\\n\\nThere's a couple that were\",\n",
       " 'I think 18 and 19. I’m pretty sure that for level 3 in each you have to know the',\n",
       " 'I think the most important thing is to take the baby out into the elements as often as you can.  This will help to stimulate',\n",
       " 'I think you can put it down a fair way now but you need to get it into the house so it can have a good wash',\n",
       " 'I think the biggest thing is just keeping up with the game as you move to different levels. At a certain point, you might start',\n",
       " 'I think I might have this. I took an OTC muscle relaxer (300mg) two hours ago as soon as I',\n",
       " 'I think this is important because it shows the difference in how people talk about mental illness. For people with depression it’s as if',\n",
       " 'I think we can all agree that 20 has been a pretty shitty year. With the pandemic, and the political climate, I',\n",
       " 'I think we already have a thread for this, the old-school, like 14-16 or something like that thread',\n",
       " 'I think many parents would be very excited to have their children receive a letter in the Mail. Especially those who feel their child has done',\n",
       " 'I think it\\'s great what you both are doing but 2 things I have noticed:\\n\\n1. The \"I\\'m',\n",
       " \"I think it's called The New Forest but I could be wrong.\\n\\nThere are lots of places to go for the hunt at\",\n",
       " 'I think everyone knows me as <i>The Nerd</i>. Ever since college, I have spent my life taking classes (always to excess',\n",
       " 'I think people are often afraid they have done something wrong and the other person is going to kick them out of the friendship.\\n\\nIt',\n",
       " 'I think it\\'s called \"disordered food\" and I used to be able to have a bit of a snarky attitude to',\n",
       " \"I think it's just in the nature of the genre.\\n\\nBut hey, they're not really complaining, they've\",\n",
       " \"I think I've identified the flaw - I'm getting two of the same event. I have a component for a new user\",\n",
       " 'I think I read a few posts about using a cheap USB device to capture audio or play MIDI sounds and then record them as audio clips',\n",
       " 'I think it is time for a second part in my series of 22 questions. I haven’t played this game for some',\n",
       " \"I think there's just too much here!\\n\\n<strong>The Old Testament of the New International Version.</strong> It's a beautiful\",\n",
       " 'I think the answer is that they are not as good as the real ones. The real ones have an organic surface so they don’',\n",
       " 'I think my problem is the wrong value for column widths and the wrong value for row height?\\n\\nTo put them back for a moment',\n",
       " 'I think it\\'d be useful to have a way to create a new post in the \"Ask a Chef\" category with only a',\n",
       " 'I think you have to install the package.\\n\\n\\nI think you have to install the package.\\n\\nI have also tried using\\n\\n\\nbut',\n",
       " 'I think that I’ve found the cause. Last night I used the latest release notes for version 3.1.5 and',\n",
       " \"I think it's about time I give one of my first ever articles in this column. So here goes--how a little bit\",\n",
       " 'I think that the best way to go about your day, so you can have a productive day, is to try to stay in the',\n",
       " \"I think it's the first time I've watched a film with multiple narrators. 99 percent of the time when\",\n",
       " \"I think, it's 40€ per person\\n\\nWe went there by taxi, in case it helps.\\n\\nhi,\",\n",
       " 'I think \"I should have done a better choice\" can be used in this situation. If you say \"I should have done a',\n",
       " \"I think it might be time to get back on the track. This has been an interesting 8 weeks but I don't anticipate\",\n",
       " 'I think the question is in two parts (which is why you are getting two answers).\\n\\nOne part of the question asks, \"',\n",
       " \"I think this is a pretty good idea. If we are already tracking <code>__proto_</code>, this'll be slightly different\",\n",
       " 'I think the most important thing to do is make sure that the kids have a place to go to after-school. Many kids don',\n",
       " 'I think the biggest question when most people consider the differences between analog and digital equipment is will the digital equipment <em>look</em> more professional',\n",
       " 'I think the game is good. Lots of fun and nice graphics. The game starts simple enough... the music and sounds and everything is',\n",
       " \"I think so. I've tried just to ignore it. I don't really know what happened that night. But I haven\",\n",
       " 'I think I\\'m confused on how this program work. I\\'m assuming you select all 3 options \"No, my family',\n",
       " 'I think you will have to use something like an image that is smaller than the original and then crop it.\\n\\nThis works too\\n\\n',\n",
       " 'I think it’s safe to say that we’ve been waiting ages for <strong>One Direction</strong>‘s hotly-anticipated ',\n",
       " \"I think she's gorgeous, but I think her whole wardrobe has been a little more conservative thus far (especially because of the sheer\",\n",
       " 'I think if any of you has spent much time on this forum you will have seen many threads complaining about the ridiculous and pointless “no',\n",
       " 'I think the idea of \"it doesn\\'t feel good when I eat it\" is a really good one. When you realize a',\n",
       " 'I think you should just be able to add a second email address to your regular account. I had exactly this need but I did not',\n",
       " 'I think I am in the same place as some of the above comments but I’m struggling for help & support. I am an',\n",
       " \"I think I like that he's still the old F1 and just has an engine, wings and body from the last race.\",\n",
       " 'I think I\\'m gonna get a new bike. A lot of people use the term \"new bike\", just like how people get',\n",
       " 'I think we already know what your question is because from your first reply you gave is what we have been asking for. The big deal',\n",
       " 'I think I must be one of a select few people that love making chocolate. I will do anything from melting chocolate to pouring ganache',\n",
       " \"I think I've said it before, I really don't like the movie Star Wars. The premise is amazing, the world\",\n",
       " 'I think I made a small error when creating this. It should simply be the same as the regular page in the menu, which you',\n",
       " 'I think it means you did one or maybe a few things right… and those other things are not paying dividends for you.\\n\\nIn',\n",
       " \"I think it's time to get ready for the new school year as we are in the midst of summer already.\\nI would\",\n",
       " 'I think every girl should have a signature perfume scent in her closet. It should be the one that brings joy, not just because it',\n",
       " 'I think I may have a very good deal on some vintage 34\" wheels and tires that work on my car. I like',\n",
       " 'I think the best part of all this is how the people who hate him talk about him as if they <i><b>actually</b></i>',\n",
       " 'I think that’s fair. In the same line of thinking as the 1,000’s of posts that call',\n",
       " 'I think it would be nice to have the option of putting a single quote mark into a tag like <code><q:name>',\n",
       " 'I think this is a problem that most people are facing in this part of the world. Where the people living as housemaids are in',\n",
       " \"I think it depends on the program. At my hospital, you generally have more freedom in terms of the times you're able to\",\n",
       " \"I think I'm just one step ahead and the time will tell... you just might be one step behind but you'll still\",\n",
       " 'I think many of us thought when the new <strong><em>Star Wars</em></strong> prequel trilogy had come out that there would never be a',\n",
       " 'I think it is the way it works on older cars, where it will go up (and down) all the time without even trying',\n",
       " 'I think you can just use a normal button to do this. If you would like to create an “Action” button:\\nFirst',\n",
       " 'I think a lot about myself in the process of trying to get to the root of the issue. Some days I think and feel okay',\n",
       " \"I think there's a reason why a lot of people think that the original F.P. is better than this. I personally\",\n",
       " \"I think we can agree that sometimes, when things aren't going your way, it's impossible not to find yourself in a\",\n",
       " \"I think all of the 4 stars reviews came from people who didn't know how difficult the English here is. It's\",\n",
       " \"I think it helps that you're talking about a <i>very</i> small space. If your kitchen is more of a normal size\",\n",
       " 'I think that this is what you want:\\n\\n<code>function onOpen()\\n  var data = SpreadsheetApp.getActiveSheet().getDataRange',\n",
       " 'I think I figured out the reason. While debugging, i noticed that the first line in the error was\\n\\nwhich is weird because the',\n",
       " 'I think it is safe to say that most people would rather be on the road than in their garages (unless they’re on their',\n",
       " \"I think the best thing you can do is not to let it get that far. We don't let our kids get a single\",\n",
       " 'I think the last time I posted, I was about to begin my 3rd week of treatment. It seemed that it was never',\n",
       " 'I think your biggest issue is that your data is not normalized enough. In the US and Europe, you would never see one employee ID',\n",
       " 'I think the first thing we should know from you is that your parents are super cool for letting you run a local comic shop.\\n\\n',\n",
       " \"I think this is a case of the original developer just deciding to move to an entirely different language. That's not really anything they\",\n",
       " 'I think its a little bit unfair on a 18 year old girl who didnt steal her boyfriend to claim its not her responsibility even',\n",
       " 'I think that people who spend too much energy on who they are and how others think of them will suffer from depression because of this.',\n",
       " \"I think the best thing to do would be to use it as a guide. Most people just don't understand how long it will\",\n",
       " 'I think the only thing I have gotten for them is more problems. She is very rude and not helpful at all. I think she',\n",
       " 'I think one of the things I struggle to understand is why so many men have low self-esteem.  Low self-esteem is',\n",
       " 'I think you are on the right track, but you might be over complicating things. My interpretation of what you were asking is\\n\\n',\n",
       " \"I think your problem isn't with python packages and is more related to the way you've initialized the client. See the docs\",\n",
       " \"I think you will be happy. I don't have any advice but just a hello.\\nThank you. I am thrilled to\",\n",
       " \"I think the point of this question is to point out that your argument isn't correct. That being said, I'll try\",\n",
       " 'I think you should look into the following two questions:\\n\\nFirstly, what does it mean for a category to satisfy the \"descent conditions',\n",
       " 'I think it depends on how busy the company is. I’ve received my checks via direct deposit, in the mail for a year',\n",
       " 'I think part of the issue here is the fact that your wife is a physician and not a surgeon. The doctors (who you hired',\n",
       " 'I think anyone from Northern Europe will know the name and the fame this artist has had. He was the first rock artist in Estonia.',\n",
       " 'I think the only difference is in the display the first one has larger buttons and the second with a bigger display.\\nThat is so',\n",
       " 'I think about that all the time and have since I read “War and Peace”. That is not a sentence for my use of the',\n",
       " 'I think that it looks like your computer may be old. It may be a good decision to upgrade to one of the newer laptops that',\n",
       " 'I think it is really interesting that they were so focused on him being a pacifist that he was basically killed in a suicide mission to',\n",
       " \"I think I've been using and recommending the same app for at least four years now, but I've been searching for one\",\n",
       " 'I think that every woman should have beautiful nails. Not only, the nail polish color is important, but also how it looks. If',\n",
       " 'I think it’s safe to say that we’ve been quite busy. \\n\\nWe recently hosted all of our classes at the',\n",
       " 'I think most people don\\'t understand what an \"un-intertwined\" couple means, they assume that it would have been',\n",
       " 'I think this is probably something to do with your configuration not picking up the correct date format for whatever reason. In these cases you’',\n",
       " 'I think the problem is that <code>_self</code> is just a pointer to <code>MyFrame</code>, and not a pointer to',\n",
       " 'I think I\\'m going to make it the \"Official Blog\" of Scion of the Night for a while while I get everything',\n",
       " 'I think you are saying that the \"X\" symbol means \"OK?\" which is the same as \"Yes\"? If so then you',\n",
       " 'I think these are the first photos of me since I got back from New York. I have lost a lot of weight and I am',\n",
       " 'I think this is what you mean. If so, this was explained in the documentation - https://documentation.cloudera.com/',\n",
       " 'I think by now everyone has discovered Netflix’s new reality TV-type series <em>Too Hot To Handle</em>. If you’',\n",
       " 'I think it was said in a video from them that they plan on making different versions of her, so who knows what the future may',\n",
       " 'I think it would be fair enough to say that on 18th March 2020, everyone was talking about Coronavirus',\n",
       " \"I think that is what he did...\\nI don't think so i don't know if he did or not\\nI\",\n",
       " 'I think my last thread was just before Christmas so the following review is a bit late!\\n\\nI spent Christmas Eve and Christmas Day looking',\n",
       " 'I think I was pretty much a late bloomer when it came to this film. I was watching this movie in its entirety one night',\n",
       " 'I think we would still get a \"real\" Christmas, and I wouldn\\'t think it would be any worse than having it during',\n",
       " 'I think it is safe to say all of you are somewhat familiar with my previous <strong>post</strong> about the first time I ever went',\n",
       " 'I think in the future there will be more. The ones that are out there now are not very good looking, just very utilitarian.',\n",
       " 'I think I\\'ll just tell you what I think...the second one is the \"coolest\".\\n\\nBoth are very beautiful,',\n",
       " 'I think some time in the UK, where it gets dark really early, would be nice\\n\\nI live in the UK and i think',\n",
       " 'I think the reason we want to have a home made version of a standard is so that we can get a really big variety of them',\n",
       " 'I think i have done it. It is a small step forward but if I were one of our customers I would hate to leave.',\n",
       " \"I think it's because I never really had anything to do outside of school because all I ever did was do work for school and\",\n",
       " 'I think the second one would be easier. You may find that if you draw the lines on paper and then put tracing paper over them',\n",
       " 'I think a bit more info will be helpful. What exactly is the problem? From the way you described the problem I assume that you',\n",
       " \"I think that your comment is not fair for all other developers using Unity's built-in editor. I don't want to\",\n",
       " 'I think I finally understand what the problem was... I had my laptop set to only connect to WiFi and I never realized that the default',\n",
       " 'I think the biggest factor is that every single person at our level has had an opportunity to be on the top of their class, and',\n",
       " 'I think you have just described what most people, even non-bikers think of the bike itself, but they may never be a',\n",
       " \"I think you are a little off....I believe they used to be considered 'white-tail' deer and not really 'deer',\",\n",
       " \"I think the issue is you may be in the wrong location, it's currently listed as the same place as this restaurant.\\n\\n\",\n",
       " 'I think they should give us the ability to use our mouse to switch to another character or even if we had a crosshair showing us',\n",
       " 'I think most every other game on the market (non-RPG) is 3rd person. Personally I love 3rd person',\n",
       " 'I think you mean this:\\n\\n<blockquote>how to get two values from a struct and assign them to separate variables/arrays</blockquote>\\n\\n<code>',\n",
       " \"I think it's a good idea. But the problem with the old 161 was that some players were given special deals\",\n",
       " \"I think we have a bit of an idea. Maybe let's do that and give it some time.\\n \\n\\nIf it\",\n",
       " 'I think we all know the feeling - we find a picture of a super cute couple and can’t help but smile or gush',\n",
       " \"I think the most common is that we don't use an external controller at all. We only use a controller when that would provide\",\n",
       " 'I think you are looking for how to use CSS to make the column background color change by using the grid item <strong>background-color',\n",
       " \"I think it's pretty amazing that a company that I thought I wouldn't care about anymore can be revived in 20\",\n",
       " 'I think we need to make sure that our customers are completely satisfied. If you have a question about us or our products and services,',\n",
       " 'I think it’s fair to say, after some time with the 2019 Porsche 992 Carrera S in',\n",
       " \"I think maybe this question has already been answered but I'm trying to determine if the 2008-08.\",\n",
       " 'I think this is the case in many organizations, the people who have the influence to change processes and procedures have often been there for a',\n",
       " 'I think that my favorite image in this book for those of you not familiar with the series is the one on the cover with the picture',\n",
       " 'I think I might have a problem with the way I think. My problem is the same one I had back in my senior year of',\n",
       " 'I think we can all relate to the feeling of waking up on a holiday feeling great on the first morning. Everything was perfect, you',\n",
       " \"I think this issue might be interesting enough to be a blog, even if it isn't a huge development in the longrun.\",\n",
       " 'I think you could add this with the following:\\n\\nNot sure if there is a more efficient or clean way then that.\\n\\nActually',\n",
       " 'I think one of the most attractive and interesting cities in France is Lyon.  It is very cosmopolitan but with its roots deeply in France',\n",
       " \"I think we can all agree that if I'm going to go all in on one brand, I'm gonna do it BIG\",\n",
       " 'I think a lot of people underestimate the positive change that music can bring to your life. It has the ability to connect people and create',\n",
       " 'I think the most difficult part of the whole process is deciding. All the ideas are brilliant, all the vendors are a delight to work',\n",
       " \"I think it depends on your type of work... the type where you're standing 8 - 10 hours a day.\",\n",
       " 'I think this is my favourite outfit. I absolutely adore it and I can’t believe I’ve made it. To be honest',\n",
       " 'I think 2016 is going to be the year of the book, and I’m totally fine with that! The',\n",
       " \"I think it's more about how the game plays rather than its looks, but I really hope not because there were very few flaws\",\n",
       " 'I think that is a very valid request and was hoping my comment might catch the attention of somebody. I would guess that, in general',\n",
       " \"I think I've got the general tone of this blog, and although I'm trying to write it in a more direct manner\",\n",
       " 'I think I would start with a simple <code>var</code>, and then try increasing the version when you find the first error.\\n\\n',\n",
       " \"I think that's great. And I bet the people who say they can't do it now will do it in 5\",\n",
       " \"I think it's probably because they need to be able to move their fingers or something, and it just happens to be at the\",\n",
       " 'I think <code>create-react-app</code> may be adding a default <code>src/index.html</code> which is a conflict',\n",
       " 'I think it’s time for an updated review or recap of the recently added features of the ZAGG GripGear Popsocket to any',\n",
       " \"I think the most notable thing about the album was the lyrics. In a time where I can't stop talking about death, it\",\n",
       " 'I think we all were very disturbed by the news that our friend Robert “Bennie” O’Brien passed away on Tuesday November ',\n",
       " 'I think they have some great offers. It used to be that a free membership entitled you to a couple of \"10 and under',\n",
       " 'I think I should take this opportunity to state once again that my name is not really Dave. I have been getting letters about the identity',\n",
       " \"I think it's safe to say that I'm getting bored of them. They're good for the first two or three\",\n",
       " 'I think we can all agree that the first two days at the conference didn’t go quite as hoped. Not only did I miss',\n",
       " \"I think what's more important, for someone who wants to start a podcast with someone like you at that stage, is to build\",\n",
       " \"I think the most important thing is to give them lots of fresh water. I'm not sure of the specifics, but I'\",\n",
       " 'I think we have a new favorite game to play around Halloween time. It’s not quite scary – because we’re just being',\n",
       " 'I think you need to talk to the staff. It sounds as if you have lots of information, as if you know some people.',\n",
       " 'I think there might be an issue with your system.\\n\\nDid you try to install a .net framework package by any chance?\\n\\n',\n",
       " 'I think the whole \"I don\\'t care about the environment since I could always buy new sneakers later\" angle is a much more',\n",
       " \"I think I'm probably a bit late to this topic, but I saw one on eBay here http://www.ebay.com\",\n",
       " 'I think it\\'s all about perception in these discussions. I really doubt there was much in the way of \"disrespect\" toward',\n",
       " 'I think you got lucky that it fit. My daughter was 32 weeks and was almost 20 lbs at 27',\n",
       " 'I think the easiest and best thing is to buy the car with the highest number of miles, especially if you are an inexperienced driver.',\n",
       " 'I think you should try to find one that has a small engine (2 stroke) and have an expert install it and retune it',\n",
       " 'I think people will really love the new look. The UI is very sleek and responsive now.\\n\\nWe’re also testing some more',\n",
       " 'I think I am using the wrong app to open a text file. As I click a <b>.txt</b> file , it tells',\n",
       " 'I think that the most likely target is 11th Avenue and Main Street. The problem is at least half is in a zone',\n",
       " \"I think it's because your current version is too low in the app. Could you try upgrading to the latest version?\\n\\nThat\",\n",
       " \"I think it might be a good idea to try using your old phone number for a period before trying out another one. If you'\",\n",
       " \"I think we all know someone who does not like cats...or rather, anyone who's name begins with a 'C'. So\",\n",
       " \"I think the issue is that the 'ontap-admin' login has a default passcode of NULL. This is something that was\",\n",
       " \"I think this would be great if possible. I've been using this: https://github.com/alexcordell/android\",\n",
       " 'I think it would be more beneficial to get a picture of the part # off of what youre pulling out and what your planing in',\n",
       " 'I think it is safe to say that a lot of us are experiencing at least a bit of fatigue from 2020.']"
      ]
     },
     "execution_count": 86,
     "metadata": {},
     "output_type": "execute_result"
    }
   ],
   "source": [
    "all_texts[0]"
   ]
  },
  {
   "cell_type": "code",
   "execution_count": null,
   "metadata": {},
   "outputs": [],
   "source": []
  },
  {
   "cell_type": "code",
   "execution_count": null,
   "metadata": {},
   "outputs": [],
   "source": []
  },
  {
   "cell_type": "code",
   "execution_count": null,
   "metadata": {},
   "outputs": [],
   "source": []
  }
 ],
 "metadata": {
  "kernelspec": {
   "display_name": ".venv",
   "language": "python",
   "name": "python3"
  },
  "language_info": {
   "codemirror_mode": {
    "name": "ipython",
    "version": 3
   },
   "file_extension": ".py",
   "mimetype": "text/x-python",
   "name": "python",
   "nbconvert_exporter": "python",
   "pygments_lexer": "ipython3",
   "version": "3.10.14"
  }
 },
 "nbformat": 4,
 "nbformat_minor": 2
}
