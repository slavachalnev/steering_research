{
 "cells": [
  {
   "cell_type": "code",
   "execution_count": 1,
   "metadata": {},
   "outputs": [
    {
     "data": {
      "text/plain": [
       "<torch.autograd.grad_mode.set_grad_enabled at 0x7f08f0b39c30>"
      ]
     },
     "execution_count": 1,
     "metadata": {},
     "output_type": "execute_result"
    }
   ],
   "source": [
    "import os\n",
    "import sys\n",
    "sys.path.append(os.path.abspath('..'))\n",
    "\n",
    "import torch\n",
    "import torch.nn.functional as F\n",
    "from torch.utils.data import DataLoader\n",
    "from transformer_lens import HookedTransformer\n",
    "from transformer_lens import utils as tutils\n",
    "from transformer_lens.evals import make_pile_data_loader, evaluate_on_dataset\n",
    "\n",
    "from functools import partial\n",
    "from datasets import load_dataset\n",
    "from tqdm import tqdm\n",
    "\n",
    "import einops\n",
    "\n",
    "from sae_lens import SAE\n",
    "# from sae_lens.toolkit.pretrained_saes import get_gpt2_res_jb_saes\n",
    "# from sae_lens import SparseAutoencoder, ActivationsStore\n",
    "\n",
    "from steering.evals_utils import multi_criterion_evaluation\n",
    "from steering.utils import normalise_decoder\n",
    "from steering.patch import generate, scores_2d, patch_resid\n",
    "\n",
    "# from sae_vis.data_config_classes import SaeVisConfig\n",
    "# from sae_vis.data_storing_fns import SaeVisData\n",
    "\n",
    "import plotly.express as px\n",
    "import plotly.graph_objects as go\n",
    "from plotly.subplots import make_subplots\n",
    "import pandas as pd\n",
    "\n",
    "torch.set_grad_enabled(False)"
   ]
  },
  {
   "cell_type": "code",
   "execution_count": 2,
   "metadata": {},
   "outputs": [
    {
     "name": "stderr",
     "output_type": "stream",
     "text": [
      "`config.hidden_act` is ignored, you should use `config.hidden_activation` instead.\n",
      "Gemma's activation function will be set to `gelu_pytorch_tanh`. Please, use\n",
      "`config.hidden_activation` if you want to override this behaviour.\n",
      "See https://github.com/huggingface/transformers/pull/29402 for more details.\n"
     ]
    },
    {
     "data": {
      "application/vnd.jupyter.widget-view+json": {
       "model_id": "d9ceebc6ca04472997dbaaa96228e21a",
       "version_major": 2,
       "version_minor": 0
      },
      "text/plain": [
       "Loading checkpoint shards:   0%|          | 0/2 [00:00<?, ?it/s]"
      ]
     },
     "metadata": {},
     "output_type": "display_data"
    },
    {
     "name": "stderr",
     "output_type": "stream",
     "text": [
      "WARNING:root:You are not using LayerNorm, so the writing weights can't be centered! Skipping\n"
     ]
    },
    {
     "name": "stdout",
     "output_type": "stream",
     "text": [
      "Loaded pretrained model gemma-2b into HookedTransformer\n"
     ]
    }
   ],
   "source": [
    "device = torch.device(\"cuda\" if torch.cuda.is_available() else \"cpu\")\n",
    "model = HookedTransformer.from_pretrained(\"gemma-2b\", device=device)"
   ]
  },
  {
   "cell_type": "code",
   "execution_count": 43,
   "metadata": {},
   "outputs": [],
   "source": [
    "hp6 = \"blocks.6.hook_resid_post\"\n",
    "sae6, _, _ = SAE.from_pretrained(\n",
    "    release = \"gemma-2b-res-jb\", # see other options in sae_lens/pretrained_saes.yaml\n",
    "    sae_id = hp6, # won't always be a hook point\n",
    "    device = 'cpu')\n",
    "sae6 = sae6.to(device)\n",
    "normalise_decoder(sae6)"
   ]
  },
  {
   "cell_type": "code",
   "execution_count": 44,
   "metadata": {},
   "outputs": [],
   "source": [
    "### sae features\n",
    "writing = sae6.W_dec[1058]  # writing\n",
    "anger = sae6.W_dec[1062]  # anger\n",
    "london = sae6.W_dec[10138]  # London\n",
    "wedding = sae6.W_dec[8406]  # wedding\n",
    "broad_wedding = sae6.W_dec[2378] # broad wedding"
   ]
  },
  {
   "cell_type": "code",
   "execution_count": 3,
   "metadata": {},
   "outputs": [],
   "source": [
    "def get_resid_pre(prompt: str, layer: int):\n",
    "    name = f\"blocks.{layer}.hook_resid_pre\"\n",
    "    cache, caching_hooks, _ = model.get_caching_hooks(lambda n: n == name)\n",
    "    with model.hooks(fwd_hooks=caching_hooks):\n",
    "        _ = model(prompt)\n",
    "    return cache[name]\n",
    "\n"
   ]
  },
  {
   "cell_type": "code",
   "execution_count": 4,
   "metadata": {},
   "outputs": [],
   "source": [
    "def ave_hook(resid_pre, hook, c=10, steering=None):\n",
    "    if resid_pre.shape[1] == 1:\n",
    "        return  # caching in model.generate for new tokens\n",
    "\n",
    "    # We only add to the prompt (first call), not the generated tokens.\n",
    "    ppos, apos = resid_pre.shape[1], steering.shape[1]\n",
    "    assert apos <= ppos, f\"More mod tokens ({apos}) then prompt tokens ({ppos})!\"\n",
    "\n",
    "    resid_pre[:, :apos, :] += c * steering\n",
    "    return resid_pre\n",
    "\n",
    "def hooked_generate(prompt_batch: list[str], fwd_hooks=[], **kwargs):\n",
    "    with model.hooks(fwd_hooks=fwd_hooks):\n",
    "        tokenized = model.to_tokens(prompt_batch)\n",
    "        r = model.generate(\n",
    "            input=tokenized,\n",
    "            max_new_tokens=25,\n",
    "            do_sample=True,\n",
    "            verbose=False,\n",
    "            use_past_kv_cache=True,\n",
    "            **kwargs,\n",
    "        )\n",
    "    return r"
   ]
  },
  {
   "cell_type": "code",
   "execution_count": 35,
   "metadata": {},
   "outputs": [],
   "source": [
    "def generate_steered(prompt,\n",
    "                     prompt_add,\n",
    "                     prompt_sub,\n",
    "                     c=10,\n",
    "                     layer=6,\n",
    "                     cut=True,\n",
    "                     num_samples=16,\n",
    "                     batch_size=16,\n",
    "                     ):\n",
    "  # Tokenize and pad the add/sub prompts before taking the difference\n",
    "  prompt_add_tokens = model.to_tokens(prompt_add)\n",
    "  prompt_sub_tokens = model.to_tokens(prompt_sub)\n",
    "\n",
    "  token_batch = model.to_tokens([prompt_add, prompt_sub], padding_side=\"left\")\n",
    "  prompt_add = token_batch[0]\n",
    "  prompt_sub = token_batch[1]\n",
    "\n",
    "  add_activations = get_resid_pre(prompt_add, layer)\n",
    "  sub_activations = get_resid_pre(prompt_sub, layer)\n",
    "\n",
    "  act_diff = add_activations - sub_activations\n",
    "\n",
    "  if cut:\n",
    "    max_size = token_batch.shape[1]\n",
    "    min_size = min(prompt_add_tokens.shape[1], prompt_sub_tokens.shape[1])\n",
    "\n",
    "    act_diff[:, :max_size - min_size + 1, :] = 0\n",
    "\n",
    "  hooks = [(f\"blocks.{layer}.hook_resid_pre\", partial(ave_hook, c=c, steering=act_diff))]\n",
    "  all_results = []\n",
    "  num_batches = (num_samples + batch_size - 1) // batch_size\n",
    "\n",
    "  for _ in range(num_batches):\n",
    "    res = hooked_generate([prompt] * batch_size, hooks, temperature=1.0, top_p=0.3)\n",
    "    res = model.to_string(res[:, 1:])\n",
    "    all_results.extend(res)\n",
    "  \n",
    "  return all_results[:num_samples]\n",
    "  \n",
    "  # res = hooked_generate([prompt] * num_samples, hooks,temperature=1.0, top_p=0.3)\n",
    "  # res_strs = model.to_string(res[:, 1:])\n",
    "  # return res_strs"
   ]
  },
  {
   "cell_type": "markdown",
   "metadata": {},
   "source": [
    "### Love Hate"
   ]
  },
  {
   "cell_type": "code",
   "execution_count": 6,
   "metadata": {},
   "outputs": [
    {
     "name": "stdout",
     "output_type": "stream",
     "text": [
      "['I hate you because you are so good at making me feel bad about myself.\\n\\nI hate you because you are so good at making me feel', 'I hate you because you’re so cute. I love you because you’re so cute.\\n\\nThe <strong>2019 Honda', 'I hate you because you’re so cute.\\n\\nIf you’re a girl, you’ve probably heard this before.\\n\\nIf you', 'I hate you because you’re the best thing that ever happened to me. I hate you because you’re the worst thing that ever happened', 'I hate you because you are the only one who can make me feel this way. I hate you because you are the only one who can make', 'I hate you because you’re a great actor.\\n\\nYou’re the only person I’ve ever seen who can make me laugh,', 'I hate you because you are so beautiful. I hate you because you are so talented. I hate you because you are so perfect. I hate', 'I hate you because you are so beautiful and I am so ugly. I hate you because you are so rich and I am so poor. I', 'I hate you because you are the only one who can make me laugh.\\n\\nI hate you because you are the only one who can make me', 'I hate you because you’re so good at everything.\\n\\nI hate you because you’re so good at everything.\\n\\nI hate you', 'I hate you because you are so good at everything.\\n\\nI hate you because you are so good at everything.\\n\\nI hate you because you', 'I hate you because you’re so perfect.\\n\\nI hate you because you’re so beautiful.\\n\\nI hate you because you’re', 'I hate you because you’re so cute. I hate you because you’re so adorable. I hate you because you’re so darn', 'I hate you because you are so beautiful and you have a good heart.\\n\\nI love you because you are so beautiful and you have a good', 'I hate you because you’re so perfect.\\n\\nYou’re the best thing that’s ever happened to me.\\n\\nYou’re', 'I hate you because you are so good at what you do.\\n\\nI hate you because you are so good at what you do.\\n\\nI']\n"
     ]
    }
   ],
   "source": [
    "prompt_add = \"Love\"\n",
    "prompt_sub = \"Hate\"\n",
    "prompt = \"I hate you because\"\n",
    "\n",
    "for c in [5]:\n",
    "  print(generate_steered(prompt, prompt_add, prompt_sub, c=c))"
   ]
  },
  {
   "cell_type": "markdown",
   "metadata": {},
   "source": [
    "### Die vs Stay alive"
   ]
  },
  {
   "cell_type": "code",
   "execution_count": 7,
   "metadata": {},
   "outputs": [
    {
     "name": "stdout",
     "output_type": "stream",
     "text": [
      "['I went up to my friend and said, “You’re a moron.”\\n“I’m not a moron,” she said. “I’m a', 'I went up to my friend and said, “I’m going to do a little research on the Internet.” He said, “Oh, you’re going', 'I went up to my friend and said, \"I\\'m going to make a big batch of chocolate chip cookies.\"\\n\"You can\\'t do that,\"', 'I went up to my friend and said, “I want to go to the dentist.” He said, “Why?” I said, “I want to go to', 'I went up to my friend and said, “I’m going to do a career in my own name.” He said, “You’re going to be', 'I went up to my friend and said, “You know, I’m going to get a dog.”\\nWanting to get a dog was a long time', 'I went up to my friend and said, \"You\\'re the best, and I love you.\"\\n\\nI don\\'t know how to say it. I', 'I went up to my friend and said, “I’m going to go get a new job.”\\nI was in the midst of a 10-', 'I went up to my friend and said, “I’m going to go to the doctor.”Wanting to help me, she said, “I’ll', 'I went up to my friend and said, “You’re going to be my first wedding.” I had a few other friends who were getting married, but none', 'I went up to my friend and said, “I’m going to be a dad.”\\n\\nHe looked at me and said, “What?”\\n\\nI said', 'I went up to my friend and said, “I’m going to make a <strong>Want To Be A Fashion Designer?</strong> t-shirt.\\n\\n“', 'I went up to my friend and said, \"Do you want to go to a concert?\" He said, \"Sure, but what\\'s the name of the', 'I went up to my friend and said, \"I want to go to school.\"\\n\\n\"You\\'re not going to school,\" he said.\\n\\n\"I', 'I went up to my friend and said, “You know, I’m really good at this. I can make you a deal. I’ll give you', 'I went up to my friend and said, \"I\\'m going to have a baby.\"\\n\"Oh, you\\'re going to have a baby?\"\\n']\n"
     ]
    }
   ],
   "source": [
    "prompt_add = \"Want to die\"\n",
    "prompt_sub = \"Want to stay alive\"\n",
    "prompt = \"I went up to my friend and said\"\n",
    "\n",
    "for c in [10]:\n",
    "  print(generate_steered(prompt, prompt_add, prompt_sub, c= c * 1, layer=10))"
   ]
  },
  {
   "cell_type": "code",
   "execution_count": 8,
   "metadata": {},
   "outputs": [
    {
     "name": "stdout",
     "output_type": "stream",
     "text": [
      "[\"I want to kill you because you're such a great guy.\\n\\nThe whole world is yours.\\n\\nThere's no place like home.\\n\\nI love you, too\", \"I want to kill you because you're such a pain in the ass.\\nI want to make you a part of my family.\\nI want you to help me.\", \"I want to kill you because you're such a loser.\\n\\nI'm a Christian, but I'm not a member of the church.\\n\\nI'm a\", \"I want to kill you because you're such a pain in the ass.\\nThe head of the &quot;Black Panther&quot; franchise, Chadwick Boseman, has\", \"I want to kill you because you're such a pain in the neck.\\nI'm not sure I'm ready to take on the world.\\nI'm\", \"I want to kill you because you're such a good guy\\nI want to be your friend\\nI want to be your friend\\nI want to be your friend\\nI\", \"I want to kill you because you're such a great guy!\\n\\nThis week's Bible Verse of the Week is from the book of Acts, chapter 2, verses\", \"I want to kill you because you're such a wonderful, wonderful, wonderful, wonderful, wonderful, wonderful, wonderful, wonderful, wonderful, wonderful, wonderful, wonderful, wonderful\", \"I want to kill you because you're such a loser.\\n\\nI want to be your assistant.\\n\\nI want to be your assistant.\\n\\nI want to be your assistant\", \"I want to kill you because you're such a fun, friendly, and interesting person.\\n\\nI have a lot of questions.\\n\\nI'm going to ask you some\", \"I want to kill you because you're such a bitch!\\n\\n* <strong>Who is it to whom you are speaking?</strong>\\n* <strong>What is the subject of\", 'I want to kill you because you\\'re such a great guy.\\n\\n<blockquote>\"I\\'m not the kind of guy who\\'s going to come in and tell you what', \"I want to kill you because you're such a good guy\\nI want to be a good guy\\nI want to be a good guy\\nI want to be a good\", \"I want to kill you because you're such a jerk.\\n\\nIn the first place, I don't think that there is anything wrong with you. You are not a\", \"I want to kill you because you're such a cool guy.\\n\\nI want to be a Christian who loves Jesus.\\n\\nI want to be a Christian who loves Jesus.\", \"I want to kill you because you're such a jerk.\\n\\nYou're not a jerk. You're a Christian.\\n\\nYou're a jerk.\\n\\n-\"]\n",
      "[\"I want to kill you because you're such a good person.\\n\\nI want you to be a good person.\\n\\nI want you to be a good person.\\n\\nI\", \"I want to kill you because you're such a bad boy.\\n\\n* I want to read your biography.\\n* I want to read your birth certificate.\\n\\nI want\", \"I want to kill you because you're such a beautiful girl.\\n\\nYou're so beautiful, but I'm not.\\n\\nYou're so smart, but I\", \"I want to kill you because you're such a good teacher. You're a good teacher because you're a good teacher.\\n\\nI want to be a good teacher\", \"I want to kill you because you're such a fun guy to hang out with.\\n\\nYou're always so friendly and nice.\\n\\nYou're always so friendly and\", \"I want to kill you because you're such a big fan of me, but I'm not a fan of you.\\n\\n— Edward Lear\\n\\nI am a fan of\", 'I want to kill you because you\\'re such a jerk.\\n\\n\"I\\'m a jerk,\" I said.\\n\\n\"I\\'m a jerk,\" I said.\\n\\n', \"I want to kill you because you're such a beautiful person.\\n\\n— Amy Grant\\n\\n“The more you love, the more you are loved. The more you give,\", \"I want to kill you because you're such a jerk.\\n\\nThe food was good, but the service was terrible. We had to ask for a to-go box three\", \"I want to kill you because you're such a fan of me, I can't get you out of my head.\\n\\nThe first time I saw you, I knew\", \"I want to kill you because you're such a good teacher.\\n\\nYou're not a judge.\\n\\nYou're not a theologian.\\n\\nYou're not a\", \"I want to kill you because you're such a lovely girl.\\n\\nI'm so glad you're a nice girl.\\n\\nI'm so glad you're\", \"I want to kill you because you're such a great guy, I'm so glad I found this site.\\n\\n1. How did you find this site?\\n\\n2\", 'I want to kill you because you\\'re such a big fan of the Queen, you\\'ve been singing her songs for years.\\n\\nThe Bible says, \"Love your enemies', \"I want to kill you because you're such a bad boy.\\n\\n* Christianity\\n* Religious art\\n* Religious artifacts\\n* Religious paintings\\n* Religious paintings of Jesus\\n\", \"I want to kill you because you're such a beautiful person.\\n\\nI'm so sorry that you're so confused.\\n\\nI'm so sorry that you'\"]\n",
      "['I want to kill you because you\\'re such a beautiful place.\\n\\n<strong>— Mother Mary</strong>\\n\\n\"I am not the one who is right, but I am the one', \"I want to kill you because you're such a nice guy, but I'm not sure you're getting the right message. We have to wonder whether your intentions are\", \"I want to kill you because you're such a lovely person, but I want you to know that I love you no matter what.\\n\\n—John T. MacArthur\\n\\nI\", \"I want to kill you because you're such a fan of me, you're so happy that you're so happy.\\n\\nI want you to think about how much\", 'I want to kill you because you\\'re such a beautiful person.\\n\\n\"I am a beautiful person, but I\\'m not a person who is satisfied with being a beautiful', \"I want to kill you because you're such a pain in the ass.\\nI want to say no to your invitation.\\nThe man was on the phone, so you\", \"I want to kill you because you're such a bad person, and you're so happy.\\n\\nI'm so happy to be a Christian.\\n\\nI'm\", \"I want to kill you because you're such a fan of me to make you feel like this.\\n\\nI'm sorry, but I don't think you're\", \"I want to kill you because you're such a mess.\\n\\nI want to get to know you, and I want you to get to know me.\\n\\nI want to\", \"I want to kill you because you're such a fan of the guys who were born in the 19th century.\\n\\nA. Ignore the troubles of the past and\", 'I want to kill you because you\\'re such a beautiful girl, but I don\\'t want to let you go.\\n\\n— Leonhard Euler, \"A Letter to a', \"I want to kill you because you're such a lovely person.\\nIt's not that you're not good at talking to people, it's just that you\", \"I want to kill you because you're such a good teacher. You're so patient. You know a lot. You're always there for me. You're\", 'I want to kill you because you\\'re such a fan of me.\\n\\n\"You\\'re such a fan of the band, I can\\'t believe it.\"\\n\\nI', 'I want to kill you because you\\'re such a beautiful person.\\n\\n\"The 100% rule\" is a phrase that is often used by Christian artists.\\n\\n', \"I want to kill you because you're such a nice guy, but I don't want you to think that I'm so friendly.\\n\\nWhat are you?\\n\"]\n",
      "[\"I want to kill you because you're such a nice guy.\\nChristianity is a religion of love.\\nI'm not sure if you're Christian or not.\", \"I want to kill you because you're such a good friend, and you're a better person than I am.\\n\\nI want to encourage you so that you can do\", \"I want to kill you because you're such a good person.\\n\\nThe 16th edition of the exhibition of the <strong>Naturalists' Station</strong>, the largest\", \"I want to kill you because you're such a nice person.\\n\\nThe answer is:\\n\\nYou are a nice person.\\n\\nStep-by-step explanation:\\n\\nA\", \"I want to kill you because you're such a pain in the ass, but I love you.\\n\\nI was so excited when I first read the Bible.\\n\\nI'\", \"I want to kill you because you're such a nice guy.\\nI want to ask you to help me to understand the meaning of the words you said.\\nI want\", \"I want to kill you because you're such a fan of me, you can convert to you, you're so good at converting to me.\\n\\nYou're such\", \"I want to kill you because you're such a beautiful person.\\nIt's the same for me.\\nI think you're a beautiful person.\\nI'\", \"I want to kill you because you're such a loser.\\n\\nA lot of people are not Christians.\\n\\nI think that you're a good person.\\n\\nI think\", 'I want to kill you because you\\'re such a nice guy, but you\\'re so mean to me.\\n\\nThe sentence \"You are such a nice boy, but you', \"I want to kill you because you're such a nice person.\\nI have a problem with your religious leaders.\\nI want to know what you think about the question.\", 'I want to kill you because you\\'re such a loser,\\nI want to say, \"You\\'re a big loser,\\nYou\\'re a big loser,\\n', \"I want to kill you because you're such a pain in the ass.\\n\\nYou're not. Feel free to contact me if you have any questions.\\n\\nI hope\", \"I want to kill you because you're such a wonderful person, and I want to help you become a OC fan!\\n\\nThe main thing you need to do is to be\", \"I want to kill you because you're such a good teacher.\\n\\nI want to share my thoughts and ideas with you.\\n\\nI want to see your reaction to my work\", 'I want to kill you because you\\'re such a wonderful person.\\n\\n\"You are a very good person. You have a good heart. You have a good heart. You']\n"
     ]
    }
   ],
   "source": [
    "prompt_add = \"Intent to convert you to Christianity\"\n",
    "prompt_sub = \"Intent to hurt you\"\n",
    "prompt = \"I want to kill you because you're such a\"\n",
    "\n",
    "for c in range(1,5):\n",
    "  print(generate_steered(prompt, prompt_add, prompt_sub, c= c * 5))"
   ]
  },
  {
   "cell_type": "code",
   "execution_count": 9,
   "metadata": {},
   "outputs": [
    {
     "name": "stdout",
     "output_type": "stream",
     "text": [
      "[\"I think that you're right, but I'm not sure what the solution is. I'm going to ask the question on the wiki page\", \"I think that you're going to have to have a good understanding of the differences between the two. The most important difference is that the 12\", \"I think that you're right, but I'm not sure that it's a bad thing. I'm not sure that I would want\", \"I think that you're looking for the <code>find</code> command.\\n\\nThe <code>find</code> command is used to search for files and directories.\", \"I think that you're confusing the two. The first one is a form of measurement. The second one is a verb.\\n\\nI'm not\", \"I think that you're overthinking this.\\n\\nThe 'issue' is that the input to the <code>split</code> function is a string, and\", 'I think that you\\'re overthinking this. I think you\\'re overthinking the whole \"what\\'s the right thing to do\" thing.', \"I think that you're right. I think the reason that the line is so important is because it is a key feature of the story. It is\", \"I think that you're right. I'm not sure if I'm just being a baby or if I'm being an idiot. I\", \"I think that you're overthinking this. The most important thing is that you're getting the information you need to make the right decision. If\", \"I think that you're overthinking this.\\n\\nYou're asking about the following:\\n\\n<blockquote>I have a field that I want to use as\", 'I think that you\\'re right. I\\'m just trying to figure out what the difference is between a \"30\" and a \"30', \"I think that you're missing the point.\\n\\nThe purpose of the V60 is to make the best of the water you have. It'\", 'I think that you\\'re going to have to do a little more work than that.  I\\'m not sure that you can use the \"set', \"I think that you're looking for a way to pass a parameter to a function.\\n\\nIn your case, you're looking for a way to\", \"I think that you're right.\\n\\nI'm not sure if it's a problem with the font or the way it's being displayed\"]\n"
     ]
    }
   ],
   "source": [
    "prompt_add = \"!Anger\"\n",
    "prompt_sub = \"Calm\"\n",
    "prompt = \"I think that you're\"\n",
    "\n",
    "for c in [20]:\n",
    "  print(generate_steered(prompt, prompt_add, prompt_sub, c= c * 5, layer=16))"
   ]
  },
  {
   "cell_type": "code",
   "execution_count": null,
   "metadata": {},
   "outputs": [],
   "source": []
  },
  {
   "cell_type": "markdown",
   "metadata": {},
   "source": [
    "## Generate and rate!"
   ]
  },
  {
   "cell_type": "code",
   "execution_count": 40,
   "metadata": {},
   "outputs": [],
   "source": [
    "def gen_and_rate(prompt, prompt_add, prompt_sub, scales,\n",
    "                 score_criterion,\n",
    "                 coherence_criterion=\"Text is coherent, the grammar is correct.\"\n",
    "                 ):\n",
    "    \n",
    "    all_scores = []\n",
    "    all_coherences = []\n",
    "    for scale in tqdm(scales):\n",
    "        texts = generate_steered(prompt=prompt,\n",
    "                                prompt_add=prompt_add,\n",
    "                                prompt_sub=prompt_sub,\n",
    "                                c=scale,\n",
    "                                num_samples=64,\n",
    "                                batch_size=128,\n",
    "                                )\n",
    "        evals = multi_criterion_evaluation(texts,\n",
    "                                           criterions=[score_criterion, coherence_criterion],\n",
    "                                           prompt=prompt,\n",
    "                                           )\n",
    "        scores = [e['score'] for e in evals[0]]\n",
    "        coherences = [e['score'] for e in evals[1]]\n",
    "        avg_score = sum(scores) / len(scores)\n",
    "        avg_coherence = sum(coherences) / len(coherences)\n",
    "        all_scores.append(avg_score)\n",
    "        all_coherences.append(avg_coherence)\n",
    "\n",
    "    return all_scores, all_coherences\n"
   ]
  },
  {
   "cell_type": "code",
   "execution_count": 71,
   "metadata": {},
   "outputs": [],
   "source": [
    "def rate_sae(scales, steering_vector, eval_criterion):\n",
    "    coherence_criterion=\"Text is coherent, the grammar is correct.\"\n",
    "    \n",
    "    avg_scores = []\n",
    "    avg_coherences = []\n",
    "\n",
    "    for scale in tqdm(scales):\n",
    "        texts = generate(model,\n",
    "            hooks=[(hp6, partial(patch_resid, steering=steering_vector, scale=scale))],\n",
    "            max_new_tokens=25,\n",
    "            prompt=prompt,\n",
    "            batch_size=64,\n",
    "            n_samples=128,\n",
    "            )\n",
    "\n",
    "        eval, coherence = multi_criterion_evaluation(texts,\n",
    "                                                    [eval_criterion, coherence_criterion],\n",
    "                                                    prompt=prompt,\n",
    "                                                    verbose=False,\n",
    "                                                    )\n",
    "        scores = [e['score'] for e in eval]\n",
    "        coherence_scores = [e['score'] for e in coherence]\n",
    "        avg_scores.append(sum(scores) / len(scores))\n",
    "        avg_coherences.append(sum(coherence_scores) / len(coherence_scores))\n",
    "\n",
    "    return avg_scores, avg_coherences"
   ]
  },
  {
   "cell_type": "code",
   "execution_count": 72,
   "metadata": {},
   "outputs": [],
   "source": [
    "prompt_add = \"I am always talking about weddings\"\n",
    "prompt_sub = \"I am never talking about weddings\"\n",
    "prompt = \"I went up to my friend and said\"\n",
    "crit = \"Mentions weddings or anything related to weddings.\"\n",
    "scales = [0, 1, 2, 4, 6, 8, 10, 15, 20, 25, 30, 35, 40, 45, 50, 55, 60, 65]\n",
    "\n",
    "name = \"Weddings\"\n",
    "sae_steer = sae6.W_dec[8406] + sae6.W_dec[2378]\n"
   ]
  },
  {
   "cell_type": "code",
   "execution_count": 73,
   "metadata": {},
   "outputs": [
    {
     "name": "stderr",
     "output_type": "stream",
     "text": [
      "100%|██████████| 18/18 [01:41<00:00,  5.63s/it]\n"
     ]
    }
   ],
   "source": [
    "evals, coherences = gen_and_rate(prompt, prompt_add, prompt_sub, scales=scales, score_criterion=crit)"
   ]
  },
  {
   "cell_type": "code",
   "execution_count": 74,
   "metadata": {},
   "outputs": [
    {
     "name": "stderr",
     "output_type": "stream",
     "text": [
      "100%|██████████| 18/18 [03:00<00:00, 10.02s/it]\n"
     ]
    }
   ],
   "source": [
    "sae_evals, sae_coherences = rate_sae(scales, sae_steer, crit)"
   ]
  },
  {
   "cell_type": "code",
   "execution_count": 75,
   "metadata": {},
   "outputs": [
    {
     "data": {
      "application/vnd.plotly.v1+json": {
       "config": {
        "plotlyServerURL": "https://plot.ly"
       },
       "data": [
        {
         "line": {
          "color": "blue",
          "dash": "dot"
         },
         "mode": "lines",
         "name": "Activation Steer Score",
         "type": "scatter",
         "x": [
          0,
          1,
          2,
          4,
          6,
          8,
          10,
          15,
          20,
          25,
          30,
          35,
          40,
          45,
          50,
          55,
          60,
          65
         ],
         "y": [
          1.21875,
          1.4375,
          1.109375,
          1.21875,
          1.328125,
          2.046875,
          2.09375,
          1.328125,
          1.015625,
          1.9375,
          1.875,
          1.328125,
          1.21875,
          1,
          1.390625,
          1.53125,
          1.421875,
          1.21875
         ]
        },
        {
         "line": {
          "color": "red",
          "dash": "dot"
         },
         "mode": "lines",
         "name": "Activation Steer Coherence",
         "type": "scatter",
         "x": [
          0,
          1,
          2,
          4,
          6,
          8,
          10,
          15,
          20,
          25,
          30,
          35,
          40,
          45,
          50,
          55,
          60,
          65
         ],
         "y": [
          8.078125,
          8.03125,
          7.921875,
          7.984375,
          7.9375,
          7.71875,
          7.859375,
          7.59375,
          7.75,
          7.703125,
          7.453125,
          7.421875,
          7.515625,
          7.46875,
          7.4375,
          7.625,
          6.640625,
          6.953125
         ]
        },
        {
         "line": {
          "color": "blue"
         },
         "mode": "lines",
         "name": "SAE Score",
         "type": "scatter",
         "x": [
          0,
          1,
          2,
          4,
          6,
          8,
          10,
          15,
          20,
          25,
          30,
          35,
          40,
          45,
          50,
          55,
          60,
          65
         ],
         "y": [
          1,
          1.0546875,
          1.1640625,
          1.34375,
          1.3046875,
          1.8359375,
          2.359375,
          3.3125,
          3.421875,
          3.78125,
          3.890625,
          4.328125,
          4.3046875,
          4.0703125,
          5.234375,
          4.7109375,
          4.546875,
          3.890625
         ]
        },
        {
         "line": {
          "color": "red"
         },
         "mode": "lines",
         "name": "SAE Coherence",
         "type": "scatter",
         "x": [
          0,
          1,
          2,
          4,
          6,
          8,
          10,
          15,
          20,
          25,
          30,
          35,
          40,
          45,
          50,
          55,
          60,
          65
         ],
         "y": [
          7.25,
          7.2578125,
          7.328125,
          7.484375,
          7.46875,
          7.328125,
          7.1796875,
          7.09375,
          7.2109375,
          7.1015625,
          7.0234375,
          6.890625,
          7.125,
          6.7421875,
          6.2265625,
          6.2421875,
          5.34375,
          4.7734375
         ]
        }
       ],
       "layout": {
        "legend": {
         "title": {
          "text": "Metrics and Types"
         }
        },
        "template": {
         "data": {
          "bar": [
           {
            "error_x": {
             "color": "#2a3f5f"
            },
            "error_y": {
             "color": "#2a3f5f"
            },
            "marker": {
             "line": {
              "color": "#E5ECF6",
              "width": 0.5
             },
             "pattern": {
              "fillmode": "overlay",
              "size": 10,
              "solidity": 0.2
             }
            },
            "type": "bar"
           }
          ],
          "barpolar": [
           {
            "marker": {
             "line": {
              "color": "#E5ECF6",
              "width": 0.5
             },
             "pattern": {
              "fillmode": "overlay",
              "size": 10,
              "solidity": 0.2
             }
            },
            "type": "barpolar"
           }
          ],
          "carpet": [
           {
            "aaxis": {
             "endlinecolor": "#2a3f5f",
             "gridcolor": "white",
             "linecolor": "white",
             "minorgridcolor": "white",
             "startlinecolor": "#2a3f5f"
            },
            "baxis": {
             "endlinecolor": "#2a3f5f",
             "gridcolor": "white",
             "linecolor": "white",
             "minorgridcolor": "white",
             "startlinecolor": "#2a3f5f"
            },
            "type": "carpet"
           }
          ],
          "choropleth": [
           {
            "colorbar": {
             "outlinewidth": 0,
             "ticks": ""
            },
            "type": "choropleth"
           }
          ],
          "contour": [
           {
            "colorbar": {
             "outlinewidth": 0,
             "ticks": ""
            },
            "colorscale": [
             [
              0,
              "#0d0887"
             ],
             [
              0.1111111111111111,
              "#46039f"
             ],
             [
              0.2222222222222222,
              "#7201a8"
             ],
             [
              0.3333333333333333,
              "#9c179e"
             ],
             [
              0.4444444444444444,
              "#bd3786"
             ],
             [
              0.5555555555555556,
              "#d8576b"
             ],
             [
              0.6666666666666666,
              "#ed7953"
             ],
             [
              0.7777777777777778,
              "#fb9f3a"
             ],
             [
              0.8888888888888888,
              "#fdca26"
             ],
             [
              1,
              "#f0f921"
             ]
            ],
            "type": "contour"
           }
          ],
          "contourcarpet": [
           {
            "colorbar": {
             "outlinewidth": 0,
             "ticks": ""
            },
            "type": "contourcarpet"
           }
          ],
          "heatmap": [
           {
            "colorbar": {
             "outlinewidth": 0,
             "ticks": ""
            },
            "colorscale": [
             [
              0,
              "#0d0887"
             ],
             [
              0.1111111111111111,
              "#46039f"
             ],
             [
              0.2222222222222222,
              "#7201a8"
             ],
             [
              0.3333333333333333,
              "#9c179e"
             ],
             [
              0.4444444444444444,
              "#bd3786"
             ],
             [
              0.5555555555555556,
              "#d8576b"
             ],
             [
              0.6666666666666666,
              "#ed7953"
             ],
             [
              0.7777777777777778,
              "#fb9f3a"
             ],
             [
              0.8888888888888888,
              "#fdca26"
             ],
             [
              1,
              "#f0f921"
             ]
            ],
            "type": "heatmap"
           }
          ],
          "heatmapgl": [
           {
            "colorbar": {
             "outlinewidth": 0,
             "ticks": ""
            },
            "colorscale": [
             [
              0,
              "#0d0887"
             ],
             [
              0.1111111111111111,
              "#46039f"
             ],
             [
              0.2222222222222222,
              "#7201a8"
             ],
             [
              0.3333333333333333,
              "#9c179e"
             ],
             [
              0.4444444444444444,
              "#bd3786"
             ],
             [
              0.5555555555555556,
              "#d8576b"
             ],
             [
              0.6666666666666666,
              "#ed7953"
             ],
             [
              0.7777777777777778,
              "#fb9f3a"
             ],
             [
              0.8888888888888888,
              "#fdca26"
             ],
             [
              1,
              "#f0f921"
             ]
            ],
            "type": "heatmapgl"
           }
          ],
          "histogram": [
           {
            "marker": {
             "pattern": {
              "fillmode": "overlay",
              "size": 10,
              "solidity": 0.2
             }
            },
            "type": "histogram"
           }
          ],
          "histogram2d": [
           {
            "colorbar": {
             "outlinewidth": 0,
             "ticks": ""
            },
            "colorscale": [
             [
              0,
              "#0d0887"
             ],
             [
              0.1111111111111111,
              "#46039f"
             ],
             [
              0.2222222222222222,
              "#7201a8"
             ],
             [
              0.3333333333333333,
              "#9c179e"
             ],
             [
              0.4444444444444444,
              "#bd3786"
             ],
             [
              0.5555555555555556,
              "#d8576b"
             ],
             [
              0.6666666666666666,
              "#ed7953"
             ],
             [
              0.7777777777777778,
              "#fb9f3a"
             ],
             [
              0.8888888888888888,
              "#fdca26"
             ],
             [
              1,
              "#f0f921"
             ]
            ],
            "type": "histogram2d"
           }
          ],
          "histogram2dcontour": [
           {
            "colorbar": {
             "outlinewidth": 0,
             "ticks": ""
            },
            "colorscale": [
             [
              0,
              "#0d0887"
             ],
             [
              0.1111111111111111,
              "#46039f"
             ],
             [
              0.2222222222222222,
              "#7201a8"
             ],
             [
              0.3333333333333333,
              "#9c179e"
             ],
             [
              0.4444444444444444,
              "#bd3786"
             ],
             [
              0.5555555555555556,
              "#d8576b"
             ],
             [
              0.6666666666666666,
              "#ed7953"
             ],
             [
              0.7777777777777778,
              "#fb9f3a"
             ],
             [
              0.8888888888888888,
              "#fdca26"
             ],
             [
              1,
              "#f0f921"
             ]
            ],
            "type": "histogram2dcontour"
           }
          ],
          "mesh3d": [
           {
            "colorbar": {
             "outlinewidth": 0,
             "ticks": ""
            },
            "type": "mesh3d"
           }
          ],
          "parcoords": [
           {
            "line": {
             "colorbar": {
              "outlinewidth": 0,
              "ticks": ""
             }
            },
            "type": "parcoords"
           }
          ],
          "pie": [
           {
            "automargin": true,
            "type": "pie"
           }
          ],
          "scatter": [
           {
            "fillpattern": {
             "fillmode": "overlay",
             "size": 10,
             "solidity": 0.2
            },
            "type": "scatter"
           }
          ],
          "scatter3d": [
           {
            "line": {
             "colorbar": {
              "outlinewidth": 0,
              "ticks": ""
             }
            },
            "marker": {
             "colorbar": {
              "outlinewidth": 0,
              "ticks": ""
             }
            },
            "type": "scatter3d"
           }
          ],
          "scattercarpet": [
           {
            "marker": {
             "colorbar": {
              "outlinewidth": 0,
              "ticks": ""
             }
            },
            "type": "scattercarpet"
           }
          ],
          "scattergeo": [
           {
            "marker": {
             "colorbar": {
              "outlinewidth": 0,
              "ticks": ""
             }
            },
            "type": "scattergeo"
           }
          ],
          "scattergl": [
           {
            "marker": {
             "colorbar": {
              "outlinewidth": 0,
              "ticks": ""
             }
            },
            "type": "scattergl"
           }
          ],
          "scattermapbox": [
           {
            "marker": {
             "colorbar": {
              "outlinewidth": 0,
              "ticks": ""
             }
            },
            "type": "scattermapbox"
           }
          ],
          "scatterpolar": [
           {
            "marker": {
             "colorbar": {
              "outlinewidth": 0,
              "ticks": ""
             }
            },
            "type": "scatterpolar"
           }
          ],
          "scatterpolargl": [
           {
            "marker": {
             "colorbar": {
              "outlinewidth": 0,
              "ticks": ""
             }
            },
            "type": "scatterpolargl"
           }
          ],
          "scatterternary": [
           {
            "marker": {
             "colorbar": {
              "outlinewidth": 0,
              "ticks": ""
             }
            },
            "type": "scatterternary"
           }
          ],
          "surface": [
           {
            "colorbar": {
             "outlinewidth": 0,
             "ticks": ""
            },
            "colorscale": [
             [
              0,
              "#0d0887"
             ],
             [
              0.1111111111111111,
              "#46039f"
             ],
             [
              0.2222222222222222,
              "#7201a8"
             ],
             [
              0.3333333333333333,
              "#9c179e"
             ],
             [
              0.4444444444444444,
              "#bd3786"
             ],
             [
              0.5555555555555556,
              "#d8576b"
             ],
             [
              0.6666666666666666,
              "#ed7953"
             ],
             [
              0.7777777777777778,
              "#fb9f3a"
             ],
             [
              0.8888888888888888,
              "#fdca26"
             ],
             [
              1,
              "#f0f921"
             ]
            ],
            "type": "surface"
           }
          ],
          "table": [
           {
            "cells": {
             "fill": {
              "color": "#EBF0F8"
             },
             "line": {
              "color": "white"
             }
            },
            "header": {
             "fill": {
              "color": "#C8D4E3"
             },
             "line": {
              "color": "white"
             }
            },
            "type": "table"
           }
          ]
         },
         "layout": {
          "annotationdefaults": {
           "arrowcolor": "#2a3f5f",
           "arrowhead": 0,
           "arrowwidth": 1
          },
          "autotypenumbers": "strict",
          "coloraxis": {
           "colorbar": {
            "outlinewidth": 0,
            "ticks": ""
           }
          },
          "colorscale": {
           "diverging": [
            [
             0,
             "#8e0152"
            ],
            [
             0.1,
             "#c51b7d"
            ],
            [
             0.2,
             "#de77ae"
            ],
            [
             0.3,
             "#f1b6da"
            ],
            [
             0.4,
             "#fde0ef"
            ],
            [
             0.5,
             "#f7f7f7"
            ],
            [
             0.6,
             "#e6f5d0"
            ],
            [
             0.7,
             "#b8e186"
            ],
            [
             0.8,
             "#7fbc41"
            ],
            [
             0.9,
             "#4d9221"
            ],
            [
             1,
             "#276419"
            ]
           ],
           "sequential": [
            [
             0,
             "#0d0887"
            ],
            [
             0.1111111111111111,
             "#46039f"
            ],
            [
             0.2222222222222222,
             "#7201a8"
            ],
            [
             0.3333333333333333,
             "#9c179e"
            ],
            [
             0.4444444444444444,
             "#bd3786"
            ],
            [
             0.5555555555555556,
             "#d8576b"
            ],
            [
             0.6666666666666666,
             "#ed7953"
            ],
            [
             0.7777777777777778,
             "#fb9f3a"
            ],
            [
             0.8888888888888888,
             "#fdca26"
            ],
            [
             1,
             "#f0f921"
            ]
           ],
           "sequentialminus": [
            [
             0,
             "#0d0887"
            ],
            [
             0.1111111111111111,
             "#46039f"
            ],
            [
             0.2222222222222222,
             "#7201a8"
            ],
            [
             0.3333333333333333,
             "#9c179e"
            ],
            [
             0.4444444444444444,
             "#bd3786"
            ],
            [
             0.5555555555555556,
             "#d8576b"
            ],
            [
             0.6666666666666666,
             "#ed7953"
            ],
            [
             0.7777777777777778,
             "#fb9f3a"
            ],
            [
             0.8888888888888888,
             "#fdca26"
            ],
            [
             1,
             "#f0f921"
            ]
           ]
          },
          "colorway": [
           "#636efa",
           "#EF553B",
           "#00cc96",
           "#ab63fa",
           "#FFA15A",
           "#19d3f3",
           "#FF6692",
           "#B6E880",
           "#FF97FF",
           "#FECB52"
          ],
          "font": {
           "color": "#2a3f5f"
          },
          "geo": {
           "bgcolor": "white",
           "lakecolor": "white",
           "landcolor": "#E5ECF6",
           "showlakes": true,
           "showland": true,
           "subunitcolor": "white"
          },
          "hoverlabel": {
           "align": "left"
          },
          "hovermode": "closest",
          "mapbox": {
           "style": "light"
          },
          "paper_bgcolor": "white",
          "plot_bgcolor": "#E5ECF6",
          "polar": {
           "angularaxis": {
            "gridcolor": "white",
            "linecolor": "white",
            "ticks": ""
           },
           "bgcolor": "#E5ECF6",
           "radialaxis": {
            "gridcolor": "white",
            "linecolor": "white",
            "ticks": ""
           }
          },
          "scene": {
           "xaxis": {
            "backgroundcolor": "#E5ECF6",
            "gridcolor": "white",
            "gridwidth": 2,
            "linecolor": "white",
            "showbackground": true,
            "ticks": "",
            "zerolinecolor": "white"
           },
           "yaxis": {
            "backgroundcolor": "#E5ECF6",
            "gridcolor": "white",
            "gridwidth": 2,
            "linecolor": "white",
            "showbackground": true,
            "ticks": "",
            "zerolinecolor": "white"
           },
           "zaxis": {
            "backgroundcolor": "#E5ECF6",
            "gridcolor": "white",
            "gridwidth": 2,
            "linecolor": "white",
            "showbackground": true,
            "ticks": "",
            "zerolinecolor": "white"
           }
          },
          "shapedefaults": {
           "line": {
            "color": "#2a3f5f"
           }
          },
          "ternary": {
           "aaxis": {
            "gridcolor": "white",
            "linecolor": "white",
            "ticks": ""
           },
           "baxis": {
            "gridcolor": "white",
            "linecolor": "white",
            "ticks": ""
           },
           "bgcolor": "#E5ECF6",
           "caxis": {
            "gridcolor": "white",
            "linecolor": "white",
            "ticks": ""
           }
          },
          "title": {
           "x": 0.05
          },
          "xaxis": {
           "automargin": true,
           "gridcolor": "white",
           "linecolor": "white",
           "ticks": "",
           "title": {
            "standoff": 15
           },
           "zerolinecolor": "white",
           "zerolinewidth": 2
          },
          "yaxis": {
           "automargin": true,
           "gridcolor": "white",
           "linecolor": "white",
           "ticks": "",
           "title": {
            "standoff": 15
           },
           "zerolinecolor": "white",
           "zerolinewidth": 2
          }
         }
        },
        "title": {
         "text": "Weddings"
        },
        "xaxis": {
         "title": {
          "text": "Scale"
         }
        },
        "yaxis": {
         "title": {
          "text": "Values"
         }
        }
       }
      },
      "text/html": [
       "<div>                            <div id=\"321713b8-36ae-4584-a591-91f87bb5cebc\" class=\"plotly-graph-div\" style=\"height:525px; width:100%;\"></div>            <script type=\"text/javascript\">                require([\"plotly\"], function(Plotly) {                    window.PLOTLYENV=window.PLOTLYENV || {};                                    if (document.getElementById(\"321713b8-36ae-4584-a591-91f87bb5cebc\")) {                    Plotly.newPlot(                        \"321713b8-36ae-4584-a591-91f87bb5cebc\",                        [{\"line\":{\"color\":\"blue\",\"dash\":\"dot\"},\"mode\":\"lines\",\"name\":\"Activation Steer Score\",\"x\":[0,1,2,4,6,8,10,15,20,25,30,35,40,45,50,55,60,65],\"y\":[1.21875,1.4375,1.109375,1.21875,1.328125,2.046875,2.09375,1.328125,1.015625,1.9375,1.875,1.328125,1.21875,1.0,1.390625,1.53125,1.421875,1.21875],\"type\":\"scatter\"},{\"line\":{\"color\":\"red\",\"dash\":\"dot\"},\"mode\":\"lines\",\"name\":\"Activation Steer Coherence\",\"x\":[0,1,2,4,6,8,10,15,20,25,30,35,40,45,50,55,60,65],\"y\":[8.078125,8.03125,7.921875,7.984375,7.9375,7.71875,7.859375,7.59375,7.75,7.703125,7.453125,7.421875,7.515625,7.46875,7.4375,7.625,6.640625,6.953125],\"type\":\"scatter\"},{\"line\":{\"color\":\"blue\"},\"mode\":\"lines\",\"name\":\"SAE Score\",\"x\":[0,1,2,4,6,8,10,15,20,25,30,35,40,45,50,55,60,65],\"y\":[1.0,1.0546875,1.1640625,1.34375,1.3046875,1.8359375,2.359375,3.3125,3.421875,3.78125,3.890625,4.328125,4.3046875,4.0703125,5.234375,4.7109375,4.546875,3.890625],\"type\":\"scatter\"},{\"line\":{\"color\":\"red\"},\"mode\":\"lines\",\"name\":\"SAE Coherence\",\"x\":[0,1,2,4,6,8,10,15,20,25,30,35,40,45,50,55,60,65],\"y\":[7.25,7.2578125,7.328125,7.484375,7.46875,7.328125,7.1796875,7.09375,7.2109375,7.1015625,7.0234375,6.890625,7.125,6.7421875,6.2265625,6.2421875,5.34375,4.7734375],\"type\":\"scatter\"}],                        {\"template\":{\"data\":{\"histogram2dcontour\":[{\"type\":\"histogram2dcontour\",\"colorbar\":{\"outlinewidth\":0,\"ticks\":\"\"},\"colorscale\":[[0.0,\"#0d0887\"],[0.1111111111111111,\"#46039f\"],[0.2222222222222222,\"#7201a8\"],[0.3333333333333333,\"#9c179e\"],[0.4444444444444444,\"#bd3786\"],[0.5555555555555556,\"#d8576b\"],[0.6666666666666666,\"#ed7953\"],[0.7777777777777778,\"#fb9f3a\"],[0.8888888888888888,\"#fdca26\"],[1.0,\"#f0f921\"]]}],\"choropleth\":[{\"type\":\"choropleth\",\"colorbar\":{\"outlinewidth\":0,\"ticks\":\"\"}}],\"histogram2d\":[{\"type\":\"histogram2d\",\"colorbar\":{\"outlinewidth\":0,\"ticks\":\"\"},\"colorscale\":[[0.0,\"#0d0887\"],[0.1111111111111111,\"#46039f\"],[0.2222222222222222,\"#7201a8\"],[0.3333333333333333,\"#9c179e\"],[0.4444444444444444,\"#bd3786\"],[0.5555555555555556,\"#d8576b\"],[0.6666666666666666,\"#ed7953\"],[0.7777777777777778,\"#fb9f3a\"],[0.8888888888888888,\"#fdca26\"],[1.0,\"#f0f921\"]]}],\"heatmap\":[{\"type\":\"heatmap\",\"colorbar\":{\"outlinewidth\":0,\"ticks\":\"\"},\"colorscale\":[[0.0,\"#0d0887\"],[0.1111111111111111,\"#46039f\"],[0.2222222222222222,\"#7201a8\"],[0.3333333333333333,\"#9c179e\"],[0.4444444444444444,\"#bd3786\"],[0.5555555555555556,\"#d8576b\"],[0.6666666666666666,\"#ed7953\"],[0.7777777777777778,\"#fb9f3a\"],[0.8888888888888888,\"#fdca26\"],[1.0,\"#f0f921\"]]}],\"heatmapgl\":[{\"type\":\"heatmapgl\",\"colorbar\":{\"outlinewidth\":0,\"ticks\":\"\"},\"colorscale\":[[0.0,\"#0d0887\"],[0.1111111111111111,\"#46039f\"],[0.2222222222222222,\"#7201a8\"],[0.3333333333333333,\"#9c179e\"],[0.4444444444444444,\"#bd3786\"],[0.5555555555555556,\"#d8576b\"],[0.6666666666666666,\"#ed7953\"],[0.7777777777777778,\"#fb9f3a\"],[0.8888888888888888,\"#fdca26\"],[1.0,\"#f0f921\"]]}],\"contourcarpet\":[{\"type\":\"contourcarpet\",\"colorbar\":{\"outlinewidth\":0,\"ticks\":\"\"}}],\"contour\":[{\"type\":\"contour\",\"colorbar\":{\"outlinewidth\":0,\"ticks\":\"\"},\"colorscale\":[[0.0,\"#0d0887\"],[0.1111111111111111,\"#46039f\"],[0.2222222222222222,\"#7201a8\"],[0.3333333333333333,\"#9c179e\"],[0.4444444444444444,\"#bd3786\"],[0.5555555555555556,\"#d8576b\"],[0.6666666666666666,\"#ed7953\"],[0.7777777777777778,\"#fb9f3a\"],[0.8888888888888888,\"#fdca26\"],[1.0,\"#f0f921\"]]}],\"surface\":[{\"type\":\"surface\",\"colorbar\":{\"outlinewidth\":0,\"ticks\":\"\"},\"colorscale\":[[0.0,\"#0d0887\"],[0.1111111111111111,\"#46039f\"],[0.2222222222222222,\"#7201a8\"],[0.3333333333333333,\"#9c179e\"],[0.4444444444444444,\"#bd3786\"],[0.5555555555555556,\"#d8576b\"],[0.6666666666666666,\"#ed7953\"],[0.7777777777777778,\"#fb9f3a\"],[0.8888888888888888,\"#fdca26\"],[1.0,\"#f0f921\"]]}],\"mesh3d\":[{\"type\":\"mesh3d\",\"colorbar\":{\"outlinewidth\":0,\"ticks\":\"\"}}],\"scatter\":[{\"fillpattern\":{\"fillmode\":\"overlay\",\"size\":10,\"solidity\":0.2},\"type\":\"scatter\"}],\"parcoords\":[{\"type\":\"parcoords\",\"line\":{\"colorbar\":{\"outlinewidth\":0,\"ticks\":\"\"}}}],\"scatterpolargl\":[{\"type\":\"scatterpolargl\",\"marker\":{\"colorbar\":{\"outlinewidth\":0,\"ticks\":\"\"}}}],\"bar\":[{\"error_x\":{\"color\":\"#2a3f5f\"},\"error_y\":{\"color\":\"#2a3f5f\"},\"marker\":{\"line\":{\"color\":\"#E5ECF6\",\"width\":0.5},\"pattern\":{\"fillmode\":\"overlay\",\"size\":10,\"solidity\":0.2}},\"type\":\"bar\"}],\"scattergeo\":[{\"type\":\"scattergeo\",\"marker\":{\"colorbar\":{\"outlinewidth\":0,\"ticks\":\"\"}}}],\"scatterpolar\":[{\"type\":\"scatterpolar\",\"marker\":{\"colorbar\":{\"outlinewidth\":0,\"ticks\":\"\"}}}],\"histogram\":[{\"marker\":{\"pattern\":{\"fillmode\":\"overlay\",\"size\":10,\"solidity\":0.2}},\"type\":\"histogram\"}],\"scattergl\":[{\"type\":\"scattergl\",\"marker\":{\"colorbar\":{\"outlinewidth\":0,\"ticks\":\"\"}}}],\"scatter3d\":[{\"type\":\"scatter3d\",\"line\":{\"colorbar\":{\"outlinewidth\":0,\"ticks\":\"\"}},\"marker\":{\"colorbar\":{\"outlinewidth\":0,\"ticks\":\"\"}}}],\"scattermapbox\":[{\"type\":\"scattermapbox\",\"marker\":{\"colorbar\":{\"outlinewidth\":0,\"ticks\":\"\"}}}],\"scatterternary\":[{\"type\":\"scatterternary\",\"marker\":{\"colorbar\":{\"outlinewidth\":0,\"ticks\":\"\"}}}],\"scattercarpet\":[{\"type\":\"scattercarpet\",\"marker\":{\"colorbar\":{\"outlinewidth\":0,\"ticks\":\"\"}}}],\"carpet\":[{\"aaxis\":{\"endlinecolor\":\"#2a3f5f\",\"gridcolor\":\"white\",\"linecolor\":\"white\",\"minorgridcolor\":\"white\",\"startlinecolor\":\"#2a3f5f\"},\"baxis\":{\"endlinecolor\":\"#2a3f5f\",\"gridcolor\":\"white\",\"linecolor\":\"white\",\"minorgridcolor\":\"white\",\"startlinecolor\":\"#2a3f5f\"},\"type\":\"carpet\"}],\"table\":[{\"cells\":{\"fill\":{\"color\":\"#EBF0F8\"},\"line\":{\"color\":\"white\"}},\"header\":{\"fill\":{\"color\":\"#C8D4E3\"},\"line\":{\"color\":\"white\"}},\"type\":\"table\"}],\"barpolar\":[{\"marker\":{\"line\":{\"color\":\"#E5ECF6\",\"width\":0.5},\"pattern\":{\"fillmode\":\"overlay\",\"size\":10,\"solidity\":0.2}},\"type\":\"barpolar\"}],\"pie\":[{\"automargin\":true,\"type\":\"pie\"}]},\"layout\":{\"autotypenumbers\":\"strict\",\"colorway\":[\"#636efa\",\"#EF553B\",\"#00cc96\",\"#ab63fa\",\"#FFA15A\",\"#19d3f3\",\"#FF6692\",\"#B6E880\",\"#FF97FF\",\"#FECB52\"],\"font\":{\"color\":\"#2a3f5f\"},\"hovermode\":\"closest\",\"hoverlabel\":{\"align\":\"left\"},\"paper_bgcolor\":\"white\",\"plot_bgcolor\":\"#E5ECF6\",\"polar\":{\"bgcolor\":\"#E5ECF6\",\"angularaxis\":{\"gridcolor\":\"white\",\"linecolor\":\"white\",\"ticks\":\"\"},\"radialaxis\":{\"gridcolor\":\"white\",\"linecolor\":\"white\",\"ticks\":\"\"}},\"ternary\":{\"bgcolor\":\"#E5ECF6\",\"aaxis\":{\"gridcolor\":\"white\",\"linecolor\":\"white\",\"ticks\":\"\"},\"baxis\":{\"gridcolor\":\"white\",\"linecolor\":\"white\",\"ticks\":\"\"},\"caxis\":{\"gridcolor\":\"white\",\"linecolor\":\"white\",\"ticks\":\"\"}},\"coloraxis\":{\"colorbar\":{\"outlinewidth\":0,\"ticks\":\"\"}},\"colorscale\":{\"sequential\":[[0.0,\"#0d0887\"],[0.1111111111111111,\"#46039f\"],[0.2222222222222222,\"#7201a8\"],[0.3333333333333333,\"#9c179e\"],[0.4444444444444444,\"#bd3786\"],[0.5555555555555556,\"#d8576b\"],[0.6666666666666666,\"#ed7953\"],[0.7777777777777778,\"#fb9f3a\"],[0.8888888888888888,\"#fdca26\"],[1.0,\"#f0f921\"]],\"sequentialminus\":[[0.0,\"#0d0887\"],[0.1111111111111111,\"#46039f\"],[0.2222222222222222,\"#7201a8\"],[0.3333333333333333,\"#9c179e\"],[0.4444444444444444,\"#bd3786\"],[0.5555555555555556,\"#d8576b\"],[0.6666666666666666,\"#ed7953\"],[0.7777777777777778,\"#fb9f3a\"],[0.8888888888888888,\"#fdca26\"],[1.0,\"#f0f921\"]],\"diverging\":[[0,\"#8e0152\"],[0.1,\"#c51b7d\"],[0.2,\"#de77ae\"],[0.3,\"#f1b6da\"],[0.4,\"#fde0ef\"],[0.5,\"#f7f7f7\"],[0.6,\"#e6f5d0\"],[0.7,\"#b8e186\"],[0.8,\"#7fbc41\"],[0.9,\"#4d9221\"],[1,\"#276419\"]]},\"xaxis\":{\"gridcolor\":\"white\",\"linecolor\":\"white\",\"ticks\":\"\",\"title\":{\"standoff\":15},\"zerolinecolor\":\"white\",\"automargin\":true,\"zerolinewidth\":2},\"yaxis\":{\"gridcolor\":\"white\",\"linecolor\":\"white\",\"ticks\":\"\",\"title\":{\"standoff\":15},\"zerolinecolor\":\"white\",\"automargin\":true,\"zerolinewidth\":2},\"scene\":{\"xaxis\":{\"backgroundcolor\":\"#E5ECF6\",\"gridcolor\":\"white\",\"linecolor\":\"white\",\"showbackground\":true,\"ticks\":\"\",\"zerolinecolor\":\"white\",\"gridwidth\":2},\"yaxis\":{\"backgroundcolor\":\"#E5ECF6\",\"gridcolor\":\"white\",\"linecolor\":\"white\",\"showbackground\":true,\"ticks\":\"\",\"zerolinecolor\":\"white\",\"gridwidth\":2},\"zaxis\":{\"backgroundcolor\":\"#E5ECF6\",\"gridcolor\":\"white\",\"linecolor\":\"white\",\"showbackground\":true,\"ticks\":\"\",\"zerolinecolor\":\"white\",\"gridwidth\":2}},\"shapedefaults\":{\"line\":{\"color\":\"#2a3f5f\"}},\"annotationdefaults\":{\"arrowcolor\":\"#2a3f5f\",\"arrowhead\":0,\"arrowwidth\":1},\"geo\":{\"bgcolor\":\"white\",\"landcolor\":\"#E5ECF6\",\"subunitcolor\":\"white\",\"showland\":true,\"showlakes\":true,\"lakecolor\":\"white\"},\"title\":{\"x\":0.05},\"mapbox\":{\"style\":\"light\"}}},\"title\":{\"text\":\"Weddings\"},\"xaxis\":{\"title\":{\"text\":\"Scale\"}},\"yaxis\":{\"title\":{\"text\":\"Values\"}},\"legend\":{\"title\":{\"text\":\"Metrics and Types\"}}},                        {\"responsive\": true}                    ).then(function(){\n",
       "                            \n",
       "var gd = document.getElementById('321713b8-36ae-4584-a591-91f87bb5cebc');\n",
       "var x = new MutationObserver(function (mutations, observer) {{\n",
       "        var display = window.getComputedStyle(gd).display;\n",
       "        if (!display || display === 'none') {{\n",
       "            console.log([gd, 'removed!']);\n",
       "            Plotly.purge(gd);\n",
       "            observer.disconnect();\n",
       "        }}\n",
       "}});\n",
       "\n",
       "// Listen for the removal of the full notebook cells\n",
       "var notebookContainer = gd.closest('#notebook-container');\n",
       "if (notebookContainer) {{\n",
       "    x.observe(notebookContainer, {childList: true});\n",
       "}}\n",
       "\n",
       "// Listen for the clearing of the current output cell\n",
       "var outputEl = gd.closest('.output');\n",
       "if (outputEl) {{\n",
       "    x.observe(outputEl, {childList: true});\n",
       "}}\n",
       "\n",
       "                        })                };                });            </script>        </div>"
      ]
     },
     "metadata": {},
     "output_type": "display_data"
    }
   ],
   "source": [
    "df1 = pd.DataFrame({\n",
    "    'Scale': scales,\n",
    "    'Score': evals,\n",
    "    'Coherence': coherences,\n",
    "})\n",
    "\n",
    "df2 = pd.DataFrame({\n",
    "    'Scale': scales,\n",
    "    'Score': sae_evals,\n",
    "    'Coherence': sae_coherences,\n",
    "})\n",
    "\n",
    "# Create the figure\n",
    "fig = go.Figure()\n",
    "\n",
    "# Add traces for Activation Steer\n",
    "fig.add_trace(go.Scatter(x=df1['Scale'], y=df1['Score'], mode='lines', name='Activation Steer Score',\n",
    "                         line=dict(color='blue', dash='dot')))\n",
    "fig.add_trace(go.Scatter(x=df1['Scale'], y=df1['Coherence'], mode='lines', name='Activation Steer Coherence',\n",
    "                         line=dict(color='red', dash='dot')))\n",
    "\n",
    "# Add traces for SAE\n",
    "fig.add_trace(go.Scatter(x=df2['Scale'], y=df2['Score'], mode='lines', name='SAE Score',\n",
    "                         line=dict(color='blue')))\n",
    "fig.add_trace(go.Scatter(x=df2['Scale'], y=df2['Coherence'], mode='lines', name='SAE Coherence',\n",
    "                         line=dict(color='red')))\n",
    "\n",
    "# Update the layout\n",
    "fig.update_layout(\n",
    "    title=name,\n",
    "    xaxis_title=\"Scale\",\n",
    "    yaxis_title=\"Values\",\n",
    "    legend_title=\"Metrics and Types\"\n",
    ")\n",
    "\n",
    "# Show the plot\n",
    "fig.show()"
   ]
  },
  {
   "cell_type": "code",
   "execution_count": null,
   "metadata": {},
   "outputs": [],
   "source": []
  }
 ],
 "metadata": {
  "kernelspec": {
   "display_name": ".venv",
   "language": "python",
   "name": "python3"
  },
  "language_info": {
   "codemirror_mode": {
    "name": "ipython",
    "version": 3
   },
   "file_extension": ".py",
   "mimetype": "text/x-python",
   "name": "python",
   "nbconvert_exporter": "python",
   "pygments_lexer": "ipython3",
   "version": "3.10.14"
  }
 },
 "nbformat": 4,
 "nbformat_minor": 2
}
