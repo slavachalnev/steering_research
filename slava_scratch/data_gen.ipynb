{
 "cells": [
  {
   "cell_type": "code",
   "execution_count": 1,
   "metadata": {},
   "outputs": [
    {
     "data": {
      "text/plain": [
       "<torch.autograd.grad_mode.set_grad_enabled at 0x7f655ef0a020>"
      ]
     },
     "execution_count": 1,
     "metadata": {},
     "output_type": "execute_result"
    }
   ],
   "source": [
    "import os\n",
    "import sys\n",
    "sys.path.append(os.path.abspath('..'))\n",
    "\n",
    "import torch\n",
    "from torch.utils.data import DataLoader\n",
    "from transformer_lens import HookedTransformer\n",
    "from transformer_lens import utils as tutils\n",
    "from transformer_lens.evals import make_pile_data_loader, evaluate_on_dataset\n",
    "\n",
    "from functools import partial\n",
    "from datasets import load_dataset\n",
    "from tqdm import tqdm\n",
    "\n",
    "from sae_lens import SAE\n",
    "# from sae_lens.toolkit.pretrained_saes import get_gpt2_res_jb_saes\n",
    "# from sae_lens import SparseAutoencoder, ActivationsStore\n",
    "\n",
    "# from steering.eval_utils import evaluate_completions\n",
    "from steering.utils import normalise_decoder\n",
    "from steering.patch import generate, scores_2d, patch_resid\n",
    "\n",
    "# from sae_vis.data_config_classes import SaeVisConfig\n",
    "# from sae_vis.data_storing_fns import SaeVisData\n",
    "\n",
    "import plotly.express as px\n",
    "import plotly.graph_objects as go\n",
    "from plotly.subplots import make_subplots\n",
    "\n",
    "torch.set_grad_enabled(False)"
   ]
  },
  {
   "cell_type": "code",
   "execution_count": 2,
   "metadata": {},
   "outputs": [
    {
     "name": "stderr",
     "output_type": "stream",
     "text": [
      "`config.hidden_act` is ignored, you should use `config.hidden_activation` instead.\n",
      "Gemma's activation function will be set to `gelu_pytorch_tanh`. Please, use\n",
      "`config.hidden_activation` if you want to override this behaviour.\n",
      "See https://github.com/huggingface/transformers/pull/29402 for more details.\n"
     ]
    },
    {
     "data": {
      "application/vnd.jupyter.widget-view+json": {
       "model_id": "f76e7ce9e6ff41f198376f9f826d81b4",
       "version_major": 2,
       "version_minor": 0
      },
      "text/plain": [
       "Loading checkpoint shards:   0%|          | 0/2 [00:00<?, ?it/s]"
      ]
     },
     "metadata": {},
     "output_type": "display_data"
    },
    {
     "name": "stderr",
     "output_type": "stream",
     "text": [
      "WARNING:root:You are not using LayerNorm, so the writing weights can't be centered! Skipping\n"
     ]
    },
    {
     "name": "stdout",
     "output_type": "stream",
     "text": [
      "Loaded pretrained model gemma-2b into HookedTransformer\n"
     ]
    }
   ],
   "source": [
    "device = torch.device(\"cuda\" if torch.cuda.is_available() else \"cpu\")\n",
    "model = HookedTransformer.from_pretrained(\"gemma-2b\", device=device)"
   ]
  },
  {
   "cell_type": "code",
   "execution_count": 3,
   "metadata": {},
   "outputs": [],
   "source": [
    "hp6 = \"blocks.6.hook_resid_post\"\n",
    "\n",
    "sae6, _, _ = SAE.from_pretrained(\n",
    "    release = \"gemma-2b-res-jb\", # see other options in sae_lens/pretrained_saes.yaml\n",
    "    sae_id = hp6, # won't always be a hook point\n",
    "    device = 'cpu'\n",
    ")\n",
    "\n",
    "sae6 = sae6.to(device)\n",
    "normalise_decoder(sae6)"
   ]
  },
  {
   "cell_type": "code",
   "execution_count": 4,
   "metadata": {},
   "outputs": [],
   "source": [
    "intelligence = sae6.W_dec[10351]   # intelligence and genius\n",
    "writing = sae6.W_dec[1058]  # writing\n",
    "anger = sae6.W_dec[1062]  # anger\n",
    "london = sae6.W_dec[10138]  # London\n",
    "wedding = sae6.W_dec[8406]  # wedding"
   ]
  },
  {
   "cell_type": "code",
   "execution_count": 6,
   "metadata": {},
   "outputs": [],
   "source": [
    "unsteered_texts = generate(model,\n",
    "        hooks=[],\n",
    "        max_new_tokens=25,\n",
    "        prompt=\"I think\",\n",
    "        batch_size=64,\n",
    "        n_samples=1024,\n",
    "        )"
   ]
  },
  {
   "cell_type": "code",
   "execution_count": 7,
   "metadata": {},
   "outputs": [],
   "source": [
    "\n",
    "wedding_texts = generate(model,\n",
    "        hooks=[(hp6, partial(patch_resid, steering=wedding, scale=60))],\n",
    "        max_new_tokens=25,\n",
    "        prompt=\"I think\",\n",
    "        batch_size=64,\n",
    "        n_samples=1024,\n",
    "        )"
   ]
  },
  {
   "cell_type": "code",
   "execution_count": 8,
   "metadata": {},
   "outputs": [],
   "source": [
    "\n",
    "london_texts = generate(model,\n",
    "        hooks=[(hp6, partial(patch_resid, steering=london, scale=60))],\n",
    "        max_new_tokens=25,\n",
    "        prompt=\"I think\",\n",
    "        batch_size=64,\n",
    "        n_samples=1024,\n",
    "        )"
   ]
  },
  {
   "cell_type": "code",
   "execution_count": 13,
   "metadata": {},
   "outputs": [
    {
     "data": {
      "text/plain": [
       "['I think with this London, the tube stations and underground stations will be very very busy during the Olympics event in 2012',\n",
       " \"I think we can all agree that <em>Downton</em>'s second series is a bit patchy. The plot, and the character\",\n",
       " 'I think it needs to be London.\\n\\nLondon Bridge\\n\\nGreat, you’ve seen most of the top places to see in the',\n",
       " 'I think the term I’m looking for is “post-it”. London is a fantastic city with so many museums, art galleries',\n",
       " 'I think he is one of the best doctors to give his services for the people, also on the other side He is really good to',\n",
       " 'I think the following is what you mean by the graph of an exponential function\\n\\n.25e^7, ,-34',\n",
       " 'I think my mother would have preferred to live with my parents. But at twenty I wasn’t the perfect girl but she wasn’',\n",
       " \"I think it's all a bit bonkers this week. Soaring gas prices are still with us, but I' has been\",\n",
       " \"I think this is my best work so far! (I'm so glad I saw the other reviews saying if you want something like\",\n",
       " \"I think you just describe an excellent idea. London, Londonderry etc in winter.\\n\\nIt's about 350 miles\",\n",
       " 'I think you’re being scammed, mate. Go to London, London, London is the name\\n\\nIn my heart... I would',\n",
       " \"I think you will find the original film in the '60s, where it was made in the style of 'The Italian Job\",\n",
       " \"I think i've been really wanting to try this, would never have thought that London has one too!\\n\\nhttp://www.\",\n",
       " 'I think it would be beneficial for the community to have some sort of social group for those that are in transition or new to the area',\n",
       " \"I think I'm going to have to give a little background.\\n\\nThe 22 is the best 386 ever\",\n",
       " 'I think of my new home as that London town, where I hope to live. It is now. I think of it a place',\n",
       " \"I think the current version of F2's release has no 128's.  They sell lots of 3\",\n",
       " \"I think I remember seeing some of these in a London museum and I know I'd love to see more. There just needs to\",\n",
       " 'I think this means that a person needs to move to a place where the population size is small!\\n\\nWhich means that this population has',\n",
       " 'I think that the idea of being an islander, as an experience, starts at Heathrow Airport. On the plane, 30',\n",
       " 'I think it’s a 1966 model, and possibly the only British racing green. It’s probably 2',\n",
       " 'I think the real answer to the following question is in here somewhere, but it got lost when the original post moved. (What’',\n",
       " 'I think the most dangerous of the five boroughs. Not like an actual city in the UK of the days\\n\\nFor the last 1',\n",
       " 'I think I would go to the London Eye, see the sites etc then do a day trip to France.\\n\\nI am staying for',\n",
       " 'I think most of us know how to write our own <strong><em>London address</em></strong> but where do I, as a Londoner',\n",
       " \"I think it's fine, my dd did have two naps a day and this was in the same house, she's a\",\n",
       " 'I think the word <em>London</em>, (sometimes spelt <em>Lon</em>) will be used to refer to a city or area',\n",
       " 'I think, though, in the first case, the only one with the same time frame would actually be when she was in town,',\n",
       " 'I think the first I was there in December 2017, and then went in August this year. Both are great cities',\n",
       " 'I think that most of us when we think of a hotel room we would have our minds on the view! What’s better than',\n",
       " \"I think I have an answer for a different kind of problem. (It's different in that, in my case, the London\",\n",
       " 'I think that he is very good. He is very good at this. I would want to meet him or a movie star or somebody',\n",
       " 'I think most of us have heard of the famous <strong>London Underground. </strong>But what about the famous <strong>Oxford Street,',\n",
       " \"I think of people like this as an expression of <i>New</i> London now. It's full of energy and people having a\",\n",
       " 'I think I read a sentence with the English translation of \"We have been living like this\". Now I have to come up with some',\n",
       " 'I think you’re not alone with this and have been for the last few years.\\n\\nIt’s getting harder and harder to',\n",
       " 'I think people who know him would also say that his family was born in England though.\\n\\nI think his family will have a new',\n",
       " \"I think most people who come to London regularly would have heard about the 'Big Smoke' before - but if you've got a\",\n",
       " 'I think one of the most unique and unexpected features of the London Heathrow airport Terminal 2 is the design by the British firm Foster +',\n",
       " 'I think the most fun activity to do in London is to explore the various galleries and see what you will see. These are the names',\n",
       " 'I think the last time I did a blog post was back in July, so today I thought I’d have a bit of fun',\n",
       " 'I think this may be the best place to put it.\\n\\nThe Londoners love me. They have taken London and made it their',\n",
       " 'I think we all know the name’s of some London landmarks, of which Westminster, is our Capital’s most famous. In',\n",
       " 'I think the only people who think we are the best for our area, is the person who sold us our house, then my mother',\n",
       " \"I think I have my own little spot for food now. It's in Chinatown near the tube tube station and it's called\",\n",
       " 'I think I could make a good argument for her to be a werewolf. She’s a great and smart scientist who is a mother',\n",
       " 'I think I was here first.\\n\\nWhen I came into Harwich, on a Monday in 1938, there was',\n",
       " 'I think we’ve all been sitting on the side with my feet up enjoying a cold beer and watching how Brexit unfolds with a group',\n",
       " 'I think he was thinking of the new London Olympics, not the 2012 Olympics.\\n\\nHe then added that as well',\n",
       " 'I think I have a few pieces hanging out at the store. But, you can call, message, or go see me in person',\n",
       " 'I think this would work with some tweaking but here’s a link I found with a picture if that works as a pattern\\n\\nHi',\n",
       " \"I think that if a restaurant/pub does not exist, I wouldn's go to it. However, if there's a\",\n",
       " 'I think that both are really interesting to study – the science and, in particular, the medicine of the time, and its effects –',\n",
       " 'I think I’m going to be out today, so this week is gonna be a big 60th Birthday Bash. With',\n",
       " \"I think my wife just went off her mind. This guy is in the studio doing his thing now and I've been living here\",\n",
       " 'I think we’ve all had that experience where you have a new job and there is a rush of excitement on the first day.',\n",
       " 'I think it was about 300 years ago, in an old, dusty copy of the <em>Book of Common Prayer</em>',\n",
       " \"I think you've misunderstood what's going on. In the code, the following block of code is added to the head of\",\n",
       " 'I think this is a mistake, the 2.56 release is the first version the first was released on <strong>21',\n",
       " 'I think I’ve seen this already in my store & I really liked this & was so gutted that it wasn’t included London',\n",
       " 'I think if you\\'re going to the show this season, you should see \"Cabaret\" on in London, the West End',\n",
       " 'I think the reason I started doing my blog in a very different way than your average blogger is that my work schedule is incredibly unpredictable and',\n",
       " 'I think your family, even London, will love and to, but not London, and not to is the best London and and London',\n",
       " 'I think I’ll try to get to London on the day after this, and I haven’s to get on the 7',\n",
       " 'I think you were really brave to be up so early this morning!! I too like to go to my cabin by 10 or',\n",
       " \"I think, I'm going to be like the other girl in this story.\\nNot the girl in the story, but someone\",\n",
       " 'I think that most of you have seen or heard of the famous \"100-Mile Diet Challenge\" by Dr. Paul Mason',\n",
       " 'I think I found a perfect solution for those who are getting \"unable to join lobby\". I can\\'t say if this fixes all',\n",
       " 'I think it’s clear that the best of the 00s has been the decade of 2010s,',\n",
       " \"I think the new version of the app is great. My original issue has been fixed and I've gained lots more capability of the\",\n",
       " \"I think he knows what he's doing\\n\\nBut he needs to stop doing it.\\n\\nNo. I agree with @Hazy\",\n",
       " 'I think it has to do with it.  The whole \"you\\'re a dog\" mindset is so prevalent among many of the',\n",
       " 'I think most of you knew about this:\\n\\n<blockquote>If you already have the license installed, you do not need it in the boot',\n",
       " 'I think all of us have, at some time or another, gotten lost on the street.\\n\\nBut how would you feel if the',\n",
       " 'I think this sounds like a great way to start the discussion. At least we can have a conversation!\\n__________________\\n<b>~',\n",
       " 'I think that most of these ideas are great, but I just wanted to mention that “the city” is the second part of that',\n",
       " 'I think I have a virus. A friend is in serious need of an injection pump controller for his tractor. There is a couple of',\n",
       " 'I think these are the only 2 options (for <strong>regular</strong> tables/rows) for the <strong>first</strong> column -',\n",
       " 'I think that, to be fair, the movie actually is not trying to portray reality in a positive manner.\\n\\nWhile the movie does',\n",
       " 'I think I was born into a musical family. When my parents were looking for a home in the London area in 196',\n",
       " 'I think this is the only mod that adds new food with the ability to be prepared by fire.\\n\\nI think I can still get',\n",
       " 'I think the real issue is that the system is expecting us to get out and do all the work now, but the problem is that',\n",
       " 'I think if you have any sort of anxiety disorder you might feel more at ease with a hospital approach at first instead of the private one',\n",
       " 'I think we’re in the midst of a little boom in the UK for the “New Wave” or “Brit” movement in',\n",
       " 'I think the idea is that you get to use a number of people in the same city and on the same day. This sounds strange',\n",
       " 'I think the problem is that if you look at the London Underground map as a whole, it makes little sense at all in how lines',\n",
       " 'I think that this picture is perfect for the new poster that’s coming out for <strong>Milla Jovovich</strong>‘s',\n",
       " 'I think I’ve had as many different ideas for a title for this post as the number of times that I’ve had to',\n",
       " \"I think about 13000 km's and two years on my bike, and have been very happy with this bike\",\n",
       " 'I think i found the best thing 2do..\\n\\nAnd It is:\\n\\nFirst, go to your profile, then go to',\n",
       " \"I think they're on to something. I agree that it's just fine, and I can't imagine it being much\",\n",
       " \"I think that's why some of the people I know just never made it work. The constant feeling that anything goes. There are\",\n",
       " 'I think you’ve heard this before:\\n\\n<em>“The key to being a great manager is to be more of a friend.”',\n",
       " \"I think that's pretty accurate.\\n\\nThe difference is in terms of when the changes are activated.\\n\\nWith PBE, the\",\n",
       " \"I think it was a couple of weeks ago that I posted a piece I'd written some years back for the New York Times about\",\n",
       " \"I think I will need a better understanding of the game mechanics before I can try out a build with my own stats! I'm\",\n",
       " 'I think it took me only one class in 2009 to realize the difference between this class, the first class I took',\n",
       " 'I think the title said it all!\\n\\nI always want to have clean, tidy, and organised office space.\\n\\nIt’s',\n",
       " 'I think that has got to be the most unusual, interesting cover that Ive seen in a while\\n\\nI wonder what his thoughts would of',\n",
       " 'I think the best way to make you fall in love with this is by comparing it with the 100% same story of']"
      ]
     },
     "execution_count": 13,
     "metadata": {},
     "output_type": "execute_result"
    }
   ],
   "source": [
    "london_texts[:100]"
   ]
  },
  {
   "cell_type": "code",
   "execution_count": null,
   "metadata": {},
   "outputs": [],
   "source": [
    "@torch.no_grad()\n",
    "def get_feature_freqs(texts: list[str], model: HookedTransformer, sae: SAE, hook_point: str):\n",
    "    _, acts = model.run_with_cache(text, names_filter=hook_point)\n",
    "    acts = acts[hook_point]\n",
    "\n",
    "    all_sae_acts = []\n",
    "    for batch in acts:\n",
    "        sae_acts = sae(batch).feature_acts\n",
    "        all_sae_acts.append(sae_acts)"
   ]
  }
 ],
 "metadata": {
  "kernelspec": {
   "display_name": ".venv",
   "language": "python",
   "name": "python3"
  },
  "language_info": {
   "codemirror_mode": {
    "name": "ipython",
    "version": 3
   },
   "file_extension": ".py",
   "mimetype": "text/x-python",
   "name": "python",
   "nbconvert_exporter": "python",
   "pygments_lexer": "ipython3",
   "version": "3.10.14"
  }
 },
 "nbformat": 4,
 "nbformat_minor": 2
}
