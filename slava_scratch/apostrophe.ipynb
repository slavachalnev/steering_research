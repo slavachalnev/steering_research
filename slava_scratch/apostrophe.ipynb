{
 "cells": [
  {
   "cell_type": "code",
   "execution_count": 19,
   "metadata": {},
   "outputs": [
    {
     "data": {
      "text/plain": [
       "<torch.autograd.grad_mode.set_grad_enabled at 0x7fb3bc6220b0>"
      ]
     },
     "execution_count": 19,
     "metadata": {},
     "output_type": "execute_result"
    }
   ],
   "source": [
    "import os\n",
    "import sys\n",
    "sys.path.append(os.path.abspath('..'))\n",
    "\n",
    "import torch\n",
    "import torch.nn.functional as F\n",
    "from torch.utils.data import DataLoader\n",
    "from transformer_lens import HookedTransformer\n",
    "from transformer_lens import utils as tutils\n",
    "from transformer_lens.evals import make_pile_data_loader, evaluate_on_dataset\n",
    "\n",
    "from functools import partial\n",
    "from datasets import load_dataset\n",
    "from tqdm import tqdm\n",
    "\n",
    "import einops\n",
    "\n",
    "from sae_lens import SAE\n",
    "# from sae_lens.toolkit.pretrained_saes import get_gpt2_res_jb_saes\n",
    "# from sae_lens import SparseAutoencoder, ActivationsStore\n",
    "\n",
    "from steering.evals_utils import evaluate_completions, multi_criterion_evaluation\n",
    "from steering.utils import normalise_decoder, text_to_sae_feats, top_activations\n",
    "from steering.patch import generate, scores_2d, patch_resid\n",
    "\n",
    "# from sae_vis.data_config_classes import SaeVisConfig\n",
    "# from sae_vis.data_storing_fns import SaeVisData\n",
    "\n",
    "import plotly.express as px\n",
    "import plotly.graph_objects as go\n",
    "from plotly.subplots import make_subplots\n",
    "import pandas as pd\n",
    "\n",
    "torch.set_grad_enabled(False)"
   ]
  },
  {
   "cell_type": "code",
   "execution_count": 2,
   "metadata": {},
   "outputs": [
    {
     "name": "stderr",
     "output_type": "stream",
     "text": [
      "`config.hidden_act` is ignored, you should use `config.hidden_activation` instead.\n",
      "Gemma's activation function will be set to `gelu_pytorch_tanh`. Please, use\n",
      "`config.hidden_activation` if you want to override this behaviour.\n",
      "See https://github.com/huggingface/transformers/pull/29402 for more details.\n"
     ]
    },
    {
     "data": {
      "application/vnd.jupyter.widget-view+json": {
       "model_id": "babff657451349c89816d97b4918a763",
       "version_major": 2,
       "version_minor": 0
      },
      "text/plain": [
       "Loading checkpoint shards:   0%|          | 0/2 [00:00<?, ?it/s]"
      ]
     },
     "metadata": {},
     "output_type": "display_data"
    },
    {
     "name": "stderr",
     "output_type": "stream",
     "text": [
      "WARNING:root:You are not using LayerNorm, so the writing weights can't be centered! Skipping\n"
     ]
    },
    {
     "name": "stdout",
     "output_type": "stream",
     "text": [
      "Loaded pretrained model gemma-2b into HookedTransformer\n"
     ]
    }
   ],
   "source": [
    "device = torch.device(\"cuda\" if torch.cuda.is_available() else \"cpu\")\n",
    "model = HookedTransformer.from_pretrained(\"gemma-2b\", device=device)"
   ]
  },
  {
   "cell_type": "code",
   "execution_count": 3,
   "metadata": {},
   "outputs": [],
   "source": [
    "hp6 = \"blocks.6.hook_resid_post\"\n",
    "\n",
    "sae6, _, _ = SAE.from_pretrained(\n",
    "    release = \"gemma-2b-res-jb\", # see other options in sae_lens/pretrained_saes.yaml\n",
    "    sae_id = hp6, # won't always be a hook point\n",
    "    device = 'cpu'\n",
    ")\n",
    "\n",
    "sae6 = sae6.to(device)\n",
    "normalise_decoder(sae6)"
   ]
  },
  {
   "cell_type": "code",
   "execution_count": 4,
   "metadata": {},
   "outputs": [],
   "source": [
    "writing = sae6.W_dec[1058]  # writing\n",
    "anger = sae6.W_dec[1062]  # anger\n",
    "london = sae6.W_dec[10138]  # London\n",
    "wedding = sae6.W_dec[8406]  # wedding\n",
    "broad_wedding = sae6.W_dec[2378] # broad wedding"
   ]
  },
  {
   "cell_type": "code",
   "execution_count": 5,
   "metadata": {},
   "outputs": [
    {
     "data": {
      "application/vnd.jupyter.widget-view+json": {
       "model_id": "becefe8685b04d60a889b6fcd45ff03e",
       "version_major": 2,
       "version_minor": 0
      },
      "text/plain": [
       "  0%|          | 0/29 [00:00<?, ?it/s]"
      ]
     },
     "metadata": {},
     "output_type": "display_data"
    },
    {
     "data": {
      "text/plain": [
       "[\"<bos>I think the biggest challenge we have in today is when we're facing a global pandemic and in particular, in the United Kingdom, we've started\",\n",
       " '<bos>I think you should check out the following site, it has a forum with hundreds of posts on just this topic.\\n\\nhttp://forums.bmwusa.',\n",
       " \"<bos>I think I'll go with the black paint to go with my black rims\\nWhat a fantastic looking car this is.\\nI'm so fond\",\n",
       " \"<bos>I think it's ok for a girl!\\n\\nI liked to wear a dress, but i think that for a girl is a bit boring\\n\\nI\",\n",
       " '<bos>I think it is a reasonable thing to be very worried about, especially if any other relatives who have the disease. One should discuss with the doctor and have',\n",
       " '<bos>I think these guys were the ones who went out and hired the band for the party. They were very professional. They took the hassle out a whole night',\n",
       " \"<bos>I think they’d take them to court and get the money back\\nI hope they'll be put to work in a meat factory\\nI'\",\n",
       " '<bos>I think this place is for men and not women. I would call to confirm\\n\\nVery rude and racist..\\n\\nThe person at the desk was not at',\n",
       " \"<bos>I think I know what you mean about the back of my neck. I get it as an itchy sore feeling when I'm driving and I know it\",\n",
       " '<bos>I think this is a bug, the first one I found recently was as old as December 2012. Here is the screenshot I shot about',\n",
       " '<bos>I think I already mentioned in past in posts that I have been using for years the <strong>London Underground map</strong> as a reference to draw and sketch.',\n",
       " '<bos>I think it may be best to answer this with an analogy. As a person I may have a few friends, but if I have the need to travel',\n",
       " '<bos>I think the best choice is 6807-8, but there are two reasons why I have chosen this place. First the atmosphere, it',\n",
       " '<bos>I think the title says it it all.. i am looking for the most reliable set up, any suggestions will be welcome\\n\\nI do want to mention i',\n",
       " \"<bos>I think this is the first time I've visited a theme park. Being a first time visitor I was worried as this would be too crowded. So\",\n",
       " '<bos>I think I’m going into the bathroom. Today is another cold and wet London day which is a shame because I am in the mood for a spring']"
      ]
     },
     "execution_count": 5,
     "metadata": {},
     "output_type": "execute_result"
    }
   ],
   "source": [
    "prompt_batch = model.to_tokens(\"I think\", prepend_bos=True)\n",
    "prompt_batch = prompt_batch.expand(16, -1)\n",
    "\n",
    "with model.hooks([(hp6, partial(patch_resid, steering=london, scale=50))]):\n",
    "    texts = model.generate(\n",
    "        prompt_batch,\n",
    "        use_past_kv_cache=True,\n",
    "        max_new_tokens=29,\n",
    "        top_k=50,\n",
    "        top_p=0.3,\n",
    "    )\n",
    "texts = model.to_string(texts)\n",
    "texts"
   ]
  },
  {
   "cell_type": "code",
   "execution_count": null,
   "metadata": {},
   "outputs": [],
   "source": []
  },
  {
   "cell_type": "code",
   "execution_count": null,
   "metadata": {},
   "outputs": [],
   "source": []
  },
  {
   "cell_type": "code",
   "execution_count": 6,
   "metadata": {},
   "outputs": [
    {
     "name": "stdout",
     "output_type": "stream",
     "text": [
      "Changing model dtype to torch.float16\n"
     ]
    },
    {
     "data": {
      "application/vnd.jupyter.widget-view+json": {
       "model_id": "f0c652f1f00248e8be021c73908202cb",
       "version_major": 2,
       "version_minor": 0
      },
      "text/plain": [
       "  0%|          | 0/29 [00:00<?, ?it/s]"
      ]
     },
     "metadata": {},
     "output_type": "display_data"
    },
    {
     "name": "stdout",
     "output_type": "stream",
     "text": [
      "Changing model dtype to torch.float32\n"
     ]
    },
    {
     "data": {
      "text/plain": [
       "[\"<bos>I think you'll have to leave the tubes with the lights still inside or the tube will come out on its own and hit the floor . If you\",\n",
       " '<bos>I think I’m going to start off today by being very dramatic and emotional: in July London I saw the new collection from Vivienne Westwood at the',\n",
       " \"<bos>I think there were two different times when our nation reached the breaking point, both during the pandemic and last year's racial uprising. There was one year\",\n",
       " '<bos>I think at this point we are all aware of the popularity of the London look. This was a huge hit last summer during the Olympics, then in the',\n",
       " '<bos>I think the 034 and 58 both come with electric fans. What was on mine?\\n\\n\\nThere are two fans fitted to the standard',\n",
       " '<bos>I think it’s fair to say that most people will not have heard of the West Coast of Britain; a stretch of land known around the world as',\n",
       " '<bos>I think I am ready to be on the other side of the planning experience with my wedding.\\n\\nLondon is calling!\\n\\nBut I still have my New',\n",
       " \"<bos>I think we've all come to the understanding by now that the end of the UK-Nigeria relations is fast approaching. As a lover of the country\",\n",
       " \"<bos>I think I'll try the 2.1 version now if that improves it for me (it nows not my browser, not my PC it\",\n",
       " '<bos>I think my daughter had a very bad rash while she had chicken pox. The doctors said she will have a rash like mine but the patch will be white',\n",
       " '<bos>I think we all need to take a moment and appreciate the work of Dr John W. Langdon with his iconic painting “The Angel”. On the cover of',\n",
       " \"<bos>I think the general sentiment is that this is more London than NYC.\\n\\nJust because two cities in another country, doesn't mean they're both\",\n",
       " '<bos>I think what needs to happen is for us to sit down and think about what this man is saying. 3rd Edition (London) Routledge 2',\n",
       " '<bos>I think you have probably heard of the London-based luxury brand, and many think they have only started recently but their history goes back to 19',\n",
       " \"<bos>I think I've reached a pretty decent position on the topic of language and translation as a writer here, and at the moment it seems to be an\",\n",
       " '<bos>I think it’s safe to say I’m a bit obsessed with my Apple iPad. When I’m in London I take it with me most']"
      ]
     },
     "execution_count": 6,
     "metadata": {},
     "output_type": "execute_result"
    }
   ],
   "source": [
    "model.to(torch.float16)\n",
    "\n",
    "prompt_batch = model.to_tokens(\"I think\", prepend_bos=True)\n",
    "prompt_batch = prompt_batch.expand(16, -1)\n",
    "\n",
    "with model.hooks([(hp6, partial(patch_resid, steering=london.to(torch.float16), scale=50))]):\n",
    "    texts = model.generate(\n",
    "        prompt_batch,\n",
    "        use_past_kv_cache=True,\n",
    "        max_new_tokens=29,\n",
    "        top_k=50,\n",
    "        top_p=0.3,\n",
    "    )\n",
    "texts = model.to_string(texts)\n",
    "model.to(torch.float32)\n",
    "\n",
    "texts"
   ]
  },
  {
   "cell_type": "code",
   "execution_count": 81,
   "metadata": {},
   "outputs": [
    {
     "name": "stdout",
     "output_type": "stream",
     "text": [
      "tensor([[   478],\n",
      "        [235251],\n",
      "        [235256],\n",
      "        [235256],\n",
      "        [235251]], device='cuda:0')\n",
      "torch.Size([5])\n"
     ]
    },
    {
     "data": {
      "text/plain": [
       "tensor([0.5197, 0.9987, 0.9917, 0.9746, 0.9997], device='cuda:0')"
      ]
     },
     "execution_count": 81,
     "metadata": {},
     "output_type": "execute_result"
    }
   ],
   "source": [
    "prompts = [\n",
    "    \"I think you'\",\n",
    "    \"If she won'\",\n",
    "    \"I think that'\",\n",
    "    \"I think it'\",\n",
    "    \"If you couldn'\",\n",
    "]\n",
    "\n",
    "prompt = \"I think you'\"\n",
    "prompt_tokens = model.to_tokens(prompts, prepend_bos=True)\n",
    "correct_ids = model.to_tokens([\"re\", 't', 's', 's', 't'], prepend_bos=False)\n",
    "\n",
    "# baseline\n",
    "baseline = model(prompt_tokens)[:, -1, :]\n",
    "baseline = F.softmax(baseline, dim=-1)\n",
    "baseline = baseline[torch.arange(len(prompts)), correct_ids.squeeze()]\n",
    "\n",
    "baseline"
   ]
  },
  {
   "cell_type": "code",
   "execution_count": 83,
   "metadata": {},
   "outputs": [
    {
     "data": {
      "text/plain": [
       "tensor([3.1380e-03, 9.3456e-05, 6.9293e-01, 8.4291e-01, 6.0839e-05],\n",
       "       device='cuda:0')"
      ]
     },
     "execution_count": 83,
     "metadata": {},
     "output_type": "execute_result"
    }
   ],
   "source": [
    "def eval(ft_id, scale=80):\n",
    "    with model.hooks([(hp6, partial(patch_resid, steering=sae6.W_dec[ft_id], scale=scale))]):\n",
    "        logits = model(prompt_tokens)[:, -1, :]\n",
    "        probs = F.softmax(logits, dim=-1)\n",
    "        probs = probs[torch.arange(len(prompts)), correct_ids.squeeze()]\n",
    "    return probs\n",
    "    \n",
    "eval(10138, scale=100)"
   ]
  },
  {
   "cell_type": "code",
   "execution_count": 84,
   "metadata": {},
   "outputs": [
    {
     "data": {
      "application/vnd.plotly.v1+json": {
       "config": {
        "plotlyServerURL": "https://plot.ly"
       },
       "data": [
        {
         "hovertemplate": "variable=0<br>index=%{x}<br>value=%{y}<extra></extra>",
         "legendgroup": "0",
         "line": {
          "color": "#636efa",
          "dash": "solid"
         },
         "marker": {
          "symbol": "circle"
         },
         "mode": "lines",
         "name": "0",
         "orientation": "v",
         "showlegend": true,
         "type": "scatter",
         "x": [
          0,
          1,
          2,
          3,
          4,
          5,
          6,
          7,
          8,
          9,
          10,
          11,
          12,
          13,
          14,
          15,
          16,
          17,
          18,
          19,
          20,
          21,
          22,
          23,
          24,
          25,
          26,
          27,
          28,
          29,
          30,
          31,
          32,
          33,
          34,
          35,
          36,
          37,
          38,
          39,
          40,
          41,
          42,
          43,
          44,
          45,
          46,
          47,
          48,
          49,
          50,
          51,
          52,
          53,
          54,
          55,
          56,
          57,
          58,
          59,
          60,
          61,
          62,
          63,
          64,
          65,
          66,
          67,
          68,
          69,
          70,
          71,
          72,
          73,
          74,
          75,
          76,
          77,
          78,
          79,
          80,
          81,
          82,
          83,
          84,
          85,
          86,
          87,
          88,
          89,
          90,
          91,
          92,
          93,
          94,
          95,
          96,
          97,
          98,
          99,
          100,
          101,
          102,
          103,
          104,
          105,
          106,
          107,
          108,
          109,
          110,
          111,
          112,
          113,
          114,
          115,
          116,
          117,
          118,
          119
         ],
         "xaxis": "x",
         "y": [
          0.5197285413742065,
          0.5202462673187256,
          0.5207448601722717,
          0.5212165713310242,
          0.5216647386550903,
          0.5220931768417358,
          0.522500216960907,
          0.5228752493858337,
          0.5232367515563965,
          0.5235716104507446,
          0.5238849520683289,
          0.5241702795028687,
          0.5244408249855042,
          0.5246796607971191,
          0.5249066948890686,
          0.52510666847229,
          0.5252942442893982,
          0.525453507900238,
          0.525604784488678,
          0.5257290601730347,
          0.5258454084396362,
          0.525941789150238,
          0.5260224938392639,
          0.5261006355285645,
          0.5261582136154175,
          0.5262168049812317,
          0.5262615084648132,
          0.5263051390647888,
          0.5263429284095764,
          0.5263894200325012,
          0.5264282822608948,
          0.5264760851860046,
          0.5265222787857056,
          0.5265858769416809,
          0.5266544222831726,
          0.5267399549484253,
          0.526832640171051,
          0.5269416570663452,
          0.5270705223083496,
          0.5272092223167419,
          0.5273685455322266,
          0.52753746509552,
          0.527717649936676,
          0.5279142260551453,
          0.5281210541725159,
          0.5283293128013611,
          0.5285359025001526,
          0.528753936290741,
          0.528964638710022,
          0.5291623473167419,
          0.5293549299240112,
          0.5295272469520569,
          0.5296750664710999,
          0.5298044085502625,
          0.529900848865509,
          0.5299719572067261,
          0.5300000905990601,
          0.5299822092056274,
          0.5299180150032043,
          0.529788613319397,
          0.5295831561088562,
          0.5292826294898987,
          0.5288376808166504,
          0.5282285213470459,
          0.5274041891098022,
          0.5262906551361084,
          0.5248258113861084,
          0.5229036808013916,
          0.5204195976257324,
          0.5172231793403625,
          0.5131454467773438,
          0.5079684853553772,
          0.5014316439628601,
          0.4931890368461609,
          0.4828547239303589,
          0.46996456384658813,
          0.4539761245250702,
          0.4343787133693695,
          0.41068828105926514,
          0.3826259672641754,
          0.350241094827652,
          0.3140900433063507,
          0.27528953552246094,
          0.23546202480793,
          0.19647982716560364,
          0.16011838614940643,
          0.1277337223291397,
          0.10007341206073761,
          0.07728416472673416,
          0.059058547019958496,
          0.04481687396764755,
          0.033881254494190216,
          0.02558569796383381,
          0.019342290237545967,
          0.014664721675217152,
          0.011166220530867577,
          0.008547856472432613,
          0.006584153510630131,
          0.005105814430862665,
          0.003987968433648348,
          0.0031380022410303354,
          0.0024879907723516226,
          0.0019876521546393633,
          0.0015999387251213193,
          0.001297504990361631,
          0.001059947768226266,
          0.0008720336481928825,
          0.0007224158034659922,
          0.000602430198341608,
          0.000505594362039119,
          0.00042693590512499213,
          0.00036262732464820147,
          0.0003097381559200585,
          0.0002659789752215147,
          0.00022956469911150634,
          0.00019910227274522185,
          0.00017347490938846022,
          0.00015181305934675038,
          0.000133409965201281,
          0.00011770521086873487
         ],
         "yaxis": "y"
        },
        {
         "hovertemplate": "variable=1<br>index=%{x}<br>value=%{y}<extra></extra>",
         "legendgroup": "1",
         "line": {
          "color": "#EF553B",
          "dash": "solid"
         },
         "marker": {
          "symbol": "circle"
         },
         "mode": "lines",
         "name": "1",
         "orientation": "v",
         "showlegend": true,
         "type": "scatter",
         "x": [
          0,
          1,
          2,
          3,
          4,
          5,
          6,
          7,
          8,
          9,
          10,
          11,
          12,
          13,
          14,
          15,
          16,
          17,
          18,
          19,
          20,
          21,
          22,
          23,
          24,
          25,
          26,
          27,
          28,
          29,
          30,
          31,
          32,
          33,
          34,
          35,
          36,
          37,
          38,
          39,
          40,
          41,
          42,
          43,
          44,
          45,
          46,
          47,
          48,
          49,
          50,
          51,
          52,
          53,
          54,
          55,
          56,
          57,
          58,
          59,
          60,
          61,
          62,
          63,
          64,
          65,
          66,
          67,
          68,
          69,
          70,
          71,
          72,
          73,
          74,
          75,
          76,
          77,
          78,
          79,
          80,
          81,
          82,
          83,
          84,
          85,
          86,
          87,
          88,
          89,
          90,
          91,
          92,
          93,
          94,
          95,
          96,
          97,
          98,
          99,
          100,
          101,
          102,
          103,
          104,
          105,
          106,
          107,
          108,
          109,
          110,
          111,
          112,
          113,
          114,
          115,
          116,
          117,
          118,
          119
         ],
         "xaxis": "x",
         "y": [
          0.9987413287162781,
          0.998724639415741,
          0.9987064599990845,
          0.9986862540245056,
          0.9986644983291626,
          0.9986408352851868,
          0.9986146688461304,
          0.9985865354537964,
          0.9985559582710266,
          0.9985225796699524,
          0.9984862804412842,
          0.9984468817710876,
          0.9984042048454285,
          0.9983575940132141,
          0.9983067512512207,
          0.9982514977455139,
          0.9981911778450012,
          0.9981247782707214,
          0.9980524778366089,
          0.9979729056358337,
          0.9978857636451721,
          0.9977896213531494,
          0.9976832866668701,
          0.9975653886795044,
          0.9974343180656433,
          0.9972883462905884,
          0.9971248507499695,
          0.9969410300254822,
          0.996733546257019,
          0.9964983463287354,
          0.9962303042411804,
          0.9959235191345215,
          0.99556964635849,
          0.9951600432395935,
          0.994682252407074,
          0.9941214919090271,
          0.993459165096283,
          0.9926712512969971,
          0.9917269945144653,
          0.9905877113342285,
          0.9892024397850037,
          0.987505316734314,
          0.9854114651679993,
          0.9828084111213684,
          0.9795504808425903,
          0.9754441380500793,
          0.9702375531196594,
          0.9635976552963257,
          0.9550896883010864,
          0.9441505670547485,
          0.9300574660301208,
          0.9119059443473816,
          0.8885981440544128,
          0.8588701486587524,
          0.8213945031166077,
          0.7749555706977844,
          0.7188031077384949,
          0.6530701518058777,
          0.5791451334953308,
          0.4998721182346344,
          0.41926735639572144,
          0.3417320251464844,
          0.2711634039878845,
          0.21014906466007233,
          0.1597263216972351,
          0.11960757523775101,
          0.08863760530948639,
          0.06526760011911392,
          0.047923967242240906,
          0.03519303351640701,
          0.025910424068570137,
          0.019161902368068695,
          0.014256501570343971,
          0.010684051550924778,
          0.008071336895227432,
          0.00615043006837368,
          0.004729071166366339,
          0.0036694908048957586,
          0.002873339457437396,
          0.0022700910922139883,
          0.0018091186648234725,
          0.001453802571631968,
          0.0011775934835895896,
          0.000961072975769639,
          0.0007900698692537844,
          0.0006540109170600772,
          0.0005451156757771969,
          0.00045743671944364905,
          0.000386520434403792,
          0.0003289342566858977,
          0.00028201169334352016,
          0.00024365319404751062,
          0.000212210783502087,
          0.00018635217566043139,
          0.00016501295613124967,
          0.00014733105490449816,
          0.00013261042477097362,
          0.00012027924094581977,
          0.00010988032590830699,
          0.00010104067769134417,
          0.0000934559793677181,
          0.00008688404341228306,
          0.00008113026706269011,
          0.00007603799895150587,
          0.0000714855341357179,
          0.00006737642252119258,
          0.00006363645661622286,
          0.00006020584260113537,
          0.000057039771490963176,
          0.000054104370065033436,
          0.000051372429879847914,
          0.00004882183930021711,
          0.000046437224227702245,
          0.000044204367441125214,
          0.000042111885704798624,
          0.00004014949081465602,
          0.000038308873627102,
          0.0000365822488674894,
          0.00003496272620395757,
          0.000033443393476773053
         ],
         "yaxis": "y"
        },
        {
         "hovertemplate": "variable=2<br>index=%{x}<br>value=%{y}<extra></extra>",
         "legendgroup": "2",
         "line": {
          "color": "#00cc96",
          "dash": "solid"
         },
         "marker": {
          "symbol": "circle"
         },
         "mode": "lines",
         "name": "2",
         "orientation": "v",
         "showlegend": true,
         "type": "scatter",
         "x": [
          0,
          1,
          2,
          3,
          4,
          5,
          6,
          7,
          8,
          9,
          10,
          11,
          12,
          13,
          14,
          15,
          16,
          17,
          18,
          19,
          20,
          21,
          22,
          23,
          24,
          25,
          26,
          27,
          28,
          29,
          30,
          31,
          32,
          33,
          34,
          35,
          36,
          37,
          38,
          39,
          40,
          41,
          42,
          43,
          44,
          45,
          46,
          47,
          48,
          49,
          50,
          51,
          52,
          53,
          54,
          55,
          56,
          57,
          58,
          59,
          60,
          61,
          62,
          63,
          64,
          65,
          66,
          67,
          68,
          69,
          70,
          71,
          72,
          73,
          74,
          75,
          76,
          77,
          78,
          79,
          80,
          81,
          82,
          83,
          84,
          85,
          86,
          87,
          88,
          89,
          90,
          91,
          92,
          93,
          94,
          95,
          96,
          97,
          98,
          99,
          100,
          101,
          102,
          103,
          104,
          105,
          106,
          107,
          108,
          109,
          110,
          111,
          112,
          113,
          114,
          115,
          116,
          117,
          118,
          119
         ],
         "xaxis": "x",
         "y": [
          0.9916979074478149,
          0.9917313456535339,
          0.9917654395103455,
          0.9917997121810913,
          0.9918349981307983,
          0.9918709993362427,
          0.991908073425293,
          0.9919458031654358,
          0.9919843077659607,
          0.9920235872268677,
          0.9920641779899597,
          0.9921061992645264,
          0.9921488761901855,
          0.9921931624412537,
          0.9922388195991516,
          0.992286205291748,
          0.9923352599143982,
          0.9923861026763916,
          0.9924391508102417,
          0.9924945831298828,
          0.9925522804260254,
          0.9926127195358276,
          0.9926760792732239,
          0.9927425384521484,
          0.9928120970726013,
          0.9928848147392273,
          0.9929619431495667,
          0.9930422306060791,
          0.993126392364502,
          0.9932147264480591,
          0.9933070540428162,
          0.9934032559394836,
          0.9935035109519958,
          0.9936072826385498,
          0.9937148690223694,
          0.9938259124755859,
          0.9939396381378174,
          0.9940557479858398,
          0.9941739439964294,
          0.9942933917045593,
          0.994413435459137,
          0.9945334196090698,
          0.994652271270752,
          0.9947690367698669,
          0.9948827028274536,
          0.9949925541877747,
          0.995096743106842,
          0.9951943755149841,
          0.9952847361564636,
          0.9953655004501343,
          0.995435893535614,
          0.9954946041107178,
          0.9955397248268127,
          0.995570719242096,
          0.9955846667289734,
          0.9955804944038391,
          0.9955561757087708,
          0.9955097436904907,
          0.9954387545585632,
          0.9953399896621704,
          0.9952104687690735,
          0.9950469732284546,
          0.9948437213897705,
          0.9945967197418213,
          0.9942994117736816,
          0.9939448237419128,
          0.9935238361358643,
          0.9930275082588196,
          0.9924429059028625,
          0.9917580485343933,
          0.9909552931785583,
          0.9900174736976624,
          0.9889222383499146,
          0.9876460433006287,
          0.986158549785614,
          0.9844279885292053,
          0.982416033744812,
          0.9800800681114197,
          0.9773708581924438,
          0.9742342829704285,
          0.9706078171730042,
          0.966424822807312,
          0.9616125822067261,
          0.9560913443565369,
          0.9497784972190857,
          0.9425902962684631,
          0.9344410300254822,
          0.9252468347549438,
          0.9149280190467834,
          0.9034123420715332,
          0.8906406760215759,
          0.8765622973442078,
          0.8611458539962769,
          0.8443775177001953,
          0.8262700438499451,
          0.8068488240242004,
          0.7861795425415039,
          0.7643364071846008,
          0.741428017616272,
          0.7175788283348083,
          0.6929322481155396,
          0.6676617860794067,
          0.6419124007225037,
          0.615883469581604,
          0.5897395014762878,
          0.563653290271759,
          0.537792444229126,
          0.5123021602630615,
          0.48732122778892517,
          0.46296438574790955,
          0.4393353760242462,
          0.4165116548538208,
          0.39455392956733704,
          0.37351155281066895,
          0.3534068763256073,
          0.3342631161212921,
          0.3160807192325592,
          0.29884058237075806,
          0.28254184126853943,
          0.2671474516391754
         ],
         "yaxis": "y"
        },
        {
         "hovertemplate": "variable=3<br>index=%{x}<br>value=%{y}<extra></extra>",
         "legendgroup": "3",
         "line": {
          "color": "#ab63fa",
          "dash": "solid"
         },
         "marker": {
          "symbol": "circle"
         },
         "mode": "lines",
         "name": "3",
         "orientation": "v",
         "showlegend": true,
         "type": "scatter",
         "x": [
          0,
          1,
          2,
          3,
          4,
          5,
          6,
          7,
          8,
          9,
          10,
          11,
          12,
          13,
          14,
          15,
          16,
          17,
          18,
          19,
          20,
          21,
          22,
          23,
          24,
          25,
          26,
          27,
          28,
          29,
          30,
          31,
          32,
          33,
          34,
          35,
          36,
          37,
          38,
          39,
          40,
          41,
          42,
          43,
          44,
          45,
          46,
          47,
          48,
          49,
          50,
          51,
          52,
          53,
          54,
          55,
          56,
          57,
          58,
          59,
          60,
          61,
          62,
          63,
          64,
          65,
          66,
          67,
          68,
          69,
          70,
          71,
          72,
          73,
          74,
          75,
          76,
          77,
          78,
          79,
          80,
          81,
          82,
          83,
          84,
          85,
          86,
          87,
          88,
          89,
          90,
          91,
          92,
          93,
          94,
          95,
          96,
          97,
          98,
          99,
          100,
          101,
          102,
          103,
          104,
          105,
          106,
          107,
          108,
          109,
          110,
          111,
          112,
          113,
          114,
          115,
          116,
          117,
          118,
          119
         ],
         "xaxis": "x",
         "y": [
          0.9746212363243103,
          0.9745346307754517,
          0.9744481444358826,
          0.9743607640266418,
          0.974274754524231,
          0.9741880893707275,
          0.974101185798645,
          0.9740153551101685,
          0.9739285111427307,
          0.9738420248031616,
          0.9737560153007507,
          0.9736705422401428,
          0.9735854864120483,
          0.9735006093978882,
          0.9734171032905579,
          0.9733341932296753,
          0.9732530117034912,
          0.9731728434562683,
          0.9730945229530334,
          0.9730194807052612,
          0.9729459881782532,
          0.9728769063949585,
          0.9728111624717712,
          0.9727497696876526,
          0.9726927280426025,
          0.9726424217224121,
          0.9725984334945679,
          0.9725616574287415,
          0.9725334644317627,
          0.9725135564804077,
          0.972505509853363,
          0.9725072383880615,
          0.9725219011306763,
          0.9725492596626282,
          0.9725923538208008,
          0.9726515412330627,
          0.972727358341217,
          0.9728218913078308,
          0.9729363918304443,
          0.9730715751647949,
          0.9732304215431213,
          0.9734125137329102,
          0.9736199378967285,
          0.9738540053367615,
          0.9741144776344299,
          0.9744040966033936,
          0.9747222661972046,
          0.9750696420669556,
          0.9754461050033569,
          0.9758517742156982,
          0.9762859344482422,
          0.9767473340034485,
          0.9772337675094604,
          0.9777431488037109,
          0.9782741665840149,
          0.9788228869438171,
          0.979385495185852,
          0.9799582362174988,
          0.9805377125740051,
          0.9811174273490906,
          0.9816948771476746,
          0.9822636246681213,
          0.9828190207481384,
          0.9833557605743408,
          0.9838681221008301,
          0.984350323677063,
          0.9847967624664307,
          0.9852011799812317,
          0.9855569005012512,
          0.9858561754226685,
          0.9860917925834656,
          0.9862545728683472,
          0.9863342642784119,
          0.9863194227218628,
          0.9861974120140076,
          0.9859533905982971,
          0.9855717420578003,
          0.985032320022583,
          0.9843144416809082,
          0.983393132686615,
          0.9822427034378052,
          0.9808321595191956,
          0.979127824306488,
          0.977092981338501,
          0.9746862649917603,
          0.9718644618988037,
          0.9685786962509155,
          0.9647790193557739,
          0.9604116678237915,
          0.9554182887077332,
          0.9497437477111816,
          0.9433218240737915,
          0.936099648475647,
          0.9280116558074951,
          0.9189988970756531,
          0.9090075492858887,
          0.8979915976524353,
          0.8859015703201294,
          0.8727036118507385,
          0.8583751916885376,
          0.842908501625061,
          0.8263043761253357,
          0.8085759878158569,
          0.7897660732269287,
          0.7699267864227295,
          0.7491230964660645,
          0.7274526357650757,
          0.7050063014030457,
          0.681908130645752,
          0.6582831144332886,
          0.6342605352401733,
          0.6099866628646851,
          0.5855982303619385,
          0.561240017414093,
          0.5370431542396545,
          0.5131365656852722,
          0.4896306097507477,
          0.4666382670402527,
          0.4442446231842041,
          0.42252880334854126
         ],
         "yaxis": "y"
        },
        {
         "hovertemplate": "variable=4<br>index=%{x}<br>value=%{y}<extra></extra>",
         "legendgroup": "4",
         "line": {
          "color": "#FFA15A",
          "dash": "solid"
         },
         "marker": {
          "symbol": "circle"
         },
         "mode": "lines",
         "name": "4",
         "orientation": "v",
         "showlegend": true,
         "type": "scatter",
         "x": [
          0,
          1,
          2,
          3,
          4,
          5,
          6,
          7,
          8,
          9,
          10,
          11,
          12,
          13,
          14,
          15,
          16,
          17,
          18,
          19,
          20,
          21,
          22,
          23,
          24,
          25,
          26,
          27,
          28,
          29,
          30,
          31,
          32,
          33,
          34,
          35,
          36,
          37,
          38,
          39,
          40,
          41,
          42,
          43,
          44,
          45,
          46,
          47,
          48,
          49,
          50,
          51,
          52,
          53,
          54,
          55,
          56,
          57,
          58,
          59,
          60,
          61,
          62,
          63,
          64,
          65,
          66,
          67,
          68,
          69,
          70,
          71,
          72,
          73,
          74,
          75,
          76,
          77,
          78,
          79,
          80,
          81,
          82,
          83,
          84,
          85,
          86,
          87,
          88,
          89,
          90,
          91,
          92,
          93,
          94,
          95,
          96,
          97,
          98,
          99,
          100,
          101,
          102,
          103,
          104,
          105,
          106,
          107,
          108,
          109,
          110,
          111,
          112,
          113,
          114,
          115,
          116,
          117,
          118,
          119
         ],
         "xaxis": "x",
         "y": [
          0.9996910095214844,
          0.9996916055679321,
          0.9996920824050903,
          0.999692440032959,
          0.9996926784515381,
          0.9996927976608276,
          0.9996926784515381,
          0.999692440032959,
          0.9996922016143799,
          0.9996916055679321,
          0.9996911287307739,
          0.9996902942657471,
          0.9996894598007202,
          0.9996881484985352,
          0.9996869564056396,
          0.9996852874755859,
          0.9996834993362427,
          0.9996815919876099,
          0.9996793270111084,
          0.9996767044067383,
          0.9996739625930786,
          0.9996708631515503,
          0.9996672868728638,
          0.9996633529663086,
          0.9996592998504639,
          0.9996544122695923,
          0.9996488094329834,
          0.9996429681777954,
          0.9996362924575806,
          0.9996292591094971,
          0.9996210336685181,
          0.9996121525764465,
          0.9996023774147034,
          0.9995915293693542,
          0.9995794892311096,
          0.9995658993721008,
          0.9995508790016174,
          0.9995342493057251,
          0.9995155334472656,
          0.9994944334030151,
          0.9994710087776184,
          0.999444305896759,
          0.9994139671325684,
          0.9993792772293091,
          0.9993398785591125,
          0.9992942810058594,
          0.9992413520812988,
          0.9991791844367981,
          0.9991058707237244,
          0.9990190267562866,
          0.998914361000061,
          0.9987868666648865,
          0.9986302852630615,
          0.998434841632843,
          0.9981880784034729,
          0.997870922088623,
          0.9974574446678162,
          0.9969078898429871,
          0.9961645603179932,
          0.9951392412185669,
          0.9936978220939636,
          0.991630494594574,
          0.9886084794998169,
          0.9841118454933167,
          0.9773149490356445,
          0.9669159650802612,
          0.9508930444717407,
          0.9262256622314453,
          0.8887070417404175,
          0.8332354426383972,
          0.7551926374435425,
          0.6534357070922852,
          0.5336964130401611,
          0.40906232595443726,
          0.29501327872276306,
          0.2022942453622818,
          0.13380025327205658,
          0.08659274876117706,
          0.055490244179964066,
          0.035520393401384354,
          0.02285529300570488,
          0.0148432282730937,
          0.009757225401699543,
          0.006503371521830559,
          0.004399482160806656,
          0.0030217233579605818,
          0.0021071338560432196,
          0.0014909675810486078,
          0.0010697109391912818,
          0.0007775092963129282,
          0.0005720791523344815,
          0.0004259886627551168,
          0.00032106583239510655,
          0.00024513035896234214,
          0.00018985581118613482,
          0.00014944547729101032,
          0.00011978438124060631,
          0.00009793877688935027,
          0.00008178892312571406,
          0.00006979439785936847,
          0.000060838545323349535,
          0.00005410641824710183,
          0.00004900202475255355,
          0.00004508749407250434,
          0.00004204088691039942,
          0.00003962511254940182,
          0.00003766395093407482,
          0.00003602807555580512,
          0.00003462424501776695,
          0.0000333842690452002,
          0.000032260828447761014,
          0.000031220653909258544,
          0.000030240695195971057,
          0.000029306236683623865,
          0.000028407621357473545,
          0.000027538198992260732,
          0.000026694408006733283,
          0.000025874907805700786,
          0.000025078192265937105,
          0.000024304352336912416
         ],
         "yaxis": "y"
        }
       ],
       "layout": {
        "legend": {
         "title": {
          "text": "variable"
         },
         "tracegroupgap": 0
        },
        "margin": {
         "t": 60
        },
        "template": {
         "data": {
          "bar": [
           {
            "error_x": {
             "color": "#2a3f5f"
            },
            "error_y": {
             "color": "#2a3f5f"
            },
            "marker": {
             "line": {
              "color": "#E5ECF6",
              "width": 0.5
             },
             "pattern": {
              "fillmode": "overlay",
              "size": 10,
              "solidity": 0.2
             }
            },
            "type": "bar"
           }
          ],
          "barpolar": [
           {
            "marker": {
             "line": {
              "color": "#E5ECF6",
              "width": 0.5
             },
             "pattern": {
              "fillmode": "overlay",
              "size": 10,
              "solidity": 0.2
             }
            },
            "type": "barpolar"
           }
          ],
          "carpet": [
           {
            "aaxis": {
             "endlinecolor": "#2a3f5f",
             "gridcolor": "white",
             "linecolor": "white",
             "minorgridcolor": "white",
             "startlinecolor": "#2a3f5f"
            },
            "baxis": {
             "endlinecolor": "#2a3f5f",
             "gridcolor": "white",
             "linecolor": "white",
             "minorgridcolor": "white",
             "startlinecolor": "#2a3f5f"
            },
            "type": "carpet"
           }
          ],
          "choropleth": [
           {
            "colorbar": {
             "outlinewidth": 0,
             "ticks": ""
            },
            "type": "choropleth"
           }
          ],
          "contour": [
           {
            "colorbar": {
             "outlinewidth": 0,
             "ticks": ""
            },
            "colorscale": [
             [
              0,
              "#0d0887"
             ],
             [
              0.1111111111111111,
              "#46039f"
             ],
             [
              0.2222222222222222,
              "#7201a8"
             ],
             [
              0.3333333333333333,
              "#9c179e"
             ],
             [
              0.4444444444444444,
              "#bd3786"
             ],
             [
              0.5555555555555556,
              "#d8576b"
             ],
             [
              0.6666666666666666,
              "#ed7953"
             ],
             [
              0.7777777777777778,
              "#fb9f3a"
             ],
             [
              0.8888888888888888,
              "#fdca26"
             ],
             [
              1,
              "#f0f921"
             ]
            ],
            "type": "contour"
           }
          ],
          "contourcarpet": [
           {
            "colorbar": {
             "outlinewidth": 0,
             "ticks": ""
            },
            "type": "contourcarpet"
           }
          ],
          "heatmap": [
           {
            "colorbar": {
             "outlinewidth": 0,
             "ticks": ""
            },
            "colorscale": [
             [
              0,
              "#0d0887"
             ],
             [
              0.1111111111111111,
              "#46039f"
             ],
             [
              0.2222222222222222,
              "#7201a8"
             ],
             [
              0.3333333333333333,
              "#9c179e"
             ],
             [
              0.4444444444444444,
              "#bd3786"
             ],
             [
              0.5555555555555556,
              "#d8576b"
             ],
             [
              0.6666666666666666,
              "#ed7953"
             ],
             [
              0.7777777777777778,
              "#fb9f3a"
             ],
             [
              0.8888888888888888,
              "#fdca26"
             ],
             [
              1,
              "#f0f921"
             ]
            ],
            "type": "heatmap"
           }
          ],
          "heatmapgl": [
           {
            "colorbar": {
             "outlinewidth": 0,
             "ticks": ""
            },
            "colorscale": [
             [
              0,
              "#0d0887"
             ],
             [
              0.1111111111111111,
              "#46039f"
             ],
             [
              0.2222222222222222,
              "#7201a8"
             ],
             [
              0.3333333333333333,
              "#9c179e"
             ],
             [
              0.4444444444444444,
              "#bd3786"
             ],
             [
              0.5555555555555556,
              "#d8576b"
             ],
             [
              0.6666666666666666,
              "#ed7953"
             ],
             [
              0.7777777777777778,
              "#fb9f3a"
             ],
             [
              0.8888888888888888,
              "#fdca26"
             ],
             [
              1,
              "#f0f921"
             ]
            ],
            "type": "heatmapgl"
           }
          ],
          "histogram": [
           {
            "marker": {
             "pattern": {
              "fillmode": "overlay",
              "size": 10,
              "solidity": 0.2
             }
            },
            "type": "histogram"
           }
          ],
          "histogram2d": [
           {
            "colorbar": {
             "outlinewidth": 0,
             "ticks": ""
            },
            "colorscale": [
             [
              0,
              "#0d0887"
             ],
             [
              0.1111111111111111,
              "#46039f"
             ],
             [
              0.2222222222222222,
              "#7201a8"
             ],
             [
              0.3333333333333333,
              "#9c179e"
             ],
             [
              0.4444444444444444,
              "#bd3786"
             ],
             [
              0.5555555555555556,
              "#d8576b"
             ],
             [
              0.6666666666666666,
              "#ed7953"
             ],
             [
              0.7777777777777778,
              "#fb9f3a"
             ],
             [
              0.8888888888888888,
              "#fdca26"
             ],
             [
              1,
              "#f0f921"
             ]
            ],
            "type": "histogram2d"
           }
          ],
          "histogram2dcontour": [
           {
            "colorbar": {
             "outlinewidth": 0,
             "ticks": ""
            },
            "colorscale": [
             [
              0,
              "#0d0887"
             ],
             [
              0.1111111111111111,
              "#46039f"
             ],
             [
              0.2222222222222222,
              "#7201a8"
             ],
             [
              0.3333333333333333,
              "#9c179e"
             ],
             [
              0.4444444444444444,
              "#bd3786"
             ],
             [
              0.5555555555555556,
              "#d8576b"
             ],
             [
              0.6666666666666666,
              "#ed7953"
             ],
             [
              0.7777777777777778,
              "#fb9f3a"
             ],
             [
              0.8888888888888888,
              "#fdca26"
             ],
             [
              1,
              "#f0f921"
             ]
            ],
            "type": "histogram2dcontour"
           }
          ],
          "mesh3d": [
           {
            "colorbar": {
             "outlinewidth": 0,
             "ticks": ""
            },
            "type": "mesh3d"
           }
          ],
          "parcoords": [
           {
            "line": {
             "colorbar": {
              "outlinewidth": 0,
              "ticks": ""
             }
            },
            "type": "parcoords"
           }
          ],
          "pie": [
           {
            "automargin": true,
            "type": "pie"
           }
          ],
          "scatter": [
           {
            "fillpattern": {
             "fillmode": "overlay",
             "size": 10,
             "solidity": 0.2
            },
            "type": "scatter"
           }
          ],
          "scatter3d": [
           {
            "line": {
             "colorbar": {
              "outlinewidth": 0,
              "ticks": ""
             }
            },
            "marker": {
             "colorbar": {
              "outlinewidth": 0,
              "ticks": ""
             }
            },
            "type": "scatter3d"
           }
          ],
          "scattercarpet": [
           {
            "marker": {
             "colorbar": {
              "outlinewidth": 0,
              "ticks": ""
             }
            },
            "type": "scattercarpet"
           }
          ],
          "scattergeo": [
           {
            "marker": {
             "colorbar": {
              "outlinewidth": 0,
              "ticks": ""
             }
            },
            "type": "scattergeo"
           }
          ],
          "scattergl": [
           {
            "marker": {
             "colorbar": {
              "outlinewidth": 0,
              "ticks": ""
             }
            },
            "type": "scattergl"
           }
          ],
          "scattermapbox": [
           {
            "marker": {
             "colorbar": {
              "outlinewidth": 0,
              "ticks": ""
             }
            },
            "type": "scattermapbox"
           }
          ],
          "scatterpolar": [
           {
            "marker": {
             "colorbar": {
              "outlinewidth": 0,
              "ticks": ""
             }
            },
            "type": "scatterpolar"
           }
          ],
          "scatterpolargl": [
           {
            "marker": {
             "colorbar": {
              "outlinewidth": 0,
              "ticks": ""
             }
            },
            "type": "scatterpolargl"
           }
          ],
          "scatterternary": [
           {
            "marker": {
             "colorbar": {
              "outlinewidth": 0,
              "ticks": ""
             }
            },
            "type": "scatterternary"
           }
          ],
          "surface": [
           {
            "colorbar": {
             "outlinewidth": 0,
             "ticks": ""
            },
            "colorscale": [
             [
              0,
              "#0d0887"
             ],
             [
              0.1111111111111111,
              "#46039f"
             ],
             [
              0.2222222222222222,
              "#7201a8"
             ],
             [
              0.3333333333333333,
              "#9c179e"
             ],
             [
              0.4444444444444444,
              "#bd3786"
             ],
             [
              0.5555555555555556,
              "#d8576b"
             ],
             [
              0.6666666666666666,
              "#ed7953"
             ],
             [
              0.7777777777777778,
              "#fb9f3a"
             ],
             [
              0.8888888888888888,
              "#fdca26"
             ],
             [
              1,
              "#f0f921"
             ]
            ],
            "type": "surface"
           }
          ],
          "table": [
           {
            "cells": {
             "fill": {
              "color": "#EBF0F8"
             },
             "line": {
              "color": "white"
             }
            },
            "header": {
             "fill": {
              "color": "#C8D4E3"
             },
             "line": {
              "color": "white"
             }
            },
            "type": "table"
           }
          ]
         },
         "layout": {
          "annotationdefaults": {
           "arrowcolor": "#2a3f5f",
           "arrowhead": 0,
           "arrowwidth": 1
          },
          "autotypenumbers": "strict",
          "coloraxis": {
           "colorbar": {
            "outlinewidth": 0,
            "ticks": ""
           }
          },
          "colorscale": {
           "diverging": [
            [
             0,
             "#8e0152"
            ],
            [
             0.1,
             "#c51b7d"
            ],
            [
             0.2,
             "#de77ae"
            ],
            [
             0.3,
             "#f1b6da"
            ],
            [
             0.4,
             "#fde0ef"
            ],
            [
             0.5,
             "#f7f7f7"
            ],
            [
             0.6,
             "#e6f5d0"
            ],
            [
             0.7,
             "#b8e186"
            ],
            [
             0.8,
             "#7fbc41"
            ],
            [
             0.9,
             "#4d9221"
            ],
            [
             1,
             "#276419"
            ]
           ],
           "sequential": [
            [
             0,
             "#0d0887"
            ],
            [
             0.1111111111111111,
             "#46039f"
            ],
            [
             0.2222222222222222,
             "#7201a8"
            ],
            [
             0.3333333333333333,
             "#9c179e"
            ],
            [
             0.4444444444444444,
             "#bd3786"
            ],
            [
             0.5555555555555556,
             "#d8576b"
            ],
            [
             0.6666666666666666,
             "#ed7953"
            ],
            [
             0.7777777777777778,
             "#fb9f3a"
            ],
            [
             0.8888888888888888,
             "#fdca26"
            ],
            [
             1,
             "#f0f921"
            ]
           ],
           "sequentialminus": [
            [
             0,
             "#0d0887"
            ],
            [
             0.1111111111111111,
             "#46039f"
            ],
            [
             0.2222222222222222,
             "#7201a8"
            ],
            [
             0.3333333333333333,
             "#9c179e"
            ],
            [
             0.4444444444444444,
             "#bd3786"
            ],
            [
             0.5555555555555556,
             "#d8576b"
            ],
            [
             0.6666666666666666,
             "#ed7953"
            ],
            [
             0.7777777777777778,
             "#fb9f3a"
            ],
            [
             0.8888888888888888,
             "#fdca26"
            ],
            [
             1,
             "#f0f921"
            ]
           ]
          },
          "colorway": [
           "#636efa",
           "#EF553B",
           "#00cc96",
           "#ab63fa",
           "#FFA15A",
           "#19d3f3",
           "#FF6692",
           "#B6E880",
           "#FF97FF",
           "#FECB52"
          ],
          "font": {
           "color": "#2a3f5f"
          },
          "geo": {
           "bgcolor": "white",
           "lakecolor": "white",
           "landcolor": "#E5ECF6",
           "showlakes": true,
           "showland": true,
           "subunitcolor": "white"
          },
          "hoverlabel": {
           "align": "left"
          },
          "hovermode": "closest",
          "mapbox": {
           "style": "light"
          },
          "paper_bgcolor": "white",
          "plot_bgcolor": "#E5ECF6",
          "polar": {
           "angularaxis": {
            "gridcolor": "white",
            "linecolor": "white",
            "ticks": ""
           },
           "bgcolor": "#E5ECF6",
           "radialaxis": {
            "gridcolor": "white",
            "linecolor": "white",
            "ticks": ""
           }
          },
          "scene": {
           "xaxis": {
            "backgroundcolor": "#E5ECF6",
            "gridcolor": "white",
            "gridwidth": 2,
            "linecolor": "white",
            "showbackground": true,
            "ticks": "",
            "zerolinecolor": "white"
           },
           "yaxis": {
            "backgroundcolor": "#E5ECF6",
            "gridcolor": "white",
            "gridwidth": 2,
            "linecolor": "white",
            "showbackground": true,
            "ticks": "",
            "zerolinecolor": "white"
           },
           "zaxis": {
            "backgroundcolor": "#E5ECF6",
            "gridcolor": "white",
            "gridwidth": 2,
            "linecolor": "white",
            "showbackground": true,
            "ticks": "",
            "zerolinecolor": "white"
           }
          },
          "shapedefaults": {
           "line": {
            "color": "#2a3f5f"
           }
          },
          "ternary": {
           "aaxis": {
            "gridcolor": "white",
            "linecolor": "white",
            "ticks": ""
           },
           "baxis": {
            "gridcolor": "white",
            "linecolor": "white",
            "ticks": ""
           },
           "bgcolor": "#E5ECF6",
           "caxis": {
            "gridcolor": "white",
            "linecolor": "white",
            "ticks": ""
           }
          },
          "title": {
           "x": 0.05
          },
          "xaxis": {
           "automargin": true,
           "gridcolor": "white",
           "linecolor": "white",
           "ticks": "",
           "title": {
            "standoff": 15
           },
           "zerolinecolor": "white",
           "zerolinewidth": 2
          },
          "yaxis": {
           "automargin": true,
           "gridcolor": "white",
           "linecolor": "white",
           "ticks": "",
           "title": {
            "standoff": 15
           },
           "zerolinecolor": "white",
           "zerolinewidth": 2
          }
         }
        },
        "xaxis": {
         "anchor": "y",
         "domain": [
          0,
          1
         ],
         "title": {
          "text": "index"
         }
        },
        "yaxis": {
         "anchor": "x",
         "domain": [
          0,
          1
         ],
         "title": {
          "text": "value"
         }
        }
       }
      },
      "text/html": [
       "<div>                            <div id=\"f9c575d8-a8d8-4efc-ab97-8be9faa63806\" class=\"plotly-graph-div\" style=\"height:525px; width:100%;\"></div>            <script type=\"text/javascript\">                require([\"plotly\"], function(Plotly) {                    window.PLOTLYENV=window.PLOTLYENV || {};                                    if (document.getElementById(\"f9c575d8-a8d8-4efc-ab97-8be9faa63806\")) {                    Plotly.newPlot(                        \"f9c575d8-a8d8-4efc-ab97-8be9faa63806\",                        [{\"hovertemplate\":\"variable=0\\u003cbr\\u003eindex=%{x}\\u003cbr\\u003evalue=%{y}\\u003cextra\\u003e\\u003c\\u002fextra\\u003e\",\"legendgroup\":\"0\",\"line\":{\"color\":\"#636efa\",\"dash\":\"solid\"},\"marker\":{\"symbol\":\"circle\"},\"mode\":\"lines\",\"name\":\"0\",\"orientation\":\"v\",\"showlegend\":true,\"x\":[0,1,2,3,4,5,6,7,8,9,10,11,12,13,14,15,16,17,18,19,20,21,22,23,24,25,26,27,28,29,30,31,32,33,34,35,36,37,38,39,40,41,42,43,44,45,46,47,48,49,50,51,52,53,54,55,56,57,58,59,60,61,62,63,64,65,66,67,68,69,70,71,72,73,74,75,76,77,78,79,80,81,82,83,84,85,86,87,88,89,90,91,92,93,94,95,96,97,98,99,100,101,102,103,104,105,106,107,108,109,110,111,112,113,114,115,116,117,118,119],\"xaxis\":\"x\",\"y\":[0.5197285413742065,0.5202462673187256,0.5207448601722717,0.5212165713310242,0.5216647386550903,0.5220931768417358,0.522500216960907,0.5228752493858337,0.5232367515563965,0.5235716104507446,0.5238849520683289,0.5241702795028687,0.5244408249855042,0.5246796607971191,0.5249066948890686,0.52510666847229,0.5252942442893982,0.525453507900238,0.525604784488678,0.5257290601730347,0.5258454084396362,0.525941789150238,0.5260224938392639,0.5261006355285645,0.5261582136154175,0.5262168049812317,0.5262615084648132,0.5263051390647888,0.5263429284095764,0.5263894200325012,0.5264282822608948,0.5264760851860046,0.5265222787857056,0.5265858769416809,0.5266544222831726,0.5267399549484253,0.526832640171051,0.5269416570663452,0.5270705223083496,0.5272092223167419,0.5273685455322266,0.52753746509552,0.527717649936676,0.5279142260551453,0.5281210541725159,0.5283293128013611,0.5285359025001526,0.528753936290741,0.528964638710022,0.5291623473167419,0.5293549299240112,0.5295272469520569,0.5296750664710999,0.5298044085502625,0.529900848865509,0.5299719572067261,0.5300000905990601,0.5299822092056274,0.5299180150032043,0.529788613319397,0.5295831561088562,0.5292826294898987,0.5288376808166504,0.5282285213470459,0.5274041891098022,0.5262906551361084,0.5248258113861084,0.5229036808013916,0.5204195976257324,0.5172231793403625,0.5131454467773438,0.5079684853553772,0.5014316439628601,0.4931890368461609,0.4828547239303589,0.46996456384658813,0.4539761245250702,0.4343787133693695,0.41068828105926514,0.3826259672641754,0.350241094827652,0.3140900433063507,0.27528953552246094,0.23546202480793,0.19647982716560364,0.16011838614940643,0.1277337223291397,0.10007341206073761,0.07728416472673416,0.059058547019958496,0.04481687396764755,0.033881254494190216,0.02558569796383381,0.019342290237545967,0.014664721675217152,0.011166220530867577,0.008547856472432613,0.006584153510630131,0.005105814430862665,0.003987968433648348,0.0031380022410303354,0.0024879907723516226,0.0019876521546393633,0.0015999387251213193,0.001297504990361631,0.001059947768226266,0.0008720336481928825,0.0007224158034659922,0.000602430198341608,0.000505594362039119,0.00042693590512499213,0.00036262732464820147,0.0003097381559200585,0.0002659789752215147,0.00022956469911150634,0.00019910227274522185,0.00017347490938846022,0.00015181305934675038,0.000133409965201281,0.00011770521086873487],\"yaxis\":\"y\",\"type\":\"scatter\"},{\"hovertemplate\":\"variable=1\\u003cbr\\u003eindex=%{x}\\u003cbr\\u003evalue=%{y}\\u003cextra\\u003e\\u003c\\u002fextra\\u003e\",\"legendgroup\":\"1\",\"line\":{\"color\":\"#EF553B\",\"dash\":\"solid\"},\"marker\":{\"symbol\":\"circle\"},\"mode\":\"lines\",\"name\":\"1\",\"orientation\":\"v\",\"showlegend\":true,\"x\":[0,1,2,3,4,5,6,7,8,9,10,11,12,13,14,15,16,17,18,19,20,21,22,23,24,25,26,27,28,29,30,31,32,33,34,35,36,37,38,39,40,41,42,43,44,45,46,47,48,49,50,51,52,53,54,55,56,57,58,59,60,61,62,63,64,65,66,67,68,69,70,71,72,73,74,75,76,77,78,79,80,81,82,83,84,85,86,87,88,89,90,91,92,93,94,95,96,97,98,99,100,101,102,103,104,105,106,107,108,109,110,111,112,113,114,115,116,117,118,119],\"xaxis\":\"x\",\"y\":[0.9987413287162781,0.998724639415741,0.9987064599990845,0.9986862540245056,0.9986644983291626,0.9986408352851868,0.9986146688461304,0.9985865354537964,0.9985559582710266,0.9985225796699524,0.9984862804412842,0.9984468817710876,0.9984042048454285,0.9983575940132141,0.9983067512512207,0.9982514977455139,0.9981911778450012,0.9981247782707214,0.9980524778366089,0.9979729056358337,0.9978857636451721,0.9977896213531494,0.9976832866668701,0.9975653886795044,0.9974343180656433,0.9972883462905884,0.9971248507499695,0.9969410300254822,0.996733546257019,0.9964983463287354,0.9962303042411804,0.9959235191345215,0.99556964635849,0.9951600432395935,0.994682252407074,0.9941214919090271,0.993459165096283,0.9926712512969971,0.9917269945144653,0.9905877113342285,0.9892024397850037,0.987505316734314,0.9854114651679993,0.9828084111213684,0.9795504808425903,0.9754441380500793,0.9702375531196594,0.9635976552963257,0.9550896883010864,0.9441505670547485,0.9300574660301208,0.9119059443473816,0.8885981440544128,0.8588701486587524,0.8213945031166077,0.7749555706977844,0.7188031077384949,0.6530701518058777,0.5791451334953308,0.4998721182346344,0.41926735639572144,0.3417320251464844,0.2711634039878845,0.21014906466007233,0.1597263216972351,0.11960757523775101,0.08863760530948639,0.06526760011911392,0.047923967242240906,0.03519303351640701,0.025910424068570137,0.019161902368068695,0.014256501570343971,0.010684051550924778,0.008071336895227432,0.00615043006837368,0.004729071166366339,0.0036694908048957586,0.002873339457437396,0.0022700910922139883,0.0018091186648234725,0.001453802571631968,0.0011775934835895896,0.000961072975769639,0.0007900698692537844,0.0006540109170600772,0.0005451156757771969,0.00045743671944364905,0.000386520434403792,0.0003289342566858977,0.00028201169334352016,0.00024365319404751062,0.000212210783502087,0.00018635217566043139,0.00016501295613124967,0.00014733105490449816,0.00013261042477097362,0.00012027924094581977,0.00010988032590830699,0.00010104067769134417,0.0000934559793677181,0.00008688404341228306,0.00008113026706269011,0.00007603799895150587,0.0000714855341357179,0.00006737642252119258,0.00006363645661622286,0.00006020584260113537,0.000057039771490963176,0.000054104370065033436,0.000051372429879847914,0.00004882183930021711,0.000046437224227702245,0.000044204367441125214,0.000042111885704798624,0.00004014949081465602,0.000038308873627102,0.0000365822488674894,0.00003496272620395757,0.000033443393476773053],\"yaxis\":\"y\",\"type\":\"scatter\"},{\"hovertemplate\":\"variable=2\\u003cbr\\u003eindex=%{x}\\u003cbr\\u003evalue=%{y}\\u003cextra\\u003e\\u003c\\u002fextra\\u003e\",\"legendgroup\":\"2\",\"line\":{\"color\":\"#00cc96\",\"dash\":\"solid\"},\"marker\":{\"symbol\":\"circle\"},\"mode\":\"lines\",\"name\":\"2\",\"orientation\":\"v\",\"showlegend\":true,\"x\":[0,1,2,3,4,5,6,7,8,9,10,11,12,13,14,15,16,17,18,19,20,21,22,23,24,25,26,27,28,29,30,31,32,33,34,35,36,37,38,39,40,41,42,43,44,45,46,47,48,49,50,51,52,53,54,55,56,57,58,59,60,61,62,63,64,65,66,67,68,69,70,71,72,73,74,75,76,77,78,79,80,81,82,83,84,85,86,87,88,89,90,91,92,93,94,95,96,97,98,99,100,101,102,103,104,105,106,107,108,109,110,111,112,113,114,115,116,117,118,119],\"xaxis\":\"x\",\"y\":[0.9916979074478149,0.9917313456535339,0.9917654395103455,0.9917997121810913,0.9918349981307983,0.9918709993362427,0.991908073425293,0.9919458031654358,0.9919843077659607,0.9920235872268677,0.9920641779899597,0.9921061992645264,0.9921488761901855,0.9921931624412537,0.9922388195991516,0.992286205291748,0.9923352599143982,0.9923861026763916,0.9924391508102417,0.9924945831298828,0.9925522804260254,0.9926127195358276,0.9926760792732239,0.9927425384521484,0.9928120970726013,0.9928848147392273,0.9929619431495667,0.9930422306060791,0.993126392364502,0.9932147264480591,0.9933070540428162,0.9934032559394836,0.9935035109519958,0.9936072826385498,0.9937148690223694,0.9938259124755859,0.9939396381378174,0.9940557479858398,0.9941739439964294,0.9942933917045593,0.994413435459137,0.9945334196090698,0.994652271270752,0.9947690367698669,0.9948827028274536,0.9949925541877747,0.995096743106842,0.9951943755149841,0.9952847361564636,0.9953655004501343,0.995435893535614,0.9954946041107178,0.9955397248268127,0.995570719242096,0.9955846667289734,0.9955804944038391,0.9955561757087708,0.9955097436904907,0.9954387545585632,0.9953399896621704,0.9952104687690735,0.9950469732284546,0.9948437213897705,0.9945967197418213,0.9942994117736816,0.9939448237419128,0.9935238361358643,0.9930275082588196,0.9924429059028625,0.9917580485343933,0.9909552931785583,0.9900174736976624,0.9889222383499146,0.9876460433006287,0.986158549785614,0.9844279885292053,0.982416033744812,0.9800800681114197,0.9773708581924438,0.9742342829704285,0.9706078171730042,0.966424822807312,0.9616125822067261,0.9560913443565369,0.9497784972190857,0.9425902962684631,0.9344410300254822,0.9252468347549438,0.9149280190467834,0.9034123420715332,0.8906406760215759,0.8765622973442078,0.8611458539962769,0.8443775177001953,0.8262700438499451,0.8068488240242004,0.7861795425415039,0.7643364071846008,0.741428017616272,0.7175788283348083,0.6929322481155396,0.6676617860794067,0.6419124007225037,0.615883469581604,0.5897395014762878,0.563653290271759,0.537792444229126,0.5123021602630615,0.48732122778892517,0.46296438574790955,0.4393353760242462,0.4165116548538208,0.39455392956733704,0.37351155281066895,0.3534068763256073,0.3342631161212921,0.3160807192325592,0.29884058237075806,0.28254184126853943,0.2671474516391754],\"yaxis\":\"y\",\"type\":\"scatter\"},{\"hovertemplate\":\"variable=3\\u003cbr\\u003eindex=%{x}\\u003cbr\\u003evalue=%{y}\\u003cextra\\u003e\\u003c\\u002fextra\\u003e\",\"legendgroup\":\"3\",\"line\":{\"color\":\"#ab63fa\",\"dash\":\"solid\"},\"marker\":{\"symbol\":\"circle\"},\"mode\":\"lines\",\"name\":\"3\",\"orientation\":\"v\",\"showlegend\":true,\"x\":[0,1,2,3,4,5,6,7,8,9,10,11,12,13,14,15,16,17,18,19,20,21,22,23,24,25,26,27,28,29,30,31,32,33,34,35,36,37,38,39,40,41,42,43,44,45,46,47,48,49,50,51,52,53,54,55,56,57,58,59,60,61,62,63,64,65,66,67,68,69,70,71,72,73,74,75,76,77,78,79,80,81,82,83,84,85,86,87,88,89,90,91,92,93,94,95,96,97,98,99,100,101,102,103,104,105,106,107,108,109,110,111,112,113,114,115,116,117,118,119],\"xaxis\":\"x\",\"y\":[0.9746212363243103,0.9745346307754517,0.9744481444358826,0.9743607640266418,0.974274754524231,0.9741880893707275,0.974101185798645,0.9740153551101685,0.9739285111427307,0.9738420248031616,0.9737560153007507,0.9736705422401428,0.9735854864120483,0.9735006093978882,0.9734171032905579,0.9733341932296753,0.9732530117034912,0.9731728434562683,0.9730945229530334,0.9730194807052612,0.9729459881782532,0.9728769063949585,0.9728111624717712,0.9727497696876526,0.9726927280426025,0.9726424217224121,0.9725984334945679,0.9725616574287415,0.9725334644317627,0.9725135564804077,0.972505509853363,0.9725072383880615,0.9725219011306763,0.9725492596626282,0.9725923538208008,0.9726515412330627,0.972727358341217,0.9728218913078308,0.9729363918304443,0.9730715751647949,0.9732304215431213,0.9734125137329102,0.9736199378967285,0.9738540053367615,0.9741144776344299,0.9744040966033936,0.9747222661972046,0.9750696420669556,0.9754461050033569,0.9758517742156982,0.9762859344482422,0.9767473340034485,0.9772337675094604,0.9777431488037109,0.9782741665840149,0.9788228869438171,0.979385495185852,0.9799582362174988,0.9805377125740051,0.9811174273490906,0.9816948771476746,0.9822636246681213,0.9828190207481384,0.9833557605743408,0.9838681221008301,0.984350323677063,0.9847967624664307,0.9852011799812317,0.9855569005012512,0.9858561754226685,0.9860917925834656,0.9862545728683472,0.9863342642784119,0.9863194227218628,0.9861974120140076,0.9859533905982971,0.9855717420578003,0.985032320022583,0.9843144416809082,0.983393132686615,0.9822427034378052,0.9808321595191956,0.979127824306488,0.977092981338501,0.9746862649917603,0.9718644618988037,0.9685786962509155,0.9647790193557739,0.9604116678237915,0.9554182887077332,0.9497437477111816,0.9433218240737915,0.936099648475647,0.9280116558074951,0.9189988970756531,0.9090075492858887,0.8979915976524353,0.8859015703201294,0.8727036118507385,0.8583751916885376,0.842908501625061,0.8263043761253357,0.8085759878158569,0.7897660732269287,0.7699267864227295,0.7491230964660645,0.7274526357650757,0.7050063014030457,0.681908130645752,0.6582831144332886,0.6342605352401733,0.6099866628646851,0.5855982303619385,0.561240017414093,0.5370431542396545,0.5131365656852722,0.4896306097507477,0.4666382670402527,0.4442446231842041,0.42252880334854126],\"yaxis\":\"y\",\"type\":\"scatter\"},{\"hovertemplate\":\"variable=4\\u003cbr\\u003eindex=%{x}\\u003cbr\\u003evalue=%{y}\\u003cextra\\u003e\\u003c\\u002fextra\\u003e\",\"legendgroup\":\"4\",\"line\":{\"color\":\"#FFA15A\",\"dash\":\"solid\"},\"marker\":{\"symbol\":\"circle\"},\"mode\":\"lines\",\"name\":\"4\",\"orientation\":\"v\",\"showlegend\":true,\"x\":[0,1,2,3,4,5,6,7,8,9,10,11,12,13,14,15,16,17,18,19,20,21,22,23,24,25,26,27,28,29,30,31,32,33,34,35,36,37,38,39,40,41,42,43,44,45,46,47,48,49,50,51,52,53,54,55,56,57,58,59,60,61,62,63,64,65,66,67,68,69,70,71,72,73,74,75,76,77,78,79,80,81,82,83,84,85,86,87,88,89,90,91,92,93,94,95,96,97,98,99,100,101,102,103,104,105,106,107,108,109,110,111,112,113,114,115,116,117,118,119],\"xaxis\":\"x\",\"y\":[0.9996910095214844,0.9996916055679321,0.9996920824050903,0.999692440032959,0.9996926784515381,0.9996927976608276,0.9996926784515381,0.999692440032959,0.9996922016143799,0.9996916055679321,0.9996911287307739,0.9996902942657471,0.9996894598007202,0.9996881484985352,0.9996869564056396,0.9996852874755859,0.9996834993362427,0.9996815919876099,0.9996793270111084,0.9996767044067383,0.9996739625930786,0.9996708631515503,0.9996672868728638,0.9996633529663086,0.9996592998504639,0.9996544122695923,0.9996488094329834,0.9996429681777954,0.9996362924575806,0.9996292591094971,0.9996210336685181,0.9996121525764465,0.9996023774147034,0.9995915293693542,0.9995794892311096,0.9995658993721008,0.9995508790016174,0.9995342493057251,0.9995155334472656,0.9994944334030151,0.9994710087776184,0.999444305896759,0.9994139671325684,0.9993792772293091,0.9993398785591125,0.9992942810058594,0.9992413520812988,0.9991791844367981,0.9991058707237244,0.9990190267562866,0.998914361000061,0.9987868666648865,0.9986302852630615,0.998434841632843,0.9981880784034729,0.997870922088623,0.9974574446678162,0.9969078898429871,0.9961645603179932,0.9951392412185669,0.9936978220939636,0.991630494594574,0.9886084794998169,0.9841118454933167,0.9773149490356445,0.9669159650802612,0.9508930444717407,0.9262256622314453,0.8887070417404175,0.8332354426383972,0.7551926374435425,0.6534357070922852,0.5336964130401611,0.40906232595443726,0.29501327872276306,0.2022942453622818,0.13380025327205658,0.08659274876117706,0.055490244179964066,0.035520393401384354,0.02285529300570488,0.0148432282730937,0.009757225401699543,0.006503371521830559,0.004399482160806656,0.0030217233579605818,0.0021071338560432196,0.0014909675810486078,0.0010697109391912818,0.0007775092963129282,0.0005720791523344815,0.0004259886627551168,0.00032106583239510655,0.00024513035896234214,0.00018985581118613482,0.00014944547729101032,0.00011978438124060631,0.00009793877688935027,0.00008178892312571406,0.00006979439785936847,0.000060838545323349535,0.00005410641824710183,0.00004900202475255355,0.00004508749407250434,0.00004204088691039942,0.00003962511254940182,0.00003766395093407482,0.00003602807555580512,0.00003462424501776695,0.0000333842690452002,0.000032260828447761014,0.000031220653909258544,0.000030240695195971057,0.000029306236683623865,0.000028407621357473545,0.000027538198992260732,0.000026694408006733283,0.000025874907805700786,0.000025078192265937105,0.000024304352336912416],\"yaxis\":\"y\",\"type\":\"scatter\"}],                        {\"template\":{\"data\":{\"histogram2dcontour\":[{\"type\":\"histogram2dcontour\",\"colorbar\":{\"outlinewidth\":0,\"ticks\":\"\"},\"colorscale\":[[0.0,\"#0d0887\"],[0.1111111111111111,\"#46039f\"],[0.2222222222222222,\"#7201a8\"],[0.3333333333333333,\"#9c179e\"],[0.4444444444444444,\"#bd3786\"],[0.5555555555555556,\"#d8576b\"],[0.6666666666666666,\"#ed7953\"],[0.7777777777777778,\"#fb9f3a\"],[0.8888888888888888,\"#fdca26\"],[1.0,\"#f0f921\"]]}],\"choropleth\":[{\"type\":\"choropleth\",\"colorbar\":{\"outlinewidth\":0,\"ticks\":\"\"}}],\"histogram2d\":[{\"type\":\"histogram2d\",\"colorbar\":{\"outlinewidth\":0,\"ticks\":\"\"},\"colorscale\":[[0.0,\"#0d0887\"],[0.1111111111111111,\"#46039f\"],[0.2222222222222222,\"#7201a8\"],[0.3333333333333333,\"#9c179e\"],[0.4444444444444444,\"#bd3786\"],[0.5555555555555556,\"#d8576b\"],[0.6666666666666666,\"#ed7953\"],[0.7777777777777778,\"#fb9f3a\"],[0.8888888888888888,\"#fdca26\"],[1.0,\"#f0f921\"]]}],\"heatmap\":[{\"type\":\"heatmap\",\"colorbar\":{\"outlinewidth\":0,\"ticks\":\"\"},\"colorscale\":[[0.0,\"#0d0887\"],[0.1111111111111111,\"#46039f\"],[0.2222222222222222,\"#7201a8\"],[0.3333333333333333,\"#9c179e\"],[0.4444444444444444,\"#bd3786\"],[0.5555555555555556,\"#d8576b\"],[0.6666666666666666,\"#ed7953\"],[0.7777777777777778,\"#fb9f3a\"],[0.8888888888888888,\"#fdca26\"],[1.0,\"#f0f921\"]]}],\"heatmapgl\":[{\"type\":\"heatmapgl\",\"colorbar\":{\"outlinewidth\":0,\"ticks\":\"\"},\"colorscale\":[[0.0,\"#0d0887\"],[0.1111111111111111,\"#46039f\"],[0.2222222222222222,\"#7201a8\"],[0.3333333333333333,\"#9c179e\"],[0.4444444444444444,\"#bd3786\"],[0.5555555555555556,\"#d8576b\"],[0.6666666666666666,\"#ed7953\"],[0.7777777777777778,\"#fb9f3a\"],[0.8888888888888888,\"#fdca26\"],[1.0,\"#f0f921\"]]}],\"contourcarpet\":[{\"type\":\"contourcarpet\",\"colorbar\":{\"outlinewidth\":0,\"ticks\":\"\"}}],\"contour\":[{\"type\":\"contour\",\"colorbar\":{\"outlinewidth\":0,\"ticks\":\"\"},\"colorscale\":[[0.0,\"#0d0887\"],[0.1111111111111111,\"#46039f\"],[0.2222222222222222,\"#7201a8\"],[0.3333333333333333,\"#9c179e\"],[0.4444444444444444,\"#bd3786\"],[0.5555555555555556,\"#d8576b\"],[0.6666666666666666,\"#ed7953\"],[0.7777777777777778,\"#fb9f3a\"],[0.8888888888888888,\"#fdca26\"],[1.0,\"#f0f921\"]]}],\"surface\":[{\"type\":\"surface\",\"colorbar\":{\"outlinewidth\":0,\"ticks\":\"\"},\"colorscale\":[[0.0,\"#0d0887\"],[0.1111111111111111,\"#46039f\"],[0.2222222222222222,\"#7201a8\"],[0.3333333333333333,\"#9c179e\"],[0.4444444444444444,\"#bd3786\"],[0.5555555555555556,\"#d8576b\"],[0.6666666666666666,\"#ed7953\"],[0.7777777777777778,\"#fb9f3a\"],[0.8888888888888888,\"#fdca26\"],[1.0,\"#f0f921\"]]}],\"mesh3d\":[{\"type\":\"mesh3d\",\"colorbar\":{\"outlinewidth\":0,\"ticks\":\"\"}}],\"scatter\":[{\"fillpattern\":{\"fillmode\":\"overlay\",\"size\":10,\"solidity\":0.2},\"type\":\"scatter\"}],\"parcoords\":[{\"type\":\"parcoords\",\"line\":{\"colorbar\":{\"outlinewidth\":0,\"ticks\":\"\"}}}],\"scatterpolargl\":[{\"type\":\"scatterpolargl\",\"marker\":{\"colorbar\":{\"outlinewidth\":0,\"ticks\":\"\"}}}],\"bar\":[{\"error_x\":{\"color\":\"#2a3f5f\"},\"error_y\":{\"color\":\"#2a3f5f\"},\"marker\":{\"line\":{\"color\":\"#E5ECF6\",\"width\":0.5},\"pattern\":{\"fillmode\":\"overlay\",\"size\":10,\"solidity\":0.2}},\"type\":\"bar\"}],\"scattergeo\":[{\"type\":\"scattergeo\",\"marker\":{\"colorbar\":{\"outlinewidth\":0,\"ticks\":\"\"}}}],\"scatterpolar\":[{\"type\":\"scatterpolar\",\"marker\":{\"colorbar\":{\"outlinewidth\":0,\"ticks\":\"\"}}}],\"histogram\":[{\"marker\":{\"pattern\":{\"fillmode\":\"overlay\",\"size\":10,\"solidity\":0.2}},\"type\":\"histogram\"}],\"scattergl\":[{\"type\":\"scattergl\",\"marker\":{\"colorbar\":{\"outlinewidth\":0,\"ticks\":\"\"}}}],\"scatter3d\":[{\"type\":\"scatter3d\",\"line\":{\"colorbar\":{\"outlinewidth\":0,\"ticks\":\"\"}},\"marker\":{\"colorbar\":{\"outlinewidth\":0,\"ticks\":\"\"}}}],\"scattermapbox\":[{\"type\":\"scattermapbox\",\"marker\":{\"colorbar\":{\"outlinewidth\":0,\"ticks\":\"\"}}}],\"scatterternary\":[{\"type\":\"scatterternary\",\"marker\":{\"colorbar\":{\"outlinewidth\":0,\"ticks\":\"\"}}}],\"scattercarpet\":[{\"type\":\"scattercarpet\",\"marker\":{\"colorbar\":{\"outlinewidth\":0,\"ticks\":\"\"}}}],\"carpet\":[{\"aaxis\":{\"endlinecolor\":\"#2a3f5f\",\"gridcolor\":\"white\",\"linecolor\":\"white\",\"minorgridcolor\":\"white\",\"startlinecolor\":\"#2a3f5f\"},\"baxis\":{\"endlinecolor\":\"#2a3f5f\",\"gridcolor\":\"white\",\"linecolor\":\"white\",\"minorgridcolor\":\"white\",\"startlinecolor\":\"#2a3f5f\"},\"type\":\"carpet\"}],\"table\":[{\"cells\":{\"fill\":{\"color\":\"#EBF0F8\"},\"line\":{\"color\":\"white\"}},\"header\":{\"fill\":{\"color\":\"#C8D4E3\"},\"line\":{\"color\":\"white\"}},\"type\":\"table\"}],\"barpolar\":[{\"marker\":{\"line\":{\"color\":\"#E5ECF6\",\"width\":0.5},\"pattern\":{\"fillmode\":\"overlay\",\"size\":10,\"solidity\":0.2}},\"type\":\"barpolar\"}],\"pie\":[{\"automargin\":true,\"type\":\"pie\"}]},\"layout\":{\"autotypenumbers\":\"strict\",\"colorway\":[\"#636efa\",\"#EF553B\",\"#00cc96\",\"#ab63fa\",\"#FFA15A\",\"#19d3f3\",\"#FF6692\",\"#B6E880\",\"#FF97FF\",\"#FECB52\"],\"font\":{\"color\":\"#2a3f5f\"},\"hovermode\":\"closest\",\"hoverlabel\":{\"align\":\"left\"},\"paper_bgcolor\":\"white\",\"plot_bgcolor\":\"#E5ECF6\",\"polar\":{\"bgcolor\":\"#E5ECF6\",\"angularaxis\":{\"gridcolor\":\"white\",\"linecolor\":\"white\",\"ticks\":\"\"},\"radialaxis\":{\"gridcolor\":\"white\",\"linecolor\":\"white\",\"ticks\":\"\"}},\"ternary\":{\"bgcolor\":\"#E5ECF6\",\"aaxis\":{\"gridcolor\":\"white\",\"linecolor\":\"white\",\"ticks\":\"\"},\"baxis\":{\"gridcolor\":\"white\",\"linecolor\":\"white\",\"ticks\":\"\"},\"caxis\":{\"gridcolor\":\"white\",\"linecolor\":\"white\",\"ticks\":\"\"}},\"coloraxis\":{\"colorbar\":{\"outlinewidth\":0,\"ticks\":\"\"}},\"colorscale\":{\"sequential\":[[0.0,\"#0d0887\"],[0.1111111111111111,\"#46039f\"],[0.2222222222222222,\"#7201a8\"],[0.3333333333333333,\"#9c179e\"],[0.4444444444444444,\"#bd3786\"],[0.5555555555555556,\"#d8576b\"],[0.6666666666666666,\"#ed7953\"],[0.7777777777777778,\"#fb9f3a\"],[0.8888888888888888,\"#fdca26\"],[1.0,\"#f0f921\"]],\"sequentialminus\":[[0.0,\"#0d0887\"],[0.1111111111111111,\"#46039f\"],[0.2222222222222222,\"#7201a8\"],[0.3333333333333333,\"#9c179e\"],[0.4444444444444444,\"#bd3786\"],[0.5555555555555556,\"#d8576b\"],[0.6666666666666666,\"#ed7953\"],[0.7777777777777778,\"#fb9f3a\"],[0.8888888888888888,\"#fdca26\"],[1.0,\"#f0f921\"]],\"diverging\":[[0,\"#8e0152\"],[0.1,\"#c51b7d\"],[0.2,\"#de77ae\"],[0.3,\"#f1b6da\"],[0.4,\"#fde0ef\"],[0.5,\"#f7f7f7\"],[0.6,\"#e6f5d0\"],[0.7,\"#b8e186\"],[0.8,\"#7fbc41\"],[0.9,\"#4d9221\"],[1,\"#276419\"]]},\"xaxis\":{\"gridcolor\":\"white\",\"linecolor\":\"white\",\"ticks\":\"\",\"title\":{\"standoff\":15},\"zerolinecolor\":\"white\",\"automargin\":true,\"zerolinewidth\":2},\"yaxis\":{\"gridcolor\":\"white\",\"linecolor\":\"white\",\"ticks\":\"\",\"title\":{\"standoff\":15},\"zerolinecolor\":\"white\",\"automargin\":true,\"zerolinewidth\":2},\"scene\":{\"xaxis\":{\"backgroundcolor\":\"#E5ECF6\",\"gridcolor\":\"white\",\"linecolor\":\"white\",\"showbackground\":true,\"ticks\":\"\",\"zerolinecolor\":\"white\",\"gridwidth\":2},\"yaxis\":{\"backgroundcolor\":\"#E5ECF6\",\"gridcolor\":\"white\",\"linecolor\":\"white\",\"showbackground\":true,\"ticks\":\"\",\"zerolinecolor\":\"white\",\"gridwidth\":2},\"zaxis\":{\"backgroundcolor\":\"#E5ECF6\",\"gridcolor\":\"white\",\"linecolor\":\"white\",\"showbackground\":true,\"ticks\":\"\",\"zerolinecolor\":\"white\",\"gridwidth\":2}},\"shapedefaults\":{\"line\":{\"color\":\"#2a3f5f\"}},\"annotationdefaults\":{\"arrowcolor\":\"#2a3f5f\",\"arrowhead\":0,\"arrowwidth\":1},\"geo\":{\"bgcolor\":\"white\",\"landcolor\":\"#E5ECF6\",\"subunitcolor\":\"white\",\"showland\":true,\"showlakes\":true,\"lakecolor\":\"white\"},\"title\":{\"x\":0.05},\"mapbox\":{\"style\":\"light\"}}},\"xaxis\":{\"anchor\":\"y\",\"domain\":[0.0,1.0],\"title\":{\"text\":\"index\"}},\"yaxis\":{\"anchor\":\"x\",\"domain\":[0.0,1.0],\"title\":{\"text\":\"value\"}},\"legend\":{\"title\":{\"text\":\"variable\"},\"tracegroupgap\":0},\"margin\":{\"t\":60}},                        {\"responsive\": true}                    ).then(function(){\n",
       "                            \n",
       "var gd = document.getElementById('f9c575d8-a8d8-4efc-ab97-8be9faa63806');\n",
       "var x = new MutationObserver(function (mutations, observer) {{\n",
       "        var display = window.getComputedStyle(gd).display;\n",
       "        if (!display || display === 'none') {{\n",
       "            console.log([gd, 'removed!']);\n",
       "            Plotly.purge(gd);\n",
       "            observer.disconnect();\n",
       "        }}\n",
       "}});\n",
       "\n",
       "// Listen for the removal of the full notebook cells\n",
       "var notebookContainer = gd.closest('#notebook-container');\n",
       "if (notebookContainer) {{\n",
       "    x.observe(notebookContainer, {childList: true});\n",
       "}}\n",
       "\n",
       "// Listen for the clearing of the current output cell\n",
       "var outputEl = gd.closest('.output');\n",
       "if (outputEl) {{\n",
       "    x.observe(outputEl, {childList: true});\n",
       "}}\n",
       "\n",
       "                        })                };                });            </script>        </div>"
      ]
     },
     "metadata": {},
     "output_type": "display_data"
    }
   ],
   "source": [
    "evals_for_scales = [eval(10138, scale=scale) for scale in range(120)]\n",
    "px.line(evals_for_scales)"
   ]
  },
  {
   "cell_type": "code",
   "execution_count": 85,
   "metadata": {},
   "outputs": [
    {
     "data": {
      "application/vnd.plotly.v1+json": {
       "config": {
        "plotlyServerURL": "https://plot.ly"
       },
       "data": [
        {
         "hovertemplate": "variable=0<br>index=%{x}<br>value=%{y}<extra></extra>",
         "legendgroup": "0",
         "line": {
          "color": "#636efa",
          "dash": "solid"
         },
         "marker": {
          "symbol": "circle"
         },
         "mode": "lines",
         "name": "0",
         "orientation": "v",
         "showlegend": true,
         "type": "scatter",
         "x": [
          0,
          1,
          2,
          3,
          4,
          5,
          6,
          7,
          8,
          9,
          10,
          11,
          12,
          13,
          14,
          15,
          16,
          17,
          18,
          19,
          20,
          21,
          22,
          23,
          24,
          25,
          26,
          27,
          28,
          29,
          30,
          31,
          32,
          33,
          34,
          35,
          36,
          37,
          38,
          39,
          40,
          41,
          42,
          43,
          44,
          45,
          46,
          47,
          48,
          49,
          50,
          51,
          52,
          53,
          54,
          55,
          56,
          57,
          58,
          59,
          60,
          61,
          62,
          63,
          64,
          65,
          66,
          67,
          68,
          69,
          70,
          71,
          72,
          73,
          74,
          75,
          76,
          77,
          78,
          79,
          80,
          81,
          82,
          83,
          84,
          85,
          86,
          87,
          88,
          89,
          90,
          91,
          92,
          93,
          94,
          95,
          96,
          97,
          98,
          99,
          100,
          101,
          102,
          103,
          104,
          105,
          106,
          107,
          108,
          109,
          110,
          111,
          112,
          113,
          114,
          115,
          116,
          117,
          118,
          119
         ],
         "xaxis": "x",
         "y": [
          0.5197285413742065,
          0.521493673324585,
          0.5233160853385925,
          0.5251874327659607,
          0.527130663394928,
          0.5291308164596558,
          0.5312021374702454,
          0.5333504676818848,
          0.535578727722168,
          0.5378861427307129,
          0.540283203125,
          0.5427714586257935,
          0.5453530550003052,
          0.5480451583862305,
          0.550835132598877,
          0.5537360906600952,
          0.5567536354064941,
          0.5598850250244141,
          0.5631443858146667,
          0.5665215849876404,
          0.5700352787971497,
          0.5736724734306335,
          0.5774487257003784,
          0.581360936164856,
          0.5854138731956482,
          0.5895903706550598,
          0.5939160585403442,
          0.5983755588531494,
          0.6029666662216187,
          0.6076982021331787,
          0.6125556826591492,
          0.617529034614563,
          0.6226337552070618,
          0.6278502345085144,
          0.6331732869148254,
          0.6385980248451233,
          0.6441128849983215,
          0.649708092212677,
          0.6553810834884644,
          0.6611157655715942,
          0.6668999791145325,
          0.6727286577224731,
          0.6785931587219238,
          0.6844784617424011,
          0.6903744339942932,
          0.6962715983390808,
          0.7021610140800476,
          0.7080298662185669,
          0.7138761878013611,
          0.7196822762489319,
          0.725452184677124,
          0.731174111366272,
          0.7368422746658325,
          0.7424514889717102,
          0.7479946613311768,
          0.7534720301628113,
          0.7588716745376587,
          0.7641825079917908,
          0.7694053649902344,
          0.774507999420166,
          0.7794904708862305,
          0.7843108773231506,
          0.7889518141746521,
          0.7933738827705383,
          0.7975316047668457,
          0.8013690710067749,
          0.8048313856124878,
          0.8078563809394836,
          0.8103624582290649,
          0.8122619986534119,
          0.8134667277336121,
          0.8138718605041504,
          0.8133438229560852,
          0.8117510080337524,
          0.8089204430580139,
          0.804652750492096,
          0.7987238764762878,
          0.7908643484115601,
          0.7807517647743225,
          0.7680240869522095,
          0.7522693276405334,
          0.7330456972122192,
          0.7099097967147827,
          0.6824302673339844,
          0.6502861976623535,
          0.6132976412773132,
          0.5715787410736084,
          0.525568962097168,
          0.4761100709438324,
          0.4244253635406494,
          0.3720497786998749,
          0.32065248489379883,
          0.2718246579170227,
          0.22688232362270355,
          0.18674662709236145,
          0.15188275277614594,
          0.12233003228902817,
          0.09780167043209076,
          0.07779718190431595,
          0.06170978024601936,
          0.048909157514572144,
          0.038801293820142746,
          0.030858788639307022,
          0.024633944034576416,
          0.01975790224969387,
          0.015934577211737633,
          0.012929161079227924,
          0.01055914256721735,
          0.008681690320372581,
          0.007187638897448778,
          0.005992219317704439,
          0.005030463449656963,
          0.004252136684954166,
          0.0036186787765473127,
          0.0030999791342765093,
          0.0026727826334536076,
          0.00231897528283298,
          0.0020241544116288424,
          0.0017772091086953878,
          0.0015691526932641864
         ],
         "yaxis": "y"
        },
        {
         "hovertemplate": "variable=1<br>index=%{x}<br>value=%{y}<extra></extra>",
         "legendgroup": "1",
         "line": {
          "color": "#EF553B",
          "dash": "solid"
         },
         "marker": {
          "symbol": "circle"
         },
         "mode": "lines",
         "name": "1",
         "orientation": "v",
         "showlegend": true,
         "type": "scatter",
         "x": [
          0,
          1,
          2,
          3,
          4,
          5,
          6,
          7,
          8,
          9,
          10,
          11,
          12,
          13,
          14,
          15,
          16,
          17,
          18,
          19,
          20,
          21,
          22,
          23,
          24,
          25,
          26,
          27,
          28,
          29,
          30,
          31,
          32,
          33,
          34,
          35,
          36,
          37,
          38,
          39,
          40,
          41,
          42,
          43,
          44,
          45,
          46,
          47,
          48,
          49,
          50,
          51,
          52,
          53,
          54,
          55,
          56,
          57,
          58,
          59,
          60,
          61,
          62,
          63,
          64,
          65,
          66,
          67,
          68,
          69,
          70,
          71,
          72,
          73,
          74,
          75,
          76,
          77,
          78,
          79,
          80,
          81,
          82,
          83,
          84,
          85,
          86,
          87,
          88,
          89,
          90,
          91,
          92,
          93,
          94,
          95,
          96,
          97,
          98,
          99,
          100,
          101,
          102,
          103,
          104,
          105,
          106,
          107,
          108,
          109,
          110,
          111,
          112,
          113,
          114,
          115,
          116,
          117,
          118,
          119
         ],
         "xaxis": "x",
         "y": [
          0.9987413287162781,
          0.9987284541130066,
          0.9987139701843262,
          0.9986975193023682,
          0.9986788630485535,
          0.9986584186553955,
          0.9986349940299988,
          0.9986093044281006,
          0.9985805749893188,
          0.9985488057136536,
          0.9985136389732361,
          0.9984748959541321,
          0.9984319806098938,
          0.9983848333358765,
          0.9983330368995667,
          0.9982762336730957,
          0.9982136487960815,
          0.9981452226638794,
          0.9980701804161072,
          0.9979878664016724,
          0.997897744178772,
          0.9977988600730896,
          0.9976905584335327,
          0.997572124004364,
          0.9974416494369507,
          0.9972987771034241,
          0.9971410036087036,
          0.9969678521156311,
          0.9967765212059021,
          0.9965651631355286,
          0.996331512928009,
          0.9960718154907227,
          0.9957838654518127,
          0.9954627156257629,
          0.9951038360595703,
          0.9947025179862976,
          0.9942514896392822,
          0.9937441945075989,
          0.9931718111038208,
          0.9925230145454407,
          0.9917864203453064,
          0.9909473061561584,
          0.9899874329566956,
          0.9888863563537598,
          0.987618088722229,
          0.9861531257629395,
          0.9844533801078796,
          0.9824735522270203,
          0.9801597595214844,
          0.9774444103240967,
          0.9742453694343567,
          0.9704628586769104,
          0.9659733176231384,
          0.960627019405365,
          0.9542394280433655,
          0.9465879797935486,
          0.9373982548713684,
          0.9263511300086975,
          0.913061797618866,
          0.8970797657966614,
          0.8779128193855286,
          0.8550145626068115,
          0.8278406858444214,
          0.795883059501648,
          0.7587548494338989,
          0.7162848114967346,
          0.6686338186264038,
          0.6163684725761414,
          0.560494601726532,
          0.5024580955505371,
          0.4439651072025299,
          0.38678988814353943,
          0.3325963616371155,
          0.28266605734825134,
          0.23784968256950378,
          0.19854626059532166,
          0.16474394500255585,
          0.13612249493598938,
          0.11220153421163559,
          0.09239097684621811,
          0.07609535753726959,
          0.06275136023759842,
          0.0518505834043026,
          0.042950425297021866,
          0.03568214178085327,
          0.02973352000117302,
          0.024854622781276703,
          0.020838582888245583,
          0.017521437257528305,
          0.014771540649235249,
          0.012485132552683353,
          0.010579581372439861,
          0.008989761583507061,
          0.007663703057914972,
          0.006558986846357584,
          0.005640439689159393,
          0.004878221545368433,
          0.004246591590344906,
          0.003723442554473877,
          0.003289948683232069,
          0.00292991753667593,
          0.0026301180478185415,
          0.0023792609572410583,
          0.0021682309452444315,
          0.0019896659068763256,
          0.0018374081701040268,
          0.0017066908767446876,
          0.0015936321578919888,
          0.0014950394397601485,
          0.0014084377326071262,
          0.0013319221325218678,
          0.0012637779582291842,
          0.0012027597986161709,
          0.001147824339568615,
          0.0010981349041685462,
          0.0010529799619689584,
          0.001011776621453464,
          0.0009740825043991208,
          0.0009394902735948563,
          0.0009076453861780465
         ],
         "yaxis": "y"
        },
        {
         "hovertemplate": "variable=2<br>index=%{x}<br>value=%{y}<extra></extra>",
         "legendgroup": "2",
         "line": {
          "color": "#00cc96",
          "dash": "solid"
         },
         "marker": {
          "symbol": "circle"
         },
         "mode": "lines",
         "name": "2",
         "orientation": "v",
         "showlegend": true,
         "type": "scatter",
         "x": [
          0,
          1,
          2,
          3,
          4,
          5,
          6,
          7,
          8,
          9,
          10,
          11,
          12,
          13,
          14,
          15,
          16,
          17,
          18,
          19,
          20,
          21,
          22,
          23,
          24,
          25,
          26,
          27,
          28,
          29,
          30,
          31,
          32,
          33,
          34,
          35,
          36,
          37,
          38,
          39,
          40,
          41,
          42,
          43,
          44,
          45,
          46,
          47,
          48,
          49,
          50,
          51,
          52,
          53,
          54,
          55,
          56,
          57,
          58,
          59,
          60,
          61,
          62,
          63,
          64,
          65,
          66,
          67,
          68,
          69,
          70,
          71,
          72,
          73,
          74,
          75,
          76,
          77,
          78,
          79,
          80,
          81,
          82,
          83,
          84,
          85,
          86,
          87,
          88,
          89,
          90,
          91,
          92,
          93,
          94,
          95,
          96,
          97,
          98,
          99,
          100,
          101,
          102,
          103,
          104,
          105,
          106,
          107,
          108,
          109,
          110,
          111,
          112,
          113,
          114,
          115,
          116,
          117,
          118,
          119
         ],
         "xaxis": "x",
         "y": [
          0.9916979074478149,
          0.9917479753494263,
          0.9917997121810913,
          0.9918534159660339,
          0.9919092059135437,
          0.9919669032096863,
          0.9920260310173035,
          0.9920875430107117,
          0.9921503067016602,
          0.9922152161598206,
          0.9922816157341003,
          0.9923496842384338,
          0.992419421672821,
          0.9924907088279724,
          0.9925633072853088,
          0.9926375150680542,
          0.9927132725715637,
          0.9927905797958374,
          0.9928694367408752,
          0.9929494857788086,
          0.9930309653282166,
          0.9931140542030334,
          0.9931982159614563,
          0.9932839870452881,
          0.993370532989502,
          0.9934585690498352,
          0.9935474991798401,
          0.9936375617980957,
          0.9937286376953125,
          0.9938200116157532,
          0.9939124584197998,
          0.994005024433136,
          0.9940983057022095,
          0.9941912293434143,
          0.994284451007843,
          0.994377076625824,
          0.9944696426391602,
          0.9945611357688904,
          0.9946517944335938,
          0.9947412014007568,
          0.9948291182518005,
          0.994915246963501,
          0.9949995279312134,
          0.9950814247131348,
          0.9951606392860413,
          0.9952372312545776,
          0.9953098893165588,
          0.9953800439834595,
          0.9954462051391602,
          0.9955079555511475,
          0.9955654740333557,
          0.9956183433532715,
          0.9956662654876709,
          0.9957084655761719,
          0.9957452416419983,
          0.9957757592201233,
          0.995799720287323,
          0.9958170056343079,
          0.9958265423774719,
          0.9958280920982361,
          0.9958212375640869,
          0.9958052635192871,
          0.9957789182662964,
          0.9957418441772461,
          0.9956929087638855,
          0.9956307411193848,
          0.9955543875694275,
          0.9954618811607361,
          0.9953515529632568,
          0.9952213168144226,
          0.9950690269470215,
          0.9948916435241699,
          0.9946856498718262,
          0.9944474697113037,
          0.9941725134849548,
          0.9938556551933289,
          0.9934900999069214,
          0.9930684566497803,
          0.9925823211669922,
          0.9920201897621155,
          0.9913696050643921,
          0.9906159043312073,
          0.9897397756576538,
          0.9887199997901917,
          0.9875297546386719,
          0.9861381649971008,
          0.984508752822876,
          0.9825969338417053,
          0.9803504943847656,
          0.9777101278305054,
          0.9746052622795105,
          0.9709543585777283,
          0.9666668176651001,
          0.9616381525993347,
          0.9557547569274902,
          0.9488896727561951,
          0.9409108757972717,
          0.9316820502281189,
          0.9210583567619324,
          0.9089118242263794,
          0.8951200842857361,
          0.8795844912528992,
          0.8622405529022217,
          0.8430597186088562,
          0.822063148021698,
          0.7993229031562805,
          0.7749629616737366,
          0.7491550445556641,
          0.7221253514289856,
          0.6941223740577698,
          0.6654170751571655,
          0.6363096237182617,
          0.6070720553398132,
          0.5779905319213867,
          0.5493038296699524,
          0.5212363004684448,
          0.4939824342727661,
          0.4676830470561981,
          0.44246578216552734,
          0.41840317845344543
         ],
         "yaxis": "y"
        },
        {
         "hovertemplate": "variable=3<br>index=%{x}<br>value=%{y}<extra></extra>",
         "legendgroup": "3",
         "line": {
          "color": "#ab63fa",
          "dash": "solid"
         },
         "marker": {
          "symbol": "circle"
         },
         "mode": "lines",
         "name": "3",
         "orientation": "v",
         "showlegend": true,
         "type": "scatter",
         "x": [
          0,
          1,
          2,
          3,
          4,
          5,
          6,
          7,
          8,
          9,
          10,
          11,
          12,
          13,
          14,
          15,
          16,
          17,
          18,
          19,
          20,
          21,
          22,
          23,
          24,
          25,
          26,
          27,
          28,
          29,
          30,
          31,
          32,
          33,
          34,
          35,
          36,
          37,
          38,
          39,
          40,
          41,
          42,
          43,
          44,
          45,
          46,
          47,
          48,
          49,
          50,
          51,
          52,
          53,
          54,
          55,
          56,
          57,
          58,
          59,
          60,
          61,
          62,
          63,
          64,
          65,
          66,
          67,
          68,
          69,
          70,
          71,
          72,
          73,
          74,
          75,
          76,
          77,
          78,
          79,
          80,
          81,
          82,
          83,
          84,
          85,
          86,
          87,
          88,
          89,
          90,
          91,
          92,
          93,
          94,
          95,
          96,
          97,
          98,
          99,
          100,
          101,
          102,
          103,
          104,
          105,
          106,
          107,
          108,
          109,
          110,
          111,
          112,
          113,
          114,
          115,
          116,
          117,
          118,
          119
         ],
         "xaxis": "x",
         "y": [
          0.9746212363243103,
          0.9746425151824951,
          0.9746755957603455,
          0.9747196435928345,
          0.9747744798660278,
          0.9748411774635315,
          0.9749189019203186,
          0.9750097990036011,
          0.9751114845275879,
          0.9752255082130432,
          0.9753513932228088,
          0.9754906296730042,
          0.9756411910057068,
          0.9758040904998779,
          0.9759792685508728,
          0.9761672019958496,
          0.9763674139976501,
          0.976578950881958,
          0.9768037796020508,
          0.9770399332046509,
          0.9772884249687195,
          0.9775480628013611,
          0.977820098400116,
          0.9781031608581543,
          0.9783970713615417,
          0.9787014722824097,
          0.9790167212486267,
          0.9793412089347839,
          0.9796755313873291,
          0.9800180792808533,
          0.9803693890571594,
          0.9807279109954834,
          0.9810940027236938,
          0.9814660549163818,
          0.9818442463874817,
          0.982227623462677,
          0.9826148748397827,
          0.9830060601234436,
          0.9834005236625671,
          0.983797013759613,
          0.9841954708099365,
          0.9845950603485107,
          0.9849949479103088,
          0.9853949546813965,
          0.9857940077781677,
          0.9861921072006226,
          0.9865885376930237,
          0.9869822859764099,
          0.9873735308647156,
          0.9877611398696899,
          0.9881452322006226,
          0.9885247349739075,
          0.988899290561676,
          0.9892681241035461,
          0.9896306395530701,
          0.9899862408638,
          0.9903337359428406,
          0.9906730055809021,
          0.9910027980804443,
          0.991321861743927,
          0.9916293025016785,
          0.991923987865448,
          0.9922045469284058,
          0.9924693703651428,
          0.9927178621292114,
          0.9929482936859131,
          0.993158757686615,
          0.9933481812477112,
          0.993515133857727,
          0.9936575293540955,
          0.9937742948532104,
          0.9938631057739258,
          0.9939221143722534,
          0.9939485788345337,
          0.9939401149749756,
          0.9938932657241821,
          0.9938046932220459,
          0.9936694502830505,
          0.9934822916984558,
          0.9932363629341125,
          0.9929242134094238,
          0.9925353527069092,
          0.9920585751533508,
          0.9914782643318176,
          0.9907782077789307,
          0.9899368286132812,
          0.9889277219772339,
          0.9877205491065979,
          0.9862776398658752,
          0.9845548272132874,
          0.9824985265731812,
          0.9800453782081604,
          0.9771211743354797,
          0.9736391305923462,
          0.969499945640564,
          0.9645904302597046,
          0.9587849378585815,
          0.9519476890563965,
          0.9439331293106079,
          0.9345921874046326,
          0.923779308795929,
          0.9113608002662659,
          0.8972131013870239,
          0.8812518119812012,
          0.8634210824966431,
          0.8437125086784363,
          0.8221659660339355,
          0.7988750338554382,
          0.7739858031272888,
          0.747687041759491,
          0.7202173471450806,
          0.6918521523475647,
          0.6628625988960266,
          0.6335532665252686,
          0.6042009592056274,
          0.5750826597213745,
          0.5464465618133545,
          0.518489420413971,
          0.49140334129333496,
          0.4653259217739105
         ],
         "yaxis": "y"
        },
        {
         "hovertemplate": "variable=4<br>index=%{x}<br>value=%{y}<extra></extra>",
         "legendgroup": "4",
         "line": {
          "color": "#FFA15A",
          "dash": "solid"
         },
         "marker": {
          "symbol": "circle"
         },
         "mode": "lines",
         "name": "4",
         "orientation": "v",
         "showlegend": true,
         "type": "scatter",
         "x": [
          0,
          1,
          2,
          3,
          4,
          5,
          6,
          7,
          8,
          9,
          10,
          11,
          12,
          13,
          14,
          15,
          16,
          17,
          18,
          19,
          20,
          21,
          22,
          23,
          24,
          25,
          26,
          27,
          28,
          29,
          30,
          31,
          32,
          33,
          34,
          35,
          36,
          37,
          38,
          39,
          40,
          41,
          42,
          43,
          44,
          45,
          46,
          47,
          48,
          49,
          50,
          51,
          52,
          53,
          54,
          55,
          56,
          57,
          58,
          59,
          60,
          61,
          62,
          63,
          64,
          65,
          66,
          67,
          68,
          69,
          70,
          71,
          72,
          73,
          74,
          75,
          76,
          77,
          78,
          79,
          80,
          81,
          82,
          83,
          84,
          85,
          86,
          87,
          88,
          89,
          90,
          91,
          92,
          93,
          94,
          95,
          96,
          97,
          98,
          99,
          100,
          101,
          102,
          103,
          104,
          105,
          106,
          107,
          108,
          109,
          110,
          111,
          112,
          113,
          114,
          115,
          116,
          117,
          118,
          119
         ],
         "xaxis": "x",
         "y": [
          0.9996910095214844,
          0.9996917247772217,
          0.9996920824050903,
          0.9996922016143799,
          0.9996927976608276,
          0.9996929168701172,
          0.9996932744979858,
          0.9996933937072754,
          0.9996935129165649,
          0.9996935129165649,
          0.9996935129165649,
          0.9996933937072754,
          0.9996933937072754,
          0.9996930360794067,
          0.9996927976608276,
          0.9996923208236694,
          0.9996918439865112,
          0.999691367149353,
          0.9996907711029053,
          0.9996901750564575,
          0.9996891021728516,
          0.9996882677078247,
          0.9996870756149292,
          0.9996856451034546,
          0.9996843338012695,
          0.9996826648712158,
          0.9996808767318726,
          0.9996789693832397,
          0.9996765851974487,
          0.9996739625930786,
          0.9996709823608398,
          0.999667763710022,
          0.9996640682220459,
          0.9996601343154907,
          0.9996553659439087,
          0.9996503591537476,
          0.9996446371078491,
          0.9996384382247925,
          0.9996310472488403,
          0.9996228218078613,
          0.9996137022972107,
          0.9996029734611511,
          0.9995911717414856,
          0.9995777010917664,
          0.9995620846748352,
          0.9995444416999817,
          0.9995243549346924,
          0.9995009899139404,
          0.9994739890098572,
          0.9994427561759949,
          0.9994063377380371,
          0.9993637204170227,
          0.999313473701477,
          0.9992536902427673,
          0.9991828799247742,
          0.999097466468811,
          0.9989946484565735,
          0.9988692402839661,
          0.9987154006958008,
          0.9985249638557434,
          0.9982871413230896,
          0.9979873895645142,
          0.9976060390472412,
          0.9971152544021606,
          0.9964788556098938,
          0.9956443309783936,
          0.9945386052131653,
          0.9930597543716431,
          0.9910635948181152,
          0.9883449077606201,
          0.9846128225326538,
          0.9794573187828064,
          0.9723000526428223,
          0.9623397588729858,
          0.9484886527061462,
          0.9293174147605896,
          0.9030590653419495,
          0.8676882386207581,
          0.8212485313415527,
          0.7623733282089233,
          0.6910732388496399,
          0.6093906760215759,
          0.5215564966201782,
          0.43325209617614746,
          0.3501734435558319,
          0.2766191065311432,
          0.21477365493774414,
          0.16487693786621094,
          0.12582647800445557,
          0.09589935094118118,
          0.07326433807611465,
          0.05625969171524048,
          0.04350802302360535,
          0.03393033146858215,
          0.026707250624895096,
          0.0212264321744442,
          0.017036065459251404,
          0.01380580011755228,
          0.011292667128145695,
          0.00931896548718214,
          0.007754172198474407,
          0.006502109579741955,
          0.005491691175848246,
          0.004669831600040197,
          0.003997241612523794,
          0.003443937748670578,
          0.0029870537109673023,
          0.0026086417492479086,
          0.002294678008183837,
          0.002033706521615386,
          0.0018164432840421796,
          0.0016351435333490372,
          0.0014835024485364556,
          0.001356226857751608,
          0.0012489553773775697,
          0.0011580478167161345,
          0.001080538029782474,
          0.0010140164522454143,
          0.0009564834763295949,
          0.0009063584730029106
         ],
         "yaxis": "y"
        }
       ],
       "layout": {
        "legend": {
         "title": {
          "text": "variable"
         },
         "tracegroupgap": 0
        },
        "margin": {
         "t": 60
        },
        "template": {
         "data": {
          "bar": [
           {
            "error_x": {
             "color": "#2a3f5f"
            },
            "error_y": {
             "color": "#2a3f5f"
            },
            "marker": {
             "line": {
              "color": "#E5ECF6",
              "width": 0.5
             },
             "pattern": {
              "fillmode": "overlay",
              "size": 10,
              "solidity": 0.2
             }
            },
            "type": "bar"
           }
          ],
          "barpolar": [
           {
            "marker": {
             "line": {
              "color": "#E5ECF6",
              "width": 0.5
             },
             "pattern": {
              "fillmode": "overlay",
              "size": 10,
              "solidity": 0.2
             }
            },
            "type": "barpolar"
           }
          ],
          "carpet": [
           {
            "aaxis": {
             "endlinecolor": "#2a3f5f",
             "gridcolor": "white",
             "linecolor": "white",
             "minorgridcolor": "white",
             "startlinecolor": "#2a3f5f"
            },
            "baxis": {
             "endlinecolor": "#2a3f5f",
             "gridcolor": "white",
             "linecolor": "white",
             "minorgridcolor": "white",
             "startlinecolor": "#2a3f5f"
            },
            "type": "carpet"
           }
          ],
          "choropleth": [
           {
            "colorbar": {
             "outlinewidth": 0,
             "ticks": ""
            },
            "type": "choropleth"
           }
          ],
          "contour": [
           {
            "colorbar": {
             "outlinewidth": 0,
             "ticks": ""
            },
            "colorscale": [
             [
              0,
              "#0d0887"
             ],
             [
              0.1111111111111111,
              "#46039f"
             ],
             [
              0.2222222222222222,
              "#7201a8"
             ],
             [
              0.3333333333333333,
              "#9c179e"
             ],
             [
              0.4444444444444444,
              "#bd3786"
             ],
             [
              0.5555555555555556,
              "#d8576b"
             ],
             [
              0.6666666666666666,
              "#ed7953"
             ],
             [
              0.7777777777777778,
              "#fb9f3a"
             ],
             [
              0.8888888888888888,
              "#fdca26"
             ],
             [
              1,
              "#f0f921"
             ]
            ],
            "type": "contour"
           }
          ],
          "contourcarpet": [
           {
            "colorbar": {
             "outlinewidth": 0,
             "ticks": ""
            },
            "type": "contourcarpet"
           }
          ],
          "heatmap": [
           {
            "colorbar": {
             "outlinewidth": 0,
             "ticks": ""
            },
            "colorscale": [
             [
              0,
              "#0d0887"
             ],
             [
              0.1111111111111111,
              "#46039f"
             ],
             [
              0.2222222222222222,
              "#7201a8"
             ],
             [
              0.3333333333333333,
              "#9c179e"
             ],
             [
              0.4444444444444444,
              "#bd3786"
             ],
             [
              0.5555555555555556,
              "#d8576b"
             ],
             [
              0.6666666666666666,
              "#ed7953"
             ],
             [
              0.7777777777777778,
              "#fb9f3a"
             ],
             [
              0.8888888888888888,
              "#fdca26"
             ],
             [
              1,
              "#f0f921"
             ]
            ],
            "type": "heatmap"
           }
          ],
          "heatmapgl": [
           {
            "colorbar": {
             "outlinewidth": 0,
             "ticks": ""
            },
            "colorscale": [
             [
              0,
              "#0d0887"
             ],
             [
              0.1111111111111111,
              "#46039f"
             ],
             [
              0.2222222222222222,
              "#7201a8"
             ],
             [
              0.3333333333333333,
              "#9c179e"
             ],
             [
              0.4444444444444444,
              "#bd3786"
             ],
             [
              0.5555555555555556,
              "#d8576b"
             ],
             [
              0.6666666666666666,
              "#ed7953"
             ],
             [
              0.7777777777777778,
              "#fb9f3a"
             ],
             [
              0.8888888888888888,
              "#fdca26"
             ],
             [
              1,
              "#f0f921"
             ]
            ],
            "type": "heatmapgl"
           }
          ],
          "histogram": [
           {
            "marker": {
             "pattern": {
              "fillmode": "overlay",
              "size": 10,
              "solidity": 0.2
             }
            },
            "type": "histogram"
           }
          ],
          "histogram2d": [
           {
            "colorbar": {
             "outlinewidth": 0,
             "ticks": ""
            },
            "colorscale": [
             [
              0,
              "#0d0887"
             ],
             [
              0.1111111111111111,
              "#46039f"
             ],
             [
              0.2222222222222222,
              "#7201a8"
             ],
             [
              0.3333333333333333,
              "#9c179e"
             ],
             [
              0.4444444444444444,
              "#bd3786"
             ],
             [
              0.5555555555555556,
              "#d8576b"
             ],
             [
              0.6666666666666666,
              "#ed7953"
             ],
             [
              0.7777777777777778,
              "#fb9f3a"
             ],
             [
              0.8888888888888888,
              "#fdca26"
             ],
             [
              1,
              "#f0f921"
             ]
            ],
            "type": "histogram2d"
           }
          ],
          "histogram2dcontour": [
           {
            "colorbar": {
             "outlinewidth": 0,
             "ticks": ""
            },
            "colorscale": [
             [
              0,
              "#0d0887"
             ],
             [
              0.1111111111111111,
              "#46039f"
             ],
             [
              0.2222222222222222,
              "#7201a8"
             ],
             [
              0.3333333333333333,
              "#9c179e"
             ],
             [
              0.4444444444444444,
              "#bd3786"
             ],
             [
              0.5555555555555556,
              "#d8576b"
             ],
             [
              0.6666666666666666,
              "#ed7953"
             ],
             [
              0.7777777777777778,
              "#fb9f3a"
             ],
             [
              0.8888888888888888,
              "#fdca26"
             ],
             [
              1,
              "#f0f921"
             ]
            ],
            "type": "histogram2dcontour"
           }
          ],
          "mesh3d": [
           {
            "colorbar": {
             "outlinewidth": 0,
             "ticks": ""
            },
            "type": "mesh3d"
           }
          ],
          "parcoords": [
           {
            "line": {
             "colorbar": {
              "outlinewidth": 0,
              "ticks": ""
             }
            },
            "type": "parcoords"
           }
          ],
          "pie": [
           {
            "automargin": true,
            "type": "pie"
           }
          ],
          "scatter": [
           {
            "fillpattern": {
             "fillmode": "overlay",
             "size": 10,
             "solidity": 0.2
            },
            "type": "scatter"
           }
          ],
          "scatter3d": [
           {
            "line": {
             "colorbar": {
              "outlinewidth": 0,
              "ticks": ""
             }
            },
            "marker": {
             "colorbar": {
              "outlinewidth": 0,
              "ticks": ""
             }
            },
            "type": "scatter3d"
           }
          ],
          "scattercarpet": [
           {
            "marker": {
             "colorbar": {
              "outlinewidth": 0,
              "ticks": ""
             }
            },
            "type": "scattercarpet"
           }
          ],
          "scattergeo": [
           {
            "marker": {
             "colorbar": {
              "outlinewidth": 0,
              "ticks": ""
             }
            },
            "type": "scattergeo"
           }
          ],
          "scattergl": [
           {
            "marker": {
             "colorbar": {
              "outlinewidth": 0,
              "ticks": ""
             }
            },
            "type": "scattergl"
           }
          ],
          "scattermapbox": [
           {
            "marker": {
             "colorbar": {
              "outlinewidth": 0,
              "ticks": ""
             }
            },
            "type": "scattermapbox"
           }
          ],
          "scatterpolar": [
           {
            "marker": {
             "colorbar": {
              "outlinewidth": 0,
              "ticks": ""
             }
            },
            "type": "scatterpolar"
           }
          ],
          "scatterpolargl": [
           {
            "marker": {
             "colorbar": {
              "outlinewidth": 0,
              "ticks": ""
             }
            },
            "type": "scatterpolargl"
           }
          ],
          "scatterternary": [
           {
            "marker": {
             "colorbar": {
              "outlinewidth": 0,
              "ticks": ""
             }
            },
            "type": "scatterternary"
           }
          ],
          "surface": [
           {
            "colorbar": {
             "outlinewidth": 0,
             "ticks": ""
            },
            "colorscale": [
             [
              0,
              "#0d0887"
             ],
             [
              0.1111111111111111,
              "#46039f"
             ],
             [
              0.2222222222222222,
              "#7201a8"
             ],
             [
              0.3333333333333333,
              "#9c179e"
             ],
             [
              0.4444444444444444,
              "#bd3786"
             ],
             [
              0.5555555555555556,
              "#d8576b"
             ],
             [
              0.6666666666666666,
              "#ed7953"
             ],
             [
              0.7777777777777778,
              "#fb9f3a"
             ],
             [
              0.8888888888888888,
              "#fdca26"
             ],
             [
              1,
              "#f0f921"
             ]
            ],
            "type": "surface"
           }
          ],
          "table": [
           {
            "cells": {
             "fill": {
              "color": "#EBF0F8"
             },
             "line": {
              "color": "white"
             }
            },
            "header": {
             "fill": {
              "color": "#C8D4E3"
             },
             "line": {
              "color": "white"
             }
            },
            "type": "table"
           }
          ]
         },
         "layout": {
          "annotationdefaults": {
           "arrowcolor": "#2a3f5f",
           "arrowhead": 0,
           "arrowwidth": 1
          },
          "autotypenumbers": "strict",
          "coloraxis": {
           "colorbar": {
            "outlinewidth": 0,
            "ticks": ""
           }
          },
          "colorscale": {
           "diverging": [
            [
             0,
             "#8e0152"
            ],
            [
             0.1,
             "#c51b7d"
            ],
            [
             0.2,
             "#de77ae"
            ],
            [
             0.3,
             "#f1b6da"
            ],
            [
             0.4,
             "#fde0ef"
            ],
            [
             0.5,
             "#f7f7f7"
            ],
            [
             0.6,
             "#e6f5d0"
            ],
            [
             0.7,
             "#b8e186"
            ],
            [
             0.8,
             "#7fbc41"
            ],
            [
             0.9,
             "#4d9221"
            ],
            [
             1,
             "#276419"
            ]
           ],
           "sequential": [
            [
             0,
             "#0d0887"
            ],
            [
             0.1111111111111111,
             "#46039f"
            ],
            [
             0.2222222222222222,
             "#7201a8"
            ],
            [
             0.3333333333333333,
             "#9c179e"
            ],
            [
             0.4444444444444444,
             "#bd3786"
            ],
            [
             0.5555555555555556,
             "#d8576b"
            ],
            [
             0.6666666666666666,
             "#ed7953"
            ],
            [
             0.7777777777777778,
             "#fb9f3a"
            ],
            [
             0.8888888888888888,
             "#fdca26"
            ],
            [
             1,
             "#f0f921"
            ]
           ],
           "sequentialminus": [
            [
             0,
             "#0d0887"
            ],
            [
             0.1111111111111111,
             "#46039f"
            ],
            [
             0.2222222222222222,
             "#7201a8"
            ],
            [
             0.3333333333333333,
             "#9c179e"
            ],
            [
             0.4444444444444444,
             "#bd3786"
            ],
            [
             0.5555555555555556,
             "#d8576b"
            ],
            [
             0.6666666666666666,
             "#ed7953"
            ],
            [
             0.7777777777777778,
             "#fb9f3a"
            ],
            [
             0.8888888888888888,
             "#fdca26"
            ],
            [
             1,
             "#f0f921"
            ]
           ]
          },
          "colorway": [
           "#636efa",
           "#EF553B",
           "#00cc96",
           "#ab63fa",
           "#FFA15A",
           "#19d3f3",
           "#FF6692",
           "#B6E880",
           "#FF97FF",
           "#FECB52"
          ],
          "font": {
           "color": "#2a3f5f"
          },
          "geo": {
           "bgcolor": "white",
           "lakecolor": "white",
           "landcolor": "#E5ECF6",
           "showlakes": true,
           "showland": true,
           "subunitcolor": "white"
          },
          "hoverlabel": {
           "align": "left"
          },
          "hovermode": "closest",
          "mapbox": {
           "style": "light"
          },
          "paper_bgcolor": "white",
          "plot_bgcolor": "#E5ECF6",
          "polar": {
           "angularaxis": {
            "gridcolor": "white",
            "linecolor": "white",
            "ticks": ""
           },
           "bgcolor": "#E5ECF6",
           "radialaxis": {
            "gridcolor": "white",
            "linecolor": "white",
            "ticks": ""
           }
          },
          "scene": {
           "xaxis": {
            "backgroundcolor": "#E5ECF6",
            "gridcolor": "white",
            "gridwidth": 2,
            "linecolor": "white",
            "showbackground": true,
            "ticks": "",
            "zerolinecolor": "white"
           },
           "yaxis": {
            "backgroundcolor": "#E5ECF6",
            "gridcolor": "white",
            "gridwidth": 2,
            "linecolor": "white",
            "showbackground": true,
            "ticks": "",
            "zerolinecolor": "white"
           },
           "zaxis": {
            "backgroundcolor": "#E5ECF6",
            "gridcolor": "white",
            "gridwidth": 2,
            "linecolor": "white",
            "showbackground": true,
            "ticks": "",
            "zerolinecolor": "white"
           }
          },
          "shapedefaults": {
           "line": {
            "color": "#2a3f5f"
           }
          },
          "ternary": {
           "aaxis": {
            "gridcolor": "white",
            "linecolor": "white",
            "ticks": ""
           },
           "baxis": {
            "gridcolor": "white",
            "linecolor": "white",
            "ticks": ""
           },
           "bgcolor": "#E5ECF6",
           "caxis": {
            "gridcolor": "white",
            "linecolor": "white",
            "ticks": ""
           }
          },
          "title": {
           "x": 0.05
          },
          "xaxis": {
           "automargin": true,
           "gridcolor": "white",
           "linecolor": "white",
           "ticks": "",
           "title": {
            "standoff": 15
           },
           "zerolinecolor": "white",
           "zerolinewidth": 2
          },
          "yaxis": {
           "automargin": true,
           "gridcolor": "white",
           "linecolor": "white",
           "ticks": "",
           "title": {
            "standoff": 15
           },
           "zerolinecolor": "white",
           "zerolinewidth": 2
          }
         }
        },
        "xaxis": {
         "anchor": "y",
         "domain": [
          0,
          1
         ],
         "title": {
          "text": "index"
         }
        },
        "yaxis": {
         "anchor": "x",
         "domain": [
          0,
          1
         ],
         "title": {
          "text": "value"
         }
        }
       }
      },
      "text/html": [
       "<div>                            <div id=\"7764a80e-e942-468a-b08e-6a7c42439bbc\" class=\"plotly-graph-div\" style=\"height:525px; width:100%;\"></div>            <script type=\"text/javascript\">                require([\"plotly\"], function(Plotly) {                    window.PLOTLYENV=window.PLOTLYENV || {};                                    if (document.getElementById(\"7764a80e-e942-468a-b08e-6a7c42439bbc\")) {                    Plotly.newPlot(                        \"7764a80e-e942-468a-b08e-6a7c42439bbc\",                        [{\"hovertemplate\":\"variable=0\\u003cbr\\u003eindex=%{x}\\u003cbr\\u003evalue=%{y}\\u003cextra\\u003e\\u003c\\u002fextra\\u003e\",\"legendgroup\":\"0\",\"line\":{\"color\":\"#636efa\",\"dash\":\"solid\"},\"marker\":{\"symbol\":\"circle\"},\"mode\":\"lines\",\"name\":\"0\",\"orientation\":\"v\",\"showlegend\":true,\"x\":[0,1,2,3,4,5,6,7,8,9,10,11,12,13,14,15,16,17,18,19,20,21,22,23,24,25,26,27,28,29,30,31,32,33,34,35,36,37,38,39,40,41,42,43,44,45,46,47,48,49,50,51,52,53,54,55,56,57,58,59,60,61,62,63,64,65,66,67,68,69,70,71,72,73,74,75,76,77,78,79,80,81,82,83,84,85,86,87,88,89,90,91,92,93,94,95,96,97,98,99,100,101,102,103,104,105,106,107,108,109,110,111,112,113,114,115,116,117,118,119],\"xaxis\":\"x\",\"y\":[0.5197285413742065,0.521493673324585,0.5233160853385925,0.5251874327659607,0.527130663394928,0.5291308164596558,0.5312021374702454,0.5333504676818848,0.535578727722168,0.5378861427307129,0.540283203125,0.5427714586257935,0.5453530550003052,0.5480451583862305,0.550835132598877,0.5537360906600952,0.5567536354064941,0.5598850250244141,0.5631443858146667,0.5665215849876404,0.5700352787971497,0.5736724734306335,0.5774487257003784,0.581360936164856,0.5854138731956482,0.5895903706550598,0.5939160585403442,0.5983755588531494,0.6029666662216187,0.6076982021331787,0.6125556826591492,0.617529034614563,0.6226337552070618,0.6278502345085144,0.6331732869148254,0.6385980248451233,0.6441128849983215,0.649708092212677,0.6553810834884644,0.6611157655715942,0.6668999791145325,0.6727286577224731,0.6785931587219238,0.6844784617424011,0.6903744339942932,0.6962715983390808,0.7021610140800476,0.7080298662185669,0.7138761878013611,0.7196822762489319,0.725452184677124,0.731174111366272,0.7368422746658325,0.7424514889717102,0.7479946613311768,0.7534720301628113,0.7588716745376587,0.7641825079917908,0.7694053649902344,0.774507999420166,0.7794904708862305,0.7843108773231506,0.7889518141746521,0.7933738827705383,0.7975316047668457,0.8013690710067749,0.8048313856124878,0.8078563809394836,0.8103624582290649,0.8122619986534119,0.8134667277336121,0.8138718605041504,0.8133438229560852,0.8117510080337524,0.8089204430580139,0.804652750492096,0.7987238764762878,0.7908643484115601,0.7807517647743225,0.7680240869522095,0.7522693276405334,0.7330456972122192,0.7099097967147827,0.6824302673339844,0.6502861976623535,0.6132976412773132,0.5715787410736084,0.525568962097168,0.4761100709438324,0.4244253635406494,0.3720497786998749,0.32065248489379883,0.2718246579170227,0.22688232362270355,0.18674662709236145,0.15188275277614594,0.12233003228902817,0.09780167043209076,0.07779718190431595,0.06170978024601936,0.048909157514572144,0.038801293820142746,0.030858788639307022,0.024633944034576416,0.01975790224969387,0.015934577211737633,0.012929161079227924,0.01055914256721735,0.008681690320372581,0.007187638897448778,0.005992219317704439,0.005030463449656963,0.004252136684954166,0.0036186787765473127,0.0030999791342765093,0.0026727826334536076,0.00231897528283298,0.0020241544116288424,0.0017772091086953878,0.0015691526932641864],\"yaxis\":\"y\",\"type\":\"scatter\"},{\"hovertemplate\":\"variable=1\\u003cbr\\u003eindex=%{x}\\u003cbr\\u003evalue=%{y}\\u003cextra\\u003e\\u003c\\u002fextra\\u003e\",\"legendgroup\":\"1\",\"line\":{\"color\":\"#EF553B\",\"dash\":\"solid\"},\"marker\":{\"symbol\":\"circle\"},\"mode\":\"lines\",\"name\":\"1\",\"orientation\":\"v\",\"showlegend\":true,\"x\":[0,1,2,3,4,5,6,7,8,9,10,11,12,13,14,15,16,17,18,19,20,21,22,23,24,25,26,27,28,29,30,31,32,33,34,35,36,37,38,39,40,41,42,43,44,45,46,47,48,49,50,51,52,53,54,55,56,57,58,59,60,61,62,63,64,65,66,67,68,69,70,71,72,73,74,75,76,77,78,79,80,81,82,83,84,85,86,87,88,89,90,91,92,93,94,95,96,97,98,99,100,101,102,103,104,105,106,107,108,109,110,111,112,113,114,115,116,117,118,119],\"xaxis\":\"x\",\"y\":[0.9987413287162781,0.9987284541130066,0.9987139701843262,0.9986975193023682,0.9986788630485535,0.9986584186553955,0.9986349940299988,0.9986093044281006,0.9985805749893188,0.9985488057136536,0.9985136389732361,0.9984748959541321,0.9984319806098938,0.9983848333358765,0.9983330368995667,0.9982762336730957,0.9982136487960815,0.9981452226638794,0.9980701804161072,0.9979878664016724,0.997897744178772,0.9977988600730896,0.9976905584335327,0.997572124004364,0.9974416494369507,0.9972987771034241,0.9971410036087036,0.9969678521156311,0.9967765212059021,0.9965651631355286,0.996331512928009,0.9960718154907227,0.9957838654518127,0.9954627156257629,0.9951038360595703,0.9947025179862976,0.9942514896392822,0.9937441945075989,0.9931718111038208,0.9925230145454407,0.9917864203453064,0.9909473061561584,0.9899874329566956,0.9888863563537598,0.987618088722229,0.9861531257629395,0.9844533801078796,0.9824735522270203,0.9801597595214844,0.9774444103240967,0.9742453694343567,0.9704628586769104,0.9659733176231384,0.960627019405365,0.9542394280433655,0.9465879797935486,0.9373982548713684,0.9263511300086975,0.913061797618866,0.8970797657966614,0.8779128193855286,0.8550145626068115,0.8278406858444214,0.795883059501648,0.7587548494338989,0.7162848114967346,0.6686338186264038,0.6163684725761414,0.560494601726532,0.5024580955505371,0.4439651072025299,0.38678988814353943,0.3325963616371155,0.28266605734825134,0.23784968256950378,0.19854626059532166,0.16474394500255585,0.13612249493598938,0.11220153421163559,0.09239097684621811,0.07609535753726959,0.06275136023759842,0.0518505834043026,0.042950425297021866,0.03568214178085327,0.02973352000117302,0.024854622781276703,0.020838582888245583,0.017521437257528305,0.014771540649235249,0.012485132552683353,0.010579581372439861,0.008989761583507061,0.007663703057914972,0.006558986846357584,0.005640439689159393,0.004878221545368433,0.004246591590344906,0.003723442554473877,0.003289948683232069,0.00292991753667593,0.0026301180478185415,0.0023792609572410583,0.0021682309452444315,0.0019896659068763256,0.0018374081701040268,0.0017066908767446876,0.0015936321578919888,0.0014950394397601485,0.0014084377326071262,0.0013319221325218678,0.0012637779582291842,0.0012027597986161709,0.001147824339568615,0.0010981349041685462,0.0010529799619689584,0.001011776621453464,0.0009740825043991208,0.0009394902735948563,0.0009076453861780465],\"yaxis\":\"y\",\"type\":\"scatter\"},{\"hovertemplate\":\"variable=2\\u003cbr\\u003eindex=%{x}\\u003cbr\\u003evalue=%{y}\\u003cextra\\u003e\\u003c\\u002fextra\\u003e\",\"legendgroup\":\"2\",\"line\":{\"color\":\"#00cc96\",\"dash\":\"solid\"},\"marker\":{\"symbol\":\"circle\"},\"mode\":\"lines\",\"name\":\"2\",\"orientation\":\"v\",\"showlegend\":true,\"x\":[0,1,2,3,4,5,6,7,8,9,10,11,12,13,14,15,16,17,18,19,20,21,22,23,24,25,26,27,28,29,30,31,32,33,34,35,36,37,38,39,40,41,42,43,44,45,46,47,48,49,50,51,52,53,54,55,56,57,58,59,60,61,62,63,64,65,66,67,68,69,70,71,72,73,74,75,76,77,78,79,80,81,82,83,84,85,86,87,88,89,90,91,92,93,94,95,96,97,98,99,100,101,102,103,104,105,106,107,108,109,110,111,112,113,114,115,116,117,118,119],\"xaxis\":\"x\",\"y\":[0.9916979074478149,0.9917479753494263,0.9917997121810913,0.9918534159660339,0.9919092059135437,0.9919669032096863,0.9920260310173035,0.9920875430107117,0.9921503067016602,0.9922152161598206,0.9922816157341003,0.9923496842384338,0.992419421672821,0.9924907088279724,0.9925633072853088,0.9926375150680542,0.9927132725715637,0.9927905797958374,0.9928694367408752,0.9929494857788086,0.9930309653282166,0.9931140542030334,0.9931982159614563,0.9932839870452881,0.993370532989502,0.9934585690498352,0.9935474991798401,0.9936375617980957,0.9937286376953125,0.9938200116157532,0.9939124584197998,0.994005024433136,0.9940983057022095,0.9941912293434143,0.994284451007843,0.994377076625824,0.9944696426391602,0.9945611357688904,0.9946517944335938,0.9947412014007568,0.9948291182518005,0.994915246963501,0.9949995279312134,0.9950814247131348,0.9951606392860413,0.9952372312545776,0.9953098893165588,0.9953800439834595,0.9954462051391602,0.9955079555511475,0.9955654740333557,0.9956183433532715,0.9956662654876709,0.9957084655761719,0.9957452416419983,0.9957757592201233,0.995799720287323,0.9958170056343079,0.9958265423774719,0.9958280920982361,0.9958212375640869,0.9958052635192871,0.9957789182662964,0.9957418441772461,0.9956929087638855,0.9956307411193848,0.9955543875694275,0.9954618811607361,0.9953515529632568,0.9952213168144226,0.9950690269470215,0.9948916435241699,0.9946856498718262,0.9944474697113037,0.9941725134849548,0.9938556551933289,0.9934900999069214,0.9930684566497803,0.9925823211669922,0.9920201897621155,0.9913696050643921,0.9906159043312073,0.9897397756576538,0.9887199997901917,0.9875297546386719,0.9861381649971008,0.984508752822876,0.9825969338417053,0.9803504943847656,0.9777101278305054,0.9746052622795105,0.9709543585777283,0.9666668176651001,0.9616381525993347,0.9557547569274902,0.9488896727561951,0.9409108757972717,0.9316820502281189,0.9210583567619324,0.9089118242263794,0.8951200842857361,0.8795844912528992,0.8622405529022217,0.8430597186088562,0.822063148021698,0.7993229031562805,0.7749629616737366,0.7491550445556641,0.7221253514289856,0.6941223740577698,0.6654170751571655,0.6363096237182617,0.6070720553398132,0.5779905319213867,0.5493038296699524,0.5212363004684448,0.4939824342727661,0.4676830470561981,0.44246578216552734,0.41840317845344543],\"yaxis\":\"y\",\"type\":\"scatter\"},{\"hovertemplate\":\"variable=3\\u003cbr\\u003eindex=%{x}\\u003cbr\\u003evalue=%{y}\\u003cextra\\u003e\\u003c\\u002fextra\\u003e\",\"legendgroup\":\"3\",\"line\":{\"color\":\"#ab63fa\",\"dash\":\"solid\"},\"marker\":{\"symbol\":\"circle\"},\"mode\":\"lines\",\"name\":\"3\",\"orientation\":\"v\",\"showlegend\":true,\"x\":[0,1,2,3,4,5,6,7,8,9,10,11,12,13,14,15,16,17,18,19,20,21,22,23,24,25,26,27,28,29,30,31,32,33,34,35,36,37,38,39,40,41,42,43,44,45,46,47,48,49,50,51,52,53,54,55,56,57,58,59,60,61,62,63,64,65,66,67,68,69,70,71,72,73,74,75,76,77,78,79,80,81,82,83,84,85,86,87,88,89,90,91,92,93,94,95,96,97,98,99,100,101,102,103,104,105,106,107,108,109,110,111,112,113,114,115,116,117,118,119],\"xaxis\":\"x\",\"y\":[0.9746212363243103,0.9746425151824951,0.9746755957603455,0.9747196435928345,0.9747744798660278,0.9748411774635315,0.9749189019203186,0.9750097990036011,0.9751114845275879,0.9752255082130432,0.9753513932228088,0.9754906296730042,0.9756411910057068,0.9758040904998779,0.9759792685508728,0.9761672019958496,0.9763674139976501,0.976578950881958,0.9768037796020508,0.9770399332046509,0.9772884249687195,0.9775480628013611,0.977820098400116,0.9781031608581543,0.9783970713615417,0.9787014722824097,0.9790167212486267,0.9793412089347839,0.9796755313873291,0.9800180792808533,0.9803693890571594,0.9807279109954834,0.9810940027236938,0.9814660549163818,0.9818442463874817,0.982227623462677,0.9826148748397827,0.9830060601234436,0.9834005236625671,0.983797013759613,0.9841954708099365,0.9845950603485107,0.9849949479103088,0.9853949546813965,0.9857940077781677,0.9861921072006226,0.9865885376930237,0.9869822859764099,0.9873735308647156,0.9877611398696899,0.9881452322006226,0.9885247349739075,0.988899290561676,0.9892681241035461,0.9896306395530701,0.9899862408638,0.9903337359428406,0.9906730055809021,0.9910027980804443,0.991321861743927,0.9916293025016785,0.991923987865448,0.9922045469284058,0.9924693703651428,0.9927178621292114,0.9929482936859131,0.993158757686615,0.9933481812477112,0.993515133857727,0.9936575293540955,0.9937742948532104,0.9938631057739258,0.9939221143722534,0.9939485788345337,0.9939401149749756,0.9938932657241821,0.9938046932220459,0.9936694502830505,0.9934822916984558,0.9932363629341125,0.9929242134094238,0.9925353527069092,0.9920585751533508,0.9914782643318176,0.9907782077789307,0.9899368286132812,0.9889277219772339,0.9877205491065979,0.9862776398658752,0.9845548272132874,0.9824985265731812,0.9800453782081604,0.9771211743354797,0.9736391305923462,0.969499945640564,0.9645904302597046,0.9587849378585815,0.9519476890563965,0.9439331293106079,0.9345921874046326,0.923779308795929,0.9113608002662659,0.8972131013870239,0.8812518119812012,0.8634210824966431,0.8437125086784363,0.8221659660339355,0.7988750338554382,0.7739858031272888,0.747687041759491,0.7202173471450806,0.6918521523475647,0.6628625988960266,0.6335532665252686,0.6042009592056274,0.5750826597213745,0.5464465618133545,0.518489420413971,0.49140334129333496,0.4653259217739105],\"yaxis\":\"y\",\"type\":\"scatter\"},{\"hovertemplate\":\"variable=4\\u003cbr\\u003eindex=%{x}\\u003cbr\\u003evalue=%{y}\\u003cextra\\u003e\\u003c\\u002fextra\\u003e\",\"legendgroup\":\"4\",\"line\":{\"color\":\"#FFA15A\",\"dash\":\"solid\"},\"marker\":{\"symbol\":\"circle\"},\"mode\":\"lines\",\"name\":\"4\",\"orientation\":\"v\",\"showlegend\":true,\"x\":[0,1,2,3,4,5,6,7,8,9,10,11,12,13,14,15,16,17,18,19,20,21,22,23,24,25,26,27,28,29,30,31,32,33,34,35,36,37,38,39,40,41,42,43,44,45,46,47,48,49,50,51,52,53,54,55,56,57,58,59,60,61,62,63,64,65,66,67,68,69,70,71,72,73,74,75,76,77,78,79,80,81,82,83,84,85,86,87,88,89,90,91,92,93,94,95,96,97,98,99,100,101,102,103,104,105,106,107,108,109,110,111,112,113,114,115,116,117,118,119],\"xaxis\":\"x\",\"y\":[0.9996910095214844,0.9996917247772217,0.9996920824050903,0.9996922016143799,0.9996927976608276,0.9996929168701172,0.9996932744979858,0.9996933937072754,0.9996935129165649,0.9996935129165649,0.9996935129165649,0.9996933937072754,0.9996933937072754,0.9996930360794067,0.9996927976608276,0.9996923208236694,0.9996918439865112,0.999691367149353,0.9996907711029053,0.9996901750564575,0.9996891021728516,0.9996882677078247,0.9996870756149292,0.9996856451034546,0.9996843338012695,0.9996826648712158,0.9996808767318726,0.9996789693832397,0.9996765851974487,0.9996739625930786,0.9996709823608398,0.999667763710022,0.9996640682220459,0.9996601343154907,0.9996553659439087,0.9996503591537476,0.9996446371078491,0.9996384382247925,0.9996310472488403,0.9996228218078613,0.9996137022972107,0.9996029734611511,0.9995911717414856,0.9995777010917664,0.9995620846748352,0.9995444416999817,0.9995243549346924,0.9995009899139404,0.9994739890098572,0.9994427561759949,0.9994063377380371,0.9993637204170227,0.999313473701477,0.9992536902427673,0.9991828799247742,0.999097466468811,0.9989946484565735,0.9988692402839661,0.9987154006958008,0.9985249638557434,0.9982871413230896,0.9979873895645142,0.9976060390472412,0.9971152544021606,0.9964788556098938,0.9956443309783936,0.9945386052131653,0.9930597543716431,0.9910635948181152,0.9883449077606201,0.9846128225326538,0.9794573187828064,0.9723000526428223,0.9623397588729858,0.9484886527061462,0.9293174147605896,0.9030590653419495,0.8676882386207581,0.8212485313415527,0.7623733282089233,0.6910732388496399,0.6093906760215759,0.5215564966201782,0.43325209617614746,0.3501734435558319,0.2766191065311432,0.21477365493774414,0.16487693786621094,0.12582647800445557,0.09589935094118118,0.07326433807611465,0.05625969171524048,0.04350802302360535,0.03393033146858215,0.026707250624895096,0.0212264321744442,0.017036065459251404,0.01380580011755228,0.011292667128145695,0.00931896548718214,0.007754172198474407,0.006502109579741955,0.005491691175848246,0.004669831600040197,0.003997241612523794,0.003443937748670578,0.0029870537109673023,0.0026086417492479086,0.002294678008183837,0.002033706521615386,0.0018164432840421796,0.0016351435333490372,0.0014835024485364556,0.001356226857751608,0.0012489553773775697,0.0011580478167161345,0.001080538029782474,0.0010140164522454143,0.0009564834763295949,0.0009063584730029106],\"yaxis\":\"y\",\"type\":\"scatter\"}],                        {\"template\":{\"data\":{\"histogram2dcontour\":[{\"type\":\"histogram2dcontour\",\"colorbar\":{\"outlinewidth\":0,\"ticks\":\"\"},\"colorscale\":[[0.0,\"#0d0887\"],[0.1111111111111111,\"#46039f\"],[0.2222222222222222,\"#7201a8\"],[0.3333333333333333,\"#9c179e\"],[0.4444444444444444,\"#bd3786\"],[0.5555555555555556,\"#d8576b\"],[0.6666666666666666,\"#ed7953\"],[0.7777777777777778,\"#fb9f3a\"],[0.8888888888888888,\"#fdca26\"],[1.0,\"#f0f921\"]]}],\"choropleth\":[{\"type\":\"choropleth\",\"colorbar\":{\"outlinewidth\":0,\"ticks\":\"\"}}],\"histogram2d\":[{\"type\":\"histogram2d\",\"colorbar\":{\"outlinewidth\":0,\"ticks\":\"\"},\"colorscale\":[[0.0,\"#0d0887\"],[0.1111111111111111,\"#46039f\"],[0.2222222222222222,\"#7201a8\"],[0.3333333333333333,\"#9c179e\"],[0.4444444444444444,\"#bd3786\"],[0.5555555555555556,\"#d8576b\"],[0.6666666666666666,\"#ed7953\"],[0.7777777777777778,\"#fb9f3a\"],[0.8888888888888888,\"#fdca26\"],[1.0,\"#f0f921\"]]}],\"heatmap\":[{\"type\":\"heatmap\",\"colorbar\":{\"outlinewidth\":0,\"ticks\":\"\"},\"colorscale\":[[0.0,\"#0d0887\"],[0.1111111111111111,\"#46039f\"],[0.2222222222222222,\"#7201a8\"],[0.3333333333333333,\"#9c179e\"],[0.4444444444444444,\"#bd3786\"],[0.5555555555555556,\"#d8576b\"],[0.6666666666666666,\"#ed7953\"],[0.7777777777777778,\"#fb9f3a\"],[0.8888888888888888,\"#fdca26\"],[1.0,\"#f0f921\"]]}],\"heatmapgl\":[{\"type\":\"heatmapgl\",\"colorbar\":{\"outlinewidth\":0,\"ticks\":\"\"},\"colorscale\":[[0.0,\"#0d0887\"],[0.1111111111111111,\"#46039f\"],[0.2222222222222222,\"#7201a8\"],[0.3333333333333333,\"#9c179e\"],[0.4444444444444444,\"#bd3786\"],[0.5555555555555556,\"#d8576b\"],[0.6666666666666666,\"#ed7953\"],[0.7777777777777778,\"#fb9f3a\"],[0.8888888888888888,\"#fdca26\"],[1.0,\"#f0f921\"]]}],\"contourcarpet\":[{\"type\":\"contourcarpet\",\"colorbar\":{\"outlinewidth\":0,\"ticks\":\"\"}}],\"contour\":[{\"type\":\"contour\",\"colorbar\":{\"outlinewidth\":0,\"ticks\":\"\"},\"colorscale\":[[0.0,\"#0d0887\"],[0.1111111111111111,\"#46039f\"],[0.2222222222222222,\"#7201a8\"],[0.3333333333333333,\"#9c179e\"],[0.4444444444444444,\"#bd3786\"],[0.5555555555555556,\"#d8576b\"],[0.6666666666666666,\"#ed7953\"],[0.7777777777777778,\"#fb9f3a\"],[0.8888888888888888,\"#fdca26\"],[1.0,\"#f0f921\"]]}],\"surface\":[{\"type\":\"surface\",\"colorbar\":{\"outlinewidth\":0,\"ticks\":\"\"},\"colorscale\":[[0.0,\"#0d0887\"],[0.1111111111111111,\"#46039f\"],[0.2222222222222222,\"#7201a8\"],[0.3333333333333333,\"#9c179e\"],[0.4444444444444444,\"#bd3786\"],[0.5555555555555556,\"#d8576b\"],[0.6666666666666666,\"#ed7953\"],[0.7777777777777778,\"#fb9f3a\"],[0.8888888888888888,\"#fdca26\"],[1.0,\"#f0f921\"]]}],\"mesh3d\":[{\"type\":\"mesh3d\",\"colorbar\":{\"outlinewidth\":0,\"ticks\":\"\"}}],\"scatter\":[{\"fillpattern\":{\"fillmode\":\"overlay\",\"size\":10,\"solidity\":0.2},\"type\":\"scatter\"}],\"parcoords\":[{\"type\":\"parcoords\",\"line\":{\"colorbar\":{\"outlinewidth\":0,\"ticks\":\"\"}}}],\"scatterpolargl\":[{\"type\":\"scatterpolargl\",\"marker\":{\"colorbar\":{\"outlinewidth\":0,\"ticks\":\"\"}}}],\"bar\":[{\"error_x\":{\"color\":\"#2a3f5f\"},\"error_y\":{\"color\":\"#2a3f5f\"},\"marker\":{\"line\":{\"color\":\"#E5ECF6\",\"width\":0.5},\"pattern\":{\"fillmode\":\"overlay\",\"size\":10,\"solidity\":0.2}},\"type\":\"bar\"}],\"scattergeo\":[{\"type\":\"scattergeo\",\"marker\":{\"colorbar\":{\"outlinewidth\":0,\"ticks\":\"\"}}}],\"scatterpolar\":[{\"type\":\"scatterpolar\",\"marker\":{\"colorbar\":{\"outlinewidth\":0,\"ticks\":\"\"}}}],\"histogram\":[{\"marker\":{\"pattern\":{\"fillmode\":\"overlay\",\"size\":10,\"solidity\":0.2}},\"type\":\"histogram\"}],\"scattergl\":[{\"type\":\"scattergl\",\"marker\":{\"colorbar\":{\"outlinewidth\":0,\"ticks\":\"\"}}}],\"scatter3d\":[{\"type\":\"scatter3d\",\"line\":{\"colorbar\":{\"outlinewidth\":0,\"ticks\":\"\"}},\"marker\":{\"colorbar\":{\"outlinewidth\":0,\"ticks\":\"\"}}}],\"scattermapbox\":[{\"type\":\"scattermapbox\",\"marker\":{\"colorbar\":{\"outlinewidth\":0,\"ticks\":\"\"}}}],\"scatterternary\":[{\"type\":\"scatterternary\",\"marker\":{\"colorbar\":{\"outlinewidth\":0,\"ticks\":\"\"}}}],\"scattercarpet\":[{\"type\":\"scattercarpet\",\"marker\":{\"colorbar\":{\"outlinewidth\":0,\"ticks\":\"\"}}}],\"carpet\":[{\"aaxis\":{\"endlinecolor\":\"#2a3f5f\",\"gridcolor\":\"white\",\"linecolor\":\"white\",\"minorgridcolor\":\"white\",\"startlinecolor\":\"#2a3f5f\"},\"baxis\":{\"endlinecolor\":\"#2a3f5f\",\"gridcolor\":\"white\",\"linecolor\":\"white\",\"minorgridcolor\":\"white\",\"startlinecolor\":\"#2a3f5f\"},\"type\":\"carpet\"}],\"table\":[{\"cells\":{\"fill\":{\"color\":\"#EBF0F8\"},\"line\":{\"color\":\"white\"}},\"header\":{\"fill\":{\"color\":\"#C8D4E3\"},\"line\":{\"color\":\"white\"}},\"type\":\"table\"}],\"barpolar\":[{\"marker\":{\"line\":{\"color\":\"#E5ECF6\",\"width\":0.5},\"pattern\":{\"fillmode\":\"overlay\",\"size\":10,\"solidity\":0.2}},\"type\":\"barpolar\"}],\"pie\":[{\"automargin\":true,\"type\":\"pie\"}]},\"layout\":{\"autotypenumbers\":\"strict\",\"colorway\":[\"#636efa\",\"#EF553B\",\"#00cc96\",\"#ab63fa\",\"#FFA15A\",\"#19d3f3\",\"#FF6692\",\"#B6E880\",\"#FF97FF\",\"#FECB52\"],\"font\":{\"color\":\"#2a3f5f\"},\"hovermode\":\"closest\",\"hoverlabel\":{\"align\":\"left\"},\"paper_bgcolor\":\"white\",\"plot_bgcolor\":\"#E5ECF6\",\"polar\":{\"bgcolor\":\"#E5ECF6\",\"angularaxis\":{\"gridcolor\":\"white\",\"linecolor\":\"white\",\"ticks\":\"\"},\"radialaxis\":{\"gridcolor\":\"white\",\"linecolor\":\"white\",\"ticks\":\"\"}},\"ternary\":{\"bgcolor\":\"#E5ECF6\",\"aaxis\":{\"gridcolor\":\"white\",\"linecolor\":\"white\",\"ticks\":\"\"},\"baxis\":{\"gridcolor\":\"white\",\"linecolor\":\"white\",\"ticks\":\"\"},\"caxis\":{\"gridcolor\":\"white\",\"linecolor\":\"white\",\"ticks\":\"\"}},\"coloraxis\":{\"colorbar\":{\"outlinewidth\":0,\"ticks\":\"\"}},\"colorscale\":{\"sequential\":[[0.0,\"#0d0887\"],[0.1111111111111111,\"#46039f\"],[0.2222222222222222,\"#7201a8\"],[0.3333333333333333,\"#9c179e\"],[0.4444444444444444,\"#bd3786\"],[0.5555555555555556,\"#d8576b\"],[0.6666666666666666,\"#ed7953\"],[0.7777777777777778,\"#fb9f3a\"],[0.8888888888888888,\"#fdca26\"],[1.0,\"#f0f921\"]],\"sequentialminus\":[[0.0,\"#0d0887\"],[0.1111111111111111,\"#46039f\"],[0.2222222222222222,\"#7201a8\"],[0.3333333333333333,\"#9c179e\"],[0.4444444444444444,\"#bd3786\"],[0.5555555555555556,\"#d8576b\"],[0.6666666666666666,\"#ed7953\"],[0.7777777777777778,\"#fb9f3a\"],[0.8888888888888888,\"#fdca26\"],[1.0,\"#f0f921\"]],\"diverging\":[[0,\"#8e0152\"],[0.1,\"#c51b7d\"],[0.2,\"#de77ae\"],[0.3,\"#f1b6da\"],[0.4,\"#fde0ef\"],[0.5,\"#f7f7f7\"],[0.6,\"#e6f5d0\"],[0.7,\"#b8e186\"],[0.8,\"#7fbc41\"],[0.9,\"#4d9221\"],[1,\"#276419\"]]},\"xaxis\":{\"gridcolor\":\"white\",\"linecolor\":\"white\",\"ticks\":\"\",\"title\":{\"standoff\":15},\"zerolinecolor\":\"white\",\"automargin\":true,\"zerolinewidth\":2},\"yaxis\":{\"gridcolor\":\"white\",\"linecolor\":\"white\",\"ticks\":\"\",\"title\":{\"standoff\":15},\"zerolinecolor\":\"white\",\"automargin\":true,\"zerolinewidth\":2},\"scene\":{\"xaxis\":{\"backgroundcolor\":\"#E5ECF6\",\"gridcolor\":\"white\",\"linecolor\":\"white\",\"showbackground\":true,\"ticks\":\"\",\"zerolinecolor\":\"white\",\"gridwidth\":2},\"yaxis\":{\"backgroundcolor\":\"#E5ECF6\",\"gridcolor\":\"white\",\"linecolor\":\"white\",\"showbackground\":true,\"ticks\":\"\",\"zerolinecolor\":\"white\",\"gridwidth\":2},\"zaxis\":{\"backgroundcolor\":\"#E5ECF6\",\"gridcolor\":\"white\",\"linecolor\":\"white\",\"showbackground\":true,\"ticks\":\"\",\"zerolinecolor\":\"white\",\"gridwidth\":2}},\"shapedefaults\":{\"line\":{\"color\":\"#2a3f5f\"}},\"annotationdefaults\":{\"arrowcolor\":\"#2a3f5f\",\"arrowhead\":0,\"arrowwidth\":1},\"geo\":{\"bgcolor\":\"white\",\"landcolor\":\"#E5ECF6\",\"subunitcolor\":\"white\",\"showland\":true,\"showlakes\":true,\"lakecolor\":\"white\"},\"title\":{\"x\":0.05},\"mapbox\":{\"style\":\"light\"}}},\"xaxis\":{\"anchor\":\"y\",\"domain\":[0.0,1.0],\"title\":{\"text\":\"index\"}},\"yaxis\":{\"anchor\":\"x\",\"domain\":[0.0,1.0],\"title\":{\"text\":\"value\"}},\"legend\":{\"title\":{\"text\":\"variable\"},\"tracegroupgap\":0},\"margin\":{\"t\":60}},                        {\"responsive\": true}                    ).then(function(){\n",
       "                            \n",
       "var gd = document.getElementById('7764a80e-e942-468a-b08e-6a7c42439bbc');\n",
       "var x = new MutationObserver(function (mutations, observer) {{\n",
       "        var display = window.getComputedStyle(gd).display;\n",
       "        if (!display || display === 'none') {{\n",
       "            console.log([gd, 'removed!']);\n",
       "            Plotly.purge(gd);\n",
       "            observer.disconnect();\n",
       "        }}\n",
       "}});\n",
       "\n",
       "// Listen for the removal of the full notebook cells\n",
       "var notebookContainer = gd.closest('#notebook-container');\n",
       "if (notebookContainer) {{\n",
       "    x.observe(notebookContainer, {childList: true});\n",
       "}}\n",
       "\n",
       "// Listen for the clearing of the current output cell\n",
       "var outputEl = gd.closest('.output');\n",
       "if (outputEl) {{\n",
       "    x.observe(outputEl, {childList: true});\n",
       "}}\n",
       "\n",
       "                        })                };                });            </script>        </div>"
      ]
     },
     "metadata": {},
     "output_type": "display_data"
    }
   ],
   "source": [
    "evals_for_scales = [eval(1062, scale=scale) for scale in range(120)]\n",
    "px.line(evals_for_scales)"
   ]
  },
  {
   "cell_type": "code",
   "execution_count": 86,
   "metadata": {},
   "outputs": [
    {
     "data": {
      "application/vnd.plotly.v1+json": {
       "config": {
        "plotlyServerURL": "https://plot.ly"
       },
       "data": [
        {
         "hovertemplate": "variable=0<br>index=%{x}<br>value=%{y}<extra></extra>",
         "legendgroup": "0",
         "line": {
          "color": "#636efa",
          "dash": "solid"
         },
         "marker": {
          "symbol": "circle"
         },
         "mode": "lines",
         "name": "0",
         "orientation": "v",
         "showlegend": true,
         "type": "scatter",
         "x": [
          0,
          1,
          2,
          3,
          4,
          5,
          6,
          7,
          8,
          9,
          10,
          11,
          12,
          13,
          14,
          15,
          16,
          17,
          18,
          19,
          20,
          21,
          22,
          23,
          24,
          25,
          26,
          27,
          28,
          29,
          30,
          31,
          32,
          33,
          34,
          35,
          36,
          37,
          38,
          39,
          40,
          41,
          42,
          43,
          44,
          45,
          46,
          47,
          48,
          49,
          50,
          51,
          52,
          53,
          54,
          55,
          56,
          57,
          58,
          59,
          60,
          61,
          62,
          63,
          64,
          65,
          66,
          67,
          68,
          69,
          70,
          71,
          72,
          73,
          74,
          75,
          76,
          77,
          78,
          79,
          80,
          81,
          82,
          83,
          84,
          85,
          86,
          87,
          88,
          89,
          90,
          91,
          92,
          93,
          94,
          95,
          96,
          97,
          98,
          99,
          100,
          101,
          102,
          103,
          104,
          105,
          106,
          107,
          108,
          109,
          110,
          111,
          112,
          113,
          114,
          115,
          116,
          117,
          118,
          119
         ],
         "xaxis": "x",
         "y": [
          0.5197285413742065,
          0.519078254699707,
          0.5184454321861267,
          0.5178188681602478,
          0.5171971321105957,
          0.516595184803009,
          0.5159866213798523,
          0.515390157699585,
          0.514803946018219,
          0.514225959777832,
          0.5136478543281555,
          0.5130752921104431,
          0.5125037431716919,
          0.5119404196739197,
          0.5113807320594788,
          0.5108217597007751,
          0.5102666616439819,
          0.5097109079360962,
          0.5091569423675537,
          0.5086009502410889,
          0.5080457925796509,
          0.5074937343597412,
          0.5069384574890137,
          0.5063827633857727,
          0.505827009677887,
          0.5052706599235535,
          0.5047130584716797,
          0.5041530132293701,
          0.5035926103591919,
          0.5030333399772644,
          0.5024721026420593,
          0.5019084811210632,
          0.5013470649719238,
          0.5007897615432739,
          0.5002252459526062,
          0.49966418743133545,
          0.49909481406211853,
          0.49852848052978516,
          0.49796608090400696,
          0.49738967418670654,
          0.49682530760765076,
          0.4962538182735443,
          0.4956780672073364,
          0.49509894847869873,
          0.49453088641166687,
          0.49395427107810974,
          0.49337509274482727,
          0.49280115962028503,
          0.4922224283218384,
          0.4916508197784424,
          0.49108660221099854,
          0.4905368685722351,
          0.48999086022377014,
          0.4894661605358124,
          0.48896440863609314,
          0.48849356174468994,
          0.48806309700012207,
          0.48769140243530273,
          0.48738470673561096,
          0.48716381192207336,
          0.48704931139945984,
          0.48706990480422974,
          0.48723670840263367,
          0.48761099576950073,
          0.48820212483406067,
          0.4890458881855011,
          0.490194708108902,
          0.49168071150779724,
          0.4935331642627716,
          0.4957945644855499,
          0.4984729588031769,
          0.5016001462936401,
          0.5051892399787903,
          0.5092189311981201,
          0.5136932730674744,
          0.5185641050338745,
          0.5237933397293091,
          0.5293219089508057,
          0.5350617170333862,
          0.5409314036369324,
          0.546816349029541,
          0.5525845289230347,
          0.558120846748352,
          0.5632550120353699,
          0.5678260922431946,
          0.571656346321106,
          0.5745519399642944,
          0.5763098001480103,
          0.5766908526420593,
          0.5754688382148743,
          0.5723649859428406,
          0.5671044588088989,
          0.5593971014022827,
          0.5489529967308044,
          0.5355234742164612,
          0.5189029574394226,
          0.49898794293403625,
          0.4758259057998657,
          0.449600487947464,
          0.42072513699531555,
          0.389781653881073,
          0.35748404264450073,
          0.32466360926628113,
          0.2921260595321655,
          0.26064056158065796,
          0.23082375526428223,
          0.20314517617225647,
          0.1778804063796997,
          0.15516062080860138,
          0.13498207926750183,
          0.11723076552152634,
          0.1017402857542038,
          0.0883074626326561,
          0.07670699805021286,
          0.06672044098377228,
          0.05813905969262123,
          0.050772566348314285,
          0.044448092579841614,
          0.03901881352066994,
          0.03435051068663597
         ],
         "yaxis": "y"
        },
        {
         "hovertemplate": "variable=1<br>index=%{x}<br>value=%{y}<extra></extra>",
         "legendgroup": "1",
         "line": {
          "color": "#EF553B",
          "dash": "solid"
         },
         "marker": {
          "symbol": "circle"
         },
         "mode": "lines",
         "name": "1",
         "orientation": "v",
         "showlegend": true,
         "type": "scatter",
         "x": [
          0,
          1,
          2,
          3,
          4,
          5,
          6,
          7,
          8,
          9,
          10,
          11,
          12,
          13,
          14,
          15,
          16,
          17,
          18,
          19,
          20,
          21,
          22,
          23,
          24,
          25,
          26,
          27,
          28,
          29,
          30,
          31,
          32,
          33,
          34,
          35,
          36,
          37,
          38,
          39,
          40,
          41,
          42,
          43,
          44,
          45,
          46,
          47,
          48,
          49,
          50,
          51,
          52,
          53,
          54,
          55,
          56,
          57,
          58,
          59,
          60,
          61,
          62,
          63,
          64,
          65,
          66,
          67,
          68,
          69,
          70,
          71,
          72,
          73,
          74,
          75,
          76,
          77,
          78,
          79,
          80,
          81,
          82,
          83,
          84,
          85,
          86,
          87,
          88,
          89,
          90,
          91,
          92,
          93,
          94,
          95,
          96,
          97,
          98,
          99,
          100,
          101,
          102,
          103,
          104,
          105,
          106,
          107,
          108,
          109,
          110,
          111,
          112,
          113,
          114,
          115,
          116,
          117,
          118,
          119
         ],
         "xaxis": "x",
         "y": [
          0.9987413287162781,
          0.9987233281135559,
          0.9987033605575562,
          0.9986814856529236,
          0.9986581802368164,
          0.9986327290534973,
          0.9986051917076111,
          0.9985756874084473,
          0.9985435009002686,
          0.9985094666481018,
          0.9984723925590515,
          0.9984328150749207,
          0.9983906745910645,
          0.9983450174331665,
          0.9982965588569641,
          0.9982445240020752,
          0.9981889128684998,
          0.998129665851593,
          0.998066246509552,
          0.9979984164237976,
          0.9979261159896851,
          0.9978488683700562,
          0.997766375541687,
          0.9976779818534851,
          0.9975837469100952,
          0.99748295545578,
          0.9973746538162231,
          0.9972590208053589,
          0.9971349239349365,
          0.997001588344574,
          0.9968582391738892,
          0.9967034459114075,
          0.9965362548828125,
          0.9963550567626953,
          0.9961578249931335,
          0.9959424138069153,
          0.9957067370414734,
          0.9954467415809631,
          0.9951594471931458,
          0.9948397278785706,
          0.9944818019866943,
          0.9940789937973022,
          0.9936226010322571,
          0.9931023120880127,
          0.9925049543380737,
          0.9918151497840881,
          0.9910137057304382,
          0.9900749325752258,
          0.9889700412750244,
          0.9876614809036255,
          0.9861012101173401,
          0.9842309355735779,
          0.981975793838501,
          0.9792428016662598,
          0.9759114384651184,
          0.9718340039253235,
          0.9668191075325012,
          0.960629403591156,
          0.9529655575752258,
          0.9434554576873779,
          0.9316449761390686,
          0.9169880747795105,
          0.8988423347473145,
          0.8764833211898804,
          0.8491419553756714,
          0.816073477268219,
          0.7766672968864441,
          0.7305970788002014,
          0.6779842972755432,
          0.6195482015609741,
          0.5566978454589844,
          0.4914225935935974,
          0.4260810911655426,
          0.3630730211734772,
          0.3044675290584564,
          0.25174784660339355,
          0.2057344913482666,
          0.16658219695091248,
          0.13396984338760376,
          0.10726029425859451,
          0.08564545214176178,
          0.06831236183643341,
          0.05449121072888374,
          0.04351242259144783,
          0.03481337055563927,
          0.027938058599829674,
          0.022519633173942566,
          0.018264830112457275,
          0.014939585700631142,
          0.012351823039352894,
          0.010344804264605045,
          0.008791759610176086,
          0.007589553948491812,
          0.006654748227447271,
          0.005922484677284956,
          0.005341403651982546,
          0.004872864577919245,
          0.004487293306738138,
          0.004162634257227182,
          0.0038831441197544336,
          0.0036374619230628014,
          0.003417866537347436,
          0.0032187984324991703,
          0.0030366284772753716,
          0.0028690153267234564,
          0.0027141410391777754,
          0.002570760203525424,
          0.0024379182141274214,
          0.0023148234467953444,
          0.0022007478401064873,
          0.0020949800964444876,
          0.001996980980038643,
          0.0019061060156673193,
          0.0018218497280031443,
          0.0017435955815017223,
          0.0016709829214960337,
          0.0016034746076911688,
          0.0015406468883156776,
          0.0014821735676378012,
          0.0014276643050834537
         ],
         "yaxis": "y"
        },
        {
         "hovertemplate": "variable=2<br>index=%{x}<br>value=%{y}<extra></extra>",
         "legendgroup": "2",
         "line": {
          "color": "#00cc96",
          "dash": "solid"
         },
         "marker": {
          "symbol": "circle"
         },
         "mode": "lines",
         "name": "2",
         "orientation": "v",
         "showlegend": true,
         "type": "scatter",
         "x": [
          0,
          1,
          2,
          3,
          4,
          5,
          6,
          7,
          8,
          9,
          10,
          11,
          12,
          13,
          14,
          15,
          16,
          17,
          18,
          19,
          20,
          21,
          22,
          23,
          24,
          25,
          26,
          27,
          28,
          29,
          30,
          31,
          32,
          33,
          34,
          35,
          36,
          37,
          38,
          39,
          40,
          41,
          42,
          43,
          44,
          45,
          46,
          47,
          48,
          49,
          50,
          51,
          52,
          53,
          54,
          55,
          56,
          57,
          58,
          59,
          60,
          61,
          62,
          63,
          64,
          65,
          66,
          67,
          68,
          69,
          70,
          71,
          72,
          73,
          74,
          75,
          76,
          77,
          78,
          79,
          80,
          81,
          82,
          83,
          84,
          85,
          86,
          87,
          88,
          89,
          90,
          91,
          92,
          93,
          94,
          95,
          96,
          97,
          98,
          99,
          100,
          101,
          102,
          103,
          104,
          105,
          106,
          107,
          108,
          109,
          110,
          111,
          112,
          113,
          114,
          115,
          116,
          117,
          118,
          119
         ],
         "xaxis": "x",
         "y": [
          0.9916979074478149,
          0.991710901260376,
          0.9917241930961609,
          0.9917375445365906,
          0.9917513728141785,
          0.9917661547660828,
          0.9917809367179871,
          0.9917959570884705,
          0.9918115139007568,
          0.9918274879455566,
          0.9918437600135803,
          0.9918602108955383,
          0.9918771982192993,
          0.9918944239616394,
          0.991911768913269,
          0.9919296503067017,
          0.9919474720954895,
          0.9919657707214355,
          0.9919841885566711,
          0.9920030832290649,
          0.9920217990875244,
          0.9920411705970764,
          0.9920607805252075,
          0.9920806288719177,
          0.9921005368232727,
          0.9921211004257202,
          0.9921419620513916,
          0.9921634197235107,
          0.9921849370002747,
          0.9922074675559998,
          0.9922305941581726,
          0.9922540187835693,
          0.9922777414321899,
          0.992302656173706,
          0.9923283457756042,
          0.9923542737960815,
          0.9923815131187439,
          0.9924092292785645,
          0.9924376606941223,
          0.9924665093421936,
          0.9924966096878052,
          0.9925270080566406,
          0.9925576448440552,
          0.9925888776779175,
          0.9926199316978455,
          0.9926511645317078,
          0.9926815629005432,
          0.9927105903625488,
          0.9927385449409485,
          0.992764413356781,
          0.9927871823310852,
          0.9928061366081238,
          0.9928203225135803,
          0.9928285479545593,
          0.9928296208381653,
          0.9928216338157654,
          0.9928029179573059,
          0.9927720427513123,
          0.9927263259887695,
          0.9926632642745972,
          0.9925806522369385,
          0.9924748539924622,
          0.9923427700996399,
          0.992180347442627,
          0.9919829964637756,
          0.9917455315589905,
          0.9914621710777283,
          0.9911252856254578,
          0.9907273054122925,
          0.9902586936950684,
          0.9897080659866333,
          0.9890623688697815,
          0.9883055686950684,
          0.9874191880226135,
          0.9863818883895874,
          0.9851683378219604,
          0.9837485551834106,
          0.9820883870124817,
          0.980148434638977,
          0.9778828024864197,
          0.9752393364906311,
          0.9721613526344299,
          0.9685843586921692,
          0.9644380807876587,
          0.9596481919288635,
          0.9541364312171936,
          0.9478231072425842,
          0.9406282305717468,
          0.9324741363525391,
          0.9232964515686035,
          0.9130345582962036,
          0.9016445875167847,
          0.8891037702560425,
          0.8754082322120667,
          0.860571026802063,
          0.8446381092071533,
          0.827672004699707,
          0.8097538948059082,
          0.7909926772117615,
          0.7715072631835938,
          0.7514200806617737,
          0.7308799028396606,
          0.7100124955177307,
          0.6889613270759583,
          0.6678608655929565,
          0.6468262672424316,
          0.6259720325469971,
          0.6054022312164307,
          0.5851984024047852,
          0.5654412508010864,
          0.5461870431900024,
          0.5274890661239624,
          0.5093755722045898,
          0.4918713867664337,
          0.4750058352947235,
          0.45878246426582336,
          0.44319289922714233,
          0.42823949456214905,
          0.4139140546321869,
          0.40020671486854553
         ],
         "yaxis": "y"
        },
        {
         "hovertemplate": "variable=3<br>index=%{x}<br>value=%{y}<extra></extra>",
         "legendgroup": "3",
         "line": {
          "color": "#ab63fa",
          "dash": "solid"
         },
         "marker": {
          "symbol": "circle"
         },
         "mode": "lines",
         "name": "3",
         "orientation": "v",
         "showlegend": true,
         "type": "scatter",
         "x": [
          0,
          1,
          2,
          3,
          4,
          5,
          6,
          7,
          8,
          9,
          10,
          11,
          12,
          13,
          14,
          15,
          16,
          17,
          18,
          19,
          20,
          21,
          22,
          23,
          24,
          25,
          26,
          27,
          28,
          29,
          30,
          31,
          32,
          33,
          34,
          35,
          36,
          37,
          38,
          39,
          40,
          41,
          42,
          43,
          44,
          45,
          46,
          47,
          48,
          49,
          50,
          51,
          52,
          53,
          54,
          55,
          56,
          57,
          58,
          59,
          60,
          61,
          62,
          63,
          64,
          65,
          66,
          67,
          68,
          69,
          70,
          71,
          72,
          73,
          74,
          75,
          76,
          77,
          78,
          79,
          80,
          81,
          82,
          83,
          84,
          85,
          86,
          87,
          88,
          89,
          90,
          91,
          92,
          93,
          94,
          95,
          96,
          97,
          98,
          99,
          100,
          101,
          102,
          103,
          104,
          105,
          106,
          107,
          108,
          109,
          110,
          111,
          112,
          113,
          114,
          115,
          116,
          117,
          118,
          119
         ],
         "xaxis": "x",
         "y": [
          0.9746212363243103,
          0.9746058583259583,
          0.9745927453041077,
          0.9745813012123108,
          0.9745721220970154,
          0.9745640754699707,
          0.9745590686798096,
          0.9745550155639648,
          0.9745523929595947,
          0.9745517373085022,
          0.9745519757270813,
          0.9745538830757141,
          0.9745568037033081,
          0.9745611548423767,
          0.974565327167511,
          0.9745716452598572,
          0.9745780825614929,
          0.9745849967002869,
          0.9745936393737793,
          0.9746018648147583,
          0.9746106266975403,
          0.9746203422546387,
          0.9746296405792236,
          0.9746400713920593,
          0.9746504426002502,
          0.9746607542037964,
          0.9746713042259216,
          0.9746822714805603,
          0.9746937155723572,
          0.974705159664154,
          0.9747171998023987,
          0.9747294187545776,
          0.9747416377067566,
          0.9747543334960938,
          0.9747676849365234,
          0.9747813940048218,
          0.9747959971427917,
          0.9748114347457886,
          0.9748271703720093,
          0.9748438000679016,
          0.9748619198799133,
          0.9748809933662415,
          0.9749012589454651,
          0.9749225378036499,
          0.9749456644058228,
          0.9749709367752075,
          0.9749981164932251,
          0.9750264883041382,
          0.9750571846961975,
          0.9750903844833374,
          0.9751260876655579,
          0.9751642942428589,
          0.9752050042152405,
          0.9752491116523743,
          0.975295901298523,
          0.975345253944397,
          0.9753971695899963,
          0.9754527807235718,
          0.9755104184150696,
          0.9755716323852539,
          0.9756354093551636,
          0.9757012128829956,
          0.9757696986198425,
          0.9758390188217163,
          0.9759106636047363,
          0.975983202457428,
          0.9760550856590271,
          0.9761270880699158,
          0.9761971831321716,
          0.976262629032135,
          0.9763221740722656,
          0.9763720631599426,
          0.976408064365387,
          0.97642582654953,
          0.9764175415039062,
          0.976375162601471,
          0.9762886762619019,
          0.9761461019515991,
          0.9759320020675659,
          0.9756311178207397,
          0.9752236008644104,
          0.9746872782707214,
          0.9739970564842224,
          0.9731252193450928,
          0.9720407724380493,
          0.9707080721855164,
          0.9690885543823242,
          0.9671411514282227,
          0.9648200869560242,
          0.9620755314826965,
          0.9588549733161926,
          0.9551036953926086,
          0.950766384601593,
          0.9457820057868958,
          0.940097451210022,
          0.9336552619934082,
          0.9264044165611267,
          0.9182994961738586,
          0.9092944860458374,
          0.8993647694587708,
          0.8884838819503784,
          0.8766472935676575,
          0.8638499975204468,
          0.8501118421554565,
          0.8354596495628357,
          0.8199355602264404,
          0.8035945892333984,
          0.7865071892738342,
          0.7687562108039856,
          0.7504129409790039,
          0.7315810918807983,
          0.7123669981956482,
          0.6928573846817017,
          0.6731576323509216,
          0.6533768773078918,
          0.6336048245429993,
          0.6139259934425354,
          0.5944333076477051,
          0.5751973390579224,
          0.5562735795974731
         ],
         "yaxis": "y"
        },
        {
         "hovertemplate": "variable=4<br>index=%{x}<br>value=%{y}<extra></extra>",
         "legendgroup": "4",
         "line": {
          "color": "#FFA15A",
          "dash": "solid"
         },
         "marker": {
          "symbol": "circle"
         },
         "mode": "lines",
         "name": "4",
         "orientation": "v",
         "showlegend": true,
         "type": "scatter",
         "x": [
          0,
          1,
          2,
          3,
          4,
          5,
          6,
          7,
          8,
          9,
          10,
          11,
          12,
          13,
          14,
          15,
          16,
          17,
          18,
          19,
          20,
          21,
          22,
          23,
          24,
          25,
          26,
          27,
          28,
          29,
          30,
          31,
          32,
          33,
          34,
          35,
          36,
          37,
          38,
          39,
          40,
          41,
          42,
          43,
          44,
          45,
          46,
          47,
          48,
          49,
          50,
          51,
          52,
          53,
          54,
          55,
          56,
          57,
          58,
          59,
          60,
          61,
          62,
          63,
          64,
          65,
          66,
          67,
          68,
          69,
          70,
          71,
          72,
          73,
          74,
          75,
          76,
          77,
          78,
          79,
          80,
          81,
          82,
          83,
          84,
          85,
          86,
          87,
          88,
          89,
          90,
          91,
          92,
          93,
          94,
          95,
          96,
          97,
          98,
          99,
          100,
          101,
          102,
          103,
          104,
          105,
          106,
          107,
          108,
          109,
          110,
          111,
          112,
          113,
          114,
          115,
          116,
          117,
          118,
          119
         ],
         "xaxis": "x",
         "y": [
          0.9996910095214844,
          0.9996918439865112,
          0.999692440032959,
          0.9996927976608276,
          0.9996932744979858,
          0.9996933937072754,
          0.9996935129165649,
          0.9996935129165649,
          0.9996935129165649,
          0.9996931552886963,
          0.9996927976608276,
          0.9996920824050903,
          0.9996916055679321,
          0.9996908903121948,
          0.9996899366378784,
          0.9996887445449829,
          0.9996874332427979,
          0.9996863603591919,
          0.9996845722198486,
          0.9996829032897949,
          0.9996813535690308,
          0.9996792078018188,
          0.9996771812438965,
          0.9996746778488159,
          0.9996720552444458,
          0.9996693134307861,
          0.9996664524078369,
          0.9996633529663086,
          0.9996598958969116,
          0.9996563196182251,
          0.9996523857116699,
          0.9996483325958252,
          0.9996440410614014,
          0.9996392726898193,
          0.9996341466903687,
          0.9996286630630493,
          0.9996228218078613,
          0.9996165037155151,
          0.9996097683906555,
          0.9996022582054138,
          0.9995941519737244,
          0.9995854496955872,
          0.999575674533844,
          0.999565064907074,
          0.999553382396698,
          0.9995402097702026,
          0.9995260238647461,
          0.9995096921920776,
          0.9994915723800659,
          0.9994713664054871,
          0.9994484782218933,
          0.9994223117828369,
          0.9993925094604492,
          0.9993584752082825,
          0.9993194341659546,
          0.9992744326591492,
          0.999221920967102,
          0.9991607666015625,
          0.9990887641906738,
          0.9990034699440002,
          0.9989017248153687,
          0.9987791180610657,
          0.998630166053772,
          0.9984474778175354,
          0.9982206225395203,
          0.9979357719421387,
          0.9975737929344177,
          0.9971086382865906,
          0.9965022802352905,
          0.9957028031349182,
          0.9946345090866089,
          0.9931918978691101,
          0.9912221431732178,
          0.9885079264640808,
          0.9847405552864075,
          0.9794843792915344,
          0.9721353054046631,
          0.9618683457374573,
          0.9475969672203064,
          0.9279603958129883,
          0.9013498425483704,
          0.8660818338394165,
          0.8206986784934998,
          0.764450192451477,
          0.6978136301040649,
          0.6228563189506531,
          0.5431155562400818,
          0.46300795674324036,
          0.38680189847946167,
          0.31779590249061584,
          0.2578667402267456,
          0.20753292739391327,
          0.16628685593605042,
          0.1330585479736328,
          0.10656828433275223,
          0.08556705713272095,
          0.06895113736391068,
          0.055802397429943085,
          0.04539258033037186,
          0.03715173155069351,
          0.030633501708507538,
          0.0254878681153059,
          0.021434443071484566,
          0.01824888586997986,
          0.01574827916920185,
          0.01378626748919487,
          0.01224340870976448,
          0.011025357991456985,
          0.010056523606181145,
          0.00927831418812275,
          0.008644547313451767,
          0.00811970978975296,
          0.007677019573748112,
          0.007295707240700722,
          0.006960825528949499,
          0.0066609629429876804,
          0.006388077512383461,
          0.006136222742497921,
          0.00590154342353344,
          0.005681027192622423
         ],
         "yaxis": "y"
        }
       ],
       "layout": {
        "legend": {
         "title": {
          "text": "variable"
         },
         "tracegroupgap": 0
        },
        "margin": {
         "t": 60
        },
        "template": {
         "data": {
          "bar": [
           {
            "error_x": {
             "color": "#2a3f5f"
            },
            "error_y": {
             "color": "#2a3f5f"
            },
            "marker": {
             "line": {
              "color": "#E5ECF6",
              "width": 0.5
             },
             "pattern": {
              "fillmode": "overlay",
              "size": 10,
              "solidity": 0.2
             }
            },
            "type": "bar"
           }
          ],
          "barpolar": [
           {
            "marker": {
             "line": {
              "color": "#E5ECF6",
              "width": 0.5
             },
             "pattern": {
              "fillmode": "overlay",
              "size": 10,
              "solidity": 0.2
             }
            },
            "type": "barpolar"
           }
          ],
          "carpet": [
           {
            "aaxis": {
             "endlinecolor": "#2a3f5f",
             "gridcolor": "white",
             "linecolor": "white",
             "minorgridcolor": "white",
             "startlinecolor": "#2a3f5f"
            },
            "baxis": {
             "endlinecolor": "#2a3f5f",
             "gridcolor": "white",
             "linecolor": "white",
             "minorgridcolor": "white",
             "startlinecolor": "#2a3f5f"
            },
            "type": "carpet"
           }
          ],
          "choropleth": [
           {
            "colorbar": {
             "outlinewidth": 0,
             "ticks": ""
            },
            "type": "choropleth"
           }
          ],
          "contour": [
           {
            "colorbar": {
             "outlinewidth": 0,
             "ticks": ""
            },
            "colorscale": [
             [
              0,
              "#0d0887"
             ],
             [
              0.1111111111111111,
              "#46039f"
             ],
             [
              0.2222222222222222,
              "#7201a8"
             ],
             [
              0.3333333333333333,
              "#9c179e"
             ],
             [
              0.4444444444444444,
              "#bd3786"
             ],
             [
              0.5555555555555556,
              "#d8576b"
             ],
             [
              0.6666666666666666,
              "#ed7953"
             ],
             [
              0.7777777777777778,
              "#fb9f3a"
             ],
             [
              0.8888888888888888,
              "#fdca26"
             ],
             [
              1,
              "#f0f921"
             ]
            ],
            "type": "contour"
           }
          ],
          "contourcarpet": [
           {
            "colorbar": {
             "outlinewidth": 0,
             "ticks": ""
            },
            "type": "contourcarpet"
           }
          ],
          "heatmap": [
           {
            "colorbar": {
             "outlinewidth": 0,
             "ticks": ""
            },
            "colorscale": [
             [
              0,
              "#0d0887"
             ],
             [
              0.1111111111111111,
              "#46039f"
             ],
             [
              0.2222222222222222,
              "#7201a8"
             ],
             [
              0.3333333333333333,
              "#9c179e"
             ],
             [
              0.4444444444444444,
              "#bd3786"
             ],
             [
              0.5555555555555556,
              "#d8576b"
             ],
             [
              0.6666666666666666,
              "#ed7953"
             ],
             [
              0.7777777777777778,
              "#fb9f3a"
             ],
             [
              0.8888888888888888,
              "#fdca26"
             ],
             [
              1,
              "#f0f921"
             ]
            ],
            "type": "heatmap"
           }
          ],
          "heatmapgl": [
           {
            "colorbar": {
             "outlinewidth": 0,
             "ticks": ""
            },
            "colorscale": [
             [
              0,
              "#0d0887"
             ],
             [
              0.1111111111111111,
              "#46039f"
             ],
             [
              0.2222222222222222,
              "#7201a8"
             ],
             [
              0.3333333333333333,
              "#9c179e"
             ],
             [
              0.4444444444444444,
              "#bd3786"
             ],
             [
              0.5555555555555556,
              "#d8576b"
             ],
             [
              0.6666666666666666,
              "#ed7953"
             ],
             [
              0.7777777777777778,
              "#fb9f3a"
             ],
             [
              0.8888888888888888,
              "#fdca26"
             ],
             [
              1,
              "#f0f921"
             ]
            ],
            "type": "heatmapgl"
           }
          ],
          "histogram": [
           {
            "marker": {
             "pattern": {
              "fillmode": "overlay",
              "size": 10,
              "solidity": 0.2
             }
            },
            "type": "histogram"
           }
          ],
          "histogram2d": [
           {
            "colorbar": {
             "outlinewidth": 0,
             "ticks": ""
            },
            "colorscale": [
             [
              0,
              "#0d0887"
             ],
             [
              0.1111111111111111,
              "#46039f"
             ],
             [
              0.2222222222222222,
              "#7201a8"
             ],
             [
              0.3333333333333333,
              "#9c179e"
             ],
             [
              0.4444444444444444,
              "#bd3786"
             ],
             [
              0.5555555555555556,
              "#d8576b"
             ],
             [
              0.6666666666666666,
              "#ed7953"
             ],
             [
              0.7777777777777778,
              "#fb9f3a"
             ],
             [
              0.8888888888888888,
              "#fdca26"
             ],
             [
              1,
              "#f0f921"
             ]
            ],
            "type": "histogram2d"
           }
          ],
          "histogram2dcontour": [
           {
            "colorbar": {
             "outlinewidth": 0,
             "ticks": ""
            },
            "colorscale": [
             [
              0,
              "#0d0887"
             ],
             [
              0.1111111111111111,
              "#46039f"
             ],
             [
              0.2222222222222222,
              "#7201a8"
             ],
             [
              0.3333333333333333,
              "#9c179e"
             ],
             [
              0.4444444444444444,
              "#bd3786"
             ],
             [
              0.5555555555555556,
              "#d8576b"
             ],
             [
              0.6666666666666666,
              "#ed7953"
             ],
             [
              0.7777777777777778,
              "#fb9f3a"
             ],
             [
              0.8888888888888888,
              "#fdca26"
             ],
             [
              1,
              "#f0f921"
             ]
            ],
            "type": "histogram2dcontour"
           }
          ],
          "mesh3d": [
           {
            "colorbar": {
             "outlinewidth": 0,
             "ticks": ""
            },
            "type": "mesh3d"
           }
          ],
          "parcoords": [
           {
            "line": {
             "colorbar": {
              "outlinewidth": 0,
              "ticks": ""
             }
            },
            "type": "parcoords"
           }
          ],
          "pie": [
           {
            "automargin": true,
            "type": "pie"
           }
          ],
          "scatter": [
           {
            "fillpattern": {
             "fillmode": "overlay",
             "size": 10,
             "solidity": 0.2
            },
            "type": "scatter"
           }
          ],
          "scatter3d": [
           {
            "line": {
             "colorbar": {
              "outlinewidth": 0,
              "ticks": ""
             }
            },
            "marker": {
             "colorbar": {
              "outlinewidth": 0,
              "ticks": ""
             }
            },
            "type": "scatter3d"
           }
          ],
          "scattercarpet": [
           {
            "marker": {
             "colorbar": {
              "outlinewidth": 0,
              "ticks": ""
             }
            },
            "type": "scattercarpet"
           }
          ],
          "scattergeo": [
           {
            "marker": {
             "colorbar": {
              "outlinewidth": 0,
              "ticks": ""
             }
            },
            "type": "scattergeo"
           }
          ],
          "scattergl": [
           {
            "marker": {
             "colorbar": {
              "outlinewidth": 0,
              "ticks": ""
             }
            },
            "type": "scattergl"
           }
          ],
          "scattermapbox": [
           {
            "marker": {
             "colorbar": {
              "outlinewidth": 0,
              "ticks": ""
             }
            },
            "type": "scattermapbox"
           }
          ],
          "scatterpolar": [
           {
            "marker": {
             "colorbar": {
              "outlinewidth": 0,
              "ticks": ""
             }
            },
            "type": "scatterpolar"
           }
          ],
          "scatterpolargl": [
           {
            "marker": {
             "colorbar": {
              "outlinewidth": 0,
              "ticks": ""
             }
            },
            "type": "scatterpolargl"
           }
          ],
          "scatterternary": [
           {
            "marker": {
             "colorbar": {
              "outlinewidth": 0,
              "ticks": ""
             }
            },
            "type": "scatterternary"
           }
          ],
          "surface": [
           {
            "colorbar": {
             "outlinewidth": 0,
             "ticks": ""
            },
            "colorscale": [
             [
              0,
              "#0d0887"
             ],
             [
              0.1111111111111111,
              "#46039f"
             ],
             [
              0.2222222222222222,
              "#7201a8"
             ],
             [
              0.3333333333333333,
              "#9c179e"
             ],
             [
              0.4444444444444444,
              "#bd3786"
             ],
             [
              0.5555555555555556,
              "#d8576b"
             ],
             [
              0.6666666666666666,
              "#ed7953"
             ],
             [
              0.7777777777777778,
              "#fb9f3a"
             ],
             [
              0.8888888888888888,
              "#fdca26"
             ],
             [
              1,
              "#f0f921"
             ]
            ],
            "type": "surface"
           }
          ],
          "table": [
           {
            "cells": {
             "fill": {
              "color": "#EBF0F8"
             },
             "line": {
              "color": "white"
             }
            },
            "header": {
             "fill": {
              "color": "#C8D4E3"
             },
             "line": {
              "color": "white"
             }
            },
            "type": "table"
           }
          ]
         },
         "layout": {
          "annotationdefaults": {
           "arrowcolor": "#2a3f5f",
           "arrowhead": 0,
           "arrowwidth": 1
          },
          "autotypenumbers": "strict",
          "coloraxis": {
           "colorbar": {
            "outlinewidth": 0,
            "ticks": ""
           }
          },
          "colorscale": {
           "diverging": [
            [
             0,
             "#8e0152"
            ],
            [
             0.1,
             "#c51b7d"
            ],
            [
             0.2,
             "#de77ae"
            ],
            [
             0.3,
             "#f1b6da"
            ],
            [
             0.4,
             "#fde0ef"
            ],
            [
             0.5,
             "#f7f7f7"
            ],
            [
             0.6,
             "#e6f5d0"
            ],
            [
             0.7,
             "#b8e186"
            ],
            [
             0.8,
             "#7fbc41"
            ],
            [
             0.9,
             "#4d9221"
            ],
            [
             1,
             "#276419"
            ]
           ],
           "sequential": [
            [
             0,
             "#0d0887"
            ],
            [
             0.1111111111111111,
             "#46039f"
            ],
            [
             0.2222222222222222,
             "#7201a8"
            ],
            [
             0.3333333333333333,
             "#9c179e"
            ],
            [
             0.4444444444444444,
             "#bd3786"
            ],
            [
             0.5555555555555556,
             "#d8576b"
            ],
            [
             0.6666666666666666,
             "#ed7953"
            ],
            [
             0.7777777777777778,
             "#fb9f3a"
            ],
            [
             0.8888888888888888,
             "#fdca26"
            ],
            [
             1,
             "#f0f921"
            ]
           ],
           "sequentialminus": [
            [
             0,
             "#0d0887"
            ],
            [
             0.1111111111111111,
             "#46039f"
            ],
            [
             0.2222222222222222,
             "#7201a8"
            ],
            [
             0.3333333333333333,
             "#9c179e"
            ],
            [
             0.4444444444444444,
             "#bd3786"
            ],
            [
             0.5555555555555556,
             "#d8576b"
            ],
            [
             0.6666666666666666,
             "#ed7953"
            ],
            [
             0.7777777777777778,
             "#fb9f3a"
            ],
            [
             0.8888888888888888,
             "#fdca26"
            ],
            [
             1,
             "#f0f921"
            ]
           ]
          },
          "colorway": [
           "#636efa",
           "#EF553B",
           "#00cc96",
           "#ab63fa",
           "#FFA15A",
           "#19d3f3",
           "#FF6692",
           "#B6E880",
           "#FF97FF",
           "#FECB52"
          ],
          "font": {
           "color": "#2a3f5f"
          },
          "geo": {
           "bgcolor": "white",
           "lakecolor": "white",
           "landcolor": "#E5ECF6",
           "showlakes": true,
           "showland": true,
           "subunitcolor": "white"
          },
          "hoverlabel": {
           "align": "left"
          },
          "hovermode": "closest",
          "mapbox": {
           "style": "light"
          },
          "paper_bgcolor": "white",
          "plot_bgcolor": "#E5ECF6",
          "polar": {
           "angularaxis": {
            "gridcolor": "white",
            "linecolor": "white",
            "ticks": ""
           },
           "bgcolor": "#E5ECF6",
           "radialaxis": {
            "gridcolor": "white",
            "linecolor": "white",
            "ticks": ""
           }
          },
          "scene": {
           "xaxis": {
            "backgroundcolor": "#E5ECF6",
            "gridcolor": "white",
            "gridwidth": 2,
            "linecolor": "white",
            "showbackground": true,
            "ticks": "",
            "zerolinecolor": "white"
           },
           "yaxis": {
            "backgroundcolor": "#E5ECF6",
            "gridcolor": "white",
            "gridwidth": 2,
            "linecolor": "white",
            "showbackground": true,
            "ticks": "",
            "zerolinecolor": "white"
           },
           "zaxis": {
            "backgroundcolor": "#E5ECF6",
            "gridcolor": "white",
            "gridwidth": 2,
            "linecolor": "white",
            "showbackground": true,
            "ticks": "",
            "zerolinecolor": "white"
           }
          },
          "shapedefaults": {
           "line": {
            "color": "#2a3f5f"
           }
          },
          "ternary": {
           "aaxis": {
            "gridcolor": "white",
            "linecolor": "white",
            "ticks": ""
           },
           "baxis": {
            "gridcolor": "white",
            "linecolor": "white",
            "ticks": ""
           },
           "bgcolor": "#E5ECF6",
           "caxis": {
            "gridcolor": "white",
            "linecolor": "white",
            "ticks": ""
           }
          },
          "title": {
           "x": 0.05
          },
          "xaxis": {
           "automargin": true,
           "gridcolor": "white",
           "linecolor": "white",
           "ticks": "",
           "title": {
            "standoff": 15
           },
           "zerolinecolor": "white",
           "zerolinewidth": 2
          },
          "yaxis": {
           "automargin": true,
           "gridcolor": "white",
           "linecolor": "white",
           "ticks": "",
           "title": {
            "standoff": 15
           },
           "zerolinecolor": "white",
           "zerolinewidth": 2
          }
         }
        },
        "xaxis": {
         "anchor": "y",
         "domain": [
          0,
          1
         ],
         "title": {
          "text": "index"
         }
        },
        "yaxis": {
         "anchor": "x",
         "domain": [
          0,
          1
         ],
         "title": {
          "text": "value"
         }
        }
       }
      },
      "text/html": [
       "<div>                            <div id=\"f4aac1f7-bc44-4b9b-a761-a02bf2ba2e86\" class=\"plotly-graph-div\" style=\"height:525px; width:100%;\"></div>            <script type=\"text/javascript\">                require([\"plotly\"], function(Plotly) {                    window.PLOTLYENV=window.PLOTLYENV || {};                                    if (document.getElementById(\"f4aac1f7-bc44-4b9b-a761-a02bf2ba2e86\")) {                    Plotly.newPlot(                        \"f4aac1f7-bc44-4b9b-a761-a02bf2ba2e86\",                        [{\"hovertemplate\":\"variable=0\\u003cbr\\u003eindex=%{x}\\u003cbr\\u003evalue=%{y}\\u003cextra\\u003e\\u003c\\u002fextra\\u003e\",\"legendgroup\":\"0\",\"line\":{\"color\":\"#636efa\",\"dash\":\"solid\"},\"marker\":{\"symbol\":\"circle\"},\"mode\":\"lines\",\"name\":\"0\",\"orientation\":\"v\",\"showlegend\":true,\"x\":[0,1,2,3,4,5,6,7,8,9,10,11,12,13,14,15,16,17,18,19,20,21,22,23,24,25,26,27,28,29,30,31,32,33,34,35,36,37,38,39,40,41,42,43,44,45,46,47,48,49,50,51,52,53,54,55,56,57,58,59,60,61,62,63,64,65,66,67,68,69,70,71,72,73,74,75,76,77,78,79,80,81,82,83,84,85,86,87,88,89,90,91,92,93,94,95,96,97,98,99,100,101,102,103,104,105,106,107,108,109,110,111,112,113,114,115,116,117,118,119],\"xaxis\":\"x\",\"y\":[0.5197285413742065,0.519078254699707,0.5184454321861267,0.5178188681602478,0.5171971321105957,0.516595184803009,0.5159866213798523,0.515390157699585,0.514803946018219,0.514225959777832,0.5136478543281555,0.5130752921104431,0.5125037431716919,0.5119404196739197,0.5113807320594788,0.5108217597007751,0.5102666616439819,0.5097109079360962,0.5091569423675537,0.5086009502410889,0.5080457925796509,0.5074937343597412,0.5069384574890137,0.5063827633857727,0.505827009677887,0.5052706599235535,0.5047130584716797,0.5041530132293701,0.5035926103591919,0.5030333399772644,0.5024721026420593,0.5019084811210632,0.5013470649719238,0.5007897615432739,0.5002252459526062,0.49966418743133545,0.49909481406211853,0.49852848052978516,0.49796608090400696,0.49738967418670654,0.49682530760765076,0.4962538182735443,0.4956780672073364,0.49509894847869873,0.49453088641166687,0.49395427107810974,0.49337509274482727,0.49280115962028503,0.4922224283218384,0.4916508197784424,0.49108660221099854,0.4905368685722351,0.48999086022377014,0.4894661605358124,0.48896440863609314,0.48849356174468994,0.48806309700012207,0.48769140243530273,0.48738470673561096,0.48716381192207336,0.48704931139945984,0.48706990480422974,0.48723670840263367,0.48761099576950073,0.48820212483406067,0.4890458881855011,0.490194708108902,0.49168071150779724,0.4935331642627716,0.4957945644855499,0.4984729588031769,0.5016001462936401,0.5051892399787903,0.5092189311981201,0.5136932730674744,0.5185641050338745,0.5237933397293091,0.5293219089508057,0.5350617170333862,0.5409314036369324,0.546816349029541,0.5525845289230347,0.558120846748352,0.5632550120353699,0.5678260922431946,0.571656346321106,0.5745519399642944,0.5763098001480103,0.5766908526420593,0.5754688382148743,0.5723649859428406,0.5671044588088989,0.5593971014022827,0.5489529967308044,0.5355234742164612,0.5189029574394226,0.49898794293403625,0.4758259057998657,0.449600487947464,0.42072513699531555,0.389781653881073,0.35748404264450073,0.32466360926628113,0.2921260595321655,0.26064056158065796,0.23082375526428223,0.20314517617225647,0.1778804063796997,0.15516062080860138,0.13498207926750183,0.11723076552152634,0.1017402857542038,0.0883074626326561,0.07670699805021286,0.06672044098377228,0.05813905969262123,0.050772566348314285,0.044448092579841614,0.03901881352066994,0.03435051068663597],\"yaxis\":\"y\",\"type\":\"scatter\"},{\"hovertemplate\":\"variable=1\\u003cbr\\u003eindex=%{x}\\u003cbr\\u003evalue=%{y}\\u003cextra\\u003e\\u003c\\u002fextra\\u003e\",\"legendgroup\":\"1\",\"line\":{\"color\":\"#EF553B\",\"dash\":\"solid\"},\"marker\":{\"symbol\":\"circle\"},\"mode\":\"lines\",\"name\":\"1\",\"orientation\":\"v\",\"showlegend\":true,\"x\":[0,1,2,3,4,5,6,7,8,9,10,11,12,13,14,15,16,17,18,19,20,21,22,23,24,25,26,27,28,29,30,31,32,33,34,35,36,37,38,39,40,41,42,43,44,45,46,47,48,49,50,51,52,53,54,55,56,57,58,59,60,61,62,63,64,65,66,67,68,69,70,71,72,73,74,75,76,77,78,79,80,81,82,83,84,85,86,87,88,89,90,91,92,93,94,95,96,97,98,99,100,101,102,103,104,105,106,107,108,109,110,111,112,113,114,115,116,117,118,119],\"xaxis\":\"x\",\"y\":[0.9987413287162781,0.9987233281135559,0.9987033605575562,0.9986814856529236,0.9986581802368164,0.9986327290534973,0.9986051917076111,0.9985756874084473,0.9985435009002686,0.9985094666481018,0.9984723925590515,0.9984328150749207,0.9983906745910645,0.9983450174331665,0.9982965588569641,0.9982445240020752,0.9981889128684998,0.998129665851593,0.998066246509552,0.9979984164237976,0.9979261159896851,0.9978488683700562,0.997766375541687,0.9976779818534851,0.9975837469100952,0.99748295545578,0.9973746538162231,0.9972590208053589,0.9971349239349365,0.997001588344574,0.9968582391738892,0.9967034459114075,0.9965362548828125,0.9963550567626953,0.9961578249931335,0.9959424138069153,0.9957067370414734,0.9954467415809631,0.9951594471931458,0.9948397278785706,0.9944818019866943,0.9940789937973022,0.9936226010322571,0.9931023120880127,0.9925049543380737,0.9918151497840881,0.9910137057304382,0.9900749325752258,0.9889700412750244,0.9876614809036255,0.9861012101173401,0.9842309355735779,0.981975793838501,0.9792428016662598,0.9759114384651184,0.9718340039253235,0.9668191075325012,0.960629403591156,0.9529655575752258,0.9434554576873779,0.9316449761390686,0.9169880747795105,0.8988423347473145,0.8764833211898804,0.8491419553756714,0.816073477268219,0.7766672968864441,0.7305970788002014,0.6779842972755432,0.6195482015609741,0.5566978454589844,0.4914225935935974,0.4260810911655426,0.3630730211734772,0.3044675290584564,0.25174784660339355,0.2057344913482666,0.16658219695091248,0.13396984338760376,0.10726029425859451,0.08564545214176178,0.06831236183643341,0.05449121072888374,0.04351242259144783,0.03481337055563927,0.027938058599829674,0.022519633173942566,0.018264830112457275,0.014939585700631142,0.012351823039352894,0.010344804264605045,0.008791759610176086,0.007589553948491812,0.006654748227447271,0.005922484677284956,0.005341403651982546,0.004872864577919245,0.004487293306738138,0.004162634257227182,0.0038831441197544336,0.0036374619230628014,0.003417866537347436,0.0032187984324991703,0.0030366284772753716,0.0028690153267234564,0.0027141410391777754,0.002570760203525424,0.0024379182141274214,0.0023148234467953444,0.0022007478401064873,0.0020949800964444876,0.001996980980038643,0.0019061060156673193,0.0018218497280031443,0.0017435955815017223,0.0016709829214960337,0.0016034746076911688,0.0015406468883156776,0.0014821735676378012,0.0014276643050834537],\"yaxis\":\"y\",\"type\":\"scatter\"},{\"hovertemplate\":\"variable=2\\u003cbr\\u003eindex=%{x}\\u003cbr\\u003evalue=%{y}\\u003cextra\\u003e\\u003c\\u002fextra\\u003e\",\"legendgroup\":\"2\",\"line\":{\"color\":\"#00cc96\",\"dash\":\"solid\"},\"marker\":{\"symbol\":\"circle\"},\"mode\":\"lines\",\"name\":\"2\",\"orientation\":\"v\",\"showlegend\":true,\"x\":[0,1,2,3,4,5,6,7,8,9,10,11,12,13,14,15,16,17,18,19,20,21,22,23,24,25,26,27,28,29,30,31,32,33,34,35,36,37,38,39,40,41,42,43,44,45,46,47,48,49,50,51,52,53,54,55,56,57,58,59,60,61,62,63,64,65,66,67,68,69,70,71,72,73,74,75,76,77,78,79,80,81,82,83,84,85,86,87,88,89,90,91,92,93,94,95,96,97,98,99,100,101,102,103,104,105,106,107,108,109,110,111,112,113,114,115,116,117,118,119],\"xaxis\":\"x\",\"y\":[0.9916979074478149,0.991710901260376,0.9917241930961609,0.9917375445365906,0.9917513728141785,0.9917661547660828,0.9917809367179871,0.9917959570884705,0.9918115139007568,0.9918274879455566,0.9918437600135803,0.9918602108955383,0.9918771982192993,0.9918944239616394,0.991911768913269,0.9919296503067017,0.9919474720954895,0.9919657707214355,0.9919841885566711,0.9920030832290649,0.9920217990875244,0.9920411705970764,0.9920607805252075,0.9920806288719177,0.9921005368232727,0.9921211004257202,0.9921419620513916,0.9921634197235107,0.9921849370002747,0.9922074675559998,0.9922305941581726,0.9922540187835693,0.9922777414321899,0.992302656173706,0.9923283457756042,0.9923542737960815,0.9923815131187439,0.9924092292785645,0.9924376606941223,0.9924665093421936,0.9924966096878052,0.9925270080566406,0.9925576448440552,0.9925888776779175,0.9926199316978455,0.9926511645317078,0.9926815629005432,0.9927105903625488,0.9927385449409485,0.992764413356781,0.9927871823310852,0.9928061366081238,0.9928203225135803,0.9928285479545593,0.9928296208381653,0.9928216338157654,0.9928029179573059,0.9927720427513123,0.9927263259887695,0.9926632642745972,0.9925806522369385,0.9924748539924622,0.9923427700996399,0.992180347442627,0.9919829964637756,0.9917455315589905,0.9914621710777283,0.9911252856254578,0.9907273054122925,0.9902586936950684,0.9897080659866333,0.9890623688697815,0.9883055686950684,0.9874191880226135,0.9863818883895874,0.9851683378219604,0.9837485551834106,0.9820883870124817,0.980148434638977,0.9778828024864197,0.9752393364906311,0.9721613526344299,0.9685843586921692,0.9644380807876587,0.9596481919288635,0.9541364312171936,0.9478231072425842,0.9406282305717468,0.9324741363525391,0.9232964515686035,0.9130345582962036,0.9016445875167847,0.8891037702560425,0.8754082322120667,0.860571026802063,0.8446381092071533,0.827672004699707,0.8097538948059082,0.7909926772117615,0.7715072631835938,0.7514200806617737,0.7308799028396606,0.7100124955177307,0.6889613270759583,0.6678608655929565,0.6468262672424316,0.6259720325469971,0.6054022312164307,0.5851984024047852,0.5654412508010864,0.5461870431900024,0.5274890661239624,0.5093755722045898,0.4918713867664337,0.4750058352947235,0.45878246426582336,0.44319289922714233,0.42823949456214905,0.4139140546321869,0.40020671486854553],\"yaxis\":\"y\",\"type\":\"scatter\"},{\"hovertemplate\":\"variable=3\\u003cbr\\u003eindex=%{x}\\u003cbr\\u003evalue=%{y}\\u003cextra\\u003e\\u003c\\u002fextra\\u003e\",\"legendgroup\":\"3\",\"line\":{\"color\":\"#ab63fa\",\"dash\":\"solid\"},\"marker\":{\"symbol\":\"circle\"},\"mode\":\"lines\",\"name\":\"3\",\"orientation\":\"v\",\"showlegend\":true,\"x\":[0,1,2,3,4,5,6,7,8,9,10,11,12,13,14,15,16,17,18,19,20,21,22,23,24,25,26,27,28,29,30,31,32,33,34,35,36,37,38,39,40,41,42,43,44,45,46,47,48,49,50,51,52,53,54,55,56,57,58,59,60,61,62,63,64,65,66,67,68,69,70,71,72,73,74,75,76,77,78,79,80,81,82,83,84,85,86,87,88,89,90,91,92,93,94,95,96,97,98,99,100,101,102,103,104,105,106,107,108,109,110,111,112,113,114,115,116,117,118,119],\"xaxis\":\"x\",\"y\":[0.9746212363243103,0.9746058583259583,0.9745927453041077,0.9745813012123108,0.9745721220970154,0.9745640754699707,0.9745590686798096,0.9745550155639648,0.9745523929595947,0.9745517373085022,0.9745519757270813,0.9745538830757141,0.9745568037033081,0.9745611548423767,0.974565327167511,0.9745716452598572,0.9745780825614929,0.9745849967002869,0.9745936393737793,0.9746018648147583,0.9746106266975403,0.9746203422546387,0.9746296405792236,0.9746400713920593,0.9746504426002502,0.9746607542037964,0.9746713042259216,0.9746822714805603,0.9746937155723572,0.974705159664154,0.9747171998023987,0.9747294187545776,0.9747416377067566,0.9747543334960938,0.9747676849365234,0.9747813940048218,0.9747959971427917,0.9748114347457886,0.9748271703720093,0.9748438000679016,0.9748619198799133,0.9748809933662415,0.9749012589454651,0.9749225378036499,0.9749456644058228,0.9749709367752075,0.9749981164932251,0.9750264883041382,0.9750571846961975,0.9750903844833374,0.9751260876655579,0.9751642942428589,0.9752050042152405,0.9752491116523743,0.975295901298523,0.975345253944397,0.9753971695899963,0.9754527807235718,0.9755104184150696,0.9755716323852539,0.9756354093551636,0.9757012128829956,0.9757696986198425,0.9758390188217163,0.9759106636047363,0.975983202457428,0.9760550856590271,0.9761270880699158,0.9761971831321716,0.976262629032135,0.9763221740722656,0.9763720631599426,0.976408064365387,0.97642582654953,0.9764175415039062,0.976375162601471,0.9762886762619019,0.9761461019515991,0.9759320020675659,0.9756311178207397,0.9752236008644104,0.9746872782707214,0.9739970564842224,0.9731252193450928,0.9720407724380493,0.9707080721855164,0.9690885543823242,0.9671411514282227,0.9648200869560242,0.9620755314826965,0.9588549733161926,0.9551036953926086,0.950766384601593,0.9457820057868958,0.940097451210022,0.9336552619934082,0.9264044165611267,0.9182994961738586,0.9092944860458374,0.8993647694587708,0.8884838819503784,0.8766472935676575,0.8638499975204468,0.8501118421554565,0.8354596495628357,0.8199355602264404,0.8035945892333984,0.7865071892738342,0.7687562108039856,0.7504129409790039,0.7315810918807983,0.7123669981956482,0.6928573846817017,0.6731576323509216,0.6533768773078918,0.6336048245429993,0.6139259934425354,0.5944333076477051,0.5751973390579224,0.5562735795974731],\"yaxis\":\"y\",\"type\":\"scatter\"},{\"hovertemplate\":\"variable=4\\u003cbr\\u003eindex=%{x}\\u003cbr\\u003evalue=%{y}\\u003cextra\\u003e\\u003c\\u002fextra\\u003e\",\"legendgroup\":\"4\",\"line\":{\"color\":\"#FFA15A\",\"dash\":\"solid\"},\"marker\":{\"symbol\":\"circle\"},\"mode\":\"lines\",\"name\":\"4\",\"orientation\":\"v\",\"showlegend\":true,\"x\":[0,1,2,3,4,5,6,7,8,9,10,11,12,13,14,15,16,17,18,19,20,21,22,23,24,25,26,27,28,29,30,31,32,33,34,35,36,37,38,39,40,41,42,43,44,45,46,47,48,49,50,51,52,53,54,55,56,57,58,59,60,61,62,63,64,65,66,67,68,69,70,71,72,73,74,75,76,77,78,79,80,81,82,83,84,85,86,87,88,89,90,91,92,93,94,95,96,97,98,99,100,101,102,103,104,105,106,107,108,109,110,111,112,113,114,115,116,117,118,119],\"xaxis\":\"x\",\"y\":[0.9996910095214844,0.9996918439865112,0.999692440032959,0.9996927976608276,0.9996932744979858,0.9996933937072754,0.9996935129165649,0.9996935129165649,0.9996935129165649,0.9996931552886963,0.9996927976608276,0.9996920824050903,0.9996916055679321,0.9996908903121948,0.9996899366378784,0.9996887445449829,0.9996874332427979,0.9996863603591919,0.9996845722198486,0.9996829032897949,0.9996813535690308,0.9996792078018188,0.9996771812438965,0.9996746778488159,0.9996720552444458,0.9996693134307861,0.9996664524078369,0.9996633529663086,0.9996598958969116,0.9996563196182251,0.9996523857116699,0.9996483325958252,0.9996440410614014,0.9996392726898193,0.9996341466903687,0.9996286630630493,0.9996228218078613,0.9996165037155151,0.9996097683906555,0.9996022582054138,0.9995941519737244,0.9995854496955872,0.999575674533844,0.999565064907074,0.999553382396698,0.9995402097702026,0.9995260238647461,0.9995096921920776,0.9994915723800659,0.9994713664054871,0.9994484782218933,0.9994223117828369,0.9993925094604492,0.9993584752082825,0.9993194341659546,0.9992744326591492,0.999221920967102,0.9991607666015625,0.9990887641906738,0.9990034699440002,0.9989017248153687,0.9987791180610657,0.998630166053772,0.9984474778175354,0.9982206225395203,0.9979357719421387,0.9975737929344177,0.9971086382865906,0.9965022802352905,0.9957028031349182,0.9946345090866089,0.9931918978691101,0.9912221431732178,0.9885079264640808,0.9847405552864075,0.9794843792915344,0.9721353054046631,0.9618683457374573,0.9475969672203064,0.9279603958129883,0.9013498425483704,0.8660818338394165,0.8206986784934998,0.764450192451477,0.6978136301040649,0.6228563189506531,0.5431155562400818,0.46300795674324036,0.38680189847946167,0.31779590249061584,0.2578667402267456,0.20753292739391327,0.16628685593605042,0.1330585479736328,0.10656828433275223,0.08556705713272095,0.06895113736391068,0.055802397429943085,0.04539258033037186,0.03715173155069351,0.030633501708507538,0.0254878681153059,0.021434443071484566,0.01824888586997986,0.01574827916920185,0.01378626748919487,0.01224340870976448,0.011025357991456985,0.010056523606181145,0.00927831418812275,0.008644547313451767,0.00811970978975296,0.007677019573748112,0.007295707240700722,0.006960825528949499,0.0066609629429876804,0.006388077512383461,0.006136222742497921,0.00590154342353344,0.005681027192622423],\"yaxis\":\"y\",\"type\":\"scatter\"}],                        {\"template\":{\"data\":{\"histogram2dcontour\":[{\"type\":\"histogram2dcontour\",\"colorbar\":{\"outlinewidth\":0,\"ticks\":\"\"},\"colorscale\":[[0.0,\"#0d0887\"],[0.1111111111111111,\"#46039f\"],[0.2222222222222222,\"#7201a8\"],[0.3333333333333333,\"#9c179e\"],[0.4444444444444444,\"#bd3786\"],[0.5555555555555556,\"#d8576b\"],[0.6666666666666666,\"#ed7953\"],[0.7777777777777778,\"#fb9f3a\"],[0.8888888888888888,\"#fdca26\"],[1.0,\"#f0f921\"]]}],\"choropleth\":[{\"type\":\"choropleth\",\"colorbar\":{\"outlinewidth\":0,\"ticks\":\"\"}}],\"histogram2d\":[{\"type\":\"histogram2d\",\"colorbar\":{\"outlinewidth\":0,\"ticks\":\"\"},\"colorscale\":[[0.0,\"#0d0887\"],[0.1111111111111111,\"#46039f\"],[0.2222222222222222,\"#7201a8\"],[0.3333333333333333,\"#9c179e\"],[0.4444444444444444,\"#bd3786\"],[0.5555555555555556,\"#d8576b\"],[0.6666666666666666,\"#ed7953\"],[0.7777777777777778,\"#fb9f3a\"],[0.8888888888888888,\"#fdca26\"],[1.0,\"#f0f921\"]]}],\"heatmap\":[{\"type\":\"heatmap\",\"colorbar\":{\"outlinewidth\":0,\"ticks\":\"\"},\"colorscale\":[[0.0,\"#0d0887\"],[0.1111111111111111,\"#46039f\"],[0.2222222222222222,\"#7201a8\"],[0.3333333333333333,\"#9c179e\"],[0.4444444444444444,\"#bd3786\"],[0.5555555555555556,\"#d8576b\"],[0.6666666666666666,\"#ed7953\"],[0.7777777777777778,\"#fb9f3a\"],[0.8888888888888888,\"#fdca26\"],[1.0,\"#f0f921\"]]}],\"heatmapgl\":[{\"type\":\"heatmapgl\",\"colorbar\":{\"outlinewidth\":0,\"ticks\":\"\"},\"colorscale\":[[0.0,\"#0d0887\"],[0.1111111111111111,\"#46039f\"],[0.2222222222222222,\"#7201a8\"],[0.3333333333333333,\"#9c179e\"],[0.4444444444444444,\"#bd3786\"],[0.5555555555555556,\"#d8576b\"],[0.6666666666666666,\"#ed7953\"],[0.7777777777777778,\"#fb9f3a\"],[0.8888888888888888,\"#fdca26\"],[1.0,\"#f0f921\"]]}],\"contourcarpet\":[{\"type\":\"contourcarpet\",\"colorbar\":{\"outlinewidth\":0,\"ticks\":\"\"}}],\"contour\":[{\"type\":\"contour\",\"colorbar\":{\"outlinewidth\":0,\"ticks\":\"\"},\"colorscale\":[[0.0,\"#0d0887\"],[0.1111111111111111,\"#46039f\"],[0.2222222222222222,\"#7201a8\"],[0.3333333333333333,\"#9c179e\"],[0.4444444444444444,\"#bd3786\"],[0.5555555555555556,\"#d8576b\"],[0.6666666666666666,\"#ed7953\"],[0.7777777777777778,\"#fb9f3a\"],[0.8888888888888888,\"#fdca26\"],[1.0,\"#f0f921\"]]}],\"surface\":[{\"type\":\"surface\",\"colorbar\":{\"outlinewidth\":0,\"ticks\":\"\"},\"colorscale\":[[0.0,\"#0d0887\"],[0.1111111111111111,\"#46039f\"],[0.2222222222222222,\"#7201a8\"],[0.3333333333333333,\"#9c179e\"],[0.4444444444444444,\"#bd3786\"],[0.5555555555555556,\"#d8576b\"],[0.6666666666666666,\"#ed7953\"],[0.7777777777777778,\"#fb9f3a\"],[0.8888888888888888,\"#fdca26\"],[1.0,\"#f0f921\"]]}],\"mesh3d\":[{\"type\":\"mesh3d\",\"colorbar\":{\"outlinewidth\":0,\"ticks\":\"\"}}],\"scatter\":[{\"fillpattern\":{\"fillmode\":\"overlay\",\"size\":10,\"solidity\":0.2},\"type\":\"scatter\"}],\"parcoords\":[{\"type\":\"parcoords\",\"line\":{\"colorbar\":{\"outlinewidth\":0,\"ticks\":\"\"}}}],\"scatterpolargl\":[{\"type\":\"scatterpolargl\",\"marker\":{\"colorbar\":{\"outlinewidth\":0,\"ticks\":\"\"}}}],\"bar\":[{\"error_x\":{\"color\":\"#2a3f5f\"},\"error_y\":{\"color\":\"#2a3f5f\"},\"marker\":{\"line\":{\"color\":\"#E5ECF6\",\"width\":0.5},\"pattern\":{\"fillmode\":\"overlay\",\"size\":10,\"solidity\":0.2}},\"type\":\"bar\"}],\"scattergeo\":[{\"type\":\"scattergeo\",\"marker\":{\"colorbar\":{\"outlinewidth\":0,\"ticks\":\"\"}}}],\"scatterpolar\":[{\"type\":\"scatterpolar\",\"marker\":{\"colorbar\":{\"outlinewidth\":0,\"ticks\":\"\"}}}],\"histogram\":[{\"marker\":{\"pattern\":{\"fillmode\":\"overlay\",\"size\":10,\"solidity\":0.2}},\"type\":\"histogram\"}],\"scattergl\":[{\"type\":\"scattergl\",\"marker\":{\"colorbar\":{\"outlinewidth\":0,\"ticks\":\"\"}}}],\"scatter3d\":[{\"type\":\"scatter3d\",\"line\":{\"colorbar\":{\"outlinewidth\":0,\"ticks\":\"\"}},\"marker\":{\"colorbar\":{\"outlinewidth\":0,\"ticks\":\"\"}}}],\"scattermapbox\":[{\"type\":\"scattermapbox\",\"marker\":{\"colorbar\":{\"outlinewidth\":0,\"ticks\":\"\"}}}],\"scatterternary\":[{\"type\":\"scatterternary\",\"marker\":{\"colorbar\":{\"outlinewidth\":0,\"ticks\":\"\"}}}],\"scattercarpet\":[{\"type\":\"scattercarpet\",\"marker\":{\"colorbar\":{\"outlinewidth\":0,\"ticks\":\"\"}}}],\"carpet\":[{\"aaxis\":{\"endlinecolor\":\"#2a3f5f\",\"gridcolor\":\"white\",\"linecolor\":\"white\",\"minorgridcolor\":\"white\",\"startlinecolor\":\"#2a3f5f\"},\"baxis\":{\"endlinecolor\":\"#2a3f5f\",\"gridcolor\":\"white\",\"linecolor\":\"white\",\"minorgridcolor\":\"white\",\"startlinecolor\":\"#2a3f5f\"},\"type\":\"carpet\"}],\"table\":[{\"cells\":{\"fill\":{\"color\":\"#EBF0F8\"},\"line\":{\"color\":\"white\"}},\"header\":{\"fill\":{\"color\":\"#C8D4E3\"},\"line\":{\"color\":\"white\"}},\"type\":\"table\"}],\"barpolar\":[{\"marker\":{\"line\":{\"color\":\"#E5ECF6\",\"width\":0.5},\"pattern\":{\"fillmode\":\"overlay\",\"size\":10,\"solidity\":0.2}},\"type\":\"barpolar\"}],\"pie\":[{\"automargin\":true,\"type\":\"pie\"}]},\"layout\":{\"autotypenumbers\":\"strict\",\"colorway\":[\"#636efa\",\"#EF553B\",\"#00cc96\",\"#ab63fa\",\"#FFA15A\",\"#19d3f3\",\"#FF6692\",\"#B6E880\",\"#FF97FF\",\"#FECB52\"],\"font\":{\"color\":\"#2a3f5f\"},\"hovermode\":\"closest\",\"hoverlabel\":{\"align\":\"left\"},\"paper_bgcolor\":\"white\",\"plot_bgcolor\":\"#E5ECF6\",\"polar\":{\"bgcolor\":\"#E5ECF6\",\"angularaxis\":{\"gridcolor\":\"white\",\"linecolor\":\"white\",\"ticks\":\"\"},\"radialaxis\":{\"gridcolor\":\"white\",\"linecolor\":\"white\",\"ticks\":\"\"}},\"ternary\":{\"bgcolor\":\"#E5ECF6\",\"aaxis\":{\"gridcolor\":\"white\",\"linecolor\":\"white\",\"ticks\":\"\"},\"baxis\":{\"gridcolor\":\"white\",\"linecolor\":\"white\",\"ticks\":\"\"},\"caxis\":{\"gridcolor\":\"white\",\"linecolor\":\"white\",\"ticks\":\"\"}},\"coloraxis\":{\"colorbar\":{\"outlinewidth\":0,\"ticks\":\"\"}},\"colorscale\":{\"sequential\":[[0.0,\"#0d0887\"],[0.1111111111111111,\"#46039f\"],[0.2222222222222222,\"#7201a8\"],[0.3333333333333333,\"#9c179e\"],[0.4444444444444444,\"#bd3786\"],[0.5555555555555556,\"#d8576b\"],[0.6666666666666666,\"#ed7953\"],[0.7777777777777778,\"#fb9f3a\"],[0.8888888888888888,\"#fdca26\"],[1.0,\"#f0f921\"]],\"sequentialminus\":[[0.0,\"#0d0887\"],[0.1111111111111111,\"#46039f\"],[0.2222222222222222,\"#7201a8\"],[0.3333333333333333,\"#9c179e\"],[0.4444444444444444,\"#bd3786\"],[0.5555555555555556,\"#d8576b\"],[0.6666666666666666,\"#ed7953\"],[0.7777777777777778,\"#fb9f3a\"],[0.8888888888888888,\"#fdca26\"],[1.0,\"#f0f921\"]],\"diverging\":[[0,\"#8e0152\"],[0.1,\"#c51b7d\"],[0.2,\"#de77ae\"],[0.3,\"#f1b6da\"],[0.4,\"#fde0ef\"],[0.5,\"#f7f7f7\"],[0.6,\"#e6f5d0\"],[0.7,\"#b8e186\"],[0.8,\"#7fbc41\"],[0.9,\"#4d9221\"],[1,\"#276419\"]]},\"xaxis\":{\"gridcolor\":\"white\",\"linecolor\":\"white\",\"ticks\":\"\",\"title\":{\"standoff\":15},\"zerolinecolor\":\"white\",\"automargin\":true,\"zerolinewidth\":2},\"yaxis\":{\"gridcolor\":\"white\",\"linecolor\":\"white\",\"ticks\":\"\",\"title\":{\"standoff\":15},\"zerolinecolor\":\"white\",\"automargin\":true,\"zerolinewidth\":2},\"scene\":{\"xaxis\":{\"backgroundcolor\":\"#E5ECF6\",\"gridcolor\":\"white\",\"linecolor\":\"white\",\"showbackground\":true,\"ticks\":\"\",\"zerolinecolor\":\"white\",\"gridwidth\":2},\"yaxis\":{\"backgroundcolor\":\"#E5ECF6\",\"gridcolor\":\"white\",\"linecolor\":\"white\",\"showbackground\":true,\"ticks\":\"\",\"zerolinecolor\":\"white\",\"gridwidth\":2},\"zaxis\":{\"backgroundcolor\":\"#E5ECF6\",\"gridcolor\":\"white\",\"linecolor\":\"white\",\"showbackground\":true,\"ticks\":\"\",\"zerolinecolor\":\"white\",\"gridwidth\":2}},\"shapedefaults\":{\"line\":{\"color\":\"#2a3f5f\"}},\"annotationdefaults\":{\"arrowcolor\":\"#2a3f5f\",\"arrowhead\":0,\"arrowwidth\":1},\"geo\":{\"bgcolor\":\"white\",\"landcolor\":\"#E5ECF6\",\"subunitcolor\":\"white\",\"showland\":true,\"showlakes\":true,\"lakecolor\":\"white\"},\"title\":{\"x\":0.05},\"mapbox\":{\"style\":\"light\"}}},\"xaxis\":{\"anchor\":\"y\",\"domain\":[0.0,1.0],\"title\":{\"text\":\"index\"}},\"yaxis\":{\"anchor\":\"x\",\"domain\":[0.0,1.0],\"title\":{\"text\":\"value\"}},\"legend\":{\"title\":{\"text\":\"variable\"},\"tracegroupgap\":0},\"margin\":{\"t\":60}},                        {\"responsive\": true}                    ).then(function(){\n",
       "                            \n",
       "var gd = document.getElementById('f4aac1f7-bc44-4b9b-a761-a02bf2ba2e86');\n",
       "var x = new MutationObserver(function (mutations, observer) {{\n",
       "        var display = window.getComputedStyle(gd).display;\n",
       "        if (!display || display === 'none') {{\n",
       "            console.log([gd, 'removed!']);\n",
       "            Plotly.purge(gd);\n",
       "            observer.disconnect();\n",
       "        }}\n",
       "}});\n",
       "\n",
       "// Listen for the removal of the full notebook cells\n",
       "var notebookContainer = gd.closest('#notebook-container');\n",
       "if (notebookContainer) {{\n",
       "    x.observe(notebookContainer, {childList: true});\n",
       "}}\n",
       "\n",
       "// Listen for the clearing of the current output cell\n",
       "var outputEl = gd.closest('.output');\n",
       "if (outputEl) {{\n",
       "    x.observe(outputEl, {childList: true});\n",
       "}}\n",
       "\n",
       "                        })                };                });            </script>        </div>"
      ]
     },
     "metadata": {},
     "output_type": "display_data"
    }
   ],
   "source": [
    "evals_for_scales = [eval(8406, scale=scale) for scale in range(120)]\n",
    "px.line(evals_for_scales)"
   ]
  },
  {
   "cell_type": "code",
   "execution_count": 87,
   "metadata": {},
   "outputs": [
    {
     "data": {
      "application/vnd.plotly.v1+json": {
       "config": {
        "plotlyServerURL": "https://plot.ly"
       },
       "data": [
        {
         "hovertemplate": "variable=0<br>index=%{x}<br>value=%{y}<extra></extra>",
         "legendgroup": "0",
         "line": {
          "color": "#636efa",
          "dash": "solid"
         },
         "marker": {
          "symbol": "circle"
         },
         "mode": "lines",
         "name": "0",
         "orientation": "v",
         "showlegend": true,
         "type": "scatter",
         "x": [
          0,
          1,
          2,
          3,
          4,
          5,
          6,
          7,
          8,
          9,
          10,
          11,
          12,
          13,
          14,
          15,
          16,
          17,
          18,
          19,
          20,
          21,
          22,
          23,
          24,
          25,
          26,
          27,
          28,
          29,
          30,
          31,
          32,
          33,
          34,
          35,
          36,
          37,
          38,
          39,
          40,
          41,
          42,
          43,
          44,
          45,
          46,
          47,
          48,
          49,
          50,
          51,
          52,
          53,
          54,
          55,
          56,
          57,
          58,
          59,
          60,
          61,
          62,
          63,
          64,
          65,
          66,
          67,
          68,
          69,
          70,
          71,
          72,
          73,
          74,
          75,
          76,
          77,
          78,
          79,
          80,
          81,
          82,
          83,
          84,
          85,
          86,
          87,
          88,
          89,
          90,
          91,
          92,
          93,
          94,
          95,
          96,
          97,
          98,
          99,
          100,
          101,
          102,
          103,
          104,
          105,
          106,
          107,
          108,
          109,
          110,
          111,
          112,
          113,
          114,
          115,
          116,
          117,
          118,
          119
         ],
         "xaxis": "x",
         "y": [
          0.5197285413742065,
          0.5183934569358826,
          0.5171616077423096,
          0.5160531401634216,
          0.5150850415229797,
          0.5142704844474792,
          0.5136244297027588,
          0.5131421089172363,
          0.5128229260444641,
          0.512663722038269,
          0.5126457214355469,
          0.5127516388893127,
          0.5129647850990295,
          0.5132396221160889,
          0.5135785341262817,
          0.5139315128326416,
          0.5142863988876343,
          0.5146014094352722,
          0.51486736536026,
          0.5150586366653442,
          0.5151382088661194,
          0.5150988698005676,
          0.5149453282356262,
          0.5146316289901733,
          0.5141756534576416,
          0.5135667324066162,
          0.5127931833267212,
          0.5118681788444519,
          0.5108011960983276,
          0.509587824344635,
          0.5082469582557678,
          0.5067925453186035,
          0.505234956741333,
          0.5035973787307739,
          0.5018919110298157,
          0.5001358389854431,
          0.4983450174331665,
          0.4965331554412842,
          0.4947175681591034,
          0.492912232875824,
          0.49112606048583984,
          0.4893814027309418,
          0.4876701235771179,
          0.48601245880126953,
          0.48441287875175476,
          0.48287662863731384,
          0.48141294717788696,
          0.4800179898738861,
          0.4786996841430664,
          0.47745242714881897,
          0.47627824544906616,
          0.4751698672771454,
          0.4741182327270508,
          0.4731314778327942,
          0.47219550609588623,
          0.4713132083415985,
          0.47046422958374023,
          0.46964031457901,
          0.46884024143218994,
          0.4680410921573639,
          0.4672423303127289,
          0.4664396345615387,
          0.46561792492866516,
          0.46475347876548767,
          0.4638630449771881,
          0.4629252254962921,
          0.4619428217411041,
          0.46090012788772583,
          0.4597986936569214,
          0.4586373269557953,
          0.4574318826198578,
          0.4561613202095032,
          0.45483869314193726,
          0.4534745514392853,
          0.45207446813583374,
          0.45064935088157654,
          0.4492124617099762,
          0.4477580785751343,
          0.4463185966014862,
          0.44489046931266785,
          0.44349145889282227,
          0.44212666153907776,
          0.4408019185066223,
          0.43953439593315125,
          0.43833374977111816,
          0.43718892335891724,
          0.4361312687397003,
          0.43515580892562866,
          0.4342763125896454,
          0.433498740196228,
          0.43283548951148987,
          0.43230441212654114,
          0.4319016933441162,
          0.4316563904285431,
          0.4315541386604309,
          0.4316289722919464,
          0.43186911940574646,
          0.4323127567768097,
          0.4329449236392975,
          0.43377524614334106,
          0.43482914566993713,
          0.43610572814941406,
          0.43760186433792114,
          0.4393317699432373,
          0.4412984848022461,
          0.44350680708885193,
          0.4459744989871979,
          0.44865649938583374,
          0.4515913724899292,
          0.45474937558174133,
          0.4581128656864166,
          0.46168649196624756,
          0.465444415807724,
          0.46936875581741333,
          0.473438560962677,
          0.47762906551361084,
          0.48193129897117615,
          0.4863160252571106,
          0.4907687306404114,
          0.49525660276412964
         ],
         "yaxis": "y"
        },
        {
         "hovertemplate": "variable=1<br>index=%{x}<br>value=%{y}<extra></extra>",
         "legendgroup": "1",
         "line": {
          "color": "#EF553B",
          "dash": "solid"
         },
         "marker": {
          "symbol": "circle"
         },
         "mode": "lines",
         "name": "1",
         "orientation": "v",
         "showlegend": true,
         "type": "scatter",
         "x": [
          0,
          1,
          2,
          3,
          4,
          5,
          6,
          7,
          8,
          9,
          10,
          11,
          12,
          13,
          14,
          15,
          16,
          17,
          18,
          19,
          20,
          21,
          22,
          23,
          24,
          25,
          26,
          27,
          28,
          29,
          30,
          31,
          32,
          33,
          34,
          35,
          36,
          37,
          38,
          39,
          40,
          41,
          42,
          43,
          44,
          45,
          46,
          47,
          48,
          49,
          50,
          51,
          52,
          53,
          54,
          55,
          56,
          57,
          58,
          59,
          60,
          61,
          62,
          63,
          64,
          65,
          66,
          67,
          68,
          69,
          70,
          71,
          72,
          73,
          74,
          75,
          76,
          77,
          78,
          79,
          80,
          81,
          82,
          83,
          84,
          85,
          86,
          87,
          88,
          89,
          90,
          91,
          92,
          93,
          94,
          95,
          96,
          97,
          98,
          99,
          100,
          101,
          102,
          103,
          104,
          105,
          106,
          107,
          108,
          109,
          110,
          111,
          112,
          113,
          114,
          115,
          116,
          117,
          118,
          119
         ],
         "xaxis": "x",
         "y": [
          0.9987413287162781,
          0.9987247586250305,
          0.9987057447433472,
          0.9986843466758728,
          0.9986597299575806,
          0.9986322522163391,
          0.9986018538475037,
          0.9985687732696533,
          0.9985332489013672,
          0.9984958171844482,
          0.9984569549560547,
          0.9984172582626343,
          0.9983780384063721,
          0.9983396530151367,
          0.9983028173446655,
          0.9982684850692749,
          0.9982373714447021,
          0.9982098340988159,
          0.9981868863105774,
          0.9981683492660522,
          0.9981549382209778,
          0.9981456995010376,
          0.9981414079666138,
          0.9981412887573242,
          0.9981451034545898,
          0.998151957988739,
          0.9981619715690613,
          0.9981734752655029,
          0.9981865286827087,
          0.9982007741928101,
          0.998214840888977,
          0.9982288479804993,
          0.9982421398162842,
          0.9982542395591736,
          0.9982646107673645,
          0.9982732534408569,
          0.9982796907424927,
          0.9982832670211792,
          0.9982841610908508,
          0.9982819557189941,
          0.9982763528823853,
          0.9982666969299316,
          0.9982529282569885,
          0.9982343912124634,
          0.9982104301452637,
          0.9981807470321655,
          0.9981448650360107,
          0.9981017708778381,
          0.9980510473251343,
          0.9979914426803589,
          0.9979225993156433,
          0.9978433847427368,
          0.9977524876594543,
          0.9976487755775452,
          0.997530996799469,
          0.9973970651626587,
          0.9972459077835083,
          0.9970752000808716,
          0.99688321352005,
          0.9966681599617004,
          0.9964273571968079,
          0.9961593151092529,
          0.9958617091178894,
          0.9955320358276367,
          0.9951692223548889,
          0.9947710633277893,
          0.9943360686302185,
          0.9938633441925049,
          0.9933516383171082,
          0.9927992820739746,
          0.9922048449516296,
          0.9915662407875061,
          0.9908806085586548,
          0.9901437759399414,
          0.9893508553504944,
          0.9884949326515198,
          0.9875680208206177,
          0.9865599870681763,
          0.9854602217674255,
          0.9842554926872253,
          0.9829304814338684,
          0.9814691543579102,
          0.9798500537872314,
          0.9780521988868713,
          0.9760487675666809,
          0.9738088846206665,
          0.9712996482849121,
          0.9684786796569824,
          0.9653050303459167,
          0.9617211818695068,
          0.9576748013496399,
          0.9530986547470093,
          0.947921097278595,
          0.9420597553253174,
          0.9354236721992493,
          0.9279205799102783,
          0.9194366335868835,
          0.9098621606826782,
          0.8990764617919922,
          0.8869524002075195,
          0.8733601570129395,
          0.858174204826355,
          0.8412671685218811,
          0.8225302696228027,
          0.8018569946289062,
          0.7791820764541626,
          0.7544649243354797,
          0.7276825904846191,
          0.6988920569419861,
          0.6681962609291077,
          0.6357171535491943,
          0.6017007231712341,
          0.5664196610450745,
          0.5301629900932312,
          0.4933432936668396,
          0.45634570717811584,
          0.41959524154663086,
          0.383494108915329,
          0.3484433591365814,
          0.31478628516197205
         ],
         "yaxis": "y"
        },
        {
         "hovertemplate": "variable=2<br>index=%{x}<br>value=%{y}<extra></extra>",
         "legendgroup": "2",
         "line": {
          "color": "#00cc96",
          "dash": "solid"
         },
         "marker": {
          "symbol": "circle"
         },
         "mode": "lines",
         "name": "2",
         "orientation": "v",
         "showlegend": true,
         "type": "scatter",
         "x": [
          0,
          1,
          2,
          3,
          4,
          5,
          6,
          7,
          8,
          9,
          10,
          11,
          12,
          13,
          14,
          15,
          16,
          17,
          18,
          19,
          20,
          21,
          22,
          23,
          24,
          25,
          26,
          27,
          28,
          29,
          30,
          31,
          32,
          33,
          34,
          35,
          36,
          37,
          38,
          39,
          40,
          41,
          42,
          43,
          44,
          45,
          46,
          47,
          48,
          49,
          50,
          51,
          52,
          53,
          54,
          55,
          56,
          57,
          58,
          59,
          60,
          61,
          62,
          63,
          64,
          65,
          66,
          67,
          68,
          69,
          70,
          71,
          72,
          73,
          74,
          75,
          76,
          77,
          78,
          79,
          80,
          81,
          82,
          83,
          84,
          85,
          86,
          87,
          88,
          89,
          90,
          91,
          92,
          93,
          94,
          95,
          96,
          97,
          98,
          99,
          100,
          101,
          102,
          103,
          104,
          105,
          106,
          107,
          108,
          109,
          110,
          111,
          112,
          113,
          114,
          115,
          116,
          117,
          118,
          119
         ],
         "xaxis": "x",
         "y": [
          0.9916979074478149,
          0.9918899536132812,
          0.9920839071273804,
          0.9922792911529541,
          0.9924755692481995,
          0.9926729798316956,
          0.9928712248802185,
          0.9930704236030579,
          0.9932700991630554,
          0.9934711456298828,
          0.9936728477478027,
          0.9938759207725525,
          0.9940798878669739,
          0.994284451007843,
          0.994489312171936,
          0.99469393491745,
          0.9948974251747131,
          0.9950991272926331,
          0.9952978491783142,
          0.995492696762085,
          0.995682954788208,
          0.9958676099777222,
          0.9960456490516663,
          0.9962165951728821,
          0.9963794350624084,
          0.996533989906311,
          0.9966799020767212,
          0.9968168139457703,
          0.9969447255134583,
          0.997063934803009,
          0.9971743822097778,
          0.9972764849662781,
          0.997370719909668,
          0.9974572062492371,
          0.9975367784500122,
          0.9976099729537964,
          0.9976775050163269,
          0.997739315032959,
          0.9977962970733643,
          0.997848391532898,
          0.9978967905044556,
          0.9979411959648132,
          0.9979826211929321,
          0.9980205297470093,
          0.9980556964874268,
          0.9980880618095398,
          0.9981175661087036,
          0.9981448650360107,
          0.9981696605682373,
          0.9981922507286072,
          0.9982125759124756,
          0.9982306361198425,
          0.9982463121414185,
          0.998259961605072,
          0.9982713460922241,
          0.9982805252075195,
          0.9982876181602478,
          0.9982925057411194,
          0.998295247554779,
          0.9982957243919373,
          0.998293936252594,
          0.9982900023460388,
          0.9982837438583374,
          0.9982749223709106,
          0.9982637763023376,
          0.9982500672340393,
          0.9982339143753052,
          0.9982149600982666,
          0.9981933236122131,
          0.9981687068939209,
          0.9981406927108765,
          0.9981098175048828,
          0.9980754852294922,
          0.9980377554893494,
          0.9979965090751648,
          0.9979515671730042,
          0.9979027509689331,
          0.9978505373001099,
          0.9977943897247314,
          0.997734785079956,
          0.9976716637611389,
          0.9976054430007935,
          0.997536301612854,
          0.9974641799926758,
          0.9973897337913513,
          0.9973132014274597,
          0.9972344040870667,
          0.9971542358398438,
          0.9970729351043701,
          0.9969903230667114,
          0.9969071745872498,
          0.9968230724334717,
          0.9967387318611145,
          0.9966534972190857,
          0.9965677261352539,
          0.9964808821678162,
          0.996392548084259,
          0.9963027238845825,
          0.9962106943130493,
          0.9961153268814087,
          0.9960160851478577,
          0.995911717414856,
          0.9958018660545349,
          0.9956842660903931,
          0.9955580830574036,
          0.995421826839447,
          0.9952736496925354,
          0.995111882686615,
          0.9949348568916321,
          0.994739830493927,
          0.9945245981216431,
          0.9942869544029236,
          0.9940237402915955,
          0.9937319159507751,
          0.9934080839157104,
          0.9930477738380432,
          0.9926465749740601,
          0.9921995997428894,
          0.9917011857032776,
          0.9911449551582336
         ],
         "yaxis": "y"
        },
        {
         "hovertemplate": "variable=3<br>index=%{x}<br>value=%{y}<extra></extra>",
         "legendgroup": "3",
         "line": {
          "color": "#ab63fa",
          "dash": "solid"
         },
         "marker": {
          "symbol": "circle"
         },
         "mode": "lines",
         "name": "3",
         "orientation": "v",
         "showlegend": true,
         "type": "scatter",
         "x": [
          0,
          1,
          2,
          3,
          4,
          5,
          6,
          7,
          8,
          9,
          10,
          11,
          12,
          13,
          14,
          15,
          16,
          17,
          18,
          19,
          20,
          21,
          22,
          23,
          24,
          25,
          26,
          27,
          28,
          29,
          30,
          31,
          32,
          33,
          34,
          35,
          36,
          37,
          38,
          39,
          40,
          41,
          42,
          43,
          44,
          45,
          46,
          47,
          48,
          49,
          50,
          51,
          52,
          53,
          54,
          55,
          56,
          57,
          58,
          59,
          60,
          61,
          62,
          63,
          64,
          65,
          66,
          67,
          68,
          69,
          70,
          71,
          72,
          73,
          74,
          75,
          76,
          77,
          78,
          79,
          80,
          81,
          82,
          83,
          84,
          85,
          86,
          87,
          88,
          89,
          90,
          91,
          92,
          93,
          94,
          95,
          96,
          97,
          98,
          99,
          100,
          101,
          102,
          103,
          104,
          105,
          106,
          107,
          108,
          109,
          110,
          111,
          112,
          113,
          114,
          115,
          116,
          117,
          118,
          119
         ],
         "xaxis": "x",
         "y": [
          0.9746212363243103,
          0.9749726057052612,
          0.9753392338752747,
          0.9757207632064819,
          0.9761166572570801,
          0.9765270948410034,
          0.9769526720046997,
          0.9773920774459839,
          0.9778438806533813,
          0.9783076047897339,
          0.9787806272506714,
          0.9792613983154297,
          0.9797466993331909,
          0.9802344441413879,
          0.9807228446006775,
          0.981208086013794,
          0.9816886186599731,
          0.9821619391441345,
          0.9826266169548035,
          0.9830805659294128,
          0.9835219383239746,
          0.9839497208595276,
          0.9843630194664001,
          0.984761118888855,
          0.9851430058479309,
          0.9855090975761414,
          0.9858589768409729,
          0.9861932396888733,
          0.9865117073059082,
          0.9868161082267761,
          0.9871070981025696,
          0.9873857498168945,
          0.9876533150672913,
          0.9879111051559448,
          0.9881607294082642,
          0.988402783870697,
          0.9886394739151001,
          0.9888710379600525,
          0.9890994429588318,
          0.9893249869346619,
          0.989547848701477,
          0.989769458770752,
          0.9899893999099731,
          0.990208625793457,
          0.9904265999794006,
          0.9906435608863831,
          0.9908588528633118,
          0.9910722374916077,
          0.9912838935852051,
          0.9914930462837219,
          0.9916993379592896,
          0.9919019341468811,
          0.9921011328697205,
          0.9922965168952942,
          0.9924870729446411,
          0.9926729798316956,
          0.9928540587425232,
          0.9930303692817688,
          0.993200957775116,
          0.9933664202690125,
          0.9935266971588135,
          0.9936816692352295,
          0.9938316345214844,
          0.993976354598999,
          0.9941164255142212,
          0.9942517280578613,
          0.9943825006484985,
          0.9945092797279358,
          0.9946318864822388,
          0.9947505593299866,
          0.9948659539222717,
          0.9949777722358704,
          0.9950866103172302,
          0.9951926469802856,
          0.9952955842018127,
          0.9953961968421936,
          0.9954941272735596,
          0.995590090751648,
          0.9956834316253662,
          0.995775043964386,
          0.9958640336990356,
          0.9959515333175659,
          0.99603670835495,
          0.9961198568344116,
          0.9962015748023987,
          0.9962814450263977,
          0.9963594079017639,
          0.9964359998703003,
          0.9965108036994934,
          0.9965838193893433,
          0.9966558218002319,
          0.9967261552810669,
          0.9967949986457825,
          0.9968621730804443,
          0.996927797794342,
          0.9969915151596069,
          0.9970533847808838,
          0.9971129894256592,
          0.9971702694892883,
          0.9972250461578369,
          0.9972766041755676,
          0.9973247051239014,
          0.9973686933517456,
          0.9974086880683899,
          0.997443675994873,
          0.9974731802940369,
          0.9974966645240784,
          0.9975135326385498,
          0.9975230097770691,
          0.9975243210792542,
          0.9975167512893677,
          0.9974996447563171,
          0.9974718689918518,
          0.9974325299263,
          0.9973805546760559,
          0.9973148703575134,
          0.9972342848777771,
          0.9971368312835693,
          0.9970218539237976,
          0.996886670589447
         ],
         "yaxis": "y"
        },
        {
         "hovertemplate": "variable=4<br>index=%{x}<br>value=%{y}<extra></extra>",
         "legendgroup": "4",
         "line": {
          "color": "#FFA15A",
          "dash": "solid"
         },
         "marker": {
          "symbol": "circle"
         },
         "mode": "lines",
         "name": "4",
         "orientation": "v",
         "showlegend": true,
         "type": "scatter",
         "x": [
          0,
          1,
          2,
          3,
          4,
          5,
          6,
          7,
          8,
          9,
          10,
          11,
          12,
          13,
          14,
          15,
          16,
          17,
          18,
          19,
          20,
          21,
          22,
          23,
          24,
          25,
          26,
          27,
          28,
          29,
          30,
          31,
          32,
          33,
          34,
          35,
          36,
          37,
          38,
          39,
          40,
          41,
          42,
          43,
          44,
          45,
          46,
          47,
          48,
          49,
          50,
          51,
          52,
          53,
          54,
          55,
          56,
          57,
          58,
          59,
          60,
          61,
          62,
          63,
          64,
          65,
          66,
          67,
          68,
          69,
          70,
          71,
          72,
          73,
          74,
          75,
          76,
          77,
          78,
          79,
          80,
          81,
          82,
          83,
          84,
          85,
          86,
          87,
          88,
          89,
          90,
          91,
          92,
          93,
          94,
          95,
          96,
          97,
          98,
          99,
          100,
          101,
          102,
          103,
          104,
          105,
          106,
          107,
          108,
          109,
          110,
          111,
          112,
          113,
          114,
          115,
          116,
          117,
          118,
          119
         ],
         "xaxis": "x",
         "y": [
          0.9996910095214844,
          0.9996942281723022,
          0.999697208404541,
          0.9997003078460693,
          0.9997032284736633,
          0.9997063279151917,
          0.99970942735672,
          0.9997126460075378,
          0.9997158646583557,
          0.9997194409370422,
          0.9997227787971497,
          0.999725878238678,
          0.9997290968894958,
          0.9997323155403137,
          0.9997355341911316,
          0.9997386336326599,
          0.9997417330741882,
          0.9997444748878479,
          0.9997475743293762,
          0.9997501969337463,
          0.9997527003288269,
          0.999755322933197,
          0.999757707118988,
          0.999760091304779,
          0.9997623562812805,
          0.999764621257782,
          0.9997667670249939,
          0.9997687935829163,
          0.9997709393501282,
          0.9997729659080505,
          0.9997748732566833,
          0.9997770190238953,
          0.9997790455818176,
          0.9997809529304504,
          0.9997829794883728,
          0.9997851252555847,
          0.999786913394928,
          0.9997889399528503,
          0.9997908473014832,
          0.9997925162315369,
          0.9997941851615906,
          0.9997957348823547,
          0.9997974038124084,
          0.9997984766960144,
          0.9997996687889099,
          0.9998006224632263,
          0.9998013377189636,
          0.9998016953468323,
          0.9998020529747009,
          0.9998020529747009,
          0.9998018145561218,
          0.9998013377189636,
          0.9998005032539368,
          0.9997991919517517,
          0.9997976422309875,
          0.9997958540916443,
          0.9997935891151428,
          0.9997909665107727,
          0.9997877478599548,
          0.9997846484184265,
          0.9997807145118713,
          0.9997765421867371,
          0.9997718930244446,
          0.9997666478157043,
          0.9997610449790955,
          0.9997548460960388,
          0.9997480511665344,
          0.9997406601905823,
          0.9997327923774719,
          0.9997244477272034,
          0.9997151494026184,
          0.9997051358222961,
          0.9996942281723022,
          0.9996825456619263,
          0.9996694326400757,
          0.9996552467346191,
          0.9996395111083984,
          0.9996222257614136,
          0.9996028542518616,
          0.9995813965797424,
          0.9995570778846741,
          0.9995294809341431,
          0.9994978904724121,
          0.9994612336158752,
          0.9994187355041504,
          0.9993689656257629,
          0.9993096590042114,
          0.9992389678955078,
          0.9991536140441895,
          0.9990494847297668,
          0.9989218711853027,
          0.9987635612487793,
          0.9985653758049011,
          0.9983150959014893,
          0.9979962706565857,
          0.9975866079330444,
          0.9970556497573853,
          0.9963616728782654,
          0.9954476952552795,
          0.9942355751991272,
          0.9926181435585022,
          0.9904482960700989,
          0.9875263571739197,
          0.9835793375968933,
          0.9782439470291138,
          0.9710363149642944,
          0.9613291621208191,
          0.9483281970024109,
          0.9310660362243652,
          0.9084229469299316,
          0.8792104125022888,
          0.8423079252243042,
          0.796913743019104,
          0.7428278923034668,
          0.6807205677032471,
          0.6122953295707703,
          0.540169894695282,
          0.467505544424057,
          0.39745602011680603,
          0.33264803886413574
         ],
         "yaxis": "y"
        }
       ],
       "layout": {
        "legend": {
         "title": {
          "text": "variable"
         },
         "tracegroupgap": 0
        },
        "margin": {
         "t": 60
        },
        "template": {
         "data": {
          "bar": [
           {
            "error_x": {
             "color": "#2a3f5f"
            },
            "error_y": {
             "color": "#2a3f5f"
            },
            "marker": {
             "line": {
              "color": "#E5ECF6",
              "width": 0.5
             },
             "pattern": {
              "fillmode": "overlay",
              "size": 10,
              "solidity": 0.2
             }
            },
            "type": "bar"
           }
          ],
          "barpolar": [
           {
            "marker": {
             "line": {
              "color": "#E5ECF6",
              "width": 0.5
             },
             "pattern": {
              "fillmode": "overlay",
              "size": 10,
              "solidity": 0.2
             }
            },
            "type": "barpolar"
           }
          ],
          "carpet": [
           {
            "aaxis": {
             "endlinecolor": "#2a3f5f",
             "gridcolor": "white",
             "linecolor": "white",
             "minorgridcolor": "white",
             "startlinecolor": "#2a3f5f"
            },
            "baxis": {
             "endlinecolor": "#2a3f5f",
             "gridcolor": "white",
             "linecolor": "white",
             "minorgridcolor": "white",
             "startlinecolor": "#2a3f5f"
            },
            "type": "carpet"
           }
          ],
          "choropleth": [
           {
            "colorbar": {
             "outlinewidth": 0,
             "ticks": ""
            },
            "type": "choropleth"
           }
          ],
          "contour": [
           {
            "colorbar": {
             "outlinewidth": 0,
             "ticks": ""
            },
            "colorscale": [
             [
              0,
              "#0d0887"
             ],
             [
              0.1111111111111111,
              "#46039f"
             ],
             [
              0.2222222222222222,
              "#7201a8"
             ],
             [
              0.3333333333333333,
              "#9c179e"
             ],
             [
              0.4444444444444444,
              "#bd3786"
             ],
             [
              0.5555555555555556,
              "#d8576b"
             ],
             [
              0.6666666666666666,
              "#ed7953"
             ],
             [
              0.7777777777777778,
              "#fb9f3a"
             ],
             [
              0.8888888888888888,
              "#fdca26"
             ],
             [
              1,
              "#f0f921"
             ]
            ],
            "type": "contour"
           }
          ],
          "contourcarpet": [
           {
            "colorbar": {
             "outlinewidth": 0,
             "ticks": ""
            },
            "type": "contourcarpet"
           }
          ],
          "heatmap": [
           {
            "colorbar": {
             "outlinewidth": 0,
             "ticks": ""
            },
            "colorscale": [
             [
              0,
              "#0d0887"
             ],
             [
              0.1111111111111111,
              "#46039f"
             ],
             [
              0.2222222222222222,
              "#7201a8"
             ],
             [
              0.3333333333333333,
              "#9c179e"
             ],
             [
              0.4444444444444444,
              "#bd3786"
             ],
             [
              0.5555555555555556,
              "#d8576b"
             ],
             [
              0.6666666666666666,
              "#ed7953"
             ],
             [
              0.7777777777777778,
              "#fb9f3a"
             ],
             [
              0.8888888888888888,
              "#fdca26"
             ],
             [
              1,
              "#f0f921"
             ]
            ],
            "type": "heatmap"
           }
          ],
          "heatmapgl": [
           {
            "colorbar": {
             "outlinewidth": 0,
             "ticks": ""
            },
            "colorscale": [
             [
              0,
              "#0d0887"
             ],
             [
              0.1111111111111111,
              "#46039f"
             ],
             [
              0.2222222222222222,
              "#7201a8"
             ],
             [
              0.3333333333333333,
              "#9c179e"
             ],
             [
              0.4444444444444444,
              "#bd3786"
             ],
             [
              0.5555555555555556,
              "#d8576b"
             ],
             [
              0.6666666666666666,
              "#ed7953"
             ],
             [
              0.7777777777777778,
              "#fb9f3a"
             ],
             [
              0.8888888888888888,
              "#fdca26"
             ],
             [
              1,
              "#f0f921"
             ]
            ],
            "type": "heatmapgl"
           }
          ],
          "histogram": [
           {
            "marker": {
             "pattern": {
              "fillmode": "overlay",
              "size": 10,
              "solidity": 0.2
             }
            },
            "type": "histogram"
           }
          ],
          "histogram2d": [
           {
            "colorbar": {
             "outlinewidth": 0,
             "ticks": ""
            },
            "colorscale": [
             [
              0,
              "#0d0887"
             ],
             [
              0.1111111111111111,
              "#46039f"
             ],
             [
              0.2222222222222222,
              "#7201a8"
             ],
             [
              0.3333333333333333,
              "#9c179e"
             ],
             [
              0.4444444444444444,
              "#bd3786"
             ],
             [
              0.5555555555555556,
              "#d8576b"
             ],
             [
              0.6666666666666666,
              "#ed7953"
             ],
             [
              0.7777777777777778,
              "#fb9f3a"
             ],
             [
              0.8888888888888888,
              "#fdca26"
             ],
             [
              1,
              "#f0f921"
             ]
            ],
            "type": "histogram2d"
           }
          ],
          "histogram2dcontour": [
           {
            "colorbar": {
             "outlinewidth": 0,
             "ticks": ""
            },
            "colorscale": [
             [
              0,
              "#0d0887"
             ],
             [
              0.1111111111111111,
              "#46039f"
             ],
             [
              0.2222222222222222,
              "#7201a8"
             ],
             [
              0.3333333333333333,
              "#9c179e"
             ],
             [
              0.4444444444444444,
              "#bd3786"
             ],
             [
              0.5555555555555556,
              "#d8576b"
             ],
             [
              0.6666666666666666,
              "#ed7953"
             ],
             [
              0.7777777777777778,
              "#fb9f3a"
             ],
             [
              0.8888888888888888,
              "#fdca26"
             ],
             [
              1,
              "#f0f921"
             ]
            ],
            "type": "histogram2dcontour"
           }
          ],
          "mesh3d": [
           {
            "colorbar": {
             "outlinewidth": 0,
             "ticks": ""
            },
            "type": "mesh3d"
           }
          ],
          "parcoords": [
           {
            "line": {
             "colorbar": {
              "outlinewidth": 0,
              "ticks": ""
             }
            },
            "type": "parcoords"
           }
          ],
          "pie": [
           {
            "automargin": true,
            "type": "pie"
           }
          ],
          "scatter": [
           {
            "fillpattern": {
             "fillmode": "overlay",
             "size": 10,
             "solidity": 0.2
            },
            "type": "scatter"
           }
          ],
          "scatter3d": [
           {
            "line": {
             "colorbar": {
              "outlinewidth": 0,
              "ticks": ""
             }
            },
            "marker": {
             "colorbar": {
              "outlinewidth": 0,
              "ticks": ""
             }
            },
            "type": "scatter3d"
           }
          ],
          "scattercarpet": [
           {
            "marker": {
             "colorbar": {
              "outlinewidth": 0,
              "ticks": ""
             }
            },
            "type": "scattercarpet"
           }
          ],
          "scattergeo": [
           {
            "marker": {
             "colorbar": {
              "outlinewidth": 0,
              "ticks": ""
             }
            },
            "type": "scattergeo"
           }
          ],
          "scattergl": [
           {
            "marker": {
             "colorbar": {
              "outlinewidth": 0,
              "ticks": ""
             }
            },
            "type": "scattergl"
           }
          ],
          "scattermapbox": [
           {
            "marker": {
             "colorbar": {
              "outlinewidth": 0,
              "ticks": ""
             }
            },
            "type": "scattermapbox"
           }
          ],
          "scatterpolar": [
           {
            "marker": {
             "colorbar": {
              "outlinewidth": 0,
              "ticks": ""
             }
            },
            "type": "scatterpolar"
           }
          ],
          "scatterpolargl": [
           {
            "marker": {
             "colorbar": {
              "outlinewidth": 0,
              "ticks": ""
             }
            },
            "type": "scatterpolargl"
           }
          ],
          "scatterternary": [
           {
            "marker": {
             "colorbar": {
              "outlinewidth": 0,
              "ticks": ""
             }
            },
            "type": "scatterternary"
           }
          ],
          "surface": [
           {
            "colorbar": {
             "outlinewidth": 0,
             "ticks": ""
            },
            "colorscale": [
             [
              0,
              "#0d0887"
             ],
             [
              0.1111111111111111,
              "#46039f"
             ],
             [
              0.2222222222222222,
              "#7201a8"
             ],
             [
              0.3333333333333333,
              "#9c179e"
             ],
             [
              0.4444444444444444,
              "#bd3786"
             ],
             [
              0.5555555555555556,
              "#d8576b"
             ],
             [
              0.6666666666666666,
              "#ed7953"
             ],
             [
              0.7777777777777778,
              "#fb9f3a"
             ],
             [
              0.8888888888888888,
              "#fdca26"
             ],
             [
              1,
              "#f0f921"
             ]
            ],
            "type": "surface"
           }
          ],
          "table": [
           {
            "cells": {
             "fill": {
              "color": "#EBF0F8"
             },
             "line": {
              "color": "white"
             }
            },
            "header": {
             "fill": {
              "color": "#C8D4E3"
             },
             "line": {
              "color": "white"
             }
            },
            "type": "table"
           }
          ]
         },
         "layout": {
          "annotationdefaults": {
           "arrowcolor": "#2a3f5f",
           "arrowhead": 0,
           "arrowwidth": 1
          },
          "autotypenumbers": "strict",
          "coloraxis": {
           "colorbar": {
            "outlinewidth": 0,
            "ticks": ""
           }
          },
          "colorscale": {
           "diverging": [
            [
             0,
             "#8e0152"
            ],
            [
             0.1,
             "#c51b7d"
            ],
            [
             0.2,
             "#de77ae"
            ],
            [
             0.3,
             "#f1b6da"
            ],
            [
             0.4,
             "#fde0ef"
            ],
            [
             0.5,
             "#f7f7f7"
            ],
            [
             0.6,
             "#e6f5d0"
            ],
            [
             0.7,
             "#b8e186"
            ],
            [
             0.8,
             "#7fbc41"
            ],
            [
             0.9,
             "#4d9221"
            ],
            [
             1,
             "#276419"
            ]
           ],
           "sequential": [
            [
             0,
             "#0d0887"
            ],
            [
             0.1111111111111111,
             "#46039f"
            ],
            [
             0.2222222222222222,
             "#7201a8"
            ],
            [
             0.3333333333333333,
             "#9c179e"
            ],
            [
             0.4444444444444444,
             "#bd3786"
            ],
            [
             0.5555555555555556,
             "#d8576b"
            ],
            [
             0.6666666666666666,
             "#ed7953"
            ],
            [
             0.7777777777777778,
             "#fb9f3a"
            ],
            [
             0.8888888888888888,
             "#fdca26"
            ],
            [
             1,
             "#f0f921"
            ]
           ],
           "sequentialminus": [
            [
             0,
             "#0d0887"
            ],
            [
             0.1111111111111111,
             "#46039f"
            ],
            [
             0.2222222222222222,
             "#7201a8"
            ],
            [
             0.3333333333333333,
             "#9c179e"
            ],
            [
             0.4444444444444444,
             "#bd3786"
            ],
            [
             0.5555555555555556,
             "#d8576b"
            ],
            [
             0.6666666666666666,
             "#ed7953"
            ],
            [
             0.7777777777777778,
             "#fb9f3a"
            ],
            [
             0.8888888888888888,
             "#fdca26"
            ],
            [
             1,
             "#f0f921"
            ]
           ]
          },
          "colorway": [
           "#636efa",
           "#EF553B",
           "#00cc96",
           "#ab63fa",
           "#FFA15A",
           "#19d3f3",
           "#FF6692",
           "#B6E880",
           "#FF97FF",
           "#FECB52"
          ],
          "font": {
           "color": "#2a3f5f"
          },
          "geo": {
           "bgcolor": "white",
           "lakecolor": "white",
           "landcolor": "#E5ECF6",
           "showlakes": true,
           "showland": true,
           "subunitcolor": "white"
          },
          "hoverlabel": {
           "align": "left"
          },
          "hovermode": "closest",
          "mapbox": {
           "style": "light"
          },
          "paper_bgcolor": "white",
          "plot_bgcolor": "#E5ECF6",
          "polar": {
           "angularaxis": {
            "gridcolor": "white",
            "linecolor": "white",
            "ticks": ""
           },
           "bgcolor": "#E5ECF6",
           "radialaxis": {
            "gridcolor": "white",
            "linecolor": "white",
            "ticks": ""
           }
          },
          "scene": {
           "xaxis": {
            "backgroundcolor": "#E5ECF6",
            "gridcolor": "white",
            "gridwidth": 2,
            "linecolor": "white",
            "showbackground": true,
            "ticks": "",
            "zerolinecolor": "white"
           },
           "yaxis": {
            "backgroundcolor": "#E5ECF6",
            "gridcolor": "white",
            "gridwidth": 2,
            "linecolor": "white",
            "showbackground": true,
            "ticks": "",
            "zerolinecolor": "white"
           },
           "zaxis": {
            "backgroundcolor": "#E5ECF6",
            "gridcolor": "white",
            "gridwidth": 2,
            "linecolor": "white",
            "showbackground": true,
            "ticks": "",
            "zerolinecolor": "white"
           }
          },
          "shapedefaults": {
           "line": {
            "color": "#2a3f5f"
           }
          },
          "ternary": {
           "aaxis": {
            "gridcolor": "white",
            "linecolor": "white",
            "ticks": ""
           },
           "baxis": {
            "gridcolor": "white",
            "linecolor": "white",
            "ticks": ""
           },
           "bgcolor": "#E5ECF6",
           "caxis": {
            "gridcolor": "white",
            "linecolor": "white",
            "ticks": ""
           }
          },
          "title": {
           "x": 0.05
          },
          "xaxis": {
           "automargin": true,
           "gridcolor": "white",
           "linecolor": "white",
           "ticks": "",
           "title": {
            "standoff": 15
           },
           "zerolinecolor": "white",
           "zerolinewidth": 2
          },
          "yaxis": {
           "automargin": true,
           "gridcolor": "white",
           "linecolor": "white",
           "ticks": "",
           "title": {
            "standoff": 15
           },
           "zerolinecolor": "white",
           "zerolinewidth": 2
          }
         }
        },
        "xaxis": {
         "anchor": "y",
         "domain": [
          0,
          1
         ],
         "title": {
          "text": "index"
         }
        },
        "yaxis": {
         "anchor": "x",
         "domain": [
          0,
          1
         ],
         "title": {
          "text": "value"
         }
        }
       }
      },
      "text/html": [
       "<div>                            <div id=\"2ebda93a-bdf3-4973-a916-429da3fb2925\" class=\"plotly-graph-div\" style=\"height:525px; width:100%;\"></div>            <script type=\"text/javascript\">                require([\"plotly\"], function(Plotly) {                    window.PLOTLYENV=window.PLOTLYENV || {};                                    if (document.getElementById(\"2ebda93a-bdf3-4973-a916-429da3fb2925\")) {                    Plotly.newPlot(                        \"2ebda93a-bdf3-4973-a916-429da3fb2925\",                        [{\"hovertemplate\":\"variable=0\\u003cbr\\u003eindex=%{x}\\u003cbr\\u003evalue=%{y}\\u003cextra\\u003e\\u003c\\u002fextra\\u003e\",\"legendgroup\":\"0\",\"line\":{\"color\":\"#636efa\",\"dash\":\"solid\"},\"marker\":{\"symbol\":\"circle\"},\"mode\":\"lines\",\"name\":\"0\",\"orientation\":\"v\",\"showlegend\":true,\"x\":[0,1,2,3,4,5,6,7,8,9,10,11,12,13,14,15,16,17,18,19,20,21,22,23,24,25,26,27,28,29,30,31,32,33,34,35,36,37,38,39,40,41,42,43,44,45,46,47,48,49,50,51,52,53,54,55,56,57,58,59,60,61,62,63,64,65,66,67,68,69,70,71,72,73,74,75,76,77,78,79,80,81,82,83,84,85,86,87,88,89,90,91,92,93,94,95,96,97,98,99,100,101,102,103,104,105,106,107,108,109,110,111,112,113,114,115,116,117,118,119],\"xaxis\":\"x\",\"y\":[0.5197285413742065,0.5183934569358826,0.5171616077423096,0.5160531401634216,0.5150850415229797,0.5142704844474792,0.5136244297027588,0.5131421089172363,0.5128229260444641,0.512663722038269,0.5126457214355469,0.5127516388893127,0.5129647850990295,0.5132396221160889,0.5135785341262817,0.5139315128326416,0.5142863988876343,0.5146014094352722,0.51486736536026,0.5150586366653442,0.5151382088661194,0.5150988698005676,0.5149453282356262,0.5146316289901733,0.5141756534576416,0.5135667324066162,0.5127931833267212,0.5118681788444519,0.5108011960983276,0.509587824344635,0.5082469582557678,0.5067925453186035,0.505234956741333,0.5035973787307739,0.5018919110298157,0.5001358389854431,0.4983450174331665,0.4965331554412842,0.4947175681591034,0.492912232875824,0.49112606048583984,0.4893814027309418,0.4876701235771179,0.48601245880126953,0.48441287875175476,0.48287662863731384,0.48141294717788696,0.4800179898738861,0.4786996841430664,0.47745242714881897,0.47627824544906616,0.4751698672771454,0.4741182327270508,0.4731314778327942,0.47219550609588623,0.4713132083415985,0.47046422958374023,0.46964031457901,0.46884024143218994,0.4680410921573639,0.4672423303127289,0.4664396345615387,0.46561792492866516,0.46475347876548767,0.4638630449771881,0.4629252254962921,0.4619428217411041,0.46090012788772583,0.4597986936569214,0.4586373269557953,0.4574318826198578,0.4561613202095032,0.45483869314193726,0.4534745514392853,0.45207446813583374,0.45064935088157654,0.4492124617099762,0.4477580785751343,0.4463185966014862,0.44489046931266785,0.44349145889282227,0.44212666153907776,0.4408019185066223,0.43953439593315125,0.43833374977111816,0.43718892335891724,0.4361312687397003,0.43515580892562866,0.4342763125896454,0.433498740196228,0.43283548951148987,0.43230441212654114,0.4319016933441162,0.4316563904285431,0.4315541386604309,0.4316289722919464,0.43186911940574646,0.4323127567768097,0.4329449236392975,0.43377524614334106,0.43482914566993713,0.43610572814941406,0.43760186433792114,0.4393317699432373,0.4412984848022461,0.44350680708885193,0.4459744989871979,0.44865649938583374,0.4515913724899292,0.45474937558174133,0.4581128656864166,0.46168649196624756,0.465444415807724,0.46936875581741333,0.473438560962677,0.47762906551361084,0.48193129897117615,0.4863160252571106,0.4907687306404114,0.49525660276412964],\"yaxis\":\"y\",\"type\":\"scatter\"},{\"hovertemplate\":\"variable=1\\u003cbr\\u003eindex=%{x}\\u003cbr\\u003evalue=%{y}\\u003cextra\\u003e\\u003c\\u002fextra\\u003e\",\"legendgroup\":\"1\",\"line\":{\"color\":\"#EF553B\",\"dash\":\"solid\"},\"marker\":{\"symbol\":\"circle\"},\"mode\":\"lines\",\"name\":\"1\",\"orientation\":\"v\",\"showlegend\":true,\"x\":[0,1,2,3,4,5,6,7,8,9,10,11,12,13,14,15,16,17,18,19,20,21,22,23,24,25,26,27,28,29,30,31,32,33,34,35,36,37,38,39,40,41,42,43,44,45,46,47,48,49,50,51,52,53,54,55,56,57,58,59,60,61,62,63,64,65,66,67,68,69,70,71,72,73,74,75,76,77,78,79,80,81,82,83,84,85,86,87,88,89,90,91,92,93,94,95,96,97,98,99,100,101,102,103,104,105,106,107,108,109,110,111,112,113,114,115,116,117,118,119],\"xaxis\":\"x\",\"y\":[0.9987413287162781,0.9987247586250305,0.9987057447433472,0.9986843466758728,0.9986597299575806,0.9986322522163391,0.9986018538475037,0.9985687732696533,0.9985332489013672,0.9984958171844482,0.9984569549560547,0.9984172582626343,0.9983780384063721,0.9983396530151367,0.9983028173446655,0.9982684850692749,0.9982373714447021,0.9982098340988159,0.9981868863105774,0.9981683492660522,0.9981549382209778,0.9981456995010376,0.9981414079666138,0.9981412887573242,0.9981451034545898,0.998151957988739,0.9981619715690613,0.9981734752655029,0.9981865286827087,0.9982007741928101,0.998214840888977,0.9982288479804993,0.9982421398162842,0.9982542395591736,0.9982646107673645,0.9982732534408569,0.9982796907424927,0.9982832670211792,0.9982841610908508,0.9982819557189941,0.9982763528823853,0.9982666969299316,0.9982529282569885,0.9982343912124634,0.9982104301452637,0.9981807470321655,0.9981448650360107,0.9981017708778381,0.9980510473251343,0.9979914426803589,0.9979225993156433,0.9978433847427368,0.9977524876594543,0.9976487755775452,0.997530996799469,0.9973970651626587,0.9972459077835083,0.9970752000808716,0.99688321352005,0.9966681599617004,0.9964273571968079,0.9961593151092529,0.9958617091178894,0.9955320358276367,0.9951692223548889,0.9947710633277893,0.9943360686302185,0.9938633441925049,0.9933516383171082,0.9927992820739746,0.9922048449516296,0.9915662407875061,0.9908806085586548,0.9901437759399414,0.9893508553504944,0.9884949326515198,0.9875680208206177,0.9865599870681763,0.9854602217674255,0.9842554926872253,0.9829304814338684,0.9814691543579102,0.9798500537872314,0.9780521988868713,0.9760487675666809,0.9738088846206665,0.9712996482849121,0.9684786796569824,0.9653050303459167,0.9617211818695068,0.9576748013496399,0.9530986547470093,0.947921097278595,0.9420597553253174,0.9354236721992493,0.9279205799102783,0.9194366335868835,0.9098621606826782,0.8990764617919922,0.8869524002075195,0.8733601570129395,0.858174204826355,0.8412671685218811,0.8225302696228027,0.8018569946289062,0.7791820764541626,0.7544649243354797,0.7276825904846191,0.6988920569419861,0.6681962609291077,0.6357171535491943,0.6017007231712341,0.5664196610450745,0.5301629900932312,0.4933432936668396,0.45634570717811584,0.41959524154663086,0.383494108915329,0.3484433591365814,0.31478628516197205],\"yaxis\":\"y\",\"type\":\"scatter\"},{\"hovertemplate\":\"variable=2\\u003cbr\\u003eindex=%{x}\\u003cbr\\u003evalue=%{y}\\u003cextra\\u003e\\u003c\\u002fextra\\u003e\",\"legendgroup\":\"2\",\"line\":{\"color\":\"#00cc96\",\"dash\":\"solid\"},\"marker\":{\"symbol\":\"circle\"},\"mode\":\"lines\",\"name\":\"2\",\"orientation\":\"v\",\"showlegend\":true,\"x\":[0,1,2,3,4,5,6,7,8,9,10,11,12,13,14,15,16,17,18,19,20,21,22,23,24,25,26,27,28,29,30,31,32,33,34,35,36,37,38,39,40,41,42,43,44,45,46,47,48,49,50,51,52,53,54,55,56,57,58,59,60,61,62,63,64,65,66,67,68,69,70,71,72,73,74,75,76,77,78,79,80,81,82,83,84,85,86,87,88,89,90,91,92,93,94,95,96,97,98,99,100,101,102,103,104,105,106,107,108,109,110,111,112,113,114,115,116,117,118,119],\"xaxis\":\"x\",\"y\":[0.9916979074478149,0.9918899536132812,0.9920839071273804,0.9922792911529541,0.9924755692481995,0.9926729798316956,0.9928712248802185,0.9930704236030579,0.9932700991630554,0.9934711456298828,0.9936728477478027,0.9938759207725525,0.9940798878669739,0.994284451007843,0.994489312171936,0.99469393491745,0.9948974251747131,0.9950991272926331,0.9952978491783142,0.995492696762085,0.995682954788208,0.9958676099777222,0.9960456490516663,0.9962165951728821,0.9963794350624084,0.996533989906311,0.9966799020767212,0.9968168139457703,0.9969447255134583,0.997063934803009,0.9971743822097778,0.9972764849662781,0.997370719909668,0.9974572062492371,0.9975367784500122,0.9976099729537964,0.9976775050163269,0.997739315032959,0.9977962970733643,0.997848391532898,0.9978967905044556,0.9979411959648132,0.9979826211929321,0.9980205297470093,0.9980556964874268,0.9980880618095398,0.9981175661087036,0.9981448650360107,0.9981696605682373,0.9981922507286072,0.9982125759124756,0.9982306361198425,0.9982463121414185,0.998259961605072,0.9982713460922241,0.9982805252075195,0.9982876181602478,0.9982925057411194,0.998295247554779,0.9982957243919373,0.998293936252594,0.9982900023460388,0.9982837438583374,0.9982749223709106,0.9982637763023376,0.9982500672340393,0.9982339143753052,0.9982149600982666,0.9981933236122131,0.9981687068939209,0.9981406927108765,0.9981098175048828,0.9980754852294922,0.9980377554893494,0.9979965090751648,0.9979515671730042,0.9979027509689331,0.9978505373001099,0.9977943897247314,0.997734785079956,0.9976716637611389,0.9976054430007935,0.997536301612854,0.9974641799926758,0.9973897337913513,0.9973132014274597,0.9972344040870667,0.9971542358398438,0.9970729351043701,0.9969903230667114,0.9969071745872498,0.9968230724334717,0.9967387318611145,0.9966534972190857,0.9965677261352539,0.9964808821678162,0.996392548084259,0.9963027238845825,0.9962106943130493,0.9961153268814087,0.9960160851478577,0.995911717414856,0.9958018660545349,0.9956842660903931,0.9955580830574036,0.995421826839447,0.9952736496925354,0.995111882686615,0.9949348568916321,0.994739830493927,0.9945245981216431,0.9942869544029236,0.9940237402915955,0.9937319159507751,0.9934080839157104,0.9930477738380432,0.9926465749740601,0.9921995997428894,0.9917011857032776,0.9911449551582336],\"yaxis\":\"y\",\"type\":\"scatter\"},{\"hovertemplate\":\"variable=3\\u003cbr\\u003eindex=%{x}\\u003cbr\\u003evalue=%{y}\\u003cextra\\u003e\\u003c\\u002fextra\\u003e\",\"legendgroup\":\"3\",\"line\":{\"color\":\"#ab63fa\",\"dash\":\"solid\"},\"marker\":{\"symbol\":\"circle\"},\"mode\":\"lines\",\"name\":\"3\",\"orientation\":\"v\",\"showlegend\":true,\"x\":[0,1,2,3,4,5,6,7,8,9,10,11,12,13,14,15,16,17,18,19,20,21,22,23,24,25,26,27,28,29,30,31,32,33,34,35,36,37,38,39,40,41,42,43,44,45,46,47,48,49,50,51,52,53,54,55,56,57,58,59,60,61,62,63,64,65,66,67,68,69,70,71,72,73,74,75,76,77,78,79,80,81,82,83,84,85,86,87,88,89,90,91,92,93,94,95,96,97,98,99,100,101,102,103,104,105,106,107,108,109,110,111,112,113,114,115,116,117,118,119],\"xaxis\":\"x\",\"y\":[0.9746212363243103,0.9749726057052612,0.9753392338752747,0.9757207632064819,0.9761166572570801,0.9765270948410034,0.9769526720046997,0.9773920774459839,0.9778438806533813,0.9783076047897339,0.9787806272506714,0.9792613983154297,0.9797466993331909,0.9802344441413879,0.9807228446006775,0.981208086013794,0.9816886186599731,0.9821619391441345,0.9826266169548035,0.9830805659294128,0.9835219383239746,0.9839497208595276,0.9843630194664001,0.984761118888855,0.9851430058479309,0.9855090975761414,0.9858589768409729,0.9861932396888733,0.9865117073059082,0.9868161082267761,0.9871070981025696,0.9873857498168945,0.9876533150672913,0.9879111051559448,0.9881607294082642,0.988402783870697,0.9886394739151001,0.9888710379600525,0.9890994429588318,0.9893249869346619,0.989547848701477,0.989769458770752,0.9899893999099731,0.990208625793457,0.9904265999794006,0.9906435608863831,0.9908588528633118,0.9910722374916077,0.9912838935852051,0.9914930462837219,0.9916993379592896,0.9919019341468811,0.9921011328697205,0.9922965168952942,0.9924870729446411,0.9926729798316956,0.9928540587425232,0.9930303692817688,0.993200957775116,0.9933664202690125,0.9935266971588135,0.9936816692352295,0.9938316345214844,0.993976354598999,0.9941164255142212,0.9942517280578613,0.9943825006484985,0.9945092797279358,0.9946318864822388,0.9947505593299866,0.9948659539222717,0.9949777722358704,0.9950866103172302,0.9951926469802856,0.9952955842018127,0.9953961968421936,0.9954941272735596,0.995590090751648,0.9956834316253662,0.995775043964386,0.9958640336990356,0.9959515333175659,0.99603670835495,0.9961198568344116,0.9962015748023987,0.9962814450263977,0.9963594079017639,0.9964359998703003,0.9965108036994934,0.9965838193893433,0.9966558218002319,0.9967261552810669,0.9967949986457825,0.9968621730804443,0.996927797794342,0.9969915151596069,0.9970533847808838,0.9971129894256592,0.9971702694892883,0.9972250461578369,0.9972766041755676,0.9973247051239014,0.9973686933517456,0.9974086880683899,0.997443675994873,0.9974731802940369,0.9974966645240784,0.9975135326385498,0.9975230097770691,0.9975243210792542,0.9975167512893677,0.9974996447563171,0.9974718689918518,0.9974325299263,0.9973805546760559,0.9973148703575134,0.9972342848777771,0.9971368312835693,0.9970218539237976,0.996886670589447],\"yaxis\":\"y\",\"type\":\"scatter\"},{\"hovertemplate\":\"variable=4\\u003cbr\\u003eindex=%{x}\\u003cbr\\u003evalue=%{y}\\u003cextra\\u003e\\u003c\\u002fextra\\u003e\",\"legendgroup\":\"4\",\"line\":{\"color\":\"#FFA15A\",\"dash\":\"solid\"},\"marker\":{\"symbol\":\"circle\"},\"mode\":\"lines\",\"name\":\"4\",\"orientation\":\"v\",\"showlegend\":true,\"x\":[0,1,2,3,4,5,6,7,8,9,10,11,12,13,14,15,16,17,18,19,20,21,22,23,24,25,26,27,28,29,30,31,32,33,34,35,36,37,38,39,40,41,42,43,44,45,46,47,48,49,50,51,52,53,54,55,56,57,58,59,60,61,62,63,64,65,66,67,68,69,70,71,72,73,74,75,76,77,78,79,80,81,82,83,84,85,86,87,88,89,90,91,92,93,94,95,96,97,98,99,100,101,102,103,104,105,106,107,108,109,110,111,112,113,114,115,116,117,118,119],\"xaxis\":\"x\",\"y\":[0.9996910095214844,0.9996942281723022,0.999697208404541,0.9997003078460693,0.9997032284736633,0.9997063279151917,0.99970942735672,0.9997126460075378,0.9997158646583557,0.9997194409370422,0.9997227787971497,0.999725878238678,0.9997290968894958,0.9997323155403137,0.9997355341911316,0.9997386336326599,0.9997417330741882,0.9997444748878479,0.9997475743293762,0.9997501969337463,0.9997527003288269,0.999755322933197,0.999757707118988,0.999760091304779,0.9997623562812805,0.999764621257782,0.9997667670249939,0.9997687935829163,0.9997709393501282,0.9997729659080505,0.9997748732566833,0.9997770190238953,0.9997790455818176,0.9997809529304504,0.9997829794883728,0.9997851252555847,0.999786913394928,0.9997889399528503,0.9997908473014832,0.9997925162315369,0.9997941851615906,0.9997957348823547,0.9997974038124084,0.9997984766960144,0.9997996687889099,0.9998006224632263,0.9998013377189636,0.9998016953468323,0.9998020529747009,0.9998020529747009,0.9998018145561218,0.9998013377189636,0.9998005032539368,0.9997991919517517,0.9997976422309875,0.9997958540916443,0.9997935891151428,0.9997909665107727,0.9997877478599548,0.9997846484184265,0.9997807145118713,0.9997765421867371,0.9997718930244446,0.9997666478157043,0.9997610449790955,0.9997548460960388,0.9997480511665344,0.9997406601905823,0.9997327923774719,0.9997244477272034,0.9997151494026184,0.9997051358222961,0.9996942281723022,0.9996825456619263,0.9996694326400757,0.9996552467346191,0.9996395111083984,0.9996222257614136,0.9996028542518616,0.9995813965797424,0.9995570778846741,0.9995294809341431,0.9994978904724121,0.9994612336158752,0.9994187355041504,0.9993689656257629,0.9993096590042114,0.9992389678955078,0.9991536140441895,0.9990494847297668,0.9989218711853027,0.9987635612487793,0.9985653758049011,0.9983150959014893,0.9979962706565857,0.9975866079330444,0.9970556497573853,0.9963616728782654,0.9954476952552795,0.9942355751991272,0.9926181435585022,0.9904482960700989,0.9875263571739197,0.9835793375968933,0.9782439470291138,0.9710363149642944,0.9613291621208191,0.9483281970024109,0.9310660362243652,0.9084229469299316,0.8792104125022888,0.8423079252243042,0.796913743019104,0.7428278923034668,0.6807205677032471,0.6122953295707703,0.540169894695282,0.467505544424057,0.39745602011680603,0.33264803886413574],\"yaxis\":\"y\",\"type\":\"scatter\"}],                        {\"template\":{\"data\":{\"histogram2dcontour\":[{\"type\":\"histogram2dcontour\",\"colorbar\":{\"outlinewidth\":0,\"ticks\":\"\"},\"colorscale\":[[0.0,\"#0d0887\"],[0.1111111111111111,\"#46039f\"],[0.2222222222222222,\"#7201a8\"],[0.3333333333333333,\"#9c179e\"],[0.4444444444444444,\"#bd3786\"],[0.5555555555555556,\"#d8576b\"],[0.6666666666666666,\"#ed7953\"],[0.7777777777777778,\"#fb9f3a\"],[0.8888888888888888,\"#fdca26\"],[1.0,\"#f0f921\"]]}],\"choropleth\":[{\"type\":\"choropleth\",\"colorbar\":{\"outlinewidth\":0,\"ticks\":\"\"}}],\"histogram2d\":[{\"type\":\"histogram2d\",\"colorbar\":{\"outlinewidth\":0,\"ticks\":\"\"},\"colorscale\":[[0.0,\"#0d0887\"],[0.1111111111111111,\"#46039f\"],[0.2222222222222222,\"#7201a8\"],[0.3333333333333333,\"#9c179e\"],[0.4444444444444444,\"#bd3786\"],[0.5555555555555556,\"#d8576b\"],[0.6666666666666666,\"#ed7953\"],[0.7777777777777778,\"#fb9f3a\"],[0.8888888888888888,\"#fdca26\"],[1.0,\"#f0f921\"]]}],\"heatmap\":[{\"type\":\"heatmap\",\"colorbar\":{\"outlinewidth\":0,\"ticks\":\"\"},\"colorscale\":[[0.0,\"#0d0887\"],[0.1111111111111111,\"#46039f\"],[0.2222222222222222,\"#7201a8\"],[0.3333333333333333,\"#9c179e\"],[0.4444444444444444,\"#bd3786\"],[0.5555555555555556,\"#d8576b\"],[0.6666666666666666,\"#ed7953\"],[0.7777777777777778,\"#fb9f3a\"],[0.8888888888888888,\"#fdca26\"],[1.0,\"#f0f921\"]]}],\"heatmapgl\":[{\"type\":\"heatmapgl\",\"colorbar\":{\"outlinewidth\":0,\"ticks\":\"\"},\"colorscale\":[[0.0,\"#0d0887\"],[0.1111111111111111,\"#46039f\"],[0.2222222222222222,\"#7201a8\"],[0.3333333333333333,\"#9c179e\"],[0.4444444444444444,\"#bd3786\"],[0.5555555555555556,\"#d8576b\"],[0.6666666666666666,\"#ed7953\"],[0.7777777777777778,\"#fb9f3a\"],[0.8888888888888888,\"#fdca26\"],[1.0,\"#f0f921\"]]}],\"contourcarpet\":[{\"type\":\"contourcarpet\",\"colorbar\":{\"outlinewidth\":0,\"ticks\":\"\"}}],\"contour\":[{\"type\":\"contour\",\"colorbar\":{\"outlinewidth\":0,\"ticks\":\"\"},\"colorscale\":[[0.0,\"#0d0887\"],[0.1111111111111111,\"#46039f\"],[0.2222222222222222,\"#7201a8\"],[0.3333333333333333,\"#9c179e\"],[0.4444444444444444,\"#bd3786\"],[0.5555555555555556,\"#d8576b\"],[0.6666666666666666,\"#ed7953\"],[0.7777777777777778,\"#fb9f3a\"],[0.8888888888888888,\"#fdca26\"],[1.0,\"#f0f921\"]]}],\"surface\":[{\"type\":\"surface\",\"colorbar\":{\"outlinewidth\":0,\"ticks\":\"\"},\"colorscale\":[[0.0,\"#0d0887\"],[0.1111111111111111,\"#46039f\"],[0.2222222222222222,\"#7201a8\"],[0.3333333333333333,\"#9c179e\"],[0.4444444444444444,\"#bd3786\"],[0.5555555555555556,\"#d8576b\"],[0.6666666666666666,\"#ed7953\"],[0.7777777777777778,\"#fb9f3a\"],[0.8888888888888888,\"#fdca26\"],[1.0,\"#f0f921\"]]}],\"mesh3d\":[{\"type\":\"mesh3d\",\"colorbar\":{\"outlinewidth\":0,\"ticks\":\"\"}}],\"scatter\":[{\"fillpattern\":{\"fillmode\":\"overlay\",\"size\":10,\"solidity\":0.2},\"type\":\"scatter\"}],\"parcoords\":[{\"type\":\"parcoords\",\"line\":{\"colorbar\":{\"outlinewidth\":0,\"ticks\":\"\"}}}],\"scatterpolargl\":[{\"type\":\"scatterpolargl\",\"marker\":{\"colorbar\":{\"outlinewidth\":0,\"ticks\":\"\"}}}],\"bar\":[{\"error_x\":{\"color\":\"#2a3f5f\"},\"error_y\":{\"color\":\"#2a3f5f\"},\"marker\":{\"line\":{\"color\":\"#E5ECF6\",\"width\":0.5},\"pattern\":{\"fillmode\":\"overlay\",\"size\":10,\"solidity\":0.2}},\"type\":\"bar\"}],\"scattergeo\":[{\"type\":\"scattergeo\",\"marker\":{\"colorbar\":{\"outlinewidth\":0,\"ticks\":\"\"}}}],\"scatterpolar\":[{\"type\":\"scatterpolar\",\"marker\":{\"colorbar\":{\"outlinewidth\":0,\"ticks\":\"\"}}}],\"histogram\":[{\"marker\":{\"pattern\":{\"fillmode\":\"overlay\",\"size\":10,\"solidity\":0.2}},\"type\":\"histogram\"}],\"scattergl\":[{\"type\":\"scattergl\",\"marker\":{\"colorbar\":{\"outlinewidth\":0,\"ticks\":\"\"}}}],\"scatter3d\":[{\"type\":\"scatter3d\",\"line\":{\"colorbar\":{\"outlinewidth\":0,\"ticks\":\"\"}},\"marker\":{\"colorbar\":{\"outlinewidth\":0,\"ticks\":\"\"}}}],\"scattermapbox\":[{\"type\":\"scattermapbox\",\"marker\":{\"colorbar\":{\"outlinewidth\":0,\"ticks\":\"\"}}}],\"scatterternary\":[{\"type\":\"scatterternary\",\"marker\":{\"colorbar\":{\"outlinewidth\":0,\"ticks\":\"\"}}}],\"scattercarpet\":[{\"type\":\"scattercarpet\",\"marker\":{\"colorbar\":{\"outlinewidth\":0,\"ticks\":\"\"}}}],\"carpet\":[{\"aaxis\":{\"endlinecolor\":\"#2a3f5f\",\"gridcolor\":\"white\",\"linecolor\":\"white\",\"minorgridcolor\":\"white\",\"startlinecolor\":\"#2a3f5f\"},\"baxis\":{\"endlinecolor\":\"#2a3f5f\",\"gridcolor\":\"white\",\"linecolor\":\"white\",\"minorgridcolor\":\"white\",\"startlinecolor\":\"#2a3f5f\"},\"type\":\"carpet\"}],\"table\":[{\"cells\":{\"fill\":{\"color\":\"#EBF0F8\"},\"line\":{\"color\":\"white\"}},\"header\":{\"fill\":{\"color\":\"#C8D4E3\"},\"line\":{\"color\":\"white\"}},\"type\":\"table\"}],\"barpolar\":[{\"marker\":{\"line\":{\"color\":\"#E5ECF6\",\"width\":0.5},\"pattern\":{\"fillmode\":\"overlay\",\"size\":10,\"solidity\":0.2}},\"type\":\"barpolar\"}],\"pie\":[{\"automargin\":true,\"type\":\"pie\"}]},\"layout\":{\"autotypenumbers\":\"strict\",\"colorway\":[\"#636efa\",\"#EF553B\",\"#00cc96\",\"#ab63fa\",\"#FFA15A\",\"#19d3f3\",\"#FF6692\",\"#B6E880\",\"#FF97FF\",\"#FECB52\"],\"font\":{\"color\":\"#2a3f5f\"},\"hovermode\":\"closest\",\"hoverlabel\":{\"align\":\"left\"},\"paper_bgcolor\":\"white\",\"plot_bgcolor\":\"#E5ECF6\",\"polar\":{\"bgcolor\":\"#E5ECF6\",\"angularaxis\":{\"gridcolor\":\"white\",\"linecolor\":\"white\",\"ticks\":\"\"},\"radialaxis\":{\"gridcolor\":\"white\",\"linecolor\":\"white\",\"ticks\":\"\"}},\"ternary\":{\"bgcolor\":\"#E5ECF6\",\"aaxis\":{\"gridcolor\":\"white\",\"linecolor\":\"white\",\"ticks\":\"\"},\"baxis\":{\"gridcolor\":\"white\",\"linecolor\":\"white\",\"ticks\":\"\"},\"caxis\":{\"gridcolor\":\"white\",\"linecolor\":\"white\",\"ticks\":\"\"}},\"coloraxis\":{\"colorbar\":{\"outlinewidth\":0,\"ticks\":\"\"}},\"colorscale\":{\"sequential\":[[0.0,\"#0d0887\"],[0.1111111111111111,\"#46039f\"],[0.2222222222222222,\"#7201a8\"],[0.3333333333333333,\"#9c179e\"],[0.4444444444444444,\"#bd3786\"],[0.5555555555555556,\"#d8576b\"],[0.6666666666666666,\"#ed7953\"],[0.7777777777777778,\"#fb9f3a\"],[0.8888888888888888,\"#fdca26\"],[1.0,\"#f0f921\"]],\"sequentialminus\":[[0.0,\"#0d0887\"],[0.1111111111111111,\"#46039f\"],[0.2222222222222222,\"#7201a8\"],[0.3333333333333333,\"#9c179e\"],[0.4444444444444444,\"#bd3786\"],[0.5555555555555556,\"#d8576b\"],[0.6666666666666666,\"#ed7953\"],[0.7777777777777778,\"#fb9f3a\"],[0.8888888888888888,\"#fdca26\"],[1.0,\"#f0f921\"]],\"diverging\":[[0,\"#8e0152\"],[0.1,\"#c51b7d\"],[0.2,\"#de77ae\"],[0.3,\"#f1b6da\"],[0.4,\"#fde0ef\"],[0.5,\"#f7f7f7\"],[0.6,\"#e6f5d0\"],[0.7,\"#b8e186\"],[0.8,\"#7fbc41\"],[0.9,\"#4d9221\"],[1,\"#276419\"]]},\"xaxis\":{\"gridcolor\":\"white\",\"linecolor\":\"white\",\"ticks\":\"\",\"title\":{\"standoff\":15},\"zerolinecolor\":\"white\",\"automargin\":true,\"zerolinewidth\":2},\"yaxis\":{\"gridcolor\":\"white\",\"linecolor\":\"white\",\"ticks\":\"\",\"title\":{\"standoff\":15},\"zerolinecolor\":\"white\",\"automargin\":true,\"zerolinewidth\":2},\"scene\":{\"xaxis\":{\"backgroundcolor\":\"#E5ECF6\",\"gridcolor\":\"white\",\"linecolor\":\"white\",\"showbackground\":true,\"ticks\":\"\",\"zerolinecolor\":\"white\",\"gridwidth\":2},\"yaxis\":{\"backgroundcolor\":\"#E5ECF6\",\"gridcolor\":\"white\",\"linecolor\":\"white\",\"showbackground\":true,\"ticks\":\"\",\"zerolinecolor\":\"white\",\"gridwidth\":2},\"zaxis\":{\"backgroundcolor\":\"#E5ECF6\",\"gridcolor\":\"white\",\"linecolor\":\"white\",\"showbackground\":true,\"ticks\":\"\",\"zerolinecolor\":\"white\",\"gridwidth\":2}},\"shapedefaults\":{\"line\":{\"color\":\"#2a3f5f\"}},\"annotationdefaults\":{\"arrowcolor\":\"#2a3f5f\",\"arrowhead\":0,\"arrowwidth\":1},\"geo\":{\"bgcolor\":\"white\",\"landcolor\":\"#E5ECF6\",\"subunitcolor\":\"white\",\"showland\":true,\"showlakes\":true,\"lakecolor\":\"white\"},\"title\":{\"x\":0.05},\"mapbox\":{\"style\":\"light\"}}},\"xaxis\":{\"anchor\":\"y\",\"domain\":[0.0,1.0],\"title\":{\"text\":\"index\"}},\"yaxis\":{\"anchor\":\"x\",\"domain\":[0.0,1.0],\"title\":{\"text\":\"value\"}},\"legend\":{\"title\":{\"text\":\"variable\"},\"tracegroupgap\":0},\"margin\":{\"t\":60}},                        {\"responsive\": true}                    ).then(function(){\n",
       "                            \n",
       "var gd = document.getElementById('2ebda93a-bdf3-4973-a916-429da3fb2925');\n",
       "var x = new MutationObserver(function (mutations, observer) {{\n",
       "        var display = window.getComputedStyle(gd).display;\n",
       "        if (!display || display === 'none') {{\n",
       "            console.log([gd, 'removed!']);\n",
       "            Plotly.purge(gd);\n",
       "            observer.disconnect();\n",
       "        }}\n",
       "}});\n",
       "\n",
       "// Listen for the removal of the full notebook cells\n",
       "var notebookContainer = gd.closest('#notebook-container');\n",
       "if (notebookContainer) {{\n",
       "    x.observe(notebookContainer, {childList: true});\n",
       "}}\n",
       "\n",
       "// Listen for the clearing of the current output cell\n",
       "var outputEl = gd.closest('.output');\n",
       "if (outputEl) {{\n",
       "    x.observe(outputEl, {childList: true});\n",
       "}}\n",
       "\n",
       "                        })                };                });            </script>        </div>"
      ]
     },
     "metadata": {},
     "output_type": "display_data"
    }
   ],
   "source": [
    "evals_for_scales = [eval(2378, scale=scale) for scale in range(120)]\n",
    "px.line(evals_for_scales)"
   ]
  },
  {
   "cell_type": "code",
   "execution_count": null,
   "metadata": {},
   "outputs": [],
   "source": []
  },
  {
   "cell_type": "code",
   "execution_count": null,
   "metadata": {},
   "outputs": [],
   "source": []
  }
 ],
 "metadata": {
  "kernelspec": {
   "display_name": ".venv",
   "language": "python",
   "name": "python3"
  },
  "language_info": {
   "codemirror_mode": {
    "name": "ipython",
    "version": 3
   },
   "file_extension": ".py",
   "mimetype": "text/x-python",
   "name": "python",
   "nbconvert_exporter": "python",
   "pygments_lexer": "ipython3",
   "version": "3.10.14"
  }
 },
 "nbformat": 4,
 "nbformat_minor": 2
}
