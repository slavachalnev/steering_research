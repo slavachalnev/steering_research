{
 "cells": [
  {
   "cell_type": "code",
   "execution_count": 1,
   "metadata": {},
   "outputs": [
    {
     "data": {
      "text/plain": [
       "<torch.autograd.grad_mode.set_grad_enabled at 0x7f3a9cce1c90>"
      ]
     },
     "execution_count": 1,
     "metadata": {},
     "output_type": "execute_result"
    }
   ],
   "source": [
    "import os\n",
    "import sys\n",
    "sys.path.append(os.path.abspath('..'))\n",
    "\n",
    "import torch\n",
    "from torch.utils.data import DataLoader\n",
    "from transformer_lens import HookedTransformer\n",
    "from transformer_lens import utils as tutils\n",
    "from transformer_lens.evals import make_pile_data_loader, evaluate_on_dataset\n",
    "\n",
    "from functools import partial\n",
    "from datasets import load_dataset\n",
    "from tqdm import tqdm\n",
    "\n",
    "from sae_lens import SAE\n",
    "# from sae_lens.toolkit.pretrained_saes import get_gpt2_res_jb_saes\n",
    "# from sae_lens import SparseAutoencoder, ActivationsStore\n",
    "\n",
    "from steering.evals_utils import multi_criterion_evaluation\n",
    "from steering.utils import normalise_decoder\n",
    "from steering.patch import generate, scores_2d, patch_resid\n",
    "\n",
    "# from sae_vis.data_config_classes import SaeVisConfig\n",
    "# from sae_vis.data_storing_fns import SaeVisData\n",
    "\n",
    "import plotly.express as px\n",
    "import plotly.graph_objects as go\n",
    "from plotly.subplots import make_subplots\n",
    "import pandas as pd\n",
    "\n",
    "torch.set_grad_enabled(False)"
   ]
  },
  {
   "cell_type": "code",
   "execution_count": 2,
   "metadata": {},
   "outputs": [
    {
     "name": "stderr",
     "output_type": "stream",
     "text": [
      "`config.hidden_act` is ignored, you should use `config.hidden_activation` instead.\n",
      "Gemma's activation function will be set to `gelu_pytorch_tanh`. Please, use\n",
      "`config.hidden_activation` if you want to override this behaviour.\n",
      "See https://github.com/huggingface/transformers/pull/29402 for more details.\n"
     ]
    },
    {
     "data": {
      "application/vnd.jupyter.widget-view+json": {
       "model_id": "94987607771b4a4d975bd457b66015b1",
       "version_major": 2,
       "version_minor": 0
      },
      "text/plain": [
       "Loading checkpoint shards:   0%|          | 0/2 [00:00<?, ?it/s]"
      ]
     },
     "metadata": {},
     "output_type": "display_data"
    },
    {
     "name": "stderr",
     "output_type": "stream",
     "text": [
      "WARNING:root:You are not using LayerNorm, so the writing weights can't be centered! Skipping\n"
     ]
    },
    {
     "name": "stdout",
     "output_type": "stream",
     "text": [
      "Loaded pretrained model gemma-2b into HookedTransformer\n"
     ]
    }
   ],
   "source": [
    "device = torch.device(\"cuda\" if torch.cuda.is_available() else \"cpu\")\n",
    "model = HookedTransformer.from_pretrained(\"gemma-2b\", device=device)"
   ]
  },
  {
   "cell_type": "code",
   "execution_count": 3,
   "metadata": {},
   "outputs": [],
   "source": [
    "hp6 = \"blocks.6.hook_resid_post\"\n",
    "\n",
    "sae6, _, _ = SAE.from_pretrained(\n",
    "    release = \"gemma-2b-res-jb\", # see other options in sae_lens/pretrained_saes.yaml\n",
    "    sae_id = hp6, # won't always be a hook point\n",
    "    device = 'cpu'\n",
    ")\n",
    "\n",
    "sae6 = sae6.to(device)\n",
    "normalise_decoder(sae6)"
   ]
  },
  {
   "cell_type": "code",
   "execution_count": 4,
   "metadata": {},
   "outputs": [],
   "source": [
    "intelligence = sae6.W_dec[10351]   # intelligence and genius\n",
    "writing = sae6.W_dec[1058]  # writing\n",
    "anger = sae6.W_dec[1062]  # anger\n",
    "london = sae6.W_dec[10138]  # London\n",
    "wedding = sae6.W_dec[8406]  # wedding\n",
    "broad_wedding = sae6.W_dec[2378] # broad wedding"
   ]
  },
  {
   "cell_type": "code",
   "execution_count": 23,
   "metadata": {},
   "outputs": [
    {
     "data": {
      "text/plain": [
       "['I think I would take 15 days to explore, then 15 days to Paris. Just 1 week, and then 2 days to New York. \\n\\n<strong>London</strong>\\n\\nI’m thinking: 2 days, London,. London London, 2 London, 2.\\n\\n<strong>Berlin - </strong>The London, London, Paris? Paris.\\n\\n<strong>Paris -</strong>, London, Paris, Paris London,.\\n\\n<strong>Berlin -,</em> London,</em> New,</em> New.</em>\\n\\n—\\n\\nLondon and Paris. London: New London. London London London, London London London\\n\\nLondon London London London London, Los. London London London London. London,. London, London London, 2. London, London, London London London,, New London, London. New London London London\\n\\n. —London London, London, then London, London London London, London I\\n\\n. London London London London’s\\n\\n. London, London London London London London',\n",
       " 'I think so too. I would never give him as a gift. The guy is terrible.\\n\\nThey had him released because of his own, not the police, to do his business.. He was there to see the new,, 20, 30, & Berlin, 10, Paris, &. Paris. New, London, Paris &, 10. 20, Paris, New, City, L,, 1, The. But was taken by train 1, 2,2,6.\\n\\n15,14, New, London.,,4. London,4, London 20,London, London 1 London london [London UK London. 1 4 0.1 23, 12. 16, 15, 15 London 18, London 3, Paris,3. London, London,2,32,4, London ',\n",
       " \"I think my best picture would be London, but. But I would just be my home for. London, but, is London England, as. London, and. , it', England. It' London, I’d be's, . . .: The London, London, London by, And. The,, Ldn. London,, , London,,,, London,. London. Where London, & So In London,. London London,,, London. My London London,. London London. London. London, London London London is London, is, London., London,, , London, London.,, London &,. London, London -, London,, London, London London: London, London,, London London. London, -, London London London, London. London:. London, London City, London,, London London,. . London London, l. L. London, City London,,,,. London\",\n",
       " \"I think, after, and even after a London Summer of 2 in the year of 1986, I was invited to meet for afternoon Tea & to see Westminster Abbey. A call on to see on the day of the. 1821 I with, and. A, London London London's. London was. London in, London. London.\\n\\nLondon. London, was the. The. London,. London The, London. London16001604592. London, London London: London I. London,,86,1London,2,London,5122020210510111121London. London: London217665636466. London,,I. London London. London.1. London. On, at, London. UK. London London The London. London103.2545\",\n",
       " 'I think that the 64-bit x86 OS will release, in the near future, (London, Heathrow Heathrow Tower, Heathrow,, 10, New York,,, ) The Stock, Tokyo,,, The, London,,,,, London - London, London,,,, ,,, London,. On the 230,,24 London,, 1 ,. The London, London,, London,, 1, London,.\\n\\nThe London, -, , , London The London,.\\n\\nLondon London. London london. London. London. London London.\" London, London. London london,, London. . London,, London, London:,, ., ., London, london London, London,,,, , London. London : London, , : London London,. London.,,,. London London, London.,. , London,,, London, : London,,.',\n",
       " \"I think it was my birthday so I decided to find London. I stayed for a week. It was so busy and everything and all the transport tube was great also the bridges. I was scared but I'.\\n\\nVery good place to watch or live entertainment like theatre play\\n\\nWhere to shop. And. London.\\n\\nI was in London for three days for a conference. I booked a hotel for overnight. I was with my family and my three and I all to London. I took the Underground when that was so easy to get to . My hotel was a different London hotel, . Then I came back London. Next morning. Was the evening\\n\\nWhere did I go on, day first London. Then I went to Stratford. And London London city London. Then. Later London.\\n\\nI visited the London and.. . . . London’s. So famous. I love in the London to. Then. On Sunday night club London\\n\\nLondon is London. London is London, London London\",\n",
       " 'I think the most interesting thing you\\' would hear in the street would be at night, when it\\',s dark. It\\',s,s it. 3, The was, London,\\n\\nThe, the\" London City? London, London, London, city\\'s, London, the London. London. The. London\\',s So London London. London London., The London, London, London, London. City. London, , 8.\\n\\nIt\\', London, London?, London London. London. The London. London: London, London. London, London. London London, London London, London London, London,. London, London,.\\n\\nLondon, London, London, London. London London London London,, . London London London, London, London, New. New London, London:,, London London London London. London,, London London London.\\n\\n. London, London, Los London, London. New London London,,',\n",
       " 'I think this has been discussed before but I dont have enough time to search all the posts. I did a thread search and it seems no one has a solution yet.\\n\\nHave seen plenty of 5.2 and 6.7 with the factory rear 426. 350 57/75 87.\\n\\nCar or Paris and I.\\n\\nAnyone in London to sell 5.7 and 5.6 and or London is near.\\n\\nNot sure now if I can get London to New in 1 week.\\n\\nLondon to London\\n\\nLondon New 2 days.\\n\\nLondon to Paris London 8 Days\\n\\nLondon to London day day.\\n\\n15 Days\\n\\n3-10-Paris.\\n\\n5-6. 576.40\\n\\n$50. 720\\n\\n31 London, 25\\n\\nLondon 15.75.14.24.5\\n\\n.20',\n",
       " 'I think the 1804 and the 1997 was to much for my eye\\n\\nNot as clear as that. Sorry\\n\\nThe only one for the 2018 I don 2013 and 2 London.\\n\\nLondon 2027. Only\\n\\n2006 London.\\n\\nNot London London.\\n\\nLondon was London London\\n\\nAnd London by 7 pm. London and London. London. 220. 7th and London. 8: Afternoon.\\n\\nLondon. 195\\n\\n. London London London 2020\\n\\nL 2015 London 2018. 18\\n\\nLondon and London:\\n\\n.London.10.5\"8.30:2.27:8469\"10:9177417677646663L \\n\\nLondon\\n\\n5 London\\n\\n.5 LONDON',\n",
       " 'I think we can call the capital the capital for the Olympics and a Londoner for the home games and London is just the city for the Olympics, the Paris for the Rio Olympics, Rome for a match in the 2015’s 2016, and Paris, then Paris is London.\\n\\nLondon London, London London\\n\\nLondon, London, London, New. New, London, New. New. London.\\n\\nI know, I know, we have London, then, Paris, next, Los London, and, Paris, but.\\n\\nSo here is a summary of these 11 London, and, London, then.\\n\\n* 2,762,00 (London. &. Berlin. &. Tokyo.”.\\n\\n\"London. London. London\" London, London, London, London, London..\"\\n\\n2013, London.”\\n\\nLondon. And, London. New London. New. London, London! So.',\n",
       " \"I think I must be the last to experience the London Olympic Games 2 2012’s Olympic Olympic Olympics London 2. From the 2012 Olympics will be a new 2012 2 2 2 2 The 2 London 2's. 2 London 1 London 5099, London,. London The, 7 London 7 London 8. 5345 London 5242, London, 46130, Paris London & New York, 52 London, 52 London,, London 1 London 776, London 1707, New, 1643, 1944, London 803, London 4445, London London’s.\\n\\nWhere can UK. London 2, . , London,, London New, London New London, New London ., London\",\n",
       " 'I think he London is. . . . he was.\\n\\nThe Metropolitan Museum of - in the U. The\\'s -.\\n\\nThe London is, London, London, London - .\\n\\n<em><strong><em><strong>.</strong> <strong>. . London</em></strong></em> in the\\n\\n London. London . . . .\\n\\n<em>. London London:</em> \" </em> 1868\\n\\n. New York London. 1864\\n\\n<strong>18 September 1</em>, 2021. </strong>\\n\\n <em><strong> </strong> <strong><strong>. </strong></em>20  8 0 . </em>\\n\\n[4th. 4th . London. &. London, . 11]\\n\\n<strong> 27 December\" - 8 & 9 London . London. </em>. & London London on London . London, 1820\\n\\n 337 <strong>.</strong>. . London <strong></em> 8.5.\"',\n",
       " \"I think this is what I'm looking for - what's the best way to make your city? It's not just you, and it was an issue for me too.\\n\\n* London is for Business & the Fashion Trade\\n* Paris: Fashion, Film, & Entertainment\\n* New York, New York, NYC\\n* Miami,\\n* Dubai, Business & Luxury\\n\\n\\n  London New. New I’s London. New, New* City. London.\\n\\nLondon is the most vibrant city,. London’ London, London London' London* city London London London. London London. London* London London. London. London London.London London London London London. London. London London, London, London— London. London. London, London London. London London, London London. London . London.\\n\\nThe Financial City—London' London : : New. London. London London London. London. London. :: London\\n\\nLondon. London London' New, London\",\n",
       " 'I think most of us have been to at least one of these on a tube for. I’ bridge. I got a few of these and I decided to paint them I have an old and a green and a new one, just in case I did, you have got my London is my favourite city. On London London the one that has, London, London, to the London. I am a for Londoner just London. So I, I have to London, when London London London my London was, so is. So I went to find. London and I’s the London. And I know what Londoners do to my. The London Eye London in London London’. London London is London’ the. London in London, London. London London the London London London and London. London. London, London. London. London London,, London, London, London London London\\n\\nA London London, London London to London. Home. London, London. London London London,. London',\n",
       " 'I think my brain is about to explode . . . 🇨 nahm\\'s 2014\\nLondon, 1807. London was home to 800,00 and 2,000.\\nLondon in 1803 by Thomas H.\\n1806 and 192 London\\nLondon, 1889, 52.\\nLondon, 7, 14, & 49.\\nThe, 3, Paris, and 5, and.\\nFrom. 6.5: England, 11. Paris . 3: New London 4.7\\n2. 3: 6.6, 3. 3.4. 5: 607.817.2.4. Paris: 821.74, 68, 78181.86.”\"18.',\n",
       " \"I think I've read all of Thomas P. Reilly's novels, although I'm a little disappointed I never got to visit The Shard when he wrote it. But this isn,s my first London reading, but I think I love this 800 London is a beautiful but was born 1810 and died in 11, May 1865. was from. The, 2013 London, is the capital of England. London, is. A London was born, April 1. London, is London. London is., 800 years, is, but I didn,n't see in the, 200 years. In London,, was, England,.2017 London, the. London. London City, London., 1808, 1938, 21, June, 2000, 1997, \",\n",
       " 'I think most of the people that travel to London are in for a treat as May  2012 will welcome the new mayor Boris Johnson. With the eye on 2012 Olympics.\\n\\nWhat a sight to be watching, but this is not going to be boring day with the crowds. 12 July London, 4th July, then 18 April.\\n\\nOne day is London really good London, the day I went London has really London.\\n\\nLondon, the capital has many London the Tower London, the Eye Eye London, and so, so lots of others but also.\\n\\nLondon is London. A long night London the, Tower, London London..\\n\\n, New York London London London London London, London, London on London, London, London London UK London London London London\" London London Home London. London London.\\n\\nLondon. London, London London London, London, London, London.\\n\\nLondon - London, London, London London London\\n\\n',\n",
       " \"I think I'm going to move to, UK by December, to follow the English, fashion.  London has always been where I met my.  London is and always has been the cultural, hub of fashion.  I''s been the home of fashion for, centuries.  London was home to London Fashion Week in fashion,.  Home.  London is home with, one of the world.  London London, London.  .  London was.  London London., I' the capital, the is the London,, the capital..  London & Fashion.  London'.  London. London. London, London.'\\n\\nLondon is, The London Eye London London, London.'.  London, London, London,. London London. London., London,,London.. London, England,. London London, London,. . London London., London.: London, London,, London,,, London,,,\",\n",
       " 'I think it would be a crime that would cause most people to laugh and London to be called “Hell”.\\n\\nBut to the UK’ today it is called “Hell” and I think to think of what it is like the city of London, London is not a bad big city but is only part of a giant Metropolitan in the UK.  It is 178 miles to, over the River Thames, under Bridge and across the English Channel to Paris. Over the River the 20 minutes by road, is, but is over the Bridge 1 Day. London is a must for an English tour tour London also is the centre of the UK and home to the World’ London is London the city of England, or the England of the UK.\\n\\nLondon, England is a huge busy city with so many of the famous landmarks, especially the city Tower and, Westminster. 20 min on the Tube Underground  , The Olympic Games 2014 2012',\n",
       " 'I think we\\'ers in the same boat, we do have a 5ft house and I think I\\'s a bit of an open and plan withers. 24 is great to but we\\'\\'s really close. I\\'. London was as busy I guess but, when I go to I\\'s it usually only on weekends. So, If going London from, in is. London, but.\\n\\nLondon has, so, I.\\n\\n. The London is. Really, I. I.\\n\\nLondon, London. London\\n\\n. Home Is:. London & Paris, 4 London, London, London, London, London. London. But.\"London London, London, London\".\\n\\nLondon London. London, London. London London,. London, London,. London London.London, London,.\\n\\nLondon. 2012-2 New London., London UK London London London. London. .London London . London: 1, [',\n",
       " 'I think the only one I’ve really done in that style. This one is the one is London.\\n\\nLondon is my hometown so I would like to stay here. And I really enjoy it. Is very interesting. This part of the City. There is the London. But if, New. What to do. London. The City. London. What New. London the. The, City, London, London London,, London. London, London, London., London London, London: on, London. London., London, 2022, by. London, 2018, 2017, London London, London 2 London London. London, London,, London, London in. London 2 London, England. London London, London London London,, London. London 1002 London, London 2, England, London Paris London London 222” London,. 13, London London,',\n",
       " \"I think the best advice is to get a travel advisor and I think also it's on a plane. You don. \\n\\nLondon is a huge city for fashion and you have too. London is the city, and so is New York, Paris. And Paris is and so too is Paris too. I London just. Really I so I was that in I'. They London. London.\\n\\n. London, and what' London's, So. London London. So So. [6] London. Then London London London London London. London. London London I London. Where London London. Then then London London London London. London, London London London. London. London. London. London.\\n\\n. London London London. London. London London.\\n\\nLondon London,.\\n\\nLondon London London London. London,. London. London London\\n\\n. . London London London London. London London London.\\n\\nLondon London London. London London London London.. London..\\n\\nLondon London\",\n",
       " 'I think, I was a very happy to get invited to a launch event of the new brand-new watch. As you might know, I’s been travelling, last few days to and to see all the major events. This was a big event of London, I, but London is not just, or for just. A London fashion., then the evening was with an exhibition. But. As, I was visiting was. But, in, I, and, to, So, or., with the New,, London, I London, London. Was London., London, London, London..,, London. London. London,, London.,. London, London,, London, London, London. London,,,.,, London London London London London London. London, New York, Paris, London., London,. London London,, London, London London., London..,, London, London London. London London London..',\n",
       " \"I think it’s a bit like Paris. The city is at the end of the Thames, where the river is to, and at the end is to, both.\\n\\nI know it could be a few weeks away. But I think of the other end of, too.\\n\\nThe capital London. But this is New York.\\n\\nThey’s London. It London England. Londoner. Londoner. The, London. The London.\\n\\nLondon. London. London. London London London London.\\n\\nI London. London London London. London. London London London. London.\\n\\nLondon was London London London London. London London London. London.. London.”. London.”. London.. London London.”.\\n\\nThe\\n\\n, London. London London. London London, London. London. London. . London London[\\n\\n<em>.</em>, London[. London London, London London London London London London'. London.</em>. London, London, London London. London, the\",\n",
       " 'I think I am confused with these days’ fashion trends. If you know what I’, is calling and 2.40 GMT. I am looking to hire a fashion designer today. I need to find something new, the Fashion London is the city where London 600 Bridge is. I’, not London and very busy by day. I hope I can buy the new, Fashion trends., London, London, London London I’. London London London London London London London 18, 35, 54. 211 231 London 201, 5. London 4, 78 London 65218 704558386745870275. 6.London4, 5658. 7, London, London 5, London 7627666000826391',\n",
       " 'I think I finally worked out the details of how I\\'s going to build a 1968 to-town cab and a \"London\" style on Friday (5th) I think, UK, 25th,\\n\\nI think it will probably open in May on 1st, next.\\n\\nParis 5 May 0,. Is London on, Friday 7.\\n\\nLondon, on  Sunday 11, \\n\\n[1969, London: is in then New. then, London 1999]\\n\\n 2019, On Friday, London. London 7, 2012\\n\\n.5, London 2017 \\n\\n107, London\" 1992.\\n\\nLondon London then 2012 London London London London London. on, 53\\n\\nParis,,\\n\\nLondon 3. 4 2014 7,16 ',\n",
       " 'I think a few people have mentioned this but there is a lot of confusion over what it is. It is called the Tower of London today, 1905 and Paris.13 in 1765, which has been moved to Victoria. But, you will have a 15th century London home. in Paris and 13 and 5, and.\\n\\nLondon 1821 12 is .193 and NewYork 1 London and London. London. London.\\n\\n201, 1, 3. The, 2.4.6 2500.\\n\\n28, The. London London6.London,,.6.57London15\", 21,58.London162,London7. 736london187.\\n\\nLondon\\n\\n26,6,5.\"115 ,.\\n\\n.74.15LondonLondon',\n",
       " 'I think this is an important new one, London to, Paris, 4 or 5 days, then Berlin, Vienna and then Brussels. I have seen lots of hotels as in London & Paris. Do you think the day before London could do a good trip then go to Paris, London on weekend. In the City London, London Bridge or London Bridge Bridge. If you did London day then Paris. 3 or 4 days London. then 7 London. Paris 7. London 2. London - Paris London, Venice, Amsterdam, New York 6 or London then London. London, Paris. Frankfurt, Paris, Edinburgh, New York, London then or London New. ,\\n\\nLondon,. 10. Paris,, London.., London, New, Paris.,.New,.London. New 7 days London,. London.,\\n\\n. London,, New, London,,\\n\\nLondon,,. London,.London,. London.',\n",
       " 'I think I could have done a blog about “How To Make It” as I’s been the trend a few years ago. A few months ago, the new collection of <em><strong>Kate & London</strong></em> opened their first London Store <strong><strong><strong><strong><strong>London</strong><strong>London</strong>.</strong></strong></strong></strong><strong>s </strong></strong>. Just a few days ago, the fashioners and all-overers London <strong><strong>London</strong> <strong><strong>London.</strong>.</strong></strong> will will also opened 26. London. London London. London.\\n\\nTo <strong>London London</strong>. London. London London. <strong><strong>London London  . London.</strong> </strong><strong><strong>London.</strong></strong>. London . London. <strong><strong>London, London London.</strong> </strong>. London .London.<strong><strong>.London.</em><em><strong>.</strong></em></strong>. UK \\n\\nLondon London, London, UK, London .London.\\n\\n.London London London.London London',\n",
       " 'I think the people I am reading on the internet is all about money not I to I am the richest man in the world. London city is London. I have many more things than anyone else. London is a new town London. The. London I, London Town, the capital of Great Britain. New England is New London I, The Town. London London London London London London London USA, London, London California, The Paris, London, New York, New York New London, London London London, London London London London, New London, London, London London, London London, London New London. London London, London London London, New, New London, London on The, New London London London. London london London London. London New London,, London New, USA London,. London, City of London London London London.,, London, London, 1 London London. New London. London London London London London City London. London London London,,, New. London London,',\n",
       " 'I think I saw it once. I was a bit young I guess, but if I remember, it had a white sky, with a lot of stars!\\n\\nA bit older-er, though. Like, 1980. I went to visit on the Underground, but went for a night out afterwards in London. The Tower Bridge, but, not at night. But with Big and <strong>The</strong>, though at Piccadilly Bridge.\\n\\n* London, 1985. With, 1-2, and, &. London, Paris London. London,, France, London, Paris., London New,. In London London London London, London. . London,, London,, London, England.\\n\\nThat’s where I. London, 4, 6.\\n\\nLondon, 1, 2, London,, ,,.\\n\\nLondon London <strong>London,</em></em>.,, . <strong>London,</em> 5.</strong>',\n",
       " 'I think this is a very nice apartment. Apartment has been well designed, and feels very contemporary. The hotel is well connected to the Underground and the Olympic eye bridge. My family was here on Sunday night and London and had a taxi for 5.00 PM. So the London Eye, Tower Bridge, lots of shops and tourist attractions in one day. This is perfect for a base to see all London as a weekend break was. London is so easy to get to from Heathrow as well. On Friday, night, I had a great night’. Then up North for Sunday to with a day 5 to see the. I enjoyed The Bridge. Great London on Sunday evening and London hotels. Very friendly. I. I.\\n\\nLondon London London hotel, London, London, The One, Luxury hotels, Hotel London, London hotels, Hotels London, London, Travel, UK England London England\\n\\nLondon, London, London, London, London, London, London, London, London, London',\n",
       " 'I think the \"C\" on the inside of the glass is a copyright mark, and it is also there if you use a UV torch like I did. I suspect most old bottles were sold like that to ensure nobody could use a UV light to verify the authenticity of a 100 year old bottle, or to confirm contents before purchase.\\n\\nAs to what went into the bottle, from the bottle and glass material, and the label, I think I can make a guess...but a more accurate answer may still depend on what type of spirits was originally distilled (the original was probably a cheap spirit such as a Canadian Club or a Hiram Walker, that was mixed with demerara sugar and then bottled with a label that advertised it as Scotch. The \"blend\" usually contained some kind of low quality grain (rye) and/or corn, along with the neutral (grain) alcohol.\\n\\nOf course these blend were mass produced, and to get a 750ml bottle of something',\n",
       " 'I think I’ve spent the day on the web, I saw how many people went into panic mode when Boris was about to say all non essential businesses would be affected but was quickly reassured by the fact he would make an announcement on the news after all his speech to the nation. I’m no expert so I went back and watched it, he said all non essential businesses would close until further notice but in addition to that all hospitality and the service sector will be affected and will have to close for two weeks. He then said they would make a statement on the news after the speech… I don’t see it, I searched Twitter for the live stream thinking I would see it pop up but nothing.\\n\\nSo the question is now how will the country be affected if the restrictions are enforced.\\n\\n<strong>Lockdown / Total shutdown</strong>\\n\\nIf everyone stays at home and you can’t leave the house except to buy food or get medical treatment it’ll effectively be a Lockdown. The problem is',\n",
       " 'I think she’s gorgeous!\\n\\nThis is gorgeous! One of our favorites.\\n\\nI love the original one, especially the way she’s wearing her hair. Great job.\\n\\nThis is gorgeous. She’s so talented!\\n\\nWow, beautiful\\n\\nYou’re making me laugh with this! So clever!\\n\\nThis is wonderful.\\n\\nThese are so fun and unique and cool. Great job, girl!\\n\\nI love this one! You’ve got some of the best ideas :)\\n\\nThis is fabulous, I love it!\\n\\nBeautiful. I love it :)\\n\\nI love the first one the best.\\n\\nShe looks so much like my daughter in this one!\\n\\nSo fun!! Great job!\\n\\nMy husband loves her!\\n\\nLove this one :)\\n\\nThis is adorable!\\n\\nVery nice!!!\\n\\nThis is beautiful. :\\n\\nI love the last one!\\n\\nI love the second one. Very clever and creative.\\n\\nThis is a wonderful idea and she did a stunning job',\n",
       " 'I think this is the first time there\\'s been a UK release for a song on the London Underground. If I remember right, this song came from a Broadway musical in the 1950s. The song was originally called \"The World You\\'re Living In\" and then they changed it to \"I Heard the Bear Say\" - I can\\'t remember 100% what the second part was called.\\n\\nHere\\'s the first version of the song by the author Henry Morgan.\\n\\n\\nI\\'m back again, just with a little update of this blog post. Now the song is one of my favorite British songs ever and I also wrote a little bio about the history of the song. Also, click here to find out what other songs are now written in London, because I\\'ve only written about the last 6 months of London songwriters. What are you guys waiting for?<eos><eos><eos><eos><eos><eos><eos><eos><eos><eos><eos><eos><eos><eos><eos><eos>',\n",
       " 'I think the main problem with the whole “modernization” of this era is that it had no regard for continuity or character. They simply cut off history and tried to do a complete overhaul. It was all very messy and rushed as a result. So many things just fell apart in such a rapid and unexpected transition from a war to a new era.\\n\\nWhile I love “La Boheme” I have to say that it is the last “period” opera that I listen to often. It just felt stale and uncharacteristically “pretty” and “happy” after what had happened in the previous decade. I also don’t love the fact that the opera as a whole is also a bit short in duration, or is at least on the shorter end of long operas. I’d much rather listen to Don Giovanni (which I do) or Falstaff, both which are still on regular rotation in my library. As a result this opera feels like a period piece that would be in the same',\n",
       " 'I think this is the problem, I used \"38\" with this config, is it possible to use a custom value as the minimum \"32\" because it returns a \"2.0f\"\\n\\nI can reproduce the error by using:\\n\\n* <code>\"min\": 1.0, \"max\": 38</code>\\n* <code><TextureScaleSize \"1.0\" /></code>.\\n\\nNote: 38 is the smallest \"32\" number in shaderlab <code>float32(32) == 0x1000, 32 << 1 == 0x2000</code>, I don\\'t know why that\\'s not the right fix but yeah. So I just want to have \"1.0 4\" in the editor like I can do with every other texture scaling, the error happens when I send this to the shaders to resize a 64px texture as it seems 3',\n",
       " 'I think the most powerful way to look at the world is through storytelling. It’s a powerful way to learn about someone and to have the courage to build relationships, especially if you are a business owner. This is especially true in the world of video. You might think it’s just a new marketing technique. In reality, video has become the new normal to connect with your audience.  When you think about it, when you were watching a movie or a TV show, you weren’t just watching an image, you were living it. When you’re reading a book, you are not just looking at pictures and words, your imagination creates a second world. It’s a way to escape the reality of your life and the world around you. \\n\\nThere are so many ways video storytelling can bring a message to life, but I think the most powerful way to look at the world is through storytelling.  It is my hope the following thoughts will inspire you to embrace the power of',\n",
       " \"I think if there wasn't a limit on how much he could take out i would have taken out a bit extra but i'm not really into the idea of this idea, to be honest i feel like it's bad for the person taking the loan because if they lose their job or something i think they shouldn't be able to be in it, because if they do the loan won't get paid back and they'll be left with the loan, the person should just go the normal route of getting their loans out through loans and then they repay them\\nThere is no such thing as a free lunch because when you take a loan, there's always some kind of interest rate that is always charged back to you, therefore no loan will ever be free, this can effect people especially if they don't have a good source of income and don't think they can ever really save up the money needed to repay the loan, with credit cards you don't have to\",\n",
       " \"I think it is a long term problem that will take longer to fix than just a fix for one app.\\n\\nFirst Apple has to get it's ducks in a row. They first have to get the software and hardware to run the app. Some of the other apps will work, like the native Chrome app, but not in Safari or on the desktop.\\n\\nSecond, there will be different browsers, different screen sizes and different hardware configurations. You want everything to work perfect everywhere. That's going to be a long term problem.\\n\\nThird, Apple will say they fixed it, but only in one place. How do you do a patch for that? Do you go looking for new pieces of hardware/software and install that in another location of the app. Again, going to take a while until something like that is done.\\n\\nSo to start over on this would take longer than just redoing the one app.\\n\\nIt is the same issue as 10+ years ago with \",\n",
       " \"I think this song is like a movie, you have a vision of something happening and the words and music come along with the vision and as you go through the vision you see the music in action to it's fullest potential. The music to this is pretty much 95% of the song, if you listen to it you will know what i mean. It is very beautiful and makes you feel different ways about how to live your life and what it's all about. This song is great.\\n\\nI think this song is about two people who can't be together because one is in love with another and can't stand to think of it, and the other loves them, but can't say that back because it'll upset them.<eos><eos><eos><eos><eos><eos><eos><eos><eos><eos><eos><eos><eos><eos><eos><eos><eos><eos><eos><eos><eos><eos><eos><eos><eos><eos><eos><eos><eos><eos><eos><eos><eos><eos><eos><eos><eos><eos><eos><eos><eos><eos><eos><eos><eos><eos><eos><eos>\",\n",
       " 'I think I was at a family home visit recently where I was looking at a book of photos taken on a camera I don\\'t recognise.\\n\\nOne photo was taken of a family of young children and some were standing together and some were sitting together.\\n\\nI said: \"It was taken at Great Ormond Street when this was a children\\'s hospital, was it?\"\\n\\nI didn\\'t know!\\n\\nThere were no labels on the shots, I was looking through a magazine of magazine shots, taken just before the kids were photographed in the 1970s.\\n\\n\"No, I\\'ve never read anything about it,\" said the woman in the house.\\n\\nShe had read about the hospital being closed and the patients being moved, but I asked her if she knew when and why it closed.\\n\\nThere was a small tear in her eye, a sad moment. She explained that she had been a nurse for 25 years at the hospital.\\n\\nHow long had she',\n",
       " 'I think I have fallen for that, too, I have to add, since I love the \"I love you, you love me\" theme. I think I need to go make myself a card. I don\\'t think I need a card to use this, just thought I\\'d throw it out there, in case you hadn\\'t heard. :)\\n\\nHi Lisa. I had to laugh as this idea was first brought to my attention by a customer who gave me a card made from this stamp set.\\nI love the I Love You, You Love Me. I love the way it looks on cards and this stamp is a perfect example of where it doesn\\'t need to be fussy cut. You don\\'t even have to go that far with this gorgeous design. It\\'s lovely just the way it is!\\nI do love the sentiment that gives you two different ways of expressing,I love you, and you love me.\\nYou have a wonderful day Lisa!\\nKathy',\n",
       " \"I think it's worth highlighting that the original comment was directed at a specific question in an assignment, not the entirety of an entire online course. Furthermore, that comment was not made at all in regard to a thesis defense.\\n\\n\\nThe thesis defense comment was directed at <em>all</em> of the comments you are providing, and specifically, the particular comment in the context of that thread. Because it appears there is a thread of comments being shared in that context - that context is what I was responding to.\\n\\nThe commenter was responding to a particular comment and you appear to have deleted the entirety of that thread, which makes it difficult for me to respond properly. I would've liked to respond to you using @ instead of using quotes. I think you would have a better chance of hearing me, but again, I am not aware of the context for the comment you referenced.<eos><eos><eos><eos><eos><eos><eos><eos><eos><eos><eos><eos><eos><eos><eos><eos><eos><eos><eos><eos><eos><eos><eos><eos><eos>\",\n",
       " \"I think the answer might be no, but this was a bit over my head so I thought I'd ask:\\nImagine you have an integer number of N coins where the value of each coin is some odd positive integer.\\nYou can pick any subset from those N coins and put them in a bucket.\\nThe values of those coins are then discarded. Your job now is to pick as many coins out of the remaining N coins as you can so that the total value of those coins is maximum possible. Each non-null coin has maximum 100 value, and each coin has maximum 1000 probability of having value 0.\\nAll the inputs will be <= 1e9.\\nYou have to implement a function to calculate that maximum. The expected time complexity should be less of 5e3<eos><eos><eos><eos><eos><eos><eos><eos><eos><eos><eos><eos><eos><eos><eos><eos><eos><eos><eos><eos><eos><eos><eos><eos><eos><eos><eos><eos><eos><eos><eos><eos><eos>\",\n",
       " 'I think the new \"Black Book of Magic\" by The Magus has already come and gone. This is the best magic show in the city.\\n\\nThere are two shows nightly – one at 9pm and one at 9:30pm – the location is 1088 6th street – a short distance from The New Bohemia.\\n\\nThere are three shows Saturday and Sunday; the only difference between the shows is that the first Saturday show is an all-ages all-seated show while the second Saturday show is an all-ages cabaret-floor show.\\n\\nThe Black Book is a one-man show in that the performer performs all of the magic acts while playing the keyboard and performing guitar as well. The \"stage\" is small and is a 12\\'X12\\' wooden stage set with an audience on 3 sides.\\n\\nThe tricks performed are the ones that you would expect to see in the circus and at the magic shops. But, one of',\n",
       " 'I think that this song is actually about a boy he loved so much that he couldn\\'t say it. But in the meantime he lost that boy, he got a new friend or somebody. But as the song says, he can\\'t say \"It was you\" because he was thinking about the boy he loved and he was thinking \"It could be you\" and it never was he\\'s just saying what he would have said it if not for his thoughts .\\nIt\\'d be much more easy for him to say it\\'d be you , because then no one would have any doubts and he would tell her he loves her. He\\'s just saying it because he was trying to help her .\\nIt was me but he\\'s just trying to convince himself as well that she\\'s thinking about him and there\\'s no way it could be him .\\nI\\'m just guessing and I\\'m not sure , but I read the song as if the man has had a',\n",
       " 'I think this was one of the most memorable things about London for us – the beautiful Christmas market in the heart of London. It’s huge and it offers a little slice of Christmas heaven in the heart of the city. Everyone was so nicely dressed – all wearing their finest and looking beautiful. There are plenty of Christmas inspired food like gingerbread – which is so lovely and just smells so good. I wanted so badly to have some and get some for home. There are plenty of stalls selling amazing hot chocolate, candy and so much more – it is a must to visit this market if you are ever in London. You can buy it there – I was a little cheeky and bought home some of the hot chocolate, it came in those little jars and I have given it to everybody I know. It is seriously yummy! You can also buy these lovely little baubles to put about your tree – I bought just under 40 of these little baubles – if you can, grab them. They do say',\n",
       " 'I think that if she can talk when a baby then she will definitely be able to talk. This was like around 1998 ish. Now the child is probably 22...but I do not have a clue of her background. It looks like she has autism/aspergers.\\nhttps://www.google.com.au/search?q=i_am+a+girl+living+in+a+small+village+in+a+jungle+with+her+brother+and+mom&safe=active&tbm=isch&tbo=u&source=univ&sa=X&ei=sXhNVIj9F4_20AWY4YLADg&ved=0CEwQsAQ&biw=1011&bih=705#tbm=isch&q=i+am+a+girl+living+in+a+small+village+in+',\n",
       " 'I think the difference as being the \"the thing\" you want to draw, \"the thing\" you want to represent, as opposed to the physical object itself, which is the real one.\\nWhen I do it right. and what I want to see is the result of that, it becomes much easier to make sense out of it.\\nThen again, maybe there is no difference.  I thought the difference was between \\'real\\' and \\'fake\\' images.\\nOr is the main one between looking at a drawing, and looking at the finished picture?   (And as I was painting, I don\\'t think it ever was either of those things.)\\nIf you mean looking at a painting on canvas, and looking at the drawing, then I think they\\'re in some way similar.  And so it\\'s a good question.<eos><eos><eos><eos><eos><eos><eos><eos><eos><eos><eos><eos><eos><eos><eos><eos><eos><eos><eos><eos><eos><eos><eos><eos><eos><eos><eos><eos><eos>',\n",
       " 'I think I know the answer but I wanted the official view.  I have a 5 year old.  He has done something wrong which has got him suspended from school for 1 week.  A friend said to me last night \"If the school had stopped your child, they have to pay out whatever damages he may have suffered\".  I know if it was under 6 it would be a lot more (the law is that if someone is under 12 and is \"damaged\" (see the law) you have to pay for it, I\\'m surprised 440 isn\\'t more but probably will be).  I\\'m not paying 5 times 440 and its got to be a bit of a joke as well.  The child hasn\\'t even been suspended for 1 day yet!!\\n\\nI am thinking I might take one off and just put it on a prepaid card in the name of the school.  As soon as they sign him',\n",
       " 'I think this is a very hard question to answer, since there are multiple ways to answer it, and no one of them is correct!\\n \\nBut I will try to find out, since I have to submit, after all, this problem is from an examination for the course I am studying.\\n \\nThere seems to exist a theorem that \"The diameter of a circle is twice the length of a chord that has one end on the circle, and the other at the centre.\"\\n \\nLet\\'s consider a circle, and two points A and B, with centre C.  I believe I can find (using straight-line lengths) the line AB is a chord of the circle, with one end of it on the circle.  What, then, is the length of AB?\\n \\nThe problem is, I cannot find the chord.  It may not exist, for all I known.\\n \\nOne way to find a chord of the circle is to drop',\n",
       " 'I think I was born to be an architect. I studied in the USA, at the Rhode Island School of Design, and was awarded a scholarship and an internship at the San Francisco’s Department of Public Works.\\n\\nI worked in construction and property management, and in 2006, I joined the award-winning architects at Studio Gang in New York, designing the groundbreaking “Living Hall” for the 2013 London Summer Olympics. I was recently Principal and lead Architect for the 18-year-long National Museum of African America History and Culture (The Smithsonian Design Museum). My practice is driven by my love of cities and people.\\n\\nIn addition to being an architect, I’m a mother, a wife, a daughter, a sister, and a friend.<eos><eos><eos><eos><eos><eos><eos><eos><eos><eos><eos><eos><eos><eos><eos><eos><eos><eos><eos><eos><eos><eos><eos><eos><eos><eos><eos><eos><eos><eos><eos><eos><eos><eos><eos><eos><eos><eos><eos><eos><eos>',\n",
       " \"I think one of the things that has helped me the most this past year, is my new role. After six long years as the Vice President of Education and Membership for my company, I've been given the opportunity to focus entirely on one position. This allows me the opportunity to focus exclusively on providing education to my clients and prospects. It is a blessing that I get to do my day job, one that I LOVE doing, and then in the evening, after all the meetings are finished, come home to focus on something that is going to benefit my clients.\\n\\nThe downside to that, is I no longer get to sit on a lot of committees. Before, I was one of a handful of people for many different councils such at Toastmasters International, the Small Business of Rotary, a district council, and the council on my district's leadership. I was a member of the Toastmasters District Governor's Leadership Team, a district board member, and a council advisor. Now, I'\",\n",
       " \"I think that what i am looking at is the way I've structured my program. It's been awhile since I've done that so I'm confused. I know I want to break my program up into the main and the function for the switch statement. I just don't know if that is how I should structure my switch statement or whether I should have another separate function for each switch statement (like how it's done in other examples for Switch statement) and then break the program out into the main and the functions. Please let me know what you'd like to see. I know I didn't show the main.\\n\\nWhen you write the function that performs the Switch statement, you'll want to break it into multiple switch cases. For example: int readInt(int n, char ch) { switch(ch) { case 1: 3 case 2: 5 case 3: 8 case 4: 13 case \",\n",
       " \"I think I've found the bug...\\n\\nThe example in the docs is incorrect. The <code>renderArgs</code> in this case is a list of arguments and not an array. My bad.\\n\\n<code><select></code> doesn't take argument and the list property it's for the list of options.\\n\\nHi @mabudi. You are right, the docs are wrong. And as @r0d7 says, <code>renderArgs</code> is a <code>NodeList</code>, so in order to make my example work with option data-binding, I've had to change it like this:\\n\\nFor clarity, in the future I suggest we clarify the text (and the example) in the docs, such that there's no confusion between the <code>renderArgs</code> and the <code>options</code> property of the <code>v-for</code> directive.<eos><eos><eos><eos><eos><eos><eos><eos><eos><eos><eos><eos><eos><eos><eos><eos><eos><eos><eos><eos><eos><eos><eos><eos>\",\n",
       " 'I think so. Because, 35% is 1 in 3 people, as far as we know they were only 1 out of 2.4 in a group of 200. That’s one in every 200 people. That’s one in a group of 200 who didn’t have Covid\\n\\nAs far as I’m aware, the figures only cover London and it’s surrounding areas. People travelling further, in the rest of the capital. I’m guessing the same thing is true when looking at cases, London is one of the boroughs with the highest number. As for the 35% who had Covid, then the same, I’m guessing, 35% of people would have got it anyway as a result of London’s number.\\n\\nBut I guess they don’t count for different reasons, London may have one of the highest amount. Maybe. All things I’m guessing.<eos>',\n",
       " \"I think these could be the oldest surviving fragments of the original stone-built town defences. They are the remains of a defensive wall, a large enclosure from about 1050 AD. Around the 9th/10th Cen, the Norman's built a castle here as their capital in Kent, after Alfred the Great conquered the kingdom of Kent in 878 AD.\\n\\nThe castle was burnt down in 1136 (the Norman's had started the trend of burning the castles down).\\n\\nThe Normans rebuilt the castle and it remained very important for control over the area until the 14th Cen when the King of England Edward 11th made the castle his home again. In 1459 he moved out, to Winchester Castle, London... and the castle fell into ruin.\\n\\nAbout 10 years ago, one of the towers was restored and a new visitor centre and museum opened, as you see today - but the site\",\n",
       " 'I think that the answer is no but I need the proof. Show and explain in words how A = 5x + 55 and B= -x + 20 simplify each equation by multiplying out. Add the results of part (1) and (2) to express A + B as an equation in x.\\n\\nAnswer:  \\n\\nStep 1/2\\n1. Adding 5x + 55 and -x + 20: (5x + 55) + (-x + 20) To simplify this, we need to distribute the negative sign to the second term: 5x + 55 - x + 20 Then, we can combine like terms: 4x + 75 This is the simplified equation for A + B.\\n\\nStep 2/2\\n2. Multiplying out and adding the results: 5x + 55 - x + 20 = 4x + ',\n",
       " 'I think I’m going to come from the POV that I haven’t been a good enough reader for my own good; and I feel bad about that.\\n\\nLet me try to tell you a story from that part of my life:\\n\\nWhen I was a little boy, I would bring my backpack to school with me every morning. I’d go straight to the library, and spend time with my friends there, but no—instead of sharing my backpack with my friends, I’d spend that time reading. I was, admittedly, reading a lot, the kind that I’d have to stop because my back was hurting from the weight. But that’s how it was, I guess. There was no one in my immediate family who read, so I never knew what reading was supposed to be like. I know I should have just asked my mother, but no one I knew ever read, including my mother; that is, before my grandfather came along. \\n\\nAt least',\n",
       " 'I think it’s safe to say, the next big thing in horror cinema is women doing whatever they want with movies, and I’m so, so into that. I’ve been a huge fan of horror movies ever since I saw <em>The Blair Witch Project</em> in 1999, and I’m happy to say that a huge chunk of that fandom has been women.\\n\\nSince then, I’ve seen so many female-centric movies and television shows, and I’ve loved watching so many women become incredible actors, directors, and writers in the field. And of course, who can forget the female superheroes taking on the world today in the MCU. But I’m not really a fan of Hollywood, and in fact, I’m a bit disgusted by the lack of diversity and inclusion. I don’t believe Hollywood can make movies that accurately reflect London, or even a village in Texas. But when it comes to horror, I’ve found more diversity',\n",
       " \"I think there is a better way to manage the calendar on the front end, but since it's hard to change what's already in place, I'm going to make it more difficult to edit.\\n\\nIf you can't get it to work, it's time to do it again. And it may take 2-3 times to get something working well.\\n\\nI used to have issues with both the widget and plugin. I'm wondering if you might have a browser add-on or extension that interferes with the calendar function. You may try to disable, then re-enable them and retry.\\n\\nIf it turns out that it's a browser add-on that's screwing things up, you can learn more about and block certain browser extensions from accessing web pages on your computer. For Chrome, this is accessed by clicking on the little icon to the right of your browser address bar, it's the 3 dots icon.\\n\\nFor each browser, the\",\n",
       " \"I think this is my favorite way to finish off my summer. This is the end to 2019! I want to start things off with great energy, and that means, being grateful. As a small business owner I spend a lot of time thinking about numbers, and I love to track my business trends. This year was really important in my business growth for a number of reasons, and I’m happy to share some of the highlights with you!\\n\\n<h1>What I've learned about my business in 2019</h1>\\n\\n1. I grew 26% from the same time period last year. Last year, I brought in $46,000. This year, I brought in $57,000. It feels like a very good sign to me. I’ve talked to a lot of solopreneurs who were worried their businesses were going to suffer in the summer, and I thought I’d do a post to share my experience\",\n",
       " \"I think it was when I asked the question that got answered, I asked if it was possible to add on different skins to the body parts.\\n\\nI'll put the answer from the other thread here:\\nThe short answer is: No. All the clothing items are one-piece items that can only be applied to one body part. There will be no way to add the clothes on to other body regions without some form of hack.\\n\\nThe only exception would be the armor of specific races (not for the male/female option, I mean armor to be used by a certain class. It exists for Dwarves, Elves, and High Elves as of now:\\n\\nIf I'm not mistaking, the armor made for Dwarves is the only armor item that's a bit different than the original, which is just a torso. Though it's not enough different to justify an exception for that alone IMHO.<eos><eos><eos><eos><eos><eos><eos><eos><eos><eos><eos><eos><eos><eos><eos>\",\n",
       " \"I think the 420 is a good size for travel. Not too big, not small, but perfectly sized at 172 liters. It's also very flexible. You can use that one bag for your entire trip—check it, stuff it, take it on the plane! The 420 is a really go-anywhere carry-on.\\nI can fit all my stuff in the 420.\\nI love my 420. I keep it with me when I fly. It holds more than I need, and even more. And I’m not paying the fee that comes with taking it as an extra luggage. I can fit my laptop, my journal, and my Kindle into its two interior side zip compartments. Of course, I have so many accessories that I have to use. It’s great for storing those accessories so I don’t have to think about where they are.\\nI love my carry-on! It’\",\n",
       " 'I think our family has been involved in music in one way or the other since the time this country came into existence.\\nFirst it was music in the church. Then when we got married in 1985, I joined as a professional musician ( a class A license ) and we started a church band by which time our three boys had arrived – I guess so the music would not be a boring subject in our house !\\n\\nEventually we started making music for church and then for various schools in and around Mumbai ( as a side-line – I wasn’t exactly sure if we needed a second paid job or not ) and then we did a string of theme albums in the 90s with different bands and orchestras on various subjects – a series of ‘I Can Survive Theme Albums’ that were sung and re-written as we were convinced that a song is only as good as its lyrics and that the songs had to be memorable.\\n\\nThis then led us to start an independent',\n",
       " 'I think that this is another step in the direction of improving the quality and range of services we provide to the public. I also think that this will improve public safety and the way in which we deal with road incidents. Many other councils have already invested in vehicle detection cameras. So far, we have had a positive response to the scheme from local businesses and community groups and I think the benefits will become clear over time as it establishes a baseline figure for the overall traffic flows of the area.\\n\\nOne factor to take note of is that the CCTV has been set to record footage for 90 days. This will allow police to see if there are any changes over time in the traffic flows and give them the time to review the footage collected before the whole lot is wiped. Although one should be able to get some idea just from short-term observations about the situation. However, there may be times when the public may need to watch certain footage for an extended periods of time.\\n\\nA new roadworks unit',\n",
       " 'I think it was the day in February when Dr. Tsung-Jen Kuo, the chairman of the China-Ukraine Society, showed me his collection of military badges. It could have been a cold day or a warm, sunny day, I don\\'t remember.\\n\\nDr. Kuo, who\\'s from Taiwan and has a doctorate in international studies, didn\\'t know much about military badges before I bought him off at a price of a coffee cup. Later on, he taught me how to collect them, and how to clean them. But that\\'s how and when he handed me a collection of his.\\n\\nThen it was not just one but many more who showed me their collections. The first time was Dr. Zhao, whose father brought him to Taiwan on a diplomatic mission, and told him that collecting military badges was a tradition of the Chinese. \"So I got interested in collecting them,\" he said. \"But I only collect modern badges.\"\\n\\nDr. Zhao didn\\'t tell',\n",
       " \"I think you'd have to contact the park directly. From what I can tell from a quick google search the park has a contact number 888-229-0777. In the event you can't get a hold of them directly I don't know that the site allows tents but I think most places that the parks that allow tents generally have pretty specific guidelines as to what you can and cannot do. From the looks of their site, it looks like the RV is right on the edge though but I could be wrong. They even have RV lots that will accommodate 25' RV's. I could be wrong but if you call I think the best bet would be to ask for a site that is not right on the beach as that is where I think your best bet would be for a tent! But again, I'm not sure if what you're looking for is even possible. It's been a long time since I've\",\n",
       " 'I think this is really great advice. I don\\'t always tell if I\\'m being told I\\'m right or wrong about something but I think that people can feel if they are being spoken down to. They aren\\'t necessarily looking at each other to see who is being more dominant. Sometimes they are just in a situation were they feel comfortable and secure in their relationship and others this isn\\'t true and it seems like the person talking is more dominant and feels like they are the head of the household.\\n\\nI can be pretty much anything I want to be in a relationship, but with my current boyfriend I\\'m very dominant in the relationship. This is because there are a lot of cultural norms/rules towards heterosexual relationships based on \"male\" domination as opposed to \"female\" dominance. I\\'m a man but I\\'m not a stereotypical man. I\\'m not a macho (or at least not to me). I do think of myself as a strong person but I\\'',\n",
       " \"I think about this question a lot, but I guess I'll say an explicit yes since I'm a firm believer in that no-limits attitude that's associated with the show. This is not for those who want a show with a happy ending or one where the good guys always get what's coming to them, but for those who want to see a realistic show where good will triumph over evil over in-betweens. I find that many people are just not ready to see the truth in the anime genre.\\nThe series is about people's lives that are being controlled by someone else who may or not take control at a moment's notice. If they're being controlled that way then isn't that not what the main characters wish to achieve themselves? If the other person were really controlling the main characters, then why would they not just give in to it and move on?\\n\\nBesides, doesn't it make more sense in the context of the series that\",\n",
       " 'I think one of the most important skills that we learn as people is how to relate to others. The more experience you have, the better you will be at it. Being able to relate to others and be empathetic is a skill that you will often have to implement in your job and in your personal life. You’ll have to be able to understand the other person’s feelings and relate it back to a previous experience. This is an essential skill that you will need to work on, and it will carry over to not only your job but also to the rest of your personal life.\\n\\nThe purpose of this task is to practice your ability to be empathetic towards others. It will test your knowledge on how to react and interpret feelings. This is the primary stage in this task. In this step, you will have to answer 10 questions.\\n\\nAfter this stage, the next step is to show evidence. For this step in the task, you will need to provide two different examples that you',\n",
       " 'I think it\\'s really important to take into account the way that they\\'ve changed since the original book. At the time it was released, the \"new world\" wasn\\'t really established yet. All of the new tech we have now did not exist back then. The \"new world\" wasn\\'t as \"new\" as it is now.\\n\\nAlso, it would be more than difficult to go back to the old settings (for example, the events of the first movie happening in the new world), since the whole story would have to be re-written\\n\\nI would also like to add that the events of the movie didn\\'t lead into the new world. Those three events happened (somehow) on the surface. The movie only made an attempt to show what happened to the new world after (so many years) but not how it got there, why, and what happened before.\\n\\nI think it was a mistake to re-release the first two movies, and I',\n",
       " 'I think that it is worth taking another try with the \"rebuilt\" one (there is a topic on this forum that asks the same question, I\\'ll try to find it when I\\'m at work).\\n\\nAs for the main screen with the 16-bit images....the idea is to let a user change the 16-bit images and that would be fine. For the 32-bit screen in the 800x480 resolution, well....at the moment, the 32-bit images have only one file and there is no room for more on the current disk.\\n\\nI am thinking about some kind of \"multi-volume files, one file per screen that can be changed but they would have to be created using some kind of script or something else...but this is just an idea.\\n\\nAs an FYI: I created a file called \"gterm.c\" and placed it in the build/ directory so that I could',\n",
       " 'I think I know why in the last few years we have had so many people die of Covid-19, in particular the young and frail. <strong>Covid has been shown to be a “virus of the elderly and healthy”</strong>.  It is one of the few serious diseases (such as cancer) that has been found to be a death sentence in some cases.\\n\\nWe can now see that in many cases the elderly are dying.  What if this is happening because their immune system is weak and not able to defend themselves?  We need to pay attention to these things and have done so, for many years. <strong>Why has there NEVER been a study showing this deadly virus can be treated successfully by vitamins and minerals.</strong> Why has our government always denied this?  Could we help prevent this death because of this dangerous deadly disease?\\n\\nAs a side note, I will mention this:  I have read several years ago about someone who was put on <strong>dialysis for too',\n",
       " \"I think this is the best movie series I've seen. 0.99$ for season 8 +1.00$ for Season 9 is a real deal if you like watching anime with a twist.\\nNot too many anime out there make me laugh or want to watch the next episodes. But what you see is what you get! Season one is funny for everyone regardless of age. Just don't go in expecting to find some deep psychological message inside it. It is the simplest type of comedy you can think of but they can pull me in from time to time.\\n\\nSeason 2 has no humor, but everything is super deep (in a comedic way). A very emotional journey of the characters. It teaches you to question everything around us and make you believe a different world is possible! One guy said the plot of season 2 is a life lesson from school.\\nLove it, very funny.<eos><eos><eos><eos><eos><eos><eos><eos><eos><eos><eos><eos><eos>\",\n",
       " 'I think this is one of the best apps for finding jobs in the area that I have ever used. I appreciate the way it allows me to see all the local job postings. I like that you can filter through them all and see just what you’re interested in. I also really like that the app offers a notification system, where you can get notifications whenever there is a new job posting that matches your skillset. This is super helpful, as I can be sure to stay on top of any potential employment opportunities. The search results are clearly laid out, with all of the information I need at my fingertips. I also like the clean and simple design of the app. I find it to be very intuitive, and easy to navigate.\\n\\nI have been using this app for a while now and honestly I love it!! The way that people get jobs posted and how you can filter out jobs etc is just amazing!! It’s not hard to use and makes it so easy to find a job that',\n",
       " 'I think the thing that I’ve noticed about this film that I didn’t see when I went to see it and even when it came on television, is that it took quite a little while for me to get into it. It’s only when you get to about the half way point now that I can actually start to get to know who this person is and what he was doing in his life. And I got to the point where I was actually sitting there like okay he’s starting to come around.<eos><eos><eos><eos><eos><eos><eos><eos><eos><eos><eos><eos><eos><eos><eos><eos><eos><eos><eos><eos><eos><eos><eos><eos><eos><eos><eos><eos><eos><eos><eos><eos><eos><eos><eos><eos><eos><eos><eos><eos><eos><eos><eos><eos><eos><eos><eos><eos><eos><eos><eos><eos><eos><eos><eos><eos><eos><eos><eos><eos><eos><eos><eos><eos><eos><eos><eos><eos><eos><eos><eos><eos><eos><eos><eos><eos><eos><eos><eos><eos><eos><eos><eos><eos><eos><eos><eos><eos><eos><eos><eos><eos><eos><eos><eos><eos><eos>',\n",
       " 'I think we all have that special someone that is just so “my person”, my person, my person…and we all get in a little too carried away when trying to describe them.\\n\\n<h3>What makes someone the best person for you?</h3>\\n\\nWe see it in movies, from the first meeting with a character, you know it’s the right one.\\n\\nThey have their flaws, but there are flaws that fit YOU, not the other way around and you see yourself in them.\\n\\nThey are your mirror and they are your mirror and you are theirs. It’s a wonderful thing, but when you try and find that “one person”, you have to ask “are they just the right one for you?”\\nYou need to ask “are they the right person for me as well?”\\n\\nI would always argue that you have a list of “needs” you look for in a relationship and then a list of ‘wants” you are looking for in a relationship. I think in',\n",
       " 'I think it is safe to say that we live in a world that is ever-changing. Our society has grown and evolved in many ways, but there are many things that remain the same. One of which is the way that we shop.\\n\\nShopping has always been a popular pastime for many people. It is a way to get what you need and want without the hassle of having to make your own purchases. This is why many people have turned to online shopping as a convenient way of buying their goods. This is especially true with the increase of online stores in the market today. As such, online shopping is growing at an exponential rate. Even before we entered the pandemic, we have already seen the impact of online stores in the market. Here are some reasons why you should give online shopping a try:\\n\\n<h1><strong>Why Buy Your Goods Online?</strong></h1>\\n\\n1. <h4><strong>Convenience. </strong></h4>\\n\\nOnline shopping is convenient. When you purchase your goods online, you save yourself a lot',\n",
       " 'I think you\\'ll just have to retype the whole thing. The template doesn\\'t have the same ability to expand.\\n\\nYou say you can\\'t use a script for this, so what do you plan on using instead?\\n\\nYou can\\'t expand it.\\nYou have to retype it.\\n\\nThe point is that there are multiple people who have complained about the same problem.\\n\\nThis is very frustrating.\\n\\nA little more info on the situation would be helpful for all. So...what is a user trying to do?\\n\\nIf we\\'re all going to retype the entire thing, is there any way to change it back? Even a very small change would be good, but maybe even just getting rid of the extra spaces.\\n\\nThe only \"hack\" I can suggest is to manually copy and delete the lines containing the names (which appear to go up to something other than the number 510, since \"4,900,728',\n",
       " \"I think the problem is related to the fact that the text is generated on a hidden layer and some of the characters are a result of the latent embedding of the unconstrained text.\\n\\nTry this:\\n\\nThanks, @rameshk95! This worked.\\n\\nThe main obstacle was how to do inference. I noticed that in both the official TF implementation and yours, there's a <code>decode</code> function, but the shape of it is different from that of the <code>encode</code> function.\\n\\nI think the <code>decode</code> function must have <code>_infer</code> added to its signature like so:\\n\\nThe output shape of <code>encode</code> is:\\n\\nwhile the output shape of <code>decode</code> is:\\n\\nAnd this worked.\\n\\nThanks again. I'll probably write some code for my own case soon enough so that others may also benefit.\\n\\nThis code can encode your text with the <code>char_to_code</code> function from above.\\n\\nThat's\",\n",
       " \"I think this is the original owner's manual.\\n\\nI agree with you that the rear view mirrors could be improved. My 71 had them and I liked them, but they just didn't fit the new car. So, I have them available and I'm willing to sell them (along with some other accessories, but I'd like to see this one go to a Mustang fan.)\\nIt's about time we got a date!\\nNot to derail the thread, but I just got my 70 and I'd really appreciate knowing where to find a good one. My rearview mirror and visor mirror had a clear plastic shield over the glass, and I'd like to go back to that. If anyone has a picture of either please email me at jh.carbone@hotmail.com.<eos><eos><eos><eos><eos><eos><eos><eos><eos><eos><eos><eos><eos><eos><eos><eos><eos><eos><eos><eos><eos><eos><eos><eos><eos><eos><eos><eos><eos><eos><eos>\",\n",
       " \"I think I would be very tempted. They are lovely and I am usually pretty adverse to buying something to have in the cupboard. My main reason is that I have a couple of these on order and I am really quite excited about them. I do hope that they turn out as great as the other people have said.\\n\\nWell, I have the same problem! I have 2 of the red ones (the other I am too lazy to unpack and see if they work!).\\n\\nIt’s not that I don’t like the mugs, I love the mugs.\\n\\nI love the mugs. If I couldn't make myself a coffee/tea/whatever I'd keep opening the lid\\n\\nI love them but the only time I use a teapot is to make tea for the dog, she likes using it and loves slurping up the dregs anyway so I let her have it. I have one of them and I want number two. But I've heard the red is too dark\",\n",
       " 'I think the answer is 2.\\n\\nIf an equation was correct, then plugging either 3 or 4 into it should give us a true statement.\\n\\nExample 3\\n\\nx = 3\\n\\nx = 3\\n\\n3 = 3 (this is a true statement)\\n\\nExample 4\\n\\nx = 4\\n\\nx = 4\\n\\n4 = 4 (this is a true statement)\\n\\nAn equation cannot be correct but neither of those are true.\\n\\nHope That Helps :)\\n\\na\\n\\nExplanation\\n\\nthe correct answer is c\\n\\nstep-by-step explanation:\\n\\nfirst look at the picture\\n\\nit is a triangle with a right angle at the 2nd red circle. the base is 2 and the top is 3\\n\\nwe know 2 * 2 = 4 and 2 + 3 = 5\\n\\nso both answers have 0 left over<eos><eos><eos><eos><eos><eos><eos><eos><eos><eos><eos><eos><eos><eos><eos><eos><eos><eos><eos>',\n",
       " 'I think we all have experienced something similar. You are walking outside on a cold evening. Then you see someone holding a little kid with a flashlight in their hand and shouting to come home. It is then, when you realize that they have lost their way. So you stop for a while and decide to help them. It is dark and you are out of time so you can’t wait, so you start walking towards the location they told you. You walk until the street turns to one lane and you are about to enter a new area. When suddenly, a loud noise makes you jump out of your shoes. Your heart skips a beat and you think: “I never saw anything like this.” You look back and there is an ambulance with lights and sirens. A car is in front of it. It has stopped at the same spot. Its rear is sticking out to the right. In front of the car, some paramedics are helping the passenger and you can hear the emergency personnel trying to communicate with',\n",
       " \"I think it's actually a nice change of pace if your friend is a little more experienced at doing the same kind of work, and would make for good practice for you as well.\\n\\nBut with the way things are right now there are way too many teachers for most schools to give one-on-one mentoring. I did it for my kids a few times, and it helps them learn and grow quite a bit, but really more as a practice run for them into the real world of work - and at the same time it's much easier to manage one-on-one instead of trying to do 4 classes in a row of 30 students.\\n\\nAnd even with that, I think if an inexperienced teacher wants to do this kind of mentorship, it would be better for them to talk with the Principal or Guidance counselor, etc about their plan - and then work through the details with parents and students. It will help make an impression on both your friend and your students.\\n\\n\",\n",
       " 'I think this might be due to an incorrect value in the <code>version</code> attribute in our XML file used to send the data set to the REST resource. A work around I can think of at this point is to try to use the same <code>version</code> attribute value used on the REST resource when you make the API call. That is, on which ever call you make use the REST resource\\'s <code>version</code> attribute value.\\n\\nI think this could be related to #2128\\n\\nAny luck on this?\\nI did a lot of testing with different attributes which might be helpful in providing some ideas https://gist.github.com/2190281\\n\\nI found the issue.\\nThe xml used to call the rest resource to get the next step for the form contains the following attribute \\'<code>version=\"1.1.0.0\"</code>\\'.\\nYou probably have the same attribute, but for the current state it\\'s ok.\\n\\nBut',\n",
       " \"I think we can all agree that when the <em><strong>Avengers: Infinity War</strong></em> teaser came out, we were hit with too many things at once, as Thanos is being introduced, Tony has his whole speech about the Sokovia Accords, and oh, that post-credit scene that was just too much for us! Not many superhero movies have post-credit scenes like <em><strong>Avengers: Infinity War</strong></em>, and that's why we're all pretty much still speechless since that teaser debuted.\\n\\nI mean, the whole snap of snap-snap-snap from Thanos to the Snap-Snap-Snap to Thanos!\\n\\nIf that teaser has you feeling a bit confused, or even a bit upset, don't worry. That's totally normal. We need to rewind to the beginning of this epic adventure for some background, because it would totally make sense for you to be confused with all the things that are happening at once in that teaser.\\n\\nRelated: Avengers: Infinity\",\n",
       " \"I think this book is a great resource to show parents and students the basic steps for organizing a research project. I especially use this book to show the students the steps of the process. They are more interested to the results after this lesson. It is a very easy to use and can be an excellent resource.\\nWe used this book during our writing unit last year. It's very well organized and is easy to follow. I used it to teach them how to do a write summary and to write their own summaries.\\nI bought this book to help my 6/5 special ed student with writing a research essay. This has lots of good information to get kids started and helped to guide us. I had to add pages/lines to accomodate our writing paper but it was well worth the cost.\\nThis is a fantastic resource for students learning how to write a research paper. The resource clearly lays out the process and provides very specific instructions for each step. Great for students interested in writing independently\",\n",
       " 'I think there is a misunderstanding with the terminology, because I don\\'t think \"<em>this</em> is the definition\" of the term \"non-degenerate\", or at least, in a standard textbook. And in fact, in my opinion, the authors don\\'t intend the meaning that you suggest. What they mean instead is \"a matrix <em>A</em> is non-degenerate if no vector <em>x</em> is in the range of <em>A</em> with <em>Ax</em>=0, i.e. <em>A.x</em>=0 for all <em>x</em>\". Of course, you can express this by saying that the kernel and cokernel are trivial. (I\\'m not sure how I would write that in the new terminology).\\n\\nAs you say, a non-degenerate matrix with non-zero determinant is non-singular, so a non-degenerate matrix with non-zero determinant is a square invertible matrix, but the converse is not true. (In fact',\n",
       " 'I think you know where the answer lies on this one.\\n\\nThey’re all pretty good, as is the reason they’re good.\\n\\nThe most important thing, though, is they’ve got an incredibly impressive cast. I’ve got two favourites here. First up, is Tom Holland.\\n\\nIt was so nice to see him back for another outing, because I like him a lot. He’s always good for a few laughs. The other one is Zendaya (not a favourite, we both know it), but I think she’s a good fit as a young Doctor Strange. She’s been here before, and she’s good too. They have great chemistry. All round a pretty decent movie! Well, the acting was good. The plot was good. For the time being, that’s all we need to know. I’ve got a feeling, though, that we’ll be back tomorrow...\\n\\nAs always, we’re looking for a',\n",
       " \"I think the term 'ghosts' in relation to this is a bit of a misnomer. I wouldn't refer it to as ghost or 'ghosting', as the 'ghost' in this case is more of a 'memory', I think - to be a bit more precise and philosophical about it.\\n\\nThe term 'ghosting' is in its nature the opposite of a memory - to just simply eliminate something that's supposed to be still there, but no longer is, in the sense of 'dead' or gone.\\n\\nBut the term 'ghosts' as it relates to this is to be less direct, more non-confrontational. Something that has a <i>hint</i> of a memory but has long since become 'gone', as a sort of suggestion or possibility of a remembrance without being a direct confirmation, per se.\\n\\nIn my own mind it's the same, but perhaps the word 'ghost' makes it sound like a presence of 'someone there\",\n",
       " 'I think that for the next few months everyone will be doing some work for the government, and therefore you will find no one working in the shops or anywhere else.\\nIf you have a lot of work that can not be done alone, you can make a group of up to 30 people. Make sure you are doing a different job so that there are people working at different times.\\nSo there are a lot of other people with you working.\\n\\nWhat are some of the challenges you might face doing a group?\\n\\nAnswer\\n\\n* Not being heard – not having one person\\n* If someone is ill or can not work, you would have no one to work\\n* Not having a job to do – so maybe we shouldn’t tell people to work if we don’t know what to do!<eos><eos><eos><eos><eos><eos><eos><eos><eos><eos><eos><eos><eos><eos><eos><eos><eos><eos><eos><eos><eos><eos><eos><eos><eos><eos><eos><eos><eos><eos><eos><eos><eos><eos><eos><eos><eos>',\n",
       " 'I think it’s easy to assume that an event planner is going to have the best jobs: 1) they design and coordinate all of these crazy Pinterest-worthy weddings, and 2) they work with clients that love their job to the point it feels like working at a wedding is their job.\\n\\nIf you think about it, this must be a pretty good career for any person, but I would definitely assume that this lifestyle must have some negative impacts on people and the environment around us. \\n\\nThis is how I think that having weddings, or any other event for that matter, affects the environment: \\n\\n<h3>1) Fueling your car by burning gasoline</h3>\\n\\nThe easiest one, but one that people seem to miss the point with. You just can’t buy enough fuel for an event. \\n\\n<h3>2) Travel to an upcoming wedding</h3>\\n\\nMost weddings are going to be out in an area not reachable by the public. So, you’re going to have to',\n",
       " 'I think they could be a good candidate if your goals and needs are right for this investment.\\n\\nYour situation is a little unusual. But I will try and keep this as generic as possible.\\n\\nWhat are the specific goals you are trying to accomplish with this real estate investment?\\n\\nIs your goal to sell it?  Are you trying to buy down the cost of the acquisition?  Are you trying to earn a decent return?\\n\\nHave you read on the subject of REIT\\'s and REIT investing?\\n\\nIf you want to look deeper into a REIT investment, you can google \"REIT Real Estate Investment Trust\" and then look at the top hits under the link. You can find alot of information there. A REIT is like a stock in many aspects. You can have some control over it through your participation in the REIT. But this participation doesn\\'t come without risk.\\n\\nYou will need some money to purchase the stock. To acquire a larger number of shares you will need more money.',\n",
       " 'I think I can safely say that few of us could ever recall hearing the name “Erie” and not thinking all-too quickly of the late, great actor <strong>Tony Curtis</strong>, right? Perhaps it was the <strong>Doris Day</strong> movies, or the classic 1963 comedy, <em>The Great Race</em>, where he made his name, that made that association the first thing to come to mind…\\n\\nNow, Curtis, who actually did have a successful career, but has been largely forgotten by generations of modern movie-goers, is the subject of an amazing new documentary, and I can’t wait to watch it.\\n\\n<em>Hollywood: The Untold Story</em>, which premieres tonight at 9pm on the History Channel, will be hosted by two familiar faces to those movie fans lucky enough to have watched the <strong>Martin Scorsese</strong> directed documentary, <em>Public Enemies</em> — actor <strong>Christian Bale</strong> and actress <strong>Cate Blanchett</strong>; <em>E',\n",
       " 'I think I understand your issue.  If you were to create a new project or just modify a form with no records to display and choose the edit field in the header you would not see the drop down.  However, the edit field itself stays hidden.  If for some reason you did that you could create the drop down in another project or form with records and paste the drop down into your original.  I am not sure what your intention is with the drop down.  Can you elaborate? If you need to just do a search you could create a query that allows you to filter items or use the filter control on the advanced tab to remove all records other than one item.  You could name that query and have it open every time a user accesses the form.\\n\\nI think its a good idea to allow the user to view the records as a simple text list without needing a drop-down. That way they know where the information is without needing to go to another page.  I did',\n",
       " 'I think it has something to do with the way they count the votes in a state. For example, if I were to vote against Candidate A for House District (X) then candidate B would have won that election and I would’ve supported Candidate B because I live in House District (X).\\n\\nBut the problem is that if I were to vote for Candidate A in House District (X), then Candidate A would have won that election in other counties or House Districts and then I would’ve voted against Candidate A and also not supporting Candidate B. And so I think the system needs to be fixed by doing something like this.<eos><eos><eos><eos><eos><eos><eos><eos><eos><eos><eos><eos><eos><eos><eos><eos><eos><eos><eos><eos><eos><eos><eos><eos><eos><eos><eos><eos><eos><eos><eos><eos><eos><eos><eos><eos><eos><eos><eos><eos><eos><eos><eos><eos><eos><eos><eos><eos><eos><eos><eos><eos><eos><eos><eos><eos><eos><eos><eos><eos><eos><eos><eos><eos><eos><eos><eos><eos><eos><eos><eos><eos><eos><eos><eos>',\n",
       " 'I think the biggest mistake we make when we plan new projects is waiting for the perfect time for beginning. When we see a need and try to meet it, without any planning. This is not a good idea. We can always start right now, but that doesn’t mean we’ll be able to finish everything we started.\\n\\n<strong>Do things in stages</strong>\\n\\nThe best way to plan anything is in stages. This is a process that can be applied in any part, not only in the field of planning new projects. Planning is also done in stages, and the way I always do it is to make a list of some things (<strong>goals</strong>).\\n\\n<h2>So, you can make your goals in stages, with some intermediate phases, as shown in the figure:</h2>\\n\\nHere’s what I mean:\\n\\n* <em>What do you want to do? What do you want?</em>\\n\\nYou only know 100% that what you want, sometimes it is clear,',\n",
       " 'I think the issue in the \"if-else\" is that you need to use single quotes on \"<em><strong>$</strong>(this[n]).</em>*\"\\n\\nWhen you are in the code editor in Visual Studio, if you hit double-clicks on the <em>(this[n]).</em>* then it will change it to the following:\\n\\n<strong>$(this[n]).</strong>\\n\\nAlso, there are other issues.\\n\\n* The text \"<strong><em>if not this[n]</em></strong>\" is missing the double-quotes around the function name.\\n* And the second line of the if-else needs to be:\\n\\nHere is the working code:\\n\\nHope this helps.<eos><eos><eos><eos><eos><eos><eos><eos><eos><eos><eos><eos><eos><eos><eos><eos><eos><eos><eos><eos><eos><eos><eos><eos><eos><eos><eos><eos><eos><eos><eos><eos><eos><eos><eos><eos><eos><eos><eos><eos><eos><eos><eos><eos><eos><eos><eos><eos><eos><eos><eos><eos><eos><eos><eos><eos><eos><eos><eos><eos><eos><eos>',\n",
       " \"I think it's too soon to tell if the change is here to stay since the new rules only went into effect Dec. 3. If it does, I can see many families choosing private school as a way to protect themselves from the uncertainty of this virus. Private school tuition at my local school district's high school is in the $80,000 range.\\n\\nBut what about the cost? What about the reality of living on a small farm? What is the cost of not having a reliable source of income?  I worry about the young people in other states who are going into debt and going into school to graduate with huge student loans but have no idea what they are going to do once they graduate.\\n\\nSo, what is the cost and what are we giving up?<eos><eos><eos><eos><eos><eos><eos><eos><eos><eos><eos><eos><eos><eos><eos><eos><eos><eos><eos><eos><eos><eos><eos><eos><eos><eos><eos><eos><eos><eos><eos><eos><eos><eos><eos><eos><eos><eos><eos><eos>\",\n",
       " 'I think that the only way you can accomplish this that is somewhat safe are to either put a very large volume restriction device on your vacuum (something like a 20 to 40 micron filter) which will restrict the air leaving from inside the tank (assuming you are connected through a straight connection, the further away from the tank the more you want to keep it). Also this would make any moisture in the exhaust leave the exhaust as well. An even better method would be to have the exhaust go through a dryer unit that runs off a 12v power source, like a car battery. Since these units generally use more than a liter per hour of air it will prevent most moisture from being drawn into the vacuum.\\n\\nAlso, if you are willing to put a more permanent solution on the tank, you could put in a filter after the vacuum pump that would allow for the exhaust to only escape through a small hole on the tank. This would make suction easier (thus the time it takes to',\n",
       " \"I think it depends on what you need to know for. Are there requirements for something? Maybe you need a background check for something. That requires a certain amount of training, which you need to learn and be able to use those skills. A basic knowledge test might be required to get your permit or you have to complete training as a prerequisite. You never know...\\nHow about being a parent for 10 months straight?\\nI don't find the idea terribly offensive. I don't imagine children to be especially complex enough to cause that much thought and I don't think you are taking anything away from the relationship. You are more likely to hurt more when you are angry or upset and you have a better chance of controlling your own feelings.\\nBut for all of those who do like that idea...\\nI like that idea too... except for the part where we can't be single moms with the guy out of choice because we don't have that choice. We can be\",\n",
       " 'I think you’ll have difficulty finding a more perfect place than the town of Launceston, Tasmania to explore a piece of the Australian countryside. It is the oldest settlement on the island and the natural environment is ideal for a long walk. I’d recommend doing the full 36-mile walk around the Tamar River, but have picked out 8 of the best. If you can’t get around the entire area, there’s plenty more to see closer to town.\\n\\n<h4>1. The Great North Walk, from Glenorchy </h4>\\n\\nThe Great North Walk is the perfect way to explore the area around Launceston. It is a long 36-mile walk, a bit more than half way around the entire Tamar River. This walk is best done from east to west, to see the best section through the countryside. There are a series of signs to guide you along the path, and it’s possible to pick up water from a pump.\\n\\nThe',\n",
       " \"I think it was a bit of both.\\n\\nI thought she was going to join in with it and be happy, but then she saw that someone else wanted to take it for a change and that upset her.\\n\\nI did love how excited she was though when she was about to put the red up in her hair. I think she had just read about Princess Diana.\\n\\n<strong>@MopMan</strong> I read that she didn't go with it as she didn't like the texture and was already feeling like there were going to be more rules.\\n\\nI hope he gets the support he needs though, that must have been a very hard time. I remember when my dad got diagnosed with cancer, he came home to me after I'd got off work and he didn't seem himself like he had before, he didn't smile or laugh, even got mad about certain things that never bothered him before. I couldn't tell him I was upset because it would upset him and\",\n",
       " 'I think you may be surprised by how easy these are to put together too because all of the ingredients are mixed up and then you get the chocolate, ice cream, chocolate again in the little cones shaped bag and finally the marshmallows, you can put all these ingredients into the ice cream maker and let it work its magic for you.  If you don’t have time to make these I think you can also just buy your favourite chocolate ice cream and add your favourite flavoured marshmallows and chocolate.\\n\\nI love this combination of chocolate, marshmallows and ice cream, it’s sweet and decadent but also light and delicious, I have had 3 or 4 of these by now and can’t decide which is my favourite.\\n\\nMakes 6 small ice cream sandwiches \\n\\nMethod:\\n\\n1. Pour the condensed milk into a large clean mixing bowl\\n2. Whisk this until smooth, sticky and thick.\\n3. Scrape the sides and whisk again\\n4. Then fold in the cornflour (',\n",
       " 'I think I\\'ve read somewhere on this site that this might be a common problem with the Oris Aquis, though I\\'m not sure.\\n\\nBasically, the crown starts out in the \"wind\" position at 12 o\\'clock. I can close the rotating bezel, but that\\'s it. There\\'s no screwing down the crown or turning it to close the case. Basically, if you hold the crown in for more than a second it starts leaking the oil. That is, if you put the watch on a table and hold the crown with one index finger while letting the other two fingers push down on the side of the watch with the other two fingers, and keep repeating this for 10, 15, or 30 seconds, the watch eventually loses its water resistance. It\\'s not a problem if you let the crown out so it\\'s sitting at 4 o\\'clock. After that it\\'s like it didn\\'t leak at',\n",
       " \"I think the problem is here\\n\\n<code>if $type2 == 'html':\\n    return file_get_contents($source_url)\\n\\nIf the file <em>do exists</em> (if a directory is passed <code>file_get_contents</code> with <code>-</code>, it'll check if the file does exist first, see issue) then <code>isset</code> would return true and PHP would try to cast it to string:\\n\\n<blockquote>file_get_contents() expects parameter 1 to be string, array given in...</blockquote>\\n\\nWhat I would recommend is to change it to\\n\\n<code>if (!empty($source_url)) {\\n    if ($type2 == 'html' && $source_url != file_exists($source_url)) {\\n        return $this->getHtmlContent($source_url);\\n    }\\n    // ...\\n}\\n\\n<blockquote>Empty Value in condition</blockquote><eos><eos><eos><eos><eos><eos><eos><eos><eos><eos><eos><eos><eos><eos><eos>\",\n",
       " \"I think you have more options with a Klipsch speaker. If it is an older speaker, look at the impedance rating and resistance that your subwoofer has. If it is 8-ohms, then the 8-ohm speaker should easily handle it. The impedance of the subwoofer is the amount of voltage needed to run it at a certain level of amperage. In other words, if it is 300-500 volts, then you need either an 8-ohm or 4-ohm speaker to do the same job. Here is a page that lists a ton of different speakers and their impedances.\\n\\nhttp://www.klipsch.com/\\n\\nIf you can find a Klipsch subwoofer, then it is a little bit more expensive, but will handle the same amount of power. Here is a page that lists a whole bunch of different subs. I don't know anything about the quality of the sub, but the impedance ratings are in the\",\n",
       " 'I think all of the original members of the band should have their own thread here because I can’t keep track of the number of solo/side projects each individual has been involved in, and because they deserve more attention. It’s hard to figure out how to group together all the different bands I’ve been exposed to — and even harder to sort through everyone’s own individual stuff that comes out.\\n\\nIn no particular order, here are my favorite musical endeavors of the band’s members:\\n\\nMike McCready — Mudcrutch and, of course, Mother Love Bone.\\n\\nPeter Buck — REM, Buck-O-Nine.\\n\\nMatt Cameron — Temple of the Dog (yes, the band was a short-lived project involving Dave Grohl, Eddie Vedder, Stone Gossard, and Ray Manzarek from the Doors), Giant Sand, Kinski\\n\\nPaul Cord — Drowning Pool, David Crosby & Paul Cord (and Paul was also in the band for a few years',\n",
       " 'I think I understand where some people are coming from. You are entitled to do whatever you want with your time, and if you choose to watch it rather than do other stuff, who am I to say you are wrong? I get it, I really do.\\n\\nThat said, I have to admit that these days I almost never watch TV. I used to watch every week when my family had cable, but that was decades ago. When DVDs and Blu-rays began becoming a thing, I would rent movies and then watch them from the disc or from Amazon Prime (whatever was cheapest). But over the last 10-20 years, watching network TV and movies has become more expensive and more time-consuming than before. Even now, when my TV is connected to the internet and I watch free movies from YouTube with subtitles that I’m translating, I still can’t get into a good habit of sitting down once a week to relax and watch TV or movies.\\n\\nFor me,',\n",
       " \"I think that at this stage the only thing that can stop you is that mental block you keep hearing about.\\nYou are an individual with the ability to change. The only thing holding you back is what you tell yourself.\\nSo how do you overcome that?\\nThe way I do it is by looking at my old ways of thinking, looking at what I put into them for years and years and years. I have learned that they didn't serve me and that you can't change from something that you have been doing all your life.\\n\\nSo how do you change?\\n\\nYou start thinking differently. You start putting in more good into the things that you do.\\nYou tell yourself daily that you are worthy, that you are loveable and that you are worthy of a life that you would not choose for anyone else.\\n\\nYou will do it for yourself, for you.\\n\\nYou see, you are all so very special and you hold so much possibility within you. Look it up\",\n",
       " 'I think the main reason why its good is because its so cheap on there and it gives you a sense of satisfaction of finishing all of the challenges. I also think my friend who does the challenges with me gets a lot of enjoyment from looking at them all before he does them and getting the satisfaction of beating them all.<eos><eos><eos><eos><eos><eos><eos><eos><eos><eos><eos><eos><eos><eos><eos><eos><eos><eos><eos><eos><eos><eos><eos><eos><eos><eos><eos><eos><eos><eos><eos><eos><eos><eos><eos><eos><eos><eos><eos><eos><eos><eos><eos><eos><eos><eos><eos><eos><eos><eos><eos><eos><eos><eos><eos><eos><eos><eos><eos><eos><eos><eos><eos><eos><eos><eos><eos><eos><eos><eos><eos><eos><eos><eos><eos><eos><eos><eos><eos><eos><eos><eos><eos><eos><eos><eos><eos><eos><eos><eos><eos><eos><eos><eos><eos><eos><eos><eos><eos><eos><eos><eos><eos><eos><eos><eos><eos><eos><eos><eos><eos><eos><eos><eos><eos><eos><eos><eos><eos><eos><eos><eos><eos><eos><eos><eos><eos><eos><eos><eos><eos><eos><eos><eos><eos><eos><eos><eos>',\n",
       " 'I think I figured it out, it was very frustrating.\\n\\nI tried to change the setting in the app settings, but it did not save. All I saw was “settings” -> “profile setting” -> “sign in with google” was checked.\\n\\nI thought, I try in another device, and in all of the devices that I tried was checked “signed in with google”. When I went back to the main app screen, this was still checked. I thought I solved the problem. But when I checked the sign in setting, it was checked.\\n\\nI uninstalled the app completely, removed all accounts, then rebooted. After this, the app did not recognize any google account, so I had to create a new google account to sign in. The first time I opened the app it did not show any account. I was surprised that the app actually could not sync the account.\\n\\nAfter I finished creating the account then the first account that I created was signed in (although it could',\n",
       " 'I think that the way the body is so very small in relation to the world is what really bothers me. The other thing is how the skin is so incredibly thick, and the whole body looks like it has been slapped together and is not made well. I like a few parts the most: the head, the hands, the face, the shoes, the headwear, and a few other little things. But, some of the parts bother me. The parts bothering me are mostly the hands, the head, and the headwear. I know that it seems that I am extremely harsh, but that was my intended style, and I want it to be seen that way. The other reason why I am harsh on some parts is because I don’t really like the way they look. Most parts I don’t mind the design of, but some don’t look the way that the way I had in my head that I wanted.<eos><eos><eos><eos><eos><eos><eos><eos><eos><eos><eos><eos>',\n",
       " 'I think it’s about time we started the new year with a new (and perhaps different) blog post format here on A Better Family. I’m a big believer in finding unique ways to capture memories—one of the things that set A Better Family apart from other social blogging platforms is the ability for you to make your site unique—and that’s not just in the content we share. I’ve been on the fence about how—if at all—to approach a new year 2021 recap.\\n\\n<h2>Choosing a Format</h2>\\n\\nEvery year, around January 2nd, we have a habit of going through old photos and videos of the past year. And while we might do a couple of quick posts on the holidays as they unfold, in November or December each year, we have more of an opportunity to dedicate time to making sure I have a complete library of events for 2021 so that when 2022 rolls around, I have everything',\n",
       " 'I think we all love to see the latest new gear. When we open a package with something new, we have to figure out how to use it. But, how much time is needed before we can ride?\\n\\nWhen we set off to mountain bike, it feels like there is so much to learn. After months and years of practicing, we can manage different trails. But, when we get the new bike, this is where learning all over again starts all over in the basics.\\n\\n<h2>What is a beginner mountain bike?</h2>\\n\\nLet’s first start here. Many people are confused between mountain bikes, hardtail mountain bike, and 29ers. So, when we want to buy a mountain bike, we should know what a “<em>beginner mountain bike</em>” is like.\\n\\nA beginner mountain bike is a bike that will teach you the basics. It’s not a bike for riding technical trails because they are not durable enough.\\n\\nTo understand better, below are some',\n",
       " \"I think it's a really poor idea to have someone who isn't trained to go in and deal with an injured person. This has happened before and has been reported. You can look it up and see for yourself. You don't need anyone who isn't a trained first aider. Get yourself some training even if it's not from the RYA. You can do an online first aid course there's also some pretty good videos on youtube.\\n\\nDon’t.\\n\\nGet someone trained to put something on it if it’s broken, not just pop it back to the boat.\\n\\nGet it looked at by someone trained.\\n\\nNot the end of the world. Even breaking a bone is very unlikely to kill you.\\nBut don’t just pop back out on the water. Get someone trained\\nTo deal with it\\n\\nAs above, please do not encourage the OP to go out with someone who isn't trained to deal with an injured person.\\n\\nSomeone\",\n",
       " 'I think the problem is you are giving the \"url\" to the <code><link></code>, to the \"href\" attribute of the \"a\" <code><element></code>.\\n\\nI think this could be fixed by adding a \"target\" attribute to the anchor element.\\n\\nIn the meantime, you can get around it by using the following:\\n\\n<code><link rel=\"stylesheet\" href=\"path/to/stylesheet.css\">\\n</code>\\n\\nThanks, i know what was wrong, I\\'ll just use <code>href=\"path/to/stylesheet.css\"</code>.<eos><eos><eos><eos><eos><eos><eos><eos><eos><eos><eos><eos><eos><eos><eos><eos><eos><eos><eos><eos><eos><eos><eos><eos><eos><eos><eos><eos><eos><eos><eos><eos><eos><eos><eos><eos><eos><eos><eos><eos><eos><eos><eos><eos><eos><eos><eos><eos><eos><eos><eos><eos><eos><eos><eos><eos><eos><eos><eos><eos><eos><eos><eos><eos><eos><eos><eos><eos><eos><eos><eos><eos><eos><eos><eos><eos><eos><eos><eos><eos><eos>',\n",
       " 'I think you will find, that the best guide to the region is the book \"Scotland\\'s Hidden Borders\" by Michael R. Burton, from Edinburgh University Press. It\\'s aimed at the tourism trade and is therefore not very comprehensive or detailed, but it has some useful photos.\\n\\nYou can buy a copy in The Borders - in Melrose, the town closest to Edinburgh - The Borders Bookshop, and the Borders Bookshop in Corstorphine, Edinburgh.\\n\\nMichael also published on on this subject some years ago and I\\'m sorry I can\\'t check his book now, but it\\'s called The Forgotten Borders, and I think it\\'s available on Amazon.<eos><eos><eos><eos><eos><eos><eos><eos><eos><eos><eos><eos><eos><eos><eos><eos><eos><eos><eos><eos><eos><eos><eos><eos><eos><eos><eos><eos><eos><eos><eos><eos><eos><eos><eos><eos><eos><eos><eos><eos><eos><eos><eos><eos><eos><eos><eos><eos><eos><eos><eos><eos><eos><eos><eos><eos><eos><eos><eos><eos><eos><eos><eos><eos>',\n",
       " \"I think it's a good idea and it's always nice to do things differently, but in my experience we need something more concrete because every new approach, although it works sometimes, is also the solution to the next problem that someone else might have. Having the tools and the way to do things we are so dependent on makes it a bit tricky to introduce new things, but also makes the work a lot better, because there is always that one thing we were wondering that works really well. Having a good support can also be a big advantage. We can look at the issues and maybe give the support some questions or some input to give it a proper solution. This can also help with the future of the project, because people who make things like that are very creative and the projects get very interesting very quickly and we can start to take the initiative out of the project and use it to help people a lot more.<eos><eos><eos><eos><eos><eos><eos><eos><eos><eos><eos><eos><eos><eos><eos><eos><eos>\",\n",
       " \"I think that this song is about a girl (maybe your girlfriend) and she doesn't do anything. They are just waiting for her to go out and have a great time with him. It's a sad song, and I think that he's just trying to impress her.\\n\\nI read here on SongMeanings.com that it is about the narrator's relationship falling apart. This is supported by this paragraph:\\n\\nShe always wants something new. She never listens. Her face, and her beauty, always stays the same. It's not for the guy who knows and respects what he has, and the beauty that it holds. His face can be changed however, but his beauty will never diminish. Her face does! He wishes he could be as flawless as she is.\\n\\nMy guess is that it's about something serious.\\n\\nAnd I have a video.\\n\\nIt's not for the guy\\nthat knows and respects\\nwho he is, and her beauty\",\n",
       " 'I think what is needed here is a new question, as the question seems to be about $GL(2\\\\delta,\\\\mathbb C)$-module structure rather than the structure being compatible with that.\\n\\nIn any case, the $\\\\varphi$-structure of an even-dimensional irreducible $\\\\mathfrak{gl}_{2\\\\delta}$-module is completely determined by the existence of two characters $\\\\chi, \\\\nu$ as $\\\\mathfrak{gl}_{2\\\\delta}$-module structures on the space of invariant polynomials on $GL(2\\\\delta,\\\\mathbb C)$:\\n\\n$\\\\varphi(g):= \\\\frac{\\\\nu(g)}{\\\\chi(g)^2}, \\\\quad \\\\text{ where } \\\\quad \\\\text{ } \\\\chi(g):= tr_{G^G(g)} $\\n\\nThe answer to your question seems then to follow from:\\n\\n<blockquote><blockquote>Theorem (2) in: J. Dixmier, M. Moussouris, <em>On the structure of $\\\\mathfrak{gl}_2(\\\\',\n",
       " 'I think everyone loves a good Halloween picture, so today I want to share some of ours from past years. The kids love to get as festive as they can. It really is one of those times of year where I like to push the boat out a bit.\\n\\nI think when we did the pumpkin house I really captured something we never would have otherwise. The photo at the bottom shows a photo taken in front of one of our two pumpkins. I wanted to capture the fun on the day so I asked the kids to smile for the camera. I always have the kids do this and then I crop it down into the main image so it’s not quite so random looking but you can get a real sense of how much fun we were having.\\n\\nThis is our front garden when dressed as Jack Skellington and Sally from nightmare before Christmas; I think our neighbours must wonder why we were putting pumpkins up so early!\\n\\nThis was the same year we dressed as The Incredibles and the kids did',\n",
       " \"I think it's a good way to show my support to the upcoming game The Dark Sorcerer.\\n\\nI designed it to fit the old RPG Maker spritesheet, but if you need it in a higher resolution, drop me a note.\\n\\nThe Dark Sorcerer is going to feature characters like:\\n- An evil wizard\\n- A demon\\n- The Dark Queen\\n- A noble knight\\n- A powerful sorceress\\n- A kind and brave monk\\n\\nEach one of them will have a class to differentiate from each other. They can level up the same way you would level up a normal RPG, with experience points.\\n\\nThe Dark Queen will be an NPC character, with no fighting skills.\\n\\nI will need help with the backgrounds! If anyone is willing to offer their help, please contact me and I will give you full credit in the game credits and also in the credits page of my deviantART and website . If you are a coder, I can also give you all the code to make it\",\n",
       " 'I think I’d love to visit a different state every month. There are so many incredible places to visit in this country and so much culture to absorb! What can I say. I’m a tourist through and through. Not that I’ve gone into any of these states to shop or dine. I’m always looking for an adventure.  While I like all of these, I do have a soft spot for Oregon. This is the state that has hosted me the longest, so it will always have a soft spot in my heart. If you know me then you know that my roots run deep here! I could talk your ear off at length about the history of my town, the people who live there and my own past in my little town. So, if you were to ask me what I missed the most, I would answer that it would be Oregon. So, after we found out we were having a baby, it would be the one we planned to name our child after.']"
      ]
     },
     "execution_count": 23,
     "metadata": {},
     "output_type": "execute_result"
    }
   ],
   "source": [
    "max_new_tokens = 200\n",
    "scale = 80\n",
    "# criterion = \"Mentions wedding or anything related to weddings or marriage.\"\n",
    "criterion = \"Mentions London or anything related to London.\"\n",
    "coherence_criterion = \"Text is coherent, the grammar is correct, and makes sense.\"\n",
    "\n",
    "texts = generate(model,\n",
    "        hooks=[(hp6, partial(patch_resid, steering=london, scale=scale))],\n",
    "        max_new_tokens=200,\n",
    "        prompt=\"I think\",\n",
    "        batch_size=32,\n",
    "        n_samples=128,\n",
    "        )\n",
    "texts"
   ]
  },
  {
   "cell_type": "code",
   "execution_count": 24,
   "metadata": {},
   "outputs": [],
   "source": [
    "# cut <eos> and <pad> from end of texts. hacky.\n",
    "\n",
    "eos_idxs = [t.find(\"<eos>\") for t in texts]\n",
    "eos_idxs = [i if i != -1 else None for i in eos_idxs]\n",
    "texts = [t[:i] for t, i in zip(texts, eos_idxs)]\n",
    "pad_idxs = [t.find(\"<pad>\") for t in texts]\n",
    "pad_idxs = [i if i != -1 else None for i in pad_idxs]\n",
    "texts = [t[:i] for t, i in zip(texts, pad_idxs)]"
   ]
  },
  {
   "cell_type": "code",
   "execution_count": 25,
   "metadata": {},
   "outputs": [
    {
     "name": "stdout",
     "output_type": "stream",
     "text": [
      "80\n"
     ]
    }
   ],
   "source": [
    "tokens = [model.to_tokens(t, prepend_bos=False)[0] for t in texts]\n",
    "\n",
    "# filter short texts\n",
    "tokens = [t for t in tokens if t.shape[0] > max_new_tokens]\n",
    "print(len(tokens))"
   ]
  },
  {
   "cell_type": "markdown",
   "metadata": {},
   "source": []
  },
  {
   "cell_type": "code",
   "execution_count": 26,
   "metadata": {},
   "outputs": [],
   "source": [
    "def get_chunks(tokens, chunk_size=25):\n",
    "    \"\"\"Returns a list of lists of chunks\"\"\"\n",
    "    chunked = []\n",
    "    for full_t in tokens:\n",
    "        chunks = []\n",
    "        for i in range(0, full_t.shape[0], chunk_size):\n",
    "            chunk = full_t[i:i+chunk_size]\n",
    "            if chunk.shape[0] == chunk_size:\n",
    "                chunks.append(model.to_string(chunk))\n",
    "        if chunks:  # Only add non-empty lists of chunks\n",
    "            chunked.append(chunks)\n",
    "    return chunked\n",
    "\n",
    "chunks = get_chunks(tokens)"
   ]
  },
  {
   "cell_type": "code",
   "execution_count": 27,
   "metadata": {},
   "outputs": [
    {
     "name": "stdout",
     "output_type": "stream",
     "text": [
      "640\n"
     ]
    }
   ],
   "source": [
    "print(len([c for chunk in chunks for c in chunk]))"
   ]
  },
  {
   "cell_type": "markdown",
   "metadata": {},
   "source": [
    "### Warning: this code calls gpt-4o a bunch of times. Could be expensive."
   ]
  },
  {
   "cell_type": "code",
   "execution_count": 35,
   "metadata": {},
   "outputs": [
    {
     "name": "stdout",
     "output_type": "stream",
     "text": [
      "[[[7, 4, 2, 2, 3, 2, 2, 1], [3, 2, 2, 1, 2, 1, 1, 2], [3, 3, 2, 2, 1, 1, 1, 1], [4, 3, 4, 3, 2, 2, 5, 3], [4, 6, 2, 1, 1, 2, 1, 1], [7, 3, 4, 4, 2, 2, 2, 2], [8, 4, 6, 3, 6, 8, 6, 4], [7, 6, 4, 7, 6, 4, 3, 7], [8, 8, 4, 8, 9, 7, 3, 4], [8, 8, 8, 6, 7, 7, 9, 8], [7, 3, 1, 3, 2, 3, 4, 4], [8, 9, 8, 4, 3, 9, 7, 8], [7, 4, 3, 4, 3, 8, 6, 4], [4, 6, 6, 4, 3, 5, 4, 4], [6, 3, 6, 3, 3, 6, 8, 3], [4, 4, 4, 7, 4, 5, 7, 4], [6, 8, 6, 4, 3, 3, 7, 7], [6, 4, 4, 3, 3, 2, 3, 4], [10, 9, 8, 7, 9, 8, 8, 7], [3, 4, 3, 2, 1, 1, 1, 2], [8, 7, 4, 3, 4, 3, 4, 7], [6, 3, 3, 3, 6, 4, 3, 3], [9, 8, 8, 9, 7, 5, 3, 9], [6, 4, 8, 4, 3, 3, 6, 2], [4, 3, 3, 7, 4, 3, 3, 3], [9, 3, 5, 6, 9, 4, 4, 7], [6, 3, 3, 3, 7, 8, 3, 8], [7, 9, 9, 3, 4, 7, 8, 8], [8, 10, 7, 8, 8, 7, 8, 8], [7, 3, 4, 7, 9, 7, 8, 6], [8, 8, 9, 3, 3, 3, 7, 7], [8, 7, 7, 3, 7, 8, 6, 9], [10, 8, 4, 7, 4, 3, 4, 6], [9, 8, 8, 6, 9, 8, 6, 3], [8, 4, 3, 6, 6, 8, 8, 4], [8, 4, 4, 7, 6, 4, 5, 8], [7, 6, 6, 3, 6, 4, 7, 7], [8, 8, 8, 4, 4, 4, 6, 4], [9, 6, 3, 6, 8, 4, 3, 8], [8, 6, 4, 4, 4, 6, 6, 4], [6, 4, 5, 8, 6, 4, 5, 10], [8, 4, 8, 6, 3, 4, 4, 6], [9, 9, 8, 9, 9, 9, 8, 6], [6, 4, 8, 8, 4, 7, 6, 3], [9, 9, 9, 8, 8, 8, 3, 7], [8, 7, 4, 8, 4, 4, 7, 3], [6, 7, 8, 8, 8, 3, 6, 4], [7, 8, 7, 4, 4, 2, 4, 5], [9, 6, 6, 9, 9, 9, 6, 8], [8, 6, 6, 7, 6, 5, 8, 8], [9, 5, 4, 5, 4, 3, 3, 3], [8, 7, 9, 8, 3, 8, 7, 4], [8, 4, 6, 4, 6, 5, 7, 8], [9, 6, 8, 4, 4, 8, 9, 7], [6, 4, 7, 7, 3, 4, 7, 8], [8, 7, 5, 7, 5, 6, 3, 4], [8, 7, 6, 8, 8, 4, 3, 6], [8, 7, 6, 3, 8, 7, 7, 8], [9, 3, 9, 7, 9, 8, 7, 4], [7, 5, 3, 5, 6, 6, 6, 8], [9, 8, 9, 8, 7, 6, 3, 3], [5, 4, 3, 6, 7, 4, 7, 6], [6, 4, 6, 3, 3, 6, 4, 3], [9, 8, 7, 9, 8, 8, 8, 8], [8, 5, 3, 9, 6, 8, 3, 8], [8, 5, 7, 3, 9, 3, 5, 8], [9, 5, 7, 6, 6, 4, 6, 3], [9, 7, 7, 4, 6, 3, 6, 6], [9, 7, 4, 3, 6, 7, 7, 3], [9, 7, 7, 7, 6, 4, 4, 8], [8, 8, 4, 8, 7, 8, 4, 7], [8, 4, 4, 6, 7, 8, 7, 4], [9, 4, 6, 9, 8, 7, 8, 8], [8, 4, 9, 4, 4, 6, 6, 5], [9, 6, 7, 3, 5, 8, 3, 8], [6, 7, 7, 4, 4, 3, 6, 6], [6, 3, 4, 3, 3, 3, 2, 3], [9, 8, 3, 8, 8, 5, 6, 8], [7, 6, 8, 8, 9, 6, 8, 4], [9, 6, 4, 8, 10, 8, 8, 4]], [[1, 1, 1, 10, 10, 10, 1, 10], [1, 1, 10, 10, 10, 10, 1, 10], [10, 10, 10, 10, 2, 8, 1, 1], [10, 10, 10, 8, 10, 10, 10, 8], [1, 10, 10, 10, 10, 10, 10, 10], [1, 10, 10, 10, 1, 10, 10, 10], [1, 1, 1, 1, 1, 1, 1, 1], [5, 1, 1, 1, 1, 1, 1, 1], [1, 1, 1, 1, 1, 1, 1, 1], [1, 1, 1, 1, 1, 1, 1, 1], [1, 1, 1, 1, 1, 1, 1, 1], [1, 1, 1, 1, 1, 1, 1, 1], [1, 1, 1, 1, 1, 1, 1, 1], [1, 1, 1, 1, 1, 1, 1, 1], [1, 1, 8, 1, 1, 1, 1, 1], [1, 1, 1, 1, 1, 1, 1, 1], [1, 1, 1, 1, 1, 1, 1, 1], [1, 1, 1, 1, 1, 1, 1, 1], [10, 1, 1, 1, 10, 1, 1, 1], [1, 1, 1, 1, 1, 1, 1, 1], [1, 1, 1, 1, 1, 1, 1, 1], [1, 1, 1, 1, 1, 1, 1, 1], [1, 1, 1, 1, 1, 1, 1, 1], [1, 1, 1, 1, 1, 1, 1, 1], [1, 1, 1, 10, 9, 1, 10, 10], [1, 1, 1, 1, 1, 5, 8, 1], [1, 1, 1, 1, 1, 1, 1, 1], [1, 1, 1, 1, 1, 1, 1, 1], [1, 1, 1, 1, 1, 1, 1, 10], [1, 1, 1, 1, 1, 1, 1, 1], [1, 1, 1, 1, 1, 1, 1, 1], [1, 1, 1, 1, 1, 1, 1, 1], [1, 1, 1, 1, 1, 1, 1, 1], [1, 1, 1, 1, 1, 1, 1, 1], [1, 1, 1, 1, 1, 1, 1, 1], [1, 1, 1, 1, 1, 1, 1, 1], [1, 1, 1, 1, 1, 1, 1, 1], [1, 1, 1, 1, 1, 1, 1, 1], [1, 1, 1, 1, 1, 1, 1, 1], [1, 1, 1, 1, 1, 1, 1, 1], [1, 1, 1, 1, 1, 1, 1, 1], [1, 1, 1, 1, 1, 1, 1, 1], [1, 1, 1, 1, 1, 1, 1, 1], [1, 1, 1, 1, 1, 1, 1, 1], [1, 1, 1, 1, 1, 1, 1, 1], [1, 1, 1, 1, 1, 1, 1, 1], [1, 1, 1, 1, 1, 1, 1, 1], [1, 1, 1, 1, 1, 1, 1, 1], [1, 1, 1, 1, 1, 1, 1, 1], [1, 1, 1, 1, 1, 1, 1, 1], [1, 1, 1, 1, 1, 1, 1, 1], [1, 1, 1, 1, 1, 1, 1, 1], [1, 1, 1, 1, 1, 1, 1, 1], [1, 1, 1, 1, 1, 1, 1, 1], [1, 1, 1, 1, 1, 1, 1, 1], [1, 1, 1, 1, 1, 1, 1, 1], [1, 1, 1, 1, 1, 1, 1, 1], [1, 1, 1, 1, 1, 1, 1, 1], [1, 1, 1, 1, 1, 1, 1, 1], [1, 1, 1, 1, 1, 1, 1, 1], [1, 1, 1, 1, 1, 1, 1, 1], [1, 1, 1, 1, 1, 1, 1, 1], [1, 1, 1, 1, 1, 1, 1, 1], [1, 1, 1, 1, 1, 1, 1, 1], [1, 1, 2, 1, 1, 1, 1, 1], [1, 1, 1, 1, 1, 1, 1, 1], [1, 1, 1, 1, 1, 1, 1, 1], [1, 1, 1, 1, 1, 1, 1, 1], [1, 1, 1, 1, 1, 1, 1, 1], [1, 1, 1, 1, 1, 1, 1, 1], [1, 1, 1, 1, 1, 1, 1, 1], [1, 1, 1, 1, 1, 1, 1, 1], [1, 1, 1, 1, 1, 1, 1, 1], [1, 1, 1, 1, 1, 1, 1, 1], [1, 1, 1, 1, 1, 1, 1, 1], [1, 1, 1, 1, 1, 1, 1, 1], [1, 1, 1, 1, 1, 1, 1, 1], [1, 1, 1, 1, 1, 1, 1, 1], [1, 1, 1, 1, 1, 1, 1, 1], [1, 1, 1, 1, 1, 1, 1, 1]]]\n"
     ]
    }
   ],
   "source": [
    "def rate_chunks(chunks: list[list[str]], criteria: list[str]):\n",
    "    # flatten chunks into single list\n",
    "    flat_chunks = [c for chunk in chunks for c in chunk]\n",
    "    # rate\n",
    "    scores = multi_criterion_evaluation(flat_chunks, criteria, prompt=\"\", filter_errors=False, model=\"gpt-4o\")\n",
    "\n",
    "    integer_scores = [[item['score'] for item in criterion_scores] for criterion_scores in scores]\n",
    "    # split scores back into chunks\n",
    "    chunk_scores = []\n",
    "    chunk_sizes = [len(chunk) for chunk in chunks]\n",
    "    start = 0\n",
    "    for size in chunk_sizes:\n",
    "        chunk_score = []\n",
    "        for criterion_scores in integer_scores:\n",
    "            chunk_score.append(criterion_scores[start:start+size])\n",
    "        chunk_scores.append(chunk_score)\n",
    "        start += size\n",
    "    \n",
    "    # filter 0 scores\n",
    "    filtered_chunk_scores = []\n",
    "    for sample in chunk_scores:\n",
    "        # if 0 not in any of the criteria scores, keep the sample\n",
    "        if not any([0 in criterion for criterion in sample]):\n",
    "            filtered_chunk_scores.append(sample)\n",
    "        else:\n",
    "            print(\"skipping\", sample)\n",
    "    \n",
    "    # transpose\n",
    "    filtered_chunk_scores = list(map(list, zip(*filtered_chunk_scores)))\n",
    "\n",
    "    print(filtered_chunk_scores)\n",
    "\n",
    "    return filtered_chunk_scores\n",
    "\n",
    "\n",
    "coherence_scores, eval_scores = rate_chunks(chunks, [\"Text is coherent, the grammar is correct.\", criterion])\n"
   ]
  },
  {
   "cell_type": "code",
   "execution_count": 36,
   "metadata": {},
   "outputs": [],
   "source": [
    "coherence_averages = [sum(c[i] for c in coherence_scores)/len(coherence_scores) for i in range(len(coherence_scores[0]))]\n",
    "eval_averages = [sum(c[i] for c in eval_scores)/len(eval_scores) for i in range(len(eval_scores[0]))]"
   ]
  },
  {
   "cell_type": "code",
   "execution_count": 37,
   "metadata": {},
   "outputs": [
    {
     "data": {
      "text/plain": [
       "[[1, 1, 1, 10, 10, 10, 1, 10],\n",
       " [1, 1, 10, 10, 10, 10, 1, 10],\n",
       " [10, 10, 10, 10, 2, 8, 1, 1],\n",
       " [10, 10, 10, 8, 10, 10, 10, 8],\n",
       " [1, 10, 10, 10, 10, 10, 10, 10],\n",
       " [1, 10, 10, 10, 1, 10, 10, 10],\n",
       " [1, 1, 1, 1, 1, 1, 1, 1],\n",
       " [5, 1, 1, 1, 1, 1, 1, 1],\n",
       " [1, 1, 1, 1, 1, 1, 1, 1],\n",
       " [1, 1, 1, 1, 1, 1, 1, 1],\n",
       " [1, 1, 1, 1, 1, 1, 1, 1],\n",
       " [1, 1, 1, 1, 1, 1, 1, 1],\n",
       " [1, 1, 1, 1, 1, 1, 1, 1],\n",
       " [1, 1, 1, 1, 1, 1, 1, 1],\n",
       " [1, 1, 8, 1, 1, 1, 1, 1],\n",
       " [1, 1, 1, 1, 1, 1, 1, 1],\n",
       " [1, 1, 1, 1, 1, 1, 1, 1],\n",
       " [1, 1, 1, 1, 1, 1, 1, 1],\n",
       " [10, 1, 1, 1, 10, 1, 1, 1],\n",
       " [1, 1, 1, 1, 1, 1, 1, 1],\n",
       " [1, 1, 1, 1, 1, 1, 1, 1],\n",
       " [1, 1, 1, 1, 1, 1, 1, 1],\n",
       " [1, 1, 1, 1, 1, 1, 1, 1],\n",
       " [1, 1, 1, 1, 1, 1, 1, 1],\n",
       " [1, 1, 1, 10, 9, 1, 10, 10],\n",
       " [1, 1, 1, 1, 1, 5, 8, 1],\n",
       " [1, 1, 1, 1, 1, 1, 1, 1],\n",
       " [1, 1, 1, 1, 1, 1, 1, 1],\n",
       " [1, 1, 1, 1, 1, 1, 1, 10],\n",
       " [1, 1, 1, 1, 1, 1, 1, 1],\n",
       " [1, 1, 1, 1, 1, 1, 1, 1],\n",
       " [1, 1, 1, 1, 1, 1, 1, 1],\n",
       " [1, 1, 1, 1, 1, 1, 1, 1],\n",
       " [1, 1, 1, 1, 1, 1, 1, 1],\n",
       " [1, 1, 1, 1, 1, 1, 1, 1],\n",
       " [1, 1, 1, 1, 1, 1, 1, 1],\n",
       " [1, 1, 1, 1, 1, 1, 1, 1],\n",
       " [1, 1, 1, 1, 1, 1, 1, 1],\n",
       " [1, 1, 1, 1, 1, 1, 1, 1],\n",
       " [1, 1, 1, 1, 1, 1, 1, 1],\n",
       " [1, 1, 1, 1, 1, 1, 1, 1],\n",
       " [1, 1, 1, 1, 1, 1, 1, 1],\n",
       " [1, 1, 1, 1, 1, 1, 1, 1],\n",
       " [1, 1, 1, 1, 1, 1, 1, 1],\n",
       " [1, 1, 1, 1, 1, 1, 1, 1],\n",
       " [1, 1, 1, 1, 1, 1, 1, 1],\n",
       " [1, 1, 1, 1, 1, 1, 1, 1],\n",
       " [1, 1, 1, 1, 1, 1, 1, 1],\n",
       " [1, 1, 1, 1, 1, 1, 1, 1],\n",
       " [1, 1, 1, 1, 1, 1, 1, 1],\n",
       " [1, 1, 1, 1, 1, 1, 1, 1],\n",
       " [1, 1, 1, 1, 1, 1, 1, 1],\n",
       " [1, 1, 1, 1, 1, 1, 1, 1],\n",
       " [1, 1, 1, 1, 1, 1, 1, 1],\n",
       " [1, 1, 1, 1, 1, 1, 1, 1],\n",
       " [1, 1, 1, 1, 1, 1, 1, 1],\n",
       " [1, 1, 1, 1, 1, 1, 1, 1],\n",
       " [1, 1, 1, 1, 1, 1, 1, 1],\n",
       " [1, 1, 1, 1, 1, 1, 1, 1],\n",
       " [1, 1, 1, 1, 1, 1, 1, 1],\n",
       " [1, 1, 1, 1, 1, 1, 1, 1],\n",
       " [1, 1, 1, 1, 1, 1, 1, 1],\n",
       " [1, 1, 1, 1, 1, 1, 1, 1],\n",
       " [1, 1, 1, 1, 1, 1, 1, 1],\n",
       " [1, 1, 2, 1, 1, 1, 1, 1],\n",
       " [1, 1, 1, 1, 1, 1, 1, 1],\n",
       " [1, 1, 1, 1, 1, 1, 1, 1],\n",
       " [1, 1, 1, 1, 1, 1, 1, 1],\n",
       " [1, 1, 1, 1, 1, 1, 1, 1],\n",
       " [1, 1, 1, 1, 1, 1, 1, 1],\n",
       " [1, 1, 1, 1, 1, 1, 1, 1],\n",
       " [1, 1, 1, 1, 1, 1, 1, 1],\n",
       " [1, 1, 1, 1, 1, 1, 1, 1],\n",
       " [1, 1, 1, 1, 1, 1, 1, 1],\n",
       " [1, 1, 1, 1, 1, 1, 1, 1],\n",
       " [1, 1, 1, 1, 1, 1, 1, 1],\n",
       " [1, 1, 1, 1, 1, 1, 1, 1],\n",
       " [1, 1, 1, 1, 1, 1, 1, 1],\n",
       " [1, 1, 1, 1, 1, 1, 1, 1],\n",
       " [1, 1, 1, 1, 1, 1, 1, 1]]"
      ]
     },
     "execution_count": 37,
     "metadata": {},
     "output_type": "execute_result"
    }
   ],
   "source": [
    "eval_scores"
   ]
  },
  {
   "cell_type": "code",
   "execution_count": 38,
   "metadata": {},
   "outputs": [
    {
     "data": {
      "text/plain": [
       "[[7, 4, 2, 2, 3, 2, 2, 1],\n",
       " [3, 2, 2, 1, 2, 1, 1, 2],\n",
       " [3, 3, 2, 2, 1, 1, 1, 1],\n",
       " [4, 3, 4, 3, 2, 2, 5, 3],\n",
       " [4, 6, 2, 1, 1, 2, 1, 1],\n",
       " [7, 3, 4, 4, 2, 2, 2, 2],\n",
       " [8, 4, 6, 3, 6, 8, 6, 4],\n",
       " [7, 6, 4, 7, 6, 4, 3, 7],\n",
       " [8, 8, 4, 8, 9, 7, 3, 4],\n",
       " [8, 8, 8, 6, 7, 7, 9, 8],\n",
       " [7, 3, 1, 3, 2, 3, 4, 4],\n",
       " [8, 9, 8, 4, 3, 9, 7, 8],\n",
       " [7, 4, 3, 4, 3, 8, 6, 4],\n",
       " [4, 6, 6, 4, 3, 5, 4, 4],\n",
       " [6, 3, 6, 3, 3, 6, 8, 3],\n",
       " [4, 4, 4, 7, 4, 5, 7, 4],\n",
       " [6, 8, 6, 4, 3, 3, 7, 7],\n",
       " [6, 4, 4, 3, 3, 2, 3, 4],\n",
       " [10, 9, 8, 7, 9, 8, 8, 7],\n",
       " [3, 4, 3, 2, 1, 1, 1, 2],\n",
       " [8, 7, 4, 3, 4, 3, 4, 7],\n",
       " [6, 3, 3, 3, 6, 4, 3, 3],\n",
       " [9, 8, 8, 9, 7, 5, 3, 9],\n",
       " [6, 4, 8, 4, 3, 3, 6, 2],\n",
       " [4, 3, 3, 7, 4, 3, 3, 3],\n",
       " [9, 3, 5, 6, 9, 4, 4, 7],\n",
       " [6, 3, 3, 3, 7, 8, 3, 8],\n",
       " [7, 9, 9, 3, 4, 7, 8, 8],\n",
       " [8, 10, 7, 8, 8, 7, 8, 8],\n",
       " [7, 3, 4, 7, 9, 7, 8, 6],\n",
       " [8, 8, 9, 3, 3, 3, 7, 7],\n",
       " [8, 7, 7, 3, 7, 8, 6, 9],\n",
       " [10, 8, 4, 7, 4, 3, 4, 6],\n",
       " [9, 8, 8, 6, 9, 8, 6, 3],\n",
       " [8, 4, 3, 6, 6, 8, 8, 4],\n",
       " [8, 4, 4, 7, 6, 4, 5, 8],\n",
       " [7, 6, 6, 3, 6, 4, 7, 7],\n",
       " [8, 8, 8, 4, 4, 4, 6, 4],\n",
       " [9, 6, 3, 6, 8, 4, 3, 8],\n",
       " [8, 6, 4, 4, 4, 6, 6, 4],\n",
       " [6, 4, 5, 8, 6, 4, 5, 10],\n",
       " [8, 4, 8, 6, 3, 4, 4, 6],\n",
       " [9, 9, 8, 9, 9, 9, 8, 6],\n",
       " [6, 4, 8, 8, 4, 7, 6, 3],\n",
       " [9, 9, 9, 8, 8, 8, 3, 7],\n",
       " [8, 7, 4, 8, 4, 4, 7, 3],\n",
       " [6, 7, 8, 8, 8, 3, 6, 4],\n",
       " [7, 8, 7, 4, 4, 2, 4, 5],\n",
       " [9, 6, 6, 9, 9, 9, 6, 8],\n",
       " [8, 6, 6, 7, 6, 5, 8, 8],\n",
       " [9, 5, 4, 5, 4, 3, 3, 3],\n",
       " [8, 7, 9, 8, 3, 8, 7, 4],\n",
       " [8, 4, 6, 4, 6, 5, 7, 8],\n",
       " [9, 6, 8, 4, 4, 8, 9, 7],\n",
       " [6, 4, 7, 7, 3, 4, 7, 8],\n",
       " [8, 7, 5, 7, 5, 6, 3, 4],\n",
       " [8, 7, 6, 8, 8, 4, 3, 6],\n",
       " [8, 7, 6, 3, 8, 7, 7, 8],\n",
       " [9, 3, 9, 7, 9, 8, 7, 4],\n",
       " [7, 5, 3, 5, 6, 6, 6, 8],\n",
       " [9, 8, 9, 8, 7, 6, 3, 3],\n",
       " [5, 4, 3, 6, 7, 4, 7, 6],\n",
       " [6, 4, 6, 3, 3, 6, 4, 3],\n",
       " [9, 8, 7, 9, 8, 8, 8, 8],\n",
       " [8, 5, 3, 9, 6, 8, 3, 8],\n",
       " [8, 5, 7, 3, 9, 3, 5, 8],\n",
       " [9, 5, 7, 6, 6, 4, 6, 3],\n",
       " [9, 7, 7, 4, 6, 3, 6, 6],\n",
       " [9, 7, 4, 3, 6, 7, 7, 3],\n",
       " [9, 7, 7, 7, 6, 4, 4, 8],\n",
       " [8, 8, 4, 8, 7, 8, 4, 7],\n",
       " [8, 4, 4, 6, 7, 8, 7, 4],\n",
       " [9, 4, 6, 9, 8, 7, 8, 8],\n",
       " [8, 4, 9, 4, 4, 6, 6, 5],\n",
       " [9, 6, 7, 3, 5, 8, 3, 8],\n",
       " [6, 7, 7, 4, 4, 3, 6, 6],\n",
       " [6, 3, 4, 3, 3, 3, 2, 3],\n",
       " [9, 8, 3, 8, 8, 5, 6, 8],\n",
       " [7, 6, 8, 8, 9, 6, 8, 4],\n",
       " [9, 6, 4, 8, 10, 8, 8, 4]]"
      ]
     },
     "execution_count": 38,
     "metadata": {},
     "output_type": "execute_result"
    }
   ],
   "source": [
    "coherence_scores"
   ]
  },
  {
   "cell_type": "code",
   "execution_count": 39,
   "metadata": {},
   "outputs": [
    {
     "data": {
      "application/vnd.plotly.v1+json": {
       "config": {
        "plotlyServerURL": "https://plot.ly"
       },
       "data": [
        {
         "hovertemplate": "Metric=Coherence Averages<br>Index=%{x}<br>Average Score=%{y}<extra></extra>",
         "legendgroup": "Coherence Averages",
         "line": {
          "color": "#636efa",
          "dash": "solid",
          "shape": "linear"
         },
         "marker": {
          "symbol": "circle"
         },
         "mode": "lines",
         "name": "Coherence Averages",
         "orientation": "v",
         "showlegend": true,
         "type": "scatter",
         "x": [
          0,
          1,
          2,
          3,
          4,
          5,
          6,
          7
         ],
         "xaxis": "x",
         "y": [
          7.3625,
          5.675,
          5.5625,
          5.4,
          5.4625,
          5.225,
          5.2875,
          5.425
         ],
         "yaxis": "y"
        },
        {
         "hovertemplate": "Metric=Evaluation Averages<br>Index=%{x}<br>Average Score=%{y}<extra></extra>",
         "legendgroup": "Evaluation Averages",
         "line": {
          "color": "#EF553B",
          "dash": "solid",
          "shape": "linear"
         },
         "marker": {
          "symbol": "circle"
         },
         "mode": "lines",
         "name": "Evaluation Averages",
         "orientation": "v",
         "showlegend": true,
         "type": "scatter",
         "x": [
          0,
          1,
          2,
          3,
          4,
          5,
          6,
          7
         ],
         "xaxis": "x",
         "y": [
          1.3875,
          1.45,
          1.6625,
          1.7625,
          1.675,
          1.7,
          1.5375,
          1.7625
         ],
         "yaxis": "y"
        }
       ],
       "layout": {
        "font": {
         "size": 12
        },
        "legend": {
         "title": {
          "text": "Metric"
         },
         "tracegroupgap": 0
        },
        "template": {
         "data": {
          "bar": [
           {
            "error_x": {
             "color": "#2a3f5f"
            },
            "error_y": {
             "color": "#2a3f5f"
            },
            "marker": {
             "line": {
              "color": "#E5ECF6",
              "width": 0.5
             },
             "pattern": {
              "fillmode": "overlay",
              "size": 10,
              "solidity": 0.2
             }
            },
            "type": "bar"
           }
          ],
          "barpolar": [
           {
            "marker": {
             "line": {
              "color": "#E5ECF6",
              "width": 0.5
             },
             "pattern": {
              "fillmode": "overlay",
              "size": 10,
              "solidity": 0.2
             }
            },
            "type": "barpolar"
           }
          ],
          "carpet": [
           {
            "aaxis": {
             "endlinecolor": "#2a3f5f",
             "gridcolor": "white",
             "linecolor": "white",
             "minorgridcolor": "white",
             "startlinecolor": "#2a3f5f"
            },
            "baxis": {
             "endlinecolor": "#2a3f5f",
             "gridcolor": "white",
             "linecolor": "white",
             "minorgridcolor": "white",
             "startlinecolor": "#2a3f5f"
            },
            "type": "carpet"
           }
          ],
          "choropleth": [
           {
            "colorbar": {
             "outlinewidth": 0,
             "ticks": ""
            },
            "type": "choropleth"
           }
          ],
          "contour": [
           {
            "colorbar": {
             "outlinewidth": 0,
             "ticks": ""
            },
            "colorscale": [
             [
              0,
              "#0d0887"
             ],
             [
              0.1111111111111111,
              "#46039f"
             ],
             [
              0.2222222222222222,
              "#7201a8"
             ],
             [
              0.3333333333333333,
              "#9c179e"
             ],
             [
              0.4444444444444444,
              "#bd3786"
             ],
             [
              0.5555555555555556,
              "#d8576b"
             ],
             [
              0.6666666666666666,
              "#ed7953"
             ],
             [
              0.7777777777777778,
              "#fb9f3a"
             ],
             [
              0.8888888888888888,
              "#fdca26"
             ],
             [
              1,
              "#f0f921"
             ]
            ],
            "type": "contour"
           }
          ],
          "contourcarpet": [
           {
            "colorbar": {
             "outlinewidth": 0,
             "ticks": ""
            },
            "type": "contourcarpet"
           }
          ],
          "heatmap": [
           {
            "colorbar": {
             "outlinewidth": 0,
             "ticks": ""
            },
            "colorscale": [
             [
              0,
              "#0d0887"
             ],
             [
              0.1111111111111111,
              "#46039f"
             ],
             [
              0.2222222222222222,
              "#7201a8"
             ],
             [
              0.3333333333333333,
              "#9c179e"
             ],
             [
              0.4444444444444444,
              "#bd3786"
             ],
             [
              0.5555555555555556,
              "#d8576b"
             ],
             [
              0.6666666666666666,
              "#ed7953"
             ],
             [
              0.7777777777777778,
              "#fb9f3a"
             ],
             [
              0.8888888888888888,
              "#fdca26"
             ],
             [
              1,
              "#f0f921"
             ]
            ],
            "type": "heatmap"
           }
          ],
          "heatmapgl": [
           {
            "colorbar": {
             "outlinewidth": 0,
             "ticks": ""
            },
            "colorscale": [
             [
              0,
              "#0d0887"
             ],
             [
              0.1111111111111111,
              "#46039f"
             ],
             [
              0.2222222222222222,
              "#7201a8"
             ],
             [
              0.3333333333333333,
              "#9c179e"
             ],
             [
              0.4444444444444444,
              "#bd3786"
             ],
             [
              0.5555555555555556,
              "#d8576b"
             ],
             [
              0.6666666666666666,
              "#ed7953"
             ],
             [
              0.7777777777777778,
              "#fb9f3a"
             ],
             [
              0.8888888888888888,
              "#fdca26"
             ],
             [
              1,
              "#f0f921"
             ]
            ],
            "type": "heatmapgl"
           }
          ],
          "histogram": [
           {
            "marker": {
             "pattern": {
              "fillmode": "overlay",
              "size": 10,
              "solidity": 0.2
             }
            },
            "type": "histogram"
           }
          ],
          "histogram2d": [
           {
            "colorbar": {
             "outlinewidth": 0,
             "ticks": ""
            },
            "colorscale": [
             [
              0,
              "#0d0887"
             ],
             [
              0.1111111111111111,
              "#46039f"
             ],
             [
              0.2222222222222222,
              "#7201a8"
             ],
             [
              0.3333333333333333,
              "#9c179e"
             ],
             [
              0.4444444444444444,
              "#bd3786"
             ],
             [
              0.5555555555555556,
              "#d8576b"
             ],
             [
              0.6666666666666666,
              "#ed7953"
             ],
             [
              0.7777777777777778,
              "#fb9f3a"
             ],
             [
              0.8888888888888888,
              "#fdca26"
             ],
             [
              1,
              "#f0f921"
             ]
            ],
            "type": "histogram2d"
           }
          ],
          "histogram2dcontour": [
           {
            "colorbar": {
             "outlinewidth": 0,
             "ticks": ""
            },
            "colorscale": [
             [
              0,
              "#0d0887"
             ],
             [
              0.1111111111111111,
              "#46039f"
             ],
             [
              0.2222222222222222,
              "#7201a8"
             ],
             [
              0.3333333333333333,
              "#9c179e"
             ],
             [
              0.4444444444444444,
              "#bd3786"
             ],
             [
              0.5555555555555556,
              "#d8576b"
             ],
             [
              0.6666666666666666,
              "#ed7953"
             ],
             [
              0.7777777777777778,
              "#fb9f3a"
             ],
             [
              0.8888888888888888,
              "#fdca26"
             ],
             [
              1,
              "#f0f921"
             ]
            ],
            "type": "histogram2dcontour"
           }
          ],
          "mesh3d": [
           {
            "colorbar": {
             "outlinewidth": 0,
             "ticks": ""
            },
            "type": "mesh3d"
           }
          ],
          "parcoords": [
           {
            "line": {
             "colorbar": {
              "outlinewidth": 0,
              "ticks": ""
             }
            },
            "type": "parcoords"
           }
          ],
          "pie": [
           {
            "automargin": true,
            "type": "pie"
           }
          ],
          "scatter": [
           {
            "fillpattern": {
             "fillmode": "overlay",
             "size": 10,
             "solidity": 0.2
            },
            "type": "scatter"
           }
          ],
          "scatter3d": [
           {
            "line": {
             "colorbar": {
              "outlinewidth": 0,
              "ticks": ""
             }
            },
            "marker": {
             "colorbar": {
              "outlinewidth": 0,
              "ticks": ""
             }
            },
            "type": "scatter3d"
           }
          ],
          "scattercarpet": [
           {
            "marker": {
             "colorbar": {
              "outlinewidth": 0,
              "ticks": ""
             }
            },
            "type": "scattercarpet"
           }
          ],
          "scattergeo": [
           {
            "marker": {
             "colorbar": {
              "outlinewidth": 0,
              "ticks": ""
             }
            },
            "type": "scattergeo"
           }
          ],
          "scattergl": [
           {
            "marker": {
             "colorbar": {
              "outlinewidth": 0,
              "ticks": ""
             }
            },
            "type": "scattergl"
           }
          ],
          "scattermapbox": [
           {
            "marker": {
             "colorbar": {
              "outlinewidth": 0,
              "ticks": ""
             }
            },
            "type": "scattermapbox"
           }
          ],
          "scatterpolar": [
           {
            "marker": {
             "colorbar": {
              "outlinewidth": 0,
              "ticks": ""
             }
            },
            "type": "scatterpolar"
           }
          ],
          "scatterpolargl": [
           {
            "marker": {
             "colorbar": {
              "outlinewidth": 0,
              "ticks": ""
             }
            },
            "type": "scatterpolargl"
           }
          ],
          "scatterternary": [
           {
            "marker": {
             "colorbar": {
              "outlinewidth": 0,
              "ticks": ""
             }
            },
            "type": "scatterternary"
           }
          ],
          "surface": [
           {
            "colorbar": {
             "outlinewidth": 0,
             "ticks": ""
            },
            "colorscale": [
             [
              0,
              "#0d0887"
             ],
             [
              0.1111111111111111,
              "#46039f"
             ],
             [
              0.2222222222222222,
              "#7201a8"
             ],
             [
              0.3333333333333333,
              "#9c179e"
             ],
             [
              0.4444444444444444,
              "#bd3786"
             ],
             [
              0.5555555555555556,
              "#d8576b"
             ],
             [
              0.6666666666666666,
              "#ed7953"
             ],
             [
              0.7777777777777778,
              "#fb9f3a"
             ],
             [
              0.8888888888888888,
              "#fdca26"
             ],
             [
              1,
              "#f0f921"
             ]
            ],
            "type": "surface"
           }
          ],
          "table": [
           {
            "cells": {
             "fill": {
              "color": "#EBF0F8"
             },
             "line": {
              "color": "white"
             }
            },
            "header": {
             "fill": {
              "color": "#C8D4E3"
             },
             "line": {
              "color": "white"
             }
            },
            "type": "table"
           }
          ]
         },
         "layout": {
          "annotationdefaults": {
           "arrowcolor": "#2a3f5f",
           "arrowhead": 0,
           "arrowwidth": 1
          },
          "autotypenumbers": "strict",
          "coloraxis": {
           "colorbar": {
            "outlinewidth": 0,
            "ticks": ""
           }
          },
          "colorscale": {
           "diverging": [
            [
             0,
             "#8e0152"
            ],
            [
             0.1,
             "#c51b7d"
            ],
            [
             0.2,
             "#de77ae"
            ],
            [
             0.3,
             "#f1b6da"
            ],
            [
             0.4,
             "#fde0ef"
            ],
            [
             0.5,
             "#f7f7f7"
            ],
            [
             0.6,
             "#e6f5d0"
            ],
            [
             0.7,
             "#b8e186"
            ],
            [
             0.8,
             "#7fbc41"
            ],
            [
             0.9,
             "#4d9221"
            ],
            [
             1,
             "#276419"
            ]
           ],
           "sequential": [
            [
             0,
             "#0d0887"
            ],
            [
             0.1111111111111111,
             "#46039f"
            ],
            [
             0.2222222222222222,
             "#7201a8"
            ],
            [
             0.3333333333333333,
             "#9c179e"
            ],
            [
             0.4444444444444444,
             "#bd3786"
            ],
            [
             0.5555555555555556,
             "#d8576b"
            ],
            [
             0.6666666666666666,
             "#ed7953"
            ],
            [
             0.7777777777777778,
             "#fb9f3a"
            ],
            [
             0.8888888888888888,
             "#fdca26"
            ],
            [
             1,
             "#f0f921"
            ]
           ],
           "sequentialminus": [
            [
             0,
             "#0d0887"
            ],
            [
             0.1111111111111111,
             "#46039f"
            ],
            [
             0.2222222222222222,
             "#7201a8"
            ],
            [
             0.3333333333333333,
             "#9c179e"
            ],
            [
             0.4444444444444444,
             "#bd3786"
            ],
            [
             0.5555555555555556,
             "#d8576b"
            ],
            [
             0.6666666666666666,
             "#ed7953"
            ],
            [
             0.7777777777777778,
             "#fb9f3a"
            ],
            [
             0.8888888888888888,
             "#fdca26"
            ],
            [
             1,
             "#f0f921"
            ]
           ]
          },
          "colorway": [
           "#636efa",
           "#EF553B",
           "#00cc96",
           "#ab63fa",
           "#FFA15A",
           "#19d3f3",
           "#FF6692",
           "#B6E880",
           "#FF97FF",
           "#FECB52"
          ],
          "font": {
           "color": "#2a3f5f"
          },
          "geo": {
           "bgcolor": "white",
           "lakecolor": "white",
           "landcolor": "#E5ECF6",
           "showlakes": true,
           "showland": true,
           "subunitcolor": "white"
          },
          "hoverlabel": {
           "align": "left"
          },
          "hovermode": "closest",
          "mapbox": {
           "style": "light"
          },
          "paper_bgcolor": "white",
          "plot_bgcolor": "#E5ECF6",
          "polar": {
           "angularaxis": {
            "gridcolor": "white",
            "linecolor": "white",
            "ticks": ""
           },
           "bgcolor": "#E5ECF6",
           "radialaxis": {
            "gridcolor": "white",
            "linecolor": "white",
            "ticks": ""
           }
          },
          "scene": {
           "xaxis": {
            "backgroundcolor": "#E5ECF6",
            "gridcolor": "white",
            "gridwidth": 2,
            "linecolor": "white",
            "showbackground": true,
            "ticks": "",
            "zerolinecolor": "white"
           },
           "yaxis": {
            "backgroundcolor": "#E5ECF6",
            "gridcolor": "white",
            "gridwidth": 2,
            "linecolor": "white",
            "showbackground": true,
            "ticks": "",
            "zerolinecolor": "white"
           },
           "zaxis": {
            "backgroundcolor": "#E5ECF6",
            "gridcolor": "white",
            "gridwidth": 2,
            "linecolor": "white",
            "showbackground": true,
            "ticks": "",
            "zerolinecolor": "white"
           }
          },
          "shapedefaults": {
           "line": {
            "color": "#2a3f5f"
           }
          },
          "ternary": {
           "aaxis": {
            "gridcolor": "white",
            "linecolor": "white",
            "ticks": ""
           },
           "baxis": {
            "gridcolor": "white",
            "linecolor": "white",
            "ticks": ""
           },
           "bgcolor": "#E5ECF6",
           "caxis": {
            "gridcolor": "white",
            "linecolor": "white",
            "ticks": ""
           }
          },
          "title": {
           "x": 0.05
          },
          "xaxis": {
           "automargin": true,
           "gridcolor": "white",
           "linecolor": "white",
           "ticks": "",
           "title": {
            "standoff": 15
           },
           "zerolinecolor": "white",
           "zerolinewidth": 2
          },
          "yaxis": {
           "automargin": true,
           "gridcolor": "white",
           "linecolor": "white",
           "ticks": "",
           "title": {
            "standoff": 15
           },
           "zerolinecolor": "white",
           "zerolinewidth": 2
          }
         }
        },
        "title": {
         "text": "Coherence and Evaluation Averages"
        },
        "xaxis": {
         "anchor": "y",
         "domain": [
          0,
          1
         ],
         "title": {
          "text": "Index"
         }
        },
        "yaxis": {
         "anchor": "x",
         "domain": [
          0,
          1
         ],
         "title": {
          "text": "Average Score"
         }
        }
       }
      },
      "text/html": [
       "<div>                            <div id=\"7854b8f2-7a78-41ce-b053-4afbb5619b09\" class=\"plotly-graph-div\" style=\"height:525px; width:100%;\"></div>            <script type=\"text/javascript\">                require([\"plotly\"], function(Plotly) {                    window.PLOTLYENV=window.PLOTLYENV || {};                                    if (document.getElementById(\"7854b8f2-7a78-41ce-b053-4afbb5619b09\")) {                    Plotly.newPlot(                        \"7854b8f2-7a78-41ce-b053-4afbb5619b09\",                        [{\"hovertemplate\":\"Metric=Coherence Averages\\u003cbr\\u003eIndex=%{x}\\u003cbr\\u003eAverage Score=%{y}\\u003cextra\\u003e\\u003c\\u002fextra\\u003e\",\"legendgroup\":\"Coherence Averages\",\"line\":{\"color\":\"#636efa\",\"dash\":\"solid\",\"shape\":\"linear\"},\"marker\":{\"symbol\":\"circle\"},\"mode\":\"lines\",\"name\":\"Coherence Averages\",\"orientation\":\"v\",\"showlegend\":true,\"x\":[0,1,2,3,4,5,6,7],\"xaxis\":\"x\",\"y\":[7.3625,5.675,5.5625,5.4,5.4625,5.225,5.2875,5.425],\"yaxis\":\"y\",\"type\":\"scatter\"},{\"hovertemplate\":\"Metric=Evaluation Averages\\u003cbr\\u003eIndex=%{x}\\u003cbr\\u003eAverage Score=%{y}\\u003cextra\\u003e\\u003c\\u002fextra\\u003e\",\"legendgroup\":\"Evaluation Averages\",\"line\":{\"color\":\"#EF553B\",\"dash\":\"solid\",\"shape\":\"linear\"},\"marker\":{\"symbol\":\"circle\"},\"mode\":\"lines\",\"name\":\"Evaluation Averages\",\"orientation\":\"v\",\"showlegend\":true,\"x\":[0,1,2,3,4,5,6,7],\"xaxis\":\"x\",\"y\":[1.3875,1.45,1.6625,1.7625,1.675,1.7,1.5375,1.7625],\"yaxis\":\"y\",\"type\":\"scatter\"}],                        {\"template\":{\"data\":{\"histogram2dcontour\":[{\"type\":\"histogram2dcontour\",\"colorbar\":{\"outlinewidth\":0,\"ticks\":\"\"},\"colorscale\":[[0.0,\"#0d0887\"],[0.1111111111111111,\"#46039f\"],[0.2222222222222222,\"#7201a8\"],[0.3333333333333333,\"#9c179e\"],[0.4444444444444444,\"#bd3786\"],[0.5555555555555556,\"#d8576b\"],[0.6666666666666666,\"#ed7953\"],[0.7777777777777778,\"#fb9f3a\"],[0.8888888888888888,\"#fdca26\"],[1.0,\"#f0f921\"]]}],\"choropleth\":[{\"type\":\"choropleth\",\"colorbar\":{\"outlinewidth\":0,\"ticks\":\"\"}}],\"histogram2d\":[{\"type\":\"histogram2d\",\"colorbar\":{\"outlinewidth\":0,\"ticks\":\"\"},\"colorscale\":[[0.0,\"#0d0887\"],[0.1111111111111111,\"#46039f\"],[0.2222222222222222,\"#7201a8\"],[0.3333333333333333,\"#9c179e\"],[0.4444444444444444,\"#bd3786\"],[0.5555555555555556,\"#d8576b\"],[0.6666666666666666,\"#ed7953\"],[0.7777777777777778,\"#fb9f3a\"],[0.8888888888888888,\"#fdca26\"],[1.0,\"#f0f921\"]]}],\"heatmap\":[{\"type\":\"heatmap\",\"colorbar\":{\"outlinewidth\":0,\"ticks\":\"\"},\"colorscale\":[[0.0,\"#0d0887\"],[0.1111111111111111,\"#46039f\"],[0.2222222222222222,\"#7201a8\"],[0.3333333333333333,\"#9c179e\"],[0.4444444444444444,\"#bd3786\"],[0.5555555555555556,\"#d8576b\"],[0.6666666666666666,\"#ed7953\"],[0.7777777777777778,\"#fb9f3a\"],[0.8888888888888888,\"#fdca26\"],[1.0,\"#f0f921\"]]}],\"heatmapgl\":[{\"type\":\"heatmapgl\",\"colorbar\":{\"outlinewidth\":0,\"ticks\":\"\"},\"colorscale\":[[0.0,\"#0d0887\"],[0.1111111111111111,\"#46039f\"],[0.2222222222222222,\"#7201a8\"],[0.3333333333333333,\"#9c179e\"],[0.4444444444444444,\"#bd3786\"],[0.5555555555555556,\"#d8576b\"],[0.6666666666666666,\"#ed7953\"],[0.7777777777777778,\"#fb9f3a\"],[0.8888888888888888,\"#fdca26\"],[1.0,\"#f0f921\"]]}],\"contourcarpet\":[{\"type\":\"contourcarpet\",\"colorbar\":{\"outlinewidth\":0,\"ticks\":\"\"}}],\"contour\":[{\"type\":\"contour\",\"colorbar\":{\"outlinewidth\":0,\"ticks\":\"\"},\"colorscale\":[[0.0,\"#0d0887\"],[0.1111111111111111,\"#46039f\"],[0.2222222222222222,\"#7201a8\"],[0.3333333333333333,\"#9c179e\"],[0.4444444444444444,\"#bd3786\"],[0.5555555555555556,\"#d8576b\"],[0.6666666666666666,\"#ed7953\"],[0.7777777777777778,\"#fb9f3a\"],[0.8888888888888888,\"#fdca26\"],[1.0,\"#f0f921\"]]}],\"surface\":[{\"type\":\"surface\",\"colorbar\":{\"outlinewidth\":0,\"ticks\":\"\"},\"colorscale\":[[0.0,\"#0d0887\"],[0.1111111111111111,\"#46039f\"],[0.2222222222222222,\"#7201a8\"],[0.3333333333333333,\"#9c179e\"],[0.4444444444444444,\"#bd3786\"],[0.5555555555555556,\"#d8576b\"],[0.6666666666666666,\"#ed7953\"],[0.7777777777777778,\"#fb9f3a\"],[0.8888888888888888,\"#fdca26\"],[1.0,\"#f0f921\"]]}],\"mesh3d\":[{\"type\":\"mesh3d\",\"colorbar\":{\"outlinewidth\":0,\"ticks\":\"\"}}],\"scatter\":[{\"fillpattern\":{\"fillmode\":\"overlay\",\"size\":10,\"solidity\":0.2},\"type\":\"scatter\"}],\"parcoords\":[{\"type\":\"parcoords\",\"line\":{\"colorbar\":{\"outlinewidth\":0,\"ticks\":\"\"}}}],\"scatterpolargl\":[{\"type\":\"scatterpolargl\",\"marker\":{\"colorbar\":{\"outlinewidth\":0,\"ticks\":\"\"}}}],\"bar\":[{\"error_x\":{\"color\":\"#2a3f5f\"},\"error_y\":{\"color\":\"#2a3f5f\"},\"marker\":{\"line\":{\"color\":\"#E5ECF6\",\"width\":0.5},\"pattern\":{\"fillmode\":\"overlay\",\"size\":10,\"solidity\":0.2}},\"type\":\"bar\"}],\"scattergeo\":[{\"type\":\"scattergeo\",\"marker\":{\"colorbar\":{\"outlinewidth\":0,\"ticks\":\"\"}}}],\"scatterpolar\":[{\"type\":\"scatterpolar\",\"marker\":{\"colorbar\":{\"outlinewidth\":0,\"ticks\":\"\"}}}],\"histogram\":[{\"marker\":{\"pattern\":{\"fillmode\":\"overlay\",\"size\":10,\"solidity\":0.2}},\"type\":\"histogram\"}],\"scattergl\":[{\"type\":\"scattergl\",\"marker\":{\"colorbar\":{\"outlinewidth\":0,\"ticks\":\"\"}}}],\"scatter3d\":[{\"type\":\"scatter3d\",\"line\":{\"colorbar\":{\"outlinewidth\":0,\"ticks\":\"\"}},\"marker\":{\"colorbar\":{\"outlinewidth\":0,\"ticks\":\"\"}}}],\"scattermapbox\":[{\"type\":\"scattermapbox\",\"marker\":{\"colorbar\":{\"outlinewidth\":0,\"ticks\":\"\"}}}],\"scatterternary\":[{\"type\":\"scatterternary\",\"marker\":{\"colorbar\":{\"outlinewidth\":0,\"ticks\":\"\"}}}],\"scattercarpet\":[{\"type\":\"scattercarpet\",\"marker\":{\"colorbar\":{\"outlinewidth\":0,\"ticks\":\"\"}}}],\"carpet\":[{\"aaxis\":{\"endlinecolor\":\"#2a3f5f\",\"gridcolor\":\"white\",\"linecolor\":\"white\",\"minorgridcolor\":\"white\",\"startlinecolor\":\"#2a3f5f\"},\"baxis\":{\"endlinecolor\":\"#2a3f5f\",\"gridcolor\":\"white\",\"linecolor\":\"white\",\"minorgridcolor\":\"white\",\"startlinecolor\":\"#2a3f5f\"},\"type\":\"carpet\"}],\"table\":[{\"cells\":{\"fill\":{\"color\":\"#EBF0F8\"},\"line\":{\"color\":\"white\"}},\"header\":{\"fill\":{\"color\":\"#C8D4E3\"},\"line\":{\"color\":\"white\"}},\"type\":\"table\"}],\"barpolar\":[{\"marker\":{\"line\":{\"color\":\"#E5ECF6\",\"width\":0.5},\"pattern\":{\"fillmode\":\"overlay\",\"size\":10,\"solidity\":0.2}},\"type\":\"barpolar\"}],\"pie\":[{\"automargin\":true,\"type\":\"pie\"}]},\"layout\":{\"autotypenumbers\":\"strict\",\"colorway\":[\"#636efa\",\"#EF553B\",\"#00cc96\",\"#ab63fa\",\"#FFA15A\",\"#19d3f3\",\"#FF6692\",\"#B6E880\",\"#FF97FF\",\"#FECB52\"],\"font\":{\"color\":\"#2a3f5f\"},\"hovermode\":\"closest\",\"hoverlabel\":{\"align\":\"left\"},\"paper_bgcolor\":\"white\",\"plot_bgcolor\":\"#E5ECF6\",\"polar\":{\"bgcolor\":\"#E5ECF6\",\"angularaxis\":{\"gridcolor\":\"white\",\"linecolor\":\"white\",\"ticks\":\"\"},\"radialaxis\":{\"gridcolor\":\"white\",\"linecolor\":\"white\",\"ticks\":\"\"}},\"ternary\":{\"bgcolor\":\"#E5ECF6\",\"aaxis\":{\"gridcolor\":\"white\",\"linecolor\":\"white\",\"ticks\":\"\"},\"baxis\":{\"gridcolor\":\"white\",\"linecolor\":\"white\",\"ticks\":\"\"},\"caxis\":{\"gridcolor\":\"white\",\"linecolor\":\"white\",\"ticks\":\"\"}},\"coloraxis\":{\"colorbar\":{\"outlinewidth\":0,\"ticks\":\"\"}},\"colorscale\":{\"sequential\":[[0.0,\"#0d0887\"],[0.1111111111111111,\"#46039f\"],[0.2222222222222222,\"#7201a8\"],[0.3333333333333333,\"#9c179e\"],[0.4444444444444444,\"#bd3786\"],[0.5555555555555556,\"#d8576b\"],[0.6666666666666666,\"#ed7953\"],[0.7777777777777778,\"#fb9f3a\"],[0.8888888888888888,\"#fdca26\"],[1.0,\"#f0f921\"]],\"sequentialminus\":[[0.0,\"#0d0887\"],[0.1111111111111111,\"#46039f\"],[0.2222222222222222,\"#7201a8\"],[0.3333333333333333,\"#9c179e\"],[0.4444444444444444,\"#bd3786\"],[0.5555555555555556,\"#d8576b\"],[0.6666666666666666,\"#ed7953\"],[0.7777777777777778,\"#fb9f3a\"],[0.8888888888888888,\"#fdca26\"],[1.0,\"#f0f921\"]],\"diverging\":[[0,\"#8e0152\"],[0.1,\"#c51b7d\"],[0.2,\"#de77ae\"],[0.3,\"#f1b6da\"],[0.4,\"#fde0ef\"],[0.5,\"#f7f7f7\"],[0.6,\"#e6f5d0\"],[0.7,\"#b8e186\"],[0.8,\"#7fbc41\"],[0.9,\"#4d9221\"],[1,\"#276419\"]]},\"xaxis\":{\"gridcolor\":\"white\",\"linecolor\":\"white\",\"ticks\":\"\",\"title\":{\"standoff\":15},\"zerolinecolor\":\"white\",\"automargin\":true,\"zerolinewidth\":2},\"yaxis\":{\"gridcolor\":\"white\",\"linecolor\":\"white\",\"ticks\":\"\",\"title\":{\"standoff\":15},\"zerolinecolor\":\"white\",\"automargin\":true,\"zerolinewidth\":2},\"scene\":{\"xaxis\":{\"backgroundcolor\":\"#E5ECF6\",\"gridcolor\":\"white\",\"linecolor\":\"white\",\"showbackground\":true,\"ticks\":\"\",\"zerolinecolor\":\"white\",\"gridwidth\":2},\"yaxis\":{\"backgroundcolor\":\"#E5ECF6\",\"gridcolor\":\"white\",\"linecolor\":\"white\",\"showbackground\":true,\"ticks\":\"\",\"zerolinecolor\":\"white\",\"gridwidth\":2},\"zaxis\":{\"backgroundcolor\":\"#E5ECF6\",\"gridcolor\":\"white\",\"linecolor\":\"white\",\"showbackground\":true,\"ticks\":\"\",\"zerolinecolor\":\"white\",\"gridwidth\":2}},\"shapedefaults\":{\"line\":{\"color\":\"#2a3f5f\"}},\"annotationdefaults\":{\"arrowcolor\":\"#2a3f5f\",\"arrowhead\":0,\"arrowwidth\":1},\"geo\":{\"bgcolor\":\"white\",\"landcolor\":\"#E5ECF6\",\"subunitcolor\":\"white\",\"showland\":true,\"showlakes\":true,\"lakecolor\":\"white\"},\"title\":{\"x\":0.05},\"mapbox\":{\"style\":\"light\"}}},\"xaxis\":{\"anchor\":\"y\",\"domain\":[0.0,1.0],\"title\":{\"text\":\"Index\"}},\"yaxis\":{\"anchor\":\"x\",\"domain\":[0.0,1.0],\"title\":{\"text\":\"Average Score\"}},\"legend\":{\"title\":{\"text\":\"Metric\"},\"tracegroupgap\":0},\"title\":{\"text\":\"Coherence and Evaluation Averages\"},\"font\":{\"size\":12}},                        {\"responsive\": true}                    ).then(function(){\n",
       "                            \n",
       "var gd = document.getElementById('7854b8f2-7a78-41ce-b053-4afbb5619b09');\n",
       "var x = new MutationObserver(function (mutations, observer) {{\n",
       "        var display = window.getComputedStyle(gd).display;\n",
       "        if (!display || display === 'none') {{\n",
       "            console.log([gd, 'removed!']);\n",
       "            Plotly.purge(gd);\n",
       "            observer.disconnect();\n",
       "        }}\n",
       "}});\n",
       "\n",
       "// Listen for the removal of the full notebook cells\n",
       "var notebookContainer = gd.closest('#notebook-container');\n",
       "if (notebookContainer) {{\n",
       "    x.observe(notebookContainer, {childList: true});\n",
       "}}\n",
       "\n",
       "// Listen for the clearing of the current output cell\n",
       "var outputEl = gd.closest('.output');\n",
       "if (outputEl) {{\n",
       "    x.observe(outputEl, {childList: true});\n",
       "}}\n",
       "\n",
       "                        })                };                });            </script>        </div>"
      ]
     },
     "metadata": {},
     "output_type": "display_data"
    }
   ],
   "source": [
    "# Create a DataFrame from the data\n",
    "df = pd.DataFrame({\n",
    "    'index': range(8),\n",
    "    'Coherence Averages': coherence_averages,\n",
    "    'Evaluation Averages': eval_averages\n",
    "})\n",
    "\n",
    "# Melt the DataFrame to create a \"long\" format suitable for plotting\n",
    "df_melted = df.melt(id_vars=['index'], var_name='Metric', value_name='Score')\n",
    "\n",
    "# Create the line plot\n",
    "fig = px.line(df_melted, x='index', y='Score', color='Metric',\n",
    "              title='Coherence and Evaluation Averages',\n",
    "              labels={'index': 'Index', 'Score': 'Average Score'},\n",
    "              line_shape='linear', render_mode='svg')\n",
    "\n",
    "# Update layout for better readability\n",
    "fig.update_layout(\n",
    "    xaxis_title='Index',\n",
    "    yaxis_title='Average Score',\n",
    "    legend_title='Metric',\n",
    "    font=dict(size=12)\n",
    ")\n",
    "\n",
    "# Show the plot\n",
    "fig.show()"
   ]
  },
  {
   "cell_type": "code",
   "execution_count": null,
   "metadata": {},
   "outputs": [],
   "source": []
  },
  {
   "cell_type": "code",
   "execution_count": null,
   "metadata": {},
   "outputs": [],
   "source": []
  }
 ],
 "metadata": {
  "kernelspec": {
   "display_name": ".venv",
   "language": "python",
   "name": "python3"
  },
  "language_info": {
   "codemirror_mode": {
    "name": "ipython",
    "version": 3
   },
   "file_extension": ".py",
   "mimetype": "text/x-python",
   "name": "python",
   "nbconvert_exporter": "python",
   "pygments_lexer": "ipython3",
   "version": "3.10.14"
  }
 },
 "nbformat": 4,
 "nbformat_minor": 2
}
