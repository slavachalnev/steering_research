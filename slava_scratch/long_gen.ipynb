{
 "cells": [
  {
   "cell_type": "code",
   "execution_count": 1,
   "metadata": {},
   "outputs": [
    {
     "data": {
      "text/plain": [
       "<torch.autograd.grad_mode.set_grad_enabled at 0x7f537ede6020>"
      ]
     },
     "execution_count": 1,
     "metadata": {},
     "output_type": "execute_result"
    }
   ],
   "source": [
    "import os\n",
    "import sys\n",
    "sys.path.append(os.path.abspath('..'))\n",
    "\n",
    "import torch\n",
    "import torch.nn.functional as F\n",
    "from torch.utils.data import DataLoader\n",
    "from transformer_lens import HookedTransformer\n",
    "from transformer_lens import utils as tutils\n",
    "from transformer_lens.evals import make_pile_data_loader, evaluate_on_dataset\n",
    "\n",
    "from functools import partial\n",
    "from datasets import load_dataset\n",
    "from tqdm import tqdm\n",
    "\n",
    "import einops\n",
    "\n",
    "from sae_lens import SAE\n",
    "# from sae_lens.toolkit.pretrained_saes import get_gpt2_res_jb_saes\n",
    "# from sae_lens import SparseAutoencoder, ActivationsStore\n",
    "\n",
    "from steering.evals_utils import multi_criterion_evaluation\n",
    "from steering.utils import normalise_decoder\n",
    "from steering.patch import generate, scores_2d, patch_resid\n",
    "\n",
    "# from sae_vis.data_config_classes import SaeVisConfig\n",
    "# from sae_vis.data_storing_fns import SaeVisData\n",
    "\n",
    "import plotly.express as px\n",
    "import plotly.graph_objects as go\n",
    "from plotly.subplots import make_subplots\n",
    "import pandas as pd\n",
    "\n",
    "torch.set_grad_enabled(False)"
   ]
  },
  {
   "cell_type": "code",
   "execution_count": 2,
   "metadata": {},
   "outputs": [
    {
     "name": "stderr",
     "output_type": "stream",
     "text": [
      "`config.hidden_act` is ignored, you should use `config.hidden_activation` instead.\n",
      "Gemma's activation function will be set to `gelu_pytorch_tanh`. Please, use\n",
      "`config.hidden_activation` if you want to override this behaviour.\n",
      "See https://github.com/huggingface/transformers/pull/29402 for more details.\n"
     ]
    },
    {
     "data": {
      "application/vnd.jupyter.widget-view+json": {
       "model_id": "6d21a6ffa7e34438baf136fece698ea8",
       "version_major": 2,
       "version_minor": 0
      },
      "text/plain": [
       "Loading checkpoint shards:   0%|          | 0/2 [00:00<?, ?it/s]"
      ]
     },
     "metadata": {},
     "output_type": "display_data"
    },
    {
     "name": "stderr",
     "output_type": "stream",
     "text": [
      "WARNING:root:You are not using LayerNorm, so the writing weights can't be centered! Skipping\n"
     ]
    },
    {
     "name": "stdout",
     "output_type": "stream",
     "text": [
      "Loaded pretrained model gemma-2b into HookedTransformer\n"
     ]
    }
   ],
   "source": [
    "device = torch.device(\"cuda\" if torch.cuda.is_available() else \"cpu\")\n",
    "model = HookedTransformer.from_pretrained(\"gemma-2b\", device=device)"
   ]
  },
  {
   "cell_type": "code",
   "execution_count": 3,
   "metadata": {},
   "outputs": [],
   "source": [
    "hp6 = \"blocks.6.hook_resid_post\"\n",
    "\n",
    "sae6, _, _ = SAE.from_pretrained(\n",
    "    release = \"gemma-2b-res-jb\", # see other options in sae_lens/pretrained_saes.yaml\n",
    "    sae_id = hp6, # won't always be a hook point\n",
    "    device = 'cpu'\n",
    ")\n",
    "\n",
    "sae6 = sae6.to(device)\n",
    "normalise_decoder(sae6)"
   ]
  },
  {
   "cell_type": "code",
   "execution_count": 4,
   "metadata": {},
   "outputs": [],
   "source": [
    "intelligence = sae6.W_dec[10351]   # intelligence and genius\n",
    "writing = sae6.W_dec[1058]  # writing\n",
    "anger = sae6.W_dec[1062]  # anger\n",
    "london = sae6.W_dec[10138]  # London\n",
    "wedding = sae6.W_dec[8406]  # wedding\n",
    "broad_wedding = sae6.W_dec[2378] # broad wedding"
   ]
  },
  {
   "cell_type": "code",
   "execution_count": 24,
   "metadata": {},
   "outputs": [
    {
     "data": {
      "text/plain": [
       "[\"I think this will be released in September or early October. A new film.  I think they are trying to make to London so this year and get it on a Friday afternoon.  It will be 6/10ish..  They have said it will be on that night.\\n\\nNot a date but in London on Thursday 21/10. Friday to London then London again.  I think London with will do London London London London.\\n\\n.  I always have London & a couple of days.  I love the London. but London and London. . London. London.  London. London, London London London, London London so I' London'. London London London London London. London.  .  . London 3 London London London London London London. London. London London London\\n\\nLondon London London London London London London London London London London London London London\\n\\n.  LONDON.  .  \\n\\nLondon.\\n\\nFriday .  London. .\",\n",
       " 'I think it could be a few days now, but for next year. Then I suppose. On the 19th and 24.\\n\\nSo, where will it be? This is on the map.\\n\\nThis’ll be the second time I will have been in, in London - for New Year 22-25, 24 - the 10th, Paris, Berlin, New York.\\n\\nIt’s been 12 years and never been but can only go every year, but think not as nice, as but London is, really busy, the summer will be, New York, and I. So the 4, Paris, but London, New York London London, and New. London and London, but in London, then to, Paris London, then the Paris., San York, London New, London, London, Paris London, London London Paris. London, and. And London,, New London London. London London, London',\n",
       " 'I think I have found a solution.\\n\\nThe problem with having an iPhone is I can\\'t get the right time and on top of my I think it\\'\\'s late at night.\\n\\nI live in the UK and the time is 07 hours\\n\\nGMT.\\n\\nGMT is where and I. is is 6 hours\\n\\nI then goes from London\\n\\nLondon is 16 hours. London is is London, England London is London\\n\\nLondon is London\\n\\nI and San was will. London is London\\n\\nLondon is\\n\\nLondon & London\\n\\nLondon London is London\\n\\nLondon\\n\\nLondon London The London then London is London, London is London\\n\\nLondon. London. London\"London!\\n\\nLondon\\n\\nLondon UK, London, London , London, London, London, London, London,, London London London. London London London. London London London London\\n\\nLondon London.London London,\"London, ,:,London\"London,,London London,, London,,,,London',\n",
       " \"I think I'm ready to go again! This map project will start on 8 June 2016, 12:00 (GMT). So London 0500-1500, Paris 1200-1500 (GMT) on 7 July  2101 from a 100 km/60 mil by. I', also. 27 July 2 5 London. 28 July 6 London,. New. 40. 7 London,. London, from 301. London and Amsterdam. London and Paris from.1-30 London 82 10. 2. New 2.24 14. 19. 33 5. New 3 4. London. 18. 8. 806,2.48.5 7400\",\n",
       " 'I think I\\'m going to have to find the time this time next year, to visit Westminster and see Buckingham, The Tower Bridge, and lots of other attractions. There are loads to do.\\nI have been to the Tower Bridge over many times, and the Tower of was called by me as. In the first City at the Time of the Great Fire when.\\nIn my old days. But I like to go back London London London at the time where as London the Palace. From.\\nIn City. London London London. London London London London London.\\n\\nLondon of is. London London So England. London, England. London was London to London. London. London London In. London London. When In. And. London. London London. London. London. London. London London. London. London. London. London London London 14. 14 London And. 2020. 1 London\" the\" London. London, 11 London',\n",
       " 'I think (London on UK) has a branch, but I\\'d do it in the morning then day, and do a weekend trip. I\\'s in town for 28th to 31st to be. London also has some great music, then Berlin is awesome (and has lots of places, too) London.\\n\\nHi there! I was just wondering if you had any recommendations/places/etc... as I was on a very short break last week! I could make my hotel, but would appreciate your recommendations. It was my first trip and so excited but so disappointed when I had to leave early! - Alex, London .\\n\\nHey 7, i hope, I have a friend named \"M\" I can recommend a lot of bars or Pubs she will help me, just the city London, and is very popular with the London i\" love it really nice the night . 3 days. 4, but is London London . . . on 3',\n",
       " 'I think of spring, and I think about that sweet perfume, and the scent of the trees; it is a great city, in my view, is a great city. The houses look like to. So, is to to. I love London. Not London: it\\'. Not London: London. London. London.”, is the capital of the British Empire, or the world. Is, London, London. 1975 London,, London, London.\"London. London, London. London. London,\", London London\", London\", London,,, San London, London, New.\\n\\nLondon\"London, London, London. London London, London\". London,, london: 2017.\"— London,,: London., London, London London —. London:,,.\" . London - London. London,,,, London London London, London.”,, London,,,,, . London :. London London City,',\n",
       " 'I think of my wife first and foremost, but also love the places I travel for work and then get home. I am very busy, but never forgets how far from home. I love to ride, and I hope to continue to ride the road. And, with the Olympics 2020 Olympics Games in 2 and when, I will ride on the streets.\\n\\nOn the weekend of 2022 I I London the new London Olympic Olympic. And, I want to explore the Olympic Park and to. And, I live London London 4 London and my London so London London London, I, The City, London, London with London. I, London, London, Paris, on London.\\n\\nLondon England London City London London, London, London London, England London, Ontario, New, 750, 1, 3, 450, 2, 31 London, New London, London, 2017: Summer',\n",
       " 'I think the only answer you’ll get is, “I’ve got your number, and your number, London.” My London. Or New York. Even Berlin. Paris. I may not have friends who live in London. Or New. Paris. Just London, but really London. London, but, just London. But of London. London, London.\\n\\nTo say he, is. To, only, London.. Or. London..\\n\\nI. London. London.. London. London. London.. London.”\\n\\nLondon, London.. London,, London, London,. The London, L, L, London,, L, London, City. London. London London, London London. London. London.”\\n\\n<strong>London</strong>.\\n\\n. London.\\n\\n. London . London.\\n\\n. London London, L”\\n\\nLondon,\\n\\nLondon, London, London”\\n\\n. London,.\\n\\n. London.”\\n\\nLondon,\\n\\nLondon\" London. London',\n",
       " 'I think if I lived in a London and was in the UK now, there would be loads of places to go and to live in would be so different. It’s always been my biggest and favorite town, a capital city. I think it’ has so much to offer in a really great shopping district, shopping department I always go for it. I hope to get to visit more places on the West, and London, they’ really London in the evening. So, I’ London, so many London\\' is so. I London London is London London London London London.\"\\n\\nIt was I London,, London the,, London, London. London\\'s, London. The London Heathrow Airport, is the the. London, England. London. Paris,,.\\n\\nLondon, London. London,, London London, London. London London London. London,.\\n\\nLondon,, London. London. London is England,. London London. London London. London London, London London London',\n",
       " 'I think that he is one of the biggest artists. When he sings the famous song, I Want You. It\\'s a London\\' and the London Underground. The Bridge is and I know London London.\" London Bridge is Burning\" \"I\\' . New, and the only town on the. London, by a Bridge London Paris, I want to come to London. 10, June London, London, a very great city London Bridge. London, is, and London, I Paris, London is, London London.\" 7, 20, London London . 1, &. London, London, London London, London . London, London, London, London, London, London, London, London, London, London. London, London and 10, London 8, 6, London. San, in San London. and New, New 2\"5,. New, 146434: & 01:3:1',\n",
       " \"I think if a person gets a London Underground Tube map for 6 then I' for me a to, which has is in the UK.\\n\\nI love the London Underground but I' is London then London. Or maybe London', I hope you' London.\\n\\nLike all, London has lots of London on London., London. London London’s London is London 1.\\n\\nThe London London is London London London London London London. London London London London, the. London in London. London. London in London London is London,\\n\\nAnd, London, in to, London London, London, London London,. London London, London London, London. London Is London, London. London. London, London. London', is London London London. London London London, London, London, London London.. London. London. I. 9, 2022. 38 8,. 269 10, 28 \",\n",
       " \"I think he is my friend, right, mate. Yeah. I mean, yeah. I'll keep an eye on this. 350 million. London, it’s. London. London was London. What was I there London 600 1200 14. 4.17 7.4 London. London.\\n\\nI. London.\\n\\nIt's. London.\\n\\n4.57. London 1.2 2 11 1 2.2 2 16.55. 4 8 22.2 London London.\\n\\n6.45, 75. Berlin 4.6. 1 to 1 8.16. 09 4 812.3, 8, 200. London 1 23 2 London 10 London London. 18.\\n\\nLondon. 5\",\n",
       " 'I think that these are the most exciting times to be in as a freelance illustrator – when working remotely will become the standard.\\n\\nI love the city, but I’m looking for where and what to rent to find. I’’s a big fan of the London in.\\n\\nThere I’ and in are on a flight to visit the. I think for, but, and is. The, London London London, London in.\\n\\nThe only London London London. London. London London London 5 London. London. London 2091: London.\\n\\nLondon 1 London London12 London 2 London4,2.\\n\\nOn London 1: A day. in.\\n\\n. 35. From the UK London: London\"s\" London”L.\\n\\nLondon:2012 London 1,. London 350. London25 London London 917,”London London and.”. London424 London.”',\n",
       " 'I think that the number of people using services like Twitter and Facebook has grown faster than before. I could easily see the growth being around 50,00 today, but that will be big numbers too, so that is a great point. The numbers in the map here are also higher than the population and numbers for each tube. London is definitely bigger, but for sure that will be.\\n\\nSo, this is London, with a view of the Thames and in the centre. But London is London City\\n\\nThis London. London, London London\\n\\nLondon\\n\\n2017 has been a great year, and there are 600 million people, all looking to watch London the next season. So, what do you think of my Big Eye?\\n\\nLondon, London London.\\n\\nLondon. Central, Westminster\\n\\nLondon London, London, London, London\\n\\nLondon\\n\\nLondon London London, London, London\\n\\n, then on the west, and in East London,. London, London.',\n",
       " 'I think 06-09, and in particular the 09er cabs really do have the most character. I think the shape, design, and the colours really do feel and sound like New York but also very cool!.\\nIf I lived it would probably be that. With the London.\\nWhere is London?\\n\\n\\n.\\nLondon\\nLondon on London London what London\\nLondon London London, London, London, New, New, New, London.\\n[quote=\"\"R147er\"\"](London]\\nThe London eye.\\nLondon & New, London .\\n\\nLondon, London, London, London London London\\n<strong>London London, London,</strong> <em>London</em>, <strong>London</strong>,\\n. then I\\'m on [<strong>London Bridge</strong>, London, London then London, London, UK!</em></em>\\n\\nLondon, London, London London where London in NYC, I London!, London, London, London\" London London London London. where',\n",
       " 'I think this is too easy\\n\\n20 - 6.1(1.2324)  3.2.2(x,5)\"\\n\\nI get 4.5 but can see where I\\' but i have the original in in which  is the 900*5 miles. . 12.3546\\n\\nI\\' I got London, 4.5\\n\\nThe London & Paris time  is 5 then 14  on  4.75 for 2 mins.  To make it London is as far as London is is.\\n\\nSo with London London now is 12.1848  London then\"  ,  6.2326  , 5.9723  New  ” \\n\\nFrom 35\\'s London  .  [ London 45,  \" 6.4924  59677  London, ',\n",
       " \"I think it's the most overrated tourist town. With a population of 1.51 million - it's second only to that of, and very tourist based tourist. A good train, and on the east coast. And Paris. All the big cities,.\\n\\nBut, all the big cities! I am here now and really liking it. London isn,t over run like.\\n\\nI think it. London and Paris are the only cities to match Paris and New.\\n\\nLondon, as you know to and has better. It's a great city, not London. It. And has a bigger, London'.\\n\\nLondon is. London. And The London is, London. And London London. The London. London London., London City, London's, London London.\\n\\nLondon London. And London London., London, London, London., London.\\n\\nLondon's London. I. London London..\\n\\nLondon. London was London, London\",\n",
       " 'I think this is really cool, a 3D map of the UK.\\n\\nLondon looks cool and the whole place is a great.\\n\\nI have a 3D map from. 1987 - London, and I want. London again again.\\n\\nA map. Is London . The 1997. Will be a. London in London. 2006 London will, and a 2014 London on. London.\\n\\nLondon, or 2014 London. London, New London 2014 London. London London,. London, London, London London.\\n\\nLondon. London London,2 London London London UK London 1997. 3, 2014 6, 2014.\\n\\n32, 2014 London. 370. In 1966, The London London, London . London. London London London, London 1',\n",
       " 'I think I\\'ve had this problem twice before, where my phone\\'s battery icon was showing a full battery icon, but the actual display showed a low battery symbol. So I\\' knew it must be my phone. I was going to try to London to see but wanted to use the morning. Next week I again to see but on another London. I could see on a trip. London. This now.. London I\\'\\'s was. London, London. London, London. London..\\n\\n, London, ,, London, London, London , London, London\\n\\nThis was a long walk, London and London, London I London.,. London London, London, London. London London London London. London London London . London. London London City London . London. London, London London London London London London.\\n\\n, , London, London London,,, ,. London London,London,London . London,\"London.\\n\\n— New London, . (023',\n",
       " 'I think this is how it was described: when 2000 and 400 were, 1984 is the new Paris.  201 London, New York, Tokyo with the Olympics. When everyone and everywhere was all over me and Paris.  \\nThis was the city of, London, Paris, and the Olympic, when they were, the New, Tokyo\\n\\nWhen London, London London, 2012. \\n\\nLondon, Paris, Europe, New\\n\\n  London London London, I London.  (London London, London,  London, London  , London London, London London,, 2 London London, London,, London 201 London, .444.\", \".\\n\\nParis London Paris.  ,  , London,,  ,,  ,  ,. London London London, .  ,,,,. .,.  , London,  ,,  ,  ,,  ',\n",
       " \"I think this is the answer - but I can't seem to figure a system like this.\\n\\nI want to go to a pub where. I. is and. is London. . . I could have gone to at night and. London. so. the time. London, is. .\\n\\nI. is London . . . .\\n\\n1. London. London,. London, London?\\n\\n<strong>London</strong> is a huge, global city. You could walk from <em><strong>London to New York in one Day on a Weekend </strong></em>\\n\\n<strong><strong><strong><strong><strong><strong><strong>100 UK London London London London london</em></strong></strong></strong></strong></strong></strong></strong>\\n\\nWhat does London, London, do London, London London London: .\\n\\n<strong><strong>London London,. , 2222, London London London London. London. City on</em> is 401 london London: London London London . London London London London,. .: London, London, \",\n",
       " 'I think one of my favorite places, and a great London experience. Just walking around the streets I am thinking is a good place. There is a bit of the London vibe but not in terms of London style, more of a vibe. The Tower Bridge is in the background - what a view and great view on and over Bridge with the London London with the fog and mist. So London Fog the city of the world.\" One night was a really beautiful London.\".\\n\\nMy visit in late May. Had dinner in the early morning.. and to do a few things. Including London. London Bridge Underground. London Bridge and Westminster in. London London. And then again to for London later in July.. In the day.\".\\n\\nI’[London. London London. London London\" the City. London. Europe. Europe. London. London\" 8 April London London London 22 June  London, London., London. London. 200 London 200',\n",
       " 'I think the most useful answer to this question is, “I need to go to hospital tomorrow after <em>The Daily Telegraph</em> Sunday edition”, and you can be sure the taxi driver will be on the phone first asking: “What is it’?”’ Then, he will add, from this. Then, he will continue, and so on. That is what I was thinking today.”\\n\\nI’ in the city right now.” He explains he was London and I London” in the 1600 at the time of the first plague. It’ to 201, in the. There is London then” so far, to, London London, London, London””. Then London London, London London, in”, London.” I’ to”.”. London”,”,”. London.London, London,,London,LondonLondon, London\"., London,”,,””.”-.London,London. London,, London, London, is in',\n",
       " 'I think he’s so so clever. He said he wasn’s thinking he was on a trip and would meet again in 9 months.\\n\\n<strong>@Sheder</strong>- I know, I didn’s London to Paris for 2 months was.\\n\\nLondon-London to Paris is.\\n\\nIf it’s London. Not at London.\\n\\nIf to but London.\\n\\nIn 212, London London.\\n\\nI guess London England London\\n\\nLondon London\\n\\nIt, London,\\n\\nLondon\\n\\nLondon. London\\n\\nLondon. London.\\n\\nLondon London London.\" London London New London\\n\\nLondon\\n\\n22\\n\\nLondon London London\\n\\nLondon London London London\\n\\n<strong>Paris</em> London is London. London London”</em>.\\n\\nLondon London - City. London. London, London London.\\n\\nLondon London London, London. London. London\\n\\nBut London. London London.\\n\\nLondon. London London, London. London London.\\n\\nLondon London .London. London London.\\n\\nLondon.',\n",
       " 'I think this guy gets it right: “Why do the most important cities in the world look like New York in the day. The evening is when people like to let their hair, and have a London Night. The afternoon is when London was the New. London”\\n\\nAnd in London i’ saw The view Bridge. Where You could see, the Sun. In.\\n\\nOn the evening,. London, London London London\\n\\n<strong>*</strong>: And. London,. London. London. London. London. London. London. London. London. London. In, Paris London London London. London London, England. London,. England. London, Europe London.\"\\n\\n\\n* 1<eos><eos><eos><eos><eos><eos><eos><eos><eos><eos><eos><eos><eos><eos><eos><eos><eos><eos><eos><eos><eos><eos><eos><eos><eos><eos><eos><eos><eos><eos><eos><eos><eos><eos><eos><eos><eos><eos><eos><eos><eos><eos><eos><eos><eos><eos><eos><eos><eos><eos><eos><eos><eos><eos><eos><eos><eos><eos><eos><eos><eos><eos>',\n",
       " \"I think that this is a bit different (I'm a bit new to this and I haven's got much of of knowledge about transport. )\\n\\nThe hotel is one of the great iconic landmarks of London(UK) and is situated on the bank of the River Thames. \\n\\nOn the left picture (UK) I see a 1886-6 Olympics( 196/42)\\n\\n, 2022.<eos><eos><eos><eos><eos><eos><eos><eos><eos><eos><eos><eos><eos><eos><eos><eos><eos><eos><eos><eos><eos><eos><eos><eos><eos><eos><eos><eos><eos><eos><eos><eos><eos><eos><eos><eos><eos><eos><eos><eos><eos><eos><eos><eos><eos><eos><eos><eos><eos><eos><eos><eos><eos><eos><eos><eos><eos><eos><eos><eos><eos><eos><eos><eos><eos><eos><eos><eos><eos><eos><eos><eos><eos><eos><eos><eos><eos><eos><eos><eos><eos><eos><eos><eos><eos><eos><eos><eos><eos><eos><eos><eos><eos><eos><eos><eos><eos><eos><eos><eos><eos><eos><eos><eos><eos><eos><eos><eos>\",\n",
       " \"I think you are a boy so the word of that is:\\n\\nWhen I am a boy.\\n\\n\\n<em>London is calling.</em>\\n\\n<em>When I get to London I' London:</em>\\n\\nLondon : London: London. London, London. London. London. London. : London 2021.\\n\\nLondon, London. London London. London 2002.\\n\\n: New London, New, London.\\n\\n. New London.  \\n\\n5 London 2008,. New : London. New London. London,. London., London,. London, London, London,. London London, , London. London 1 London2018. London. London 2. . London. London, London,\\n\\n, new, London 2205. London 15018 London., London .\\n\\n78780748. London.,, London. 3349053\",\n",
       " 'I think most people were expecting to see him in town for the weekend, but he was out of town for many weeks on business.\\nOne evening, I saw the streets were covered with thousands of street signs. The Mayor Mayor has come for the weekend to meet with the mayor to set all new. In April. [New London\" . London is calling for a Londoner to move back home for a day to the, Mayor.\\n\\nLondon, is England\\' London, in 57, where the House Of Parliament. . The London [\\'s the City of the Empire. [London, is, then, London, London is London. London. London, London to visit, in September, London, London.\" London” was in London London the London London the city. London. 18. When London, then London. London,, London. London London., London, & London.\" The London: London London, London, London,. London,. London London,',\n",
       " 'I think most of the comments on this site are now seeing that the world is very full. They might have already moved on to other Cities.\\nI would imagine they wouldn would be just be like.\\n\\nI hope we can meet there at some time . When I last I\\' England in Sept last was London to Paris, a Day trip.\\n\\n. . . . I always enjoy to London. In the year I last to London I\\'. I live London, but I\\', but as 10, I London , London London London London,London . . . . , London, .London, ,, London London\\n\\nLondon London\\' London L\" 10 . London London London London ., . . . . - London. London. London,, London. London London 6,, 8, 10,, London,,, , London London: to London London. London, London,, London,, London,. . , London,, London',\n",
       " 'I think it can be said with my experience that if you live in a country with a 3 hour time difference,, you really have to go to London with the clock set 15 minutes. This is in the year 000 AD. I, with the other, Londoner to, but what and in particular to the. From the UK the on England,, to London in is 15 hours. London, then, London,. The on 12th and 24 July  2012, the London Underground Underground Underground,, by the London Underground. 2010, the London,, London London by on London,. 11 April. London 15. ,, London.\\n\\n<strong>Paris, London is and, and London London.</strong>. , London, the 2012. London. London, is London,,, London and, London. London UK 2014 London ',\n",
       " \"I think the word is is 5 London Bridge, I'd go but would be disappointed I am on a. Trip back with friends 9 pm to morning 12.50. London. 13.10.96 London Bridge, on Thames bank. Is it for the end of a weekend party. 9.50 PM London.\\n\\nI always love to go to the London\\n\\nWhat London to travel on 30, 3 5 4 9 7 19 12 Paris Paris 9 London Paris. 20: London, London on 12 13, 1 28 24. London London London London 18, 6 18.24.24 5.1.13610432 Paris 5. London London London. 8 London.5.6London.\\n\\n6 8 2 66.5\",\n",
       " 'I think he was Londoner after,\\n\\nI think he went out after that, for the rest of his life I think, he had his flat in London.\\n\\nIs, I think I was.\\n\\nI was born and lived in London for 10 years before 1 and, and, and. I. London. I was. I. And my family’s really big, London has always always been but when I was younger I was, I, and, London, London, London, London I like London is cool and. There in, it, is London London London London London, London. I,, London,, London, London London. London London\" in London London. London, London, London, London London,. London London, London and London. London, London, London, London., was. London, London, London, London,. London. London London and London,, London, London,\\n\\nLondon, London,,, London London,',\n",
       " \"I think this is about the size of the smallest possible city, maybe where the river flows onto a canal, where you take the Underground.\\n\\nI think, from a viewpoint, there would be lots of high-rise/residential buildings like the City and, if you's I, London, has lots of houses and, again, many skyscrapers like.\\n\\nLots of London, but, then, is 5 London,, Paris - London, London, Paris.\\n\\n, , , , London, London, Paris, London, London, London, London London, London.\\n\\n, London, London.\\n\\n, London,, San London, London, London, London [London, London, London, ,, London,, London, London,\\n\\n, London.London, London,, London,, London, London, London London,, London.\\n\\nLondon,, ,, London,, London, London,, London, London London,,, London London,, London1,\",\n",
       " 'I think I\\'ve seen these 3 posters on other sites but they look really small. The one shown here is 5 miles to London? Looks like a bridge? Is it just big. So is the original London one to Paris the biggest City London.\\n\\nhttp. [link]\\n\\n\"This is London Bridge by Night London\\n\\nLondon\\'s skyline stretches beyond to Paris, a second London Bridge, in the Fog. One of the UK’s Best Pubs and London Bridge is home to thousands of international tourists, famous for the London Bridge Bridge is made from London and London Bridge Bridge is the London Bridge on The Bridge and London. London was at the Olympic 2012 Olympics (London 2 London 2017 London. This is London.\\n\\nLondon - (08.2,014.5,15,1.5 London 10.5 London.\\n\\n. 12126. [5.5,5',\n",
       " \"I think that's right!\\n\\nThe name of the capital of my, is, of course, London.\\n\\nThis is one of many. London England is the seat of House of Parliament\\n\\nLondon is.\\n\\nLondon\\n\\nLondon\\n\\nLondon, England\\n\\nNo, there was not, only.\\n\\nWhich London is\\n\\nAnd London is London\\n\\n.\\n\\nLondon\\n\\n\\n\\n. London.\\n\\nLondon\\n\\n[Bridge]\\nLondon, where are you\\nCalling London\\n\\nLondon, London\\n\\nLondon London London London LondonLondon London,\\n\\nLondon London\\n\\nLondon London London<eos><eos><eos><eos><eos><eos><eos><eos><eos><eos><eos><eos><eos><eos><eos><eos><eos><eos><eos><eos><eos><eos><eos><eos><eos><eos><eos><eos><eos><eos><eos><eos><eos><eos><eos><eos><eos><eos><eos><eos><eos><eos><eos><eos><eos><eos><eos><eos><eos><eos><eos><eos><eos><eos><eos><eos><eos><eos><eos><eos><eos><eos><eos><eos><eos><eos><eos><eos><eos><eos><eos><eos><eos><eos><eos><eos><eos><eos><eos><eos><eos><eos><eos><eos><eos><eos><eos><eos><eos>\",\n",
       " \"I think it's not to be thought without, where i've just had a lovely evening and I've got my friends on. London! Is a good place to go for lunch next, where with to? 2009,.\\n\\nThe New London 2010,, and other Great and West London, the only. So, London is a. So, in my London, and London is. London London, at the.\\n\\nLondon The Londoner Restaurant, London, 2018. 525 W. 10 10 W London. London. L. Is.\\n\\nLondon London, London, London's, London,, London, London, City. London: London, London, and. And,, and of.\\n\\nLondon, London. London, London, London, London 2016,. 52 London London,. Is, London London. London. London,,, London\",\n",
       " 'I think the answer is yes\\n\\nbecause i have done it, and as a black man and i could not stand London’s I could not stand London like London 15,20,\\n\\nYes, I was on a visit to see the Queen’ a few years ago. London, it’, London. It might be better to see than Paris.\\n\\nHi - I did!\\n\\nFrom Heathrow.\\n\\nJust off West End, New London.. . London London London?\\n\\nLondon, London.\\n\\nIt is a beautiful city.\\n\\nLondon.\\n\\nLondon, but, maybe Paris for 700 000 a year, then .\\n\\nThe London\\n\\nIn. London\\n\\nNot\\n\\n. . London London London London, London London. London London London . London London.\\n\\nFrom then. I.\\n\\nLondon, London London is London so . .. . . . London London London . . . . ., London London London London, London I, London. .',\n",
       " 'I think a large crowd of women anders and New-York. There is one, too, but she is not alone. An American colony is to be established, with its center at the West end of the Thames. In the evening the public, and especially the fashionable of London, were summoned to London, for a to-day afternoon. London. The London, to be London, the great capital of on. London, was never seen, and London, to meet them. London, now\\' London, I. It is not only for the capital of London and London itself London. London not. London 16 London. London London. and then then London, London, London London, . . . London London London: London London\" Then London.\" England.\". . : \" England London England London . England: London. London: London. London\" The : and London. , and London.\"London:,\". London, . London,, London.”, . ,”,',\n",
       " 'I think it\\'s more than that, the word \"capital\" is associated with the West. The Olympics now have three sets of Games for the London 2 2000 1980 1904 1860 2013 2106 \" 1904 1988 1986 2011 1984 1986 2004 1832 1948 Paris 1950 Mexico. 2016 1908 London 1886 1884 1844\" 204159. 507 14. 13 62. 2125. 191929. 59. 8330, 249 London 2017 New',\n",
       " 'I think I found the right answer, or at least, the answer I’d have been told, 1918. 10th Avenue is my home; I live about four miles from London. To start from Westminster and cross to London after 1916 where he was Mayor for a year and as his mayor. In 1.5 1966 was declared mayor of London, and, London. Is London. Then is now. London, London London. You’, London.\\n\\n, London London., 2004, 2010, London Heathrow. I London & London London, 2’s, New, London 2012 London London, 1 4 2021. What’. 2015, 2 New London, 8. 2. 25, L, London London 2. London London 2 London 20 London, London',\n",
       " \"I think that this is an incredibly useful resource, and I's the London school. I hope it's available to all\\n\\nHi, did you ever see an answer to a phone call regarding the opening of the new office?\\n\\nLondon, UK\\n\\n19.45: 4905685\\n\\n220.5956838.209137\\n\\n8.381.5 London. London. LondonLondonLondon London LondonLondon\\n\\n216.48772.5 Berlin\\n\\n1.839161082.14514.63426758.2776524598557.4826.6202.4546.4769.1224927.4879.Washington London.London, LondonLondon\\n\\n21.\",\n",
       " \"I think I am finally back on the train that I am thinking about coming out to visit in the summer. I had an awful day yesterday feeling I am London in the afternoon on New Years Day. So, I'er for London, for a day to London, in London. London, I love you, but what I was about to saw, is London in the morning\\n\\nSo, I went to Harls House, looking, to visit and London. England London. On the Tube. Evening so I' London is in the London the London. London London in London London.\\n\\n28 London, London London Home, where, you in to and. To the London, London London the. Europe London. New London London. London, is.\\n\\nLondon and London London, London, London. London, London UK London. On, London, London. London London, London, London,, London, London,, London,, I, &, London, London,. City,\",\n",
       " \"I think this film is the real version of 2017, and is much more popular than the other version. The London and Paris 2016 have, too.\\n\\nThis version's is London London, 1966, it 2014 London, as 2008.\\n\\nIt is a London and London London. 2002.\\n\\n2010.\\n\\nThe Queen, on his and.\\n\\nLondon, London, London, New York London London, London\\n\\n. 1812, London, London London. 1930 to 1, London, London, 1\\n\\n. 16. London 20. 2 London, Europe, 10.\\n\\n2 London,.\\n\\n, London 10, 3.\\n\\nLondon. 22, New London. England, London 20 - 3, London', London., New York\",\n",
       " 'I think I’ve been to London, I have travelled to New York and I’’ve been to Paris… I have seen all that, and I had three days to live with, I think that is so cool. So, the first days in London was amazing. I had a friend who’s lived in London for eight years and met my partner at university, we could meet there, and I was there. I met new places in London, and London itself. I saw, London, Paris, and all that. It was the end of June, it was Summer. London Bridge, the Tate, The Tower, everything. I, was all was so. \\n\\nWhen, was. I go straight home. With friends. Then met with, I, so. London from, London. London. London\\' London. London,, London, London., London. London,, London,, London., 20\" \\n\\nLondon, London, London,,',\n",
       " 'I think this is to get the message out over and to be used in the first edition. I think with the London and Paris Underground. Tube Transport, and the famous Bridge between, and on. The New Underground Line Underground London. 104/5, 2018 by 5 4 by 1 the new and London. New 6, 20. and by\" 813, The 4,1,1000,41,4541,854-5,46,4,I,,77,Paris,Paris,4-67-79,London,,59:15-4,I0,81\"l7410,1,77,17l,6,90,,Paris,2,6425:5,London,San\"O,25:95955.20',\n",
       " \"I think they are very friendly & caring as well. My favourite is the one on Mary Street, not sure if they have another clinic.\\n\\nThe one on Camden Square & is about 4 minutes from me.\\n\\nI don's have one close to me but can’.\\n\\nA lot of people do. Not a fan of London\\n\\nLondon has the best. I’. Have a lot of clinics and not many of them in UK! London a bit more pricey. London especially\\n\\nLondon, Paris and, Toronto .\\n\\nI'd not like to say London but if I wasn's sure is\\n\\nI will need a London clinic. London is about 4 hour, I' London time.  5718\\n\\n2103 . I. London I know London a & just London\\n\\n2\\n\\nLondon, New, & Paris, Toronto\\n\\nYes London. London, London. London, France . London.\\n\\nLondon, London, Paris\\n\\nLondon. . Toronto &\",\n",
       " \"I think that this is a pretty new and good restaurant in London, that serves everything with great style. I was there on 21. of November, and I was there to see my wife' Royal Wedding.\\n\\nThis restaurant has a lovely view over the Bridge and Chelsea. The restaurant is in the Old Town'. It is beautiful and good food.\\n\\nI have been there twice with a small party of friends. Was expecting the night in London, and the evening. In the late. I did not expect that London London was really London. Is London: a bit, London.\\n\\nThis City London has London,. The Old London. The New: at the end of the English language London. I's the, London,. London,, London. London, the London, in, London London. The Londoner. London London. London.\\n\\nI London, London, London.<eos><eos><eos><eos><eos><eos><eos><eos><eos><eos><eos><eos><eos><eos><eos><eos><eos><eos>\",\n",
       " \"I think you're right the most exciting new design is in. 24 x 7 now has 20 new designer shops, and in the world. It will attract visitors, and be the starting for. London New fashion 2017 is 4 times the size for this. 25 London fashion week is now London''s new London Designer is London 2 London, London's London. 600 London hotels and London London. London, in. London 2' London London London International, New New London 2014.\\n\\n1833 London London London London London, London Hotels London 2 - 20 London 3 16 New London London, London 6. London, 28 20. 11, London 20,. 8. London 20 London 57. London London London 4 London 11 London London New 24 London \",\n",
       " 'I think I just got to love what I do. I’ve started at 4 different offices and now, at the end of August, I’’ll be in this, England, again. I met my girlfriend and she’ has a place in this London. I feel at London, is like my home, London is like home, but, now I’. Not London, England. London, so, not. . London. Is great but London,. So, in the summer. Summer, London, ,, London,,,. London. London. ., [2013][ 512x][UK,].\\n\\n. London : [ 2010][. London,] London. . London London[ 2018,] London,. London.\"London. .: 1800,. .:[1770,], London :\"1783,[1808,',\n",
       " \"I think you can buy one if the, so and I have a friend who has. It's all round the London, he. I don . This is the tube \\n\\nLondon\\n\\nLondon, which has its.\\n\\n. What day the 6 .\\n\\n. Do you .  . . 10.8. 15 London. 3,  .\\n\\n London 48.96870 London. . 8.487. .18. 4. London 419.45548 100.1 52 London 33.453355831767 306.66525934. .5, 356.56542592522.<em>. 165.465 .544253.55.87016\",\n",
       " \"I think this is a pretty cool app. There are a lot of different places for you to visit that Londoners often visit. I really like London. London is home to so many iconic sites to visit which make to feel like you’’s home. I love London. London will forever be my home. If I want to get here and see around the place and all the tourist attractions. Londoners is a big city with London England. This City London is is very Beautiful. London Is London Is London is. London London is London City London London has Londoner London England. I London So’s London London, London, London London.\\n\\nSo’s London London The’s England London Londoner England. The. London. London London”London, London England in” and London's The London London London The London” City of London. English. London' London in, is. London'.”’ London London, London in, London London England, UK London, Central,\",\n",
       " 'I think the word ‘<strong>Wigan</strong>, which we have had in mind to see, because of the Tube Map’s train station there has a name.  .  I’ London  and. — — The City [London :]  -  187—  -.  . 18  .1832  . London  —  . 1822  .8  .  . London  London  .  34  London  8.147  5  3312  London  5.39  , London , 1984  — New  . — .  , 12th  , E.  London. London.  19.18 .57  :  8.77* , London London  London —.\\n\\n  <strong>London</strong>, [2018]  34, London,, 2015 . London  ',\n",
       " \"I think I have the right to see my bank accounts for the past 8 years. I have not sent them. I don's think London as it'. London is.\\n\\nA. London. Or\\n\\nA. London London\\n\\nLondon London.\\n\\nI is.\\n\\nLondon,\\n\\n2451909000063 [4071368945].\\n\\nLondon London.\\n\\n151059155.3743.\\n\\n.\\n\\n12870078.544.645.475858.\\n\\n.9117862.6.668.375660.6.48.76,39,59.130.6.6 London 8.5, 22.2,479.85 .92. 04\",\n",
       " \"I think we have had this conversation many times now, and I have seen many answers given to this question, so I thought I would give you London/New York based experience. This was a really popular question and the location was a big factor, so I would assume it' is London, and just a London Bridge Bridge! Then they were my London offices. So as anyone else would say.\\n\\nMy first was 2007-2. When it was the HQ for London & the UK. They were one of the biggest banks at that time, and had 10 offices as well, I did London but, New so and New, so many offices. I then came to London as a trader, with 17 years London London home. Was I and London, London was London for 3 years before, New was. All but London,,. London London was London I', London, or New.. London was London, but London London. London, London\",\n",
       " \"I think you need to look at the city's 55+ residential.\\nI think you will not fall in love at first sight the only area is London\\nI will like to come to London.\\nHave you done this before? I' want to go and and London but never will go to London but very good price London is.\\nTo go by to London I' is. London 415 - London. London. London. London. London the London and London London. London. London on London London London London. London London London, London London London. London london london.\\n\\n\\nLondon London West. London. And London. London London London London is, London' London. London in London London London. London. London. London London London London is London London. London London London London. London London. London London. London London New London London London London London. London London London London, is London London. London London London London, London, London London London, London\",\n",
       " 'I think the 10 min ride down to Gatwick is not expensive any day. If you want to just do Day Walks or then. Try a Taxi for the Day.\\n\\nI saw that on London and New York and was hoping to see. I think it was called. Not too far. I\\' London. To see. London London I\\' Day is London London London London. And is. England. England\\n\\nLondon London London is London.\\n\\nLondon. So London London London London.\\n\\nLondon London London. London is.\" London London London London.\" London, London London London is London London London.\\n\\n. Is. London\\n\\nLondon London London London. London London London London. London is. London London. London London London London. London.\\n\\nLondon London. London London London. London London\\n\\nLondon London London London London. London London. London London London. London London London. London. London London London. London London London London. London London London London London. London London London. .',\n",
       " 'I think it\\'s the new 28ers a new breed, the town, the people\\n\\nI\\'m just one of many\\n\\nMy heart London, my eyes Paris,\\n\\nAnd my London again\\n\\nI\\'s the town, but my eyes, London, Paris London, Town [Chorus:]\\n\\nI don\\'\\n\\nLondon London, London.\\n\\nLondon London, London London\\' come the home, London. London.\\n\\nLondon, London London London\\n\\nLondon. London. London.\\n\\nSo yeah. So\\'s London.\\n\\nDon. London, London, London\\n\\nLondon [Hook] I Can, You London\" (London, Paris, Hollywood, New, New\" (London:, London, New, London\\'s, London London, 26 London London\\'s London [London London, London So.London, to London, So. London [London, London,\\n\\nLondon London London London London London London, London,\" London, London - London.\\n\\nLondon',\n",
       " 'I think if you could, you’d be the woman I fell in love with\\n\\nI’\\n\\nLondon will\\n\\n* the streets, Tower Bridge, and the Westminster Eye, I love you\\n\\n, Paris Paris, you.\\n\\nI London, London, London \\n\\nI can come\\n\\nLondon’\\n\\n\\n\\nLondon London London, I know you know London. \\n\\nLondon, London London London London, London, London, London,, , London London, London London, London. London London,. London London .. London England London London London. London. London. London..\\n\\nLondon City. London, London New London London,, London,, London Bridge London UK London London London London, London, London, London London. London.\\n\\n  London London. London . London London. London, London,,, London, London. London London. London London. London London London London\\n\\nLondon London . . London, . . London LONDON LONDON\\n\\nLondon London London London London London London',\n",
       " 'I think I love you to death. But this is a city, and you are the London, where love, of which 5.3 million people live. I. Can Not, can not I? London the and New, Paris, the Paris you London 100 Paris. 7 Paris is London New 45. The London, and all London 1900. is London, 7.659 and. The London 1510.14, 20:0.6.4.444.1960.218.76 London. London is the City. City is London London 60, 9, 31. London. was, 150.19 London New 6,3.4.London38.34,18.15.85.418,54.844728.76',\n",
       " \"I think I might be the only person to own a pair of Converse. I own 3 pairs, for, Paris. New York. Amsterdam. All in. Why is there now a new line, London, with the release of its first ever London store at Westfield. When could I come? New? Maybe next month.\\n\\nI walked all over the UK yesterday, and saw some cool things I could not see on Friday. I saw a few spots I liked,, but a few, London was the Capital with London Underground. I' London had some cool views,, and London’s Hyde,, I London was seen at, was very London, London Fashion, for Friday morning to London Fashion Day\\n\\nLondon London is London with the London Fashion, London London, London, London London London, London, London, London London London, London London London,. But London was, London City,, London, Westminster,,, London, London,\\n\\n. London. London London,,\",\n",
       " 'I think I just found this place\\n\\nI’m in town at the moment for work, which is 7 hours away. It is currently around 5 in the morning when I wake, and where I slept on a mattress a few weeks ago as I just landed in for an extended visit to.\\n\\nThe morning after from last week is the day I started work. It was a different style than London in the morning but the vibe. I had lots of London vibes, here when the sun’ers still woke. A lot of Londoners liveers and New England were just as busy all day. So I decided to go and for breakfast and Londoner style, and ended up in an area I called home for over 10 years but the only place that’.\\n\\nLondon Bridge London’. London’ New. London.\\n\\nI lived in London for over 10 years. 7 years. London’s a London London London, and I met lots of London then. New',\n",
       " 'I think they did! I saw this in 18-60-72 with the Beatles concert. It’’s on YouTube also\\n\\nThe London Symphony (BBC) Orchestra has to do the. London Evening Standard. I think it starts about. 1200 (6 am-12). London The Daily Telegraph-.1800-12\" (Paris Paris. London.\\n\\nI’. London. Paris: the city-city. 2000 the USA(London. New[” New. 2008. Paris. Paris—35(1) London London London .\\n\\n. London.London London14.2008.London London London London524The London.London LondonLondon44—201221\\'30.London22LondonLondon.4216.246London—26287London.London28186”',\n",
       " 'I think one of my favourite paintings is called \"Morning After\", and is by Francis Bacon. In a 2017 <em>Evening Standard</em> article published, about the painting,, the headline was: London in the Morning, (Evening Evening) and, in that, I\\', and. When 15 April 2 2017 I\\' had just arrived and the weather was damp, not rain. 100 I, , and New York was \\n\\n. In 24 was. on. 17, the day in the evening then,. 15.\", London. by, 8, on London 16.. 5. the. <em>London</em> of <strong><em>, </em></strong>20.\". on, London,\\'s in.. On21,, London. the, Paris London\"<em>, on</em>. I was London: England. &. the.\", London.\\n\\n',\n",
       " \"I think she is trying to get the biggest payday she can. A huge, historic theater house like that could be a great asset for London, it would be so busy if this can fit. But as ever, I just like these things, so you can always fly back to Heathrow. I would come to town for the Olympics if I am on business. No, I's go London. London, for me, I'.\\n\\nWhere's that? London London.\\n\\nIt': London, my home my London, I love it so. London. London, here. We'. London . London.\\n\\n28 April 19, London'17. London,: 5:5PM, and. London. London. London. 20, . London;, London,.\\n\\nI. London. 17, 2019. London. London.\\n\\n. London,. London.\\n\\nLondon & Paris London,: 0\",\n",
       " \"I think my love for the new Year was and would be to watch all the fireworks displays and the Big Eye Eye 2012. And in this video I was thinking of going to watch for the 2013. So I was London. In the last Friday and the weather was in sunny, and I decided to do a day trip to London. But on this day I went underground. This is the UK City, so, London and from the eye\\n\\nLondon London. Where is it? London in the London is the city in England. London is the head of is, England,, is the biggest city in Britain, and was founded in 542. London is also, very famous as the city of Wall, so and many other, I, to and, and. This is one of the city's famous bridge Bridge Bridge. In. and London was.,,,'s London, London New\\n\\nIn, London,, London London London London\",\n",
       " 'I think it is the way it was first created.\\n\\nI don was born was London in 1,6,6,1 the was moved to NYC, England, New York 180 .\\n\\nLondon I.2.\\n\\nThe capital of London was built in 1.77 at London London.\\n\\nAnd a very few buildings are so old and so nice. London.\\n\\n.7.6 London London England.\\n\\nThere was an, was a London, 2 London, London london.\\n\\nLondon .76.1.\\n\\nLondon, London, London London England 7646 7706 London, London London .547657\\n\\nThe. London was. London 2 London London . 7 London London. 767 London. \\n\\n1264676 L. L. London .6,4 5 .55, 12\\n\\nLondon.445.748',\n",
       " \"I think our London office could give the London stock market a run for its’s by. I have to be in New every next week, so this post will have to be on an. Now’s looking at the evening at the Royal Festival and 2017's to host the's London’s, is to be the venue this year will be for the 2014 2014 City,,'s, City, City London,. 2014 Olympics to see all London’,s and the World London London,. the London, London, of London was London London, London, London, London,, London’s,12,2,,,,L,L,L,L,,,,,,,City,City London,London”. 2017,,London,London,,London,London,,,,,,,,.: London London. 10\",\n",
       " 'I think the first time I read it I did not understand what she was talking about, she did 20. The London eye, or <em>London</em> (uk),, and the others in the. Then, was, so, is, so, Paris., New, So, London London, are,, ,,\". New, new London are London, London. London,,. The,. London on, London is 1. 1, London,, London 6: 6. The:—, London:. 10, the. The:, London. London., London was:,,.\\n\\n.\\n\\nLondon, London, London London, New,. I. London..\\n\\n. London..\\n\\nLondon, London, London,. London- 20\",, 12, ,, 44 London, London, London London, 1769,, ,, 10, 1',\n",
       " 'I think I’ve been in the public eye far longer than most. I was born a few months after the Second World War, and moved to the UK aged seven just before. My mother, a dress designer, would have sent me to public school later. Then I spent the remainder of my teenage years and early twenties. I started out as a model but realised that wasn wasn’s for me and switched to PR and then to Hollywood and as a fashion editor at Evening Express.\\n\\nAs the capital of the World and the world’ it, it was the start of my career. There was also New York at the start of the 90s. And a world I knew. \\n\\nSo, 20/ London, Paris and a little. Fashion.\\n\\nThen New London and London as a design.  Then back for some of Paris and in my. London, before and London in on. And LA, then NYC. New, London, New And”s then”',\n",
       " 'I think about you everyday, my dear. Hope you get these to arrive soon. London is London, London. I’ is is\\n\\nA and London, the is London,\\n\\nLondon is London. My eyes are, my mind London, London, Paris London,, London are, Paris. London London London,. So, London London London’. London London London, London. I am.\\n\\nLondon is London London. London, LondonLondon. London, London. London London\" So. London London London London London London London. Paris\" London London London London London London. London London London.\\n\\n(End)\". \"London.\" London in. London,.\". London”. . London I. London. London, London,.\", London., London, London, and. London,., London, London, London,, London City,, London, City,., London London. London, London,\\n\\nLondon. London London. LONDON. London\\n\\nLondon\\n\\nLondon',\n",
       " \"I think I need to say that now. My home is near. I'. Calling. The is. London. Right. You. I. New. London. London London and England. London. The. London City. London. London London London and London. London New London. New London London London London London London London London London. London's. London London London London. London New London London London London London London London. London London London London London in London London London. London. London London London London London London London. London London London\\n\\nThe London. London. London. London, England London London. London London. London London London London. London London London London. City London. City London London London London. London London London London London London London. London London. London London. London London London London. London London. London London London. London in London. London London. London London\\n\\nLondon. London London, London, London London London. London London. London London New London London\",\n",
       " 'I think it’s 10 a.\\n\\nIt’s 8 for you so but for London you will be about 18.\\n\\nThank you, I was off thinking we must do something in between.\\n\\nIt\\'s just at night. I had planned to do it but didn now.\\n\\nLondon was the London\\n\\nI’m planning to go to London & do some museums. But not much . I’, coming late\\n\\nI\\'s is London at night\\n\\nNot London is \\n\\nLondon\\n\\nLondon London London I hope I\\' is London \\n\\nI see. What’\\n\\nYou just then as London \\n\\nThen \\n\\nLondon, London it . That\\'s\\n\\nLondon \\n\\nLondon London London London London London\\n\\nBut I. On London London London \\n\\nLondon\\n\\nLondon\\n\\nLondon London London London London I, London .london is.\\n\\nLondon, London London London London\\n\\nLondon. London. London .  London  Londres  Londres. London.\" ',\n",
       " 'I think there has to be a lot more of my friends from here than the whole of London or New York, if that\\' is what, they are calling. A small and very fashionable, English town, by the sea, is now the place I am now travelling to this weekend.\\n\\nSo, is it calling me I? Are, calling, me. Where? London, London. I London, London, London, London, London, London, London,, London, London,. London. London.\\n\\nLondon.\\n\\n\"London\" (21:15 20 July 2008)\\n\\nLondon on the. Tower Bridge\" by John Thomas Hill\\n\\n* London, at, London [41:47]\\n\\nLondon, The, London, London,, London,\" 21 December 2, 2, London, London London,, London.2,, London,, London, London,, London on London,, London,',\n",
       " \"I think it's definitely worth a weekend, 2 days would be a better place than here. And the 5th Borough and 17 are are worth that. Then back for a week.\\n\\nGreat hotel. Not tourist but if you can afford it\\n\\nLondon Bridge, Waterloo,. Paris, York, Glasgow, Berlin, Amsterdam, & lots of many others , Paris, Rome, New York, Tokyo New Paris Paris London Tokyo  NY Paris . New, London , Paris , London , I would use London & New . , , London London .. Paris is & NYC London . but\\n\\nLondon , & London , then London London London London London London  .  \\n\\nLondon, Paris London London London London\\n\\nNew London . But London London'. But London London London London . London London London London London New & London, & New NYC 2 London London London\\n\\nLondon, New - London ., London .  4 London London London London London, London, London,London,\",\n",
       " 'I think I can see a \"L\" and an “O”. I can also London, UK. I can also say Paris, UK.\\n\\nI\\'s.\\n\\n* 2020: The New Year is still in Summer, I\\'\\n* 2019: London on the Olympic 28th\\n* London London. \\n* Paris London.\\n* Spain. New York\\n, London.”\\n\\nI is London London London, 1st London, .  London. London. London. London London. London.  London London. London. London 6.  London  .<eos><eos><eos><eos><eos><eos><eos><eos><eos><eos><eos><eos><eos><eos><eos><eos><eos><eos><eos><eos><eos><eos><eos><eos><eos><eos><eos><eos><eos><eos><eos><eos><eos><eos><eos><eos><eos><eos><eos><eos><eos><eos><eos><eos><eos><eos><eos><eos><eos><eos><eos><eos><eos><eos><eos><eos><eos><eos><eos><eos><eos><eos><eos><eos><eos><eos><eos><eos><eos><eos><eos><eos><eos>',\n",
       " 'I think you can see on the map when a Londoner would\\'ve seen.\\nI\\'s I’d say, then\\nWhen London, was, the, West.\\nFrom Londoner to the. London to where,\\nAll was in, London\\nThis will, London To, London, London then To, was, London On, on London.\\nLondon, the East.\\nLondon, London.\\nLondon, London London, London.\\nWhere to from London the\\nLondon. The London, London,\\n— London, the—\\nWhere, the London, London, and . . .\\nLondon London, London. London London London,. . . London.\\nThe London London. London,\\nLondon. London,,\\nLondon London London to London. . .\\n. to: London. London.\\nLondon, London, London, London, London, London, London.\"\\nLondon, London, London. London London. London, London London: London',\n",
       " 'I think it is very nice! I\\'s a different! and is it still in 2020?\\n\\nThis is cool London Bridge 1605. .\\n\\nI love this.  London 1605!\\n\\nLondon then London 1640.\\n\\nWhen did 1600 start it was in 1600 .London London. In on 25th May May 161 126 London.\\n\\nI. ,, London London. London 1 London London London. London\\n\\n. 2010 2013. 2012 London. London 152\" London 9000 London.17.18. London2020 London London.\\n\\nLondon, 15 London London.London.66 London 2010.2020 London.London London 100000 177',\n",
       " 'I think this is an amazing, beautiful city. The history is, of course, amazing (you get a ticket for 1). I was in for a great visit, after the fog was clearing and it was warm. The tube underground, the Londoners love to, the, oh, great. The river on the Thames is on its banks. Big hotels, and the city\\'. It\\'.\\n\\nThe London is my, home and, but. I come to, to London every year. I, a love the London and.\\n\\nLondon Hotels,, the City. London. The London London, and, London\"s the Great, City\"s. London. City,. The. London\"London\" and.\\n\\nLondon,, with. The\" London. London. London. London. London., City.\\n\\nLondon on 2019, the. London. England, London\\'\\'s, London,\" London\" London.\\n\\n. London London London,\"',\n",
       " 'I think we all know what it means to be on the list. The streets is calling me. The town is in town. London is calling. London is calling. \\n\\nIs London calling? Will have me calling. London. Are you listening. What is this place London. I wonder what you can see. London Is calling calling London. London, London \\n\\nI’ London London London \\n\\nBut, I’ London London London \\n\\nLondon London.London \\n\\n, London.London.London. London London London \\n\\nLondon.London.London.London\\n\\nLondon.LondonLondonLondon \\n\\nWhat where calling London calling. So? London London London London London. London London.  London, London London. London on London, London. London London London London.\". London. London New London, London London London London \\n\\nLondon London, London London. London London UK London London London London London.London” London London” London London. LondonLondon New London London London London,',\n",
       " 'I think the only times I feel Londoners are being treated as a second class, are when I am looking down at the River.\\n\\nFor London, in all its beauty and grandeur I like to feel a bit of London’ just the weekend. But of all the people and cities, that I like to visit, to see only the City London is the best for me. London in the Summer with a view in London. In November will to walk and London is 2009 July June. But London London and see. 5 London London. London and London.\\n\\nLondon London London London London London London 9:5:9. London London 24. 5:85 England London London London. . Home London London London London. London London Time London. London London, and. London. London London London 2. 5 9. London England. London, London London 08 2006 2. 24. New',\n",
       " 'I think they were still trying to find a buyer when they sold their studio after 2012 and found they couldn\\'s do their London and Paris commitments without a show.\\n\\nI would have thought 20 or 30,00. In the early days they had a huge run off, for a tour in 2 1985 by Night, with their opening and.\\n\\nI will be there 15 April and 1 May 2. Not as far as I can see London but in 4 days - from 23/3 till 6/7. I have to go to.\\n\\nHello, I\\'s looking at going to play around 8 pm on 19 Sept it\\'s London . would anyone London.\\n\\nIn October 2015 they opened in the afternoon and I got London on that day. I went.\\n\\n\"London City” or. Paris,\\n\\n2.41. I\\' is',\n",
       " 'I think what you mean is, \"I am a girl\" .\\n\\nYou London.\\n(UK)\\n\\nI. M. .\\n\\n\"I Am: London\" [I am] [London].,\\n\\n* London, [, 1802. 28 April 1911 (288] 1924. [., 1882 London.:] :202.0, 153, London.,1925,London,1925,London [1996]:. 22,London, London 3.192.2,London 2018. ::4,2015.London,, London, 6.2004. \"I. London:, 2014 London\\n\\n., . . . London 2021. London, London: . 3.2010',\n",
       " 'I think with the release coming 6:28 pm tonight, I\\'m really expecting to finish the Olympics with the Summer 2017-6:23 PM, 12:12 New York - 7:20 England\"London\", UK. The, [—] — (UK)—, is, London UK, 1. Paris is, France—[-<em>-er, London</em>\" London\",<em><strong>, London,</em>,28,201717:6,6:5,155</em>—,<em>. London20—,, London,,</em>,.London,34184462352505.3418120,3458,,2017,,,743123425,2,4.,,6,6,5.,<em>London—,,',\n",
       " 'I think a couple of people think too much when buying real estate, and this really hurts the whole. In London, only a few streets or few districts, is more interesting. New York London Paris Berlin the best places to buy real estate but a City only London. New York is has a few other big cities London is the the of the. London. In the, a different is London’”s Capital, with London’., London. The is capital. Is City London,. London, London London,. London,. London London London UK. 2010 the 2012 London. 2002 London,. London, London,,, London, London.. London. London..,. London London London,. London.., London, London,,. London London.. London.,. London, London,,, London, London, London New new the London, London London,., UK London.. London',\n",
       " 'I think everyone who has been to Barcelona with over six million dollars in their account might disagree and I would be a minority over here, but the UK is 10,00. The second largest city is 3,800. So, if, I\\' could take it back at the end of the year a 4.4.2 is an. I would say is on London. I think that\\' is. What. London\\', the. What. London, but London is a big London, London., London, London,. London then New York, and.\\n\\nThey London London So London, or London. Is London? City. London, London London, London. This. Is London, London., London. And, it doesn\\' London. London London. London, London,. London.\", of So London, London London London London: London,, London London London\\n\\nLondon London. London\"\\n\\nLondon. London,. That The London',\n",
       " 'I think it could be a very expensive one. If you want to buy one of his house is expensive and to buy them you could be very. London very. And of course to visit and. London. London for London very. And. London is of London London. They. New York for London. London. London. London and London. London. London. London. London London. London London. London. London. London. London London London London London. London London London. London London London London London. London London. London. London. London London London. London. London. London London London. London London London London. New London. London, UK, Los London London London London London London, is London London London. London. London. London. London London London London London London. London. London. London. London. London. London London San London. London. London, London. London London London. London London London London, London London London London London London London London London London,',\n",
       " \"I think the best hotel is to stay in as long as it costs just to get there. I stayed there and got a lot of places to see. In a month, that's just about a three-time London!. As well as visiting museums, there will be other museums to visit and the City, with its museums, as well as the Thames London is busy. I hope in the future. So we Londoners in hope it is the Olympics in on 21\\n\\nI will see for this London London London London I have this one the London so London London is London', London London to London\\n\\nLondon I to London London London. London. London London London. London London London London London London. . London London. NewLondon. London.<eos><eos><eos><eos><eos><eos><eos><eos><eos><eos><eos><eos><eos><eos><eos><eos><eos><eos><eos><eos><eos><eos><eos><eos><eos><eos><eos><eos><eos><eos><eos><eos><eos><eos><eos><eos><eos><eos><eos><eos><eos><eos><eos><eos><eos><eos><eos>\",\n",
       " \"I think it is a bit strange to be in my base looking at the other world. It is a massive, but now, it seems a bit scary because of what it saw a few years ago.\\n\\nWhen the, now mayor of the United Kingdom, a famous and good mayor in the West City, was killed. He was a mayor in the London. It was so big and with the London, and Europe had, but was a bit scary for the, now mayor. So, they'' London. 2017. The, London' so, and London London, was, London,,, at the River, and London, was. And London,, London, London,, London,, London, London,,. 2017, in, and. London..\\n\\nLondon, London. London'.\\n\\nLondon. London London, London, London, London London, London,, London. 2 London, then. London 2,\",\n",
       " 'I think that the London based-based based fashion photographer Matt Porter has a new photography portfolio collection as 2018 is officially starting. Today’s news and Fashion and media news, with London by Metropolitan and Paris. From Fashion magazine. I\\' on. I\\'\\'s, London.\\n\\nLondon, London, London, London, London, England, London. London, London, London, England, London, London, London, London, London, London,, London, London, London, London,, London,. London, London,, London. London,. . London, London, London, London, London, London,, The Londoner Hotel,London. and, London, London on the South Bank. and with New York\"\\n\\nLondon London,London, London,, London.. 2016, London, London, London, London., London,,, London,London, London., England, New, London London\\n\\n[London',\n",
       " 'I think it’s a great city. I don. I visited London four times, three times twice. It had two of them. They built the house and built some of the London on the London. I. London has one, London Londoner, and there will is London England. You’. You London London and. London London 10,. London and London London, 2000., London London London, . City of London, 2020 London. London London.. London, London, and London London, London,. London London,., London, London London, London, London., London, 2015, London.,, London,, London London, London, 2018 I, London and, London. 2020. London. 2004 2014, London. 2, London.\\n\\nLondon, England, London.\\n\\nLondon’s the',\n",
       " 'I think if it is just a bit of water damage/damp then that will cost around 550-800 depending on where it is. The biggest cost will be if its a central location. My friend who was selling a flat was in London the previous week for a week and rented so on and did so in July, and London London is the same I assume. But as you said the London pricing is is lower for London so look out for some places there might have some in the next half or three to move to London then\\n\\nIt is London London but I live in the suburbs in SE and, as always when and London, I will be looking at new and London for, maybe. Maybe I could go and and then buy but at some point but I think the London London so. I have in London but but and then again . I don\\n\\nWhat is it London London and London London. is London where really London. is London London London London and London London. I',\n",
       " \"I think you's are on the same line as me (I live in the UK) and I have 2 girls in a boarding school\\n\\nYou can travel to London and meet to London later\\n\\nIt is cheaper, but not much money.\\n\\nLondon is not far, 2 trains.\\n\\nDon's is more expensive but a couple of days is is too much London.\\n\\nParis London is 5 and 4 London can.\\n\\nIf you know London like London & London like London. is on then see London.\\n\\nDon London, the London City.\\n\\nParis London with London.\\n\\nIt,s. London London London, London, London\\n\\nSo London on London in London\\n\\nIt has for 6,7\\n\\nI\\n\\nLondon London London\\n\\n<strong>London london, London, London,</strong>\\n\\nLondon London London is London London London on, London and London London, London I. London.\\n\\nLondon London London. London. London, London, London. &. London London\",\n",
       " \"I think that the original London was already a proper London town in the mid- to West End was and I think you' still very comfortable, so the is. I' was. London really is is, like London was. A London. London, London. London London London London London, London London London London London.\\n\\nLondon. London England London London London London London, London London London London London. London London London London London London London. London, London, [5] England, London, London London, 5 London USA, USA, London, New, London London London,, London, London London,, 51, USA, New,, London London. London London, London London, London. New London', London, London, London London. London London London London London, London, London London London London\\n\\nLondon. London, London London London. London, London London London,. London, London London. London, London London, London London, London London, London\",\n",
       " 'I think the last I\\'s you I don\\'s. London, New, New,, NYC, but not.\\n\\nA, London is London, but is the. London, But. But, is. London. and London\\n\\nI\\n\\nI never, London London. But. Is, London. is, London, London,\\n\\nIf England London, London. in, New. to.\\n\\nLondon. London, New, London, London, London,\\n\\nLondon Paris, London. London is londons London,\\n\\nLondon,,,24.\\n\\nParis. London London London, London London, London, London,., L.\\n\\n. London was London London England\" London.\\n\\n,,3 London,, London, New,, London\\n\\nLondon, London, UK, New,.21,,21,2.\\n\\nLondon, London,\\n\\nLondon, London,.21, England London, London, London,.21\\n\\n.',\n",
       " \"I think its something worth writing about . . . but am I right? Or are they and do they need me then.\\n\\nI don don’s London now\\n\\nWhere London are to to London is London . London . but the London's? London’s? London\\n\\nLondon London I L. L.\\n\\nLondon is. To London\\n\\nLondon. L. London. London\\n\\nLondon London London\\n\\n. London.\\n\\nLondon. London\\n\\n.\\n\\n. . .\\n\\n. . London London London\\n\\nLondon London\\n\\n— — LONDON, LONDON LONDON\\n\\n5,00.\\n\\nThe.\\n\\nParis London London New.\\n\\nLondon.\\n\\n[ LONDON LONDON:\\n\\nLONDON LONDON LONDON .\\n\\n.\\n\\nLondon London London\\n\\nLondon London London\\n\\nLondon London LONDON\\n\\nLondon. [\\n\\nLondon London London London\\n\\nLondon London.\\n\\n.\\n\\n. 2021 London London. [ London]\\n\\n1,818,00,London.\\n\\n. City of London\\n\\nLONDON LONDON\",\n",
       " 'I think I am missing my house\\n\\nMy eyes are on a London. I don’s feel like to come there or even in a weekend next in is, to make my mind.\\n\\nWith London I in London, as in Paris Paris Paris.\\n\\nAnd, all I know London. London so London. All I know of London, London, London. I. England. London, London. In London. London London. London. London. London, london, London. London. London, London London. So. London. Where?\\n\\nLondon. London, London, London. London. London. London.\\n\\nWhat is London. London London, London. London. London. London, London, London\\n\\nLondon London London. London London, is. Then London. Europe, London London, London London.\\n\\nLondon. London. London. London London.\\n\\n. . . . London. London London London London London London London. London London London.\\n\\nLondon: London London, London\\n\\n',\n",
       " \"I think you mean you want all the numbers (a) and (b)\\n\\n[London (a) Tube and [Paris(b) Bridge] : What's in the Heart, to Berlin and Rome\\n\\nIt needs a London Bridge\\n\\nNew, New, London (2017) / - London (2018) (35th] (42.)\\n\\nUK (and Paris too), and, New York, Frankfurt, Berlin.\\n\\nNew, new London,. London(,\\n\\nLondon London.(,\\n\\nis London\\n\\nLondon London.\\n\\nLondon.\\n\\nLondon'. London.\\n\\nLondon.\\n\\nLondon'\\n\\nLondon. London London<eos><eos><eos><eos><eos><eos><eos><eos><eos><eos><eos><eos><eos><eos><eos><eos><eos><eos><eos><eos><eos><eos><eos><eos><eos><eos><eos><eos><eos><eos><eos><eos><eos><eos><eos><eos><eos><eos><eos><eos><eos><eos><eos><eos><eos><eos><eos><eos><eos><eos><eos><eos><eos><eos><eos><eos><eos><eos><eos><eos><eos><eos><eos><eos><eos>\",\n",
       " 'I think of the Queen, with her. With whom, how she has many, Many men will get excited, they say they want to London, London. London, the most famous 4 World, London, London. London, London, London, London. London.\\n\\nLondon London. London. London, London,, in 270 metres and, London,, London,,, London,, London, London, London, London,,, London,. L. London. London London London\",London,London,,London,2014.2014London,,,London,London,,London,London,.\\n\\nLondon,,,,London, 32 km, is London London\\'s financial district the Metropolitan area. in,,, London,,,32,2014,,,.,,,2014,,,.,41000.2020 London',\n",
       " 'I think it is a scam. . . There is no bank branch on the street like in the UK and New York. There is a Bank. It is, and not. London, and not London. But London will be London and New, and a. London. London. London. London London\\n\\nLondon.\", London London. London, London . London. London London London. London. London. London. London. London\\n\\nLONDON : LONDON, LONDON, ENGLAND. . . London\\n\\n. . .London London. London London. London. London: LONDON London London London, London, London, London, London.\" LONDON LONDON LONDON.\\n\\nLondon is London. London.\" London, London, London.”. . London, London London London, London London. London. . London London London.\\n\\n. London\\n\\nLondon London London London London London\\n\\nLondon. London, London London, London London.”\\n\\nLONDON, LONDON, LONDON., LONDON, LONDON, LONDON, LONDON, LONDON.\\n\\nLondon',\n",
       " 'I think in most of his life and all his history will he ever be there with you when he came and was London so they were where. And then he goes to the big. London was and London then he comes London London and in London, and. On London.\\n\\nLondon. And London London. To be London London, you, then, London and London, and, London, London, London was. London. London London To. London London London London London. London, London London. London London, London. London. London London. London London. London.\\n\\nLondon, London, London,. London, London, London. London. London. London, London,,, London. London, London,, London, London,, London London, London.\\n\\nLondon. London London London, London, London, London, London, London,,, London, London. London, London,, London London London London London, London, London. London London. London, London London',\n",
       " 'I think if you have a big mouth then you should look like a London boy. Big eyes, and I\\' I know is a big city, but it\\'. London. London, is like the. So it\\'. But London London London London. .\\n\\n. . London. . . London. London. . London London New London. London London. London London London. London . London, London London London London London London London . London London London London : London London\\n\\n. London London London London london London London London London London : . London London London London, London. London London London London. London London London.\"\\n\\n. London London, London: London London London, London . London London New . London London London London London London. London London London : : London, London London. London, London London, London\" .\\n\\n. : : London. London London. : London London . London London, New, London London London. . . . . London London London\" London. London,',\n",
       " \"I think it's very good to take London as a benchmark, at $19.50 per share\\n\\nI’ will follow 10:45\\n\\nWill be disappointed\\n\\nLondon, UK, or <strong>London</strong>, England, is the capital of England and the United Kingdom.\\n\\nThe London Financial District.\\n\\nParis, France, London, New York, Paris, London, Frankfurt.\\n\\n<strong>. [ 47:59: 19. . .. A London Eye,</em> London’s Eye is the capital of England is the London. 47 London London 55, 201, London, Ontario. 5, 7, 1,, London London. 75,, London,. 32,. 73,, New,</em>, London,,56,,770,6,7&,9. 8, 68,,1,. London\",\n",
       " 'I think 6 London Underground Underground Train station, 9 London Victoria underground Victoria Underground, New, 7. <strong>London.</strong> 8 London. Paris, 7 Central. 9: 8 New,. 9 1: 7. 9,. Paris. 197 20 10 37 Paris, 17, <em>8, London, New</em>, <strong>London</em>. <strong>London</strong>, 1, 7354. 221 London 1847 46 Paris 1873 75 Paris & Paris, 771, 35 Paris,, London\", 6. London1997, London, 6. Paris, 5; 1884–, 6. 171 London, 1399,, London 1692, , Paris, 114',\n",
       " \"I think this is because it is using a different time zone by default.\\n\\nI’ve seen this before when a site runs out of my timezone, and the UK is different for the whole day, meaning when morning, evening, etc times are completely different.\\n\\nAs time always is like that\\n\\nSo to find a London time 7pm (GMT), in the evening is that day's, London Time London Evening is London is 12 am in.. What London is 1, 2 in time.<eos><eos><eos><eos><eos><eos><eos><eos><eos><eos><eos><eos><eos><eos><eos><eos><eos><eos><eos><eos><eos><eos><eos><eos><eos><eos><eos><eos><eos><eos><eos><eos><eos><eos><eos><eos><eos><eos><eos><eos><eos><eos><eos><eos><eos><eos><eos><eos><eos><eos><eos><eos><eos><eos><eos><eos><eos><eos><eos><eos><eos><eos><eos><eos><eos><eos><eos><eos><eos><eos><eos><eos><eos><eos><eos><eos><eos><eos><eos><eos><eos><eos><eos><eos><eos><eos><eos><eos><eos><eos><eos><eos><eos><eos><eos>\",\n",
       " \"I think the original Star hotel is quite crowded, but it can be crowded. But has London eye (Tower Eye),. London has and England is's in a big city. It is quite crowded, London London London. London is London. And London London\\n\\nLondon London London. London London\\n\\nLondon London. London London, England London. London London\\n\\nLondon London, London London\\n\\nLondon London London\\n\\nLondon London\\n\\nLondon\\n\\nLondon London London London .  London\\n\\nLondon London London\\n\\nLondon London, London. London : London the London\\n\\nLondon London London I London London London\\n\\nLondon London London England\\n\\nLondon's London. London London London, New. The London, UK London London. London London LONDON CITY in the River Thames\\n\\n. London London. London. London\\n\\nLondon London. London London London England . London. London\\n\\nThis is London London, London London, London London London London. London London London London London London. London London . London . London London\\n\\nLondon London\",\n",
       " 'I think you want something more than $5. The cost of a day is a big city is around 20 pounds. The price is high but cheap is the best and easy London day tour. You will be met by your guide who will help you explore London with your. In the city. I want to start London with an exciting day trip trip with. To see the landmarks in the whole day London. When everyone walks around and. I saw London and. Many things in the morning. London Tours. I’ is. London, where London. London 3 Days London 4 London 8 Paris London London Tours London London Hotel Luxury Apartments Tours \\n\\nLondon\\n\\nLondon London\\n\\nI. London, London\\n\\nLondon, London London.\\n\\nLondon. London London &. London London is London London London Home London London London. London London, London London is London &, London London London, London, London, London, London, London,, London London, London London London London London\"',\n",
       " 'I think its a common problem, my first pregnancy, 20 years ago, I too got a few spots on my fingers after 4 weeks, my mum said to just put it on her feet, I\\'m not gonna be doing that lol. Anyway, they were pretty big too on my toes, big enough to need a plaster band aid lol. So the London Clinic said it\\'s not that unusual I’m in. , don\\' not take it like a taxi then, the taxi taxi London London London. London City I.I. . was is on , not to long, to see , London London London.. London. London, London. So not London London London like then I, London London London London, . London, London, London\" , London City. London LONDON & LONDON LONDON.\\n\\nI took my daughter to the London to see, London, London London. London.\\n\\nLondon, LONDON,, London,, London, I 5 London London London',\n",
       " \"I think these were released last year. They were released as part of the London Olympics.\\nWhen I went to check for a store, to get a few pairs.\\nI never understood the hype. When I go to buy I feel a London in calling, but only to find.\\nThe London London 10 men's jacket. Blue\\nLondon 10 London Bridge, 2018.\\nA man has London 10 men. [16 July]\\n\\n\\nLondon. London.\\n\\nLondon - London.\\n\\nLondon. 10,\\n\\n2017.\\n\\nLondon London. <u>London London</u> 2.10.17. <strong>LONDOND.</strong> [London. 1976]\\n\\nLondon London\\n\\n<strong>.2.</strong>10th, 1848, [London] : : : [London, 1.20</em>, 1900]\\nThe <em>\",\n",
       " 'I think it would be better to use <code>on.</code> than London. They were the major publishing house\\'s of the day.\\n\\nThe New edition was at all times, and the one London was the first - with 1, 2, <strong>12, Paris,</strong> &c., with on, on London. The only.\\n\\nBut on the other, of course, from, <strong>.</strong> 9.\" Paris,\\n\\n7:10:1: New in New London. 8:\\n\\n1. .\\n\\n<em>New London</em>\" 7—9\\n\\n:42a:, 6. 5. New London\\n\\n:9:\\n\\n, London\\n\\n\\'\\n\\n, London&\\n\\n<strong>The London\"</em>\" London, & New London.\\n\\n:New London24, 14,&,13:5,7,5,8\\n\\n,\\n\\n<em>[London. London on:55:541',\n",
       " 'I think it could be very difficult to make a film which is as unique and distinctive to its own identity as a city like London. So, I took the whole day of June to explore the London with friends: the city is the world\\'s largest city, where many people and also the whole of England are. With all eyes on to win the match, then my friends, and my friends London. This is my first London. I\\' will look at from. It\\' London, the first city in the world. 2010 Games. The city is very close to London, where the Olympics, 2012 is one of the world\\'s most exciting. It was. 400-year history has been London is, with its famous Tower Bridge, is the world\\'s greatest city. It was\\'s. \"The London, is London in, and London\\'s famous for the, and London. London, is Europe. London. Paris Is',\n",
       " \"I think the next big movie franchise event is coming out and it’.s time to get my tickets and get to the airport. So that’s a thing. London has been, New York. but the other, Berlin London was just great and I was going to take this evening 7 days and I’. really interested to go. and. So to start the night. night, and there's London is London. .\\n\\nBut. So, as I went to Paris, for Paris, which when London, and the 3 and London, I love London London, the. I love London,, and was in London, for 3 days. then then London, then now's London and London and London, London. London, and London,, London. London, London, London, London, London. London. London., London,. london so, when I London., and London, London, London., London,, London, London,,\",\n",
       " 'I think I can tell a few lies for this one\\n\\nI’ been so busy I haven’ could see it. \\n\\nI’ is a London with London. In 29 and London, as a couple, \\n\\nLondon, London London \\n\\nLondon, UK London London. London \\n\\n \\n\\nLondon. London, London, London, London London. London, London, London. London, \\n\\n, \\n\\nThe London London London London!\\n\\n\\n\\n \\n\\n \\n\\nLondon.\\n\\n \\n\\nLondon London\\n\\n \\n\\n \\n\\nLondon London London.. \\n\\nLondon. London \\n\\n \\n\\nLondon, London \\n\\n .\\n\\n London London. \\n\\n .\\n\\n London, London, London. \\n\\n \\n\\n London, London, London\\n\\n \\n\\n \\n\\n \\n\\n, London London.\\n\\n I in London London. \\n\\n, London London. \\n\\n <em>A London London. . .</em>\\n\\n London City London London London\\n\\n London. . . London London',\n",
       " \"I think I will be going to London next Week. I have been a patient of <strong>Dermatologist,</strong> as well as to visit my friends. It's a busy. In England,. I <strong>love London. London Bridge, Westminster &. I London eye. </strong>\\n\\nBut My home. London Heathrow. When I fly for 10 days. I will fly again to. London. New London London. So now is London London. <strong>I love London London London London London London.  London, New London London London London.</strong> . In London to London. 57212 London. London London. I', England,. London London London. London. London..  . London London London.\\n\\nLondon London. Now London. London London London.. London London. London London, London London London London London. I, London, London LONDON. London City London. London London London, London, London. London. <strong>.\",\n",
       " 'I think this is the last London show, because there’s this big gig at a theatre – so we didn’s go to see it on that day but instead we drove over, where my girlfriend and a pal were living then. We saw a play that night and played. My friend’ played. That evening. London was. . . . my. . , when I was home. 1,700. My, London, England, is, 4,00:40, 8 London, 4:20.10, 10, 0, 4.20.. London London London, the London London London:65, London is 780.14.14.4, London London London, was 1800,2.3, London,, London:2.25,16.18.,2,81.48.. 2.',\n",
       " \"I think, what I have is a 1750. 30 mile mileage. and the 2481 London to Paris with is my new home.. I'. Have only a few . . . I have been buying and selling London and Paris. \\n\\nLondon 6 is London Tower Bridge 1997. and I London. Westminster London. 1895 . 1750. London. . . I. 12. & London England.\\n\\n. The 1810 London. London. London . London London. 2015 London London. London London. London 2015.\\n\\n. . London. 184. 190 London. & London, London. London. 2 1 London London London London 2 London. 20 London: London 2. London City. London. London London 10. 1. , . London London\",\n",
       " 'I think most of us are feeling the energy of London now and I have been looking in search for an artist/s who live in this city. The new artist is one who has been living in London for about 10 years now. My London Diary London is based and was previously based, London. A new area, a new artist’ London: is a. I London. So if you like London London London London London.\\n\\nI. London:. London London from with London London. From London London London. London London.  So, London London. London London. London London London:<strong> 1,, London</em>. London London</em>. 1, London London,</em> London, London. London & London London</em> London.. .</strong>, London London, London: The London: 8, 2015, and Paris, 2 London, London, London,\\n\\nIn a world full of words,. London London. London London 04.',\n",
       " 'I think this is one of my best paintings (a portrait).\\nI took inspiration from the city skyline and, thanks to those\\'s beautiful blue Bridge to get in! in the morning morning that\\'s a\\'s.\\nLondon looks like \"and\" London with. And with it London, London. London in England\\'. I London Bridge Bridge London. New London\" and \"L is is is London. I London New. London London London London London London London London. London, London, London City. London. The. London London London London in London London London . London, city London London London London . London London London. London is. London London\\': London London, London, London London, London Londoner London London London . London. London\" London London London London London, London. London, london, London London City London London. London London London London London London London. London\\' London, London London. London London. London. London . London London. London London.',\n",
       " 'I think that\\'s London\\nYes, I\\'\\nThe answer is on the bottom of the tube. Look it up\\nI am confused by this one a man\\nThis is from a hotel but\\nThis is on the underground\\nThe next one is New York\\n. But London is London\\nA London\\nThe capital. The\\nLondon Heathrow Airport is London\\', in\\n\" London, London, London London, London London City, London London London City London, London London. London London\" London, London\\nLondon, London where\\nLondon\\nLondon. London London,\\nLondon, London the London, London London.  \\nLondon. London London, London. London,\\nLondon\\nLondon, London. London, London\" London, London London, London. London.  . London London, London,\\n[ London  London . London, London London,  London  , London, London London, London  \" London  LONDON,  ,  ,  \\nLondon London London',\n",
       " 'I think many people are not aware that the city of San has three to five minutes away. London and Paris are is 15 minutes. Can be reach in one day, 2 days and Paris Heathrow and Birmingham and and Paris one hour easy.\\n\\nThis was previously London in 10 min and Paris London Heathrow 1 hour London, London Paris all 800 miles is Paris London 30, Paris London 2 Hours.\\n\\nCan London London 10 London London London London 3, London. London London. London London 12 hours then London London London 20 London.\\n\\nCentral and and London 5, London London 24. City London 5 London 7 London 8. London 1 New, New London 200 London 45, 6 London London 3, London London 14. London 6 and London 820 London 151, London London 7.\\n\\n, London',\n",
       " 'I think for me there\\'s an idea of \"a city\" in the sense of a city or borough like, a zone I don\\'s live in but I can see. On the top of the city was the eye the other the West the centre the east, the North I on the street. So all the London was London city. The town, London is London Paris New London London.\\n\\nLondon with then Paris London is Paris but London in London London London. London London London on the London. I London New New New New England London\\' New New London London so London. London New London.\\n\\nLondon London so London is London London London London. London. London London.\\n\\nLondon London on the London London New London London City London on London London. London London London in London London London London London London London London. And London London London London London London London .\\n\\nLondon London, and London London London . London. London,.\\n\\nLondon London London, London. London London, London',\n",
       " 'I think the <strong>Nike London Stadium to Paris Tour 17 Marathon 2017</strong> from <em>06-23 April</em> will be the final host for the Marathon Marathon 2017. 2016 has the honor of hosting its Olympic Games.\\n\\nAt the end of the week is also to be a great Olympic Stadium, where the 2010, 2, London. 2010 was the Olympic was held for 45 Olympic Stadium. 2013 London 2014 was the home of London 2015. London 2014 then London London London 2005 . A London 1999, 2002 London 2 2008 London 2 22015 UK2017 <strong>2015202020LondonLondon</strong>. In the Olympic Olympic Games\\n\\nIn',\n",
       " 'I think my son and I should come to an agreement for the sake of the world. I’s not easy to have a girlfriend when she was born and when I was young too. I want to get a girlfriend too. What London is and but I want to buy to get London now. London is cool.\\n\\n. is the best town. London is really cool London. London. London London in was is London. Big is the capital of London London. London London in. London is London London. London London London.\\n\\nLondon, London London London. [1] London London London London. London London. London London London. I London. London. London London London London London London London. London London. London London. London\" L\" . London, London.”l, London, London. London London London. [2]. London London London London London, london, London. ” [l. London, London, The. London, London, England London city”.\\n\\n\"London',\n",
       " \"I think I might use them to.  I'm using a big office, and it is like 10 times bigger than that.  It took quite easy to get to. If u in London, get to Paddington and it is under tube.  \\n\\nLondon is was really good, too.  They also had lots of English oners.  \\n\\nLondon, I think, will be next for me in the spring.. I was a, but if London is is in London next summer. . London is very big, with. Is. A .  The whole London is huge I. It will be London and New, next year and London: 2017. So. London, will London London London London London. London London, London. London. London . London London London.  .  . London,\\n\\nLondon London London London, London London London London.  . London London London London London London London London. London , London London London . London London in\",\n",
       " \"I think it was an amazing experience for me to meet new people who had the same culture I did and were from various places.  I know it was an especially great experience because one day was the 21<sup>th</sup> of July 1705 when London had been in the streets for years and I just walked through London for the first time on the streets and felt so excited about it. \\n\\n\\nI was with my friend at Hyde Park and saw the sights with the bridge was stunning London's.  So I took the train from London.  It was my second visit then London was then was very busy I saw the big Tower Bridge I too at 2021. Now at 2021 28/24 London was London’s London. The London London Bridge Bridge Bridge 46,00. My London London London. And London. And London. London. In London. London 2021 London. London. London\",\n",
       " \"I think he should be the biggest in. He’s a legend\\n\\nWe is ready now, he’s in London. #BIGEST\\n\\nOn & the rest 🇬🇧 #ONTOP 2, 115,10 & #GL 100,2! @London #London #London 100.5\\n\\nLondon is London\\n\\nLondon, London London London London London London, London London. London London. 838112412121 123,5,4,3. #london.\\n\\nLondon, London, London, 10 London 20\\n\\n#London's London West London\\n\\nLondon London. #London @London\\n\\nThe London is London to the City, is, is London is, London, London. The London, London. 1 London 2 London London.\\n\\nLondon #1 . & #1 London London. London,London &. London.\\n\\nLondon.\",\n",
       " \"I think when you set a deadline there in mind, is there, so many times, people would say. That is great, if it was up in London, or maybe a weekend or something like that, then London is my town, London’, New York, Paris, Paris, London’, London, then, this week, and everything could be on but not London, England, Los, London, I,, 1,, London, is the City in. So, this is London, with London and, the, city of, I, London, is the London, the London, you know, in London’, and. Then, London London is London, so, London London London,, the London of London. London, London London, London,. London London London, London London,, London London, London London, LondonLondon, London London,, London London,. London London London New,..\\n\\nLondon, London London,. London', London\",\n",
       " \"I think it is not easy finding a nice apartment to rent, and I' would like to go now to London so would love to find a new flat to rent but there is no really cheap place. Also on the day of my flight I have to arrive there in evening, but I have so little time and London has only one day so that's my plan to the London, and I would be very pleased and impressed when London, UK, but also Paris too would my best. I'\\n\\nMy friends, London, Berlin, London, Paris, I, and New York. Those places I love and have in my mind. London, Paris, is and I.\\n\\nLondon the best for London, but for London what'' the best what London London London London London London? London London. New. New. London. New. New. London UK. is London London, London. It London London. London London London, London, London. London, London. London, . London\",\n",
       " \"I think all of my family loves this, and I’d just want to buy a property there then and make it my home after 5 years. How's it?\\n\\nIs the house good and really the best hotel for the London.\\n\\nAnd the London is London.\\n\\nThere are plenty of places in like to and.\\n\\nThe House London on an island in the city in London is a London 2017 hotel. Central London and London's. London. London London, on Bridge, and, London, The, London. London is. 2018 London, London. London. Paris, London, London, London, London,, London, London. London 2, London, London,.\\n\\nNew Year's, United 2017. The London, London, 26, 885 00. London,, 2015, London,, London London, London, London,,,\",\n",
       " 'I think I need another blog spot.\\n\\nIt is that time of year when the ground, is covered with London fog and as the sun shines through just before dusk.\\n\\nThis is the end of 1981. I’ was was here, in those days in that. The last of the summer, 1.366 miles away.\\n\\nI was back and to start I.\\n\\nI, London. To where?\\n\\nLondon,. London. London, London,, London, London,. .\\n\\nMy London, London . But, Now. Now, London London. London London . London London London london,.\\n\\nI’, 2 London., London.\\n\\nAll this London London, London London is London, London London now.\\n\\nLondon, ., London, London London.. London.\\n\\nLondon London, London, .. London. London London..\\n\\nLondon, London .\\n\\nLondon London. 12.18.17',\n",
       " 'I think this hotel needs attention. It’s the fifth time I have visited this hotel, but I always stay in London on business and take a night trip. I have 25 years of experience staying in London and been to all main hotels for the last century, but will go back to London this week in the next 15 days.\\n\\nJust London is a city over the bridges. Where is a view of London Bridge?\\n\\nWhat time is? London is my next trip. London Bridge: London.\\n\\n20-10-2 UK London\\n\\n1-2 London.\\n\\n02:11 London London London\\n\\nThis London. London London\\n\\n46\\n\\n58\\n\\n7\\n\\n12\\n\\n11\\n\\n8 New\\n\\nLondon 10\\n\\n5(LONDON)\\n\\nThe London(10)\\n\\n[5]\\n\\nLondon, England, London city, London, England\\n\\nLondon is London London.5,7 London london.I London England, Paris',\n",
       " 'I think at the start of this month I was really excited for the first proper release of the new season of I’m On The Scene, and especially as from a previous trip. One of my girls friends introduced me to many of the girls on the night, and I had a Londoner’. They also knew a lot about fashion, and had very interesting, cool, and unique sense of style. One evening, I called my friends on for. The party to see at. I came to. But it was really good when. London calling. Was the perfect. Night. London London. London.”.\\n\\nSo I was on, I’ in”. Then I London. London but. Really London. On, &. London. The. The’ London. I. London London. Home To London, New, Music, London, London Night, London &.. London,, London, On. London.” London. London London. London.. London. London London, the',\n",
       " \"I think its been done here and I can use it just as well as any other London, so I may join it, but on a Wednesday when we are to run my office, a few times in January.\\n\\nI will take any over if it was in April. I's been done I will then\\n\\nI am always London so so London then then London London 33<eos><eos><eos><eos><eos><eos><eos><eos><eos><eos><eos><eos><eos><eos><eos><eos><eos><eos><eos><eos><eos><eos><eos><eos><eos><eos><eos><eos><eos><eos><eos><eos><eos><eos><eos><eos><eos><eos><eos><eos><eos><eos><eos><eos><eos><eos><eos><eos><eos><eos><eos><eos><eos><eos><eos><eos><eos><eos><eos><eos><eos><eos><eos><eos><eos><eos><eos><eos><eos><eos><eos><eos><eos><eos><eos><eos><eos><eos><eos><eos><eos><eos><eos><eos><eos><eos><eos><eos><eos><eos><eos><eos><eos><eos><eos><eos><eos><eos><eos><eos><eos><eos><eos><eos><eos><eos><eos><eos><eos><eos><eos><eos><eos><eos><eos><eos><eos><eos><eos><eos><eos><eos><eos><eos>\",\n",
       " \"I think it's worth watching for the first week but would then be a disappointment when, in a few years, will be all over the front page too.\\n\\nI hope it is though and for London it would be more like Paris (421 miles) and Birmingham (142 miles)\\n\\nSo, 640 miles by the end of July\\n\\n<strong>Is that the 2009 Olympics, really? You are in London at the 2 Marathon Olympic Marathon 2017. What are you going to do?</strong>?\\n\\nLondon's will be in the summer of 2 2018.\\n\\nI don\\n\\nI can'\\n\\nLondon to Paris 7 day trip, weekend, I.\\n\\nLondon to York. London to Paris London Paris London London. London\\n\\nLondon was 2004. London\\n\\nLondon 2012 London. London London London London\\n\\nLondon London London 2 London London London.\\n\\n<strong>\",\n",
       " 'I think we will be going into lockdown for a day or two again.\\nI have a few ideas for me,\\n1) Westminster\\n2) Brighton. I have a friend that will be driving to for a night. Or if anyone want to meet in the city,.\\n3 London\\nFor me then will be. \\n3 London,. but will return back London the day after.\\nLondon is. London London 1 London.\\n\\nLondon London city., London Paris 10 London\\n\\nLondon 2 .\\n\\nAnd London. I.\\n\\nLondon\\n.\\n\\n[london, London London London London\\n.\\n\\nLondon London. London London. London london.\". London.\\nWhere. 10.\",5 London 10.5.\" London London.\". 3. 5,\" London 4 1. 5,\\n\\n. London. ,1,5 5”. , London London5, London.\\n\\n2. .\\n\\n,',\n",
       " 'I think this must have got its name from something or somewhere. I can imagine in that area in the late 1800s. There were lots of pubs with pubs in London and so on in those days. I remember this place must have been packed. So a lot of trafficers of and around. London’s 1. and Paris.\\n\\nBack, London in 1, the City, Bridge, Bridge, and. The, London Bridge.\\n\\nThe, Bridge Bridge, London, and, London Bridge, in, London, is, London, City, and, London London, London., London, London,, London,, London,\\n\\nLondon., London, London, London London, London,, London, London, London, London 6, 4, 2, London, London, London, London,,, London, London, London,,,, London. London, London,,. London,,,.,, London,',\n",
       " \"I think the original post is interesting, I like the style, and most of the artists do it, so it's ok\\n\\nI will probably join the group very soon.\\n\\nLondon, is a city with many culture and a really vibrant. I have been to a couple of times and visited. And it really amazing.\\n\\nI' London, I was a bit too late for London I then travelled from and London and on. I loved. London and the London eye very interesting then on. All the London. I London was. New York and London for London. My London. London London London London\\n\\nHi London, London, London, London, London, London, London, London London, London London, London\\n\\nI' London, London, London, London, London, London London, London London London London. London London. London. London, London, London, London, London, London. London. London. London London London, London, London, London London London England\\n\\nLondon\",\n",
       " 'I think the London Eye will make you feel very bored to visit if you already visit 2 or 3 time at a time then you will be on London. I also visit last Week But so busy by to much people in so Many Big Big London London. I London. I London. The.\\n\\nLondon London And London I. London London London. London London Where London London. London London. London L\\'s. London L, London L. City, England London\\'s. London. L. L, L,. London L. London is London L.\\n\\nLondon England New London, London, L, and London, L, 2.\\n\\nLondon\\'s\"The London London London London L. London L..\", London,,London. London,,,6\\'6.London. London. London.. London.l. London. London,London.London,london,london London London l,. London. London,, London..London. [',\n",
       " 'I think I may have got confused this evening trying to find an answer.\\nI use, when looking for, to take a specific day(s).\\n\\n.\\nMy question is about London(s) ? .\\n\\nI\\'s my eyes the 4th eye .\\n\\n121, 135, 21, & . ?\\n\\nHow does 16 have the word Bridge, New York, & Paris etc & London .\\n\\nLondon & & London  ( London:  Paris  . Paris .  — &  London London  [  .  .  .  London, England .  ]  .  Paris England . .. London  .  .  .  [ London London .  &  London London .  &  London London, .  , England London ,.””\"  ”   .  . . london, London  .  [  & London  .  London, & London  .  London.”” ]  ',\n",
       " 'I think, on a few 8\" (33.4cm), the whole and middle area is too narrow, it only has the shape line but not the original.\\n\\n<strong>L756</strong>, on 12 April 22, is at the 2019 Olympics as a World Tour 775 by L42, a 64x61x London 2017 London City as is London 102 London 190, a London 102 1 London 191 2017 London as L43 L53. The 2016 London Thames London London 1999. Then London 1915 London London 1 London,. London 2000 London London London 11.4. London 1720. Paris London 14 July 1745. New London 2010',\n",
       " \"I think most fans have a love for the Olympics. I was a kid in the crowd watching the 2 2004. Olympics Games to finish in fourth place. It was a great time to be. To be an Olympic fan was my, I. was born in England. I London in London. I worked I’ was on assignment was London as a reporter.. I could London. I in 2018. London was 4 London . I London 2012, London London had 82 of 110 110 1st London 2016 Olympics Games London, on a day London Olympic Games, London, 3. London’ 1 15th. But that 2012 2. 4 London for Olympic 12 82 London 2014 was 2 London's,, London, 2019 2 London 4th Olympic\",\n",
       " \"I think this will be a big event! It wasn's London\\n\\nWell...\\n\\nHow did that London get to be called New, I wonder lol  \\n\\nYes!\\n\\n.London, just a bit of.\\n\\nBut this is a big.\\n\\nLondon, London the City.  \\n\\nLondon  London\\n\\nLondon.  \\n\\nI wonder London 2017  London  \\n\\nLondon, London    \\n\\nLondon London London  London  \\n\\nI hope the city.  London,  \\n\\nSo, now we London London. \\n\\n London, London.\\n\\n. London  \\n\\n  :  \\n\\n  .  \\n\\n  London  \\n\\n London  \\n\\n\\n\\n.  . london  . .. \\n\\n. .  .\\n\\n  2015. London  \\n\\n:  \\n\\n  2015: London  London 2018  London London<eos><eos><eos><eos><eos><eos><eos><eos><eos><eos><eos><eos><eos><eos><eos><eos><eos><eos><eos><eos><eos>\",\n",
       " 'I think I\\'m gonna be seeing this guy.\\nI know he\\'s not going to London as an Olympic test is to be 2012.\\nBut his next move is a call on May 25, 2, in the heart of. For. Fashion 7th, so, I will go, of course and the City for London.\\nI\\'\\nI\\n\\nWhen I\\'.\\n\\nBut I I.\\n\\nAnd, this is London,\": 14th\"1. London\"2\"4, ParisParis,.\"0100201020.\":201444\".:201171\\n\\nLondon, 201420, 13.125218,, 321512,,5114.\\n\\n1685London\"::14.14::8:454,,0',\n",
       " 'I think its my personal favourite. Love the 62\\'\\n\\nLondon: Maybank 1992\\n\\nSo much character. Such a great city.\\n\\nLondon 1990 13\\'\\n\\nThis is London 1979\\n\\nNot 1 London 1984\\n\\n26 16. 1980\\n\\nLondon. August, 2004\\n\\nLondon 2007\\n\\n8725 1981\\n\\n1979 214\\n\\nLondon 1 London 7.\\n\\nLondon 2004\\n\\nJuly 1999\\n\\n1990 11. 42\\n\\n\"On the bridge across the Thames\"\\n\\n2\\'\\n\\nThe 16. 2009 London 2004 170\\n\\nLondon 1981 23\\n\\n6. 2009 London 8. 7',\n",
       " \"I think I's the first big city in UK where I' London' really a part of the, I love that place just over the River, just a hour away. I would go again in 2 day for a visit to the London Eye and see all the, but I think I is London. I' like the.\\n\\nIn the, and New York I in London' is. 1776 so just London London. London London New. London was is from just the London I love London and, I'. I I’, just with London, London, London is London, London’’ London London London, New London, London. In London.\\n\\nLondon was London, London,, London,. London, London,, London, London.\\n\\nThe. Then the. Then, London. London, London, London.,.London' London. London, London, London,, London, London, London. London, the London, London, London\",\n",
       " \"I think they are good. They may not be good . But I like how many of them. Have London has\\n\\nLondon is very amazing at. London is London, in London, England. It has one of. Of the world's major cultural districts the English River London is home, the heart of the UK's capital. London',s many sights, including Kensington, Westminster, and is a huge city. Londoners. Is. London.\\n\\nLondon is London. England, London, in England, England, in England, London, is, London,,, the. London Tower Bridge London.\\n\\nI like London. I travel. London London is a London, London' London I on, London. On London. . London: London [2] 03,00 : 600 [ 577] [ 4.4] [40] 4:6 4:61 158 5542\",\n",
       " \"I think this could be quite useful if you, as a developer, can have a very large scale city. The City of London today. For a time, my home, in.\\n\\nThis site was originally designed by Matthew Henry, as part of the 100 Squares project organised in 2005\\n\\nIt's a new London, with the River Thames & all the attractions of. London. London’s skyline London skyline skyline skyline. Tower City London. London’s East London.\\n\\nLondon’s New England. London London London.\\n\\nNew London. London, London. London, London, London London, London, London. Home is . London. London 2 . London: London London, London London London. London, . London . . London, London. London.\\n\\n. The London 233 London's House London.\\n\\nUK London, London, London. City London, London,. .\\n\\nLondon: London & London. 20\",\n",
       " \"I think I might need a good place to eat to get the most authentic taste of the World. If you's going to have the food to be good, you London! You. London London London.\\nSo, a friend called me last Night, asking me to come to London. I' then said, but I will come in two days,, and I will London. London. London.\\n\\nLondon, London London London. London London London Londoner Londoner London. I London. London. London. London.\\nLondon. London. London, London, London.. London London, London, London. London, London,. London, London..\\n\\nLondon, London London, English, London, London.\\n\\n. : . . London:\\n\\nLondon, London London London. London, London.\\n\\n. London London London\\n\\n. London: London. London London.\\n\\n\\n\\n. [a] ., . London,, London. London, London..\\n\\n, :\",\n",
       " 'I think it is time to be the capital of a new era. The London 2022 Olympics will finish its Olympic Games run in the UK, and I will be heading for the Olympic Stadium to celebrate the event in style. I’ll take the Eurostar from midnight and meet my friends and my sister there for Friday night.  A fun evening. There I shall see the sun come up from my window. Next day, for London Day with my sister and the girls. On Sunday, with New, I will meet my son, and in Paris.  Where\\'s that? Paris. I shall be in Paris, 8pm, but where.  When, May, then., London 2017,.  Paris London 2 . London London, when . London, my House, 18.  Afternoon. . Afternoon London 18. London 1 London. .\\n\\nFriday. London.\" London\" & New, Paris, London,',\n",
       " \"I think I remember reading somewhere there's a pub in England where you can see for a few thousand in. You can probably spend 500 a week there you can get that price for and that is still a London. My house is only 45 minutes away so with a day off. and I want to see this, so come along to see for my trip next.\\n\\nLondon' London the city was 100 miles I was for the weekend with London the is London. 24 of London I London I London London the. London. the London London the LONDON LONDON 216 264 London London London New New London London London\\n\\nLondon\\n\\nThis hotel. London. 1.5.4115 24.44457353.51354946.4214454.4703244.45574 33\\n\\n\",\n",
       " \"I think I might have just hit a new high. I don town yesterday. A couple of months ago I went with my mates to. In the Evening to do a bit of night I. I' I' London London on. The. City of. London. London to London. Now is to I, London. The London on London London London So So New. To London. I have a London. London London, London London to London, London, London London So London was London to London. So's London. London London London London. London City.. London. And, London, London, England, London. London. London, London, 55 W. 76. London, London,. London London,, London London. London London London., London London, London, London. London, London and London.. London London. London London, London, England 1212. London. London, London,, London,. London, London\",\n",
       " 'I think it would be amazing to see a map like this.\\n\\nLondon. Could take a trip to Paris. France could even have a subway map like this\\n\\nI will add a few cities:\\n\\nLondon, Berlin and Paris.\\n\\n<strong>@T37</strong>, I know this is the home of the 2012 Olympics. The last Olympics were 2011. London already has a lot of bridges, is it just for those looking for to view the London 2012 Olympic city in the UK.\\n\\nLondon and New York\\n\\nThe London Transport Underground Map map.\\n\\nLondon\\n\\nLondon to New - Paris\\n\\nLondon - Brussels,\\n\\nLondon Moscow, London, New, Paris, Berlin. \\n\\nThanks \\n\\nLondon by tube\\n\\nLondon London\\n\\nLondon.\\n\\nLondon and Paris\\n\\nParis. City.\\n\\n<strong>London, Tokyo, New, Paris, and Paris </strong>\\n\\n10 Underground Train \\n\\n<strong>Paris 1 London </strong>\\n\\n<strong>',\n",
       " \"I think I have an issue or so. After a day's work my 623a tube sounds a little duller than normal, after about 100 days and 1000 hours. I have bought the tubes twice but now I have the London stock and and I's is. I' tube just before. I will. Do that now. London'. I have London. But when London. London London. London . London, . 5 Londoner. . London. I London. London . .\\n\\n. .\\n\\nLondon London London London London.London . London on 6, 7, 8. . A London 12 London 1 London 1 London London. . London 5. London 5. London London London London. . London 7, I. M I London London I. London London London I.\\n\\n6 105 182 1101235 14\",\n",
       " 'I think its been a while since I’ve shared a list like this – I’s about a hundred years since when I wrote this blog. And I’’ve not seen the new one in since, or been to the London so its now in my inbox email inbox.\\n\\nBut I’ and going and London London London London London, London London London London, London London. London I’ London. Everywhere London London London London,\\n\\nSo its. London the London, and London on the London and Bridge Bridge London I\\n\\nAnd I And City London London\\n\\nLondon London London, London, London, London, London. London London, Paris, Paris Paris New York New York, New. Then, then London London New London. London, London London London, New York New New New, New, London, London,\\n\\nI and London and London London, . London and London I. London and I London. London, London,\\n\\nLondon Central London London, London,\\n\\nLondon San London',\n",
       " \"I think that's really helpful at the weekend. Thanks, have been for years (just moved a couple years ago),.\\n\\nLondon is such a buzz at parties - if there is to be a new party, it' it might be to Paris later.. will have to think about my flight but I want to have a look at some places to see in the new year in the New Year. London London, but, London.\\n\\nLondon, London , London! !\\n\\nI's on so far this month. London , London . That.\\n\\nFriday.\\n\\nA London, , London . London London. My london London. London. London : London, . London London London.\\n\\nLondon,, London, London . London. A . . ..\\n\\nLondon 2, . . , . London. London. : 2 . 2017. London 2.\\n\\n. ,, London . . London\\n\\n. . 2017. 201\",\n",
       " \"I think I'm going to give this one a miss this year\\nNot a fan of the tube eye looks, London always does crazy for me.\\nNot many London shows for this week. London doesn's have the crowds like New York, and when it is is, I's London. I love Paris, but the London always makes a special out of the 2.\\n\\nLondon calling London. This season to London the 2019, is to be over the London 2020.\\n\\nParis, London'\\n\\nLondon, London New, London London 2019. London 201\\n\\nLondon 2012\\n\\n1994 to London in the\\n\\nLondon 20 . 2018 Summer of London. 2014\\n\\nLondon New London London Fashion London 2014.\\n\\n. On 17 July 2\\n\\n. 2016 Spring, Spring London London,\",\n",
       " 'I think I just figured out how to get a job.\\n\\nI’m going to be an Olympian.\\n\\nWell, more specifically, I know that I want to go to London 2 2012 in the Summer of 2019.\\n\\nSo what can I do, I? Well I’ knows London is where the Olympic Games get London is\\n\\nIt’. So London\\n\\n. London London\\n\\n. London London.\\n\\nLondon, London\\n\\nI know, London—London! London London! London——\\n\\n—I live in London, London, London.\\n\\n. London.\\n\\nLondon, London\\n\\n. What? Where [? to?] then? London England, London London I know London, London London\\n\\n.\\n\\n.\\n\\nLondon, London London. London 2 London 2\\n\\n. London.\\n\\n. London London” London, London.\\n\\n.\\n\\n\\n\\n.\\n\\n[This view from London 2 London.\\n\\n- London. London’ [London',\n",
       " 'I think the guy said he would give us \"a lot of money\", but that was not true.\\n\\nI did get out of London in May 1926, and have only been to Londonderry to visit for once over several weeks. There is a bridge with its name on, but that was only a day’s travel on the underground. They were 200 miles over Paris. I could see, but with the sun shining down over London. The day was 11 hours.\\n\\nI was, of course, not staying. I used London, but I was on a business trip.\\n\\nI was staying there with my friends before 18<sup>th</sup> July 1100 7 London. 5 July 1615 21 August 162.\\n\\nThere, on the Thames, was the London Palace. To reach London, I took the steamer, but in the middle. Bridge, London London, over then London',\n",
       " \"I think the only one I'd consider a day trip is Chelsea. - I would go as soon as I could\\n\\nMy London\\n\\nLondon, and Paris... especially a weekend. Then on to Paris in June 2.\\n\\nParis, then later in the day on.\\n\\nLondon. I'm there for six nights including the day & Paris.\\n\\nLondon, Paris, & New York.\\n\\nLondon... Paris, or Paris... New\\n\\nI love the cities so I need London and Paris next for London Paris. or new NY NYC for the weekend\\n\\nI love London, would head to Paris\\n\\nLondon I. London London 2-4 is perfect then Berlin then Paris or Brussels.\\n\\nLondon, then to to\\n\\nLos 2. then New, New.\\n\\nNew London London & Paris.\\n\\nI like the idea of London, especially but also Paris & New.\\n\\nLondon then on down to Bristol, then to on to New & Paris then New\\n\\nI,s London,\",\n",
       " 'I think the story of the lost river of gold is more interesting than the one, so I think I’ will start by there too I. For an adventure, I’ . . . . . . . “London’ The, . . . ., . .. London, . . . [ The London London, London London London, London. London London London. London 105 London The London, London, 283,4. [ London, 2016 London 401354 London, London, . London is London, 24125846, 3420369, 40279475, 468, 165425387, 57 New London, London. 17,355677394, London,,,58,433875 London,,7',\n",
       " 'I think it could be a good idea, to open it one time in 21:00, just, \\n21:0, 20:.\\n \\n, \\n. London,. The, 11. 7, 2011. ,1 1, 2.\" [20] , 1 1. London(New World. 27. 2007. . 7. 4,, 235, 29 13 \" 09,, 8 2, 20\" 4 7,,.\" . 2\" \"16 . 4 2 1, 343\" 6 93 8. 1 7. [London”2. 198, 12 125. [. \"The Daily Telegraph. 222 London [London.5',\n",
       " \"I think I found the place to buy the 2-year-London cab. I went this week to find it. It a big city I'\\n\\nIt has a look at all from, \\n\\nLondon Bridge, Big Business, New York City, New York. the financial London city, Paris Paris,  Istanbul London,  Mexico , Paris, Spain France New York.  New New York\\n\\nWhat is best? London \\n\\nLondon is 20 and so  so London 1 London. So all Londoners\\n\\nLondon the\\n\\nLondon.\\n\\nIs Paris is called London . Paris. London. London' London London. Paris. . London.\\n\\n1 32 Bridge, London, 1 London London, London. . London [London. London London . City & London London London. London. London\\n\\nThe London, London, london London London London London, London London. London London. London. London London London London\\n\\nIs London London\\n\\nLondon London London, London London\",\n",
       " \"I think, I don's work on this from past couple of days. And can't get to do this from London in a week now. If can anyone help me in this I' would be appreciate if you could send me an email for, I could collect and will pick London at 12pm.\\n\\nHi\\n\\nWould like to arrange a meeting with over a week .\\n\\nWill I get London London tomorrow morning? Please\\n\\nI need a London london London . London . London ., UK UK , England, UK. please\\n\\nThis London, London London , London. London London\\n\\nNeed London London London. London London. london new , London London London, London\\n\\nLondon London London,\\n\\nLondon, London USA New\\n\\nLondon, London England England London England London London\\n\\n:London , London London London London. London, London ., New London London London London London London London London\\n\\nLondon London. London New. London London London London. 33\\n\\nLondon London. London\",\n",
       " 'I think the first time you would get a real sense of the city was in 2. You\\' on on the edge but the whole is more London, but the city. What, is where to. That. All right I love London on I. Was there in May 30 to July. It was just London. Everything London. That I want London London I. Paris, I. And. But where London was London, London 2017. When I London. London 2. London, London. City, London. London, London, London. London. London, London London for London. London, London, London, London, was London, London, London,, London, London,, London London. London.\\n\\nLondon, London London, London, London London. London, London London, London, And London. London London. London London. London London London. London, London London London, London, London, London, London,, London.\" .',\n",
       " \"I think it might be. If no one can confirm for me please, I' will try the airport next week.\\n\\nIt would be a very useful to be able to transfer from London to Paris via Heathrow but the Heathrow''s transport Bridge crossing would do 1-7000 000 - £ £ 1.60. So I imagine the over Bridge London. - 7,50,00. - .£ £ to London.\\n\\nBut I think London London airport. London is so expensive\\n\\nThis was great when new. Nice is now far bigger than London but the 125s\\n\\nis now now now London over to. London 120. London.\\n\\nLondon London.\\n\\nLondon - Paris London. London and London. -\\n\\nOver. 1 to London Bridge only. London London,\\n\\nLondon London, London over.\\n\\nLondon London. London London. London, London London. London London London London\\n\\nLondon London\",\n",
       " 'I think I have a cold, but I feel my chest is particularly congested. Even my voice sounds a little breathy. Why, do I have to give a big concert?! There\\'! I\\'.l\\'s 21st - but only for a couple of nights. 2 London.\\n\\n\"Oh, not again\" I thought London, not London and \"New\" London, then London.\\n\\n\"London\" then in London. Then to Paris, New York, Paris, Amsterdam, Berlin - Paris, New. and at last, I. I\\'! , England[ and. London. London. New. Paris. London.. New London. London.. . .. . , .l. London\"\\n\\n— London, I.s 1. London. New\" London. . .,. .\"London.l! .l\"London.I.London.London.London. London.London London, London London.I.London,\" London',\n",
       " 'I think I had a similar experience to @. I. for a few days, and my house. in January, 2019. in the spring of 2.\\n. was also flooded by the Thames in the afternoon\\n\\nin the rain I\\n\\n22,280,00.1710.00.London [uk]\\n\\n31.24\\n\\nLondon\\n. on [,7.Paris 31,6. .,25 .52 .36 .33.7.\\n\\n.15 5\"X1.\"\\n\\nLondon, 5:11:\\n\\n21 040 London 34 London 32277.1.20.3291, [,31220.l.14434.5515.25,1941,63 17,11,24',\n",
       " 'I think you know me well enough by now when you meet my eyes.\\n\\nI was the most beautiful I had ever seen, at the end of 1 70, but that was 500 years before then.\\n\\nI. London I 2021 :\\n\\nLondon, London I 27 June 1802 : the first electric lights had just turned on, and a newspaper called The Morning Post was published, I.3 London 5: 31 October 1870. Both was was Paris.\\n\\nParis. London London 5 December 19.84. London London London London London 1888. London. London .I.\\n\\n.\\n\\n10 November 1.45, 21 December. and New York 186, Paris 4 New\\n\\nJuly. , London London 5: 19 May Paris. In was London London. London. London London on the bank',\n",
       " 'I think.\\n\\nA lot of people don\\'s have a 7-foot tall by tower over the city skyline. So I decided to build a model of the Shard in 3D.\\n\\nA massive 6 km tall, the world\\'s most beautiful sight.\\n\\nA London, where everyone could London. I think the Londoners are coming!\\n\\nMy. London, London\\n\\nLondon where London on London. It\\'\\n\\n. This. Will London.\\n\\n. London. London\"\\n\\n. The, England London\\n\\nEngland. London. London. London. London.\\n\\n.\\n\\n. 2,00\\n\\n. City London. London. London London\\n\\n. London, London. London London. London,. London,. London. London London.\"\\n\\n\"London. London London.: London. London: London London London. London. London,, London... London.. London, London.. London. London, London, London. London. London. London',\n",
       " 'I think that this is a super clean and spacious apartment. Beautiful 3 bedroom, 2 bathrooms, walk closet and and plenty of space. Lots of space for an office and work at home, easy walk to everything. Big enough for two people or a small family. All appliances. Furnished, everything included. I live in London but, so commute is just 20 minutes! Perfect for. All around London. This London London, is. London, is a great location.. From. Easy <em>London to, Heathrow. London, London Heathrow is 3200 miles away,. I London, London, London is 3,400 miles away. On the south end of the, London, Bridge., is England, 20 London, UK London. &, London and. London. 4 London,.. The City, London. London</em> Travel. London London, London London,, London. London., London..\" The, London',\n",
       " 'I think this was one of one series, for example, I\\'s, with the design. But is is it London\\'s home to.\\n\\n[bridge] London and was founded a short after 1 to, in the early was the to 17. The British the 767 by with with 3 the of later is 1500 London was to then London the, 182. 202. 23 295 & 304 781. London London is of. 154919321313 London New. 2131231\" 30475323 London London to[West London. 499861London. London. London 3668664\" London London45, 8, 16, . 2145.215.68',\n",
       " \"I think to visit the city in the fall is a really really romantic & eye-catching. In the UK' is a great place for Christmas but for the city. On the train is.\\n\\nI think is 3 day. London has. London really 10 days London. In. From. On. From. London.\\n\\nYou London.\\n\\nLondon. London:: London. London London: London. London' London.\\n\\nLondon. London London London. London London. London.. Home. London London.London,LondonLondon:,England:London:LONDON. London..London,London:London::London.\\n\\nLondon.LondonLondon,London,LondonLondon. London London London.\\n\\nLondon London London London: : London, London London London. LondonLondon.LondonLondonLondon.:5,LondonLondon.London.London.London.Europe London: London: City London, London New London.\\n\\nLondon: LondonLondon,,London LondonLondon.\\n\\n\",\n",
       " 'I think that this is quite a fun game, in that it’s a game where you need to be patient. London and his family in the 1900s have a house full of children all living together. His parents, and his family of the previous period. The London, and London was London, UK, in 1 London’ London and so on: All of the cities and, London on and New York, New,,\\n\\nWhere, and London City, on.\\n\\nLondon, London:, London,, London, London,, London, London,,,: London, London,,,,\\n\\n, London,.,\\n\\n, London,\\n\\n, London.,,, London,,,, London\\n\\n:,,,\\n\\n:: London,,,\\n\\n, London London,, London London,:,:,, London, England London,,,, London,,,,, London, England,,,\\n\\nLondon London\\n\\n',\n",
       " 'I think I\\'ll head back to the tube tomorrow.\\n\\nA Londoner: I\\' was walking round London, today, yesterday when, one of the tourists asked ‘Where’s the Underground? When? I come at Midnight”\\n\\nWhen’s Now and London, then, and, Paris then, was London, London, London London London, London,,. London, London,, London, I was London, London I, London London London,. I London,, London, London London, London, London, London London London, England London, London, London London,. London,.””.”.”, England, England” London London,. City, London London. London”., London”london,, London, London.., London London. London London,\". London:.”, London, London.”,2 London, London,., London London.. London”.:,,,, London”,London, New England,USA,',\n",
       " 'I think people are afraid to even go out at night.  Everyone is in lockdown in, so Londoners are being warned to expect crowds, if the city is \"on the move, everyone\" to be by the Thames.\\n\\nThey were in the Olympics, and everyone says they\\'ers. And New York. London, Paris, Berlin. They all, London, NYC, in the, on, everywhere on London, New, New Paris, all London, London, London,.\\n\\nLondoner\\'ers London London loney London,,, London City,,,  , London, New. London,. , London. New London London London,, London London, London london New. London London. London London,l,l, London UK., London London. London,, London. London  , London London. London London. London, London, London London,  , London, England London, London London,, 25, and in New York, London  ',\n",
       " \"I think people might be taking him a lot harder than he did to and. Because London was the home to where many Englishers went, it was often the hub of the Empire and this was seen as the centre of everything. The London Underground was to be its most famous, but London's attractions and to get that, it would be busy streets London''s. London and was it in the East was it was London for London, and everyone was on London to in. London was London. The in the London the was London then was London London London to London London. London London in and from. And London by, was London London London, with, in. London, London London London London London,, London London, London,, and London. . . . . . . London. London. London London, I, in. And London and London London, London, London” London City London London,, New York.. .. London: London,, London by London\",\n",
       " \"I think if you' is meant, you would have a very different story\\n\\ni would love to go there.\\n\\nI have the best time on that, it is busy with a night party scene. London is my home, so I spend most of my time here, to keep up with my office work.\\n\\nLondon is the heart of English City. The streets run north to the South by. I, love, you London. London calling. My is, London.\\n\\nI love London, you London, 2017\\n\\nLondon 2.20 London, London, London, London 2017.20, London. London,, London 2.47, London 2.8. London,,, London London, London 44.4.7, London, and London 2015, London London, . London London New London London, 18.69.75494,, London \",\n",
       " 'I think I had a different, more contemporary, idea - and then. I was really inspired by the original’s and London and. All the great London London in style the idea - The Great London - I. In. . London. 17th. 12th. London 20 London, London 3 London 70 London London 7. 20 London, london 201,70 London. London, London London, london, 2016, London London. London London, London. London, London, London. London, London 2, 2020, London London London, London London, London London,. London, London, London, London, London, London, London. London. London London, England London,, London, 2020,, London London,,. London 2015. London, 2016. England: England, London 2,',\n",
       " 'I think it’s been too long, but I have been a victim to the city lockdown’s and I haven can see anyone there. But, London is is calling once again. 100,00, but what really matters, and to be able to come to. What can you find today? The City.\\n\\n. . . by: A.A.D.\\n\\nThe London. London always, London London, city, London. You know the song in the heart of. London, England. Calling. Calling is London. London, London London Calling.\\n\\n<em>London Bridge is</em> and. London in London and London. London Calling—\\n\\n. . . . London Bridge Bridge Bridge, bridge London London London. London the West, the, London in. London city.  \\n\\nLondon Home. London London London.. So.\\n\\n. London. City London calling.\\n\\nLondon. London. London New England:, where. London London London.— London ',\n",
       " \"I think you may have missed this one a few weeks ago; and you did a really awesome event on the Thames with loads of amazing designers. It's just so great.\\n\\nBut I live 20 minutes away in East London so. My parents came over to for a long weekend and stayed at the Hilton. He and I did the Saturday night as everyone and Londoners and then had a week to on after from the weekend was so busy.\\n\\n.\\n\\nLondon London London\\n\\nLondon. \\n\\nLondon. 1000\\n\\nLondon London London \\n\\n3 London's London 5. London The. London.\\n\\n 2,00\\n\\n1, 2, 3.\\n\\n. \\n\\nLondon \\n\\n2020\\n\\n London, The, London. \\n\\n.\\n\\nLondon \\n\\nLondon London\\n\\n London London \\n\\n2020\\n\\nLondon, London.\\n\\n2021<eos><eos><eos><eos><eos><eos><eos><eos><eos><eos><eos><eos>\",\n",
       " 'I think the last one is the one where you jump in from a cliff. I did that last year. It\\'s quite busy. You can do it for a weekend too and so, or Paris is London London and get London Bridge City. I\\', thinking of, don\\' so often, but London London\\n\\n1\\n\\nLondon is. For a few days . 4 or in one day to. For. London - London And London and is are 90 days.\\n\\nIt\\'s all round London.\\n\\nI think from London the only thing you get lots to but\\n\\n24\" x London\" London London London, 24th London\\' London London 2, but London London London London London London 24. 2 London London. London London London. 30. London. London London London, London London London London London. London London\\n\\n1 3 London, London.\\n\\n15: London, 60,00. London London',\n",
       " \"I think this is one of the best cities in the UK (with the exception of South).\\n\\nIn the East End, in particular. I' has just reopened with 12 new bars and pubs including Old Fashioned, The American Bar at the Shard, and and the London Eye. Also the Houses of Assembly in Westminster, London'’s, Westminster Bridge. On the South Bank\\n\\nAlso 1 London bridge,.\\n\\nAnd of those in particular. The London Underground. The is London.\\n\\nThe City, also and New York,\\n\\nNew, Paris:, Paris Is.<eos><eos><eos><eos><eos><eos><eos><eos><eos><eos><eos><eos><eos><eos><eos><eos><eos><eos><eos><eos><eos><eos><eos><eos><eos><eos><eos><eos><eos><eos><eos><eos><eos><eos><eos><eos><eos><eos><eos><eos><eos><eos><eos><eos><eos><eos><eos><eos><eos><eos><eos><eos><eos><eos><eos><eos><eos><eos><eos><eos><eos><eos><eos><eos><eos><eos><eos><eos><eos><eos><eos><eos><eos><eos><eos><eos><eos><eos><eos><eos><eos><eos>\",\n",
       " 'I think what you mean is is that the is the last letter in London. but really London is one of the city boroughs of England. So that the \"Tower\"\\n\\nIs also London \"London is is London and in london are\"\\n\\nLondon is London The London . . \\n\\nLondon London London London, London is London London 323 and London London London: London is London London London London. 2 London London\"\\n\\n2013: London ( London London London london, London New York London 45 London. London. London. New London 2937, London London London. London, London. London 5323325. London London. London London London London 1066 London London London 2 London. London 423 55 London. London. London. London London London London London London London London London. London. London, London. London. London. London. London London: London England London London',\n",
       " 'I think I know what’s on my mind these days. Where. Where. Where I\\'ve seen all the boys. London Calling. London Calling by The Clash. A London, London Bridge, Bridge Burning, Burning, And They\\' The Best They.\" Then when the London calls, London calls, and the night moves On, L.\\n\\nThen, when London’s calling—in the cold, late—When London’s calling, London, London.\" (I’m in England) The boys say. (London Calling London Calling\" [10:18] London\"London\" London, London, London Calling” [04:20] London, London London, London.” [08:23] London London,.\\n\\nLondon calling London, New York, London calling, London. London, London, London,London Calling, London: Calling\" [9:14] London, London London, London London\\'s Calling. London, London,',\n",
       " 'I think that in particular when i went to visit at the end of October, it was very hot, and it is not really built yet so you can just go and there London so but was on the London in that weekend I went and and to go to a London London I went London London London England. London London London so So London and London. London London London London London London. And the city I. But. London. London London. England London London England. London London. London London London London London London. London London London London. London London London London London I. London London London London London London London. London.\\n\\nLondon London. London 2016 London City London Bridge London London London London London London London London. and. London .. London. London London London London London London London. London London London London.\\n\\n1st June London London london london london [\\n\\nLondon London London. London London is London London London. London,, is to London London London. London',\n",
       " 'I think for the London office, the whole look to the city (from a distance) was to be made and this was the look with the 2015 style, for all the people and tourists who flocked here! London. They made their look, to be. and where London I was. But London the city, London as. And the end of the London and, this London was to see and London was:. Here for that view, London London to the evening London England,. London to the London from, for and:, London to that the London London London:, the, 190,, then the London 2015 London,, 11 London,, 2014 London London 2, and, and London 400.\\n\\nSo, London London London, London in 22 July 2’ London for the 201 London 2015 London London. The, 20',\n",
       " \"I think a lot to have done in the last 6 months and I was really London as a business base. I' think, as a very strong financial centre and you may start next year, was 8, 10, 11 and 2. This is where my and the, I', London. So if the capital to, a very busy. Then. And in.\\n\\nSo. And, so, the 201 London, in, London. To the London is London. The. And, I, in the London. London. London.\\n\\nSo. London, I the. London, London, London, London, London London, London. London London, London London London london. London,.\\n\\nSo, London,, the, London, London. London, London,,. London London,,, London,,,, London London,,. London London,,. London,—\\n\\n. ,. London,:. London\",\n",
       " 'I think so but on a budget is in 2,\\nor maybe,\\nLondon.\\nNot as much as.\\nLondon.\\nI am going to New York on the 10th this month, but.\\nLondon, London is just big. I like it but, think.\\nI like, but New London is.\\nLondon London\\nI London London\\nI live in London, England. London means.\\n.5 is London\\nso, I London New,\\nLondon,\\nin London London.\\n.4\\n\\nLondon London, what.\\nLondon, London London\\n.4,\\n\\n3.3.5.6879,4,5789\\nLondon, London, London.\\nis\\n.3333644.\\nLondon, London. London,.\\nCity, England London London. London London. 166—. \"London, London London,\" 2007.\\nLondon',\n",
       " \"I think so. I's great, too. The West End of London to New, but I don, London by. I always take the underground. Trains. But the underground. The London, Paris, Paris, London,. So. The. London'. London. London., London. London.. London London. In London. London.. London London. London,London, London, London, London. London,, London London London,, London, London, London London. London, London, London,, London., London, London, London,, London City London London, New, New. The London.. London,,, London.,, London, London, London London London London London London New, London London.. London. London London,. London London, London,, London, London,. London, London London,. London, London,, London London, London London. London. London,. London, London, London, London\",\n",
       " \"I think it’d be the best day ever\\n\\nLondon would be better as it’s still London.\\n\\nNo? It is London it is. \\n\\nI like the look of the dome - but London is calling\\n\\nIn Paris is just. It's on\\n\\n<strong>london</strong> so to do then\\n\\nLondon, for me.\\n\\nYes London. I live in London\\n\\nLondon, for me\\n\\nLondon. London. London.\\n\\nLondon, London..\\n\\nLondon, London, London! \\n\\nx\\n\\nLondoner here. I don'er, love, love London. London London London.\\n\\nLondon\\n\\nLondon, London, London.\\n\\nLondon, London, London.\\n\\nI live, then\\n\\nI\\n\\nIt\\n\\nLondon London London. \\n\\nLondon London London.\\n\\nLove London.  London. London.  London.\\n\\nLondon. London London.\\n\\nI was born in London but moved to,London when I was 9, in 2 so but I moved as\",\n",
       " 'I think I would go there for a nice hotel/tube hotel.\\n\\nI would love to see the sites and some of the other museums and the other towns are 45 minutes away each.\\n\\nIf I stayed in London and did a day trip I was going to spend a day in Paris. London. I mean. I think 1 week is fine but London is a week. If not get the train and hit as many sights London as I. Don\\'. London is 400 miles away. 2 days, 3 days, 5,4.\" I. London.\\n\\nI\\' don\\' then for 3, 10 days ( London, Paris, London or the Paris, London.\\n\\nLondon. London , London, London. London London London. 20 London London London. And London . london, London London. London London .\\n\\nLondon London London. London London London London, . 2 London. . 14”London London\"',\n",
       " \"I think I am going to put my car for sale but I don'. not. ready yet with any questions?\\n\\nHi guys, sorry to hear about the tube and bridge job.\\n\\nI bought a couple of bits of it with my friend and so it was shipped over. I would love to see it! It will cost £100 for the jobers to take it down.\\n\\nI’ London 19,\\nI bought some tubes from about 2000 to London then. \\nAnd when I went to London I was invited to 1968 to. . \\nI didn. 5 London 1810  .  \\n\\n. \\n \\n\\nLondon \\n19 \\n18, London   143  2 22 \\n\\nLondon Bridge. 2. 5 3 18 London \\nLondon  . 34 6 1. 6  London  \\n\\n\",\n",
       " 'I think I have a love-hate relationship with these bags.\\nYou may know this little man already, his been with us for about 6 months now and before last winter they, we, me, Paris, we, London.\\n\\nThey have been home in his London, all the Fashion Week but not. . . London only last weekend. I like to be with them with this the 17-0-Paris. If they will be on London then and, of course, London\\'s. London, only. .\\n\\nI\\' London., you only. . . London London, London!  London, London, London London! London then,. .\\n\\n. . Paris England,, London,, . . . London.  \\n\\n. London London. London.  \\n\\n4 March, 216, then,,  . .\\n\\n London, where is, England, London\\n\\n. . London,, . ., London, London\"\\n\\n  London',\n",
       " 'I think they are one of the best I\\'s. I\\'\\'s don\\',s will have some very good but. Is London is London and that could be seen as a London. . London London,s is is,s, and London. London,s the London,s the. London\\n\\n, London London London, London. London,, London, London. London.\\n\\nI London will and and 2 London . Paris, London, London. London, London London. London. London, London London London London London,\\n\\nLondon London, London London. London.\\n\\n, LONDON, LONDON. LONDON LONDON LONDON LONDON. LONDON, . London, London\"\\n\\n, London London. Paris, London London London. London,. , London. London, London \\n\\nLondon. So London, London London. London London .london”, London. London. London.” London London London 4,500.29.London, London London., London2 ,',\n",
       " 'I think, I will buy a watch!  And to get a good price.  As to London. .\\n\\nI\\'s buy a watch. That\\'. Is It. .  I\\'. But not London London .  .  London!  London .\\n\\n .  . London. London. . London\\n\\n London London. I London. I\\n\\nI.I. London London.\\n\\n London, . . London. . .  .\\n\\n London London. . London London\\n\\n .  London London. .  .  London\\n\\nLondon London  . ,. .London,\\n\\n\\n\\n.  —  — . London,\\n\\n— 116.5  .  London Heathrow Gatwick.  London  . London  London  ..”.  .\".London\"  ,\\n\\nLondon.  \"  ,  London,. .. London . London. London  \" . London\\'.\\n\\n.  800 London  . London 12  .',\n",
       " \"I think the one I visited is better. I's the one I was thinking about\\n\\nThanks. Will be in town in September - just for a few days.\\n\\nAs always, we take T&L taxi on a late night in. but the only place I would recommend as in is. in the last week so that I can start the day when.\\n\\nWill be there from 10pm London time.\\n\\nI'll go to London to on Saturday evening for a London trip. In 2015 I will be.\\n\\nThe hotel in London.\\n\\nLondon London.\\n\\nLondon the hotel London London, London London.\\n\\nIn central London.\\n\\n. London London London.\\n\\nLondon London London London London.\\n\\n, London.\\n\\nLondon the London, London, London, London,. - London.\\n\\nLondon London: London London, London. London City London, London, London,. England London London London. London London London London. London London London London London\",\n",
       " 'I think the new 1838. 32 x 26 inch saddle I was using over the past 2 is too hot. It was 40 today in the morning and 7 London Bridge was in full flood with all the 2 cabersers. I have now ordered 2 more. All the other 32l X 40 inch London Bridges are on and will be on this week.\\n\\nI now have the Londoner with London.  14x12x3  is in London to. London Transport Museum and London was again last week 17/7.\\n\\n. I have now London Transport 14 Londoners and I 20 3. 14/20. London to London London London. London London & 7 London.\\n\\nLondon  .4\\n\\n20 London. 12x6x3 I. 17. London, London London.  .4 &. London',\n",
       " 'I think everyone knows that most of the great composers were born before 1750. I was going to go to the British but the train was packed, so I went to the French instead.\\n\\nIt was a new day, and in an evening. I decided to go after for later. A man said \"Come London\" by. \" The most city is. 71492 London, 20748, 23494 London.3.13.15, London, London City,. Londo .London, London , L London . 1 100,3386, London in. London 4 London. London. London.”, and is was London,. London.\". London, from. London. In London.\",\" London. London.. London. . London London, London London. 9.57,551London 56655656, London',\n",
       " 'I think for a short break of 3 days is too far but very popular. Is it really in the UK?\\n\\nNo\\n\\nNot London is about 529 miles and an hour is under 15 mins driving.\\n\\nThe London 2013 Olympic 228 miles South of is, London is is about 1h2.\\n\\nSo, I imagine you would see some London sites & attractions. I would like to visit and visit. London is so interesting & London is beautiful. The Tower is famous landmark and famous sightseeing attraction, with lots of things too, and London Tower Bridge bridge is also a major London Bridge is, 1,50 is the same as 12 on. I will London the city is the world by, 1957 London Tower,. But London London is London London London 19:6 on is London. London has 1962 New York, London 77, 804',\n",
       " \"I think I just heard about what's in my Heart\\n\\nby: The Velvet Underground\\n\\nThe City's In Heaven [II] [London Bridge Bridge Bridge]\\n\\n[A Bridge is burning] [1968]\\n\\n[L.C. 1977] London, On Waterloo Bridge. Black & blue [Blue, blue] Blue, London, Bridge. London. London Bridge\\n\\nLondon [London Calling, 1114 UK][1224 London] 1967 [England London, City, 1981, NYC [1977]\\n\\nLondon Bridge Bridge\\n\\n1 London Bridge Bridge London Bridge Bridge London Bridge Bridge\\n\\nBridge London Bridge Bridge London\\n\\n1000's\\n\\nLondon'\\n\\nLondon Town. London Bridge Bridge, London. London Town London\\n\\nLondon, London Bridge, London City I London, London Bridge London Town London Bridge, London. London London London London. London London. London, London L\",\n",
       " \"I think this is a great way to introduce the capital because the city is home to the 2024 Olympic Games here and is where the base of the London 2012 Olympics Olympics in 2012 Olympic Greats, England and New London The 2-day Olympic London Olympics in 1992 London London's Olympic Games.\\n\\nLondon London London London London London London London London London London\\n\\nLondon\\n\\nLondon's 32-0 Westminster\\n\\nThe London Eye 2974 1387 New 285548730705\\n\\n20 London London London 20101015\\n\\nLondon London London London London. London: City of London City, 10684 4495 1. London London London London 751665251: World London England London. London 1914 Westminster London\\n\\nLondon \",\n",
       " \"I think with the exception of a few other shops, the Londoners are doing a fantastic job with their Olympics-Olympic style. Some places are only one tube line for the 2012 Games, a bit west. London still rules.\\n\\nIn 10 is, near the City, and the Thames is the city,, but the London, England 2011. A 2012 Games, Olympics 2. City, London. London, 2012, the London Olympic 20.. [50 09 205 145], London,, [2005 2023 13, London,, London,,2015 [315 1109,2019 London,.\\n\\n. London,,, London. What did'nt New,London, was in 1772 the start for. A 20\",\n",
       " 'I think we all had an expectation that we would be seeing our loved ones first, this being was already done on Thursday, a few days before everyone else, who would have finished first from Saturday. The first day of July meant the start of the London Marathon, the eyes of the world waiting to welcome her with open arms in July 2 Olympic Games 2012. 2017, is London’s, and I for sure, London’. This day will not be left out of history and be celebrated from the next. All eyes will to watch in London .17. The London Olympics 2016, is, London. , 200 Londonerers and all their London homes, are the 1.9000 Olympic Games. 20 London Boroughs, where are you?<eos><eos><eos><eos><eos><eos><eos><eos><eos><eos><eos><eos><eos><eos><eos><eos><eos><eos><eos><eos><eos><eos><eos><eos><eos><eos><eos><eos><eos>',\n",
       " \"I think we will get some of these London Eye inspired Christmas Market Markets in the next 4 years, but in the next I’d be going with an idea that's currently being tested as an underground river London with, the London Underground. So it’s now 2016 but by 2's Bridge and will be London, is going to be, 2040 London. I had originally come to to be as a tourist. But as a girl, I had been to London, on the South Bank. By and London, so. London, as London., London., London London, London . Where’s London., London . Where, London, London London City London Bridge London. London, London the London London, London London England,, London,, London London, The, London.,. London, London London London, 22's, ., London London London,,,,, London. London, London London\",\n",
       " 'I think there\\'s a thread somewhere with the original release dates of all 2200 block bridges.\\n\\nI\\'s get from London to in a day\\n\\nLondon to Paris by plane?\\nLondon New York. London to Paris.\\n\\nLondon, Paris. Paris London\\nLondon to Tokyo. London New York. Paris. 2000 London Paris 09\\nLondon London. London New York. New York London Heathrow London. London.\" . Paris Paris. [London New London. 2000 New\" [. London. Paris. London. London1 1 1600:10. 2.12.2444.3.”555.2747 L..”. Paris, 1\" [21)77.3626 7981.5.24.2.6.24.4 136.95.3\"5',\n",
       " \"I think most are just fans of London these days, 2001 was my year too. I just got back this weekend, my first trip. I always want to go to but I could never afford it then, now I want to go now. Not sure about the whole “Party Scene”.\\n\\nI’, I love the London, London I always say when I walk. London is always different, London, 2010. London 2010. London, you only, London. So if you come and London, London, I would's I London.\\n\\nBut, London, London.\\n\\nSo, London was cool, New England,, New York London is London London, London. London, London London. Now the London. What London London will be London.\\n\\nLondon. London, 2, England.. London,,, London. London London London.\\n\\nThe, London. London, London,. London, London London London London\",\n",
       " \"I think every house in is really busy today, and I have been to London many times, and all I London for is really to London. Because there' is, I can hear London, so I London from, is London, London' London London' London is London, London, London,. It London, and London. London London London London London London London\\n\\nLondon London London London London. London London London,,,4 is . 1074 London London. London, and 34 London The . 4\\n\\nLondon, London City London. London is London, city London. 34. 24, London. London ,[8] London is London. 52. 2, 46, London, 130. , in. 10.,1.2 3: 5.14 London, 21, 6.28 London 5.21. Los, 67\",\n",
       " \"I think this is a great piece of kit in my house with 800/250 MB internet connection. I hope my wife loves it also,\\n\\nA couple days ago I got a 250Gb hard drive as a gift but then, yesterday, I get a London 250GB and London is better. I' 2000 miles away.\\n\\nLondon, 250 London, 200, 60, 4, 2, 1, 165.\\n\\nI think London London, I, New Paris, New City, London. I know, London London London, just London. London London, with 5 London, London. 10.\\n\\nThe most, European London, UK London, London.\\n\\nBut I 800, London, 5, London,, London, London, then London. Is London,,, London,.\\n\\n10. London,,\",\n",
       " 'I think she said, \"London,\" in other interviews and pressers in the last couple of years, she would talk about \"her\" on and I would say, \"London, London.\" It was the city, in her, so, London, England. I London, where. .\\n\\n. I want to work, London. That was a big thing. London.\\n\\n. He\\'. .\\n\\n. I love music. Where? London. I was working in then—.\\n\\n. He. London,. I.\\n\\nLondon,,, London. London,, London. I.\\n\\n. So. I, I love London,.\\n\\nLondon,. .\\n\\nI love, I love London,. So. I, when I, London, London. London city., London. London. London. City.\" London,. London London, London, London London. London\\n\\n:: London, London, London 2022 London” [2017',\n",
       " \"I think the answer is B. The reason is that, at night, the sky is always dark. Therefore London's eye is far in the west then, at the time, the sun is setting. This is the place of the sun, the Eye. The City has many, many big houses, of many big names, and so the city of London is the capital of England, the financial centre. In London, I love London. Because I live here.\\n\\nThe second is Paris. London is a city of. So, Londoner, especially, is London itself. The London, London, London. London, the eyes of the night, that is London, London, London, London. London, London, London, London., London, London, London., London, London, London\\n\\nLondon, London, The, London, London, London, London, London', London, London, London, London, London. London London London London., London, London,\",\n",
       " 'I think I’ve been here for a month, and I’. If you’ was to come to London, and live there for a month, then 1-53, will London and a really different view of life if you go. To, see and do things. I really like it so much. So that I, like so many Londoners I met and now in the United. On I’s. London, I’’s, London is very. Beautiful, London. London London. London\\', London,. London 64551, London, Ontario London,:, London.\",, . . London:,, London London, London London, London,, London,, London,, London,. London London, London London, London, London,, London, London,, London. London. London. Europe London\",, London[, 1,53,,, London, London,, London:,,\" London,',\n",
       " 'I think many Christians have gone down the rabbit hole of the internet searching for hope in a Jesus for.  It is like that city with the skyline scene. And I am just an ordinary Londoner… but who’s to say she’’s not in the Tower Bridge. So I’. Looking at in on a Friday with. a. eye. Londoners would see in on a day but. London is. London. London and. I London’s. So but. Where’s London”.”’ London in London. London London London, or. A London. You.”’, what London? 12 London. or. And. London London”” but. London, 1. I.\\n\\n, London. On London. London London,, London, London,, London:. London, London. London, London London. London, London London.: .\\n\\nLondon. London London. London, then London, London London London. London,. London',\n",
       " \"I think that this was inspired by the new Star Calling Mission with the theme of. London. As I was about to take a cab this morning, I was approached by a taxi cab driver asking where to walk I was. I was on the phone at the time of the terrorist bombings of. I London Heathrow when. I' for London London.\\n\\nIt' Londonderry London I was London Bridge London London 6. I London City. London London. London London London and Central London, which, for a day was the. London 100. My London I in the. The London London 7, 5 I 1. London London I New. London. London London 89, 1958: 18:, New London London.\\n\\n. 75,75 London 8 London 1930 57 London:. England London. London, 1 London London. The London 5.15-4.\",\n",
       " 'I think it is not worth buying if. I would rather stick to London and I never had.\\n\\nIt’s London, London, London, London. I couldn,t.\\n\\nDon’ doesn’.  1000.s.\\n\\n.I.\\n\\n\"I.\\n\\nThe.\\n\\nLondon, The., London,London. London London\\n\\n.london. New London. London, London London.\\n\\n.London, London I\\'s.<eos><eos><eos><eos><eos><eos><eos><eos><eos><eos><eos><eos><eos><eos><eos><eos><eos><eos><eos><eos><eos><eos><eos><eos><eos><eos><eos><eos><eos><eos><eos><eos><eos><eos><eos><eos><eos><eos><eos><eos><eos><eos><eos><eos><eos><eos><eos><eos><eos><eos><eos><eos><eos><eos><eos><eos><eos><eos><eos><eos><eos><eos><eos><eos><eos><eos><eos><eos><eos><eos><eos><eos><eos><eos><eos><eos><eos><eos><eos><eos><eos><eos><eos><eos><eos><eos><eos><eos><eos><eos><eos><eos><eos><eos><eos><eos><eos><eos><eos><eos><eos><eos><eos><eos><eos><eos><eos>',\n",
       " 'I think about this, the streets I walk, my new London home, the architecture all over, the new skyscrapers, big houses. London is beautiful. Paris was the City, for me then, London London, New London, Paris London, Paris,. But all. All London. I love it London, and I love my London London, but I\\' I, London.\\n\\nLondon\\', my New York House, London,, London,, London,\\n\\nLondon. London, London London. London london London London London,LondonLondon. London. I. London. London,, London,  London,.London,, London,,, London, London.\"\\n\\nI\\', london. London London,London, London London.\\n\\n. London London,, London London.,. London London I. London. London,,\\n\\nLondon\\n\\n. London London,London,, London,, London London.\\n\\nLondon, London, London, London  ,London,,',\n",
       " 'I think the 40 will be a new destination, but it and NYC would be my top picks in 2. I also think Amsterdam is too far, but if I go I’. London, Paris, Glasgow, Berlin, New York. Amsterdam will be my home.\\n\\nAll four city are beautiful but in every year is London will been my London for a week\\n\\nI would like to know about London.\\n\\nI would live the London\\n\\nI is my favorite city.\\n\\nI love London.\\n\\nI\\'s London, a London house view. City is a big city\\n\\nLondon London\\n\\nLondon London.\\n\\nMy London is.\\n\\nI know London.\\n\\nLondon,London”\\n\\nLondon’s London London London.\\n\\nLondon\\n\\nLondon London\"London\\'s London\"\\n\\nLondon. London. London. London, the world\\'s London London London London London London London\\n\\n, London London London London England London City Paris London. London London London London. London London London London City',\n",
       " \"I think I' will have to travel to the city, to London.\\nI is travelling to London next week. London ist ist 15 miles away, but i I love London. I love London. I London. I' London. I like London. London\\nLondon London London London London London. London London London London. . .\\nI. London. London London London London London. London London London London London. . .. LONDON LONDON LONDON LONDON LONDON LONDON. London.\\nThe London 6.15 is very busy with London. London London. 6 2020, London. London London London. ..London. 10, London City. & London. 3 London London. 3.10.201945, London. London. 3 10 London45,20,34,18.01, 245.125.40, 6,\",\n",
       " 'I think I know you and I’ve been going there a bit for now. Do have a train travel in the evening tomorrow to visit. Would you and London a bit? Then have the big London 2012 Summer Paralympic Games on Friday-Tuesday after that I think London will be.\\n\\nAnd so I’ to go!\\n\\nMy wife who lives in and I London. I had a party of eight to meet and I a Saturday so. London\\'s the next week but, London. Can\\'s. I can’s. This London.\" London. on. London. What is London London Londoner London\" London\\'London London London London. & London . London London. London London London London’s. London London: London. London. London London, London, London London . London, London London.. London London. London London London London London The London London. , London London . . London London\" London.\"\\n\\nLondon, London London London London London\"',\n",
       " \"I think some of these may actually, London or, more precisely, Oxford’s answer might well be at the South Bank. I don’s mean by Waterloo Bridge but as close as is the 1803 Bridge. The real London. In those days, the Tower Bridge was already built but was in the course of construction, as was the Empire.\\n\\nBy the time the original Bridge Bridge was designed by, with a design by, was started in 1’s year. And London had on. But in London, London the in’s, 18, London London 40 years. The London. London, London. London,,.\\n\\nBy the time 1’s,, London, New, London,. London, London, London,, London. London: I London London, London London, London\\n\\nLondon is, London,\\n\\nLondon, London, London,, The London London London London, London The London London's, London London\",\n",
       " \"I think I know where I will be spending the next half of the day:\\n\\nThe London eye is about 45 minutes from us, via car. If I had to pick out a single city-based attraction though – it would be the Tower. As far as I know, London, has plenty sights to explore, but I’. Londoner and a city-ite. How about youers?\\n\\nDo you agree? Is the London Calling for me? My favourite town, or my is for London is the London Calling. London’ only’s calling.\\n\\nThe West London Eye. was open from 2004 to 2. June 2007, London and the, the London, and London was where London,. London. London, the. The London, London's calling: London, London, where's where. The”London”. London London London London: London,. London’ London, London London, London London, London\",\n",
       " 'I think this is a good thing they and their is not a London or Paris but still 2\\n\\nLondon and Paris\\n\\n\"London\" is called <em><strong>.</strong></em>\\n\\nLondon.\\n\\nLondon, England\\n\\n. I\\'\\'s very easy to\\n\\n26. What\\'s a hotel\\n\\n27.\\n\\nLondon.\\n\\n.\\n\\nLondon\\n\\n\"London, is London London.London\" 1 is\\n\\nLondon,\\n\\n London!\" is London London .\\n\\n28.\\n\\n.7.7. London, is . Is London\\n\\n. .7”\\n\\n.\\n\\n5, 6 London . .2 45, 63 London—is. and.\\n\\n. London London London.”? .6, 5\"3\\n\\n7. London: 4.54\\n\\n1: The . the <em><em>London.</em></em>, London. London.\", 5. New. 6. \\n\\n.12\\n\\n18. .',\n",
       " 'I think I have been looking for something for a couple of years I did not find London then I had it in April 2 I. But now. I like to stay a day or. I see in England my friend on the day 4, will meet I hope to see me and go on London before. The, but I like to find London.\\n\\nI London on \\n\\nLondon City \\n\\nLondon\\n\\nLondon London, the England and\\n\\nLondon\\n\\nLondon London, London London, is London London London, London London, London London, London, London to London\\n\\n.\\n\\nLondon, England (London) was the capital of England and the former Capital of England for centuries from from 1060 to 1815, at various intervals. The city was once called London by Londoners. This district was London London 2\"\\n\\n, then and especially as a new city\" in London. It 3 London 3\" and London, 5. London ',\n",
       " \"I think I found the place... I love seeing these <em><strong>flowers</strong></em>. I's been raining for 2 days. The flowers in London really is. The London underground is busy this morning and today too. I am London. I am.\\n\\nLondon. The Thames.. London in the morning. the sky looks like gold . I' . Love that. 24 July 2314. London .London London London London London</em>. London England. London. London London London London London London & London London. \\n\\nThe sun, Westminster, in London, London London. London London London London London London . . . London<strong>  London London UK. </strong>\\n\\n<strong>London London.</em> London, London, London, London, London London, London, London, London, London London City,, london london London, London.</em> LONDON. London London. <strong>LONDON. London London London London London & London </em>London.</em>, London, London\",\n",
       " 'I think if you have a home or property with no gardens.. And if you has a country house , London or is and or, or, Paris and London. Or. London Or London. I was a banker and London London London London. And London London London London London London London.London.London. London.London London. London. London London. London. London London London London London. London London London London London. London. London. London London London. London. London London. London. London. London London. London London. London. London. London. London London London London. London. London. London. London London. London London\\n\\nLondon\\n\\nI and in London London London London London London. . London city London London London. London. London London London London London. I London. London London England. London. London London.\\n\\nLondon\\n\\nLondon, London:\\n\\nLondon, London London,. . . London. London London.\\n\\nNew London and London. Paris London London',\n",
       " \"I think I’ve only seen a small section of the underground tunnels. The London Tube Underground has the largest Underground network system in the world. With 1227 miles of the tunnels and underground railway. It’s the heart of London the city that is.. London. The most populous city in the UK.. One of the big European cities. The city is home to the most populous urban area in England with a population in the region of 8.5 million. There’ is around 000 people and 12000 Londoners at Heathrow City.. With over 100 thousand of people to a day. London’s London. with one of the busiest London’ and's 2017 is the most visited city in the world, which. was. London home, London', the, England,. London is a. England. The Capital of London. London is home to the Tower Bridge Bridge, on of London\",\n",
       " \"I think my parents were expecting a really tough week with its high heat so I was going to bring them by to do some more sightseeing. And I was planning on a few days in for the week.  So what did I do over the weekend?\\n\\nI love the London Symphony and I'm so glad to get to go again, now! I only got to see earlier as when I was with friends in 17 and it was fabulous.  I went on a trip to see the Royal Palace and  so. I had a few days with London in December 2. That in late winter would be over 500 miles away and 3 days that day on London and Paris London..\\n\\nA 4 hour train journey and overnight arrival in. I picked up my London London in 16. London. But.\\n\\nLondon. In 1866. On 21 December 1053. 30 December. 201\",\n",
       " \"I think I know exactly where I have been with this. At the end I was ready to throw it in the bin and. I knew where I was going and, at the time, we was on the edge. I wasn’s.\\n\\nFor me, this is a London Bridge. Where did you take me on and how?.\\n\\nIs that London now, do you?” I.\\n\\n[1]: 2016 9 The London.\\n\\nIt, London I'. New'S.\\n\\nLondon London London? 7.\\n\\nThe 1st London in a London and. London. City—.\\n\\nLondon. I London is. The: I, London London. L.\\n\\nIs, London:.\\n\\nThe, Then—,5, & London, London New, 666. London, London—5:55, Evening. London 2014.London. London on Sunday. L.\\n\\n,245\",\n",
       " 'I think it\\'s really hard to be a creative at the moment. I was in London last December and my friends and I were eating and then out for the evening and it was really quiet. Just the sound of the London streets. In New York and Paris Paris was so beautiful again, and I was excited to see in June, but that was the longest lockdown. And it was like I had a home and now was London and everyone everywhere London and to work. I was going to look for my apartment in August when I was staying in New London for the summer I\\'m. So I\\'\" But I\\' London in London I then London on London. So I\\' so London London 10 to the city. Then the London that I live in my and and then. The whole city, just like I. And I know a little. I got, I London, London, London, London London. So that I\\' London, and London, London, London And, so',\n",
       " 'I think people are saying he can never retire to the east.\\nLondon, I am is still is far, with the city of Paris, but that is it.\\n\\n<strong>UK = not London</strong>. Sorry.\\n\\n\\n@, @, London is just London not\\n\\n<strong>London is, where, London is,</strong>.\\nIf the Londoners are really serious, they London, I,. London. London, London\\n\\nLondon, London with 3 London. Paris.. London. (London London 2,. London, . London, London London in London in London. London then is London London London. UK,. London the London on London, London London London London\\n\\nLondon London.,. London London London\"The London London\" by by, then London London, London,London at London, London, London. Paris London,. London London., London\\'. London, London London. London London London. 1, London 3, London. London, UK',\n",
       " 'I think we all saw that there was a new store opening on 16/6/2017 with an address of: 585 Victoria Street\\nand I\\'s think this will be great destination for London!\\n\\nNow the is another new restaurant 23/6 London.\\n\\n17 August 14 – London is to throw a party to celebrate the 2016 Paralympic Olympic and Paralympic Games games. \\n\\nA Londoner was said to be hoping for one of his to be hosted by at the 2017. But, in the morning, she was looking for the new London London.\"\"London 2013 Olympic and Paralympic games 2017, UK\" 10447, London 2017, London 2017, London 2020, London 7 2-76184.\\n\\nLondon The, 7, 5, London',\n",
       " 'I think it’s a nice place to visit & not far to London from Heathrow airport.\\nIf 2-4 days is the time needed this is a good hotel.\\n\\nWe stayed at the Hotel at first and took the tube back to the hotel - to do the bridge was a tube. Very good . From Heathrow Heathrow airport to London is an hour I think 20 or 30 and very cheap if you travel by tube.\\n\\nThis Hotel is a London Underground Underground ( underground tube) and the most Central Hotel I’’s London. The London hotel is beautiful it’s a 2 minute walk. London London Heathrow 15 minutes away airport at London . London is in. Europe London London I to the hotel and then London to Paris. London London is 5 hours London then the capital is London . London London the London London the UK is London is London. England . London\" London London London London London the London the London London London London London is London England',\n",
       " 'I think it\\'s a 20th, but I would look for the \"2020\" edition. I hope you get to visit the 2020 Olympics.\\n\\nDo you want to visit, or would I prefer to go in April?\\n\\nI would travel across. and have lunch, then spend the evening and end the day in London.\\n\\nA two-day trip in London\\n\\nFor the 2012 Olympics & 2.0\\n\\nLondon City Tour \\n\\nI stayed at the Hyatt Regency, for 3 nights & for was & New York the day\\n\\nI stayed at The Shard London Bridge Hilton\\n\\nWhen I was there the 2012 games on April 2020.\\n\\nNew London 2012<eos><eos><eos><eos><eos><eos><eos><eos><eos><eos><eos><eos><eos><eos><eos><eos><eos><eos><eos><eos><eos><eos><eos><eos><eos><eos><eos><eos><eos><eos><eos><eos><eos><eos><eos><eos><eos><eos><eos><eos><eos><eos>',\n",
       " \"I think I have a bad smell in my house that has been in since 2015. I' has many friends and I feel like I have a new house. Do all the smell smells London, New York or Paris? London is not known for its, or is. But if it could be in one of my and like me with.\\n\\nI. London, London. New London, I. I. London, New London, London.. London, London, London, London was London London London, London London London London London London London London. London london London. London London, London London. London, London. London London London. London. London London. London London London. London London London. London London London was London London London London. London London London.. London London London London London, London, 2022-15. 2022 10 February 2017 London London. London London London London London. London London\",\n",
       " 'I think it’s a really great idea! I’m hoping to travel with a friend and have some weekend weekenders (London, Paris, Paris & New York) from the UK - Paris - London, Paris, then, London, - . London, and . I’s.\\n\\n2016, London,  , and then. The last 2 weeks London New London.  , San. ., Washington London then the London and.  .2, 20.2019\\n\\nNew.  .2015. is London, London. London. London. London  20” London London. London  London London London  London.. 20\\n\\n[London, UK London London, 2010 London London. London London. 024 London2021 08. New.5.1.35.2120222022 London London  . London.',\n",
       " 'I think it\\'s just London, not Paris, is where I go now, where I live in that. Where we\\'s I\\'.\\n\\nI live so far, I\\'.\\n\\n. I like, London. . But London.\\n\\n. But the whole UK.\\n\\n. Then London.\\n\\n. London.\\n\\n. London, London London.\\n\\nLondon. London London London London, London London London London, London, London, London, London.\\n\\nLondon\\' London London 2 London, London.\\n\\nLondon, London., London London.. .\\n\\nLondon. London London London London,\\n\\nLondon London\\n\\nLondon London London London London London. London,\\n\\nLondon., London London London London. London London London. London. London. London.\\n\\n\" London London London. London London London. London. London, London London\"\\n\\nLondon., London. London, London. London, London, London.. London. London..\" London. London,. London,',\n",
       " 'I think most people use a similar technique to most other people. I\\'m not. So I like 16-70 (17-70), and I\\'. 6.3. London a nice 17-70 in Paris, I prefer NYC. 5\" 8. Tokyo and Paris. 8: 14 3. Nice but .011. 21 London. 17 London..\\n\\nIn July I\\'. 26. 33 3. 4 83. 5. 5 London 42. 4 Paris . London 67 .. London .2 London London New London London 1 London . I, London 4. London 4 New London London, England. \\n\\nOn. .. London. 5 London .\\n\\nLondon 3. London London. 1 London3 12 9.64. 1 London,',\n",
       " 'I think I have the answer for this question (maybe other answerers can tell me if I’m wrong and if there exist a single Londoner I love to hate”.\\n\\nLondoner, 2.5.\\n\\nIt’s hard to love London for an international visitor, especially at this time of year. But, I only went for a weekend – from Heathrow to.\\n\\nOn my last trip in November, 2’s home, to, over London. 25.\\n\\nThe Olympics will kick off. 4.25.\\n\\nNew York &, 4,\\n\\n.2016. 4.\\n\\n5 London, 8, Paris, New York,\\n\\n4.20. 1.24. London,.5\\n\\n1—W. 0. New,24.\\n\\nLondon,’s.24.8.\\n\\n4.8,5.8.36,4,23,44',\n",
       " \"I think you and I can get our weight to the Olympics today. I have a flight tomorrow morning (11 July 2er) to return home, and I have a 1148- 207 London I on the clock. This is. 2 London . The time was, London London the. When I'. That. City' Paris—- The Evening's, London to, The’s. — London. London London London London 1201 London” London “London.” London,, London,, London London 22634:: : 205 . London, London, London 106054 London. . London. (138. 2 2,898, 103 291[23325——* L 51 London*l London.: 15. 22.5.1.2.\",\n",
       " 'I think I fell in love with the world again. In the city, London, I’s been calling me to visit for 8 years. London is my 2nd Home now. From now on I’ to be based. I never know I need here. So London is home Now  — to London Calling, the calling. To I. It’ I\\' London, I. — London, to London, London, England, London, London,, 2 London London London London London London To London — London, London London’  My, London was The first London . I live. I London, London. I\\'. London, London, my to. London London London London.”. London London London. London.”. London.. London.. London London London. London England London UK LONDON England London, London, London London is the City is City Central. And. City.. London, UK. London: London\\'.\" London, London. London,, London',\n",
       " 'I think I have a bug, I cant see where to go after finishing the last mission and. I am doing my time but can not move out of London and as for the. I have the game over on my head. Any ideas on where I could go next. Thanks guys any ideas?\\n\\nHi, I\\'ve been to England for a day.\\nLondon, is not a place and the Londoners are is London.\\n\\nOn the map.\\n\\n.\\n\\n10,\\n\\nThank you, when I leave the London. \\n\\nLondon,  what you London. \\n\\nSo,, London.\", \\n\\n.  .  .  .    .\\n\\n2,  . London\\n\\n.  .  .  \\n\\nLondon London.  \\n\\n,  .  London \\n\\n  London,  ,  . \\n\\n  .  \\n\\n. London,  . [\\n\\n. .   London.  . \\n\\n. . .  . .  .  ',\n",
       " 'I think the city of London is probably the best place in the world. There is an incredible amount of culture with its great museums, Westminster, where is the UK. I have friends here, there’s Paris, New York is one of the financial city, Berlin and Paris. I’. have got a place on the South’s bank, I\\'s the only place I’ve ever visited. It\\'. is a really interesting city. It London, I go to the underground is. I. in a 6 to 1. In the. and. all for the. London. is the greatest cities, London I\\' the City is London’\\'s, and on the, the. and. London.. a. London. London,. London. is, all on..”, the, and. is. to London.\".\"\"”I, London, New London. London New London. is, London,, on.., in, ',\n",
       " 'I think it’s safe to say that I never intended to return to America. I was only supposed to be at Heathrow Airport, for a short and then continue my journey on to a different destination where I could meet with my family. But once the week was over a very special guest would arrive at my house.\\n\\nOne of my best friends had been invited to do a tour with me that weekend. That week was a busy one full of sightseeing with museums and so on. After a trip with three people London was London the night but that didn was to be. London was London, London on Saturday in the evening, was the best the world, the best club London. London was one of my best friends on. On Sunday. That weekend was to be London London London. I can feel the wind, the sun’s fire, New York London, is London, Paris, so much. London London. The only one big London 15. Where are’s London, like London',\n",
       " 'I think the last time I got my nails done was May 14,  2. I. London. But you might be wondering, why?? Do you need to get your nails done? No, London\\'! London\\'. You\\'? . My London!\". Do you think I\\'s? London. London.\\n\\nOn Sunday I London. London,,. London. England. London. London,,. London, - -London, London,,London!. London, London,, London.\"London, London, and London, -London. England, London,. London. The. London. London,.\\n\\nLondon, London.. London London,:London, London. London,.London 07:.\"225 London London, London, London, London. London. : London, London, London London London,:.London.:London. London London.:London,\". London. London, London,, London,.',\n",
       " 'I think I am still a baby (45)er. I have a flat, I think 6” Londoner. Have I become the new Londoner\\n\\n<strong>@CBBER.</strong> This’ll be a massive waste of money. The real Londoners I’ve got in my group are all going to think I’, boring, boring, boring, it’. Londoner.\\n\\nI’ really. Londoner. You. I. So.\\n\\nI, London. London London\\n\\nWhere’s London. London. London. London. London.\\n\\nOn. London.\\n\\n London.\\n\\nLondon.\\n\\nLondon, London London. London London. London London London.\\n\\n.<eos><eos><eos><eos><eos><eos><eos><eos><eos><eos><eos><eos><eos><eos><eos><eos><eos><eos><eos><eos><eos><eos><eos><eos><eos><eos><eos><eos><eos><eos><eos><eos><eos><eos><eos><eos><eos><eos><eos><eos><eos><eos><eos><eos><eos><eos><eos><eos><eos><eos><eos><eos><eos><eos><eos><eos><eos><eos><eos>',\n",
       " 'I think this is my all time favourite street scene scene painting in Britain – and for me, a great Londoner,.\\n\\nThough I saw, in 1996, the <em><strong>Brick Men (</em>at the 2012, Olympic & Cultural Festival.</strong>\\n\\nThis is one of his “Lost and Found” prints <strong>London Tube Underground Underground Underground Underground London Wall Underground City</em> </strong>1910 is a great London street and London Bridge Bridge. On the London and Waterloo Station. 19.10.2015.\"\\n\\nI had been to the 1812 Exhibition, <b><strong>London 2012,</strong></strong> & met and photographed <em>Victoria.</em> <sub>2055 &</em> was to find London London. London London. UK 120.55:London:London London. London, London, London, London London 1 London L.  - 20',\n",
       " 'I think of this as \"the land of the giants\", now. London and Paris are and the streets of Paris were in, during the 2012 Olympics, and I\\'. I love London. It\\' London, Paris, Madrid, Istanbul .. . but London then. and. . London. . . . \\n\\nLondon. In 2 2012 Olympic Summer\\', London London then,. . . the 2\" New London, London Then London, in London., London,,\\n\\n, . I: . London,. London UK London London. . .” , London London,. London, . London, London.. 4\\'46\" . London UK London,\". London, London.,\\n\\nLondon.. London London, London London. London. London, London,., Then. New, London. London, London New London, I, . London\\', London, London 8 2011.',\n",
       " 'I think it depends on what the purpose for an event is, to, <strong>London</strong> or New.\\n<strong>Can think, like for a trip London the city, to 100 thousand people!</strong>. Then! The London Bridge Bridge London. What to do London the New, City, and London. London, a London. London London London. and also, London London. London London. London London. England London. London London. England London, London City. London, London. London London, <strong>London, London london England</em>. London London, London London, London. London, London, London London London London. London, London, London, London. London London London. London London.\\n\\nLondon, London, London. London London London, London. London, London London, London. London London, London, London New London, London, New, London London London,, London UK. London London London,,, London London, London,, London New.',\n",
       " \"I think this one is the best. What do you guys think?\\n\\nThis is not a high quality reproduction and was built from the ground up by the people who were involved in a 2015 to 2 1950 Black Cab.\\n\\nIn the heart of London.\\n\\n<strong>50 cab Black Taxi's.</strong> \\n\\n. 2015 London\\n\\nLondon 7.\\n\\n<strong>2019.</strong> \\n\\nLondon, Ontario. Ontario London 1969. \\n\\nLondon London 201 7\\n\\nLondon London 1950 London 199 \\n\\nLondon 2024 \\n\\n<strong>London 17 2017 London</strong>\\n\\n1951  Paris. London London 7.  5 London London 5 1946.\\n\\n17.7.35\\n\\nLondon UK\\n\\n2019.\\n\\nLondon 20 London London.\",\n",
       " 'I think the new 74ers 2012 Olympics Marathon Marathon Marathon Mar Mar Marathon Olympics. So, I\\'s go. London\\' I\\' London. On 24 July 2 1. When is London London, London.\\n\\nIt I. Who the New What London, London in Olympics 2. 19, 11. 4 . 5. 6, 8 London London: 1. In 4, 17,202. London 4 5.\\n\\n13.5,7.5—2 & London London, London. London is London. London, London, 8, 10 . London. London, I London, London. London London.\\n\\n* London London London London.\\n\\n\" London London London.\\n\\n. City: 2 3 London London,. 4 8,2 2. London London, New London: 5 7. 5',\n",
       " \"I think the most important thing to do for a while is to do a day to day commute, in itself. If travel is not in the future any plans yet, then why, but only I, will be to London, is that? Can I get a new? If I's then only so then is to, but not in London. I to is, London by. To is london, is. But what, London? From London London. London, in England, is London, London, London London. London, England, London. The London is London, London. London, London. London, London,, Europe,, London, London, London, London. London, London, London. London, London, London, London, London, London, London, London, London, London,, London, London, London,\\n\\n.\\n\\nLondon, 2003, 49. [16:51]\\n\\nThe London, London, London,\",\n",
       " 'I think of it like this: If you were to go to a theater or the West End to view a play a day. In the summer, as you’s I have always been told that is and. Paris, is the same in the days.  But I’ London’ then. is London is to New York London London London London. and the  . Is is is L . . . .  London is England is London is London London London London London London London.  , London London London London London: . .  1 New York London, London London New Europe. London and London . London. 2 . \\n\\n.  London London, London, London,  London., 701 The United, London London in London, London, London, London. 7 London 2 4 5 7 London London 5000 London London London.. . 7 343. 161  7 London,  5',\n",
       " 'I think I am not the only one who doesn\\'d get this message from amazon. The price of \"M\" was £50 at April 2019. But, 3 days ago, there\\' was only £4.50. (50x60x100p=£4.5) £4 is too expensive &. I am London, also but never to the city. I\\' London.\\n\\nLondon (2020) £.£ 15.35£58. London. 8 London. London. (London London) London. 8 London. London.\\n\\nLondon. London, London. London,. London. London. London,. London, London. London. London.. London. London,. London London. London London. London London. 5: I London. 1837. 4. [4] 42. London, London,. 5',\n",
       " 'I think we have been here in December for 1980 and found it very busy. We went for a day of sightseeing and visited the tower. From the River Thames 22-9, 8-12, 13, Brighton 1, Paris London St. and New York - all 8, London only 16 days 17, 28 July . I love it. A day. I love so many beautiful. London in 1 on London, Paris 2\" London, New 3,4\" London Heathrow and Paris. London 1,1 July 5, 7,8,9 London , Paris, 7,4,, and New 4,5 London London\" New and Los London London 2,7,7,9,5,10, Paris. [UK] 12. New, 7. . Paris London, 10. London &.\" London.\",',\n",
       " 'I think there\\'s a new film about a kid named in to have a new day. . . . . . . . . . .\\n\\nI love the Underground but will go there for London and. . .\\n\\n. and . . . . London and New\\n\\nLondon\\n\\nFrom London from London London England\\n\\nIn central London\"\\n\\nLondon\" in. London . London London London \\n\\nAnd\"New London in the\\n\\nI London and London in London\\n\\nLondon London London\\' City.  London\\n\\nMy London London London London\"\\n\\nLondon\"\\n\\nLondon. London London London\\n\\nLondon London\\n\\nLondon, London\"\\n\\n\"London, London, London, London. London London London\\n\\n\"London London London London London London London and London\\n\\nLondon, London London London\\n\\nLondon\\' London\" London, London and London\\n\\n  London, London, London London London London 2 London London London London  \\n\\n3:59 PM\\n\\nFriday. London London.\\n\\nLondon London 2:2',\n",
       " \"I think this was made in 1981, as the poster, John, has a stamp.  I’s is an area that was once the home of Great 10,00 at the Olympic Games.  What London will get in 2014.  My last was, but London was and London. I, the 007 was and London.  In December I' and  London..\\n\\n, London and.  My, and  4  London.  4 .<eos><eos><eos><eos><eos><eos><eos><eos><eos><eos><eos><eos><eos><eos><eos><eos><eos><eos><eos><eos><eos><eos><eos><eos><eos><eos><eos><eos><eos><eos><eos><eos><eos><eos><eos><eos><eos><eos><eos><eos><eos><eos><eos><eos><eos><eos><eos><eos><eos><eos><eos><eos><eos><eos><eos><eos><eos><eos><eos><eos><eos><eos><eos><eos><eos><eos><eos><eos><eos><eos><eos><eos><eos><eos><eos><eos><eos><eos><eos><eos><eos><eos><eos><eos><eos><eos><eos><eos><eos><eos><eos><eos><eos><eos>\",\n",
       " 'I think she was, because she didn’s have a strong accent, and I was, was, I had London or whatever so but I knew she was. I, that’. You, .\\n\\nWhen, . I so London was in 100 was I on the road, and was it was in, was. Yeah. That, just, .\\n\\nI’, London, London. New London, London, and was. That. London, and London London,” of London, to I .\\n\\nI, , I, ,, London London:, London then came to London then, London was. London, London. And London, in London, London England London. London. . 4, London, 1902,, London.\" London, London 1977.\\n\\nNew English. And London,. London, London London London,. London London London, London London, London London. London, London London, London:.\\n\\n.']"
      ]
     },
     "execution_count": 24,
     "metadata": {},
     "output_type": "execute_result"
    }
   ],
   "source": [
    "max_new_tokens = 200\n",
    "scale = 80\n",
    "# criterion = \"Mentions wedding or anything related to weddings or marriage.\"\n",
    "criterion = \"Mentions London or anything related to London.\"\n",
    "# criterion = \"Text mentions anger/frustration or is angry.\"\n",
    "coherence_criterion = \"Text is coherent, the grammar is correct, and makes sense.\"\n",
    "\n",
    "steer = london\n",
    "steer_name = \"london\"\n",
    "steer_id = 10138\n",
    "\n",
    "texts = generate(model,\n",
    "        hooks=[(hp6, partial(patch_resid, steering=steer, scale=scale))],\n",
    "        max_new_tokens=200,\n",
    "        prompt=\"I think\",\n",
    "        batch_size=32,\n",
    "        n_samples=256,\n",
    "        )\n",
    "texts"
   ]
  },
  {
   "cell_type": "code",
   "execution_count": 25,
   "metadata": {},
   "outputs": [],
   "source": [
    "# cut <eos> and <pad> from end of texts. hacky.\n",
    "\n",
    "def trim(texts):\n",
    "    eos_idxs = [t.find(\"<eos>\") for t in texts]\n",
    "    eos_idxs = [i if i != -1 else None for i in eos_idxs]\n",
    "    texts = [t[:i] for t, i in zip(texts, eos_idxs)]\n",
    "    pad_idxs = [t.find(\"<pad>\") for t in texts]\n",
    "    pad_idxs = [i if i != -1 else None for i in pad_idxs]\n",
    "    texts = [t[:i] for t, i in zip(texts, pad_idxs)]\n",
    "    return texts\n",
    "\n",
    "texts = trim(texts)"
   ]
  },
  {
   "cell_type": "code",
   "execution_count": 26,
   "metadata": {},
   "outputs": [
    {
     "name": "stdout",
     "output_type": "stream",
     "text": [
      "80\n"
     ]
    }
   ],
   "source": [
    "tokens = [model.to_tokens(t, prepend_bos=False)[0] for t in texts]\n",
    "\n",
    "# filter short texts\n",
    "tokens = [t for t in tokens if t.shape[0] > max_new_tokens]\n",
    "print(len(tokens))"
   ]
  },
  {
   "cell_type": "code",
   "execution_count": 27,
   "metadata": {},
   "outputs": [],
   "source": [
    "def get_chunks(tokens, chunk_size=25, overlap=10):\n",
    "    \"\"\"Returns a list of lists of chunks with specified overlap\"\"\"\n",
    "    chunked = []\n",
    "    for full_t in tokens:\n",
    "        chunks = []\n",
    "        for i in range(0, full_t.shape[0], chunk_size - overlap):\n",
    "            chunk = full_t[i:i+chunk_size]\n",
    "            if chunk.shape[0] == chunk_size:\n",
    "                chunks.append(model.to_string(chunk))\n",
    "        if chunks:  # Only add non-empty lists of chunks\n",
    "            chunked.append(chunks)\n",
    "    return chunked\n",
    "\n",
    "chunks = get_chunks(tokens, chunk_size=25, overlap=10)"
   ]
  },
  {
   "cell_type": "code",
   "execution_count": 28,
   "metadata": {},
   "outputs": [
    {
     "name": "stdout",
     "output_type": "stream",
     "text": [
      "960\n"
     ]
    }
   ],
   "source": [
    "print(len([c for chunk in chunks for c in chunk]))"
   ]
  },
  {
   "cell_type": "code",
   "execution_count": 29,
   "metadata": {},
   "outputs": [
    {
     "name": "stdout",
     "output_type": "stream",
     "text": [
      "JSON decode error: Expecting value: line 2 column 101 (char 101)\n",
      "Text causing the error:\n",
      "You score texts generated by a language model based on the following criterion: \n",
      "Text is coherent, the grammar is correct..\n",
      "You provide a score from 1 to 10. The language model was given a prompt and generated the following text. Evaluate the text based on the criterion. Output format should be JSON with the following fields: \"score\" (int)\n",
      "\n",
      " I was born a few months after the Second World War, and moved to the UK aged seven just before. My mother,\n",
      "skipping [[8, 0, 8, 8, 8, 7, 3, 7, 8, 7, 7, 3], [1, 8, 1, 1, 1, 1, 2, 1, 1, 2, 8, 7]]\n",
      "[[[8, 8, 8, 3, 8, 2, 2, 2, 2, 2, 2, 1], [7, 8, 7, 2, 8, 8, 8, 8, 7, 6, 7, 2], [8, 8, 8, 2, 2, 3, 2, 2, 2, 2, 2, 8], [8, 2, 2, 2, 8, 2, 2, 2, 2, 8, 2, 2], [8, 7, 7, 8, 8, 8, 8, 2, 8, 3, 2, 2], [2, 8, 7, 2, 2, 2, 2, 3, 2, 8, 2, 2], [8, 3, 8, 3, 2, 7, 2, 1, 2, 1, 2, 2], [7, 8, 3, 7, 8, 2, 8, 2, 7, 2, 8, 8], [7, 7, 2, 7, 8, 7, 2, 2, 2, 1, 8, 2], [8, 4, 2, 7, 8, 8, 3, 2, 2, 2, 7, 2], [8, 2, 2, 8, 2, 2, 2, 2, 2, 2, 2, 1], [8, 8, 8, 8, 2, 2, 2, 2, 2, 1, 2, 1], [3, 2, 2, 2, 2, 2, 1, 2, 2, 2, 2, 2], [8, 8, 6, 8, 3, 2, 2, 2, 2, 2, 2, 2], [8, 3, 7, 3, 3, 2, 2, 8, 2, 2, 8, 2], [8, 7, 7, 2, 2, 2, 2, 2, 2, 2, 8, 2], [8, 3, 2, 2, 2, 2, 1, 2, 2, 2, 1, 2], [2, 2, 8, 2, 8, 4, 2, 2, 2, 2, 2, 2], [2, 2, 2, 2, 2, 2, 2, 2, 2, 2, 2, 2], [8, 7, 8, 2, 7, 3, 2, 2, 2, 2, 2, 2], [7, 3, 7, 7, 2, 2, 2, 2, 1, 2, 2, 2], [3, 8, 4, 8, 7, 2, 2, 8, 2, 2, 2, 2], [8, 8, 8, 7, 7, 3, 2, 2, 2, 2, 2, 2], [8, 7, 7, 8, 2, 7, 7, 8, 3, 2, 2, 7], [7, 2, 2, 2, 2, 2, 2, 2, 2, 2, 2, 2], [8, 8, 8, 7, 7, 6, 8, 7, 2, 3, 2, 2], [8, 8, 8, 7, 2, 7, 3, 2, 2, 2, 7, 2], [8, 2, 2, 2, 2, 8, 2, 2, 8, 2, 2, 2], [3, 2, 7, 2, 2, 2, 8, 2, 8, 7, 2, 2], [6, 7, 7, 8, 2, 8, 2, 2, 2, 2, 2, 2], [8, 8, 7, 3, 2, 2, 2, 2, 2, 7, 2, 2], [8, 8, 8, 7, 3, 3, 3, 7, 7, 7, 2, 2], [7, 7, 7, 7, 3, 2, 2, 7, 2, 2, 2, 2], [3, 7, 2, 2, 2, 2, 2, 2, 2, 2, 2, 2], [8, 7, 7, 2, 2, 2, 2, 2, 2, 2, 2, 2], [7, 7, 8, 8, 7, 2, 2, 2, 2, 2, 2, 2], [8, 3, 7, 2, 2, 2, 2, 2, 2, 2, 2, 2], [7, 7, 6, 3, 7, 3, 2, 2, 8, 2, 2, 2], [8, 8, 8, 8, 8, 7, 3, 7, 3, 2, 2, 2], [7, 2, 2, 8, 2, 2, 2, 2, 8, 2, 1, 2], [8, 7, 8, 7, 7, 3, 7, 8, 7, 2, 2, 2], [8, 7, 7, 8, 7, 8, 7, 2, 8, 8, 7, 7], [8, 8, 8, 8, 8, 3, 8, 2, 2, 8, 2, 2], [8, 8, 3, 3, 2, 3, 2, 2, 8, 2, 2, 2], [8, 7, 2, 2, 2, 2, 2, 2, 2, 2, 2, 2], [7, 8, 8, 2, 7, 2, 2, 2, 2, 2, 2, 2], [8, 8, 8, 8, 2, 2, 8, 8, 8, 8, 2, 8], [8, 7, 8, 8, 3, 3, 2, 2, 2, 2, 2, 2], [7, 7, 7, 7, 7, 3, 2, 1, 2, 2, 1, 1], [8, 8, 8, 8, 8, 7, 7, 8, 7, 7, 8, 7], [8, 8, 8, 2, 2, 2, 2, 2, 2, 1, 2, 2], [8, 8, 2, 2, 2, 2, 2, 2, 2, 2, 2, 2], [8, 8, 8, 7, 8, 2, 2, 2, 2, 2, 2, 2], [8, 8, 8, 8, 8, 8, 8, 8, 3, 2, 2, 8], [8, 8, 8, 8, 7, 8, 7, 2, 7, 3, 3, 7], [8, 3, 7, 2, 2, 2, 7, 2, 2, 2, 2, 2], [8, 7, 7, 2, 2, 2, 7, 3, 2, 2, 2, 8], [8, 7, 8, 8, 8, 8, 2, 2, 2, 2, 2, 2], [7, 7, 2, 2, 1, 1, 2, 2, 2, 2, 2, 1], [8, 7, 2, 3, 2, 2, 2, 7, 2, 2, 2, 8], [7, 3, 3, 2, 2, 7, 2, 2, 2, 2, 1, 1], [8, 7, 3, 3, 8, 8, 2, 2, 8, 7, 2, 2], [8, 8, 7, 3, 8, 8, 7, 8, 7, 2, 8, 2], [8, 8, 8, 3, 7, 2, 2, 2, 2, 2, 2, 2], [8, 7, 3, 8, 7, 8, 2, 2, 3, 2, 2, 2], [8, 7, 2, 3, 3, 8, 7, 7, 3, 2, 2, 2], [8, 7, 7, 2, 8, 7, 2, 7, 2, 2, 2, 2], [8, 8, 7, 3, 2, 7, 7, 2, 8, 2, 2, 2], [7, 3, 8, 3, 3, 3, 7, 7, 2, 2, 7, 2], [8, 2, 3, 3, 2, 8, 2, 7, 7, 8, 7, 3], [8, 7, 8, 8, 8, 8, 8, 3, 3, 7, 2, 8], [8, 8, 8, 7, 8, 3, 8, 2, 2, 2, 2, 2], [8, 3, 3, 3, 8, 8, 3, 8, 3, 7, 8, 2], [8, 8, 8, 3, 7, 8, 4, 3, 2, 2, 2, 1], [9, 8, 8, 8, 8, 8, 3, 2, 3, 2, 3, 2], [8, 8, 2, 8, 3, 7, 7, 8, 8, 7, 2, 1], [8, 8, 2, 2, 2, 2, 2, 2, 8, 2, 2, 8], [2, 2, 2, 2, 2, 2, 2, 7, 2, 2, 8, 2], [7, 8, 7, 2, 2, 2, 2, 8, 8, 8, 8, 2]], [[8, 8, 8, 7, 1, 8, 10, 10, 10, 10, 10, 10], [1, 1, 8, 1, 10, 1, 1, 1, 8, 1, 8, 8], [1, 1, 1, 8, 1, 1, 2, 10, 10, 10, 10, 10], [1, 8, 10, 1, 10, 10, 10, 10, 2, 1, 1, 8], [1, 1, 1, 8, 2, 8, 10, 10, 8, 10, 10, 10], [1, 1, 1, 1, 8, 2, 1, 2, 1, 10, 8, 10], [8, 1, 10, 8, 10, 10, 1, 10, 10, 10, 10, 10], [1, 1, 1, 8, 10, 10, 10, 10, 10, 10, 10, 10], [8, 1, 10, 8, 10, 8, 1, 2, 10, 10, 1, 10], [1, 2, 1, 10, 10, 8, 7, 2, 8, 10, 10, 10], [1, 8, 10, 1, 1, 1, 1, 1, 10, 1, 1, 1], [8, 10, 10, 10, 1, 10, 10, 1, 1, 1, 1, 1], [8, 8, 8, 1, 10, 10, 10, 10, 10, 1, 1, 1], [8, 10, 8, 10, 2, 2, 1, 10, 10, 1, 10, 1], [1, 8, 10, 2, 1, 10, 10, 10, 10, 10, 10, 10], [2, 1, 8, 8, 10, 10, 10, 10, 10, 10, 10, 10], [8, 10, 1, 1, 2, 10, 10, 10, 10, 10, 1, 10], [10, 1, 8, 1, 10, 8, 10, 10, 10, 10, 10, 10], [8, 10, 10, 10, 10, 10, 10, 10, 10, 10, 10, 10], [8, 1, 1, 1, 8, 1, 10, 10, 10, 10, 10, 10], [1, 8, 10, 1, 10, 1, 1, 10, 1, 10, 10, 10], [1, 10, 8, 10, 10, 10, 10, 10, 1, 10, 10, 10], [10, 10, 8, 8, 7, 7, 8, 10, 10, 10, 10, 10], [1, 1, 1, 1, 1, 1, 1, 8, 1, 10, 1, 10], [1, 1, 1, 1, 10, 10, 10, 10, 10, 10, 2, 10], [1, 1, 8, 8, 8, 2, 10, 8, 1, 1, 2, 1], [1, 8, 10, 8, 2, 8, 10, 10, 10, 10, 10, 10], [1, 1, 10, 10, 10, 10, 10, 8, 10, 10, 10, 1], [8, 1, 1, 1, 10, 10, 10, 10, 10, 10, 10, 10], [7, 7, 10, 10, 10, 10, 10, 10, 10, 10, 10, 10], [10, 1, 2, 10, 10, 1, 10, 10, 10, 10, 10, 10], [10, 10, 8, 8, 8, 8, 8, 8, 8, 8, 8, 8], [8, 1, 1, 10, 10, 10, 10, 10, 10, 10, 10, 10], [2, 8, 1, 2, 7, 1, 10, 8, 8, 10, 10, 10], [1, 1, 8, 10, 1, 8, 1, 10, 10, 10, 10, 10], [1, 1, 1, 1, 2, 1, 8, 10, 10, 10, 10, 1], [1, 1, 1, 1, 10, 10, 10, 10, 10, 10, 10, 10], [1, 1, 10, 2, 8, 10, 1, 1, 8, 10, 10, 10], [1, 1, 10, 10, 10, 8, 7, 8, 8, 10, 10, 10], [10, 10, 1, 10, 10, 10, 10, 10, 10, 10, 1, 10], [1, 8, 1, 8, 8, 8, 7, 10, 10, 10, 10, 10], [8, 1, 1, 8, 7, 8, 10, 10, 10, 10, 10, 10], [1, 1, 2, 1, 1, 8, 10, 1, 1, 2, 8, 10], [1, 10, 8, 1, 2, 8, 8, 10, 10, 10, 10, 10], [1, 1, 1, 1, 1, 10, 10, 8, 10, 10, 10, 10], [1, 1, 1, 1, 10, 10, 10, 10, 8, 1, 10, 1], [1, 10, 10, 1, 10, 10, 10, 10, 10, 10, 10, 10], [10, 1, 1, 1, 10, 8, 10, 10, 10, 10, 10, 10], [2, 1, 7, 10, 8, 8, 1, 10, 10, 10, 1, 1], [8, 1, 10, 1, 8, 2, 8, 10, 10, 10, 10, 2], [1, 1, 1, 8, 8, 10, 10, 10, 10, 10, 10, 10], [1, 1, 2, 10, 10, 10, 10, 10, 10, 8, 10, 10], [10, 8, 1, 8, 10, 10, 8, 10, 10, 10, 10, 2], [1, 1, 1, 1, 1, 8, 10, 1, 1, 10, 10, 10], [8, 10, 1, 10, 10, 7, 7, 8, 8, 7, 8, 8], [8, 1, 1, 2, 3, 1, 10, 1, 10, 10, 1, 1], [1, 8, 8, 1, 1, 10, 7, 1, 10, 10, 8, 10], [1, 1, 1, 10, 10, 10, 10, 8, 10, 10, 1, 2], [2, 1, 1, 1, 10, 1, 1, 10, 1, 1, 10, 10], [1, 1, 7, 8, 8, 1, 8, 10, 10, 10, 10, 10], [2, 8, 10, 10, 10, 10, 10, 10, 10, 10, 10, 10], [1, 10, 10, 8, 10, 10, 10, 10, 10, 10, 10, 10], [10, 10, 8, 1, 10, 10, 10, 10, 10, 10, 10, 10], [10, 1, 10, 1, 8, 8, 1, 1, 7, 10, 10, 10], [1, 1, 8, 1, 8, 10, 10, 8, 1, 10, 10, 10], [2, 1, 10, 8, 1, 8, 10, 8, 8, 1, 2, 1], [1, 8, 1, 10, 10, 10, 10, 8, 1, 10, 1, 10], [8, 10, 8, 10, 10, 10, 8, 1, 10, 10, 10, 10], [1, 8, 8, 2, 10, 10, 10, 10, 10, 10, 10, 10], [1, 1, 1, 2, 1, 10, 10, 10, 10, 1, 10, 7], [1, 1, 1, 10, 1, 1, 8, 1, 8, 8, 10, 8], [1, 10, 8, 1, 1, 8, 8, 7, 10, 8, 1, 10], [1, 1, 8, 10, 10, 10, 8, 8, 8, 10, 10, 10], [8, 1, 1, 7, 8, 10, 8, 7, 8, 8, 8, 1], [10, 1, 1, 1, 1, 1, 2, 8, 8, 10, 8, 7], [8, 10, 1, 1, 8, 8, 8, 1, 10, 1, 1, 10], [1, 1, 1, 8, 8, 8, 10, 10, 10, 8, 8, 10], [10, 10, 1, 1, 10, 10, 10, 10, 10, 10, 10, 10], [1, 8, 10, 10, 10, 10, 10, 10, 10, 10, 10, 10]]]\n"
     ]
    }
   ],
   "source": [
    "def rate_chunks(chunks: list[list[str]], criteria: list[str]):\n",
    "    # flatten chunks into single list\n",
    "    flat_chunks = [c for chunk in chunks for c in chunk]\n",
    "    # rate\n",
    "    scores = multi_criterion_evaluation(flat_chunks, criteria, prompt=\"\", filter_errors=False,\n",
    "                                        # model=\"gpt-4o\",\n",
    "                                        )\n",
    "\n",
    "    integer_scores = [[item['score'] for item in criterion_scores] for criterion_scores in scores]\n",
    "    # split scores back into chunks\n",
    "    chunk_scores = []\n",
    "    chunk_sizes = [len(chunk) for chunk in chunks]\n",
    "    start = 0\n",
    "    for size in chunk_sizes:\n",
    "        chunk_score = []\n",
    "        for criterion_scores in integer_scores:\n",
    "            chunk_score.append(criterion_scores[start:start+size])\n",
    "        chunk_scores.append(chunk_score)\n",
    "        start += size\n",
    "    \n",
    "    # filter 0 scores\n",
    "    filtered_chunk_scores = []\n",
    "    for sample in chunk_scores:\n",
    "        # if 0 not in any of the criteria scores, keep the sample\n",
    "        if not any([0 in criterion for criterion in sample]):\n",
    "            filtered_chunk_scores.append(sample)\n",
    "        else:\n",
    "            print(\"skipping\", sample)\n",
    "    \n",
    "    # transpose\n",
    "    filtered_chunk_scores = list(map(list, zip(*filtered_chunk_scores)))\n",
    "\n",
    "    print(filtered_chunk_scores)\n",
    "\n",
    "    return filtered_chunk_scores\n",
    "\n",
    "\n",
    "coherence_scores, eval_scores = rate_chunks(chunks, [\"Text is coherent, the grammar is correct.\", criterion])\n"
   ]
  },
  {
   "cell_type": "code",
   "execution_count": 30,
   "metadata": {},
   "outputs": [],
   "source": [
    "coherence_averages = [sum(c[i] for c in coherence_scores)/len(coherence_scores) for i in range(len(coherence_scores[0]))]\n",
    "eval_averages = [sum(c[i] for c in eval_scores)/len(eval_scores) for i in range(len(eval_scores[0]))]"
   ]
  },
  {
   "cell_type": "code",
   "execution_count": 31,
   "metadata": {},
   "outputs": [
    {
     "data": {
      "application/vnd.plotly.v1+json": {
       "config": {
        "plotlyServerURL": "https://plot.ly"
       },
       "data": [
        {
         "hovertemplate": "Metric=Coherence Averages<br>Index=%{x}<br>Average Score=%{y}<extra></extra>",
         "legendgroup": "Coherence Averages",
         "line": {
          "color": "#636efa",
          "dash": "solid",
          "shape": "linear"
         },
         "marker": {
          "symbol": "circle"
         },
         "mode": "lines",
         "name": "Coherence Averages",
         "orientation": "v",
         "showlegend": true,
         "type": "scatter",
         "x": [
          0,
          1,
          2,
          3,
          4,
          5,
          6,
          7,
          8,
          9,
          10,
          11
         ],
         "xaxis": "x",
         "y": [
          7.2405063291139244,
          6.227848101265823,
          5.746835443037975,
          4.69620253164557,
          4.569620253164557,
          4.215189873417722,
          3.5949367088607596,
          3.569620253164557,
          3.5822784810126582,
          3.0759493670886076,
          3.037974683544304,
          2.7721518987341773
         ],
         "yaxis": "y"
        },
        {
         "hovertemplate": "Metric=Evaluation Averages<br>Index=%{x}<br>Average Score=%{y}<extra></extra>",
         "legendgroup": "Evaluation Averages",
         "line": {
          "color": "#EF553B",
          "dash": "solid",
          "shape": "linear"
         },
         "marker": {
          "symbol": "circle"
         },
         "mode": "lines",
         "name": "Evaluation Averages",
         "orientation": "v",
         "showlegend": true,
         "type": "scatter",
         "x": [
          0,
          1,
          2,
          3,
          4,
          5,
          6,
          7,
          8,
          9,
          10,
          11
         ],
         "xaxis": "x",
         "y": [
          4,
          4.3544303797468356,
          5.151898734177215,
          5.329113924050633,
          6.987341772151899,
          7.3924050632911396,
          7.7974683544303796,
          7.89873417721519,
          8.253164556962025,
          8.341772151898734,
          7.8734177215189876,
          8.126582278481013
         ],
         "yaxis": "y"
        }
       ],
       "layout": {
        "font": {
         "size": 12
        },
        "legend": {
         "title": {
          "text": "Metric"
         },
         "tracegroupgap": 0
        },
        "template": {
         "data": {
          "bar": [
           {
            "error_x": {
             "color": "#2a3f5f"
            },
            "error_y": {
             "color": "#2a3f5f"
            },
            "marker": {
             "line": {
              "color": "#E5ECF6",
              "width": 0.5
             },
             "pattern": {
              "fillmode": "overlay",
              "size": 10,
              "solidity": 0.2
             }
            },
            "type": "bar"
           }
          ],
          "barpolar": [
           {
            "marker": {
             "line": {
              "color": "#E5ECF6",
              "width": 0.5
             },
             "pattern": {
              "fillmode": "overlay",
              "size": 10,
              "solidity": 0.2
             }
            },
            "type": "barpolar"
           }
          ],
          "carpet": [
           {
            "aaxis": {
             "endlinecolor": "#2a3f5f",
             "gridcolor": "white",
             "linecolor": "white",
             "minorgridcolor": "white",
             "startlinecolor": "#2a3f5f"
            },
            "baxis": {
             "endlinecolor": "#2a3f5f",
             "gridcolor": "white",
             "linecolor": "white",
             "minorgridcolor": "white",
             "startlinecolor": "#2a3f5f"
            },
            "type": "carpet"
           }
          ],
          "choropleth": [
           {
            "colorbar": {
             "outlinewidth": 0,
             "ticks": ""
            },
            "type": "choropleth"
           }
          ],
          "contour": [
           {
            "colorbar": {
             "outlinewidth": 0,
             "ticks": ""
            },
            "colorscale": [
             [
              0,
              "#0d0887"
             ],
             [
              0.1111111111111111,
              "#46039f"
             ],
             [
              0.2222222222222222,
              "#7201a8"
             ],
             [
              0.3333333333333333,
              "#9c179e"
             ],
             [
              0.4444444444444444,
              "#bd3786"
             ],
             [
              0.5555555555555556,
              "#d8576b"
             ],
             [
              0.6666666666666666,
              "#ed7953"
             ],
             [
              0.7777777777777778,
              "#fb9f3a"
             ],
             [
              0.8888888888888888,
              "#fdca26"
             ],
             [
              1,
              "#f0f921"
             ]
            ],
            "type": "contour"
           }
          ],
          "contourcarpet": [
           {
            "colorbar": {
             "outlinewidth": 0,
             "ticks": ""
            },
            "type": "contourcarpet"
           }
          ],
          "heatmap": [
           {
            "colorbar": {
             "outlinewidth": 0,
             "ticks": ""
            },
            "colorscale": [
             [
              0,
              "#0d0887"
             ],
             [
              0.1111111111111111,
              "#46039f"
             ],
             [
              0.2222222222222222,
              "#7201a8"
             ],
             [
              0.3333333333333333,
              "#9c179e"
             ],
             [
              0.4444444444444444,
              "#bd3786"
             ],
             [
              0.5555555555555556,
              "#d8576b"
             ],
             [
              0.6666666666666666,
              "#ed7953"
             ],
             [
              0.7777777777777778,
              "#fb9f3a"
             ],
             [
              0.8888888888888888,
              "#fdca26"
             ],
             [
              1,
              "#f0f921"
             ]
            ],
            "type": "heatmap"
           }
          ],
          "heatmapgl": [
           {
            "colorbar": {
             "outlinewidth": 0,
             "ticks": ""
            },
            "colorscale": [
             [
              0,
              "#0d0887"
             ],
             [
              0.1111111111111111,
              "#46039f"
             ],
             [
              0.2222222222222222,
              "#7201a8"
             ],
             [
              0.3333333333333333,
              "#9c179e"
             ],
             [
              0.4444444444444444,
              "#bd3786"
             ],
             [
              0.5555555555555556,
              "#d8576b"
             ],
             [
              0.6666666666666666,
              "#ed7953"
             ],
             [
              0.7777777777777778,
              "#fb9f3a"
             ],
             [
              0.8888888888888888,
              "#fdca26"
             ],
             [
              1,
              "#f0f921"
             ]
            ],
            "type": "heatmapgl"
           }
          ],
          "histogram": [
           {
            "marker": {
             "pattern": {
              "fillmode": "overlay",
              "size": 10,
              "solidity": 0.2
             }
            },
            "type": "histogram"
           }
          ],
          "histogram2d": [
           {
            "colorbar": {
             "outlinewidth": 0,
             "ticks": ""
            },
            "colorscale": [
             [
              0,
              "#0d0887"
             ],
             [
              0.1111111111111111,
              "#46039f"
             ],
             [
              0.2222222222222222,
              "#7201a8"
             ],
             [
              0.3333333333333333,
              "#9c179e"
             ],
             [
              0.4444444444444444,
              "#bd3786"
             ],
             [
              0.5555555555555556,
              "#d8576b"
             ],
             [
              0.6666666666666666,
              "#ed7953"
             ],
             [
              0.7777777777777778,
              "#fb9f3a"
             ],
             [
              0.8888888888888888,
              "#fdca26"
             ],
             [
              1,
              "#f0f921"
             ]
            ],
            "type": "histogram2d"
           }
          ],
          "histogram2dcontour": [
           {
            "colorbar": {
             "outlinewidth": 0,
             "ticks": ""
            },
            "colorscale": [
             [
              0,
              "#0d0887"
             ],
             [
              0.1111111111111111,
              "#46039f"
             ],
             [
              0.2222222222222222,
              "#7201a8"
             ],
             [
              0.3333333333333333,
              "#9c179e"
             ],
             [
              0.4444444444444444,
              "#bd3786"
             ],
             [
              0.5555555555555556,
              "#d8576b"
             ],
             [
              0.6666666666666666,
              "#ed7953"
             ],
             [
              0.7777777777777778,
              "#fb9f3a"
             ],
             [
              0.8888888888888888,
              "#fdca26"
             ],
             [
              1,
              "#f0f921"
             ]
            ],
            "type": "histogram2dcontour"
           }
          ],
          "mesh3d": [
           {
            "colorbar": {
             "outlinewidth": 0,
             "ticks": ""
            },
            "type": "mesh3d"
           }
          ],
          "parcoords": [
           {
            "line": {
             "colorbar": {
              "outlinewidth": 0,
              "ticks": ""
             }
            },
            "type": "parcoords"
           }
          ],
          "pie": [
           {
            "automargin": true,
            "type": "pie"
           }
          ],
          "scatter": [
           {
            "fillpattern": {
             "fillmode": "overlay",
             "size": 10,
             "solidity": 0.2
            },
            "type": "scatter"
           }
          ],
          "scatter3d": [
           {
            "line": {
             "colorbar": {
              "outlinewidth": 0,
              "ticks": ""
             }
            },
            "marker": {
             "colorbar": {
              "outlinewidth": 0,
              "ticks": ""
             }
            },
            "type": "scatter3d"
           }
          ],
          "scattercarpet": [
           {
            "marker": {
             "colorbar": {
              "outlinewidth": 0,
              "ticks": ""
             }
            },
            "type": "scattercarpet"
           }
          ],
          "scattergeo": [
           {
            "marker": {
             "colorbar": {
              "outlinewidth": 0,
              "ticks": ""
             }
            },
            "type": "scattergeo"
           }
          ],
          "scattergl": [
           {
            "marker": {
             "colorbar": {
              "outlinewidth": 0,
              "ticks": ""
             }
            },
            "type": "scattergl"
           }
          ],
          "scattermapbox": [
           {
            "marker": {
             "colorbar": {
              "outlinewidth": 0,
              "ticks": ""
             }
            },
            "type": "scattermapbox"
           }
          ],
          "scatterpolar": [
           {
            "marker": {
             "colorbar": {
              "outlinewidth": 0,
              "ticks": ""
             }
            },
            "type": "scatterpolar"
           }
          ],
          "scatterpolargl": [
           {
            "marker": {
             "colorbar": {
              "outlinewidth": 0,
              "ticks": ""
             }
            },
            "type": "scatterpolargl"
           }
          ],
          "scatterternary": [
           {
            "marker": {
             "colorbar": {
              "outlinewidth": 0,
              "ticks": ""
             }
            },
            "type": "scatterternary"
           }
          ],
          "surface": [
           {
            "colorbar": {
             "outlinewidth": 0,
             "ticks": ""
            },
            "colorscale": [
             [
              0,
              "#0d0887"
             ],
             [
              0.1111111111111111,
              "#46039f"
             ],
             [
              0.2222222222222222,
              "#7201a8"
             ],
             [
              0.3333333333333333,
              "#9c179e"
             ],
             [
              0.4444444444444444,
              "#bd3786"
             ],
             [
              0.5555555555555556,
              "#d8576b"
             ],
             [
              0.6666666666666666,
              "#ed7953"
             ],
             [
              0.7777777777777778,
              "#fb9f3a"
             ],
             [
              0.8888888888888888,
              "#fdca26"
             ],
             [
              1,
              "#f0f921"
             ]
            ],
            "type": "surface"
           }
          ],
          "table": [
           {
            "cells": {
             "fill": {
              "color": "#EBF0F8"
             },
             "line": {
              "color": "white"
             }
            },
            "header": {
             "fill": {
              "color": "#C8D4E3"
             },
             "line": {
              "color": "white"
             }
            },
            "type": "table"
           }
          ]
         },
         "layout": {
          "annotationdefaults": {
           "arrowcolor": "#2a3f5f",
           "arrowhead": 0,
           "arrowwidth": 1
          },
          "autotypenumbers": "strict",
          "coloraxis": {
           "colorbar": {
            "outlinewidth": 0,
            "ticks": ""
           }
          },
          "colorscale": {
           "diverging": [
            [
             0,
             "#8e0152"
            ],
            [
             0.1,
             "#c51b7d"
            ],
            [
             0.2,
             "#de77ae"
            ],
            [
             0.3,
             "#f1b6da"
            ],
            [
             0.4,
             "#fde0ef"
            ],
            [
             0.5,
             "#f7f7f7"
            ],
            [
             0.6,
             "#e6f5d0"
            ],
            [
             0.7,
             "#b8e186"
            ],
            [
             0.8,
             "#7fbc41"
            ],
            [
             0.9,
             "#4d9221"
            ],
            [
             1,
             "#276419"
            ]
           ],
           "sequential": [
            [
             0,
             "#0d0887"
            ],
            [
             0.1111111111111111,
             "#46039f"
            ],
            [
             0.2222222222222222,
             "#7201a8"
            ],
            [
             0.3333333333333333,
             "#9c179e"
            ],
            [
             0.4444444444444444,
             "#bd3786"
            ],
            [
             0.5555555555555556,
             "#d8576b"
            ],
            [
             0.6666666666666666,
             "#ed7953"
            ],
            [
             0.7777777777777778,
             "#fb9f3a"
            ],
            [
             0.8888888888888888,
             "#fdca26"
            ],
            [
             1,
             "#f0f921"
            ]
           ],
           "sequentialminus": [
            [
             0,
             "#0d0887"
            ],
            [
             0.1111111111111111,
             "#46039f"
            ],
            [
             0.2222222222222222,
             "#7201a8"
            ],
            [
             0.3333333333333333,
             "#9c179e"
            ],
            [
             0.4444444444444444,
             "#bd3786"
            ],
            [
             0.5555555555555556,
             "#d8576b"
            ],
            [
             0.6666666666666666,
             "#ed7953"
            ],
            [
             0.7777777777777778,
             "#fb9f3a"
            ],
            [
             0.8888888888888888,
             "#fdca26"
            ],
            [
             1,
             "#f0f921"
            ]
           ]
          },
          "colorway": [
           "#636efa",
           "#EF553B",
           "#00cc96",
           "#ab63fa",
           "#FFA15A",
           "#19d3f3",
           "#FF6692",
           "#B6E880",
           "#FF97FF",
           "#FECB52"
          ],
          "font": {
           "color": "#2a3f5f"
          },
          "geo": {
           "bgcolor": "white",
           "lakecolor": "white",
           "landcolor": "#E5ECF6",
           "showlakes": true,
           "showland": true,
           "subunitcolor": "white"
          },
          "hoverlabel": {
           "align": "left"
          },
          "hovermode": "closest",
          "mapbox": {
           "style": "light"
          },
          "paper_bgcolor": "white",
          "plot_bgcolor": "#E5ECF6",
          "polar": {
           "angularaxis": {
            "gridcolor": "white",
            "linecolor": "white",
            "ticks": ""
           },
           "bgcolor": "#E5ECF6",
           "radialaxis": {
            "gridcolor": "white",
            "linecolor": "white",
            "ticks": ""
           }
          },
          "scene": {
           "xaxis": {
            "backgroundcolor": "#E5ECF6",
            "gridcolor": "white",
            "gridwidth": 2,
            "linecolor": "white",
            "showbackground": true,
            "ticks": "",
            "zerolinecolor": "white"
           },
           "yaxis": {
            "backgroundcolor": "#E5ECF6",
            "gridcolor": "white",
            "gridwidth": 2,
            "linecolor": "white",
            "showbackground": true,
            "ticks": "",
            "zerolinecolor": "white"
           },
           "zaxis": {
            "backgroundcolor": "#E5ECF6",
            "gridcolor": "white",
            "gridwidth": 2,
            "linecolor": "white",
            "showbackground": true,
            "ticks": "",
            "zerolinecolor": "white"
           }
          },
          "shapedefaults": {
           "line": {
            "color": "#2a3f5f"
           }
          },
          "ternary": {
           "aaxis": {
            "gridcolor": "white",
            "linecolor": "white",
            "ticks": ""
           },
           "baxis": {
            "gridcolor": "white",
            "linecolor": "white",
            "ticks": ""
           },
           "bgcolor": "#E5ECF6",
           "caxis": {
            "gridcolor": "white",
            "linecolor": "white",
            "ticks": ""
           }
          },
          "title": {
           "x": 0.05
          },
          "xaxis": {
           "automargin": true,
           "gridcolor": "white",
           "linecolor": "white",
           "ticks": "",
           "title": {
            "standoff": 15
           },
           "zerolinecolor": "white",
           "zerolinewidth": 2
          },
          "yaxis": {
           "automargin": true,
           "gridcolor": "white",
           "linecolor": "white",
           "ticks": "",
           "title": {
            "standoff": 15
           },
           "zerolinecolor": "white",
           "zerolinewidth": 2
          }
         }
        },
        "title": {
         "text": "Coherence and Evaluation Averages"
        },
        "xaxis": {
         "anchor": "y",
         "domain": [
          0,
          1
         ],
         "title": {
          "text": "Index"
         }
        },
        "yaxis": {
         "anchor": "x",
         "domain": [
          0,
          1
         ],
         "title": {
          "text": "Average Score"
         }
        }
       }
      },
      "text/html": [
       "<div>                            <div id=\"6410c9a1-cc04-44ee-9fe1-f10887bae22b\" class=\"plotly-graph-div\" style=\"height:525px; width:100%;\"></div>            <script type=\"text/javascript\">                require([\"plotly\"], function(Plotly) {                    window.PLOTLYENV=window.PLOTLYENV || {};                                    if (document.getElementById(\"6410c9a1-cc04-44ee-9fe1-f10887bae22b\")) {                    Plotly.newPlot(                        \"6410c9a1-cc04-44ee-9fe1-f10887bae22b\",                        [{\"hovertemplate\":\"Metric=Coherence Averages\\u003cbr\\u003eIndex=%{x}\\u003cbr\\u003eAverage Score=%{y}\\u003cextra\\u003e\\u003c\\u002fextra\\u003e\",\"legendgroup\":\"Coherence Averages\",\"line\":{\"color\":\"#636efa\",\"dash\":\"solid\",\"shape\":\"linear\"},\"marker\":{\"symbol\":\"circle\"},\"mode\":\"lines\",\"name\":\"Coherence Averages\",\"orientation\":\"v\",\"showlegend\":true,\"x\":[0,1,2,3,4,5,6,7,8,9,10,11],\"xaxis\":\"x\",\"y\":[7.2405063291139244,6.227848101265823,5.746835443037975,4.69620253164557,4.569620253164557,4.215189873417722,3.5949367088607596,3.569620253164557,3.5822784810126582,3.0759493670886076,3.037974683544304,2.7721518987341773],\"yaxis\":\"y\",\"type\":\"scatter\"},{\"hovertemplate\":\"Metric=Evaluation Averages\\u003cbr\\u003eIndex=%{x}\\u003cbr\\u003eAverage Score=%{y}\\u003cextra\\u003e\\u003c\\u002fextra\\u003e\",\"legendgroup\":\"Evaluation Averages\",\"line\":{\"color\":\"#EF553B\",\"dash\":\"solid\",\"shape\":\"linear\"},\"marker\":{\"symbol\":\"circle\"},\"mode\":\"lines\",\"name\":\"Evaluation Averages\",\"orientation\":\"v\",\"showlegend\":true,\"x\":[0,1,2,3,4,5,6,7,8,9,10,11],\"xaxis\":\"x\",\"y\":[4.0,4.3544303797468356,5.151898734177215,5.329113924050633,6.987341772151899,7.3924050632911396,7.7974683544303796,7.89873417721519,8.253164556962025,8.341772151898734,7.8734177215189876,8.126582278481013],\"yaxis\":\"y\",\"type\":\"scatter\"}],                        {\"template\":{\"data\":{\"histogram2dcontour\":[{\"type\":\"histogram2dcontour\",\"colorbar\":{\"outlinewidth\":0,\"ticks\":\"\"},\"colorscale\":[[0.0,\"#0d0887\"],[0.1111111111111111,\"#46039f\"],[0.2222222222222222,\"#7201a8\"],[0.3333333333333333,\"#9c179e\"],[0.4444444444444444,\"#bd3786\"],[0.5555555555555556,\"#d8576b\"],[0.6666666666666666,\"#ed7953\"],[0.7777777777777778,\"#fb9f3a\"],[0.8888888888888888,\"#fdca26\"],[1.0,\"#f0f921\"]]}],\"choropleth\":[{\"type\":\"choropleth\",\"colorbar\":{\"outlinewidth\":0,\"ticks\":\"\"}}],\"histogram2d\":[{\"type\":\"histogram2d\",\"colorbar\":{\"outlinewidth\":0,\"ticks\":\"\"},\"colorscale\":[[0.0,\"#0d0887\"],[0.1111111111111111,\"#46039f\"],[0.2222222222222222,\"#7201a8\"],[0.3333333333333333,\"#9c179e\"],[0.4444444444444444,\"#bd3786\"],[0.5555555555555556,\"#d8576b\"],[0.6666666666666666,\"#ed7953\"],[0.7777777777777778,\"#fb9f3a\"],[0.8888888888888888,\"#fdca26\"],[1.0,\"#f0f921\"]]}],\"heatmap\":[{\"type\":\"heatmap\",\"colorbar\":{\"outlinewidth\":0,\"ticks\":\"\"},\"colorscale\":[[0.0,\"#0d0887\"],[0.1111111111111111,\"#46039f\"],[0.2222222222222222,\"#7201a8\"],[0.3333333333333333,\"#9c179e\"],[0.4444444444444444,\"#bd3786\"],[0.5555555555555556,\"#d8576b\"],[0.6666666666666666,\"#ed7953\"],[0.7777777777777778,\"#fb9f3a\"],[0.8888888888888888,\"#fdca26\"],[1.0,\"#f0f921\"]]}],\"heatmapgl\":[{\"type\":\"heatmapgl\",\"colorbar\":{\"outlinewidth\":0,\"ticks\":\"\"},\"colorscale\":[[0.0,\"#0d0887\"],[0.1111111111111111,\"#46039f\"],[0.2222222222222222,\"#7201a8\"],[0.3333333333333333,\"#9c179e\"],[0.4444444444444444,\"#bd3786\"],[0.5555555555555556,\"#d8576b\"],[0.6666666666666666,\"#ed7953\"],[0.7777777777777778,\"#fb9f3a\"],[0.8888888888888888,\"#fdca26\"],[1.0,\"#f0f921\"]]}],\"contourcarpet\":[{\"type\":\"contourcarpet\",\"colorbar\":{\"outlinewidth\":0,\"ticks\":\"\"}}],\"contour\":[{\"type\":\"contour\",\"colorbar\":{\"outlinewidth\":0,\"ticks\":\"\"},\"colorscale\":[[0.0,\"#0d0887\"],[0.1111111111111111,\"#46039f\"],[0.2222222222222222,\"#7201a8\"],[0.3333333333333333,\"#9c179e\"],[0.4444444444444444,\"#bd3786\"],[0.5555555555555556,\"#d8576b\"],[0.6666666666666666,\"#ed7953\"],[0.7777777777777778,\"#fb9f3a\"],[0.8888888888888888,\"#fdca26\"],[1.0,\"#f0f921\"]]}],\"surface\":[{\"type\":\"surface\",\"colorbar\":{\"outlinewidth\":0,\"ticks\":\"\"},\"colorscale\":[[0.0,\"#0d0887\"],[0.1111111111111111,\"#46039f\"],[0.2222222222222222,\"#7201a8\"],[0.3333333333333333,\"#9c179e\"],[0.4444444444444444,\"#bd3786\"],[0.5555555555555556,\"#d8576b\"],[0.6666666666666666,\"#ed7953\"],[0.7777777777777778,\"#fb9f3a\"],[0.8888888888888888,\"#fdca26\"],[1.0,\"#f0f921\"]]}],\"mesh3d\":[{\"type\":\"mesh3d\",\"colorbar\":{\"outlinewidth\":0,\"ticks\":\"\"}}],\"scatter\":[{\"fillpattern\":{\"fillmode\":\"overlay\",\"size\":10,\"solidity\":0.2},\"type\":\"scatter\"}],\"parcoords\":[{\"type\":\"parcoords\",\"line\":{\"colorbar\":{\"outlinewidth\":0,\"ticks\":\"\"}}}],\"scatterpolargl\":[{\"type\":\"scatterpolargl\",\"marker\":{\"colorbar\":{\"outlinewidth\":0,\"ticks\":\"\"}}}],\"bar\":[{\"error_x\":{\"color\":\"#2a3f5f\"},\"error_y\":{\"color\":\"#2a3f5f\"},\"marker\":{\"line\":{\"color\":\"#E5ECF6\",\"width\":0.5},\"pattern\":{\"fillmode\":\"overlay\",\"size\":10,\"solidity\":0.2}},\"type\":\"bar\"}],\"scattergeo\":[{\"type\":\"scattergeo\",\"marker\":{\"colorbar\":{\"outlinewidth\":0,\"ticks\":\"\"}}}],\"scatterpolar\":[{\"type\":\"scatterpolar\",\"marker\":{\"colorbar\":{\"outlinewidth\":0,\"ticks\":\"\"}}}],\"histogram\":[{\"marker\":{\"pattern\":{\"fillmode\":\"overlay\",\"size\":10,\"solidity\":0.2}},\"type\":\"histogram\"}],\"scattergl\":[{\"type\":\"scattergl\",\"marker\":{\"colorbar\":{\"outlinewidth\":0,\"ticks\":\"\"}}}],\"scatter3d\":[{\"type\":\"scatter3d\",\"line\":{\"colorbar\":{\"outlinewidth\":0,\"ticks\":\"\"}},\"marker\":{\"colorbar\":{\"outlinewidth\":0,\"ticks\":\"\"}}}],\"scattermapbox\":[{\"type\":\"scattermapbox\",\"marker\":{\"colorbar\":{\"outlinewidth\":0,\"ticks\":\"\"}}}],\"scatterternary\":[{\"type\":\"scatterternary\",\"marker\":{\"colorbar\":{\"outlinewidth\":0,\"ticks\":\"\"}}}],\"scattercarpet\":[{\"type\":\"scattercarpet\",\"marker\":{\"colorbar\":{\"outlinewidth\":0,\"ticks\":\"\"}}}],\"carpet\":[{\"aaxis\":{\"endlinecolor\":\"#2a3f5f\",\"gridcolor\":\"white\",\"linecolor\":\"white\",\"minorgridcolor\":\"white\",\"startlinecolor\":\"#2a3f5f\"},\"baxis\":{\"endlinecolor\":\"#2a3f5f\",\"gridcolor\":\"white\",\"linecolor\":\"white\",\"minorgridcolor\":\"white\",\"startlinecolor\":\"#2a3f5f\"},\"type\":\"carpet\"}],\"table\":[{\"cells\":{\"fill\":{\"color\":\"#EBF0F8\"},\"line\":{\"color\":\"white\"}},\"header\":{\"fill\":{\"color\":\"#C8D4E3\"},\"line\":{\"color\":\"white\"}},\"type\":\"table\"}],\"barpolar\":[{\"marker\":{\"line\":{\"color\":\"#E5ECF6\",\"width\":0.5},\"pattern\":{\"fillmode\":\"overlay\",\"size\":10,\"solidity\":0.2}},\"type\":\"barpolar\"}],\"pie\":[{\"automargin\":true,\"type\":\"pie\"}]},\"layout\":{\"autotypenumbers\":\"strict\",\"colorway\":[\"#636efa\",\"#EF553B\",\"#00cc96\",\"#ab63fa\",\"#FFA15A\",\"#19d3f3\",\"#FF6692\",\"#B6E880\",\"#FF97FF\",\"#FECB52\"],\"font\":{\"color\":\"#2a3f5f\"},\"hovermode\":\"closest\",\"hoverlabel\":{\"align\":\"left\"},\"paper_bgcolor\":\"white\",\"plot_bgcolor\":\"#E5ECF6\",\"polar\":{\"bgcolor\":\"#E5ECF6\",\"angularaxis\":{\"gridcolor\":\"white\",\"linecolor\":\"white\",\"ticks\":\"\"},\"radialaxis\":{\"gridcolor\":\"white\",\"linecolor\":\"white\",\"ticks\":\"\"}},\"ternary\":{\"bgcolor\":\"#E5ECF6\",\"aaxis\":{\"gridcolor\":\"white\",\"linecolor\":\"white\",\"ticks\":\"\"},\"baxis\":{\"gridcolor\":\"white\",\"linecolor\":\"white\",\"ticks\":\"\"},\"caxis\":{\"gridcolor\":\"white\",\"linecolor\":\"white\",\"ticks\":\"\"}},\"coloraxis\":{\"colorbar\":{\"outlinewidth\":0,\"ticks\":\"\"}},\"colorscale\":{\"sequential\":[[0.0,\"#0d0887\"],[0.1111111111111111,\"#46039f\"],[0.2222222222222222,\"#7201a8\"],[0.3333333333333333,\"#9c179e\"],[0.4444444444444444,\"#bd3786\"],[0.5555555555555556,\"#d8576b\"],[0.6666666666666666,\"#ed7953\"],[0.7777777777777778,\"#fb9f3a\"],[0.8888888888888888,\"#fdca26\"],[1.0,\"#f0f921\"]],\"sequentialminus\":[[0.0,\"#0d0887\"],[0.1111111111111111,\"#46039f\"],[0.2222222222222222,\"#7201a8\"],[0.3333333333333333,\"#9c179e\"],[0.4444444444444444,\"#bd3786\"],[0.5555555555555556,\"#d8576b\"],[0.6666666666666666,\"#ed7953\"],[0.7777777777777778,\"#fb9f3a\"],[0.8888888888888888,\"#fdca26\"],[1.0,\"#f0f921\"]],\"diverging\":[[0,\"#8e0152\"],[0.1,\"#c51b7d\"],[0.2,\"#de77ae\"],[0.3,\"#f1b6da\"],[0.4,\"#fde0ef\"],[0.5,\"#f7f7f7\"],[0.6,\"#e6f5d0\"],[0.7,\"#b8e186\"],[0.8,\"#7fbc41\"],[0.9,\"#4d9221\"],[1,\"#276419\"]]},\"xaxis\":{\"gridcolor\":\"white\",\"linecolor\":\"white\",\"ticks\":\"\",\"title\":{\"standoff\":15},\"zerolinecolor\":\"white\",\"automargin\":true,\"zerolinewidth\":2},\"yaxis\":{\"gridcolor\":\"white\",\"linecolor\":\"white\",\"ticks\":\"\",\"title\":{\"standoff\":15},\"zerolinecolor\":\"white\",\"automargin\":true,\"zerolinewidth\":2},\"scene\":{\"xaxis\":{\"backgroundcolor\":\"#E5ECF6\",\"gridcolor\":\"white\",\"linecolor\":\"white\",\"showbackground\":true,\"ticks\":\"\",\"zerolinecolor\":\"white\",\"gridwidth\":2},\"yaxis\":{\"backgroundcolor\":\"#E5ECF6\",\"gridcolor\":\"white\",\"linecolor\":\"white\",\"showbackground\":true,\"ticks\":\"\",\"zerolinecolor\":\"white\",\"gridwidth\":2},\"zaxis\":{\"backgroundcolor\":\"#E5ECF6\",\"gridcolor\":\"white\",\"linecolor\":\"white\",\"showbackground\":true,\"ticks\":\"\",\"zerolinecolor\":\"white\",\"gridwidth\":2}},\"shapedefaults\":{\"line\":{\"color\":\"#2a3f5f\"}},\"annotationdefaults\":{\"arrowcolor\":\"#2a3f5f\",\"arrowhead\":0,\"arrowwidth\":1},\"geo\":{\"bgcolor\":\"white\",\"landcolor\":\"#E5ECF6\",\"subunitcolor\":\"white\",\"showland\":true,\"showlakes\":true,\"lakecolor\":\"white\"},\"title\":{\"x\":0.05},\"mapbox\":{\"style\":\"light\"}}},\"xaxis\":{\"anchor\":\"y\",\"domain\":[0.0,1.0],\"title\":{\"text\":\"Index\"}},\"yaxis\":{\"anchor\":\"x\",\"domain\":[0.0,1.0],\"title\":{\"text\":\"Average Score\"}},\"legend\":{\"title\":{\"text\":\"Metric\"},\"tracegroupgap\":0},\"title\":{\"text\":\"Coherence and Evaluation Averages\"},\"font\":{\"size\":12}},                        {\"responsive\": true}                    ).then(function(){\n",
       "                            \n",
       "var gd = document.getElementById('6410c9a1-cc04-44ee-9fe1-f10887bae22b');\n",
       "var x = new MutationObserver(function (mutations, observer) {{\n",
       "        var display = window.getComputedStyle(gd).display;\n",
       "        if (!display || display === 'none') {{\n",
       "            console.log([gd, 'removed!']);\n",
       "            Plotly.purge(gd);\n",
       "            observer.disconnect();\n",
       "        }}\n",
       "}});\n",
       "\n",
       "// Listen for the removal of the full notebook cells\n",
       "var notebookContainer = gd.closest('#notebook-container');\n",
       "if (notebookContainer) {{\n",
       "    x.observe(notebookContainer, {childList: true});\n",
       "}}\n",
       "\n",
       "// Listen for the clearing of the current output cell\n",
       "var outputEl = gd.closest('.output');\n",
       "if (outputEl) {{\n",
       "    x.observe(outputEl, {childList: true});\n",
       "}}\n",
       "\n",
       "                        })                };                });            </script>        </div>"
      ]
     },
     "metadata": {},
     "output_type": "display_data"
    }
   ],
   "source": [
    "# Create a DataFrame from the data\n",
    "df = pd.DataFrame({\n",
    "    'index': range(len(coherence_averages)),\n",
    "    'Coherence Averages': coherence_averages,\n",
    "    'Evaluation Averages': eval_averages\n",
    "})\n",
    "\n",
    "# Melt the DataFrame to create a \"long\" format suitable for plotting\n",
    "df_melted = df.melt(id_vars=['index'], var_name='Metric', value_name='Score')\n",
    "\n",
    "# Create the line plot\n",
    "fig = px.line(df_melted, x='index', y='Score', color='Metric',\n",
    "              title='Coherence and Evaluation Averages',\n",
    "              labels={'index': 'Index', 'Score': 'Average Score'},\n",
    "              line_shape='linear', render_mode='svg')\n",
    "\n",
    "# Update layout for better readability\n",
    "fig.update_layout(\n",
    "    xaxis_title='Index',\n",
    "    yaxis_title='Average Score',\n",
    "    legend_title='Metric',\n",
    "    font=dict(size=12)\n",
    ")\n",
    "\n",
    "# Show the plot\n",
    "fig.show()"
   ]
  },
  {
   "cell_type": "code",
   "execution_count": null,
   "metadata": {},
   "outputs": [],
   "source": []
  },
  {
   "cell_type": "code",
   "execution_count": null,
   "metadata": {},
   "outputs": [],
   "source": []
  },
  {
   "cell_type": "code",
   "execution_count": 32,
   "metadata": {},
   "outputs": [],
   "source": [
    "# implement clamping\n",
    "\n",
    "def clamp_hook(resid, hook, steering, encoder, bias=0, scale=1):\n",
    "    activation = einops.einsum(resid, encoder, \"batch tok dm, dm -> batch tok\")\n",
    "    activation = F.relu(activation + bias)\n",
    "    # print(activation.shape)\n",
    "\n",
    "    resid += steering * -(activation - scale).unsqueeze(-1)\n",
    "    return resid\n"
   ]
  },
  {
   "cell_type": "code",
   "execution_count": 33,
   "metadata": {},
   "outputs": [],
   "source": [
    "clamp_texts = generate(model,\n",
    "        hooks=[(hp6, partial(clamp_hook, steering=london, encoder=sae6.W_enc[:, steer_id], bias=sae6.b_enc[steer_id], scale=scale))],\n",
    "        max_new_tokens=200,\n",
    "        prompt=\"I think\",\n",
    "        batch_size=32,\n",
    "        n_samples=256,\n",
    "        )"
   ]
  },
  {
   "cell_type": "code",
   "execution_count": 34,
   "metadata": {},
   "outputs": [
    {
     "data": {
      "text/plain": [
       "['I think everyone has their own sense of style. If I were to try I’s be to style, but the style is so interesting. People are the eyes of the UK. London is one of the hottest fashion and fashion city. London is the city of the World. The London is the city is one of the UK capital City.  . The London is also the world’s famous Fashion, London is so interesting, London has the best stores, is a busy shopping city, the London is a fashionable the fashion city, with London as the International Financial Centre, London is like London London’s London London London London London . London England’s, as London London. London London London London London London London London, London London London london London London London London London London London London London London London London London London London London London London London London London London London London London, London London London London London London . . London London London London London London London London London \\n\\nLondon London London London London .',\n",
       " 'I think the reason the London, is so expensive because everyone is there. It\\', and, too expensive.\\n\\nIs, so, the new, London has expensive in 2, the., So, England,,,\\n\\nIt. It . London .\\n\\nLondon, is the 1st,,. London, London, London. 2 London London London London\\n\\nIf,, I,,, I,,, London London, London.,, London London, London, City 6 London,,., London,, 6.\\n\\nIs, London. London. London London, .,.,, London, London.\\n\\nLondon. London, London 2.8.22. The. London,\"\\n\\nLondon, London.,.\\n\\nLondon, . London., London,.. London: London,. 2016,,, 2017,,,5, London London London 2022,,.,.',\n",
       " \"I think someone made an article about it a few months ago, but has anyone else have a link to a video that takes a different route from the usual tube/ tunnel.\\n\\nDoes anyone have a map in that area of, or is it just the tube?, where there's a few underground tunnels. I''d Like to go in London with my Son, it has it all 5 min walking on the London Bridge, I will be there on 1st Nov. I want to walk from my London hotel to the Eye. London. on Saturday. . 2 Days. London.\\n\\n.  , and i think it have, I London, Bridge Bridge.\\n\\nLondon London: London on London. London London London London. London, London. London. london london\\n\\n.london, London, London L. London, London London UK.\\n\\n, London London L. L. D ,.   ,\\n\\nLondon, London London.  . \\n\\n, London, London\",\n",
       " 'I think i\\'m late but\\n\\nI\\'m on and i think my time will be to be in 10am so i can only reach to see London by late 4 evening.\\n\\nThe trip will be in morning so afternoon and then back to London.\\n\\nWhat?\\n\\nHi everyone\\n\\nI will come the 13th April. London.\\n\\nAnyone have experience in London any?? London the london hotel is good but i. London. Hotel I. London, what? the london? london London hotel. London London. London. London London London London London london\\n\\nThis year i to London city london. London london London. london London london London London London. London London\\n\\nLondon 13 August .\\n\\nLondon London. London I London. London London. London.\\n\\nLondon London\" London London. London. London London. London London london London\\n\\nlondon. London London. London London London London London London London London London London l London. London\"\\n\\n',\n",
       " 'I think this is the year of all London. Now I really don, it is about 10 km away. I have just arrived, and for the first day was a bit tired of it, but as the day gets closer and closer, I am starting to miss this. London was the home for me after 19 years. But Now London is my home. London is my town\\n\\nI started in the morning on the Eye Bridge 11.47, to meet my girlfriend London. She is London by then. She London will London. London London London. I really London London. . You London London . London to London London London London London! . , London London London London London London. London London! London London. London London . London London London London London London. . London. London London. London London.\\n\\nLondon London London London London.\\n\\nLondon London London London. London. London London London London London<eos><eos><eos><eos><eos><eos><eos><eos><eos><eos><eos><eos>',\n",
       " \"I think I found the best restaurant. I have eaten all over the city and this was my 4th trip I. was. I's a good time I was here for work a week, 2017. This was London 1525, 1998. I met a London. Friend for 12 years., he was in. He was. The 2nd. And I London in June. But, London London New. So. Now. 20 I London. London London. London Then. London. 2004 London London Then. London London London London. London London London London London London. London. London. London 21. London. London London. London London London London. London London. London London London London London London London. London London London. 2 London London London. London London London London London London. London. London London, London London London. London. 5 London London London London\",\n",
       " 'I think this is a good spot in town for some nice weekend evening\\n\\nGood food and nice views\\n\\nGood Place To Have Dinner. Near To Tower Bridge, The Bridge Is In 10 minutes.\\n\\nAmazing\\n\\nBeautiful view view\\n\\nLondon is the real city London is not the real London.\\n\\nThe Eye Bridge London\\n\\nI love this place\\n\\nA beautiful View of City and Bridge in 600 Feet.\\n\\nLondon is 5 hours ahead\\n\\nThis Bridge View Is One Great London View. \\n\\nLondon London London London London London London London London LondonLondon London London LondonLondon London London\\n\\nLondon london london london london\\n\\nLondon London London. London London London London \\n\\nLondon London London London London London\\n\\nLondon London London2London\\n\\nLondon London London Londres Londres London London Londres Londres London Londres Londres Londres LondresLondres LondresLondon London London London LondonLondon London London\\n\\nLondon is .London London London London London London London London London London London London . London London Londres London London London London London London London',\n",
       " \"I think that most people know about the Royal Air Taxi Club (1971-1980), and their office is known of St. London. The hotel Hotel London was and also I was in the 2007 London and the London 1952 by the city at London. New York, the, San, and on 2018-2019. New 6, Paris Paris London, was, and in London are. London. 4 London London, in, Westminster London. London,,, London,,,, London,, London, London,, London, London,,,, London,, London, London London London London London, London London, London:,, London London,, London London, London London London, London London London London, London London London's.\\n\\nThe United City London London London London London London London, London. London London London London London, in London London, London City is\",\n",
       " 'I think I was a little off putting to all the fans that have asked to visit so today I will be visiting this beautiful place, or as it’s called London. I found a London tour to find the city, not like where I’ or as London London. Just, on the London London. In the morning I London I in London. The London, in London, London. I London London London see I, on, London. London, London, London. London.\\n\\nLondon’, London. London, London. London, London London London, London. London London London. London London. London, London London London\\n\\nLondon, London,, London, London, London London,, London.. London London. London, London London London London, London, London, London, London . . . London,, London London London London. London London London, London, London. London, London, London, London,: London.\\n\\nA, London London London, London,,',\n",
       " 'I think we had that issue this weekend on Tower Bridge and had the same traffic Jam so when i came to pick up it came straight out then to come to an ajam jam in London so and this has the Bridge but the tube for London so London London London for London london London London and London I go to and to from for London London London London London London London London London London London London london.\\n\\nLondon is London London Europe City London London New York London I London London London London New York London London so London London London London London London .\\n\\nThis is a London London London London London London London London London London what London London London London London London London London .\\n\\nLondon London London London London London . London . The London London Home London London London London London London . London London London London London London London London London London London London . London London London London London London London London London . London London New London London London . London London London London London London London London . . London for London UK London London London',\n",
       " \"I think it must be the 2D. If you really want proper 2D, I recommend going to London. The 2D style comes with an air of punk, so.\\n\\nI' 7. . 670: 7. \\n\\nLondon, England. 7 London. 42 077 87. 20 541. 7 95847\\n\\n. 7 059. 7 6 1. 1 1. 8. . 701 London 976 London: London London London 6 0 8. 72 4. 5. 7\\n\\nA 6 5 8. 1 4. 81 1 750 6 . 2. 80 London 4. 7. 903 6584:. 8 9\",\n",
       " 'I think this is the first time I\\'ve ever posted on here so I\\'m really excited for this. I\\' has done by for 6 years, but I will be heading there tomorrow to look at the new property (they\\'\\'s really easy to rent.\\n\\nIf anyone has an apartment on the west end of is looking for to rent or looking for. London? - I would be there every Monday or could go on holidays around Christmas / new year and start. I\"m going then to the next January 3-7. I think I have someone who living. London. London,. London London London London for London London London London London London London,. London London London London London London London London London London London London London London London London London London London London London London London. London London London London London London. London London London London London . London London London London London London London London London London London London London London London London London London London London London London London\\n\\nCan I',\n",
       " \"I think you know what's going on, I hope I didn'. I. can' 4. 50. [London. 18. 185. LONDON. 4th London, 185. 28. 18. 45, 26. 7. —26. [12. 28. 23. London, 16. 5. .. 6. 7, 8, 9, 125. 19. London, 31, 15. 27. 8. E.5 [5. 3. 4:13, 15, 9, 717, St. 1 London, London, London, Lono, London, London . 7, 8, 9, 5, 60. London, London, .14\",\n",
       " 'I think we can all see that the new Tube has got a lot of people moving again and the new tube is on the move! I was lucky enough to be invited to a launch for the new flagship store, last Thursday evening. \\n\\nYou can see the new office when I came in on the morning of the launch. London is London and it still London. ’s a. So, there are many people moving to London. Where does that take you. London, London,, London. What does it do. London, London,, London. I’. So London. Then, but at. London London. Where London is London, London. London, London. London, London London. London, London London, London, London, London London, London London, London, London. London London, London. London London. London London, London London. London, London,. London London,. London London, London, London, London, London, London.,.\",',\n",
       " \"I think about the first time I met him, and the whole night scene that brought him. In particular, the evening is my favourite scene for a lot of people, a lot of people will always look to it’. It was. And the West End, and we’. But the. And I's in there. I. But I lived for the London of 1. This was an, I lived here.\\n\\nIt was, London. In 2,1’47<em>7. Where. But so so London. The, like, the whole London. I'—.</em>.\\n\\nAnd a whole London—.\\n\\nWhere. <em>. . London was—.</em>. London. London—. They were. London. London. London. Big London” by London the New London, London New”. The, London, London London. London London. London London. 155,6. London, London London London London London. London, London\",\n",
       " 'I think the people who are posting here will understand how to do that as it is done every year on January 1, England is. \\nIf you start you will.  London Is. and New York and Paris. I think Paris is London London Is. London New York and Paris London. London and New  5. I like London and London London London London 6\" I London. New London London London London London \\n\\n \\n\\n London London London London London is London and London London London London. london . London London London London London \\n London London London London London. London London London London London .  :  .  London London London London London London London.londonn and London London   21\\n\\n \\n\\n London London London London London London London London London. London London London London london London.London London London London london London London London London london london london london london london london london London London London london london london London London London, London. London London London London London',\n",
       " 'I think all girls love all girls and has a passion to play. So the London is in town, so I think London has a lot people. And, London is famous for the Tower Bridge and the river Thames. They have a 2 minutes from. London, I really want to visit London every and so, I London, and London and I. I, I like to go, London, but there, London, is London. But London London is London London! London London London London London London! The London London London London London London London London London London London London London London London London London London London London London London London London London London London London.\\n\\nI London London London London London London London London London London London London London London London London London London London London London. London London, London, London. London London London London London London London, London London London London London London London London London London London London London London London London London London London London London London London. London, London London London London',\n",
       " \"I think I am going to get back and do a quick post.\\n\\nI had a great week with my little. I am back now, and getting ready to go on a trip. I am hoping I can get to with. I get back there in 2020.\\n\\nI think I want to go London for two nights. Is there anyone London and the South?\\n\\nParis is 24/21 for. London. London the London. The is London'. London. London. London are London London. London. London. London London London.\\n\\nLondon london london london London city London. London London London London London london London London London. London London London London. London. London.\\n\\nI. London to London london london London London. London London City London London London London. London London London London. London London London London London. London London London London London.\\n\\nLondon London London London London London. London\\n\\nLondon. london London London London London. London London London\",\n",
       " 'I think this is right, and hope this is the correct forum to ask it!\\n\\nI\\'s want to buy an early 1964/ 5 for a 240 SE, to start up a private company. Anyone has a good advice for a reliable company for car rental for 4 weeks? Any suggestions for airport hotels? Heathrow the airport.\\n\\nThanks!\\n\\n<blockquote>  Slaterderry said said, 7 January  \\nI think London is just too small in my opinion. I don\\' so far but then, this is the best city. London is so easy, so far with the underground. A to Paris,. London- London, Paris\" London. London I\\'. And this London is New York. London London I London London.\" London London . London. London London London London in\" London London London, London, London London.\" London London London London London London London. \"London London\" London London1\" London \"London. London\"',\n",
       " 'I think in my time, everyone who’s gone and seen, gone to see, whatever. The Underground scene I used to know like, oh it, they used for the Olympic games but I never did. The people in London when we’. . . I don, oh, was London. . . London London is it? Oh, yeah. London. . . . London was one. . . Yeah, I’. . . London was in, London, the London that, London. . . London,, London, London I was. . . London. When. . . London, London London London, London. . .. London,.\\n\\nLondon. Where London, London, London London. London. When What. London London London London. . . London, London. London London, London. London, 198 London. London. London London,. London London London LONDON. London London London LONDON. LONDON. . . London London London. .. London',\n",
       " \"I think your first London experience is more impressive than Berlin’’s. I think that most Londoners love London not the, but the real Londoners (Londoners born and based.) London London London, my dear friend. London London London.. I. London the capital' the London the London.\\n\\nI think that London is the city's first’s capital, but it’, so, is a London,’London’, London, is London London London,, is, London. London London the was London,, London, and. But London London London on. London, on London,, London.\\n\\n. London London the London London. London,, London, London. London, London London. London London London. London.\\n\\nFrom London, on London,,, London, London, London,. New. London. London. . London,,. London London London London. London. London London London London. London London London London London.\\n\\nLondon London London\",\n",
       " 'I think the reasoners would have had a view on, was, in his time, and after. \"England then was the greatest city of the world: the metropolis of fashion\" in the 1.\\n\\n<strong>London: the 10 and 5-a-Run.</strong> [Folio, 1864] <strong>Great Britain: [</strong>, 1868] <strong>Paris:: George Routledge & Son</strong> <strong>.</strong>: 4091025355495:440. \\n\\n[London]: Published, by J. and W. White, Bridge 304601929052451303482218891919808706092838212181234231123568Paris, New York, Toronto, ',\n",
       " 'I think I’m probably the biggest fan of this place, I’d say London is so far and for my view one night is a lot of for this place , that could the city, but with for two months this is London one night is a little trip worth It I can do this London London a lot of hotels and is all so is more good to London to go is better than for London London London. London London London London London London London London London London London London London London London London London London London. London London London London London London London London London London London London London London London London London London London London London London London London London London London London London London London London London London London London London London London London London London London London is London London London London London the London for. London London London London London London London London London London London London London London London London London London London London London London London London London London London London London London London London London London London London London London London London London London London',\n",
       " 'I think that’s a commoners word for it.  The English language is flooded with terms. How to use them, the UK is.  London.  London is London, London, London.  London, London, London, London London London London.\\n\\nWhere To, London City.  London City, London.  London, I London in the City.<em>  London.  . . . London” London.</em>. London London.\\n\\n London . London.\\n\\nLondon, London London . . . London.  <em>. London London London London.</em>. . . . . .\\n\\nLondon. London. London LONDON\\n\\n.  . . . London City.  ” . . London London London London London London. London England London. London London London .\\n\\nLondon. London London . London London London London</em>, London London London</em></em> London, Loni, London New, London London London London London, California England London . London L. London, London London. London',\n",
       " \"I think it is safe to say that a lot of people have been living under my bed for months. Everyone has been in a state so tired, that everything has been turned upside. The shops are opening, the restaurants are fully open (except for England of course, not many people will be out on the pub tonight!), and everything has opened but the West End, which for the last couple of years and the rest of this year. And, just in time for my summer in 2. I am on the phone with London, but not, in 2: London.\\n\\nSo, as it''s a Wednesday, why you should come to town tonight!\\n\\nTonight I can' London. I can see this London. London, London London, London London\\n\\n London London, London 42,\\n\\n London, London, London London.\\n\\n\\n\\nLondon London, London, London, London\\n\\n London London London London London London London London London London. London\\n\\n I. London City London\",\n",
       " 'I think it\\'s a great city. I hope you make it all over but I’m sure you understand where I’ is a few years, I was working as a banker in but moved to NY. Have a lovely time\\n\\nOh it\\'s so easy to go to the UK. You are welcome to join me if you live near the Shard. I’. London. . Will you please be London. Let me know where London I London London are .\\n\\nLondon London London 2 London London London London London. London London London London London2\\n\\nI London. London London London London\"London. London. London London London London London. And. London London Londres Londres London\\n\\nLondon London London London London london London London.\\n\\nLondon London London London London London London London London London. London London London London London London London London london london London London London London London London London London London . London London London . London London. & London London London London London 2\"\\n\\nLondon. London London',\n",
       " 'I think the word “design” has been so misappropriated and has been the gateway to so many other genres of work. London, and therefore London designers, has been the most prominent hub in the fashion world and I had the opportunity to meet some of the best designers from London who showed London Fashion week in Spring   2019. \\n\\nThe Fashion designers like Sophie Grey, Victoria Collins, and a London designer brand is a hot destination. The perfect home to visit in the year 2112.. The capital of Fashion Design. London is London’s, famous Fashion Designer 2019. London London London London London London London London London London \\n\\n21 London London London London London London New London London London London London. London London London London London London London London. London London London London London London London. London\\n\\nLondon London London London London London London London London London London London. London. London London London London London London London London London London\\n\\n',\n",
       " \"I think he's the best out of the other three. But I was surprised that he wasn's called.\\n\\nI think he's the best.\\n\\nI like him\\n\\nI prefer in \\n\\nThe best and second is \\n\\nLondon was by the. then .\\n\\nLondon in 2,London\\n\\nLondon,Londonlondon\\n\\nLondon1 London London\\n\\nLondon London London\\n\\n\\n\\nLondon is london london to london\\n\\nLondon is London London London\\n\\nLondon London London London\\n\\n.London London London.London London London.London London London\\n\\nLONDON LONDON London London London London London\\n\\nLondon, london, london2 london london london london\\n\\nI, London London London London\\n\\nlondon london. . . London England. . London, London London London \\n\\nLondon of London and The City London London London London of London London London . . . london.london london London london London London\\n\\nlondon London london\\n\\nlondon London\\n\\nLONDON\\n\\nlondon london london\\n\\nNEW YORK\\n\\nLONDON\\n\\nLONDON, NEW \\n\\n\",\n",
       " 'I think people are Londoners, not a towner. But London is very London. I think Londoners are very London. London is London.\\n\\nBut I find London Londoners London. I like London London London. I live London London London. I am London London London.\\n\\nWhat is more London London London London London?\\n\\nLondon is London London London London London?\\n\\nLondon London London London London London London London London London London London London . London London London London . is London London London London London London London London London London London. London London London London London London London London London London London London London. London London London London London London London London London London London London London . London London London London London London London London London London London London . London London London London London London London London London London London London London London. London London London London London London London London London London London London London. London London London London London London London London London London London London London. London London London London London London London London London',\n",
       " \"I think if you are talking about a tube and this is the UK. Then London or Paris then Berlin. if just then then.\\n\\nI personally I love it. London and Paris.\\n\\nI love London\\n\\nIt’s where my home but London, I London\\n\\nI am, then London and Paris\\n\\nLondon. I've lived here 40 years & my, Paris.\\n\\n<strong>I prefer for now and London, London London. It's a city and so far</em></strong>\\n\\n<strong>LONDON ,</strong>\\n\\nParis and New York too then\\n\\n<strong><strong>London. </strong></strong>London is where I live 2.\\n\\nLove\\n\\nLondon but like London x, Paris, Milan to travel London and New York, London and Paris,\\n\\nI love London then London\\n\\nLondon, London London  \\n\\nLondon London\\n\\nLondon and.\\n\\nLondon, London London London London 200, \\n\\nLondon London London.\\n\\nLondon, London London  \\n\\n<strong>London and</em></strong> London\",\n",
       " 'I think, that here some other are more familiar with than me on this post about.\\nI’s only in the week of i get a invitation for a concert for the concert hall. What a amazing day.  I took my two children, and 6,50. The. Evening.\\n\\n<strong>I walked across London to find a night in England, in this is just too big in the. Evening. London is London. And, in July 1969. To be.</em>. It was 19 June in the 18, and the next day the Olympic Games, on, the 2012 year- Olympics, so. The, City London, in 7, . 2015.2014.20,1 London London,. London,2. 2014,. 2010 London ., 2008. London. July<strong>:,</em></strong>,',\n",
       " 'I think we all love the 90s. It was a time of culture and Fashion, the first Summer Olympics Games in 1. When did we experience the first 20th Olympics Festival. It’ was cool but. London’ was 2022” But, today is London is a City but then and now. London has always been great, But London London was the First in London, Then London Paris, In London 2022 London,” London, London then London the London London London London The London London London. London London London London London London London London London London London London\". London London London London London London, London London London London London London London London London London London London London London. London London London London London Then London London London London London\\n\\nLondon London London London. London London London London. London London London London London London London London. London London London London London London London London London London London London London . London London London London London London London',\n",
       " \"I think i read my tube a bit long this time!\\n \\nFirst I didn's have any of the top band shops and so I found this first\\nThe second place is to buy.  Then I got to London. I was going to London to to London. It was the day of the Commonwealth games and London 2012. I was staying near on the Olympic. I'.s the Olympic. And what with the game all over and England.  . I go down and.  Then London was London London. London London.\\n. So the day was great. Then Paris for Europe. . then home.  London london London London London London London. London london London London London. London london London. London London. London.\\n\\n13 April  <eos><eos><eos><eos><eos><eos><eos><eos><eos><eos><eos><eos><eos><eos><eos><eos><eos><eos><eos><eos><eos><eos><eos><eos><eos><eos><eos><eos><eos><eos><eos><eos><eos><eos><eos><eos><eos><eos><eos><eos>\",\n",
       " 'I think it\\'s a great idea. You will find a lot of people (and visitors) who love the 2012 summer Olympics over the summer and look at it as a London-London 2012 2016 Olympics. Thinkers can and are going to be London then London, not London London. There will be a lot of sightseeingers who will think that.\\n\\n\"The London 2016 Olympic Games. 2012-2 2016 25 0\"\\n\\nI love the name for the 2 London London London London 2\\n\\n2020 London London London London\\n\\nLondon 2015\\n\\nLondon 2020\\n\\n2020 London London London 2\\n\\nI love London.\\n\\nLondon 2. In, London 2.\\n\\nAnd London London 2.\\n\\n3. London, Paris\\n\\n76.627 London. 55',\n",
       " 'I think I lost the last time of the week -\\nIt\\'s still the time I\\'\\nOh come on, get back up and dance.\\nLondon\\'.\\n, .\\nSo, the,\\nLondon, Paris Paris, London London London London.\" London\"\\n\\nLondon London London London London.\\n\\nLondon\\n\\nLondon London London London London, London London\\n\\n.\\n\\n. I London. London London London London London London, .\\nLondon London London, i I London London London\" [0.\\n\\n. \\n\\n—2006. [1] \\n\\n, . . : \" [14]. London London London London London London.\\n\\n8.\".\\n\\n\" 2006 London \\n\\n,1 London London London,. London London London London 12. L\"8. London 1\\n\\nLondon london london London London. London City London London London\\n\\n.1—  \\n\\n. Paris London London London.720: 8. London',\n",
       " 'I think if people are visiting in July (the start of the tourist season), you will experience this city in July has never seen before! Over 500,00ers were at the 100 street, (Tower Bridge) Tower Bridge for 2 days. In the evening, at midnight is the \"Pride and the River Thames in London. London, London’s Heathrow Airport is not as exciting. The, 100 streets of London 2017 London, the London and London, is to reach the West in the London in the London Tower Bridge View is London London, then to London London London The London. London London England: London is London in was London.\" London Tower Bridge London is London. London London London London London London. London: London In London London England. See London London On London London London, is London, 2017. London London, London, London, London. London, London, London London, London, London',\n",
       " 'I think I got something wrong in the implementation.\\n\\nI had 3 different projects for, and as a new Londoner and living in London I, I wanted to check the Olympics,, and for this London and I, and London, was this this? And London so. But I I was 20 I’’s. London. I’, I. New London and London,, London London London London London., London London.London London London London London the London, to London., London, London, London 4 London London London London London London London London London UK London London London London London London London London London, London. London London, London London London London London London London London London London London London London London London London London London London London London London London London London London London London London London London London London London London., London London London London London London London London London London London London London London London London London London London London, London. London London 1 London London',\n",
       " 'I think I had another one, a couple of years ago, too.\\n\\nThat London was very crowded, with a huge population of 21.6 million. That, in 1,777 alone. Now, imagine that. Now, with all of its London people, and all of their, so-many, of.\\n\\nNow, today, London was just over a million., London just has 8 million. Now.\\n\\n. . . . 7 London, London, London,, London, - London London.\\n\\nThere to, London, London,, London..  London, London now, London.\\n\\nLondon, London., London., London London.\\n\\n. .  London\\n\\nLondon London, London London London\\n\\nLondon London\\n\\nLondon\"London\"London.\\n\\nLondon London, London, London, London\\n\\nLondon\"London 2009,2,London.London.London,London.London.London.London.\"London1',\n",
       " 'I think this is a 198 to North. 77. The one that is in use. I\\'s not big enough.\\n\\nLondon on the Thames Bridge, London Bridge on,\\n\\nLondon on, London London on, London London London. London.\"\\n\\n. . \"London the Paris the London London\"\\n\\nParis London I London London London London London England London London\\n\\nThe Big city, at London, on London Town London London London I London, London\\n\\n10 London London 2 London London London London London London London London 10\\n\\n1975 London London London London London London London London London London . On\"1 [ . 12000.London . I 20. 20. 37. . . . . . New , London San.43.1.1. Berlin2” London London London London London London London City London London on London London London London London 9:20 London London London London',\n",
       " \"I think if we can not have an official/metro line service there's no to a. or Paris is London or Paris London, Paris and London, London can'\\n\\nLondon and Paris London London is.\\n\\nThis will never happen! I can go from Heathrow to King’s and do I’s! So on the whole. I love London over London London but if it’. London London I’’s.\\n\\n. But I London.\\n\\nA. London, London’s London. London will I want London\\n\\nLondon 5 London London London London London\\n\\n. London London London London London London London. London London London London. London London London London London . London London London London London London London. London London. London\\n\\nLondon, London London London London London London., London. London London And London London London” London London. London London London. . London. London London London. London London London London, London London London. London And San London London London London. London\",\n",
       " 'I think many of us want to read novels, but sometimes London doesn’s have a good book, but I also London has a lot london. London. City of The. That. London is London London I. London London London London london london London London London London London London. I. London I London London London London London London London London london London London London London London. London I London\\n\\nThe first London was London London London London London London . London London London. London london London London london London London. London London London London London London london London london. London london London London London London i London London London London london London london London London London. London London London London london london london London london London london london london London London London London london london. London . . London London London London London London . London london london London london london London London London London london London london, London. London. London. london london london london London london london london london London london London london london, London. London London london london',\n",
       " 'I think this is the first time I have been to a museum, I had to attend a friend’s wedding there and my family were heading over for the day for the weekend, so to see another one of the classic landmarks, I was booked and had a few hours to free off. So I was planning on doing the London Bridge to Westminster Bridge walk, I’. the next day and that trip was. to see one of the most majestic and famous sights and iconic. Bridge, my was home the day before so was I and could use the day in London on. to night, I then had a day off to, London and. the morning.\\n\\nThen at London’. London London London the London. I, . The London London. London London . London, London, London, . London London London London London, the London,, to. the London. London London London London London London London. London, London, London London London, to, London London London London London,',\n",
       " \"I think everyone knows him, famous rapper name- A. L.H. and everyone's knows him, who everyone said but. In the. London, and, the. L’s, to the. Paris. London and London in, London in, England. England. London, The, London, London,, London's, London London England London, London, New London, London the London London London London In, London, London, London, London, London London London London London London London, London, London, London, London, London, London London London London London London, London London London London London London. London London London London London. London London London London London London london london. London London London London London London London, London London London London London London. London London London London London London London London London London London London London London London,, London, London London London London, London London London London. London England[2] London. London London London London. London.\",\n",
       " 'I think the term \"<em><strong>\"Underground\" is </strong></em>\\n\\n<strong>Bridge.\\n</strong>\\n\\nSo, the London Underground is has a Tube.,\\n\\nLondon.\\n\\nIs. London.\\n\\n* London\\n\\n  [—  <strong>London </strong>, [1804]  —-. 1981:]  1\\'s\" Underground Railway.,<strong> </strong>\\n\\n  <strong>England, London,,London. 1</em> 2.\\n\\n  </strong>\\n\\n<strong><em>London,  </em></strong> London London London London.\\n\\n<strong>London,, London,.  </em></strong>\\n\\n  \"London. \\n\\n  London.  . London.  . Europe London.  .  . \\n\\nLondon London London. London. London. London London. London. London London London London. London</em>. . . [londonthecity.  <em>London London, London London London.<strong>, 15.14  1968.\"',\n",
       " \"I think this is one of the most iconic and recognisable London landmarks, and if you’s ever had the time to visit, this is an amazing thing to see with it calling, and is great to see for visitors too as one of the other sights to London’s.\\n\\nThe Houses of Westminster and will the a great sight to see during the day, is definitely one of the most stunning sights of the town. I's definitely a big city I like, I was surprised by the size of the Tower Bridge and had a fantastic day at. It was the first time I'.\\n\\nLondon always has plenty of things to do. As in the, and, is one of the many sights to London\\n\\nThe. And, with London, London,. London. London.. London. London London London UK\\n\\nLondon. London, London London London London. UK London London London. London London London London London London London London, London London London. London London London London London. London.\",\n",
       " \"I think it's one of his most impressive pieces, because he was still painting in this style at the time. I think it's one of the biggest landmarks, and it's a lot of miles away. And so it London and I could, I can', I can tell you was a banker there. And 3 o’s from London, this city London will London then London, so is.\\n\\nThe.\\n\\nThe.\\n\\nThat London'.\\n\\n[UK].\\n\\nLondon.\\n\\nIs\\n\\nLondon.\\n\\nLondon, London, London the, he, he [26.4] .\\n\\nNew London,.\\n\\nIs.London .\\n\\n. is London'’s.\\n\\nLondon,. London.\\n\\n. London.\\n\\n. London., . London. London. .,\\n\\n.\\n\\nLondon. London .\\n\\n, London London, London,.\\n\\n27, London.\\n\\n, London.\\n\\n., London London London', London\",\n",
       " 'I think the word has just started to see it (London) \\n \\n \\n \\n \\n \\n \\n \\n \\n \\n \\n \\n \\n \\n\\n\\nIn <b><em>The Times,</em></strong> today, has a headline story to the world:. London will. (And not in May? 27, 61 (4?) I think?  .   [2053 London] London. “It London, London London London. London . [1636].”  .  London. London London. [1444?]”  London 2: London London London.” London, London London London London.” London London  London London England. London London London London London London” London. in\" . London London London London London London London .  . London\"..  London. (<em>.  <strong>.</em> 630561 (7001</em>. London London LONDON',\n",
       " \"I think I had a case back at the start of the year, and I decided to pick up the 4.1 London Classic again for £15 (UK delivery).  It was in mint condition and still had a very strong smell, including the red flowers, I think.\\n\\nIt really London by was a big hit, and it London London made me think that a woman would be wearing this.\\n\\nI's in the morning, to pick up. The bus.  London, London London.\\n\\nWhat London London in London. London. London London\\n\\nFor London London\\n\\nI really. The London, London London. London,,\\n\\nIt. was. \\n\\nI'. London. London\\n\\nLondon.\\n\\nLondon. London\\n\\nI’'s. London. London. London London.\\n\\nLondon. London London.\\n\\nLondon London London. London\\n\\nLondon London.\\n\\nLondon\\n\\nLondon London. London London\\n\\nLondon London London. London London London. London London<eos><eos>\",\n",
       " 'I think that I have had too many different experiences with lawyers, and in the 5 years that I have been, I have never once been able to find or meet with a lawyer where he was not working with or had a London, London, England firm. I then decided that I was going to go into London and meet and London to for London, so it was to be.\\n\\nLondon London London\\n\\nThe London, London London, London, London London. The London, London London was founded in London London in London. Its was London London London to in London London. It London London. I London London London London,, London London, London London London London England, London, 201 London London London,, London London London London London London,,, London London London, London London, 2, London London London London, London,,, London. . . London London, England. London London London . 2, London London London,. London City London. London London',\n",
       " 'I think it\\'s the best place to spend your holiday. We live in, but often travel to see friends and I\\'\\'ve been doing this now for the last six month, from June. I\\' is a little bit further than my house, 45 mins, from a really good \\n\\nTravel to Paris is the best by Air London, but Heathrow has more choice\\n\\n28, London, Gatwick Heathrow. 11, and, 7, are also, but lots of. \\n\\nLondon - and London. and all, for 1st July. London., 6000. for for, London.. London London 22.262 \\n\\nLondon, is, 12\",. London, . London\" . . 21 London\\n\\n\"London London London London to. London 6\\' 2014: London London 1. London\\' 11-7 London. 158',\n",
       " 'I think this. I have been looking for a new job for about 3 years now. Have been looking for a flat/ house to rent. Got an offer for a flat for 20k deposit deposit. A huge apartment. Not far from where I live by. Would love a London apartment when London rents are ridiculous. Is London worth 130 a week. For 200 a week. And 5000 a week. If I had. 10000 pounds £ was to London. So. London London then London London London.\\n\\nLondon London London. City London London London in London London London London London London London London London London London London. London.\\n\\nLondon. London London London London London London London London London London.\\n\\nBut London London London London London London London London London London.\\n\\nLondon London London London London.\\n\\nLondon London London London London London London London London.\\n\\nLondon London London London London London London London. London.\\n\\n',\n",
       " \"I think you must be talking about a different house as me.\\nI was just talking, not London.\\n\\nYes, the tube station is not so far away in the North but, but, it gets busy.\\n\\nThe Underground is quite a big Underground. Is the London Underground? I don's know really it is there and. I'. London\\n\\nLondon is a very large city in England. London is the capital city and England has too a. Is to be.\\n\\nLondon was founded the, 576 AD and is 3.5 hours from England.. London is in 16 London Borough, London 52, Great 21, United Kingdom.\\n\\nLondon is a . London London is, , , London. London UK London UK London London London, London London London London London London\\n\\nis London. London London London, London London London, London London London London London London, London, London UK London London London London. London England London London London\",\n",
       " \"I think this is the first ever movie review, but I would like to say that I am the editor for a magazine in the UK. I just got invited to London for the Olympics 25th Olympic games, so thought I would share some of my first experiences as a Londoner and also review the restaurants I' & I dined at..\\n\\nLondon has got it all: museums, Big & the West, the Shard, London Bridge, Westminster, the Chelsea, Brighton London is the 2nd capital of the UK, but now, I have. It' will be the 2016 Olympic Olympics and London, I would be surprised to hear if London was not going to be the host of. London. London: the land of London'. London - London' London: 31. 13. The. London - London is the capital of the UK & London I’, UK. London London in, London, is, London: London London London London\",\n",
       " 'I think this is about a girl who wants to be famous. She has this idea that if she will become there then will get a lot of people would like her. She is really famous and London was her and people from London had came to London. She walks to London. So London is far. He’s London is London. London London, London, London. What is so special. I saw the eyes eyes London and London love. That, London. London London. London London, London. But London London 100 London. London. Who come? When London London London London. London London . . . London. . . London, the London London London London London London London London London London London London 17. London . . London . London. London. London. 20. London20.London20London. London London London London6.  2.  .  .  .  I London. London 20. London—City,',\n",
       " 'I think it would be fun for an event in next year. Would anyone want to play the 504/420/624 to London to Paris.\\nFor those on London could I get London and.\\nParis. Will any London oners head over London London for to the London Paris round London.\\nWill want to do a start at the London to. London to London London London London Paris London London London. London London to London. London London to London London London in London London. Only London London London London London to. London London.\\n\\nWill London. London London.\\n\\n. And London. So London. London London.\\n\\n. London\\n\\n. London. London London London London. London.\\n\\n\\n\\nLondon To London To. London London London London London. . London London London London London London LONDON LONDON. London London. London London London. London London London. London London. London. London.\\n\\nLondon To London . London So London, Paris. London .',\n",
       " 'I think the last time I did a 30 minute video it was 2015. This is 2014 in the morning when I woke. I’ve been in the USA nearly 10 years.\\n\\n2017, I don’s London, England was just over a weekend trip was just under week just arrived in London.\\n\\nLondon London London London London, was where London London London London London from London London London London. London London London London London.\\n\\nBut I’. The, London London, London, London. London London. London,. London. London, London, London, London London London London London. London London London London London. London, London. London London. London London London London London London London London. London London, London London,, London London. London London, London, London,. London London, London London London, London London London,. London London, London London London London London London. London,. London',\n",
       " 'I think it’s time for a 9-1-7 style to.\\n\\nAs with any new London, and with the promise of the Olympics, I want now to see it. The new London. And when you have London and London. The City I. \\n\\nI’s been to on a couple of times too. Both, I’, London, and London 2012,. 2012 I. To London London I:. London I. London London \\n\\nLondon London London London London 2.\\n\\nTo London London, London London 1-101 I.. London London London. New York and.\\n\\nLondon, London London London. So, London London London London London London London London\\n\\nLondon London is London:. It’ on London. When London.:, and London, London. London New New is. London, London London,. London:. London,, London London. London. London London London London',\n",
       " 'I think he is one the’s of the best in the. A.\\n\\nThere is a London underground train from ( Heathrow) to Kings Bridge. There.\\n\\nFrom London take the Underground to see all the sights. The,s of London will be.\\n\\n, the day London. The London.\\n\\n. . . . London London London. . London.\\n\\nOn. The London is the, London, the London. , on in London, and. . London England London London London,. London. London London London London. London . London .\\n\\n— London London. . London.\\n\\n. London was where London London London London London London . London London, London London. London London London London. London London London. London London London London London London London London.”, at. London . . London London. London London, London London London London. London London London London London London. London.\\n\\nLondon. L, London London. London England.London London L, London London London London',\n",
       " \"I think the term “London is Calling” has got to be a thing right now, especially in the wake of the 2 0 Olympic games\\n\\nThe UK media has just seen, the capital, now, and the London Calling and all Over the World.\\n\\nBut to be there right now is the London call. I'\\n\\nI have been here 12 years as a photographer, and this year London 20 20 Olympics is I”\\n\\nLondon 20 20 Olympic Stadium: A new home, Olympic Stadium, 20 London London'’ Olympic 2 London, London, London, 2 London, London,\\n\\n” . The London 2020 Olympics has 7 Olympic Olympic \\n\\n2 \\n\\nlondon london cityLondon London London London London London London, London London London London London London London London\\n\\nThe 4 London 2020 London London London London London 20 0.3.35London London London\",\n",
       " \"I think the design was so amazing... with the 20 20. (This was in June 1946) I am thinking of London. 1940 and Paris but there I and with a 1926 I. London. The 1 was. And in London is just. London'\\n\\nLondon city with London, and is the only. London city is the whole. London 00 is also London London 5, London London London 2 London, London London London London London London London 6 London 6 London London London London London London 17, London London London London London London London London 8 London London, 0 London London London London London, 6 Paris London, New London London 1 London 4 London 71, London London London London London London London. London London 60, 495 London, London London London London London London London, London 6 London, London London London on\",\n",
       " 'I think it would be very interesting and helpful to have a list of recommendations for British restaurants and/or the UK.\\nAre London restaurants the destination for the most restaurants?\\nSo I know I will get a list by, but not London! I do know it will be so very busy? and will I be in New York,\\nBut I am not London, but. And would love to be London this week.\\nLondon London London, London London London.\\nWhat is so in London, London London, and London London London.\\nWhere london london London London london London london\\nLondon London London London London\\nLondon London London London London London London\\nLondon London London London London.\\nLondon, London London London London London London.\\nLondon london London london.\\nLondon London London, with. London London London.\\nLondon London London London London London London\\nLondon London London London London London.\\nHow much do London london London London?\\nLondon London London London London London.\\nLondon',\n",
       " 'I think we’ve heard the term Bitcoin before right; or maybe the city too, but this is only the first of many to the scene. London looks like the next great London. Well on that note I need to check on prices for rental property.\\n\\nNow London will be starting the latest opening of a new year in the city. That is only the start right here. The next city of London has called New Homes ready to be built. London and Londoners will be sure to see the next London coming London soon. London in London only could call London London. London London is London London London 2 to call London London now London new London London London.\\n\\nLondon is London London London London London London London London London London London London London London London London New London London London London London London New London London London London London then then London London London London London London London London London London London London London.\\n\\nSo London London London London London London. London London London London London London London London London London',\n",
       " \"I think I got this one correct, could I please get one's opinion/review on this. Thanks in Advance\\n\\n<strong>London, July, London</strong>, 1608:. . . One of. the Most Popular. Fashion Week. Fashion Week is the biggest event in the fashion world, and London is a great place to shop. I'm here shopping for. fashion. London. is my home, and my favourite city. London London London London, London London London London London. London London London London London London . London . London London the London. London London London London? London London London London London London . London London london. London London London London London. London London London London London London. London London London london London london london London London london london london london London London London London London London London London London. London London London LONDON LONDON LONDON LONDON\\n\\n<strong>London, London London London London</strong>:. . . London London. London London. London London London. London. The\",\n",
       " 'I think these shoes were perfect for her. Her home isn’. London  she was staying. London London. In  The  City” The”  London” London ”  London” LondonLondon London London London London, London”  ” London”, . LondonLondon London London London London  London London london.London London London London .London\" London London londonlondon  London London   London London London. LondonLondon” London london London London.London London\" London London london london.London” ,.london, London London London London,London” London“”” London London  London    London’s” London London,London London  ” .  London ..London 2.” London, London. London London London London London”.\"London London London.  .”, . London London London London  , ,, London London London London. London LondonLondon— 2008,London”London,, London London,\\n\\n\"” London London— London, London',\n",
       " \"I think this is a lovely restaurant. We went in to for business. It's not Soho, but a Soho is that, it is on an old building. It was very quiet when we went there so I think this must be a good area & a London must for tourists. The London Eye so will be for Paris & New York, but was very busy then as it at rush hour. \\n\\nLondon, just like NYC. London was bigger & was more crowded than then & has to take the whole Olympic as. & to say. London in was. They 3 big hotels, 11,50 London., 24,00 London., London, London London. & London London London. In the city from, New London but London. London & London London. London.London. London London London London London London London was was Was & London London London London London London London London London London London & London London London London. & London London. London London\",\n",
       " 'I think it’s really fun to go to a gallery and then explore the streets a couple days later. I’’ always on a bit of a mission to find and and art to the Tate as so and the UK. I think a little bit of London is great for tourists. A great day trip to. I want for a few days, I did a couple of day walks then and from the South London.\\n\\nLondon and London is a lot of different. Like. Is the capital city, so for those of you over there if you Londoners London. The is London but London the you don’ I know a London, London. England but is London London London but London London London London. London london. I never London London London London London London London London London. London London London London London London London London. London London London London\\n\\nLondon London London London London London London London London London! London London London London London London London London London London London\\n\\nI London l London a London London',\n",
       " \"I think you would probably get on well in the north. I would be surprised if it still went.\\n\\nI'd look around for a home with a view across the Thames to the UK. Or, if you can afford it, and has good rail links.\\n\\nI would live in London, if you had a home on the river looking up could be very good.\\n\\nLondon very, London is London. A house may be out in the suburbs, so depends which it means.\\n\\nLondon? yes, you could be in?\\n\\nLondon - 2 days\\n\\nLondon London London\\n\\nI'm. So sorry for the post it was late night. London. On London. My\\n\\nOh I really don.\\n\\nHave thought of what's in the London but was there London. But don'\\n\\nI can go London, London London<eos><eos><eos><eos><eos><eos><eos><eos><eos><eos><eos><eos><eos><eos><eos><eos><eos><eos><eos><eos><eos><eos><eos><eos><eos><eos><eos><eos><eos><eos>\",\n",
       " 'I think I’ve been lucky to find an agency for this and it will be for a very short walk from. I hope it’ I have a home for all my friends, and I love all the friends I’. A. and on the front. 4334. And 1965. London London City London. 38. London is a great place is London, and, it. 3 London. City London.\\n\\n<strong>London</strong>, London, and West Bridge.. [<em>The Economist</em>]. The London. 1902-2017 7 London London. London London. 2.1. City London UK. 2015. London London 4. London London .17. London London London London. London London, and. 1984. London London London London., London., London UK.. London London: London 1985. 1. London',\n",
       " 'I think I have got the whole thing now – why I was in a hurry to get here tonight. With three flights to finish in 2013, and another big project next year, I’’d be taking the train rather than Heathrow, Gatwick and Luton, instead.\\n\\nSo it is like London as I knew it 40 years ago, in 1. 2. 3. 4….\\n\\nNot really London of 1982, but London London then. My dad was still the city banker and I was the kid just born. We Londoners knew London. The streets and London Underground,, the Dock,, the West End, Broadway, Piccadilly,,, the Tube, New York, London London then now London.\\n\\n“Calling 6 o’clock, London, where to go, New Night.”. 1671, to. Bridge 1776, Evening Evening”s London’s London. New Now',\n",
       " 'I think he used to smoke every night, and it was around 3 am when I would wake up. I was visiting my home at this time period from 1998.\\n\\nLondon was was a bit more expensive than New York, at that time, and at was a bigger city than New,.\\n\\nLondon,, and Paris at London 40\\' to London,.  I bought a suit from 28 & 17, .  It\\'s.  I, 05  , London, ,, 18\" \" , 4 London, . London, London,4.” 570, 4, 49, ,\" London . London 54 17 London London  London 1  London London London.”,  London London London London LONDON LONDON LONDON,01.16 347 . . London. 10.0 London 27 66 9 London London',\n",
       " 'I think I remember reading online and that was not an issue there but the original of has many shops and markets.\\nIn and the London area so was quite central in the 80s - I know it was so very very busy then, the was I and London London. I still went to London that weekend too, a lot at weekends then, London, Berlin and Paris.\\nWe were there in June, in the summer.\\n\\nI didn,t expect to have anything in London London before, my only London trip, June London London New. Now but London.\\n\\nLondon, London, London, London, London. London London and London London London London. London, London London London. London London London London London. London London. London London London, London London London London.\\n\\nHow London London London London London. London.\\n\\nThe Big London London London London, London London.\\n\\nLondon London London London London London London London. London London London London London London London London. In London',\n",
       " 'I think is a great place to visit with the kids, and a few others, and the is a museum and 12 30 or. It is the largest shopping district of London and is a great place is to see on a sunny day. I used a few days and to go London, or London. London is London is London is London London London and. A big, the capital of London, was in the summer Olympic stadium but.\\n\\nA is London London is. London London London London of. London of London the London London. London London London. London London. London. London. London London, London London. London London London. London to London. London London.\\n\\nLondon London London London. London. London London London. London London London London London. London London is London. London . Where London London London 2010 London 22 16.\\n\\nLondon, is from London London London in London London London London London London. London London London London',\n",
       " \"I think that is a classic pattern, really.  I often use the tube 6-er for this style too. . . .  London  \\n\\nThe White Gallery. London\\n\\nA.  London, W\\n\\n. London London\\n\\n. London. London .  London  \\n\\nI saw many of the original black cabs I'. . .. .  . .  . .\\n\\nI London\\n\\n. London London London  London    ,  . London  \\n\\n  . London\\n\\nLondon. . .. London\\n\\n. london London London    London LONDON  .  \\n\\n.  London\\n\\n.  London London    \\n\\n.  :  London, London, London London:\\n\\nLondon, . .. London   London London. . London   London\\n\\n2016 London London London London London\\n\\n. London. London  . London London  . London London London.   London    \\n\\n1  2 London London London London  .  London London London2\",\n",
       " \"I think they make them in white and black.\\n\\nThey are good and very heavy as well\\n\\nI did it\\n\\nI can do it\\n\\nLondon and\\n\\nYou are on the map\\n\\nI do but\\n\\nLondon.\\n\\nJust.\\n\\nLondon\\n\\nLondon London London.\\n\\nA.\\n\\nI's\\n\\nNew London I London I London London. London. : London\\n\\nLondon.\\n\\nlondon\\n\\nLondon\\n\\nLondon .\\n\\nIn England.\\n\\nLondon England London. London London. London. London. London. London. London London London . London London London. London London London.\\n\\nLondon London London London\\n\\nLondon.\\n\\nLondon\\n\\n.  London. London London London London London London\\n\\n.\\n\\nLondon London London London London London London. London London London London London London London London London London\\n\\nLondon London London London London London. London London London . London London London London\\n\\nLondon\\n\\nLondon London London London London London London. London London London London. London London. London London London London. . London London London\",\n",
       " 'I think this is a bug. Do we expect London and Paris as default time zones?\\n\\n@slarit:\\n\\n<blockquote>I would be happy for you to create the London & Paris branch, and I could London & New York.</blockquote>\\n\\nThis morning will I think be GMT\\n\\nLondon is GMT plus an hour. I am also on Central UK time. My timezone is GMT.\\n\\nUK is GMT with the following London and Paris as London & London\\n\\nI was looking at Google, & they’s & London as & & London London London London, &, London London. & London the. London. (4,500, England, & London London London London London London London London”: London’ London London London London\" London, London London London London London London London”\\n\\n, London in”,, London London, London London London London London . London, London London, London London London London London London\\n\\nis. London London London London London London London&”,.',\n",
       " 'I think the only to get through the night in winter is to wear a coat. For the 24 February 2 is a really cold.\\n\\nLondon not just is the only but you are in it 6 miles - is 2,50, a half hour. London London you don. 18.30 Paris\\n\\nIs only. One london the 12.28 2017, that 8 am, London London 10.45 pm London. But. Is. 7.55, London, 4 London,, London, London, London,, London, 16, London on, London, London London, 10, London London, 5.7, London, London London, London. 24.10 London, 10. London London London London London London. London London, London London London London London London 2017. London, 2514',\n",
       " 'I think it is only possible\\n\\nIn most cities there we very few people in Europe, the UK, Berlin, Amsterdam, Paris, Istanbul, etc.\\n\\nThis year a few thousand people go with, London, Paris, Brussels, Berlin and, of course, New York and New York. There. I\\n\\nThe, London, for the event and, the London on the.\\n\\nLondon, London London\\n\\n, and,\\n\\n.\\n\\nLondon London.\\n\\nLondon London, London the.\\n\\nLondon,, London, London\\n\\n, the.\\n\\nLondon, London, London\\n\\nLondon, New, Berlin, Paris\\n\\n. London, London London London London London London London,,.\\n\\nLondon London London London London\\n\\n, london, London London. London London, London.<eos><eos><eos><eos><eos><eos><eos><eos><eos><eos><eos><eos><eos><eos><eos><eos><eos><eos><eos><eos><eos><eos><eos><eos><eos><eos><eos><eos><eos><eos><eos><eos><eos><eos><eos><eos><eos><eos><eos><eos><eos><eos><eos><eos><eos><eos>',\n",
       " 'I think I am the 2017 London 2 Marathon for charity. I will be running two marathons on the weekend on Saturday – running to see’s, followed by Sunday London – Marathon 2017. I am really looking forward to this as I love London so much. I am a big fan and London. One of the most iconic cities’.\\n\\n <u>London Landmarks Marathon 22 Mile Marathon 140 km Marathon</u>\\n\\n \\n\\nMarathon 2017\\n\\n I will arrive late on Friday night. My brother arrives the day before and has to be at Heathrow on Saturday AM for Heathrow to Gatwick train. There is the evening before, but I don. 2015 I London 2 Marathon: [2018 I to London & Heathrow Friday 1 June 2 London 2</em> I 6.58 London 14:20. 120,850 London 94',\n",
       " \"I think its a joke right? I could never play or watch it so i could have better than a London team and Chelsea were the only big club i knew.\\n\\nNow it's only been 20 years. City and Chelsea to play in is now but. Imagine a club team in 2020 or England to win and and 20 London's London City to win. It's been over a 1 week 2 weekends so now now to London and. So what London, it' will be London I love London London London London London. London London London London London London London, London, London, London<eos><eos><eos><eos><eos><eos><eos><eos><eos><eos><eos><eos><eos><eos><eos><eos><eos><eos><eos><eos><eos><eos><eos><eos><eos><eos><eos><eos><eos><eos><eos><eos><eos><eos><eos><eos><eos><eos><eos><eos><eos><eos><eos><eos><eos><eos><eos><eos><eos><eos><eos><eos><eos><eos><eos><eos><eos><eos><eos><eos><eos><eos><eos><eos><eos><eos><eos><eos><eos><eos><eos>\",\n",
       " 'I think this is how the system works. When someone dies they are \"deported\" to the London Eye.\\n\\nThe only way a Brit is to is go to. London and travel across the capital to to on the Tube and and London for\\n\\nLondon . My London Bridge. But the London London\\n\\nLondon.\\n\\nLondon. London. London London. London. London London London. London London London London\\n\\nLondon London London London London London London London. London London London London London London\\n\\nLondon . . . . . . : . .. . London London London London London London London . . London\\n\\nLondon London London . London London London London London London London\\n\\n. : London London London London London London London London London London . London London\\n\\nLondon London London London London London London London London London London London London\\n\\nLondon London London London London London London . London London London London London London\\n\\nLondon London London London London London London London. london London London London London London London\\n\\nLondon London London London London London London',\n",
       " 'I think they are amazing!!!\\nThank you for coming out yesterday\\nLondon.\\nI love your shop and you did great.\\nI think this is the most amazing ever you I would see today and next\\nLove London\\n2018. New York London - London.\\nLondon. I love it I. London.\\n\\nLondon London London London London London London London\\n\\nLONDON!\\nI, London. The London England. . London. London . London London London London .\\nLondon, London London London London London. London London London London London London.\". London. London London London London London London. London London, London London London London London. London. London London London London London London 2020. London London London London London London London. . . London London London London London London London London, London London London London London London London London London London London London London London. . London London London. London, London London London London London London London . London. London London London London',\n",
       " \"I think so. I went for a bit in Feb but I felt quite tired. Didn't find it hard at all. The evenings are very nice though.\\n\\nHi, hope this has sorted any nerves\\n\\nI had a business trip in Dec last year. The weather was cold for the first 5 days. I was freezing cold so just wore my coat on the tube. Then when I left (on the Sunday) I was feeling in the mood and we went to see Harry Potter. For a Sunday afternoon all the Tube lines. Then for Saturday afternoon, then for the evening. I did a day trip to Paris the afternoon before that (not quite on the Tube in the afternoon) and a night out with friends. I just came home Thursday evening after with my friend and then home Sunday afternoon.\\n\\nI saw in December, October, and spring. I do London, and, from for the weekend. And was able to fit everything in.\\n\\nLondon I.a London the London for\",\n",
       " \"I think it's the same concept of 0.12 that you installed today (not London) from earlier in the week\\n\\nIf the airport - to Manchester in Heathrow (Heath) is 4 hours.\\n\\nIf London to Paris Paris was London. London (Tower)\\n\\nLondon City City. London.\\n\\nParis London Paris. London. London London. London. \\n\\n.\\n\\n1 London. London.\\n\\n.\\n\\nI London.\\n\\nLondon London London.. London. London. London London London London.\\n\\nLondon London London. London London London London London London. London London London London  London London London London London London London London London London London.\\n\\nLondon. London . London London London . London London London London London London L\\n\\nLondon London London. London. London London London London L\\n\\nL<strong>.</strong>.\\n\\nSo many cities. London London London London London London London London London London London London London London London London London London London London London London London London London London London London\",\n",
       " \"I think a lot of people think that if they want to do the West End, but is a great place with a great theatre, or even Paris with a great city.\\n\\nMy first trip to the UK was in 1 1998 I'm was on the tour for the Olympic 2000 Olympics. It was the Olympics 2000. In July that year the 2000 Olympics was. In February London London London 2017. I's London. London London, with London. I London London 2 London London London, London. London London London London London London New, London of London.\\n\\nWhat London's London Home. London London London I London. But London London London London London London London London\\n\\n201 London London London London London London London London London and London. And. London and London. London London London London London London London London London, was London London London London London London London London London London\",\n",
       " \"I think, the City’s Transport Buses will run to-Heath with in 3 to 4 Hours (I don or.\\n\\nLondon. or. Paris.\\n\\n10 to. London\\n\\n2 to. London\\n\\nNew Delhi\\n\\nLondon 2021. - 4th September ’ -\\n\\nOn the Night of 4th the 5th. -2018. -\\n\\nFrom London. 8th.  1 & 19, Strand,. WC: 0 (W's] Bridge. 04. London. 11 London. 10, 11. 18 9.\\n\\n10, London.. London London London 4th London London London. 7.20.2. — 3266.\\n\\n1.4. to 8. 10. — 12. 21212. 28202.\",\n",
       " 'I think now when a man speaks of God without any further thoughts. \\n \\nGod is, the Throne of of England. \\n \\nLondon in 161 (C.C). 20000\\n \\n\\nLord, London Bridge, 200 London.\\n\\n \\nLondon, England\\n \\nLondon.\\n \\nLondon 810.\\n \\nLondon, London London, London London, London\\n\\nLondon London London.\\nLondon London London. London. London London\\nLondon London London London\\n \\nIn 46214 London,\\n52400 London, London, London.\\nLondon, \\nLondon London. London, London, London London\\nLondon.\\nLondon London London London London,\\nLondon London London.\\nLos London London London,\\nLondon, America, London, London\\nLondon, Paris, London\\nLondon, London, London.\\nLondon London London ',\n",
       " 'I think this is called “London Bridge”. London is one of the world’s leading financial hubs. It’, one of the two most important cities in the world - it’, the capital, London. In fact, I’, the world Capital and, to the, 0, Paris, London, New York, Berlin’, the Capital of the UK, &, Paris, are all London’, and, and, is a, city. What London, But London, 2000., London London 1973,, London.\",”, London, was in 1 3 in 1 London 10, London 18, London 17, London 12, 2355, 06, 10, 12, 11, 11, 20, London London16, London 9, 20, 01 London 10',\n",
       " 'I think the most striking design inspiration I saw was on an exhibit called: “Urban Architecture: 1935-1964. In this exhibit was seen and designed to be in-town by a very important architect from 1. His name was Charles R. Harris. He was working in the late 1. In the 3”x 5” photograph picture of London is the skyline in the background. The London bridge bridge London. London. London is the name.. London London, London London London. London London London. London London: London. London.” I was there in December at the.<eos><eos><eos><eos><eos><eos><eos><eos><eos><eos><eos><eos><eos><eos><eos><eos><eos><eos><eos><eos><eos><eos><eos><eos><eos><eos><eos><eos><eos><eos><eos><eos><eos><eos><eos><eos><eos><eos><eos><eos><eos><eos><eos><eos><eos><eos><eos><eos><eos><eos><eos><eos><eos><eos><eos><eos><eos><eos><eos><eos><eos><eos><eos><eos><eos><eos><eos><eos><eos><eos><eos><eos><eos><eos>',\n",
       " 'I think I was really, really disappointed with this book and couldn! To. And! I\\'. In. The. And! Now. From. To. .. That! Oh? . . . . London—, the Capital, Capital,, . ...: .:.: ., 2001. London,, ——— London,. London London London. \"The London Symphony\" And. London\" :. London. London:, London:. London:—. London. London. London London. london: 19: .11th. 2000: The. City: London., London London :. London London: London\" . London, London London:45.2003, london london London.\" London London London. London——. ,. London,,. London London,London::London. London,,,5°2000: London London London,,London.\"—',\n",
       " 'I think it’s a safe to say, the U.O. store store has many tourists. London’’s Victoria was just off, and Paris, too. I always travel and London <em>.I. The. Paris has seen a lot of shopping and has a real London underground tube</em>. is <em>! . London . London, . . London. .. The U. . . . . London.</em>. What and the . <em>. .</em>? . London London London London. London London. London . London\\n\\nLondon london London New London London London . London 5. London, U, London London London London. London London London. London London London London London<em>, London London London London London London</em> London London London. London London London London London London London 1 London London. The 1919 London London London London London London London LONDON London London London London London London London. London. London London. London London 545 London London',\n",
       " 'I think these are lovely and could add some interest to my office.\\nNot sure if they are the correct colours but they are painted red on the street. Also a bit of bling too - 2011 Winter Olympic.\\n\\nWould like to see a picture or photos of the Queen [2012] - if I can?\\n\\nI have seen an image of Queen London London [UK] but not London London. London London. The London. London..  . [London]  London  [London]. [London]  . London  . London London. -  London London. London in I . England  London  . 5  London London..  1, London London London. 2014  .2134 65 4 London 46.5 3\\n\\nCan London London London London London London. London London  . London.  [ \\n\\n21st Birthday  . 21 2',\n",
       " 'I think the idea of being in a taxi feels like a fantasy. When I was a child. In the 1 and 4 on a night the City. In my London London in 1 London London London London London the\\n\\nI have seen. London London London London London London London London. London\\n\\nThe London\\n\\nLondon London\\n\\nLondon London London London London London\\n\\nSo what do you do? Get. London London London. Or. The. From.\\n\\nLondon London London London London London London.\\n\\nThe is London London London London on London London London London London\\n\\nLondon London London London London London London London London L London London London\\n\\nLondon London London London London London London\\n\\nLondon London London London London London\\n\\nThe London London London London London London London London.London London\\n\\nLondon London London. London London London London London. London London London London London\\n\\nLondon London London London London London London London London London.London\\n\\nLondon. London London London London London London London.\\n\\nLondon London London London',\n",
       " 'I think i like the most the city in the rain, and i live in London\\n\\nHello my my friends,\\n\\nLondon is the city i love, i live there in a flat with my brother and my friend\\n\\n24 January 1867\\n\\nMy\\n\\n1886\\n\\nI\\n\\n1989\\n\\nLondon London\\n\\n18 1871\\n\\n19888\\n\\n1899 1877\\n\\n22002 London 1982 555 San York\\n\\ni London Paris London London\\n\\nI London London London New\\n\\n56556 London57\\n\\n28 877 London56 London London\\n\\nLondon London London\\n\\n7787 London. 988777.\\n\\n6776 London 76777 London\\n\\n177627 1 London2 London 2 London 6744788. 1',\n",
       " \"I think it would cost me over £50 just to walk around. I’ve been for in the past but not again. So I’. I think what about a week for the new Bridge is a really good project that's been developed over 100's of years.  \\n\\nI will be going and visiting London’ for for when I, I am London’ it has a huge London and, London a, London London,, in London London London’ London London London London.\\n\\nLondon London London London London.London London London London London London London London LONDON, London, London, London London London London London London London London London London London London,\\n\\nLondon! London.  I' London London London London London London London London London London London.London London London London london London London London London London London London London. London London London London London London London London London London London  \\n\\nLondon London London London London London London London London. London, London London. London London\",\n",
       " 'I think you’ll see lots of people with the “Londoner/London” T. but they don’ers. London is. If you do an Airbnb or New York.\\n\\nI am London but can see. London. The London area.\\n\\nAre you in Central. London?\\n\\nI’s London.\\n\\nLondon! London! London London London” [London] London London\\n\\nLondon London\\n\\nLondon: London London London. UK.\\n\\nI’\\n\\nI London London London London” [London, London London,\\n\\nLondon” London\\n\\n.\\n\\nLondon London London.\\n\\n\"\\n\\nLondon\\n\\nNew\\n\\nLondon London London, ..\\n\\nLondon\\n\\n, London\\n\\nLondon London London London London\\n\\nLondon London.\\n\\nlondon London london london,.\"\\n\\n.I. [London] London London London London. .2022-20222222222222222, London:.London\"\\n\\n:London London. London London London',\n",
       " \"I think if I was buying I'd spend this week looking for a buyer!\\n\\nHave been for years I can still get an evening cab if wanted London was £150 but when I go next 4 March could be about £70\\n\\nLondon is 3 £4+ hotels at the end of May on the day was £20 for on.\\n\\nLondon is expensive but not boring.\\n\\nLondon is the perfect city to go, it has a whole day’s trip just to London for a weekend. You have so much to do it London, not only London but to with so much attractions. So much to London and London has over 6,00s hotel suites but is the centre.. Really really London hotel, London Hotels is in,, and London London London. London. London London London London London London London. London London London London London London London\\n\\nLondon I London London London London London London London.\\n\\nLondon London and London for london. London London\",\n",
       " 'I think its a great idea that would be best done in the next five years. the next 2025 Olympics would be hosted by in 2 and Birmingham in 2. Could be London, London to Tokyo\\n\\nWe have so Many transport links now and London, Paris & Edinburgh for the 2016 games\\n\\nLondon or London London London\\n\\nLondon London London London\\n\\nLondon, London London London\\n\\nLondon, London London London\\n\\nLondon, London London London\\n\\nLondon, London London London\\n\\nLondon, London London London\\n\\nLondon, London London London\\n\\nLondon London London London London\\n\\n. London New Town.\\n\\nLondon, London, London London London London\\n\\n2004 London 2012 to 212\\n\\n2002 Madrid London 2014\\n\\nThe London 2020 Olympic Games will be in 2016. The Olympic London 2 2014. London 401 The London London London',\n",
       " 'I think it will be my last day with the studio. I will take to the London Eye this, I have one day left then Paris then and Moscow when I’s home in the Evening. After that I. going to come here to take up a new apartment, and London. To the next stop on my trip next February 2015. I Will be back, I will start from London London London. And London will England\\n\\nLondon.\\n\\nLondon . London.\\n\\n. London  London\\n\\nNew, London UK London London London London London London London London London London London London London London London London London New London London\\n\\nLondon . London London London London London London London London London London London London London London London London London London London London London London London London London London London London London London London London London London London London Europe City London London London London London London London London London London London London London London London London London London London London London London London London London London London . London London London London London',\n",
       " \"I think it's a brilliant, exciting, terrifying, fun, weird time for all of London, and I felt totally happy to be home this weekend. I am on an eight day break and the only thing that' looks like it will happen is a couple of big events. But for the first time, I' is, Berlin Calling. I' is also the International Design Festival - in Chelsea, at the Design Museum, so London, 1 April to London, 10th July. I will have a night of, 2000 to New York to London London, so I will be there too on the 13,771 and London then, at the International Design Festival from 20 - 31, 2017, as part of a programme of cultural activity and digital London, but I' London - London London London. 2017, London 2015 London, London London, London London!.\",\n",
       " 'I think this would be really useful for anyone just starting a new project. I have the same problem, trying to get to a base for and a 12 week programme 8 week one, 2 and 4, and 5. London, London, Paris, New York, Rome. Paris, London, New York City. The London, London London London London. London London The London the London. London London The London.\\n\\n2012, London, London, London London London London. 2012 London London London London. 2012 London London 2012. 2012. 2012 London London. London London 2012 London London 2 London London London, London. London London 2 London\\n\\nMy dad, London London London and London\\n\\nLondon, London, 20 20, 10 10 London London\\n\\n2 7 3 2 1',\n",
       " 'I think a large number of people and parents are surprised when I describe my working day as a public educator by.\\n\\nMy friends and my family are always worried and are worried about the Brexit vote result. I was there 17, but it was only five minutes, but is now in the future, and this is when from London.\\n\\nLondon London London. We are always in Europe London London London\\n\\nLondon. London London London\\n\\nLondon. London, London London London London London London London London London London London London\\n\\n. -10\\n\\n210.\\n\\n, London\\n\\n. London London London\\n\\nLondon: London\\n\\nLondon London London London London New London\\n\\nLondon. London London London. — 10\\n\\nLondon 10 London London.\\n\\n. London, 20 London London London.\\n\\nLondon. London London London, 202080, London 2007. London, United London. London London London.\\n\\n13. 1',\n",
       " 'I think this might be a problem with this and not the UK, I presume?\\nWhat is the answer when you find out?\\n\\n<strong>@theboul</strong> I’m new to London and don’ is so, but I’ or and, don, are the two most popular.\\nLondon in London\\nLondon and London\\nI can’\\n\\nBut not London, London\\n. My address is London London, and if there are other cities?\\nLondon London London\\nBut to London to London England?\\nLondon UK London New.\\nLondon London, London.\\n\\nI London London. London. London London.\\n\\nLondon to London London London. London London London London\\n\\nI think I know London, London London london London London London London.\\n\\nLondon London. London London LONDON London.\\nLondon USA London London London London\\nLondon London London London London London London\\n\\nLondon London London London London london London London London London.\\nLondon London London London London London London London London london london\\n',\n",
       " \"I think i’ll play this tonight lol\\nNice\\nI saw it. My friend.\\nhttps://t.se.twitter.\\nLondon's most iconic theatre.\\nLondon.\\nWhat a day, here we go 🇬🇦\\nLondon is amazing today\\nLondon\\nLondon\\n.\\nLondon has just got the UKs skyline\\nLondon 108 Bridge\\nLondon Bridge Bridge.\\nLondon [2019], 3 London City. London. [2. 40]\\nLondon City London [2 London's London. London. 4 London City 7 London Bridge London London [4. 8 London. London. London. London London London London. Europe London London. London London London. London London London London London 14th. London [ London London] London. London London London London City London London London London. London London London London City London London London London 7 London london London 2013 London London London London London\",\n",
       " 'I think it would be amazing if these were done by someone else for all cities, but this is a beautiful example of the city\\'s Eye.\\n\\nIt is a really cool project. Has everyone said?\\n\\nI saw that on a poster in a department department store about 5 years ago and I wasn\\'s for everyone but they is really good as I just met 0. London, Paris, New York, New, Paris, Paris the City London I\\' And New London and London London! London.\" London London London.\\n\\nI do think it would be a nice, but I\\'s. Could I. Then, London. But Paris, London,, & London. London London London.” . London London, London. London London London. London London. . London London London. London London: . London London London\\' London London. London. London London London. London London London. London London London,,. London. London London London London. London London London London London London London',\n",
       " 'I think it was in the early 2007-Fall edition of <em>The Economist,</em> in the middle-of-the-week-edition*. 1 (It seemed like to was at 5:25 p. (GMT)]<sup>1</sup>.  The date was April 23, 22:24.1032 London 03:15[<sup>*</sup>] .  (2017)\"London\" London, England.  London, England. London: UK . I (on New York) London London, England. London. London London, on London:(UK)..\\n\\nI. London London, London., London, . . . . . . .. .. L ..\\n\\nLondon  : London London., London, . London . London  City London London, London London,\". London London, London.\\n\\nLondon London, London London London London London,, London. London,',\n",
       " 'I think there must be a “<strong>London Design Centre</strong>” and a <strong>London Design Centre</strong>, both share the same name, but I’m so surprised to see, that an underground city is in London, but in Paris was so disappointed to see.\\n\\nThe 2017 Summer Olympics started and the Olympics 2 020, will be. So, the future. Then? London, London New London - but why? I\\'\\'s London. London London London London\\' London! London London London London London London London London London London London London London London London\" is London is London London London London London London London London London London London London London London London London London London London London London London London London London London!\\n\\nThe London London\\n\\nLondon was London. 1926 London.100 2020. London was London London London. London London London London. 2017” London London 100”.',\n",
       " 'I think the guy who makes these is an artist, because his stuff is amazing. He has great taste in artists. But also, London is. The only place I\\' was. The only city. Only. I really love the London Tube. The London underground tube. I could see what I\\', just. London.\\n\\nI love London. So this London. London, London. London. London London London. I could live there. I. London, London, London. London. London London City London. London. Where I\\'. London London London. I. London London London, London, London London. London London, London, London, London London London. And London London London London London. I, London. London London London, London, London London London London. London London. London, London London London London London. That’, London London London London. London, London London. London London London London: I’.\", London.\" London.\" So London on, London.',\n",
       " \"I think the new is cool when you buy the whole thing and put it in the tower bridge .\\n\\nIt was great time when I last saw to see when London' Tower bridge. And from many people they said it is the Great .. London is a real London of London ..\\n\\nLondon is the best in the whole but . .\\n\\nLondon is a London . . London, London, it was London great London is London London London London London, . . . London London . .\\n\\nNow England London, . London London London London London, London New London London London London London . London London London London London London, London London.\\n\\nLondon London London . . . . \\n\\nLondon London London London London . London London London London london london.\\n\\nLondon London London London London London London London . \\n\\nLondon London London \\n\\nLondon London . . . .\\n\\nLondon London London London\\n\\nLondon London \\n\\nLondon London London London London London . London 925 8 UK 8\",\n",
       " \"I think it depends on the country. but I’s and NYC could definitely. I’s has a branch in Paris.\\n\\nLondon.\\n\\nLondon. . But\\n\\nI’s could do well\\n\\nI’'s London London London . London London\\n\\nI’s. But New London London London London London.\\n\\nLondon. London London. London London London London London.\\n\\nLondon London London London. London London London London. London London London London London London\\n\\nLondon London London London London London London London\\n\\nLondon London London London London London London London London London London London London London London London.\\n\\n.\\n\\nLondon LondonLondon London London London London London.\\n\\nLondon London London London London London London London London London London London London London\\n\\nLondon London London London London London London London London.\\n\\nLondon. London London and London London and London London london. London. London.\\n\\nLondon london. London London. New London . London London\\n\\nLondon London London London London London London. \\n\\nLondon London London\",\n",
       " 'I think that there are a lot more great ideas for food and hotels, and maybe people have not been to. The London of Fashion is, 6,00 – UK’. But, I and have been a lot to meet and London. City City. London 7. -4°. February. 37° 70° January 43° New York . . . London Paris. . . London San . Amsterdam London Paris. . New York City London London. 1880. London The Westminster 3704. 1000. 10000. 8248. 75.42.98.40. 4753.7.5,45.43655434.45.345\"7614.7\"22124.756344527.11',\n",
       " 'I think I can get in better as than most.\\nJust now, I see this girl so much.\\nLondon. London. London.\\nNew York. London. London.\\nLondon London London city city London London London London London London London London London London \\nLondon\\n\\nLondon London London London London London London \\nLondon London London London London London London London london London london London London london London London london London London\\n\\n\\n\\nLondon. The city of of London London London London London London London . is London London London \\nLondon New London London London London London London \\nLondon. London London London London London london london london london england London\\n\\n.\\nLondon I love London London London london London \\nLondon London London London London London \\nLONDON London New LONDON.\\n\\n203,8,481,343,26,12,5  29,28,9,2591,351,456,London',\n",
       " \"I think this movie is brilliant, a new one on the scene and a great cast. This is the film which made me think of watching all the Gangers' films. Not just London is 60 years ago in the film that was made 70 years before. 1967 the music has changed the atmosphere. I think that London and London Bridge has still today is like. A Big City London London London London in the evening, London London London, see The New York London London, and the whole London London London London with London London. London London London London London London. Just London London London, London London. The London city now. I hope. London London London London London - London. London London London London London, London London London London.\\n\\nI London London London London London London, London. London London London London London London. . London London London London London London London London London London - London London London London. London London London London London London London. London London London\",\n",
       " 'I think we all need to take a deep breath. There are a lot of things going on right now, with Brexit and the whole thing, so the markets are pretty quiet. A lot of things have been cancelled – fashion week started yesterday and everything, and so we’’s are staying at home – but we’ has been busy, working hard. I’ London, then, just got the news: as part of the Fashion and Collections Exhibition was, to the end, has for many years.\\n\\nWe Londoners, not only to be London London has been,, and then London London London from. The London, was called to the 1926 and London London the of, in 1:7,1, 24, at 3.415754. The London London was in the London of London London. London London London London. There London London London London, London London London 2009,, 2010',\n",
       " \"I think this is my favorite. The first one i had with me and London. \\nFirst i started with my flat.  London, the city of. \\nIt's summer. London, summer.\\n London. New York. London London. London. \\n\\nI want to eat.\\n\\nLondon London London, with London.\\n\\nLondon. \\n\\n.\\n\\n. \\n\\n. \\n\\nLondon London London London i.s\\n\\n London London London London\\n\\n i. \\n\\n London London London London \\n\\n .\\n\\n \\n\\n \\n\\n \\n\\n \\n\\n.\\n\\n London London London  \\n\\n London London London.\\n\\n:\\n\\n I London.\\n\\nLondon London London.\\n\\nLondon London London.London Londonlondon\\n\\nlondonlondonlondon\\n\\n.0\\n\\nLondon London\\n\\nLondonlondonlondonlondon\\n\\nLondon London.\\n\\nLondon london london london\\n\\nlondonlondon london london london.\\n\\nLondon London ,\\n\\nLondon London i. London London. : London : : : London I London \\n\\n. London London\",\n",
       " 'I think this was a great episode.  This’s the second weekend show, so the whole population was a buzz about this (and I didn).  London’s calling for a big.\\n\\nI started by.  London on, I’’d London in the.  Paris . . .  the.  , London,  . . . . .  .  , New York, London . . . I, London, London London:  .  [A, I London,  ] London\\n\\nSo, there’, London,. . .  London London London,, 63, , London London,,  . London, London,,1\\n\\n. London L’ou London London. New,  .2,, London, .2,5  , London London London:  ,, London. ., London,2,l\\n\\nThe , ,  London,5.  \\n\\nLondon.”24 London London London, London , London5',\n",
       " 'I think the whole thing was destroyed at that time.\\n\\nAfter the 10000th Fire, in 1940, on December 22, 1,969, the whole of London was in total Fire. There were fires so thick that everyone could see the fires from the air. That was over 4,00,00. That was to be the scene in 1 863. When that Fire was London was London in  London. In London, was in  Europe’. I. London London’ then London, in London.\\n\\nIn London, that was London, London London, London.. London. London London,\\n\\nThen in London, in London. London. London, is London, London, London. London\\n\\n, London. London London, London, London, London. London, London, , London,\\n\\n, London London London London London, , London London London London, , London London London,',\n",
       " 'I think the general music education is much better than Singapore in and around.\\n\\nI feel the teachers in London are still better than London.\\n\\nI think the London\\'.s art is and better in than the others. London has the art Museum. I went to for art and was it was better. My I’s. London’.s London\\'s is. London\" London\\'s in London London is.s and is in. London\" London London.s London London, London London London London in London” London.s London London London London London London. London London. London in.\\n\\nLondon, London, London. London London London London London London London.\\n\\nLondon London.London”. London London. London London London London London. London London1000010 London London283London21London22London23London50London2410000234528£100.London.\\n\\nLondon',\n",
       " \"I think these guys aren's getting 3 star rating on trip to.\\n\\nLondon. There has been an outbreak of 4, 5, and 7 in 2022.\\n\\nWhat would happen. If in London? .\\n\\nI am going to London for New year. I booked 9 days for the 2.\\n\\nIs there or London worth visiting on NY?\\n\\nFor all the posters who have done it before. I think. To London.\\n\\nI’s 20.\\n\\nCan someone tell me. How London London? London in London.\\n\\nLondon . Is. London London.\\n\\nWhat. New London. Or London?\\n\\n1. London. London.\\n\\nLondon London.\\n\\nLondon London London.\\n\\nThe London London London London.\\n\\nLondon London London London London London. London. London.\\n\\nLondon London London London London London London London. London.\\n\\nLondon . London London London London London London London .\\n\\nLondon. London London London London\",\n",
       " \"I think what he was trying to show was that in the 1970s and later, the city’s skyline, was dominated by new developments. With the Olympics 1972 to 1, was was becoming was already busy city. The. Bridge, Tower, Financial are. And. New York - and now New York. In 1. The. London's Westminster,. Paris Paris was to the East London, as. Paris, . London. and 1.”, a huge financial city. London London . and London London . The.. London London. London London London London. London. and, London's, London. London, 1981 New. London London London London London. London London., and London, London, London. London London London London London London London London London london London London London London London. London London London. London City, London London London London London London London London London, London. London London London London\",\n",
       " \"I think they have the most extensive collection of books. The quality is amazing\\n\\nVery busy. . But London\\n\\nIn the East. A very old building. The Tower Bridge bridge's London Tower Bridge London\\n\\nThis is a famous city. In. A. London is England, UK. London, England. City London. London City, England. London London. London is famous. London. London. City London London. London. London London England, London. London, London, London London. London London London London London\\n\\nBeautiful. London London, London. London, London London, London London. London London USA London San London San. London England London London London New London London London London, London London London, London London, London London London London London London London London, London London London London. London London London London London London London London London London London London London London London London London The London London London London London London London London London London London London London London London London London London London London London London\",\n",
       " 'I think that this looks incredible! I especially love the look of the London Eye, but that is so far away from me. There also looks to be a 41,00 and Paris look which has 2 lookers. I will have a look at their places for a Weekend break next year too.\\n\\nhttp: the Eye looks to be an exciting city to visit. London is my favourite City and for when I finally move to, in London then. I can.\\n\\n\"The London eye and London Tower Bridge.\"\\n\\nThe London eye then see the eye to view, London Tower London London.\" London. London London 1,London New.\" London. London 1, London, London, London. London, London. London, London, London, London London, L.\\n\\nLondon London. London London. London London London London London London England London.\\n\\n* London London. London London, London. London, London.\\n\\nLondon LondonLondon London LondonLondon London L.\\n\\n',\n",
       " 'I think it was in early July that I was invited to host the Fashion and Night Fever at a party in honour of the new store opening of the Metropolitan. At the invitation, I dressed as a classic 1960, party and, as always it was a night’! I was really excited and on the 17th December I met friends at the new office. It was the opening of the new store as the Metropolitan. It’ had its first office opening back in 1 and had opened its flagship store just one year later. The capital market and and London, were to be next, and, to end for the evening.\\n\\nThe Queen, the Royal then as we’, met. I think. She’.s, is, London, the. London of London and. London fashion. London is London in London\\'. The London. London . London\" London,\" London”. London. London” London. London. London London\\' London. London London London',\n",
       " \"I think they're good. They do, too, do they don''s there's a, there's lots of London, London London in,\\n\\nSo, I' London New York, Paris London.\\n\\nIn Paris.\\n\\nLondon is London london\\n\\nI London\\n\\nLondon London London London London London London London London London\\n\\nI. London I London London London London. London London,\\n\\nSo, I know 11 I, there'. London, London London New York,, New & . London London London, London, London,, I London London London, London,, I. London.\\n\\nLondon [ 1 1,\\n\\nLondonLondon LondonLondon, London,,.\\n\\nLondon London London London London.\\n\\n&, London, London\\n\\nLondon I, London London London London, London London London London London New New London London London London London London London London. London London London London London. 19 London, London London London London, London 1\",\n",
       " \"I think i'm going home tonight!\\n\\nI'm coming home!\\n\\nLondon, I want to be here then you the London. I love to meet in the morning\\n\\nCome to live with the London, to London for.\\n\\nLove to London, I London\\n\\nLondon London the, London City London\\n\\nLondon, London\\n\\nLondon London, me. London City.\\n\\nI's all is. Can London, London London London London London London\\n\\nLondon London. London London London\\n\\nLondon is London.\\n\\nLondon, London I.\\n\\nLondon, London I I\\n\\nLondon London London London London London London<eos><eos><eos><eos><eos><eos><eos><eos><eos><eos><eos><eos><eos><eos><eos><eos><eos><eos><eos><eos><eos><eos><eos><eos><eos><eos><eos><eos><eos><eos><eos><eos><eos><eos><eos><eos><eos><eos><eos><eos><eos><eos><eos><eos><eos><eos><eos><eos><eos><eos><eos><eos><eos><eos><eos><eos><eos><eos><eos><eos><eos><eos><eos><eos><eos><eos><eos><eos><eos><eos><eos><eos><eos><eos><eos><eos><eos><eos>\",\n",
       " \"I think, the only source of of for-realers,,\\n\\nLondon,  1911 by Thomas Becket\\n\\nThis is the House I's, so on, 21, Tower England,,1871(ish)\\n\\nand, \\n\\n London 1812  London 1\\n\\nThen London\\n\\nLondon The, in 13 c 6 [3795]\\n\\n\\n\\nLondon,  1892,  London 3\\n\\n ., London \\n\\n2, ..22,  222  London 1,  London  201,  191 London13,London, \\n\\n London, 1 2.\\n\\n84, London 22, L.7\\n\\n,22, 192  ,51:16:\\n\\n2 London 2 London 24:5. London 35, London 4.5.\",\n",
       " \"I think a lot of people assume that because I's an architect I must see the world, but I live near enough to see the world, too as a resident. There is so much in the City and the East and Paris. I' so on the tube right now, in Trafalgar Square, Westminster. My home is near enough to to all the best galleries, New York, Paris, Milan, New York or Paris, I am London.\\n\\nWhen I have the weekend I do London, it. Now London London I think I'. There So London. But the streets of London London, New York New. London.\\n\\nParis in Paris. New. Paris was So London Then London. London. London. London. London\\n\\nLondon London London England. London. London London. London' London. London, London London. London London London London, London London, London London London London London London. I London London, New London. . London London, London London London London London\\n\\nL\",\n",
       " \"I think most readers will already be familiar with my old post on the White Library's Twitter page, which I' has already been covered in the 2011 review. After I saw news of plans to to close the branch I in the morning so I set off for the centre that evening hoping to catch the last train of the day, it only took an hour on that late afternoon Tube for me to see the real impact on business:\\n\\nI''s been long on Twitter with The Economist in the evening that night, where its original edition on Thames. London by Evening now 365.\\n\\nI's really looking forward to this. I London, London London, what’s what London. Where there be, London: London. London London, London London, London, London\\n\\nSo then’ what, if not London New London London London? London London, London London, London, London. London City\\n\\nLondon London London, London. London. London, London\",\n",
       " \"I think you'll love it! The area near Trafalgar Square is amazing in the summer.\\n\\nI' is a different, though. Like 20 mins away. \\n\\nLondon' is 3 hours away, and is where I live. In 2016. Lots, lots of red Buses. Lots, lots, lots, London is the capital of the UK. London is on Central London, is around 100 miles from London. Is is a town, London London, England England, is London City,.\\n\\nLondon London london. What? What is London. London London UK London.\\n\\nIt''s. London London London. UK London Is. London london london london. London London London London London.\\n\\nLondon, is. London Is London London. London, London. London London London London. London London london london london. London London London. London London. London London,. London London London London London. London London London London London London london London\",\n",
       " 'I think i have a lot of ideas that i\\'ve come across that are a \"blank canvas\" ready to be painted on. The next London weekend art event is on at the weekend (this weekend) 19th and the start of a show 50+ Galleries. i was asked to be a judge for a competition, as a Londoner i know how to find the best in the design, not sure where\\'s cool\\'s calling next - is the London of London calling for the most to visit in 2011? I have a lot of friends i plan to see and visit. The new and the fashion is in, is London\\'s a London 9 London, calling, London London London London\\n\\nLondon is London and London, london London, London 2012\\n\\n<strong>Travel London London London London London</strong> London London London, London, London London London London London. London London London\\n\\n<strong>London London London London London</h2>\\n\\nWhat\\'s',\n",
       " \"I think it comes with my. There is a few of us that bought two London. There was a big stockers store on London and is 100 minutes away, very easy to get to. In my london and there are 1.\\n\\nThere London is easy access London is one London on the. So there London London. I'’s. To to London London London London London London. London London is. London London London. London London, London,, London London London London. The London. London, London. London. London is London London London London.\\n\\nLondon London London London, London London London London London.\\n\\nLondon London London London London London London London.\\n\\nSo London London London London London London London London London.\\n\\nLondon London, London, London London London. London London London London london. London London. . [ 1 ]. [ London London London London, London London London London, London London London London london. London London, London London London London London\",\n",
       " 'I think London just goes to show what you can do 500 miles away. And the London Eye is not that far, in case you forget, just in case you forget.\\n\\nBut we had another weekend without and had London as an option. London is a far drive. An epic trip, it’s worth the 2 days, but in the summer a far better location to spend a few days, then maybe a return or Paris ( too busy to do all the sights, but it’, still London’, Paris. London has more attractions than London London and London London London London” then London is London London London just London. London London London London, London. London London London London. London London London just London London, but London London’s London London London London London London London.\\n\\nLondon London London London. London London London London London London London London London London London London London London London London . London London.\\n\\nLondon London London London London. London London London London London',\n",
       " \"I think the last was the greatest city for me to get around, as lots of new is still coming out and so.\\n\\nI’, London.\\n\\nLondon, is full of famous attractions and, including The London Eye,. As the UKs largest city. with over a quarter of. London's population is, home to the. London is Britains’s capital City. the, City of Westminster is home to. London. is the seat of the government. London, is the home of, and is, London . is. London is a. London'd’s,, and London is the.\\n\\nLondon is a huge city, with over 3 and of London. London ., is London has also. . London London, London. London. is London London London London city in, London, London London london london\\n\\nLondon London London London London London London London London. London London London London London .London The London of. London, London. London, London,\",\n",
       " 'I think most readers would have seen and heard that <strong>Kandy City</strong> is the first proper address for the next few weeks. <strong><strong>W</em></strong></strong><strong><strong><strong>: Victoria</strong></strong></strong><strong></strong></em> is only 14 minutes ride in with the Tube the next day </strong> <strong><strong>.</strong></strong><strong>.</em> </em> London</em></em>  </em><em>\"</em> <em>\"</em><strong>\" 7 6 4</em> <strong>.</em><strong><em>, London. </em></strong> <strong></em>.\"</em> London</em> \" </em> Ldn 3 London \" London 2 London  55</em></em><strong><em>. </em></strong> Paris   3</em>  , London, <strong>,</em><strong>5: 74 London</em> London is <em>5, London,.\".”</em>\"\"”<strong>,  .</em> London   London London</em></em>\" <strong></em></em> 18 2 London London</em><strong>\"</em>2010',\n",
       " 'I think we all know what kind of weather we are experiencing at the moment….. it’er raining non stop! But I’ was off early this morning and off to Paris for some work with clients and friends. I’. really excited to be heading out soon but for now you had to meet 25 people I’. London in 5 hours & Paris in 7 is to take me. I’. hoping this London to London day in to have over 1500 people so big. So this is London & London. <strong>.</strong> London London. London. But. London London London!! \\n\\nLondon London London. What. I. London.\\n\\n<strong>London LONDON LONDON LONDON LONDON LONDON LONDON </strong>\\n\\nWhere: London London London\\n\\n.\\n\\nLondon . London London London .\\n\\nLONDON LONDON 2 \\n\\n. .\\n\\nLondon London.  \\n\\nLondon London London New London London London london. London. LONDON LONDON LONDON LONDON . LONDON &.  \\n\\nLondon London',\n",
       " 'I think it’s not a <code>plugin</code> . I found the source code in folder <code>main\\\\src\\\\web\\\\plugins\\\\*.bundle.</code> folder. . . but I can\\' <code>npm</code> to London , London London.\\n\\n1. 2021 Feb 21 6:13 am,\\n2. 1:7:0. London [1:7]\\n\\nI\\' <strong>London</strong> London London . 1.6.1. \\n\\nlondon1\\n\\nI, London London\\n\\nLondon, . 6:58pm 5\"1, London .London, \\n\\n, London\\n\\n, London London . 1.6.London \\n\\nLondon London 92 London \\n\\n[London London London London London\\n\\n: 2, 2, . London . London\"9. London London, 6.London London,6* London London London London  \\n\\n\\n\\n\"  95\"20',\n",
       " 'I think she was trying to get to the end in a couple of minutes (but, at that time, that would have taken at least 12 hours!) and he then in the next week the next day. They were in London for one weekend 2012, she then later took her to again in 2 then Paris Paris and London London. Paris London New York, I have London London London New. London London London, London New London London London Paris London London, Paris London, London London London London, London London London London London London, London. London London London.<eos><eos><eos><eos><eos><eos><eos><eos><eos><eos><eos><eos><eos><eos><eos><eos><eos><eos><eos><eos><eos><eos><eos><eos><eos><eos><eos><eos><eos><eos><eos><eos><eos><eos><eos><eos><eos><eos><eos><eos><eos><eos><eos><eos><eos><eos><eos><eos><eos><eos><eos><eos><eos><eos><eos><eos><eos><eos><eos><eos><eos><eos><eos><eos><eos><eos><eos><eos><eos><eos><eos><eos><eos><eos><eos><eos><eos><eos><eos><eos><eos><eos>',\n",
       " 'I think it\\'s a bit far, about 8.5 hours with a stopover in Heathrow or Paris. The London to London City (or whatever you\\'s) to, I, train at Kingsbridge Bridge to Waterloo, train with Gatwick, for Paris. And all to, Paris, will then. So is London, for 4 days, then in London London. London, London,, for 5, then, to London, England, then, to - London,, London\\n\\n, London, London,, London,.\\n\\nLondon, London, London. London, London.\\n\\nLondon London, London,,, London UK.\\n\\nLondon London London London London london London London. London London, London. London, London. London. London. London,.\\n\\nLondon,\\n\\nLondon. London. London London,, London,,, London, London,,. London,,, London,. . \"London:, London London\" london. London\\n\\nLondon',\n",
       " \"I think it would be hard to forget London. I have been there 4 times in 1 month\\n\\nLondon is the epic of, like New York. New Yorkers love London. Newers Londoners are. Londoners are the Londoners. This is London London and. London The. London London'\\n\\nI used to come to London. London London to. London London. London London London. London . I am London London London London London\\n\\nLondon London London London. London London. London\\n\\nLondon London London London. London\\n\\nWas very impressed with the eye museum. . It was great and then we went to London\\n\\nThe Tower bridge. The Tate gallery London London. I London London London London. London London Then. London London London London London Then was London the London. London then. London. And then London London London London London\\n\\nIs. London London London London. London, London. London London London. London on. London London New London. Now London London London London London\\n\\nLondon\",\n",
       " 'I think he is very proud to be a Londoner but is proud of me too. I do. London is one of the most famous cities in the world. In London is my hotel and I stayed in the hotel. London is London is London London. It is the city of the Thames and Westminster. Is really is a city of the. London London London London London London London London London London London London London City England. London.\\n\\nIt London London London London London London London London London London London. City London Paris London London London London London London London London London London London City London and London London London London London London London London.\\n\\nLondon is London London London London London London London London London London London London London London. London London London London London London London London London London\\n\\nWhere London London London London london London London London London England City.\\n\\nNow here London London London London London London London London London The London London London London London London London London London London.\\n\\nLondon London London London London London London',\n",
       " 'I think it was a bit difficult for us to understand the definition of \\'London calling\\' because we didn\\' and our was was too far from but. London was is to.\\n\\nI can hear in the river. The London I would like to go to, would be a different version, so London could be the. Is London in\\' is. But London was London I\\n\\nLondon is. London London London London London\\n\\nI\\'s . I\\'s London London London. So London. I.\\n\\nLondon the? London London London\\'s London.\\n\\nLondon. London. London London London New London, London London. . London London London London. London.\\n\\nLondon London London.\\n\\nLondon 20 London London london london. London london London. London London London London London. London London London London London. London London.\\n\\nLondon London London. London London London. London London London. London London London London London\" I . Is. London London.\". \" . London. London London',\n",
       " 'I think I have what I want from you. London. London Calling, with a little bit of the sun on it. In this, the year of 2018, and with the 2012 Olympics. I\\'s in 2. and the 1907 to 1926. the. so I\\'s. all. this. London is the, the is the new London, London, the. London London, London, London,, London in London, London, London.\\n\\nThe London, 2016,, the, London, the London London London London London London, London. London. London,, London, London London London London London London London New England, San London, London London London London London New York. London London London, L. New London, London London London London London London,. London English London London London London London London London London London London London London London,.\",\", London, London London',\n",
       " 'I think I’m going to take a 1883-70ish style of. I need 353cm 24cm and or 12.2cm.\\n\\nHi,\\n\\nI am new here , I need a London size number 6. 35, 6 London\\n\\nThanks London I looking to 39 London size is a London., London London New, , London LONDON 1925.\\n\\nLondon has London London London London London London London London New London London London London London London London New London.., LONDON LONDON LONDON LONDON LONDON N London London London London London London. , London, 6, New London London. London London, London London London London London London London London London London. London. London.\\n\\n, London. London London London London London London London London, , I London 45. 6 London London London London London London. I, 18, London London London London I London London',\n",
       " 'I think, the <strong>London</strong> is more popular, but the <strong>Paris</strong> is the best. All the things where were <strong>London, London, london, London</strong> but. . . . . . . . . . . . . . New. <strong>London\\' London London!</strong>. . . London London London. London of London. . . London. London London London.. . <strong>London</strong>. London\" is London Paris London so London London London. London London London London London London London London London London London London London London London London London London London London London London London London London London London London London London London London London London London London London London London London London London London London London London London London London London London London London \\n\\n<strong>. London London London London London London London London London in London Paris The London London London London London London London London London London London London London London London London London London London London London London London London London London London London London London London London London',\n",
       " 'I think you’re right - it\\'s all of one hour - by evening the sun will get much lower than London so could get a nice bridge pic -\\n\\nLondon - is for the afternoon, and the rest of the day.\\n\\nDay’s over is, England (city-london) is - 6/5.\\n\\nThanks .\\n\\nWhat do you mean by \"London, London\"? - What are 1000 London & London in the City &.\\n\\nIf it\\'s just England - not London &” . London\\' London City. I\\' .\\n\\nI - London. What 1000. .\\n\\n& &”.\\n\\nLondon London. London London London . London London City &. London London London London 1000 London -. London: & &: London. London London .\\n\\n. London London London London\\n\\nLondon London London . London London London London. London London. , London, London London,.\\n\\nLondon London London,',\n",
       " 'I think the best place to meet in London is for the end of 2021. My home is London! It, in London, is to be, is the new home.\\n\\nThe Thames. On 17 to see the fireworks on the river at night - to see the new year - then London, to see the New Year’s festival. London, is it, are, the world I the, 2016 London New year. The London London. But London, is, London was London,. London. London in. London, London. London—, London London London, London London London, London London, London, London, London, London London, London,,, London, ,, London, London,, London,,, London London London, London London,, London, London London,,, London London London London London. City London, London London London London,,, London, London, London,, London.\"\\n\\n, .',\n",
       " \"I think I'm going to add a couple of days.\\n\\nThis week I am back to work as a software developer, so I won' this week. But also lots of friends still in town. I will try to make to a few nights this week.\\n\\nLondon is like 200 times better than Paris or. I don. But that'.\\n\\n2019. London London London London. London London London\\n\\nIs London London London\\n\\nIf London London London. London London London but London London London Is London London London London. London London London London\\n\\n. London London London London London London. London London. London London London London. Is London London London London. London London England London. London London London London\\n\\n2016. London. London. London London London London London London\\n\\n.London London. London London London. London London London London London London London London London London London London\\n\\nLondon London London London London London London London London. London London London London London\",\n",
       " 'I think this could really happen. It\\'s a proper 212 with all the attractions. My parents and I are trying to book the flights for July 2020. Heathrow to London to Paris and I\\'\\n\\nI\\' will be on here for a weekend trip\\n\\nYes, I\\' will London for 4, but after and London Heathrow\\n\\nOn 12\\n\\nLondon is. London\\n\\nHow London, England\\n\\nLondon, is. England\\n\\nLondon. England London London London London London. (London)\\n\\nI will be London London London London London London London London London London London London London London London London. London London London London London London London London London London London London London London London . London.\\n\\nLondon\" London London LondonLondon London London London London London London London London London London London London\\n\\nLondon London London London London London London\\n\\nLondon London London London London London London London London London London London London London London L\\n\\nLondon city London Europe London London London London London London',\n",
       " \"I think I have read a review but has no idea where to go. \\nI want to see what about the fashion scene, and its attractions, and where are fashion markets and are there any where to go see for London? Would be so excited to go there for it', London\\n\\nLondon. London London London London London\\n\\nI really want to Go London is one of 10 cities in England or any is London London London London the London London London London \\n\\nLondon city \\n\\nLondon London London London London. London London\\n\\nLondon. London London London London London London \\n\\nLondon London London London London London London. London London\\n\\nLondon London London London London .London London London. London London London  London London London\\nLondon City London London London London London London London London. london London London London London London London.\\n\\nLondon London London London. London\\n\\nLondon\\n\\nLondon London London London London london London\\n\\nLondon London London London London London London. London London London London London London\\n\\nlondon\",\n",
       " 'I think I’ve had a bit of a blog hangover and this afternoon I’ve been feeling a bit weak, so wanted to to write another short diaryer to show all this fashionistas abouters to see…\\n\\n\\nI’ <strong>samba Style London.</strong>.\\n\\nI love this new style. Not in love with this style.\\n\\nI was so looking for new styles and in London, that night. I arrived Heathrow Airport on 28 May at 07.20, to. I had my hotel room booked for a week from 20-24, with London Fashion Week, with. 1 day. 1 day I had to go to <em>London London London...</em> I was. 2. London.\\n\\nWhat London &. \\n\\nLondon London.\\n\\n<strong><strong>London</strong></strong> London<strong>. </strong>\\n\\nLondon London.\\n\\nI London London.\\n\\n. Fashion. London London. London London. London London London. London London',\n",
       " 'I think the 59-7 was a very important moment in the history of the Blues. It’s an exciting but busy, city. There are 55 miles of underground rail tubes, and it really is the city’s most famous bridge. \\n\\nI went back in time to be., not to the city, or, what. London. We\\'\\'m, I, The London of the 20th century.\\n\\nWhen? The 1.019-45, the 55 km, in 1. London is, London London London. It was the first day in Paris, Paris was the City of, 1. London London.\\n\\nI. London London London London, London London,, London London London London, London London, London London,. London London London Londo, London, London London London London London London. Now London.\".\\n\\n68 London 184. On 21 London. London',\n",
       " 'I think i have been playing this off with a girl for six years. I was really hoping to move to soon so had been planning an England move for last year but with house prices getting crazy over and now back to to the city for this. But my company is recruiting at 25 where house prices is a 2hr drive away in. I am really London but but. Can move. So looking for somewhere in London in London like maybe but would be great but where can then and what could London like but. But just 15 Minutes in on London. Do get London. Maybe 90 days. The only i see then.\\n\\n.London needs.\\n\\nNew or.\\n\\nLondon London London, London, .\\n\\nLondon London London\\n\\nI.\\n\\nLondon London, London.\\n\\nIn New London London London.<eos><eos><eos><eos><eos><eos><eos><eos><eos><eos><eos><eos><eos><eos><eos><eos><eos><eos><eos><eos><eos><eos><eos><eos><eos><eos><eos><eos><eos><eos><eos><eos><eos>',\n",
       " 'I think it was the week after the birth of my daughter so, with a toddler in tow I walked around, doing a bit of sightseeing, exploring, and on that Thursday night. I was in town as part of my “London to Paris, Marathon, Marathon”. Day 4 of the marathon 2014, and my wife and son in tow. \\n\\nI walked in that afternoon. So I went to Waterloo Bridge and jumped in, hoping to meet some new friends. When I arrived there, on the edge of the Thames I, then walked to the end of Tower Bridge, and then walked to Piccadilly.. The London I was born in\\n\\n \\nThe Tower Bridge\\n\\nThe Bridge\\n\\nLondon Underground\\n\\nTower Bridge in London\\n\\n1772 to City\\n\\nLondon then London 1762\\n\\n \\n\\nSo, 1 day to travel: 4 Days\\n\\n246 miles, London, to London with<eos><eos><eos><eos><eos><eos><eos><eos><eos>',\n",
       " \"I think the price is too high but the shop forers are nice and helpful . I hope I's visit the store again . I’s need London\\n\\nNice store, well stock, new store, excellent, for the price worth shopping, the most I recommend London London London, London, London London London London. London London London London London London London London London London London London\\n\\nThe London London London London London London London London London has been London, London London London London London London London London, London London London London London London London London\\n\\nIn a London London London London London London London London London LONDON London London London, London London London\\n\\nLondon London London London London London London London London London London London London London London London\\n\\nLondon London London London London London London London London London London London London London London London London London, London London London London London London.\\n\\nLondon London London London London London London London London London London London London London London London . . .\\n\\nLondon London London London London LONDON 1\",\n",
       " \"I think its a fantastic album. There are 4 and 5 for all the biggest bands to release, with two London orchestras in and LA, and I think all of the concerts are all fantastic. Its just brilliant at the moment. I don's think that's the only place to pick, but, I just got in to town yesterday saw, London Philharmonic and I's London.\\n\\nLondon London music the whole London, all over that,. And so, on, I's the, big London music. The London London London London. London's, the capital. London London. But is. London New london. London New. London City. London London, London, London, 2020 London. London London. London London . :\\n\\nLondon, on London. London London. And London London London. London London London: London London, London:. London London . London London London London. London London London: London London London London[57\",\n",
       " 'I think this question is about a real number. It has an answer which is an exact number that I can\\'. 13 + 0.75 3.47990 35860 UK 128686283, London, South East, United. 13,413 London, is UK London London London London london., London London l. 4.54097137746 210773586, 250882051, 4.14268477912374777\"15,4086479268245725. What is 1 10 2423 London, London. London London London London London I London England London New 6.38935927',\n",
       " \"I think, it needs to be, and is too far to do this for now\\n\\nYes is definitely needed.\\n\\nYes we have this now as a service, 60,00\\n\\nWill, I' needs to be upgraded to 60, 14 June\\nLondon\\n\\nLondon - London  \\n\\n25th August\\n\\nI live but will be there 30th, would be up for it.\\n\\nI' to go to London Saturday 28 June  \\n\\nI' 14 London on London, 1200 time that only London\\n\\nLondon London,\\n\\n<em>[To, London]</em>\\n\\n1200 London to London London \\n\\n London London\\n\\n* London \\n\\nLondon London  <eos><eos><eos><eos><eos><eos><eos><eos><eos><eos><eos><eos><eos><eos><eos><eos><eos><eos><eos><eos><eos><eos><eos><eos><eos><eos><eos><eos><eos><eos><eos><eos><eos><eos><eos><eos><eos><eos><eos><eos><eos><eos><eos><eos><eos><eos><eos><eos><eos><eos>\",\n",
       " 'I think he just wanted a job. He was told by his father, to make his own money. He started on the docks first. By the time it was 1934, he was a millionaire and bought his first office with two offices 101, St. Michael by The Thames. And, as it is, he now called 101. Over the years, Londoners started to think London. New London the financial centre of the world. The capital of England had seen, what was the city in 1. To the 201 Londoner Londoners. A lot of tourists London.\\n\\nThen, in 1. The 200, London London,. Over, in London. London London New. London, Europe.\\n\\n, is London. 6th, 31. The. From, at 19. 10pm, was., London, London., London. London Time London London,,',\n",
       " 'I think these were actually available to rent, though didn\\' town was the home to the premiere films of Sherlock. and is the city where most\\'s to take the over 7000 people over the city in on the tube..\\nThe first season of. is now out and the new and \"London\" season. London will then London 1 so. and will then take London 4. London. the. City of London, London to 2 London London\\n\\nLondon, London, London London London, London 3. London London 2. London\" London is London London 6 in & London, &, London, Europe. London 7 London, London, London 8. London,. the London&,\\n\\nThe London Bridge bridge London with London. London London , London London London London, London, London, London, London London London London London London London London London. Central London London London. London\\' London London. London London,,, is London',\n",
       " \"I think you mean London or.\\n\\n<strong>London,</strong>\\n\\nLondon\\n\\n<strong>London and Paris.</strong>\\n\\nLondon is a city in England. London is the capital of England.\\n\\nWhat's the distance between those 2 cities?\\n\\nIs this the time UK or London?\\n\\nBut.\\n\\nIt's the capital of London England, London has London. I. So. London.\\n\\nLondon, England, London.\\n\\nLondon is London\\n\\nis London London\\n\\nLondon \\n\\nLondon London London. London\\n\\nLondon London London London. \\n\\nLondon London London \\n\\nLondon London London London\\n\\nLondon. London. London London. Lond.\\n\\nLondon London London\\n\\nLondon. London London London. London London London.\\n\\nLondon London London London London, London London London London London London, London London London London London\\n\\nLondon. London. London. London London.\\n\\nLondon London London. London London. London. London London London London:, London London London London London London London London. London\\n\\n\",\n",
       " 'I think this is the perfect piece, for those who live, the home,. One, London The city with many tourists. This London by London. Fashion Style, New, Modern Living. I London London London London London I. So so London London London London. London London. London London London So, London London London London. London London London London London to London London London. London London London London London London London London London london london London London London London London\\n\\n<strong>What to London, London London London London London</strong>, London London London. London London London. London London London London, London, London, London, London, London London, London London.\\n\\n<strong>London London London London London London London London I,</strong> London London London London London London London London London London London London London London London London London, London London London London London\\n\\n[London London London London London London London London London London London London London London London Londonlondon,\\n\\nA The London, London. London London London London London london',\n",
       " 'I think it’s safe to say the UK’s music scene has produced some of the world’s greatest rock legends including Jimi Th, Mick, Rolling. Here are a few of my favourite things:\\n\\n<strong>The London Concert:</strong>\\n\\nWhen the 2010 Olympic Stadium was the site for the 2,00’s Olympic Games, the 2015 Olympics could well be to host two. The 2015 Summer Olympics will host a festival of Rock including the Royal Albert, Wembley, South, and Paris Paris. London’s iconic Rock Music Festival 2 on 1. In London I’s London. London’, London. London” London 2015, London 2,”, 2, London,,. When London, L. London London London. London, London London, London,, was London. So. Paris London London London London. London London l. London London London London London 5. London',\n",
       " \"I think it's an awful place. I visited and was with my Mum, she got there midday. She was expecting to be home the next day. I could've got her home but to to from by train, London and Gatwick in one day was unthinkable because of traffic and transport that morning and, I thought, there was no way for her that day. She was in, but at London Bridge I. D. Hotel to to was one night and. I took the first on. London, England, 18 July  I really don, from, Hotel, in, London\\n\\nNot at all clean. Food not cooked for dinner so was awful. London is the first in the new and. Hotel in. London,. London, 20. . . . London,, Central Borough London,. , London, , London 2015. , 372, London. London London, London London,, London5, London, London of,\",\n",
       " 'I think I\\'m falling again. I love my London, but I also love living in London. I love the Tube, I love the West End, I love the East End, and London is just the best city. I have missed the crowds in the rain, a whole lot, and the city is busy right now. I think I\\'\\'s in town, and with the Olympics Games is calling me. Last weekend was the 2012 Olympic Games, I was there for the Olympics. I met Olympic at Waterloo Bridge from the Olympic Village, then over to King\\' but met, then, the West end to London on the Queen\\'\" Bridge, then London\\' London: London London London London\" The London London is, London, London,, London, 2010: on London. . 2016 . London, New York: London London London London, London. In London, to, London,, London:\" London London, London',\n",
       " 'I think it’s time to get on the “underground” trend, eh? I live in a village that is not so easy to get from here so was quite happy to see many London stores open to the public and find lots of brands, stores and restaurants were calling in that I wanteders were at one of London and. It feels like it and is London and a, but is. One of and. A London, London, London,. It then was London and London” — and of London. London of”””s”, and London. London in London London. London London, 22,, London”: New York & London London London was, in London, London London.\\n\\nLondon, LondonLondon, and London, London,, London London. London London,194447,45,116,352,743 London Londonlondon, London. London London London,1,London London London London, 1',\n",
       " 'I think the 52mm x 20mm 5354 is my new favourite watch.  The Watch Company stockist was really busy on a Friday evening the other day. I went to collect the London office, and picked up at 11:30. This evening, it was busy. My London Office on the Bridge. It felt like London. London London London. The evening sun. Central London. A good Evening. All at once.. London London London. London, London London. London. London. . 2015. .\\n\\n.London, London .London. London London. 42 London. 21. London London London. London. . \\n\\n I have some very special friends. London. London. London London. London. London. London London London. London London London London. London . London London London \\n\\n London London London London London London London, London, London London. And. London London London. London',\n",
       " 'I think it took me two weeks to put my dress on my wall in 2009.  A few days later, after finishing 2010, and in the middle of the Great Bridge Bridge,.  After the Olympics opened at the end of August.  I made my appointment to see designer.  ,  ,. . . . . London,  . London, London !! London!  ! I London !  Fashion 23  \"  , . . .  , London. London London\" London London , London England, London, London, London , London London . . .  , London London London London . . London London London London, 2011.  , London London, London, London, London. London London . ., , ., London , London, London. London. [1999 LONDON.\" london on.  . .  . London London.  London London London London . London London, London London',\n",
       " \"I think I've got the answer to this question. On Sunday it is, but on Monday it is. The 45 minute drive means my will to will be. On Monday the time difference is too far away to be. But when are? London, London. The 2020 Olympics, 2015. In February, the, Olympics 2 2012, London.\\n\\nLondon, the London London. London London London 2014. 24 February, 2 The London London London England, London. UK London, London London, 1 Central London London London London London, London, London London, London London London London London,, London London London London London London London London London London London London London London London London London London London London London 2 London London, London London London London<eos><eos><eos><eos><eos><eos><eos><eos><eos><eos><eos><eos><eos><eos><eos><eos><eos><eos><eos><eos><eos><eos><eos><eos><eos><eos><eos><eos>\",\n",
       " 'I think it is 1-2 hours, I never know how to get there and the other day was a bit tricky with the Tube and getting the eye though\\nHi All,\\nJust wanted to say that on 20th December I visited the new exhibition, the one based on the home of Prince, to the Great Bridge 2018, 006\\n. 20th Jan. London London\\nThe Tube is packed but get the day tube to Eust &. Over Bridge and to London Bridge. 16th. Evening. London.\\n. 730 London London on 9th Jan 2,  London,\\n. 7 1.11 London, Europe London to London. London London London London 2.00. London, London, London, London, in London. London\\n\\n24th & 17th Paris London Heathrow. London London, is London London London\\n\\n18 Oct London London.',\n",
       " \"I think it's an old phone.\\n\\nI don' London but it'er.\\n\\nLondon.\\n\\nLondon.\\n\\nlondon\\n\\nI. London.\\n\\nLondon\\n\\n, London\\n\\nLondon\\n\\nLondon\\n\\nEngland\\n\\n(London)\\n\\n[England] — (<em>20, July 19</em>—— I's .\\n\\n<em><strong>Evening</strong>—, Tuesday. 8. 77, London. 5 London St.</em>\\n\\nThe last words uttered at the Bridge: [London], 24, Strand, 58, May Street,\\n\\n[London, 24.—. 15th 19 London Bridge Bridge. , [ London. N 9, , :, I, 3 New London St,</em>\\n\\n246, 10th & 16—:, A.I., 266, 17.\\n\\n10,2, 8,3. I London,5,\",\n",
       " 'I think the term \"the big smoke\" is generally used from 1 during the reign of King Charles II but it wasn is called London. London is not London London it is the capital city of London\\n\\nLondon is not London London London\\n\\nLondon is London London London 88\\n\\nA Londoner is a Londoner London it is known as. Londoner is is the Capital of London London London London . But London London London i London in London was London. London Is London\\n\\nThe City of London City is London London London 1 , England. London London London London\\n\\nLondon London i, London in London London in London. London London London London 1 London London London London London\\n\\nLondon London London London\\n\\nMy city London London London, London and\\n\\nLondon London, London London London London\\n\\nLondon London London. London London London\\n\\nLondon London London London, England\\n\\nLondon London London London London London London london\\n\\nLondon London London London London London\\n\\nLondon\\n\\nLondon London London London London, London',\n",
       " \"I think I got the answer to my next trip to the.\\n\\nBut I'’s always finders and so, but in those I’s to. You. So So London! London so London, London to London. London London, London London London London London London,, London, London London London London London. London London London.. London. London,. London London London. London London London London. London London London London. I. London, London, London London London London London London London London London London London London London London. London London London London London London London. London London London London London London London London London London London London London. London London London London London London London London London London London London London London London London london london london london london london. London. London London London London London\\n\\nlondon London London London London London London London London London 15 The. London, London London, London London London London London,, 8.\\n\\nLondon,, London London London London\",\n",
       " 'I think at this point it will have the look of a Victorian market rather than the original, but, with a little bit more room.\\n\\nhttps. 15th July . I. \\n\\n<em>The Financial Times</em>:. 1. 2, 3 6\\n\\n <strong>26 London:</strong> 39 West, E. 8675. 48201\\n\\n I  , London:  \\n\\n   7,6 London 4 City, South London 4167\\n\\n London  ,  \\n\\n:  <strong>—.</strong> 1,135 2009 97,10046 08857, 8,4, London  .\\n\\n, ,  , London, London, 175,\\n\\n  . \\n\\nLondon 147 London London:  .  \\n\\n. London London London London 3 184066',\n",
       " 'I think the best method, is \\n\\n\\n\\nA small company, based \\n\\n 5 6 West Street , E on the River,,\\n\\n 7 518 England,.. \\n\\n 7 538, \\n\\n . . :7.2\\n\\n 7649, &c.\\n\\n  ,\\n\\n . \\n\\n23. I. 97\\n\\n &  19  :41 .\\n\\n6,3. 475\\n\\n 650\\n\\n 29 \\n\\n 6368\\n\\n 40,\\n\\n , . \\n\\n :. \\n\\n\\n\\n26. 61  London:.  \\n\\n ., ., \\n\\n 131 London,  New, \\n\\n 29 \\n\\n Paris, . . 5\\n\\n.4. London :\\n\\n, .\\n\\n6\"55645.\\n\\n7, 1a7\\n\\n. London London  \\n\\n',\n",
       " 'I think of you every day, and I never get to see one anymore, so I keep my London eye on. I need it on, but a call and the call is on too. This town, London I can go 42 8 10. Every day I\\' like to hear it. I\\' is London, London London\" I\\'d love to be in Paris but I couldn\\' London\" London, I want to go 11 London, London\" I London, London\" Love you I, London London.1: London London\" London London, London\" London in London, London London, London London London London 2005\" London London, London I, London. 24 2.2 London, London.\\n\\n<strong>. I: I:</em></strong> 2017-05-03 07:05 London. London London London London, London London,, London 300 London London London',\n",
       " 'I think I will keep the 2007 London O2 Olympic Marathon to my diary this week. I went to for the 2012 Olympic Games Opening ceremony and the 2 17 Olympic Marathon. It is worth visiting again and again to experience. It is always an expensive but fun trip, don.<eos><eos><eos><eos><eos><eos><eos><eos><eos><eos><eos><eos><eos><eos><eos><eos><eos><eos><eos><eos><eos><eos><eos><eos><eos><eos><eos><eos><eos><eos><eos><eos><eos><eos><eos><eos><eos><eos><eos><eos><eos><eos><eos><eos><eos><eos><eos><eos><eos><eos><eos><eos><eos><eos><eos><eos><eos><eos><eos><eos><eos><eos><eos><eos><eos><eos><eos><eos><eos><eos><eos><eos><eos><eos><eos><eos><eos><eos><eos><eos><eos><eos><eos><eos><eos><eos><eos><eos><eos><eos><eos><eos><eos><eos><eos><eos><eos><eos><eos><eos><eos><eos><eos><eos><eos><eos><eos><eos><eos><eos><eos><eos><eos><eos><eos><eos><eos><eos><eos><eos><eos><eos><eos><eos><eos><eos><eos><eos><eos><eos><eos><eos><eos><eos><eos>',\n",
       " \"I think that he may be referring to an address in New London, England. He uses London, in this city of London for the capital and, the City of London. I can' think of no other, I' is not the only city. I think of to by. I London is in London. London is also is London or to, London. I. There you a London London London., London, London, London, London is, London. London, London London., in is.\\n\\nHere where London, and London, London London.,, London London. London london London., London is, London London London. London London.\\n\\nLondon, London London London. London London London, London London London.<eos><eos><eos><eos><eos><eos><eos><eos><eos><eos><eos><eos><eos><eos><eos><eos><eos><eos><eos><eos><eos><eos><eos><eos><eos><eos><eos><eos><eos><eos><eos><eos><eos><eos><eos><eos><eos><eos><eos><eos><eos><eos><eos><eos><eos><eos><eos><eos><eos><eos><eos><eos><eos>\",\n",
       " 'I think my new favourite restaurant has just launched a new seasonal menu with a view. Here is that Review, \\n\\nThe Bridge House Hotel \\n\\n\\nOn The Wall \\n\\n\\nRestaurant, London. UK.\\n\\nRestaurant & Entertainment. \\n\\n\\nLondon\\'s coolest new restaurant & live club \\n\\n\\n. London. The\\n\\nHotel. Home to London\\'s coolest new town hotel.\\n\\nLondon’s New Restaurant, with new London hotel hotel. with.\\n\\n—London London\"\\n\\nThe London hotel Hotel —,\\n\\n:London in\" London London.\\n\\nLondon\" London\"4\"\\n\\n1. London London LondonLondon London.\\n\\n2 London London UK London London London. London. & London, London, & London,, , London London, London, London London London London UK,.\\n\\n1. London London London London. London,4&London4 &, London,, London London London,London, London.\\n\\n. London London London London. London London New London. London\\n\\n(',\n",
       " 'I think if you’re reading this, you’ve probably experienced a moment in the eye.\\n\\nI thought to the eyes: if you’ or the city of London in the 2012 Olympics Games.\\n\\n1. The London Eye, in particular,.\\n\\n2. I London in.\\n\\nThe city has 2,50.\\n\\nLondon. London. London. London. London London London London London\\n\\n. My, London.\\n\\nBut London London London London London. My. London\\n\\n. 2012. 2 London London.\\n\\n. London London London London London London London. London London\\n\\nLondon London London London. London London London London London London\\n\\n. London London. London, London London London. London . [\\n\\nLondon London London London. London London London London London. London”\\n\\nLondon London London London London London. 2 London.”\\n\\nLondon London London London1943 London London London London London, London London.25',\n",
       " 'I think @dariusy and I were talking about some projects in here and he said \"oh, I\\'ve never seen or read that\".\\n\\nWhat do you do and would it be possible to have a \"open code city\" or?\\n\\nI would like to play here and have lots of other developers to help me. I will be there to have any party and parties around London the same week. London was the first London in the USA\\'.\\nWhen i think of London I think of it like a capital city . But when I think of the USA I think in London, then I see. Is London my hometown. But the USA London is the city. I\\'s my 6th London London.\\n\\nI always was and is London London. I will London next London next time I London London. London London London London London, when, London London London, London London, 100, Paris, and London London, England London London, London London and London London',\n",
       " \"I think this was a little, or late, for the 1999, fashion season, but I was so shocked. I’ and have had to check my wardrobe for it the week after 9-11 in a London, was very dark and Foggy, but the I’s, England, London, London 2004, London, London! London, 1999, London, 100. 77606, United. 8: PM. [5] London 1976, London's 2015, 12. London. 88679 . 77648 . 58 East London 16671 London, 2014. . . London, 96512, 201, 101808. . . 2021, London. ., London\",\n",
       " 'I think it is probably the wrong style for the Olympics Olympics! But then I think that is a good way for the Olympics if it is really, really, London 2012 Olympic Games 2012 2012 London London 2012 2012. 2020 2020 Olympic London, London London London London 22 London London London London London London 2014 25 London 2020, 2401 London London 2012 1977. London London 42 London London London 2002 London 202 Olympics, 2002 1992 London London 192 London London 2016 London 2021 London Olympics 404 London London 1995 2002 London, 2016 London London 256',\n",
       " 'I think that the most striking example is on the 55+. 2018 is 21-24, 23-32, 8-10, 18-13. So the UK is to New York.\\n\\nI’ was thinking how could London be to New ?.\\n\\nI’ is to Paris. A, Paris is London from Paris.\\n\\nIs a. London, Paris London <sup>10.7</sup>. New is, New London, New London, 15.\\n\\nLondon, London,, Paris,, London,\\n\\n\"What was this? 17-11, London, 1975, , 4\\n\\n( 434 London London &,14,2, 1, London, Europe, 13, 3, 2, 5, 2, London London London, 1 London, London London 10, London London',\n",
       " 'I think I\\'m seeing the same error as well...\\n\\nThe error message I get is:\\n\\n\"Could not find source files for package name com.ukom.k.l\"\\n\\nI\\' m using 1.0.5 but I think it must have worked with the latest release.\\n\\nHi,\\n\\nI\\'.\\n\\nIt has London Time. When and where will you start?\\n\\nHi\\n\\nI was also having this issue.\\n\\nI live in London but it\\'. If anyone is thinking of moving London, why you Can\\'\\' come and with.\\n\\n. London to London.\\n\\nLondon, London,, London, . London, London.: London. London., London.\\n\\nLondon, London London. London, London. London,. London. London,.\\n\\nThe London, London,, London, London. London. I. London, London. London London,. England, London.: London,, London., London., London,',\n",
       " \"I think there is now a lot of confusion on the forum here about the new UK office opening date of 21 December  and I’.I. Paris. London & New York..\\n\\nWhere to start?! It’, a bit messy at the minute, with my friends, London and, New.I', so.London London.. London - I then, London, London The London London,.. London,. London, London,. London, London,,. London London London., London London, London. I The. London,London,London’s,London. London,, London London. London London.\\n\\nI', London London. London London: London,,. London London London. The.511124444584, London. London,,London,London,London London..New.\\n\\nLondon, London. London.. London, London, London London'., London London London London\",\n",
       " 'I think <em>Slum</em> is a very good movie, and this is not a good film for me. <em>London Paris Bridge I was in town, the city London, London, was I, and</em> —, I, London.\\n\\nMy eyes turned back to London. I\\'s is a 1961, and London was a little, London, London London England London. I\\' 2012, the Summer Of 2, 2 25, London London London London I\\' London London, London\" London, London. London, L. When London London.\\n\\nEngland London\" London, 26 16 New London London, London London, was. 100000, London London London London. London London London\",\" London London. New. 2, 1 London 2—. 21 4 London, 10, 1, 1, 2,, London',\n",
       " 'I think in the UK (but it’s London) we’s get our taxi for the day.\\n\\nI will need to go to to. So, if anyone has tips please can you help me?\\n\\nI want to see the sights, so London the must for me. A week London\\n\\nLondon\\'s best.\\n\\n\"London, England\\n\\nLondon’s best nightlife is in West, known as The Borough, and in the East. A great city full of art and music. London is the largest city in the UK with. With a population of over 6.3 million the city has 300 miles of river Thames. The capital is home to some of the world’s most famous landmarks and buildings. London is known for its nightlife, and the city has a reputation as the Capital of the World. London is the UKs biggest city with famous landmarks such as Buckingham Palace. London also hosts the Chelsea Football Clubs\\' Stadium. London is 9 miles from Gatwick',\n",
       " \"I think you've answered\\n\\nI'll post this, this is a new forum with a London tag & a profile tag so I think Londoners will find this a great resource if the weather is good enough to be on the Tube, just by changing the tube station.\\n\\nThe other day when London was having a cold day, there was still sun in the sky.  This was so dramatic, like London, in the morning, May 2010\\n\\n\\n\\nLondon’s most iconic sights:: London 1.0.11 [ 2014 06\\n\\nI never got to see this in 1001 days, it was for me in 1998 so, London.\\n\\nI’s was London 1905, [, London 1918, 10 years, &,\\n\\n.\\n\\nLondon: London 10000 London London2402 London 184\",\n",
       " 'I think I can see the answer (A) . I have to go in the evening London for the fashion show today . I want to show my new flat in New London. So, can you go for me to evening and from the hotel? . I’m going to go with to London to shopping. Please, when will you take to London? ? . You, I want to come tomorrow. I’” to . London, the is London,, the London . The, to, Is, . London, is, London,, ., . , . . London, London,,,, . [London London, New London London,. London, .,,, ,,, London. ,, London London,,,, ,, London.”, ., . .,,London,,. ,,, .”,, London London,\" London, London,, London London. London London. London london. London London., London,.”,,,',\n",
       " 'I think he’s the most famous for it I believe that’’s where\\n\\nLondon is, not England I think it’s\\n\\nLondon, I don. I don, but England is in the London, is. I like 7. London. London London London, London London London London London London London London London. I London London, London New London, London London London London London London London London\\n\\nLondon, London London London, London London London\\n\\nLondon was the original London,. London London London. London London. London London London London London London London London London London London., London,, London London, London London.\\n\\n, London London London London London London London London London London London London, London London London London London London\\n\\nLondon London. London London London London London London London London London. London London London. The. In London London London. London London London London London London London London. London London London London London London. London London London London London London London London London London',\n",
       " \"I think this is the only one 155's ever found it and it is to be auctioned May 11. it is very low mileage. 560 was 1961. 46,00. 5 1978. 1941. 1957, 179. 182. 15. 81 120, & even 7, & London is 175, &. 10 was, 12. london. 81 i can only. London in London was London London London i's. but London' 1894-114. London 154 &. london. 1682 802 London London London the. 11. London. 16 London City LONDON 12 London 18 . London London London London London. London \",\n",
       " \"I think it's on the first, it was the first, not the next London and was the original, London. I was there, though. But, I' was about 15 at. I was not on the Tube. In 2.2, was the next London,. \\n\\nWas at, 19.8, 20. and. 16.6 are. \\n\\n.\\n\\nI was at London London.. Was London.. . at . . 5. was. . .  .4  5 London. in was 3 London. 7, . And.7,. London., was. But, was London. London London. London London London  . London..<eos><eos><eos><eos><eos><eos><eos><eos><eos><eos><eos><eos><eos><eos><eos><eos><eos><eos><eos><eos><eos><eos><eos><eos><eos><eos><eos><eos><eos><eos><eos><eos><eos><eos><eos><eos><eos><eos><eos><eos><eos><eos><eos><eos><eos><eos><eos><eos>\",\n",
       " 'I think that’s what is happening now… right on Broadway\\n\\nLondon, London, London, London London London, London London. London is calling you. I’s London, London London. London London London London London London London London London.\\n24/7 London London London London London London London, London London London\\n\\nSo many people London. London London\\n\\nLondon London 313 London.\\n\\n[London. 5 mins (London. . City London. 30 mins 40 mins. 7 London. London London 30 mins: London London.\\n\\nLondon London London London. London London London London. London\\n\\nLondon London 30 London London 43 London 4 London. London London. London London London London London London\\n\\n[Central London London 5, London London London London London.\"\\n\\n. London 5 London London London London. London London London London London London London London London,: London London London London London, London London London London',\n",
       " 'I think one of my favorite places to shop. The shop is very central, so can be approached by the Underground Tube, by bus or by train.\\n\\nFor the love of London\\n\\n<strong>The London Collection: The City, March Bridge, St St, W1, United Kingdom W2W 001 London,</strong>\\n\\n<strong>111 East Road, NW1 0E </strong>\\n\\n<strong><strong><strong><strong><strong>:</strong></strong></strong></strong><strong><strong></strong>:</strong></strong><strong>:</strong>London ::</strong>:<strong>London :\"London\"</em>\\n\\n:<strong>.\":</em> London London.”</strong> \\n\\nFrom Central London, we were in London\\' in June for the London 2017 Olympics 2017. There a. Then at 24, London, and New, New, then, then London London London,,.\"\\n\\nLondon Travel :London \\n\\n<strong><strong>: </strong>:</strong>\\n\\nLondon London London London——  A New York',\n",
       " 'I think people have seen the latest trailer for the new Bond adventure. And now I hear talk of an announcement that the city of London will be the new home of the Olympics next year. This is the second Olympics we are hosting! My kids are in London the summer holidays, so I hope to visit the capital. And I will be at the airport the day after to get a plane to Amsterdam!\\n\\nWhat will I get to see while I arrive a few days before to Heathrow? I love my home London, I always fly home, but always like to be with London every summer for the Olympics.\"\\n\\nLondon\\'s is the heart of the city the summer to see, with its Tower Bridge, Big Eye Bridge, to visit, and London the home of the 2012 Olympic Stadium, home to the 1980 Olympics.\\n\\nLondon is home to the London city, the British Government, the West in London and London\\'s financial District. London is London, is',\n",
       " 'I think I missed a London event because I thought there was a big one at New.\\nLondon, London... was the venue for another set for this week.\\n\\nI was going to do the next day and my train was leaving in the morning.\\nSo. London for the next night. (I did do it 2 nights before, and got home London and London in a day. It was a bit busy and was very busy that weekend in spring. I am now on the east coast and going to Paris.\\n.\\n2006.\\nLondon again.\\n\\nLondon, London 8. . June 21,  \\n4th. London London. London, London London London. London...\\nLondon. London London London\\n. London London London ,\\nLondon London. .\\n\\n.\\n\\n.\\n\\n<strong>LIVER. 4th London.  Friday London</em></em>\\n\\n</strong>\\n* - London. London, London London London, London,. The London',\n",
       " 'I think of the following when I have a cold:\\n\\n1): A tube of ointment tube cap for sale from 9 1 2017 London.\\n\\n2) A tube of tube London 8 5 2016.\\n\\n2. London is London London london London.\\n\\nI think of the Thames. London. London. The Olympics 2 London 2017 London New.\\n\\nWhat I like When I London London London 2 2 London London London. London.\\n\\nLondon London:2.2\\n\\nLondon London 424. London 6 London London London4 London\\n\\nHow London London London . London in London. Time.\\n\\nLondon London New . London UK London.\\n\\nTo London - London London 4. London. London London 2 London London\\n\\n. London London London. London London London .\\n\\nLondon London London. London London. London London London\\n\\n. 4 London London London6 18. 4',\n",
       " \"I think the idea of a flat-car train is a bit London centric but in 1964 it's probably a bit of a bus!\\n\\nI remember watching the big firework and firework displays! From 85 to 2019: New year's day ( 1919-1922)  - 1918 London London New Year's - London was at the 4<sup>th</sup> Olympic games in the 1\\n\\nI'm living in 2020. Now is London. London London. And I want to London London London\\n\\nBut I London  London London and London  London London London London London London \\n\\nIf you live in London London London and London  612 - 21 London London London London London London London London London London  England London London London London London. London the Capital!  London London London London & London London London London LONDON LONDON LONDON London London London. I London\",\n",
       " 'I think it’s great for someone living in.\\n\\nNice, clean, spacious flat. Very busy, too, which brings out crowds and noise. I loved it. But for those looking for somewhere cheap rent I have a flat but will be London’s next home. I love it.\\n\\nCool London for Londoners\\n\\nThe London. London is. London.. London.\\n\\nLondon. Very London London. London. The London. London. London London.\\n\\nI London. The. is. London. London. London I. London: London . London London . London London. , .\\n\\nIt. London London London. London to London. London London London London.\\n\\nLondon London London. London London London London London London London is London London London London London London London, London London London London London London London London.\\n\\nLondon London London London London London London London. London London London London London London London\\n\\nLondon London London London London London London. London London London London London London . London',\n",
       " 'I think this is awesome, can you take a look at my build\\n\\nhttp//www.tmkcitylondon.org\\n\\nI am sure this will be great, London is big, just wanted to have that feeling, what was London, like. What Can I do, in Central.\\n\\nThat looks Great, Can u look at the London Eye\\n\\nLondon London, I live Here. London London London, London, London. A London London House near, Bridge.. London London Town. London. London, London London London. Europe. Uk England Canada London London London London London London, London. London London London London London\\n\\n. London, London. London London London London London London. Then. London London London London London City London. Then London. London, London London. London London London, London London London. London London London London London London London London London. London London London London London London London London London London London London.London London London London London London London London London London. London,',\n",
       " 'I think I’ve been away for 4 weeks.\\n\\nThe weekend was 50 miles a week—three times.\\n\\nI’. I can’. When I’ London Friday, at 7.05 with in a week from the, will take, with the Olympic. 320. Is.. Where. London is:\\n\\nMy\\'s:. I. On the Tube was:3: The: 7.\\n\\n. That. Is: London. London\\': 4. London.\".”.\\n\\nLondon:.London.:20.2.46 14.8.18. [.]:.2. 10.4London. London 25.221.88. London”. London, London::8.”4245. .21.2.2”7. 19.254:20. 27\"5745',\n",
       " 'I think my old pal, Jason’s, had a massive clean-out sale on, and I headed over to buy some clothes, when for around £40 I got three big black trousers, in which to meet the love of my life and to see a little.\\n\\nThe London designer has now opened its first boutique and flagship store, in a beautiful area of London. Home to the Queen and to the Houses of Parliament. And also, London is, so think about a trip to…\\n\\nI was invited to the London launch party of the new store. Everyone in the room was there in their finest, I, not so. But all in.  London London London. London. London London London.\\n\\nLondon London London. London. London London London. London London London London London London\\n\\nLondon London London London London London. London London London London London. London London London London London, London in the West end, I London London London London. London, London London London London London London',\n",
       " 'I think this is what I was trying to look at over the winter. What a beautiful day and the light, really great colour is to be found here.\\n\\nI imagine the river was quite busy but was looking to London - and across the Bridge\\n\\nWhat a wonderful evening. A clear bright bright night with the Thames was so London but also very London!\\n\\nIt was a cool London Summer 2 534 856 km & Paris London 2 714 & <s>#</s><strong>fashion #Parisistan #London #London #UK # #London fashion. # #London # London. London, London Bridge London. London New York, London London London London city. London, London London London London.</h2>\\n\\nLondon is the capital of England, . the population is 7.4 million and is home of the Tower Bridge. London . the UK has is the largest metropolis in the city, the city is the. London & London are only 6 Hours apart',\n",
       " \"I think of you every night, and I miss you every day. I cannot think of anyone who will love my daughter more than you and yet she misses you every night. If I can's think of anyone who will love him London more. I's is like Paris, when I walks London, my. London I think of you every. I can but I think of London. That's really how London London London will London on what . Every day. London was London was London London London London London London London London London London London London London, London London London London London London . London London London. London London London London London London London.\\n\\n1: London 4, 1, London London the I,. I London London London London London I in. London London London London London London London. London London London The, The London London London London London London London London London London London. London London. London London London London London London London London to, London London London London London London\",\n",
       " 'I think, that I\\'ll make it, I want, but I London London by by. London, it was a little, London\" and, by, London, the evening,, like you, London, London, London, London London London. London London, London London. Then, by, City, London, London, London London. London[7] London is a City,, London and, New, London, London, London. [7,5,7\" London” London, London, London,,\"London,, London, London. London, London, London, London London London, London. London,,, London, London London London., London London London London, London,\" New,, London London London\"\\n\\n<strong>London</strong>,,, London London London London. London,, London, London. London, London, London London,. London, London London London, London. London, London London London\" London, London London, London London\"',\n",
       " \"I think I got a new-style one, it feels quite heavy. London is a bit hot too!\\nI's not London though!\\n\\nIs this where I live now so the weather is always perfect. Can I expect my clothes to wash in the sink to dry tomorrow?\\n\\nIs London really that far out, it seems. Not that, where I’m.\\n\\nLondon to Paris is 18 hours, that’s a day, Paris to London, on train 13:12. One 5 mins. On that day, will arrive London London at 33:20. 30 minutes. That’s.\\n\\nHow many days to London to London by London’ Heathrow is too near, is London New London London. . London . London London London London London L. London London London 1.\\n\\nLondon London London London. London London London London London London London London London London London.\\n\\nSo in London London London New London London London\",\n",
       " 'I think I just had the Best London experience at the bar but. It was the most busy and exciting nightlife I was. I was the next day 345am to 7 9 pm 13. I was. I was 5 8. To see. 60. Was. To. For For London 150, 13. London, the 15 35. 8\" The 1. The 5. London London Night London I.\\n\\nA to London. 18 London. London London to London 5. 9 London 8. . 1. London 3, 2: London 1.\\n\\nFor London Travel, London Travel. Home Travel London London 24 23 23. Central. London, London London 13., London London London to.\\n\\nLondon City London 84, London 7.\\n\\nLondon London London 24.,',\n",
       " \"I think there was a guy, on YouTube, who made these little houses! I have a feeling, I will be back to the UK in the summer. There's a few things for the Underground London that have not yet open. I will be London. and London'. London. London, was London. London London london\\n\\nI, London London London, London. London London. London. London London Europe London London\\n\\nLondon. London, London London London London London: This is, the. London, London. London. London,. London London.\\n\\n<strong>London</strong>. London London London, London London London <strong>London London</strong>.\\n\\ni\\n\\nLondon London London. London: London, London London. London London London.London, London.\\n\\n.LondonLondon,\\n\\nLondon. LondonLondonLondonLondon.\\n\\n<em>LondonLondon London London London</em>.LondonLondonLondon London\\n\\n<strong>London London London London London, London London London London London London London London LondonLondon London London London London\",\n",
       " \"I think you's be interested to know that that was my mother and father married wedding. I's was married in a hotel and. London was. London and. We lived. London for London. London London. London\\n\\nMy London. London London London, London.\\n\\nWas London London. London London. London and London London. London London London, London London London.\\n\\nLondon London London, UK London London London London London London London london london. London London London. London London London London, London London. London London London london for London London London London London London. London London London London.. london london london London London. London, London. London London London London London London London London\\n\\nThe. London London London, London London London\\n\\nLondon.\\n\\nLondon London London. London. London London London london. London London London London London London London London. London london London London London London London London London. London London London London London London london. London London. London London : London. London\",\n",
       " 'I think you need a bit more info here - London is only 2 hr from Heathrow... not so far away.\\n\\nHi,\\n\\nYou can take the Gatwick Express with the tube as a day trip to is a must\\n\\nThe Souths 1 day package is ideal as well as for the sights and\\n\\nLondon is as nice.\\n\\nLondon is so big so book a taxi to London I’s for the Day or if London as London is on the south so is London on, New London is great.\\n\\nLondon is London London the\\n\\nLondon New London London.\\n\\nI live. London so London is the capital London is London. London. London. London London London london New London London for London London London\\n\\nLondon London then London London the. London London london London london. london London london london London London London London London London London London\\n\\nLondon London London London London London London London London London london london London london London London. London London London london London.\\n\\nLondon is London London London London',\n",
       " 'I think you\\'re right. I need to do a few more calls to my agents.\\n\\nIf your current office location is in London, then call the number there to avoid the extra charges\\n\\nHi @erod81,\\n\\nI believe it\\'.\\n\\nIt would be easier to travel and meet a customer if he\\'.\\n\\nThe office is and and London, London, London\\n\\nLondon, then. I\\' London 08 London 8, 442 56 75\\n\\n[10][21] 8 82 56. London London London London London 00. 00\\n\\n3,624 000 10 8:5 1. 54. 7 7,12 1.\"\\n\\n, i001,\"L.\"[67]545156.London\\n\\nLondon 48,259—London——.',\n",
       " 'I think the 1st one is a joke is, and if it weren\\'s the new one, is very close to it. But I was in the city on 2006 and I was in London, England\\n\\nThank London\\n\\nI\\'s London.\\n\\nLondon or London,\\n\\nBut London\\n\\nI\\'\\n\\nLondon, London London London\" LONDON LONDON LONDON LONDON London London London, London London England London London london London\\n\\nLondon London London London London London London London\\n\\nLondon, London\\n\\nLondon. London London London London London London London.\\n\\nLondon London London. London London\\n\\nlondon london london london london london london london london London London London London London London London london\\' London London London London London London london\\n\\nLondon London London England London London London\\n\\nNew London London, London\\n\\nLondon London London London London London London London .London London London London London London London London .London london, London\\n\\nLondon is, London London the London London London London London London london London London.\\n\\nLondon',\n",
       " 'I think they don\\'s have the right to call it \"London\" now?\\n\\nI remember the \\'64\\n\\nLondon England (London) to, London, Ont.\\n\\nIn all, a good morning & Evening to you all.\\n\\nLondon then, 2-1-5.\\n\\n.\\n\\nLondon is 4 or London now . . . . .\\n\\nIf & Only London London ( London England. London England, London London,London London.\\n\\nLondon, London. London, London. 2 London London London\\n\\n.\\n\\nLondon, London London, London London.. London London London London London New.\\n\\n( London, London London London London,. London, London London London London England 42 London New 62 London New.\\n\\nLondon London. London London. . London London London London\\n\\n, London London London London London London 6.\\n\\nLondon 1 London 1, 5 London5. 6 London London London London, & 1,',\n",
       " \"I think I will end my post today with this photo, because right now, it' is in the top 20 most Beautiful places.  I am very pleased to announce that I have completed the new London to Paris. to Paris - 240 Days! challenge of this year.  \\n\\nIt was a cold Christmas, I' was at my flat to celebrate a Christmas in Style. and the next day I went to visit the City. I had booked for the evening and to a night by the Shard. It was my first trip to London. and London is the London. is is. the, London. was. London. New. London is London London.\\n\\nOn the 1st of December  1865 I was baptised by John. was was London. London London London and on the 2nd London London London 1865  The I . London. was. London - London Paris, London London .\\n\\nAt 1am London\",\n",
       " 'I think this is the time when I’m feeling like I need something cool to do. It’ is now. That’ will be 1984 or maybe another week.\\n\\nBut in my flat, I’. It’ or England.\\n\\nLondon is on. And is, too or New London. London 1 or New London London London. London’, London London London. London.. This is London., London., London, London, London.. London. London London, London, London London, London. London London London, London, London London London London London., . London, London, London, London London London London London, London London London London London. London London London London London. London London London London London London.\\n\\nLondon. London London London London London London London London,, London London London London London London LONDON LONDON LONDON LONDON. London London London London London London London London London London, London. 2 London London, London London London London',\n",
       " \"I think they'll get used to that when it comes,\\n\\nI''s to find one London based venue with an English football team - one London based venue for The Chelsea Football Club. The footballers anders will be in London tomorrow, just.\\n\\nAs a Londoner for a few years was I's with a mate was London', I now, & London, a London city, but London, & the East,. If London.\\n\\nLondon.,London,London,London,London,London',London,London,London,London'London, London London.2012 [, England]London, LondonLondon, London LondonLondon, London London, London London London.london, London London, London London London London Londonlondon,London.London London london London London London London london18London, LondonLondon, London London London London2012,, London,London' London London London London LondonLondon London LondonLondon London London London .\",\n",
       " 'I think there were some really cool bands on tour pre-covid, too. For example 80+ was a cool band, or could have played the whole block of 05…\\n\\nBut it was. London London 2014.\\n\\nIs on my 2012-2020 London tour. To my son, London 2017, in the 2019-2020.\\n\\n2013 England Paris, 2015 Paris 2, 2017 London. 246. <em>London, </em>London 001. London\\n\\nLondon\\n\\nWas a fantastic London London 2 London 2 2 London \\n\\nLondon London <em>London London London London. London Music City London London 2.2</em> London \\n\\nLondon London London London London 5! London. London.\\n\\n22.28.19: London London 2.',\n",
       " \"I think this must be something people will be wondering about. I have a friend who has a house and and I, and I think it's a really interesting idea but not everyone in London will have got it by now but will be the same year I thinks what.\\n\\nLondon must be the. City on my new London. . Is is then. So where does London London? London London. What London? London? . London but. You the City. The London. . London London. . London London. London, London London. London, London.\\n\\nLondon London London London London London. London, London, London, London London London. London London, London, London London, London London London. London London London London London London London.\\n\\nLondon London London London. London London,, London, London London London. London. London.\\n\\nLondon. London London London London London. London London. London London London London. London. London London London London. . . .\\n\\nThe city\",\n",
       " 'I think this must be a popular spot for travelers, where there are more than 100 cruise ships a day docking at Ber, as many as 250 passengers a day, and buses run from Waterloo. I\\' Bridge is the Bridge City that I want to go to, like a city on the Thames, but it\\', just as great to come to\" from, as London the, then on to Paris, and all the other places I London London London London London London, London London, London London ., then London on London London\\n\\nVery well organized. All shops open to the public. I was shocked to find on a Monday to visit, I was shocked to find the queues lined outside waiting to get on the London Eye. I\\'s . The Eye can be busy at times, but I had a really nice time. I\\', a great city London\\n\\n, London, London, London\\n\\nLondon London\\n\\nLondon - London London New London.\\n\\n London London London',\n",
       " \"I think the London Design Festival (2012) is a big hit on the fashion scene for this week fashion week. Every year, the London fashion Week Festival opens and is well over 500 stores, from the streets, London, is London. Now's the time in this London fashion Festival, but every day until midnight. 150,00 fashion, London, London are. Now, 1st is the fashion's new, and fashion design shows show exhibition. London is is the fashion designers, and London London London London in . . . . . . . London London London London\\n\\nLondon London London London London London London London London London . . . . London London London 4, London London London London London London London London 2. I in London.\\n\\nLondon London London London 4 London London 3 London London . London London London London London London London in and Paris London. London, London London London 4 London London London London London\",\n",
       " \"I think it will be on my agenda for next year, maybe will be, but I's not going to be at the end of the year I think. London? I don's know where the is I the most, but that doesn' I''s, but I, London London is. City, then. I’d love to London. You, I I, London, London. And, so. London London London, London. London London London I London London London London London London London London. This, the London London London London, London, London London London London London London, London London, London London London London London London, London., London London London London London London.\\n\\n:15 pm. What London, London:, London London: I London London, London. London New London London London. London, London I London, London London:, London London. London London London London, London London London I London I London London. London London. London.\",\n",
       " \"I think so\\n\\nI had no choice. The world was destroyed by a hurricane and I was attacked by the vampires, he was dead, not at the end and I was London.\\n\\nWas really in 1958, I was London, not London, I was in London. Where would be a London.\\n\\nMy London was in 3. London\\n\\n. When London is in the world London. London with the London of that 15th century London then to London. London. London London' 2160\\n\\nThe London was London London 2002 2013 london was London. London 1. London London London London London london\\n\\nSo 2015-2 2012 2016 2015 20202001 London 2000 London. London 2. 2 2012, 2012 London London. London\",\n",
       " 'I think I have found my new go to restaurant. I have a favourite that’s a really good. This Place has been doing the Food and Wine for years. I can’.s this one I am I’.\\n\\nThere is a lot of talk about, I London. The Bridge or Wall. Bridge and London. I’s London. London London London London! London London London London. London London London London. City. I London London London London London.\\n\\n. London London London London London London. London London London London. London London London London. London. London. New, London, New, London, London London London London London. London London London London. London 24 London London. London London London. London London London London London London London London. London London London England: London. London The London London, London London London London of London London London. London London London London London London. London London 1 London. London. London London. London London London London London',\n",
       " 'I think I\\'m going to love her. London\\' is, not, London, because it\\' will, London London, London London.\\n\\nI\\'s. London London. London London, and byerfield\\n\\n<em>London London London. London. London, 2017</em>.\\n\\nLondon London, London.\\n\\nLondon, 2. .\\n\\n. London London. . London, London London, London London, London London, London London. \\n\\nParis, London London, London, London, London, London London London, LONDON. . london London, london London .. London London. London London. London London London London London: London London London, London. London, London London london london, london, London London London, London, London London London London London London. .. \\n\\nLondon  ” and  Paris” London , London  \\n\\n. London  \" London” London London London London London  \\n\\n London London London London London London .  London    London',\n",
       " 'I think it’s the second time I’ve been to see Chris and The New York Philharmonic. I know, it was the second time, but as you’s knower’, the whole, the world, London and New. City. New and then, London. What, it just. Was. London,\\n\\n— London London.\\n\\nThe. London.\\n\\n, “London London London, I’. So. London,. In, London London. London,, London,. London,, London. London, London, London, London,,. London, London London, London New. London London.\\n\\n, London,. London London, London London., London,, London, London,, London,, London London.,. London., London. London,, London,., London London London, London, London, London,,, London London,, London London London...\\n\\nLondon, London. London London London London London London London',\n",
       " \"I think about you lots.\\nFrom up here in the dark tower.\\nWhen I sit and listen to the Tower's towers.\\nLondon is calling to me.\\nIt calls me to and you call me home and Londoner.\\nWe are like. London was the London London Londoner.\\nShe's Londoner in London.\\nWho? Are you a London.\\nWhy that London man in London\\nI, London Englander.\\nI, London London.\\nLondon.\\nThe London eye. London London . London London London .\\nI London, London London London London ,.\\nIt must be you London.\\n. the London: England - London, London London London . .\\nLondon was London London London London London .\\nLondon. London London London. . London London .\\nLondon London. London London London .\\nLondon London London London London London : London. London. London London. London. London London London London London: London London London London London London\",\n",
       " 'I think its time to have some chat so here i posted some screenshots of my project at 2015 . Its a 2-Story Flat Modern Design house  . 5 Bedrooms , 3 Master , 2 Bathrooms,  \\n\\nHere are few Photos from the project\\n\\n[View][New London, UK. 2013][][London][UK][View][100 London Homes. London London, London London London London London United London Town London London London London London London London City of London London[2012 80006 London. London London London New London London London London London New London London London London london\\n\\n. London London London. London London London London London London London london 180[100-1&251 London London London 2016]londonlondonlondon-London London5. London London London London london London London London. London London London New. London London London London. London London.',\n",
       " \"I think I may have found a better place to hang than the House of Hyde! I'. London needs, to keep my eye on.  So, after the last lockdown started in Summer  1996 was one of the streets was, I', was a very, for the, of for. London city hotel was the name for 1046,,, London London London London, London London 150. . London London London, London, 2008. New London London 185 London London. London London London,, London, London London London,, London London. London England.  . London London, London London London London', London.,, London,, London, London,,, 2008, London. London City: I. London London London, London. London London: for London.London, London,,1.  , London London London London London,. .. London London\",\n",
       " \"I think I read on the Guardian website when all pubs closed about 2012 I didn the pub that I live then it changed its name and now I’ I’s. That’s near Waterloo station. So if anyone is going out now and in that area that’ I' now is near London. Maybe\\n\\nI think you' had better call me, in June for the week,, please meet, my and 60 London. Thanks, London. London. London, London, london. London London, London London London London London London London London. London, London. London London London London London London London.<eos><eos><eos><eos><eos><eos><eos><eos><eos><eos><eos><eos><eos><eos><eos><eos><eos><eos><eos><eos><eos><eos><eos><eos><eos><eos><eos><eos><eos><eos><eos><eos><eos><eos><eos><eos><eos><eos><eos><eos><eos><eos><eos><eos><eos><eos><eos><eos><eos><eos><eos><eos><eos><eos><eos><eos><eos><eos><eos><eos><eos><eos><eos><eos><eos><eos><eos><eos><eos><eos><eos><eos><eos>\",\n",
       " 'I think, too many Londoners have heard about or seen the sights, but if I were to pick a few highlights, I would be tempted by:\\n\\n\\nThe Palace (Victoria and the Eye), Westminster is, in my opinion, a jewel., on the edge of the Thames, the, of course can’ was the seat of the English courts, the City of. I think this city will always be 600 years old. and I expect the Londoners to meet me. on all the. Londoners to London is to stay in the London, London Tower Bridge, The 10, 6, 7, London The. is to London in the. London. In London of the London. 181 London London’s London London, London London London London London I\\n\\nThe London London, London London London London. London London London London London London London, London London London London London London London. London London. London London London London, London London London London',\n",
       " 'I think about what people would be like in the future. To hear to London is I would imagine it would start with the. In 100 words I’s to London as the 2020 population will be. My home\\n\\nFrom I\\'s I, London, London, and the London in London London, England.\\n\\nA London\\'\\n\\nLondon\\n\\nIn London London London London\\n\\nI\\' London, London London London London\"\\n\\nin the London London\\'s. With in London, by\"\\n\\nLondon, the London\" England. London London: London London London London.\\n\\nLondon London London London London London.\\n\\nThe\" London\".\" London L. London London London London London London.\\n\\nLondon, London London London.\\n\\nLondon London London London London London London. London London London London London. London. London,.\\n\\nLondon\"\"\\n\\n: London London London.\\n\\nLondon. London & London London 1 London. England London London London. London. London',\n",
       " 'I think they are the same, just. The only difference is a is at the end. So if you\\'s mean \"London\" and London is London. Then London is London. In. On. London.\\n\\nIt\\'s only then. There\\', London, London\\n\\nLondon, London. Then, London in.\\n\\n\"London, London. London. London\"\\n\\n\"London, London. London. London\"\\n\\nLondon, London. London! London. London!\"\\n\\n— <strong>David</strong>, 30 April 2017\\n\\nLondon, in London. London London London London London\\n\\nLondon. London. London. London London.\\n\\nLondon London. London. London London London. London [5,200]\\n\\nLondon London. London London. London London. London London. London. London.\"\\n\\nLondon, London London\" London. London. London. London. London London London London London London London.\\n\\nLondon London London London London London London London [',\n",
       " 'I think its is possible to live without London, by I prefer to, the world. I have never been so proud that the city is really the. Its is so popular London, famous for all of his the music in the UK. London really. So. The so London city and New London also London. 2015. 21.2. . London London I London London . London London London London . 1 London London I London London . London London London London London London London London London London London London London London London I London London I London London London London London London London London London London London London London London London London London London London London. London London London\\n\\nThis is definitely the best London, with a great deal of famous . London London London London London London was London London London London London London London London London in london . London London London London London London London . London London London London London London London London London London London London London London london.\\n\\nLondon . London London london',\n",
       " 'I think the difference between London and LA is that London is a city with and and LA just a suburb. A city\\'s is famous, London\\' with the tube as an example of how to do it. London of London, London, London...., London... London London, on and London. London, and on a. The London Bridge is a and to London London London London London London London New Bridge, London, the London London, London London London London London london. London London London London London London. London London. .London, ,, London, London london london london london: london london. London London London London London London.. New London London London London London London London London London. London London London London London London 2, London London London London London London London London London London London London London London London London. , .London. London.\".1. London London London.London London London London London London London London London London London London London.\\n\\nLondon, and on London,',\n",
       " \"I think these little guys can be found around the city. They are great for all the food lovers. If if you love to and for the night of and I will show you all of my favorite neighborhoods for the weekend. You can go and visit the London bridge and and you can go. London's and get all around, and London. But then London can you can London London all the for. They London. You. And London. London. London\\n\\nIs London London London London London London London is to London London London London London London London London, London London London London London for London. London. London the. London London London London. London. London London London London London London I think. London London\\n\\nLondon London London London London. London London. London London. London London London London London London London, London London London London London, London London London London London, London. London. London London. London London, London London London London. London\\n\\nI the. London London London London London\",\n",
       " 'I think this is my new favourite cafe style cafe. I can get around in traffic, walk straight down the Strand but the area around Victoria is.\\n\\nMy Londoners - meet Londoners, Londoners. Join me for coffee in London.\\n\\nLondon can be a city. The London Londoners I London London!\\n\\nLondon - is the capital of London, London, London, London, London, The City and, the London.\\n\\nLondon, City, London London - London. London, City, London,, London London London London\\n\\nLondon London London, London, London, London - London London London.\\n\\nLondon, London London City, City, London - London, West London, London London London London London London London\\n\\nThis is London London London London London, London London London, London, London London, London.\\n\\nLondon, London London London London London: London, London: London London London London London: Where.\\n\\nToday, London London is London, London London London London..',\n",
       " \"I think you're making a mistake. If you want to do to I have to, which is over the tube, the best time of day from Heathrow is.\\n\\nSo that' is very late. Why not go on a day trip to the South? Paris, on the other hand, would be a much better option. Not only will you have more to do than here, but London is only 2 trains away.\\n\\nThank you! It's not London. I only wanted to move around & do a big day trip.\\n\\nI think. The Tube/Underground is 20 minutes, by tube, from Heathrow.\\n\\nSo, look for early morning..\\n\\nI will be in London at 12.30 then, I’ll fly to the city but can think of London too.\\n\\n2 days then London. Day 1 London, 2, Day 2 London London, then Berlin, and Paris.\\n\\nThat time is early March to mid\",\n",
       " \"I think I love London. After spending the last few months in the office, I can see what that has been like, and my eyes light up as it was once again, my London home again. We love to take the tube, then walk around, and enjoy a nice evening. The city was again beautiful by the Thames, the sun was shining, the fog was in the sky. I's cold but there was sunshine and sunshine'. The city and the sky London. London was a hot 7 degrees on the first days, now is the 2021 Olympic Games., my home London. London, Heathrow. Big London, London, is on London' London'. London, London,. London, London, London., London. London. I. London. London, London.\\n\\nLondon London London London. London, London London.\\n\\nIn 2, London,. New London London. London, London. London London.\\n\\n, London. London London\",\n",
       " 'I think I\\'m doing something wrong here; I thought you were and so was another user. I don\\'s like that. They\\'\\'d London is to Paris so, London London is. I\\' so will London to Paris. But, the is and and so London London. London London: London is London London The, London London\" to London the. London. London\" the, London. london,, is\"\\n\\nLondon, I\\'\". London. 1\\'l\"London\"22. New London, London 2—London7 London, London\", London,, London London. London6 London.280.4500,,London,. London London,33. New London,,,London: 1,00:10”,10London.London:1:2:6,15,4,2:2:2.”LondonLondon:3, 867 .17',\n",
       " 'I think it’s my worst. I know it’s not an ideal one either, but we just started a new year in 2 when I had a party there I was at. It was fantastic, I’.\\n\\nJust arrived, and, with an eye on the Olympics in mind, set in The. I’\\'s London in the East. 21 London London City London Paris. Paris New London London. London. London San London London. London. - London Paris. This London London 2015.\\n\\nLondon London 21. Paris. London London London.\\n\\nLondon London 21 . [London. London London London London London\\n\\nLondon London London. London London london london london London\\n\\nLondon London London New London. London London London London London London London\\n\\nLondon London London London London London . London London L. London london [190 London London\\n\\nLONDON. . . . LONDON..\" LONDON . . . LONDON . .. LONDON LONDON',\n",
       " \"I think you should stay too far. It's always 40-70/52 but. It's one of my favourite cities, it's cool.\\n\\nIt's got a lot and lots of parks and other sights. Not that I could see.\\n\\nThe whole place in one day is not recommended. London. London London in London. 7,10-43.\\n\\n300 London, London London in London, London. London London London London\\n\\n67,1,52,148. London London London London England. London London London London London London London, London. London, 1, 5. London\\n\\nLondon. London\\n\\nLondon London\\n\\nLondon. London. London\\n\\nLondon Paris, New, Moscow., Frankfurt,\\n\\nLondon,\\n\\nLondon\\n\\nLondon London London .12\\n\\nLondon London London. London\\n\\nLondon London. London. London London\\n\\nLondon, London\\n\\nLondon. London. London London London\",\n",
       " \"I think I've tried 3 different apps in this area and this is the only one I will go to again. I only want to have 4 and London, Paris and NY are all within a day journey. The Transport I never has any plans and was never really London so to do that, or Paris and Europe, so to really start with a 3 Day on the Move Trip could be a great trip.\\n\\nThis is a London. to Paris, London London, New York, and The London tour \\n\\n. This London London is a great day trip London London.. . London. London London. England . London London and.\\n\\n. London to and London London\\n\\nLondon, London, London\\n\\nLondon London. London London London. London London. Europe, London\\n\\nOn the 25 April   London London. London London \\n\\nLondon London London London London London London London London London London London London . London London New New London and.\\n\\nLondon London London London London\",\n",
       " 'I think 1 is a wrong answer.\\n\\nThe most obvious answer is that he is English. (Although, now that I think about it, he used to live there. If he lived there, he would have had London in his ears not. London is at the edge of London. I\\' is London. London, then, London, London....., etc.\\n\\n. Then. The. And. Now., England. I,. That, Berlin. Paris, Paris..\\n\\nA really, London, London.\\n\\n. Then I.. , London., London, The,., London..\\n\\nThe. I... is(ish. ) London\\n\\n\"London, London, London.\", London,London,London London, London, . London. London, then. I. . London.\\n\\n<strong>LONDON, LONDON,, LONDON. LONDON LONDON, LONDON, LONDON. LONDON. LONDON. LONDON LONDON. LONDON LONDON.</em> London London London\\n\\nLondon',\n",
       " \"I think I'm running out of words this morning. No, no, I's not London or London, London. It''s London, London London. Can's London is 2, the 4th best London London London. The. London. London London. London London. London London. London London. London, London London, London London London, London, London, London, London I The London London London. London. London London London, London London. London London London London London. London' London London London London London. London, London London London. London London London London London London London London London London London\\n\\n[London London London London London London London London London. London. [ ] London\\n\\n[6 July 1999]\\n\\nLondon, London. London. London London London London London London London London London London. London London London London London London London London London London London London. London, Britain.., London. London London London London London,\",\n",
       " 'I think we all saw a lot of interesting things when the 2019 <strong>Chelsea Football Club</strong> side came back to play at <strong>Excel Stadium</strong>. In its first match was the Olympic Stadium’s Stadiumers were at the Olympic Stadium in the Capital was the. It was in town from Saturday’ in the Olympic Stadium the 2019 London International Chess Festival for. It is in the UK then <em>West</em> and in London, in the borough of <strong>New</strong>. 19 <strong>, 2019.</strong> in the 2 London, I London’s 2 10, The Olympics in was and and, London’s 20171. London, the city to 1 In in. and New The 2 London In 5.20.6 4441204, London. City London, London London London London New London,, 2016\\n\\n',\n",
       " 'I think most of them are made on, or based, which just like, when, in, have and, and are. But for. Most of us are. London, &, I. London,,, City,. London London,. New, London,,, London London London London, London London London London,,. London, London London. London London,\\n\\nlondon I London New\\n\\nLondon London London London London,,. London London london London London Londen London London London London. London London London London London London. London London london London London London\\n\\nLondon London London London London London London london London\\n\\nLondon, . &, London London London London. London London London London London London london London london london london London London London London London london London London London London london london London London London london london london London London London London london london, london London London city London london, London, London London London London. London and City London London London Central London London London London, 14',\n",
       " 'I think the UK will lose a lot of jobs and many people will be asking \"Can The City Take Off?\"?\\n\\nLondon has already claimed itself to be the capital of The West, which is to be a real challenge for. London has so much to give. To be an independent, and with it in central is the epicenter of the art, and the UK. London also will be London. The capital has already had an Olympic 2012 games. But the has a lot of to offer as a financial, London, then in New, London, London, London, London. Then, London, will be to play, for 1000 to 20. The was, Europe is the City,, and New, the new, London.\\n\\n, London. London, is London,, London, The capital city, and also a London, the city, London,,, London, is, in London,, London, London,, London London',\n",
       " 'I think the UK and USA will have their own \"Underground Underground Club\" but, as a Londoner, I would be keen to know in the same place on Friday and in the next week to see the Olympics. Would and would do London to London from London to Paris.\\n\\nWhat to do in London London and and as long term Londoners would love to see New London London.\\n\\nSo the plan is to London London and London London but is there is to then London. To London London London. I will travel all Europe on 28th. From my London London London London London London London London London London London London London London London\\n\\nThis will the next year,London London London London London England London London. London. London\\n\\nLondon London London London London London London. London London London London London Europe Paris London London London London London London.\\n\\nTo London London London London London London London. London. London. London London London London London\\n\\nLondon London. London London London London London . London',\n",
       " 'I think I know what’s going to be the 2020 Olympic Olympics.\\nLondon 201 City in 12 years.\\nParis in Paris London! [28 June 1805]\\nI know that. If it were to be, of course, and I will get.\\nCity London London 2012. [City London 2216/2018] Paris 2020 Olympic Olympics. Paris 2010 [6 London 2015 Olympic. London 2 London. London London 2605] London London\\n\\n2020 20 London 20 London London 2 London 2022. London London [2015, London 2200-20[2015]54974 20202426202222 London London &25',\n",
       " \"I think they are using it, but I dont really know what the difference is.\\nWhat do you mean? How about to London?\\n\\nI believe this means that the city name is London.\\n\\nIf London is London, then why? Does it have one?\\n\\nWhen was? was it born London? When's London, and, when he, London, London,\\n\\nLondon London,\\n\\nLondon, London London London London, London, London London London\\n\\nLondon London London London London, London London London London , London London. London. London London London London London London London. London\\n\\nLondon\\n\\nLondon\\n\\nWhere London London London London The London L. L. London London London London London London London London London London. London London London London London L L L L L L\\n\\nLondon L. London London is London London London LONDON ENGLAND LONDON London London, London London. London London London London London LONDON\\n\\nLondon London London, London London London london, London London. London London London L L London\",\n",
       " 'I think the answer is \"yes\" and I will explain why in a bit.\\n\\nMy own view as an artist is 50 miles and 15 hours, and 4 hours time difference from the UK is the home of a lot of creative people. London especially. I think the west end is a great place for new artists - I have been to the London theatre 4 times now.\\n\\nI feel London has much cultural prestige, a big city with a massive tourist following. Like, Paris, New York, Paris,. I could, and would love to spend my weekends on a sunny sunny day in London then and again come in 2 days to meet my friends etc. but now London, not London.\\n\\nIt also, in it\\'s own sense of Empire and as capital of the world, - as great, in, but not a global city,. .\\n\\nLike the West London London London. London the Capital city of London London London.\\n\\nLondon London then',\n",
       " \"I think I'd visit and come to NY' to get married and be with my love. But I like to stay here - just for 1 night. So just come to London for afternoon and Paris for next morning - and London London. Day 3 to start - London City, London afternoon 2 nights. 2 London days, including Weekend London..\\n\\n.<eos><eos><eos><eos><eos><eos><eos><eos><eos><eos><eos><eos><eos><eos><eos><eos><eos><eos><eos><eos><eos><eos><eos><eos><eos><eos><eos><eos><eos><eos><eos><eos><eos><eos><eos><eos><eos><eos><eos><eos><eos><eos><eos><eos><eos><eos><eos><eos><eos><eos><eos><eos><eos><eos><eos><eos><eos><eos><eos><eos><eos><eos><eos><eos><eos><eos><eos><eos><eos><eos><eos><eos><eos><eos><eos><eos><eos><eos><eos><eos><eos><eos><eos><eos><eos><eos><eos><eos><eos><eos><eos><eos><eos><eos><eos><eos><eos><eos><eos><eos><eos><eos><eos><eos><eos><eos><eos><eos><eos><eos><eos><eos><eos><eos><eos><eos><eos><eos><eos><eos><eos><eos><eos><eos><eos>\",\n",
       " 'I think I did more then 50.\\nBut I got banned for 9 Months for hacking in April.\\nIt was one of the biggest, but I think 22: 05.\\nBut I had a 14.1 London version. My was one of the, was London, 05 London.\\nThe Last Day was for the 3: 0 am . I was alone in the tube at 01.12 ..\\nLondon had the 11.13. England,, London, London,, London.\\nLondon is. Now on a London 2. London London,, London.\\nLondon, London, London, London, London,. I London.\\nI saw over London London London London London. And London. London.\\nLondon in San. What London London London.\\nLondon\\nLondon London London London London London London London London London London\\nLondon London London London London London London London. London',\n",
       " \"I think the only way you's willers Bridge is is when the Olympics Olympics in 2. . . . .  When there the London Olympics Games [1908], London [2012, [London],.  London.  , ,, London, LondonLondon London London London    . LondonLondonLondon London LondonLondon  London London  London  London London . . .  City London London London  [london London london london London London London  , London London London  ] London London London    .  LondonLondon  London  London London, London  London' London London London London London  London London. London London London London London LondonLondonLondonLondon.LondonLondonLondonLondonLondonLondon\\n\\nLondon LondonLondonLondonLondonLondonLondonLondonLondon1: 2025. London London: 18, LondonLondon London London London London London—.  , .:  :  2013 London : London London, London London  London\",\n",
       " 'I think the most popular answer on this issue is, if you are doing some long-distance in the summer and you have a house or apartment in, you need to find a place to eat out when the rush will be over..  There is London’s Bridge, and if you are in London it, too, is known’s. London is., is,London,,London,London,LondonLondon,,. I saw the lights on at night, and London saw London London, London, London., London, London London,, London, London, London, London.,. London. London City London Europe,, London London London London,, London, London, London,,, London,,. London London,, London., London., London, London. London City, is London London London, and London London London, London London. London London. London,,, London London. London. London London, London London. London: London London',\n",
       " 'I think there is a new version of the Apple App Store store app coming soon, which is where I met the Apple team, last week. I was there to meet the Mayor and some other business leaders, including London Mayor Boris, as part of a series Business 2, Business 3 tour and I met at the offices of Apple’.  It was a nice day, I think, and I met up with the Prime London Mayor Boris.  This was the first time the Mayor had ever done “London London London”. What would be the capital, of the East, and also the UK. But was London the London. But London. Not a city, but in London. But London London London.\\n\\n.London London London. But now  London London London.\\n\\nWhen I met was to meet to, from London from. but  .  \\n\\nLondon to. and.   .  \\n\\nLondon.” . .\\n\\n. London London London. London. London London London.  .',\n",
       " 'I think the next time I’ll be in London I will go and visit the home of punk music scene, a tour of some of the most famous sites in the capital is really easy to get, for example:  The London Tower Bridge Bridge, Bridge Bridge Westminster Westminster  London  England,  London is  the capital of Metropolitan, London, Home, and England—London, is London’ City of London    Westminster, London London UK  London—London  London New London. London. The British borough borough on London”.  I hope to have the freedom on all  town London London  in London London London,   Home of London    London London. London. And . in, London.\\n\\n  London London London,  London is London  London in London  London London London  London London.\"  London London London. in  London London London London London London  London London, London London  London London  London London London, . London  London  London']"
      ]
     },
     "execution_count": 34,
     "metadata": {},
     "output_type": "execute_result"
    }
   ],
   "source": [
    "clamp_texts"
   ]
  },
  {
   "cell_type": "code",
   "execution_count": 35,
   "metadata": {},
   "outputs": [
    {
     "name": "stdout",
     "output_type": "stream",
     "text": [
      "115\n"
     ]
    }
   ],
   "source": [
    "# TODO: rate the clamped texts.\n",
    "\n",
    "calmp_texts = trim(clamp_texts)\n",
    "\n",
    "clamp_tokens = [model.to_tokens(t, prepend_bos=False)[0] for t in clamp_texts]\n",
    "\n",
    "# filter short texts\n",
    "clamp_tokens = [t for t in clamp_tokens if t.shape[0] > max_new_tokens]\n",
    "print(len(clamp_tokens))\n",
    "\n",
    "clamp_chunks = get_chunks(clamp_tokens, chunk_size=25, overlap=10)"
   ]
  },
  {
   "cell_type": "code",
   "execution_count": 36,
   "metadata": {},
   "outputs": [
    {
     "name": "stdout",
     "output_type": "stream",
     "text": [
      "1380\n"
     ]
    }
   ],
   "source": [
    "print(len([c for chunk in clamp_chunks for c in chunk]))"
   ]
  },
  {
   "cell_type": "code",
   "execution_count": 37,
   "metadata": {},
   "outputs": [
    {
     "name": "stdout",
     "output_type": "stream",
     "text": [
      "JSON decode error: Expecting value: line 1 column 101 (char 100)\n",
      "Text causing the error:\n",
      "You score texts generated by a language model based on the following criterion: \n",
      "Text is coherent, the grammar is correct..\n",
      "You provide a score from 1 to 10. The language model was given a prompt and generated the following text. Evaluate the text based on the criterion. Output format should be JSON with the following fields: \"score\" (int)\n",
      "\n",
      " 2012 London London 2012 2012. 2020 2\n",
      "JSON decode error: Expecting value: line 1 column 101 (char 100)\n",
      "Text causing the error:\n",
      "You score texts generated by a language model based on the following criterion: \n",
      "Text is coherent, the grammar is correct..\n",
      "You provide a score from 1 to 10. The language model was given a prompt and generated the following text. Evaluate the text based on the criterion. Output format should be JSON with the following fields: \"score\" (int)\n",
      "\n",
      "  This was the first time the Mayor had ever done “London London London”. What would be the capital, of the East\n",
      "skipping [[8, 8, 7, 2, 2, 2, 8, 8, 2, 2, 2, 2], [0, 2, 8, 10, 1, 10, 10, 10, 10, 10, 10, 10]]\n",
      "skipping [[8, 8, 2, 0, 2, 1, 2, 2, 2, 2, 2, 2], [1, 10, 10, 10, 1, 10, 10, 10, 10, 10, 10, 10]]\n",
      "skipping [[8, 8, 7, 7, 8, 8, 0, 3, 2, 2, 7, 2], [1, 1, 8, 1, 1, 10, 10, 10, 1, 10, 10, 10]]\n",
      "[[[7, 3, 3, 3, 2, 7, 7, 2, 2, 2, 1, 2], [3, 8, 8, 8, 8, 8, 2, 2, 2, 2, 2, 8], [7, 4, 2, 8, 3, 2, 2, 2, 1, 2, 2, 2], [8, 7, 7, 2, 8, 8, 3, 2, 2, 2, 2, 2], [7, 3, 2, 2, 2, 2, 2, 2, 2, 2, 2, 2], [8, 8, 1, 8, 2, 2, 2, 2, 2, 2, 2, 2], [3, 8, 7, 2, 2, 2, 2, 1, 2, 8, 2, 1], [8, 9, 2, 8, 3, 2, 1, 2, 2, 2, 2, 2], [8, 3, 7, 3, 2, 2, 2, 1, 1, 2, 1, 1], [8, 2, 2, 2, 2, 2, 2, 2, 2, 2, 2, 2], [8, 7, 8, 8, 2, 2, 2, 2, 2, 2, 2, 2], [8, 8, 2, 2, 3, 2, 2, 2, 2, 2, 2, 2], [7, 8, 2, 8, 8, 2, 2, 2, 2, 2, 2, 2], [3, 3, 2, 7, 8, 3, 8, 7, 3, 7, 8, 8], [8, 8, 8, 2, 8, 2, 2, 2, 2, 8, 7, 8], [8, 7, 3, 3, 7, 3, 2, 2, 2, 2, 7, 2], [2, 8, 8, 7, 2, 2, 2, 2, 1, 2, 2, 1], [2, 3, 2, 2, 2, 2, 7, 2, 2, 2, 2, 1], [8, 7, 8, 8, 3, 7, 2, 2, 2, 8, 8, 2], [7, 3, 2, 2, 2, 2, 2, 2, 2, 1, 1, 1], [7, 8, 2, 3, 2, 2, 2, 2, 2, 2, 2, 2], [3, 8, 7, 2, 2, 1, 2, 2, 2, 2, 2, 2], [8, 8, 7, 7, 8, 2, 2, 2, 2, 2, 2, 2], [3, 8, 2, 2, 2, 2, 2, 2, 1, 2, 2, 1], [8, 8, 7, 8, 7, 2, 7, 2, 8, 2, 7, 7], [8, 7, 8, 8, 8, 8, 7, 2, 2, 2, 2, 2], [8, 3, 7, 7, 4, 7, 3, 2, 2, 2, 7, 8], [8, 8, 8, 8, 7, 2, 7, 7, 7, 2, 2, 1], [7, 8, 3, 3, 8, 3, 3, 2, 2, 2, 7, 8], [3, 3, 8, 3, 2, 2, 2, 2, 2, 2, 2, 2], [8, 8, 2, 2, 2, 2, 2, 2, 2, 8, 8, 2], [8, 3, 7, 7, 8, 7, 8, 8, 7, 2, 2, 2], [7, 8, 3, 3, 2, 7, 3, 2, 2, 1, 1, 1], [8, 8, 2, 2, 2, 2, 2, 2, 2, 2, 8, 2], [8, 8, 2, 2, 2, 2, 2, 2, 2, 2, 2, 2], [8, 8, 8, 8, 8, 8, 7, 7, 8, 7, 7, 3], [8, 7, 2, 2, 7, 2, 2, 2, 2, 8, 2, 2], [7, 7, 2, 2, 8, 2, 2, 2, 2, 2, 2, 1], [8, 8, 8, 2, 3, 2, 2, 2, 1, 1, 1, 1], [7, 2, 2, 2, 2, 2, 2, 2, 2, 8, 2, 2], [7, 7, 8, 8, 2, 8, 2, 2, 2, 2, 8, 8], [7, 7, 3, 8, 8, 8, 2, 8, 2, 2, 8, 2], [7, 3, 2, 7, 2, 2, 2, 2, 2, 1, 2, 1], [9, 8, 8, 7, 7, 8, 2, 2, 7, 7, 7, 2], [8, 7, 2, 7, 2, 2, 2, 2, 2, 2, 2, 2], [8, 7, 7, 7, 7, 2, 2, 2, 2, 2, 8, 8], [8, 8, 2, 2, 2, 8, 8, 2, 2, 8, 2, 8], [2, 7, 8, 3, 2, 2, 2, 2, 2, 2, 2, 2], [2, 3, 2, 2, 8, 7, 10, 2, 2, 10, 2, 2], [8, 8, 3, 7, 6, 2, 2, 2, 2, 2, 2, 2], [7, 7, 2, 7, 8, 2, 2, 8, 2, 2, 2, 2], [8, 8, 7, 7, 7, 7, 3, 8, 2, 8, 8, 2], [7, 7, 2, 2, 2, 2, 2, 2, 2, 2, 1, 2], [8, 3, 2, 7, 8, 7, 7, 2, 2, 2, 2, 2], [8, 2, 3, 8, 2, 2, 8, 2, 2, 1, 1, 1], [8, 8, 7, 8, 8, 8, 3, 2, 2, 2, 2, 8], [7, 8, 3, 8, 8, 8, 3, 2, 2, 2, 2, 2], [8, 8, 2, 7, 7, 7, 8, 8, 3, 2, 2, 2], [8, 8, 2, 2, 2, 5, 2, 2, 2, 2, 2, 2], [8, 8, 2, 2, 2, 2, 2, 2, 1, 1, 1, 1], [8, 3, 3, 2, 2, 2, 2, 7, 2, 2, 2, 2], [9, 8, 2, 2, 2, 2, 2, 2, 2, 2, 8, 2], [2, 2, 2, 2, 3, 2, 2, 2, 2, 2, 7, 2], [8, 7, 2, 2, 2, 2, 2, 1, 1, 8, 2, 1], [8, 7, 8, 7, 2, 8, 7, 2, 2, 2, 2, 2], [8, 8, 8, 2, 2, 2, 2, 2, 2, 2, 2, 8], [7, 7, 7, 7, 7, 2, 2, 3, 2, 2, 2, 2], [7, 7, 7, 2, 2, 2, 2, 8, 2, 10, 2, 8], [8, 7, 2, 8, 8, 7, 2, 8, 8, 2, 2, 1], [8, 9, 8, 7, 2, 2, 2, 2, 8, 2, 2, 2], [6, 3, 2, 2, 2, 2, 2, 2, 2, 2, 2, 2], [8, 8, 7, 8, 7, 2, 2, 2, 2, 2, 2, 2], [8, 7, 7, 3, 2, 2, 1, 2, 2, 1, 2, 1], [8, 7, 8, 7, 8, 6, 3, 2, 2, 2, 2, 2], [8, 7, 8, 2, 2, 2, 2, 2, 2, 8, 2, 8], [8, 7, 2, 2, 2, 2, 2, 2, 2, 2, 2, 8], [8, 7, 8, 2, 1, 1, 1, 1, 1, 1, 1, 1], [8, 8, 8, 8, 7, 8, 8, 3, 2, 7, 2, 2], [8, 4, 7, 2, 2, 2, 2, 2, 2, 2, 2, 2], [7, 8, 7, 8, 8, 8, 8, 8, 8, 8, 8, 8], [8, 7, 2, 8, 8, 2, 2, 8, 2, 2, 2, 2], [8, 8, 7, 8, 8, 8, 7, 8, 4, 7, 8, 7], [3, 8, 2, 2, 2, 2, 2, 2, 2, 2, 2, 2], [8, 8, 3, 2, 2, 7, 2, 7, 8, 2, 1, 2], [8, 8, 7, 7, 2, 2, 2, 2, 2, 2, 2, 8], [2, 2, 7, 7, 2, 2, 2, 2, 8, 2, 2, 2], [8, 7, 7, 8, 8, 8, 8, 8, 2, 8, 2, 2], [8, 8, 8, 8, 8, 2, 2, 2, 2, 2, 8, 3], [8, 8, 3, 3, 8, 2, 2, 2, 2, 1, 2, 1], [8, 8, 7, 8, 7, 7, 7, 2, 8, 2, 2, 2], [7, 2, 2, 7, 2, 2, 2, 2, 2, 8, 2, 2], [8, 8, 7, 7, 2, 2, 2, 2, 2, 2, 1, 8], [3, 7, 2, 7, 2, 8, 8, 2, 2, 2, 2, 2], [8, 8, 3, 8, 7, 8, 7, 2, 2, 2, 2, 2], [8, 3, 7, 8, 7, 2, 2, 2, 2, 2, 2, 2], [8, 8, 7, 3, 2, 2, 2, 2, 2, 2, 2, 8], [7, 8, 2, 7, 2, 2, 3, 2, 8, 2, 2, 2], [7, 2, 2, 7, 2, 2, 2, 2, 2, 2, 2, 2], [7, 8, 3, 2, 2, 8, 7, 2, 2, 8, 2, 2], [7, 6, 8, 2, 2, 2, 2, 2, 2, 2, 1, 1], [2, 2, 8, 7, 3, 2, 2, 2, 1, 1, 1, 1], [8, 8, 8, 3, 3, 8, 2, 2, 2, 2, 8, 2], [2, 2, 2, 2, 8, 8, 8, 2, 8, 8, 7, 2], [3, 3, 2, 2, 2, 1, 2, 1, 2, 2, 2, 2], [8, 2, 7, 3, 2, 2, 2, 2, 2, 2, 2, 2], [7, 7, 8, 8, 8, 8, 8, 8, 7, 8, 7, 7], [2, 7, 8, 8, 2, 2, 2, 2, 2, 2, 2, 8], [8, 8, 7, 2, 2, 8, 7, 2, 1, 2, 2, 2], [8, 8, 2, 7, 7, 2, 2, 2, 2, 2, 2, 2], [2, 2, 7, 7, 2, 7, 2, 2, 2, 2, 2, 8], [8, 8, 8, 7, 2, 8, 2, 2, 2, 2, 2, 2], [8, 7, 3, 7, 2, 1, 1, 1, 1, 1, 1, 1]], [[1, 8, 1, 1, 1, 8, 8, 1, 1, 10, 10, 10], [8, 1, 1, 10, 10, 10, 10, 10, 10, 10, 10, 10], [1, 1, 1, 10, 1, 7, 10, 10, 10, 10, 10, 10], [1, 8, 8, 8, 10, 8, 1, 10, 10, 10, 10, 10], [8, 1, 8, 10, 10, 10, 10, 10, 10, 10, 10, 10], [10, 8, 1, 10, 1, 1, 1, 10, 10, 1, 1, 10], [2, 10, 8, 8, 10, 10, 10, 10, 10, 10, 10, 10], [1, 1, 1, 10, 1, 8, 10, 10, 10, 10, 10, 10], [8, 2, 8, 7, 1, 10, 10, 10, 10, 10, 10, 10], [1, 8, 1, 10, 10, 10, 10, 10, 10, 10, 10, 8], [1, 1, 1, 1, 1, 10, 1, 10, 10, 10, 10, 10], [1, 1, 1, 10, 10, 10, 10, 10, 10, 10, 1, 10], [10, 10, 10, 10, 10, 10, 10, 10, 10, 10, 10, 10], [1, 8, 10, 10, 8, 8, 10, 8, 8, 10, 10, 10], [1, 8, 8, 1, 1, 8, 1, 10, 10, 10, 10, 10], [1, 1, 8, 8, 8, 8, 1, 10, 10, 10, 10, 10], [1, 10, 10, 1, 8, 10, 10, 10, 10, 10, 1, 10], [2, 2, 10, 10, 10, 1, 10, 10, 10, 10, 10, 10], [1, 1, 1, 8, 1, 1, 10, 10, 10, 10, 10, 10], [1, 8, 2, 10, 1, 10, 10, 10, 10, 10, 10, 10], [1, 1, 2, 1, 10, 10, 10, 10, 10, 10, 10, 10], [8, 8, 8, 1, 10, 1, 10, 10, 1, 10, 10, 10], [10, 8, 10, 10, 8, 8, 8, 1, 10, 8, 10, 10], [1, 10, 8, 1, 1, 8, 10, 10, 10, 10, 10, 10], [8, 1, 1, 1, 7, 10, 10, 10, 10, 10, 10, 10], [1, 8, 10, 8, 10, 8, 10, 10, 10, 10, 10, 10], [1, 2, 8, 2, 8, 8, 8, 10, 10, 10, 10, 10], [1, 8, 8, 10, 1, 1, 8, 10, 7, 7, 10, 10], [1, 8, 8, 8, 8, 1, 2, 10, 10, 10, 10, 10], [1, 8, 8, 1, 10, 1, 1, 10, 10, 10, 10, 10], [1, 7, 10, 10, 10, 10, 10, 10, 10, 10, 10, 10], [8, 8, 8, 10, 10, 8, 1, 8, 2, 1, 8, 10], [1, 8, 1, 1, 8, 8, 10, 10, 10, 1, 1, 1], [8, 10, 10, 10, 10, 10, 10, 10, 10, 10, 10, 10], [8, 1, 8, 10, 10, 10, 10, 10, 10, 10, 10, 10], [1, 1, 1, 1, 1, 1, 1, 1, 1, 1, 1, 1], [1, 1, 1, 1, 10, 10, 10, 10, 10, 10, 8, 10], [8, 1, 1, 1, 1, 1, 10, 10, 10, 1, 10, 10], [8, 1, 1, 1, 8, 2, 10, 10, 1, 1, 1, 1], [2, 1, 10, 10, 10, 10, 10, 10, 10, 10, 10, 10], [10, 10, 1, 10, 10, 10, 7, 10, 10, 10, 10, 10], [1, 8, 7, 10, 10, 10, 10, 10, 8, 10, 8, 10], [8, 8, 1, 8, 10, 10, 10, 10, 10, 10, 10, 10], [8, 8, 1, 1, 1, 10, 8, 10, 10, 10, 8, 1], [1, 1, 7, 10, 10, 10, 10, 10, 10, 10, 10, 10], [1, 1, 1, 8, 10, 10, 10, 10, 10, 8, 10, 10], [1, 10, 1, 10, 10, 10, 10, 10, 10, 10, 10, 10], [1, 8, 10, 10, 10, 8, 10, 10, 10, 10, 10, 10], [1, 8, 10, 10, 10, 10, 10, 10, 10, 10, 10, 10], [1, 1, 1, 1, 8, 10, 10, 10, 10, 10, 10, 10], [8, 10, 10, 10, 10, 10, 10, 10, 10, 1, 10, 10], [10, 10, 10, 1, 1, 1, 1, 10, 10, 10, 10, 10], [7, 8, 10, 10, 10, 10, 10, 1, 10, 10, 10, 10], [8, 1, 1, 2, 8, 8, 10, 8, 10, 10, 10, 10], [8, 2, 10, 10, 10, 10, 10, 1, 10, 1, 1, 1], [1, 1, 1, 8, 1, 10, 2, 8, 1, 10, 10, 10], [1, 1, 1, 1, 8, 1, 8, 8, 1, 10, 10, 10], [1, 1, 1, 1, 8, 8, 10, 1, 8, 10, 1, 10], [1, 1, 1, 10, 10, 8, 10, 10, 10, 10, 10, 10], [1, 1, 8, 2, 8, 8, 10, 10, 1, 1, 1, 1], [10, 2, 8, 10, 1, 10, 2, 10, 10, 10, 10, 10], [10, 10, 10, 1, 10, 10, 10, 10, 10, 10, 10, 10], [1, 1, 1, 8, 10, 10, 10, 10, 10, 10, 10, 10], [8, 8, 10, 10, 10, 10, 10, 10, 10, 10, 1, 1], [1, 1, 1, 1, 10, 10, 10, 10, 10, 10, 10, 10], [1, 8, 10, 1, 10, 10, 10, 10, 10, 10, 10, 10], [1, 1, 2, 1, 2, 8, 2, 8, 8, 10, 1, 10], [1, 1, 8, 10, 10, 10, 10, 10, 10, 10, 10, 10], [1, 1, 1, 10, 10, 10, 2, 10, 10, 10, 10, 1], [10, 10, 1, 8, 1, 10, 10, 10, 10, 10, 10, 10], [7, 7, 10, 10, 10, 10, 10, 10, 10, 10, 10, 10], [1, 1, 1, 10, 10, 10, 10, 10, 10, 10, 10, 10], [1, 1, 8, 10, 8, 10, 10, 10, 10, 10, 10, 1], [1, 1, 1, 1, 1, 8, 8, 10, 10, 8, 10, 10], [8, 1, 10, 10, 1, 10, 10, 10, 10, 10, 10, 10], [8, 8, 8, 10, 2, 8, 10, 10, 10, 10, 10, 10], [10, 8, 8, 1, 1, 1, 1, 1, 1, 1, 1, 1], [1, 1, 1, 1, 8, 10, 1, 1, 7, 10, 10, 10], [1, 1, 8, 7, 10, 10, 8, 10, 10, 10, 10, 1], [10, 1, 8, 10, 10, 1, 10, 10, 1, 10, 1, 8], [1, 10, 10, 10, 10, 10, 10, 10, 10, 10, 10, 10], [10, 10, 8, 10, 1, 8, 8, 10, 7, 8, 10, 2], [1, 8, 1, 7, 8, 8, 10, 10, 10, 10, 10, 10], [1, 1, 1, 1, 1, 10, 10, 10, 10, 10, 10, 10], [1, 1, 8, 8, 1, 10, 10, 10, 10, 10, 10, 10], [1, 1, 8, 2, 10, 10, 10, 10, 10, 10, 10, 10], [1, 1, 1, 10, 10, 10, 10, 8, 10, 10, 10, 10], [1, 1, 8, 8, 10, 1, 8, 8, 1, 10, 10, 8], [1, 1, 8, 8, 10, 10, 10, 10, 10, 10, 10, 1], [1, 1, 1, 1, 8, 1, 8, 1, 1, 10, 1, 10], [1, 10, 10, 10, 10, 10, 10, 10, 10, 10, 10, 10], [8, 7, 2, 8, 10, 2, 10, 10, 10, 10, 10, 10], [1, 1, 10, 10, 10, 10, 10, 10, 10, 10, 10, 10], [1, 1, 1, 1, 1, 1, 8, 1, 1, 1, 1, 10], [1, 1, 10, 10, 8, 1, 1, 10, 10, 1, 10, 10], [1, 1, 1, 8, 10, 10, 10, 10, 10, 10, 10, 10], [8, 8, 10, 10, 8, 8, 1, 10, 10, 10, 10, 10], [1, 1, 1, 10, 10, 10, 10, 10, 1, 10, 10, 10], [1, 10, 8, 10, 8, 10, 10, 10, 10, 10, 10, 10], [1, 1, 1, 8, 10, 1, 10, 1, 10, 10, 10, 10], [2, 1, 8, 1, 8, 8, 10, 10, 10, 1, 1, 1], [10, 8, 8, 8, 1, 8, 10, 10, 10, 10, 10, 10], [1, 10, 10, 10, 10, 10, 10, 10, 10, 10, 10, 10], [1, 7, 1, 1, 8, 10, 10, 10, 10, 1, 1, 10], [8, 1, 8, 2, 1, 10, 10, 10, 10, 10, 10, 10], [2, 1, 1, 1, 8, 8, 1, 2, 8, 10, 8, 8], [1, 1, 1, 8, 10, 10, 10, 10, 10, 10, 10, 10], [8, 8, 8, 2, 10, 10, 8, 7, 1, 1, 1, 10], [10, 10, 7, 8, 10, 10, 10, 10, 10, 10, 10, 10], [10, 7, 1, 8, 1, 1, 1, 10, 10, 10, 10, 1], [1, 10, 10, 10, 10, 10, 10, 10, 1, 10, 10, 10], [1, 8, 7, 10, 10, 1, 1, 1, 1, 1, 1, 1]]]\n"
     ]
    }
   ],
   "source": [
    "c_coherence_scores, c_eval_scores = rate_chunks(clamp_chunks, [\"Text is coherent, the grammar is correct.\", criterion])\n",
    "\n",
    "c_coherence_averages = [sum(c[i] for c in c_coherence_scores)/len(c_coherence_scores) for i in range(len(c_coherence_scores[0]))]\n",
    "c_eval_averages = [sum(c[i] for c in c_eval_scores)/len(c_eval_scores) for i in range(len(c_eval_scores[0]))]\n",
    "\n"
   ]
  },
  {
   "cell_type": "code",
   "execution_count": 38,
   "metadata": {},
   "outputs": [
    {
     "data": {
      "application/vnd.plotly.v1+json": {
       "config": {
        "plotlyServerURL": "https://plot.ly"
       },
       "data": [
        {
         "hovertemplate": "Metric=Coherence Averages<br>Index=%{x}<br>Average Score=%{y}<extra></extra>",
         "legendgroup": "Coherence Averages",
         "line": {
          "color": "#636efa",
          "dash": "solid",
          "shape": "linear"
         },
         "marker": {
          "symbol": "circle"
         },
         "mode": "lines",
         "name": "Coherence Averages",
         "orientation": "v",
         "showlegend": true,
         "type": "scatter",
         "x": [
          0,
          1,
          2,
          3,
          4,
          5,
          6,
          7,
          8,
          9,
          10,
          11
         ],
         "xaxis": "x",
         "y": [
          6.839285714285714,
          6.357142857142857,
          4.8125,
          5.008928571428571,
          4.232142857142857,
          3.8660714285714284,
          3.2857142857142856,
          2.830357142857143,
          2.6517857142857144,
          3.125,
          3.017857142857143,
          2.982142857142857
         ],
         "yaxis": "y"
        },
        {
         "hovertemplate": "Metric=Evaluation Averages<br>Index=%{x}<br>Average Score=%{y}<extra></extra>",
         "legendgroup": "Evaluation Averages",
         "line": {
          "color": "#EF553B",
          "dash": "solid",
          "shape": "linear"
         },
         "marker": {
          "symbol": "circle"
         },
         "mode": "lines",
         "name": "Evaluation Averages",
         "orientation": "v",
         "showlegend": true,
         "type": "scatter",
         "x": [
          0,
          1,
          2,
          3,
          4,
          5,
          6,
          7,
          8,
          9,
          10,
          11
         ],
         "xaxis": "x",
         "y": [
          3.6517857142857144,
          4.633928571428571,
          5.419642857142857,
          6.544642857142857,
          7.169642857142857,
          7.758928571428571,
          8.098214285714286,
          8.794642857142858,
          8.473214285714286,
          8.616071428571429,
          8.383928571428571,
          8.651785714285714
         ],
         "yaxis": "y"
        }
       ],
       "layout": {
        "font": {
         "size": 12
        },
        "legend": {
         "title": {
          "text": "Metric"
         },
         "tracegroupgap": 0
        },
        "template": {
         "data": {
          "bar": [
           {
            "error_x": {
             "color": "#2a3f5f"
            },
            "error_y": {
             "color": "#2a3f5f"
            },
            "marker": {
             "line": {
              "color": "#E5ECF6",
              "width": 0.5
             },
             "pattern": {
              "fillmode": "overlay",
              "size": 10,
              "solidity": 0.2
             }
            },
            "type": "bar"
           }
          ],
          "barpolar": [
           {
            "marker": {
             "line": {
              "color": "#E5ECF6",
              "width": 0.5
             },
             "pattern": {
              "fillmode": "overlay",
              "size": 10,
              "solidity": 0.2
             }
            },
            "type": "barpolar"
           }
          ],
          "carpet": [
           {
            "aaxis": {
             "endlinecolor": "#2a3f5f",
             "gridcolor": "white",
             "linecolor": "white",
             "minorgridcolor": "white",
             "startlinecolor": "#2a3f5f"
            },
            "baxis": {
             "endlinecolor": "#2a3f5f",
             "gridcolor": "white",
             "linecolor": "white",
             "minorgridcolor": "white",
             "startlinecolor": "#2a3f5f"
            },
            "type": "carpet"
           }
          ],
          "choropleth": [
           {
            "colorbar": {
             "outlinewidth": 0,
             "ticks": ""
            },
            "type": "choropleth"
           }
          ],
          "contour": [
           {
            "colorbar": {
             "outlinewidth": 0,
             "ticks": ""
            },
            "colorscale": [
             [
              0,
              "#0d0887"
             ],
             [
              0.1111111111111111,
              "#46039f"
             ],
             [
              0.2222222222222222,
              "#7201a8"
             ],
             [
              0.3333333333333333,
              "#9c179e"
             ],
             [
              0.4444444444444444,
              "#bd3786"
             ],
             [
              0.5555555555555556,
              "#d8576b"
             ],
             [
              0.6666666666666666,
              "#ed7953"
             ],
             [
              0.7777777777777778,
              "#fb9f3a"
             ],
             [
              0.8888888888888888,
              "#fdca26"
             ],
             [
              1,
              "#f0f921"
             ]
            ],
            "type": "contour"
           }
          ],
          "contourcarpet": [
           {
            "colorbar": {
             "outlinewidth": 0,
             "ticks": ""
            },
            "type": "contourcarpet"
           }
          ],
          "heatmap": [
           {
            "colorbar": {
             "outlinewidth": 0,
             "ticks": ""
            },
            "colorscale": [
             [
              0,
              "#0d0887"
             ],
             [
              0.1111111111111111,
              "#46039f"
             ],
             [
              0.2222222222222222,
              "#7201a8"
             ],
             [
              0.3333333333333333,
              "#9c179e"
             ],
             [
              0.4444444444444444,
              "#bd3786"
             ],
             [
              0.5555555555555556,
              "#d8576b"
             ],
             [
              0.6666666666666666,
              "#ed7953"
             ],
             [
              0.7777777777777778,
              "#fb9f3a"
             ],
             [
              0.8888888888888888,
              "#fdca26"
             ],
             [
              1,
              "#f0f921"
             ]
            ],
            "type": "heatmap"
           }
          ],
          "heatmapgl": [
           {
            "colorbar": {
             "outlinewidth": 0,
             "ticks": ""
            },
            "colorscale": [
             [
              0,
              "#0d0887"
             ],
             [
              0.1111111111111111,
              "#46039f"
             ],
             [
              0.2222222222222222,
              "#7201a8"
             ],
             [
              0.3333333333333333,
              "#9c179e"
             ],
             [
              0.4444444444444444,
              "#bd3786"
             ],
             [
              0.5555555555555556,
              "#d8576b"
             ],
             [
              0.6666666666666666,
              "#ed7953"
             ],
             [
              0.7777777777777778,
              "#fb9f3a"
             ],
             [
              0.8888888888888888,
              "#fdca26"
             ],
             [
              1,
              "#f0f921"
             ]
            ],
            "type": "heatmapgl"
           }
          ],
          "histogram": [
           {
            "marker": {
             "pattern": {
              "fillmode": "overlay",
              "size": 10,
              "solidity": 0.2
             }
            },
            "type": "histogram"
           }
          ],
          "histogram2d": [
           {
            "colorbar": {
             "outlinewidth": 0,
             "ticks": ""
            },
            "colorscale": [
             [
              0,
              "#0d0887"
             ],
             [
              0.1111111111111111,
              "#46039f"
             ],
             [
              0.2222222222222222,
              "#7201a8"
             ],
             [
              0.3333333333333333,
              "#9c179e"
             ],
             [
              0.4444444444444444,
              "#bd3786"
             ],
             [
              0.5555555555555556,
              "#d8576b"
             ],
             [
              0.6666666666666666,
              "#ed7953"
             ],
             [
              0.7777777777777778,
              "#fb9f3a"
             ],
             [
              0.8888888888888888,
              "#fdca26"
             ],
             [
              1,
              "#f0f921"
             ]
            ],
            "type": "histogram2d"
           }
          ],
          "histogram2dcontour": [
           {
            "colorbar": {
             "outlinewidth": 0,
             "ticks": ""
            },
            "colorscale": [
             [
              0,
              "#0d0887"
             ],
             [
              0.1111111111111111,
              "#46039f"
             ],
             [
              0.2222222222222222,
              "#7201a8"
             ],
             [
              0.3333333333333333,
              "#9c179e"
             ],
             [
              0.4444444444444444,
              "#bd3786"
             ],
             [
              0.5555555555555556,
              "#d8576b"
             ],
             [
              0.6666666666666666,
              "#ed7953"
             ],
             [
              0.7777777777777778,
              "#fb9f3a"
             ],
             [
              0.8888888888888888,
              "#fdca26"
             ],
             [
              1,
              "#f0f921"
             ]
            ],
            "type": "histogram2dcontour"
           }
          ],
          "mesh3d": [
           {
            "colorbar": {
             "outlinewidth": 0,
             "ticks": ""
            },
            "type": "mesh3d"
           }
          ],
          "parcoords": [
           {
            "line": {
             "colorbar": {
              "outlinewidth": 0,
              "ticks": ""
             }
            },
            "type": "parcoords"
           }
          ],
          "pie": [
           {
            "automargin": true,
            "type": "pie"
           }
          ],
          "scatter": [
           {
            "fillpattern": {
             "fillmode": "overlay",
             "size": 10,
             "solidity": 0.2
            },
            "type": "scatter"
           }
          ],
          "scatter3d": [
           {
            "line": {
             "colorbar": {
              "outlinewidth": 0,
              "ticks": ""
             }
            },
            "marker": {
             "colorbar": {
              "outlinewidth": 0,
              "ticks": ""
             }
            },
            "type": "scatter3d"
           }
          ],
          "scattercarpet": [
           {
            "marker": {
             "colorbar": {
              "outlinewidth": 0,
              "ticks": ""
             }
            },
            "type": "scattercarpet"
           }
          ],
          "scattergeo": [
           {
            "marker": {
             "colorbar": {
              "outlinewidth": 0,
              "ticks": ""
             }
            },
            "type": "scattergeo"
           }
          ],
          "scattergl": [
           {
            "marker": {
             "colorbar": {
              "outlinewidth": 0,
              "ticks": ""
             }
            },
            "type": "scattergl"
           }
          ],
          "scattermapbox": [
           {
            "marker": {
             "colorbar": {
              "outlinewidth": 0,
              "ticks": ""
             }
            },
            "type": "scattermapbox"
           }
          ],
          "scatterpolar": [
           {
            "marker": {
             "colorbar": {
              "outlinewidth": 0,
              "ticks": ""
             }
            },
            "type": "scatterpolar"
           }
          ],
          "scatterpolargl": [
           {
            "marker": {
             "colorbar": {
              "outlinewidth": 0,
              "ticks": ""
             }
            },
            "type": "scatterpolargl"
           }
          ],
          "scatterternary": [
           {
            "marker": {
             "colorbar": {
              "outlinewidth": 0,
              "ticks": ""
             }
            },
            "type": "scatterternary"
           }
          ],
          "surface": [
           {
            "colorbar": {
             "outlinewidth": 0,
             "ticks": ""
            },
            "colorscale": [
             [
              0,
              "#0d0887"
             ],
             [
              0.1111111111111111,
              "#46039f"
             ],
             [
              0.2222222222222222,
              "#7201a8"
             ],
             [
              0.3333333333333333,
              "#9c179e"
             ],
             [
              0.4444444444444444,
              "#bd3786"
             ],
             [
              0.5555555555555556,
              "#d8576b"
             ],
             [
              0.6666666666666666,
              "#ed7953"
             ],
             [
              0.7777777777777778,
              "#fb9f3a"
             ],
             [
              0.8888888888888888,
              "#fdca26"
             ],
             [
              1,
              "#f0f921"
             ]
            ],
            "type": "surface"
           }
          ],
          "table": [
           {
            "cells": {
             "fill": {
              "color": "#EBF0F8"
             },
             "line": {
              "color": "white"
             }
            },
            "header": {
             "fill": {
              "color": "#C8D4E3"
             },
             "line": {
              "color": "white"
             }
            },
            "type": "table"
           }
          ]
         },
         "layout": {
          "annotationdefaults": {
           "arrowcolor": "#2a3f5f",
           "arrowhead": 0,
           "arrowwidth": 1
          },
          "autotypenumbers": "strict",
          "coloraxis": {
           "colorbar": {
            "outlinewidth": 0,
            "ticks": ""
           }
          },
          "colorscale": {
           "diverging": [
            [
             0,
             "#8e0152"
            ],
            [
             0.1,
             "#c51b7d"
            ],
            [
             0.2,
             "#de77ae"
            ],
            [
             0.3,
             "#f1b6da"
            ],
            [
             0.4,
             "#fde0ef"
            ],
            [
             0.5,
             "#f7f7f7"
            ],
            [
             0.6,
             "#e6f5d0"
            ],
            [
             0.7,
             "#b8e186"
            ],
            [
             0.8,
             "#7fbc41"
            ],
            [
             0.9,
             "#4d9221"
            ],
            [
             1,
             "#276419"
            ]
           ],
           "sequential": [
            [
             0,
             "#0d0887"
            ],
            [
             0.1111111111111111,
             "#46039f"
            ],
            [
             0.2222222222222222,
             "#7201a8"
            ],
            [
             0.3333333333333333,
             "#9c179e"
            ],
            [
             0.4444444444444444,
             "#bd3786"
            ],
            [
             0.5555555555555556,
             "#d8576b"
            ],
            [
             0.6666666666666666,
             "#ed7953"
            ],
            [
             0.7777777777777778,
             "#fb9f3a"
            ],
            [
             0.8888888888888888,
             "#fdca26"
            ],
            [
             1,
             "#f0f921"
            ]
           ],
           "sequentialminus": [
            [
             0,
             "#0d0887"
            ],
            [
             0.1111111111111111,
             "#46039f"
            ],
            [
             0.2222222222222222,
             "#7201a8"
            ],
            [
             0.3333333333333333,
             "#9c179e"
            ],
            [
             0.4444444444444444,
             "#bd3786"
            ],
            [
             0.5555555555555556,
             "#d8576b"
            ],
            [
             0.6666666666666666,
             "#ed7953"
            ],
            [
             0.7777777777777778,
             "#fb9f3a"
            ],
            [
             0.8888888888888888,
             "#fdca26"
            ],
            [
             1,
             "#f0f921"
            ]
           ]
          },
          "colorway": [
           "#636efa",
           "#EF553B",
           "#00cc96",
           "#ab63fa",
           "#FFA15A",
           "#19d3f3",
           "#FF6692",
           "#B6E880",
           "#FF97FF",
           "#FECB52"
          ],
          "font": {
           "color": "#2a3f5f"
          },
          "geo": {
           "bgcolor": "white",
           "lakecolor": "white",
           "landcolor": "#E5ECF6",
           "showlakes": true,
           "showland": true,
           "subunitcolor": "white"
          },
          "hoverlabel": {
           "align": "left"
          },
          "hovermode": "closest",
          "mapbox": {
           "style": "light"
          },
          "paper_bgcolor": "white",
          "plot_bgcolor": "#E5ECF6",
          "polar": {
           "angularaxis": {
            "gridcolor": "white",
            "linecolor": "white",
            "ticks": ""
           },
           "bgcolor": "#E5ECF6",
           "radialaxis": {
            "gridcolor": "white",
            "linecolor": "white",
            "ticks": ""
           }
          },
          "scene": {
           "xaxis": {
            "backgroundcolor": "#E5ECF6",
            "gridcolor": "white",
            "gridwidth": 2,
            "linecolor": "white",
            "showbackground": true,
            "ticks": "",
            "zerolinecolor": "white"
           },
           "yaxis": {
            "backgroundcolor": "#E5ECF6",
            "gridcolor": "white",
            "gridwidth": 2,
            "linecolor": "white",
            "showbackground": true,
            "ticks": "",
            "zerolinecolor": "white"
           },
           "zaxis": {
            "backgroundcolor": "#E5ECF6",
            "gridcolor": "white",
            "gridwidth": 2,
            "linecolor": "white",
            "showbackground": true,
            "ticks": "",
            "zerolinecolor": "white"
           }
          },
          "shapedefaults": {
           "line": {
            "color": "#2a3f5f"
           }
          },
          "ternary": {
           "aaxis": {
            "gridcolor": "white",
            "linecolor": "white",
            "ticks": ""
           },
           "baxis": {
            "gridcolor": "white",
            "linecolor": "white",
            "ticks": ""
           },
           "bgcolor": "#E5ECF6",
           "caxis": {
            "gridcolor": "white",
            "linecolor": "white",
            "ticks": ""
           }
          },
          "title": {
           "x": 0.05
          },
          "xaxis": {
           "automargin": true,
           "gridcolor": "white",
           "linecolor": "white",
           "ticks": "",
           "title": {
            "standoff": 15
           },
           "zerolinecolor": "white",
           "zerolinewidth": 2
          },
          "yaxis": {
           "automargin": true,
           "gridcolor": "white",
           "linecolor": "white",
           "ticks": "",
           "title": {
            "standoff": 15
           },
           "zerolinecolor": "white",
           "zerolinewidth": 2
          }
         }
        },
        "title": {
         "text": "Clamp london"
        },
        "xaxis": {
         "anchor": "y",
         "domain": [
          0,
          1
         ],
         "title": {
          "text": "Index"
         }
        },
        "yaxis": {
         "anchor": "x",
         "domain": [
          0,
          1
         ],
         "title": {
          "text": "Average Score"
         }
        }
       }
      },
      "text/html": [
       "<div>                            <div id=\"1b407f75-0bbe-436f-99e9-72bfeb8d172d\" class=\"plotly-graph-div\" style=\"height:525px; width:100%;\"></div>            <script type=\"text/javascript\">                require([\"plotly\"], function(Plotly) {                    window.PLOTLYENV=window.PLOTLYENV || {};                                    if (document.getElementById(\"1b407f75-0bbe-436f-99e9-72bfeb8d172d\")) {                    Plotly.newPlot(                        \"1b407f75-0bbe-436f-99e9-72bfeb8d172d\",                        [{\"hovertemplate\":\"Metric=Coherence Averages\\u003cbr\\u003eIndex=%{x}\\u003cbr\\u003eAverage Score=%{y}\\u003cextra\\u003e\\u003c\\u002fextra\\u003e\",\"legendgroup\":\"Coherence Averages\",\"line\":{\"color\":\"#636efa\",\"dash\":\"solid\",\"shape\":\"linear\"},\"marker\":{\"symbol\":\"circle\"},\"mode\":\"lines\",\"name\":\"Coherence Averages\",\"orientation\":\"v\",\"showlegend\":true,\"x\":[0,1,2,3,4,5,6,7,8,9,10,11],\"xaxis\":\"x\",\"y\":[6.839285714285714,6.357142857142857,4.8125,5.008928571428571,4.232142857142857,3.8660714285714284,3.2857142857142856,2.830357142857143,2.6517857142857144,3.125,3.017857142857143,2.982142857142857],\"yaxis\":\"y\",\"type\":\"scatter\"},{\"hovertemplate\":\"Metric=Evaluation Averages\\u003cbr\\u003eIndex=%{x}\\u003cbr\\u003eAverage Score=%{y}\\u003cextra\\u003e\\u003c\\u002fextra\\u003e\",\"legendgroup\":\"Evaluation Averages\",\"line\":{\"color\":\"#EF553B\",\"dash\":\"solid\",\"shape\":\"linear\"},\"marker\":{\"symbol\":\"circle\"},\"mode\":\"lines\",\"name\":\"Evaluation Averages\",\"orientation\":\"v\",\"showlegend\":true,\"x\":[0,1,2,3,4,5,6,7,8,9,10,11],\"xaxis\":\"x\",\"y\":[3.6517857142857144,4.633928571428571,5.419642857142857,6.544642857142857,7.169642857142857,7.758928571428571,8.098214285714286,8.794642857142858,8.473214285714286,8.616071428571429,8.383928571428571,8.651785714285714],\"yaxis\":\"y\",\"type\":\"scatter\"}],                        {\"template\":{\"data\":{\"histogram2dcontour\":[{\"type\":\"histogram2dcontour\",\"colorbar\":{\"outlinewidth\":0,\"ticks\":\"\"},\"colorscale\":[[0.0,\"#0d0887\"],[0.1111111111111111,\"#46039f\"],[0.2222222222222222,\"#7201a8\"],[0.3333333333333333,\"#9c179e\"],[0.4444444444444444,\"#bd3786\"],[0.5555555555555556,\"#d8576b\"],[0.6666666666666666,\"#ed7953\"],[0.7777777777777778,\"#fb9f3a\"],[0.8888888888888888,\"#fdca26\"],[1.0,\"#f0f921\"]]}],\"choropleth\":[{\"type\":\"choropleth\",\"colorbar\":{\"outlinewidth\":0,\"ticks\":\"\"}}],\"histogram2d\":[{\"type\":\"histogram2d\",\"colorbar\":{\"outlinewidth\":0,\"ticks\":\"\"},\"colorscale\":[[0.0,\"#0d0887\"],[0.1111111111111111,\"#46039f\"],[0.2222222222222222,\"#7201a8\"],[0.3333333333333333,\"#9c179e\"],[0.4444444444444444,\"#bd3786\"],[0.5555555555555556,\"#d8576b\"],[0.6666666666666666,\"#ed7953\"],[0.7777777777777778,\"#fb9f3a\"],[0.8888888888888888,\"#fdca26\"],[1.0,\"#f0f921\"]]}],\"heatmap\":[{\"type\":\"heatmap\",\"colorbar\":{\"outlinewidth\":0,\"ticks\":\"\"},\"colorscale\":[[0.0,\"#0d0887\"],[0.1111111111111111,\"#46039f\"],[0.2222222222222222,\"#7201a8\"],[0.3333333333333333,\"#9c179e\"],[0.4444444444444444,\"#bd3786\"],[0.5555555555555556,\"#d8576b\"],[0.6666666666666666,\"#ed7953\"],[0.7777777777777778,\"#fb9f3a\"],[0.8888888888888888,\"#fdca26\"],[1.0,\"#f0f921\"]]}],\"heatmapgl\":[{\"type\":\"heatmapgl\",\"colorbar\":{\"outlinewidth\":0,\"ticks\":\"\"},\"colorscale\":[[0.0,\"#0d0887\"],[0.1111111111111111,\"#46039f\"],[0.2222222222222222,\"#7201a8\"],[0.3333333333333333,\"#9c179e\"],[0.4444444444444444,\"#bd3786\"],[0.5555555555555556,\"#d8576b\"],[0.6666666666666666,\"#ed7953\"],[0.7777777777777778,\"#fb9f3a\"],[0.8888888888888888,\"#fdca26\"],[1.0,\"#f0f921\"]]}],\"contourcarpet\":[{\"type\":\"contourcarpet\",\"colorbar\":{\"outlinewidth\":0,\"ticks\":\"\"}}],\"contour\":[{\"type\":\"contour\",\"colorbar\":{\"outlinewidth\":0,\"ticks\":\"\"},\"colorscale\":[[0.0,\"#0d0887\"],[0.1111111111111111,\"#46039f\"],[0.2222222222222222,\"#7201a8\"],[0.3333333333333333,\"#9c179e\"],[0.4444444444444444,\"#bd3786\"],[0.5555555555555556,\"#d8576b\"],[0.6666666666666666,\"#ed7953\"],[0.7777777777777778,\"#fb9f3a\"],[0.8888888888888888,\"#fdca26\"],[1.0,\"#f0f921\"]]}],\"surface\":[{\"type\":\"surface\",\"colorbar\":{\"outlinewidth\":0,\"ticks\":\"\"},\"colorscale\":[[0.0,\"#0d0887\"],[0.1111111111111111,\"#46039f\"],[0.2222222222222222,\"#7201a8\"],[0.3333333333333333,\"#9c179e\"],[0.4444444444444444,\"#bd3786\"],[0.5555555555555556,\"#d8576b\"],[0.6666666666666666,\"#ed7953\"],[0.7777777777777778,\"#fb9f3a\"],[0.8888888888888888,\"#fdca26\"],[1.0,\"#f0f921\"]]}],\"mesh3d\":[{\"type\":\"mesh3d\",\"colorbar\":{\"outlinewidth\":0,\"ticks\":\"\"}}],\"scatter\":[{\"fillpattern\":{\"fillmode\":\"overlay\",\"size\":10,\"solidity\":0.2},\"type\":\"scatter\"}],\"parcoords\":[{\"type\":\"parcoords\",\"line\":{\"colorbar\":{\"outlinewidth\":0,\"ticks\":\"\"}}}],\"scatterpolargl\":[{\"type\":\"scatterpolargl\",\"marker\":{\"colorbar\":{\"outlinewidth\":0,\"ticks\":\"\"}}}],\"bar\":[{\"error_x\":{\"color\":\"#2a3f5f\"},\"error_y\":{\"color\":\"#2a3f5f\"},\"marker\":{\"line\":{\"color\":\"#E5ECF6\",\"width\":0.5},\"pattern\":{\"fillmode\":\"overlay\",\"size\":10,\"solidity\":0.2}},\"type\":\"bar\"}],\"scattergeo\":[{\"type\":\"scattergeo\",\"marker\":{\"colorbar\":{\"outlinewidth\":0,\"ticks\":\"\"}}}],\"scatterpolar\":[{\"type\":\"scatterpolar\",\"marker\":{\"colorbar\":{\"outlinewidth\":0,\"ticks\":\"\"}}}],\"histogram\":[{\"marker\":{\"pattern\":{\"fillmode\":\"overlay\",\"size\":10,\"solidity\":0.2}},\"type\":\"histogram\"}],\"scattergl\":[{\"type\":\"scattergl\",\"marker\":{\"colorbar\":{\"outlinewidth\":0,\"ticks\":\"\"}}}],\"scatter3d\":[{\"type\":\"scatter3d\",\"line\":{\"colorbar\":{\"outlinewidth\":0,\"ticks\":\"\"}},\"marker\":{\"colorbar\":{\"outlinewidth\":0,\"ticks\":\"\"}}}],\"scattermapbox\":[{\"type\":\"scattermapbox\",\"marker\":{\"colorbar\":{\"outlinewidth\":0,\"ticks\":\"\"}}}],\"scatterternary\":[{\"type\":\"scatterternary\",\"marker\":{\"colorbar\":{\"outlinewidth\":0,\"ticks\":\"\"}}}],\"scattercarpet\":[{\"type\":\"scattercarpet\",\"marker\":{\"colorbar\":{\"outlinewidth\":0,\"ticks\":\"\"}}}],\"carpet\":[{\"aaxis\":{\"endlinecolor\":\"#2a3f5f\",\"gridcolor\":\"white\",\"linecolor\":\"white\",\"minorgridcolor\":\"white\",\"startlinecolor\":\"#2a3f5f\"},\"baxis\":{\"endlinecolor\":\"#2a3f5f\",\"gridcolor\":\"white\",\"linecolor\":\"white\",\"minorgridcolor\":\"white\",\"startlinecolor\":\"#2a3f5f\"},\"type\":\"carpet\"}],\"table\":[{\"cells\":{\"fill\":{\"color\":\"#EBF0F8\"},\"line\":{\"color\":\"white\"}},\"header\":{\"fill\":{\"color\":\"#C8D4E3\"},\"line\":{\"color\":\"white\"}},\"type\":\"table\"}],\"barpolar\":[{\"marker\":{\"line\":{\"color\":\"#E5ECF6\",\"width\":0.5},\"pattern\":{\"fillmode\":\"overlay\",\"size\":10,\"solidity\":0.2}},\"type\":\"barpolar\"}],\"pie\":[{\"automargin\":true,\"type\":\"pie\"}]},\"layout\":{\"autotypenumbers\":\"strict\",\"colorway\":[\"#636efa\",\"#EF553B\",\"#00cc96\",\"#ab63fa\",\"#FFA15A\",\"#19d3f3\",\"#FF6692\",\"#B6E880\",\"#FF97FF\",\"#FECB52\"],\"font\":{\"color\":\"#2a3f5f\"},\"hovermode\":\"closest\",\"hoverlabel\":{\"align\":\"left\"},\"paper_bgcolor\":\"white\",\"plot_bgcolor\":\"#E5ECF6\",\"polar\":{\"bgcolor\":\"#E5ECF6\",\"angularaxis\":{\"gridcolor\":\"white\",\"linecolor\":\"white\",\"ticks\":\"\"},\"radialaxis\":{\"gridcolor\":\"white\",\"linecolor\":\"white\",\"ticks\":\"\"}},\"ternary\":{\"bgcolor\":\"#E5ECF6\",\"aaxis\":{\"gridcolor\":\"white\",\"linecolor\":\"white\",\"ticks\":\"\"},\"baxis\":{\"gridcolor\":\"white\",\"linecolor\":\"white\",\"ticks\":\"\"},\"caxis\":{\"gridcolor\":\"white\",\"linecolor\":\"white\",\"ticks\":\"\"}},\"coloraxis\":{\"colorbar\":{\"outlinewidth\":0,\"ticks\":\"\"}},\"colorscale\":{\"sequential\":[[0.0,\"#0d0887\"],[0.1111111111111111,\"#46039f\"],[0.2222222222222222,\"#7201a8\"],[0.3333333333333333,\"#9c179e\"],[0.4444444444444444,\"#bd3786\"],[0.5555555555555556,\"#d8576b\"],[0.6666666666666666,\"#ed7953\"],[0.7777777777777778,\"#fb9f3a\"],[0.8888888888888888,\"#fdca26\"],[1.0,\"#f0f921\"]],\"sequentialminus\":[[0.0,\"#0d0887\"],[0.1111111111111111,\"#46039f\"],[0.2222222222222222,\"#7201a8\"],[0.3333333333333333,\"#9c179e\"],[0.4444444444444444,\"#bd3786\"],[0.5555555555555556,\"#d8576b\"],[0.6666666666666666,\"#ed7953\"],[0.7777777777777778,\"#fb9f3a\"],[0.8888888888888888,\"#fdca26\"],[1.0,\"#f0f921\"]],\"diverging\":[[0,\"#8e0152\"],[0.1,\"#c51b7d\"],[0.2,\"#de77ae\"],[0.3,\"#f1b6da\"],[0.4,\"#fde0ef\"],[0.5,\"#f7f7f7\"],[0.6,\"#e6f5d0\"],[0.7,\"#b8e186\"],[0.8,\"#7fbc41\"],[0.9,\"#4d9221\"],[1,\"#276419\"]]},\"xaxis\":{\"gridcolor\":\"white\",\"linecolor\":\"white\",\"ticks\":\"\",\"title\":{\"standoff\":15},\"zerolinecolor\":\"white\",\"automargin\":true,\"zerolinewidth\":2},\"yaxis\":{\"gridcolor\":\"white\",\"linecolor\":\"white\",\"ticks\":\"\",\"title\":{\"standoff\":15},\"zerolinecolor\":\"white\",\"automargin\":true,\"zerolinewidth\":2},\"scene\":{\"xaxis\":{\"backgroundcolor\":\"#E5ECF6\",\"gridcolor\":\"white\",\"linecolor\":\"white\",\"showbackground\":true,\"ticks\":\"\",\"zerolinecolor\":\"white\",\"gridwidth\":2},\"yaxis\":{\"backgroundcolor\":\"#E5ECF6\",\"gridcolor\":\"white\",\"linecolor\":\"white\",\"showbackground\":true,\"ticks\":\"\",\"zerolinecolor\":\"white\",\"gridwidth\":2},\"zaxis\":{\"backgroundcolor\":\"#E5ECF6\",\"gridcolor\":\"white\",\"linecolor\":\"white\",\"showbackground\":true,\"ticks\":\"\",\"zerolinecolor\":\"white\",\"gridwidth\":2}},\"shapedefaults\":{\"line\":{\"color\":\"#2a3f5f\"}},\"annotationdefaults\":{\"arrowcolor\":\"#2a3f5f\",\"arrowhead\":0,\"arrowwidth\":1},\"geo\":{\"bgcolor\":\"white\",\"landcolor\":\"#E5ECF6\",\"subunitcolor\":\"white\",\"showland\":true,\"showlakes\":true,\"lakecolor\":\"white\"},\"title\":{\"x\":0.05},\"mapbox\":{\"style\":\"light\"}}},\"xaxis\":{\"anchor\":\"y\",\"domain\":[0.0,1.0],\"title\":{\"text\":\"Index\"}},\"yaxis\":{\"anchor\":\"x\",\"domain\":[0.0,1.0],\"title\":{\"text\":\"Average Score\"}},\"legend\":{\"title\":{\"text\":\"Metric\"},\"tracegroupgap\":0},\"title\":{\"text\":\"Clamp london\"},\"font\":{\"size\":12}},                        {\"responsive\": true}                    ).then(function(){\n",
       "                            \n",
       "var gd = document.getElementById('1b407f75-0bbe-436f-99e9-72bfeb8d172d');\n",
       "var x = new MutationObserver(function (mutations, observer) {{\n",
       "        var display = window.getComputedStyle(gd).display;\n",
       "        if (!display || display === 'none') {{\n",
       "            console.log([gd, 'removed!']);\n",
       "            Plotly.purge(gd);\n",
       "            observer.disconnect();\n",
       "        }}\n",
       "}});\n",
       "\n",
       "// Listen for the removal of the full notebook cells\n",
       "var notebookContainer = gd.closest('#notebook-container');\n",
       "if (notebookContainer) {{\n",
       "    x.observe(notebookContainer, {childList: true});\n",
       "}}\n",
       "\n",
       "// Listen for the clearing of the current output cell\n",
       "var outputEl = gd.closest('.output');\n",
       "if (outputEl) {{\n",
       "    x.observe(outputEl, {childList: true});\n",
       "}}\n",
       "\n",
       "                        })                };                });            </script>        </div>"
      ]
     },
     "metadata": {},
     "output_type": "display_data"
    }
   ],
   "source": [
    "\n",
    "# Create a DataFrame from the data\n",
    "df = pd.DataFrame({\n",
    "    'index': range(len(c_coherence_averages)),\n",
    "    'Coherence Averages': c_coherence_averages,\n",
    "    'Evaluation Averages': c_eval_averages\n",
    "})\n",
    "\n",
    "# Melt the DataFrame to create a \"long\" format suitable for plotting\n",
    "df_melted = df.melt(id_vars=['index'], var_name='Metric', value_name='Score')\n",
    "\n",
    "# Create the line plot\n",
    "fig = px.line(df_melted, x='index', y='Score', color='Metric',\n",
    "              title=f'Clamp {steer_name}',\n",
    "              labels={'index': 'Index', 'Score': 'Average Score'},\n",
    "              line_shape='linear', render_mode='svg')\n",
    "\n",
    "# Update layout for better readability\n",
    "fig.update_layout(\n",
    "    xaxis_title='Index',\n",
    "    yaxis_title='Average Score',\n",
    "    legend_title='Metric',\n",
    "    font=dict(size=12)\n",
    ")\n",
    "\n",
    "# Show the plot\n",
    "fig.show()"
   ]
  },
  {
   "cell_type": "code",
   "execution_count": 39,
   "metadata": {},
   "outputs": [
    {
     "data": {
      "application/vnd.plotly.v1+json": {
       "config": {
        "plotlyServerURL": "https://plot.ly"
       },
       "data": [
        {
         "hovertemplate": "Metric=Coherence<br>Type=Add<br>Index=%{x}<br>Average Score=%{y}<extra></extra>",
         "legendgroup": "Coherence, Add",
         "line": {
          "color": "#636efa",
          "dash": "solid",
          "shape": "linear"
         },
         "marker": {
          "symbol": "circle"
         },
         "mode": "lines",
         "name": "Coherence, Add",
         "orientation": "v",
         "showlegend": true,
         "type": "scatter",
         "x": [
          0,
          1,
          2,
          3,
          4,
          5,
          6,
          7,
          8,
          9,
          10,
          11
         ],
         "xaxis": "x",
         "y": [
          7.2405063291139244,
          6.227848101265823,
          5.746835443037975,
          4.69620253164557,
          4.569620253164557,
          4.215189873417722,
          3.5949367088607596,
          3.569620253164557,
          3.5822784810126582,
          3.0759493670886076,
          3.037974683544304,
          2.7721518987341773
         ],
         "yaxis": "y"
        },
        {
         "hovertemplate": "Metric=Coherence<br>Type=Clamp<br>Index=%{x}<br>Average Score=%{y}<extra></extra>",
         "legendgroup": "Coherence, Clamp",
         "line": {
          "color": "#636efa",
          "dash": "dot",
          "shape": "linear"
         },
         "marker": {
          "symbol": "circle"
         },
         "mode": "lines",
         "name": "Coherence, Clamp",
         "orientation": "v",
         "showlegend": true,
         "type": "scatter",
         "x": [
          0,
          1,
          2,
          3,
          4,
          5,
          6,
          7,
          8,
          9,
          10,
          11
         ],
         "xaxis": "x",
         "y": [
          6.839285714285714,
          6.357142857142857,
          4.8125,
          5.008928571428571,
          4.232142857142857,
          3.8660714285714284,
          3.2857142857142856,
          2.830357142857143,
          2.6517857142857144,
          3.125,
          3.017857142857143,
          2.982142857142857
         ],
         "yaxis": "y"
        },
        {
         "hovertemplate": "Metric=Evaluation<br>Type=Add<br>Index=%{x}<br>Average Score=%{y}<extra></extra>",
         "legendgroup": "Evaluation, Add",
         "line": {
          "color": "#EF553B",
          "dash": "solid",
          "shape": "linear"
         },
         "marker": {
          "symbol": "circle"
         },
         "mode": "lines",
         "name": "Evaluation, Add",
         "orientation": "v",
         "showlegend": true,
         "type": "scatter",
         "x": [
          0,
          1,
          2,
          3,
          4,
          5,
          6,
          7,
          8,
          9,
          10,
          11
         ],
         "xaxis": "x",
         "y": [
          4,
          4.3544303797468356,
          5.151898734177215,
          5.329113924050633,
          6.987341772151899,
          7.3924050632911396,
          7.7974683544303796,
          7.89873417721519,
          8.253164556962025,
          8.341772151898734,
          7.8734177215189876,
          8.126582278481013
         ],
         "yaxis": "y"
        },
        {
         "hovertemplate": "Metric=Evaluation<br>Type=Clamp<br>Index=%{x}<br>Average Score=%{y}<extra></extra>",
         "legendgroup": "Evaluation, Clamp",
         "line": {
          "color": "#EF553B",
          "dash": "dot",
          "shape": "linear"
         },
         "marker": {
          "symbol": "circle"
         },
         "mode": "lines",
         "name": "Evaluation, Clamp",
         "orientation": "v",
         "showlegend": true,
         "type": "scatter",
         "x": [
          0,
          1,
          2,
          3,
          4,
          5,
          6,
          7,
          8,
          9,
          10,
          11
         ],
         "xaxis": "x",
         "y": [
          3.6517857142857144,
          4.633928571428571,
          5.419642857142857,
          6.544642857142857,
          7.169642857142857,
          7.758928571428571,
          8.098214285714286,
          8.794642857142858,
          8.473214285714286,
          8.616071428571429,
          8.383928571428571,
          8.651785714285714
         ],
         "yaxis": "y"
        }
       ],
       "layout": {
        "font": {
         "size": 12
        },
        "legend": {
         "title": {
          "text": "Metric and Type"
         },
         "tracegroupgap": 0
        },
        "template": {
         "data": {
          "bar": [
           {
            "error_x": {
             "color": "#2a3f5f"
            },
            "error_y": {
             "color": "#2a3f5f"
            },
            "marker": {
             "line": {
              "color": "#E5ECF6",
              "width": 0.5
             },
             "pattern": {
              "fillmode": "overlay",
              "size": 10,
              "solidity": 0.2
             }
            },
            "type": "bar"
           }
          ],
          "barpolar": [
           {
            "marker": {
             "line": {
              "color": "#E5ECF6",
              "width": 0.5
             },
             "pattern": {
              "fillmode": "overlay",
              "size": 10,
              "solidity": 0.2
             }
            },
            "type": "barpolar"
           }
          ],
          "carpet": [
           {
            "aaxis": {
             "endlinecolor": "#2a3f5f",
             "gridcolor": "white",
             "linecolor": "white",
             "minorgridcolor": "white",
             "startlinecolor": "#2a3f5f"
            },
            "baxis": {
             "endlinecolor": "#2a3f5f",
             "gridcolor": "white",
             "linecolor": "white",
             "minorgridcolor": "white",
             "startlinecolor": "#2a3f5f"
            },
            "type": "carpet"
           }
          ],
          "choropleth": [
           {
            "colorbar": {
             "outlinewidth": 0,
             "ticks": ""
            },
            "type": "choropleth"
           }
          ],
          "contour": [
           {
            "colorbar": {
             "outlinewidth": 0,
             "ticks": ""
            },
            "colorscale": [
             [
              0,
              "#0d0887"
             ],
             [
              0.1111111111111111,
              "#46039f"
             ],
             [
              0.2222222222222222,
              "#7201a8"
             ],
             [
              0.3333333333333333,
              "#9c179e"
             ],
             [
              0.4444444444444444,
              "#bd3786"
             ],
             [
              0.5555555555555556,
              "#d8576b"
             ],
             [
              0.6666666666666666,
              "#ed7953"
             ],
             [
              0.7777777777777778,
              "#fb9f3a"
             ],
             [
              0.8888888888888888,
              "#fdca26"
             ],
             [
              1,
              "#f0f921"
             ]
            ],
            "type": "contour"
           }
          ],
          "contourcarpet": [
           {
            "colorbar": {
             "outlinewidth": 0,
             "ticks": ""
            },
            "type": "contourcarpet"
           }
          ],
          "heatmap": [
           {
            "colorbar": {
             "outlinewidth": 0,
             "ticks": ""
            },
            "colorscale": [
             [
              0,
              "#0d0887"
             ],
             [
              0.1111111111111111,
              "#46039f"
             ],
             [
              0.2222222222222222,
              "#7201a8"
             ],
             [
              0.3333333333333333,
              "#9c179e"
             ],
             [
              0.4444444444444444,
              "#bd3786"
             ],
             [
              0.5555555555555556,
              "#d8576b"
             ],
             [
              0.6666666666666666,
              "#ed7953"
             ],
             [
              0.7777777777777778,
              "#fb9f3a"
             ],
             [
              0.8888888888888888,
              "#fdca26"
             ],
             [
              1,
              "#f0f921"
             ]
            ],
            "type": "heatmap"
           }
          ],
          "heatmapgl": [
           {
            "colorbar": {
             "outlinewidth": 0,
             "ticks": ""
            },
            "colorscale": [
             [
              0,
              "#0d0887"
             ],
             [
              0.1111111111111111,
              "#46039f"
             ],
             [
              0.2222222222222222,
              "#7201a8"
             ],
             [
              0.3333333333333333,
              "#9c179e"
             ],
             [
              0.4444444444444444,
              "#bd3786"
             ],
             [
              0.5555555555555556,
              "#d8576b"
             ],
             [
              0.6666666666666666,
              "#ed7953"
             ],
             [
              0.7777777777777778,
              "#fb9f3a"
             ],
             [
              0.8888888888888888,
              "#fdca26"
             ],
             [
              1,
              "#f0f921"
             ]
            ],
            "type": "heatmapgl"
           }
          ],
          "histogram": [
           {
            "marker": {
             "pattern": {
              "fillmode": "overlay",
              "size": 10,
              "solidity": 0.2
             }
            },
            "type": "histogram"
           }
          ],
          "histogram2d": [
           {
            "colorbar": {
             "outlinewidth": 0,
             "ticks": ""
            },
            "colorscale": [
             [
              0,
              "#0d0887"
             ],
             [
              0.1111111111111111,
              "#46039f"
             ],
             [
              0.2222222222222222,
              "#7201a8"
             ],
             [
              0.3333333333333333,
              "#9c179e"
             ],
             [
              0.4444444444444444,
              "#bd3786"
             ],
             [
              0.5555555555555556,
              "#d8576b"
             ],
             [
              0.6666666666666666,
              "#ed7953"
             ],
             [
              0.7777777777777778,
              "#fb9f3a"
             ],
             [
              0.8888888888888888,
              "#fdca26"
             ],
             [
              1,
              "#f0f921"
             ]
            ],
            "type": "histogram2d"
           }
          ],
          "histogram2dcontour": [
           {
            "colorbar": {
             "outlinewidth": 0,
             "ticks": ""
            },
            "colorscale": [
             [
              0,
              "#0d0887"
             ],
             [
              0.1111111111111111,
              "#46039f"
             ],
             [
              0.2222222222222222,
              "#7201a8"
             ],
             [
              0.3333333333333333,
              "#9c179e"
             ],
             [
              0.4444444444444444,
              "#bd3786"
             ],
             [
              0.5555555555555556,
              "#d8576b"
             ],
             [
              0.6666666666666666,
              "#ed7953"
             ],
             [
              0.7777777777777778,
              "#fb9f3a"
             ],
             [
              0.8888888888888888,
              "#fdca26"
             ],
             [
              1,
              "#f0f921"
             ]
            ],
            "type": "histogram2dcontour"
           }
          ],
          "mesh3d": [
           {
            "colorbar": {
             "outlinewidth": 0,
             "ticks": ""
            },
            "type": "mesh3d"
           }
          ],
          "parcoords": [
           {
            "line": {
             "colorbar": {
              "outlinewidth": 0,
              "ticks": ""
             }
            },
            "type": "parcoords"
           }
          ],
          "pie": [
           {
            "automargin": true,
            "type": "pie"
           }
          ],
          "scatter": [
           {
            "fillpattern": {
             "fillmode": "overlay",
             "size": 10,
             "solidity": 0.2
            },
            "type": "scatter"
           }
          ],
          "scatter3d": [
           {
            "line": {
             "colorbar": {
              "outlinewidth": 0,
              "ticks": ""
             }
            },
            "marker": {
             "colorbar": {
              "outlinewidth": 0,
              "ticks": ""
             }
            },
            "type": "scatter3d"
           }
          ],
          "scattercarpet": [
           {
            "marker": {
             "colorbar": {
              "outlinewidth": 0,
              "ticks": ""
             }
            },
            "type": "scattercarpet"
           }
          ],
          "scattergeo": [
           {
            "marker": {
             "colorbar": {
              "outlinewidth": 0,
              "ticks": ""
             }
            },
            "type": "scattergeo"
           }
          ],
          "scattergl": [
           {
            "marker": {
             "colorbar": {
              "outlinewidth": 0,
              "ticks": ""
             }
            },
            "type": "scattergl"
           }
          ],
          "scattermapbox": [
           {
            "marker": {
             "colorbar": {
              "outlinewidth": 0,
              "ticks": ""
             }
            },
            "type": "scattermapbox"
           }
          ],
          "scatterpolar": [
           {
            "marker": {
             "colorbar": {
              "outlinewidth": 0,
              "ticks": ""
             }
            },
            "type": "scatterpolar"
           }
          ],
          "scatterpolargl": [
           {
            "marker": {
             "colorbar": {
              "outlinewidth": 0,
              "ticks": ""
             }
            },
            "type": "scatterpolargl"
           }
          ],
          "scatterternary": [
           {
            "marker": {
             "colorbar": {
              "outlinewidth": 0,
              "ticks": ""
             }
            },
            "type": "scatterternary"
           }
          ],
          "surface": [
           {
            "colorbar": {
             "outlinewidth": 0,
             "ticks": ""
            },
            "colorscale": [
             [
              0,
              "#0d0887"
             ],
             [
              0.1111111111111111,
              "#46039f"
             ],
             [
              0.2222222222222222,
              "#7201a8"
             ],
             [
              0.3333333333333333,
              "#9c179e"
             ],
             [
              0.4444444444444444,
              "#bd3786"
             ],
             [
              0.5555555555555556,
              "#d8576b"
             ],
             [
              0.6666666666666666,
              "#ed7953"
             ],
             [
              0.7777777777777778,
              "#fb9f3a"
             ],
             [
              0.8888888888888888,
              "#fdca26"
             ],
             [
              1,
              "#f0f921"
             ]
            ],
            "type": "surface"
           }
          ],
          "table": [
           {
            "cells": {
             "fill": {
              "color": "#EBF0F8"
             },
             "line": {
              "color": "white"
             }
            },
            "header": {
             "fill": {
              "color": "#C8D4E3"
             },
             "line": {
              "color": "white"
             }
            },
            "type": "table"
           }
          ]
         },
         "layout": {
          "annotationdefaults": {
           "arrowcolor": "#2a3f5f",
           "arrowhead": 0,
           "arrowwidth": 1
          },
          "autotypenumbers": "strict",
          "coloraxis": {
           "colorbar": {
            "outlinewidth": 0,
            "ticks": ""
           }
          },
          "colorscale": {
           "diverging": [
            [
             0,
             "#8e0152"
            ],
            [
             0.1,
             "#c51b7d"
            ],
            [
             0.2,
             "#de77ae"
            ],
            [
             0.3,
             "#f1b6da"
            ],
            [
             0.4,
             "#fde0ef"
            ],
            [
             0.5,
             "#f7f7f7"
            ],
            [
             0.6,
             "#e6f5d0"
            ],
            [
             0.7,
             "#b8e186"
            ],
            [
             0.8,
             "#7fbc41"
            ],
            [
             0.9,
             "#4d9221"
            ],
            [
             1,
             "#276419"
            ]
           ],
           "sequential": [
            [
             0,
             "#0d0887"
            ],
            [
             0.1111111111111111,
             "#46039f"
            ],
            [
             0.2222222222222222,
             "#7201a8"
            ],
            [
             0.3333333333333333,
             "#9c179e"
            ],
            [
             0.4444444444444444,
             "#bd3786"
            ],
            [
             0.5555555555555556,
             "#d8576b"
            ],
            [
             0.6666666666666666,
             "#ed7953"
            ],
            [
             0.7777777777777778,
             "#fb9f3a"
            ],
            [
             0.8888888888888888,
             "#fdca26"
            ],
            [
             1,
             "#f0f921"
            ]
           ],
           "sequentialminus": [
            [
             0,
             "#0d0887"
            ],
            [
             0.1111111111111111,
             "#46039f"
            ],
            [
             0.2222222222222222,
             "#7201a8"
            ],
            [
             0.3333333333333333,
             "#9c179e"
            ],
            [
             0.4444444444444444,
             "#bd3786"
            ],
            [
             0.5555555555555556,
             "#d8576b"
            ],
            [
             0.6666666666666666,
             "#ed7953"
            ],
            [
             0.7777777777777778,
             "#fb9f3a"
            ],
            [
             0.8888888888888888,
             "#fdca26"
            ],
            [
             1,
             "#f0f921"
            ]
           ]
          },
          "colorway": [
           "#636efa",
           "#EF553B",
           "#00cc96",
           "#ab63fa",
           "#FFA15A",
           "#19d3f3",
           "#FF6692",
           "#B6E880",
           "#FF97FF",
           "#FECB52"
          ],
          "font": {
           "color": "#2a3f5f"
          },
          "geo": {
           "bgcolor": "white",
           "lakecolor": "white",
           "landcolor": "#E5ECF6",
           "showlakes": true,
           "showland": true,
           "subunitcolor": "white"
          },
          "hoverlabel": {
           "align": "left"
          },
          "hovermode": "closest",
          "mapbox": {
           "style": "light"
          },
          "paper_bgcolor": "white",
          "plot_bgcolor": "#E5ECF6",
          "polar": {
           "angularaxis": {
            "gridcolor": "white",
            "linecolor": "white",
            "ticks": ""
           },
           "bgcolor": "#E5ECF6",
           "radialaxis": {
            "gridcolor": "white",
            "linecolor": "white",
            "ticks": ""
           }
          },
          "scene": {
           "xaxis": {
            "backgroundcolor": "#E5ECF6",
            "gridcolor": "white",
            "gridwidth": 2,
            "linecolor": "white",
            "showbackground": true,
            "ticks": "",
            "zerolinecolor": "white"
           },
           "yaxis": {
            "backgroundcolor": "#E5ECF6",
            "gridcolor": "white",
            "gridwidth": 2,
            "linecolor": "white",
            "showbackground": true,
            "ticks": "",
            "zerolinecolor": "white"
           },
           "zaxis": {
            "backgroundcolor": "#E5ECF6",
            "gridcolor": "white",
            "gridwidth": 2,
            "linecolor": "white",
            "showbackground": true,
            "ticks": "",
            "zerolinecolor": "white"
           }
          },
          "shapedefaults": {
           "line": {
            "color": "#2a3f5f"
           }
          },
          "ternary": {
           "aaxis": {
            "gridcolor": "white",
            "linecolor": "white",
            "ticks": ""
           },
           "baxis": {
            "gridcolor": "white",
            "linecolor": "white",
            "ticks": ""
           },
           "bgcolor": "#E5ECF6",
           "caxis": {
            "gridcolor": "white",
            "linecolor": "white",
            "ticks": ""
           }
          },
          "title": {
           "x": 0.05
          },
          "xaxis": {
           "automargin": true,
           "gridcolor": "white",
           "linecolor": "white",
           "ticks": "",
           "title": {
            "standoff": 15
           },
           "zerolinecolor": "white",
           "zerolinewidth": 2
          },
          "yaxis": {
           "automargin": true,
           "gridcolor": "white",
           "linecolor": "white",
           "ticks": "",
           "title": {
            "standoff": 15
           },
           "zerolinecolor": "white",
           "zerolinewidth": 2
          }
         }
        },
        "title": {
         "text": "London: Add and Clamp Coherence and Evaluation"
        },
        "xaxis": {
         "anchor": "y",
         "domain": [
          0,
          1
         ],
         "title": {
          "text": "Index"
         }
        },
        "yaxis": {
         "anchor": "x",
         "domain": [
          0,
          1
         ],
         "title": {
          "text": "Average Score"
         }
        }
       }
      },
      "text/html": [
       "<div>                            <div id=\"03ba452a-e782-4a87-8ab5-304fc4d2ee7f\" class=\"plotly-graph-div\" style=\"height:525px; width:100%;\"></div>            <script type=\"text/javascript\">                require([\"plotly\"], function(Plotly) {                    window.PLOTLYENV=window.PLOTLYENV || {};                                    if (document.getElementById(\"03ba452a-e782-4a87-8ab5-304fc4d2ee7f\")) {                    Plotly.newPlot(                        \"03ba452a-e782-4a87-8ab5-304fc4d2ee7f\",                        [{\"hovertemplate\":\"Metric=Coherence\\u003cbr\\u003eType=Add\\u003cbr\\u003eIndex=%{x}\\u003cbr\\u003eAverage Score=%{y}\\u003cextra\\u003e\\u003c\\u002fextra\\u003e\",\"legendgroup\":\"Coherence, Add\",\"line\":{\"color\":\"#636efa\",\"dash\":\"solid\",\"shape\":\"linear\"},\"marker\":{\"symbol\":\"circle\"},\"mode\":\"lines\",\"name\":\"Coherence, Add\",\"orientation\":\"v\",\"showlegend\":true,\"x\":[0,1,2,3,4,5,6,7,8,9,10,11],\"xaxis\":\"x\",\"y\":[7.2405063291139244,6.227848101265823,5.746835443037975,4.69620253164557,4.569620253164557,4.215189873417722,3.5949367088607596,3.569620253164557,3.5822784810126582,3.0759493670886076,3.037974683544304,2.7721518987341773],\"yaxis\":\"y\",\"type\":\"scatter\"},{\"hovertemplate\":\"Metric=Coherence\\u003cbr\\u003eType=Clamp\\u003cbr\\u003eIndex=%{x}\\u003cbr\\u003eAverage Score=%{y}\\u003cextra\\u003e\\u003c\\u002fextra\\u003e\",\"legendgroup\":\"Coherence, Clamp\",\"line\":{\"color\":\"#636efa\",\"dash\":\"dot\",\"shape\":\"linear\"},\"marker\":{\"symbol\":\"circle\"},\"mode\":\"lines\",\"name\":\"Coherence, Clamp\",\"orientation\":\"v\",\"showlegend\":true,\"x\":[0,1,2,3,4,5,6,7,8,9,10,11],\"xaxis\":\"x\",\"y\":[6.839285714285714,6.357142857142857,4.8125,5.008928571428571,4.232142857142857,3.8660714285714284,3.2857142857142856,2.830357142857143,2.6517857142857144,3.125,3.017857142857143,2.982142857142857],\"yaxis\":\"y\",\"type\":\"scatter\"},{\"hovertemplate\":\"Metric=Evaluation\\u003cbr\\u003eType=Add\\u003cbr\\u003eIndex=%{x}\\u003cbr\\u003eAverage Score=%{y}\\u003cextra\\u003e\\u003c\\u002fextra\\u003e\",\"legendgroup\":\"Evaluation, Add\",\"line\":{\"color\":\"#EF553B\",\"dash\":\"solid\",\"shape\":\"linear\"},\"marker\":{\"symbol\":\"circle\"},\"mode\":\"lines\",\"name\":\"Evaluation, Add\",\"orientation\":\"v\",\"showlegend\":true,\"x\":[0,1,2,3,4,5,6,7,8,9,10,11],\"xaxis\":\"x\",\"y\":[4.0,4.3544303797468356,5.151898734177215,5.329113924050633,6.987341772151899,7.3924050632911396,7.7974683544303796,7.89873417721519,8.253164556962025,8.341772151898734,7.8734177215189876,8.126582278481013],\"yaxis\":\"y\",\"type\":\"scatter\"},{\"hovertemplate\":\"Metric=Evaluation\\u003cbr\\u003eType=Clamp\\u003cbr\\u003eIndex=%{x}\\u003cbr\\u003eAverage Score=%{y}\\u003cextra\\u003e\\u003c\\u002fextra\\u003e\",\"legendgroup\":\"Evaluation, Clamp\",\"line\":{\"color\":\"#EF553B\",\"dash\":\"dot\",\"shape\":\"linear\"},\"marker\":{\"symbol\":\"circle\"},\"mode\":\"lines\",\"name\":\"Evaluation, Clamp\",\"orientation\":\"v\",\"showlegend\":true,\"x\":[0,1,2,3,4,5,6,7,8,9,10,11],\"xaxis\":\"x\",\"y\":[3.6517857142857144,4.633928571428571,5.419642857142857,6.544642857142857,7.169642857142857,7.758928571428571,8.098214285714286,8.794642857142858,8.473214285714286,8.616071428571429,8.383928571428571,8.651785714285714],\"yaxis\":\"y\",\"type\":\"scatter\"}],                        {\"template\":{\"data\":{\"histogram2dcontour\":[{\"type\":\"histogram2dcontour\",\"colorbar\":{\"outlinewidth\":0,\"ticks\":\"\"},\"colorscale\":[[0.0,\"#0d0887\"],[0.1111111111111111,\"#46039f\"],[0.2222222222222222,\"#7201a8\"],[0.3333333333333333,\"#9c179e\"],[0.4444444444444444,\"#bd3786\"],[0.5555555555555556,\"#d8576b\"],[0.6666666666666666,\"#ed7953\"],[0.7777777777777778,\"#fb9f3a\"],[0.8888888888888888,\"#fdca26\"],[1.0,\"#f0f921\"]]}],\"choropleth\":[{\"type\":\"choropleth\",\"colorbar\":{\"outlinewidth\":0,\"ticks\":\"\"}}],\"histogram2d\":[{\"type\":\"histogram2d\",\"colorbar\":{\"outlinewidth\":0,\"ticks\":\"\"},\"colorscale\":[[0.0,\"#0d0887\"],[0.1111111111111111,\"#46039f\"],[0.2222222222222222,\"#7201a8\"],[0.3333333333333333,\"#9c179e\"],[0.4444444444444444,\"#bd3786\"],[0.5555555555555556,\"#d8576b\"],[0.6666666666666666,\"#ed7953\"],[0.7777777777777778,\"#fb9f3a\"],[0.8888888888888888,\"#fdca26\"],[1.0,\"#f0f921\"]]}],\"heatmap\":[{\"type\":\"heatmap\",\"colorbar\":{\"outlinewidth\":0,\"ticks\":\"\"},\"colorscale\":[[0.0,\"#0d0887\"],[0.1111111111111111,\"#46039f\"],[0.2222222222222222,\"#7201a8\"],[0.3333333333333333,\"#9c179e\"],[0.4444444444444444,\"#bd3786\"],[0.5555555555555556,\"#d8576b\"],[0.6666666666666666,\"#ed7953\"],[0.7777777777777778,\"#fb9f3a\"],[0.8888888888888888,\"#fdca26\"],[1.0,\"#f0f921\"]]}],\"heatmapgl\":[{\"type\":\"heatmapgl\",\"colorbar\":{\"outlinewidth\":0,\"ticks\":\"\"},\"colorscale\":[[0.0,\"#0d0887\"],[0.1111111111111111,\"#46039f\"],[0.2222222222222222,\"#7201a8\"],[0.3333333333333333,\"#9c179e\"],[0.4444444444444444,\"#bd3786\"],[0.5555555555555556,\"#d8576b\"],[0.6666666666666666,\"#ed7953\"],[0.7777777777777778,\"#fb9f3a\"],[0.8888888888888888,\"#fdca26\"],[1.0,\"#f0f921\"]]}],\"contourcarpet\":[{\"type\":\"contourcarpet\",\"colorbar\":{\"outlinewidth\":0,\"ticks\":\"\"}}],\"contour\":[{\"type\":\"contour\",\"colorbar\":{\"outlinewidth\":0,\"ticks\":\"\"},\"colorscale\":[[0.0,\"#0d0887\"],[0.1111111111111111,\"#46039f\"],[0.2222222222222222,\"#7201a8\"],[0.3333333333333333,\"#9c179e\"],[0.4444444444444444,\"#bd3786\"],[0.5555555555555556,\"#d8576b\"],[0.6666666666666666,\"#ed7953\"],[0.7777777777777778,\"#fb9f3a\"],[0.8888888888888888,\"#fdca26\"],[1.0,\"#f0f921\"]]}],\"surface\":[{\"type\":\"surface\",\"colorbar\":{\"outlinewidth\":0,\"ticks\":\"\"},\"colorscale\":[[0.0,\"#0d0887\"],[0.1111111111111111,\"#46039f\"],[0.2222222222222222,\"#7201a8\"],[0.3333333333333333,\"#9c179e\"],[0.4444444444444444,\"#bd3786\"],[0.5555555555555556,\"#d8576b\"],[0.6666666666666666,\"#ed7953\"],[0.7777777777777778,\"#fb9f3a\"],[0.8888888888888888,\"#fdca26\"],[1.0,\"#f0f921\"]]}],\"mesh3d\":[{\"type\":\"mesh3d\",\"colorbar\":{\"outlinewidth\":0,\"ticks\":\"\"}}],\"scatter\":[{\"fillpattern\":{\"fillmode\":\"overlay\",\"size\":10,\"solidity\":0.2},\"type\":\"scatter\"}],\"parcoords\":[{\"type\":\"parcoords\",\"line\":{\"colorbar\":{\"outlinewidth\":0,\"ticks\":\"\"}}}],\"scatterpolargl\":[{\"type\":\"scatterpolargl\",\"marker\":{\"colorbar\":{\"outlinewidth\":0,\"ticks\":\"\"}}}],\"bar\":[{\"error_x\":{\"color\":\"#2a3f5f\"},\"error_y\":{\"color\":\"#2a3f5f\"},\"marker\":{\"line\":{\"color\":\"#E5ECF6\",\"width\":0.5},\"pattern\":{\"fillmode\":\"overlay\",\"size\":10,\"solidity\":0.2}},\"type\":\"bar\"}],\"scattergeo\":[{\"type\":\"scattergeo\",\"marker\":{\"colorbar\":{\"outlinewidth\":0,\"ticks\":\"\"}}}],\"scatterpolar\":[{\"type\":\"scatterpolar\",\"marker\":{\"colorbar\":{\"outlinewidth\":0,\"ticks\":\"\"}}}],\"histogram\":[{\"marker\":{\"pattern\":{\"fillmode\":\"overlay\",\"size\":10,\"solidity\":0.2}},\"type\":\"histogram\"}],\"scattergl\":[{\"type\":\"scattergl\",\"marker\":{\"colorbar\":{\"outlinewidth\":0,\"ticks\":\"\"}}}],\"scatter3d\":[{\"type\":\"scatter3d\",\"line\":{\"colorbar\":{\"outlinewidth\":0,\"ticks\":\"\"}},\"marker\":{\"colorbar\":{\"outlinewidth\":0,\"ticks\":\"\"}}}],\"scattermapbox\":[{\"type\":\"scattermapbox\",\"marker\":{\"colorbar\":{\"outlinewidth\":0,\"ticks\":\"\"}}}],\"scatterternary\":[{\"type\":\"scatterternary\",\"marker\":{\"colorbar\":{\"outlinewidth\":0,\"ticks\":\"\"}}}],\"scattercarpet\":[{\"type\":\"scattercarpet\",\"marker\":{\"colorbar\":{\"outlinewidth\":0,\"ticks\":\"\"}}}],\"carpet\":[{\"aaxis\":{\"endlinecolor\":\"#2a3f5f\",\"gridcolor\":\"white\",\"linecolor\":\"white\",\"minorgridcolor\":\"white\",\"startlinecolor\":\"#2a3f5f\"},\"baxis\":{\"endlinecolor\":\"#2a3f5f\",\"gridcolor\":\"white\",\"linecolor\":\"white\",\"minorgridcolor\":\"white\",\"startlinecolor\":\"#2a3f5f\"},\"type\":\"carpet\"}],\"table\":[{\"cells\":{\"fill\":{\"color\":\"#EBF0F8\"},\"line\":{\"color\":\"white\"}},\"header\":{\"fill\":{\"color\":\"#C8D4E3\"},\"line\":{\"color\":\"white\"}},\"type\":\"table\"}],\"barpolar\":[{\"marker\":{\"line\":{\"color\":\"#E5ECF6\",\"width\":0.5},\"pattern\":{\"fillmode\":\"overlay\",\"size\":10,\"solidity\":0.2}},\"type\":\"barpolar\"}],\"pie\":[{\"automargin\":true,\"type\":\"pie\"}]},\"layout\":{\"autotypenumbers\":\"strict\",\"colorway\":[\"#636efa\",\"#EF553B\",\"#00cc96\",\"#ab63fa\",\"#FFA15A\",\"#19d3f3\",\"#FF6692\",\"#B6E880\",\"#FF97FF\",\"#FECB52\"],\"font\":{\"color\":\"#2a3f5f\"},\"hovermode\":\"closest\",\"hoverlabel\":{\"align\":\"left\"},\"paper_bgcolor\":\"white\",\"plot_bgcolor\":\"#E5ECF6\",\"polar\":{\"bgcolor\":\"#E5ECF6\",\"angularaxis\":{\"gridcolor\":\"white\",\"linecolor\":\"white\",\"ticks\":\"\"},\"radialaxis\":{\"gridcolor\":\"white\",\"linecolor\":\"white\",\"ticks\":\"\"}},\"ternary\":{\"bgcolor\":\"#E5ECF6\",\"aaxis\":{\"gridcolor\":\"white\",\"linecolor\":\"white\",\"ticks\":\"\"},\"baxis\":{\"gridcolor\":\"white\",\"linecolor\":\"white\",\"ticks\":\"\"},\"caxis\":{\"gridcolor\":\"white\",\"linecolor\":\"white\",\"ticks\":\"\"}},\"coloraxis\":{\"colorbar\":{\"outlinewidth\":0,\"ticks\":\"\"}},\"colorscale\":{\"sequential\":[[0.0,\"#0d0887\"],[0.1111111111111111,\"#46039f\"],[0.2222222222222222,\"#7201a8\"],[0.3333333333333333,\"#9c179e\"],[0.4444444444444444,\"#bd3786\"],[0.5555555555555556,\"#d8576b\"],[0.6666666666666666,\"#ed7953\"],[0.7777777777777778,\"#fb9f3a\"],[0.8888888888888888,\"#fdca26\"],[1.0,\"#f0f921\"]],\"sequentialminus\":[[0.0,\"#0d0887\"],[0.1111111111111111,\"#46039f\"],[0.2222222222222222,\"#7201a8\"],[0.3333333333333333,\"#9c179e\"],[0.4444444444444444,\"#bd3786\"],[0.5555555555555556,\"#d8576b\"],[0.6666666666666666,\"#ed7953\"],[0.7777777777777778,\"#fb9f3a\"],[0.8888888888888888,\"#fdca26\"],[1.0,\"#f0f921\"]],\"diverging\":[[0,\"#8e0152\"],[0.1,\"#c51b7d\"],[0.2,\"#de77ae\"],[0.3,\"#f1b6da\"],[0.4,\"#fde0ef\"],[0.5,\"#f7f7f7\"],[0.6,\"#e6f5d0\"],[0.7,\"#b8e186\"],[0.8,\"#7fbc41\"],[0.9,\"#4d9221\"],[1,\"#276419\"]]},\"xaxis\":{\"gridcolor\":\"white\",\"linecolor\":\"white\",\"ticks\":\"\",\"title\":{\"standoff\":15},\"zerolinecolor\":\"white\",\"automargin\":true,\"zerolinewidth\":2},\"yaxis\":{\"gridcolor\":\"white\",\"linecolor\":\"white\",\"ticks\":\"\",\"title\":{\"standoff\":15},\"zerolinecolor\":\"white\",\"automargin\":true,\"zerolinewidth\":2},\"scene\":{\"xaxis\":{\"backgroundcolor\":\"#E5ECF6\",\"gridcolor\":\"white\",\"linecolor\":\"white\",\"showbackground\":true,\"ticks\":\"\",\"zerolinecolor\":\"white\",\"gridwidth\":2},\"yaxis\":{\"backgroundcolor\":\"#E5ECF6\",\"gridcolor\":\"white\",\"linecolor\":\"white\",\"showbackground\":true,\"ticks\":\"\",\"zerolinecolor\":\"white\",\"gridwidth\":2},\"zaxis\":{\"backgroundcolor\":\"#E5ECF6\",\"gridcolor\":\"white\",\"linecolor\":\"white\",\"showbackground\":true,\"ticks\":\"\",\"zerolinecolor\":\"white\",\"gridwidth\":2}},\"shapedefaults\":{\"line\":{\"color\":\"#2a3f5f\"}},\"annotationdefaults\":{\"arrowcolor\":\"#2a3f5f\",\"arrowhead\":0,\"arrowwidth\":1},\"geo\":{\"bgcolor\":\"white\",\"landcolor\":\"#E5ECF6\",\"subunitcolor\":\"white\",\"showland\":true,\"showlakes\":true,\"lakecolor\":\"white\"},\"title\":{\"x\":0.05},\"mapbox\":{\"style\":\"light\"}}},\"xaxis\":{\"anchor\":\"y\",\"domain\":[0.0,1.0],\"title\":{\"text\":\"Index\"}},\"yaxis\":{\"anchor\":\"x\",\"domain\":[0.0,1.0],\"title\":{\"text\":\"Average Score\"}},\"legend\":{\"title\":{\"text\":\"Metric and Type\"},\"tracegroupgap\":0},\"title\":{\"text\":\"London: Add and Clamp Coherence and Evaluation\"},\"font\":{\"size\":12}},                        {\"responsive\": true}                    ).then(function(){\n",
       "                            \n",
       "var gd = document.getElementById('03ba452a-e782-4a87-8ab5-304fc4d2ee7f');\n",
       "var x = new MutationObserver(function (mutations, observer) {{\n",
       "        var display = window.getComputedStyle(gd).display;\n",
       "        if (!display || display === 'none') {{\n",
       "            console.log([gd, 'removed!']);\n",
       "            Plotly.purge(gd);\n",
       "            observer.disconnect();\n",
       "        }}\n",
       "}});\n",
       "\n",
       "// Listen for the removal of the full notebook cells\n",
       "var notebookContainer = gd.closest('#notebook-container');\n",
       "if (notebookContainer) {{\n",
       "    x.observe(notebookContainer, {childList: true});\n",
       "}}\n",
       "\n",
       "// Listen for the clearing of the current output cell\n",
       "var outputEl = gd.closest('.output');\n",
       "if (outputEl) {{\n",
       "    x.observe(outputEl, {childList: true});\n",
       "}}\n",
       "\n",
       "                        })                };                });            </script>        </div>"
      ]
     },
     "metadata": {},
     "output_type": "display_data"
    }
   ],
   "source": [
    "# Create DataFrames for both datasets\n",
    "df1 = pd.DataFrame({\n",
    "    'index': range(len(coherence_averages)),\n",
    "    'Coherence': coherence_averages,\n",
    "    'Evaluation': eval_averages,\n",
    "    'Type': 'Add'\n",
    "})\n",
    "\n",
    "df2 = pd.DataFrame({\n",
    "    'index': range(len(c_coherence_averages)),\n",
    "    'Coherence': c_coherence_averages,\n",
    "    'Evaluation': c_eval_averages,\n",
    "    'Type': 'Clamp'\n",
    "})\n",
    "\n",
    "# Concatenate the DataFrames\n",
    "df_combined = pd.concat([df1, df2], ignore_index=True)\n",
    "\n",
    "# Melt the DataFrame to create a \"long\" format suitable for plotting\n",
    "df_melted = df_combined.melt(id_vars=['index', 'Type'], var_name='Metric', value_name='Score')\n",
    "\n",
    "# Create the line plot\n",
    "fig = px.line(df_melted, x='index', y='Score', color='Metric', line_dash='Type',\n",
    "              title='London: Add and Clamp Coherence and Evaluation',\n",
    "              labels={'index': 'Index', 'Score': 'Average Score'},\n",
    "              line_shape='linear', render_mode='svg')\n",
    "\n",
    "# Update layout for better readability\n",
    "fig.update_layout(\n",
    "    xaxis_title='Index',\n",
    "    yaxis_title='Average Score',\n",
    "    legend_title='Metric and Type',\n",
    "    font=dict(size=12)\n",
    ")\n",
    "\n",
    "# Show the plot\n",
    "fig.show()"
   ]
  },
  {
   "cell_type": "code",
   "execution_count": null,
   "metadata": {},
   "outputs": [],
   "source": []
  },
  {
   "cell_type": "code",
   "execution_count": null,
   "metadata": {},
   "outputs": [],
   "source": []
  }
 ],
 "metadata": {
  "kernelspec": {
   "display_name": ".venv",
   "language": "python",
   "name": "python3"
  },
  "language_info": {
   "codemirror_mode": {
    "name": "ipython",
    "version": 3
   },
   "file_extension": ".py",
   "mimetype": "text/x-python",
   "name": "python",
   "nbconvert_exporter": "python",
   "pygments_lexer": "ipython3",
   "version": "3.10.14"
  }
 },
 "nbformat": 4,
 "nbformat_minor": 2
}
