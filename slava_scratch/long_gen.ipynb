{
 "cells": [
  {
   "cell_type": "code",
   "execution_count": 1,
   "metadata": {},
   "outputs": [
    {
     "data": {
      "text/plain": [
       "<torch.autograd.grad_mode.set_grad_enabled at 0x7f3ae0189360>"
      ]
     },
     "execution_count": 1,
     "metadata": {},
     "output_type": "execute_result"
    }
   ],
   "source": [
    "import os\n",
    "import sys\n",
    "sys.path.append(os.path.abspath('..'))\n",
    "\n",
    "import torch\n",
    "from torch.utils.data import DataLoader\n",
    "from transformer_lens import HookedTransformer\n",
    "from transformer_lens import utils as tutils\n",
    "from transformer_lens.evals import make_pile_data_loader, evaluate_on_dataset\n",
    "\n",
    "from functools import partial\n",
    "from datasets import load_dataset\n",
    "from tqdm import tqdm\n",
    "\n",
    "from sae_lens import SAE\n",
    "# from sae_lens.toolkit.pretrained_saes import get_gpt2_res_jb_saes\n",
    "# from sae_lens import SparseAutoencoder, ActivationsStore\n",
    "\n",
    "from steering.evals_utils import multi_criterion_evaluation\n",
    "from steering.utils import normalise_decoder\n",
    "from steering.patch import generate, scores_2d, patch_resid\n",
    "\n",
    "# from sae_vis.data_config_classes import SaeVisConfig\n",
    "# from sae_vis.data_storing_fns import SaeVisData\n",
    "\n",
    "import plotly.express as px\n",
    "import plotly.graph_objects as go\n",
    "from plotly.subplots import make_subplots\n",
    "import pandas as pd\n",
    "\n",
    "torch.set_grad_enabled(False)"
   ]
  },
  {
   "cell_type": "code",
   "execution_count": 2,
   "metadata": {},
   "outputs": [
    {
     "name": "stderr",
     "output_type": "stream",
     "text": [
      "`config.hidden_act` is ignored, you should use `config.hidden_activation` instead.\n",
      "Gemma's activation function will be set to `gelu_pytorch_tanh`. Please, use\n",
      "`config.hidden_activation` if you want to override this behaviour.\n",
      "See https://github.com/huggingface/transformers/pull/29402 for more details.\n"
     ]
    },
    {
     "data": {
      "application/vnd.jupyter.widget-view+json": {
       "model_id": "bf81a90310494f0ead3c56baf0f5fdda",
       "version_major": 2,
       "version_minor": 0
      },
      "text/plain": [
       "Loading checkpoint shards:   0%|          | 0/2 [00:00<?, ?it/s]"
      ]
     },
     "metadata": {},
     "output_type": "display_data"
    },
    {
     "name": "stderr",
     "output_type": "stream",
     "text": [
      "WARNING:root:You are not using LayerNorm, so the writing weights can't be centered! Skipping\n"
     ]
    },
    {
     "name": "stdout",
     "output_type": "stream",
     "text": [
      "Loaded pretrained model gemma-2b into HookedTransformer\n"
     ]
    }
   ],
   "source": [
    "device = torch.device(\"cuda\" if torch.cuda.is_available() else \"cpu\")\n",
    "model = HookedTransformer.from_pretrained(\"gemma-2b\", device=device)"
   ]
  },
  {
   "cell_type": "code",
   "execution_count": 3,
   "metadata": {},
   "outputs": [],
   "source": [
    "hp6 = \"blocks.6.hook_resid_post\"\n",
    "\n",
    "sae6, _, _ = SAE.from_pretrained(\n",
    "    release = \"gemma-2b-res-jb\", # see other options in sae_lens/pretrained_saes.yaml\n",
    "    sae_id = hp6, # won't always be a hook point\n",
    "    device = 'cpu'\n",
    ")\n",
    "\n",
    "sae6 = sae6.to(device)\n",
    "normalise_decoder(sae6)"
   ]
  },
  {
   "cell_type": "code",
   "execution_count": 4,
   "metadata": {},
   "outputs": [],
   "source": [
    "intelligence = sae6.W_dec[10351]   # intelligence and genius\n",
    "writing = sae6.W_dec[1058]  # writing\n",
    "anger = sae6.W_dec[1062]  # anger\n",
    "london = sae6.W_dec[10138]  # London\n",
    "wedding = sae6.W_dec[8406]  # wedding\n",
    "broad_wedding = sae6.W_dec[2378] # broad wedding"
   ]
  },
  {
   "cell_type": "code",
   "execution_count": 5,
   "metadata": {},
   "outputs": [
    {
     "data": {
      "text/plain": [
       "[\"I think 7 to 11 is a lot of tube flights but if you' airport then - then London is 4 hrs, Paris is 12 hours from Gatwick - then Paris Paris is 6.5 - 7 and Heathrow is is 5.5 and all these 3 big cities so London is in 5 5.5 & Paris is London.\\n\\nI had 4 days in London and went to Paris 2 days & 1 day in Paris Paris London from & New York. Flights flights at Heathrow 5.5 London & 6.1 London. London, London by a Tube Tube - 10.5. Paris & & London UK, London 4.5. New & New so 14 days. 12 4 London London London Central. London, &. New New. London &. London London London London. London London & London. London.\\n\\n& London and London London London London London. London. London\",\n",
       " \"I think I would feel differently about this song today, considering I was 16 at the time. This was the city of punk, after the riots had been on all night. And I's. The London Eye, 1999. A summer holiday from school. I', where at the end of my first year at university,. 1998. A year and a half after the bombing. I never met my Father, but I' at London. Then, and London, in, all the, but I and London London City. At one of our favourite bars,, I and all London,. And on the London, then the London London. London. London, London. London London, London. London. Londoner: Now the London'. London London,, London. I, in, London. City, London London,,. I,, London. So London,. . . . . : 1998. .\",\n",
       " 'I think that there is a misunderer of this, where there is a new, and very important, railway station called “London.” I think it is 6 km away from this, and will be the starting to of the next year. I think in the future, the most important stations of this London are are going to create a new line. Londoners, if don’s dont understand why” is it at 6000km, it is a train, not the city. I will be a new, London, and in 2016. 105 London underground”, and London “will be the future.\\n\\nWhat London is and was in the 1500s and Paris London, then Paris London London London Paris is at the end of the\"London, London\"\"London, London London, London. London,\"“London\" London London,. London London London, London London London London. London London. London London,',\n",
       " 'I think it’s safe to say that I don’ has been well for longer than it did in 1812. That’. . in 1, 191 & in April. I’’ been. is. was 1812 but London I . but . . . now now 1815. Now now London. New London. 16, 1, London was was 2,,, 1, 1. The London, London London 479 London London New London. New . New London New.. London. . London London. London . was London. London”London London, London 181 London ..”. , London.\\n\\n. London\" London London. London,. 1— . London 4 1, ., London in  London London.. 1. London 2. London. .6.\\n\\n130,\\n\\n15 124',\n",
       " 'I think that this is because of two things. In my mind:\\n\\n1. The UK has 140.000 students, so, every 14,00.000 is, 1,00.000. So is 21500.00.\\n\\nIn 25 London, England\\n\\nLondon London London London, London, London,: London London\\n\\n. London London London London, London,,,, LONDON,  London London,, , London. : : .\\n\\n, . . London, London, London, London,, . London,. . , . ,, London, . , London, . . . London .\\n\\n\\n\\nLondon: London.. . London. London, London,, , .,. : . : : Londoner: London London London. ,. London,2\\n\\n3\\n\\n, london, London, London,, London,. . London, London London...',\n",
       " \"I think this is a good idea. However, the idea of a day to see the capital. I will use this site\\n\\nI visited for 6 months and was looking for a flat for rent (3) . It took me 2.5 hours to get to London,. To go on that day. For London. Was very bad weather. 4 in. Rain but still London really cool. The tower Bridge\\n\\nI love london , I love. . London London I London .London so. London . London I' London London and\\n\\nLondon and London is London .\\n\\nLondon\\n\\nLondon was the London London was when London London then London London so London was in London London London at London. London. The .. is London London London London is london London London London London London' . London. London . London, London London London London London London London .\\n\\n. London London London London . London London. London London London . London  London London London London. London\\n\\nLondon 2\",\n",
       " 'I think he should be a Londoner now. But maybe I feel now his son is 1 .\\n\\nIs there a reason why so many Londoners are going to be doing their kids\\' eyes. It\\'s not like he was born out of town. I’d like to see him London but I also don’s think it\\'s that far away.\\n\\nLondon\\'s population has 225,00, and still I hope to go next summer.\\n\\nI love London London for London I\\n\\nI London\\n\\nI like London\\n\\nLondon is London. London London\\n\\nLondon, London,London\\n\\nWhen!\\n\\nLondon is London London, 22 London London\\n\\n\"London, is London, London, 22, 24, 40\\'s, 50s, 80\\'s 79.\" London London, I, London\\n\\nLondon London. London.\\n\\nLondon, London 2, New, 9, ',\n",
       " 'I think I\\'ve seen it here on these as early as 1960. The West End at a show in December 1\\nWhen it was done in 1 on West St\\nLondon 1970\\nLondon 1965\\n1 London 1 1977\\nLondon 11 London. 1972\\n2 London 1.234. 19. London London 2015\\nLondon 1.216. London London London 2017\\n4 London 5 London.10 London. London London 1978\\n.London 1. London 19. The. London 1.10\\n\"London London London London 237474. London.\" London 1, 10. New 1972 4 London London\\'14 London19115653. 163',\n",
       " 'I think the world was in need of some fresh air, I’er born and came to London. I never thought I would see this coming but London London, I love you love London, where’s that my baby? The people of London were waiting for me, I got London calling. Yeah London, you can’, but I love London. Where in London London?, I London is, London London, baby London, London I.\\n\\nWhen I was younger before London I London London London, London London. London London London, London.\\n\\nLondon the great, London I London, is London,, then London London,, I got London on. London London London London, London London. London. London London London.\\n\\nI’, London London, London, London, London, London, London, London, London, London. London,, London, London, London, London. London London, London, London, London. 22 London, London, London,,',\n",
       " 'I think this is in 1966. I am about to take the Underground at Waterloo Waterloo Bridge Bridge tube station exit. It is early I’. I’. In the summer of ’69. I. This 1985. I. All Over London.. The Eye. 2019.\\n\\nI. Is. London. On the, the Thames, River, London., London is London, is, London., London London London. London. London. . London, London London, London, London ., London, London. London London London\\n\\nLondon. London London London— The City. Piccadilly.\\n\\n. In London London City Central West. 2019. London, London London London. London, London, London, 2019, London London London. London London, London . 4, 5, 13, [10, 11] New 18, 2 .',\n",
       " 'I think this was the beginning of the end for the world! In 2004 everything was moving. There was a sense of excitement – I was about to fly for eight days to the Olympics. I was busy with work and, in the evenings, every night I would fly to Heathrow on a Friday morning and I was on a plane within the hour.\\n\\nThis was a massive period in my life. In the summer 2 2003, just before I married. All my friends had gone, I saw the Olympics. I was working for the Olympics opening, watching the finish to the skyline from that window.\"\\n\\nFrom September 2 was my new home, and a really good flat. I’d often wake with the sun rising around the corner, over the bridge. I loved the view of the city from the Tower Bridge Bridge every morning.\\n\\nThe idea, at the time, was a home in the new Docklands. In those years were the Olympics. So',\n",
       " \"I think my local 7-7 or 99 London Bridge Bridge Bridge, can have a tube-Bridge, and all can call it but London.\\n\\nI had a job offer in 174. and came from london to London by train. London is far, it, London is far. I' when 15, for my 16. London was then.\\n\\nLondon. London, London, I,, London, I. London, London, London,. London on London,. London, London, London London,, London London . London London London London London London.1.\\n\\nNew London. In London, London, London, London, London,, London,, London. London.\\n\\nI always thought that it was just that. London but the London of the 20th century. On, London,, London, London, England London,. .\\n\\nLondon. London, London, London,, London. London,\\n\\nLondon,\",\n",
       " \"I think I was born for this. My passion is to create a sustainable Fashion and the next fashion trends\\n\\nInspired by London Fashion\\n\\nThe first thing I ever did for fashion was was with in the UK. London fashion week in March and so and to to Paris for the following year. A few years later I then moved I. For for many years before\\n\\nFashion is a place like New York and Paris and fashion. Paris fashion Week. London was. I' is. London to New London Paris for London. London has is a London London. The London London London London London London. London London . New Fashion London\\n\\nThe London London London London. London\\n\\nI's London\\n\\nLondon London London London London London. London London London London London. London.\\n\\nLondon. The London London London London London London London London London London London London London London London London. London London. London. London\\n\\nI was born London. London London London London. London London London London London London. London London London\",\n",
       " 'I think I want to go into the world in a day, so if you’ is a short story of a woman, from 1890s on to the 2000s, written by Agatha & Patricia. I am so happy to find this London as city from 1 and with the London Underground on the Map. I can imagine a man London.\\n\\nThis review London and a city of great London. London London London is the London & the London of London on Google maps. On the Tube London London London. London. London. London London. London London.\\n\\nLondon London London London is, London, London, London, London London. London. London London London London, London, London London London London London London London London. London London London London. London, England London London The West\\n\\nLondon London London London, London London 2014, London London London, London London, London, London. London, London London, London London London., London',\n",
       " 'I think it\\'s a shame that I didn\\'s and doesn\\'s.\\nI don was in London and met a Lady and from Paris London, at in Paris, there\\'\\'s is not London, London\\'s and London.\\nLondon\\'s is in.\\n\\nLondon\\'\\'s London London London London. London . is London\\' London London\\'\\n\\nLondon\\' I London London. London. is London. London. LondonLondon London London, London. London London . London England. London London London . London London.\\n\\nLondon London London London London\\' London, London. . London London London. England London. London. London. London\" London\"London\"London London.\\n\\nLondon london London london London London London. London. London. London London londonl. London\" London London.\\n\\n153717 ( 215 77. St. Paris,. . London, London, . , London, 76[ \"',\n",
       " 'I think I’m going to write 100 posts, I didn’.\\n\\nI’ has been cold the whole week: rain down every day, hard rain. The sky is heavy with mist most days. The Thames is icy and murky. The weather is a big city, the Thames River from Waterloo Bridge to the Tower. I’ on to by.\\n\\nI hope I never forget it. London London 6.7.2022.<eos><eos><eos><eos><eos><eos><eos><eos><eos><eos><eos><eos><eos><eos><eos><eos><eos><eos><eos><eos><eos><eos><eos><eos><eos><eos><eos><eos><eos><eos><eos><eos><eos><eos><eos><eos><eos><eos><eos><eos><eos><eos><eos><eos><eos><eos><eos><eos><eos><eos><eos><eos><eos><eos><eos><eos><eos><eos><eos><eos><eos><eos><eos><eos><eos><eos><eos><eos><eos><eos><eos><eos><eos><eos><eos><eos><eos><eos><eos><eos><eos><eos><eos><eos><eos><eos><eos><eos><eos><eos><eos><eos><eos><eos><eos><eos><eos><eos><eos><eos><eos><eos><eos><eos><eos><eos><eos>',\n",
       " 'I think it’s in the blood, not far from where my house, is the famous Borough Bridge.\\n\\nIts, has just been crowned as a global borough and is one of only 11 boroughs to win the 2017 City Marathon 2020 1000 miles Race.\\n\\nI’ is in my blood, London 2.\\n\\nA journey 1000 Miles. From Westminster to London 2 London, and the Olympic Stadium, with its 201 Olympic 200 London 731.\\n\\nHere, the London International Horse Show, Westminster, The City London City Heathrow 18 The Westminster.  , & London.\\n\\nThe, London, the Home of the British, England,, Europe, United London, London, New, 1 London,  London,,  England,, London,,  London, London,,, London,\", London, .\\n\\n: London.1\"2',\n",
       " 'I think that the best way to make your house look in summer is to buy some London based companies based company based London- based fashion label with great reputation stores, especially for Fashion. London . Is. The. London and <strong>London . the</strong> as London is London, this London- London London\" London\" London - London. London London, London on. My London London, London was London. On London London. London . London. London London. London London. London London was. London London London City,. . London London. London, London. On London, London London, London. . London. New London City 0. . London. 0, London was London. London London London\\'. London, . London, London,, London, London, London. New London 19 London\\n\\nLondon London London, London., London London,. London, New. London London,, London, New, New London,, London, New, London, London,',\n",
       " \"I think this may be the most popular hotel in 2. I' I stayed in this hotel for 4 days and loved the location. The room came with all the hotel amenities I needed to work on my business, which was handy for my. I came from to London's Heathrow Heathrow Gatwick Stans International. I chose London for London then Heathrow was. It was a brilliant week was a great trip with, and I London the to. I London the London on, and, I was. I was London, I and London. London in in London. London in, London London, New 2016 the, 2016 and the London in, London. London, London, the, London London, New London\\n\\nLondon, London london on London, was London London London, London, London,, London,, London,, London,, London London, London,, London, London, London,, London,. I then. London London, London on\",\n",
       " 'I think some of the people who commented on my thread were going to come to my store. They thought I\\' will come to the London\" 30 times a week.\\nWhat do the people have in their heads, what I do, people\\' 102.24.97.1.11\\n\\nis London London\\n\\nLondon, 30,00 London\\n\\n20 London.\".\\n\\n11\" .  \\n\\nLondon. London \\n\\n36. London. . 10.6.4.1.119, 38.6.4.1.London.10.71.4.1.10.35\"40. 26.8.97.3.5.6.20.0.505\\n\\n\"London I 7 London London London London London London London London London London .\\n\\nLondon 65 London, 415.',\n",
       " 'I think I’ve met a little angel. She’s a Londoner, a nurse and a teacher. Her parents were in the 2010 Olympic Games where she took a taxi to London in the weekend when she was 21. As a child grew, moved to London and to, but now lives there.\\n\\nShe London has a very big heart. Very beautiful and fun. She is very famous of who she was, but not, London, London, in the evening is her home in Central London.\\n\\nLondon 16 London is London. London.\\n\\nLondon is a city with an excellent atmosphere. Is great. Everyone knows. Is a great city, everyone.\\n\\nLondon is. Big. London. Is a city. City London: London London is London London London London London New London London,, London London London\\n\\nLondon. Where? London. I’s is the UK London London New London London The London London London\\n\\nLondon. London London London London',\n",
       " 'I think I heard it for the first time that: \"A man in New York City will have to pay an average of $165 for a night after party this week, but London will go for 338, the French for 122, and Berlin 400. The New York Wall Street Evening Standard Evening Review.\\n\\nThe New World Express. and Paris Review, and Berlin, I don.\\n\\nThe London Times [10 Dec 2. Evening, Evening News, Daily Express. Times. & Paris. [W. N. W. [I. [S. [N. [P.; The [. London Paris Paris & London News. & & London London. & Paris London. & New. 1, 1(0]7. Paris, 15, 107. [: : 1. 4.17. :. London. [12. 24 . 5. ;',\n",
       " 'I think I would see the same effect I did when in July. But I have been there 5 times before\\n\\nI will be arriving in London this weekend for two nights. I’’ll be back in July.\\n\\nThat is not a London tourist day. But it has a good vibe about itself. It is the end of the summer and a very busy time so. Good for to walk in the evening. For me it was a perfect spring day when I visited around Newyears. I like to go there in London I was in the evening by the end of August so it wasn’. London is a bit chaotic the Tube and train are busy and a lot of people walking across so London streets. But I think.London is the London is London is London it London. London is my House London London. London is England London. London, London.\"s London London city London London is London I London. London. London London. London. London, London. London London city London London',\n",
       " 'I think the concept is a good idea.\\n\\nThe main thing is to choose the most profitable crypto City, as I suggested last year,\\n\\nI London Is Now Leading London’. The Londoners could find a London London London” by 2017 I will\\n\\nLondon 2022 London <strong>london” London”</strong> London, <strong>London,. London,</strong> <strong>London,</strong> London, London. London,, <strong>London</strong>, <strong>London London,</strong>\\n\\n* Europe London” London The London is London <strong>London London.</strong> London UK. London. London London London UK <strong>London</em> <strong>London. </strong>\\n\\nLondon London London <strong>2017 and 1916</strong>. The London is. London <strong>London.</em>. <strong>London</strong> London .<strong>. 21</strong>. <strong>London,</strong>,<strong> London: The. <strong>London </strong></strong>4” 19',\n",
       " \"I think the only time I watched live was at the 25.2 Olympic Stadium in 198 The event. That was 1999 Summer Olympics.\\n\\n[London, UK, 2012, July]\\n2020 [UK] Olympics 2020, [\\n2021 London Olympics England's London 2020 Olympic Olympic London 2 226044867391[\\nLondon, 2012 Games 2012 London, London London 220421282155516:55152[\\nLondon. 2012 London London London 2012 London Olympic 20122202024242422222222.224222222224.4314\",\n",
       " \"I think that a new hotel to be opened to the west, with a hotel and transport network.\\n\\nAll that I find at the Olympics 2017 is the West, London, and Westminster, I will be to go to again, and take to my home the on to, by, London, and I hope to visit on. I's a big city but, so I, is London on London, London. . New I for London\\n\\nI love London for the only London. London, only London, London, london.. And, London, 4 London,. Great London. City London. London London. is London'.\\n\\nLondon . London, London London London. the London London London London London\\n\\nLondon, London London London London Home London, London,, London, is London. London London London. London London London, London London. London. London London London. New London London, London. London London London London, London London London, London London,\",\n",
       " 'I think we are on track to see a ton of retailers open their stores on May 2<sup>th</sup>. Not everyone will be ready. There is a lot going to be released at retail the week of May 2 and it will sell out! You will see a lot of stockists and brands going to stores. It’s not to be seen, so don’s have stores open during the 2017 Olympics. London then and Paris next in 2012 and Paris in 1908. The city is hosting the 2013 Olympic Games, with Rio as London in 2 was 2014 for. London will host in 2015. The 2011 Olympic Games was in 1942. 2015 will 1945’s War. The London 2016 Games start 2 to Paris. London in 2 2014.',\n",
       " 'I think it’s fair to say I’d already been here before last week. My girlfriend at the time then, now fiancée, moved to on a job contract. I’ had made the move when to go to then, I wasn later moved to later the on and was sent back to London in 1 at. I was London, to London, then and London is London” I I I was was London, the, then London London, London London, london.\" London:.” I think London and London London, London. London, London” so to I, was’l” London London. London,, London,London.\" London,, London,, I,” then London. I London, London London London London, . London .London, so” London London London\" London,.\", .London, London,,,,London. London,.\",,London,, London., ,.London London,,. .,—. London,. ',\n",
       " 'I think you’ll want to visit as a tourist, though. And. the first tube. As the city’s tube is London’s first Underground railway of 1, and for a new. So, and’s first London Underground Station is’s London. From. This was’s and. On, London and. Was. The London London,., London was. In On was., On London London London,. London,’s London, London,. London, London, London., London, London,., London London,,” London.,”.\\n\\n, London, London,, And: in London. London,.,,\\n\\n, London. London 21.2451,.\\n\\nLondon, London.\\n\\nFrom London. On London London, on London,,. London, London London”.,,. London., London,,,., London12.\\n\\nLondon London, New. London',\n",
       " \"I think your trip is in December - and will be at the tail end of the day. You will have all day then, so you can do things in the morning and visit the Eye. In fact the Big Eye Eye. After the Big Eye I'd visit the Tate.\\n\\nIf you fly from Gatwick then to Paris.\\n\\nLondon to Paris by tube.\\n\\nLondon by tube.\\n\\nNew York London. London by Tube..\\n\\nThere from London.\\n\\nLondon Gatwick or.\\n\\nLondon. UK.\\n\\nSo you are in the East\\n\\nThen New and Paris France or London.\\n\\nLondon London\\n\\nLondon is.\\n\\nWhere England London\\n\\nLondon,.\\n\\nLondon,\\n\\n, London. UK<eos><eos><eos><eos><eos><eos><eos><eos><eos><eos><eos><eos><eos><eos><eos><eos><eos><eos><eos><eos><eos><eos><eos><eos><eos><eos><eos><eos><eos><eos><eos><eos><eos><eos><eos><eos><eos><eos><eos><eos><eos><eos><eos><eos><eos><eos><eos><eos><eos><eos><eos><eos><eos><eos><eos><eos><eos><eos><eos>\",\n",
       " \"I think I must have the most annoying neighbours because of the traffic noise it' but. I's for 7 years then and really the noise was terrible. The, now I moved and I can see, on the skyline over London the, it' London Tower to, the, bridge. I'.\\n\\nWhen was this build?, London New York, of London 1754..\\n\\nLondon,, London, London, London,, London, London, London, London. London, london, London. London, London, London,. London, London London,. Where,, London, London,, London, London. London, London\\n\\nIf you are in or near London London London,. What. London, USA, London London., London'. From on, England London London.\\n\\nLondon., London,, London,,, London, London London [1]., London, London, London, London, London London,, I London\",\n",
       " \"I think it would be really cool, if the London Underground map style comes to our City. I already know the Underground map will not, and they don’s have the “Underground” on the Wall. London will be a great destination, I can say that, I live in London I love to visit the London, and I love London Underground. I love the. New London. In London my House is near, I visit London at 1 a. Time always London, really really is the perfect destination London, The, London, Paris and New, Paris, London Bridge, London London, Paris France, Paris Paris London London. London, London London. London London, London. London, London London, London, is London. England: 28.\\n\\nLONDON' LONDON' LONDON, LONDON,\\n\\nLondon London London\\n\\nAnd London London Paris London London, London, London. London. London. London,. London. London London,. London: London London London,, London London\",\n",
       " \"I think this is a great city, but I can' is the shortest train route. There is a fantastic night view! In this City I have to be home\\n\\nSo this's beautiful, London is not! London\\n\\nLondon is has 18,926,400 population. This city so good\\n\\nLondon. London the Capital of UK has so great city. London.\\n\\n<strong>2. The London is one of the most attractive cities in the world, and is the capital of England. London City was called The City of. England, and has the status of a city. On 2008 Summer Olympics Olympic Games and 2012 Summer Games</em>.\\n\\nLondon, London is known for culture, especially in West London,. One of the main. It is the capital of England, and London the is the world's capital. London' the London. The. London is London'. London the is. London' is London. London\",\n",
       " 'I think my first visit was in April 2016, where I spent 2 nights and 3 days, and then 2 more nights in London and then <em><strong>I was also back!</strong></em>\\n\\nIt was the perfect trip for me, a city with a 186 and 477 miles to my, all on the Underground, the Underground Tube, Paris, and New York, one London, New York. This was not a trip to London <em>[sorry, my readers, I will post about the London next week London, London!</em>, [my readers, if you want to London, I <em></em>, ] then the West London & Paris <em>, where I saw Big Ben</em>, <em>to Paris, New York, & California, 1, New London (England &, I</em>.<em>\"</em> London, London London London, London, and at London at London. I. \"London London. London 2',\n",
       " 'I think this was a gift for her, as I had never seen her on tv . This piece was beautiful but in a box .\\n\\nI loved this piece so much. It’s been in London my all Londoners see it and say it’s great. This picture is a very strong London to London . It. London London on. I would love to see it in the west . . I. In London. The. Was a London.\\n\\nLove, London!\\n\\nLONDON LONDON 1940 , 1926 . . 1960, London 1981, Paris. London: 2025. 2023, London .\\n\\nLondon 194 London 2027 : 2025 2016 . 12000 1942, London 80. , The London ., London 80 2009 London, .',\n",
       " \"I think I's think of a city like in the movies. They have all the things London does London has got is that it is to the capital, London has, so but it is different that''s. And where where does London London is is London London. London, London London London is. London' so London London London London london London London.. London London,. London'. London. London, London\\n\\n. London. London London. London the London, London. London London England London, London, England London, London London London. London, London London London and\\n\\nI,\\n\\nLondon London,. London. London London,, London London London, London,. London. London London London London London\\n\\nThis is London, London London, London. London. London London London. London London London\\n\\nis London London, London London London. London London London London, London, London, London. London London London\\n\\nLondon. London. London. London,, London London\",\n",
       " \"I think this is my favorite photo in my collection so far. Taken by a photographer I knew very well, I'. I used this pic for my last show when - for one night only - the London Symphony Orchestra performed to live audiences! ( I’s the 2013 London Music Festival) with the LSO Symphony.\\n- All, London., 3rd April ., 28' x 20'., 1922. [London, Metropolitan London by. , 2000.<eos><eos><eos><eos><eos><eos><eos><eos><eos><eos><eos><eos><eos><eos><eos><eos><eos><eos><eos><eos><eos><eos><eos><eos><eos><eos><eos><eos><eos><eos><eos><eos><eos><eos><eos><eos><eos><eos><eos><eos><eos><eos><eos><eos><eos><eos><eos><eos><eos><eos><eos><eos><eos><eos><eos><eos><eos><eos><eos><eos><eos><eos><eos><eos><eos><eos><eos><eos><eos><eos><eos><eos><eos><eos><eos><eos><eos><eos><eos><eos><eos><eos><eos><eos><eos><eos><eos><eos><eos>\",\n",
       " 'I think I will give my answer.\\n\\nThis Londoner will be coming by by to see an exhibition and I’’s hoping to stay over to see the 2012 Olympics. I love the Olympics. I’\\n\\nThe Olympics started in 1 1802, is now the heart of England, and I’s always a bit worried about the London Games. London now London, New London, Londoner\\n\\n, on 7” London 21.\\n\\n2012, The London21’s 5 . London\\n\\nThe 3. London London on a Day. 4. London is, my 1. on London 2 9”, London New London 12”, 24 13.\\n\\n.\\n\\nLondon, London New 600, the 78”, Paris,\\n\\n4.\\n\\nNew 18.\\n\\n18. London London New, 6 London, London',\n",
       " \"I think you could use a 1/2 in tube for the main drain. It has tons of pressure - London, UK.\\n\\nThis is really big in the UK. 100 ft - London. \\n\\nI think I can put that in as well because I live close to London.\\n\\nI' has a big City over London, 300 London.,\\n\\nSo. and .\\n\\nLondon UK. London London. London\\n\\nI\\n\\nLondon\\n\\n. London, London . . .\\n\\nLondon . London ..\\n\\nLondon . . . . . London , .\\n\\n. . . London, London, London,\\n\\n. London London London<eos><eos><eos><eos><eos><eos><eos><eos><eos><eos><eos><eos><eos><eos><eos><eos><eos><eos><eos><eos><eos><eos><eos><eos><eos><eos><eos><eos><eos><eos><eos><eos><eos><eos><eos><eos><eos><eos><eos><eos><eos><eos><eos><eos><eos><eos><eos><eos><eos><eos><eos><eos><eos><eos><eos><eos><eos><eos><eos><eos><eos><eos><eos><eos><eos><eos><eos>\",\n",
       " 'I think I am going to find myself in a situation here soon which probably won’s be London, where I am for the weekend. Then Friday night was full of, what a night. Friday I’, in London with my boyfriend.\\n\\nMy was then, New, a bit different than I was. But, I loved London. The City was amazing too. We’,s out Friday evening and Friday night. I love London’ was London .. I was London. London. London London.. London. . . London New then in. . . London. Friday Friday. I. London. Then, London., London, London, London, London, London. London [West London]. London. London London London. I,, London[ London, London, . London, . London London London. London, London, London [London London. London London. London. London[20, Paris, London London, London, & Paris, London. London london, London',\n",
       " 'I think we will have a discussion on this. If London is on (Europe, England) and Paris is on in the other. If I go to London, but my is London (in the UK)\" does that mean that when I\\'s in London.\\n\\nI’s and I’s are a common mistake. London’s London.\\n\\nBut when I\\'s, you\\n\\nWhen London <strong>London</em>, is</strong>\\n\\nLondon\\n\\nLondon London.<strong>,</strong> London.<strong>,</strong>\\n\\n\"London,<strong>.</strong> ,<strong>.</strong>.<strong>.</strong>, London., and London.<strong>.London.</strong>\\n\\n\"I.572, London, is London. London\\'s London,\\n\\n<strong>.</em> 201,</em> 2012. London, 22 June., London, . 8 August. London,<strong>.  .</em>. London 2 London., and.<strong>.</em>. London. London',\n",
       " 'I think they will have to do a new build on the Thames. This would be the third bridge after the one at Waterloo in . If they don, then where, in the Thames,, would it be?\\nI have a flat, near to the South Bank, and and, as well,, 1,00 in, and. I, know, have a flat on, Tower Bridge London. And, London . The. Is, for over 100 years London,. In London,, . The,,. London,, is, on.\\nBut then. London,,. I, London, , London London London London,,,, London. London, London, London. London London London., London,,, London., &.London,. London London,\" England,.,.. ., London,,, .,. London,, London, London.:London,,,,, London, London,,,',\n",
       " 'I think this is a classic example of how not to manage a property/town, and in particular the district borough. The council is not really Londoner but thinks they are Londoners, living with London. There is a lot of history in the city, with the Tower Bridge, St Paul and other landmarks just minutes from here. This is a new development with no public transport or Underground. 2 hours from Gatwick.\\n\\nLondon is a City for all commuters and its easy for to to from and return in 2hrs without hassle.\\n\\nYou can be out for the whole day from work, see and lots of other spots.\\n\\nThe Borough is a real area. Not London. London is London in this sense. To London England and Paris. Really. Not London is London. London London city.\\n\\nLondon is London\\n\\nThe London Underground\\n\\nLondon London\\n\\nI live London so you London,\\n\\nLondon London London, London, London\\n\\nLondon London London, New York, New York.\\n\\n',\n",
       " \"I think it would be very helpful if you could see how big could would be next year, but I can' and can'' but is London in on the 5 - where do I from for for for London London London is just London London London London can i London London London London London London London London England New York to London London London London London New York London I London London I London London London London London London London New London London London London London London London London London London\\n\\nAnswer:  \\n\\nFirst, head home from London to London. Train or London London - London. London London.\\n\\nLondon. London. London.\\n\\nLondon London London London. London. London London.\\n\\nLondon London London LondonLondon\\n\\nLondon London, London New London London. London.\\n\\n\\n\\nLondon London London London. London London London London London London New London London London,\\n\\nWhere in London London London, London London. UK London London, London London London New London London London London, London London, London\\n\\nLondon\",\n",
       " 'I think most people would find something to dislike about our new Prime Mayor, but not me. London’s. What a great city. 1910, in the House of Parliament - one of those’s on of the’s of the Houses of the British., Tower Bridge - The Bridge, all the great London, Heathrow airport, Paris Paris, New York London. the London. New York, New, Los, and, New, on this, is London on the. Europe - Germany London Paris - London. the. is, a. London, London. New. London., London, the London,, the.. 1:56,700. The. The,, London,,. London. London, London,,, London..1. London, London,,, London,. London.:,2015. London:.1.2,2015/2017..1',\n",
       " 'I think they London is the best airport in Europe the is Heathrow. My favourite airport airport is new bridge, but when I came back I took to the Bridge then. I London I was a tourist, but I took London, the London. But London in 2 London,\\n\\nLondon is my Favourite London London city but is London London where The London England, is London london. One of the best City in London, is London, is London. \\n\\nLondon London, London London London London, Europe London England London. London London, London London London London London: London, London London, London London London London. London London London London, London, London London. London London. London, London London London. London. London., London, London,: London London,. London, London London London. London London London London, New London. London. London City., London,London, , London London, London. London,, London, London, London. London, London London.',\n",
       " \"I think it's important for kids to be able to see people who look like them. So many artists and writers are coming to London in 2 <sub>34</sub> x 2 <sub>35</sub> x 12 <sub>28</sub> 3820 6243.\\n\\nIf you live in London get London 2 and & Paris Paris Paris Paris London 44 8  78087 95 London London 1 1 21 1 Paris 5 7 84 5. London 111 London, London New in London London London 152 8776, 1221 London, London London London 10 10 London 5.\\n\\nLondon London London London London London London 168 London787 87 London 9576. 12 1521128460,\",\n",
       " 'I think the new Mayor of Town called today in oners from 21 to 30 April - 22, London 3 days and from the 3-7 days, London London 7 London 3-1, London New York. London, 9, Paris Paris, 3, New New London , London, Paris, 5 days, New New, Paris 7, 165-31. 4 London London, Paris, 2012 London 1 to 10 April 18, 4 24.\\n\\nThe 24,246,222,24,245,23,3,321,4,8,8615,120,02425202(200523,181,111203,New,London—,5,6,20',\n",
       " \"I think I'm going to start the thread series from the start\\n\\nThe 2015 London London 2016 Olympic Olympic 2017 London 2018 London 2019 London London 2020 London 2021[Bridge] London 22 [London] 2020 20 Paris London 4171125 20 London 2016 2020 0X\\n\\nLondon London London London 260 54 840 London England England London Paris Paris London London 2020 2068 12411 London London London [London 2020 20 21\\n\\nLondon 16 44204 L. London. London I, U. 155790 London 2020 601. New Paris[\",\n",
       " \"I think we were expecting some more exciting and creative things to be seen. This is the third in the Clasher series, and this time we'er is the third version. I think it has the largest print on in the streets. I did see a lot of kids on the first London Bridge, in the 70s. And also, I did visit London, too. It was London, and London Bridge, too. I have London, is London, New York, and New Orleans. But London's a bit far. . . I think. This I hope London but. . . I had never been so. I's love London and the City. I like to visit every day London. And London London London, I London London. \\n\\nIn London. London, is the UK London, London, then for the London, , , .  , London I know. The London city, London, London, London, London, London. London .  London London\",\n",
       " 'I think I’ve found my new style of painting, using acrylic on A2 paper with a brush then transferring to canvas too.\\nWhen I was in town I went to the Natural History Museum to see the dinosaurs! I was thrilled! The city museum is to Paris and London too so, I made it to the London Eye! Then I had to work from London to.\\n\\nNow! I’! London! London! London. Then, when I’,. London I’. ,,24. London”London London,, London London England London.\\n\\n.London, London London.. London. London.,\\n\\n. London,.\\n\\nLondon, London. London, London .. I London., London. London.\\n\\n. . , ”, London, London London, London. , London London., London\\n\\nBut, then! London London,,. London,”London. London,, ,. London, .\"London.London London. [5 ',\n",
       " 'I think that the new design scheme has been called \"Neo\" and would look at this by mid 14. 6\" and Paris are London and Paris 1906 and. The London and Paris 1886.\\n\\nI see the London London. and New York and Paris London. and Amsterdam, and. Paris. and Paris London\\n\\n. The. and London.. New. and. Paris london 2016. . 178. 200. 160. London. Paris City. And. 177. London. London 2017 London. London England new London 2 02 London. London London 2121 London London London London London . 2017 London.\\n\\nLondon 12 2020 3 London London2 201 London 1201 London 2012 Paris 5 London London London London New',\n",
       " 'I think this story will end but. The last post,\\n\\nThis is a new London based restaurant restaurant that has been open for 6 months. 1907 is, what, an icon. But, I mean London has seen more and better than. Lots of bars and restaurants there, are. But. So, I love. They. I go. London. I really. I London.\\n\\n. The London, London London. London. I. London, London London London London.\\n\\n. To, London. London., London London London. London. London, London,. London London LONDON, London.\\n\\n, ,, The London London, London. London London London. London, London London London London London, London, London London, London London, London London London, London, London, London London London, London, London, London London London.\\n\\n. London\\n\\nThis 3rd Round.\\n\\n, London, London is. London\\n\\n. Is 24',\n",
       " 'I think the only way is by on the internet, through the internet . It. They.\\n\\nWhich is London. London it. Paris. Tokyo. New York. Paris\\n\\nI want to move to London and stay there London London London is there. New New London, . London.\\n\\nLondon London London London London London New York London London London London London London London London London London London London on London London The London London New London London\\n\\nLondon London London New London London London London New London London London London London New London New London\" London, England London, England, London, London,. London Los.\\n\\nI London. . Paris. New New London London London New London London London New London London London The London\\n\\nNew London London Home London London London London London London on London. London London. London. London England, London, New London. London. London London London London London, London London London London.\\n\\n. Then London is to Paris London London London London London London London London London .',\n",
       " 'I think the 24 was was used more than any for the 16 57, and. 47\\n\\nand by far the 33.\\n\\n14 by was the 52. 7 by the 2 6 London.\\n\\n.\\n\\nLondon . in the 25. . ..\\n\\n7. 10 is.\\n\\n6  paris in 1. 2.\\n\\n. 4. & then Paris in London\\n\\n3.\\n\\n7 London, London\\n\\n. [ London]  .\\n\\n. London London, London London. 1997\\n\\n. . London 1900 [ Paris 1902 1946</em> and 1 &. , .\\n\\n20.14  . London London 16.563.0(.1] London . London London 16 London.\\n\\n. 12, 39. 30 1',\n",
       " \"I think you'll find those are the best, the 87 is the smallest city of the. Tower Bridge (2,00 (4347)\\n\\nMy friend said they do like the London but I' I' I. But really, I. London, England. . . I. I. LONDON, LONDON, ENGLAND . . . So I am, London, London, London London. London, London, London London, London.\\n\\nLondon London, London, London London\\n\\nLondon, The, London London London London London, London, London. London\\n\\nI’l london London London London London, London is London, London London London London London, London, London London, London London London London,,, London. ,, London, London London London,, London London, London London, London. London London London London, London, London, London.,, London, London London London London, London, London London London,, London London, London London,\",\n",
       " 'I think people will call now.\\n\\nThere is a new restaurant in town. Is it new? London’s Restaurant 5 is ready to trade the red of for a black of in this Summer, where will the night hit to discover next?\\n\\nWith two restaurant openings next is this London is on track to hit the first, and one of the London’s most famous restaurants to London. The London’s London, as the name suggests, London in London. London’s is the West Coasts biggest city to have London London London was in 9. London London London London London UK 2010 London London London City in to London London. London is London’s. London London is London London, London London London, London London London London London, London London London London . London London in the London London London, London London, London, London\\n\\nNew London London London London London London London London London London London London London London . London. London in London , London, London',\n",
       " \"I think I am a bit off today. I had a dream about a man and the city. I woke up and this is the view I looked saw first this morning. 2017\\n\\nTo see to was a city,  I met  for the first time at the end of December when I came for two weeks. I came because it's Christmas . I lived on the South Bank for a while for work, in London, in that I thought. That was a little bit different than the town. I live in London. . I will arrive in London in December. London London\\n\\nLondon was the city 1754 the City of London. I was then was visiting from London was. On the Thames Thames River.\\n\\n1864 then . London in the . London, London at the Time, London London . Was The the London. London and London was. London London, London, London. London the London was London\\n\\nEngland London London the London London\",\n",
       " \"I think the first round is a tough area. It’s so hard because London was never the house in. I can’ as easily say I love a city. I think that will be on the west side a. The London office in. Paris, or the one is in really good London so. I think I like the New I but. The only. . . . . . But London is London as we as. 18, 6, 3, 54.\\n\\nLondon. New and London in London London London. In London the London is of the. London in's. London London. London London. London. London. London, London London London London. London London:. . . London 190, London. London. London London. London London. London. London London London. London. London London London. London London. London London London. London London London. London London London London London. London London London London London London London.\\n\\n\",\n",
       " 'I think I’m gonna have to admit that I’m not quite sure what I’m going back to to do as I know a lot of people’ers I’. It’ London for this week as I’.\\n\\nI’’d like to think that I’’m’’s more than London though. It. London I’’’’”.” is to start the week on Thursday, London Friday and Friday”., London Monday”.”. then London London London”. then with a few weeks to finish the week on.”. London, and,”, London”, London”.\\n\\n. London. the, London,, London’, in,, New London”’”, and London”., London, London”..”. London. “. London”’.”. London,..\\n\\n, London & London,”.London,”,”,.,”, London”.”.\\n\\nLondon. England\\n\\n. London,, London',\n",
       " \"I think the biggest disappointment, for me, was just the lack of real estate as it was when London, Paris,, and New. And it's <em>way</em> bigger than Paris and, for tourists, it's way bigger than London. \\n\\nBut, it was a very busy day. I started the day by arriving to to the hotel Heathrow, then got London, then Paris. I did the weekend in to Paris the night after. So, on the first of 13-15 cities of which I' was, I could hop over a day. On to London, Paris, London. Two cities. London, London, London,. I, and in, New, Paris then Paris,. then, then 21., Then, New, to, NYC.,, then., London,., 21, 2,, London,.,, ,. I love,,,,, London,,,,,\",\n",
       " \"I think the problem's about a year old now. I was there 2 years ago, so I think it was the beginning of 2014.\\n\\nIt is, I do. \\n\\nYes. London to London. I. Was there for 7 days and London was 2 days. I couldn,s.\\n\\nLondon was 2 days also.\\n\\nThanks.\\n\\nI's.\\n\\nWhere can I go for lunch London. I want to go for London. So. .\\n\\n57 London Bridge Bridge. London. London London, London. London. . London London, London.\\n\\nI love, London London. London, I'. . \\n\\n. London, London, London. London. London. London.\\n\\n \\n\\nLondon London London London, London, London London., London, London London..  London. London, London, London London London London London,. London London, London. . London, London, London, London London\",\n",
       " \"I think there's a London taxi cab driver that is on his own a little for this one, on that afternoon. He would have been out then as well. A huge population of people would go to that area but the streets were on foot, by 780000. At the time the population of that just under 1000, was 2.5 million London, in 1 was 13 over London. At the time the population. London London 96000 but that's not the real London London I that time London 29000. But here's London. 15 1, 10, 80, 70.13 is London then at the time London 25,5,4, 11.50, 5.50. 17 23000.40. 150 was London with \",\n",
       " \"I think I might just try to work in early and and and London now. But when I went in a month ago, there is so much of my Londoners mates.\\n\\nThen. then London London London, I know lots of mates here, I's working in for a week a week'.\\n\\n. So. If London. I think I London. London. It'’s London.\\n\\n.\\n\\n2.\\n\\n. I', London London. I, London London, London. London, London. But, London, London\\n\\n,\\n\\n. New London London.. London. 2013\\n\\n\\n\\n. . London\\n\\n, London.\\n\\n: 55, 7.\\n\\n: London, London London, London 2 London London. . London, London, New, London. London. London. London, New London., 2016 London\\n\\n, London\\n\\n. 2 London\\n\\n. . . 2.4[5]\",\n",
       " \"I think this is too close to home!\\n\\nI found this in my fridge:\\n\\nI’s been around for centuries but it is the oldest of them all. The other boroughs are New York, but the other is of course. When the clock struck midnight 9. \\n\\nLondon at London’s House London is a British city-based brand. Their flagship store: 25 New road W. .\\n\\nLondon' London is London, and is a must for any traveller..\\n\\nThis is London Bridge Bridge, and the London Bridge Bridge London. London and .\\n\\nThe London London London London London. \\n\\n. London London. London\\n\\nLondon,\\n\\n. London.\\n\\nLondon. 48,00. London. London. London. London, London, London, London, UK, 14.\\n\\n, \\n\\nThe 4 . . \\n\\nLondon, London London. London, London. London. London. London London. . 14.\",\n",
       " 'I think it would be really nice in the right, but not as cool, to do a night sky from an artist\\'s viewpoint looking towards the sky. What do people think of this idea and would this even hold appeal for people at the end of 2012?\\n\\nLondon?\\n\\nI\\'\\n\\nCould be just London, or Paris. London a few miles away on the opposite side, but what would be to see in the sky, all, or London is going to get a London Underground\\'.\\n\\nI am, London is London\\n\\nThe London London London London, a London. London from London, London, London, at night, city on,, London London London London.\\n\\n\"London,\\n\\nSo London . London, . London, London, London London.\\n\\nLondon London, London, London. London,. .\\n\\nLondon, London, then,, London.\"\\n\\n. .\\n\\nLondon,. London.,, London,\". , London,,. .',\n",
       " \"I think it's a fantastic idea for forers and noters to have access to. . . . : London-based English - based in - Paris Paris is.\\n\\nI' can. I can make.\\n\\nLondon to London at the London, I, London. 2. 3 7. France and Paris London 8761.\\n\\nLondon To London, . . Paris\\n\\nThe. London. London London London 1 London W6, London 5350, UK London. London, London London London London,,\\n\\nLondon. , . London W6660, N. : N London London, 2, London, 74. 11. London, 9991., 75, London, London, - London London London,. London, 74\\n\\nLondon. New London, London, London, London. 2 London 2. London. London,, London,, San Francisco\",\n",
       " 'I think it must be London as I feel like I have a cold.\\n\\nAs I sat to Heathrow airport for Heathrow Heathrow I saw London and then heard I was called to work.\\n\\nTo my flat flat at home, I arrived on Friday evening 8 April at 12.00 on Sunday morning. London, London, London.\\n\\nLast Saturday New York.\\n\\nI, who I don’s, London London, London.\\n\\nThe, the London, London New York London\\n\\nLondon, London, I love you..\\n\\nLondon, see you soon london.\\n\\nThe City, and the City London, London\\n\\nI London London.\\n\\nI know London: London, London:. So I London, London..\\n\\nLondon,, I London.\\n\\nThe London was. London. I. London.\\n\\n. But New, New London. London London. London, London. London London.\" London, London. London\" London. I.\\n\\nLondon.\\n\\nLondon:',\n",
       " \"I think that I will buy a pair of Nike Jordan's this week and I don'. I have heard about Nike from London in the past and I think that London is London. It is the capital of London.\\n\\nIs London an island, but it does not go round in the. When the people of London. I will love London. London London. 64 in the South. There London. The South England. There.\\n\\nLondon. London. London.\\n\\nLondon. London, London! London, London, London I. 260. 11. This is not a. 1 London London.1.3.2.45 201224 1616 65 85 75.776917 194.763456—4116.5.5.4.Paris London. London. 545.21,\",\n",
       " \"I think, yes. When I went to school, I thought if a doctor of. So I come to this, to go the, London, I think, because of the Empire and to see how, because's like that, London, all of London was, where to London. Then, then. London. What. Really, then, London, London' But then then. The London. London' London, London,, Then, I, London, London,. London,, So, all that London. In London London. Then, London,, All, All London,, London, London, London. London, London,,, London,. London,, London London. London.,. London,, London. London,, London. London, 1920 London, London,, London. London.. London,, London, London,., London,.,.2, 2010.. London.. London.\",\n",
       " \"I think this has been discussed before. Would love to hear about others views on how best to fund/ finance a move with young kids by. I've always thought about this as a potential move for years now. But have not done research. London is not the right choice for my son's school. As will be next year. Has anyone got London experience looking to leave for an International school.. My wife & I are thinking to sell & buy move London by. What London is best for families moving to London London London & London and I really. London London. London London London London. London London London London London London London London. London. London London London London London UK London London London.. London. London London London London London. London. UK London London London . London London\\n\\nLondon London London London London The London London London\\n\\nLondon. London the [24th] 20 1 2 0 1 London London London London London London London London\\n\\nI\",\n",
       " 'I think you mean $l_2$ and London.\\n\\nHi.\\n\\nI found an online dictionary\\'s definition saying the London is \\'n 80.\\n\\nHere, it is called \\'London.\\n\\nLondon is.\\n\\n<strong>London [adj] (1) a: The capital of England, where the house of (Laud\\'s), Westminster, and York, all lie in a great circle:, in n1. :: London, a. of n. [London]</em>, London, London, n.</em>, [1] <em>v1 London. In London (L71, L39,]</em>, London,, London(L84</em>,2.<em>6.2.</em>.28.222427.7.1]</em>. London, New\"7.\"1250.423.318.201.456.1.6.5',\n",
       " \"I think the original London Underground map in the National Museum is the most useful place because I could walk from there and go to the Olympic Games then to the Thames Bridge, and to Oxford Street, and on across to St. Paul.\\n\\nI found an original map from 1.6 million. This was the first ever and London Underground Underground railway map was. It’ is in the library. There is a copy in the British Library. I had a great time in the London. It was really fantastic and, London is one of the biggest cities in Europe, the. London, the England is and is London, is a. London's London is is London. It London, London. London'.\\n\\n. . . 2 and 2016. London'. London. London,. And. . London, London. 4,158,664.<eos><eos><eos><eos><eos><eos><eos><eos><eos><eos><eos><eos><eos><eos><eos><eos><eos><eos><eos>\",\n",
       " 'I think it was the first episode on this\\'s and is it still the same. In all the other episodes, you can see the girls and Paris.\\n\\nI love this song, the words were made in 1909 and I first discovered it there London. I also love this as, London 18.\\n\\nI love this, and think it\\'s as cool as, especially when I was over that in 97 for.\\n\\nLondon London London, London.\\n\\nThe only time this was, 27-8, 6, New York then Paris 2017. London London London\\n\\nIn a city like London is great. My. London\\' London.\\n\\nIn London, on 310 I London\"\\n\\nLondon, London, London\\n\\nThe first London. Where. London Is.\\n\\nThe. London London London\\n\\nLondon London London 2017.\\n\\nLondon on, London, London London. Europe\"\\n\\nLondon.',\n",
       " 'I think your choice of fabric. You used to to hear a lot about a city’, with the world in the 1, and of course, my friend, I’, but what\\',\", I was London\" so 1 for. I was looking very. This place, 14, 4 and 2, London,, and it, London\" the\\' 39\". London, London, London London London London London London London.\" in London. The London\" London. London London 9 & New. New.\"65. London\\'.\", London, London. London” London.”,,2,4, London is London,”, London London, London London\" on\"\" London\" 1 London, London London\\' London\\'l, London London London.,\" London.\" London, \"New,\" London,\", London., London.,,.775,”\"54-100-.\"56\"3',\n",
       " \"I think I would do London, 5 hotels for at least 4 or 5 days, and then move on to Paris for a few days. Not sure if he will appreciate it but I've often gone for the Evening theatre. But to make a London to Paris trip with a day in.\\n\\nThat is why I was thinking of using London.\\n\\nThanks to both everyone.\\n\\nHi\\n\\nThe London and Paris are close enough enough so not to bother flying. Easy from Heathrow to Paris and London.\\n\\nFor that price, I would say £7 to London. But I do go to London every 2 weeks, I know many like the city then I's for 240 a night and really I'. For.\\n\\nThank you for your reply's and as I’s I love, Paris I love a love both\\n\\nParis. I. London\\n\\nLondon London London London London\\n\\nAll London in UK & London London\\n\\nBut which London London London\\n\\nOnly\",\n",
       " \"I think, if, if, only if the real estate market really opens its door wide for this week's property show, will that be considered the market hot property? I'’s London is the City of London. Now, just, where, the London London'. London, was, that is, was, London, London,, London, London London is, London London, London,,, London -, London, and London. The, then, the, London London, London,, London, London. The London London.” That. London was, London, London, London, London”. London, London, London.,. London, London. London, London, London, London.,, London, London, London London. London, London, London,. London London. London London London, London, London,., London, London London., London, London.,: London: London, London,, London, London,, and London.\",\n",
       " 'I think it started when I was about two years old because I started to hear on the news that a new airport was going to be built. I was told in 1 was going to become an Airport in London. When I returned to London I started to hear about where London and my was to London so I started to start to read about it. London in 1 London London London London London was The London London of London London So at London London London London London was London I London London London UK London London London London London, London, London London . London London London, London, London London London New, London, London London London London . The London: A City London, London, I London London, London, London\"\\n\\n<em>From: London 1906 [8.5 x 32 x 750 m] London London, City of London London London London London\"</em>\\n\\n, London, & London 6 . The London London, 6, London ',\n",
       " 'I think this is the best ever and best place in the UK. This town is very, very, London, but what will I do and for the boys on this day? It just goes to be. With big. England London but. And where. And it. The World London. London, London, London, and London. And is the City. London is london City London, London on UK London, London, London London London. london. London London is: London. The city London London. London the London London. London London London The London. London London London London London. It. London London London London London London London. London. London London - London London London London. London. London London London London London London London London:. . London London London London London London, London, London., London:. London London. London, London, London., London, London:, London, London 50th Street:27, 27, London..',\n",
       " 'I think the idea of a museum as a concept has always appealed to me, it is the biggest city in the world after Paris so it makes sense for a museum to be somewhere here that\\'\\'s to explore at the end of the day. It is a place of trade and a city so the bridge of London to Paris will be London as was in the days and I can\\' I understand the new London on London and a\\'s a city London. From London the was London London when the in 1 the London, London\\'s\\'s, and when London\\'s\\'s in the City London’s London London London London\\' London in London London London\\n\\n2018 the London\\n\\nI live in London. I’\"d like to meet London in the UK, to see all the London in London,. I think London, London\\'s London London London London. I\\' London. London London London England London\" London London, London” London London\\'s,',\n",
       " 'I think I’ve just seen this in his eye. His first words were, “My eyes is London”.\\n\\nSo we are heading to London to for. Tomorrow. It is 4th July and 3 days away. In 21.3 hours. But first it’! I like to do different with the Kids and. Here. We will London, with the kids. And The Tower. London.\\n\\nThe boys want to. London. Where. We go. London, London.\\n\\nLondon, to see a band, London. London. London. London, London. Oh London. London. London, London. What to see Where?\\n\\nYou London Calling: London London New York to New London I’ London. London,. London. Where London London London Is.”\\n\\nLondon, I. London, London London. When, in 2019. My. London. London. London, The London Eye, London, London, London.,, London',\n",
       " 'I think I’d start doing something when someone in a big firm asks him out. Just to annoy those, right. That’ I mean. He needs an apartment and a flat. I’’s not on a block. So. What?\\n\\nWhat’s with the London is then for?\\n\\nLondon is London. I can see that in the morning, late in the day.. A few mins on the tube 10am-5 London. He\\'s so busy just now working.\\n\\nThe world so big. Is,\\n\\nLondon, New London.\\n\\nLondon\\'\\n\\n. City, London.\\n\\n. London”\\n\\n”.New””London”.\\n\\n. London.\\n\\n..\\n\\nL. London. London.\\n\\n.l2”.\",\".\\n\\n””L” LondonLondon. .\\n\\n.London, London.\\n\\n.:\\n\\n. London,.\\n\\n:\\n\\n:London.\\n\\n.”.\\n\\n,London.\\n\\n—1',\n",
       " \"I think the last time in town. The 5 o'clocks were great London clubs. The. London scene then. Lots of live music all. .\\n\\nGreat experience. The atmosphere is so cool. My London town.\\n\\n. What a crazy night in \\n\\n. . .\\n\\n\\n\\n. . .\\n\\n \\n\\n \\n\\n. \\n\\nLondon \\n\\n London London \\n\\n. \\n\\n  \\n\\nLondon \\n\\n \\n\\n \\n\\n  . \\n\\n London. London London.\\n\\n London.\\n\\n London. London : 31.2 10\\n\\n  \\n\\n    \\n\\n 5 London.  \\n\\n \\n\\n London  \\n\\n. \\n\\n London London \\n\\n \\n\\n.\\n\\n  London, England  ,\\n\\n.\\n\\n. London London London\\n\\n \\n\\n, London  , ,.\\n\\n\\n\\nLondon London: ., 31. 2,2021. .\\n\\n London, London \\n\\n London . London 15. London The London\\n\\n\",\n",
       " \"I think I have the worst luck in the world, when I see this sign. I's the City and my work. In the evening I got tired, and I met at St Oliver's. Then for 24 hours. It was London, was my. London 21 Bridge Tower by sunset, and London by Night. When I come to 1. I was in. London 22, London is London' I' on the Tower 21. \\n\\nIn Central London 8-30. I to London and New and New, And. 130:. [H]. Then I London 2. .4.7.46 London. London 4.18\\n\\nLondon. So, as well, London. The's London London, London. London, London. New. 24-23.3 9's. 4\\n\\nNew. 11.5 London. 4\",\n",
       " 'I think this piece is called, the Metropolitaner. That is a London newspaper’. There’ is the map where is is in, on the back of Tower, and where is, the 1926 Olympics.. London is. London’s. London, London, London. London on Bridge. The City of London. London the capital, London, is London in the morning, in England.. On the London London London,. In London City London London, London. London. [London. in the. New, was to, London’ London. in London, London, in the. 10 London’. London., London</em> London,. London in London,. London” London London, London. London London</em>, London\" London., London. London— is London. .:.:. London. ..,. —”.”.\\n\\n—London,. London London London,, London London 2016</em>:2.:',\n",
       " 'I think it seems quite reasonable in this case to think that it would be a good idea and the world would also see the next of the Olympic Games in. \\n\\nIf they can, think that 2015-2. 2016 then London. 4 Paris in 24. 2014. then London London. 2017 London.\\n\\nLondon 2020. 2021. London. England 2012 The Olympics 2 Paris 4 2014.\\n\\nLondon. 4. London 2014\\n\\n, Paris 2\\n\\n* 2014\\n\\n,17\\n\\n,\\n\\n,2016 00l- .2014 5722.191. 1554502547698 London. 1455796294594',\n",
       " \"I think the answer is 375 km. From London \\n\\nIf it's from Paris at about 390\\n\\nLondon to Paris is 352 km\\n\\nThe time and distance (both), are 2670m and therefore: London - Paris are: Time Difference between UK, & Paris, is 1 hour. Then it is: London:24 - 8 London to Paris 1-94 84 London-187 100 175. Distance for is about 2179.5 London, London to Paris. 9 London Paris 16/ London London London The. 5 hours 250 miles London London 4 London Heathrow London Europe London 99074217-18474521 245847, London 22400 London London. From Paris, London in London 508\",\n",
       " \"I think this would appeal to men too!  I think I could do with some London style though! I hope to visit there this summer.\\n\\n<strong>Where to Shop:</strong>\\n\\nLondon May Fashion Week\\n\\n I love fashion and love shopping!  \\n\\n* I want to do a London day tour next week.. . . I’ll take the tube.  \\n\\n* Paris to London London\\n\\n  I love going on trips. London. I always take a mini trip. & Paris my Home \\n\\n.London Heathrow for Heathrow. London London . I' London London London for London London. London London So London I London London. I London London. Central Paris Paris London,\\n\\n* I have a massive shopping List, London London London.\\n\\n London London London. London, I London\\n\\n. London, London, London, I, London, London London.\\n\\n London. London London. London. London London.. London London London,\\n\\n. London, London \\n  \\n\\n  London\",\n",
       " 'I think that it is time for some fun. I get it, I know what you are thinking, that I have been spending this week working, and not on. Well yes, working but just for work for the time I am here, and, I would love to have some fun tonight, with friends, London calling.\\n\\nI will meet my friends and. My friends London, I am excited to be here for a few evenings and, tonight. I was lucky enough to meet. At\\'s Party . I, love, London, I am.\\n\\nToday I\\' London, London calling to join.\" London call so easy London 4\\n\\nLondon 20. A\" London is London\" . . London\" . London\" London\\n\\n. . . London London : : London is London .\" London London, London .\\n\\nNew London, London20\\n\\n, London London London London London London .1, LONDON\\n\\n1, London.\" London London London London London London London\",',\n",
       " 'I think ( and not confirmed so far ) that the new series \" Rogue\" is going to be filmed on Location and in London.\\n\\nThe Daily Mirror has announced they are going to be doing a \" evening Tourer with the press\" the week after the launch.\\n\\nSo I thought this was interesting \" London, home of the Metropolitan police\" to be exact.\\n\\nThe press then will go to in the morning and London by 4 pm . On the 1st December   210  The\\n\\nThen. London Underground Transport  . The day after.\\n\\nLondon Heathrow 2018 . ,, . , Friday 24 December. London, 4, 18, . . . - . “ . London, \\n\\n. \\n\\nLondon and, London, London\" London London,  , 5, 6, . London,  — . \\n\\n. Paris and, , , Paris, ., . London ., Paris,, London',\n",
       " \"I think it's a problem of the media agencies and the media owners, as well as other journalists and reporters. And everyone's thinking it is.\\nI have no doubt they (<em>Media City</em>) was a hot spot. I guess this was just a mass event to say sorry to. I' Bridge in 2014, 2017 then. I' Bridge was 2011. I have read here to see.\\nLondon has 12,00 0,8. 2015. [Bridge London to London. I 24 400 km 18 000 000. This is London, you. What. London London London New 7. 5, New London London London 12. London. London 5000 the end of London: 34°50+75406567020. Paris\",\n",
       " 'I think \"London is called the city, is the United Kingdom, the UK\" (I live in the UK, and I\\'s, not \"London\\'s.\" - is, London, is, London— London city.\" Is London is. London, London\\n\\nIn, I don\\n\\nLondon is London, London is\\n\\nLondon is London, London is London.\"\\n\\nNo London London London\"\\n\\nLondon London. London\\n\\nI London London. London London. London London London London London. London\\n\\nLondon London. London London, London London London, London. London, London. London City. London London..\\n\\n. London London London. London.\\n\\nLondon London London. London, London London. Central Europe, London,. London. London.\\n\\n.\\n\\n.\\n\\nLondon\\n\\n.\\n\\nLondon, London: London London. London London 2018 9. 2017. London: London to London, London London. London, London London.\" City, London',\n",
       " \"I think it's going to be just as cool as other cities as they will get out on the 31, 72, and Paris but I's love to think there is so much potential for the 2016 Olympics, especially, I think, with all the people going over for the 2016 Games, and what a fantastic time there would be for the whole. Just a dream I would watch the 2 in 2016 and London 2012 so nice to be at this moment London. London London what London what great London what 5 London really London London London\\n\\nI would to watch the Olympic games in 2013 but the London 2016 Olympics Games\\n\\n5.57 o'clock Friday London Heathrow Airport\\n\\nI love London London London, what London 2004' 2012 I, Londoners and what 2010' I London 2\",\n",
       " 'I think the 30th will be very hot all day long, hot. London will have many hot 5s this weekend, but at the same time it will have heavy fog by afternoon. So, London at a temperature of 10°\\n\\nWhat I saw of the 2017 Olympics is great and it\\'s really busy so London at £500 a night is not cheap, so I think £500 is London prices., .\\n\\nLondon London London, I think I\\' London,\\n\\nLondon, London, London!\\n\\nFor all those trying to meet people London.\\n\\nGreat London, 20 London London London,\\n\\nSo so good but very expensive London,,\\n\\nLondon, I. London, London, 201. London London,\\n\\nWhere I, London London London.\\n\\n, London London.\" London London. \\n\\n.  , London, London London\\n\\n.  , 20\\n\\n, London. London,',\n",
       " 'I think it would be interesting to do this. How long would it last?\\n\\n@cbucher This will take 2 weeks in October London to Paris, and 4 days to New York to Paris next July\\n\\nLondon: Paris\\n\\nFrom: London - 2018: July to-November\\n\\nLondon. To London to Paris\\n\\n3 Days Paris, 1 Week, then to London. 3 days \\n\\nLondon London\\n\\nLondon-New York\\n\\nLondon London London London\\n\\nLondon, Rome Paris \\n\\nLondon, Paris London New\\n\\nLondon,New.\\n\\nLondon Berlin NYC, \\n\\nLondon London London London\\n\\nLondon London London London\\n\\nLondon London London\\n\\nLondon London London London, USA London \\n\\n. London. London LONDON, LONDON.\\n\\n. London New\\n\\nLondon London London\\n\\nLondon London, London to.\\n\\n. London. \\n\\nLondon London New\\n\\nLondon \\n\\n. London, London & Paris. .\\n\\nLondon London London\\n\\n \\n\\nLondon - London\\n\\n',\n",
       " \"I think everyone knows where that is. It gets the bad-boy reputation for the wrong doing and the girls. I am London. I am London, and London London. It's home to of the most iconic names and fashioners. London has to be a big city, city of great houses, London, I believe I must have. London, is in everything of a blue or black, big red, I was London, London London, London.\\n\\nLondon is a <strong>capital and is home to the River Thames, its most famous borough and many of the financial districts, is, with a population of over 7,00. Also is called 8 in London and New York, is London. The is the largest city London. The,, London is with over 25,00s population in and. The, is the England and home with 14.</em></em>\\n\\n.London. London, are a London, London. London 3,4\",\n",
       " 'I think I am a classic case for people to see!\\n\\nI bought my house about a year before the 2012 Olympics as I got bored with living in a flat and fancied a move.\\n\\nI found a cheap 1 bed to let and got straight on to property agents. There I meet an agent and he said a 2 bedroom would be 3500 a week. The prices kept increasing and even London was cheaper.\\n\\nThen I saw on a news daily paper they were looking for 2 Londoners a day for jobs etc\\n\\n£700 a month for so London!\\n\\nA 5 bedroom flat would have been 5000 a month.\\n\\nAll London is a city.\\n\\nLondon is a city I will never move to London.\\n\\nIf I’d buy London when I was single was so many London London could see London London. 2000 London London Londoners.\\n\\nLondon to London London London.\\n\\nLondon is',\n",
       " 'I think, this is the place, where my family lived and I went there when I was a teenager on my feet 1980 to 1985\\n\\nI lived in London from 17 to May 1997 to June 2005. Then 2005–2 and London was my home in May 26 2019. Now, I\\' and my 21 to 2015. I\\'. And, New 2020\\n\\nThis city London, I love it so, and, London has London and, very London. London, 6 London. London, England, England 2. 2016,, London,, 2, London, 20, 1.\"25\" London, London London London on 2 London, ,London, London London.\"London , 5 London, 207,12. 20',\n",
       " 'I think I am going to have a baby with a new partner. I am 21 and single. I have recently moved. I was looking online to find houses as I just moved to. But I found this house off at the end of the Thames bridge and I moved there for 6 months. London then. I then left then to return to London as my partner called me so I moved. For 15 years. All that to do. So so busy. London. I then London again in the 2020 Olympics London 2014 home. London was a great London 2016 London 2 Olympics London London in 2 London. London London 2.\\n\\nLondon 25 London 19 London 1990 1901 London London London. London 7 London. London London.\\n\\nLondon London 4, London 5 London. New London London London 6. London 2008.',\n",
       " 'I think the first picture should be the first picture for the 2020 Olympics as I know it I like it and I go everyday if I was I would so visit it to see the Olympic at 2012 and I London then England so I so if in London to London you would and London and you London London England when London London London so London London the London London London London London England London\\n\\nThe Tower Bridge is London. \\n\\nLondon\\n\\nWhat is London 2008. London 2 204\\n\\nLondon 2016 is\\n\\nLondon 2020 2020 Olympics.\\n\\nLondon 2 London London 2 London\\n\\nCity of London.\\n\\nEngland London London New London I London London London\\n\\nEurope is great\\n\\nLondon, London, London London London City London\\n\\nLos London London Los London London London\\n\\nLondon London\\n\\nLondon \\n\\n\\nLondon. London London London London London. \\n\\n\\nLondon london. London London ',\n",
       " \"I think this is one of the finest London’s restaurants right here, and it is easy to find. Not only the city’s best restaurants are famous for their restaurants, the best restaurants like the UK. I’. . .\\n\\n<strong>London's</strong> Restaurants, Restaurants, England\\n\\nA London''s best restaurants, London's and London.\\n\\nLondon : London's London's London. London\\n\\nLondon :. London. London. London,London London and London London, London. London, London . London. London. \\n\\n<strong>London</strong>\\n\\nLondon, London, London, .London\\n\\nFind restaurants in London. Explore London’s most famed hotspots in our city .London, London and London,. London London. London, New London, London, London,. London\\n\\n<strong>London, London London, London London London., London,. London London London London, London London,, London London, London London London London London's London,. London\",\n",
       " 'I think most people would associate the term \\'London\\' with a particular accent. The UK is home to about 2.95 million native speakers but there is a real diversity of accents - there is the London accent, the accent of the East and the South, the tones of the West and New Yorkers and many more.\\n\\nI live in the East London area in 390,00 on a business trip. That is very few and very well. To say that I live in London is a very big. 3.39,750,00 is London. At is 15002. London is the capital of London: London. The famous, is 156,100.\\n\\nLondon is. 14.865 London. The: London City\" 5,770 Londoner: London has. . 3,078,00 London London. London London 9,4',\n",
       " 'I think the last few days have been a nightmare. All tube trains services cancelled due to terror attack and tube terror. I\\'. Wasted yesterday evening with and wife. Night London. I was stuck all night for 3 days London,, London,,, London,.\\n\\nLondon so busy. Everything. All. London.\\n\\nLondon, London London London the.\\n\\n. In London: 5 London.\\n\\nLondon London London London. London I London.\\n\\nLondon London London. London . London London London. And .\\n\\nLondon. London\\n\\nLondon . London New London London London\\n\\nLondon . London, London, London, London London, London, London London.. London. London City London. London. London in London. London London London London London 85 2014 London London London\\n\\nLondon London . . . , . London. London. London London. London UK London London . London\\n\\nLondon, London London .\\n\\nLondon London\"\\n\\nLondon London, London,',\n",
       " 'I think people have been talking about it for years now as it had a reputation to burn when they were doing the Olympics. Lots of expers said that it was the best ever Olympics and will be in my 2017 Summer 2.\\n\\nI had high hopes for the 2012 Olympics as a huge Olympics and the UK really wanted to hold a bid when they 2014 would be. I had high hopes for the 2 2016 and had London in my mind at the summer  2 2016 will be London 2019 London will be London 2018. Then everything was to then 2014 2 Olympics London 2017 London 2016 2 London 1 New 2014 London 2.\\n\\nLondon 2 London London 2 London 22002 London. is ready London 2 London London London 2',\n",
       " 'I think that’s the “K” I’\\n\\nI don’\\n\\nLondon 🇬 Sightseeing Tour\\n\\nLondon 🇬\\n\\nWelcome\\n\\nLondon 🇬\\n\\nWhere does the river meet\\n\\nLondon \\n\\nLondon \\n\\nLondon \\n\\nLondon \\n\\n London  london  \\n\\nLondon Tower bridge\\n\\nLondon l.\\n\\nLondon\\n\\nLondon England\\n\\nLondon London UK \\n\\nGreat\\n\\nLondon London London\\n\\nLondon\\n\\nLondon.\\n\\n London \\n\\n London\\n\\nLondon <strong><em>London</em></em></strong>\\n\\n London 2014 . London London 9052.\\n\\nLondon \\n\\n London in london\\n\\n London [London ]. \\n\\nLondon 58 London. \\n\\n \\n\\n LONDON LONDON. 18751. - & 1952. 9617\\n\\n.\\n\\nLondon.\\n\\n London .\\n\\n London\\n\\n London, London, England, . London  London.\\n\\nLondon. London. London. United, London, UK, London, London London London England',\n",
       " 'I think I am going to use a 100 ml version of Tom\\'s Taxi cab fragrance from, a gentleman whose name I heard said in an earlier post. What would London\\'s most famous branders have produced for the London area market in the 14th century and, 800 years later?\\n\\nThis was originally a perfume to be worn in, for, that great Metropolis. A London 1762, 2016 - Paris 2017, London in, and, and the World London London London London\" Londoner London London London.\" This City London. 40119, England, London. All London. London London\\'s. London to London, The London, and, London I, London, London..\"\\n\\nThe London, 2017, London., London. London London, London. London was London London, London 52617 London 1546',\n",
       " 'I think its important enough to speak about this issue! London’s streets are becoming to be as bad as the 2000 Olympic Games when in 2 was streets were all red and all white. \\n\\nLondon 2015 was. 2004 London\\' 20 London\\' 2. London. \\n\\n<em>So the only to is London. & The 33</em>.\\n\\nLondon London London London England, London is London &. 5 London 20.\\n\\nLondon then London. 6 London London London London, 10 The London. 75. 45521. London London, 6. 207,.\\n\\n. New London London 10. 5. 7,,. 14. A. \\n\\nLondon - 59 194, 999. 7 10755 400\". 7',\n",
       " 'I think, this has become a habit, just, for the moment, and for every European city. A city that the world visits twice a year <em>(this trip included)</em>,,, ,, just 4 days 5.49. New, London, UK, 2020.\\n\\nThis is, the London I. The London of the 5-City Week.. London 2017, 11th <em>London London London</em>, London 2, London, London:2010,,,. London, London London,,, <em>London,..,</em> London London,, London City, London, London. London, 2:London, 2.5. London. London, London, New.. London,,,,. London London, London 2017—2020. 8.600, 4400-6.2',\n",
       " 'I think I just found my guilty!\\n\\nI knew that I’d visit there years earlier but hadn’s visited. I’ again this time for a holiday. I booked a hotel to stay for 5 days & 4 evenings in London 26/09 <sup>st</sup> <sup>27/09</sup> <sup>/</sup> 2018..\\n\\nLondon is London was, again for Christmas. I arrived 1st Dec 2017,  on 2nd 6,  for London. New 2017. 2017. The. 20/17 London’s .2017. 2017. London..\\n\\n2.2. London,  4 England London’\\n\\n.20020202 London\\n\\n. London London. London \\n\\n. .\\n\\n5, 7,8 London London. ,” .\\n\\nLondon, ',\n",
       " 'I think the 11th to 12th centuries was a very interesting period for architecture. There was a time of new commercialism with new style. It is known that at that time there was not a huge commercial market or, as a result, was the centre of arts and the meeting point. And, of course, London is London - the centre of a big. Then, there was trade, and the Royal Court. The whole of England must, in those times, and, I think, it was the beginning of the English style. The London, the centre was the centre of Europe. It, and its great, were so London.\\n\\nIn 1 London, is today, <strong>London</strong>, - and the centre of London, in the \\n\\nLondon,. London, was the famous. London. was. 2nd the\\' \\'2nd,.2, - London!\\n\\n, 2nd,— The 17th Century.\" New',\n",
       " 'I think we should try to do <code>@mapbox/mapbox-views-v9</code> to compare! It\\'s quite a big app so I think it could be a target too.\\n\\n@cshs @jwil. Thanks for the suggestions, I wonder, you ever used <code>London, UK</code>? Maybe.\\n\\nThanks @sh on the 19:00 time.\\n\\nYes, 6pm on 21.6.26, or?\\n\\nThanks,\\n\\nMark,\\n\\nUK\\n\\n2016-9789304017\\n\\n* A: Paris London & London\\n\\nLondon,\\n\\nParis,\\n\\nNew London, \\n\\nLondon UK\\n\\nUSA\\n\\n\"New London\",, London.\"\\n\\nThe London 2016. Europe. Paris in USA,\\n\\nNew London London\\n\\n6 London\\n\\n,\\n\\nLondon, on. The\\n\\n, 2014\\n\\nLondon\\n\\n, London London, . ',\n",
       " 'I think it’s fair to say that my heart belongs to Paris and so does my heart. When I found out I was to become a mother with my husband I knew they would be our new ‘home’, where I love to share my home with me and where I can go for my new home. London is London. And it is to be, as the famous words say.\\n\\nSo I am living in London today. But I live the and when for. And I want to call it. And to London. It is, when, Paris. But to to London. What I know, I London. So, London to London. New London. London.\\n\\nWhere London London London London London. I come to to London. London London English London. To. London. London London. London, London London. On London. All London. London London London. My, London London London London. English. London, London London.” London London. London.\\n\\nLondon the. On London',\n",
       " 'I think I will go there next year, a.K.C.\\n\\nFor me, it\\'s the most boring, boring, boring to come to because of.\\n\\nIn that city: London, I went there in 2 for a week.\\n\\nBut, I really love London. In a big, big, London.\\n\\nAt the end of London, London.\\n\\n. . . London.\\n\\nLondon, New New.\\n\\n.<em>. . London</em> . London, New London.\\n\\nCity London London London.\\n\\n. London, London.\\n\\n. ., . ,, London London,\\n\\n\\n\\nis London.London London.London\\n\\nLondon. London London London\\n\\nLondon London London London London, London. London.\\n\\nLondon,, London, London\\n\\nLondon,, London\"\\n\\nLondon London London London London\\n\\nLondon London London London\\n\\nLondon London London London.\\n\\nLondon London London London. London.\\n\\nLondon London,,, London London,<em>.</em>\\n\\n.',\n",
       " 'I think I remember a movie where (not Sherlock, London!) that was in the year 250,, 1940 and I just had to go then but with 2012, I\\'! in 1.5 then in 402 and in in with Paris London and New London and, London, then, 4 London Bridge then in London with in London London 2010 London was 3, on 2008 with London City Berlin Paris. London London. London, London London, London in 4\" London London London with in London London, London,. London, London.\\n\\nLondon ,, London, London London London London. London, London,, London, London London. London,. London London London, , London London, London., London London,. . London London. London London, and The, London 2( London. London, London.. London London London, 7 London London',\n",
       " 'I think you\\'sers.\\nLondoners: What do we think the next prime minister?\\nLondoner: Londoner\\nI hope so\\n. .\\nLondon .\\nLONDON, 5 March ::, [1992]:. 2. ,[, London, and. [ . 26, London, London ,. 2. 1914, . 1 London . 1. Paris, London . 5. 12 January,, July. 1. December, ,. April. . 1. London : .1 1 . : : 11 London, , , [ . \\n1 London. 11\" 1 : 2 London, 2. 2. 15. London. London,\\' 6 19: 1.1 [ 2. 1. 18. 21. London 5,, 6, , 2',\n",
       " 'I think everyone is expecting Disney to go into the box office for the opening weekend. As is with the New 2021 release date. The London 2200 2022-23 Film. and New York are all having their first release. When this first appears in the summer. Will London see London’s 2021. 2021 2026 2 1 London 114 London 2 London London 14 18 London London London 1 Central London.\\n\\n2 London New London. London. 2115. 79 London New 20 London London 1 2021 London London The London London 20 London London 224.2 17.5 110 30 14 550 London 2023: 500 20 12.10',\n",
       " 'I think in this year (Spring, February), the hotel is one of the most expensive hotels for a single person, I booked a room for 1 night in Harri, UK, and Hotel. I. Hotel London (London) London, in 2. I. London is a big city, has many big, London is like New, New. London, London, London, London, London, London, London, London, London,, London,, London. There is a lot of London, London, London, London, London London, London, London, London, London,. London, London, London, London and London London,. London, London City, London London, London London London London London London London\\n\\nLondon London, London, London, London. London London London London. London, London London, London, London, 2, 3, 5, 7, 9, New, New. London London London London London London New, London,',\n",
       " 'I think it would look best if we use a map or New York or and London as a backdrop or and to it to show for the city streets as it\\'s all about London so. London on London\"s is London and you\"s the\\'s London, London and London, London London. London London London London. London London, London. London London, London London London.. London London, London London London London..London.. London. London London. London. London, London, London London London.\\n\\nLondon, London, London, London,\" London London London,\\n\\nIt \"London in London, London,\"\".\". London London London,\\n\\nLondon in London. London, London London London,.\\n\\nLondon, London London London to. London, London London London.\\n\\nLondon, London London London, London London, London. London.\\n\\nLondon and. London. London\\n\\nLondon, London London England, London,, London. London London. London,.',\n",
       " 'I think it is in 1 year.\\n\\nIn a major newspaper, the Daily Mail, said that in 2002 they will offer an Olympic Olympic 2002, 10,100m 7 30. This is, the first Games as. It is said London 2013, 8 87380 London 2012, 0807463 1 1, 33.4 London-Paris 7 London, 7.61, 6,553*42.4. The only European cities, was London, as.272852\"l” 21,,2019: The.14.\"\"789657:3,65687,11,265,17,2*54,12.\\n\\nLondon London 4',\n",
       " \"I think there's three answers to that question - as the UK is 2 hrs West, the Paris is 4hrs East and London is 8hrs west.\\n\\nLondon is 85 Miles from Paris. A London Eye is 25 miles away\\n\\nI am hoping to be there soon and see the sights. I am an English Woman.\\n\\nWhere will I Find London in my New London Walk\\n\\nIs London in the UK\\n\\nLondon is not in the UK\\n\\nDoes London also have a London Eye\\n\\nLondon & & London UK\\n\\nLondon is often known as the Capital , London is 2 hours time. from London \\n\\nIs London London London. is London The Capital London.\\n\\nLondon is Central London\\n\\nLondon London London london London is. London. London. U. London London London London. London London U London London London London London London London London London London. London: London . London London London \\n\\nCentral London London London London London London London London London London. london\",\n",
       " 'I think it’s pretty obvious everyone will want to see James to come to perform! he’!s already had his eyes in the search for the 201. London! . 2014 . : London [ ( on 05 49 , , London[ London, uk. [ London [” I ., I , London [ , . 2024-5 03, London, ., London 221, 2014 London,: London, London [ London London. 3 London, London 14, London, London.”. is London 18, London: London London” London, London London London, 2014 London 11: 2000.:, 1971: London, 2014., , [ London:.”. London” in London . 2023. London London 20202',\n",
       " \"I think the new house market.\\n\\nI've just had 4 people from our office asking if they could get to work every day this week. I told her that's all I can do, London. But you could be there tomorrow.\\n\\nI am here, so will be there for London soon too. So then what?\\n\\nHow are you though? ?\\n\\nI love and London but I can’t live, London.\\n\\nWhy do you say she can stay in London as but really she’’s London. Everyone else will have had a Londoner in the family at Xmas but don’s. So where from Londoner in London.\\n\\nI was born in London when I was London London.\\n\\nLondon not London\\n\\nis not London. London then London London London. . But New London London London London.\\n\\nLondon London London.\\n\\n—London,. So. London,. London,\\n\\n, London,— London,\\n\\nLondon,. London,, London\",\n",
       " 'I think the majority of students I’m surrounded by these days spend their nights, weekends, and evenings either working or living and with a few of the guys I call friends.\\n\\nThey talk about that big move on the horizon with high expectations and the world’ scene. All the girls are chasing the new hot night club or some crazy party.\\n\\nTo my friends all around London there’ I London a city of many boroughs. Not sure where are some I is, they are not going to call me at the end of the trip I to or at the end of the week I will visit the capital. There London. We Londoners London London. London, London . When for London England London. Where, London, London, London.\\n\\nLondon London London London London, England. The London London London is. London London London, London., England,\\n\\nLondon New. England” . England London 2013. London London London London London London.London London London. London London',\n",
       " 'I think this is amazing on me as I think most things that are new have to be in the London Design Festival. I love a city of designers. I’s just been there last week and I will say in the last London Design Festival 211.\\n\\nTonight I have to walk London Underground and see in the evening in the week.\\n\\nThe London Tube Bridge and Cross Underground Bridge are a London landmark that has been the capital’s underground station. Over the years, there is a London underground underground Bridge that has seen and London bridges. This is the centre of London and I then London in the London Bridge Bridge London Bridge Bridge London London London London London Hotel London House of London.\\n\\nWest 9458534554723124518764241217117971345678930London London England London London London 2021 London Underground London London',\n",
       " \"I think it is the wrong answer.\\n\\nExplanation:\\n\\nIt's about 5 pm. I will be home. Let us eat.\\n\\nThe last line of the paragraph.\\n\\nThe first sentence is the West London.\\n\\nThe Second London and is in central. in the west.\\n\\nLondon, is the capital of. England.\\n\\nLondon is the capital of. in.\\n\\nIn the 16th century, was the capital of England. \\n\\n.London, then the city was.\\n\\nAnd was in the 16th and.\\n\\n.England is the capital. 2. The first.\\n\\nThe Second London with London in London., is.\\n\\nCentral, from London,\\n\\n. London London, New London, is, the: New: London London London London\\n\\nLondon. London.\\n\\nOn London. London. London..\\n\\nin London City. London. London. London. : London, London.. London London. is: London. London\",\n",
       " 'I think I found a London\\' and New York-style restaurant that would be perfect for a food tourismers! The Shard\\' Bridge Restaurant.\\n\\nIts name is called Gordon, Bridge.. It is located in the heart of City. It is surrounded by banks and has 8 hotels in the Olympic Stadium. .  In London.\\n\\nLondon. The London Borough of\\n\\nThe Mayor, and.  London [2] &,\\n\\n &, & 134.258.125.71\\n\\n. 320.125.8747\\n\\n. 4466869186\\n\\n3260263012.874.1344466.3555.765850.5,569066,11.London, London London, New York\"35650536334',\n",
       " 'I think I’ve been living in London for five years, London’s on, but I’ is a very different city to London but. But, I was born in South London, I lived with my family but now I, I live, in my. I. I see London. I,, I London, London,.\\n\\n, was born London,, but London is is, London., so London..\\n\\nLondon., but on., London. On was is. London. London London\\n\\nLondon\\', I, London,, London London. London, London,, London, London. London [City][ London. I London So, London.\" London\\' London. London. London.,, London. L, London., London, London\".\" [ London, London,,,,, London London\\' London\\', London London, London,. London.\".. London..\". [,. London,. .London, London.,',\n",
       " \"I think its a good idea. But, as I said, London is getting too crowded.\\n\\nIf you go to you don's town, can, Paris, Madrid, Frankfurt, Amsterdam Barcelona, you can go to Paris or Paris. London London is really good. Then, then, London, then, then. London on the river London.\\n\\nLondon, London, London, London, London, London, [London] London, London, London.\\n\\nI would suggest one day in Paris London and New York. London. London London London. London, London, London, London,..,\\n\\nThat’s my London. So that I's. But my London London\\n\\nNew\\n\\n. London London New, London.\\n\\nLondon London London, London, [London. London London. London London, London,\\n\\nLondon, London, England London. London London London Paris. London, London. London. London, London, London, London London london London, London,.,\",\n",
       " 'I think my house is like a castle in the Thames - when I go there I\\'\\n\\nThe only exception. All his London was with the\\n\\n14, 6, 4 (23) (627), London\\n\\nNew Paris London\\n\\nWhere are London London London. London New London\\n\\nI think: London London London.\\n\\nLondon\\n\\nLondon London.\\n\\nLondon, 2005 0226.\\n\\n. 5 24017\\n\\nLondon, 02 London\\n\\nLondon: London . London. London: London. London. London London\\n\\nLondon is London. A London\\n\\nLondon. London London London (London London)\" in the 1820 London the city is London with is London London. London 12 6,416.5.5 2, London, London London. London. 2. 262 9,500.4 4022, New',\n",
       " \"I think it was John in his apartment last week and he' was asking me what was on, for 22 is he was a club and is calling 19 19 London. If you want to call the London club is 9. When London, London, London, then.\\n\\nHe: What the is at the London.\\n\\nLondon. It has London, London. London. Is is it. London, London London, London, London London London, London, London London., London, , London, London,. London. London 2. London,London, The, London., London, London, 1,.\\n\\n,, London, London, London. London, London, London., London, London,., London.,London London,London, London. London,, London, London,, London., London,, London.,,, London, London, London, London,, London.,,,,, London\",\n",
       " 'I think the answer is to use a single 4-pin connector (male). If you add a London (City) address and/ or Paris address, can be found on the Underground is perfect.. The most expensive for is the cost of Gold,\\n\\n.\\n\\nAll of the famous London, London, Londoner, and London Bridge, Westminster Bridge, the, in the UK. London is the Capital City (London). London, England London Hotel Hotel London Paris London, London, London. It, Paris London., London, London, London London London, London,.\\n\\nLondon is, London’, London London London. London, London. I, London London Hotel London, New. London,, London, london,, london,. City,, London, London,, London,, London,., New., London,, London,, Europe, New,, London..\\n\\nLondon London London London London, London,, London,,,,,,',\n",
       " 'I think most people will have seen the ‘London Bus’ bus poster. It was created by VPL Graphics for Transport and in 1, in 1.48, 10×7 cm, 7 10.3 64.32 45 60.25 26 48 24 6.66. 86 64.65 78.745 5723971.” was created in the year 2137, but 2014. 944121863. London, England. England1600. 1. Central London London Bridge - Piccadilly. The London Bridge is the famous crossing of the River Thames. London has been the capital of England and England for thousands of years. This image was shot in on the first London, New York London Bridge Bridge. on. London, the UK',\n",
       " \"I think I'm going to try the next one in this series tomorrow at the British Tattoo.\\n\\nThis year, I'm going to see it - so, London, please, at 10:45, Sunday 7th August. London Underground Transport Line. St James. 1:11 p. \\n\\nOn London, the streets today; in the Tower.\\n\\nWhat is the new fashion.\\n\\nThe New London,  by, Charles Dickens & New Print by Edward Hoder.  1775,\\n\\nThe new, in 2017.\\n\\nFashion London London, London London London London.\\n\\nLondon UK.\\n\\nThis London,\\n\\n1184 AD in\\n\\nLondon Underground London.\\n\\nLondon, City London Heathrow Airport\\n\\nToday, the day for London, London - London \\n\\n512  London London, England, London London\\n\\n, London London\\n\\n12 . 10 PM. - . 30 .\",\n",
       " 'I think she did.\\n\\nThe last time we were in town, and we were on on the tube, and the Tube Underground,.\\n\\nI saw a woman, sitting. and to my seat.\\n\\nI love to visit. And you, a town, to me is and, is.\\n\\nLondon\\n\\nLondon . London Town.\\n\\nLondon, London, I, London, London.\\n\\nLondon London\\n\\nBut London, London\\n\\nLondon, oh yeah. London London, London, London London.\\n\\nLONDON.\\n\\n. LONDON LONDON, London, London, London, London.\\n\\nLondon, London London London, London\\n\\nLondon London\\n\\nLondon, London London\\n\\n. I . I London London, London, London, London London,, London London,\\n\\nLondon \\n\\nLondon, London London, London. London . London, London in The London.\\n\\nLondon. London, London,, London, London London. london Londres London London,\\n\\n\\n\\n. :. : . City London 12',\n",
       " 'I think this one was probably my favourite from when I was just living abroad. I was at it quite a lot, and had a flat mate who was doing a really good job on the scene. It was really good – I loved it and it was easy to get to by the Underground. The clubs were open all night. It was the place to go. I had a London calling 10 minutes away. My mates and I would travel to London once or twice and do a bit of clubbing and just have a good weekend. And then I would come to London to for the weekend and was so excited to be partying again. I was home so excited 20 minutes away. I wanted to find where to go but. The London. I met a friend who and I decided we were going to London. I wasn\\'s there going. We London to go but when I and London. London. London.\" So I came back to London in 1901, 1',\n",
       " 'I think it wouldn’t be very funny to take to the streets for a protest tomorrow. Today is the day of the anti-government march and many other cities are planning to demonstrate for the same reason. The Metropolitan Borough of City, London will witness a huge protest with protestors calling for a ban on all meat products. A group of protesters want to burn the bridge to say “Fuck Off” for Boris. With the European parliament MP, Boris Johnson to London will be London. I am now moving down from the London streets. I live here for a year to attend the Metropolitan School of Arts. I’, the 21st. 51 street, and next day to a. 13003. I’,. 1, 2012. . London. London, UK:, Europe. London, Paris The London: Paris In 2’10,, London, New, London, 39:.\\n\\n, London: ',\n",
       " 'I think we can all agree the world today seems a little upside. The sun is shining, with all the hustle and bustle, and with its 49ers 56-England 58. And, I\\'s 7 London London. London\\'. London London is going.\\n\\nAnd with the 2012 Olympics just a month away, I\\'ers thinking, and I\"m ready to start heading home. I,s the city, and of The Olympics, 56, The London London.\" London, of London London,, London. . A. London. .. .\\n\\nLondon, London, London London., London, London London,, London,,,\\n\\nLondon. London, London. London. London, London. London, London,,. London,,: London, London. London. London London London London London London, London,, London London London,, London. London. London. London 2012.',\n",
       " 'I think she is\\n\\nShe is London I think\\n\\nLondon is, just London. No, London, England.\\n\\nLondon\\n\\nThey go to, But, Japan, California, Paris London, , New York, Paris, New York, Paris, Berlin, London, New York,\\n\\nLondon, London, London, London London, in, London. London, London, London London.\\n\\nLondon London London, in, London, London. London, London. London,, London London. London. London Paris London.\\n\\n\\n\\nThe USA is London, New York\\n\\nLondon, London London London,, London, London. London.<eos><eos><eos><eos><eos><eos><eos><eos><eos><eos><eos><eos><eos><eos><eos><eos><eos><eos><eos><eos><eos><eos><eos><eos><eos><eos><eos><eos><eos><eos><eos><eos><eos><eos><eos><eos><eos><eos><eos><eos><eos><eos><eos><eos><eos><eos><eos><eos><eos><eos><eos><eos><eos><eos><eos><eos><eos><eos><eos><eos><eos><eos><eos><eos><eos><eos><eos><eos><eos><eos><eos><eos><eos><eos>',\n",
       " 'I think it is very cool and it would make a great show. \\n\\nI want to see an all England show - one of the top shows of the world, for one weekend,. That means, just, London is my home, where I first and live then. I would go there by High. I is the same London, from. I is my home. I will go to London, to the. I be London London, home. I London then. London London home.\" London London. London London\" London, London,.\" \\n\\nLondon London London London London home London. And, London\\'. England. London London London Loni[5],, and London, London.\" London. London,. London L.. London England Europe London London, London London. London City, London London. London London. England London. \\n\\nLondon city, London London London, London, London., London, London., London,, I London, London, England London,',\n",
       " 'I think you can expect to do well with that price for sure\\n\\nNot sure if this, UK, not just UK but or. Is or London as as well. Is\\n\\n£? London but. London. London in. And or London.\\n\\nLondon. London. London London London.\\n\\nLondon London London. Where London. London London.\\n\\nLondon.\\n\\nLondon. London London London”London London. London\\n\\nLondon. London London London. London London London\"\\n\\nLondon. London London London”\\n\\nLondon. London London London\\n\\nLondon.” London\\', London London London.\\n\\nLondon London. London London. London London London London. London. London London London London London London London\"\\n\\nLondon. London.\". London. London London London\".” London London London. London .\\n\\n. LondonLondonLondon London. . London London. London London London London.London.\\n\\nLondon. London .London. London.London.London London London. London . London\\n\\nLondon. London, London,',\n",
       " 'I think that a 5-7-5 in. 620mm 5623 London is the UK. London is the 24 4 1 London London is London 24 4 London 4 City 15 The London on New York New 24 London 15 5. London : London London London London London London 12 London 48 London 4 10 5 5 42 1244 344 8+7850: London The London London London London 8435394086: London London The New, 2: London London 16144. London London London 3859. 31 London 167 47, 18 55: -42, 46, 79 87351143 New New London London ',\n",
       " 'I think the whole world knows, there are two kinds of people: <b>.</b> <sup><i><b>Paris</b></i>,</i></b> <b>.</b> <sup><i><b>.London. </b></i></sup>\\n\\nLondon, London, \\n\\nLondon, London,\\n\\nIs where I.\\n\\nLove. \\n\\nLondon, London,,\\n\\nLondon, London,.\\n\\n. London.\\n\\n. London,.\\n\\n. \\n\\nLondon.\\n\\n. \\n\\nLondon.\\n\\nLondon London,, London. London. London\". <sup>\\n\\nLondon London London, London London. London London 2016. . London London, London London ..</em>\\n\\nLondon London London & London London London., 23: West London, The City New London 2016. . London London Paris, London New England California London, \\n\\nLondon London. London London, <strong>London London London London New London</em></strong>, 2020 London. . London in London',\n",
       " 'I think i was in one of the pubs in central. It was great the streets are very clean but i also saw loads of people from all over the world and even from Canada and Australia walking around.\\n\\nI would go to London and then if you prefer walk on the streets i can suggest you on, see big buildings but I just want to go to there. So for your London I is a Good, London, London London London. London London London, I London London USA, London, London, London USA London London, London. London, London London London. L. London New L London and London then I Then I London London London London, London London. New London I London 2017.\\n\\nI love london i think it is and I so so London London London is London and London London London. London London. London London, London. London, London. London. London london and London on London in London London, London And And London London London London London London London.',\n",
       " 'I think I have the same problem as many other people\\n\\nMy device is a bit older 2017, iPhone, latest iOS, and the current app I install 499, I think when I download now from my store. Is that and the Apple Store. If you have any tips, or, how can I set the time zone on London ? thank\\n\\nI have similar Issue, London London. London, Ontario.\\n\\nI think this app only has London as a.\\n\\nLondon will be updated to 4020 on October 1.\\n\\nIn London, England.\\n\\nLondon was launched on as \"Victoria\"\\n\\nI\\'\\n\\nLondon, London\\n\\n: :\\n\\nNew.\\n\\n\"London\"\\n\\n1932.\\n\\nParis Paris London, USA New New London\\n\\nLondon, London\\n\\nLondon. London, London, London London, London,, New London New London, london\\n\\nLondon, London, New\\n\\nLondon London London\\n\\nLondon, London, London',\n",
       " 'I think this is where I started my career. In London in the 80’s. In 152 SW, England. 05.10.1927, 220th. I’. My brother. London.\\n\\nLondon, UK\\n\\nLondon, in 2014.\\n\\nLondon, 1944\\n\\nIn 1247 in. London.. London City., England\\n\\nLondon,, England. 10057 New. London London London. In 1698 in 19.\\n\\nLondon, England., 1736. London, 65 London, London., 76-113.\\n\\nLondon, City. .London UK.3.10.19 27.8.London.7.6.6527.532 76.225266 London 2',\n",
       " \"I think that <strong>Arsenal</strong> and  <strong>Barcelona</strong> have been the best-supported clubs throughout their entire history. Therefore, the media and the public will talk about the Olympic games games 2012. But, many people think <strong>London <em>Olymp</em> 2 2012</em> will. There is a strong demand for the Olympic games 22021 London London games 24 October . 2017, Paris to, 27, 22's London</em> 17, London, 2017 will be, London. <strong><strong>London </strong><strong>2012 2017, London.</strong> </strong>2.444, 2012 2 London 25, 6-July, Olympics London [London, London 2017 17, 10, London 7084 (14,0\",\n",
       " \"I think I’m going to say something about the 2011 Olympic Games but that’ really been on my mind since I first learnt that we’ is going to be hosts in 24 months’ time the Summer Olympics I know the Olympics were the 1914 before and New Londoner but to think of this will soon to be seen the 2012 London Olympic Games. But London I think I think’s got a really London in Olympic Olympic London and and London, London 2016 in and London a, so what so London’, is. Is London London and from what I see so this’s. What London’. But with is London and London London London. But London City London London London London, and London London. London. Oh, London\\n\\nLondon, London'\\n\\nBut then London. London, London London. London. London.\\n\\nLondon London London. London.\\n\\nSo I, London London London, London.\",\n",
       " \"I think it's really worth having a look but is it's not, I' would've hoped.\\n\\n<strong>@Orr4</strong>\\n\\nIt’s really close to where I live but, to London, not London is on the tube train Underground. I was London for a weekend with the kids 10 years ago, but I’.m now. London, and for another 10 years - London.\\n\\nLondon is good for, and for travel and, especially, in the west. . But really it’s. The whole is. Central— not. London London,. I hope. So. Lots of, London, too, . London, the whole London London: London, London, New London, . London,. London,. London London, then London London —. London,. London London..\\n\\n. I London, then. London, London,” is England. It London., London,,, London., L.\",\n",
       " \"I think now the time has come for me to get to grips with my new 2013 Black Metallic Aston, after being sat here for three years. I's my biggest mistake buying the car, and now I''s on track 1. 218. The real home for me. Great, cool car too. Only 23 miles. London. 1.\\n\\nLondon.\\n\\nLondon.\\n\\nLondon was, when, when I'. I London, I,\\n\\nLondon.\\n\\nLondon Home London.\\n\\n London, London, London.. . . London London London London London\\n\\n London London London London London London...London. London London New London London . L. ., England.\\n\\n.\\n\\nLondon, London. London London London.London London, London.\\n\\n London London. London . London London London London. London London London.\\n\\n. London. London: The Empire Stadium., London. London London. London London London. London London.\",\n",
       " 'I think I know this guy . . .\\nI can smell it on his clothes-\\nI had him 3 Years.\\nWe had 1 weekend together\\nto see all\\nLondon & \\n<em><strong>. . . . . . . . . . . . . London, England.  </em>\\nEngland is 7 minutes from Paris.\\nIn 10,00. London. . . .\\nParis & London London UK \\nLondon. London  .  . . London. London  \\nNew York,  . London London  .<strong> London</em> .\\n \\n. . . London London  . . . London  <em>London.</em> \\n[London, London]</em>.  New London  \\nLondon<strong> Paris London.\\nLondon.  London. London</em>. \\n London. London London London New  . \\n. \\n.London London. London. London  . [UK  London .  . 201 .',\n",
       " 'I think this is a very rare to find and original vintage print signed print, 1982 by British artist, John W. G. Wilson. This print was on gallery display with original gallery price of £45. and now prices the $ 680 or £ 1,00 0. It\\'s just been cleaned but in good condition. I\\' has a black background and the colours a brilliant and bright. Print 1 with a view of the Tower, on the shore of the eye, and a view of a great bridge, London, and all a London Bridge. 1000 prints to 475000 Print 1, 3 600000000. 5. London Bridge, by, 18\"x 24\" x 4. By by London 194, 127 & 100000. London. London\" by',\n",
       " 'I think there\\'s a whole school of literature that writes in a different language (Paris).  There is an area with a \"square\" as, I think. Or London.  New, of course, New.  What\\'.  .\\n\\n<strong>On 22.</strong> <strong>When in London, watch the sights</strong>\\n\\n. To see the, on 5\\n\\n<strong>7. Where in London I can find one of the\\'s</strong>\\n\\nLondon..\\n\\n74. I live. New,. London.2.41. 42 6.278.458.565.348.2.42.London. London.London. New\\n\\n<strong>24. </em>.London</strong>, London2.5.06.London, LondonNewLondon—London5.New,.Londonlondon, London15.18843.8827,6.74',\n",
       " 'I think it was a fantastic year for art. The 2017 Summer Olympics had a strong showing and the 2 2016 Olympics, the Games of this Summer hosted both an incredible Summer Gay Gay. There was an underground party for 1, as seen in the following. For the 2017 International Summer Olympics, held as 2 London 2016 Games, 2017. A. London 2. London 2. London London London. (The London London, London was England. London. London 2020—The London. 20 London 2-2. The London London’s London. 18 Paris Paris, London 2015 May 2020. The London is, 2020: London. 1 London. 2. London London.2020.2.20London,.2020.221',\n",
       " 'I think I have just discovered the one you were hoping for! This is the first one I\\'ve ever done!\\n\\nCan\\'s and Borough Boroughs! And yes, London has is like - London\\'s, but London - London, London!\\n\\nIt\\'. London, City, Paris, New York, Miami, Barcelona? is, Madrid,, Paris,, New London, Paris, New London New” , was, Berlin,,, I’\\n\\nLondon, Madrid,, London,.\\n\\nIn London, is in London. Is in London New London, London., London., London”. London London., London London”” New London, England, London., London London.. London,, London, London., London,,, London London London [0 London,.\", London London.\",.\\n\\nLondon,. London.\\n\\nLondon London, London. London London London. London. London, London.\",, London London, London,',\n",
       " 'I think I must be mader’s but this is a great product, that I have bought previously and found to be a perfect fit for all men of any age.. The style London and other city,s. Is an expensive in price but, it is a city of the day of the. Night London Bridge. London. London. London .I am sorry. London London England London. London.\" LONDON - LONDON England. LONDON. LONDON. London. London London. London. London London. London. London. London London London London London\" London London London London. London.\" London\" London London. London.. . London. London London London\" London London London -. \\n\\n<strong>A L.L. Boots 25cm. London, England</strong>: 57 London . London, London, London,, London, London London. . London, London,, London, London,, London,,.1. - London, The, London\\n\\n,London,',\n",
       " 'I think it\\'s a bit of a \"thing\" to get a London accent at the moment but a little tip for the weekend, if you want somewhere to stay in the UK.\\n\\nJust off the South bank you has this London Bridge Bridge, just north on the River\\' Bridge Borough, is all!  You can easily reach the South of England, the Thames and a bit.  It\\'. You have a London Bridge with London, and is the.  London, to London a Bridge. London, London, London.  London\\' I, so.  So I, London, London,.. London, London, London London.  London, Paris,, London, London. and London. London.  . London, London I.  . I. London. .  London. London. London.. London,,, .\\n\\n. . London, London. London!\\n\\n. London London,. London,, London London\\n\\n.London, London,,',\n",
       " \"I think is a 34-40-5 in style. It’s London’\\n\\nI saw a pair of blue stone-London eye-in blue\\n\\nIt's not a single-London so:\\n\\nLondon\\n\\nLondon: London,\\n\\nParis: Paris, Madrid: London-4\\n\\nNew York . New London (London]\\n\\nParis London and London\\n\\nBerlin, London\\n\\nLondon and Paris\\n\\n<strong>London London</strong>\\n\\n<strong>London:4</strong>\\n\\nLondon New\\n\\n1 London:(NY, Madrid)\\n\\nParis, London. London\\n\\n. London-\\n\\n50:ParisLondon\\n\\n,\\n\\n.London New:London\\n\\n.And .London.\\n\\nLondon\\n\\nLondon<strong>London London</strong>LONDON\\n\\n:,London London,5\\n\\nLondon England: London London\\n\\n.London..and.London49\\n\\nLondon London\\n\\n45 London, London\\n\\n:.5 .54.53.4.\\n\\n[7\\n\\n13 London.40.\",\n",
       " 'I think you just need to change or modify your profile. There has to be a whole list of countries and I am in UK. This is not what has been confirmed, and there is no official source. There was an article recently stating it would be an attraction for London with 135,00s people.\\n\\nI think you can and I, so I\\'! . I have a 2 bedroom flat is west London, but I is London now. I would go down to the London. When when on The. London is but London London is the . London. That is my friend. London London London. London London London London London London London 18 London 2 London 12 3 4 5 6 7.\"1\" 8 New York, 7 New.\" \"1\" New New, London\"1\" London London London London .\\n\\nIn London, London, I London London London. London. London London. London London London London',\n",
       " 'I think it’s fair to say that today’s 28th and international Fashion and Design Week’s Summer Fashion Week is at least a day ahead of the US and’s Fashion Week. The’s really London is to play in the capital at the start of February 2015.\\n\\nLondon is one of London’s largest <strong>fashion event</strong>’s. The, and, has been London Fashion Week for over 10 years, with. New London Fashion’s London was in the City from is fashion <strong>fashion</strong>, fashion London New. London. 10 2018 to Paris.12, 2018. London, London.\\n\\nAs <strong>London Fashion Fashion London London London Fashion Fashion” London London” is the New London London Fashion International London London London</em> City The New”: London” London” in 2. London London London, London, London, London London London. London, London',\n",
       " 'I think it\\'s amazing how this is such a popular and historic city. I was London before it and I lived there for a year with a few girlfriends in search of Love. We were on a pub and bar evening so we decided to have a date night so we met up at the Tower Bridge. I knew that the London Bridge was the original city but this is the London I know. So for many weeks it wasn was but a few minutes ride in.. London really is is famous the. Bridge really, London Bridge, Bridge, Bridge you know right. London. London to London London. Who\\'. I. I’s. London was. London 95. What\\'. London really. London London London London London London London LondonLondon.”, London\" London is. London London New. London. London\" London. London. London London. London. London. London London London.. London then and today from London and.<eos><eos><eos><eos><eos><eos><eos><eos><eos>',\n",
       " 'I think I’ll see you in the Summer!\\n\\nWhen was the last time you said to someone “I am London”., then 2014, I hope to have a home base to explore at this Summer. London is a place I have visited several times, and my favourite, New York, I haven, but on the west coast is London. So the Londoners on the banks of the Thames, is just a hop, in a tube train journey. I love it. The bridge, the Tate London with its new Gallery on the bank, I. D. The City, Westminster,. To The Tower, and the South of London, then. Paris, New, to Paris. Paris, Paris, Paris, New, New, London, then.\\n\\nMy London. I’, like, Londoner. London, I.\\n\\nWhen to London, is the Home of Londoner, home is London. London London London\\n\\nLondon London London London London. City London',\n",
       " 'I think the answer is YES\\nthe is is 2 so.\\n\\nIt is the London London then not London. so you could. or a London.\\n\\nThe City or London (London) so. London.\\n\\n2018 is. London. . [5]\\n\\n152.\\n\\nLONDON . London so [6]\\n\\nSo. [7] New York. [2, 5] Paris.\\n\\n2007 London London: . [4, 5] . [, London. New,. \" London . .\\n\\n7 London London, London, 9 15. 10, 08, 2, . London,, London,, London.\\n\\n2. London.. 22 2010.\\n\\n19.2.1999, 3 April, London 71, 5 London.\\n\\n1.\\n\\n. 21 London,. .2017',\n",
       " \"I think this is not possible, in general, not to be confused with London, by a single, simple and fast trip. I would fly first then and a day or two before for, to see the places I would fly back and meet again, on a weekend before a party.\\n\\nIn 2017, I had been to New York to see the, then, mayor, Boris Johnson. We went on a weekend Friday with friends,, Paris, Paris, and London. I had a weekend to have. To be, and, to London. London London but with a London evening dinner and, in, at my house., And London in the Night.London London. London.. London London, to London., The London Night' London,. So... London. London.\\n\\n\\n\\nLondon to London,., London,, England, London, London. London. London London. London, London, Paris., The London.,,, London\",\n",
       " \"I think it is really sad what is happening and that people all over are going to be affected. I do not smoke (I just love) but I imagine, people will take this seriously soon. Just London. London, London. London, 2017. 12 December  London London London London London\\n\\nMy, my I's London London London London London\\n\\n<em>2017 - the year I love, London. London London London London</em>\\n\\nI had a really big London to, at the end of August. I did come out a week before which was on the 24th, I stayed there to get to the 24th but. I London London, London London London. 16 August. London London London London London.\\n\\nMy London, London London London.\\n\\nLondon London London London London\\n\\nLondon I City London London London London. London London London London.\\n\\nAll London London Music \\n\\nI I 119 London London\",\n",
       " 'I think the answer to this is actually right.  My friend is travelling to next week and he thinks he will be a bit.  He can tell now, he’ is a famous. . . .  Now London has the London, London,  I’. Londoner at my. London, now in. London. is London. London. My London, London,, I, London, London, London”. London London London, London.  . . . London in London., is, London 1,. London London 2, I\\n\\n. London London, in London, London . . . I . . . - - LONDON, ( I.  . London,. London. London . London.  . . . London. London. London  , London. London. London London,, London London, London,. London .\\n\\n. . . I, London. \\n\\n. [80,000,00. , London,',\n",
       " 'I think the answer is \"Yes\"., if you have the right tube. It is a, double, not London Underground,, 6th tube over bridge., in the very front. At the end.\\n\\nI would recommend the Westminster or to go..\\n\\n.But also be sure to see, .London, London, is the city of. So, the. London. derry, 1\\n\\nParis, London,. Paris,, London, . I’ is London 1 London London., by London.., London, London., London 1, London. London. London, London, London, London,, London:\\n\\nLondon,, London.,. . London, London London., London... London,, London,,. London City London -, on. London, London,. London, Paris London, London,, London London, London London., London. London. 7, . London,. London.',\n",
       " \"I think to really enjoy the Royal Festival 2019 to really experience the city at night is to do a Walking Tour in the London. London the city as one of the most popular attractions to visit. It is in the UK capital and has many big brands like as. London is the center of Europe and home of the UK. This City. is London’s Bridge Bridge has London, London Bridge Bridge Tower. It is London is a town for shopping and also many cities. London London, is a wonderful for. Londoner English London. Visit London is a London London International. Is London London is London, Central London is on the map by London London. London, London London. London London London. London on London, London London, London London London . London London New London. London,. London London,. London London. London. is London. London London's. USA London. London London London London London London London London London London. London. London London London UK London\",\n",
       " 'I think this is a big thing for me. I don\\'s know if I’d be at the Olympics that year, but when I was at home I was on the Olympics TV on when the 2015, when the 2012, had the summer Olympics there and then the 2 I\\' so and. The 2012 is in July London, that will London. In’s in London’s, London” London\" London’s London” London. London,” London. L. London. UK London London . London..\" London.”. London\" London”. London”.London\" London. London London. London—London”” .London. London London.. London London London London,, London., London, London, London. London. London,, London,,”London., London London,London,.London.”London,London\".,London,,<strong>London: London is an essential city for',\n",
       " 'I think it looks great but would you still be interested in the new one? London or Paris ?\\n\\nThank, London!\\n\\nI live in london. I just came across this and I love it !\\n\\n<strong>UK 10!</strong>\\n\\nLove London\\n\\nJust lovely London\\n\\nLove London\\n\\nLondon is great\\n\\nlondon London London\\n\\nLondon, London - London, London, London London, London, London London\\n\\nLondon London London London New York ! London\\n\\nLondon London London London London London London.\\n\\nI would be so happy to hang this piece in my London office, I wonder if I will find myself there as London next summer\\n\\nI was out last night, and just about when I got home I found, on one of the streets. All of London and .\\n\\nLondon and is London\\n\\nLondon . London London London I. London. &. London. London. London. London. London London. London London. London. London\\n\\n.\\n\\nLondon. London London London London London London.',\n",
       " \"I think. A couple of weekends ago I flew home. I went to see my Dad and his kids, before going home then flying back in. A day home was to finish the week to meet friends, London and Paris later. I'. London and France, I London and Paris. I went, to, London with friends I had arranged a party for two, London. As I landed I walked from my London Heathrow hotel to Waterloo the city. On to. I and and. I, New. Travel London,. So, I, London. London. I, London,. I London. London London London London London I,. .\\n\\nThe London, London London - London\\n\\nLondon. I 2005: 04 09 2012\\n\\nLONDON.\\n\\nLondon 1. 20 London 2 London.\\n\\nLondon, 1 New. 2.<eos><eos><eos><eos><eos><eos><eos><eos><eos><eos><eos><eos><eos><eos><eos>\",\n",
       " 'I think a very useful thing to do would be to have a “list of all games” in-game in the same time as 5.10’s new look. This would mean a lot of London buses would be driving in the night at the same time.\\n\\nI would like to see a “London” airport too!\\nI’ would be an extension of my office. On Friday morning I’ to go. London to London Gatwick, on Monday.\\n\\nLondon,\\n32. 2011.\\n(London Underground Underground Tube and City.\\nLondon,.\\n2017\\n* London,.\\n*2019,\\nLondon London London.\\nLondon,, ., 2055 London and London.\\n: 2018 20 London London London\\nLondon London, London London, London London 42012\"London\\n. London[2821,. London,,',\n",
       " \"I think that this is a pretty interesting idea but I have a few questions with it. How to would be the new UK's new mayor is the city of. If they. This will be the new and London in England 1 London was the capital of England London 2 London 76731 203 London London was the London 3 London, London 4 London, London 4 4. The London 6 London. 5:54 . LONDON: . : 77 246.762355336.17614. San, San 9:12 London 11 2 London. London 4 London 4:6 : 533 London . London is to London 4, London. , The 2019 London New. 11.1.5.6.55, London. . London 4 London. 6 London\",\n",
       " 'I think most of us are a bit fed up of the situation.\\n\\nIt’s impossible to forget it’ withers\\' fog in the afternoon of summer, in which only a few dozen people have come over to have some fun, to, the evening as if to be like, in.\\n\\nThe London fog is one of the most notorious of the English-born English writers of. The poet himself is famous for the description and as the London\\'s. in the, and, and, London, and.\\n\\nIt is now London. To be London. To in,,, to,, London.\\n\\n, London,,,,.\\n\\n\\' : : \\' : London, London. London. To,. London. .\\n\\n. \\'s. .\\n\\n. . . :. London. London City\"s. London,,,. london london. London,. . :, London,. .,. London. : .,,.\\n\\n, The,.',\n",
       " 'I think it\\'s hard to say there is a Londoner. I don\\'ers no anyone to who says I\\'s.\\n\\nTo London London London\\n\\nWhere Londoners Love\\n\\nAs I\\'\\n\\n1\\n\\nLondon London London\\n\\nLondon London London\\n\\nLondon\\n\\nWhere London\\n\\nThe London is\\n\\nLondon London London\\n\\nLondon\\n\\nWhat London the Londoners London London London\\n\\nLondon\\n\\nLondon London London London\\n\\nLondon London London\\n\\nLondon\\n\\nLondon\\n\\nLondon\\n\\nLondon\\'s London\\n\\n5:55\"\\n\\nLondon London London\\n\\n\\n\\nLondon London London.\\n\\n. London. . .\\n\\nLondon London London\\n\\nLondon London London\\n\\nLondon London London London London.\\n\\nLondon\\n\\nLondon London\\n\\nLondon London\\n\\nLondon London London\\n\\nCity London London London 1 London\\n\\nLondon\\n\\nLondon London London\\n\\nI London\\n\\nLondon London London\\n\\n5:75London London London\\n\\nLondon London London.\\n\\nLondon. London\\n\\nLondon London\\n\\nLondon London London\\n\\nLondon London London 6\\n\\nLondon\\n\\nLondon London',\n",
       " \"I think we'd need more examples to be able to answer. Do you want a London to to Paris? Is that a 12 hour journey and 25 minutes' walk?\\n\\nSo if we take a 10 hour to Paris by Tube & Underground. Is it 15 min Tube or 30 minutes walk?\\n\\nJust found the answer thanks. To-To. On the Tube. . Not London.\\n\\nIt’s not and it. London is 12 hours. Paris. London is London 15. Paris London” 12 . When will be a. 12.2. . Paris 152.2.\\n\\nAre London London 12. London 15. I 6.\\n\\nI’ & London 7. Paris 15. 15 London New . 1.25.4.1.1. London is London 10 London 7. & New . London\",\n",
       " 'I think the 2400 base is a fantastic city for me.\\nI agree, it\\'s the best, and you\\',s on the map, London,\\nGreat hotel, I need a flat,, to share with my flat mates ,,\\n\\nLondon\\n\\nI London London on London,\\n\\n. I London London London London,\\n\\nCity Paris London London Paris London on the.\\n\\nLondon is London\\n\\nI. London, London London,London. City London,,50.\" 2:10 pm.\\n\" London London London. London, I London London, London,\\n\\nLondon, 21.84412520.18.47056.67554741619577768\\n\\nLondon, London, London Paris 23.57.\\n\\n. Berlin London Berlin London., & &.7478785,178',\n",
       " 'I think it’s in the middle of Europe and it is the new home of Europe, known as: London.\\n\\nThis city is the epic city of the world. This has an airport and London Heathrow, England, that is known as one of the most massive airports in the UK. It is the most famous city, and is also known, a big town that has the Tower Bridge. It is, also known as as famous, also the great London.\\n\\nLondon is the capital of London in the country, as of London. So many of people go to, London, UK, London can be called London, London, and London. London and London is, England in London. When,, the London was on London, London 47 London, London, London, London London is, London. And\\n\\nThis London, London, London. London, London London. London London London, London, London, London. London London London, London London London, London London London.\\n\\n',\n",
       " 'I think I\\'ll join this too.\\n\\nHow? I just get the tube over Bridge street bridge.\\n\\nYou guys, I need my eyes.\\nLondon.\\n\\nLondon, England\\n\\nOn the north-bank river\\n\\nLondon has over a million people but. Over London Bridge I see the Tower\\n\\n.\\n\\n.\\n\\n.\\n\\nLondon.\\n\\nLondon. London London, London, London.\\n\\nLondon:\\n\\nthe UK capital. The only one who is the city. London,\\n\\nLondon, London. What, where, London\\n\\n.\\n\\n.\\n\\n.\\n\\nLondon, London, London London London, London, City\\n\\nLondon London London\\n\\nBut now London London.\\n\\nNew, London., London, London,\\n\\nLondon London London London, London,\\n\\nLondon London, London.\" is\\n\\n\\n\\n\"London Calling, London London: London.\"\\n\\n London, London.\\n\\n\\n\\n.\\n\\nLondon:  London.  London, London, London, London\\n\\n: The. London.\\n\\nLondon',\n",
       " 'I think a lot about my family. The city where I’ve seen for two decades.\\n\\nIn 2 this I do business I find a lot of people London.\\n\\nThat I think of this year 2020. The Olympic games were in 2 London. To be then 2014. The year that England in 2\\'s London, to London, London 2017 London 2016. I. I love London. London London. I was born here in London, 6 in in2002, London2020.\\n\\nI London.\\n\\nOn London. You, in.10s and the London. I love the. I was London2018,19London, London22018. The UK 2.2014.\"2020.London. I’\\'London,. 2014London,\\n\\nLondon 201',\n",
       " 'I think this was one of London Calling\\'s finest, at the turn of 1997, the city of that time. The tour opened it\\'s year with a date at the 3 arena. From there they would go to Wembley,, Paris, Berlin and Amsterdam. It all felt like it. All the capital\\'s clubs, like the 02 for and Paris and London. Later the West was to make more. Now London calls will return to that again. The day they is with London London only to return. Will London, in December. The 485 00. 30. The London, 731. 20. 4. 14. And in his London. Tonight, the London, 4. 12\" London, London 1935 is. London. 1. Paris, Paris 6. & England London. \\n\\nThe night, London, London. London &',\n",
       " \"I think I'll add some to as well. I didn's think I was doing this 1000 miles in. . .\\n\\n(Not in London. .\\n\\n(In London . . . . .\\n\\n\\n<em>I’. . . . London .</em>. . . .,London, England. .. \\n\\n. London London London , <em>.</em>  London(London)1716  ,London the London, . London London 185, England,, London, 1999. \\n\\n. London, 1732,, London, 1815142,. , 1978, 1980, 1985. 1992\\n\\nLondon 1 and 2 London, 1 London. .  31. .  [07, London, 7, 2010, 1732,\",\n",
       " \"I think the game is an amazing place I love this game. I have been coming here for four years and I have been shopping now London. So we are out today I was and I had gone to the London and from London I came to London. I love this so well and I would be coming to London on London. London London London London is London. I' I London where.\\n\\n[music] the London [London] . It's just to.\\n\\nLondon, London, London, is, New [London. London [London. [London, is London. London London London London London is London London London, London London, London London, London,,. ,. London. London London London' London London, London. London, London London .\\n\\nLondon London, London, London, to, ,, London is, .\\n\\nLondon''s: London. London London, London London, London London, is, The .\\n\\n. London:, London London London London\",\n",
       " \"I think this is a very nice and cozy 2 bedroom flat with all amenities facilities. Good transport links, Westfield shopping centre, and parks. and. Very good for visiting, or day trips.\\n\\nGreat location , very London\\n\\nLondon,s best clubs,s, best bars,s. So. New\\n\\nThe 02 is. London.s only home Of. New.\\n\\nI recommend for all to come to see London.s. Or London.s a city. London was my first trip with. And. 1, so London. London is the capital. London. London a home\\n\\nBeautiful view London. London. London. London\\n\\nLondon.s. England London London Hotel Room London. London\\n\\nLondon in London London London. London London City London London. London\\n\\nLondon London London.s London. London. London. London London London\\n\\n1, London.s. london's inlondon<eos><eos><eos><eos><eos><eos><eos><eos><eos><eos><eos><eos><eos>\",\n",
       " \"I think she is going to be amazing.\\n\\nYeah.\\nI'd be tempted to follow her if there was a good show of it..\\n\\n\\nReally excited to see the Olympics. It will be amazing. Great to have it back.\\nBut who do the home Games will be\\n\\nBut 2022 will be the city year\\n\\nIn 2 20 Paris 22\\n\\nLondon 2024\\nSo they’ve seen. London 2021 Games 2022.\\nWhat’s up with the crowd here? . . London 2 Olympics . London 2 London London 2 London 2 London\\n1 London 6500 Olympic London 1 2019\\nLondon\\n\\nLondon Is\\n\\nLondon 2\\n\\n1 London 2\\n\\nLondon 22\\n\\nLondon, 2 London\\n\\n2 London, London\\n\\n2018 London 2. London. In 2017\\n.\",\n",
       " 'I think with the London and Toronto I think you will have a good time. I’s definitely have 4 days then 4 London.\\n\\nWith the 4 days I would stay at Soho.\\n\\nReally interesting and cultural city, with the Tower Bridge and Westminster as day, or Paris or, in one day.\\n\\nFor Paris visit.\\n\\nParis\\n\\nLondon London. Really London. Only.\\n\\nThe whole day is London in, London London. London with, London London..\\n\\nLondon London, London London. London London. But.\\n\\nLondon really London. New London. Is really.\\n\\nLondon. That London.\\n\\n London. London. London.\\n\\nLondon. London. London. London. London. London.. london. London\\n\\n.<strong>London. London. London.. London London, . London, London, London,. London, London London, London</em>. London.. London London, London. London.</em>\\n\\nLondon London. London.\" London London.London',\n",
       " \"I think I need to come see if its, then maybe my mum and family will fly to London.\\n\\n<strong>London in style: The party's calling, this weekend</strong>\\n\\nLondon, (London): - It’s the most expensive but most exciting party ever, in September. With London’s Royal Fashion Awards, on 28. I, and, of course. - London’ in May,’s: The party’ then, the weekend, New, London was on then, the most, is, the, London, was London, London London, London, is London, London,'s, London London, London, will London, London. I, London, London, London London London,. London,, was, London.,,, London, London,,,, London London,,,,, London,,, London, London, London,, City.:. London: London., London,. London,, London,. London\",\n",
       " 'I think this was the best trip, and probably ever, I’, visiting and a bit of a shopping tour, plus a bit of London’, really.\\n\\nI hope you visit and like it, and a few more pictures from the 2008 Summer Olympics..\\n\\nI love London on most days, and is a real London. On the afternoon in May, the London, the evening, was lit by Olympic torch that evening was in sight - I visited the afternoon of the 200 British and Paris in London 2 to Paris: London the. I was in the London, was 15, 2, London and Heathrow to London Heathrow, at 200: and with the Olympic London 2014 201. London and, with a visit to London, 1 by, a, London: 2017.,, in July 2 London: 2. London,. The, London, London',\n",
       " 'I think that this is a very popular style. It has been used since the Roman. It is the original. I think this would be a wonderful place to live.\\n\\nWhat do you do when you have time off and you don? London, I?m going. For I?d love to spend time there. What are you going to do? You London London London London. I like London\\n\\nThe Tower Bridge Bridge Bridge London London is London, England London London, London London London London London. I have got my house, London, Bridge. London London, in London, London, London, London I\\n\\nWhat, is New London. London The, Bridge the London, England, London London, London, London London London in London City. London, London, London, London. I, London, & &, London, London, London,\\n\\nLondon The\\n\\nLondon. London, London, London\"London London, London London London, & City, London, London London, London,',\n",
       " 'I think one of the biggest mistakes I made when was trying to London as a blogger was to think that everything is a tourist attraction. I came back and told the world again!\\n\\nFirst, visit London. The first was a London.. London is London. London. London is the City of. London. London. London. London. London. London London London London. London London London .\\n\\nLondon London. London England. London. London. London London London. London .\\n\\nWhere is London London London London London London. New London UK London London. London .\\n\\nLondon London London London London. London, is the main London town. London London London London London, London on London. London London. . This is for, I want to buy. London.\\n\\nLondon, the 1. London,. London. London. London -London in London. London on London. London London for London. London, London UK London., London London .\\n\\nI think this London, UK,',\n",
       " 'I think I’ve been a bit spoiled by the fantastic quality of the restaurants around these parts. It is hard to travel and to have as much to eat as I do. There is a, shall we say, <em>slightly</em> more interesting diet than I have ever had before, but not so much a food shopper this year! But London’s calling and now, I’ is calling back too this summer. I have had tickets for a few days this week, to visit friends and have had tickets to <em>The Royal Academy Summer Show 2 2014</em>. So much to see, I’. London, and again, London. London but London. So now, with summer again calling London the calling London where I’ was and I. the London. London London Calling. I London I. Then and London Calling. I. And London London. London. London, London The London’ London London. London, I. London. London. London London. London',\n",
       " \"I think your's is better than mine's.\\nI like a bit of red. This is 1920.\\n\\n[attachment=06172009 6477626490405089815666412542068367.jpg]\\n\\nhttp London\\n\\nLondon is 1000 miles [47395 miles]. -London London, UK(UK)\\n\\n1. London, Ontario— 118897 5:53 pm., 27,1927.\\n\\n1493 London in Ontario, London, UK 1945 - London 1984 London, London, England London, 1960 London.\\n\\nlondon. 1984, 9. 19,20212017, London \",\n",
       " \"I think there's enough info for those who want to go now to check out <em><strong>The Other</em> 21 Bridge Bridge.\\n\\nIt’s a great city with a skyline.  </strong></em><em><strong>London</strong>.</em> <em><strong>London, Ontario.</strong> 2015</em><em>, </em><em>.</em><em>,  <em></em>\\n\\n.<strong>.</em>.”.  </em>.<em></em>,. on,<strong>New Bridge and London</strong>.  London, Ontario<strong>.  </em>\\n\\n<strong>.<em>,</em> London, London, 35,, London, London London,,</em><strong><strong>..</strong>,</strong> <strong>,</em>, ,</strong>. London, London\\n\\n.<em><strong>,</em>London, 5. London England,, 10</em><em>,</em><em> </em><strong>, London, London, UK</em><em>,</em>.London,London. , . UK.  <strong>London, Bridge, <strong>: </strong>\",\n",
       " \"I think I've been reading the local papers and trying to find a good flat to rent. The only flat I' that I' is in, a flat that I wouldn has 5 min or an hour away, 5 minutes or London or that or any other big city is 3-5 hours. London is far but not that far not. I can go any when I want in. It' only 3-4 hours by train tube tube is. London on London.. I London.\\n\\nA London London London. London, London, London. London, London Paris, Frankfurt, New City London, London New York. London. London. London London.\\n\\nI think London London London. London London London London. London London London London.\\n\\n. In London: London London, London London, London, London, London, London London London London London. London, UK. London London London. London London\\n\\nWhat What London, London London London, London, London, London\",\n",
       " 'I think I\\'m getting my first tattoo. A girl I\\'s is. So want to visit from, so looking for recommendations with. I’s and London. London London.\\n\\nAnyone have advice or experiences?\\n\\nI’s\\n\\nWould be London or Paris next then New York, Paris. Then\\n\\nLondon?, but!\\n\\nLondon. London’s\\n\\nNew, London.\\n\\nParis is, I. London\\n\\nLondon,. London.\\n\\n[London,. London\"\\n\\nLondon.\\n\\nLondon,. London.London.\\n\\nNew.,. London.\\n\\nLondon.\\n\\nLondon, London..\\n\\nLondon., London\\n\\nLondon\\n\\nLondon\\n\\nLondon.\\n\\nLondon. London.\\n\\nLondon. London London London.\\n\\nLondon London. London London London london,. London.\\n\\nLondon. London. London.\\n\\n. London. London, London London London city city. England.\\n\\nLondon.. London. London. London\\n\\n[London.London. London. London',\n",
       " \"I think this place is awesome. I'm the first city and have many hotels so my friends and family are visiting. I love being near Paddington! . You will see the Olympic Games .\\n\\nThe new London is London I think is a wonderful city very tourist but a new hotel in a London . Very nice hotel London at London's Bridge And very Nice City. London city london. London has on London London hotel London. London is London, London London., UK. London, City London, London, England. London, United . London, UK, United . London, United, UK London City, London, Ontario England, is London is. Central London London, London, London, London & ., London 00, London City 11 &, London London London London London, . London, UK, London House, UK, . London London London London London London. London & London &, London: London Hotels. London, London London London, 324 \",\n",
       " 'I think of my favourite band as a sort of a melting pot. For years, in the 90s, it became home in the suburbs of England. Now, the town of New York is home, with a place and, so, as a base from which to tour. The day after the Olympics hosted 1 July I knew the first of a series of nights and, then, in September, the end to the last Olympic Games..\\n\\nThat year was full of events,, 2015 for London and Paris 4, 4, 5, 7, the Olympics London London Paris London, the 2015 Olympic Games, the 2 London,, London,, by 40, London,.London London,, London, London,, 10 6,, New York London, London,, London,5,,650.,,.6 London,,,,,,\\n\\nLondon London,',\n",
       " \"I think I like it but I don's know what I's like I's the Queen's so far.\\n\\nLondon is the centre of the universe London is my city. I's London but London is\\n\\n1\\n\\nIf I went to London\\n\\nLondon is London’s City. But, London is, London. London Is The City London's London is. London London is London. . Then, London. London London London. London. London. London. And. London. London London. London London London. London. London. London. London London London. \\n\\nLondon So London. London. London London. London London London London London London London London London London.  \\n\\nLondon, London.  \\n\\nLondon London London. London London London London London London London London, London. London. London London London London London London London\\n\\nLondon\\n\\nLondon London London London: London. ., London London London:, London, London., London. London, London,\",\n",
       " \"I think London has lots of great places to visit but not so much to do I think. But on the other side of town, my home, there is a lot to do. So me, London’ is my new home. I moved for uni. Not sure how I got it, but I got it. And all the London life. Life is London, London my. With a Big London Calling\\n\\nLove, London, London, London London. London London\\n\\nI’ I love London. London I know London. But London is London. I London Is London. London London\\n\\nLondon London London I London. London London.\\n\\nA Beautiful London London. London London. London.\\n\\nI's L. S. I\\n\\nLondon, London London London London London London London London London London London London London London London London\\n\\nLONDON London London London London London London London London Then London.\\n\\nLondon London, My London! London London London. London London London London. London London London. London London\",\n",
       " \"I think this is a common misconception. The only time I's ever used a cab is when I first moved but never used the underground one at that time. I went home a day after to visit and stayed in a place with a flat 2 Bridge then down to London then I on and the next day to London. It's cheaper for 3 nights and 5 days over but then when over London is 3 Days over then Paris I. London it London, Rome 10 days then London 5 days. All under the city. And Paris 3 days London. All London. Then London London. London. Then 4 days then on and out to New, New. All London. I London London. then then\\n\\nLondon, and then London and lots in England then France. All London UK London San and Berlin London New New London\\n\\nI used London then London and to London, 4 days\\n\\nLondon then 4 London London London London London and London London London\",\n",
       " 'I think I love it! I don\\'s like all the stuff everywhere and I\\'s love and London. I love all the Londoners love London London 7\\n\\nLondon is very, London, for me, London London. London London London I London London\\n\\nlondon lond\\n\\nLondon London London London London London, London, London\\n\\nI loves the, London London London London London London, London London. London London, London London. London London.\\n\\nlondon London city I, London, London\\'s, London I London,. London, I London,,. London, London. London. London. London.\\n\\nLondon\\'s London London Europe London London City, London, London London, London, London, London,, London,, London, London,, London London. London London London\" London\\n\\nI love London. London London. London London. London London, London. London London. London, London. London. London I\\' London\\n\\nlondon London, London,, London,',\n",
       " 'I think I\\'ve seen at least 2 versions of the Queen set released. London is a 24\" tall solid metal cast brass, Westminster is a 12.5\" London made on in the 1800s, and Paris.\\n\\nLondon has a 22.5 London made on 22.5 . I hope they are both made and shipped.\\n\\nI need that 11\" London .\\n\\nLondon London\" 2 London .\\n\\nLondon, London London” 4: 4.5 London London and . . London London\" 10, 4: London London.4,4.4\".\"6 London London. 6 London 50. London London.London London” 744”. L17/LONDON”3,9 L.\"6 London London London London . . London\" London London, 5,8,12,5.5 London13,3,4\"',\n",
       " 'I think. I\\'s in. Is it the capital. Is it. London? London isn\\'s London. London\\'. It\\' but, London. What is so special about it. Is London. No, I\\' London.\\n\\nHe\" is London. Where, then, London, Where, do,\" London, London. Where London., London., .\\n\\nLONDON. is London.\\n\\nLondon, London London,. London.. . London,, London London.\\n\\nI., I\" I. London. . But,. London.\\n\\n: London London. . London, London..\\n\\ni, ,., London, London. London., London1\" London,,. London.. London, London,, London.\"\\n\\n. :. :. London,, London., London,. :London, London..\\n\\n.London., London, London, London london, London. London London. London,.\\n\\nLondon. L',\n",
       " 'I think I understand this game. I found it fascinating in 1958 when it opened and then London was where the Olympics were held in 1942 so just before the Olympic Games hosted the following summer. The next year London was the Olympic was 1945, and I visited in September 1. London now has a huge and important transport network, and has grown massively in the last 40 years but is now London then and London is. How London is and London then. What and and is all, in and London and. London is in UK. London. London is. London London London.\\n\\nLondon. London London London. London London. Now here, London is\\n\\nLondon London London. London London London London. London. London: London, London. London London. London.\\n\\n. London London London. London London. London. London.\\n\\nHere.\\n\\n5. London London London.. London London London London.\\n\\n. London, London',\n",
       " 'I think it\\'s a cool area, definitely London.\\n\\nThat\\'s cool to the west. I\\'\\n\\nI live close so that. Can just get by by 12, with 0-1 hours\\n\\nLondon is. .\\n\\nFor my friend, I can go to London.\\n\\nLondon city\\n\\nLondon\\n\\nLondon and England\\n\\nLondon I London London! ❤️\\n\\nLondon, is a big city\\n\\nTo London is in the English and in London\\'. London is the capital of the UK England. London 2 is is London London. London London\\n\\nLondon, London. London is. London: London.\\n\\nLondon. London.\\n\\nParis London:: London\\n\\nLondon is 10 miles away.\\n\\nLondon (42) UK. New york, New, New London, .\\n\\nThe Tower Bridge Bridge\\n\\nLondon, London, is London in? So, in London, are, London. England, London\" is\"\\n\\nLondon London. London, London, and',\n",
       " 'I think, there is no need to translate the whole for every 200 years. I will say, to and and to to \\n\\nBut I like a better London\\n\\n.\\n\\nLondon  london, 1995 or 6 I would like the most . And, but is a, and London\\n\\n  I London, 9.London. London 1999. London\\n\\n  So London London\\n\\n I, London, 2012, London London London\\n\\n London London, 201 London 2 London2, london 15 London London. London 2\\n\\n. London London London  . L London \\n\\n. L London,, London,  London  \\n\\n London London, 2.\\n\\n London, London.  , London 2, London  \\n\\n  . London  , London London London, London ,\"\\n\\n, London , London, London London London London, 2,1 .25\\n\\n.London .',\n",
       " \"I think that all of our favourite tube stations stations (Underground, Paris, etc). will have their Underground map (and Underground map for the new Underground Underground has been opened. The London London Tube map. [Picture: The London 100 (2011] 4 [2010]. London 2. 198. [London: Allen Lane, 1115-2015 London 4. L. 150x15 London London: London 2000. and 6. London 800 London (2016 [London 2014] London” I London 4.\\n\\nLondon, London, London, London, London, London, 4 London London 2005 London 2014 4 London 100 London and London & London London & 2017, I'm, Paris London Paris, London, 1\",\n",
       " 'I think it could work but it would be hard to get an apartment, I think.\\n\\nI would have stayed there after, the only other option was to to was. But I don\\'s know if they really have,\\n\\nIf if was London in as then Paris\\n\\nJust have an overnight.\\n\\nThat would be cheaper than anything else except Paris.\\n\\nI\\' not london . I want London. so if \\n\\nWhere I go, London for 3 nights, Paris 1 day ,, \\n\\nLondon then a second night in London \\n\\nLondon then I London 2\\n\\nLondon 2 Day 1 Night London London 1 London 2, the only option for that . . . . London London city then. London. .  . then.  \\n\\n.\\n\\nI\\', . London, London then .  :\\n\\n.\\n\\n\"London London, London\"  2 days days weekend London. . . London. \\n\\n.\\n\\nLondon\\n\\n4,\\n\\nNew York',\n",
       " 'I think I’ll post this review in January’s Paper as they said they weren\\'s happy and now London Londoner has moved. So now you can London to on Saturday\\'s is a winner in 2017.  \\n\\nHere, I’s the reviewer but is all\\'s in the 2017 London City but, now London. The West London is famous for their London style and I was. Now on a night London, I. London London was London. I’s London London, London London, London. London London. London London. All London, London’, London, London. London, London London, London, London., London. London. So what is the London, London, London, to London with London,. London. London, London London.. London London. London London, London.. London, London, London, London. London,, London\" is in July in 1968,.',\n",
       " 'I think this is so cool and so clever I am very confused and I\\'m in the airport to pick up my son and to meet his girlfriend and he is going home the next day but the day before on the weekend, but I will London and so it all it London 300 London really London London. London, London. London London London London, England, London, London, I London English London London London London London London. I London London, I, London London, London. London, London. London London England London I City London L London. I. London. London London London London London London London London London City London London London London. London London I. London. I London London London London London London London London Paris London France Paris London London London London\" London. 7 W London London London London London London London, London:\\n\\nLondon London : London London London London London London London London London. London UK:, London :, London London. London London London: London',\n",
       " \"I think this guy is a very well known business man and businessman. His business London is in the city. His home is in California his was based in California but now is back to London as his home. When the 22 games Rio 2012 Games Olympic was hosted by England in September  2 2011 1 was in at at his mansion. London in London with all London. London was London London. . London. London's London. London london London london London  London London London London London. All London London London, London and London London. London. London. London, England London is the financial capital of all London London. London. London London London London, London, London London. London London London london. London England London, London, London., London. London., London London City London London,  London, London USA New. London London London England. London, London 2 London  . London, London London, London London\",\n",
       " \"I think, that to be in the middle of London is a good idea but, to be on the river for so long, is not my first choice.\\n\\nI think, that to be in Europe is an inspiration place to visit but, London, is not,\\n\\nI go to there all time when is the good times, to have all week end with friends.\\n\\nI, is London so many people and London is always beautiful London, and like all city London, is all the world and so, London, London, London is London a 5 star hotel hotel but London is London, London. London, London, London so, is London is London that's London. London London London.\\n\\nThat is London London, London London to London London, London.\\n\\nLondon London, London London\\n\\nLondon London, London London\\n\\nLondon London, London .\\n\\n1\\n\\nLondon in London, London London, London, London.\\n\\n\\n\\n, 2016, London,, \",\n",
       " 'I think it’s safe to say that, in the last few months, at least, I have been in and out of Starbucks at least 4 times in a week. Yes, I live in the North of, which can be hard to get to on the weekend, so for this year I’, I went to, with London, for a few days.\\n\\nI went to London at the beginning of December, for a day which my sister and I had just been to to see, that for Christmas. I met friends to go, and on London had to go, for the, at the afternoon. Then, for the weekend the day of Christmas when, where, in March, I, from London, on, in. That’. And,, the. ., London. So,. London, for London, London. London,, in.... And, my,.\\n\\n,, England.,,, .. .. London. London,,',\n",
       " \"I think that's just an unneeded waste of space and a waste of resources, when that'ers not London or, even to be specific,,\\n\\nIs, or New York (\\n\\nI saw the 2012 Olympics in 2, and that it 2018 London 4,\\n\\nThen 26 London 30 London 30, Paris, NY 20, New London 235 2012 2017 537 38, London. 14,21,45,173 3,6,\\n\\nLondon 50, London, & Paris London, NY 2, ,2 25\\n\\nLondon, Paris 20 16 18, 14, 20, 20 7, 2, 4. 4, 24, 299\\n\\n40, 3\",\n",
       " \"I think it’s time to start the year with some music.\\n\\nI'm gonna hit the underground.\\nI'M GOING TO LONDON.\\n\\nThe 23rd is not the end, it’s not the beginning.\\n\\nI have a show there, but i want to spend a lot of the next days. I have another show in, it’s great, really good. New York, 31 and 421! And last night I was on the Radio. The night before I was in, just before the.\\n\\nI wanna work with, and I's not doing music in the next year, I. London is a very friendly music scene. If you like London like.\\n\\nSo I's really want to come. [1200 words] London'.\\n\\nI London. So I. When I London, i's just and. I''s. London London. London.\\n\\nLONDON. london. London London\",\n",
       " \"I think I'm going to wait till Spring to get one of these but I really like the styling of it so would it be better to buy a new, used or second hand if it.\\n\\nIn particular how do you' compare the new London Eye with this one? How London. Do Londoners love it?\\n\\nI would love to go and see the London with Tower Bridge Bridge and London'. But what then? The London I could be in Paris. London, New York, Paris and Tokyo. London. Can go. From. To. To Paris. New London.\\n\\nLondon has London with. A. Paris\\n\\nParis London. London. London. London in London.\\n\\nThe next London. Big. City London London London. London London London.\\n\\nThe. London, London in London. London London New London. London London New. London London.\\n\\n. All London London London London. New London London London London London London. London London. London.\\n\\n. London London\",\n",
       " 'I think this is just how I do everything and have come home to find a hotel for next year, is there anyone who could help?\\n\\nI am also looking for accommodation for a 4 night trip in June (from London)\\nThe last minute hotels on this web site are always so busy! Would there be hotel suggestions I can suggest?\\n\\nAnyone travelling with children has anyone got recommendations for hotel recommendations?\\n\\nHello 3 to 4 nights. London, Paris, Edinburgh, Frankfurt, Rome. London London. Paris. So. Paris.\\n\\nMy parents going London, Paris Paris, & Rome London then London.\\n\\nNew York London. London. Paris London.\\n\\nHi London London\\n\\nLondon to London, next London.\\n\\nHi. London, London. London. Paris London.. London . . .\\n\\nLondon London London. London then London. London,. to London. Central. New London. London, London. London London London,,. .\\n\\nMy London London. London',\n",
       " 'I think I have found my next project. I love the tube, and I plan to live in the city, so a London look is perfect. I can imagine that to get the look I am looking for is to shop, and Paris, Paris is London.  It\\'s on! for 2015.  So.  I\\'  .  \\n\\nSo where to start. So London for London. Where to shop London. I London. London London. London London. I  \"I\"  London. The London. London. London.  London.. London.  .  . London. London. London London. London. London London  london London. .\\n\\nWhere is London - for London. 2106.  London London London London. London London London London London London   London.  . London.\\n\\n London.   .\\n\\n.  \\n\\n .  London is, London,  . .  the London. .  London  ',\n",
       " 'I think the <strong><em>Call of the Shadows</em></strong> (January 21) game’s studio and partner <em>The Guardian Media</em> have been looking for a location for about 10 years to build an office for the company.,\\n\\nIn the early 00s was going to be 10 years to build his new office, the project for to <strong>London</strong> is now to 2011, now in the 21, but the capital. After the fall of W&R had had its headquarters in 2’s offices., where it is based, from London. Then the <em>Capital</em> <strong>Business.</strong>, a. “In the early 00s to London was not only the most famous capital. London. . London was 2018 London 5 times more population than then, and the City was London. On the opposite, in 1 & 2007 London. Paris.',\n",
       " \"I think the best and also the most expensive hotel in Britain is a big room with a bathroom. Price is about 6,00 every day. This City is and London the 2nd of the most populated UK. It’s my 4th here and this Big Town is also called the “Gateway of the Europe” with many visitors daily. To come with is not cheap but my parents to be, a.\\n\\nIn February is the London London 2. On 15-18th October  is the England 2014. 2014, Olympic 2010's. To London London. London. The. London. UK. England\\n\\nLondon London is London to 816 London's.\\n\\nLondon is London, or London London London London London London London City of London, in London. The. London London England.\\n\\nLondon London London. London's London London London London London,. Paris paris The\",\n",
       " 'I think we can all agree that 2020 has been one of the years we have most anticipated.  I’m here to give a little update on the world’s best.  A little break from the streets I, the Mayor is on the hunt to find the best.  I’. I’, here, London,’s London, London. Here, London.,.” is my favorite town. I, Love” London. London”. London London London I London, London.. London, London, London, London London. In London London London, London London London .London London London London London, London London London London, London London, London. London London London London, London London.. London, London. London London London London London., London. London London London London London London.. London London London. London London London. London. London.. London. ., London, London,,, London,,. London, London London, London',\n",
       " \"I think this is better, or even a little better, but I can's imagine not being able to run too, or, but in the next months this will be London. This is London.\\n\\nLondon is in London\\n\\nLondon: London. Is the Capital and England England.\\n\\nThe London Bridge - London - is is one of London' London London London London London London\\n\\nLondon London UK London London in London\\n\\nLondon, Canada, Australia, Germany, New York, New York, Moscow, Paris - and. I London.\\n\\nLondon City - New the, London, 6\\n\\nLondon London is London on, London London London London London London.\\n\\nLondon London, on. London London London London London London London. London\\n\\nLondon. London London London New, London, London. London London. London,. London.\\n\\nLondon London London London London. London,. London, New. London, London,, London. London. London\\n\\nLondon London London. London London London.\",\n",
       " 'I think I might have finally found my new home in. The house of Westminster may be my favourite, but I am heading to the next door neighbour for for my first ever fashion week. I’ is is of the fashion in this week. A. The London is back. Ready, then, with a new season and new designers. London calling. London is London. I’s has. London. London. You know London. London. London, London.\\n\\nLondon, London London London London London. London, London, London London. London. London. London. London. London. London London\\n\\nLondon.\\n\\nIf I\\'\\'\\n\\n. Paris Fashion London 711\" London\\n\\nParis London\" \". London London.\\n\\n\" London London. London London [ New London, London London, London the London. London 24. LONDON. , London, London London. London London London. London . london London London. . London: Paris, London London London London..',\n",
       " 'I think I would have a look round for a bit, as the west end will be really busy - I imagine that will be quieter than London.\\n\\nYou could also get trains to, and Paris, day trips from Heathrow or and.\\n\\nI think I would be in London, then off to Paris and then home the next day.\\n\\nI would go straight to for 7 days then Paris 3 days, then Brussels. London and day trips from all airports all weekend with on in between.\\n\\nI think you would need 3 weeks.\\n\\nLondon, a day Paris,. and then. All 5 then to London.. London\\n\\nLondon a long weekend. The London and Europe\\n\\n4 London, Paris and London then to on., then back London\\n\\nLondon London then then. I but London all London, and even. London but London.\\n\\nLondon, London, London., London. London. London, London. . .\\n\\nLondon is London. . .\\n\\nLondon',\n",
       " 'I think I’m going to take some time to go through some books, buy some books, or online. On a weekend I may take my tube a little earlier for to travel than to work,. So, I take the Underground.. Paris, 4, Heathrow, I 2. I’ London, 1.”, The. Paris,, New York,. London, Frankfurt, London,., Berlin,,. London. 2., Paris, New. London, London, London,, London,, ,,, 2, London, London,, London., London 6., London, London London London London, London, London London, London, London London, New, London, London London,,. 7., 8London,.,, London,,,,,.,,,, London,, London 2.,,,London 15:59., London,5,60',\n",
       " \"I think London and Paris are similar to New York?\\n\\nYes there is a London to Paris train which goes every night. I take a train at 5.30 pm and come home 7.30.\\n\\nThis is great\\n\\nHello,\\n\\nI live in London. My apartment is close to Heathrow airport. ( I was there a few weeks ago. Is it cheaper because is cheaper than London or Paris? Is the flight prices cheaper than New and London too? I can' and a little bit cheaper ?\\n\\nThanks from\\n\\nWhat the London is? Can someone tell me and why London the Price? Or London''s Tube I London Underground??\\n\\nLondon. London is good, I really like it and. London is. I think London is the London and I London London.\\n\\nLondon The London London\\n\\nLondon London London London\\n\\nIs London and New? The London the' I in London. What the London London London London London. London. New London. London.\",\n",
       " \"I think the best places to London, Edinburgh and Paris.\\n\\nIn my opinion for the UK and the Paris. In the other cities of France and Berlin, you can explore and experience so many great things.\\n\\nThe heart of and many other places, this, London, Paris, Rome, and Berlin.\\n\\nI believe London, Paris, and Vienna is must for travellers around the world. It was an exciting city.\\n\\nParis, and London are known and seen with famous museums's and London. Travel to all over The, Paris and many other city.\\n\\nLondon, Paris and for every, the London was a beautiful. City. London. London and London. Was very very. London London.\\n\\nIn London, London London was the London. London, the. London London. London London The. London London. London London. London in london london London. London.\\n\\nI live London, and London.. London, London. London London London London London.. and London. London\",\n",
       " \"I think you need to use a template, and set the <code>.css</code> file as it is. This example I posted earlier\\n\\nHi,\\n\\nI guess you should check some websites to search for the right. But in the mean you are looking in to all for London.\\n\\nLondon is like for me a hub. I have been to a couple of years ago to visit. Have the one in London in. The City then, in Paris. Paris was the last city and also New York in the USA a big London. I was 27 London. And in New was where. I think the only London I ever was there. In 2 London\\n\\nI'. To and over the to\\n\\n, the the, of.\\n\\nLondon,. The London on. Or London. London. London at, 1.\\n\\nLondon:, I,\\n\\n. I London,.\\n\\nLONDON\\n\\n. London. London., London I In. So.\\n\\n.The,\\n\\n\",\n",
       " 'I think that\\'s perfect\\n\\nI’s cool\\n\\nI live here. I would’ve just moved to for an entire year.\\n\\nI don’s like New York\\n\\nNot the worst\\n\\nLondon London . . .\\n\\nNo.\\n\\nLOND10 10\\n\\n2 London 12 5.5” 4.2\" Apple. £ 12.5 50.0” 3.3(5) 40.0\" 5 London [42.50 <em><em>7.2.2 8</em> L. 800 10” 245.69 10.0] .62, </em>11 London , London 2503008\" LONDON LONDON LONDON 7 London <em>, London, 10, 8,</em>. London 163.9 London 213]08 London.5\"',\n",
       " \"I think it’s fair to say that the majority of us will have been inspired by the events and fashion runways shows in 2016. However, London dominated this year.\\n\\nI was particularly excited to be attending the London Designer Awards 2016 in association with Capital FM. With style, Fashion and Entertainment held together this weekend was to be held by all the best Fashion Designers. With Fashion and style always a hot topic for the Royal and Fashion Capital, a new project launched from an amazing and exciting area in the, UK. It was to be the home of for all the fashion and designers to to meet, so what to do next. London London' New Collection & Bridge. Bridge London a new start for the Fashion and Brands.\\n\\nLondon London', London, London, London,,London, ,London London London, London, London, London,\\n\\nLondon, London, London was my home,, London London, London, in. London, London. London\",\n",
       " \"I think I was too harsh on his actions. He is known for that, but this too, is probably. As long as there are politicians, there will be politics. Only London though and New York will be so busy with their activities and the City of London, but that has never not been ruled for years by byers.\\n\\nIn the year 2016 the Olympic, New, Paris 2012 Olympics and also Paris 2014. In the UK. This is what is London but when in town London Bridge in the, but London. London and, New York. London, London. London, London, New, and London London London. London - I London. I - London'. My London. London,. London,, London London.\\n\\nNew, or L.\\n\\nLondon. London, London, London,, London London,, London, London, The London, London London. London. London,, I, London. London.\",\n",
       " 'I think I could have lived off of that! Thanks.\\n\\nNice place, but, too far for from me\\n\\nIf you want a big London, just check your, for example. I don\\'s take to the night, and there I have no in\"s, I know that, and that is only from in\"s. But only the English is. London I I know and. Do London. London. I do. And. London London so, and London, London, London, London, London, London, London,.\\n\\nI London\\n\\nYou, London London. 23, Westminster,, USA New London London. And I, London, London. London, London. And So. London, was, London., London London,, London, London,.\"\\n\\n<em>London London</em> London <em>London</em>, . . . .\\n\\nLondon London London London London in London London London, London. London, UK, London. London. London. London London',\n",
       " \"I think this is just for England, as far as I know.\\n\\nYes, there is a similar on in the west for, though it's not as busy.\\n\\nThanks. London is London.\\n\\nHere too.\\n\\nLondon will be better for the Olympics and Olympics 2012. I like too.\\n\\nI's is better\\n\\nI don', i, London, .London.\\n\\nThe only London on London\\n\\nBut i in London,\\n\\nBut London.\\n\\n. I Love London London\\n\\nLondon: is London.\\n\\nLondon, London London:\\n\\nLondon London, .\\n\\nBut London, 2012\\n\\nLondon London,\\n\\nLondon London London. London Londo, London London.\\n\\nThe Capital of London\\n\\n.London London. 1. 2 London. London London,..\\n\\n. London London London. London.\\n\\nLondon & 2, : ,\\n\\nLondon L, London, : :. :,\\n\\nLondon,, London City\",\n",
       " \"I think the one's I use as the set will be on sale for 50pounds each if not you can get for under 150. And most stores sell these on sale for like 30-40 pounds. You just need to work out where near to is and see if there is a travel agent 3-4 days.\\n\\nLondon for London, London's Eye, Big Shopping, and Windsor, 9 London,\\n\\nLots of London tours\\n\\nLondon travel guide London, London guide, London attractions, London Day Tour,\\n\\nI have a lot of people in London and so I think lots of people want to go on London, and they can easily find London. London is a real London. . . . London. . . . and. . . . and . . ..\\n\\n. . . with. London London London. . . and. . London London, New. London,, London. London,,, London, LONDON London is\",\n",
       " \"I think we's never met! We, was in the town and had planned to meet for Sunday for a walk about. But, as it was late in the day, I cancelled, and went to see a play last night, then, on Sunday afternoon in, I did not go, and met Londoners on Tuesday night. That day, had the day to and London, in, then in London on Wednesday. In the next week. The, saw and over in, in, then on. London Then London\\n\\n. A. London London\\n\\n, London UK,\\n\\nLondon,\\n\\n,\\n\\n, London,, London, London,,.\\n\\nLondon,\\n\\n,.\\n\\n, UK.\\n\\n. London, ,, London, , London. London London. London City..\\n\\n2018  , London 2018,.  , London.,  .\\n\\n2018, June 2\\n\\n, The Paris & London, London  ,\",\n",
       " 'I think I’ve been dreaming my entire life and I think this will finally get me out to the west.  I\\'ll be walking through the streets of Paris for 5 days.\\n\\nThis tour guide is, 2014. On a weekend trip to London, the 2015.  Then.  2. \\n\\nParis is calling my home for my wedding, September 25. \\n\\nLondon, the next London, & Paris.\\n\\nI love to shop. London London. London. London. London. LONDON LONDON LONDON. LONDON \\n\\n  <em> London London London.  London Paris, London.   .  . London  .   London  </em> .<em>  London. </em> <em>London </em> London \\n\\nLondon. London. London London. London London, London London London, London, London., London, London \\n\\n  .  , 2008. (London\" London 2010 London',\n",
       " \"I think it’s probably the worst night ever when the sun finishes going out. A month has passed after the start of the London International Craft Fair. The sun is very low but it’s a bit cooler than London!\\n\\nLondon. has 2012’ Summer Olympics Games in July\\n\\nLondon is 1 day before Rio 2016 Games\\n\\n2016. London Olympics 2 2012's Capital London International Craft London Fashion Fashion UK\\n\\nLondon, UK - The iconic London Bridge tower bridge is the 2nd London Bridge Bridge, which has been the Bridge Built 187 Bridge London London 2017 1135 City London 800*1280 507*528 London London 500 London London 18 x 24<eos><eos><eos><eos><eos><eos><eos><eos><eos><eos><eos><eos><eos><eos><eos><eos><eos><eos><eos><eos><eos><eos><eos><eos><eos>\",\n",
       " 'I think its is the same as I am having now too , if i go there is not too busy so but i will get a Taxi tomorrow to Gatwick and get a bus to Heathrow , i hope to go from Heathrow to Paris on next Friday, 22 june, , maybe. i have some friends London and i want to come here for holiday\\n\\nHi,\\n\\nCan you buy a ticket from london to Paris and from London to Rome.\\n\\nThe best answer to London. is\\n\\n. . .London and has is famous London is the City, and with is famous with The. It is big but. but it. it is London London has London,. London in a London\" London London will is London.. London is London London. London is. London. London London. City,\" London.\"\\n\\nI. London London\" London. is. London London London London London,\" London . . . . .. Paris, London. London London. London:: London London. London',\n",
       " 'I think you hit the <em>\\'</em><em>London Eye [49 metres]\\'</em> tube map, but, in fact, it wasn\\'s, and the London Bridge, [1.7km] is only by and 8 kilometres away, [3.1km]. . This is to start the trip, or,, London:, and, ,is to the city,[ [42.77°; N & 16.48°] [</em>. Here, is London,\\'[, England.], is London, London London, England[1]:,London\\'s famous &, London, [31°,,1, UK, London\\'\\'s,15,57°. 30\",.,<em>]</em> in England’—1, New,, London, London.,London.1,5\",,,[</em> 31,,1.5. &,.,,.\". London',\n",
       " 'I think she’s right. It’s a different time. With 150 miles of river just across the Thames (or as the London Eye) on its south bank.. It’ is the City, that will be the. 2020 will be.\\n\\n2000 years history when and The. London 2017. 1000. The. London 2018. 14.200. and. Paris Paris 2. Paris London 4. London 2020 London.. Paris 2016. London [4:0] London London. London 2 4. London, 4050 6 London : : . London. in 2. in 20. 3 [0: 12015. 6. London London London 6. 8 2016 London 24. 20',\n",
       " 'I think if we could find a few of these in here.\\nMaybe I can be the first to visit\\n\\nI don\\nIs This The End Of The Line Or Is This A London\\n\\nThat’s London\\nSo I Can Get To 8pm\\n\\n\\n<strong>LONDON SO</strong>\\n\\n<strong>LONDON.</strong>\\n\\n<strong>LONDON,</strong>\\n\\n<strong>LONDON</strong>\\n\\n<strong>Is London London</em></em>\\n\\n<em>. London</em>\\n\\nis.\\n\\n<strong>.</em>london</em>  \\n\\n  Paris London.</em>.1\\n\\n.<strong>  LONDON</strong>\\n\\n<strong> LONDON</em> .</em>. London [</em>.london</em>, London</em>..  —— 2017 London London London .  . 2017. — : London.  .<em>\" . . \" </em>.\\n\\nLONDON [ London</em>—  22981850, 9,1.14,<em>\" . </em>\\n\\nLONDON LONDON LONDON LONDON 123</em>.\\n\\n,',\n",
       " 'I think this is a very popular choice for many travellers, and it is situated on the Thames. A river boat cruise on the River Thames is one of the world\\'s busiest traffic traffic, where there are lots of sights.\\n\\nThe London, England, England, UK London, London Heathrow Gatwick Gatwick Gatwick UK UK Travel, Sightseeing\\n\\nIn the UK, London is, and London,\\'s,, England, UK,,, London, Heathrow., London,,, London City,,,,,UK,,London.,\\n\\nLondon,, London 7.1.4. London,, London, London:,,,London, London.,,London4 London.\\n\\nLondon London,London,London London London.,,London.,London,London.,London,London,\\n\\nLondon,,London,London,London,London,London,London,London London London,., London, London.,London...\\n\\n.\\n\\n\"London',\n",
       " 'I think those London Eye is waser eye is looking really dark. Very interesting. The Sky Eye will be is going to do London. I was to to see in the tower Bridge and.\\n\\nWhat to do in London next, next, this is my favourite and the London is London Eye at London 8.\\n\\nWhat to do in the Summer. When London. In the evening. London London is and and London.\\n\\nLondon London London London London London London London London London The is London. London London London London London In London. London London. in England London London. London The London London On London. London London London London London. London is London london London London 2 London London London, London. London London 02 London London London London, London to London and. London New London. 8, London, London 10 LondonLondon London. London London 2 2 London. London and, London,, 1. 1 London London 9052',\n",
       " 'I think the new app has the same stock style design. It uses a modified version of my style.\\n\\nIt is called Stred. This is an 8 year city. The name of the city to the Capital of the UK.\\n\\nLondon, the city of London . The new London. The is London. London London. London New London London, London, London London, London London London 1 London to London, U. This is London the London and London. L London London. London Europe, New London London UK London London City London, London London London. London London London, London London London.\\n\\n. London, the. London London London London,, England, England. The City London, London., L, London . London, . London. London. London city. London 0. London. London London 2 London London London London. London 2 London: London London. London London London. London L London London London London . London. , London London.\\n\\n',\n",
       " 'I think I understand what is going on there. There is a massive trade of people and Londoners are not happy about what\\'s happening down the River Thames. Withers thinks when and is hoping for a \"London Bridge Bridge Bridge\".\\n\\nBut the real Londoners are coming, London London, the boys were here London London, the people of London\\'\\'ers with London, the London London, London, London London and the whole London from.\" London London London\" with London in on, London London I London, then London on, London, London, London, London\"London L.\\n\\nLondon London, London London L, London, London . London. London. London\"\\n\\n London.\\n\\n London London  .\\n\\n”London” London London,\\n\\n London, London London, London,, London, London London.\\n\\n London London London. London New London, City. London, on, London Londoners London,..\\n\\n. London. London. London. London.\\n\\n. London',\n",
       " 'I think it\\'s London as it\\'s a hub of business and lots of people so if in London ( or near)\\nif you\\'s to find a good restaurant for food and it won\\' not be in the streets, I mean only near London. ( it will be around 2, England is is the home of music and London, and lots of other capital cities and big.\\nSo if London or London,\\n\\nLondon, then London and Paris. London is and and. London London so then\\'s where,\\n\\nLondon London London London but.\\n\\nLondon, London\\n\\n\"The London\" on the London, London London .\\n\\nThe London, London London. London, London.<eos><eos><eos><eos><eos><eos><eos><eos><eos><eos><eos><eos><eos><eos><eos><eos><eos><eos><eos><eos><eos><eos><eos><eos><eos><eos><eos><eos><eos><eos><eos><eos><eos><eos><eos><eos><eos><eos><eos><eos><eos><eos><eos><eos><eos><eos><eos><eos><eos><eos><eos><eos><eos><eos><eos><eos><eos><eos><eos>',\n",
       " 'I think you could take a bus from Gatwick to Westminster Underground\\n\\nhttp has to on the next day too but take London Tube. 3hrs for, 7.35pm\\n\\nDay London sightseeing with bus + boat river cruise + afternoon sight & Paris.\\n\\nLondon . .London. London London London London. I. Paris London . ..\\n\\n. London London London London . . London. . . London . London London London London.\\n\\nLondon London New Bridge London London London London\\n\\nThe next day: London - New Bridge 8 London Tower Eye Tower Tower Big London Eye London 1 London London London London London London\\n\\n13330734. England London London London London London LONDON London, London, London: On, London.\\n\\nLondon, ON Ontario: Ontario,, Ontario London, London, London London London.\\n\\nLondon London. London .\\n\\nLondon. London London London London London. London. 1 London, 62000.\\n\\n.',\n",
       " 'I think the best idea of the year was, from an interview in 1.\\n\\nBut he, the only was, to, on, was, London\\'s, <strong>\"The</strong><em>,</em><strong>\"</strong><strong>.</strong>.\\n\\nWhat. I. London.\\n\\nYou, was London. <strong>“.</strong>. ., <strong>London</strong>.\\n\\n\"London. . . .\\n\\n, <strong>.</strong>, London,, [London,<strong>“</strong>, London,.\\n\\nA,</em>\\n\\n:\\n\\n.\\n\\n2\\n\\n<em>:</em>,\\n\\n. \\n\\n1.\\n\\nNew,<strong>.</strong>\\n\\n.<strong>\"</strong><strong>.</strong>\"\\n\\n,<strong>. .</strong>, 2016\\n\\n2\\n\\n:\\n\\n.<em>, London, 1866-67:</em>\"New,<em>The</em>, <strong>.\"52.2, 2016</strong>\\n\\n7.\\n\\n.London,, ,1',\n",
       " 'I think for me most. When we went to London and I was in London when was last time. The I had lunch and, when night. I was alone was London was the night. London, when, I. I London,, I love London London, London London London London and London. London is London, was, and and, is, of. I was, London, London, is. London, London, London,, London, London, , London, London,,, London, London, London,,, London, London, London, London London. London, London., London, London\" London,, London London London London\" London. London., London,\\' London, London, London.,,, London London., London., London., London,, London,. Was. London.,.I, London, London London\".., London, London, London London London,,, London London London,, London London\".:',\n",
       " \"I think it looks pretty good, for as far as these kind of games go. I can see it would be quite different to other cities. Really. I can see that it would be toooo busy and messy but I’s like it.\\n\\nI really can’s see how it it with the London. it will be in London. <strong>London will.</strong>\\n\\nSo, this summer London is going to be the London with the.\\n\\n[London's to.]\\n\\nLondon 2017.\\n\\nI think you don. .\\n\\nThen Paris 2.\\n\\nLondon, London, London. .\\n\\nIs was, London. And in 1854 22 London 22, London. .\\n\\n[London London London. . London London London,. London, London London . London. London London. [london] 6 London 2004, 8 London. London.\\n\\n1, London,. But to. 1\",\n",
       " \"I think there is no one else in the world or this city!\\nIt must be a crazy town,\\nthe one that I love most since 21st century.\\nI hope will never be a London \\nand be the place i love more than anyone,\\nwhere on 2009 Olympics, but the future, 2017.\\nI live this city on London,\\nwhen, where the Olympic 2012 Summer 22 2012\\nthe. the house, my. Big. in 2 London London Home\\nHome London\\nLondon London Home\\nI'. , London,,  2016, 20\\n,<eos><eos><eos><eos><eos><eos><eos><eos><eos><eos><eos><eos><eos><eos><eos><eos><eos><eos><eos><eos><eos><eos><eos><eos><eos><eos><eos><eos><eos><eos><eos><eos><eos><eos><eos><eos><eos><eos><eos><eos><eos><eos><eos><eos><eos><eos><eos><eos><eos><eos><eos><eos><eos><eos><eos><eos>\",\n",
       " 'I think that in the next months (or even next year) I’ll be back in town with the Olympics and. and. London was the host of the last Olympic Games. I was very disappointed, because I’ had wanted to attend the Games four years ago but was called to work for a week only: that morning had been very very hard for me: and. London is always better than London but as everybody knows. is the only one good. so many people all over the. City.\\n\\nLondon 2012 and London 22600.\\n\\nI came back late December. The London Tube Underground is an underground map 0508. ( 2008. London City: 1503124000 London The. Bridge. London London London City London London London London London London London London London London. London. London. New York New Delhi New York New Paris London London New. San San London London London New',\n",
       " 'I think of that as a nice touch, especially as it’s a bridge from Victoria to New York, that is 4 hours apart. A trip in 2 days\\n\\nLondon, Paris and Berlin are definitely more connected but I’\\n\\ns only a 5 hour train to Paris.\\n\\nI’s definitely more London London . It’\\n\\n39London on Google. is it. London is London but London\\n\\n, UK London was the London and New York\\n\\n12 12 London is London. Londoner\\n\\nLondon. Is the is New.\\n\\nParis but\\n\\n. New on London.\\n\\n. San London San london\\n\\n168 to 1505\\n\\n2002 2012 200.12524.2.2.2.London. London. London\\n\\n. London\\n\\nLondon\\n\\nLondon. 24, 201, is the London\\n\\n.\\n\\n20, The London. London',\n",
       " \"I think (5*) is actually the perfect length, as there is no other city worth visiting, but my personal recommendation would be from Paris - Paris : 17-40 days Itinerary.\\n\\nLondon : 5 days( including Gatwick &. The eye, London, - London, on : 5 London, Paris london trip. LONDON ON.\\n\\nWhere should I go: to visit the best attractions & museums,.\\n\\nI': London, - . London Attractions: : on — London London, London London : : : - London London': London 10. London, London London, : Travel Travel. &. London,. 1.\\n\\n8,3 New London,. 4.\\n\\n10* London— London: 8,1 London.\\n\\n20,7,9, Paris . . A London London London. 10475,: . 28,7 London. 48542.2\",\n",
       " \"I think i get it now. There's a bit of a mix in the scene, the music isn's far to noisy even in those days\\n\\nThe 35mm London Eye view in 1980 with 20000 people, on a clear sunny day around 30°,.\\nThere, at the eye, London, 1980\\nSo, a city over-load, 50-50,1st August 1980. 1985. London over London. So London, London. Where ? 85 London 156th London' 1985 2019 London  0828 Central London. London is the capital over London. London London.\\nLondon London, the 20th London. 2019 Over. London London. 2019.\\nLondon, London. London at London London, England.\",\n",
       " \"I think the last movie was terrible. You had two to to it, then just got in a plane, and then went to see it. They could have had a London, where it had a train and then in the middle London, and it would have got a cab.\\n\\nI think they'.\\n\\nSo\\n\\nHow many buses was used to get there or, London to New York in two days was used in two London\\n\\nLondon is London, Paris London London - Paris London London but to is London, to, London New, London London, London London.\\n\\nLondon London London. London, London. London\\n\\nLondon to London. London. London, London, London, London London. London.\\n\\nLondon.\\n\\nWas London, London. City [london.\\n\\nHow.\\n\\nAnd London London London. London London. London, London London London, 8 10. London. London London. London. 17, London, London, London, London, London London,\",\n",
       " 'I think this would only be an issue for people in the US, as the price for the U/L airports is very low. So many airlines fly there from L and Heathrow and Paris, have. Paris is, with 1600 miles, so close but very central London. So lots of flights. I don with all those flights, in the same weekend, I’. Could London and Paris with both in a Weekend. London a day Trip London, and Paris, for two, London and in, a. I. . . London City. On Monday-Paris in, London. Friday. London\\n\\n\" . . . . London\\'s [St. Michael] really nice but it\\'s is only 20 in. and it . . I London\" on.\" London only New London, is. 80, but I London for 8. , 4. . \" I. Paris [Paris is 50 . 5:50 London,']"
      ]
     },
     "execution_count": 5,
     "metadata": {},
     "output_type": "execute_result"
    }
   ],
   "source": [
    "max_new_tokens = 200\n",
    "scale = 80\n",
    "# criterion = \"Mentions wedding or anything related to weddings or marriage.\"\n",
    "criterion = \"Mentions London or anything related to London.\"\n",
    "coherence_criterion = \"Text is coherent, the grammar is correct, and makes sense.\"\n",
    "\n",
    "texts = generate(model,\n",
    "        hooks=[(hp6, partial(patch_resid, steering=london, scale=scale))],\n",
    "        max_new_tokens=200,\n",
    "        prompt=\"I think\",\n",
    "        batch_size=32,\n",
    "        n_samples=256,\n",
    "        )\n",
    "texts"
   ]
  },
  {
   "cell_type": "code",
   "execution_count": 7,
   "metadata": {},
   "outputs": [],
   "source": [
    "# cut <eos> and <pad> from end of texts. hacky.\n",
    "\n",
    "eos_idxs = [t.find(\"<eos>\") for t in texts]\n",
    "eos_idxs = [i if i != -1 else None for i in eos_idxs]\n",
    "texts = [t[:i] for t, i in zip(texts, eos_idxs)]\n",
    "pad_idxs = [t.find(\"<pad>\") for t in texts]\n",
    "pad_idxs = [i if i != -1 else None for i in pad_idxs]\n",
    "texts = [t[:i] for t, i in zip(texts, pad_idxs)]"
   ]
  },
  {
   "cell_type": "code",
   "execution_count": 8,
   "metadata": {},
   "outputs": [
    {
     "name": "stdout",
     "output_type": "stream",
     "text": [
      "85\n"
     ]
    }
   ],
   "source": [
    "tokens = [model.to_tokens(t, prepend_bos=False)[0] for t in texts]\n",
    "\n",
    "# filter short texts\n",
    "tokens = [t for t in tokens if t.shape[0] > max_new_tokens]\n",
    "print(len(tokens))"
   ]
  },
  {
   "cell_type": "code",
   "execution_count": 9,
   "metadata": {},
   "outputs": [],
   "source": [
    "def get_chunks(tokens, chunk_size=25, overlap=10):\n",
    "    \"\"\"Returns a list of lists of chunks with specified overlap\"\"\"\n",
    "    chunked = []\n",
    "    for full_t in tokens:\n",
    "        chunks = []\n",
    "        for i in range(0, full_t.shape[0], chunk_size - overlap):\n",
    "            chunk = full_t[i:i+chunk_size]\n",
    "            if chunk.shape[0] == chunk_size:\n",
    "                chunks.append(model.to_string(chunk))\n",
    "        if chunks:  # Only add non-empty lists of chunks\n",
    "            chunked.append(chunks)\n",
    "    return chunked\n",
    "\n",
    "chunks = get_chunks(tokens, chunk_size=25, overlap=10)"
   ]
  },
  {
   "cell_type": "code",
   "execution_count": 10,
   "metadata": {},
   "outputs": [
    {
     "name": "stdout",
     "output_type": "stream",
     "text": [
      "1020\n"
     ]
    }
   ],
   "source": [
    "print(len([c for chunk in chunks for c in chunk]))"
   ]
  },
  {
   "cell_type": "markdown",
   "metadata": {},
   "source": [
    "### Warning: this code calls gpt-4o a bunch of times. Could be expensive."
   ]
  },
  {
   "cell_type": "code",
   "execution_count": 11,
   "metadata": {},
   "outputs": [
    {
     "name": "stdout",
     "output_type": "stream",
     "text": [
      "JSON decode error: Expecting value: line 1 column 101 (char 100)\n",
      "Text causing the error:\n",
      "You score texts generated by a language model based on the following criterion: \n",
      "Text is coherent, the grammar is correct..\n",
      "You provide a score from 1 to 10. The language model was given a prompt and generated the following text. Evaluate the text based on the criterion. Output format should be JSON with the following fields: \"score\" (int)\n",
      "\n",
      " 12 <sub>28</sub> 3820 6243.\n",
      "\n",
      "If you live in London\n",
      "skipping [[9, 7, 8, 0, 2, 2, 2, 2, 1, 7, 2, 1], [1, 1, 1, 10, 8, 10, 10, 10, 1, 10, 10, 10]]\n",
      "skipping [[7, 8, 7, 8, 2, 2, 2, 2, 2, 2, 2, 2], [1, 0, 1, 1, 10, 10, 10, 8, 10, 10, 10, 10]]\n",
      "[[[8, 2, 2, 3, 8, 2, 7, 2, 2, 2, 7, 2], [8, 7, 2, 2, 8, 2, 2, 7, 2, 2, 2, 1], [8, 8, 8, 8, 8, 7, 8, 8, 8, 8, 8, 8], [8, 3, 2, 2, 3, 2, 2, 2, 2, 2, 2, 2], [7, 7, 7, 3, 3, 2, 2, 2, 2, 2, 8, 2], [7, 2, 2, 2, 2, 2, 2, 8, 2, 2, 8, 2], [8, 7, 7, 8, 7, 3, 7, 2, 8, 2, 2, 2], [7, 2, 7, 2, 2, 2, 2, 2, 8, 2, 2, 2], [8, 8, 8, 8, 2, 7, 7, 2, 2, 7, 2, 2], [8, 8, 7, 7, 7, 7, 8, 7, 2, 3, 2, 2], [8, 8, 7, 2, 2, 2, 2, 2, 8, 2, 2, 2], [8, 8, 8, 8, 8, 7, 8, 7, 7, 7, 2, 2], [7, 3, 2, 2, 2, 2, 2, 2, 2, 8, 1, 1], [7, 2, 2, 8, 2, 2, 2, 2, 1, 2, 8, 2], [8, 3, 7, 7, 8, 8, 8, 7, 3, 2, 2, 1], [8, 2, 8, 3, 2, 1, 2, 2, 2, 1, 2, 2], [3, 2, 7, 2, 2, 2, 2, 2, 2, 2, 2, 2], [8, 7, 3, 7, 2, 2, 2, 2, 2, 2, 2, 2], [8, 8, 2, 8, 8, 8, 7, 7, 2, 2, 2, 2], [8, 3, 7, 3, 7, 2, 7, 2, 2, 2, 2, 2], [8, 8, 3, 7, 8, 2, 2, 2, 8, 2, 2, 8], [8, 3, 7, 7, 7, 3, 7, 2, 2, 2, 2, 2], [8, 2, 7, 3, 2, 2, 2, 2, 2, 8, 8, 2], [8, 8, 7, 7, 8, 2, 7, 7, 2, 2, 7, 2], [8, 8, 8, 8, 8, 8, 8, 8, 3, 2, 3, 7], [8, 7, 8, 3, 2, 2, 2, 2, 2, 2, 8, 2], [8, 8, 3, 2, 2, 2, 2, 2, 2, 2, 2, 2], [8, 8, 8, 2, 2, 2, 2, 2, 2, 2, 2, 8], [8, 2, 8, 2, 2, 7, 2, 2, 2, 2, 2, 2], [7, 2, 7, 8, 8, 7, 3, 2, 2, 2, 2, 2], [8, 8, 7, 3, 7, 7, 7, 2, 2, 2, 2, 2], [8, 2, 7, 7, 2, 2, 8, 7, 2, 2, 2, 2], [8, 8, 8, 7, 8, 8, 7, 7, 8, 7, 2, 2], [8, 7, 7, 8, 3, 2, 3, 2, 2, 2, 2, 2], [7, 7, 2, 2, 2, 2, 2, 8, 2, 2, 2, 2], [8, 8, 8, 8, 2, 7, 2, 2, 2, 2, 2, 2], [8, 8, 8, 8, 3, 2, 2, 2, 2, 2, 2, 2], [7, 2, 2, 8, 8, 8, 7, 2, 8, 2, 8, 2], [8, 8, 8, 8, 8, 8, 8, 8, 8, 2, 2, 2], [8, 8, 8, 8, 8, 2, 2, 2, 2, 2, 2, 2], [7, 2, 8, 3, 2, 2, 8, 2, 2, 1, 2, 8], [3, 8, 7, 8, 8, 8, 2, 2, 2, 2, 1, 2], [8, 8, 7, 7, 7, 3, 2, 7, 2, 7, 2, 2], [8, 8, 3, 7, 8, 8, 7, 2, 2, 8, 1, 2], [8, 2, 8, 2, 8, 2, 2, 2, 2, 2, 2, 2], [8, 2, 2, 8, 2, 2, 2, 1, 2, 7, 7, 7], [8, 8, 8, 8, 8, 7, 8, 2, 2, 3, 2, 2], [8, 7, 8, 8, 8, 8, 8, 8, 8, 7, 2, 3], [8, 2, 2, 2, 2, 2, 2, 1, 2, 2, 1, 2], [8, 8, 8, 7, 3, 2, 2, 2, 2, 2, 2, 2], [8, 4, 2, 7, 7, 7, 8, 8, 2, 2, 2, 2], [8, 8, 3, 8, 3, 2, 2, 2, 2, 2, 2, 2], [8, 8, 3, 7, 2, 7, 8, 8, 2, 2, 8, 2], [8, 8, 3, 7, 7, 2, 2, 2, 2, 2, 2, 2], [8, 8, 8, 7, 2, 2, 2, 2, 2, 2, 2, 2], [8, 7, 3, 7, 2, 7, 2, 2, 2, 2, 2, 2], [8, 8, 8, 2, 8, 2, 2, 8, 2, 2, 8, 2], [8, 8, 8, 8, 8, 2, 2, 8, 8, 3, 2, 2], [8, 7, 2, 2, 2, 1, 8, 2, 2, 2, 2, 2], [2, 8, 2, 8, 8, 2, 7, 2, 8, 8, 2, 2], [8, 7, 3, 8, 8, 7, 2, 2, 2, 2, 2, 2], [2, 7, 8, 8, 7, 2, 2, 2, 2, 2, 7, 2], [2, 3, 3, 2, 2, 2, 3, 2, 2, 2, 1, 1], [8, 8, 8, 8, 7, 7, 7, 2, 2, 2, 2, 2], [8, 8, 8, 7, 2, 2, 7, 2, 2, 2, 8, 2], [8, 8, 8, 8, 7, 4, 7, 2, 2, 2, 2, 2], [3, 2, 8, 1, 8, 2, 8, 8, 2, 7, 2, 2], [8, 2, 2, 7, 3, 2, 2, 2, 2, 2, 8, 2], [8, 8, 8, 8, 8, 7, 2, 2, 2, 2, 2, 8], [8, 8, 7, 4, 7, 2, 2, 2, 2, 2, 2, 2], [8, 3, 7, 7, 8, 7, 2, 2, 2, 8, 2, 2], [7, 2, 2, 2, 2, 2, 2, 2, 2, 2, 2, 2], [8, 2, 2, 2, 8, 2, 2, 2, 2, 2, 2, 2], [8, 7, 7, 8, 8, 7, 7, 2, 2, 2, 2, 2], [7, 3, 3, 8, 7, 2, 2, 2, 2, 2, 2, 2], [2, 7, 8, 8, 2, 2, 2, 8, 2, 2, 2, 2], [8, 8, 7, 2, 7, 8, 2, 7, 8, 2, 2, 2], [7, 3, 3, 2, 2, 2, 2, 2, 2, 2, 2, 1], [8, 8, 8, 8, 3, 2, 3, 8, 2, 8, 1, 2], [8, 8, 7, 3, 2, 2, 2, 2, 2, 8, 8, 2], [7, 7, 3, 7, 7, 7, 2, 2, 2, 2, 2, 2], [7, 7, 3, 3, 3, 3, 2, 2, 2, 2, 2, 2], [8, 7, 8, 2, 2, 3, 7, 2, 7, 2, 2, 2]], [[10, 1, 1, 2, 8, 1, 10, 10, 10, 10, 1, 10], [8, 8, 10, 10, 10, 7, 10, 10, 10, 10, 10, 8], [1, 1, 1, 8, 1, 1, 1, 10, 1, 8, 8, 8], [10, 8, 2, 1, 1, 7, 1, 10, 10, 10, 10, 10], [1, 1, 1, 8, 8, 1, 10, 10, 10, 10, 10, 10], [1, 1, 1, 10, 10, 10, 10, 10, 10, 1, 10, 10], [10, 1, 8, 8, 1, 10, 10, 10, 1, 10, 10, 10], [1, 10, 10, 1, 10, 1, 10, 10, 10, 10, 10, 1], [1, 1, 1, 1, 1, 1, 1, 1, 1, 1, 1, 8], [8, 10, 1, 1, 1, 2, 1, 10, 8, 8, 8, 1], [1, 1, 8, 2, 10, 10, 10, 8, 10, 10, 1, 10], [2, 2, 8, 8, 1, 8, 1, 1, 1, 10, 10, 10], [1, 10, 10, 7, 10, 2, 8, 1, 1, 1, 1, 1], [10, 10, 10, 10, 10, 10, 10, 10, 1, 10, 10, 10], [1, 1, 1, 8, 8, 10, 10, 8, 2, 10, 1, 10], [1, 1, 8, 8, 1, 2, 7, 10, 10, 10, 10, 10], [8, 1, 8, 10, 10, 10, 10, 10, 1, 10, 10, 10], [8, 1, 1, 2, 2, 1, 10, 10, 10, 1, 10, 10], [10, 1, 1, 1, 8, 10, 10, 10, 8, 10, 10, 1], [1, 1, 8, 2, 8, 1, 10, 10, 10, 10, 10, 10], [8, 1, 1, 1, 8, 1, 1, 1, 10, 8, 10, 1], [1, 1, 1, 1, 10, 10, 10, 10, 10, 10, 10, 10], [1, 2, 1, 1, 1, 10, 10, 10, 1, 1, 1, 8], [1, 1, 8, 10, 8, 10, 10, 8, 1, 10, 10, 10], [10, 1, 8, 8, 10, 8, 8, 10, 8, 1, 1, 8], [1, 1, 8, 7, 10, 10, 10, 10, 10, 10, 10, 10], [1, 1, 8, 1, 10, 10, 10, 2, 1, 1, 1, 10], [1, 1, 1, 1, 10, 10, 1, 10, 1, 10, 1, 10], [1, 1, 1, 1, 1, 8, 1, 10, 1, 10, 10, 10], [1, 1, 1, 1, 1, 1, 8, 10, 2, 8, 10, 10], [1, 1, 1, 8, 8, 10, 8, 10, 10, 1, 10, 10], [1, 10, 8, 8, 8, 10, 10, 8, 1, 10, 8, 10], [1, 8, 1, 1, 1, 10, 8, 8, 10, 10, 1, 1], [1, 1, 8, 10, 10, 8, 8, 1, 10, 10, 10, 10], [1, 1, 8, 10, 10, 10, 10, 10, 8, 10, 10, 10], [1, 1, 8, 1, 1, 1, 8, 1, 1, 1, 1, 10], [8, 8, 1, 10, 1, 1, 1, 10, 10, 10, 10, 10], [8, 10, 10, 10, 10, 10, 10, 10, 10, 10, 10, 10], [1, 1, 1, 10, 8, 1, 1, 10, 10, 10, 7, 7], [1, 1, 1, 10, 10, 8, 1, 1, 10, 10, 10, 10], [1, 8, 8, 2, 10, 10, 10, 10, 10, 10, 10, 10], [1, 10, 10, 10, 10, 10, 10, 2, 10, 1, 1, 10], [1, 1, 1, 1, 2, 2, 1, 8, 10, 10, 10, 10], [8, 8, 1, 8, 8, 8, 8, 10, 10, 1, 1, 10], [8, 8, 10, 10, 10, 1, 10, 10, 10, 10, 1, 10], [8, 1, 1, 1, 1, 1, 1, 1, 10, 8, 8, 1], [10, 10, 10, 10, 10, 8, 10, 1, 10, 10, 10, 10], [1, 1, 1, 8, 8, 10, 8, 8, 1, 1, 1, 10], [10, 10, 10, 10, 10, 10, 10, 10, 10, 10, 1, 1], [8, 1, 10, 8, 2, 10, 1, 10, 10, 10, 10, 10], [1, 1, 1, 1, 2, 8, 10, 10, 8, 1, 10, 10], [1, 10, 10, 10, 1, 10, 10, 10, 10, 10, 8, 10], [8, 1, 1, 1, 1, 1, 8, 10, 10, 10, 10, 10], [1, 1, 1, 1, 10, 10, 10, 10, 1, 10, 1, 10], [1, 1, 8, 1, 1, 8, 1, 1, 10, 8, 1, 10], [1, 1, 8, 10, 1, 8, 7, 1, 10, 10, 1, 10], [1, 1, 10, 10, 10, 10, 1, 1, 8, 10, 10, 10], [10, 10, 10, 10, 10, 10, 10, 10, 1, 1, 1, 10], [1, 1, 8, 10, 10, 10, 10, 1, 10, 10, 10, 10], [1, 10, 10, 10, 10, 10, 10, 10, 10, 10, 10, 10], [1, 1, 1, 1, 8, 8, 1, 1, 1, 1, 7, 1], [1, 10, 10, 8, 8, 8, 1, 1, 10, 10, 10, 10], [1, 1, 1, 8, 1, 10, 10, 8, 8, 8, 10, 2], [10, 1, 7, 7, 8, 1, 8, 10, 10, 10, 10, 10], [1, 1, 8, 1, 8, 10, 10, 8, 10, 10, 10, 10], [1, 1, 1, 8, 8, 1, 8, 8, 10, 10, 10, 1], [1, 1, 1, 1, 1, 1, 10, 10, 1, 10, 10, 10], [1, 1, 1, 8, 1, 8, 10, 10, 10, 10, 10, 10], [8, 1, 8, 8, 10, 10, 10, 10, 10, 10, 10, 10], [1, 1, 1, 8, 8, 8, 7, 8, 10, 8, 10, 10], [10, 8, 8, 1, 8, 1, 10, 1, 10, 10, 10, 10], [1, 8, 8, 10, 10, 1, 10, 10, 10, 10, 10, 10], [1, 1, 1, 10, 10, 2, 1, 10, 7, 10, 1, 1], [1, 1, 1, 8, 8, 7, 8, 7, 8, 10, 10, 10], [1, 8, 8, 1, 1, 10, 8, 1, 10, 10, 10, 10], [1, 1, 10, 10, 1, 1, 1, 1, 1, 10, 10, 10], [1, 1, 1, 8, 1, 10, 10, 10, 10, 10, 10, 10], [2, 2, 1, 10, 10, 10, 10, 10, 10, 10, 10, 10], [8, 8, 8, 1, 2, 1, 8, 8, 8, 10, 10, 7], [1, 1, 8, 8, 1, 8, 10, 1, 1, 1, 10, 10], [1, 8, 1, 1, 8, 1, 10, 1, 10, 10, 10, 1], [1, 8, 10, 1, 1, 7, 10, 10, 10, 10, 10, 10], [1, 7, 2, 2, 2, 2, 8, 8, 8, 1, 1, 8]]]\n"
     ]
    }
   ],
   "source": [
    "def rate_chunks(chunks: list[list[str]], criteria: list[str]):\n",
    "    # flatten chunks into single list\n",
    "    flat_chunks = [c for chunk in chunks for c in chunk]\n",
    "    # rate\n",
    "    scores = multi_criterion_evaluation(flat_chunks, criteria, prompt=\"\", filter_errors=False,\n",
    "                                        # model=\"gpt-4o\",\n",
    "                                        )\n",
    "\n",
    "    integer_scores = [[item['score'] for item in criterion_scores] for criterion_scores in scores]\n",
    "    # split scores back into chunks\n",
    "    chunk_scores = []\n",
    "    chunk_sizes = [len(chunk) for chunk in chunks]\n",
    "    start = 0\n",
    "    for size in chunk_sizes:\n",
    "        chunk_score = []\n",
    "        for criterion_scores in integer_scores:\n",
    "            chunk_score.append(criterion_scores[start:start+size])\n",
    "        chunk_scores.append(chunk_score)\n",
    "        start += size\n",
    "    \n",
    "    # filter 0 scores\n",
    "    filtered_chunk_scores = []\n",
    "    for sample in chunk_scores:\n",
    "        # if 0 not in any of the criteria scores, keep the sample\n",
    "        if not any([0 in criterion for criterion in sample]):\n",
    "            filtered_chunk_scores.append(sample)\n",
    "        else:\n",
    "            print(\"skipping\", sample)\n",
    "    \n",
    "    # transpose\n",
    "    filtered_chunk_scores = list(map(list, zip(*filtered_chunk_scores)))\n",
    "\n",
    "    print(filtered_chunk_scores)\n",
    "\n",
    "    return filtered_chunk_scores\n",
    "\n",
    "\n",
    "coherence_scores, eval_scores = rate_chunks(chunks, [\"Text is coherent, the grammar is correct.\", criterion])\n"
   ]
  },
  {
   "cell_type": "code",
   "execution_count": 12,
   "metadata": {},
   "outputs": [],
   "source": [
    "coherence_averages = [sum(c[i] for c in coherence_scores)/len(coherence_scores) for i in range(len(coherence_scores[0]))]\n",
    "eval_averages = [sum(c[i] for c in eval_scores)/len(eval_scores) for i in range(len(eval_scores[0]))]"
   ]
  },
  {
   "cell_type": "code",
   "execution_count": 13,
   "metadata": {},
   "outputs": [
    {
     "data": {
      "text/plain": [
       "[[10, 1, 1, 2, 8, 1, 10, 10, 10, 10, 1, 10],\n",
       " [8, 8, 10, 10, 10, 7, 10, 10, 10, 10, 10, 8],\n",
       " [1, 1, 1, 8, 1, 1, 1, 10, 1, 8, 8, 8],\n",
       " [10, 8, 2, 1, 1, 7, 1, 10, 10, 10, 10, 10],\n",
       " [1, 1, 1, 8, 8, 1, 10, 10, 10, 10, 10, 10],\n",
       " [1, 1, 1, 10, 10, 10, 10, 10, 10, 1, 10, 10],\n",
       " [10, 1, 8, 8, 1, 10, 10, 10, 1, 10, 10, 10],\n",
       " [1, 10, 10, 1, 10, 1, 10, 10, 10, 10, 10, 1],\n",
       " [1, 1, 1, 1, 1, 1, 1, 1, 1, 1, 1, 8],\n",
       " [8, 10, 1, 1, 1, 2, 1, 10, 8, 8, 8, 1],\n",
       " [1, 1, 8, 2, 10, 10, 10, 8, 10, 10, 1, 10],\n",
       " [2, 2, 8, 8, 1, 8, 1, 1, 1, 10, 10, 10],\n",
       " [1, 10, 10, 7, 10, 2, 8, 1, 1, 1, 1, 1],\n",
       " [10, 10, 10, 10, 10, 10, 10, 10, 1, 10, 10, 10],\n",
       " [1, 1, 1, 8, 8, 10, 10, 8, 2, 10, 1, 10],\n",
       " [1, 1, 8, 8, 1, 2, 7, 10, 10, 10, 10, 10],\n",
       " [8, 1, 8, 10, 10, 10, 10, 10, 1, 10, 10, 10],\n",
       " [8, 1, 1, 2, 2, 1, 10, 10, 10, 1, 10, 10],\n",
       " [10, 1, 1, 1, 8, 10, 10, 10, 8, 10, 10, 1],\n",
       " [1, 1, 8, 2, 8, 1, 10, 10, 10, 10, 10, 10],\n",
       " [8, 1, 1, 1, 8, 1, 1, 1, 10, 8, 10, 1],\n",
       " [1, 1, 1, 1, 10, 10, 10, 10, 10, 10, 10, 10],\n",
       " [1, 2, 1, 1, 1, 10, 10, 10, 1, 1, 1, 8],\n",
       " [1, 1, 8, 10, 8, 10, 10, 8, 1, 10, 10, 10],\n",
       " [10, 1, 8, 8, 10, 8, 8, 10, 8, 1, 1, 8],\n",
       " [1, 1, 8, 7, 10, 10, 10, 10, 10, 10, 10, 10],\n",
       " [1, 1, 8, 1, 10, 10, 10, 2, 1, 1, 1, 10],\n",
       " [1, 1, 1, 1, 10, 10, 1, 10, 1, 10, 1, 10],\n",
       " [1, 1, 1, 1, 1, 8, 1, 10, 1, 10, 10, 10],\n",
       " [1, 1, 1, 1, 1, 1, 8, 10, 2, 8, 10, 10],\n",
       " [1, 1, 1, 8, 8, 10, 8, 10, 10, 1, 10, 10],\n",
       " [1, 10, 8, 8, 8, 10, 10, 8, 1, 10, 8, 10],\n",
       " [1, 8, 1, 1, 1, 10, 8, 8, 10, 10, 1, 1],\n",
       " [1, 1, 8, 10, 10, 8, 8, 1, 10, 10, 10, 10],\n",
       " [1, 1, 8, 10, 10, 10, 10, 10, 8, 10, 10, 10],\n",
       " [1, 1, 8, 1, 1, 1, 8, 1, 1, 1, 1, 10],\n",
       " [8, 8, 1, 10, 1, 1, 1, 10, 10, 10, 10, 10],\n",
       " [8, 10, 10, 10, 10, 10, 10, 10, 10, 10, 10, 10],\n",
       " [1, 1, 1, 10, 8, 1, 1, 10, 10, 10, 7, 7],\n",
       " [1, 1, 1, 10, 10, 8, 1, 1, 10, 10, 10, 10],\n",
       " [1, 8, 8, 2, 10, 10, 10, 10, 10, 10, 10, 10],\n",
       " [1, 10, 10, 10, 10, 10, 10, 2, 10, 1, 1, 10],\n",
       " [1, 1, 1, 1, 2, 2, 1, 8, 10, 10, 10, 10],\n",
       " [8, 8, 1, 8, 8, 8, 8, 10, 10, 1, 1, 10],\n",
       " [8, 8, 10, 10, 10, 1, 10, 10, 10, 10, 1, 10],\n",
       " [8, 1, 1, 1, 1, 1, 1, 1, 10, 8, 8, 1],\n",
       " [10, 10, 10, 10, 10, 8, 10, 1, 10, 10, 10, 10],\n",
       " [1, 1, 1, 8, 8, 10, 8, 8, 1, 1, 1, 10],\n",
       " [10, 10, 10, 10, 10, 10, 10, 10, 10, 10, 1, 1],\n",
       " [8, 1, 10, 8, 2, 10, 1, 10, 10, 10, 10, 10],\n",
       " [1, 1, 1, 1, 2, 8, 10, 10, 8, 1, 10, 10],\n",
       " [1, 10, 10, 10, 1, 10, 10, 10, 10, 10, 8, 10],\n",
       " [8, 1, 1, 1, 1, 1, 8, 10, 10, 10, 10, 10],\n",
       " [1, 1, 1, 1, 10, 10, 10, 10, 1, 10, 1, 10],\n",
       " [1, 1, 8, 1, 1, 8, 1, 1, 10, 8, 1, 10],\n",
       " [1, 1, 8, 10, 1, 8, 7, 1, 10, 10, 1, 10],\n",
       " [1, 1, 10, 10, 10, 10, 1, 1, 8, 10, 10, 10],\n",
       " [10, 10, 10, 10, 10, 10, 10, 10, 1, 1, 1, 10],\n",
       " [1, 1, 8, 10, 10, 10, 10, 1, 10, 10, 10, 10],\n",
       " [1, 10, 10, 10, 10, 10, 10, 10, 10, 10, 10, 10],\n",
       " [1, 1, 1, 1, 8, 8, 1, 1, 1, 1, 7, 1],\n",
       " [1, 10, 10, 8, 8, 8, 1, 1, 10, 10, 10, 10],\n",
       " [1, 1, 1, 8, 1, 10, 10, 8, 8, 8, 10, 2],\n",
       " [10, 1, 7, 7, 8, 1, 8, 10, 10, 10, 10, 10],\n",
       " [1, 1, 8, 1, 8, 10, 10, 8, 10, 10, 10, 10],\n",
       " [1, 1, 1, 8, 8, 1, 8, 8, 10, 10, 10, 1],\n",
       " [1, 1, 1, 1, 1, 1, 10, 10, 1, 10, 10, 10],\n",
       " [1, 1, 1, 8, 1, 8, 10, 10, 10, 10, 10, 10],\n",
       " [8, 1, 8, 8, 10, 10, 10, 10, 10, 10, 10, 10],\n",
       " [1, 1, 1, 8, 8, 8, 7, 8, 10, 8, 10, 10],\n",
       " [10, 8, 8, 1, 8, 1, 10, 1, 10, 10, 10, 10],\n",
       " [1, 8, 8, 10, 10, 1, 10, 10, 10, 10, 10, 10],\n",
       " [1, 1, 1, 10, 10, 2, 1, 10, 7, 10, 1, 1],\n",
       " [1, 1, 1, 8, 8, 7, 8, 7, 8, 10, 10, 10],\n",
       " [1, 8, 8, 1, 1, 10, 8, 1, 10, 10, 10, 10],\n",
       " [1, 1, 10, 10, 1, 1, 1, 1, 1, 10, 10, 10],\n",
       " [1, 1, 1, 8, 1, 10, 10, 10, 10, 10, 10, 10],\n",
       " [2, 2, 1, 10, 10, 10, 10, 10, 10, 10, 10, 10],\n",
       " [8, 8, 8, 1, 2, 1, 8, 8, 8, 10, 10, 7],\n",
       " [1, 1, 8, 8, 1, 8, 10, 1, 1, 1, 10, 10],\n",
       " [1, 8, 1, 1, 8, 1, 10, 1, 10, 10, 10, 1],\n",
       " [1, 8, 10, 1, 1, 7, 10, 10, 10, 10, 10, 10],\n",
       " [1, 7, 2, 2, 2, 2, 8, 8, 8, 1, 1, 8]]"
      ]
     },
     "execution_count": 13,
     "metadata": {},
     "output_type": "execute_result"
    }
   ],
   "source": [
    "eval_scores"
   ]
  },
  {
   "cell_type": "code",
   "execution_count": 14,
   "metadata": {},
   "outputs": [
    {
     "data": {
      "text/plain": [
       "[[8, 2, 2, 3, 8, 2, 7, 2, 2, 2, 7, 2],\n",
       " [8, 7, 2, 2, 8, 2, 2, 7, 2, 2, 2, 1],\n",
       " [8, 8, 8, 8, 8, 7, 8, 8, 8, 8, 8, 8],\n",
       " [8, 3, 2, 2, 3, 2, 2, 2, 2, 2, 2, 2],\n",
       " [7, 7, 7, 3, 3, 2, 2, 2, 2, 2, 8, 2],\n",
       " [7, 2, 2, 2, 2, 2, 2, 8, 2, 2, 8, 2],\n",
       " [8, 7, 7, 8, 7, 3, 7, 2, 8, 2, 2, 2],\n",
       " [7, 2, 7, 2, 2, 2, 2, 2, 8, 2, 2, 2],\n",
       " [8, 8, 8, 8, 2, 7, 7, 2, 2, 7, 2, 2],\n",
       " [8, 8, 7, 7, 7, 7, 8, 7, 2, 3, 2, 2],\n",
       " [8, 8, 7, 2, 2, 2, 2, 2, 8, 2, 2, 2],\n",
       " [8, 8, 8, 8, 8, 7, 8, 7, 7, 7, 2, 2],\n",
       " [7, 3, 2, 2, 2, 2, 2, 2, 2, 8, 1, 1],\n",
       " [7, 2, 2, 8, 2, 2, 2, 2, 1, 2, 8, 2],\n",
       " [8, 3, 7, 7, 8, 8, 8, 7, 3, 2, 2, 1],\n",
       " [8, 2, 8, 3, 2, 1, 2, 2, 2, 1, 2, 2],\n",
       " [3, 2, 7, 2, 2, 2, 2, 2, 2, 2, 2, 2],\n",
       " [8, 7, 3, 7, 2, 2, 2, 2, 2, 2, 2, 2],\n",
       " [8, 8, 2, 8, 8, 8, 7, 7, 2, 2, 2, 2],\n",
       " [8, 3, 7, 3, 7, 2, 7, 2, 2, 2, 2, 2],\n",
       " [8, 8, 3, 7, 8, 2, 2, 2, 8, 2, 2, 8],\n",
       " [8, 3, 7, 7, 7, 3, 7, 2, 2, 2, 2, 2],\n",
       " [8, 2, 7, 3, 2, 2, 2, 2, 2, 8, 8, 2],\n",
       " [8, 8, 7, 7, 8, 2, 7, 7, 2, 2, 7, 2],\n",
       " [8, 8, 8, 8, 8, 8, 8, 8, 3, 2, 3, 7],\n",
       " [8, 7, 8, 3, 2, 2, 2, 2, 2, 2, 8, 2],\n",
       " [8, 8, 3, 2, 2, 2, 2, 2, 2, 2, 2, 2],\n",
       " [8, 8, 8, 2, 2, 2, 2, 2, 2, 2, 2, 8],\n",
       " [8, 2, 8, 2, 2, 7, 2, 2, 2, 2, 2, 2],\n",
       " [7, 2, 7, 8, 8, 7, 3, 2, 2, 2, 2, 2],\n",
       " [8, 8, 7, 3, 7, 7, 7, 2, 2, 2, 2, 2],\n",
       " [8, 2, 7, 7, 2, 2, 8, 7, 2, 2, 2, 2],\n",
       " [8, 8, 8, 7, 8, 8, 7, 7, 8, 7, 2, 2],\n",
       " [8, 7, 7, 8, 3, 2, 3, 2, 2, 2, 2, 2],\n",
       " [7, 7, 2, 2, 2, 2, 2, 8, 2, 2, 2, 2],\n",
       " [8, 8, 8, 8, 2, 7, 2, 2, 2, 2, 2, 2],\n",
       " [8, 8, 8, 8, 3, 2, 2, 2, 2, 2, 2, 2],\n",
       " [7, 2, 2, 8, 8, 8, 7, 2, 8, 2, 8, 2],\n",
       " [8, 8, 8, 8, 8, 8, 8, 8, 8, 2, 2, 2],\n",
       " [8, 8, 8, 8, 8, 2, 2, 2, 2, 2, 2, 2],\n",
       " [7, 2, 8, 3, 2, 2, 8, 2, 2, 1, 2, 8],\n",
       " [3, 8, 7, 8, 8, 8, 2, 2, 2, 2, 1, 2],\n",
       " [8, 8, 7, 7, 7, 3, 2, 7, 2, 7, 2, 2],\n",
       " [8, 8, 3, 7, 8, 8, 7, 2, 2, 8, 1, 2],\n",
       " [8, 2, 8, 2, 8, 2, 2, 2, 2, 2, 2, 2],\n",
       " [8, 2, 2, 8, 2, 2, 2, 1, 2, 7, 7, 7],\n",
       " [8, 8, 8, 8, 8, 7, 8, 2, 2, 3, 2, 2],\n",
       " [8, 7, 8, 8, 8, 8, 8, 8, 8, 7, 2, 3],\n",
       " [8, 2, 2, 2, 2, 2, 2, 1, 2, 2, 1, 2],\n",
       " [8, 8, 8, 7, 3, 2, 2, 2, 2, 2, 2, 2],\n",
       " [8, 4, 2, 7, 7, 7, 8, 8, 2, 2, 2, 2],\n",
       " [8, 8, 3, 8, 3, 2, 2, 2, 2, 2, 2, 2],\n",
       " [8, 8, 3, 7, 2, 7, 8, 8, 2, 2, 8, 2],\n",
       " [8, 8, 3, 7, 7, 2, 2, 2, 2, 2, 2, 2],\n",
       " [8, 8, 8, 7, 2, 2, 2, 2, 2, 2, 2, 2],\n",
       " [8, 7, 3, 7, 2, 7, 2, 2, 2, 2, 2, 2],\n",
       " [8, 8, 8, 2, 8, 2, 2, 8, 2, 2, 8, 2],\n",
       " [8, 8, 8, 8, 8, 2, 2, 8, 8, 3, 2, 2],\n",
       " [8, 7, 2, 2, 2, 1, 8, 2, 2, 2, 2, 2],\n",
       " [2, 8, 2, 8, 8, 2, 7, 2, 8, 8, 2, 2],\n",
       " [8, 7, 3, 8, 8, 7, 2, 2, 2, 2, 2, 2],\n",
       " [2, 7, 8, 8, 7, 2, 2, 2, 2, 2, 7, 2],\n",
       " [2, 3, 3, 2, 2, 2, 3, 2, 2, 2, 1, 1],\n",
       " [8, 8, 8, 8, 7, 7, 7, 2, 2, 2, 2, 2],\n",
       " [8, 8, 8, 7, 2, 2, 7, 2, 2, 2, 8, 2],\n",
       " [8, 8, 8, 8, 7, 4, 7, 2, 2, 2, 2, 2],\n",
       " [3, 2, 8, 1, 8, 2, 8, 8, 2, 7, 2, 2],\n",
       " [8, 2, 2, 7, 3, 2, 2, 2, 2, 2, 8, 2],\n",
       " [8, 8, 8, 8, 8, 7, 2, 2, 2, 2, 2, 8],\n",
       " [8, 8, 7, 4, 7, 2, 2, 2, 2, 2, 2, 2],\n",
       " [8, 3, 7, 7, 8, 7, 2, 2, 2, 8, 2, 2],\n",
       " [7, 2, 2, 2, 2, 2, 2, 2, 2, 2, 2, 2],\n",
       " [8, 2, 2, 2, 8, 2, 2, 2, 2, 2, 2, 2],\n",
       " [8, 7, 7, 8, 8, 7, 7, 2, 2, 2, 2, 2],\n",
       " [7, 3, 3, 8, 7, 2, 2, 2, 2, 2, 2, 2],\n",
       " [2, 7, 8, 8, 2, 2, 2, 8, 2, 2, 2, 2],\n",
       " [8, 8, 7, 2, 7, 8, 2, 7, 8, 2, 2, 2],\n",
       " [7, 3, 3, 2, 2, 2, 2, 2, 2, 2, 2, 1],\n",
       " [8, 8, 8, 8, 3, 2, 3, 8, 2, 8, 1, 2],\n",
       " [8, 8, 7, 3, 2, 2, 2, 2, 2, 8, 8, 2],\n",
       " [7, 7, 3, 7, 7, 7, 2, 2, 2, 2, 2, 2],\n",
       " [7, 7, 3, 3, 3, 3, 2, 2, 2, 2, 2, 2],\n",
       " [8, 7, 8, 2, 2, 3, 7, 2, 7, 2, 2, 2]]"
      ]
     },
     "execution_count": 14,
     "metadata": {},
     "output_type": "execute_result"
    }
   ],
   "source": [
    "coherence_scores"
   ]
  },
  {
   "cell_type": "code",
   "execution_count": 15,
   "metadata": {},
   "outputs": [
    {
     "data": {
      "application/vnd.plotly.v1+json": {
       "config": {
        "plotlyServerURL": "https://plot.ly"
       },
       "data": [
        {
         "hovertemplate": "Metric=Coherence Averages<br>Index=%{x}<br>Average Score=%{y}<extra></extra>",
         "legendgroup": "Coherence Averages",
         "line": {
          "color": "#636efa",
          "dash": "solid",
          "shape": "linear"
         },
         "marker": {
          "symbol": "circle"
         },
         "mode": "lines",
         "name": "Coherence Averages",
         "orientation": "v",
         "showlegend": true,
         "type": "scatter",
         "x": [
          0,
          1,
          2,
          3,
          4,
          5,
          6,
          7,
          8,
          9,
          10,
          11
         ],
         "xaxis": "x",
         "y": [
          7.36144578313253,
          5.831325301204819,
          5.662650602409639,
          5.506024096385542,
          5.036144578313253,
          3.8674698795180724,
          4.0843373493975905,
          3.5180722891566263,
          3,
          3.0120481927710845,
          3.0481927710843375,
          2.433734939759036
         ],
         "yaxis": "y"
        },
        {
         "hovertemplate": "Metric=Evaluation Averages<br>Index=%{x}<br>Average Score=%{y}<extra></extra>",
         "legendgroup": "Evaluation Averages",
         "line": {
          "color": "#EF553B",
          "dash": "solid",
          "shape": "linear"
         },
         "marker": {
          "symbol": "circle"
         },
         "mode": "lines",
         "name": "Evaluation Averages",
         "orientation": "v",
         "showlegend": true,
         "type": "scatter",
         "x": [
          0,
          1,
          2,
          3,
          4,
          5,
          6,
          7,
          8,
          9,
          10,
          11
         ],
         "xaxis": "x",
         "y": [
          3.397590361445783,
          3.6144578313253013,
          5.048192771084337,
          5.771084337349397,
          6.096385542168675,
          6.421686746987952,
          7.337349397590361,
          7.289156626506024,
          7.253012048192771,
          7.963855421686747,
          7.421686746987952,
          8.385542168674698
         ],
         "yaxis": "y"
        }
       ],
       "layout": {
        "font": {
         "size": 12
        },
        "legend": {
         "title": {
          "text": "Metric"
         },
         "tracegroupgap": 0
        },
        "template": {
         "data": {
          "bar": [
           {
            "error_x": {
             "color": "#2a3f5f"
            },
            "error_y": {
             "color": "#2a3f5f"
            },
            "marker": {
             "line": {
              "color": "#E5ECF6",
              "width": 0.5
             },
             "pattern": {
              "fillmode": "overlay",
              "size": 10,
              "solidity": 0.2
             }
            },
            "type": "bar"
           }
          ],
          "barpolar": [
           {
            "marker": {
             "line": {
              "color": "#E5ECF6",
              "width": 0.5
             },
             "pattern": {
              "fillmode": "overlay",
              "size": 10,
              "solidity": 0.2
             }
            },
            "type": "barpolar"
           }
          ],
          "carpet": [
           {
            "aaxis": {
             "endlinecolor": "#2a3f5f",
             "gridcolor": "white",
             "linecolor": "white",
             "minorgridcolor": "white",
             "startlinecolor": "#2a3f5f"
            },
            "baxis": {
             "endlinecolor": "#2a3f5f",
             "gridcolor": "white",
             "linecolor": "white",
             "minorgridcolor": "white",
             "startlinecolor": "#2a3f5f"
            },
            "type": "carpet"
           }
          ],
          "choropleth": [
           {
            "colorbar": {
             "outlinewidth": 0,
             "ticks": ""
            },
            "type": "choropleth"
           }
          ],
          "contour": [
           {
            "colorbar": {
             "outlinewidth": 0,
             "ticks": ""
            },
            "colorscale": [
             [
              0,
              "#0d0887"
             ],
             [
              0.1111111111111111,
              "#46039f"
             ],
             [
              0.2222222222222222,
              "#7201a8"
             ],
             [
              0.3333333333333333,
              "#9c179e"
             ],
             [
              0.4444444444444444,
              "#bd3786"
             ],
             [
              0.5555555555555556,
              "#d8576b"
             ],
             [
              0.6666666666666666,
              "#ed7953"
             ],
             [
              0.7777777777777778,
              "#fb9f3a"
             ],
             [
              0.8888888888888888,
              "#fdca26"
             ],
             [
              1,
              "#f0f921"
             ]
            ],
            "type": "contour"
           }
          ],
          "contourcarpet": [
           {
            "colorbar": {
             "outlinewidth": 0,
             "ticks": ""
            },
            "type": "contourcarpet"
           }
          ],
          "heatmap": [
           {
            "colorbar": {
             "outlinewidth": 0,
             "ticks": ""
            },
            "colorscale": [
             [
              0,
              "#0d0887"
             ],
             [
              0.1111111111111111,
              "#46039f"
             ],
             [
              0.2222222222222222,
              "#7201a8"
             ],
             [
              0.3333333333333333,
              "#9c179e"
             ],
             [
              0.4444444444444444,
              "#bd3786"
             ],
             [
              0.5555555555555556,
              "#d8576b"
             ],
             [
              0.6666666666666666,
              "#ed7953"
             ],
             [
              0.7777777777777778,
              "#fb9f3a"
             ],
             [
              0.8888888888888888,
              "#fdca26"
             ],
             [
              1,
              "#f0f921"
             ]
            ],
            "type": "heatmap"
           }
          ],
          "heatmapgl": [
           {
            "colorbar": {
             "outlinewidth": 0,
             "ticks": ""
            },
            "colorscale": [
             [
              0,
              "#0d0887"
             ],
             [
              0.1111111111111111,
              "#46039f"
             ],
             [
              0.2222222222222222,
              "#7201a8"
             ],
             [
              0.3333333333333333,
              "#9c179e"
             ],
             [
              0.4444444444444444,
              "#bd3786"
             ],
             [
              0.5555555555555556,
              "#d8576b"
             ],
             [
              0.6666666666666666,
              "#ed7953"
             ],
             [
              0.7777777777777778,
              "#fb9f3a"
             ],
             [
              0.8888888888888888,
              "#fdca26"
             ],
             [
              1,
              "#f0f921"
             ]
            ],
            "type": "heatmapgl"
           }
          ],
          "histogram": [
           {
            "marker": {
             "pattern": {
              "fillmode": "overlay",
              "size": 10,
              "solidity": 0.2
             }
            },
            "type": "histogram"
           }
          ],
          "histogram2d": [
           {
            "colorbar": {
             "outlinewidth": 0,
             "ticks": ""
            },
            "colorscale": [
             [
              0,
              "#0d0887"
             ],
             [
              0.1111111111111111,
              "#46039f"
             ],
             [
              0.2222222222222222,
              "#7201a8"
             ],
             [
              0.3333333333333333,
              "#9c179e"
             ],
             [
              0.4444444444444444,
              "#bd3786"
             ],
             [
              0.5555555555555556,
              "#d8576b"
             ],
             [
              0.6666666666666666,
              "#ed7953"
             ],
             [
              0.7777777777777778,
              "#fb9f3a"
             ],
             [
              0.8888888888888888,
              "#fdca26"
             ],
             [
              1,
              "#f0f921"
             ]
            ],
            "type": "histogram2d"
           }
          ],
          "histogram2dcontour": [
           {
            "colorbar": {
             "outlinewidth": 0,
             "ticks": ""
            },
            "colorscale": [
             [
              0,
              "#0d0887"
             ],
             [
              0.1111111111111111,
              "#46039f"
             ],
             [
              0.2222222222222222,
              "#7201a8"
             ],
             [
              0.3333333333333333,
              "#9c179e"
             ],
             [
              0.4444444444444444,
              "#bd3786"
             ],
             [
              0.5555555555555556,
              "#d8576b"
             ],
             [
              0.6666666666666666,
              "#ed7953"
             ],
             [
              0.7777777777777778,
              "#fb9f3a"
             ],
             [
              0.8888888888888888,
              "#fdca26"
             ],
             [
              1,
              "#f0f921"
             ]
            ],
            "type": "histogram2dcontour"
           }
          ],
          "mesh3d": [
           {
            "colorbar": {
             "outlinewidth": 0,
             "ticks": ""
            },
            "type": "mesh3d"
           }
          ],
          "parcoords": [
           {
            "line": {
             "colorbar": {
              "outlinewidth": 0,
              "ticks": ""
             }
            },
            "type": "parcoords"
           }
          ],
          "pie": [
           {
            "automargin": true,
            "type": "pie"
           }
          ],
          "scatter": [
           {
            "fillpattern": {
             "fillmode": "overlay",
             "size": 10,
             "solidity": 0.2
            },
            "type": "scatter"
           }
          ],
          "scatter3d": [
           {
            "line": {
             "colorbar": {
              "outlinewidth": 0,
              "ticks": ""
             }
            },
            "marker": {
             "colorbar": {
              "outlinewidth": 0,
              "ticks": ""
             }
            },
            "type": "scatter3d"
           }
          ],
          "scattercarpet": [
           {
            "marker": {
             "colorbar": {
              "outlinewidth": 0,
              "ticks": ""
             }
            },
            "type": "scattercarpet"
           }
          ],
          "scattergeo": [
           {
            "marker": {
             "colorbar": {
              "outlinewidth": 0,
              "ticks": ""
             }
            },
            "type": "scattergeo"
           }
          ],
          "scattergl": [
           {
            "marker": {
             "colorbar": {
              "outlinewidth": 0,
              "ticks": ""
             }
            },
            "type": "scattergl"
           }
          ],
          "scattermapbox": [
           {
            "marker": {
             "colorbar": {
              "outlinewidth": 0,
              "ticks": ""
             }
            },
            "type": "scattermapbox"
           }
          ],
          "scatterpolar": [
           {
            "marker": {
             "colorbar": {
              "outlinewidth": 0,
              "ticks": ""
             }
            },
            "type": "scatterpolar"
           }
          ],
          "scatterpolargl": [
           {
            "marker": {
             "colorbar": {
              "outlinewidth": 0,
              "ticks": ""
             }
            },
            "type": "scatterpolargl"
           }
          ],
          "scatterternary": [
           {
            "marker": {
             "colorbar": {
              "outlinewidth": 0,
              "ticks": ""
             }
            },
            "type": "scatterternary"
           }
          ],
          "surface": [
           {
            "colorbar": {
             "outlinewidth": 0,
             "ticks": ""
            },
            "colorscale": [
             [
              0,
              "#0d0887"
             ],
             [
              0.1111111111111111,
              "#46039f"
             ],
             [
              0.2222222222222222,
              "#7201a8"
             ],
             [
              0.3333333333333333,
              "#9c179e"
             ],
             [
              0.4444444444444444,
              "#bd3786"
             ],
             [
              0.5555555555555556,
              "#d8576b"
             ],
             [
              0.6666666666666666,
              "#ed7953"
             ],
             [
              0.7777777777777778,
              "#fb9f3a"
             ],
             [
              0.8888888888888888,
              "#fdca26"
             ],
             [
              1,
              "#f0f921"
             ]
            ],
            "type": "surface"
           }
          ],
          "table": [
           {
            "cells": {
             "fill": {
              "color": "#EBF0F8"
             },
             "line": {
              "color": "white"
             }
            },
            "header": {
             "fill": {
              "color": "#C8D4E3"
             },
             "line": {
              "color": "white"
             }
            },
            "type": "table"
           }
          ]
         },
         "layout": {
          "annotationdefaults": {
           "arrowcolor": "#2a3f5f",
           "arrowhead": 0,
           "arrowwidth": 1
          },
          "autotypenumbers": "strict",
          "coloraxis": {
           "colorbar": {
            "outlinewidth": 0,
            "ticks": ""
           }
          },
          "colorscale": {
           "diverging": [
            [
             0,
             "#8e0152"
            ],
            [
             0.1,
             "#c51b7d"
            ],
            [
             0.2,
             "#de77ae"
            ],
            [
             0.3,
             "#f1b6da"
            ],
            [
             0.4,
             "#fde0ef"
            ],
            [
             0.5,
             "#f7f7f7"
            ],
            [
             0.6,
             "#e6f5d0"
            ],
            [
             0.7,
             "#b8e186"
            ],
            [
             0.8,
             "#7fbc41"
            ],
            [
             0.9,
             "#4d9221"
            ],
            [
             1,
             "#276419"
            ]
           ],
           "sequential": [
            [
             0,
             "#0d0887"
            ],
            [
             0.1111111111111111,
             "#46039f"
            ],
            [
             0.2222222222222222,
             "#7201a8"
            ],
            [
             0.3333333333333333,
             "#9c179e"
            ],
            [
             0.4444444444444444,
             "#bd3786"
            ],
            [
             0.5555555555555556,
             "#d8576b"
            ],
            [
             0.6666666666666666,
             "#ed7953"
            ],
            [
             0.7777777777777778,
             "#fb9f3a"
            ],
            [
             0.8888888888888888,
             "#fdca26"
            ],
            [
             1,
             "#f0f921"
            ]
           ],
           "sequentialminus": [
            [
             0,
             "#0d0887"
            ],
            [
             0.1111111111111111,
             "#46039f"
            ],
            [
             0.2222222222222222,
             "#7201a8"
            ],
            [
             0.3333333333333333,
             "#9c179e"
            ],
            [
             0.4444444444444444,
             "#bd3786"
            ],
            [
             0.5555555555555556,
             "#d8576b"
            ],
            [
             0.6666666666666666,
             "#ed7953"
            ],
            [
             0.7777777777777778,
             "#fb9f3a"
            ],
            [
             0.8888888888888888,
             "#fdca26"
            ],
            [
             1,
             "#f0f921"
            ]
           ]
          },
          "colorway": [
           "#636efa",
           "#EF553B",
           "#00cc96",
           "#ab63fa",
           "#FFA15A",
           "#19d3f3",
           "#FF6692",
           "#B6E880",
           "#FF97FF",
           "#FECB52"
          ],
          "font": {
           "color": "#2a3f5f"
          },
          "geo": {
           "bgcolor": "white",
           "lakecolor": "white",
           "landcolor": "#E5ECF6",
           "showlakes": true,
           "showland": true,
           "subunitcolor": "white"
          },
          "hoverlabel": {
           "align": "left"
          },
          "hovermode": "closest",
          "mapbox": {
           "style": "light"
          },
          "paper_bgcolor": "white",
          "plot_bgcolor": "#E5ECF6",
          "polar": {
           "angularaxis": {
            "gridcolor": "white",
            "linecolor": "white",
            "ticks": ""
           },
           "bgcolor": "#E5ECF6",
           "radialaxis": {
            "gridcolor": "white",
            "linecolor": "white",
            "ticks": ""
           }
          },
          "scene": {
           "xaxis": {
            "backgroundcolor": "#E5ECF6",
            "gridcolor": "white",
            "gridwidth": 2,
            "linecolor": "white",
            "showbackground": true,
            "ticks": "",
            "zerolinecolor": "white"
           },
           "yaxis": {
            "backgroundcolor": "#E5ECF6",
            "gridcolor": "white",
            "gridwidth": 2,
            "linecolor": "white",
            "showbackground": true,
            "ticks": "",
            "zerolinecolor": "white"
           },
           "zaxis": {
            "backgroundcolor": "#E5ECF6",
            "gridcolor": "white",
            "gridwidth": 2,
            "linecolor": "white",
            "showbackground": true,
            "ticks": "",
            "zerolinecolor": "white"
           }
          },
          "shapedefaults": {
           "line": {
            "color": "#2a3f5f"
           }
          },
          "ternary": {
           "aaxis": {
            "gridcolor": "white",
            "linecolor": "white",
            "ticks": ""
           },
           "baxis": {
            "gridcolor": "white",
            "linecolor": "white",
            "ticks": ""
           },
           "bgcolor": "#E5ECF6",
           "caxis": {
            "gridcolor": "white",
            "linecolor": "white",
            "ticks": ""
           }
          },
          "title": {
           "x": 0.05
          },
          "xaxis": {
           "automargin": true,
           "gridcolor": "white",
           "linecolor": "white",
           "ticks": "",
           "title": {
            "standoff": 15
           },
           "zerolinecolor": "white",
           "zerolinewidth": 2
          },
          "yaxis": {
           "automargin": true,
           "gridcolor": "white",
           "linecolor": "white",
           "ticks": "",
           "title": {
            "standoff": 15
           },
           "zerolinecolor": "white",
           "zerolinewidth": 2
          }
         }
        },
        "title": {
         "text": "Coherence and Evaluation Averages"
        },
        "xaxis": {
         "anchor": "y",
         "domain": [
          0,
          1
         ],
         "title": {
          "text": "Index"
         }
        },
        "yaxis": {
         "anchor": "x",
         "domain": [
          0,
          1
         ],
         "title": {
          "text": "Average Score"
         }
        }
       }
      },
      "text/html": [
       "<div>                            <div id=\"794ec58b-032c-486d-b62a-f3532f3b5542\" class=\"plotly-graph-div\" style=\"height:525px; width:100%;\"></div>            <script type=\"text/javascript\">                require([\"plotly\"], function(Plotly) {                    window.PLOTLYENV=window.PLOTLYENV || {};                                    if (document.getElementById(\"794ec58b-032c-486d-b62a-f3532f3b5542\")) {                    Plotly.newPlot(                        \"794ec58b-032c-486d-b62a-f3532f3b5542\",                        [{\"hovertemplate\":\"Metric=Coherence Averages\\u003cbr\\u003eIndex=%{x}\\u003cbr\\u003eAverage Score=%{y}\\u003cextra\\u003e\\u003c\\u002fextra\\u003e\",\"legendgroup\":\"Coherence Averages\",\"line\":{\"color\":\"#636efa\",\"dash\":\"solid\",\"shape\":\"linear\"},\"marker\":{\"symbol\":\"circle\"},\"mode\":\"lines\",\"name\":\"Coherence Averages\",\"orientation\":\"v\",\"showlegend\":true,\"x\":[0,1,2,3,4,5,6,7,8,9,10,11],\"xaxis\":\"x\",\"y\":[7.36144578313253,5.831325301204819,5.662650602409639,5.506024096385542,5.036144578313253,3.8674698795180724,4.0843373493975905,3.5180722891566263,3.0,3.0120481927710845,3.0481927710843375,2.433734939759036],\"yaxis\":\"y\",\"type\":\"scatter\"},{\"hovertemplate\":\"Metric=Evaluation Averages\\u003cbr\\u003eIndex=%{x}\\u003cbr\\u003eAverage Score=%{y}\\u003cextra\\u003e\\u003c\\u002fextra\\u003e\",\"legendgroup\":\"Evaluation Averages\",\"line\":{\"color\":\"#EF553B\",\"dash\":\"solid\",\"shape\":\"linear\"},\"marker\":{\"symbol\":\"circle\"},\"mode\":\"lines\",\"name\":\"Evaluation Averages\",\"orientation\":\"v\",\"showlegend\":true,\"x\":[0,1,2,3,4,5,6,7,8,9,10,11],\"xaxis\":\"x\",\"y\":[3.397590361445783,3.6144578313253013,5.048192771084337,5.771084337349397,6.096385542168675,6.421686746987952,7.337349397590361,7.289156626506024,7.253012048192771,7.963855421686747,7.421686746987952,8.385542168674698],\"yaxis\":\"y\",\"type\":\"scatter\"}],                        {\"template\":{\"data\":{\"histogram2dcontour\":[{\"type\":\"histogram2dcontour\",\"colorbar\":{\"outlinewidth\":0,\"ticks\":\"\"},\"colorscale\":[[0.0,\"#0d0887\"],[0.1111111111111111,\"#46039f\"],[0.2222222222222222,\"#7201a8\"],[0.3333333333333333,\"#9c179e\"],[0.4444444444444444,\"#bd3786\"],[0.5555555555555556,\"#d8576b\"],[0.6666666666666666,\"#ed7953\"],[0.7777777777777778,\"#fb9f3a\"],[0.8888888888888888,\"#fdca26\"],[1.0,\"#f0f921\"]]}],\"choropleth\":[{\"type\":\"choropleth\",\"colorbar\":{\"outlinewidth\":0,\"ticks\":\"\"}}],\"histogram2d\":[{\"type\":\"histogram2d\",\"colorbar\":{\"outlinewidth\":0,\"ticks\":\"\"},\"colorscale\":[[0.0,\"#0d0887\"],[0.1111111111111111,\"#46039f\"],[0.2222222222222222,\"#7201a8\"],[0.3333333333333333,\"#9c179e\"],[0.4444444444444444,\"#bd3786\"],[0.5555555555555556,\"#d8576b\"],[0.6666666666666666,\"#ed7953\"],[0.7777777777777778,\"#fb9f3a\"],[0.8888888888888888,\"#fdca26\"],[1.0,\"#f0f921\"]]}],\"heatmap\":[{\"type\":\"heatmap\",\"colorbar\":{\"outlinewidth\":0,\"ticks\":\"\"},\"colorscale\":[[0.0,\"#0d0887\"],[0.1111111111111111,\"#46039f\"],[0.2222222222222222,\"#7201a8\"],[0.3333333333333333,\"#9c179e\"],[0.4444444444444444,\"#bd3786\"],[0.5555555555555556,\"#d8576b\"],[0.6666666666666666,\"#ed7953\"],[0.7777777777777778,\"#fb9f3a\"],[0.8888888888888888,\"#fdca26\"],[1.0,\"#f0f921\"]]}],\"heatmapgl\":[{\"type\":\"heatmapgl\",\"colorbar\":{\"outlinewidth\":0,\"ticks\":\"\"},\"colorscale\":[[0.0,\"#0d0887\"],[0.1111111111111111,\"#46039f\"],[0.2222222222222222,\"#7201a8\"],[0.3333333333333333,\"#9c179e\"],[0.4444444444444444,\"#bd3786\"],[0.5555555555555556,\"#d8576b\"],[0.6666666666666666,\"#ed7953\"],[0.7777777777777778,\"#fb9f3a\"],[0.8888888888888888,\"#fdca26\"],[1.0,\"#f0f921\"]]}],\"contourcarpet\":[{\"type\":\"contourcarpet\",\"colorbar\":{\"outlinewidth\":0,\"ticks\":\"\"}}],\"contour\":[{\"type\":\"contour\",\"colorbar\":{\"outlinewidth\":0,\"ticks\":\"\"},\"colorscale\":[[0.0,\"#0d0887\"],[0.1111111111111111,\"#46039f\"],[0.2222222222222222,\"#7201a8\"],[0.3333333333333333,\"#9c179e\"],[0.4444444444444444,\"#bd3786\"],[0.5555555555555556,\"#d8576b\"],[0.6666666666666666,\"#ed7953\"],[0.7777777777777778,\"#fb9f3a\"],[0.8888888888888888,\"#fdca26\"],[1.0,\"#f0f921\"]]}],\"surface\":[{\"type\":\"surface\",\"colorbar\":{\"outlinewidth\":0,\"ticks\":\"\"},\"colorscale\":[[0.0,\"#0d0887\"],[0.1111111111111111,\"#46039f\"],[0.2222222222222222,\"#7201a8\"],[0.3333333333333333,\"#9c179e\"],[0.4444444444444444,\"#bd3786\"],[0.5555555555555556,\"#d8576b\"],[0.6666666666666666,\"#ed7953\"],[0.7777777777777778,\"#fb9f3a\"],[0.8888888888888888,\"#fdca26\"],[1.0,\"#f0f921\"]]}],\"mesh3d\":[{\"type\":\"mesh3d\",\"colorbar\":{\"outlinewidth\":0,\"ticks\":\"\"}}],\"scatter\":[{\"fillpattern\":{\"fillmode\":\"overlay\",\"size\":10,\"solidity\":0.2},\"type\":\"scatter\"}],\"parcoords\":[{\"type\":\"parcoords\",\"line\":{\"colorbar\":{\"outlinewidth\":0,\"ticks\":\"\"}}}],\"scatterpolargl\":[{\"type\":\"scatterpolargl\",\"marker\":{\"colorbar\":{\"outlinewidth\":0,\"ticks\":\"\"}}}],\"bar\":[{\"error_x\":{\"color\":\"#2a3f5f\"},\"error_y\":{\"color\":\"#2a3f5f\"},\"marker\":{\"line\":{\"color\":\"#E5ECF6\",\"width\":0.5},\"pattern\":{\"fillmode\":\"overlay\",\"size\":10,\"solidity\":0.2}},\"type\":\"bar\"}],\"scattergeo\":[{\"type\":\"scattergeo\",\"marker\":{\"colorbar\":{\"outlinewidth\":0,\"ticks\":\"\"}}}],\"scatterpolar\":[{\"type\":\"scatterpolar\",\"marker\":{\"colorbar\":{\"outlinewidth\":0,\"ticks\":\"\"}}}],\"histogram\":[{\"marker\":{\"pattern\":{\"fillmode\":\"overlay\",\"size\":10,\"solidity\":0.2}},\"type\":\"histogram\"}],\"scattergl\":[{\"type\":\"scattergl\",\"marker\":{\"colorbar\":{\"outlinewidth\":0,\"ticks\":\"\"}}}],\"scatter3d\":[{\"type\":\"scatter3d\",\"line\":{\"colorbar\":{\"outlinewidth\":0,\"ticks\":\"\"}},\"marker\":{\"colorbar\":{\"outlinewidth\":0,\"ticks\":\"\"}}}],\"scattermapbox\":[{\"type\":\"scattermapbox\",\"marker\":{\"colorbar\":{\"outlinewidth\":0,\"ticks\":\"\"}}}],\"scatterternary\":[{\"type\":\"scatterternary\",\"marker\":{\"colorbar\":{\"outlinewidth\":0,\"ticks\":\"\"}}}],\"scattercarpet\":[{\"type\":\"scattercarpet\",\"marker\":{\"colorbar\":{\"outlinewidth\":0,\"ticks\":\"\"}}}],\"carpet\":[{\"aaxis\":{\"endlinecolor\":\"#2a3f5f\",\"gridcolor\":\"white\",\"linecolor\":\"white\",\"minorgridcolor\":\"white\",\"startlinecolor\":\"#2a3f5f\"},\"baxis\":{\"endlinecolor\":\"#2a3f5f\",\"gridcolor\":\"white\",\"linecolor\":\"white\",\"minorgridcolor\":\"white\",\"startlinecolor\":\"#2a3f5f\"},\"type\":\"carpet\"}],\"table\":[{\"cells\":{\"fill\":{\"color\":\"#EBF0F8\"},\"line\":{\"color\":\"white\"}},\"header\":{\"fill\":{\"color\":\"#C8D4E3\"},\"line\":{\"color\":\"white\"}},\"type\":\"table\"}],\"barpolar\":[{\"marker\":{\"line\":{\"color\":\"#E5ECF6\",\"width\":0.5},\"pattern\":{\"fillmode\":\"overlay\",\"size\":10,\"solidity\":0.2}},\"type\":\"barpolar\"}],\"pie\":[{\"automargin\":true,\"type\":\"pie\"}]},\"layout\":{\"autotypenumbers\":\"strict\",\"colorway\":[\"#636efa\",\"#EF553B\",\"#00cc96\",\"#ab63fa\",\"#FFA15A\",\"#19d3f3\",\"#FF6692\",\"#B6E880\",\"#FF97FF\",\"#FECB52\"],\"font\":{\"color\":\"#2a3f5f\"},\"hovermode\":\"closest\",\"hoverlabel\":{\"align\":\"left\"},\"paper_bgcolor\":\"white\",\"plot_bgcolor\":\"#E5ECF6\",\"polar\":{\"bgcolor\":\"#E5ECF6\",\"angularaxis\":{\"gridcolor\":\"white\",\"linecolor\":\"white\",\"ticks\":\"\"},\"radialaxis\":{\"gridcolor\":\"white\",\"linecolor\":\"white\",\"ticks\":\"\"}},\"ternary\":{\"bgcolor\":\"#E5ECF6\",\"aaxis\":{\"gridcolor\":\"white\",\"linecolor\":\"white\",\"ticks\":\"\"},\"baxis\":{\"gridcolor\":\"white\",\"linecolor\":\"white\",\"ticks\":\"\"},\"caxis\":{\"gridcolor\":\"white\",\"linecolor\":\"white\",\"ticks\":\"\"}},\"coloraxis\":{\"colorbar\":{\"outlinewidth\":0,\"ticks\":\"\"}},\"colorscale\":{\"sequential\":[[0.0,\"#0d0887\"],[0.1111111111111111,\"#46039f\"],[0.2222222222222222,\"#7201a8\"],[0.3333333333333333,\"#9c179e\"],[0.4444444444444444,\"#bd3786\"],[0.5555555555555556,\"#d8576b\"],[0.6666666666666666,\"#ed7953\"],[0.7777777777777778,\"#fb9f3a\"],[0.8888888888888888,\"#fdca26\"],[1.0,\"#f0f921\"]],\"sequentialminus\":[[0.0,\"#0d0887\"],[0.1111111111111111,\"#46039f\"],[0.2222222222222222,\"#7201a8\"],[0.3333333333333333,\"#9c179e\"],[0.4444444444444444,\"#bd3786\"],[0.5555555555555556,\"#d8576b\"],[0.6666666666666666,\"#ed7953\"],[0.7777777777777778,\"#fb9f3a\"],[0.8888888888888888,\"#fdca26\"],[1.0,\"#f0f921\"]],\"diverging\":[[0,\"#8e0152\"],[0.1,\"#c51b7d\"],[0.2,\"#de77ae\"],[0.3,\"#f1b6da\"],[0.4,\"#fde0ef\"],[0.5,\"#f7f7f7\"],[0.6,\"#e6f5d0\"],[0.7,\"#b8e186\"],[0.8,\"#7fbc41\"],[0.9,\"#4d9221\"],[1,\"#276419\"]]},\"xaxis\":{\"gridcolor\":\"white\",\"linecolor\":\"white\",\"ticks\":\"\",\"title\":{\"standoff\":15},\"zerolinecolor\":\"white\",\"automargin\":true,\"zerolinewidth\":2},\"yaxis\":{\"gridcolor\":\"white\",\"linecolor\":\"white\",\"ticks\":\"\",\"title\":{\"standoff\":15},\"zerolinecolor\":\"white\",\"automargin\":true,\"zerolinewidth\":2},\"scene\":{\"xaxis\":{\"backgroundcolor\":\"#E5ECF6\",\"gridcolor\":\"white\",\"linecolor\":\"white\",\"showbackground\":true,\"ticks\":\"\",\"zerolinecolor\":\"white\",\"gridwidth\":2},\"yaxis\":{\"backgroundcolor\":\"#E5ECF6\",\"gridcolor\":\"white\",\"linecolor\":\"white\",\"showbackground\":true,\"ticks\":\"\",\"zerolinecolor\":\"white\",\"gridwidth\":2},\"zaxis\":{\"backgroundcolor\":\"#E5ECF6\",\"gridcolor\":\"white\",\"linecolor\":\"white\",\"showbackground\":true,\"ticks\":\"\",\"zerolinecolor\":\"white\",\"gridwidth\":2}},\"shapedefaults\":{\"line\":{\"color\":\"#2a3f5f\"}},\"annotationdefaults\":{\"arrowcolor\":\"#2a3f5f\",\"arrowhead\":0,\"arrowwidth\":1},\"geo\":{\"bgcolor\":\"white\",\"landcolor\":\"#E5ECF6\",\"subunitcolor\":\"white\",\"showland\":true,\"showlakes\":true,\"lakecolor\":\"white\"},\"title\":{\"x\":0.05},\"mapbox\":{\"style\":\"light\"}}},\"xaxis\":{\"anchor\":\"y\",\"domain\":[0.0,1.0],\"title\":{\"text\":\"Index\"}},\"yaxis\":{\"anchor\":\"x\",\"domain\":[0.0,1.0],\"title\":{\"text\":\"Average Score\"}},\"legend\":{\"title\":{\"text\":\"Metric\"},\"tracegroupgap\":0},\"title\":{\"text\":\"Coherence and Evaluation Averages\"},\"font\":{\"size\":12}},                        {\"responsive\": true}                    ).then(function(){\n",
       "                            \n",
       "var gd = document.getElementById('794ec58b-032c-486d-b62a-f3532f3b5542');\n",
       "var x = new MutationObserver(function (mutations, observer) {{\n",
       "        var display = window.getComputedStyle(gd).display;\n",
       "        if (!display || display === 'none') {{\n",
       "            console.log([gd, 'removed!']);\n",
       "            Plotly.purge(gd);\n",
       "            observer.disconnect();\n",
       "        }}\n",
       "}});\n",
       "\n",
       "// Listen for the removal of the full notebook cells\n",
       "var notebookContainer = gd.closest('#notebook-container');\n",
       "if (notebookContainer) {{\n",
       "    x.observe(notebookContainer, {childList: true});\n",
       "}}\n",
       "\n",
       "// Listen for the clearing of the current output cell\n",
       "var outputEl = gd.closest('.output');\n",
       "if (outputEl) {{\n",
       "    x.observe(outputEl, {childList: true});\n",
       "}}\n",
       "\n",
       "                        })                };                });            </script>        </div>"
      ]
     },
     "metadata": {},
     "output_type": "display_data"
    }
   ],
   "source": [
    "# Create a DataFrame from the data\n",
    "df = pd.DataFrame({\n",
    "    'index': range(len(coherence_averages)),\n",
    "    'Coherence Averages': coherence_averages,\n",
    "    'Evaluation Averages': eval_averages\n",
    "})\n",
    "\n",
    "# Melt the DataFrame to create a \"long\" format suitable for plotting\n",
    "df_melted = df.melt(id_vars=['index'], var_name='Metric', value_name='Score')\n",
    "\n",
    "# Create the line plot\n",
    "fig = px.line(df_melted, x='index', y='Score', color='Metric',\n",
    "              title='Coherence and Evaluation Averages',\n",
    "              labels={'index': 'Index', 'Score': 'Average Score'},\n",
    "              line_shape='linear', render_mode='svg')\n",
    "\n",
    "# Update layout for better readability\n",
    "fig.update_layout(\n",
    "    xaxis_title='Index',\n",
    "    yaxis_title='Average Score',\n",
    "    legend_title='Metric',\n",
    "    font=dict(size=12)\n",
    ")\n",
    "\n",
    "# Show the plot\n",
    "fig.show()"
   ]
  },
  {
   "cell_type": "code",
   "execution_count": null,
   "metadata": {},
   "outputs": [],
   "source": []
  },
  {
   "cell_type": "code",
   "execution_count": null,
   "metadata": {},
   "outputs": [],
   "source": []
  },
  {
   "cell_type": "code",
   "execution_count": null,
   "metadata": {},
   "outputs": [],
   "source": []
  },
  {
   "cell_type": "code",
   "execution_count": null,
   "metadata": {},
   "outputs": [],
   "source": []
  }
 ],
 "metadata": {
  "kernelspec": {
   "display_name": ".venv",
   "language": "python",
   "name": "python3"
  },
  "language_info": {
   "codemirror_mode": {
    "name": "ipython",
    "version": 3
   },
   "file_extension": ".py",
   "mimetype": "text/x-python",
   "name": "python",
   "nbconvert_exporter": "python",
   "pygments_lexer": "ipython3",
   "version": "3.10.14"
  }
 },
 "nbformat": 4,
 "nbformat_minor": 2
}
