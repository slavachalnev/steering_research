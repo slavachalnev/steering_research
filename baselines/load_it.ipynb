{
 "cells": [
  {
   "cell_type": "code",
   "execution_count": 53,
   "metadata": {},
   "outputs": [
    {
     "data": {
      "text/plain": [
       "<torch.autograd.grad_mode.set_grad_enabled at 0x7efb13a48a60>"
      ]
     },
     "execution_count": 53,
     "metadata": {},
     "output_type": "execute_result"
    }
   ],
   "source": [
    "import os\n",
    "import sys\n",
    "sys.path.append(os.path.abspath('..'))\n",
    "\n",
    "import torch\n",
    "import torch.nn.functional as F\n",
    "from torch.utils.data import DataLoader, Dataset\n",
    "from transformer_lens import HookedTransformer\n",
    "from transformer_lens import utils as tutils\n",
    "from transformer_lens.evals import make_pile_data_loader, evaluate_on_dataset\n",
    "\n",
    "from functools import partial\n",
    "from datasets import load_dataset\n",
    "from tqdm import tqdm\n",
    "import json\n",
    "\n",
    "import einops\n",
    "\n",
    "from sae_lens import SAE\n",
    "\n",
    "from steering.evals_utils import evaluate_completions, multi_criterion_evaluation\n",
    "from steering.utils import normalise_decoder, text_to_sae_feats, top_activations\n",
    "from steering.patch import generate, scores_2d, patch_resid\n",
    "\n",
    "\n",
    "import plotly.express as px\n",
    "import plotly.graph_objects as go\n",
    "from plotly.subplots import make_subplots\n",
    "import pandas as pd\n",
    "\n",
    "from IPython.display import HTML, display\n",
    "import html\n",
    "\n",
    "\n",
    "import numpy as np\n",
    "torch.set_grad_enabled(False)"
   ]
  },
  {
   "cell_type": "code",
   "execution_count": 2,
   "metadata": {},
   "outputs": [],
   "source": [
    "os.environ['GEMMA_2_SAE_WEIGHTS_ROOT'] = '/workspace/gemmasaes'"
   ]
  },
  {
   "cell_type": "code",
   "execution_count": 3,
   "metadata": {},
   "outputs": [
    {
     "name": "stderr",
     "output_type": "stream",
     "text": [
      "WARNING:root:You tried to specify center_unembed=True for a model using logit softcap, but this can't be done! Softcapping is not invariant upon adding a constantSetting center_unembed=False instead.\n"
     ]
    },
    {
     "data": {
      "application/vnd.jupyter.widget-view+json": {
       "model_id": "6f9bda943ef148e2a2209a8ee0fa8027",
       "version_major": 2,
       "version_minor": 0
      },
      "text/plain": [
       "Loading checkpoint shards:   0%|          | 0/4 [00:00<?, ?it/s]"
      ]
     },
     "metadata": {},
     "output_type": "display_data"
    },
    {
     "name": "stderr",
     "output_type": "stream",
     "text": [
      "WARNING:root:With reduced precision, it is advised to use `from_pretrained_no_processing` instead of `from_pretrained`.\n",
      "WARNING:root:You are not using LayerNorm, so the writing weights can't be centered! Skipping\n"
     ]
    },
    {
     "name": "stdout",
     "output_type": "stream",
     "text": [
      "Loaded pretrained model google/gemma-2-9b-it into HookedTransformer\n"
     ]
    }
   ],
   "source": [
    "device = torch.device(\"cuda\" if torch.cuda.is_available() else \"cpu\")\n",
    "model: HookedTransformer = HookedTransformer.from_pretrained(\"google/gemma-2-9b-it\", device=device, dtype=torch.float16)"
   ]
  },
  {
   "cell_type": "code",
   "execution_count": 4,
   "metadata": {},
   "outputs": [
    {
     "data": {
      "text/plain": [
       "{'bos_token': '<bos>',\n",
       " 'eos_token': '<eos>',\n",
       " 'unk_token': '<unk>',\n",
       " 'pad_token': '<pad>',\n",
       " 'additional_special_tokens': ['<start_of_turn>', '<end_of_turn>']}"
      ]
     },
     "execution_count": 4,
     "metadata": {},
     "output_type": "execute_result"
    }
   ],
   "source": [
    "model.tokenizer.special_tokens_map"
   ]
  },
  {
   "cell_type": "code",
   "execution_count": 5,
   "metadata": {},
   "outputs": [
    {
     "data": {
      "text/plain": [
       "tensor([[    2,   106,  1645,   108,  5559,   476, 25957,  2134,  2733,   107,\n",
       "           108,   106,  2516,   108]])"
      ]
     },
     "execution_count": 5,
     "metadata": {},
     "output_type": "execute_result"
    }
   ],
   "source": [
    "chat = [[\n",
    "    {\"role\": \"user\", \"content\": \"Write a Hello world program\"},\n",
    "]]\n",
    "tokens = model.tokenizer.apply_chat_template(chat, add_generation_prompt=True, return_tensors='pt')\n",
    "tokens"
   ]
  },
  {
   "cell_type": "code",
   "execution_count": 6,
   "metadata": {},
   "outputs": [
    {
     "data": {
      "application/vnd.jupyter.widget-view+json": {
       "model_id": "6e493fb70612412c88fe6fa73440c801",
       "version_major": 2,
       "version_minor": 0
      },
      "text/plain": [
       "  0%|          | 0/20 [00:00<?, ?it/s]"
      ]
     },
     "metadata": {},
     "output_type": "display_data"
    },
    {
     "data": {
      "text/plain": [
       "['<bos><start_of_turn>user\\nWrite a Hello world program<end_of_turn>\\n<start_of_turn>model\\nHere\\'s a \"Hello world\" program in several popular programming languages:\\n\\n**Python:**\\n\\n']"
      ]
     },
     "execution_count": 6,
     "metadata": {},
     "output_type": "execute_result"
    }
   ],
   "source": [
    "gen_toks = model.generate(tokens, max_new_tokens=20)\n",
    "model.to_string(gen_toks)"
   ]
  },
  {
   "cell_type": "code",
   "execution_count": 7,
   "metadata": {},
   "outputs": [
    {
     "name": "stderr",
     "output_type": "stream",
     "text": [
      "Using the latest cached version of the dataset since NeelNanda/c4-code-20k couldn't be found on the Hugging Face Hub\n",
      "WARNING:datasets.load:Using the latest cached version of the dataset since NeelNanda/c4-code-20k couldn't be found on the Hugging Face Hub\n",
      "Found the latest cached dataset configuration 'default' at /root/.cache/huggingface/datasets/NeelNanda___c4-code-20k/default/0.0.0/82e9178fdd9e1f7ac93f81234aeedceec49bc8b4 (last modified on Fri Jul 26 23:10:26 2024).\n",
      "WARNING:datasets.packaged_modules.cache.cache:Found the latest cached dataset configuration 'default' at /root/.cache/huggingface/datasets/NeelNanda___c4-code-20k/default/0.0.0/82e9178fdd9e1f7ac93f81234aeedceec49bc8b4 (last modified on Fri Jul 26 23:10:26 2024).\n"
     ]
    },
    {
     "name": "stdout",
     "output_type": "stream",
     "text": [
      "torch.Size([222989, 125])\n"
     ]
    }
   ],
   "source": [
    "SEQ_LEN = 128 - 4 + 1 # 4 for the special tokens at the start, 1 because we'll cut bos.\n",
    "\n",
    "# Load in the data (it's a Dataset object)\n",
    "data = load_dataset(\"NeelNanda/c4-code-20k\", split=\"train\")\n",
    "# print(data)\n",
    "# assert isinstance(data, Dataset)\n",
    "\n",
    "# Tokenize the data (using a utils function) and shuffle it\n",
    "tokenized_data = tutils.tokenize_and_concatenate(data, model.tokenizer, max_length=SEQ_LEN) # type: ignore\n",
    "tokenized_data = tokenized_data.shuffle(42)\n",
    "\n",
    "# Get the tokens as a tensor\n",
    "all_tokens = tokenized_data[\"tokens\"]\n",
    "assert isinstance(all_tokens, torch.Tensor)\n",
    "\n",
    "print(all_tokens.shape)"
   ]
  },
  {
   "cell_type": "code",
   "execution_count": 8,
   "metadata": {},
   "outputs": [
    {
     "name": "stdout",
     "output_type": "stream",
     "text": [
      "torch.Size([4])\n",
      "['<bos>', '<start_of_turn>', 'user', '\\n']\n"
     ]
    },
    {
     "data": {
      "text/plain": [
       "tensor([   2,  106, 1645,  108])"
      ]
     },
     "execution_count": 8,
     "metadata": {},
     "output_type": "execute_result"
    }
   ],
   "source": [
    "pre_tokens = model.tokenizer.apply_chat_template([{\"role\": \"user\", \"content\": \"\"}], return_tensors='pt')[0][:4]\n",
    "print(pre_tokens.shape)\n",
    "print(model.to_str_tokens(pre_tokens))\n",
    "pre_tokens"
   ]
  },
  {
   "cell_type": "code",
   "execution_count": 9,
   "metadata": {},
   "outputs": [
    {
     "data": {
      "text/plain": [
       "torch.Size([222989, 128])"
      ]
     },
     "execution_count": 9,
     "metadata": {},
     "output_type": "execute_result"
    }
   ],
   "source": [
    "n_samples = all_tokens.shape[0]\n",
    "ready_tokens = torch.cat([pre_tokens.expand(n_samples, -1), all_tokens[:, 1:]], dim=1)\n",
    "ready_tokens.shape"
   ]
  },
  {
   "cell_type": "code",
   "execution_count": 10,
   "metadata": {},
   "outputs": [
    {
     "name": "stdout",
     "output_type": "stream",
     "text": [
      "['<bos>', '<start_of_turn>', 'user', '\\n', ' instance', ' of', ' Transition', ' class', '.', '\\n\\n', '    ', 'Args', ':', '\\n', '      ', 'sess', ' (:', 'obj', ':`', 'tf', '.', 'Session', '`', '):', ' This', ' attribute', ' represents', ' the', ' session', ' that', ' runs', '\\n', '        ', 'the', ' TensorFlow', ' operations', '.', '\\n', '      ', 'name', ' (', 'str', '):', ' This', ' attribute', ' represents', ' the', ' name', ' of', ' the', ' object', ' in', '\\n', '        ', 'Tensor', 'Flow', \"'\", 's', ' op', ' Graph', '.', '\\n', '      ', 'graph', ' (:', 'obj', ':`', 'tf', 'graph', '.', 'Graph', '`', '):', '  ', 'The', ' graph', ' on', ' which', ' the', ' transition', ' is', ' referred', '.', '\\n', '      ', 'beta', ' (', 'float', '):', ' The', ' reset', ' probability', ' of', ' the', ' random', ' walks', ',', ' i', '.', 'e', '.', ' the', '\\n', '        ', 'probability', ' that', ' a', ' user', ' that', ' sur', 'fs', ' the', ' graph', ' an', ' decides', ' to', ' jump', ' to', '\\n', '        ', 'another', ' vertex', ' not', ' connected', ' to', ' the', ' current', '.']\n"
     ]
    }
   ],
   "source": [
    "print(model.to_str_tokens(ready_tokens[4]))"
   ]
  },
  {
   "cell_type": "code",
   "execution_count": 11,
   "metadata": {},
   "outputs": [
    {
     "data": {
      "text/plain": [
       "SAE(\n",
       "  (activation_fn): ReLU()\n",
       "  (hook_sae_input): HookPoint()\n",
       "  (hook_sae_acts_pre): HookPoint()\n",
       "  (hook_sae_acts_post): HookPoint()\n",
       "  (hook_sae_output): HookPoint()\n",
       "  (hook_sae_recons): HookPoint()\n",
       "  (hook_sae_error): HookPoint()\n",
       ")"
      ]
     },
     "execution_count": 11,
     "metadata": {},
     "output_type": "execute_result"
    }
   ],
   "source": [
    "sae_layer = 9\n",
    "hp = f\"blocks.{sae_layer}.hook_resid_post\"\n",
    "sae, _, _ = SAE.from_pretrained(\n",
    "    release = \"gemma-2-it-saes\",\n",
    "    sae_id = \"9/post_mlp_residual/16384/0_00045\",\n",
    "    device = 'cpu'\n",
    ")\n",
    "sae.to(device)"
   ]
  },
  {
   "cell_type": "code",
   "execution_count": 12,
   "metadata": {},
   "outputs": [
    {
     "name": "stdout",
     "output_type": "stream",
     "text": [
      "['<bos>', '<start_of_turn>', 'user', '\\n', 'I', ' traveled', ' to', ' London', '<end_of_turn>', '\\n']\n"
     ]
    }
   ],
   "source": [
    "text = \"I traveled to London\"\n",
    "toks = model.tokenizer.apply_chat_template([{\"role\": \"user\", \"content\": text}], return_tensors='pt')[0]\n",
    "print(model.to_str_tokens(toks))\n",
    "toks = toks.to(device)\n",
    "\n",
    "_, acts = model.run_with_cache(toks, names_filter=hp)\n",
    "acts = acts[hp]\n",
    "\n",
    "all_sae_acts = []\n",
    "for batch in acts:\n",
    "    sae_acts = sae.encode(batch)\n",
    "    all_sae_acts.append(sae_acts)\n",
    "\n",
    "all_sae_acts = torch.stack(all_sae_acts, dim=0)"
   ]
  },
  {
   "cell_type": "code",
   "execution_count": 13,
   "metadata": {},
   "outputs": [
    {
     "data": {
      "text/plain": [
       "tensor([[[12085, 12324,    35, 11637, 11355,  8984,   466,  7469,  2832, 10547],\n",
       "         [12085, 11355,  5600, 15460,  1578,  9540,  8961,    35, 10531,  9385],\n",
       "         [12085,  4839, 15256, 12891,  8968, 15460, 11264,  9540, 10720,  6415],\n",
       "         [12085,   195, 15256, 15460,  9540,  3767,  8319,  1217, 10720,  2088],\n",
       "         [12085, 11306,  2725, 15460,  4660,  9540,  9621, 10720,  1899,  8489],\n",
       "         [ 8209, 12085,  9540, 10241, 12532,  8489, 11608,  3326,  8379, 15452],\n",
       "         [ 8209,  7678, 12085,  9540,  5303,  8489, 12532, 10241, 11608,  8941],\n",
       "         [12085,  4457, 10423, 15365,  9540,  3283, 12267,  8153, 11304, 15626],\n",
       "         [12085,  5600,  3879,  9540, 12532,  2459, 10241, 16219, 14263, 11857],\n",
       "         [ 9142,  9540, 12085, 16219,  2459, 12532, 16135, 15743, 10241,  8209]]],\n",
       "       device='cuda:0')"
      ]
     },
     "execution_count": 13,
     "metadata": {},
     "output_type": "execute_result"
    }
   ],
   "source": [
    "top_v, top_i = torch.topk(all_sae_acts, 10, dim=-1)\n",
    "top_i"
   ]
  },
  {
   "cell_type": "code",
   "execution_count": 14,
   "metadata": {},
   "outputs": [],
   "source": [
    "potential_london_ids = [12085,  4457, 10423, 15365,  9540,  3283, 12267,  8153, 11304, 15626]"
   ]
  },
  {
   "cell_type": "code",
   "execution_count": 15,
   "metadata": {},
   "outputs": [
    {
     "name": "stdout",
     "output_type": "stream",
     "text": [
      "torch.Size([3584, 16384])\n"
     ]
    }
   ],
   "source": [
    "print(sae.W_enc.shape)"
   ]
  },
  {
   "cell_type": "code",
   "execution_count": 16,
   "metadata": {},
   "outputs": [
    {
     "name": "stdout",
     "output_type": "stream",
     "text": [
      "torch.Size([4, 16384])\n"
     ]
    }
   ],
   "source": [
    "def get_top_samples(tokens, top_k: int = 10, batch_size: int = 4):\n",
    "    # tokens is shape (n_samples, seq_len)\n",
    "\n",
    "    for i in range(0, tokens.shape[0], batch_size):\n",
    "        batch = tokens[i:i+batch_size]\n",
    "        _, acts = model.run_with_cache(batch, names_filter=hp, stop_at_layer=sae_layer+1)\n",
    "        acts = acts[hp]\n",
    "\n",
    "        max_sae_acts = []\n",
    "        for sample in acts:\n",
    "            sae_acts = sae.encode(sample)\n",
    "            max_sae_acts.append(sae_acts.max(dim=0).values)\n",
    "        \n",
    "        max_sae_acts = torch.stack(max_sae_acts, dim=0)\n",
    "        print(max_sae_acts.shape) # (batch_size, n_features)\n",
    "        break\n",
    "\n",
    "\n",
    "\n",
    "get_top_samples(ready_tokens, potential_london_ids)\n",
    "\n",
    "\n",
    "\n",
    "    "
   ]
  },
  {
   "cell_type": "code",
   "execution_count": 17,
   "metadata": {},
   "outputs": [
    {
     "data": {
      "text/plain": [
       "torch.return_types.max(\n",
       "values=tensor(3),\n",
       "indices=tensor(2))"
      ]
     },
     "execution_count": 17,
     "metadata": {},
     "output_type": "execute_result"
    }
   ],
   "source": [
    "torch.tensor([1, 2, 3]).max(dim=0)"
   ]
  },
  {
   "cell_type": "code",
   "execution_count": 18,
   "metadata": {},
   "outputs": [
    {
     "name": "stderr",
     "output_type": "stream",
     "text": [
      "  0%|          | 7/2000 [00:14<1:07:24,  2.03s/it]\n"
     ]
    },
    {
     "ename": "KeyboardInterrupt",
     "evalue": "",
     "output_type": "error",
     "traceback": [
      "\u001b[0;31m---------------------------------------------------------------------------\u001b[0m",
      "\u001b[0;31mKeyboardInterrupt\u001b[0m                         Traceback (most recent call last)",
      "Cell \u001b[0;32mIn[18], line 48\u001b[0m\n\u001b[1;32m     45\u001b[0m     \u001b[38;5;28;01mreturn\u001b[39;00m top_k_values, top_k_indices\n\u001b[1;32m     47\u001b[0m \u001b[38;5;66;03m# Usage\u001b[39;00m\n\u001b[0;32m---> 48\u001b[0m top_k_values, top_k_indices \u001b[38;5;241m=\u001b[39m \u001b[43mget_top_samples\u001b[49m\u001b[43m(\u001b[49m\u001b[43mready_tokens\u001b[49m\u001b[43m[\u001b[49m\u001b[43m:\u001b[49m\u001b[38;5;241;43m8000\u001b[39;49m\u001b[43m]\u001b[49m\u001b[43m,\u001b[49m\u001b[43m \u001b[49m\u001b[43mtop_k\u001b[49m\u001b[38;5;241;43m=\u001b[39;49m\u001b[38;5;241;43m10\u001b[39;49m\u001b[43m,\u001b[49m\u001b[43m \u001b[49m\u001b[43mbatch_size\u001b[49m\u001b[38;5;241;43m=\u001b[39;49m\u001b[38;5;241;43m4\u001b[39;49m\u001b[43m)\u001b[49m\n",
      "Cell \u001b[0;32mIn[18], line 35\u001b[0m, in \u001b[0;36mget_top_samples\u001b[0;34m(tokens, top_k, batch_size)\u001b[0m\n\u001b[1;32m     33\u001b[0m     heappush(top_k_values[feature_idx], (value\u001b[38;5;241m.\u001b[39mitem(), global_idx))\n\u001b[1;32m     34\u001b[0m     top_k_indices[feature_idx] \u001b[38;5;241m=\u001b[39m [idx \u001b[38;5;28;01mfor\u001b[39;00m _, idx \u001b[38;5;129;01min\u001b[39;00m top_k_values[feature_idx]]\n\u001b[0;32m---> 35\u001b[0m \u001b[38;5;28;01melif\u001b[39;00m value \u001b[38;5;241m>\u001b[39m top_k_values[feature_idx][\u001b[38;5;241m0\u001b[39m][\u001b[38;5;241m0\u001b[39m]:\n\u001b[1;32m     36\u001b[0m     heappushpop(top_k_values[feature_idx], (value\u001b[38;5;241m.\u001b[39mitem(), global_idx))\n\u001b[1;32m     37\u001b[0m     top_k_indices[feature_idx] \u001b[38;5;241m=\u001b[39m [idx \u001b[38;5;28;01mfor\u001b[39;00m _, idx \u001b[38;5;129;01min\u001b[39;00m top_k_values[feature_idx]]\n",
      "\u001b[0;31mKeyboardInterrupt\u001b[0m: "
     ]
    }
   ],
   "source": [
    "from heapq import heappush, heappushpop\n",
    "\n",
    "def get_top_samples(tokens, top_k: int = 10, batch_size: int = 4):\n",
    "    n_samples, seq_len = tokens.shape\n",
    "    n_features = None  # We'll set this when we get the first batch of results\n",
    "    \n",
    "    # Initialize lists to store the top k values and indices for each feature\n",
    "    top_k_values = []\n",
    "    top_k_indices = []\n",
    "    \n",
    "    for i in tqdm(range(0, n_samples, batch_size)):\n",
    "        batch = tokens[i:i+batch_size]\n",
    "        _, acts = model.run_with_cache(batch, names_filter=hp, stop_at_layer=sae_layer+1)\n",
    "        acts = acts[hp]\n",
    "        max_sae_acts = []\n",
    "        for sample in acts:\n",
    "            sae_acts = sae.encode(sample)\n",
    "            max_sae_acts.append(sae_acts.max(dim=0).values)\n",
    "        \n",
    "        max_sae_acts = torch.stack(max_sae_acts, dim=0)\n",
    "        \n",
    "        if n_features is None:\n",
    "            n_features = max_sae_acts.shape[1]\n",
    "            top_k_values = [[] for _ in range(n_features)]\n",
    "            top_k_indices = [[] for _ in range(n_features)]\n",
    "        \n",
    "        # Update top k for each feature\n",
    "        for feature_idx in range(n_features):\n",
    "            feature_values = max_sae_acts[:, feature_idx]\n",
    "            for sample_idx, value in enumerate(feature_values):\n",
    "                global_idx = i + sample_idx\n",
    "                if len(top_k_values[feature_idx]) < top_k:\n",
    "                    heappush(top_k_values[feature_idx], (value.item(), global_idx))\n",
    "                    top_k_indices[feature_idx] = [idx for _, idx in top_k_values[feature_idx]]\n",
    "                elif value > top_k_values[feature_idx][0][0]:\n",
    "                    heappushpop(top_k_values[feature_idx], (value.item(), global_idx))\n",
    "                    top_k_indices[feature_idx] = [idx for _, idx in top_k_values[feature_idx]]\n",
    "    \n",
    "    # Sort the results for each feature\n",
    "    for feature_idx in range(n_features):\n",
    "        sorted_results = sorted(zip(top_k_values[feature_idx], top_k_indices[feature_idx]), reverse=True)\n",
    "        top_k_values[feature_idx] = [value for value, _ in sorted_results]\n",
    "        top_k_indices[feature_idx] = [idx for _, idx in sorted_results]\n",
    "    \n",
    "    return top_k_values, top_k_indices\n",
    "\n",
    "# # Usage\n",
    "# top_k_values, top_k_indices = get_top_samples(ready_tokens[:8000], top_k=10, batch_size=4)\n"
   ]
  },
  {
   "cell_type": "code",
   "execution_count": 19,
   "metadata": {},
   "outputs": [
    {
     "name": "stderr",
     "output_type": "stream",
     "text": [
      "/tmp/ipykernel_1402/1996749545.py:21: FutureWarning: You are using `torch.load` with `weights_only=False` (the current default value), which uses the default pickle module implicitly. It is possible to construct malicious pickle data which will execute arbitrary code during unpickling (See https://github.com/pytorch/pytorch/blob/main/SECURITY.md#untrusted-models for more details). In a future release, the default value for `weights_only` will be flipped to `True`. This limits the functions that could be executed during unpickling. Arbitrary objects will no longer be allowed to be loaded via this mode unless they are explicitly allowlisted by the user via `torch.serialization.add_safe_globals`. We recommend you start setting `weights_only=True` for any use case where you don't have full control of the loaded file. Please open an issue on GitHub for any issues related to this experimental feature.\n",
      "  ready_tokens = torch.load(\"ready_tokens.pt\")\n"
     ]
    }
   ],
   "source": [
    "# # save top_k_values and top_k_indices\n",
    "# with open(\"top_k_values.json\", \"w\") as f:\n",
    "#     json.dump(top_k_values, f)\n",
    "\n",
    "# with open(\"top_k_indices.json\", \"w\") as f:\n",
    "#     json.dump(top_k_indices, f)\n",
    "    \n",
    "# # save tokens\n",
    "# torch.save(ready_tokens, \"ready_tokens.pt\")\n",
    "\n",
    "\n",
    "# load top_k_values and top_k_indices\n",
    "with open(\"top_k_values.json\", \"r\") as f:\n",
    "    top_k_values = json.load(f)\n",
    "\n",
    "with open(\"top_k_indices.json\", \"r\") as f:\n",
    "    top_k_indices = json.load(f)\n",
    "\n",
    "\n",
    "# load tokens\n",
    "ready_tokens = torch.load(\"ready_tokens.pt\")\n",
    "\n",
    "\n"
   ]
  },
  {
   "cell_type": "code",
   "execution_count": 20,
   "metadata": {},
   "outputs": [
    {
     "name": "stderr",
     "output_type": "stream",
     "text": [
      "100%|██████████| 3/3 [00:00<00:00, 13.65it/s]\n"
     ]
    },
    {
     "data": {
      "text/plain": [
       "tensor([[29.8750,  0.0000,  0.0000,  ...,  0.0000,  0.0000,  0.0000],\n",
       "        [29.8750,  0.0000,  0.0000,  ...,  0.0000,  0.0000,  0.0000],\n",
       "        [29.8750,  0.0000,  0.0000,  ...,  0.0000,  0.0000,  0.0000],\n",
       "        ...,\n",
       "        [29.8750,  0.0000,  0.0000,  ...,  0.0000,  0.0000,  0.0000],\n",
       "        [30.0000,  0.0000,  0.0000,  ...,  0.0000,  0.0000,  0.0000],\n",
       "        [30.0000,  0.0000,  0.0000,  ...,  0.0000,  0.0000,  0.0000]],\n",
       "       device='cuda:0', dtype=torch.bfloat16)"
      ]
     },
     "execution_count": 20,
     "metadata": {},
     "output_type": "execute_result"
    }
   ],
   "source": [
    "def acts_for_feature(tokens, feature_idx: int, batch_size: int = 4):\n",
    "    n_samples, seq_len = tokens.shape\n",
    "    all_acts = []\n",
    "    for i in tqdm(range(0, n_samples, batch_size)):\n",
    "        batch = tokens[i:i+batch_size]\n",
    "        _, acts = model.run_with_cache(batch, names_filter=hp, stop_at_layer=sae_layer+1)\n",
    "        acts = acts[hp]\n",
    "        batch_sae_acts = []\n",
    "        for sample in acts:\n",
    "            sae_acts = sae.encode(sample)\n",
    "            batch_sae_acts.append(sae_acts[:, feature_idx])\n",
    "        \n",
    "        batch_sae_acts = torch.stack(batch_sae_acts, dim=0)\n",
    "        all_acts.append(batch_sae_acts)\n",
    "    \n",
    "    return torch.cat(all_acts, dim=0)\n",
    "\n",
    "acts_for_selected = acts_for_feature(ready_tokens[:10], 2)\n",
    "acts_for_selected"
   ]
  },
  {
   "cell_type": "code",
   "execution_count": null,
   "metadata": {},
   "outputs": [],
   "source": []
  },
  {
   "cell_type": "code",
   "execution_count": 34,
   "metadata": {},
   "outputs": [],
   "source": [
    "def display_highlighted_tokens(tokens, values, tokenizer):\n",
    "    # Ensure tensors are on CPU\n",
    "    tokens = tokens.cpu()\n",
    "    values = values.cpu().to(torch.float32)\n",
    "    \n",
    "    original_values = values.clone()\n",
    "    \n",
    "    # Normalize values to range [0, 1] for coloring\n",
    "    values = (values - values.min()) / (values.max() - values.min())\n",
    "    \n",
    "    # Function to convert value to RGB color\n",
    "    def value_to_color(value):\n",
    "        # Using a gradient from white to red\n",
    "        color_value = int(255 * (1 - value.item()))\n",
    "        return f\"rgb(255, {color_value}, {color_value})\"\n",
    "    \n",
    "    html_output = \"\"\n",
    "    \n",
    "    for batch_idx in range(tokens.shape[0]):\n",
    "        # Use the original values for max activation\n",
    "        max_activation = original_values[batch_idx].max().item()\n",
    "        html_output += f\"<p>Max Activation: {max_activation:.4f}:</p>\"\n",
    "        html_output += \"<p>\"\n",
    "        \n",
    "        for token, value in zip(tokens[batch_idx], values[batch_idx]):\n",
    "            word = tokenizer.decode([token.item()])\n",
    "            # Escape special characters to prevent HTML conflicts\n",
    "            word_escaped = html.escape(word)\n",
    "            color = value_to_color(value)\n",
    "            html_output += f'<span style=\"background-color: {color};\">{word_escaped}</span>'\n",
    "        \n",
    "        html_output += \"</p>\"\n",
    "    \n",
    "    display(HTML(html_output))"
   ]
  },
  {
   "cell_type": "code",
   "execution_count": 51,
   "metadata": {},
   "outputs": [],
   "source": [
    "london = sae.W_dec[4457]\n",
    "britain = sae.W_dec[10423]"
   ]
  },
  {
   "cell_type": "code",
   "execution_count": 36,
   "metadata": {},
   "outputs": [
    {
     "name": "stderr",
     "output_type": "stream",
     "text": [
      "100%|██████████| 3/3 [00:00<00:00, 12.54it/s]\n"
     ]
    },
    {
     "data": {
      "text/html": [
       "<p>Max Activation: 50.5000:</p><p><span style=\"background-color: rgb(255, 255, 255);\">\n",
       "</span><span style=\"background-color: rgb(255, 0, 0);\"> London</span><span style=\"background-color: rgb(255, 188, 188);\"> is</span><span style=\"background-color: rgb(255, 255, 255);\"> the</span><span style=\"background-color: rgb(255, 217, 217);\"> capital</span><span style=\"background-color: rgb(255, 182, 182);\">&#x27;</span><span style=\"background-color: rgb(255, 255, 255);\">s</span><span style=\"background-color: rgb(255, 255, 255);\"> screen</span><span style=\"background-color: rgb(255, 255, 255);\"> industries</span><span style=\"background-color: rgb(255, 255, 255);\"> agency</span><span style=\"background-color: rgb(255, 255, 255);\">.</span><span style=\"background-color: rgb(255, 255, 255);\">\n",
       "</span><span style=\"background-color: rgb(255, 255, 255);\">We</span><span style=\"background-color: rgb(255, 255, 255);\"> work</span><span style=\"background-color: rgb(255, 255, 255);\"> to</span><span style=\"background-color: rgb(255, 255, 255);\"> sustain</span><span style=\"background-color: rgb(255, 255, 255);\">,</span><span style=\"background-color: rgb(255, 255, 255);\"> promote</span><span style=\"background-color: rgb(255, 255, 255);\"> and</span><span style=\"background-color: rgb(255, 255, 255);\"> develop</span><span style=\"background-color: rgb(255, 26, 26);\"> London</span><span style=\"background-color: rgb(255, 255, 255);\"> as</span><span style=\"background-color: rgb(255, 255, 255);\"> a</span><span style=\"background-color: rgb(255, 255, 255);\"> global</span><span style=\"background-color: rgb(255, 255, 255);\"> content</span><span style=\"background-color: rgb(255, 255, 255);\"> production</span><span style=\"background-color: rgb(255, 255, 255);\"> hub</span><span style=\"background-color: rgb(255, 255, 255);\">,</span><span style=\"background-color: rgb(255, 255, 255);\"> support</span><span style=\"background-color: rgb(255, 255, 255);\"> the</span><span style=\"background-color: rgb(255, 255, 255);\"> development</span><span style=\"background-color: rgb(255, 255, 255);\"> of</span><span style=\"background-color: rgb(255, 255, 255);\"> the</span><span style=\"background-color: rgb(255, 255, 255);\"> city</span><span style=\"background-color: rgb(255, 255, 255);\">&#x27;</span><span style=\"background-color: rgb(255, 255, 255);\">s</span><span style=\"background-color: rgb(255, 255, 255);\"> new</span><span style=\"background-color: rgb(255, 255, 255);\"> and</span><span style=\"background-color: rgb(255, 255, 255);\"> emerging</span><span style=\"background-color: rgb(255, 255, 255);\"> filmmaking</span><span style=\"background-color: rgb(255, 255, 255);\"> talent</span><span style=\"background-color: rgb(255, 255, 255);\"> and</span><span style=\"background-color: rgb(255, 255, 255);\"> invest</span><span style=\"background-color: rgb(255, 255, 255);\"> in</span><span style=\"background-color: rgb(255, 255, 255);\"> a</span><span style=\"background-color: rgb(255, 255, 255);\"> diverse</span><span style=\"background-color: rgb(255, 255, 255);\"> and</span><span style=\"background-color: rgb(255, 255, 255);\"> rich</span><span style=\"background-color: rgb(255, 255, 255);\"> film</span><span style=\"background-color: rgb(255, 255, 255);\"> culture</span><span style=\"background-color: rgb(255, 255, 255);\">.</span><span style=\"background-color: rgb(255, 255, 255);\">\n",
       "</span><span style=\"background-color: rgb(255, 255, 255);\">We</span><span style=\"background-color: rgb(255, 255, 255);\"> aim</span><span style=\"background-color: rgb(255, 255, 255);\"> to</span><span style=\"background-color: rgb(255, 255, 255);\"> ensure</span><span style=\"background-color: rgb(255, 255, 255);\"> the</span><span style=\"background-color: rgb(255, 218, 218);\"> capital</span><span style=\"background-color: rgb(255, 255, 255);\"> is</span><span style=\"background-color: rgb(255, 255, 255);\"> a</span><span style=\"background-color: rgb(255, 255, 255);\"> thriving</span><span style=\"background-color: rgb(255, 255, 255);\"> centre</span><span style=\"background-color: rgb(255, 255, 255);\"> for</span><span style=\"background-color: rgb(255, 255, 255);\"> creative</span><span style=\"background-color: rgb(255, 255, 255);\"> industries</span><span style=\"background-color: rgb(255, 255, 255);\"> sector</span><span style=\"background-color: rgb(255, 255, 255);\"> that</span><span style=\"background-color: rgb(255, 255, 255);\"> enrich</span><span style=\"background-color: rgb(255, 255, 255);\"> the</span><span style=\"background-color: rgb(255, 255, 255);\"> city</span><span style=\"background-color: rgb(255, 255, 255);\">&#x27;</span><span style=\"background-color: rgb(255, 255, 255);\">s</span><span style=\"background-color: rgb(255, 255, 255);\"> businesses</span><span style=\"background-color: rgb(255, 255, 255);\"> and</span><span style=\"background-color: rgb(255, 255, 255);\"> its</span><span style=\"background-color: rgb(255, 255, 255);\"> people</span><span style=\"background-color: rgb(255, 255, 255);\">.</span><span style=\"background-color: rgb(255, 255, 255);\">\n",
       "</span><span style=\"background-color: rgb(255, 255, 255);\">From</span><span style=\"background-color: rgb(255, 255, 255);\"> encouraging</span><span style=\"background-color: rgb(255, 255, 255);\"> inward</span><span style=\"background-color: rgb(255, 255, 255);\"> investment</span><span style=\"background-color: rgb(255, 255, 255);\"> to</span><span style=\"background-color: rgb(255, 255, 255);\"> training</span><span style=\"background-color: rgb(255, 255, 255);\"> emerging</span><span style=\"background-color: rgb(255, 255, 255);\"> filmmakers</span><span style=\"background-color: rgb(255, 255, 255);\">,</span><span style=\"background-color: rgb(255, 255, 255);\"> funding</span><span style=\"background-color: rgb(255, 255, 255);\"> film</span><span style=\"background-color: rgb(255, 255, 255);\"> exhibitors</span><span style=\"background-color: rgb(255, 255, 255);\"> to</span><span style=\"background-color: rgb(255, 255, 255);\"> inspiring</span><span style=\"background-color: rgb(255, 255, 255);\"> film</span><span style=\"background-color: rgb(255, 255, 255);\">-</span><span style=\"background-color: rgb(255, 255, 255);\">lovers</span><span style=\"background-color: rgb(255, 255, 255);\"> -</span><span style=\"background-color: rgb(255, 255, 255);\"> we</span><span style=\"background-color: rgb(255, 255, 255);\"> support</span><span style=\"background-color: rgb(255, 255, 255);\"> film</span><span style=\"background-color: rgb(255, 255, 255);\"> in</span><span style=\"background-color: rgb(255, 55, 55);\"> London</span><span style=\"background-color: rgb(255, 255, 255);\"> every</span><span style=\"background-color: rgb(255, 255, 255);\"> step</span><span style=\"background-color: rgb(255, 255, 255);\"> of</span><span style=\"background-color: rgb(255, 255, 255);\"> the</span><span style=\"background-color: rgb(255, 255, 255);\"> way</span><span style=\"background-color: rgb(255, 255, 255);\">.</span><span style=\"background-color: rgb(255, 255, 255);\">\n",
       "</span><span style=\"background-color: rgb(255, 255, 255);\">The</span><span style=\"background-color: rgb(255, 255, 255);\"> production</span><span style=\"background-color: rgb(255, 255, 255);\"> support</span><span style=\"background-color: rgb(255, 255, 255);\"> and</span><span style=\"background-color: rgb(255, 255, 255);\"> business</span><span style=\"background-color: rgb(255, 255, 255);\"> development</span><span style=\"background-color: rgb(255, 255, 255);\"> team</span><span style=\"background-color: rgb(255, 255, 255);\"> promote</span><span style=\"background-color: rgb(255, 255, 255);\"> and</span><span style=\"background-color: rgb(255, 255, 255);\"> support</span><span style=\"background-color: rgb(255, 255, 255);\"> all</span><span style=\"background-color: rgb(255, 255, 255);\"> areas</span><span style=\"background-color: rgb(255, 255, 255);\"> of</span><span style=\"background-color: rgb(255, 255, 255);\"> the</span><span style=\"background-color: rgb(255, 255, 255);\"> screening</span><span style=\"background-color: rgb(255, 255, 255);\"> industries</span><span style=\"background-color: rgb(255, 255, 255);\">,</span></p><p>Max Activation: 48.2500:</p><p><span style=\"background-color: rgb(255, 255, 255);\">\n",
       "</span><span style=\"background-color: rgb(255, 255, 255);\"> too</span><span style=\"background-color: rgb(255, 255, 255);\"> far</span><span style=\"background-color: rgb(255, 255, 255);\"> from</span><span style=\"background-color: rgb(255, 255, 255);\"> home</span><span style=\"background-color: rgb(255, 255, 255);\">.</span><span style=\"background-color: rgb(255, 255, 255);\"> I</span><span style=\"background-color: rgb(255, 255, 255);\"> have</span><span style=\"background-color: rgb(255, 255, 255);\"> chosen</span><span style=\"background-color: rgb(255, 255, 255);\"> a</span><span style=\"background-color: rgb(255, 255, 255);\"> few</span><span style=\"background-color: rgb(255, 255, 255);\"> that</span><span style=\"background-color: rgb(255, 255, 255);\"> may</span><span style=\"background-color: rgb(255, 255, 255);\"> interest</span><span style=\"background-color: rgb(255, 255, 255);\"> you</span><span style=\"background-color: rgb(255, 255, 255);\"> in</span><span style=\"background-color: rgb(255, 11, 11);\"> London</span><span style=\"background-color: rgb(255, 255, 255);\">,</span><span style=\"background-color: rgb(255, 255, 255);\"> but</span><span style=\"background-color: rgb(255, 255, 255);\"> firstly</span><span style=\"background-color: rgb(255, 255, 255);\"> one</span><span style=\"background-color: rgb(255, 255, 255);\"> in</span><span style=\"background-color: rgb(255, 255, 255);\"> Kent</span><span style=\"background-color: rgb(255, 255, 255);\">,</span><span style=\"background-color: rgb(255, 255, 255);\"> at</span><span style=\"background-color: rgb(255, 255, 255);\"> He</span><span style=\"background-color: rgb(255, 255, 255);\">ver</span><span style=\"background-color: rgb(255, 255, 255);\"> Castle</span><span style=\"background-color: rgb(255, 255, 255);\"> this</span><span style=\"background-color: rgb(255, 255, 255);\"> Sunday</span><span style=\"background-color: rgb(255, 255, 255);\"> for</span><span style=\"background-color: rgb(255, 255, 255);\"> Father</span><span style=\"background-color: rgb(255, 228, 228);\">&#x27;</span><span style=\"background-color: rgb(255, 255, 255);\">s</span><span style=\"background-color: rgb(255, 255, 255);\"> Day</span><span style=\"background-color: rgb(255, 255, 255);\">.</span><span style=\"background-color: rgb(255, 255, 255);\">\n",
       "</span><span style=\"background-color: rgb(255, 255, 255);\">Stella</span><span style=\"background-color: rgb(255, 255, 255);\"> Scor</span><span style=\"background-color: rgb(255, 255, 255);\">de</span><span style=\"background-color: rgb(255, 255, 255);\">llis</span><span style=\"background-color: rgb(255, 255, 255);\"> Automotive</span><span style=\"background-color: rgb(255, 255, 255);\"> Photography</span><span style=\"background-color: rgb(255, 255, 255);\"> at</span><span style=\"background-color: rgb(255, 255, 255);\"> He</span><span style=\"background-color: rgb(255, 255, 255);\">ver</span><span style=\"background-color: rgb(255, 255, 255);\"> Castle</span><span style=\"background-color: rgb(255, 255, 255);\"> on</span><span style=\"background-color: rgb(255, 255, 255);\"> Father</span><span style=\"background-color: rgb(255, 255, 255);\">&#x27;</span><span style=\"background-color: rgb(255, 255, 255);\">s</span><span style=\"background-color: rgb(255, 255, 255);\"> Day</span><span style=\"background-color: rgb(255, 255, 255);\"> Sunday</span><span style=\"background-color: rgb(255, 255, 255);\"> </span><span style=\"background-color: rgb(255, 255, 255);\">2</span><span style=\"background-color: rgb(255, 255, 255);\">1</span><span style=\"background-color: rgb(255, 255, 255);\">st</span><span style=\"background-color: rgb(255, 255, 255);\"> June</span><span style=\"background-color: rgb(255, 255, 255);\">,</span><span style=\"background-color: rgb(255, 255, 255);\"> a</span><span style=\"background-color: rgb(255, 255, 255);\"> family</span><span style=\"background-color: rgb(255, 255, 255);\"> day</span><span style=\"background-color: rgb(255, 255, 255);\"> out</span><span style=\"background-color: rgb(255, 255, 255);\"> and</span><span style=\"background-color: rgb(255, 255, 255);\"> to</span><span style=\"background-color: rgb(255, 255, 255);\"> see</span><span style=\"background-color: rgb(255, 255, 255);\"> the</span><span style=\"background-color: rgb(255, 255, 255);\"> cars</span><span style=\"background-color: rgb(255, 255, 255);\"> and</span><span style=\"background-color: rgb(255, 255, 255);\"> bikes</span><span style=\"background-color: rgb(255, 255, 255);\"> racing</span><span style=\"background-color: rgb(255, 255, 255);\"> legend</span><span style=\"background-color: rgb(255, 255, 255);\"> John</span><span style=\"background-color: rgb(255, 255, 255);\"> Sur</span><span style=\"background-color: rgb(255, 255, 255);\">tees</span><span style=\"background-color: rgb(255, 255, 255);\"> once</span><span style=\"background-color: rgb(255, 255, 255);\"> drove</span><span style=\"background-color: rgb(255, 255, 255);\"> and</span><span style=\"background-color: rgb(255, 255, 255);\"> to</span><span style=\"background-color: rgb(255, 255, 255);\"> meet</span><span style=\"background-color: rgb(255, 255, 255);\"> him</span><span style=\"background-color: rgb(255, 255, 255);\"> too</span><span style=\"background-color: rgb(255, 255, 255);\">.</span><span style=\"background-color: rgb(255, 255, 255);\"> On</span><span style=\"background-color: rgb(255, 255, 255);\"> display</span><span style=\"background-color: rgb(255, 255, 255);\"> are</span><span style=\"background-color: rgb(255, 255, 255);\"> a</span><span style=\"background-color: rgb(255, 255, 255);\"> selection</span><span style=\"background-color: rgb(255, 255, 255);\"> of</span><span style=\"background-color: rgb(255, 255, 255);\"> my</span><span style=\"background-color: rgb(255, 255, 255);\"> Limited</span><span style=\"background-color: rgb(255, 255, 255);\"> Edition</span><span style=\"background-color: rgb(255, 255, 255);\"> framed</span><span style=\"background-color: rgb(255, 255, 255);\"> automotive</span><span style=\"background-color: rgb(255, 255, 255);\"> photographs</span><span style=\"background-color: rgb(255, 255, 255);\"> and</span><span style=\"background-color: rgb(255, 255, 255);\"> on</span><span style=\"background-color: rgb(255, 255, 255);\"> sale</span><span style=\"background-color: rgb(255, 255, 255);\"> for</span><span style=\"background-color: rgb(255, 255, 255);\"> the</span><span style=\"background-color: rgb(255, 255, 255);\"> first</span><span style=\"background-color: rgb(255, 255, 255);\"> time</span><span style=\"background-color: rgb(255, 255, 255);\">.</span><span style=\"background-color: rgb(255, 255, 255);\"> This</span><span style=\"background-color: rgb(255, 255, 255);\"> link</span><span style=\"background-color: rgb(255, 255, 255);\"> will</span><span style=\"background-color: rgb(255, 255, 255);\"> tell</span><span style=\"background-color: rgb(255, 255, 255);\"> you</span><span style=\"background-color: rgb(255, 255, 255);\"> more</span><span style=\"background-color: rgb(255, 255, 255);\">.</span><span style=\"background-color: rgb(255, 255, 255);\">\n",
       "</span><span style=\"background-color: rgb(255, 255, 255);\">Beneath</span><span style=\"background-color: rgb(255, 255, 255);\"> the</span><span style=\"background-color: rgb(255, 255, 255);\"> Surface</span><span style=\"background-color: rgb(255, 255, 255);\"> at</span><span style=\"background-color: rgb(255, 255, 255);\"> Somerset</span><span style=\"background-color: rgb(255, 255, 255);\"> House</span><span style=\"background-color: rgb(255, 255, 255);\"> until</span><span style=\"background-color: rgb(255, 255, 255);\"> </span><span style=\"background-color: rgb(255, 255, 255);\">2</span><span style=\"background-color: rgb(255, 255, 255);\">4</span><span style=\"background-color: rgb(255, 255, 255);\">th</span><span style=\"background-color: rgb(255, 255, 255);\"> August</span><span style=\"background-color: rgb(255, 255, 255);\">,</span><span style=\"background-color: rgb(255, 255, 255);\"> the</span></p><p>Max Activation: 46.0000:</p><p><span style=\"background-color: rgb(255, 255, 255);\">\n",
       "</span><span style=\"background-color: rgb(255, 255, 255);\"> day</span><span style=\"background-color: rgb(255, 255, 255);\">.</span><span style=\"background-color: rgb(255, 255, 255);\">\n",
       "</span><span style=\"background-color: rgb(255, 255, 255);\">The</span><span style=\"background-color: rgb(255, 255, 255);\"> pregnancy</span><span style=\"background-color: rgb(255, 255, 255);\"> open</span><span style=\"background-color: rgb(255, 255, 255);\"> day</span><span style=\"background-color: rgb(255, 255, 255);\"> event</span><span style=\"background-color: rgb(255, 255, 255);\"> will</span><span style=\"background-color: rgb(255, 255, 255);\"> take</span><span style=\"background-color: rgb(255, 255, 255);\"> place</span><span style=\"background-color: rgb(255, 255, 255);\"> on</span><span style=\"background-color: rgb(255, 255, 255);\"> Sunday</span><span style=\"background-color: rgb(255, 255, 255);\"> </span><span style=\"background-color: rgb(255, 255, 255);\">7</span><span style=\"background-color: rgb(255, 255, 255);\">th</span><span style=\"background-color: rgb(255, 255, 255);\"> May</span><span style=\"background-color: rgb(255, 255, 255);\"> </span><span style=\"background-color: rgb(255, 255, 255);\">2</span><span style=\"background-color: rgb(255, 255, 255);\">0</span><span style=\"background-color: rgb(255, 255, 255);\">1</span><span style=\"background-color: rgb(255, 255, 255);\">7</span><span style=\"background-color: rgb(255, 255, 255);\"> from</span><span style=\"background-color: rgb(255, 255, 255);\"> </span><span style=\"background-color: rgb(255, 255, 255);\">1</span><span style=\"background-color: rgb(255, 255, 255);\">0</span><span style=\"background-color: rgb(255, 255, 255);\">.</span><span style=\"background-color: rgb(255, 255, 255);\">3</span><span style=\"background-color: rgb(255, 255, 255);\">0</span><span style=\"background-color: rgb(255, 255, 255);\">am</span><span style=\"background-color: rgb(255, 255, 255);\">-</span><span style=\"background-color: rgb(255, 255, 255);\">4</span><span style=\"background-color: rgb(255, 255, 255);\">pm</span><span style=\"background-color: rgb(255, 255, 255);\">,</span><span style=\"background-color: rgb(255, 255, 255);\"> at</span><span style=\"background-color: rgb(255, 255, 255);\"> The</span><span style=\"background-color: rgb(255, 255, 255);\"> Portland</span><span style=\"background-color: rgb(255, 255, 255);\"> Hospital</span><span style=\"background-color: rgb(255, 255, 255);\">,</span><span style=\"background-color: rgb(255, 255, 255);\"> </span><span style=\"background-color: rgb(255, 255, 255);\">2</span><span style=\"background-color: rgb(255, 255, 255);\">0</span><span style=\"background-color: rgb(255, 255, 255);\">5</span><span style=\"background-color: rgb(255, 255, 255);\">-</span><span style=\"background-color: rgb(255, 255, 255);\">2</span><span style=\"background-color: rgb(255, 255, 255);\">0</span><span style=\"background-color: rgb(255, 255, 255);\">9</span><span style=\"background-color: rgb(255, 255, 255);\"> Great</span><span style=\"background-color: rgb(255, 255, 255);\"> Portland</span><span style=\"background-color: rgb(255, 255, 255);\"> Street</span><span style=\"background-color: rgb(255, 255, 255);\">,</span><span style=\"background-color: rgb(255, 22, 22);\"> London</span><span style=\"background-color: rgb(255, 255, 255);\"> W</span><span style=\"background-color: rgb(255, 255, 255);\">1</span><span style=\"background-color: rgb(255, 255, 255);\">W</span><span style=\"background-color: rgb(255, 255, 255);\"> </span><span style=\"background-color: rgb(255, 255, 255);\">5</span><span style=\"background-color: rgb(255, 255, 255);\">AH</span><span style=\"background-color: rgb(255, 255, 255);\">.</span><span style=\"background-color: rgb(255, 255, 255);\"> Visitors</span><span style=\"background-color: rgb(255, 255, 255);\"> can</span><span style=\"background-color: rgb(255, 255, 255);\"> register</span><span style=\"background-color: rgb(255, 255, 255);\"> for</span><span style=\"background-color: rgb(255, 255, 255);\"> free</span><span style=\"background-color: rgb(255, 255, 255);\"> for</span><span style=\"background-color: rgb(255, 255, 255);\"> this</span><span style=\"background-color: rgb(255, 255, 255);\"> event</span><span style=\"background-color: rgb(255, 255, 255);\"> here</span><span style=\"background-color: rgb(255, 255, 255);\">.</span><span style=\"background-color: rgb(255, 255, 255);\"> The</span><span style=\"background-color: rgb(255, 255, 255);\"> Portland</span><span style=\"background-color: rgb(255, 255, 255);\"> Hospital</span><span style=\"background-color: rgb(255, 255, 255);\"> is</span><span style=\"background-color: rgb(255, 255, 255);\"> also</span><span style=\"background-color: rgb(255, 255, 255);\"> running</span><span style=\"background-color: rgb(255, 255, 255);\"> a</span><span style=\"background-color: rgb(255, 255, 255);\"> further</span><span style=\"background-color: rgb(255, 255, 255);\"> two</span><span style=\"background-color: rgb(255, 255, 255);\"> open</span><span style=\"background-color: rgb(255, 255, 255);\"> days</span><span style=\"background-color: rgb(255, 255, 255);\"> this</span><span style=\"background-color: rgb(255, 255, 255);\"> year</span><span style=\"background-color: rgb(255, 255, 255);\"> which</span><span style=\"background-color: rgb(255, 255, 255);\"> you</span><span style=\"background-color: rgb(255, 255, 255);\"> can</span><span style=\"background-color: rgb(255, 255, 255);\"> also</span><span style=\"background-color: rgb(255, 255, 255);\"> pre</span><span style=\"background-color: rgb(255, 255, 255);\">-</span><span style=\"background-color: rgb(255, 255, 255);\">register</span><span style=\"background-color: rgb(255, 255, 255);\"> for</span><span style=\"background-color: rgb(255, 255, 255);\"> here</span><span style=\"background-color: rgb(255, 255, 255);\">.</span><span style=\"background-color: rgb(255, 255, 255);\"> In</span><span style=\"background-color: rgb(255, 255, 255);\"> addition</span><span style=\"background-color: rgb(255, 255, 255);\"> to</span><span style=\"background-color: rgb(255, 255, 255);\"> the</span><span style=\"background-color: rgb(255, 255, 255);\"> open</span><span style=\"background-color: rgb(255, 255, 255);\"> day</span><span style=\"background-color: rgb(255, 255, 255);\">,</span><span style=\"background-color: rgb(255, 255, 255);\"> you</span><span style=\"background-color: rgb(255, 255, 255);\"> can</span><span style=\"background-color: rgb(255, 255, 255);\"> register</span><span style=\"background-color: rgb(255, 255, 255);\"> for</span><span style=\"background-color: rgb(255, 255, 255);\"> the</span><span style=\"background-color: rgb(255, 255, 255);\"> Pregnancy</span><span style=\"background-color: rgb(255, 255, 255);\"> Meet</span><span style=\"background-color: rgb(255, 255, 255);\"> and</span><span style=\"background-color: rgb(255, 255, 255);\"> Greet</span><span style=\"background-color: rgb(255, 255, 255);\"> service</span><span style=\"background-color: rgb(255, 255, 255);\">,</span><span style=\"background-color: rgb(255, 255, 255);\"> which</span><span style=\"background-color: rgb(255, 255, 255);\"> is</span><span style=\"background-color: rgb(255, 255, 255);\"> a</span><span style=\"background-color: rgb(255, 255, 255);\"> free</span><span style=\"background-color: rgb(255, 255, 255);\"> </span><span style=\"background-color: rgb(255, 255, 255);\">3</span><span style=\"background-color: rgb(255, 255, 255);\">0</span><span style=\"background-color: rgb(255, 255, 255);\"> minute</span><span style=\"background-color: rgb(255, 255, 255);\"> appointment</span><span style=\"background-color: rgb(255, 255, 255);\"> with</span><span style=\"background-color: rgb(255, 255, 255);\"> a</span><span style=\"background-color: rgb(255, 255, 255);\"> midwife</span><span style=\"background-color: rgb(255, 255, 255);\"> to</span><span style=\"background-color: rgb(255, 255, 255);\"> help</span></p><p>Max Activation: 45.5000:</p><p><span style=\"background-color: rgb(255, 255, 255);\">\n",
       "</span><span style=\"background-color: rgb(255, 255, 255);\"> complete</span><span style=\"background-color: rgb(255, 255, 255);\"> revolution</span><span style=\"background-color: rgb(255, 255, 255);\"> in</span><span style=\"background-color: rgb(255, 255, 255);\"> the</span><span style=\"background-color: rgb(255, 255, 255);\"> way</span><span style=\"background-color: rgb(255, 255, 255);\"> they</span><span style=\"background-color: rgb(255, 255, 255);\"> design</span><span style=\"background-color: rgb(255, 255, 255);\"> and</span><span style=\"background-color: rgb(255, 255, 255);\"> build</span><span style=\"background-color: rgb(255, 255, 255);\"> homes</span><span style=\"background-color: rgb(255, 255, 255);\">.</span><span style=\"background-color: rgb(255, 255, 255);\">\n",
       "</span><span style=\"background-color: rgb(255, 255, 255);\">ML</span><span style=\"background-color: rgb(255, 255, 255);\">:</span><span style=\"background-color: rgb(255, 255, 255);\"> What</span><span style=\"background-color: rgb(255, 255, 255);\">’</span><span style=\"background-color: rgb(255, 255, 255);\">s</span><span style=\"background-color: rgb(255, 255, 255);\"> happening</span><span style=\"background-color: rgb(255, 255, 255);\"> on</span><span style=\"background-color: rgb(255, 255, 255);\"> enforcement</span><span style=\"background-color: rgb(255, 255, 255);\"> and</span><span style=\"background-color: rgb(255, 255, 255);\"> inspectors</span><span style=\"background-color: rgb(255, 255, 255);\">?</span><span style=\"background-color: rgb(255, 255, 255);\">\n",
       "</span><span style=\"background-color: rgb(255, 255, 255);\">YC</span><span style=\"background-color: rgb(255, 255, 255);\">:</span><span style=\"background-color: rgb(255, 255, 255);\"> There</span><span style=\"background-color: rgb(255, 255, 255);\"> was</span><span style=\"background-color: rgb(255, 255, 255);\"> a</span><span style=\"background-color: rgb(255, 255, 255);\"> problem</span><span style=\"background-color: rgb(255, 255, 255);\"> with</span><span style=\"background-color: rgb(255, 255, 255);\"> the</span><span style=\"background-color: rgb(255, 255, 255);\"> enforcement</span><span style=\"background-color: rgb(255, 255, 255);\"> of</span><span style=\"background-color: rgb(255, 255, 255);\">,</span><span style=\"background-color: rgb(255, 255, 255);\"> I</span><span style=\"background-color: rgb(255, 255, 255);\"> think</span><span style=\"background-color: rgb(255, 255, 255);\">,</span><span style=\"background-color: rgb(255, 255, 255);\"> the</span><span style=\"background-color: rgb(255, 255, 255);\"> </span><span style=\"background-color: rgb(255, 255, 255);\">2</span><span style=\"background-color: rgb(255, 255, 255);\">0</span><span style=\"background-color: rgb(255, 255, 255);\">0</span><span style=\"background-color: rgb(255, 255, 255);\">2</span><span style=\"background-color: rgb(255, 255, 255);\"> building</span><span style=\"background-color: rgb(255, 255, 255);\"> regulations</span><span style=\"background-color: rgb(255, 255, 255);\">.</span><span style=\"background-color: rgb(255, 255, 255);\"> When</span><span style=\"background-color: rgb(255, 255, 255);\"> the</span><span style=\"background-color: rgb(255, 255, 255);\"> </span><span style=\"background-color: rgb(255, 255, 255);\">2</span><span style=\"background-color: rgb(255, 255, 255);\">0</span><span style=\"background-color: rgb(255, 255, 255);\">0</span><span style=\"background-color: rgb(255, 255, 255);\">6</span><span style=\"background-color: rgb(255, 255, 255);\"> regulations</span><span style=\"background-color: rgb(255, 255, 255);\"> were</span><span style=\"background-color: rgb(255, 255, 255);\"> introduced</span><span style=\"background-color: rgb(255, 255, 255);\">,</span><span style=\"background-color: rgb(255, 255, 255);\"> a</span><span style=\"background-color: rgb(255, 255, 255);\"> lot</span><span style=\"background-color: rgb(255, 255, 255);\"> of</span><span style=\"background-color: rgb(255, 255, 255);\"> time</span><span style=\"background-color: rgb(255, 255, 255);\"> and</span><span style=\"background-color: rgb(255, 255, 255);\"> investment</span><span style=\"background-color: rgb(255, 255, 255);\"> was</span><span style=\"background-color: rgb(255, 255, 255);\"> put</span><span style=\"background-color: rgb(255, 255, 255);\"> into</span><span style=\"background-color: rgb(255, 255, 255);\"> enforcement</span><span style=\"background-color: rgb(255, 255, 255);\">,</span><span style=\"background-color: rgb(255, 255, 255);\"> but</span><span style=\"background-color: rgb(255, 255, 255);\"> we</span><span style=\"background-color: rgb(255, 255, 255);\"> still</span><span style=\"background-color: rgb(255, 255, 255);\"> need</span><span style=\"background-color: rgb(255, 255, 255);\"> to</span><span style=\"background-color: rgb(255, 255, 255);\"> go</span><span style=\"background-color: rgb(255, 255, 255);\"> further</span><span style=\"background-color: rgb(255, 255, 255);\">.</span><span style=\"background-color: rgb(255, 255, 255);\"> The</span><span style=\"background-color: rgb(255, 255, 255);\"> department</span><span style=\"background-color: rgb(255, 255, 255);\"> is</span><span style=\"background-color: rgb(255, 255, 255);\"> undertaking</span><span style=\"background-color: rgb(255, 255, 255);\"> a</span><span style=\"background-color: rgb(255, 255, 255);\"> review</span><span style=\"background-color: rgb(255, 255, 255);\"> of</span><span style=\"background-color: rgb(255, 255, 255);\"> enforcement</span><span style=\"background-color: rgb(255, 255, 255);\">,</span><span style=\"background-color: rgb(255, 255, 255);\"> and</span><span style=\"background-color: rgb(255, 255, 255);\"> Ian</span><span style=\"background-color: rgb(255, 255, 255);\"> Wright</span><span style=\"background-color: rgb(255, 255, 255);\"> has</span><span style=\"background-color: rgb(255, 255, 255);\"> been</span><span style=\"background-color: rgb(255, 255, 255);\"> looking</span><span style=\"background-color: rgb(255, 255, 255);\"> at</span><span style=\"background-color: rgb(255, 255, 255);\"> a</span><span style=\"background-color: rgb(255, 255, 255);\"> wider</span><span style=\"background-color: rgb(255, 255, 255);\"> review</span><span style=\"background-color: rgb(255, 255, 255);\"> of</span><span style=\"background-color: rgb(255, 255, 255);\"> building</span><span style=\"background-color: rgb(255, 255, 255);\"> regulations</span><span style=\"background-color: rgb(255, 255, 255);\"> and</span><span style=\"background-color: rgb(255, 255, 255);\"> overall</span><span style=\"background-color: rgb(255, 255, 255);\"> enforcement</span><span style=\"background-color: rgb(255, 255, 255);\">.</span><span style=\"background-color: rgb(255, 255, 255);\">\n",
       "</span><span style=\"background-color: rgb(255, 255, 255);\">ML</span><span style=\"background-color: rgb(255, 255, 255);\">:</span><span style=\"background-color: rgb(255, 255, 255);\"> What</span><span style=\"background-color: rgb(255, 255, 255);\">’</span><span style=\"background-color: rgb(255, 255, 255);\">s</span><span style=\"background-color: rgb(255, 255, 255);\"> going</span><span style=\"background-color: rgb(255, 255, 255);\"> on</span><span style=\"background-color: rgb(255, 255, 255);\"> with</span><span style=\"background-color: rgb(255, 255, 255);\"> the</span><span style=\"background-color: rgb(255, 255, 255);\"> Merton</span><span style=\"background-color: rgb(255, 255, 255);\"> rule</span><span style=\"background-color: rgb(255, 255, 255);\"> [</span><span style=\"background-color: rgb(255, 255, 255);\">the</span><span style=\"background-color: rgb(255, 25, 25);\"> London</span><span style=\"background-color: rgb(255, 238, 238);\"> borough</span><span style=\"background-color: rgb(255, 255, 255);\"> of</span><span style=\"background-color: rgb(255, 255, 255);\"> Merton</span><span style=\"background-color: rgb(255, 255, 255);\"> introduced</span><span style=\"background-color: rgb(255, 255, 255);\"> a</span><span style=\"background-color: rgb(255, 255, 255);\"> rule</span></p><p>Max Activation: 45.0000:</p><p><span style=\"background-color: rgb(255, 255, 255);\">\n",
       "</span><span style=\"background-color: rgb(255, 255, 255);\">standalone</span><span style=\"background-color: rgb(255, 255, 255);\">_</span><span style=\"background-color: rgb(255, 255, 255);\">test</span><span style=\"background-color: rgb(255, 255, 255);\">(</span><span style=\"background-color: rgb(255, 255, 255);\">h</span><span style=\"background-color: rgb(255, 255, 255);\">2</span><span style=\"background-color: rgb(255, 255, 255);\">o</span><span style=\"background-color: rgb(255, 255, 255);\">init</span><span style=\"background-color: rgb(255, 255, 255);\">)</span><span style=\"background-color: rgb(255, 255, 255);\">\n",
       "</span><span style=\"background-color: rgb(255, 255, 255);\">else</span><span style=\"background-color: rgb(255, 255, 255);\">:</span><span style=\"background-color: rgb(255, 255, 255);\">\n",
       "</span><span style=\"background-color: rgb(255, 255, 255);\">    </span><span style=\"background-color: rgb(255, 255, 255);\">h</span><span style=\"background-color: rgb(255, 255, 255);\">2</span><span style=\"background-color: rgb(255, 255, 255);\">o</span><span style=\"background-color: rgb(255, 255, 255);\">init</span><span style=\"background-color: rgb(255, 255, 255);\">()</span><span style=\"background-color: rgb(255, 255, 255);\">\n",
       "</span><span style=\"background-color: rgb(255, 255, 255);\">&lt;eos&gt;</span><span style=\"background-color: rgb(255, 255, 255);\">Apex</span><span style=\"background-color: rgb(255, 255, 255);\"> Zero</span><span style=\"background-color: rgb(255, 255, 255);\"> took</span><span style=\"background-color: rgb(255, 255, 255);\"> some</span><span style=\"background-color: rgb(255, 255, 255);\"> time</span><span style=\"background-color: rgb(255, 255, 255);\"> out</span><span style=\"background-color: rgb(255, 255, 255);\"> recently</span><span style=\"background-color: rgb(255, 255, 255);\"> to</span><span style=\"background-color: rgb(255, 255, 255);\"> speak</span><span style=\"background-color: rgb(255, 255, 255);\"> with</span><span style=\"background-color: rgb(255, 255, 255);\"> Andrew</span><span style=\"background-color: rgb(255, 255, 255);\"> Kay</span><span style=\"background-color: rgb(255, 255, 255);\"> for</span><span style=\"background-color: rgb(255, 255, 255);\"> British</span><span style=\"background-color: rgb(255, 255, 255);\"> magazine</span><span style=\"background-color: rgb(255, 255, 255);\"> Guest</span><span style=\"background-color: rgb(255, 255, 255);\">list</span><span style=\"background-color: rgb(255, 255, 255);\"> recently</span><span style=\"background-color: rgb(255, 255, 255);\"> to</span><span style=\"background-color: rgb(255, 255, 255);\"> speak</span><span style=\"background-color: rgb(255, 255, 255);\"> on</span><span style=\"background-color: rgb(255, 255, 255);\"> his</span><span style=\"background-color: rgb(255, 255, 255);\"> new</span><span style=\"background-color: rgb(255, 255, 255);\"> album</span><span style=\"background-color: rgb(255, 255, 255);\"> “</span><span style=\"background-color: rgb(255, 255, 255);\">Reality</span><span style=\"background-color: rgb(255, 255, 255);\"> Provo</span><span style=\"background-color: rgb(255, 255, 255);\">king</span><span style=\"background-color: rgb(255, 255, 255);\"> Liberation</span><span style=\"background-color: rgb(255, 255, 255);\">”</span><span style=\"background-color: rgb(255, 255, 255);\"> which</span><span style=\"background-color: rgb(255, 255, 255);\"> released</span><span style=\"background-color: rgb(255, 255, 255);\"> on</span><span style=\"background-color: rgb(255, 255, 255);\"> Monday</span><span style=\"background-color: rgb(255, 255, 255);\"> </span><span style=\"background-color: rgb(255, 255, 255);\">2</span><span style=\"background-color: rgb(255, 255, 255);\">8</span><span style=\"background-color: rgb(255, 255, 255);\">th</span><span style=\"background-color: rgb(255, 255, 255);\"> October</span><span style=\"background-color: rgb(255, 255, 255);\">.</span><span style=\"background-color: rgb(255, 255, 255);\">\n",
       "</span><span style=\"background-color: rgb(255, 255, 255);\">It</span><span style=\"background-color: rgb(255, 255, 255);\">’</span><span style=\"background-color: rgb(255, 255, 255);\">s</span><span style=\"background-color: rgb(255, 255, 255);\"> the</span><span style=\"background-color: rgb(255, 255, 255);\"> debut</span><span style=\"background-color: rgb(255, 255, 255);\"> solo</span><span style=\"background-color: rgb(255, 255, 255);\"> album</span><span style=\"background-color: rgb(255, 255, 255);\"> from</span><span style=\"background-color: rgb(255, 255, 255);\"> the</span><span style=\"background-color: rgb(255, 27, 27);\"> London</span><span style=\"background-color: rgb(255, 255, 255);\"> rapper</span><span style=\"background-color: rgb(255, 255, 255);\"> and</span><span style=\"background-color: rgb(255, 255, 255);\"> producer</span><span style=\"background-color: rgb(255, 255, 255);\">,</span><span style=\"background-color: rgb(255, 255, 255);\"> a</span><span style=\"background-color: rgb(255, 255, 255);\"> brief</span><span style=\"background-color: rgb(255, 255, 255);\"> departure</span><span style=\"background-color: rgb(255, 255, 255);\"> from</span><span style=\"background-color: rgb(255, 255, 255);\"> his</span><span style=\"background-color: rgb(255, 255, 255);\"> work</span><span style=\"background-color: rgb(255, 255, 255);\"> as</span><span style=\"background-color: rgb(255, 255, 255);\"> part</span><span style=\"background-color: rgb(255, 255, 255);\"> of</span><span style=\"background-color: rgb(255, 255, 255);\"> the</span><span style=\"background-color: rgb(255, 255, 255);\"> hip</span><span style=\"background-color: rgb(255, 255, 255);\"> hop</span><span style=\"background-color: rgb(255, 255, 255);\"> duo</span><span style=\"background-color: rgb(255, 255, 255);\"> First</span><span style=\"background-color: rgb(255, 255, 255);\"> and</span><span style=\"background-color: rgb(255, 255, 255);\"> Last</span><span style=\"background-color: rgb(255, 255, 255);\">.</span><span style=\"background-color: rgb(255, 255, 255);\"> It</span><span style=\"background-color: rgb(255, 255, 255);\">’</span><span style=\"background-color: rgb(255, 255, 255);\">s</span><span style=\"background-color: rgb(255, 255, 255);\"> had</span><span style=\"background-color: rgb(255, 255, 255);\"> an</span><span style=\"background-color: rgb(255, 255, 255);\"> impressive</span><span style=\"background-color: rgb(255, 255, 255);\"> media</span><span style=\"background-color: rgb(255, 255, 255);\"> response</span><span style=\"background-color: rgb(255, 255, 255);\"> in</span><span style=\"background-color: rgb(255, 255, 255);\"> the</span><span style=\"background-color: rgb(255, 255, 255);\"> past</span><span style=\"background-color: rgb(255, 255, 255);\"> couple</span><span style=\"background-color: rgb(255, 255, 255);\"> of</span><span style=\"background-color: rgb(255, 255, 255);\"> months</span><span style=\"background-color: rgb(255, 255, 255);\">,</span><span style=\"background-color: rgb(255, 255, 255);\"> with</span><span style=\"background-color: rgb(255, 255, 255);\"> an</span><span style=\"background-color: rgb(255, 255, 255);\"> appreciation</span><span style=\"background-color: rgb(255, 255, 255);\"> not</span><span style=\"background-color: rgb(255, 255, 255);\"> only</span><span style=\"background-color: rgb(255, 255, 255);\"> for</span><span style=\"background-color: rgb(255, 255, 255);\"> the</span><span style=\"background-color: rgb(255, 255, 255);\"> conscientious</span><span style=\"background-color: rgb(255, 255, 255);\"> lyric</span><span style=\"background-color: rgb(255, 255, 255);\">ism</span><span style=\"background-color: rgb(255, 255, 255);\"> addressing</span><span style=\"background-color: rgb(255, 255, 255);\"> a</span><span style=\"background-color: rgb(255, 255, 255);\"> range</span><span style=\"background-color: rgb(255, 255, 255);\"> of</span><span style=\"background-color: rgb(255, 255, 255);\"> political</span><span style=\"background-color: rgb(255, 255, 255);\"> and</span></p><p>Max Activation: 44.0000:</p><p><span style=\"background-color: rgb(255, 255, 255);\">\n",
       "</span><span style=\"background-color: rgb(255, 255, 255);\"> current</span><span style=\"background-color: rgb(255, 255, 255);\"> collaboration</span><span style=\"background-color: rgb(255, 255, 255);\"> with</span><span style=\"background-color: rgb(255, 255, 255);\"> Peter</span><span style=\"background-color: rgb(255, 255, 255);\"> Z</span><span style=\"background-color: rgb(255, 255, 255);\">ino</span><span style=\"background-color: rgb(255, 255, 255);\">vie</span><span style=\"background-color: rgb(255, 255, 255);\">ff</span><span style=\"background-color: rgb(255, 255, 255);\"> has</span><span style=\"background-color: rgb(255, 255, 255);\"> performed</span><span style=\"background-color: rgb(255, 255, 255);\"> at</span><span style=\"background-color: rgb(255, 255, 255);\"> the</span><span style=\"background-color: rgb(255, 255, 255);\"> electronic</span><span style=\"background-color: rgb(255, 255, 255);\"> music</span><span style=\"background-color: rgb(255, 255, 255);\"> festivals</span><span style=\"background-color: rgb(255, 255, 255);\"> Aton</span><span style=\"background-color: rgb(255, 255, 255);\">al</span><span style=\"background-color: rgb(255, 255, 255);\">,</span><span style=\"background-color: rgb(255, 255, 255);\"> Rew</span><span style=\"background-color: rgb(255, 255, 255);\">ire</span><span style=\"background-color: rgb(255, 255, 255);\"> and</span><span style=\"background-color: rgb(255, 255, 255);\"> Nor</span><span style=\"background-color: rgb(255, 255, 255);\">berg</span><span style=\"background-color: rgb(255, 255, 255);\">,</span><span style=\"background-color: rgb(255, 255, 255);\"> and</span><span style=\"background-color: rgb(255, 255, 255);\"> with</span><span style=\"background-color: rgb(255, 255, 255);\"> pianist</span><span style=\"background-color: rgb(255, 255, 255);\"> Kit</span><span style=\"background-color: rgb(255, 255, 255);\"> Down</span><span style=\"background-color: rgb(255, 255, 255);\">es</span><span style=\"background-color: rgb(255, 255, 255);\"> performances</span><span style=\"background-color: rgb(255, 255, 255);\"> include</span><span style=\"background-color: rgb(255, 255, 255);\"> Kol</span><span style=\"background-color: rgb(255, 255, 255);\">n</span><span style=\"background-color: rgb(255, 255, 255);\"> Phil</span><span style=\"background-color: rgb(255, 255, 255);\">harmonie</span><span style=\"background-color: rgb(255, 255, 255);\">,</span><span style=\"background-color: rgb(255, 255, 255);\"> BBC</span><span style=\"background-color: rgb(255, 255, 255);\"> Radio</span><span style=\"background-color: rgb(255, 255, 255);\"> and</span><span style=\"background-color: rgb(255, 255, 255);\"> hundreds</span><span style=\"background-color: rgb(255, 255, 255);\"> and</span><span style=\"background-color: rgb(255, 255, 255);\"> thousands</span><span style=\"background-color: rgb(255, 255, 255);\"> of</span><span style=\"background-color: rgb(255, 255, 255);\"> venues</span><span style=\"background-color: rgb(255, 255, 255);\"> around</span><span style=\"background-color: rgb(255, 255, 255);\"> Europe</span><span style=\"background-color: rgb(255, 255, 255);\">.</span><span style=\"background-color: rgb(255, 255, 255);\"> As</span><span style=\"background-color: rgb(255, 255, 255);\"> well</span><span style=\"background-color: rgb(255, 255, 255);\"> as</span><span style=\"background-color: rgb(255, 255, 255);\"> co</span><span style=\"background-color: rgb(255, 255, 255);\">-</span><span style=\"background-color: rgb(255, 255, 255);\">direct</span><span style=\"background-color: rgb(255, 255, 255);\">ing</span><span style=\"background-color: rgb(255, 255, 255);\"> a</span><span style=\"background-color: rgb(255, 255, 255);\"> the</span><span style=\"background-color: rgb(255, 255, 255);\"> dance</span><span style=\"background-color: rgb(255, 255, 255);\"> piece</span><span style=\"background-color: rgb(255, 255, 255);\"> Everything</span><span style=\"background-color: rgb(255, 255, 255);\"> that</span><span style=\"background-color: rgb(255, 255, 255);\"> rises</span><span style=\"background-color: rgb(255, 255, 255);\"> must</span><span style=\"background-color: rgb(255, 255, 255);\"> dance</span><span style=\"background-color: rgb(255, 255, 255);\"> with</span><span style=\"background-color: rgb(255, 255, 255);\"> Sasha</span><span style=\"background-color: rgb(255, 255, 255);\"> Mila</span><span style=\"background-color: rgb(255, 255, 255);\">vic</span><span style=\"background-color: rgb(255, 255, 255);\"> Davies</span><span style=\"background-color: rgb(255, 255, 255);\"> (</span><span style=\"background-color: rgb(255, 255, 255);\">Compli</span><span style=\"background-color: rgb(255, 255, 255);\">cite</span><span style=\"background-color: rgb(255, 255, 255);\">),</span><span style=\"background-color: rgb(255, 255, 255);\"> she</span><span style=\"background-color: rgb(255, 255, 255);\"> has</span><span style=\"background-color: rgb(255, 255, 255);\"> been</span><span style=\"background-color: rgb(255, 255, 255);\"> co</span><span style=\"background-color: rgb(255, 255, 255);\">-</span><span style=\"background-color: rgb(255, 255, 255);\">director</span><span style=\"background-color: rgb(255, 255, 255);\"> of</span><span style=\"background-color: rgb(255, 255, 255);\"> the</span><span style=\"background-color: rgb(255, 32, 32);\"> London</span><span style=\"background-color: rgb(255, 255, 255);\"> Contemporary</span><span style=\"background-color: rgb(255, 255, 255);\"> Music</span><span style=\"background-color: rgb(255, 255, 255);\"> Festival</span><span style=\"background-color: rgb(255, 255, 255);\"> and</span><span style=\"background-color: rgb(255, 255, 255);\"> is</span><span style=\"background-color: rgb(255, 255, 255);\"> founder</span><span style=\"background-color: rgb(255, 255, 255);\"> and</span><span style=\"background-color: rgb(255, 255, 255);\"> curator</span><span style=\"background-color: rgb(255, 255, 255);\"> or</span><span style=\"background-color: rgb(255, 255, 255);\"> Kammer</span><span style=\"background-color: rgb(255, 255, 255);\"> Klang</span><span style=\"background-color: rgb(255, 255, 255);\"> new</span><span style=\"background-color: rgb(255, 255, 255);\"> music</span><span style=\"background-color: rgb(255, 255, 255);\"> series</span><span style=\"background-color: rgb(255, 255, 255);\"> at</span><span style=\"background-color: rgb(255, 255, 255);\"> Cafe</span><span style=\"background-color: rgb(255, 255, 255);\"> Oto</span><span style=\"background-color: rgb(255, 255, 255);\">,</span><span style=\"background-color: rgb(255, 56, 56);\"> London</span><span style=\"background-color: rgb(255, 255, 255);\">.</span><span style=\"background-color: rgb(255, 255, 255);\">&lt;eos&gt;</span><span style=\"background-color: rgb(255, 255, 255);\">import</span><span style=\"background-color: rgb(255, 255, 255);\"> argparse</span><span style=\"background-color: rgb(255, 255, 255);\">\n",
       "</span><span style=\"background-color: rgb(255, 255, 255);\">import</span><span style=\"background-color: rgb(255, 255, 255);\"> py</span><span style=\"background-color: rgb(255, 255, 255);\">stache</span><span style=\"background-color: rgb(255, 255, 255);\">\n",
       "</span><span style=\"background-color: rgb(255, 255, 255);\">import</span><span style=\"background-color: rgb(255, 255, 255);\"> os</span><span style=\"background-color: rgb(255, 255, 255);\">\n",
       "</span><span style=\"background-color: rgb(255, 255, 255);\">import</span><span style=\"background-color: rgb(255, 255, 255);\"> random</span><span style=\"background-color: rgb(255, 255, 255);\">\n",
       "</span><span style=\"background-color: rgb(255, 255, 255);\">import</span><span style=\"background-color: rgb(255, 255, 255);\"> sys</span><span style=\"background-color: rgb(255, 255, 255);\">\n",
       "</span><span style=\"background-color: rgb(255, 255, 255);\">from</span><span style=\"background-color: rgb(255, 255, 255);\"> dj</span><span style=\"background-color: rgb(255, 255, 255);\">vas</span><span style=\"background-color: rgb(255, 255, 255);\">a</span><span style=\"background-color: rgb(255, 255, 255);\">.</span></p><p>Max Activation: 43.2500:</p><p><span style=\"background-color: rgb(255, 255, 255);\">\n",
       "</span><span style=\"background-color: rgb(255, 255, 255);\"> greatest</span><span style=\"background-color: rgb(255, 255, 255);\"> show</span><span style=\"background-color: rgb(255, 255, 255);\"> on</span><span style=\"background-color: rgb(255, 255, 255);\"> earth</span><span style=\"background-color: rgb(255, 255, 255);\">”,</span><span style=\"background-color: rgb(255, 255, 255);\"> but</span><span style=\"background-color: rgb(255, 255, 255);\"> these</span><span style=\"background-color: rgb(255, 255, 255);\"> days</span><span style=\"background-color: rgb(255, 255, 255);\"> the</span><span style=\"background-color: rgb(255, 255, 255);\"> Olympic</span><span style=\"background-color: rgb(255, 255, 255);\"> ideals</span><span style=\"background-color: rgb(255, 255, 255);\"> of</span><span style=\"background-color: rgb(255, 255, 255);\"> citi</span><span style=\"background-color: rgb(255, 255, 255);\">us</span><span style=\"background-color: rgb(255, 255, 255);\">,</span><span style=\"background-color: rgb(255, 255, 255);\"> al</span><span style=\"background-color: rgb(255, 255, 255);\">tius</span><span style=\"background-color: rgb(255, 255, 255);\">,</span><span style=\"background-color: rgb(255, 255, 255);\"> for</span><span style=\"background-color: rgb(255, 255, 255);\">tius</span><span style=\"background-color: rgb(255, 255, 255);\"> (</span><span style=\"background-color: rgb(255, 255, 255);\">faster</span><span style=\"background-color: rgb(255, 255, 255);\">,</span><span style=\"background-color: rgb(255, 255, 255);\"> higher</span><span style=\"background-color: rgb(255, 255, 255);\">,</span><span style=\"background-color: rgb(255, 255, 255);\"> stronger</span><span style=\"background-color: rgb(255, 255, 255);\">)</span><span style=\"background-color: rgb(255, 255, 255);\"> can</span><span style=\"background-color: rgb(255, 255, 255);\"> just</span><span style=\"background-color: rgb(255, 255, 255);\"> as</span><span style=\"background-color: rgb(255, 255, 255);\"> easily</span><span style=\"background-color: rgb(255, 255, 255);\"> be</span><span style=\"background-color: rgb(255, 255, 255);\"> applied</span><span style=\"background-color: rgb(255, 255, 255);\"> to</span><span style=\"background-color: rgb(255, 255, 255);\"> the</span><span style=\"background-color: rgb(255, 255, 255);\"> lucrative</span><span style=\"background-color: rgb(255, 255, 255);\"> commercial</span><span style=\"background-color: rgb(255, 255, 255);\"> ventures</span><span style=\"background-color: rgb(255, 255, 255);\"> accompanying</span><span style=\"background-color: rgb(255, 255, 255);\"> the</span><span style=\"background-color: rgb(255, 255, 255);\"> world</span><span style=\"background-color: rgb(255, 255, 255);\"> of</span><span style=\"background-color: rgb(255, 255, 255);\"> sport</span><span style=\"background-color: rgb(255, 255, 255);\">.</span><span style=\"background-color: rgb(255, 255, 255);\">\n",
       "</span><span style=\"background-color: rgb(255, 255, 255);\">As</span><span style=\"background-color: rgb(255, 255, 255);\"> the</span><span style=\"background-color: rgb(255, 255, 255);\"> events</span><span style=\"background-color: rgb(255, 255, 255);\"> of</span><span style=\"background-color: rgb(255, 51, 51);\"> London</span><span style=\"background-color: rgb(255, 255, 255);\"> </span><span style=\"background-color: rgb(255, 255, 255);\">2</span><span style=\"background-color: rgb(255, 255, 255);\">0</span><span style=\"background-color: rgb(255, 255, 255);\">1</span><span style=\"background-color: rgb(255, 255, 255);\">2</span><span style=\"background-color: rgb(255, 255, 255);\"> play</span><span style=\"background-color: rgb(255, 255, 255);\"> out</span><span style=\"background-color: rgb(255, 255, 255);\"> around</span><span style=\"background-color: rgb(255, 255, 255);\"> the</span><span style=\"background-color: rgb(255, 255, 255);\"> world</span><span style=\"background-color: rgb(255, 255, 255);\">,</span><span style=\"background-color: rgb(255, 36, 36);\"> London</span><span style=\"background-color: rgb(255, 255, 255);\"> Business</span><span style=\"background-color: rgb(255, 234, 234);\"> School</span><span style=\"background-color: rgb(255, 255, 255);\">,</span><span style=\"background-color: rgb(255, 255, 255);\"> in</span><span style=\"background-color: rgb(255, 255, 255);\"> collaboration</span><span style=\"background-color: rgb(255, 255, 255);\"> with</span><span style=\"background-color: rgb(255, 255, 255);\"> Deloitte</span><span style=\"background-color: rgb(255, 255, 255);\">,</span><span style=\"background-color: rgb(255, 255, 255);\"> is</span><span style=\"background-color: rgb(255, 255, 255);\"> exploring</span><span style=\"background-color: rgb(255, 255, 255);\"> the</span><span style=\"background-color: rgb(255, 255, 255);\"> lessons</span><span style=\"background-color: rgb(255, 255, 255);\"> shared</span><span style=\"background-color: rgb(255, 255, 255);\"> between</span><span style=\"background-color: rgb(255, 255, 255);\"> business</span><span style=\"background-color: rgb(255, 255, 255);\"> and</span><span style=\"background-color: rgb(255, 255, 255);\"> sport</span><span style=\"background-color: rgb(255, 255, 255);\">,</span><span style=\"background-color: rgb(255, 255, 255);\"> bringing</span><span style=\"background-color: rgb(255, 255, 255);\"> together</span><span style=\"background-color: rgb(255, 255, 255);\"> a</span><span style=\"background-color: rgb(255, 255, 255);\"> world</span><span style=\"background-color: rgb(255, 255, 255);\">-</span><span style=\"background-color: rgb(255, 255, 255);\">class</span><span style=\"background-color: rgb(255, 255, 255);\"> line</span><span style=\"background-color: rgb(255, 255, 255);\">-</span><span style=\"background-color: rgb(255, 255, 255);\">up</span><span style=\"background-color: rgb(255, 255, 255);\"> of</span><span style=\"background-color: rgb(255, 255, 255);\"> speakers</span><span style=\"background-color: rgb(255, 255, 255);\"> from</span><span style=\"background-color: rgb(255, 255, 255);\"> the</span><span style=\"background-color: rgb(255, 255, 255);\"> worlds</span><span style=\"background-color: rgb(255, 255, 255);\"> of</span><span style=\"background-color: rgb(255, 255, 255);\"> sport</span><span style=\"background-color: rgb(255, 255, 255);\">,</span><span style=\"background-color: rgb(255, 255, 255);\"> business</span><span style=\"background-color: rgb(255, 255, 255);\"> and</span><span style=\"background-color: rgb(255, 255, 255);\"> academia</span><span style=\"background-color: rgb(255, 255, 255);\"> at</span><span style=\"background-color: rgb(255, 255, 255);\"> its</span><span style=\"background-color: rgb(255, 255, 255);\"> Global</span><span style=\"background-color: rgb(255, 255, 255);\"> Leadership</span><span style=\"background-color: rgb(255, 255, 255);\"> Summit</span><span style=\"background-color: rgb(255, 255, 255);\"> on</span><span style=\"background-color: rgb(255, 255, 255);\"> </span><span style=\"background-color: rgb(255, 255, 255);\">2</span><span style=\"background-color: rgb(255, 255, 255);\">1</span><span style=\"background-color: rgb(255, 255, 255);\"> May</span><span style=\"background-color: rgb(255, 255, 255);\"> </span><span style=\"background-color: rgb(255, 255, 255);\">2</span><span style=\"background-color: rgb(255, 255, 255);\">0</span><span style=\"background-color: rgb(255, 255, 255);\">1</span><span style=\"background-color: rgb(255, 255, 255);\">2</span><span style=\"background-color: rgb(255, 255, 255);\">.</span><span style=\"background-color: rgb(255, 255, 255);\">\n",
       "</span><span style=\"background-color: rgb(255, 255, 255);\">how</span><span style=\"background-color: rgb(255, 255, 255);\"> principles</span><span style=\"background-color: rgb(255, 255, 255);\"> of</span><span style=\"background-color: rgb(255, 255, 255);\"> teamwork</span><span style=\"background-color: rgb(255, 255, 255);\">,</span><span style=\"background-color: rgb(255, 255, 255);\"> leadership</span><span style=\"background-color: rgb(255, 255, 255);\"> and</span></p><p>Max Activation: 42.7500:</p><p><span style=\"background-color: rgb(255, 255, 255);\">\n",
       "</span><span style=\"background-color: rgb(255, 255, 255);\"> facilities</span><span style=\"background-color: rgb(255, 255, 255);\"> for</span><span style=\"background-color: rgb(255, 255, 255);\"> cell</span><span style=\"background-color: rgb(255, 255, 255);\"> and</span><span style=\"background-color: rgb(255, 255, 255);\"> gene</span><span style=\"background-color: rgb(255, 255, 255);\"> therapy</span><span style=\"background-color: rgb(255, 255, 255);\">.</span><span style=\"background-color: rgb(255, 255, 255);\">\n",
       "</span><span style=\"background-color: rgb(255, 255, 255);\">These</span><span style=\"background-color: rgb(255, 255, 255);\"> therapies</span><span style=\"background-color: rgb(255, 255, 255);\"> offer</span><span style=\"background-color: rgb(255, 255, 255);\"> enormous</span><span style=\"background-color: rgb(255, 255, 255);\"> promise</span><span style=\"background-color: rgb(255, 255, 255);\"> for</span><span style=\"background-color: rgb(255, 255, 255);\"> severe</span><span style=\"background-color: rgb(255, 255, 255);\">,</span><span style=\"background-color: rgb(255, 255, 255);\"> intractable</span><span style=\"background-color: rgb(255, 255, 255);\"> diseases</span><span style=\"background-color: rgb(255, 255, 255);\">,</span><span style=\"background-color: rgb(255, 255, 255);\"> but</span><span style=\"background-color: rgb(255, 255, 255);\"> their</span><span style=\"background-color: rgb(255, 255, 255);\"> development</span><span style=\"background-color: rgb(255, 255, 255);\"> is</span><span style=\"background-color: rgb(255, 255, 255);\"> limited</span><span style=\"background-color: rgb(255, 255, 255);\"> by</span><span style=\"background-color: rgb(255, 255, 255);\"> access</span><span style=\"background-color: rgb(255, 255, 255);\"> to</span><span style=\"background-color: rgb(255, 255, 255);\"> clinical</span><span style=\"background-color: rgb(255, 255, 255);\">-</span><span style=\"background-color: rgb(255, 255, 255);\">grade</span><span style=\"background-color: rgb(255, 255, 255);\"> manufacturing</span><span style=\"background-color: rgb(255, 255, 255);\"> infrastructure</span><span style=\"background-color: rgb(255, 255, 255);\"> and</span><span style=\"background-color: rgb(255, 255, 255);\"> early</span><span style=\"background-color: rgb(255, 255, 255);\">-</span><span style=\"background-color: rgb(255, 255, 255);\">phase</span><span style=\"background-color: rgb(255, 255, 255);\"> trials</span><span style=\"background-color: rgb(255, 255, 255);\"> capabilities</span><span style=\"background-color: rgb(255, 255, 255);\">.</span><span style=\"background-color: rgb(255, 255, 255);\">\n",
       "</span><span style=\"background-color: rgb(255, 255, 255);\">The</span><span style=\"background-color: rgb(255, 255, 255);\"> Centre</span><span style=\"background-color: rgb(255, 255, 255);\"> will</span><span style=\"background-color: rgb(255, 255, 255);\"> be</span><span style=\"background-color: rgb(255, 255, 255);\"> open</span><span style=\"background-color: rgb(255, 255, 255);\"> to</span><span style=\"background-color: rgb(255, 255, 255);\"> academic</span><span style=\"background-color: rgb(255, 255, 255);\"> and</span><span style=\"background-color: rgb(255, 255, 255);\"> industry</span><span style=\"background-color: rgb(255, 255, 255);\"> partners</span><span style=\"background-color: rgb(255, 255, 255);\"> across</span><span style=\"background-color: rgb(255, 39, 39);\"> London</span><span style=\"background-color: rgb(255, 255, 255);\"> and</span><span style=\"background-color: rgb(255, 255, 255);\"> the</span><span style=\"background-color: rgb(255, 255, 255);\"> UK</span><span style=\"background-color: rgb(255, 255, 255);\">,</span><span style=\"background-color: rgb(255, 255, 255);\"> and</span><span style=\"background-color: rgb(255, 255, 255);\"> support</span><span style=\"background-color: rgb(255, 255, 255);\"> the</span><span style=\"background-color: rgb(255, 255, 255);\"> planned</span><span style=\"background-color: rgb(255, 255, 255);\"> Cell</span><span style=\"background-color: rgb(255, 255, 255);\"> and</span><span style=\"background-color: rgb(255, 255, 255);\"> Gene</span><span style=\"background-color: rgb(255, 255, 255);\"> Therapy</span><span style=\"background-color: rgb(255, 255, 255);\"> Cat</span><span style=\"background-color: rgb(255, 255, 255);\">apult</span><span style=\"background-color: rgb(255, 255, 255);\"> large</span><span style=\"background-color: rgb(255, 255, 255);\">-</span><span style=\"background-color: rgb(255, 255, 255);\">scale</span><span style=\"background-color: rgb(255, 255, 255);\"> manufacturing</span><span style=\"background-color: rgb(255, 255, 255);\"> facility</span><span style=\"background-color: rgb(255, 255, 255);\">.</span><span style=\"background-color: rgb(255, 255, 255);\">\n",
       "</span><span style=\"background-color: rgb(255, 255, 255);\">The</span><span style=\"background-color: rgb(255, 255, 255);\"> Centre</span><span style=\"background-color: rgb(255, 255, 255);\"> will</span><span style=\"background-color: rgb(255, 255, 255);\"> create</span><span style=\"background-color: rgb(255, 255, 255);\"> a</span><span style=\"background-color: rgb(255, 255, 255);\"> unique</span><span style=\"background-color: rgb(255, 255, 255);\"> addition</span><span style=\"background-color: rgb(255, 255, 255);\"> to</span><span style=\"background-color: rgb(255, 255, 255);\"> the</span><span style=\"background-color: rgb(255, 255, 255);\"> UK</span><span style=\"background-color: rgb(255, 255, 255);\">’</span><span style=\"background-color: rgb(255, 255, 255);\">s</span><span style=\"background-color: rgb(255, 255, 255);\"> biomedical</span><span style=\"background-color: rgb(255, 255, 255);\"> research</span><span style=\"background-color: rgb(255, 255, 255);\"> and</span><span style=\"background-color: rgb(255, 255, 255);\"> development</span><span style=\"background-color: rgb(255, 255, 255);\"> capability</span><span style=\"background-color: rgb(255, 255, 255);\">.</span><span style=\"background-color: rgb(255, 255, 255);\"> It</span><span style=\"background-color: rgb(255, 255, 255);\"> will</span><span style=\"background-color: rgb(255, 255, 255);\"> trigger</span><span style=\"background-color: rgb(255, 255, 255);\"> a</span><span style=\"background-color: rgb(255, 255, 255);\"> substantial</span><span style=\"background-color: rgb(255, 255, 255);\"> investment</span><span style=\"background-color: rgb(255, 255, 255);\"> in</span><span style=\"background-color: rgb(255, 255, 255);\"> the</span><span style=\"background-color: rgb(255, 255, 255);\"> UK</span><span style=\"background-color: rgb(255, 255, 255);\"> by</span><span style=\"background-color: rgb(255, 255, 255);\"> pharmaceutical</span><span style=\"background-color: rgb(255, 255, 255);\"> companies</span><span style=\"background-color: rgb(255, 255, 255);\">,</span><span style=\"background-color: rgb(255, 255, 255);\"> creating</span><span style=\"background-color: rgb(255, 255, 255);\"> high</span><span style=\"background-color: rgb(255, 255, 255);\"> value</span><span style=\"background-color: rgb(255, 255, 255);\"> jobs</span><span style=\"background-color: rgb(255, 255, 255);\">,</span><span style=\"background-color: rgb(255, 255, 255);\"> scientific</span><span style=\"background-color: rgb(255, 255, 255);\"> advances</span><span style=\"background-color: rgb(255, 255, 255);\">,</span><span style=\"background-color: rgb(255, 255, 255);\"> and</span><span style=\"background-color: rgb(255, 255, 255);\"> ground</span><span style=\"background-color: rgb(255, 255, 255);\">-</span><span style=\"background-color: rgb(255, 255, 255);\">breaking</span><span style=\"background-color: rgb(255, 255, 255);\"> improvements</span><span style=\"background-color: rgb(255, 255, 255);\"> in</span><span style=\"background-color: rgb(255, 255, 255);\"> healthcare</span><span style=\"background-color: rgb(255, 255, 255);\">.</span><span style=\"background-color: rgb(255, 255, 255);\">&lt;eos&gt;</span><span style=\"background-color: rgb(255, 255, 255);\">&quot;&quot;&quot;</span><span style=\"background-color: rgb(255, 255, 255);\">\n",
       "</span><span style=\"background-color: rgb(255, 255, 255);\">@</span></p><p>Max Activation: 41.7500:</p><p><span style=\"background-color: rgb(255, 255, 255);\">\n",
       "</span><span style=\"background-color: rgb(255, 255, 255);\">s</span><span style=\"background-color: rgb(255, 255, 255);\"> and</span><span style=\"background-color: rgb(255, 255, 255);\"> </span><span style=\"background-color: rgb(255, 255, 255);\">1</span><span style=\"background-color: rgb(255, 255, 255);\">9</span><span style=\"background-color: rgb(255, 255, 255);\">8</span><span style=\"background-color: rgb(255, 255, 255);\">0</span><span style=\"background-color: rgb(255, 255, 255);\">s</span><span style=\"background-color: rgb(255, 255, 255);\"> saw</span><span style=\"background-color: rgb(255, 255, 255);\"> the</span><span style=\"background-color: rgb(255, 192, 192);\"> Tokyo</span><span style=\"background-color: rgb(255, 255, 255);\"> Stock</span><span style=\"background-color: rgb(255, 255, 255);\"> Exchange</span><span style=\"background-color: rgb(255, 255, 255);\"> take</span><span style=\"background-color: rgb(255, 255, 255);\"> over</span><span style=\"background-color: rgb(255, 255, 255);\"> the</span><span style=\"background-color: rgb(255, 255, 255);\"> number</span><span style=\"background-color: rgb(255, 255, 255);\"> two</span><span style=\"background-color: rgb(255, 255, 255);\"> position</span><span style=\"background-color: rgb(255, 255, 255);\">.</span><span style=\"background-color: rgb(255, 255, 255);\">\n",
       "</span><span style=\"background-color: rgb(255, 255, 255);\">Nonetheless</span><span style=\"background-color: rgb(255, 255, 255);\">,</span><span style=\"background-color: rgb(255, 44, 44);\"> London</span><span style=\"background-color: rgb(255, 255, 255);\"> remained</span><span style=\"background-color: rgb(255, 255, 255);\"> the</span><span style=\"background-color: rgb(255, 255, 255);\"> center</span><span style=\"background-color: rgb(255, 255, 255);\"> of</span><span style=\"background-color: rgb(255, 255, 255);\"> the</span><span style=\"background-color: rgb(255, 255, 255);\"> European</span><span style=\"background-color: rgb(255, 255, 255);\"> community</span><span style=\"background-color: rgb(255, 255, 255);\">&#x27;</span><span style=\"background-color: rgb(255, 255, 255);\">s</span><span style=\"background-color: rgb(255, 255, 255);\"> financial</span><span style=\"background-color: rgb(255, 255, 255);\"> markets</span><span style=\"background-color: rgb(255, 255, 255);\">,</span><span style=\"background-color: rgb(255, 255, 255);\"> and</span><span style=\"background-color: rgb(255, 255, 255);\"> the</span><span style=\"background-color: rgb(255, 255, 255);\"> L</span><span style=\"background-color: rgb(255, 255, 255);\">SE</span><span style=\"background-color: rgb(255, 255, 255);\"> gained</span><span style=\"background-color: rgb(255, 255, 255);\"> increasing</span><span style=\"background-color: rgb(255, 255, 255);\"> importance</span><span style=\"background-color: rgb(255, 255, 255);\"> in</span><span style=\"background-color: rgb(255, 255, 255);\"> the</span><span style=\"background-color: rgb(255, 255, 255);\"> market</span><span style=\"background-color: rgb(255, 255, 255);\"> for</span><span style=\"background-color: rgb(255, 255, 255);\"> international</span><span style=\"background-color: rgb(255, 255, 255);\"> stocks</span><span style=\"background-color: rgb(255, 255, 255);\">.</span><span style=\"background-color: rgb(255, 53, 53);\"> London</span><span style=\"background-color: rgb(255, 255, 255);\"> was</span><span style=\"background-color: rgb(255, 255, 255);\"> also</span><span style=\"background-color: rgb(255, 255, 255);\"> to</span><span style=\"background-color: rgb(255, 255, 255);\"> figure</span><span style=\"background-color: rgb(255, 255, 255);\"> prominently</span><span style=\"background-color: rgb(255, 255, 255);\"> as</span><span style=\"background-color: rgb(255, 255, 255);\"> the</span><span style=\"background-color: rgb(255, 255, 255);\"> undisputed</span><span style=\"background-color: rgb(255, 255, 255);\"> financial</span><span style=\"background-color: rgb(255, 255, 255);\"> center</span><span style=\"background-color: rgb(255, 255, 255);\"> of</span><span style=\"background-color: rgb(255, 255, 255);\"> the</span><span style=\"background-color: rgb(255, 255, 255);\"> then</span><span style=\"background-color: rgb(255, 255, 255);\">-</span><span style=\"background-color: rgb(255, 255, 255);\">forming</span><span style=\"background-color: rgb(255, 255, 255);\"> European</span><span style=\"background-color: rgb(255, 255, 255);\"> Union</span><span style=\"background-color: rgb(255, 255, 255);\">.</span><span style=\"background-color: rgb(255, 255, 255);\"> Meanwhile</span><span style=\"background-color: rgb(255, 255, 255);\">,</span><span style=\"background-color: rgb(255, 255, 255);\"> the</span><span style=\"background-color: rgb(255, 255, 255);\"> stock</span><span style=\"background-color: rgb(255, 255, 255);\"> markets</span><span style=\"background-color: rgb(255, 255, 255);\"> were</span><span style=\"background-color: rgb(255, 255, 255);\"> attracting</span><span style=\"background-color: rgb(255, 255, 255);\"> larger</span><span style=\"background-color: rgb(255, 255, 255);\"> numbers</span><span style=\"background-color: rgb(255, 255, 255);\"> of</span><span style=\"background-color: rgb(255, 255, 255);\"> investors</span><span style=\"background-color: rgb(255, 255, 255);\">,</span><span style=\"background-color: rgb(255, 255, 255);\"> and</span><span style=\"background-color: rgb(255, 255, 255);\"> especially</span><span style=\"background-color: rgb(255, 255, 255);\"> investments</span><span style=\"background-color: rgb(255, 255, 255);\"> from</span><span style=\"background-color: rgb(255, 255, 255);\"> private</span><span style=\"background-color: rgb(255, 255, 255);\"> individuals</span><span style=\"background-color: rgb(255, 255, 255);\">.</span><span style=\"background-color: rgb(255, 255, 255);\"> The</span><span style=\"background-color: rgb(255, 255, 255);\"> Exchange</span><span style=\"background-color: rgb(255, 255, 255);\">&#x27;</span><span style=\"background-color: rgb(255, 255, 255);\">s</span><span style=\"background-color: rgb(255, 255, 255);\"> member</span><span style=\"background-color: rgb(255, 255, 255);\"> firms</span><span style=\"background-color: rgb(255, 255, 255);\"> saw</span><span style=\"background-color: rgb(255, 255, 255);\"> the</span><span style=\"background-color: rgb(255, 255, 255);\"> need</span><span style=\"background-color: rgb(255, 255, 255);\"> to</span><span style=\"background-color: rgb(255, 255, 255);\"> expand</span><span style=\"background-color: rgb(255, 255, 255);\"> their</span><span style=\"background-color: rgb(255, 255, 255);\"> broker</span><span style=\"background-color: rgb(255, 255, 255);\"> staff</span><span style=\"background-color: rgb(255, 255, 255);\"> to</span><span style=\"background-color: rgb(255, 255, 255);\"> accommodate</span><span style=\"background-color: rgb(255, 255, 255);\"> the</span><span style=\"background-color: rgb(255, 255, 255);\"> new</span><span style=\"background-color: rgb(255, 255, 255);\"> influx</span><span style=\"background-color: rgb(255, 255, 255);\"> of</span><span style=\"background-color: rgb(255, 255, 255);\"> investors</span><span style=\"background-color: rgb(255, 255, 255);\"> as</span><span style=\"background-color: rgb(255, 255, 255);\"> well</span><span style=\"background-color: rgb(255, 255, 255);\"> as</span><span style=\"background-color: rgb(255, 255, 255);\"> the</span><span style=\"background-color: rgb(255, 255, 255);\"> new</span><span style=\"background-color: rgb(255, 255, 255);\"> investment</span><span style=\"background-color: rgb(255, 255, 255);\"> products</span><span style=\"background-color: rgb(255, 255, 255);\"> being</span><span style=\"background-color: rgb(255, 255, 255);\"> introduced</span><span style=\"background-color: rgb(255, 255, 255);\"> at</span><span style=\"background-color: rgb(255, 255, 255);\"> the</span><span style=\"background-color: rgb(255, 255, 255);\"> time</span><span style=\"background-color: rgb(255, 255, 255);\">.</span><span style=\"background-color: rgb(255, 255, 255);\"> The</span><span style=\"background-color: rgb(255, 255, 255);\"> increasing</span></p><p>Max Activation: 41.0000:</p><p><span style=\"background-color: rgb(255, 255, 255);\">\n",
       "</span><span style=\"background-color: rgb(255, 255, 255);\">main</span><span style=\"background-color: rgb(255, 255, 255);\">__&#x27;,</span><span style=\"background-color: rgb(255, 255, 255);\"> &#x27;__</span><span style=\"background-color: rgb(255, 255, 255);\">builtin</span><span style=\"background-color: rgb(255, 255, 255);\">__&#x27;,</span><span style=\"background-color: rgb(255, 255, 255);\"> &#x27;</span><span style=\"background-color: rgb(255, 255, 255);\">builtins</span><span style=\"background-color: rgb(255, 255, 255);\">&#x27;):</span><span style=\"background-color: rgb(255, 255, 255);\">\n",
       "</span><span style=\"background-color: rgb(255, 255, 255);\">    </span><span style=\"background-color: rgb(255, 255, 255);\">main</span><span style=\"background-color: rgb(255, 255, 255);\">()</span><span style=\"background-color: rgb(255, 255, 255);\">\n",
       "</span><span style=\"background-color: rgb(255, 255, 255);\">&lt;eos&gt;</span><span style=\"background-color: rgb(255, 255, 255);\">We</span><span style=\"background-color: rgb(255, 255, 255);\"> spent</span><span style=\"background-color: rgb(255, 255, 255);\"> a</span><span style=\"background-color: rgb(255, 255, 255);\"> lovely</span><span style=\"background-color: rgb(255, 255, 255);\"> January</span><span style=\"background-color: rgb(255, 255, 255);\"> evening</span><span style=\"background-color: rgb(255, 255, 255);\"> in</span><span style=\"background-color: rgb(255, 255, 255);\"> Brighton</span><span style=\"background-color: rgb(255, 255, 255);\"> recording</span><span style=\"background-color: rgb(255, 255, 255);\"> a</span><span style=\"background-color: rgb(255, 255, 255);\"> live</span><span style=\"background-color: rgb(255, 255, 255);\"> set</span><span style=\"background-color: rgb(255, 255, 255);\"> for</span><span style=\"background-color: rgb(255, 255, 255);\"> Sof</span><span style=\"background-color: rgb(255, 255, 255);\">ar</span><span style=\"background-color: rgb(255, 255, 255);\"> Sounds</span><span style=\"background-color: rgb(255, 255, 255);\">,</span><span style=\"background-color: rgb(255, 255, 255);\"> the</span><span style=\"background-color: rgb(255, 255, 255);\"> pur</span><span style=\"background-color: rgb(255, 255, 255);\">vey</span><span style=\"background-color: rgb(255, 255, 255);\">ors</span><span style=\"background-color: rgb(255, 255, 255);\"> of</span><span style=\"background-color: rgb(255, 255, 255);\"> fine</span><span style=\"background-color: rgb(255, 255, 255);\"> house</span><span style=\"background-color: rgb(255, 255, 255);\"> concerts</span><span style=\"background-color: rgb(255, 255, 255);\">.</span><span style=\"background-color: rgb(255, 255, 255);\"> And</span><span style=\"background-color: rgb(255, 255, 255);\"> then</span><span style=\"background-color: rgb(255, 255, 255);\"> I</span><span style=\"background-color: rgb(255, 255, 255);\"> did</span><span style=\"background-color: rgb(255, 255, 255);\"> one</span><span style=\"background-color: rgb(255, 255, 255);\"> myself</span><span style=\"background-color: rgb(255, 255, 255);\"> in</span><span style=\"background-color: rgb(255, 47, 47);\"> London</span><span style=\"background-color: rgb(255, 255, 255);\"> about</span><span style=\"background-color: rgb(255, 255, 255);\"> a</span><span style=\"background-color: rgb(255, 255, 255);\"> week</span><span style=\"background-color: rgb(255, 255, 255);\"> or</span><span style=\"background-color: rgb(255, 255, 255);\"> so</span><span style=\"background-color: rgb(255, 255, 255);\"> later</span><span style=\"background-color: rgb(255, 255, 255);\">.</span><span style=\"background-color: rgb(255, 255, 255);\"> Here</span><span style=\"background-color: rgb(255, 255, 255);\"> are</span><span style=\"background-color: rgb(255, 255, 255);\"> the</span><span style=\"background-color: rgb(255, 255, 255);\"> results</span><span style=\"background-color: rgb(255, 255, 255);\">.</span><span style=\"background-color: rgb(255, 255, 255);\">\n",
       "</span><span style=\"background-color: rgb(255, 255, 255);\">What</span><span style=\"background-color: rgb(255, 255, 255);\"> else</span><span style=\"background-color: rgb(255, 255, 255);\">?</span><span style=\"background-color: rgb(255, 255, 255);\"> Tom</span><span style=\"background-color: rgb(255, 255, 255);\"> Ravens</span><span style=\"background-color: rgb(255, 255, 255);\">croft</span><span style=\"background-color: rgb(255, 255, 255);\"> played</span><span style=\"background-color: rgb(255, 255, 255);\"> our</span><span style=\"background-color: rgb(255, 255, 255);\"> song</span><span style=\"background-color: rgb(255, 255, 255);\">,</span><span style=\"background-color: rgb(255, 255, 255);\"> Ob</span><span style=\"background-color: rgb(255, 255, 255);\">ituaries</span><span style=\"background-color: rgb(255, 255, 255);\">.</span><span style=\"background-color: rgb(255, 255, 255);\"> Thanks</span><span style=\"background-color: rgb(255, 255, 255);\"> Tom</span><span style=\"background-color: rgb(255, 255, 255);\">!</span><span style=\"background-color: rgb(255, 255, 255);\">&lt;eos&gt;</span><span style=\"background-color: rgb(255, 255, 255);\">#!/</span><span style=\"background-color: rgb(255, 255, 255);\">usr</span><span style=\"background-color: rgb(255, 255, 255);\">/</span><span style=\"background-color: rgb(255, 255, 255);\">bin</span><span style=\"background-color: rgb(255, 255, 255);\">/</span><span style=\"background-color: rgb(255, 255, 255);\">env</span><span style=\"background-color: rgb(255, 255, 255);\"> python</span><span style=\"background-color: rgb(255, 255, 255);\">\n",
       "</span><span style=\"background-color: rgb(255, 255, 255);\">#</span><span style=\"background-color: rgb(255, 255, 255);\">\n",
       "</span><span style=\"background-color: rgb(255, 255, 255);\">#</span><span style=\"background-color: rgb(255, 255, 255);\"> read</span><span style=\"background-color: rgb(255, 255, 255);\"> and</span><span style=\"background-color: rgb(255, 255, 255);\"> plot</span><span style=\"background-color: rgb(255, 255, 255);\"> audio</span><span style=\"background-color: rgb(255, 255, 255);\"> file</span><span style=\"background-color: rgb(255, 255, 255);\">\n",
       "</span><span style=\"background-color: rgb(255, 255, 255);\">#</span><span style=\"background-color: rgb(255, 255, 255);\">\n",
       "\n",
       "</span><span style=\"background-color: rgb(255, 255, 255);\">import</span><span style=\"background-color: rgb(255, 255, 255);\"> numpy</span><span style=\"background-color: rgb(255, 255, 255);\"> as</span><span style=\"background-color: rgb(255, 255, 255);\"> np</span><span style=\"background-color: rgb(255, 255, 255);\">\n",
       "</span><span style=\"background-color: rgb(255, 255, 255);\">import</span><span style=\"background-color: rgb(255, 255, 255);\"> matplotlib</span><span style=\"background-color: rgb(255, 255, 255);\">.</span><span style=\"background-color: rgb(255, 255, 255);\">pyplot</span><span style=\"background-color: rgb(255, 255, 255);\"> as</span><span style=\"background-color: rgb(255, 255, 255);\"> plt</span><span style=\"background-color: rgb(255, 255, 255);\">;</span><span style=\"background-color: rgb(255, 255, 255);\">\n",
       "</span><span style=\"background-color: rgb(255, 255, 255);\">import</span><span style=\"background-color: rgb(255, 255, 255);\"> struct</span><span style=\"background-color: rgb(255, 255, 255);\">\n",
       "</span><span style=\"background-color: rgb(255, 255, 255);\">import</span><span style=\"background-color: rgb(255, 255, 255);\"> sys</span><span style=\"background-color: rgb(255, 255, 255);\">,</span><span style=\"background-color: rgb(255, 255, 255);\"> os</span><span style=\"background-color: rgb(255, 255, 255);\">\n",
       "</span><span style=\"background-color: rgb(255, 255, 255);\">import</span><span style=\"background-color: rgb(255, 255, 255);\"> argparse</span><span style=\"background-color: rgb(255, 255, 255);\">\n",
       "</span><span style=\"background-color: rgb(255, 255, 255);\">import</span><span style=\"background-color: rgb(255, 255, 255);\"> scipy</span><span style=\"background-color: rgb(255, 255, 255);\">.</span></p>"
      ],
      "text/plain": [
       "<IPython.core.display.HTML object>"
      ]
     },
     "metadata": {},
     "output_type": "display_data"
    }
   ],
   "source": [
    "ft_id = 4457\n",
    "# ft_id = 10423\n",
    "\n",
    "\n",
    "samples = ready_tokens[top_k_indices[ft_id]]\n",
    "\n",
    "acts = acts_for_feature(samples, ft_id)\n",
    "acts\n",
    "\n",
    "display_highlighted_tokens(samples[:, 3:], acts[:, 3:], model.tokenizer)"
   ]
  },
  {
   "cell_type": "code",
   "execution_count": 68,
   "metadata": {},
   "outputs": [
    {
     "name": "stdout",
     "output_type": "stream",
     "text": [
      "torch.Size([10, 14])\n",
      "['<bos>', '<start_of_turn>', 'user', '\\n', 'Tell', ' me', ' a', ' fun', ' fact', '<end_of_turn>', '\\n', '<start_of_turn>', 'model', '\\n']\n"
     ]
    }
   ],
   "source": [
    "# steer model\n",
    "text = \"Tell me a fun fact\"\n",
    "toks = model.tokenizer.apply_chat_template([{\"role\": \"user\", \"content\": text}], return_tensors='pt', add_generation_prompt=True)\n",
    "toks = toks.expand(10, -1)\n",
    "print(toks.shape)\n",
    "print(model.to_str_tokens(toks[0]))\n",
    "toks = toks.to(device)\n"
   ]
  },
  {
   "cell_type": "code",
   "execution_count": 71,
   "metadata": {},
   "outputs": [
    {
     "data": {
      "application/vnd.jupyter.widget-view+json": {
       "model_id": "1750c62ce0ad4637a604506ff26414c0",
       "version_major": 2,
       "version_minor": 0
      },
      "text/plain": [
       "  0%|          | 0/40 [00:00<?, ?it/s]"
      ]
     },
     "metadata": {},
     "output_type": "display_data"
    },
    {
     "data": {
      "text/plain": [
       "[\"<bos><start_of_turn>user\\nTell me a fun fact<end_of_turn>\\n<start_of_turn>model\\nA group of owls is called a parliament! 🦉🏛️  Isn't that a hoot?  🦉 \\n\\n\\n\\nDid you know another fun fact?<end_of_turn>\\n<eos><eos><eos><eos><eos>\",\n",
       " \"<bos><start_of_turn>user\\nTell me a fun fact<end_of_turn>\\n<start_of_turn>model\\nIt snows metal on Venus!  \\n\\nBecause Venus is so hot, the metal in its atmosphere vaporizes and then condenses into metallic snow that falls on the planet's surface. ✨🪐  \",\n",
       " \"<bos><start_of_turn>user\\nTell me a fun fact<end_of_turn>\\n<start_of_turn>model\\nDid you know that a group of owls is called a parliament? 🦉🏛️  Isn't that a hoot? 😊<end_of_turn>\\n<eos><eos><eos><eos><eos><eos><eos><eos><eos><eos><eos>\",\n",
       " \"<bos><start_of_turn>user\\nTell me a fun fact<end_of_turn>\\n<start_of_turn>model\\nIt takes about 8 minutes for light from the sun to reach Earth! ☀️🌎  That means when you see the sun, you're actually seeing it as it was 8 minutes ago\",\n",
       " \"<bos><start_of_turn>user\\nTell me a fun fact<end_of_turn>\\n<start_of_turn>model\\nDid you know that a group of owls is called a parliament? 🦉🏛️  Isn't that a wise gathering?<end_of_turn>\\n<eos><eos><eos><eos><eos><eos><eos><eos><eos><eos><eos><eos>\",\n",
       " \"<bos><start_of_turn>user\\nTell me a fun fact<end_of_turn>\\n<start_of_turn>model\\nOtters hold hands while they sleep so they don't drift apart in the current! 🦦💖🦦  Isn't that adorable?<end_of_turn>\\n<eos><eos><eos><eos><eos><eos><eos><eos><eos>\",\n",
       " \"<bos><start_of_turn>user\\nTell me a fun fact<end_of_turn>\\n<start_of_turn>model\\nIt's illegal to own only one guinea pig in Switzerland! 🐹\\n\\nThey are social animals and need a companion to keep them happy and healthy.  🇨🇭<end_of_turn>\\n<eos><eos><eos><eos>\",\n",
       " \"<bos><start_of_turn>user\\nTell me a fun fact<end_of_turn>\\n<start_of_turn>model\\nThere's a species of jellyfish that's essentially immortal! \\n\\nThe Turritopsis dohrnii can revert back to its polyp stage after becoming sexually mature, meaning it can theoretically live forever\",\n",
       " \"<bos><start_of_turn>user\\nTell me a fun fact<end_of_turn>\\n<start_of_turn>model\\nIt snows metal on Venus! ❄️🪐  \\n\\nAlthough it's scorching hot on the surface, the upper atmosphere of Venus has temperatures low enough for metallic compounds like lead sulfide and bismuth sulfide to\",\n",
       " '<bos><start_of_turn>user\\nTell me a fun fact<end_of_turn>\\n<start_of_turn>model\\nDid you know that there\\'s a species of jellyfish that\\'s essentially immortal? \\n\\nThe *Turritopsis dohrnii*, also known as the \"immortal jellyfish,\" can revert back to']"
      ]
     },
     "execution_count": 71,
     "metadata": {},
     "output_type": "execute_result"
    }
   ],
   "source": [
    "gen_toks = model.generate(toks, max_new_tokens=40)\n",
    "model.to_string(gen_toks)"
   ]
  },
  {
   "cell_type": "code",
   "execution_count": 74,
   "metadata": {},
   "outputs": [
    {
     "data": {
      "application/vnd.jupyter.widget-view+json": {
       "model_id": "8e528c6963ce4a809f42ef8531c8717d",
       "version_major": 2,
       "version_minor": 0
      },
      "text/plain": [
       "  0%|          | 0/40 [00:00<?, ?it/s]"
      ]
     },
     "metadata": {},
     "output_type": "display_data"
    },
    {
     "data": {
      "text/plain": [
       "[\"<bos><start_of_turn>user\\nTell me a fun fact<end_of_turn>\\n<start_of_turn>model\\nIt snows on average 155 days a year in the UK.  \\n\\nHere's another fun fact just for you: The world's smallest fire station is the  Cavendish Firestation\",\n",
       " \"<bos><start_of_turn>user\\nTell me a fun fact<end_of_turn>\\n<start_of_turn>model\\nIt's a fact that the world's first computer, called the Analytical Engine, was designed by Charles Babbage in the 19th century.<end_of_turn>\\n<eos><eos><eos><eos><eos><eos>\",\n",
       " \"<bos><start_of_turn>user\\nTell me a fun fact<end_of_turn>\\n<start_of_turn>model\\nThe world's oldest professional football club is Sheffield Wednesday, founded in 1864.<end_of_turn>\\n<eos><eos><eos><eos><eos><eos><eos><eos><eos><eos><eos><eos><eos><eos><eos><eos><eos><eos>\",\n",
       " \"<bos><start_of_turn>user\\nTell me a fun fact<end_of_turn>\\n<start_of_turn>model\\nDid you know that the world's oldest coin, the penny, has been in circulation for over 1,000 years? 🪙<end_of_turn>\\n<eos><eos><eos><eos><eos><eos><eos><eos>\",\n",
       " '<bos><start_of_turn>user\\nTell me a fun fact<end_of_turn>\\n<start_of_turn>model\\nOtters have a high body fat percentage compared to other mammals. 🦦  This is partly due to their fondness for fatty foods and rich, creamy sauces.<end_of_turn>\\n<eos><eos><eos><eos><eos><eos>',\n",
       " \"<bos><start_of_turn>user\\nTell me a fun fact<end_of_turn>\\n<start_of_turn>model\\nIt is illegal to throw a rabbit into a well in the United Kingdom. 🐇🕳️  \\n\\nThis is, of course, a long-standing urban legend (though I've found that\",\n",
       " \"<bos><start_of_turn>user\\nTell me a fun fact<end_of_turn>\\n<start_of_turn>model\\nDid you know that the world's smallest pub is called The Old Fighting Cock, located in London? 🍻<end_of_turn><eos><eos><eos><eos><eos><eos><eos><eos><eos><eos><eos><eos><eos><eos><eos><eos>\",\n",
       " '<bos><start_of_turn>user\\nTell me a fun fact<end_of_turn>\\n<start_of_turn>model\\nIt\\'s illegal to throw a \"shell-less pea\" in prison! \\n\\n(This is a play on words because you can\\'t throw a pea without its shell! It\\'s',\n",
       " \"<bos><start_of_turn>user\\nTell me a fun fact<end_of_turn>\\n<start_of_turn>model\\nDid you know that the world's smallest pub is called The Mutiny Arms, and is located in the UK? \\n\\nIt has a cozy interior and serves up classic British fare.<end_of_turn>\\n\",\n",
       " '<bos><start_of_turn>user\\nTell me a fun fact<end_of_turn>\\n<start_of_turn>model\\nThe world\\'s smallest pub is called \"The snug\" and is located in London. It\\'s so small that only 8 people could fit inside at any one time.<end_of_turn>\\n<eos><eos>']"
      ]
     },
     "execution_count": 74,
     "metadata": {},
     "output_type": "execute_result"
    }
   ],
   "source": [
    "with model.hooks([(hp, partial(patch_resid, steering=britain, scale=150))]):\n",
    "    gen_toks = model.generate(toks, max_new_tokens=40)\n",
    "model.to_string(gen_toks)"
   ]
  },
  {
   "cell_type": "code",
   "execution_count": null,
   "metadata": {},
   "outputs": [],
   "source": []
  }
 ],
 "metadata": {
  "kernelspec": {
   "display_name": ".venv",
   "language": "python",
   "name": "python3"
  },
  "language_info": {
   "codemirror_mode": {
    "name": "ipython",
    "version": 3
   },
   "file_extension": ".py",
   "mimetype": "text/x-python",
   "name": "python",
   "nbconvert_exporter": "python",
   "pygments_lexer": "ipython3",
   "version": "3.10.13"
  }
 },
 "nbformat": 4,
 "nbformat_minor": 2
}
