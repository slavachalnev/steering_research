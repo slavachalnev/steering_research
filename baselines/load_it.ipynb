{
 "cells": [
  {
   "cell_type": "code",
   "execution_count": 1,
   "metadata": {},
   "outputs": [
    {
     "data": {
      "text/plain": [
       "<torch.autograd.grad_mode.set_grad_enabled at 0x7f844407e7d0>"
      ]
     },
     "execution_count": 1,
     "metadata": {},
     "output_type": "execute_result"
    }
   ],
   "source": [
    "import os\n",
    "import sys\n",
    "sys.path.append(os.path.abspath('..'))\n",
    "\n",
    "import torch\n",
    "import torch.nn.functional as F\n",
    "from torch.utils.data import DataLoader, Dataset\n",
    "from transformer_lens import HookedTransformer\n",
    "from transformer_lens import utils as tutils\n",
    "from transformer_lens.evals import make_pile_data_loader, evaluate_on_dataset\n",
    "\n",
    "from functools import partial\n",
    "from datasets import load_dataset\n",
    "from tqdm import tqdm\n",
    "import json\n",
    "\n",
    "import einops\n",
    "\n",
    "from sae_lens import SAE\n",
    "\n",
    "from steering.evals_utils import evaluate_completions, multi_criterion_evaluation\n",
    "from steering.utils import normalise_decoder, text_to_sae_feats, top_activations\n",
    "from steering.patch import generate, scores_2d, patch_resid\n",
    "\n",
    "\n",
    "import plotly.express as px\n",
    "import plotly.graph_objects as go\n",
    "from plotly.subplots import make_subplots\n",
    "import pandas as pd\n",
    "\n",
    "from IPython.display import HTML, display\n",
    "import html\n",
    "\n",
    "\n",
    "import numpy as np\n",
    "torch.set_grad_enabled(False)"
   ]
  },
  {
   "cell_type": "code",
   "execution_count": 2,
   "metadata": {},
   "outputs": [],
   "source": [
    "os.environ['GEMMA_2_SAE_WEIGHTS_ROOT'] = '/workspace/gemmasaes'"
   ]
  },
  {
   "cell_type": "code",
   "execution_count": 3,
   "metadata": {},
   "outputs": [
    {
     "name": "stderr",
     "output_type": "stream",
     "text": [
      "WARNING:root:You tried to specify center_unembed=True for a model using logit softcap, but this can't be done! Softcapping is not invariant upon adding a constantSetting center_unembed=False instead.\n"
     ]
    },
    {
     "data": {
      "application/vnd.jupyter.widget-view+json": {
       "model_id": "fef066e6985f443dbe92d12eeb13265c",
       "version_major": 2,
       "version_minor": 0
      },
      "text/plain": [
       "Loading checkpoint shards:   0%|          | 0/4 [00:00<?, ?it/s]"
      ]
     },
     "metadata": {},
     "output_type": "display_data"
    },
    {
     "name": "stderr",
     "output_type": "stream",
     "text": [
      "WARNING:root:With reduced precision, it is advised to use `from_pretrained_no_processing` instead of `from_pretrained`.\n",
      "WARNING:root:You are not using LayerNorm, so the writing weights can't be centered! Skipping\n"
     ]
    },
    {
     "name": "stdout",
     "output_type": "stream",
     "text": [
      "Loaded pretrained model google/gemma-2-9b-it into HookedTransformer\n"
     ]
    }
   ],
   "source": [
    "device = torch.device(\"cuda\" if torch.cuda.is_available() else \"cpu\")\n",
    "model: HookedTransformer = HookedTransformer.from_pretrained(\"google/gemma-2-9b-it\", device=device, dtype=torch.float16)"
   ]
  },
  {
   "cell_type": "code",
   "execution_count": 4,
   "metadata": {},
   "outputs": [
    {
     "data": {
      "text/plain": [
       "{'bos_token': '<bos>',\n",
       " 'eos_token': '<eos>',\n",
       " 'unk_token': '<unk>',\n",
       " 'pad_token': '<pad>',\n",
       " 'additional_special_tokens': ['<start_of_turn>', '<end_of_turn>']}"
      ]
     },
     "execution_count": 4,
     "metadata": {},
     "output_type": "execute_result"
    }
   ],
   "source": [
    "model.tokenizer.special_tokens_map"
   ]
  },
  {
   "cell_type": "code",
   "execution_count": 5,
   "metadata": {},
   "outputs": [
    {
     "data": {
      "text/plain": [
       "tensor([[    2,   106,  1645,   108,  5559,   476, 25957,  2134,  2733,   107,\n",
       "           108,   106,  2516,   108]])"
      ]
     },
     "execution_count": 5,
     "metadata": {},
     "output_type": "execute_result"
    }
   ],
   "source": [
    "chat = [[\n",
    "    {\"role\": \"user\", \"content\": \"Write a Hello world program\"},\n",
    "]]\n",
    "tokens = model.tokenizer.apply_chat_template(chat, add_generation_prompt=True, return_tensors='pt')\n",
    "tokens"
   ]
  },
  {
   "cell_type": "code",
   "execution_count": 6,
   "metadata": {},
   "outputs": [
    {
     "data": {
      "application/vnd.jupyter.widget-view+json": {
       "model_id": "bbbf11be5b7243bab6c2ccf571c63293",
       "version_major": 2,
       "version_minor": 0
      },
      "text/plain": [
       "  0%|          | 0/20 [00:00<?, ?it/s]"
      ]
     },
     "metadata": {},
     "output_type": "display_data"
    },
    {
     "data": {
      "text/plain": [
       "['<bos><start_of_turn>user\\nWrite a Hello world program<end_of_turn>\\n<start_of_turn>model\\n```python\\nprint(\"Hello, world!\")\\n```\\n\\n**Explanation:**\\n\\n* **`print']"
      ]
     },
     "execution_count": 6,
     "metadata": {},
     "output_type": "execute_result"
    }
   ],
   "source": [
    "gen_toks = model.generate(tokens, max_new_tokens=20)\n",
    "model.to_string(gen_toks)"
   ]
  },
  {
   "cell_type": "code",
   "execution_count": 7,
   "metadata": {},
   "outputs": [
    {
     "name": "stdout",
     "output_type": "stream",
     "text": [
      "torch.Size([222989, 125])\n"
     ]
    }
   ],
   "source": [
    "SEQ_LEN = 128 - 4 + 1 # 4 for the special tokens at the start, 1 because we'll cut bos.\n",
    "\n",
    "# Load in the data (it's a Dataset object)\n",
    "data = load_dataset(\"NeelNanda/c4-code-20k\", split=\"train\")\n",
    "# print(data)\n",
    "# assert isinstance(data, Dataset)\n",
    "\n",
    "# Tokenize the data (using a utils function) and shuffle it\n",
    "tokenized_data = tutils.tokenize_and_concatenate(data, model.tokenizer, max_length=SEQ_LEN) # type: ignore\n",
    "tokenized_data = tokenized_data.shuffle(42)\n",
    "\n",
    "# Get the tokens as a tensor\n",
    "all_tokens = tokenized_data[\"tokens\"]\n",
    "assert isinstance(all_tokens, torch.Tensor)\n",
    "\n",
    "print(all_tokens.shape)"
   ]
  },
  {
   "cell_type": "code",
   "execution_count": 8,
   "metadata": {},
   "outputs": [
    {
     "name": "stdout",
     "output_type": "stream",
     "text": [
      "torch.Size([4])\n",
      "['<bos>', '<start_of_turn>', 'user', '\\n']\n"
     ]
    },
    {
     "data": {
      "text/plain": [
       "tensor([   2,  106, 1645,  108])"
      ]
     },
     "execution_count": 8,
     "metadata": {},
     "output_type": "execute_result"
    }
   ],
   "source": [
    "pre_tokens = model.tokenizer.apply_chat_template([{\"role\": \"user\", \"content\": \"\"}], return_tensors='pt')[0][:4]\n",
    "print(pre_tokens.shape)\n",
    "print(model.to_str_tokens(pre_tokens))\n",
    "pre_tokens"
   ]
  },
  {
   "cell_type": "code",
   "execution_count": 9,
   "metadata": {},
   "outputs": [
    {
     "data": {
      "text/plain": [
       "torch.Size([222989, 128])"
      ]
     },
     "execution_count": 9,
     "metadata": {},
     "output_type": "execute_result"
    }
   ],
   "source": [
    "n_samples = all_tokens.shape[0]\n",
    "ready_tokens = torch.cat([pre_tokens.expand(n_samples, -1), all_tokens[:, 1:]], dim=1)\n",
    "ready_tokens.shape"
   ]
  },
  {
   "cell_type": "code",
   "execution_count": 10,
   "metadata": {},
   "outputs": [
    {
     "name": "stdout",
     "output_type": "stream",
     "text": [
      "['<bos>', '<start_of_turn>', 'user', '\\n', ' instance', ' of', ' Transition', ' class', '.', '\\n\\n', '    ', 'Args', ':', '\\n', '      ', 'sess', ' (:', 'obj', ':`', 'tf', '.', 'Session', '`', '):', ' This', ' attribute', ' represents', ' the', ' session', ' that', ' runs', '\\n', '        ', 'the', ' TensorFlow', ' operations', '.', '\\n', '      ', 'name', ' (', 'str', '):', ' This', ' attribute', ' represents', ' the', ' name', ' of', ' the', ' object', ' in', '\\n', '        ', 'Tensor', 'Flow', \"'\", 's', ' op', ' Graph', '.', '\\n', '      ', 'graph', ' (:', 'obj', ':`', 'tf', 'graph', '.', 'Graph', '`', '):', '  ', 'The', ' graph', ' on', ' which', ' the', ' transition', ' is', ' referred', '.', '\\n', '      ', 'beta', ' (', 'float', '):', ' The', ' reset', ' probability', ' of', ' the', ' random', ' walks', ',', ' i', '.', 'e', '.', ' the', '\\n', '        ', 'probability', ' that', ' a', ' user', ' that', ' sur', 'fs', ' the', ' graph', ' an', ' decides', ' to', ' jump', ' to', '\\n', '        ', 'another', ' vertex', ' not', ' connected', ' to', ' the', ' current', '.']\n"
     ]
    }
   ],
   "source": [
    "print(model.to_str_tokens(ready_tokens[4]))"
   ]
  },
  {
   "cell_type": "code",
   "execution_count": 11,
   "metadata": {},
   "outputs": [
    {
     "data": {
      "text/plain": [
       "SAE(\n",
       "  (activation_fn): ReLU()\n",
       "  (hook_sae_input): HookPoint()\n",
       "  (hook_sae_acts_pre): HookPoint()\n",
       "  (hook_sae_acts_post): HookPoint()\n",
       "  (hook_sae_output): HookPoint()\n",
       "  (hook_sae_recons): HookPoint()\n",
       "  (hook_sae_error): HookPoint()\n",
       ")"
      ]
     },
     "execution_count": 11,
     "metadata": {},
     "output_type": "execute_result"
    }
   ],
   "source": [
    "# sae_layer = 9\n",
    "# hp = f\"blocks.{sae_layer}.hook_resid_post\"\n",
    "# sae, _, _ = SAE.from_pretrained(\n",
    "#     release = \"gemma-2-it-saes\",\n",
    "#     sae_id = \"9/post_mlp_residual/16384/0_00045\",\n",
    "#     device = 'cpu'\n",
    "# )\n",
    "# sae.to(device)\n",
    "sae_layer = 20\n",
    "hp = f\"blocks.{sae_layer}.hook_resid_post\"\n",
    "sae, _, _ = SAE.from_pretrained(\n",
    "    release = \"gemma-2-it-saes\",\n",
    "    sae_id = \"20/post_mlp_residual/16384/0_00045\",\n",
    "    device = 'cpu'\n",
    ")\n",
    "sae.to(device)"
   ]
  },
  {
   "cell_type": "code",
   "execution_count": 12,
   "metadata": {},
   "outputs": [
    {
     "name": "stdout",
     "output_type": "stream",
     "text": [
      "['<bos>', '<start_of_turn>', 'user', '\\n', 'Hello', ',', ' who', ' are', ' you', '?', '<end_of_turn>', '\\n', '<start_of_turn>', 'model', '\\n', 'I', ' am', ' the', ' Golden', ' Gate', ' Bridge', '<end_of_turn>', '\\n']\n"
     ]
    }
   ],
   "source": [
    "toks = model.tokenizer.apply_chat_template(\n",
    "    [\n",
    "        {\"role\": \"user\", \"content\": \"Hello, who are you?\"},\n",
    "        {\"role\": \"model\", \"content\": \"I am the Golden Gate Bridge\"},\n",
    "        ],\n",
    "    return_tensors='pt')[0]\n",
    "\n",
    "# text = \"I traveled to London\"\n",
    "# toks = model.tokenizer.apply_chat_template([{\"role\": \"user\", \"content\": text}], return_tensors='pt')[0]\n",
    "print(model.to_str_tokens(toks))\n",
    "toks = toks.to(device)\n",
    "\n",
    "_, acts = model.run_with_cache(toks, names_filter=hp)\n",
    "acts = acts[hp]\n",
    "\n",
    "all_sae_acts = []\n",
    "for batch in acts:\n",
    "    sae_acts = sae.encode(batch)\n",
    "    all_sae_acts.append(sae_acts)\n",
    "\n",
    "all_sae_acts = torch.stack(all_sae_acts, dim=0)"
   ]
  },
  {
   "cell_type": "code",
   "execution_count": 13,
   "metadata": {},
   "outputs": [
    {
     "data": {
      "text/plain": [
       "tensor([[[ 6802,  2122, 11299,  7697,   589, 14682,  4016,  5827, 10002,  1412],\n",
       "         [ 6802,  7697,  5823, 14587, 11299,  2599,  3444,  3892,  2122,  7806],\n",
       "         [ 6802,  7697,  5823, 14587, 11299,  2599,  3444,  7806,  3892, 11271],\n",
       "         [ 6802,  7697,  5823, 14587, 11299,  2599,  3444, 11271,  2122, 10002],\n",
       "         [12507,  5575,  6802,  4230,  7063, 14213, 12571, 11819, 11692,  5375],\n",
       "         [12507,  7063,  5575,  7155,  7933,  7567,  6802, 14213,  4230,  8029],\n",
       "         [ 6876, 12650,  1170, 14213, 14031,  6802, 12507, 11488, 13508,  5906],\n",
       "         [ 6876,  5906,  8641,  8580,  2431,  6802,  6532, 12650,  1054, 13508],\n",
       "         [ 6802, 11488, 13508, 14213,  8260,  6876,  3442,  2431,  5906, 13906],\n",
       "         [ 6802, 13508, 12021,  5906,  1054,  9918,  3442, 11488,  9422,  2431],\n",
       "         [ 6802,  8163,  8852, 12507,  2738,  5454,  8116, 15063, 10427,  8766],\n",
       "         [ 6802, 11488, 14213, 13508,  5454,  8769, 13658, 15571, 12021,   436],\n",
       "         [ 6802, 11488, 14213,  6068, 16380,  5454, 10440,  8769,   627, 13508],\n",
       "         [ 6802, 11488,  5454,  3606,  5595, 14414, 10538,  4248,  3347,   627],\n",
       "         [ 6802, 10085,  5454, 13508,  3347, 11488, 16334,  9072, 15000,  4248],\n",
       "         [11488,  2231,  6802, 14213, 13508, 16334,   627,  5454,  9272,  9318],\n",
       "         [13508,  6532, 16334, 14915, 11488,  6861,  9318,  4725, 14476,   627],\n",
       "         [14213,  4565, 11488, 13346, 13508,  8431, 12414, 16334,  7567,   627],\n",
       "         [ 7610, 14213,  9116,  5958,  8341,   627, 12414, 13508,  9685,  3602],\n",
       "         [ 7942, 14857,    13,  4015,  1106,   733,  2381,  1825, 15977, 15882],\n",
       "         [ 3869, 10098, 15882,  4669,  4022,  7942,  6709, 15192,  4767,  1825],\n",
       "         [ 6802,  8163, 13508,   873, 13491,    49, 16334,  6597,  3564,  4248],\n",
       "         [ 6802,   873,    49, 13508,  8445,   436,   475,   856, 15474, 15000]]],\n",
       "       device='cuda:0')"
      ]
     },
     "execution_count": 13,
     "metadata": {},
     "output_type": "execute_result"
    }
   ],
   "source": [
    "top_v, top_i = torch.topk(all_sae_acts, 10, dim=-1)\n",
    "top_i"
   ]
  },
  {
   "cell_type": "code",
   "execution_count": 14,
   "metadata": {},
   "outputs": [],
   "source": [
    "def get_top_samples(tokens, top_k: int = 10, batch_size: int = 4):\n",
    "    # tokens is shape (n_samples, seq_len)\n",
    "\n",
    "    for i in range(0, tokens.shape[0], batch_size):\n",
    "        batch = tokens[i:i+batch_size]\n",
    "        _, acts = model.run_with_cache(batch, names_filter=hp, stop_at_layer=sae_layer+1)\n",
    "        acts = acts[hp]\n",
    "\n",
    "        max_sae_acts = []\n",
    "        for sample in acts:\n",
    "            sae_acts = sae.encode(sample)\n",
    "            max_sae_acts.append(sae_acts.max(dim=0).values)\n",
    "        \n",
    "        max_sae_acts = torch.stack(max_sae_acts, dim=0)\n",
    "        print(max_sae_acts.shape) # (batch_size, n_features)\n",
    "        break\n",
    "\n",
    "\n",
    "\n",
    "# get_top_samples(ready_tokens, potential_london_ids)\n",
    "\n",
    "\n",
    "\n",
    "    "
   ]
  },
  {
   "cell_type": "code",
   "execution_count": 15,
   "metadata": {},
   "outputs": [
    {
     "name": "stderr",
     "output_type": "stream",
     "text": [
      "  0%|          | 0/625 [00:00<?, ?it/s]"
     ]
    },
    {
     "name": "stderr",
     "output_type": "stream",
     "text": [
      "  0%|          | 0/625 [00:02<?, ?it/s]\n"
     ]
    },
    {
     "ename": "KeyboardInterrupt",
     "evalue": "",
     "output_type": "error",
     "traceback": [
      "\u001b[0;31m---------------------------------------------------------------------------\u001b[0m",
      "\u001b[0;31mKeyboardInterrupt\u001b[0m                         Traceback (most recent call last)",
      "Cell \u001b[0;32mIn[15], line 48\u001b[0m\n\u001b[1;32m     45\u001b[0m     \u001b[38;5;28;01mreturn\u001b[39;00m top_k_values, top_k_indices\n\u001b[1;32m     47\u001b[0m \u001b[38;5;66;03m# # Usage\u001b[39;00m\n\u001b[0;32m---> 48\u001b[0m top_k_values, top_k_indices \u001b[38;5;241m=\u001b[39m \u001b[43mget_top_samples\u001b[49m\u001b[43m(\u001b[49m\u001b[43mready_tokens\u001b[49m\u001b[43m[\u001b[49m\u001b[43m:\u001b[49m\u001b[38;5;241;43m10000\u001b[39;49m\u001b[43m]\u001b[49m\u001b[43m,\u001b[49m\u001b[43m \u001b[49m\u001b[43mtop_k\u001b[49m\u001b[38;5;241;43m=\u001b[39;49m\u001b[38;5;241;43m10\u001b[39;49m\u001b[43m,\u001b[49m\u001b[43m \u001b[49m\u001b[43mbatch_size\u001b[49m\u001b[38;5;241;43m=\u001b[39;49m\u001b[38;5;241;43m16\u001b[39;49m\u001b[43m)\u001b[49m\n",
      "Cell \u001b[0;32mIn[15], line 30\u001b[0m, in \u001b[0;36mget_top_samples\u001b[0;34m(tokens, top_k, batch_size)\u001b[0m\n\u001b[1;32m     28\u001b[0m \u001b[38;5;28;01mfor\u001b[39;00m feature_idx \u001b[38;5;129;01min\u001b[39;00m \u001b[38;5;28mrange\u001b[39m(n_features):\n\u001b[1;32m     29\u001b[0m     feature_values \u001b[38;5;241m=\u001b[39m max_sae_acts[:, feature_idx]\n\u001b[0;32m---> 30\u001b[0m     \u001b[38;5;28;01mfor\u001b[39;00m sample_idx, value \u001b[38;5;129;01min\u001b[39;00m \u001b[38;5;28;43menumerate\u001b[39;49m\u001b[43m(\u001b[49m\u001b[43mfeature_values\u001b[49m\u001b[43m)\u001b[49m:\n\u001b[1;32m     31\u001b[0m         global_idx \u001b[38;5;241m=\u001b[39m i \u001b[38;5;241m+\u001b[39m sample_idx\n\u001b[1;32m     32\u001b[0m         \u001b[38;5;28;01mif\u001b[39;00m \u001b[38;5;28mlen\u001b[39m(top_k_values[feature_idx]) \u001b[38;5;241m<\u001b[39m top_k:\n",
      "File \u001b[0;32m/workspace/steering_research/.venv/lib/python3.10/site-packages/torch/_tensor.py:1053\u001b[0m, in \u001b[0;36mTensor.__iter__\u001b[0;34m(self)\u001b[0m\n\u001b[1;32m   1044\u001b[0m \u001b[38;5;28;01mif\u001b[39;00m torch\u001b[38;5;241m.\u001b[39m_C\u001b[38;5;241m.\u001b[39m_get_tracing_state():\n\u001b[1;32m   1045\u001b[0m     warnings\u001b[38;5;241m.\u001b[39mwarn(\n\u001b[1;32m   1046\u001b[0m         \u001b[38;5;124m\"\u001b[39m\u001b[38;5;124mIterating over a tensor might cause the trace to be incorrect. \u001b[39m\u001b[38;5;124m\"\u001b[39m\n\u001b[1;32m   1047\u001b[0m         \u001b[38;5;124m\"\u001b[39m\u001b[38;5;124mPassing a tensor of different shape won\u001b[39m\u001b[38;5;124m'\u001b[39m\u001b[38;5;124mt change the number of \u001b[39m\u001b[38;5;124m\"\u001b[39m\n\u001b[0;32m   (...)\u001b[0m\n\u001b[1;32m   1051\u001b[0m         stacklevel\u001b[38;5;241m=\u001b[39m\u001b[38;5;241m2\u001b[39m,\n\u001b[1;32m   1052\u001b[0m     )\n\u001b[0;32m-> 1053\u001b[0m \u001b[38;5;28;01mreturn\u001b[39;00m \u001b[38;5;28miter\u001b[39m(\u001b[38;5;28;43mself\u001b[39;49m\u001b[38;5;241;43m.\u001b[39;49m\u001b[43munbind\u001b[49m\u001b[43m(\u001b[49m\u001b[38;5;241;43m0\u001b[39;49m\u001b[43m)\u001b[49m)\n",
      "\u001b[0;31mKeyboardInterrupt\u001b[0m: "
     ]
    }
   ],
   "source": [
    "from heapq import heappush, heappushpop\n",
    "\n",
    "def get_top_samples(tokens, top_k: int = 10, batch_size: int = 4):\n",
    "    n_samples, seq_len = tokens.shape\n",
    "    n_features = None  # We'll set this when we get the first batch of results\n",
    "    \n",
    "    # Initialize lists to store the top k values and indices for each feature\n",
    "    top_k_values = []\n",
    "    top_k_indices = []\n",
    "    \n",
    "    for i in tqdm(range(0, n_samples, batch_size)):\n",
    "        batch = tokens[i:i+batch_size]\n",
    "        _, acts = model.run_with_cache(batch, names_filter=hp, stop_at_layer=sae_layer+1)\n",
    "        acts = acts[hp]\n",
    "        max_sae_acts = []\n",
    "        for sample in acts:\n",
    "            sae_acts = sae.encode(sample)\n",
    "            max_sae_acts.append(sae_acts.max(dim=0).values)\n",
    "        \n",
    "        max_sae_acts = torch.stack(max_sae_acts, dim=0)\n",
    "        \n",
    "        if n_features is None:\n",
    "            n_features = max_sae_acts.shape[1]\n",
    "            top_k_values = [[] for _ in range(n_features)]\n",
    "            top_k_indices = [[] for _ in range(n_features)]\n",
    "        \n",
    "        # Update top k for each feature\n",
    "        for feature_idx in range(n_features):\n",
    "            feature_values = max_sae_acts[:, feature_idx]\n",
    "            for sample_idx, value in enumerate(feature_values):\n",
    "                global_idx = i + sample_idx\n",
    "                if len(top_k_values[feature_idx]) < top_k:\n",
    "                    heappush(top_k_values[feature_idx], (value.item(), global_idx))\n",
    "                    top_k_indices[feature_idx] = [idx for _, idx in top_k_values[feature_idx]]\n",
    "                elif value > top_k_values[feature_idx][0][0]:\n",
    "                    heappushpop(top_k_values[feature_idx], (value.item(), global_idx))\n",
    "                    top_k_indices[feature_idx] = [idx for _, idx in top_k_values[feature_idx]]\n",
    "    \n",
    "    # Sort the results for each feature\n",
    "    for feature_idx in range(n_features):\n",
    "        sorted_results = sorted(zip(top_k_values[feature_idx], top_k_indices[feature_idx]), reverse=True)\n",
    "        top_k_values[feature_idx] = [value for value, _ in sorted_results]\n",
    "        top_k_indices[feature_idx] = [idx for _, idx in sorted_results]\n",
    "    \n",
    "    return top_k_values, top_k_indices\n",
    "\n",
    "# # Usage\n",
    "# top_k_values, top_k_indices = get_top_samples(ready_tokens[:10000], top_k=10, batch_size=16)\n"
   ]
  },
  {
   "cell_type": "code",
   "execution_count": 16,
   "metadata": {},
   "outputs": [
    {
     "name": "stderr",
     "output_type": "stream",
     "text": [
      "/tmp/ipykernel_9605/636839441.py:34: FutureWarning: You are using `torch.load` with `weights_only=False` (the current default value), which uses the default pickle module implicitly. It is possible to construct malicious pickle data which will execute arbitrary code during unpickling (See https://github.com/pytorch/pytorch/blob/main/SECURITY.md#untrusted-models for more details). In a future release, the default value for `weights_only` will be flipped to `True`. This limits the functions that could be executed during unpickling. Arbitrary objects will no longer be allowed to be loaded via this mode unless they are explicitly allowlisted by the user via `torch.serialization.add_safe_globals`. We recommend you start setting `weights_only=True` for any use case where you don't have full control of the loaded file. Please open an issue on GitHub for any issues related to this experimental feature.\n",
      "  ready_tokens = torch.load(\"ready_tokens_20.pt\")\n"
     ]
    }
   ],
   "source": [
    "#### layer 9 ####\n",
    "# # save top_k_values and top_k_indices\n",
    "# with open(\"top_k_values.json\", \"w\") as f:\n",
    "#     json.dump(top_k_values, f)\n",
    "# with open(\"top_k_indices.json\", \"w\") as f:\n",
    "#     json.dump(top_k_indices, f)\n",
    "# # save tokens\n",
    "# torch.save(ready_tokens, \"ready_tokens.pt\")\n",
    "\n",
    "# # load top_k_values and top_k_indices\n",
    "# with open(\"top_k_values.json\", \"r\") as f:\n",
    "#     top_k_values = json.load(f)\n",
    "# with open(\"top_k_indices.json\", \"r\") as f:\n",
    "#     top_k_indices = json.load(f)\n",
    "# # load tokens\n",
    "# ready_tokens = torch.load(\"ready_tokens.pt\")\n",
    "\n",
    "\n",
    "# #### layer 20 ####\n",
    "# # save top_k_values and top_k_indices\n",
    "# with open(\"top_k_values_20.json\", \"w\") as f:\n",
    "#     json.dump(top_k_values, f)\n",
    "# with open(\"top_k_indices_20.json\", \"w\") as f:\n",
    "#     json.dump(top_k_indices, f)\n",
    "# # save tokens\n",
    "# torch.save(ready_tokens, \"ready_tokens_20.pt\")\n",
    "\n",
    "# load top_k_values and top_k_indices\n",
    "with open(\"top_k_values_20.json\", \"r\") as f:\n",
    "    top_k_values = json.load(f)\n",
    "with open(\"top_k_indices_20.json\", \"r\") as f:\n",
    "    top_k_indices = json.load(f)\n",
    "# load tokens\n",
    "ready_tokens = torch.load(\"ready_tokens_20.pt\")\n",
    "\n"
   ]
  },
  {
   "cell_type": "code",
   "execution_count": 17,
   "metadata": {},
   "outputs": [
    {
     "name": "stderr",
     "output_type": "stream",
     "text": [
      "100%|██████████| 3/3 [00:00<00:00, 10.38it/s]\n"
     ]
    },
    {
     "data": {
      "text/plain": [
       "tensor([[0., 0., 0.,  ..., 0., 0., 0.],\n",
       "        [0., 0., 0.,  ..., 0., 0., 0.],\n",
       "        [0., 0., 0.,  ..., 0., 0., 0.],\n",
       "        ...,\n",
       "        [0., 0., 0.,  ..., 0., 0., 0.],\n",
       "        [0., 0., 0.,  ..., 0., 0., 0.],\n",
       "        [0., 0., 0.,  ..., 0., 0., 0.]], device='cuda:0', dtype=torch.bfloat16)"
      ]
     },
     "execution_count": 17,
     "metadata": {},
     "output_type": "execute_result"
    }
   ],
   "source": [
    "def acts_for_feature(tokens, feature_idx: int, batch_size: int = 4):\n",
    "    n_samples, seq_len = tokens.shape\n",
    "    all_acts = []\n",
    "    for i in tqdm(range(0, n_samples, batch_size)):\n",
    "        batch = tokens[i:i+batch_size]\n",
    "        _, acts = model.run_with_cache(batch, names_filter=hp, stop_at_layer=sae_layer+1)\n",
    "        acts = acts[hp]\n",
    "        batch_sae_acts = []\n",
    "        for sample in acts:\n",
    "            sae_acts = sae.encode(sample)\n",
    "            batch_sae_acts.append(sae_acts[:, feature_idx])\n",
    "        \n",
    "        batch_sae_acts = torch.stack(batch_sae_acts, dim=0)\n",
    "        all_acts.append(batch_sae_acts)\n",
    "    \n",
    "    return torch.cat(all_acts, dim=0)\n",
    "\n",
    "acts_for_selected = acts_for_feature(ready_tokens[:10], 2)\n",
    "acts_for_selected"
   ]
  },
  {
   "cell_type": "code",
   "execution_count": null,
   "metadata": {},
   "outputs": [],
   "source": []
  },
  {
   "cell_type": "code",
   "execution_count": 18,
   "metadata": {},
   "outputs": [],
   "source": [
    "def display_highlighted_tokens(tokens, values, tokenizer):\n",
    "    # Ensure tensors are on CPU\n",
    "    tokens = tokens.cpu()\n",
    "    values = values.cpu().to(torch.float32)\n",
    "    \n",
    "    original_values = values.clone()\n",
    "    \n",
    "    # Normalize values to range [0, 1] for coloring\n",
    "    values = (values - values.min()) / (values.max() - values.min())\n",
    "    \n",
    "    # Function to convert value to RGB color\n",
    "    def value_to_color(value):\n",
    "        # Using a gradient from white to red\n",
    "        color_value = int(255 * (1 - value.item()))\n",
    "        return f\"rgb(255, {color_value}, {color_value})\"\n",
    "    \n",
    "    html_output = \"\"\n",
    "    \n",
    "    for batch_idx in range(tokens.shape[0]):\n",
    "        # Use the original values for max activation\n",
    "        max_activation = original_values[batch_idx].max().item()\n",
    "        html_output += f\"<p>Max Activation: {max_activation:.4f}:</p>\"\n",
    "        html_output += \"<p>\"\n",
    "        \n",
    "        for token, value in zip(tokens[batch_idx], values[batch_idx]):\n",
    "            word = tokenizer.decode([token.item()])\n",
    "            # Escape special characters to prevent HTML conflicts\n",
    "            word_escaped = html.escape(word)\n",
    "            color = value_to_color(value)\n",
    "            html_output += f'<span style=\"background-color: {color};\">{word_escaped}</span>'\n",
    "        \n",
    "        html_output += \"</p>\"\n",
    "    \n",
    "    display(HTML(html_output))"
   ]
  },
  {
   "cell_type": "code",
   "execution_count": 19,
   "metadata": {},
   "outputs": [],
   "source": [
    "london = sae.W_dec[4457]\n",
    "britain = sae.W_dec[10423]\n",
    "\n",
    "brit_20 = sae.W_dec[5771]\n",
    "capital_20 = sae.W_dec[5687]\n",
    "\n",
    "# anti_im_20 = sae.W_dec[4580]\n",
    "# problem_20 = sae.W_dec[9337]"
   ]
  },
  {
   "cell_type": "code",
   "execution_count": 20,
   "metadata": {},
   "outputs": [
    {
     "name": "stderr",
     "output_type": "stream",
     "text": [
      "100%|██████████| 3/3 [00:00<00:00, 11.08it/s]\n"
     ]
    },
    {
     "data": {
      "text/html": [
       "<p>Max Activation: 54.7500:</p><p><span style=\"background-color: rgb(255, 255, 255);\">\n",
       "</span><span style=\"background-color: rgb(255, 255, 255);\"> this</span><span style=\"background-color: rgb(255, 255, 255);\"> month</span><span style=\"background-color: rgb(255, 255, 255);\"> for</span><span style=\"background-color: rgb(255, 255, 255);\"> Insider</span><span style=\"background-color: rgb(255, 255, 255);\"> View</span><span style=\"background-color: rgb(255, 255, 255);\">point</span><span style=\"background-color: rgb(255, 255, 255);\"> Magazine</span><span style=\"background-color: rgb(255, 255, 255);\"> is</span><span style=\"background-color: rgb(255, 255, 255);\"> about</span><span style=\"background-color: rgb(255, 255, 255);\"> Tammy</span><span style=\"background-color: rgb(255, 187, 187);\"> Wy</span><span style=\"background-color: rgb(255, 0, 0);\">nette</span><span style=\"background-color: rgb(255, 255, 255);\">.</span><span style=\"background-color: rgb(255, 255, 255);\">\n",
       "</span><span style=\"background-color: rgb(255, 255, 255);\">Tammy</span><span style=\"background-color: rgb(255, 255, 255);\"> Wy</span><span style=\"background-color: rgb(255, 89, 89);\">nette</span><span style=\"background-color: rgb(255, 255, 255);\">,</span><span style=\"background-color: rgb(255, 255, 255);\"> the</span><span style=\"background-color: rgb(255, 255, 255);\"> name</span><span style=\"background-color: rgb(255, 255, 255);\"> is</span><span style=\"background-color: rgb(255, 255, 255);\"> synonymous</span><span style=\"background-color: rgb(255, 255, 255);\"> with</span><span style=\"background-color: rgb(255, 255, 255);\"> being</span><span style=\"background-color: rgb(255, 255, 255);\"> one</span><span style=\"background-color: rgb(255, 255, 255);\"> of</span><span style=\"background-color: rgb(255, 211, 211);\"> the</span><span style=\"background-color: rgb(255, 255, 255);\"> greatest</span><span style=\"background-color: rgb(255, 255, 255);\"> Country</span><span style=\"background-color: rgb(255, 255, 255);\"> Music</span><span style=\"background-color: rgb(255, 255, 255);\"> Singers</span><span style=\"background-color: rgb(255, 255, 255);\"> and</span><span style=\"background-color: rgb(255, 255, 255);\"> Writers</span><span style=\"background-color: rgb(255, 255, 255);\"> of</span><span style=\"background-color: rgb(255, 255, 255);\"> all</span><span style=\"background-color: rgb(255, 255, 255);\"> time</span><span style=\"background-color: rgb(255, 255, 255);\">.</span><span style=\"background-color: rgb(255, 209, 209);\"> She</span><span style=\"background-color: rgb(255, 255, 255);\"> also</span><span style=\"background-color: rgb(255, 255, 255);\"> became</span><span style=\"background-color: rgb(255, 255, 255);\"> a</span><span style=\"background-color: rgb(255, 255, 255);\"> pop</span><span style=\"background-color: rgb(255, 255, 255);\">-</span><span style=\"background-color: rgb(255, 255, 255);\">cross</span><span style=\"background-color: rgb(255, 255, 255);\"> over</span><span style=\"background-color: rgb(255, 255, 255);\"> artist</span><span style=\"background-color: rgb(255, 255, 255);\"> with</span><span style=\"background-color: rgb(255, 255, 255);\"> multiple</span><span style=\"background-color: rgb(255, 255, 255);\"> songs</span><span style=\"background-color: rgb(255, 255, 255);\"> she</span><span style=\"background-color: rgb(255, 255, 255);\"> sang</span><span style=\"background-color: rgb(255, 255, 255);\"> and</span><span style=\"background-color: rgb(255, 255, 255);\"> penned</span><span style=\"background-color: rgb(255, 255, 255);\">;</span><span style=\"background-color: rgb(255, 255, 255);\"> Grammy</span><span style=\"background-color: rgb(255, 255, 255);\"> Award</span><span style=\"background-color: rgb(255, 255, 255);\"> Recipient</span><span style=\"background-color: rgb(255, 255, 255);\">,</span><span style=\"background-color: rgb(255, 255, 255);\"> CMA</span><span style=\"background-color: rgb(255, 255, 255);\"> Female</span><span style=\"background-color: rgb(255, 255, 255);\"> Voc</span><span style=\"background-color: rgb(255, 255, 255);\">alist</span><span style=\"background-color: rgb(255, 255, 255);\"> of</span><span style=\"background-color: rgb(255, 255, 255);\"> the</span><span style=\"background-color: rgb(255, 255, 255);\"> Year</span><span style=\"background-color: rgb(255, 255, 255);\"> (</span><span style=\"background-color: rgb(255, 255, 255);\">for</span><span style=\"background-color: rgb(255, 255, 255);\"> several</span><span style=\"background-color: rgb(255, 255, 255);\"> years</span><span style=\"background-color: rgb(255, 255, 255);\">),</span><span style=\"background-color: rgb(255, 255, 255);\"> ACM</span><span style=\"background-color: rgb(255, 255, 255);\"> Top</span><span style=\"background-color: rgb(255, 255, 255);\"> Female</span><span style=\"background-color: rgb(255, 255, 255);\"> Voc</span><span style=\"background-color: rgb(255, 255, 255);\">alist</span><span style=\"background-color: rgb(255, 255, 255);\">;</span><span style=\"background-color: rgb(255, 255, 255);\"> and</span><span style=\"background-color: rgb(255, 255, 255);\"> so</span><span style=\"background-color: rgb(255, 255, 255);\"> many</span><span style=\"background-color: rgb(255, 255, 255);\"> accomplishments</span><span style=\"background-color: rgb(255, 255, 255);\"> in</span><span style=\"background-color: rgb(255, 255, 255);\"> the</span><span style=\"background-color: rgb(255, 255, 255);\"> music</span><span style=\"background-color: rgb(255, 255, 255);\"> industry</span><span style=\"background-color: rgb(255, 255, 255);\"> that</span><span style=\"background-color: rgb(255, 255, 255);\"> it</span><span style=\"background-color: rgb(255, 255, 255);\"> is</span><span style=\"background-color: rgb(255, 255, 255);\"> staggering</span><span style=\"background-color: rgb(255, 255, 255);\">.</span><span style=\"background-color: rgb(255, 255, 255);\">\n",
       "</span><span style=\"background-color: rgb(255, 255, 255);\">The</span><span style=\"background-color: rgb(255, 255, 255);\"> story</span><span style=\"background-color: rgb(255, 255, 255);\"> begins</span><span style=\"background-color: rgb(255, 255, 255);\"> in</span><span style=\"background-color: rgb(255, 255, 255);\"> I</span><span style=\"background-color: rgb(255, 255, 255);\">taw</span><span style=\"background-color: rgb(255, 255, 255);\">amba</span><span style=\"background-color: rgb(255, 255, 255);\"> County</span><span style=\"background-color: rgb(255, 255, 255);\">,</span><span style=\"background-color: rgb(255, 255, 255);\"> Mississippi</span><span style=\"background-color: rgb(255, 255, 255);\"> on</span><span style=\"background-color: rgb(255, 255, 255);\"> May</span><span style=\"background-color: rgb(255, 255, 255);\"> </span><span style=\"background-color: rgb(255, 255, 255);\">5</span><span style=\"background-color: rgb(255, 255, 255);\">,</span><span style=\"background-color: rgb(255, 255, 255);\"> </span><span style=\"background-color: rgb(255, 255, 255);\">1</span><span style=\"background-color: rgb(255, 255, 255);\">9</span><span style=\"background-color: rgb(255, 255, 255);\">4</span><span style=\"background-color: rgb(255, 255, 255);\">2</span><span style=\"background-color: rgb(255, 255, 255);\"> as</span><span style=\"background-color: rgb(255, 255, 255);\"> a</span><span style=\"background-color: rgb(255, 255, 255);\"> frail</span><span style=\"background-color: rgb(255, 255, 255);\"> little</span><span style=\"background-color: rgb(255, 255, 255);\"> country</span><span style=\"background-color: rgb(255, 255, 255);\"> girl</span><span style=\"background-color: rgb(255, 255, 255);\"> was</span><span style=\"background-color: rgb(255, 255, 255);\"> born</span><span style=\"background-color: rgb(255, 255, 255);\">,</span><span style=\"background-color: rgb(255, 255, 255);\"> &quot;</span><span style=\"background-color: rgb(255, 255, 255);\">Wy</span><span style=\"background-color: rgb(255, 255, 255);\">nette</span><span style=\"background-color: rgb(255, 255, 255);\"> Pugh</span><span style=\"background-color: rgb(255, 255, 255);\">.&quot;</span></p><p>Max Activation: 46.7500:</p><p><span style=\"background-color: rgb(255, 255, 255);\">\n",
       "</span><span style=\"background-color: rgb(255, 255, 255);\">lys</span><span style=\"background-color: rgb(255, 255, 255);\">se</span><span style=\"background-color: rgb(255, 255, 255);\"> N</span><span style=\"background-color: rgb(255, 207, 207);\">ardin</span><span style=\"background-color: rgb(255, 255, 255);\"> was</span><span style=\"background-color: rgb(255, 255, 255);\"> born</span><span style=\"background-color: rgb(255, 255, 255);\"> in</span><span style=\"background-color: rgb(255, 255, 255);\"> </span><span style=\"background-color: rgb(255, 255, 255);\">1</span><span style=\"background-color: rgb(255, 255, 255);\">8</span><span style=\"background-color: rgb(255, 255, 255);\">2</span><span style=\"background-color: rgb(255, 255, 255);\">3</span><span style=\"background-color: rgb(255, 255, 255);\"> in</span><span style=\"background-color: rgb(255, 255, 255);\"> Le</span><span style=\"background-color: rgb(255, 255, 255);\"> Loc</span><span style=\"background-color: rgb(255, 205, 205);\">le</span><span style=\"background-color: rgb(255, 255, 255);\">,</span><span style=\"background-color: rgb(255, 255, 255);\"> Switzerland</span><span style=\"background-color: rgb(255, 255, 255);\">.</span><span style=\"background-color: rgb(255, 255, 255);\"> He</span><span style=\"background-color: rgb(255, 255, 255);\"> was</span><span style=\"background-color: rgb(255, 255, 255);\"> an</span><span style=\"background-color: rgb(255, 255, 255);\"> a</span><span style=\"background-color: rgb(255, 255, 255);\">complished</span><span style=\"background-color: rgb(255, 255, 255);\"> watch</span><span style=\"background-color: rgb(255, 255, 255);\">maker</span><span style=\"background-color: rgb(255, 255, 255);\"> having</span><span style=\"background-color: rgb(255, 255, 255);\"> trained</span><span style=\"background-color: rgb(255, 255, 255);\"> under</span><span style=\"background-color: rgb(255, 255, 255);\"> his</span><span style=\"background-color: rgb(255, 255, 255);\"> father</span><span style=\"background-color: rgb(255, 255, 255);\">,</span><span style=\"background-color: rgb(255, 255, 255);\"> Leonard</span><span style=\"background-color: rgb(255, 255, 255);\">-</span><span style=\"background-color: rgb(255, 255, 255);\">Fred</span><span style=\"background-color: rgb(255, 255, 255);\">eric</span><span style=\"background-color: rgb(255, 255, 255);\"> N</span><span style=\"background-color: rgb(255, 182, 182);\">ardin</span><span style=\"background-color: rgb(255, 255, 255);\"> and</span><span style=\"background-color: rgb(255, 255, 255);\"> later</span><span style=\"background-color: rgb(255, 255, 255);\"> under</span><span style=\"background-color: rgb(255, 255, 255);\"> two</span><span style=\"background-color: rgb(255, 255, 255);\"> master</span><span style=\"background-color: rgb(255, 255, 255);\"> watch</span><span style=\"background-color: rgb(255, 255, 255);\">makers</span><span style=\"background-color: rgb(255, 255, 255);\">,</span><span style=\"background-color: rgb(255, 255, 255);\"> Frederic</span><span style=\"background-color: rgb(255, 255, 255);\"> William</span><span style=\"background-color: rgb(255, 255, 255);\"> Dubois</span><span style=\"background-color: rgb(255, 255, 255);\"> and</span><span style=\"background-color: rgb(255, 255, 255);\"> Louis</span><span style=\"background-color: rgb(255, 255, 255);\"> Jean</span><span style=\"background-color: rgb(255, 255, 255);\">Richard</span><span style=\"background-color: rgb(255, 255, 255);\">-</span><span style=\"background-color: rgb(255, 255, 255);\">dit</span><span style=\"background-color: rgb(255, 255, 255);\">-</span><span style=\"background-color: rgb(255, 255, 255);\">Bres</span><span style=\"background-color: rgb(255, 255, 255);\">sel</span><span style=\"background-color: rgb(255, 255, 255);\">.</span><span style=\"background-color: rgb(255, 255, 255);\"> The</span><span style=\"background-color: rgb(255, 255, 255);\"> company</span><span style=\"background-color: rgb(255, 255, 255);\"> U</span><span style=\"background-color: rgb(255, 255, 255);\">lys</span><span style=\"background-color: rgb(255, 255, 255);\">se</span><span style=\"background-color: rgb(255, 255, 255);\"> N</span><span style=\"background-color: rgb(255, 37, 37);\">ardin</span><span style=\"background-color: rgb(255, 255, 255);\"> was</span><span style=\"background-color: rgb(255, 255, 255);\"> founded</span><span style=\"background-color: rgb(255, 255, 255);\"> in</span><span style=\"background-color: rgb(255, 255, 255);\"> </span><span style=\"background-color: rgb(255, 255, 255);\">1</span><span style=\"background-color: rgb(255, 255, 255);\">8</span><span style=\"background-color: rgb(255, 255, 255);\">4</span><span style=\"background-color: rgb(255, 255, 255);\">6</span><span style=\"background-color: rgb(255, 255, 255);\"> and</span><span style=\"background-color: rgb(255, 255, 255);\"> remained</span><span style=\"background-color: rgb(255, 255, 255);\"> under</span><span style=\"background-color: rgb(255, 255, 255);\"> U</span><span style=\"background-color: rgb(255, 255, 255);\">lys</span><span style=\"background-color: rgb(255, 255, 255);\">se</span><span style=\"background-color: rgb(255, 255, 255);\">&#x27;</span><span style=\"background-color: rgb(255, 255, 255);\">s</span><span style=\"background-color: rgb(255, 255, 255);\"> control</span><span style=\"background-color: rgb(255, 255, 255);\"> until</span><span style=\"background-color: rgb(255, 255, 255);\"> his</span><span style=\"background-color: rgb(255, 255, 255);\"> passing</span><span style=\"background-color: rgb(255, 255, 255);\"> in</span><span style=\"background-color: rgb(255, 255, 255);\"> </span><span style=\"background-color: rgb(255, 255, 255);\">1</span><span style=\"background-color: rgb(255, 255, 255);\">8</span><span style=\"background-color: rgb(255, 255, 255);\">7</span><span style=\"background-color: rgb(255, 255, 255);\">6</span><span style=\"background-color: rgb(255, 255, 255);\">,</span><span style=\"background-color: rgb(255, 255, 255);\"> when</span><span style=\"background-color: rgb(255, 255, 255);\"> his</span><span style=\"background-color: rgb(255, 255, 255);\"> </span><span style=\"background-color: rgb(255, 255, 255);\">2</span><span style=\"background-color: rgb(255, 255, 255);\">1</span><span style=\"background-color: rgb(255, 255, 255);\">-</span><span style=\"background-color: rgb(255, 255, 255);\">year</span><span style=\"background-color: rgb(255, 255, 255);\"> old</span><span style=\"background-color: rgb(255, 255, 255);\"> son</span><span style=\"background-color: rgb(255, 255, 255);\">,</span><span style=\"background-color: rgb(255, 255, 255);\"> Paul</span><span style=\"background-color: rgb(255, 255, 255);\">-</span><span style=\"background-color: rgb(255, 255, 255);\">David</span><span style=\"background-color: rgb(255, 255, 255);\"> N</span><span style=\"background-color: rgb(255, 255, 255);\">ardin</span><span style=\"background-color: rgb(255, 255, 255);\"> took</span><span style=\"background-color: rgb(255, 255, 255);\"> over</span><span style=\"background-color: rgb(255, 255, 255);\">.</span><span style=\"background-color: rgb(255, 255, 255);\"> </span><span style=\"background-color: rgb(255, 255, 255);\">1</span><span style=\"background-color: rgb(255, 255, 255);\">8</span><span style=\"background-color: rgb(255, 255, 255);\">7</span><span style=\"background-color: rgb(255, 255, 255);\">6</span><span style=\"background-color: rgb(255, 255, 255);\"> was</span><span style=\"background-color: rgb(255, 255, 255);\"> also</span><span style=\"background-color: rgb(255, 255, 255);\"> the</span><span style=\"background-color: rgb(255, 255, 255);\"> year</span><span style=\"background-color: rgb(255, 255, 255);\"> in</span><span style=\"background-color: rgb(255, 255, 255);\"> which</span><span style=\"background-color: rgb(255, 255, 255);\"> Paul</span><span style=\"background-color: rgb(255, 255, 255);\">-</span></p><p>Max Activation: 45.7500:</p><p><span style=\"background-color: rgb(255, 255, 255);\">\n",
       "</span><span style=\"background-color: rgb(255, 255, 255);\"> as</span><span style=\"background-color: rgb(255, 255, 255);\"> opposed</span><span style=\"background-color: rgb(255, 255, 255);\"> to</span><span style=\"background-color: rgb(255, 255, 255);\"> being</span><span style=\"background-color: rgb(255, 255, 255);\"> a</span><span style=\"background-color: rgb(255, 255, 255);\"> guy</span><span style=\"background-color: rgb(255, 255, 255);\"> that</span><span style=\"background-color: rgb(255, 255, 255);\"> takes</span><span style=\"background-color: rgb(255, 255, 255);\"> games</span><span style=\"background-color: rgb(255, 255, 255);\"> over</span><span style=\"background-color: rgb(255, 255, 255);\"> from</span><span style=\"background-color: rgb(255, 255, 255);\"> the</span><span style=\"background-color: rgb(255, 255, 255);\"> jump</span><span style=\"background-color: rgb(255, 255, 255);\">,</span><span style=\"background-color: rgb(255, 255, 255);\"> but</span><span style=\"background-color: rgb(255, 255, 255);\"> that</span><span style=\"background-color: rgb(255, 255, 255);\"> isn</span><span style=\"background-color: rgb(255, 255, 255);\">’</span><span style=\"background-color: rgb(255, 255, 255);\">t</span><span style=\"background-color: rgb(255, 255, 255);\"> necessarily</span><span style=\"background-color: rgb(255, 255, 255);\"> a</span><span style=\"background-color: rgb(255, 255, 255);\"> bad</span><span style=\"background-color: rgb(255, 255, 255);\"> thing</span><span style=\"background-color: rgb(255, 255, 255);\"> for</span><span style=\"background-color: rgb(255, 255, 255);\"> a</span><span style=\"background-color: rgb(255, 255, 255);\"> guy</span><span style=\"background-color: rgb(255, 255, 255);\"> who</span><span style=\"background-color: rgb(255, 255, 255);\"> projects</span><span style=\"background-color: rgb(255, 255, 255);\"> as</span><span style=\"background-color: rgb(255, 255, 255);\"> a</span><span style=\"background-color: rgb(255, 255, 255);\"> lead</span><span style=\"background-color: rgb(255, 255, 255);\"> guard</span><span style=\"background-color: rgb(255, 255, 255);\"> and</span><span style=\"background-color: rgb(255, 255, 255);\"> a</span><span style=\"background-color: rgb(255, 255, 255);\"> distributor</span><span style=\"background-color: rgb(255, 255, 255);\">.</span><span style=\"background-color: rgb(255, 255, 255);\">\n",
       "</span><span style=\"background-color: rgb(255, 255, 255);\">The</span><span style=\"background-color: rgb(255, 255, 255);\"> bigger</span><span style=\"background-color: rgb(255, 255, 255);\"> issue</span><span style=\"background-color: rgb(255, 255, 255);\"> with</span><span style=\"background-color: rgb(255, 255, 255);\"> F</span><span style=\"background-color: rgb(255, 41, 41);\">ultz</span><span style=\"background-color: rgb(255, 255, 255);\"> is</span><span style=\"background-color: rgb(255, 255, 255);\"> that</span><span style=\"background-color: rgb(255, 221, 221);\"> he</span><span style=\"background-color: rgb(255, 255, 255);\"> lacks</span><span style=\"background-color: rgb(255, 255, 255);\"> initial</span><span style=\"background-color: rgb(255, 255, 255);\"> burst</span><span style=\"background-color: rgb(255, 255, 255);\"> off</span><span style=\"background-color: rgb(255, 255, 255);\"> the</span><span style=\"background-color: rgb(255, 255, 255);\"> dri</span><span style=\"background-color: rgb(255, 255, 255);\">bble</span><span style=\"background-color: rgb(255, 255, 255);\"> and</span><span style=\"background-color: rgb(255, 255, 255);\"> there</span><span style=\"background-color: rgb(255, 255, 255);\"> are</span><span style=\"background-color: rgb(255, 255, 255);\"> questions</span><span style=\"background-color: rgb(255, 255, 255);\"> about</span><span style=\"background-color: rgb(255, 255, 255);\"> whether</span><span style=\"background-color: rgb(255, 255, 255);\"> or</span><span style=\"background-color: rgb(255, 255, 255);\"> not</span><span style=\"background-color: rgb(255, 255, 255);\"> he</span><span style=\"background-color: rgb(255, 255, 255);\"> can</span><span style=\"background-color: rgb(255, 255, 255);\"> turn</span><span style=\"background-color: rgb(255, 255, 255);\"> the</span><span style=\"background-color: rgb(255, 255, 255);\"> corner</span><span style=\"background-color: rgb(255, 255, 255);\"> against</span><span style=\"background-color: rgb(255, 255, 255);\"> NBA</span><span style=\"background-color: rgb(255, 255, 255);\"> defenders</span><span style=\"background-color: rgb(255, 255, 255);\">.</span><span style=\"background-color: rgb(255, 255, 255);\"> His</span><span style=\"background-color: rgb(255, 255, 255);\"> game</span><span style=\"background-color: rgb(255, 255, 255);\"> is</span><span style=\"background-color: rgb(255, 255, 255);\"> awkward</span><span style=\"background-color: rgb(255, 255, 255);\"> when</span><span style=\"background-color: rgb(255, 255, 255);\"> you</span><span style=\"background-color: rgb(255, 255, 255);\"> watch</span><span style=\"background-color: rgb(255, 255, 255);\"> him</span><span style=\"background-color: rgb(255, 255, 255);\">,</span><span style=\"background-color: rgb(255, 255, 255);\"> but</span><span style=\"background-color: rgb(255, 255, 255);\"> that</span><span style=\"background-color: rgb(255, 255, 255);\">’</span><span style=\"background-color: rgb(255, 255, 255);\">s</span><span style=\"background-color: rgb(255, 255, 255);\"> because</span><span style=\"background-color: rgb(255, 255, 255);\"> he</span><span style=\"background-color: rgb(255, 255, 255);\"> has</span><span style=\"background-color: rgb(255, 255, 255);\"> this</span><span style=\"background-color: rgb(255, 255, 255);\"> uncanny</span><span style=\"background-color: rgb(255, 255, 255);\"> ability</span><span style=\"background-color: rgb(255, 255, 255);\"> to</span><span style=\"background-color: rgb(255, 255, 255);\"> get</span><span style=\"background-color: rgb(255, 255, 255);\"> defenders</span><span style=\"background-color: rgb(255, 255, 255);\"> off</span><span style=\"background-color: rgb(255, 255, 255);\"> balance</span><span style=\"background-color: rgb(255, 255, 255);\">.</span><span style=\"background-color: rgb(255, 255, 255);\"> Hes</span><span style=\"background-color: rgb(255, 255, 255);\">itation</span><span style=\"background-color: rgb(255, 255, 255);\"> moves</span><span style=\"background-color: rgb(255, 255, 255);\">,</span><span style=\"background-color: rgb(255, 255, 255);\"> hang</span><span style=\"background-color: rgb(255, 255, 255);\">-</span><span style=\"background-color: rgb(255, 255, 255);\">d</span><span style=\"background-color: rgb(255, 255, 255);\">rib</span><span style=\"background-color: rgb(255, 255, 255);\">ble</span><span style=\"background-color: rgb(255, 255, 255);\"> pull</span><span style=\"background-color: rgb(255, 255, 255);\">-</span><span style=\"background-color: rgb(255, 255, 255);\">ups</span><span style=\"background-color: rgb(255, 255, 255);\">,</span><span style=\"background-color: rgb(255, 255, 255);\"> splitting</span><span style=\"background-color: rgb(255, 255, 255);\"> the</span><span style=\"background-color: rgb(255, 255, 255);\"> pick</span><span style=\"background-color: rgb(255, 255, 255);\">-</span><span style=\"background-color: rgb(255, 255, 255);\">and</span><span style=\"background-color: rgb(255, 255, 255);\">-</span><span style=\"background-color: rgb(255, 255, 255);\">roll</span><span style=\"background-color: rgb(255, 255, 255);\">,</span><span style=\"background-color: rgb(255, 255, 255);\"> euro</span><span style=\"background-color: rgb(255, 255, 255);\">-</span><span style=\"background-color: rgb(255, 255, 255);\">steps</span><span style=\"background-color: rgb(255, 255, 255);\"> in</span><span style=\"background-color: rgb(255, 255, 255);\"> traffic</span><span style=\"background-color: rgb(255, 255, 255);\">.</span><span style=\"background-color: rgb(255, 255, 255);\"> Some</span><span style=\"background-color: rgb(255, 255, 255);\"> might</span></p><p>Max Activation: 45.2500:</p><p><span style=\"background-color: rgb(255, 255, 255);\">\n",
       "</span><span style=\"background-color: rgb(255, 255, 255);\"> O</span><span style=\"background-color: rgb(255, 255, 255);\">laz</span><span style=\"background-color: rgb(255, 44, 44);\">abal</span><span style=\"background-color: rgb(255, 255, 255);\">,</span><span style=\"background-color: rgb(255, 255, 255);\"> it</span><span style=\"background-color: rgb(255, 255, 255);\"> is</span><span style=\"background-color: rgb(255, 255, 255);\"> a</span><span style=\"background-color: rgb(255, 222, 222);\"> </span><span style=\"background-color: rgb(255, 255, 255);\">2</span><span style=\"background-color: rgb(255, 255, 255);\">7</span><span style=\"background-color: rgb(255, 255, 255);\"> hole</span><span style=\"background-color: rgb(255, 255, 255);\"> golf</span><span style=\"background-color: rgb(255, 255, 255);\"> course</span><span style=\"background-color: rgb(255, 255, 255);\">,</span><span style=\"background-color: rgb(255, 255, 255);\"> suitable</span><span style=\"background-color: rgb(255, 255, 255);\"> for</span><span style=\"background-color: rgb(255, 255, 255);\"> all</span><span style=\"background-color: rgb(255, 255, 255);\"> abilities</span><span style=\"background-color: rgb(255, 255, 255);\">.</span><span style=\"background-color: rgb(255, 255, 255);\"> Being</span><span style=\"background-color: rgb(255, 255, 255);\"> located</span><span style=\"background-color: rgb(255, 255, 255);\"> next</span><span style=\"background-color: rgb(255, 255, 255);\"> to</span><span style=\"background-color: rgb(255, 255, 255);\"> the</span><span style=\"background-color: rgb(255, 255, 255);\"> sea</span><span style=\"background-color: rgb(255, 255, 255);\"> it</span><span style=\"background-color: rgb(255, 255, 255);\">´</span><span style=\"background-color: rgb(255, 255, 255);\">s</span><span style=\"background-color: rgb(255, 255, 255);\"> a</span><span style=\"background-color: rgb(255, 255, 255);\"> beautiful</span><span style=\"background-color: rgb(255, 255, 255);\"> setting</span><span style=\"background-color: rgb(255, 255, 255);\"> to</span><span style=\"background-color: rgb(255, 255, 255);\"> spend</span><span style=\"background-color: rgb(255, 255, 255);\"> a</span><span style=\"background-color: rgb(255, 255, 255);\"> day</span><span style=\"background-color: rgb(255, 255, 255);\">.</span><span style=\"background-color: rgb(255, 255, 255);\"> They</span><span style=\"background-color: rgb(255, 255, 255);\"> also</span><span style=\"background-color: rgb(255, 255, 255);\"> have</span><span style=\"background-color: rgb(255, 255, 255);\"> a</span><span style=\"background-color: rgb(255, 255, 255);\"> cro</span><span style=\"background-color: rgb(255, 255, 255);\">quet</span><span style=\"background-color: rgb(255, 255, 255);\"> lawn</span><span style=\"background-color: rgb(255, 255, 255);\"> too</span><span style=\"background-color: rgb(255, 255, 255);\">.</span><span style=\"background-color: rgb(255, 255, 255);\">\n",
       "</span><span style=\"background-color: rgb(255, 255, 255);\">That</span><span style=\"background-color: rgb(255, 255, 255);\"> evening</span><span style=\"background-color: rgb(255, 255, 255);\"> we</span><span style=\"background-color: rgb(255, 255, 255);\"> rented</span><span style=\"background-color: rgb(255, 255, 255);\"> bikes</span><span style=\"background-color: rgb(255, 255, 255);\"> to</span><span style=\"background-color: rgb(255, 255, 255);\"> ride</span><span style=\"background-color: rgb(255, 255, 255);\"> around</span><span style=\"background-color: rgb(255, 255, 255);\"> the</span><span style=\"background-color: rgb(255, 255, 255);\"> beaches</span><span style=\"background-color: rgb(255, 255, 255);\"> at</span><span style=\"background-color: rgb(255, 255, 255);\"> sunset</span><span style=\"background-color: rgb(255, 255, 255);\">.</span><span style=\"background-color: rgb(255, 255, 255);\"> Bic</span><span style=\"background-color: rgb(255, 255, 255);\">ic</span><span style=\"background-color: rgb(255, 255, 255);\">letas</span><span style=\"background-color: rgb(255, 255, 255);\"> Val</span><span style=\"background-color: rgb(255, 255, 255);\">des</span><span style=\"background-color: rgb(255, 255, 255);\"> pick</span><span style=\"background-color: rgb(255, 255, 255);\"> up</span><span style=\"background-color: rgb(255, 255, 255);\"> and</span><span style=\"background-color: rgb(255, 255, 255);\"> drop</span><span style=\"background-color: rgb(255, 255, 255);\"> off</span><span style=\"background-color: rgb(255, 255, 255);\"> the</span><span style=\"background-color: rgb(255, 255, 255);\"> bikes</span><span style=\"background-color: rgb(255, 255, 255);\"> at</span><span style=\"background-color: rgb(255, 255, 255);\"> your</span><span style=\"background-color: rgb(255, 255, 255);\"> hotel</span><span style=\"background-color: rgb(255, 255, 255);\"> door</span><span style=\"background-color: rgb(255, 255, 255);\"> so</span><span style=\"background-color: rgb(255, 255, 255);\"> it</span><span style=\"background-color: rgb(255, 255, 255);\"> makes</span><span style=\"background-color: rgb(255, 255, 255);\"> it</span><span style=\"background-color: rgb(255, 255, 255);\"> simple</span><span style=\"background-color: rgb(255, 255, 255);\"> and</span><span style=\"background-color: rgb(255, 255, 255);\"> fun</span><span style=\"background-color: rgb(255, 255, 255);\">.</span><span style=\"background-color: rgb(255, 255, 255);\"> Riding</span><span style=\"background-color: rgb(255, 255, 255);\"> around</span><span style=\"background-color: rgb(255, 255, 255);\"> the</span><span style=\"background-color: rgb(255, 255, 255);\"> beaches</span><span style=\"background-color: rgb(255, 255, 255);\"> and</span><span style=\"background-color: rgb(255, 255, 255);\"> parks</span><span style=\"background-color: rgb(255, 255, 255);\"> of</span><span style=\"background-color: rgb(255, 255, 255);\"> the</span><span style=\"background-color: rgb(255, 255, 255);\"> area</span><span style=\"background-color: rgb(255, 255, 255);\"> was</span><span style=\"background-color: rgb(255, 255, 255);\"> a</span><span style=\"background-color: rgb(255, 255, 255);\"> lovely</span><span style=\"background-color: rgb(255, 255, 255);\"> way</span><span style=\"background-color: rgb(255, 255, 255);\"> to</span><span style=\"background-color: rgb(255, 255, 255);\"> end</span><span style=\"background-color: rgb(255, 255, 255);\"> a</span><span style=\"background-color: rgb(255, 255, 255);\"> great</span><span style=\"background-color: rgb(255, 255, 255);\"> day</span><span style=\"background-color: rgb(255, 255, 255);\"> discovering</span><span style=\"background-color: rgb(255, 149, 149);\"> Rota</span><span style=\"background-color: rgb(255, 255, 255);\">.</span><span style=\"background-color: rgb(255, 255, 255);\"> There</span><span style=\"background-color: rgb(255, 255, 255);\"> are</span><span style=\"background-color: rgb(255, 255, 255);\"> lots</span><span style=\"background-color: rgb(255, 255, 255);\"> of</span><span style=\"background-color: rgb(255, 255, 255);\"> green</span><span style=\"background-color: rgb(255, 255, 255);\"> spaces</span><span style=\"background-color: rgb(255, 255, 255);\"> in</span><span style=\"background-color: rgb(255, 255, 255);\"> the</span><span style=\"background-color: rgb(255, 255, 255);\"> area</span><span style=\"background-color: rgb(255, 255, 255);\"> especially</span><span style=\"background-color: rgb(255, 255, 255);\"> as</span><span style=\"background-color: rgb(255, 255, 255);\"> the</span><span style=\"background-color: rgb(255, 255, 255);\"> pine</span><span style=\"background-color: rgb(255, 255, 255);\"> trees</span><span style=\"background-color: rgb(255, 255, 255);\"> actually</span><span style=\"background-color: rgb(255, 255, 255);\"> reach</span><span style=\"background-color: rgb(255, 255, 255);\"> the</span><span style=\"background-color: rgb(255, 255, 255);\"> coast</span><span style=\"background-color: rgb(255, 255, 255);\">.</span><span style=\"background-color: rgb(255, 255, 255);\"> So</span></p><p>Max Activation: 45.0000:</p><p><span style=\"background-color: rgb(255, 255, 255);\">\n",
       "</span><span style=\"background-color: rgb(255, 255, 255);\">\n",
       "</span><span style=\"background-color: rgb(255, 255, 255);\">The</span><span style=\"background-color: rgb(255, 255, 255);\"> Get</span><span style=\"background-color: rgb(255, 255, 255);\">Rep</span><span style=\"background-color: rgb(255, 255, 255);\">onse</span><span style=\"background-color: rgb(255, 255, 255);\"> website</span><span style=\"background-color: rgb(255, 255, 255);\"> hosts</span><span style=\"background-color: rgb(255, 255, 255);\"> a</span><span style=\"background-color: rgb(255, 255, 255);\"> detailed</span><span style=\"background-color: rgb(255, 255, 255);\"> Help</span><span style=\"background-color: rgb(255, 255, 255);\"> Center</span><span style=\"background-color: rgb(255, 255, 255);\"> where</span><span style=\"background-color: rgb(255, 255, 255);\"> you</span><span style=\"background-color: rgb(255, 255, 255);\"> can</span><span style=\"background-color: rgb(255, 255, 255);\"> quickly</span><span style=\"background-color: rgb(255, 255, 255);\"> look</span><span style=\"background-color: rgb(255, 255, 255);\"> at</span><span style=\"background-color: rgb(255, 255, 255);\"> answers</span><span style=\"background-color: rgb(255, 255, 255);\"> to</span><span style=\"background-color: rgb(255, 255, 255);\"> usual</span><span style=\"background-color: rgb(255, 255, 255);\"> inquiries</span><span style=\"background-color: rgb(255, 255, 255);\">.</span><span style=\"background-color: rgb(255, 255, 255);\"> The</span><span style=\"background-color: rgb(255, 255, 255);\"> vendor</span><span style=\"background-color: rgb(255, 255, 255);\"> likewise</span><span style=\"background-color: rgb(255, 255, 255);\"> offers</span><span style=\"background-color: rgb(255, 255, 255);\"> </span><span style=\"background-color: rgb(255, 255, 255);\">2</span><span style=\"background-color: rgb(255, 255, 255);\">4</span><span style=\"background-color: rgb(255, 255, 255);\">/</span><span style=\"background-color: rgb(255, 255, 255);\">7</span><span style=\"background-color: rgb(255, 255, 255);\"> assistance</span><span style=\"background-color: rgb(255, 255, 255);\"> through</span><span style=\"background-color: rgb(255, 255, 255);\"> live</span><span style=\"background-color: rgb(255, 255, 255);\"> chat</span><span style=\"background-color: rgb(255, 255, 255);\"> and</span><span style=\"background-color: rgb(255, 255, 255);\"> email</span><span style=\"background-color: rgb(255, 255, 255);\">.</span><span style=\"background-color: rgb(255, 255, 255);\"> The</span><span style=\"background-color: rgb(255, 255, 255);\"> user</span><span style=\"background-color: rgb(255, 255, 255);\"> experience</span><span style=\"background-color: rgb(255, 255, 255);\"> is</span><span style=\"background-color: rgb(255, 255, 255);\"> amazing</span><span style=\"background-color: rgb(255, 255, 255);\"> and</span><span style=\"background-color: rgb(255, 255, 255);\"> the</span><span style=\"background-color: rgb(255, 255, 255);\"> third</span><span style=\"background-color: rgb(255, 255, 255);\">-</span><span style=\"background-color: rgb(255, 255, 255);\">party</span><span style=\"background-color: rgb(255, 255, 255);\"> integrations</span><span style=\"background-color: rgb(255, 255, 255);\"> allow</span><span style=\"background-color: rgb(255, 255, 255);\"> you</span><span style=\"background-color: rgb(255, 255, 255);\"> to</span><span style=\"background-color: rgb(255, 255, 255);\"> easily</span><span style=\"background-color: rgb(255, 255, 255);\"> link</span><span style=\"background-color: rgb(255, 255, 255);\"> the</span><span style=\"background-color: rgb(255, 255, 255);\"> application</span><span style=\"background-color: rgb(255, 255, 255);\"> with</span><span style=\"background-color: rgb(255, 255, 255);\"> your</span><span style=\"background-color: rgb(255, 255, 255);\"> existing</span><span style=\"background-color: rgb(255, 255, 255);\"> business</span><span style=\"background-color: rgb(255, 255, 255);\"> software</span><span style=\"background-color: rgb(255, 255, 255);\"> application</span><span style=\"background-color: rgb(255, 255, 255);\"> platforms</span><span style=\"background-color: rgb(255, 255, 255);\">.</span><span style=\"background-color: rgb(255, 255, 255);\"> We</span><span style=\"background-color: rgb(255, 255, 255);\"> provide</span><span style=\"background-color: rgb(255, 255, 255);\"> the</span><span style=\"background-color: rgb(255, 255, 255);\"> thumbs</span><span style=\"background-color: rgb(255, 255, 255);\"> approximately</span><span style=\"background-color: rgb(255, 255, 255);\"> Get</span><span style=\"background-color: rgb(255, 45, 45);\">Response</span><span style=\"background-color: rgb(255, 255, 255);\"> and</span><span style=\"background-color: rgb(255, 255, 255);\"> welcome</span><span style=\"background-color: rgb(255, 255, 255);\"> you</span><span style=\"background-color: rgb(255, 255, 255);\"> to</span><span style=\"background-color: rgb(255, 255, 255);\"> have</span><span style=\"background-color: rgb(255, 255, 255);\"> a</span><span style=\"background-color: rgb(255, 255, 255);\"> look</span><span style=\"background-color: rgb(255, 255, 255);\"> at</span><span style=\"background-color: rgb(255, 255, 255);\"> its</span><span style=\"background-color: rgb(255, 255, 255);\"> leading</span><span style=\"background-color: rgb(255, 255, 255);\"> rate</span><span style=\"background-color: rgb(255, 255, 255);\"> e</span><span style=\"background-color: rgb(255, 255, 255);\">-</span><span style=\"background-color: rgb(255, 255, 255);\">mail</span><span style=\"background-color: rgb(255, 255, 255);\"> marketing</span><span style=\"background-color: rgb(255, 255, 255);\"> functionalities</span><span style=\"background-color: rgb(255, 255, 255);\">.</span><span style=\"background-color: rgb(255, 255, 255);\">\n",
       "</span><span style=\"background-color: rgb(255, 255, 255);\">Marketing</span><span style=\"background-color: rgb(255, 255, 255);\"> Automation</span><span style=\"background-color: rgb(255, 255, 255);\"> –</span><span style=\"background-color: rgb(255, 255, 255);\"> Get</span><span style=\"background-color: rgb(255, 106, 106);\">Response</span><span style=\"background-color: rgb(255, 255, 255);\">’</span><span style=\"background-color: rgb(255, 255, 255);\">s</span><span style=\"background-color: rgb(255, 255, 255);\"> marketing</span><span style=\"background-color: rgb(255, 255, 255);\"> automation</span><span style=\"background-color: rgb(255, 255, 255);\"> feature</span><span style=\"background-color: rgb(255, 255, 255);\"> lets</span><span style=\"background-color: rgb(255, 255, 255);\"> users</span><span style=\"background-color: rgb(255, 255, 255);\"> build</span><span style=\"background-color: rgb(255, 255, 255);\"> scalable</span><span style=\"background-color: rgb(255, 255, 255);\"> workflows</span><span style=\"background-color: rgb(255, 255, 255);\"> based</span><span style=\"background-color: rgb(255, 255, 255);\"> on</span><span style=\"background-color: rgb(255, 255, 255);\"> client</span><span style=\"background-color: rgb(255, 255, 255);\"> journeys</span><span style=\"background-color: rgb(255, 255, 255);\">.</span><span style=\"background-color: rgb(255, 255, 255);\"> Action</span><span style=\"background-color: rgb(255, 255, 255);\">-</span><span style=\"background-color: rgb(255, 255, 255);\">based</span><span style=\"background-color: rgb(255, 255, 255);\"> auto</span><span style=\"background-color: rgb(255, 255, 255);\">respond</span><span style=\"background-color: rgb(255, 255, 255);\">ers</span><span style=\"background-color: rgb(255, 255, 255);\"> allow</span><span style=\"background-color: rgb(255, 255, 255);\"> for</span><span style=\"background-color: rgb(255, 255, 255);\"> the</span><span style=\"background-color: rgb(255, 255, 255);\"> creation</span><span style=\"background-color: rgb(255, 255, 255);\"> of</span><span style=\"background-color: rgb(255, 255, 255);\"> messages</span><span style=\"background-color: rgb(255, 255, 255);\"> that</span><span style=\"background-color: rgb(255, 255, 255);\"> are</span><span style=\"background-color: rgb(255, 255, 255);\"> set</span></p><p>Max Activation: 44.5000:</p><p><span style=\"background-color: rgb(255, 255, 255);\">\n",
       "</span><span style=\"background-color: rgb(255, 255, 255);\"> shown</span><span style=\"background-color: rgb(255, 255, 255);\"> below</span><span style=\"background-color: rgb(255, 255, 255);\">,</span><span style=\"background-color: rgb(255, 255, 255);\"> any</span><span style=\"background-color: rgb(255, 255, 255);\"> years</span><span style=\"background-color: rgb(255, 255, 255);\"> where</span><span style=\"background-color: rgb(255, 255, 255);\"> they</span><span style=\"background-color: rgb(255, 255, 255);\"> have</span><span style=\"background-color: rgb(255, 255, 255);\"> experienced</span><span style=\"background-color: rgb(255, 255, 255);\"> a</span><span style=\"background-color: rgb(255, 255, 255);\"> loss</span><span style=\"background-color: rgb(255, 255, 255);\"> will</span><span style=\"background-color: rgb(255, 255, 255);\"> show</span><span style=\"background-color: rgb(255, 255, 255);\"> up</span><span style=\"background-color: rgb(255, 255, 255);\"> in</span><span style=\"background-color: rgb(255, 255, 255);\"> red</span><span style=\"background-color: rgb(255, 255, 255);\">.</span><span style=\"background-color: rgb(255, 255, 255);\">\n",
       "</span><span style=\"background-color: rgb(255, 255, 255);\">Whilst</span><span style=\"background-color: rgb(255, 255, 255);\"> Poly</span><span style=\"background-color: rgb(255, 47, 47);\">metal</span><span style=\"background-color: rgb(255, 255, 255);\"> International</span><span style=\"background-color: rgb(255, 255, 255);\"> has</span><span style=\"background-color: rgb(255, 255, 255);\"> efficiently</span><span style=\"background-color: rgb(255, 255, 255);\"> used</span><span style=\"background-color: rgb(255, 255, 255);\"> shareholders</span><span style=\"background-color: rgb(255, 255, 255);\">’</span><span style=\"background-color: rgb(255, 255, 255);\"> funds</span><span style=\"background-color: rgb(255, 255, 255);\"> last</span><span style=\"background-color: rgb(255, 255, 255);\"> year</span><span style=\"background-color: rgb(255, 255, 255);\"> (</span><span style=\"background-color: rgb(255, 255, 255);\">Return</span><span style=\"background-color: rgb(255, 255, 255);\"> on</span><span style=\"background-color: rgb(255, 255, 255);\"> Equity</span><span style=\"background-color: rgb(255, 255, 255);\"> greater</span><span style=\"background-color: rgb(255, 255, 255);\"> than</span><span style=\"background-color: rgb(255, 255, 255);\"> </span><span style=\"background-color: rgb(255, 255, 255);\">2</span><span style=\"background-color: rgb(255, 255, 255);\">0</span><span style=\"background-color: rgb(255, 255, 255);\">%),</span><span style=\"background-color: rgb(255, 255, 255);\"> this</span><span style=\"background-color: rgb(255, 255, 255);\"> is</span><span style=\"background-color: rgb(255, 255, 255);\"> metric</span><span style=\"background-color: rgb(255, 255, 255);\"> is</span><span style=\"background-color: rgb(255, 255, 255);\"> skewed</span><span style=\"background-color: rgb(255, 255, 255);\"> due</span><span style=\"background-color: rgb(255, 255, 255);\"> to</span><span style=\"background-color: rgb(255, 255, 255);\"> its</span><span style=\"background-color: rgb(255, 255, 255);\"> high</span><span style=\"background-color: rgb(255, 255, 255);\"> level</span><span style=\"background-color: rgb(255, 255, 255);\"> of</span><span style=\"background-color: rgb(255, 255, 255);\"> debt</span><span style=\"background-color: rgb(255, 255, 255);\">.</span><span style=\"background-color: rgb(255, 255, 255);\">\n",
       "</span><span style=\"background-color: rgb(255, 255, 255);\">Poly</span><span style=\"background-color: rgb(255, 186, 186);\">metal</span><span style=\"background-color: rgb(255, 255, 255);\"> International</span><span style=\"background-color: rgb(255, 255, 255);\"> used</span><span style=\"background-color: rgb(255, 255, 255);\"> its</span><span style=\"background-color: rgb(255, 255, 255);\"> assets</span><span style=\"background-color: rgb(255, 255, 255);\"> more</span><span style=\"background-color: rgb(255, 255, 255);\"> efficiently</span><span style=\"background-color: rgb(255, 255, 255);\"> than</span><span style=\"background-color: rgb(255, 255, 255);\"> the</span><span style=\"background-color: rgb(255, 255, 255);\"> RU</span><span style=\"background-color: rgb(255, 255, 255);\"> Metals</span><span style=\"background-color: rgb(255, 255, 255);\"> and</span><span style=\"background-color: rgb(255, 255, 255);\"> Mining</span><span style=\"background-color: rgb(255, 255, 255);\"> industry</span><span style=\"background-color: rgb(255, 255, 255);\"> average</span><span style=\"background-color: rgb(255, 255, 255);\"> last</span><span style=\"background-color: rgb(255, 255, 255);\"> year</span><span style=\"background-color: rgb(255, 255, 255);\"> based</span><span style=\"background-color: rgb(255, 255, 255);\"> on</span><span style=\"background-color: rgb(255, 255, 255);\"> Return</span><span style=\"background-color: rgb(255, 255, 255);\"> on</span><span style=\"background-color: rgb(255, 255, 255);\"> Assets</span><span style=\"background-color: rgb(255, 255, 255);\">.</span><span style=\"background-color: rgb(255, 255, 255);\">\n",
       "</span><span style=\"background-color: rgb(255, 255, 255);\">Poly</span><span style=\"background-color: rgb(255, 255, 255);\">metal</span><span style=\"background-color: rgb(255, 255, 255);\"> International</span><span style=\"background-color: rgb(255, 255, 255);\">&#x27;</span><span style=\"background-color: rgb(255, 255, 255);\">s</span><span style=\"background-color: rgb(255, 255, 255);\"> use</span><span style=\"background-color: rgb(255, 255, 255);\"> of</span><span style=\"background-color: rgb(255, 255, 255);\"> capital</span><span style=\"background-color: rgb(255, 255, 255);\"> deteriorated</span><span style=\"background-color: rgb(255, 255, 255);\"> last</span><span style=\"background-color: rgb(255, 255, 255);\"> year</span><span style=\"background-color: rgb(255, 255, 255);\"> versus</span><span style=\"background-color: rgb(255, 255, 255);\"> </span><span style=\"background-color: rgb(255, 255, 255);\">3</span><span style=\"background-color: rgb(255, 255, 255);\"> years</span><span style=\"background-color: rgb(255, 255, 255);\"> ago</span><span style=\"background-color: rgb(255, 255, 255);\"> (</span><span style=\"background-color: rgb(255, 255, 255);\">Return</span><span style=\"background-color: rgb(255, 255, 255);\"> on</span><span style=\"background-color: rgb(255, 255, 255);\"> Capital</span><span style=\"background-color: rgb(255, 255, 255);\"> Employed</span><span style=\"background-color: rgb(255, 255, 255);\">).</span><span style=\"background-color: rgb(255, 255, 255);\">\n",
       "</span><span style=\"background-color: rgb(255, 255, 255);\">Poly</span><span style=\"background-color: rgb(255, 255, 255);\">metal</span><span style=\"background-color: rgb(255, 255, 255);\"> International</span><span style=\"background-color: rgb(255, 255, 255);\"> has</span><span style=\"background-color: rgb(255, 255, 255);\"> a</span><span style=\"background-color: rgb(255, 255, 255);\"> total</span><span style=\"background-color: rgb(255, 255, 255);\"> score</span><span style=\"background-color: rgb(255, 255, 255);\"> of</span><span style=\"background-color: rgb(255, 255, 255);\"> </span><span style=\"background-color: rgb(255, 255, 255);\">3</span><span style=\"background-color: rgb(255, 255, 255);\">/</span><span style=\"background-color: rgb(255, 255, 255);\">6</span><span style=\"background-color: rgb(255, 255, 255);\">,</span><span style=\"background-color: rgb(255, 255, 255);\"> see</span><span style=\"background-color: rgb(255, 255, 255);\"> the</span><span style=\"background-color: rgb(255, 255, 255);\"> detailed</span><span style=\"background-color: rgb(255, 255, 255);\"> checks</span><span style=\"background-color: rgb(255, 255, 255);\"> below</span><span style=\"background-color: rgb(255, 255, 255);\">.</span><span style=\"background-color: rgb(255, 255, 255);\">\n",
       "</span><span style=\"background-color: rgb(255, 255, 255);\">How</span><span style=\"background-color: rgb(255, 255, 255);\"> is</span></p><p>Max Activation: 43.7500:</p><p><span style=\"background-color: rgb(255, 255, 255);\">\n",
       "</span><span style=\"background-color: rgb(255, 255, 255);\"> WWE</span><span style=\"background-color: rgb(255, 179, 179);\"> Network</span><span style=\"background-color: rgb(255, 255, 255);\">.</span><span style=\"background-color: rgb(255, 255, 255);\"> Pre</span><span style=\"background-color: rgb(255, 255, 255);\">-</span><span style=\"background-color: rgb(255, 255, 255);\">show</span><span style=\"background-color: rgb(255, 255, 255);\"> begins</span><span style=\"background-color: rgb(255, 255, 255);\"> at</span><span style=\"background-color: rgb(255, 255, 255);\"> </span><span style=\"background-color: rgb(255, 255, 255);\">6</span><span style=\"background-color: rgb(255, 255, 255);\"> p</span><span style=\"background-color: rgb(255, 255, 255);\">.</span><span style=\"background-color: rgb(255, 255, 255);\">m</span><span style=\"background-color: rgb(255, 255, 255);\">.</span><span style=\"background-color: rgb(255, 255, 255);\"> EST</span><span style=\"background-color: rgb(255, 255, 255);\">.</span><span style=\"background-color: rgb(255, 255, 255);\">\n",
       "</span><span style=\"background-color: rgb(255, 255, 255);\">Visit</span><span style=\"background-color: rgb(255, 255, 255);\"> www</span><span style=\"background-color: rgb(255, 255, 255);\">.</span><span style=\"background-color: rgb(255, 255, 255);\">W</span><span style=\"background-color: rgb(255, 255, 255);\">restle</span><span style=\"background-color: rgb(255, 198, 198);\">Mania</span><span style=\"background-color: rgb(255, 255, 255);\">.</span><span style=\"background-color: rgb(255, 255, 255);\">com</span><span style=\"background-color: rgb(255, 255, 255);\"> for</span><span style=\"background-color: rgb(255, 255, 255);\"> full</span><span style=\"background-color: rgb(255, 255, 255);\"> card</span><span style=\"background-color: rgb(255, 255, 255);\"> and</span><span style=\"background-color: rgb(255, 255, 255);\"> details</span><span style=\"background-color: rgb(255, 255, 255);\"> on</span><span style=\"background-color: rgb(255, 255, 255);\"> everything</span><span style=\"background-color: rgb(255, 255, 255);\"> surrounding</span><span style=\"background-color: rgb(255, 255, 255);\"> the</span><span style=\"background-color: rgb(255, 255, 255);\"> biggest</span><span style=\"background-color: rgb(255, 255, 255);\"> spectacle</span><span style=\"background-color: rgb(255, 255, 255);\"> in</span><span style=\"background-color: rgb(255, 255, 255);\"> sports</span><span style=\"background-color: rgb(255, 255, 255);\"> entertainment</span><span style=\"background-color: rgb(255, 255, 255);\">.</span><span style=\"background-color: rgb(255, 255, 255);\">\n",
       "</span><span style=\"background-color: rgb(255, 255, 255);\">•</span><span style=\"background-color: rgb(255, 255, 255);\"> Follow</span><span style=\"background-color: rgb(255, 255, 255);\"> L</span><span style=\"background-color: rgb(255, 51, 51);\">ita</span><span style=\"background-color: rgb(255, 255, 255);\"> on</span><span style=\"background-color: rgb(255, 255, 255);\"> Twitter</span><span style=\"background-color: rgb(255, 255, 255);\"> @</span><span style=\"background-color: rgb(255, 255, 255);\">Amy</span><span style=\"background-color: rgb(255, 255, 255);\">D</span><span style=\"background-color: rgb(255, 255, 255);\">umas</span><span style=\"background-color: rgb(255, 255, 255);\">.</span><span style=\"background-color: rgb(255, 255, 255);\">\n",
       "</span><span style=\"background-color: rgb(255, 255, 255);\">•</span><span style=\"background-color: rgb(255, 255, 255);\"> Follow</span><span style=\"background-color: rgb(255, 255, 255);\"> me</span><span style=\"background-color: rgb(255, 255, 255);\"> on</span><span style=\"background-color: rgb(255, 255, 255);\"> Twitter</span><span style=\"background-color: rgb(255, 255, 255);\"> @</span><span style=\"background-color: rgb(255, 255, 255);\">sm</span><span style=\"background-color: rgb(255, 255, 255);\">FISH</span><span style=\"background-color: rgb(255, 255, 255);\">MAN</span><span style=\"background-color: rgb(255, 255, 255);\"> for</span><span style=\"background-color: rgb(255, 255, 255);\"> live</span><span style=\"background-color: rgb(255, 255, 255);\"> tweets</span><span style=\"background-color: rgb(255, 255, 255);\"> from</span><span style=\"background-color: rgb(255, 255, 255);\"> New</span><span style=\"background-color: rgb(255, 255, 255);\"> Orleans</span><span style=\"background-color: rgb(255, 255, 255);\"> on</span><span style=\"background-color: rgb(255, 255, 255);\"> WrestleMania</span><span style=\"background-color: rgb(255, 255, 255);\"> Weekend</span><span style=\"background-color: rgb(255, 255, 255);\">.</span><span style=\"background-color: rgb(255, 255, 255);\">&lt;eos&gt;</span><span style=\"background-color: rgb(255, 255, 255);\">from</span><span style=\"background-color: rgb(255, 255, 255);\"> decimal</span><span style=\"background-color: rgb(255, 255, 255);\"> import</span><span style=\"background-color: rgb(255, 255, 255);\"> Decimal</span><span style=\"background-color: rgb(255, 255, 255);\">\n",
       "</span><span style=\"background-color: rgb(255, 255, 255);\">from</span><span style=\"background-color: rgb(255, 255, 255);\"> dima</span><span style=\"background-color: rgb(255, 255, 255);\">gi</span><span style=\"background-color: rgb(255, 255, 255);\">.</span><span style=\"background-color: rgb(255, 255, 255);\">ext</span><span style=\"background-color: rgb(255, 255, 255);\">.</span><span style=\"background-color: rgb(255, 255, 255);\">json</span><span style=\"background-color: rgb(255, 255, 255);\">object</span><span style=\"background-color: rgb(255, 255, 255);\"> import</span><span style=\"background-color: rgb(255, 255, 255);\"> Dict</span><span style=\"background-color: rgb(255, 255, 255);\">Property</span><span style=\"background-color: rgb(255, 255, 255);\">,</span><span style=\"background-color: rgb(255, 255, 255);\"> JsonObject</span><span style=\"background-color: rgb(255, 255, 255);\">,</span><span style=\"background-color: rgb(255, 255, 255);\"> String</span><span style=\"background-color: rgb(255, 255, 255);\">Property</span><span style=\"background-color: rgb(255, 255, 255);\">\n",
       "</span><span style=\"background-color: rgb(255, 255, 255);\">from</span><span style=\"background-color: rgb(255, 255, 255);\"> core</span><span style=\"background-color: rgb(255, 255, 255);\">hq</span><span style=\"background-color: rgb(255, 255, 255);\">.</span><span style=\"background-color: rgb(255, 255, 255);\">apps</span><span style=\"background-color: rgb(255, 255, 255);\">.</span><span style=\"background-color: rgb(255, 255, 255);\">user</span><span style=\"background-color: rgb(255, 255, 255);\">reports</span><span style=\"background-color: rgb(255, 255, 255);\">.</span><span style=\"background-color: rgb(255, 255, 255);\">specs</span><span style=\"background-color: rgb(255, 255, 255);\"> import</span><span style=\"background-color: rgb(255, 255, 255);\"> Type</span><span style=\"background-color: rgb(255, 255, 255);\">Property</span><span style=\"background-color: rgb(255, 255, 255);\">\n",
       "</span><span style=\"background-color: rgb(255, 255, 255);\">from</span><span style=\"background-color: rgb(255, 255, 255);\"> core</span><span style=\"background-color: rgb(255, 255, 255);\">hq</span><span style=\"background-color: rgb(255, 255, 255);\">.</span><span style=\"background-color: rgb(255, 255, 255);\">apps</span><span style=\"background-color: rgb(255, 255, 255);\">.</span><span style=\"background-color: rgb(255, 255, 255);\">user</span><span style=\"background-color: rgb(255, 255, 255);\">reports</span><span style=\"background-color: rgb(255, 255, 255);\">.</span><span style=\"background-color: rgb(255, 255, 255);\">transforms</span><span style=\"background-color: rgb(255, 255, 255);\">.</span><span style=\"background-color: rgb(255, 255, 255);\">custom</span><span style=\"background-color: rgb(255, 255, 255);\">.</span><span style=\"background-color: rgb(255, 255, 255);\">date</span><span style=\"background-color: rgb(255, 255, 255);\"> import</span></p><p>Max Activation: 44.0000:</p><p><span style=\"background-color: rgb(255, 255, 255);\">\n",
       "</span><span style=\"background-color: rgb(255, 255, 255);\">_</span><span style=\"background-color: rgb(255, 255, 255);\">configuration</span><span style=\"background-color: rgb(255, 255, 255);\">_</span><span style=\"background-color: rgb(255, 255, 255);\">values</span><span style=\"background-color: rgb(255, 255, 255);\">)</span><span style=\"background-color: rgb(255, 255, 255);\">\n",
       "\n",
       "</span><span style=\"background-color: rgb(255, 255, 255);\">    </span><span style=\"background-color: rgb(255, 255, 255);\">def</span><span style=\"background-color: rgb(255, 255, 255);\"> test</span><span style=\"background-color: rgb(255, 255, 255);\">_</span><span style=\"background-color: rgb(255, 255, 255);\">register</span><span style=\"background-color: rgb(255, 255, 255);\">_</span><span style=\"background-color: rgb(255, 255, 255);\">option</span><span style=\"background-color: rgb(255, 255, 255);\">_</span><span style=\"background-color: rgb(255, 255, 255);\">login</span><span style=\"background-color: rgb(255, 255, 255);\">_</span><span style=\"background-color: rgb(255, 255, 255);\">page</span><span style=\"background-color: rgb(255, 255, 255);\">(</span><span style=\"background-color: rgb(255, 255, 255);\">self</span><span style=\"background-color: rgb(255, 255, 255);\">):</span><span style=\"background-color: rgb(255, 255, 255);\">\n",
       "</span><span style=\"background-color: rgb(255, 255, 255);\">        </span><span style=\"background-color: rgb(255, 255, 255);\">&quot;&quot;&quot;</span><span style=\"background-color: rgb(255, 255, 255);\">\n",
       "</span><span style=\"background-color: rgb(255, 255, 255);\">        </span><span style=\"background-color: rgb(255, 255, 255);\">Navigate</span><span style=\"background-color: rgb(255, 255, 255);\"> to</span><span style=\"background-color: rgb(255, 255, 255);\"> the</span><span style=\"background-color: rgb(255, 255, 255);\"> login</span><span style=\"background-color: rgb(255, 255, 255);\"> page</span><span style=\"background-color: rgb(255, 255, 255);\"> and</span><span style=\"background-color: rgb(255, 255, 255);\"> check</span><span style=\"background-color: rgb(255, 255, 255);\"> the</span><span style=\"background-color: rgb(255, 255, 255);\"> Register</span><span style=\"background-color: rgb(255, 255, 255);\"> option</span><span style=\"background-color: rgb(255, 255, 255);\"> is</span><span style=\"background-color: rgb(255, 255, 255);\"> hidden</span><span style=\"background-color: rgb(255, 255, 255);\"> when</span><span style=\"background-color: rgb(255, 255, 255);\">\n",
       "</span><span style=\"background-color: rgb(255, 255, 255);\">        </span><span style=\"background-color: rgb(255, 255, 255);\">ALLOW</span><span style=\"background-color: rgb(255, 255, 255);\">_</span><span style=\"background-color: rgb(255, 255, 255);\">PUBLIC</span><span style=\"background-color: rgb(255, 255, 255);\">_</span><span style=\"background-color: rgb(255, 255, 255);\">ACCOUNT</span><span style=\"background-color: rgb(255, 255, 255);\">_</span><span style=\"background-color: rgb(255, 255, 255);\">CRE</span><span style=\"background-color: rgb(255, 255, 255);\">ATION</span><span style=\"background-color: rgb(255, 255, 255);\"> flag</span><span style=\"background-color: rgb(255, 255, 255);\"> is</span><span style=\"background-color: rgb(255, 255, 255);\"> turned</span><span style=\"background-color: rgb(255, 255, 255);\"> off</span><span style=\"background-color: rgb(255, 255, 255);\">\n",
       "</span><span style=\"background-color: rgb(255, 255, 255);\">        </span><span style=\"background-color: rgb(255, 255, 255);\">&quot;&quot;&quot;</span><span style=\"background-color: rgb(255, 255, 255);\">\n",
       "</span><span style=\"background-color: rgb(255, 255, 255);\">        </span><span style=\"background-color: rgb(255, 255, 255);\">response</span><span style=\"background-color: rgb(255, 255, 255);\"> =</span><span style=\"background-color: rgb(255, 255, 255);\"> self</span><span style=\"background-color: rgb(255, 255, 255);\">.</span><span style=\"background-color: rgb(255, 255, 255);\">client</span><span style=\"background-color: rgb(255, 255, 255);\">.</span><span style=\"background-color: rgb(255, 255, 255);\">get</span><span style=\"background-color: rgb(255, 255, 255);\">(</span><span style=\"background-color: rgb(255, 255, 255);\">reverse</span><span style=\"background-color: rgb(255, 255, 255);\">(&#x27;</span><span style=\"background-color: rgb(255, 255, 255);\">signin</span><span style=\"background-color: rgb(255, 255, 255);\">_</span><span style=\"background-color: rgb(255, 255, 255);\">user</span><span style=\"background-color: rgb(255, 255, 255);\">&#x27;))</span><span style=\"background-color: rgb(255, 255, 255);\">\n",
       "</span><span style=\"background-color: rgb(255, 255, 255);\">        </span><span style=\"background-color: rgb(255, 255, 255);\">self</span><span style=\"background-color: rgb(255, 255, 255);\">.</span><span style=\"background-color: rgb(255, 255, 255);\">assert</span><span style=\"background-color: rgb(255, 255, 255);\">NotIn</span><span style=\"background-color: rgb(255, 255, 255);\">(&#x27;&lt;</span><span style=\"background-color: rgb(255, 255, 255);\">a</span><span style=\"background-color: rgb(255, 255, 255);\"> class</span><span style=\"background-color: rgb(255, 255, 255);\">=&quot;</span><span style=\"background-color: rgb(255, 255, 255);\">btn</span><span style=\"background-color: rgb(255, 255, 255);\">-</span><span style=\"background-color: rgb(255, 255, 255);\">neutral</span><span style=\"background-color: rgb(255, 255, 255);\">&quot;</span><span style=\"background-color: rgb(255, 255, 255);\"> href</span><span style=\"background-color: rgb(255, 255, 255);\">=&quot;/</span><span style=\"background-color: rgb(255, 255, 255);\">register</span><span style=\"background-color: rgb(255, 255, 255);\">?</span><span style=\"background-color: rgb(255, 255, 255);\">next</span><span style=\"background-color: rgb(255, 255, 255);\">=%</span><span style=\"background-color: rgb(255, 255, 255);\">2</span><span style=\"background-color: rgb(255, 255, 255);\">F</span><span style=\"background-color: rgb(255, 255, 255);\">dashboard</span><span style=\"background-color: rgb(255, 255, 255);\">&quot;&gt;</span><span style=\"background-color: rgb(255, 255, 255);\">Register</span><span style=\"background-color: rgb(255, 255, 255);\">&lt;/</span><span style=\"background-color: rgb(255, 255, 255);\">a</span><span style=\"background-color: rgb(255, 255, 255);\">&gt;&#x27;,</span><span style=\"background-color: rgb(255, 255, 255);\">\n",
       "</span><span style=\"background-color: rgb(255, 255, 255);\">                         </span><span style=\"background-color: rgb(255, 255, 255);\">response</span><span style=\"background-color: rgb(255, 255, 255);\">.</span><span style=\"background-color: rgb(255, 255, 255);\">content</span><span style=\"background-color: rgb(255, 255, 255);\">)</span><span style=\"background-color: rgb(255, 255, 255);\">\n",
       "</span><span style=\"background-color: rgb(255, 255, 255);\">&lt;eos&gt;</span><span style=\"background-color: rgb(255, 255, 255);\">It</span><span style=\"background-color: rgb(255, 255, 255);\"> isn</span><span style=\"background-color: rgb(255, 255, 255);\">’</span><span style=\"background-color: rgb(255, 255, 255);\">t</span><span style=\"background-color: rgb(255, 255, 255);\"> all</span><span style=\"background-color: rgb(255, 255, 255);\"> love</span><span style=\"background-color: rgb(255, 255, 255);\"> for</span><span style=\"background-color: rgb(255, 255, 255);\"> “</span><span style=\"background-color: rgb(255, 255, 255);\">Love</span><span style=\"background-color: rgb(255, 255, 255);\"> &amp;</span><span style=\"background-color: rgb(255, 176, 176);\"> Hip</span><span style=\"background-color: rgb(255, 255, 255);\"> Hop</span><span style=\"background-color: rgb(255, 171, 171);\"> Hollywood</span><span style=\"background-color: rgb(255, 255, 255);\">”</span><span style=\"background-color: rgb(255, 255, 255);\"> star</span><span style=\"background-color: rgb(255, 255, 255);\"> Yung</span><span style=\"background-color: rgb(255, 50, 50);\"> Berg</span></p><p>Max Activation: 41.7500:</p><p><span style=\"background-color: rgb(255, 255, 255);\">\n",
       "</span><span style=\"background-color: rgb(255, 255, 255);\"> recall</span><span style=\"background-color: rgb(255, 255, 255);\"> the</span><span style=\"background-color: rgb(255, 255, 255);\"> history</span><span style=\"background-color: rgb(255, 255, 255);\"> and</span><span style=\"background-color: rgb(255, 255, 255);\"> folklore</span><span style=\"background-color: rgb(255, 255, 255);\"> of</span><span style=\"background-color: rgb(255, 255, 255);\"> the</span><span style=\"background-color: rgb(255, 255, 255);\"> club</span><span style=\"background-color: rgb(255, 255, 255);\">,</span><span style=\"background-color: rgb(255, 255, 255);\"> stretching</span><span style=\"background-color: rgb(255, 255, 255);\"> back</span><span style=\"background-color: rgb(255, 255, 255);\"> to</span><span style=\"background-color: rgb(255, 255, 255);\"> its</span><span style=\"background-color: rgb(255, 255, 255);\"> humble</span><span style=\"background-color: rgb(255, 255, 255);\"> beginnings</span><span style=\"background-color: rgb(255, 255, 255);\"> in</span><span style=\"background-color: rgb(255, 255, 255);\"> </span><span style=\"background-color: rgb(255, 255, 255);\">1</span><span style=\"background-color: rgb(255, 255, 255);\">8</span><span style=\"background-color: rgb(255, 255, 255);\">7</span><span style=\"background-color: rgb(255, 255, 255);\">5</span><span style=\"background-color: rgb(255, 255, 255);\"> and</span><span style=\"background-color: rgb(255, 255, 255);\"> right</span><span style=\"background-color: rgb(255, 255, 255);\"> up</span><span style=\"background-color: rgb(255, 255, 255);\"> to</span><span style=\"background-color: rgb(255, 255, 255);\"> the</span><span style=\"background-color: rgb(255, 255, 255);\"> modern</span><span style=\"background-color: rgb(255, 255, 255);\">-</span><span style=\"background-color: rgb(255, 255, 255);\">day</span><span style=\"background-color: rgb(255, 255, 255);\"> era</span><span style=\"background-color: rgb(255, 255, 255);\"> of</span><span style=\"background-color: rgb(255, 221, 221);\"> Hiber</span><span style=\"background-color: rgb(255, 60, 60);\">nian</span><span style=\"background-color: rgb(255, 255, 255);\">.</span><span style=\"background-color: rgb(255, 255, 255);\">\n",
       "</span><span style=\"background-color: rgb(255, 255, 255);\">Supp</span><span style=\"background-color: rgb(255, 255, 255);\">orters</span><span style=\"background-color: rgb(255, 255, 255);\"> who</span><span style=\"background-color: rgb(255, 255, 255);\"> join</span><span style=\"background-color: rgb(255, 255, 255);\"> the</span><span style=\"background-color: rgb(255, 255, 255);\"> tour</span><span style=\"background-color: rgb(255, 255, 255);\"> will</span><span style=\"background-color: rgb(255, 255, 255);\"> see</span><span style=\"background-color: rgb(255, 255, 255);\"> rare</span><span style=\"background-color: rgb(255, 255, 255);\"> artefacts</span><span style=\"background-color: rgb(255, 255, 255);\"> up</span><span style=\"background-color: rgb(255, 255, 255);\"> close</span><span style=\"background-color: rgb(255, 255, 255);\">,</span><span style=\"background-color: rgb(255, 255, 255);\"> such</span><span style=\"background-color: rgb(255, 255, 255);\"> as</span><span style=\"background-color: rgb(255, 255, 255);\"> programmes</span><span style=\"background-color: rgb(255, 255, 255);\">,</span><span style=\"background-color: rgb(255, 255, 255);\"> Hiber</span><span style=\"background-color: rgb(255, 149, 149);\">nian</span><span style=\"background-color: rgb(255, 255, 255);\"> kits</span><span style=\"background-color: rgb(255, 255, 255);\">,</span><span style=\"background-color: rgb(255, 255, 255);\"> opposition</span><span style=\"background-color: rgb(255, 255, 255);\"> jerseys</span><span style=\"background-color: rgb(255, 255, 255);\">,</span><span style=\"background-color: rgb(255, 255, 255);\"> football</span><span style=\"background-color: rgb(255, 255, 255);\"> boots</span><span style=\"background-color: rgb(255, 255, 255);\"> and</span><span style=\"background-color: rgb(255, 255, 255);\"> trophies</span><span style=\"background-color: rgb(255, 255, 255);\">,</span><span style=\"background-color: rgb(255, 255, 255);\"> as</span><span style=\"background-color: rgb(255, 255, 255);\"> well</span><span style=\"background-color: rgb(255, 255, 255);\"> as</span><span style=\"background-color: rgb(255, 255, 255);\"> having</span><span style=\"background-color: rgb(255, 255, 255);\"> the</span><span style=\"background-color: rgb(255, 255, 255);\"> opportunity</span><span style=\"background-color: rgb(255, 255, 255);\"> to</span><span style=\"background-color: rgb(255, 255, 255);\"> step</span><span style=\"background-color: rgb(255, 255, 255);\"> inside</span><span style=\"background-color: rgb(255, 255, 255);\"> the</span><span style=\"background-color: rgb(255, 255, 255);\"> dressing</span><span style=\"background-color: rgb(255, 255, 255);\"> rooms</span><span style=\"background-color: rgb(255, 255, 255);\">,</span><span style=\"background-color: rgb(255, 255, 255);\"> stand</span><span style=\"background-color: rgb(255, 255, 255);\"> in</span><span style=\"background-color: rgb(255, 255, 255);\"> the</span><span style=\"background-color: rgb(255, 255, 255);\"> tunnel</span><span style=\"background-color: rgb(255, 255, 255);\">,</span><span style=\"background-color: rgb(255, 255, 255);\"> before</span><span style=\"background-color: rgb(255, 255, 255);\"> exiting</span><span style=\"background-color: rgb(255, 255, 255);\"> via</span><span style=\"background-color: rgb(255, 255, 255);\"> the</span><span style=\"background-color: rgb(255, 255, 255);\"> five</span><span style=\"background-color: rgb(255, 255, 255);\"> steps</span><span style=\"background-color: rgb(255, 255, 255);\"> up</span><span style=\"background-color: rgb(255, 255, 255);\"> to</span><span style=\"background-color: rgb(255, 255, 255);\"> the</span><span style=\"background-color: rgb(255, 255, 255);\"> pitch</span><span style=\"background-color: rgb(255, 255, 255);\"> to</span><span style=\"background-color: rgb(255, 255, 255);\"> take</span><span style=\"background-color: rgb(255, 255, 255);\"> your</span><span style=\"background-color: rgb(255, 255, 255);\"> seat</span><span style=\"background-color: rgb(255, 255, 255);\"> in</span><span style=\"background-color: rgb(255, 255, 255);\"> the</span><span style=\"background-color: rgb(255, 255, 255);\"> dugout</span><span style=\"background-color: rgb(255, 255, 255);\">.</span><span style=\"background-color: rgb(255, 255, 255);\">\n",
       "</span><span style=\"background-color: rgb(255, 255, 255);\">It</span><span style=\"background-color: rgb(255, 255, 255);\"> is</span><span style=\"background-color: rgb(255, 255, 255);\"> a</span><span style=\"background-color: rgb(255, 255, 255);\"> perfect</span><span style=\"background-color: rgb(255, 255, 255);\"> afternoon</span><span style=\"background-color: rgb(255, 255, 255);\"> of</span><span style=\"background-color: rgb(255, 255, 255);\"> entertainment</span><span style=\"background-color: rgb(255, 255, 255);\"> for</span><span style=\"background-color: rgb(255, 255, 255);\"> football</span><span style=\"background-color: rgb(255, 255, 255);\"> fans</span><span style=\"background-color: rgb(255, 255, 255);\"> in</span><span style=\"background-color: rgb(255, 255, 255);\"> general</span><span style=\"background-color: rgb(255, 255, 255);\"> –</span><span style=\"background-color: rgb(255, 255, 255);\"> especially</span><span style=\"background-color: rgb(255, 255, 255);\"> supporters</span><span style=\"background-color: rgb(255, 255, 255);\"> of</span><span style=\"background-color: rgb(255, 255, 255);\"> Hiber</span><span style=\"background-color: rgb(255, 255, 255);\">nian</span><span style=\"background-color: rgb(255, 255, 255);\">.</span><span style=\"background-color: rgb(255, 255, 255);\">\n",
       "</span><span style=\"background-color: rgb(255, 255, 255);\">Click</span><span style=\"background-color: rgb(255, 255, 255);\"> on</span><span style=\"background-color: rgb(255, 255, 255);\"> the</span></p><p>Max Activation: 40.5000:</p><p><span style=\"background-color: rgb(255, 255, 255);\">\n",
       "</span><span style=\"background-color: rgb(255, 255, 255);\"> litigation</span><span style=\"background-color: rgb(255, 255, 255);\"> relating</span><span style=\"background-color: rgb(255, 255, 255);\"> to</span><span style=\"background-color: rgb(255, 255, 255);\"> one</span><span style=\"background-color: rgb(255, 255, 255);\"> of</span><span style=\"background-color: rgb(255, 255, 255);\"> the</span><span style=\"background-color: rgb(255, 255, 255);\"> best</span><span style=\"background-color: rgb(255, 255, 255);\">-</span><span style=\"background-color: rgb(255, 255, 255);\">selling</span><span style=\"background-color: rgb(255, 255, 255);\"> pharmaceutical</span><span style=\"background-color: rgb(255, 255, 255);\"> drugs</span><span style=\"background-color: rgb(255, 255, 255);\"> in</span><span style=\"background-color: rgb(255, 255, 255);\"> history</span><span style=\"background-color: rgb(255, 255, 255);\">.</span><span style=\"background-color: rgb(255, 255, 255);\">\n",
       "</span><span style=\"background-color: rgb(255, 255, 255);\">The</span><span style=\"background-color: rgb(255, 255, 255);\"> emergence</span><span style=\"background-color: rgb(255, 255, 255);\"> of</span><span style=\"background-color: rgb(255, 255, 255);\"> a</span><span style=\"background-color: rgb(255, 255, 255);\"> new</span><span style=\"background-color: rgb(255, 255, 255);\"> cryptocurrency</span><span style=\"background-color: rgb(255, 255, 255);\"> in</span><span style=\"background-color: rgb(255, 255, 255);\"> Venezuela</span><span style=\"background-color: rgb(255, 255, 255);\"> has</span><span style=\"background-color: rgb(255, 255, 255);\"> raised</span><span style=\"background-color: rgb(255, 255, 255);\"> concerns</span><span style=\"background-color: rgb(255, 255, 255);\"> that</span><span style=\"background-color: rgb(255, 255, 255);\"> the</span><span style=\"background-color: rgb(255, 255, 255);\"> heavily</span><span style=\"background-color: rgb(255, 255, 255);\"> sanctioned</span><span style=\"background-color: rgb(255, 255, 255);\"> country</span><span style=\"background-color: rgb(255, 255, 255);\"> is</span><span style=\"background-color: rgb(255, 255, 255);\"> using</span><span style=\"background-color: rgb(255, 255, 255);\"> the</span><span style=\"background-color: rgb(255, 255, 255);\"> offering</span><span style=\"background-color: rgb(255, 255, 255);\"> to</span><span style=\"background-color: rgb(255, 255, 255);\"> evade</span><span style=\"background-color: rgb(255, 255, 255);\"> economic</span><span style=\"background-color: rgb(255, 255, 255);\"> sanctions</span><span style=\"background-color: rgb(255, 255, 255);\"> imposed</span><span style=\"background-color: rgb(255, 255, 255);\"> by</span><span style=\"background-color: rgb(255, 255, 255);\"> the</span><span style=\"background-color: rgb(255, 255, 255);\"> US</span><span style=\"background-color: rgb(255, 255, 255);\"> and</span><span style=\"background-color: rgb(255, 255, 255);\"> EU</span><span style=\"background-color: rgb(255, 255, 255);\">,</span><span style=\"background-color: rgb(255, 255, 255);\"> while</span><span style=\"background-color: rgb(255, 255, 255);\"> Russia</span><span style=\"background-color: rgb(255, 255, 255);\"> looks</span><span style=\"background-color: rgb(255, 255, 255);\"> set</span><span style=\"background-color: rgb(255, 255, 255);\"> to</span><span style=\"background-color: rgb(255, 255, 255);\"> tread</span><span style=\"background-color: rgb(255, 255, 255);\"> the</span><span style=\"background-color: rgb(255, 255, 255);\"> same</span><span style=\"background-color: rgb(255, 255, 255);\"> path</span><span style=\"background-color: rgb(255, 255, 255);\">.</span><span style=\"background-color: rgb(255, 255, 255);\">\n",
       "</span><span style=\"background-color: rgb(255, 255, 255);\">The</span><span style=\"background-color: rgb(255, 255, 255);\"> Dana</span><span style=\"background-color: rgb(255, 66, 66);\"> Gas</span><span style=\"background-color: rgb(255, 255, 255);\"> case</span><span style=\"background-color: rgb(255, 255, 255);\"> highlights</span><span style=\"background-color: rgb(255, 255, 255);\"> the</span><span style=\"background-color: rgb(255, 255, 255);\"> potential</span><span style=\"background-color: rgb(255, 255, 255);\"> for</span><span style=\"background-color: rgb(255, 255, 255);\"> conflict</span><span style=\"background-color: rgb(255, 255, 255);\"> between</span><span style=\"background-color: rgb(255, 255, 255);\"> courts</span><span style=\"background-color: rgb(255, 255, 255);\"> in</span><span style=\"background-color: rgb(255, 255, 255);\"> rival</span><span style=\"background-color: rgb(255, 255, 255);\"> jurisdictions</span><span style=\"background-color: rgb(255, 255, 255);\"> and</span><span style=\"background-color: rgb(255, 255, 255);\"> between</span><span style=\"background-color: rgb(255, 255, 255);\"> Islamic</span><span style=\"background-color: rgb(255, 255, 255);\"> and</span><span style=\"background-color: rgb(255, 255, 255);\"> western</span><span style=\"background-color: rgb(255, 255, 255);\"> finance</span><span style=\"background-color: rgb(255, 255, 255);\">.</span><span style=\"background-color: rgb(255, 255, 255);\">&lt;eos&gt;</span><span style=\"background-color: rgb(255, 255, 255);\">#</span><span style=\"background-color: rgb(255, 255, 255);\"> Copyright</span><span style=\"background-color: rgb(255, 255, 255);\"> </span><span style=\"background-color: rgb(255, 255, 255);\">2</span><span style=\"background-color: rgb(255, 255, 255);\">0</span><span style=\"background-color: rgb(255, 255, 255);\">1</span><span style=\"background-color: rgb(255, 255, 255);\">8</span><span style=\"background-color: rgb(255, 255, 255);\"> The</span><span style=\"background-color: rgb(255, 255, 255);\"> TensorFlow</span><span style=\"background-color: rgb(255, 255, 255);\"> Authors</span><span style=\"background-color: rgb(255, 255, 255);\">.</span><span style=\"background-color: rgb(255, 255, 255);\"> All</span><span style=\"background-color: rgb(255, 255, 255);\"> Rights</span><span style=\"background-color: rgb(255, 255, 255);\"> Reserved</span><span style=\"background-color: rgb(255, 255, 255);\">.</span><span style=\"background-color: rgb(255, 255, 255);\">\n",
       "</span><span style=\"background-color: rgb(255, 255, 255);\">#</span><span style=\"background-color: rgb(255, 255, 255);\">\n",
       "</span><span style=\"background-color: rgb(255, 255, 255);\">#</span><span style=\"background-color: rgb(255, 255, 255);\"> Licensed</span><span style=\"background-color: rgb(255, 255, 255);\"> under</span><span style=\"background-color: rgb(255, 255, 255);\"> the</span><span style=\"background-color: rgb(255, 255, 255);\"> Apache</span><span style=\"background-color: rgb(255, 255, 255);\"> License</span><span style=\"background-color: rgb(255, 255, 255);\">,</span><span style=\"background-color: rgb(255, 255, 255);\"> Version</span><span style=\"background-color: rgb(255, 255, 255);\"> </span><span style=\"background-color: rgb(255, 255, 255);\">2</span><span style=\"background-color: rgb(255, 255, 255);\">.</span><span style=\"background-color: rgb(255, 255, 255);\">0</span><span style=\"background-color: rgb(255, 255, 255);\"> (</span><span style=\"background-color: rgb(255, 255, 255);\">the</span><span style=\"background-color: rgb(255, 255, 255);\"> &quot;</span><span style=\"background-color: rgb(255, 255, 255);\">License</span><span style=\"background-color: rgb(255, 255, 255);\">&quot;);</span><span style=\"background-color: rgb(255, 255, 255);\">\n",
       "</span><span style=\"background-color: rgb(255, 255, 255);\">#</span><span style=\"background-color: rgb(255, 255, 255);\"> you</span><span style=\"background-color: rgb(255, 255, 255);\"> may</span><span style=\"background-color: rgb(255, 255, 255);\"> not</span><span style=\"background-color: rgb(255, 255, 255);\"> use</span><span style=\"background-color: rgb(255, 255, 255);\"> this</span><span style=\"background-color: rgb(255, 255, 255);\"> file</span><span style=\"background-color: rgb(255, 255, 255);\"> except</span><span style=\"background-color: rgb(255, 255, 255);\"> in</span></p>"
      ],
      "text/plain": [
       "<IPython.core.display.HTML object>"
      ]
     },
     "metadata": {},
     "output_type": "display_data"
    }
   ],
   "source": [
    "# ft_id = 4457\n",
    "# ft_id = 10423\n",
    "\n",
    "# layer 20\n",
    "ft_id = 5771 # brit\n",
    "# ft_id = 5687 # capital\n",
    "\n",
    "# ft_id = 9337\n",
    "# ft_id = 11817\n",
    "\n",
    "ft_id = 4669\n",
    "\n",
    "\n",
    "\n",
    "samples = ready_tokens[top_k_indices[ft_id]]\n",
    "\n",
    "acts = acts_for_feature(samples, ft_id)\n",
    "acts\n",
    "\n",
    "display_highlighted_tokens(samples[:, 3:], acts[:, 3:], model.tokenizer)"
   ]
  },
  {
   "cell_type": "code",
   "execution_count": 27,
   "metadata": {},
   "outputs": [
    {
     "name": "stdout",
     "output_type": "stream",
     "text": [
      "torch.Size([10, 15])\n",
      "['<bos>', '<start_of_turn>', 'user', '\\n', 'What', ' should', ' I', ' do', ' today', '?', '<end_of_turn>', '\\n', '<start_of_turn>', 'model', '\\n']\n"
     ]
    }
   ],
   "source": [
    "# steer model\n",
    "# text = \"What do you think about immigration?\"\n",
    "# text = \"Tell me a fun fact.\"\n",
    "# text = \"Tell me a fact about Australia\"\n",
    "# text = \"Where should I travel to?\"\n",
    "# text = \"Tell me a story about travel\"\n",
    "# text = \"What should I do in Paris? I'm interested in history.\"\n",
    "# text = \"Pick a random city.\"\n",
    "# text = \"If you could go anywhere in the world, where would you go?\"\n",
    "text = \"What should I do today?\"\n",
    "toks = model.tokenizer.apply_chat_template([{\"role\": \"user\", \"content\": text}], return_tensors='pt', add_generation_prompt=True)\n",
    "toks = toks.expand(10, -1)\n",
    "print(toks.shape)\n",
    "print(model.to_str_tokens(toks[0]))\n",
    "toks = toks.to(device)\n"
   ]
  },
  {
   "cell_type": "code",
   "execution_count": 28,
   "metadata": {},
   "outputs": [
    {
     "data": {
      "application/vnd.jupyter.widget-view+json": {
       "model_id": "2022053d00864859843fd85a539f284d",
       "version_major": 2,
       "version_minor": 0
      },
      "text/plain": [
       "  0%|          | 0/40 [00:00<?, ?it/s]"
      ]
     },
     "metadata": {},
     "output_type": "display_data"
    },
    {
     "data": {
      "text/plain": [
       "[\"<bos><start_of_turn>user\\nWhat should I do today?<end_of_turn>\\n<start_of_turn>model\\nAs an AI, I don't know your personal preferences or what's available to you. To give you a good suggestion, I need more information!  \\n\\nTell me:\\n\\n* **\",\n",
       " \"<bos><start_of_turn>user\\nWhat should I do today?<end_of_turn>\\n<start_of_turn>model\\nAs an AI, I don't know anything about you, your interests, or the weather outside! To give you a good suggestion, I need a little more information.  \\n\\nTell me:\",\n",
       " \"<bos><start_of_turn>user\\nWhat should I do today?<end_of_turn>\\n<start_of_turn>model\\nAs a large language model, I can't know what you'd enjoy doing! To give you a good suggestion, tell me:\\n\\n* **What kind of mood are you in?**\",\n",
       " '<bos><start_of_turn>user\\nWhat should I do today?<end_of_turn>\\n<start_of_turn>model\\nTo give you the best suggestion for what to do today, I need a bit more information! Tell me:\\n\\n* **What kind of day are you looking for?** \\n    * Relax',\n",
       " '<bos><start_of_turn>user\\nWhat should I do today?<end_of_turn>\\n<start_of_turn>model\\nTo give you the best suggestion for what to do today, I need a little more information! Tell me:\\n\\n* **What kind of mood are you in?** (Relaxed, energetic,',\n",
       " \"<bos><start_of_turn>user\\nWhat should I do today?<end_of_turn>\\n<start_of_turn>model\\nAs a large language model, I don't know anything about you, your preferences, or your location.  To give you a good suggestion, I need some more information! \\n\\nTell me\",\n",
       " \"<bos><start_of_turn>user\\nWhat should I do today?<end_of_turn>\\n<start_of_turn>model\\nTo give you some fun ideas for today, I need a little more information about what you're looking for! \\n\\nTell me:\\n\\n* **What's the weather like where you are\",\n",
       " \"<bos><start_of_turn>user\\nWhat should I do today?<end_of_turn>\\n<start_of_turn>model\\nAs an AI assistant, I can't tell you exactly what to do today since I don't know your preferences or situation!  \\n\\nTo help me give you some fun and personalized ideas,\",\n",
       " \"<bos><start_of_turn>user\\nWhat should I do today?<end_of_turn>\\n<start_of_turn>model\\nAs a text-only AI, I don't have access to real-time information like your location, interests, or the weather.  \\n\\nTo give you a helpful suggestion, I need more\",\n",
       " '<bos><start_of_turn>user\\nWhat should I do today?<end_of_turn>\\n<start_of_turn>model\\nTo give you the best suggestions for your day, I need a little more information! Tell me:\\n\\n* **What kind of mood are you in?** (Relaxed, adventurous, creative,']"
      ]
     },
     "execution_count": 28,
     "metadata": {},
     "output_type": "execute_result"
    }
   ],
   "source": [
    "gen_toks = model.generate(toks, max_new_tokens=40)\n",
    "model.to_string(gen_toks)"
   ]
  },
  {
   "cell_type": "code",
   "execution_count": 23,
   "metadata": {},
   "outputs": [],
   "source": [
    "def patch_end(resid, hook, steering, scale=1):\n",
    "    resid[:, -1, :] = resid[:, -1, :] + steering * scale\n",
    "    return resid"
   ]
  },
  {
   "cell_type": "code",
   "execution_count": 24,
   "metadata": {},
   "outputs": [
    {
     "data": {
      "application/vnd.jupyter.widget-view+json": {
       "model_id": "a3898e865c7749bebd7fffe56cc19973",
       "version_major": 2,
       "version_minor": 0
      },
      "text/plain": [
       "  0%|          | 0/50 [00:00<?, ?it/s]"
      ]
     },
     "metadata": {},
     "output_type": "display_data"
    },
    {
     "data": {
      "text/plain": [
       "['<bos><start_of_turn>user\\nPick a random city.<end_of_turn>\\n<start_of_turn>model\\nSheffield.<end_of_turn>\\n<eos><eos><eos><eos><eos><eos><eos><eos><eos><eos><eos><eos><eos><eos><eos><eos><eos><eos><eos><eos>',\n",
       " '<bos><start_of_turn>user\\nPick a random city.<end_of_turn>\\n<start_of_turn>model\\nStockholm!  🇬🇧<end_of_turn>\\n<eos><eos><eos><eos><eos><eos><eos><eos><eos><eos><eos><eos><eos><eos><eos><eos><eos>',\n",
       " '<bos><start_of_turn>user\\nPick a random city.<end_of_turn>\\n<start_of_turn>model\\nLeeds.  <end_of_turn>\\n<eos><eos><eos><eos><eos><eos><eos><eos><eos><eos><eos><eos><eos><eos><eos><eos><eos><eos><eos>',\n",
       " '<bos><start_of_turn>user\\nPick a random city.<end_of_turn>\\n<start_of_turn>model\\nLeicester.<end_of_turn><eos><eos><eos><eos><eos><eos><eos><eos><eos><eos><eos><eos><eos><eos><eos><eos><eos><eos><eos><eos><eos>',\n",
       " '<bos><start_of_turn>user\\nPick a random city.<end_of_turn>\\n<start_of_turn>model\\nPorto. 🇬🇧<end_of_turn><eos><eos><eos><eos><eos><eos><eos><eos><eos><eos><eos><eos><eos><eos><eos><eos><eos><eos>',\n",
       " '<bos><start_of_turn>user\\nPick a random city.<end_of_turn>\\n<start_of_turn>model\\nLisbon 🇬🇧  \\n \\nLet me know if you want me to pick another one!<end_of_turn>\\n<eos>',\n",
       " '<bos><start_of_turn>user\\nPick a random city.<end_of_turn>\\n<start_of_turn>model\\nBristol, England. 🇬🇧  <end_of_turn>\\n<eos><eos><eos><eos><eos><eos><eos><eos><eos><eos><eos><eos>',\n",
       " '<bos><start_of_turn>user\\nPick a random city.<end_of_turn>\\n<start_of_turn>model\\nManchester. 🌳  🇬🇧  <end_of_turn><eos><eos><eos><eos><eos><eos><eos><eos><eos><eos><eos><eos><eos><eos><eos>',\n",
       " '<bos><start_of_turn>user\\nPick a random city.<end_of_turn>\\n<start_of_turn>model\\nEdinburgh  🇬🇧<end_of_turn>\\n<eos><eos><eos><eos><eos><eos><eos><eos><eos><eos><eos><eos><eos><eos><eos><eos><eos><eos>',\n",
       " '<bos><start_of_turn>user\\nPick a random city.<end_of_turn>\\n<start_of_turn>model\\nEdinburgh.  😊  <end_of_turn><eos><eos><eos><eos><eos><eos><eos><eos><eos><eos><eos><eos><eos><eos><eos><eos><eos><eos>']"
      ]
     },
     "execution_count": 24,
     "metadata": {},
     "output_type": "execute_result"
    }
   ],
   "source": [
    "with model.hooks([(hp, partial(patch_end, steering=brit_20, scale=150))]):\n",
    "    gen_toks = model.generate(toks, max_new_tokens=50)\n",
    "model.to_string(gen_toks)"
   ]
  },
  {
   "cell_type": "code",
   "execution_count": null,
   "metadata": {},
   "outputs": [],
   "source": []
  },
  {
   "cell_type": "code",
   "execution_count": null,
   "metadata": {},
   "outputs": [],
   "source": []
  },
  {
   "cell_type": "code",
   "execution_count": null,
   "metadata": {},
   "outputs": [],
   "source": []
  },
  {
   "cell_type": "code",
   "execution_count": null,
   "metadata": {},
   "outputs": [],
   "source": []
  }
 ],
 "metadata": {
  "kernelspec": {
   "display_name": ".venv",
   "language": "python",
   "name": "python3"
  },
  "language_info": {
   "codemirror_mode": {
    "name": "ipython",
    "version": 3
   },
   "file_extension": ".py",
   "mimetype": "text/x-python",
   "name": "python",
   "nbconvert_exporter": "python",
   "pygments_lexer": "ipython3",
   "version": "3.10.13"
  }
 },
 "nbformat": 4,
 "nbformat_minor": 2
}
