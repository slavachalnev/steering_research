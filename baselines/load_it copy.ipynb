{
 "cells": [
  {
   "cell_type": "code",
   "execution_count": 1,
   "metadata": {},
   "outputs": [
    {
     "data": {
      "text/plain": [
       "<torch.autograd.grad_mode.set_grad_enabled at 0x7f4d2c5e70a0>"
      ]
     },
     "execution_count": 1,
     "metadata": {},
     "output_type": "execute_result"
    }
   ],
   "source": [
    "import os\n",
    "import sys\n",
    "sys.path.append(os.path.abspath('..'))\n",
    "\n",
    "import torch\n",
    "import torch.nn.functional as F\n",
    "from torch.utils.data import DataLoader, Dataset\n",
    "from transformer_lens import HookedTransformer\n",
    "from transformer_lens import utils as tutils\n",
    "from transformer_lens.evals import make_pile_data_loader, evaluate_on_dataset\n",
    "\n",
    "from functools import partial\n",
    "from datasets import load_dataset\n",
    "from tqdm import tqdm\n",
    "import json\n",
    "\n",
    "import einops\n",
    "\n",
    "from sae_lens import SAE\n",
    "\n",
    "from steering.evals_utils import evaluate_completions, multi_criterion_evaluation\n",
    "from steering.utils import normalise_decoder, text_to_sae_feats, top_activations\n",
    "from steering.patch import generate, scores_2d, patch_resid\n",
    "\n",
    "\n",
    "import plotly.express as px\n",
    "import plotly.graph_objects as go\n",
    "from plotly.subplots import make_subplots\n",
    "import pandas as pd\n",
    "\n",
    "from IPython.display import HTML, display\n",
    "import html\n",
    "\n",
    "\n",
    "import numpy as np\n",
    "torch.set_grad_enabled(False)"
   ]
  },
  {
   "cell_type": "code",
   "execution_count": 12,
   "metadata": {},
   "outputs": [],
   "source": [
    "os.environ['GEMMA_2_SAE_WEIGHTS_ROOT'] = '/workspace/gemmasaes/'"
   ]
  },
  {
   "cell_type": "code",
   "execution_count": 3,
   "metadata": {},
   "outputs": [
    {
     "name": "stderr",
     "output_type": "stream",
     "text": [
      "WARNING:root:You tried to specify center_unembed=True for a model using logit softcap, but this can't be done! Softcapping is not invariant upon adding a constantSetting center_unembed=False instead.\n"
     ]
    },
    {
     "data": {
      "application/vnd.jupyter.widget-view+json": {
       "model_id": "c85a7c12917d4793ad99b8d50b963c48",
       "version_major": 2,
       "version_minor": 0
      },
      "text/plain": [
       "Loading checkpoint shards:   0%|          | 0/4 [00:00<?, ?it/s]"
      ]
     },
     "metadata": {},
     "output_type": "display_data"
    },
    {
     "name": "stderr",
     "output_type": "stream",
     "text": [
      "WARNING:root:With reduced precision, it is advised to use `from_pretrained_no_processing` instead of `from_pretrained`.\n",
      "WARNING:root:You are not using LayerNorm, so the writing weights can't be centered! Skipping\n"
     ]
    },
    {
     "name": "stdout",
     "output_type": "stream",
     "text": [
      "Loaded pretrained model google/gemma-2-9b-it into HookedTransformer\n"
     ]
    }
   ],
   "source": [
    "device = torch.device(\"cuda\" if torch.cuda.is_available() else \"cpu\")\n",
    "model: HookedTransformer = HookedTransformer.from_pretrained(\"google/gemma-2-9b-it\", device=device, dtype=torch.float16)"
   ]
  },
  {
   "cell_type": "code",
   "execution_count": 4,
   "metadata": {},
   "outputs": [
    {
     "data": {
      "text/plain": [
       "{'bos_token': '<bos>',\n",
       " 'eos_token': '<eos>',\n",
       " 'unk_token': '<unk>',\n",
       " 'pad_token': '<pad>',\n",
       " 'additional_special_tokens': ['<start_of_turn>', '<end_of_turn>']}"
      ]
     },
     "execution_count": 4,
     "metadata": {},
     "output_type": "execute_result"
    }
   ],
   "source": [
    "model.tokenizer.special_tokens_map"
   ]
  },
  {
   "cell_type": "code",
   "execution_count": 5,
   "metadata": {},
   "outputs": [
    {
     "data": {
      "text/plain": [
       "tensor([[    2,   106,  1645,   108,  5559,   476, 25957,  2134,  2733,   107,\n",
       "           108,   106,  2516,   108]])"
      ]
     },
     "execution_count": 5,
     "metadata": {},
     "output_type": "execute_result"
    }
   ],
   "source": [
    "chat = [[\n",
    "    {\"role\": \"user\", \"content\": \"Write a Hello world program\"},\n",
    "]]\n",
    "tokens = model.tokenizer.apply_chat_template(chat, add_generation_prompt=True, return_tensors='pt')\n",
    "tokens"
   ]
  },
  {
   "cell_type": "code",
   "execution_count": 6,
   "metadata": {},
   "outputs": [
    {
     "data": {
      "application/vnd.jupyter.widget-view+json": {
       "model_id": "38a28205c3504c7a983e77fbe7acfe3f",
       "version_major": 2,
       "version_minor": 0
      },
      "text/plain": [
       "  0%|          | 0/20 [00:00<?, ?it/s]"
      ]
     },
     "metadata": {},
     "output_type": "display_data"
    },
    {
     "data": {
      "text/plain": [
       "['<bos><start_of_turn>user\\nWrite a Hello world program<end_of_turn>\\n<start_of_turn>model\\n```python\\nprint(\"Hello, world!\")\\n```\\n\\nThis is a simple \"Hello, world']"
      ]
     },
     "execution_count": 6,
     "metadata": {},
     "output_type": "execute_result"
    }
   ],
   "source": [
    "gen_toks = model.generate(tokens, max_new_tokens=20)\n",
    "model.to_string(gen_toks)"
   ]
  },
  {
   "cell_type": "code",
   "execution_count": 7,
   "metadata": {},
   "outputs": [
    {
     "name": "stdout",
     "output_type": "stream",
     "text": [
      "torch.Size([222989, 125])\n"
     ]
    }
   ],
   "source": [
    "SEQ_LEN = 128 - 4 + 1 # 4 for the special tokens at the start, 1 because we'll cut bos.\n",
    "\n",
    "# Load in the data (it's a Dataset object)\n",
    "data = load_dataset(\"NeelNanda/c4-code-20k\", split=\"train\")\n",
    "# print(data)\n",
    "# assert isinstance(data, Dataset)\n",
    "\n",
    "# Tokenize the data (using a utils function) and shuffle it\n",
    "tokenized_data = tutils.tokenize_and_concatenate(data, model.tokenizer, max_length=SEQ_LEN) # type: ignore\n",
    "tokenized_data = tokenized_data.shuffle(42)\n",
    "\n",
    "# Get the tokens as a tensor\n",
    "all_tokens = tokenized_data[\"tokens\"]\n",
    "assert isinstance(all_tokens, torch.Tensor)\n",
    "\n",
    "print(all_tokens.shape)"
   ]
  },
  {
   "cell_type": "code",
   "execution_count": 8,
   "metadata": {},
   "outputs": [
    {
     "name": "stdout",
     "output_type": "stream",
     "text": [
      "torch.Size([4])\n",
      "['<bos>', '<start_of_turn>', 'user', '\\n']\n"
     ]
    },
    {
     "data": {
      "text/plain": [
       "tensor([   2,  106, 1645,  108])"
      ]
     },
     "execution_count": 8,
     "metadata": {},
     "output_type": "execute_result"
    }
   ],
   "source": [
    "pre_tokens = model.tokenizer.apply_chat_template([{\"role\": \"user\", \"content\": \"\"}], return_tensors='pt')[0][:4]\n",
    "print(pre_tokens.shape)\n",
    "print(model.to_str_tokens(pre_tokens))\n",
    "pre_tokens"
   ]
  },
  {
   "cell_type": "code",
   "execution_count": 9,
   "metadata": {},
   "outputs": [
    {
     "data": {
      "text/plain": [
       "torch.Size([222989, 128])"
      ]
     },
     "execution_count": 9,
     "metadata": {},
     "output_type": "execute_result"
    }
   ],
   "source": [
    "n_samples = all_tokens.shape[0]\n",
    "ready_tokens = torch.cat([pre_tokens.expand(n_samples, -1), all_tokens[:, 1:]], dim=1)\n",
    "ready_tokens.shape"
   ]
  },
  {
   "cell_type": "code",
   "execution_count": 10,
   "metadata": {},
   "outputs": [
    {
     "name": "stdout",
     "output_type": "stream",
     "text": [
      "['<bos>', '<start_of_turn>', 'user', '\\n', ' instance', ' of', ' Transition', ' class', '.', '\\n\\n', '    ', 'Args', ':', '\\n', '      ', 'sess', ' (:', 'obj', ':`', 'tf', '.', 'Session', '`', '):', ' This', ' attribute', ' represents', ' the', ' session', ' that', ' runs', '\\n', '        ', 'the', ' TensorFlow', ' operations', '.', '\\n', '      ', 'name', ' (', 'str', '):', ' This', ' attribute', ' represents', ' the', ' name', ' of', ' the', ' object', ' in', '\\n', '        ', 'Tensor', 'Flow', \"'\", 's', ' op', ' Graph', '.', '\\n', '      ', 'graph', ' (:', 'obj', ':`', 'tf', 'graph', '.', 'Graph', '`', '):', '  ', 'The', ' graph', ' on', ' which', ' the', ' transition', ' is', ' referred', '.', '\\n', '      ', 'beta', ' (', 'float', '):', ' The', ' reset', ' probability', ' of', ' the', ' random', ' walks', ',', ' i', '.', 'e', '.', ' the', '\\n', '        ', 'probability', ' that', ' a', ' user', ' that', ' sur', 'fs', ' the', ' graph', ' an', ' decides', ' to', ' jump', ' to', '\\n', '        ', 'another', ' vertex', ' not', ' connected', ' to', ' the', ' current', '.']\n"
     ]
    }
   ],
   "source": [
    "print(model.to_str_tokens(ready_tokens[4]))"
   ]
  },
  {
   "cell_type": "code",
   "execution_count": 13,
   "metadata": {},
   "outputs": [
    {
     "data": {
      "text/plain": [
       "SAE(\n",
       "  (activation_fn): ReLU()\n",
       "  (hook_sae_input): HookPoint()\n",
       "  (hook_sae_acts_pre): HookPoint()\n",
       "  (hook_sae_acts_post): HookPoint()\n",
       "  (hook_sae_output): HookPoint()\n",
       "  (hook_sae_recons): HookPoint()\n",
       "  (hook_sae_error): HookPoint()\n",
       ")"
      ]
     },
     "execution_count": 13,
     "metadata": {},
     "output_type": "execute_result"
    }
   ],
   "source": [
    "sae_layer = 20\n",
    "hp = f\"blocks.{sae_layer}.hook_resid_post\"\n",
    "sae, _, _ = SAE.from_pretrained(\n",
    "    release = \"gemma-2-it-saes-old\",\n",
    "    sae_id = f\"20/post_mlp_residual/16384/0_00045\",\n",
    "    device = 'cpu'\n",
    ")\n",
    "sae.to(device)"
   ]
  },
  {
   "cell_type": "code",
   "execution_count": 81,
   "metadata": {},
   "outputs": [
    {
     "name": "stdout",
     "output_type": "stream",
     "text": [
      "tensor([[[ 6802,  4230, 15911,  5388, 12650, 12880, 11693, 14213,  1740,  5672],\n",
      "         [ 6802,  4230, 15911,  5157, 11316,  5388, 11693, 13568, 11623, 12650],\n",
      "         [ 5075,  7567,  6802,  4230, 15911,  8298,  5906, 13820,  5388,   204],\n",
      "         [ 4223,  6802, 11085,  5682, 15911,  3442,  5906, 10396,  6228,  7075],\n",
      "         [ 6802,  9220, 10312, 11311,  5906, 14221, 15882,  1024,  5272,  4303],\n",
      "         [ 6802,    96,  7547, 10312,  5906,  2216, 11085, 13854,  3442, 13711]]],\n",
      "       device='cuda:0')\n"
     ]
    }
   ],
   "source": [
    "def top_activations(text):\n",
    "    toks = model.tokenizer.apply_chat_template([{\"role\": \"user\", \"content\": text}], return_tensors='pt')[0]\n",
    "    toks = toks.to(device)\n",
    "\n",
    "    _, acts = model.run_with_cache(toks, names_filter=hp)\n",
    "    acts = acts[hp]\n",
    "\n",
    "    all_sae_acts = []\n",
    "    for batch in acts:\n",
    "        sae_acts = sae.encode(batch)\n",
    "        all_sae_acts.append(sae_acts)\n",
    "\n",
    "    all_sae_acts = torch.stack(all_sae_acts, dim=0)\n",
    "    top_v, top_i = torch.topk(all_sae_acts, 10, dim=-1)\n",
    "    return top_v[:, 4:-2], top_i[:, 4:-2]\n",
    "\n",
    "top_v, top_i = top_activations(\"Give me a random city name\")\n",
    "print(top_i)"
   ]
  },
  {
   "cell_type": "code",
   "execution_count": 56,
   "metadata": {},
   "outputs": [
    {
     "name": "stdout",
     "output_type": "stream",
     "text": [
      "['<bos>', '<start_of_turn>', 'user', '\\n', 'I', ' traveled', ' to', ' London', '<end_of_turn>', '\\n']\n"
     ]
    }
   ],
   "source": [
    "text = \"I traveled to London\"\n",
    "toks = model.tokenizer.apply_chat_template([{\"role\": \"user\", \"content\": text}], return_tensors='pt')[0]\n",
    "print(model.to_str_tokens(toks))\n",
    "toks = toks.to(device)\n",
    "\n",
    "_, acts = model.run_with_cache(toks, names_filter=hp)\n",
    "acts = acts[hp]\n",
    "\n",
    "all_sae_acts = []\n",
    "for batch in acts:\n",
    "    sae_acts = sae.encode(batch)\n",
    "    all_sae_acts.append(sae_acts)\n",
    "\n",
    "all_sae_acts = torch.stack(all_sae_acts, dim=0)"
   ]
  },
  {
   "cell_type": "code",
   "execution_count": null,
   "metadata": {},
   "outputs": [],
   "source": []
  },
  {
   "cell_type": "code",
   "execution_count": 57,
   "metadata": {},
   "outputs": [
    {
     "data": {
      "text/plain": [
       "tensor([[[ 6802,  2122, 11299,  7697,   589, 14682,  4016,  5827, 10002,  1412],\n",
       "         [ 6802,  7697,  5823, 14587, 11299,  2599,  3444,  3892,  2122,  7806],\n",
       "         [ 6802,  7697,  5823, 14587, 11299,  2599,  3444,  7806,  3892, 11271],\n",
       "         [ 6802,  7697,  5823, 14587, 11299,  2599,  3444, 11271,  2122,  3892],\n",
       "         [ 6802,  4230, 16078,  2231, 13568, 12571, 14587,  2599,     0,     1],\n",
       "         [ 6802, 11233,  2028, 13568, 10025,  7247,  5662, 15709,  6356, 14211],\n",
       "         [14006,  6802,  2028, 10097,  7247,  7041, 11233, 15355,  9158,  2457],\n",
       "         [ 6802,  5771,   484,  5687,  1106,  8177, 10688, 15882,  5726, 10342],\n",
       "         [ 6802,  8163,  2738,  5662, 13491,  2060,  3312,  7556, 16362,  4637],\n",
       "         [ 6802,  7247,   436,  3312,  2028,  7720,  5687, 14289,  5662, 15760]]],\n",
       "       device='cuda:0')"
      ]
     },
     "execution_count": 57,
     "metadata": {},
     "output_type": "execute_result"
    }
   ],
   "source": [
    "top_v, top_i = torch.topk(all_sae_acts, 10, dim=-1)\n",
    "top_i"
   ]
  },
  {
   "cell_type": "code",
   "execution_count": null,
   "metadata": {},
   "outputs": [],
   "source": []
  },
  {
   "cell_type": "code",
   "execution_count": null,
   "metadata": {},
   "outputs": [],
   "source": []
  },
  {
   "cell_type": "code",
   "execution_count": 58,
   "metadata": {},
   "outputs": [],
   "source": [
    "potential_london_ids = [ 6802,  5771,   484,  5687,  1106,  8177, 10688, 15882,  5726, 10342],"
   ]
  },
  {
   "cell_type": "code",
   "execution_count": 17,
   "metadata": {},
   "outputs": [
    {
     "name": "stdout",
     "output_type": "stream",
     "text": [
      "torch.Size([3584, 16384])\n"
     ]
    }
   ],
   "source": [
    "print(sae.W_enc.shape)"
   ]
  },
  {
   "cell_type": "code",
   "execution_count": null,
   "metadata": {},
   "outputs": [],
   "source": []
  },
  {
   "cell_type": "code",
   "execution_count": 60,
   "metadata": {},
   "outputs": [
    {
     "name": "stdout",
     "output_type": "stream",
     "text": [
      "torch.Size([4, 16384])\n",
      "tensor([[ 0.0000, 45.7500,  0.0000,  ...,  0.0000,  0.0000,  0.0000],\n",
      "        [ 0.0000, 45.7500,  0.0000,  ...,  0.0000,  0.0000,  0.0000],\n",
      "        [ 0.0000, 45.7500,  0.0000,  ...,  0.0000,  0.0000,  0.0000],\n",
      "        [ 0.0000, 45.7500,  0.0000,  ...,  0.0000,  0.0000,  0.0000]],\n",
      "       device='cuda:0', dtype=torch.bfloat16)\n"
     ]
    }
   ],
   "source": [
    "def get_top_samples(tokens, top_k: int = 10, batch_size: int = 4):\n",
    "    # tokens is shape (n_samples, seq_len)\n",
    "\n",
    "    for i in range(0, tokens.shape[0], batch_size):\n",
    "        batch = tokens[i:i+batch_size]\n",
    "        _, acts = model.run_with_cache(batch, names_filter=hp, stop_at_layer=sae_layer+1)\n",
    "        acts = acts[hp]\n",
    "\n",
    "        max_sae_acts = []\n",
    "        for sample in acts:\n",
    "            sae_acts = sae.encode(sample)\n",
    "            max_sae_acts.append(sae_acts.max(dim=0).values)\n",
    "        \n",
    "        max_sae_acts = torch.stack(max_sae_acts, dim=0)\n",
    "        print(max_sae_acts.shape) # (batch_size, n_features)\n",
    "        print(max_sae_acts)\n",
    "        break\n",
    "\n",
    "\n",
    "\n",
    "get_top_samples(ready_tokens, potential_london_ids)\n",
    "\n",
    "\n",
    "\n",
    "    "
   ]
  },
  {
   "cell_type": "code",
   "execution_count": null,
   "metadata": {},
   "outputs": [],
   "source": []
  },
  {
   "cell_type": "code",
   "execution_count": 20,
   "metadata": {},
   "outputs": [
    {
     "data": {
      "text/plain": [
       "torch.return_types.max(\n",
       "values=tensor(3),\n",
       "indices=tensor(2))"
      ]
     },
     "execution_count": 20,
     "metadata": {},
     "output_type": "execute_result"
    }
   ],
   "source": [
    "torch.tensor([1, 2, 3]).max(dim=0)"
   ]
  },
  {
   "cell_type": "code",
   "execution_count": 24,
   "metadata": {},
   "outputs": [
    {
     "name": "stderr",
     "output_type": "stream",
     "text": [
      "  0%|          | 10/2000 [00:16<53:06,  1.60s/it]\n"
     ]
    },
    {
     "ename": "KeyboardInterrupt",
     "evalue": "",
     "output_type": "error",
     "traceback": [
      "\u001b[0;31m---------------------------------------------------------------------------\u001b[0m",
      "\u001b[0;31mKeyboardInterrupt\u001b[0m                         Traceback (most recent call last)",
      "Cell \u001b[0;32mIn[24], line 48\u001b[0m\n\u001b[1;32m     45\u001b[0m     \u001b[38;5;28;01mreturn\u001b[39;00m top_k_values, top_k_indices\n\u001b[1;32m     47\u001b[0m \u001b[38;5;66;03m# # Usage\u001b[39;00m\n\u001b[0;32m---> 48\u001b[0m top_k_values, top_k_indices \u001b[38;5;241m=\u001b[39m \u001b[43mget_top_samples\u001b[49m\u001b[43m(\u001b[49m\u001b[43mready_tokens\u001b[49m\u001b[43m[\u001b[49m\u001b[43m:\u001b[49m\u001b[38;5;241;43m8000\u001b[39;49m\u001b[43m]\u001b[49m\u001b[43m,\u001b[49m\u001b[43m \u001b[49m\u001b[43mtop_k\u001b[49m\u001b[38;5;241;43m=\u001b[39;49m\u001b[38;5;241;43m10\u001b[39;49m\u001b[43m,\u001b[49m\u001b[43m \u001b[49m\u001b[43mbatch_size\u001b[49m\u001b[38;5;241;43m=\u001b[39;49m\u001b[38;5;241;43m4\u001b[39;49m\u001b[43m)\u001b[49m\n",
      "Cell \u001b[0;32mIn[24], line 35\u001b[0m, in \u001b[0;36mget_top_samples\u001b[0;34m(tokens, top_k, batch_size)\u001b[0m\n\u001b[1;32m     33\u001b[0m     heappush(top_k_values[feature_idx], (value\u001b[38;5;241m.\u001b[39mitem(), global_idx))\n\u001b[1;32m     34\u001b[0m     top_k_indices[feature_idx] \u001b[38;5;241m=\u001b[39m [idx \u001b[38;5;28;01mfor\u001b[39;00m _, idx \u001b[38;5;129;01min\u001b[39;00m top_k_values[feature_idx]]\n\u001b[0;32m---> 35\u001b[0m \u001b[38;5;28;01melif\u001b[39;00m value \u001b[38;5;241m>\u001b[39m top_k_values[feature_idx][\u001b[38;5;241m0\u001b[39m][\u001b[38;5;241m0\u001b[39m]:\n\u001b[1;32m     36\u001b[0m     heappushpop(top_k_values[feature_idx], (value\u001b[38;5;241m.\u001b[39mitem(), global_idx))\n\u001b[1;32m     37\u001b[0m     top_k_indices[feature_idx] \u001b[38;5;241m=\u001b[39m [idx \u001b[38;5;28;01mfor\u001b[39;00m _, idx \u001b[38;5;129;01min\u001b[39;00m top_k_values[feature_idx]]\n",
      "\u001b[0;31mKeyboardInterrupt\u001b[0m: "
     ]
    }
   ],
   "source": [
    "from heapq import heappush, heappushpop\n",
    "\n",
    "def get_top_samples(tokens, top_k: int = 10, batch_size: int = 4):\n",
    "    n_samples, seq_len = tokens.shape\n",
    "    n_features = None  # We'll set this when we get the first batch of results\n",
    "    \n",
    "    # Initialize lists to store the top k values and indices for each feature\n",
    "    top_k_values = []\n",
    "    top_k_indices = []\n",
    "    \n",
    "    for i in tqdm(range(0, n_samples, batch_size)):\n",
    "        batch = tokens[i:i+batch_size]\n",
    "        _, acts = model.run_with_cache(batch, names_filter=hp, stop_at_layer=sae_layer+1)\n",
    "        acts = acts[hp]\n",
    "        max_sae_acts = []\n",
    "        for sample in acts:\n",
    "            sae_acts = sae.encode(sample)\n",
    "            max_sae_acts.append(sae_acts.max(dim=0).values)\n",
    "        \n",
    "        max_sae_acts = torch.stack(max_sae_acts, dim=0)\n",
    "        \n",
    "        if n_features is None:\n",
    "            n_features = max_sae_acts.shape[1]\n",
    "            top_k_values = [[] for _ in range(n_features)]\n",
    "            top_k_indices = [[] for _ in range(n_features)]\n",
    "        \n",
    "        # Update top k for each feature\n",
    "        for feature_idx in range(n_features):\n",
    "            feature_values = max_sae_acts[:, feature_idx]\n",
    "            for sample_idx, value in enumerate(feature_values):\n",
    "                global_idx = i + sample_idx\n",
    "                if len(top_k_values[feature_idx]) < top_k:\n",
    "                    heappush(top_k_values[feature_idx], (value.item(), global_idx))\n",
    "                    top_k_indices[feature_idx] = [idx for _, idx in top_k_values[feature_idx]]\n",
    "                elif value > top_k_values[feature_idx][0][0]:\n",
    "                    heappushpop(top_k_values[feature_idx], (value.item(), global_idx))\n",
    "                    top_k_indices[feature_idx] = [idx for _, idx in top_k_values[feature_idx]]\n",
    "    \n",
    "    # Sort the results for each feature\n",
    "    for feature_idx in range(n_features):\n",
    "        sorted_results = sorted(zip(top_k_values[feature_idx], top_k_indices[feature_idx]), reverse=True)\n",
    "        top_k_values[feature_idx] = [value for value, _ in sorted_results]\n",
    "        top_k_indices[feature_idx] = [idx for _, idx in sorted_results]\n",
    "    \n",
    "    return top_k_values, top_k_indices\n",
    "\n",
    "# # Usage\n",
    "# top_k_values, top_k_indices = get_top_samples(ready_tokens[:8000], top_k=10, batch_size=4)\n"
   ]
  },
  {
   "cell_type": "code",
   "execution_count": 54,
   "metadata": {},
   "outputs": [
    {
     "name": "stderr",
     "output_type": "stream",
     "text": [
      "/tmp/ipykernel_7957/2460384771.py:21: FutureWarning: You are using `torch.load` with `weights_only=False` (the current default value), which uses the default pickle module implicitly. It is possible to construct malicious pickle data which will execute arbitrary code during unpickling (See https://github.com/pytorch/pytorch/blob/main/SECURITY.md#untrusted-models for more details). In a future release, the default value for `weights_only` will be flipped to `True`. This limits the functions that could be executed during unpickling. Arbitrary objects will no longer be allowed to be loaded via this mode unless they are explicitly allowlisted by the user via `torch.serialization.add_safe_globals`. We recommend you start setting `weights_only=True` for any use case where you don't have full control of the loaded file. Please open an issue on GitHub for any issues related to this experimental feature.\n",
      "  ready_tokens = torch.load(\"ready_tokens_20.pt\")\n"
     ]
    }
   ],
   "source": [
    "# # save top_k_values and top_k_indices\n",
    "# with open(\"top_k_values.json\", \"w\") as f:\n",
    "#     json.dump(top_k_values, f)\n",
    "\n",
    "# with open(\"top_k_indices.json\", \"w\") as f:\n",
    "#     json.dump(top_k_indices, f)\n",
    "    \n",
    "# # save tokens\n",
    "# torch.save(ready_tokens, \"ready_tokens.pt\")\n",
    "\n",
    "\n",
    "# load top_k_values and top_k_indices\n",
    "with open(\"top_k_values_20.json\", \"r\") as f:\n",
    "    top_k_values = json.load(f)\n",
    "\n",
    "with open(\"top_k_indices_20.json\", \"r\") as f:\n",
    "    top_k_indices = json.load(f)\n",
    "\n",
    "\n",
    "# load tokens\n",
    "ready_tokens = torch.load(\"ready_tokens_20.pt\")\n",
    "\n",
    "\n"
   ]
  },
  {
   "cell_type": "code",
   "execution_count": 61,
   "metadata": {},
   "outputs": [
    {
     "name": "stderr",
     "output_type": "stream",
     "text": [
      "100%|██████████| 3/3 [00:00<00:00, 10.44it/s]\n"
     ]
    },
    {
     "data": {
      "text/plain": [
       "tensor([[3152., 1088., 1144.,  ...,    0.,    0.,    0.],\n",
       "        [3152., 1088., 1144.,  ...,   75.,   50.,   36.],\n",
       "        [3152., 1088., 1144.,  ...,   69.,   67.,    0.],\n",
       "        ...,\n",
       "        [3152., 1088., 1144.,  ...,   59.,   54.,   49.],\n",
       "        [3152., 1088., 1144.,  ...,    0.,   48.,    0.],\n",
       "        [3152., 1088., 1144.,  ...,   75.,    0.,    8.]], device='cuda:0',\n",
       "       dtype=torch.bfloat16)"
      ]
     },
     "execution_count": 61,
     "metadata": {},
     "output_type": "execute_result"
    }
   ],
   "source": [
    "def acts_for_feature(tokens, feature_idx: int, batch_size: int = 4):\n",
    "    n_samples, seq_len = tokens.shape\n",
    "    all_acts = []\n",
    "    for i in tqdm(range(0, n_samples, batch_size)):\n",
    "        batch = tokens[i:i+batch_size]\n",
    "        _, acts = model.run_with_cache(batch, names_filter=hp, stop_at_layer=sae_layer+1)\n",
    "        acts = acts[hp]\n",
    "        batch_sae_acts = []\n",
    "        for sample in acts:\n",
    "            sae_acts = sae.encode(sample)\n",
    "            batch_sae_acts.append(sae_acts[:, feature_idx])\n",
    "        \n",
    "        batch_sae_acts = torch.stack(batch_sae_acts, dim=0)\n",
    "        all_acts.append(batch_sae_acts)\n",
    "    \n",
    "    return torch.cat(all_acts, dim=0)\n",
    "\n",
    "acts_for_selected = acts_for_feature(ready_tokens[:10], 6802)\n",
    "acts_for_selected"
   ]
  },
  {
   "cell_type": "code",
   "execution_count": null,
   "metadata": {},
   "outputs": [],
   "source": []
  },
  {
   "cell_type": "code",
   "execution_count": 62,
   "metadata": {},
   "outputs": [],
   "source": [
    "def display_highlighted_tokens(tokens, values, tokenizer):\n",
    "    # Ensure tensors are on CPU\n",
    "    tokens = tokens.cpu()\n",
    "    values = values.cpu().to(torch.float32)\n",
    "    \n",
    "    original_values = values.clone()\n",
    "    \n",
    "    # Normalize values to range [0, 1] for coloring\n",
    "    values = (values - values.min()) / (values.max() - values.min())\n",
    "    \n",
    "    # Function to convert value to RGB color\n",
    "    def value_to_color(value):\n",
    "        # Using a gradient from white to red\n",
    "        color_value = int(255 * (1 - value.item()))\n",
    "        return f\"rgb(255, {color_value}, {color_value})\"\n",
    "    \n",
    "    html_output = \"\"\n",
    "    \n",
    "    for batch_idx in range(tokens.shape[0]):\n",
    "        # Use the original values for max activation\n",
    "        max_activation = original_values[batch_idx].max().item()\n",
    "        html_output += f\"<p>Max Activation: {max_activation:.4f}:</p>\"\n",
    "        html_output += \"<p>\"\n",
    "        \n",
    "        for token, value in zip(tokens[batch_idx], values[batch_idx]):\n",
    "            word = tokenizer.decode([token.item()])\n",
    "            # Escape special characters to prevent HTML conflicts\n",
    "            word_escaped = html.escape(word)\n",
    "            color = value_to_color(value)\n",
    "            html_output += f'<span style=\"background-color: {color};\">{word_escaped}</span>'\n",
    "        \n",
    "        html_output += \"</p>\"\n",
    "    \n",
    "    display(HTML(html_output))"
   ]
  },
  {
   "cell_type": "code",
   "execution_count": 113,
   "metadata": {},
   "outputs": [
    {
     "name": "stdout",
     "output_type": "stream",
     "text": [
      "tensor([[[ 6802,  4230, 12650,  7985, 11350, 15376, 15701,  3234,  5906,  8641],\n",
      "         [14213,  6802, 15911, 12358,  7311,  3323, 11836, 14915,  8682, 13718],\n",
      "         [ 4505, 12358,  8682, 11087, 15709,   101, 12414, 10556,    23, 10561],\n",
      "         [16083, 11087,   101,  1178, 12342,  6802, 10783,  3125, 15882, 10098],\n",
      "         [12568, 11087, 10162, 10294, 12166,  1178,  6919,  1898,  3307, 10007],\n",
      "         [ 6802,   161, 11087,  1962, 12166,  8042,  3025,  1178,  9363, 13442],\n",
      "         [ 6767,  6802,  1962, 11176,  9680, 12206, 12166, 11087,  3025,  7002],\n",
      "         [12393, 11087,  1178,  3928,  3125, 12166,   101,  3307,  6919, 10098],\n",
      "         [ 6802,   101, 11087,   824,  9348, 15718, 12988,  7155,  2738,  1178],\n",
      "         [ 6802,   101,  9348,   824, 14650,  7792,  2738,  1178,  7069, 12013],\n",
      "         [ 3800,  3539,   517,  6919,  1470,  1178, 14054,  5324,  3125,  3307],\n",
      "         [ 3539,  6802, 12904,  3800,  6919,    13, 11160, 11176,  8129,  5611],\n",
      "         [15998,  6919,   748,  3539, 13919,  3307, 12564,  1178,  5611, 14239],\n",
      "         [ 6919, 12414,   748,  7813, 13919, 13248,   594, 16213, 11176,  3307],\n",
      "         [ 4708,  6919, 13248, 13919,  5611,  4343, 11176,   748,  3307,  5083],\n",
      "         [13520,  6919, 13767,  9878, 13819, 11176,  8615,  4727,  3307,   748],\n",
      "         [ 5837,  6919,  5611, 11176,  3307,  8123, 13919, 13248, 10299,  1401],\n",
      "         [ 4912, 11176,  6919, 12166,  2937,  8042,  5611,  9702,  8596, 12414],\n",
      "         [12414,  6919, 10339, 11176,  9702,  2727,  3292,  4912,  5611,  3307],\n",
      "         [ 6265,  6919, 11176,  5547, 15284,  3307, 12414,  7603,   328, 10871],\n",
      "         [13695, 10871,  6919,  3125, 13248,  4637,  3307,  1178,    23, 11176],\n",
      "         [10871,   101,   824,  6802,  6919,  8823,  3125, 10615, 14650,  7667],\n",
      "         [13846, 13520,  5735, 13248,  6919, 14054,  3307, 13819,  9159, 13767],\n",
      "         [12414,  6919,  8615,  7738,  7155,    23,  3307,  1565,  4180, 11467],\n",
      "         [ 2627, 12414,   136,  8615,  4180, 11087,  8947,  5735,  3125,  3307],\n",
      "         [ 4555, 11087,  6919,  1081,  5611,  4180,  8615,  1898, 13846,  7738],\n",
      "         [ 6802,  8042, 13346,  8123, 12166,  2957,  3448, 11176,  5611,  5152],\n",
      "         [ 6802, 12166, 14146, 11176,  1496,  8042,   748,  9685,  5611,  7002],\n",
      "         [11176, 10339,  4180, 14146, 11087,  6919,  8502,  1535,  1295,  5611],\n",
      "         [ 6802,   101,  8843, 13346,  2974,  3125,   824,  4668, 14933,  7461],\n",
      "         [ 2086,  4180,  9293, 11176,  5547,  6919,  3307, 10871, 13645, 11087],\n",
      "         [14310,  6919, 10615,    23,   824,  4180, 10871,  9160,  6802, 13248],\n",
      "         [ 6802,   101, 15556,   824,  3573,  8843,  9524,  9473,  4776,  4101],\n",
      "         [10970, 10935,  3307,  8090,  6919, 13956,  3125,  4168,  4180,  1131],\n",
      "         [11176,  1205,  9592,  8842,  6919,   328, 13507,   866,  3818,  5611],\n",
      "         [12647,  1205,  5611,  3307, 15204, 15395,  2985,  7644,  6919, 11176],\n",
      "         [ 5837,  6919, 12414,  5611,  7556,  8615,  1295, 11140,   748,  3017],\n",
      "         [12414,  9859, 14418,  6919,  5611,  5837,  3017, 11176,  4002, 15729],\n",
      "         [10229, 12166,   328,  3017, 11176, 14728,  8042,  3307,  6919, 15010],\n",
      "         [11743, 12414,  7585, 11176,  3017,  6919,  5611,  1401,  1295,  3307],\n",
      "         [12202, 11176,  3017, 12414,  1962,  9702,  1295,  6919,  5611,  3307],\n",
      "         [ 6532, 12414, 11176, 12202,  9702,  3017,  6919,  4647,  5611,  1962],\n",
      "         [11602, 11176,  3017,  1295, 13008,  2452,  5547,  4781,  6919,  1799],\n",
      "         [ 6802,  3017, 11176,  1295,  6919,  2051,  8615,  7585,  1178,  7898],\n",
      "         [12013, 10871,  6802,   101,  1643,  8615,  1295,  6919,   824,  4641],\n",
      "         [ 9491, 12414, 11176,  3017,  5611, 11632,  3307,  2087,  6919,   517],\n",
      "         [ 9859, 12414, 14418, 11176, 14763,  3017,  5611,  9898,  3539, 12166],\n",
      "         [ 3930, 10101, 11176,  3017, 15656,  8446,  5611, 11235, 12132,  9393],\n",
      "         [12414,  5865, 11176,  5611, 10101, 12132,  5662,  3017,  8446, 13215],\n",
      "         [12414, 13215, 11972, 12305, 13122, 12334, 14587,   990, 11176, 10025],\n",
      "         [ 7080, 12414,  1401, 11176, 15090,  5611,  3017,  3840,  6919, 13215],\n",
      "         [ 6802, 11176,  9702, 13215,  2523,  2086, 12305, 14587,  3017, 13248],\n",
      "         [ 1418, 11176,  3017, 14418, 13215,  5611,  9702,  7495,  3898, 10745],\n",
      "         [10871, 12013,  8615,  8823,  3125, 11176, 13215,   824, 14650, 10779],\n",
      "         [ 6802,  6919,  3017,  3234,  8200,  4168,  8615, 11350,  5611, 11176],\n",
      "         [12414,  7311, 11350,  5611,  4414, 14915,  6919,  6689,  3017, 12358],\n",
      "         [ 4505,  4414, 10556,  9411,  6919,  1295,  8615, 12358, 10007, 10615],\n",
      "         [  101, 16083, 12342, 11087,  7876,  3125, 10783,  5822, 10098,  7390],\n",
      "         [12568, 12414, 11087, 10294,  5611,  3307,  1401,  1295, 11176, 12166],\n",
      "         [12414,   161,  6919,  1401,  1962,  3448,  5611,  8042, 11176,   382],\n",
      "         [ 6767, 12414,  1962, 11176,  3600,  9702, 15909,  6919,  5611, 10722],\n",
      "         [12393, 12414,  3307,  3125,  6919, 13645,  5547,  3928, 10098, 10871],\n",
      "         [10615, 14310,  8615, 10871,  6919,  2692,  1522,  1295,  4414, 12988],\n",
      "         [ 6802, 15556,   101,  3985,   824, 10615,  4818,  1295,  3017,  7667],\n",
      "         [ 6767, 10722, 14054,  6880, 16140,  4306,  3125, 12414,  8736, 11067],\n",
      "         [ 6802, 12647,  5342, 11176, 15395,  2985,  6315,  3307,  1968,  6767],\n",
      "         [ 1117, 11327,  7556, 10263,  3017,  3059,  1295,  4216, 11176, 12217],\n",
      "         [12414, 13346,  2049, 11176,  5611,  3307,  4557,  1878,  6878,  3898],\n",
      "         [ 8608, 12414,  8596, 14605, 11176,  5611, 12166,  2571, 14728,  3539],\n",
      "         [ 8596, 12414, 12305,  5924, 11176,   748,   537,  8842,  3307,  5222],\n",
      "         [12414,  5193,  9071,  8596, 11176,  1401, 12305,   358, 11140,  5611],\n",
      "         [12414, 11176,  1401,   358,  5222,  2605, 15124, 14630,  1878, 15913],\n",
      "         [12414,  4727, 11176,  1496, 14637,   504,  5611,  9702,  5697,   358],\n",
      "         [12414,  2733, 11176,  9702,  5611,  4727,  8084,   358, 11708,  2571],\n",
      "         [11176,  6395,  9116,  9702,  2086, 11545, 12414,   358,  5611,  1295],\n",
      "         [10871, 12013,   101,  8615,   358, 14650, 12028,  1643, 11176,  1878],\n",
      "         [11176,  9859, 12414,   517, 14418,  5611,  2571,  8042,  8446, 13008],\n",
      "         [11176, 11670, 12414, 12197,  2626,  5611,    39, 13767, 10722,  5222],\n",
      "         [11176,   748,  5179, 15656,  8446, 12132,  8240, 11235,  6802,  5334],\n",
      "         [12414, 11176,  7252,    43,  5611, 10722,  5576,  1295,  6406, 13008],\n",
      "         [11176,  6802,   448,  8042,  8272, 12102,  6406,  8446,  5222,  1333],\n",
      "         [11176, 12414, 12811, 11622,   495, 15002,  6846,   856, 12305,  5611],\n",
      "         [12414,  4422, 11176,  1401, 11622,  5611,  6406,  5222, 10722,   990],\n",
      "         [12414,  5075,  5611, 11176,  6539,  9702,  1401, 11622, 13055,  3307],\n",
      "         [ 3343, 11176, 12414,  9702,  5611,  5222,  5682,  5919,  8857, 15526],\n",
      "         [11176,  5547,   537, 12305,  9702,  5222, 13767,   550, 14741,  5611],\n",
      "         [11176,  6802,  1295, 15718,  5222,  1878,   776,  5611,  2571, 10722],\n",
      "         [10871, 12013, 11176,   358,  3125, 12425,  7792,   824,  1295, 10615],\n",
      "         [ 4273, 10615, 13846, 13520,  8615,  5735,  3307,  2553,  9159, 14054],\n",
      "         [10615,  8615,  6802, 10272,  6236,  1295,  6641,  4273,    23,  5616],\n",
      "         [ 2627,  8615,   136, 12414,  1295,  8962, 10615,  5735,  4180,  5919],\n",
      "         [ 4555, 11087, 11176,  5611,  3307,  1081,  8123,  7899,  1898,  7738],\n",
      "         [ 6802,   101, 13346, 14933, 13248,  3125,  6339,  8843, 15752,   824],\n",
      "         [11176, 14146,  1496,  8042,  1401,  1962, 12166,   748,  5611,  9685],\n",
      "         [ 4180, 15909, 10339, 11176,  8615,  4273, 14146,  5919,  1295, 12414],\n",
      "         [ 6802,   101,  8843, 13346,  2780,   824,  5021,  4668,  3125,  2361],\n",
      "         [ 2086, 13645, 10615, 10871,  8615,  5547,  9293, 12414,  1295,  4180],\n",
      "         [10615, 10871, 14310,   307,  8615, 13799, 11176,  1295,  7836,  4168]]],\n",
      "       device='cuda:0')\n"
     ]
    }
   ],
   "source": [
    "top_v, top_i = top_activations(\"\"\"Do not go gentle into that good night,\n",
    "Old age should burn and rave at close of day;\n",
    "Rage, rage against the dying of the light.\n",
    "\n",
    "Though wise men at their end know dark is right,\n",
    "Because their words had forked no lightning they\n",
    "Do not go gentle into that good night.\n",
    "\n",
    "Good men, the last wave by, crying how bright\n",
    "Their frail deeds might have danced in a green bay,\n",
    "Rage, rage against the dying of the light.\n",
    "\"\"\")\n",
    "print(top_i)"
   ]
  },
  {
   "cell_type": "code",
   "execution_count": null,
   "metadata": {},
   "outputs": [],
   "source": []
  },
  {
   "cell_type": "code",
   "execution_count": 64,
   "metadata": {},
   "outputs": [],
   "source": []
  },
  {
   "cell_type": "code",
   "execution_count": 132,
   "metadata": {},
   "outputs": [],
   "source": [
    "def visualize_feature(ft_id: int):\n",
    "    samples = ready_tokens[top_k_indices[ft_id]]\n",
    "    acts = acts_for_feature(samples, ft_id)\n",
    "    display_highlighted_tokens(samples[:, 3:], acts[:, 3:], model.tokenizer)"
   ]
  },
  {
   "cell_type": "code",
   "execution_count": 120,
   "metadata": {},
   "outputs": [
    {
     "name": "stderr",
     "output_type": "stream",
     "text": [
      "100%|██████████| 3/3 [00:00<00:00, 10.65it/s]"
     ]
    },
    {
     "name": "stdout",
     "output_type": "stream",
     "text": [
      "tensor([[ 0.0000,  0.0000,  0.0000,  ...,  0.0000,  0.0000,  0.0000],\n",
      "        [ 0.0000,  0.0000,  0.0000,  ...,  0.0000,  0.0000, 13.7500],\n",
      "        [ 0.0000,  0.0000,  0.0000,  ...,  0.0000,  0.0000,  0.0000],\n",
      "        ...,\n",
      "        [ 0.0000,  0.0000,  0.0000,  ...,  0.0000,  0.0000, 10.3125],\n",
      "        [ 0.0000,  0.0000,  0.0000,  ...,  0.0000,  0.0000,  7.2500],\n",
      "        [ 0.0000,  0.0000,  0.0000,  ..., 12.7500,  0.0000,  0.0000]],\n",
      "       device='cuda:0', dtype=torch.bfloat16)\n"
     ]
    },
    {
     "name": "stderr",
     "output_type": "stream",
     "text": [
      "\n"
     ]
    },
    {
     "data": {
      "text/html": [
       "<p>Max Activation: 113.0000:</p><p><span style=\"background-color: rgb(255, 255, 255);\">\n",
       "</span><span style=\"background-color: rgb(255, 255, 255);\">po</span><span style=\"background-color: rgb(255, 0, 0);\">ems</span><span style=\"background-color: rgb(255, 234, 234);\">(</span><span style=\"background-color: rgb(255, 255, 255);\">page</span><span style=\"background-color: rgb(255, 255, 255);\">=</span><span style=\"background-color: rgb(255, 255, 255);\">page</span><span style=\"background-color: rgb(255, 255, 255);\">,</span><span style=\"background-color: rgb(255, 255, 255);\"> popular</span><span style=\"background-color: rgb(255, 255, 255);\">=</span><span style=\"background-color: rgb(255, 255, 255);\">True</span><span style=\"background-color: rgb(255, 255, 255);\">)</span><span style=\"background-color: rgb(255, 255, 255);\">\n",
       "\n",
       "</span><span style=\"background-color: rgb(255, 255, 255);\">        </span><span style=\"background-color: rgb(255, 255, 255);\">#</span><span style=\"background-color: rgb(255, 255, 255);\"> Get</span><span style=\"background-color: rgb(255, 255, 255);\"> the</span><span style=\"background-color: rgb(255, 255, 255);\"> result</span><span style=\"background-color: rgb(255, 255, 255);\"> of</span><span style=\"background-color: rgb(255, 238, 238);\"> the</span><span style=\"background-color: rgb(255, 255, 255);\"> query</span><span style=\"background-color: rgb(255, 255, 255);\">.</span><span style=\"background-color: rgb(255, 255, 255);\">\n",
       "</span><span style=\"background-color: rgb(255, 255, 255);\">        </span><span style=\"background-color: rgb(255, 255, 255);\">if</span><span style=\"background-color: rgb(255, 255, 255);\"> not</span><span style=\"background-color: rgb(255, 255, 255);\"> len</span><span style=\"background-color: rgb(255, 255, 255);\">(</span><span style=\"background-color: rgb(255, 231, 231);\">po</span><span style=\"background-color: rgb(255, 173, 173);\">ems</span><span style=\"background-color: rgb(255, 255, 255);\">):</span><span style=\"background-color: rgb(255, 255, 255);\">\n",
       "</span><span style=\"background-color: rgb(255, 255, 255);\">            </span><span style=\"background-color: rgb(255, 255, 255);\">self</span><span style=\"background-color: rgb(255, 255, 255);\">.</span><span style=\"background-color: rgb(255, 255, 255);\">render</span><span style=\"background-color: rgb(255, 255, 255);\">(&quot;</span><span style=\"background-color: rgb(255, 255, 255);\">no</span><span style=\"background-color: rgb(255, 255, 255);\">results</span><span style=\"background-color: rgb(255, 255, 255);\">.</span><span style=\"background-color: rgb(255, 255, 255);\">html</span><span style=\"background-color: rgb(255, 255, 255);\">&quot;)</span><span style=\"background-color: rgb(255, 255, 255);\">\n",
       "</span><span style=\"background-color: rgb(255, 255, 255);\">            </span><span style=\"background-color: rgb(255, 255, 255);\">return</span><span style=\"background-color: rgb(255, 255, 255);\">\n",
       "\n",
       "</span><span style=\"background-color: rgb(255, 255, 255);\">        </span><span style=\"background-color: rgb(255, 255, 255);\">#</span><span style=\"background-color: rgb(255, 255, 255);\"> Parse</span><span style=\"background-color: rgb(255, 255, 255);\"> the</span><span style=\"background-color: rgb(255, 152, 152);\"> poem</span><span style=\"background-color: rgb(255, 255, 255);\"> and</span><span style=\"background-color: rgb(255, 255, 255);\"> display</span><span style=\"background-color: rgb(255, 232, 232);\"> the</span><span style=\"background-color: rgb(255, 255, 255);\"> results</span><span style=\"background-color: rgb(255, 255, 255);\">.</span><span style=\"background-color: rgb(255, 255, 255);\">\n",
       "</span><span style=\"background-color: rgb(255, 255, 255);\">        </span><span style=\"background-color: rgb(255, 255, 255);\">self</span><span style=\"background-color: rgb(255, 255, 255);\">.</span><span style=\"background-color: rgb(255, 255, 255);\">render</span><span style=\"background-color: rgb(255, 255, 255);\">(&quot;</span><span style=\"background-color: rgb(255, 176, 176);\">po</span><span style=\"background-color: rgb(255, 227, 227);\">ems</span><span style=\"background-color: rgb(255, 255, 255);\">.</span><span style=\"background-color: rgb(255, 255, 255);\">html</span><span style=\"background-color: rgb(255, 255, 255);\">&quot;,</span><span style=\"background-color: rgb(255, 255, 255);\"> title</span><span style=\"background-color: rgb(255, 255, 255);\">=&quot;</span><span style=\"background-color: rgb(255, 255, 255);\">Popular</span><span style=\"background-color: rgb(255, 255, 255);\"> Twitter</span><span style=\"background-color: rgb(255, 202, 202);\">icks</span><span style=\"background-color: rgb(255, 255, 255);\">&quot;,</span><span style=\"background-color: rgb(255, 231, 231);\"> poems</span><span style=\"background-color: rgb(255, 255, 255);\">=</span><span style=\"background-color: rgb(255, 228, 228);\">po</span><span style=\"background-color: rgb(255, 255, 255);\">ems</span><span style=\"background-color: rgb(255, 255, 255);\">,</span><span style=\"background-color: rgb(255, 255, 255);\">\n",
       "</span><span style=\"background-color: rgb(255, 255, 255);\">                    </span><span style=\"background-color: rgb(255, 255, 255);\">next</span><span style=\"background-color: rgb(255, 255, 255);\">_</span><span style=\"background-color: rgb(255, 255, 255);\">page</span><span style=\"background-color: rgb(255, 255, 255);\">=</span><span style=\"background-color: rgb(255, 255, 255);\">page</span><span style=\"background-color: rgb(255, 255, 255);\">+</span><span style=\"background-color: rgb(255, 255, 255);\">1</span><span style=\"background-color: rgb(255, 255, 255);\">,</span><span style=\"background-color: rgb(255, 255, 255);\"> prev</span><span style=\"background-color: rgb(255, 255, 255);\">_</span><span style=\"background-color: rgb(255, 255, 255);\">page</span><span style=\"background-color: rgb(255, 255, 255);\">=</span><span style=\"background-color: rgb(255, 255, 255);\">page</span><span style=\"background-color: rgb(255, 255, 255);\">-</span><span style=\"background-color: rgb(255, 255, 255);\">1</span><span style=\"background-color: rgb(255, 255, 255);\">)</span><span style=\"background-color: rgb(255, 255, 255);\">\n",
       "\n",
       "\n",
       "</span><span style=\"background-color: rgb(255, 255, 255);\">class</span><span style=\"background-color: rgb(255, 255, 255);\"> Twitter</span><span style=\"background-color: rgb(255, 213, 213);\">ick</span><span style=\"background-color: rgb(255, 255, 255);\">Handler</span><span style=\"background-color: rgb(255, 255, 255);\">(</span><span style=\"background-color: rgb(255, 255, 255);\">Base</span><span style=\"background-color: rgb(255, 255, 255);\">Handler</span><span style=\"background-color: rgb(255, 255, 255);\">):</span><span style=\"background-color: rgb(255, 255, 255);\">\n",
       "\n",
       "</span><span style=\"background-color: rgb(255, 255, 255);\">    </span><span style=\"background-color: rgb(255, 255, 255);\">def</span><span style=\"background-color: rgb(255, 255, 255);\"> get</span><span style=\"background-color: rgb(255, 255, 255);\">(</span><span style=\"background-color: rgb(255, 255, 255);\">self</span><span style=\"background-color: rgb(255, 255, 255);\">,</span><span style=\"background-color: rgb(255, 169, 169);\"> poem</span><span style=\"background-color: rgb(255, 255, 255);\">_</span><span style=\"background-color: rgb(255, 255, 255);\">id</span><span style=\"background-color: rgb(255, 255, 255);\">):</span><span style=\"background-color: rgb(255, 255, 255);\">\n",
       "</span><span style=\"background-color: rgb(255, 255, 255);\">        </span><span style=\"background-color: rgb(255, 255, 255);\">po</span><span style=\"background-color: rgb(255, 255, 255);\">ems</span><span style=\"background-color: rgb(255, 255, 255);\"> =</span><span style=\"background-color: rgb(255, 255, 255);\"> self</span><span style=\"background-color: rgb(255, 255, 255);\">.</span><span style=\"background-color: rgb(255, 255, 255);\">get</span><span style=\"background-color: rgb(255, 255, 255);\">_</span></p><p>Max Activation: 94.0000:</p><p><span style=\"background-color: rgb(255, 255, 255);\">\n",
       "</span><span style=\"background-color: rgb(255, 255, 255);\">\n",
       "</span><span style=\"background-color: rgb(255, 255, 255);\">        </span><span style=\"background-color: rgb(255, 233, 233);\">po</span><span style=\"background-color: rgb(255, 42, 42);\">eme</span><span style=\"background-color: rgb(255, 231, 231);\"> =</span><span style=\"background-color: rgb(255, 255, 255);\"> dom</span><span style=\"background-color: rgb(255, 255, 255);\">.</span><span style=\"background-color: rgb(255, 255, 255);\">find</span><span style=\"background-color: rgb(255, 255, 255);\">(&#x27;</span><span style=\"background-color: rgb(255, 255, 255);\">blockquote</span><span style=\"background-color: rgb(255, 255, 255);\">&#x27;,</span><span style=\"background-color: rgb(255, 255, 255);\"> {&#x27;</span><span style=\"background-color: rgb(255, 255, 255);\">class</span><span style=\"background-color: rgb(255, 255, 255);\">&#x27;:</span><span style=\"background-color: rgb(255, 255, 255);\"> &#x27;</span><span style=\"background-color: rgb(255, 255, 255);\">verbatim</span><span style=\"background-color: rgb(255, 209, 209);\"> poe</span><span style=\"background-color: rgb(255, 151, 151);\">me</span><span style=\"background-color: rgb(255, 255, 255);\">&#x27;</span><span style=\"background-color: rgb(255, 255, 255);\">}).</span><span style=\"background-color: rgb(255, 255, 255);\">decode</span><span style=\"background-color: rgb(255, 255, 255);\">()</span><span style=\"background-color: rgb(255, 255, 255);\">\n",
       "</span><span style=\"background-color: rgb(255, 255, 255);\">        </span><span style=\"background-color: rgb(255, 255, 255);\">#</span><span style=\"background-color: rgb(255, 255, 255);\"> Check</span><span style=\"background-color: rgb(255, 255, 255);\"> that</span><span style=\"background-color: rgb(255, 164, 164);\"> poems</span><span style=\"background-color: rgb(255, 203, 203);\"> lines</span><span style=\"background-color: rgb(255, 255, 255);\"> are</span><span style=\"background-color: rgb(255, 255, 255);\"> centered</span><span style=\"background-color: rgb(255, 255, 255);\"> (</span><span style=\"background-color: rgb(255, 255, 255);\">align</span><span style=\"background-color: rgb(255, 255, 255);\">-</span><span style=\"background-color: rgb(255, 255, 255);\">center</span><span style=\"background-color: rgb(255, 255, 255);\">).</span><span style=\"background-color: rgb(255, 255, 255);\">\n",
       "</span><span style=\"background-color: rgb(255, 255, 255);\">        </span><span style=\"background-color: rgb(255, 255, 255);\">assert</span><span style=\"background-color: rgb(255, 255, 255);\"> poe</span><span style=\"background-color: rgb(255, 237, 237);\">me</span><span style=\"background-color: rgb(255, 255, 255);\"> ==</span><span style=\"background-color: rgb(255, 255, 255);\"> &#x27;&lt;</span><span style=\"background-color: rgb(255, 255, 255);\">blockquote</span><span style=\"background-color: rgb(255, 255, 255);\"> class</span><span style=\"background-color: rgb(255, 255, 255);\">=&quot;</span><span style=\"background-color: rgb(255, 255, 255);\">verbatim</span><span style=\"background-color: rgb(255, 255, 255);\"> poe</span><span style=\"background-color: rgb(255, 255, 255);\">me</span><span style=\"background-color: rgb(255, 255, 255);\">&quot;&gt;\\</span><span style=\"background-color: rgb(255, 255, 255);\">n</span><span style=\"background-color: rgb(255, 255, 255);\">&#x27;</span><span style=\"background-color: rgb(255, 255, 255);\"> \\</span><span style=\"background-color: rgb(255, 255, 255);\">\n",
       "</span><span style=\"background-color: rgb(255, 255, 255);\">                        </span><span style=\"background-color: rgb(255, 255, 255);\">&#x27;&lt;</span><span style=\"background-color: rgb(255, 255, 255);\">div</span><span style=\"background-color: rgb(255, 255, 255);\"> class</span><span style=\"background-color: rgb(255, 255, 255);\">=&quot;</span><span style=\"background-color: rgb(255, 255, 255);\">bloc</span><span style=\"background-color: rgb(255, 255, 255);\"> align</span><span style=\"background-color: rgb(255, 255, 255);\"> align</span><span style=\"background-color: rgb(255, 255, 255);\">-</span><span style=\"background-color: rgb(255, 255, 255);\">center</span><span style=\"background-color: rgb(255, 255, 255);\">&quot;&gt;\\</span><span style=\"background-color: rgb(255, 255, 255);\">n</span><span style=\"background-color: rgb(255, 255, 255);\">&#x27;</span><span style=\"background-color: rgb(255, 255, 255);\"> \\</span><span style=\"background-color: rgb(255, 255, 255);\">\n",
       "</span><span style=\"background-color: rgb(255, 255, 255);\">                        </span><span style=\"background-color: rgb(255, 255, 255);\">&#x27;&lt;</span><span style=\"background-color: rgb(255, 255, 255);\">p</span><span style=\"background-color: rgb(255, 237, 237);\"> class</span><span style=\"background-color: rgb(255, 255, 255);\">=&quot;</span><span style=\"background-color: rgb(255, 255, 255);\">ligne</span><span style=\"background-color: rgb(255, 255, 255);\">&quot;&gt;</span><span style=\"background-color: rgb(255, 147, 147);\">On</span><span style=\"background-color: rgb(255, 190, 190);\"> the</span><span style=\"background-color: rgb(255, 255, 255);\"> land</span><span style=\"background-color: rgb(255, 210, 210);\">&lt;/</span><span style=\"background-color: rgb(255, 255, 255);\">p</span><span style=\"background-color: rgb(255, 204, 204);\">&gt;\\</span><span style=\"background-color: rgb(255, 255, 255);\">n</span><span style=\"background-color: rgb(255, 255, 255);\">&#x27;</span><span style=\"background-color: rgb(255, 255, 255);\"> \\</span><span style=\"background-color: rgb(255, 255, 255);\">\n",
       "</span><span style=\"background-color: rgb(255, 255, 255);\">                        </span><span style=\"background-color: rgb(255, 255, 255);\">&#x27;&lt;/</span><span style=\"background-color: rgb(255, 255, 255);\">div</span><span style=\"background-color: rgb(255, 174, 174);\">&gt;\\</span><span style=\"background-color: rgb(255, 255, 255);\">n</span><span style=\"background-color: rgb(255, 255, 255);\">&#x27;</span><span style=\"background-color: rgb(255, 255, 255);\"> \\</span><span style=\"background-color: rgb(255, 255, 255);\">\n",
       "</span><span style=\"background-color: rgb(255, 255, 255);\">                        </span><span style=\"background-color: rgb(255, 255, 255);\">&#x27;&lt;</span><span style=\"background-color: rgb(255, 255, 255);\">div</span><span style=\"background-color: rgb(255, 159, 159);\"> class</span><span style=\"background-color: rgb(255, 255, 255);\">=&quot;</span><span style=\"background-color: rgb(255, 255, 255);\">bloc</span><span style=\"background-color: rgb(255, 255, 255);\"> align</span><span style=\"background-color: rgb(255, 255, 255);\"> align</span><span style=\"background-color: rgb(255, 255, 255);\">-</span><span style=\"background-color: rgb(255, 255, 255);\">center</span><span style=\"background-color: rgb(255, 255, 255);\">&quot;&gt;\\</span><span style=\"background-color: rgb(255, 255, 255);\">n</span><span style=\"background-color: rgb(255, 255, 255);\">&#x27;</span><span style=\"background-color: rgb(255, 255, 255);\"> \\</span><span style=\"background-color: rgb(255, 255, 255);\">\n",
       "</span><span style=\"background-color: rgb(255, 255, 255);\">                        </span><span style=\"background-color: rgb(255, 255, 255);\">&#x27;&lt;</span><span style=\"background-color: rgb(255, 255, 255);\">p</span><span style=\"background-color: rgb(255, 207, 207);\"> class</span><span style=\"background-color: rgb(255, 255, 255);\">=&quot;</span><span style=\"background-color: rgb(255, 255, 255);\">ligne</span><span style=\"background-color: rgb(255, 209, 209);\">&quot;&gt;</span><span style=\"background-color: rgb(255, 255, 255);\">On</span><span style=\"background-color: rgb(255, 255, 255);\"> the</span><span style=\"background-color: rgb(255, 255, 255);\"> water</span><span style=\"background-color: rgb(255, 255, 255);\">&lt;/</span><span style=\"background-color: rgb(255, 255, 255);\">p</span><span style=\"background-color: rgb(255, 255, 255);\">&gt;\\</span><span style=\"background-color: rgb(255, 255, 255);\">n</span><span style=\"background-color: rgb(255, 223, 223);\">&#x27;</span></p><p>Max Activation: 67.0000:</p><p><span style=\"background-color: rgb(255, 255, 255);\">\n",
       "</span><span style=\"background-color: rgb(255, 255, 255);\">9</span><span style=\"background-color: rgb(255, 255, 255);\">:</span><span style=\"background-color: rgb(255, 255, 255);\">3</span><span style=\"background-color: rgb(255, 255, 255);\">0</span><span style=\"background-color: rgb(255, 255, 255);\">am</span><span style=\"background-color: rgb(255, 255, 255);\"> with</span><span style=\"background-color: rgb(255, 255, 255);\"> the</span><span style=\"background-color: rgb(255, 255, 255);\"> study</span><span style=\"background-color: rgb(255, 255, 255);\"> of</span><span style=\"background-color: rgb(255, 255, 255);\"> Hass</span><span style=\"background-color: rgb(255, 255, 255);\">idic</span><span style=\"background-color: rgb(255, 255, 255);\"> and</span><span style=\"background-color: rgb(255, 255, 255);\"> other</span><span style=\"background-color: rgb(255, 233, 233);\"> mystical</span><span style=\"background-color: rgb(255, 255, 255);\"> texts</span><span style=\"background-color: rgb(255, 255, 255);\"> then</span><span style=\"background-color: rgb(255, 255, 255);\"> discuss</span><span style=\"background-color: rgb(255, 255, 255);\"> how</span><span style=\"background-color: rgb(255, 255, 255);\"> we</span><span style=\"background-color: rgb(255, 255, 255);\"> can</span><span style=\"background-color: rgb(255, 255, 255);\"> apply</span><span style=\"background-color: rgb(255, 255, 255);\"> them</span><span style=\"background-color: rgb(255, 255, 255);\"> in</span><span style=\"background-color: rgb(255, 255, 255);\"> our</span><span style=\"background-color: rgb(255, 255, 255);\"> daily</span><span style=\"background-color: rgb(255, 255, 255);\"> lives</span><span style=\"background-color: rgb(255, 255, 255);\">.</span><span style=\"background-color: rgb(255, 255, 255);\">\n",
       "</span><span style=\"background-color: rgb(255, 255, 255);\">This</span><span style=\"background-color: rgb(255, 255, 255);\"> will</span><span style=\"background-color: rgb(255, 255, 255);\"> be</span><span style=\"background-color: rgb(255, 255, 255);\"> followed</span><span style=\"background-color: rgb(255, 255, 255);\"> at</span><span style=\"background-color: rgb(255, 255, 255);\"> </span><span style=\"background-color: rgb(255, 255, 255);\">1</span><span style=\"background-color: rgb(255, 255, 255);\">0</span><span style=\"background-color: rgb(255, 255, 255);\">:</span><span style=\"background-color: rgb(255, 255, 255);\">1</span><span style=\"background-color: rgb(255, 255, 255);\">5</span><span style=\"background-color: rgb(255, 255, 255);\">am</span><span style=\"background-color: rgb(255, 255, 255);\"> by</span><span style=\"background-color: rgb(255, 255, 255);\"> a</span><span style=\"background-color: rgb(255, 255, 255);\"> collaborative</span><span style=\"background-color: rgb(255, 255, 255);\"> musical</span><span style=\"background-color: rgb(255, 255, 255);\"> gathering</span><span style=\"background-color: rgb(255, 255, 255);\"> based</span><span style=\"background-color: rgb(255, 236, 236);\"> on</span><span style=\"background-color: rgb(255, 255, 255);\"> the</span><span style=\"background-color: rgb(255, 255, 255);\"> Sha</span><span style=\"background-color: rgb(255, 255, 255);\">bbat</span><span style=\"background-color: rgb(255, 255, 255);\"> morning</span><span style=\"background-color: rgb(255, 255, 255);\"> service</span><span style=\"background-color: rgb(255, 255, 255);\"> incorporating</span><span style=\"background-color: rgb(255, 255, 255);\"> melodies</span><span style=\"background-color: rgb(255, 255, 255);\">,</span><span style=\"background-color: rgb(255, 103, 103);\"> poems</span><span style=\"background-color: rgb(255, 233, 233);\"> and</span><span style=\"background-color: rgb(255, 255, 255);\"> dance</span><span style=\"background-color: rgb(255, 255, 255);\"> to</span><span style=\"background-color: rgb(255, 255, 255);\"> enhance</span><span style=\"background-color: rgb(255, 255, 255);\"> o</span><span style=\"background-color: rgb(255, 255, 255);\">&lt;bos&gt;</span><span style=\"background-color: rgb(255, 255, 255);\">ur</span><span style=\"background-color: rgb(255, 255, 255);\"> Sha</span><span style=\"background-color: rgb(255, 255, 255);\">bbat</span><span style=\"background-color: rgb(255, 255, 255);\">.</span><span style=\"background-color: rgb(255, 255, 255);\">\n",
       "</span><span style=\"background-color: rgb(255, 255, 255);\">We</span><span style=\"background-color: rgb(255, 255, 255);\"> will</span><span style=\"background-color: rgb(255, 255, 255);\"> also</span><span style=\"background-color: rgb(255, 255, 255);\"> explore</span><span style=\"background-color: rgb(255, 255, 255);\"> the</span><span style=\"background-color: rgb(255, 255, 255);\"> intersection</span><span style=\"background-color: rgb(255, 255, 255);\"> of</span><span style=\"background-color: rgb(255, 255, 255);\"> Jewish</span><span style=\"background-color: rgb(255, 255, 255);\"> and</span><span style=\"background-color: rgb(255, 255, 255);\"> other</span><span style=\"background-color: rgb(255, 255, 255);\"> sacred</span><span style=\"background-color: rgb(255, 255, 255);\"> spiritual</span><span style=\"background-color: rgb(255, 255, 255);\"> techniques</span><span style=\"background-color: rgb(255, 255, 255);\"> to</span><span style=\"background-color: rgb(255, 255, 255);\"> see</span><span style=\"background-color: rgb(255, 255, 255);\"> how</span><span style=\"background-color: rgb(255, 255, 255);\"> we</span><span style=\"background-color: rgb(255, 255, 255);\"> can</span><span style=\"background-color: rgb(255, 255, 255);\"> enrich</span><span style=\"background-color: rgb(255, 255, 255);\"> our</span><span style=\"background-color: rgb(255, 255, 255);\"> connection</span><span style=\"background-color: rgb(255, 255, 255);\"> to</span><span style=\"background-color: rgb(255, 255, 255);\"> the</span><span style=\"background-color: rgb(255, 255, 255);\"> divine</span><span style=\"background-color: rgb(255, 255, 255);\"> and</span><span style=\"background-color: rgb(255, 255, 255);\"> to</span><span style=\"background-color: rgb(255, 255, 255);\"> one</span><span style=\"background-color: rgb(255, 255, 255);\"> another</span><span style=\"background-color: rgb(255, 255, 255);\">.</span><span style=\"background-color: rgb(255, 255, 255);\"> Joining</span><span style=\"background-color: rgb(255, 255, 255);\"> Cantor</span><span style=\"background-color: rgb(255, 255, 255);\"> George</span><span style=\"background-color: rgb(255, 255, 255);\"> Morde</span><span style=\"background-color: rgb(255, 255, 255);\">cai</span><span style=\"background-color: rgb(255, 255, 255);\"> will</span><span style=\"background-color: rgb(255, 255, 255);\"> be</span><span style=\"background-color: rgb(255, 255, 255);\"> a</span><span style=\"background-color: rgb(255, 255, 255);\"> talented</span><span style=\"background-color: rgb(255, 255, 255);\"> group</span><span style=\"background-color: rgb(255, 255, 255);\"> of</span><span style=\"background-color: rgb(255, 255, 255);\"> musicians</span><span style=\"background-color: rgb(255, 255, 255);\">,</span><span style=\"background-color: rgb(255, 255, 255);\"> story</span><span style=\"background-color: rgb(255, 255, 255);\">tellers</span><span style=\"background-color: rgb(255, 255, 255);\"> and</span><span style=\"background-color: rgb(255, 255, 255);\"> others</span><span style=\"background-color: rgb(255, 255, 255);\">.</span><span style=\"background-color: rgb(255, 255, 255);\">&lt;eos&gt;</span><span style=\"background-color: rgb(255, 255, 255);\">#!/</span><span style=\"background-color: rgb(255, 255, 255);\">usr</span><span style=\"background-color: rgb(255, 255, 255);\">/</span><span style=\"background-color: rgb(255, 255, 255);\">bin</span><span style=\"background-color: rgb(255, 255, 255);\">/</span><span style=\"background-color: rgb(255, 255, 255);\">env</span><span style=\"background-color: rgb(255, 255, 255);\"> python</span><span style=\"background-color: rgb(255, 255, 255);\">\n",
       "</span><span style=\"background-color: rgb(255, 255, 255);\">#</span></p><p>Max Activation: 61.2500:</p><p><span style=\"background-color: rgb(255, 255, 255);\">\n",
       "</span><span style=\"background-color: rgb(255, 255, 255);\"> longest</span><span style=\"background-color: rgb(255, 255, 255);\">.</span><span style=\"background-color: rgb(255, 255, 255);\">\n",
       "</span><span style=\"background-color: rgb(255, 255, 255);\">It</span><span style=\"background-color: rgb(255, 255, 255);\"> was</span><span style=\"background-color: rgb(255, 255, 255);\"> the</span><span style=\"background-color: rgb(255, 255, 255);\"> valiant</span><span style=\"background-color: rgb(255, 255, 255);\"> defense</span><span style=\"background-color: rgb(255, 255, 255);\"> of</span><span style=\"background-color: rgb(255, 255, 255);\"> Fort</span><span style=\"background-color: rgb(255, 255, 255);\"> Mc</span><span style=\"background-color: rgb(255, 185, 185);\">Henry</span><span style=\"background-color: rgb(255, 255, 255);\"> by</span><span style=\"background-color: rgb(255, 255, 255);\"> American</span><span style=\"background-color: rgb(255, 255, 255);\"> forces</span><span style=\"background-color: rgb(255, 255, 255);\"> during</span><span style=\"background-color: rgb(255, 229, 229);\"> the</span><span style=\"background-color: rgb(255, 255, 255);\"> British</span><span style=\"background-color: rgb(255, 255, 255);\"> attack</span><span style=\"background-color: rgb(255, 255, 255);\"> on</span><span style=\"background-color: rgb(255, 255, 255);\"> September</span><span style=\"background-color: rgb(255, 255, 255);\"> </span><span style=\"background-color: rgb(255, 255, 255);\">1</span><span style=\"background-color: rgb(255, 255, 255);\">3</span><span style=\"background-color: rgb(255, 255, 255);\">,</span><span style=\"background-color: rgb(255, 255, 255);\"> </span><span style=\"background-color: rgb(255, 255, 255);\">1</span><span style=\"background-color: rgb(255, 255, 255);\">8</span><span style=\"background-color: rgb(255, 210, 210);\">1</span><span style=\"background-color: rgb(255, 221, 221);\">4</span><span style=\"background-color: rgb(255, 255, 255);\"> that</span><span style=\"background-color: rgb(255, 215, 215);\"> inspired</span><span style=\"background-color: rgb(255, 193, 193);\"> </span><span style=\"background-color: rgb(255, 238, 238);\">3</span><span style=\"background-color: rgb(255, 255, 255);\">5</span><span style=\"background-color: rgb(255, 255, 255);\">-</span><span style=\"background-color: rgb(255, 255, 255);\">year</span><span style=\"background-color: rgb(255, 255, 255);\"> old</span><span style=\"background-color: rgb(255, 255, 255);\">,</span><span style=\"background-color: rgb(255, 116, 116);\"> poet</span><span style=\"background-color: rgb(255, 233, 233);\">-</span><span style=\"background-color: rgb(255, 255, 255);\">lawyer</span><span style=\"background-color: rgb(255, 255, 255);\"> Francis</span><span style=\"background-color: rgb(255, 221, 221);\"> Scott</span><span style=\"background-color: rgb(255, 178, 178);\"> Key</span><span style=\"background-color: rgb(255, 201, 201);\"> to</span><span style=\"background-color: rgb(255, 176, 176);\"> write</span><span style=\"background-color: rgb(255, 161, 161);\"> the</span><span style=\"background-color: rgb(255, 127, 127);\"> poem</span><span style=\"background-color: rgb(255, 255, 255);\"> which</span><span style=\"background-color: rgb(255, 227, 227);\"> was</span><span style=\"background-color: rgb(255, 255, 255);\"> to</span><span style=\"background-color: rgb(255, 232, 232);\"> become</span><span style=\"background-color: rgb(255, 255, 255);\"> our</span><span style=\"background-color: rgb(255, 220, 220);\"> national</span><span style=\"background-color: rgb(255, 196, 196);\"> anthem</span><span style=\"background-color: rgb(255, 230, 230);\">,</span><span style=\"background-color: rgb(255, 214, 214);\"> “</span><span style=\"background-color: rgb(255, 190, 190);\">The</span><span style=\"background-color: rgb(255, 212, 212);\"> Star</span><span style=\"background-color: rgb(255, 255, 255);\">-</span><span style=\"background-color: rgb(255, 229, 229);\">Sp</span><span style=\"background-color: rgb(255, 192, 192);\">angled</span><span style=\"background-color: rgb(255, 220, 220);\"> Banner</span><span style=\"background-color: rgb(255, 255, 255);\">.”</span><span style=\"background-color: rgb(255, 255, 255);\"> In</span><span style=\"background-color: rgb(255, 255, 255);\"> </span><span style=\"background-color: rgb(255, 255, 255);\">1</span><span style=\"background-color: rgb(255, 255, 255);\">9</span><span style=\"background-color: rgb(255, 255, 255);\">3</span><span style=\"background-color: rgb(255, 255, 255);\">1</span><span style=\"background-color: rgb(255, 255, 255);\"> the</span><span style=\"background-color: rgb(255, 255, 255);\"> Congress</span><span style=\"background-color: rgb(255, 255, 255);\"> of</span><span style=\"background-color: rgb(255, 255, 255);\"> The</span><span style=\"background-color: rgb(255, 255, 255);\"> United</span><span style=\"background-color: rgb(255, 255, 255);\"> States</span><span style=\"background-color: rgb(255, 255, 255);\"> of</span><span style=\"background-color: rgb(255, 255, 255);\"> America</span><span style=\"background-color: rgb(255, 255, 255);\"> enacted</span><span style=\"background-color: rgb(255, 255, 255);\"> legislation</span><span style=\"background-color: rgb(255, 255, 255);\"> that</span><span style=\"background-color: rgb(255, 255, 255);\"> made</span><span style=\"background-color: rgb(255, 255, 255);\"> “</span><span style=\"background-color: rgb(255, 231, 231);\">The</span><span style=\"background-color: rgb(255, 223, 223);\"> Star</span><span style=\"background-color: rgb(255, 255, 255);\">-</span><span style=\"background-color: rgb(255, 255, 255);\">Sp</span><span style=\"background-color: rgb(255, 206, 206);\">angled</span><span style=\"background-color: rgb(255, 255, 255);\"> Banner</span><span style=\"background-color: rgb(255, 235, 235);\">”</span><span style=\"background-color: rgb(255, 255, 255);\"> the</span><span style=\"background-color: rgb(255, 255, 255);\"> official</span><span style=\"background-color: rgb(255, 236, 236);\"> national</span><span style=\"background-color: rgb(255, 234, 234);\"> anthem</span><span style=\"background-color: rgb(255, 255, 255);\">.</span><span style=\"background-color: rgb(255, 255, 255);\">\n",
       "</span><span style=\"background-color: rgb(255, 255, 255);\">Then</span><span style=\"background-color: rgb(255, 238, 238);\"> conquer</span><span style=\"background-color: rgb(255, 255, 255);\"> we</span><span style=\"background-color: rgb(255, 255, 255);\"> must</span><span style=\"background-color: rgb(255, 255, 255);\">,</span><span style=\"background-color: rgb(255, 255, 255);\"> when</span><span style=\"background-color: rgb(255, 255, 255);\"> our</span><span style=\"background-color: rgb(255, 255, 255);\"> cause</span><span style=\"background-color: rgb(255, 255, 255);\"> it</span><span style=\"background-color: rgb(255, 255, 255);\"> is</span><span style=\"background-color: rgb(255, 255, 255);\"> just</span><span style=\"background-color: rgb(255, 255, 255);\">,</span><span style=\"background-color: rgb(255, 210, 210);\">And</span><span style=\"background-color: rgb(255, 255, 255);\"> this</span><span style=\"background-color: rgb(255, 255, 255);\"> be</span><span style=\"background-color: rgb(255, 255, 255);\"> our</span><span style=\"background-color: rgb(255, 255, 255);\"> motto</span><span style=\"background-color: rgb(255, 255, 255);\">:</span><span style=\"background-color: rgb(255, 255, 255);\"> “</span><span style=\"background-color: rgb(255, 255, 255);\">In</span><span style=\"background-color: rgb(255, 255, 255);\"> god</span><span style=\"background-color: rgb(255, 255, 255);\"> is</span><span style=\"background-color: rgb(255, 255, 255);\"> our</span><span style=\"background-color: rgb(255, 255, 255);\"> trust</span><span style=\"background-color: rgb(255, 231, 231);\">”</span><span style=\"background-color: rgb(255, 221, 221);\">And</span><span style=\"background-color: rgb(255, 255, 255);\"> the</span></p><p>Max Activation: 50.7500:</p><p><span style=\"background-color: rgb(255, 255, 255);\">\n",
       "</span><span style=\"background-color: rgb(255, 255, 255);\">Another</span><span style=\"background-color: rgb(255, 255, 255);\"> Angel</span><span style=\"background-color: rgb(255, 255, 255);\"> and</span><span style=\"background-color: rgb(255, 255, 255);\"> The</span><span style=\"background-color: rgb(255, 255, 255);\"> Perfect</span><span style=\"background-color: rgb(255, 255, 255);\"> Tree</span><span style=\"background-color: rgb(255, 255, 255);\"> were</span><span style=\"background-color: rgb(255, 255, 255);\"> written</span><span style=\"background-color: rgb(255, 255, 255);\"> for</span><span style=\"background-color: rgb(255, 255, 255);\"> and</span><span style=\"background-color: rgb(255, 255, 255);\"> dedicated</span><span style=\"background-color: rgb(255, 255, 255);\"> to</span><span style=\"background-color: rgb(255, 255, 255);\"> the</span><span style=\"background-color: rgb(255, 255, 255);\"> spirit</span><span style=\"background-color: rgb(255, 255, 255);\"> of</span><span style=\"background-color: rgb(255, 255, 255);\"> Mad</span><span style=\"background-color: rgb(255, 255, 255);\">yson</span><span style=\"background-color: rgb(255, 255, 255);\">,</span><span style=\"background-color: rgb(255, 255, 255);\"> a</span><span style=\"background-color: rgb(255, 255, 255);\"> little</span><span style=\"background-color: rgb(255, 255, 255);\"> girl</span><span style=\"background-color: rgb(255, 255, 255);\"> who</span><span style=\"background-color: rgb(255, 255, 255);\"> had</span><span style=\"background-color: rgb(255, 255, 255);\"> more</span><span style=\"background-color: rgb(255, 255, 255);\"> compassion</span><span style=\"background-color: rgb(255, 255, 255);\"> and</span><span style=\"background-color: rgb(255, 255, 255);\"> self</span><span style=\"background-color: rgb(255, 255, 255);\">lessness</span><span style=\"background-color: rgb(255, 255, 255);\"> in</span><span style=\"background-color: rgb(255, 255, 255);\"> her</span><span style=\"background-color: rgb(255, 255, 255);\"> brief</span><span style=\"background-color: rgb(255, 228, 228);\"> </span><span style=\"background-color: rgb(255, 255, 255);\">1</span><span style=\"background-color: rgb(255, 255, 255);\">3</span><span style=\"background-color: rgb(255, 255, 255);\"> years</span><span style=\"background-color: rgb(255, 255, 255);\"> than</span><span style=\"background-color: rgb(255, 255, 255);\"> most</span><span style=\"background-color: rgb(255, 255, 255);\"> people</span><span style=\"background-color: rgb(255, 255, 255);\"> express</span><span style=\"background-color: rgb(255, 255, 255);\"> in</span><span style=\"background-color: rgb(255, 255, 255);\"> their</span><span style=\"background-color: rgb(255, 255, 255);\"> entire</span><span style=\"background-color: rgb(255, 255, 255);\"> lifetime</span><span style=\"background-color: rgb(255, 255, 255);\">.</span><span style=\"background-color: rgb(255, 255, 255);\"> She</span><span style=\"background-color: rgb(255, 255, 255);\"> was</span><span style=\"background-color: rgb(255, 255, 255);\"> the</span><span style=\"background-color: rgb(255, 255, 255);\"> type</span><span style=\"background-color: rgb(255, 255, 255);\"> of</span><span style=\"background-color: rgb(255, 255, 255);\"> person</span><span style=\"background-color: rgb(255, 255, 255);\"> who</span><span style=\"background-color: rgb(255, 255, 255);\"> looked</span><span style=\"background-color: rgb(255, 255, 255);\"> to</span><span style=\"background-color: rgb(255, 255, 255);\"> be</span><span style=\"background-color: rgb(255, 255, 255);\"> involved</span><span style=\"background-color: rgb(255, 255, 255);\">.</span><span style=\"background-color: rgb(255, 255, 255);\"> She</span><span style=\"background-color: rgb(255, 255, 255);\"> would</span><span style=\"background-color: rgb(255, 255, 255);\"> volunteer</span><span style=\"background-color: rgb(255, 255, 255);\"> for</span><span style=\"background-color: rgb(255, 255, 255);\"> a</span><span style=\"background-color: rgb(255, 255, 255);\"> variety</span><span style=\"background-color: rgb(255, 255, 255);\"> of</span><span style=\"background-color: rgb(255, 255, 255);\"> fundraising</span><span style=\"background-color: rgb(255, 255, 255);\"> and</span><span style=\"background-color: rgb(255, 255, 255);\"> charity</span><span style=\"background-color: rgb(255, 255, 255);\"> events</span><span style=\"background-color: rgb(255, 255, 255);\"> and</span><span style=\"background-color: rgb(255, 255, 255);\"> was</span><span style=\"background-color: rgb(255, 255, 255);\"> the</span><span style=\"background-color: rgb(255, 255, 255);\"> type</span><span style=\"background-color: rgb(255, 255, 255);\"> of</span><span style=\"background-color: rgb(255, 255, 255);\"> person</span><span style=\"background-color: rgb(255, 255, 255);\"> who</span><span style=\"background-color: rgb(255, 255, 255);\"> would</span><span style=\"background-color: rgb(255, 255, 255);\"> save</span><span style=\"background-color: rgb(255, 255, 255);\"> up</span><span style=\"background-color: rgb(255, 255, 255);\"> her</span><span style=\"background-color: rgb(255, 255, 255);\"> allowance</span><span style=\"background-color: rgb(255, 255, 255);\"> and</span><span style=\"background-color: rgb(255, 255, 255);\"> give</span><span style=\"background-color: rgb(255, 255, 255);\"> it</span><span style=\"background-color: rgb(255, 255, 255);\"> away</span><span style=\"background-color: rgb(255, 255, 255);\"> to</span><span style=\"background-color: rgb(255, 255, 255);\"> a</span><span style=\"background-color: rgb(255, 255, 255);\"> multitude</span><span style=\"background-color: rgb(255, 255, 255);\"> of</span><span style=\"background-color: rgb(255, 255, 255);\"> causes</span><span style=\"background-color: rgb(255, 255, 255);\">.</span><span style=\"background-color: rgb(255, 255, 255);\"> She</span><span style=\"background-color: rgb(255, 255, 255);\"> was</span><span style=\"background-color: rgb(255, 228, 228);\"> the</span><span style=\"background-color: rgb(255, 255, 255);\"> type</span><span style=\"background-color: rgb(255, 255, 255);\"> of</span><span style=\"background-color: rgb(255, 255, 255);\"> person</span><span style=\"background-color: rgb(255, 255, 255);\"> we</span><span style=\"background-color: rgb(255, 255, 255);\"> should</span><span style=\"background-color: rgb(255, 255, 255);\"> all</span><span style=\"background-color: rgb(255, 255, 255);\"> strive</span><span style=\"background-color: rgb(255, 255, 255);\"> to</span><span style=\"background-color: rgb(255, 255, 255);\"> be</span><span style=\"background-color: rgb(255, 255, 255);\">.</span><span style=\"background-color: rgb(255, 255, 255);\"> The</span><span style=\"background-color: rgb(255, 140, 140);\"> lyrics</span><span style=\"background-color: rgb(255, 184, 184);\"> for</span><span style=\"background-color: rgb(255, 234, 234);\"> Another</span><span style=\"background-color: rgb(255, 255, 255);\"> Angel</span><span style=\"background-color: rgb(255, 200, 200);\"> were</span><span style=\"background-color: rgb(255, 212, 212);\"> inspired</span><span style=\"background-color: rgb(255, 200, 200);\"> by</span><span style=\"background-color: rgb(255, 230, 230);\"> thoughts</span><span style=\"background-color: rgb(255, 255, 255);\"> and</span><span style=\"background-color: rgb(255, 255, 255);\"> prayers</span><span style=\"background-color: rgb(255, 237, 237);\"> from</span><span style=\"background-color: rgb(255, 255, 255);\"> Mad</span><span style=\"background-color: rgb(255, 255, 255);\">yson</span><span style=\"background-color: rgb(255, 233, 233);\">’</span><span style=\"background-color: rgb(255, 255, 255);\">s</span><span style=\"background-color: rgb(255, 255, 255);\"> family</span><span style=\"background-color: rgb(255, 238, 238);\"> and</span><span style=\"background-color: rgb(255, 255, 255);\"> friends</span><span style=\"background-color: rgb(255, 219, 219);\">,</span><span style=\"background-color: rgb(255, 255, 255);\"> and</span><span style=\"background-color: rgb(255, 235, 235);\"> a</span></p><p>Max Activation: 49.7500:</p><p><span style=\"background-color: rgb(255, 255, 255);\">\n",
       "</span><span style=\"background-color: rgb(255, 255, 255);\"> “</span><span style=\"background-color: rgb(255, 255, 255);\">dro</span><span style=\"background-color: rgb(255, 255, 255);\">ve</span><span style=\"background-color: rgb(255, 255, 255);\"> myself</span><span style=\"background-color: rgb(255, 255, 255);\"> to</span><span style=\"background-color: rgb(255, 255, 255);\"> the</span><span style=\"background-color: rgb(255, 255, 255);\"> lawyer</span><span style=\"background-color: rgb(255, 255, 255);\">&#x27;</span><span style=\"background-color: rgb(255, 255, 255);\">s</span><span style=\"background-color: rgb(255, 255, 255);\"> today</span><span style=\"background-color: rgb(255, 194, 194);\"> /</span><span style=\"background-color: rgb(255, 255, 255);\"> and</span><span style=\"background-color: rgb(255, 255, 255);\"> picked</span><span style=\"background-color: rgb(255, 255, 255);\"> up</span><span style=\"background-color: rgb(255, 255, 255);\"> a</span><span style=\"background-color: rgb(255, 255, 255);\"> pen</span><span style=\"background-color: rgb(255, 255, 255);\"> and</span><span style=\"background-color: rgb(255, 255, 255);\"> signed</span><span style=\"background-color: rgb(255, 255, 255);\"> my</span><span style=\"background-color: rgb(255, 255, 255);\"> wife</span><span style=\"background-color: rgb(255, 255, 255);\"> away</span><span style=\"background-color: rgb(255, 230, 230);\">,”</span><span style=\"background-color: rgb(255, 183, 183);\"> but</span><span style=\"background-color: rgb(255, 236, 236);\"> rather</span><span style=\"background-color: rgb(255, 255, 255);\"> than</span><span style=\"background-color: rgb(255, 255, 255);\"> looking</span><span style=\"background-color: rgb(255, 255, 255);\"> back</span><span style=\"background-color: rgb(255, 255, 255);\"> at</span><span style=\"background-color: rgb(255, 255, 255);\"> an</span><span style=\"background-color: rgb(255, 255, 255);\"> ideal</span><span style=\"background-color: rgb(255, 255, 255);\"> woman</span><span style=\"background-color: rgb(255, 255, 255);\"> or</span><span style=\"background-color: rgb(255, 255, 255);\"> red</span><span style=\"background-color: rgb(255, 185, 185);\">-</span><span style=\"background-color: rgb(255, 255, 255);\">lips</span><span style=\"background-color: rgb(255, 255, 255);\">ti</span><span style=\"background-color: rgb(255, 255, 255);\">cked</span><span style=\"background-color: rgb(255, 255, 255);\"> cheat</span><span style=\"background-color: rgb(255, 229, 229);\">,</span><span style=\"background-color: rgb(255, 200, 200);\"> the</span><span style=\"background-color: rgb(255, 187, 187);\"> song</span><span style=\"background-color: rgb(255, 218, 218);\"> is</span><span style=\"background-color: rgb(255, 255, 255);\"> pure</span><span style=\"background-color: rgb(255, 255, 255);\"> aftermath</span><span style=\"background-color: rgb(255, 255, 255);\"> lament</span><span style=\"background-color: rgb(255, 235, 235);\">,</span><span style=\"background-color: rgb(255, 229, 229);\"> with</span><span style=\"background-color: rgb(255, 255, 255);\"> the</span><span style=\"background-color: rgb(255, 255, 255);\"> wife</span><span style=\"background-color: rgb(255, 255, 255);\"> garner</span><span style=\"background-color: rgb(255, 255, 255);\">ing</span><span style=\"background-color: rgb(255, 255, 255);\"> just</span><span style=\"background-color: rgb(255, 255, 255);\"> the</span><span style=\"background-color: rgb(255, 255, 255);\"> one</span><span style=\"background-color: rgb(255, 255, 255);\"> mention</span><span style=\"background-color: rgb(255, 255, 255);\">.</span><span style=\"background-color: rgb(255, 231, 231);\"> That</span><span style=\"background-color: rgb(255, 255, 255);\"> more</span><span style=\"background-color: rgb(255, 237, 237);\"> subtle</span><span style=\"background-color: rgb(255, 200, 200);\"> songwriting</span><span style=\"background-color: rgb(255, 255, 255);\"> is</span><span style=\"background-color: rgb(255, 255, 255);\"> typical</span><span style=\"background-color: rgb(255, 227, 227);\"> of</span><span style=\"background-color: rgb(255, 255, 255);\"> Davis</span><span style=\"background-color: rgb(255, 255, 255);\">,</span><span style=\"background-color: rgb(255, 255, 255);\"> who</span><span style=\"background-color: rgb(255, 228, 228);\"> has</span><span style=\"background-color: rgb(255, 237, 237);\"> penned</span><span style=\"background-color: rgb(255, 142, 142);\"> lyrics</span><span style=\"background-color: rgb(255, 234, 234);\"> for</span><span style=\"background-color: rgb(255, 255, 255);\"> country</span><span style=\"background-color: rgb(255, 255, 255);\"> notables</span><span style=\"background-color: rgb(255, 255, 255);\"> Willie</span><span style=\"background-color: rgb(255, 255, 255);\"> Nelson</span><span style=\"background-color: rgb(255, 255, 255);\">,</span><span style=\"background-color: rgb(255, 255, 255);\"> Merle</span><span style=\"background-color: rgb(255, 232, 232);\"> Hag</span><span style=\"background-color: rgb(255, 255, 255);\">gard</span><span style=\"background-color: rgb(255, 234, 234);\">,</span><span style=\"background-color: rgb(255, 255, 255);\"> Trace</span><span style=\"background-color: rgb(255, 255, 255);\"> Adkins</span><span style=\"background-color: rgb(255, 255, 255);\">,</span><span style=\"background-color: rgb(255, 255, 255);\"> Sammy</span><span style=\"background-color: rgb(255, 255, 255);\"> Kershaw</span><span style=\"background-color: rgb(255, 255, 255);\"> and</span><span style=\"background-color: rgb(255, 255, 255);\"> more</span><span style=\"background-color: rgb(255, 255, 255);\">,</span><span style=\"background-color: rgb(255, 255, 255);\"> all</span><span style=\"background-color: rgb(255, 255, 255);\"> while</span><span style=\"background-color: rgb(255, 255, 255);\"> releasing</span><span style=\"background-color: rgb(255, 255, 255);\"> his</span><span style=\"background-color: rgb(255, 255, 255);\"> own</span><span style=\"background-color: rgb(255, 255, 255);\"> music</span><span style=\"background-color: rgb(255, 255, 255);\">,</span><span style=\"background-color: rgb(255, 255, 255);\"> most</span><span style=\"background-color: rgb(255, 255, 255);\"> recently</span><span style=\"background-color: rgb(255, 255, 255);\"> the</span><span style=\"background-color: rgb(255, 255, 255);\"> four</span><span style=\"background-color: rgb(255, 255, 255);\">-</span><span style=\"background-color: rgb(255, 255, 255);\">track</span><span style=\"background-color: rgb(255, 255, 255);\"> EP</span><span style=\"background-color: rgb(255, 255, 255);\"> As</span><span style=\"background-color: rgb(255, 255, 255);\">under</span><span style=\"background-color: rgb(255, 255, 255);\"> (</span><span style=\"background-color: rgb(255, 255, 255);\">Ward</span><span style=\"background-color: rgb(255, 255, 255);\"> Davis</span><span style=\"background-color: rgb(255, 255, 255);\"> Music</span><span style=\"background-color: rgb(255, 255, 255);\">,</span><span style=\"background-color: rgb(255, 210, 210);\"> </span><span style=\"background-color: rgb(255, 255, 255);\">2</span><span style=\"background-color: rgb(255, 255, 255);\">0</span><span style=\"background-color: rgb(255, 221, 221);\">1</span><span style=\"background-color: rgb(255, 255, 255);\">8</span><span style=\"background-color: rgb(255, 255, 255);\">).</span><span style=\"background-color: rgb(255, 255, 255);\"> For</span><span style=\"background-color: rgb(255, 255, 255);\"> fans</span><span style=\"background-color: rgb(255, 255, 255);\"> of</span><span style=\"background-color: rgb(255, 255, 255);\"> classic</span><span style=\"background-color: rgb(255, 255, 255);\">,</span><span style=\"background-color: rgb(255, 255, 255);\"> heart</span><span style=\"background-color: rgb(255, 213, 213);\">-</span><span style=\"background-color: rgb(255, 255, 255);\">aching</span><span style=\"background-color: rgb(255, 255, 255);\"> country</span><span style=\"background-color: rgb(255, 255, 255);\">,</span></p><p>Max Activation: 46.2500:</p><p><span style=\"background-color: rgb(255, 255, 255);\">\n",
       "</span><span style=\"background-color: rgb(255, 255, 255);\"> “</span><span style=\"background-color: rgb(255, 255, 255);\">time</span><span style=\"background-color: rgb(255, 255, 255);\">,</span><span style=\"background-color: rgb(255, 255, 255);\"> life</span><span style=\"background-color: rgb(255, 255, 255);\"> and</span><span style=\"background-color: rgb(255, 255, 255);\"> death</span><span style=\"background-color: rgb(255, 255, 255);\">”</span><span style=\"background-color: rgb(255, 236, 236);\"> in</span><span style=\"background-color: rgb(255, 255, 255);\"> this</span><span style=\"background-color: rgb(255, 255, 255);\"> park</span><span style=\"background-color: rgb(255, 255, 255);\">.</span><span style=\"background-color: rgb(255, 255, 255);\">\n",
       "</span><span style=\"background-color: rgb(255, 255, 255);\">So</span><span style=\"background-color: rgb(255, 255, 255);\">,</span><span style=\"background-color: rgb(255, 255, 255);\"> I</span><span style=\"background-color: rgb(255, 255, 255);\"> ins</span><span style=\"background-color: rgb(255, 238, 238);\">cribe</span><span style=\"background-color: rgb(255, 255, 255);\"> the</span><span style=\"background-color: rgb(255, 255, 255);\"> quotation</span><span style=\"background-color: rgb(255, 255, 255);\"> on</span><span style=\"background-color: rgb(255, 255, 255);\"> the</span><span style=\"background-color: rgb(255, 255, 255);\"> bottom</span><span style=\"background-color: rgb(255, 255, 255);\"> of</span><span style=\"background-color: rgb(255, 255, 255);\"> the</span><span style=\"background-color: rgb(255, 255, 255);\"> aluminum</span><span style=\"background-color: rgb(255, 255, 255);\"> basin</span><span style=\"background-color: rgb(255, 255, 255);\">,</span><span style=\"background-color: rgb(255, 255, 255);\"> filled</span><span style=\"background-color: rgb(255, 255, 255);\"> it</span><span style=\"background-color: rgb(255, 255, 255);\"> with</span><span style=\"background-color: rgb(255, 255, 255);\"> water</span><span style=\"background-color: rgb(255, 255, 255);\">,</span><span style=\"background-color: rgb(255, 255, 255);\"> and</span><span style=\"background-color: rgb(255, 255, 255);\"> placed</span><span style=\"background-color: rgb(255, 255, 255);\"> chairs</span><span style=\"background-color: rgb(255, 255, 255);\"> around</span><span style=\"background-color: rgb(255, 255, 255);\"> it</span><span style=\"background-color: rgb(255, 255, 255);\">.</span><span style=\"background-color: rgb(255, 255, 255);\"> The</span><span style=\"background-color: rgb(255, 255, 255);\"> chairs</span><span style=\"background-color: rgb(255, 255, 255);\"> show</span><span style=\"background-color: rgb(255, 255, 255);\"> the</span><span style=\"background-color: rgb(255, 255, 255);\"> memory</span><span style=\"background-color: rgb(255, 255, 255);\"> of</span><span style=\"background-color: rgb(255, 255, 255);\"> T</span><span style=\"background-color: rgb(255, 255, 255);\">.</span><span style=\"background-color: rgb(255, 179, 179);\">S</span><span style=\"background-color: rgb(255, 255, 255);\">.</span><span style=\"background-color: rgb(255, 176, 176);\"> Eliot</span><span style=\"background-color: rgb(255, 255, 255);\">.</span><span style=\"background-color: rgb(255, 255, 255);\"> Furthermore</span><span style=\"background-color: rgb(255, 255, 255);\">,</span><span style=\"background-color: rgb(255, 255, 255);\"> this</span><span style=\"background-color: rgb(255, 255, 255);\"> artwork</span><span style=\"background-color: rgb(255, 255, 255);\"> encourages</span><span style=\"background-color: rgb(255, 255, 255);\"> visitors</span><span style=\"background-color: rgb(255, 255, 255);\"> to</span><span style=\"background-color: rgb(255, 255, 255);\"> reconsider</span><span style=\"background-color: rgb(255, 255, 255);\"> those</span><span style=\"background-color: rgb(255, 255, 255);\"> sitting</span><span style=\"background-color: rgb(255, 255, 255);\"> in</span><span style=\"background-color: rgb(255, 255, 255);\"> the</span><span style=\"background-color: rgb(255, 255, 255);\"> chairs</span><span style=\"background-color: rgb(255, 255, 255);\"> and</span><span style=\"background-color: rgb(255, 255, 255);\"> reading</span><span style=\"background-color: rgb(255, 255, 255);\"> the</span><span style=\"background-color: rgb(255, 150, 150);\"> poem</span><span style=\"background-color: rgb(255, 255, 255);\">.</span><span style=\"background-color: rgb(255, 255, 255);\">&lt;eos&gt;</span><span style=\"background-color: rgb(255, 255, 255);\">#</span><span style=\"background-color: rgb(255, 255, 255);\"> Copyright</span><span style=\"background-color: rgb(255, 255, 255);\"> </span><span style=\"background-color: rgb(255, 255, 255);\">2</span><span style=\"background-color: rgb(255, 233, 233);\">0</span><span style=\"background-color: rgb(255, 175, 175);\">1</span><span style=\"background-color: rgb(255, 255, 255);\">4</span><span style=\"background-color: rgb(255, 255, 255);\"> Pants</span><span style=\"background-color: rgb(255, 255, 255);\"> project</span><span style=\"background-color: rgb(255, 255, 255);\"> contributors</span><span style=\"background-color: rgb(255, 255, 255);\"> (</span><span style=\"background-color: rgb(255, 255, 255);\">see</span><span style=\"background-color: rgb(255, 255, 255);\"> CONTRIBUTORS</span><span style=\"background-color: rgb(255, 255, 255);\">.</span><span style=\"background-color: rgb(255, 255, 255);\">md</span><span style=\"background-color: rgb(255, 255, 255);\">).</span><span style=\"background-color: rgb(255, 255, 255);\">\n",
       "</span><span style=\"background-color: rgb(255, 255, 255);\">#</span><span style=\"background-color: rgb(255, 255, 255);\"> Licensed</span><span style=\"background-color: rgb(255, 255, 255);\"> under</span><span style=\"background-color: rgb(255, 255, 255);\"> the</span><span style=\"background-color: rgb(255, 255, 255);\"> Apache</span><span style=\"background-color: rgb(255, 255, 255);\"> License</span><span style=\"background-color: rgb(255, 255, 255);\">,</span><span style=\"background-color: rgb(255, 255, 255);\"> Version</span><span style=\"background-color: rgb(255, 255, 255);\"> </span><span style=\"background-color: rgb(255, 255, 255);\">2</span><span style=\"background-color: rgb(255, 255, 255);\">.</span><span style=\"background-color: rgb(255, 255, 255);\">0</span><span style=\"background-color: rgb(255, 255, 255);\"> (</span><span style=\"background-color: rgb(255, 255, 255);\">see</span><span style=\"background-color: rgb(255, 255, 255);\"> LICENSE</span><span style=\"background-color: rgb(255, 255, 255);\">).</span><span style=\"background-color: rgb(255, 255, 255);\">\n",
       "\n",
       "</span><span style=\"background-color: rgb(255, 255, 255);\">import</span><span style=\"background-color: rgb(255, 255, 255);\"> logging</span><span style=\"background-color: rgb(255, 255, 255);\">\n",
       "</span><span style=\"background-color: rgb(255, 255, 255);\">import</span><span style=\"background-color: rgb(255, 255, 255);\"> os</span><span style=\"background-color: rgb(255, 255, 255);\">\n",
       "\n",
       "</span><span style=\"background-color: rgb(255, 255, 255);\">from</span><span style=\"background-color: rgb(255, 255, 255);\"> pants</span><span style=\"background-color: rgb(255, 255, 255);\">.</span><span style=\"background-color: rgb(255, 255, 255);\">backend</span><span style=\"background-color: rgb(255, 255, 255);\">.</span><span style=\"background-color: rgb(255, 255, 255);\">codegen</span><span style=\"background-color: rgb(255, 255, 255);\">.</span><span style=\"background-color: rgb(255, 255, 255);\">wire</span><span style=\"background-color: rgb(255, 255, 255);\">.</span><span style=\"background-color: rgb(255, 255, 255);\">java</span><span style=\"background-color: rgb(255, 255, 255);\">.</span><span style=\"background-color: rgb(255, 255, 255);\">java</span><span style=\"background-color: rgb(255, 255, 255);\">_</span><span style=\"background-color: rgb(255, 255, 255);\">wire</span><span style=\"background-color: rgb(255, 255, 255);\">_</span></p><p>Max Activation: 45.7500:</p><p><span style=\"background-color: rgb(255, 255, 255);\">\n",
       "</span><span style=\"background-color: rgb(255, 255, 255);\">&quot;.</span><span style=\"background-color: rgb(255, 255, 255);\">\n",
       "</span><span style=\"background-color: rgb(255, 255, 255);\">&quot;</span><span style=\"background-color: rgb(255, 255, 255);\">To</span><span style=\"background-color: rgb(255, 255, 255);\"> tell</span><span style=\"background-color: rgb(255, 255, 255);\"> Christian</span><span style=\"background-color: rgb(255, 255, 255);\"> young</span><span style=\"background-color: rgb(255, 255, 255);\"> people</span><span style=\"background-color: rgb(255, 255, 255);\"> that</span><span style=\"background-color: rgb(255, 255, 255);\"> the</span><span style=\"background-color: rgb(255, 255, 255);\"> use</span><span style=\"background-color: rgb(255, 255, 255);\"> of</span><span style=\"background-color: rgb(255, 255, 255);\"> plastic</span><span style=\"background-color: rgb(255, 255, 255);\"> explosives</span><span style=\"background-color: rgb(255, 255, 255);\"> will</span><span style=\"background-color: rgb(255, 255, 255);\"> solve</span><span style=\"background-color: rgb(255, 255, 255);\"> problems</span><span style=\"background-color: rgb(255, 255, 255);\"> is</span><span style=\"background-color: rgb(255, 255, 255);\"> irresponsible</span><span style=\"background-color: rgb(255, 255, 255);\"> at</span><span style=\"background-color: rgb(255, 255, 255);\"> least</span><span style=\"background-color: rgb(255, 255, 255);\">,</span><span style=\"background-color: rgb(255, 255, 255);\"> not</span><span style=\"background-color: rgb(255, 255, 255);\"> to</span><span style=\"background-color: rgb(255, 255, 255);\"> mention</span><span style=\"background-color: rgb(255, 255, 255);\"> inc</span><span style=\"background-color: rgb(255, 255, 255);\">iting</span><span style=\"background-color: rgb(255, 255, 255);\"> rebellion</span><span style=\"background-color: rgb(255, 255, 255);\"> ...</span><span style=\"background-color: rgb(255, 255, 255);\"> with</span><span style=\"background-color: rgb(255, 255, 255);\"> words</span><span style=\"background-color: rgb(255, 255, 255);\"> like</span><span style=\"background-color: rgb(255, 237, 237);\"> &#x27;</span><span style=\"background-color: rgb(255, 255, 255);\">Try</span><span style=\"background-color: rgb(255, 255, 255);\"> and</span><span style=\"background-color: rgb(255, 255, 255);\"> catch</span><span style=\"background-color: rgb(255, 255, 255);\"> me</span><span style=\"background-color: rgb(255, 255, 255);\"> co</span><span style=\"background-color: rgb(255, 255, 255);\">ppers</span><span style=\"background-color: rgb(255, 255, 255);\">,</span><span style=\"background-color: rgb(255, 255, 255);\"> you</span><span style=\"background-color: rgb(255, 255, 255);\"> st</span><span style=\"background-color: rgb(255, 255, 255);\">inking</span><span style=\"background-color: rgb(255, 255, 255);\"> badges</span><span style=\"background-color: rgb(255, 255, 255);\"> better</span><span style=\"background-color: rgb(255, 255, 255);\"> think</span><span style=\"background-color: rgb(255, 255, 255);\"> again</span><span style=\"background-color: rgb(255, 255, 255);\"> before</span><span style=\"background-color: rgb(255, 255, 255);\"> you</span><span style=\"background-color: rgb(255, 255, 255);\"> mess</span><span style=\"background-color: rgb(255, 255, 255);\"> this</span><span style=\"background-color: rgb(255, 255, 255);\"> boy</span><span style=\"background-color: rgb(255, 255, 255);\"> around</span><span style=\"background-color: rgb(255, 237, 237);\">,&quot;</span><span style=\"background-color: rgb(255, 255, 255);\"> he</span><span style=\"background-color: rgb(255, 255, 255);\"> said</span><span style=\"background-color: rgb(255, 255, 255);\">.</span><span style=\"background-color: rgb(255, 255, 255);\">\n",
       "</span><span style=\"background-color: rgb(255, 255, 255);\">&quot;</span><span style=\"background-color: rgb(255, 255, 255);\">After</span><span style=\"background-color: rgb(255, 255, 255);\"> examining</span><span style=\"background-color: rgb(255, 255, 255);\"> the</span><span style=\"background-color: rgb(255, 255, 255);\"> rest</span><span style=\"background-color: rgb(255, 255, 255);\"> of</span><span style=\"background-color: rgb(255, 255, 255);\"> the</span><span style=\"background-color: rgb(255, 151, 151);\"> lyrics</span><span style=\"background-color: rgb(255, 229, 229);\"> I</span><span style=\"background-color: rgb(255, 255, 255);\"> came</span><span style=\"background-color: rgb(255, 255, 255);\"> to</span><span style=\"background-color: rgb(255, 232, 232);\"> the</span><span style=\"background-color: rgb(255, 255, 255);\"> conclusion</span><span style=\"background-color: rgb(255, 227, 227);\"> that</span><span style=\"background-color: rgb(255, 234, 234);\"> it</span><span style=\"background-color: rgb(255, 255, 255);\"> would</span><span style=\"background-color: rgb(255, 255, 255);\"> be</span><span style=\"background-color: rgb(255, 255, 255);\"> easier</span><span style=\"background-color: rgb(255, 255, 255);\"> to</span><span style=\"background-color: rgb(255, 255, 255);\"> find</span><span style=\"background-color: rgb(255, 255, 255);\"> a</span><span style=\"background-color: rgb(255, 255, 255);\"> needle</span><span style=\"background-color: rgb(255, 255, 255);\"> in</span><span style=\"background-color: rgb(255, 255, 255);\"> a</span><span style=\"background-color: rgb(255, 255, 255);\"> haystack</span><span style=\"background-color: rgb(255, 255, 255);\"> than</span><span style=\"background-color: rgb(255, 255, 255);\"> to</span><span style=\"background-color: rgb(255, 255, 255);\"> find</span><span style=\"background-color: rgb(255, 255, 255);\"> God</span><span style=\"background-color: rgb(255, 255, 255);\"> in</span><span style=\"background-color: rgb(255, 231, 231);\"> these</span><span style=\"background-color: rgb(255, 219, 219);\"> words</span><span style=\"background-color: rgb(255, 255, 255);\">,&quot;</span><span style=\"background-color: rgb(255, 255, 255);\"> Mr</span><span style=\"background-color: rgb(255, 255, 255);\">.</span><span style=\"background-color: rgb(255, 255, 255);\"> Turnbull</span><span style=\"background-color: rgb(255, 255, 255);\"> added</span><span style=\"background-color: rgb(255, 255, 255);\">.</span><span style=\"background-color: rgb(255, 255, 255);\">\n",
       "</span><span style=\"background-color: rgb(255, 255, 255);\">Mrs</span><span style=\"background-color: rgb(255, 255, 255);\">.</span><span style=\"background-color: rgb(255, 255, 255);\"> Margaret</span><span style=\"background-color: rgb(255, 255, 255);\"> Tig</span><span style=\"background-color: rgb(255, 255, 255);\">he</span><span style=\"background-color: rgb(255, 255, 255);\">,</span><span style=\"background-color: rgb(255, 255, 255);\"> chair</span><span style=\"background-color: rgb(255, 255, 255);\">woman</span><span style=\"background-color: rgb(255, 255, 255);\"> of</span><span style=\"background-color: rgb(255, 255, 255);\"> Right</span><span style=\"background-color: rgb(255, 255, 255);\"> to</span><span style=\"background-color: rgb(255, 255, 255);\"> Life</span><span style=\"background-color: rgb(255, 255, 255);\"> Australia</span><span style=\"background-color: rgb(255, 255, 255);\">,</span><span style=\"background-color: rgb(255, 255, 255);\"> was</span><span style=\"background-color: rgb(255, 255, 255);\"> equally</span><span style=\"background-color: rgb(255, 255, 255);\"> sc</span><span style=\"background-color: rgb(255, 255, 255);\">athing</span><span style=\"background-color: rgb(255, 255, 255);\">.</span><span style=\"background-color: rgb(255, 255, 255);\">\n",
       "</span><span style=\"background-color: rgb(255, 255, 255);\">&quot;</span><span style=\"background-color: rgb(255, 255, 255);\">This</span><span style=\"background-color: rgb(255, 255, 255);\"> must</span><span style=\"background-color: rgb(255, 255, 255);\"> be</span><span style=\"background-color: rgb(255, 255, 255);\"> the</span><span style=\"background-color: rgb(255, 255, 255);\"> work</span><span style=\"background-color: rgb(255, 231, 231);\"> of</span></p><p>Max Activation: 43.2500:</p><p><span style=\"background-color: rgb(255, 255, 255);\">\n",
       "</span><span style=\"background-color: rgb(255, 255, 255);\">standalone</span><span style=\"background-color: rgb(255, 255, 255);\">_</span><span style=\"background-color: rgb(255, 255, 255);\">test</span><span style=\"background-color: rgb(255, 255, 255);\">(</span><span style=\"background-color: rgb(255, 255, 255);\">h</span><span style=\"background-color: rgb(255, 255, 255);\">2</span><span style=\"background-color: rgb(255, 255, 255);\">o</span><span style=\"background-color: rgb(255, 255, 255);\">init</span><span style=\"background-color: rgb(255, 255, 255);\">)</span><span style=\"background-color: rgb(255, 255, 255);\">\n",
       "</span><span style=\"background-color: rgb(255, 255, 255);\">else</span><span style=\"background-color: rgb(255, 255, 255);\">:</span><span style=\"background-color: rgb(255, 255, 255);\">\n",
       "</span><span style=\"background-color: rgb(255, 255, 255);\">    </span><span style=\"background-color: rgb(255, 255, 255);\">h</span><span style=\"background-color: rgb(255, 255, 255);\">2</span><span style=\"background-color: rgb(255, 255, 255);\">o</span><span style=\"background-color: rgb(255, 255, 255);\">init</span><span style=\"background-color: rgb(255, 255, 255);\">()</span><span style=\"background-color: rgb(255, 255, 255);\">\n",
       "</span><span style=\"background-color: rgb(255, 255, 255);\">&lt;eos&gt;</span><span style=\"background-color: rgb(255, 255, 255);\">Apex</span><span style=\"background-color: rgb(255, 255, 255);\"> Zero</span><span style=\"background-color: rgb(255, 255, 255);\"> took</span><span style=\"background-color: rgb(255, 255, 255);\"> some</span><span style=\"background-color: rgb(255, 255, 255);\"> time</span><span style=\"background-color: rgb(255, 255, 255);\"> out</span><span style=\"background-color: rgb(255, 255, 255);\"> recently</span><span style=\"background-color: rgb(255, 255, 255);\"> to</span><span style=\"background-color: rgb(255, 255, 255);\"> speak</span><span style=\"background-color: rgb(255, 255, 255);\"> with</span><span style=\"background-color: rgb(255, 255, 255);\"> Andrew</span><span style=\"background-color: rgb(255, 255, 255);\"> Kay</span><span style=\"background-color: rgb(255, 255, 255);\"> for</span><span style=\"background-color: rgb(255, 255, 255);\"> British</span><span style=\"background-color: rgb(255, 255, 255);\"> magazine</span><span style=\"background-color: rgb(255, 255, 255);\"> Guest</span><span style=\"background-color: rgb(255, 255, 255);\">list</span><span style=\"background-color: rgb(255, 255, 255);\"> recently</span><span style=\"background-color: rgb(255, 255, 255);\"> to</span><span style=\"background-color: rgb(255, 255, 255);\"> speak</span><span style=\"background-color: rgb(255, 255, 255);\"> on</span><span style=\"background-color: rgb(255, 255, 255);\"> his</span><span style=\"background-color: rgb(255, 255, 255);\"> new</span><span style=\"background-color: rgb(255, 255, 255);\"> album</span><span style=\"background-color: rgb(255, 255, 255);\"> “</span><span style=\"background-color: rgb(255, 255, 255);\">Reality</span><span style=\"background-color: rgb(255, 255, 255);\"> Provo</span><span style=\"background-color: rgb(255, 255, 255);\">king</span><span style=\"background-color: rgb(255, 255, 255);\"> Liberation</span><span style=\"background-color: rgb(255, 255, 255);\">”</span><span style=\"background-color: rgb(255, 255, 255);\"> which</span><span style=\"background-color: rgb(255, 255, 255);\"> released</span><span style=\"background-color: rgb(255, 255, 255);\"> on</span><span style=\"background-color: rgb(255, 255, 255);\"> Monday</span><span style=\"background-color: rgb(255, 255, 255);\"> </span><span style=\"background-color: rgb(255, 255, 255);\">2</span><span style=\"background-color: rgb(255, 255, 255);\">8</span><span style=\"background-color: rgb(255, 255, 255);\">th</span><span style=\"background-color: rgb(255, 255, 255);\"> October</span><span style=\"background-color: rgb(255, 255, 255);\">.</span><span style=\"background-color: rgb(255, 255, 255);\">\n",
       "</span><span style=\"background-color: rgb(255, 255, 255);\">It</span><span style=\"background-color: rgb(255, 255, 255);\">’</span><span style=\"background-color: rgb(255, 255, 255);\">s</span><span style=\"background-color: rgb(255, 255, 255);\"> the</span><span style=\"background-color: rgb(255, 255, 255);\"> debut</span><span style=\"background-color: rgb(255, 255, 255);\"> solo</span><span style=\"background-color: rgb(255, 255, 255);\"> album</span><span style=\"background-color: rgb(255, 255, 255);\"> from</span><span style=\"background-color: rgb(255, 255, 255);\"> the</span><span style=\"background-color: rgb(255, 255, 255);\"> London</span><span style=\"background-color: rgb(255, 204, 204);\"> rapper</span><span style=\"background-color: rgb(255, 255, 255);\"> and</span><span style=\"background-color: rgb(255, 255, 255);\"> producer</span><span style=\"background-color: rgb(255, 255, 255);\">,</span><span style=\"background-color: rgb(255, 255, 255);\"> a</span><span style=\"background-color: rgb(255, 255, 255);\"> brief</span><span style=\"background-color: rgb(255, 255, 255);\"> departure</span><span style=\"background-color: rgb(255, 255, 255);\"> from</span><span style=\"background-color: rgb(255, 255, 255);\"> his</span><span style=\"background-color: rgb(255, 255, 255);\"> work</span><span style=\"background-color: rgb(255, 255, 255);\"> as</span><span style=\"background-color: rgb(255, 255, 255);\"> part</span><span style=\"background-color: rgb(255, 255, 255);\"> of</span><span style=\"background-color: rgb(255, 255, 255);\"> the</span><span style=\"background-color: rgb(255, 209, 209);\"> hip</span><span style=\"background-color: rgb(255, 234, 234);\"> hop</span><span style=\"background-color: rgb(255, 235, 235);\"> duo</span><span style=\"background-color: rgb(255, 255, 255);\"> First</span><span style=\"background-color: rgb(255, 255, 255);\"> and</span><span style=\"background-color: rgb(255, 255, 255);\"> Last</span><span style=\"background-color: rgb(255, 255, 255);\">.</span><span style=\"background-color: rgb(255, 255, 255);\"> It</span><span style=\"background-color: rgb(255, 255, 255);\">’</span><span style=\"background-color: rgb(255, 255, 255);\">s</span><span style=\"background-color: rgb(255, 255, 255);\"> had</span><span style=\"background-color: rgb(255, 255, 255);\"> an</span><span style=\"background-color: rgb(255, 255, 255);\"> impressive</span><span style=\"background-color: rgb(255, 255, 255);\"> media</span><span style=\"background-color: rgb(255, 255, 255);\"> response</span><span style=\"background-color: rgb(255, 255, 255);\"> in</span><span style=\"background-color: rgb(255, 255, 255);\"> the</span><span style=\"background-color: rgb(255, 255, 255);\"> past</span><span style=\"background-color: rgb(255, 255, 255);\"> couple</span><span style=\"background-color: rgb(255, 255, 255);\"> of</span><span style=\"background-color: rgb(255, 255, 255);\"> months</span><span style=\"background-color: rgb(255, 255, 255);\">,</span><span style=\"background-color: rgb(255, 255, 255);\"> with</span><span style=\"background-color: rgb(255, 255, 255);\"> an</span><span style=\"background-color: rgb(255, 255, 255);\"> appreciation</span><span style=\"background-color: rgb(255, 255, 255);\"> not</span><span style=\"background-color: rgb(255, 255, 255);\"> only</span><span style=\"background-color: rgb(255, 255, 255);\"> for</span><span style=\"background-color: rgb(255, 255, 255);\"> the</span><span style=\"background-color: rgb(255, 222, 222);\"> conscientious</span><span style=\"background-color: rgb(255, 157, 157);\"> lyric</span><span style=\"background-color: rgb(255, 203, 203);\">ism</span><span style=\"background-color: rgb(255, 218, 218);\"> addressing</span><span style=\"background-color: rgb(255, 255, 255);\"> a</span><span style=\"background-color: rgb(255, 255, 255);\"> range</span><span style=\"background-color: rgb(255, 255, 255);\"> of</span><span style=\"background-color: rgb(255, 255, 255);\"> political</span><span style=\"background-color: rgb(255, 238, 238);\"> and</span></p><p>Max Activation: 42.0000:</p><p><span style=\"background-color: rgb(255, 255, 255);\">\n",
       "</span><span style=\"background-color: rgb(255, 255, 255);\">1</span><span style=\"background-color: rgb(255, 255, 255);\">4</span><span style=\"background-color: rgb(255, 255, 255);\">)</span><span style=\"background-color: rgb(255, 255, 255);\"> but</span><span style=\"background-color: rgb(255, 255, 255);\"> was</span><span style=\"background-color: rgb(255, 255, 255);\"> destroyed</span><span style=\"background-color: rgb(255, 255, 255);\"> during</span><span style=\"background-color: rgb(255, 255, 255);\"> the</span><span style=\"background-color: rgb(255, 255, 255);\"> Civil</span><span style=\"background-color: rgb(255, 255, 255);\"> War</span><span style=\"background-color: rgb(255, 255, 255);\">.</span><span style=\"background-color: rgb(255, 255, 255);\"> The</span><span style=\"background-color: rgb(255, 255, 255);\"> text</span><span style=\"background-color: rgb(255, 255, 255);\"> in</span><span style=\"background-color: rgb(255, 255, 255);\"> Griswold</span><span style=\"background-color: rgb(255, 255, 255);\">’</span><span style=\"background-color: rgb(255, 255, 255);\">s</span><span style=\"background-color: rgb(255, 176, 176);\"> Poets</span><span style=\"background-color: rgb(255, 255, 255);\"> and</span><span style=\"background-color: rgb(255, 194, 194);\"> Poetry</span><span style=\"background-color: rgb(255, 231, 231);\"> of</span><span style=\"background-color: rgb(255, 224, 224);\"> America</span><span style=\"background-color: rgb(255, 255, 255);\"> (</span><span style=\"background-color: rgb(255, 255, 255);\">F</span><span style=\"background-color: rgb(255, 255, 255);\">)</span><span style=\"background-color: rgb(255, 255, 255);\"> is</span><span style=\"background-color: rgb(255, 255, 255);\"> verbally</span><span style=\"background-color: rgb(255, 255, 255);\"> like</span><span style=\"background-color: rgb(255, 220, 220);\"> that</span><span style=\"background-color: rgb(255, 255, 255);\"> in</span><span style=\"background-color: rgb(255, 255, 255);\"> Works</span><span style=\"background-color: rgb(255, 255, 255);\"> (</span><span style=\"background-color: rgb(255, 255, 255);\">G</span><span style=\"background-color: rgb(255, 255, 255);\">),</span><span style=\"background-color: rgb(255, 255, 255);\"> but</span><span style=\"background-color: rgb(255, 255, 255);\"> the</span><span style=\"background-color: rgb(255, 255, 255);\"> printer</span><span style=\"background-color: rgb(255, 255, 255);\"> used</span><span style=\"background-color: rgb(255, 234, 234);\"> apost</span><span style=\"background-color: rgb(255, 255, 255);\">rophes</span><span style=\"background-color: rgb(255, 255, 255);\"> thus</span><span style=\"background-color: rgb(255, 255, 255);\">:</span><span style=\"background-color: rgb(255, 255, 255);\"> in</span><span style=\"background-color: rgb(255, 174, 174);\"> line</span><span style=\"background-color: rgb(255, 255, 255);\"> </span><span style=\"background-color: rgb(255, 192, 192);\">6</span><span style=\"background-color: rgb(255, 255, 255);\">,</span><span style=\"background-color: rgb(255, 255, 255);\"> conquer</span><span style=\"background-color: rgb(255, 255, 255);\">’</span><span style=\"background-color: rgb(255, 255, 255);\">d</span><span style=\"background-color: rgb(255, 255, 255);\">;</span><span style=\"background-color: rgb(255, 255, 255);\"> </span><span style=\"background-color: rgb(255, 237, 237);\">2</span><span style=\"background-color: rgb(255, 208, 208);\">8</span><span style=\"background-color: rgb(255, 236, 236);\">,</span><span style=\"background-color: rgb(255, 255, 255);\"> madden</span><span style=\"background-color: rgb(255, 255, 255);\">’</span><span style=\"background-color: rgb(255, 255, 255);\">d</span><span style=\"background-color: rgb(255, 255, 255);\">;</span><span style=\"background-color: rgb(255, 216, 216);\"> </span><span style=\"background-color: rgb(255, 195, 195);\">2</span><span style=\"background-color: rgb(255, 230, 230);\">9</span><span style=\"background-color: rgb(255, 255, 255);\">,</span><span style=\"background-color: rgb(255, 255, 255);\"> burn</span><span style=\"background-color: rgb(255, 255, 255);\">’</span><span style=\"background-color: rgb(255, 255, 255);\">d</span><span style=\"background-color: rgb(255, 255, 255);\">;</span><span style=\"background-color: rgb(255, 255, 255);\"> yo</span><span style=\"background-color: rgb(255, 226, 226);\">,</span><span style=\"background-color: rgb(255, 255, 255);\"> D</span><span style=\"background-color: rgb(255, 233, 233);\">rown</span><span style=\"background-color: rgb(255, 255, 255);\">’</span><span style=\"background-color: rgb(255, 255, 255);\">d</span><span style=\"background-color: rgb(255, 255, 255);\">;</span><span style=\"background-color: rgb(255, 255, 255);\"> </span><span style=\"background-color: rgb(255, 233, 233);\">7</span><span style=\"background-color: rgb(255, 214, 214);\">9</span><span style=\"background-color: rgb(255, 255, 255);\">,</span><span style=\"background-color: rgb(255, 255, 255);\"> extinguish</span><span style=\"background-color: rgb(255, 255, 255);\">’</span><span style=\"background-color: rgb(255, 255, 255);\">d</span><span style=\"background-color: rgb(255, 255, 255);\">;</span><span style=\"background-color: rgb(255, 255, 255);\"> </span><span style=\"background-color: rgb(255, 224, 224);\">8</span><span style=\"background-color: rgb(255, 225, 225);\">0</span><span style=\"background-color: rgb(255, 255, 255);\">,</span><span style=\"background-color: rgb(255, 255, 255);\"> cover</span><span style=\"background-color: rgb(255, 160, 160);\">’</span><span style=\"background-color: rgb(255, 255, 255);\">d</span><span style=\"background-color: rgb(255, 255, 255);\">.</span><span style=\"background-color: rgb(255, 255, 255);\"> The</span><span style=\"background-color: rgb(255, 255, 255);\"> Examiner</span><span style=\"background-color: rgb(255, 255, 255);\"> proof</span><span style=\"background-color: rgb(255, 255, 255);\">sheets</span><span style=\"background-color: rgb(255, 255, 255);\"> (</span><span style=\"background-color: rgb(255, 255, 255);\">Z</span><span style=\"background-color: rgb(255, 255, 255);\">)</span><span style=\"background-color: rgb(255, 255, 255);\"> are</span><span style=\"background-color: rgb(255, 255, 255);\"> said</span><span style=\"background-color: rgb(255, 255, 255);\"> to</span><span style=\"background-color: rgb(255, 255, 255);\"> have</span><span style=\"background-color: rgb(255, 255, 255);\"> had</span><span style=\"background-color: rgb(255, 255, 255);\"> a</span><span style=\"background-color: rgb(255, 255, 255);\"> unique</span><span style=\"background-color: rgb(255, 255, 255);\"> reading</span><span style=\"background-color: rgb(255, 255, 255);\">,</span><span style=\"background-color: rgb(255, 255, 255);\"> in</span><span style=\"background-color: rgb(255, 213, 213);\"> line</span><span style=\"background-color: rgb(255, 224, 224);\"> </span><span style=\"background-color: rgb(255, 207, 207);\">4</span><span style=\"background-color: rgb(255, 212, 212);\">5</span><span style=\"background-color: rgb(255, 255, 255);\">.</span><span style=\"background-color: rgb(255, 255, 255);\">\n",
       "</span><span style=\"background-color: rgb(255, 255, 255);\">1</span><span style=\"background-color: rgb(255, 255, 255);\">0</span><span style=\"background-color: rgb(255, 226, 226);\">,</span><span style=\"background-color: rgb(255, 229, 229);\"> </span><span style=\"background-color: rgb(255, 237, 237);\">1</span><span style=\"background-color: rgb(255, 217, 217);\">2</span><span style=\"background-color: rgb(255, 212, 212);\"> Wilbur</span><span style=\"background-color: rgb(255, 255, 255);\"> (</span><span style=\"background-color: rgb(255, 226, 226);\">Poe</span><span style=\"background-color: rgb(255, 255, 255);\">,</span><span style=\"background-color: rgb(255, 255, 255);\"> p</span></p>"
      ],
      "text/plain": [
       "<IPython.core.display.HTML object>"
      ]
     },
     "metadata": {},
     "output_type": "display_data"
    }
   ],
   "source": [
    "# ft_id = 4457\n",
    "ft_id = 101\n",
    "\n",
    "samples = ready_tokens[top_k_indices[ft_id]]\n",
    "\n",
    "\n",
    "acts = acts_for_feature(samples, ft_id)\n",
    "\n",
    "display_highlighted_tokens(samples[:, 3:], acts[:, 3:], model.tokenizer)"
   ]
  },
  {
   "cell_type": "code",
   "execution_count": null,
   "metadata": {},
   "outputs": [],
   "source": []
  },
  {
   "cell_type": "code",
   "execution_count": null,
   "metadata": {},
   "outputs": [],
   "source": []
  },
  {
   "cell_type": "code",
   "execution_count": null,
   "metadata": {},
   "outputs": [],
   "source": []
  },
  {
   "cell_type": "code",
   "execution_count": 96,
   "metadata": {},
   "outputs": [
    {
     "name": "stdout",
     "output_type": "stream",
     "text": [
      "torch.Size([10, 13])\n",
      "['<bos>', '<start_of_turn>', 'user', '\\n', 'Tell', ' me', ' a', ' story', '<end_of_turn>', '\\n', '<start_of_turn>', 'model', '\\n']\n"
     ]
    }
   ],
   "source": [
    "# steer model\n",
    "text = \"Tell me a story\"\n",
    "toks = model.tokenizer.apply_chat_template([{\"role\": \"user\", \"content\": text}], return_tensors='pt', add_generation_prompt=True)\n",
    "toks = toks.expand(10, -1)\n",
    "print(toks.shape)\n",
    "print(model.to_str_tokens(toks[0]))\n",
    "toks = toks.to(device)\n"
   ]
  },
  {
   "cell_type": "code",
   "execution_count": 97,
   "metadata": {},
   "outputs": [
    {
     "data": {
      "application/vnd.jupyter.widget-view+json": {
       "model_id": "da984f4e20b7495a9b739bfdfa0fd07f",
       "version_major": 2,
       "version_minor": 0
      },
      "text/plain": [
       "  0%|          | 0/40 [00:00<?, ?it/s]"
      ]
     },
     "metadata": {},
     "output_type": "display_data"
    },
    {
     "data": {
      "text/plain": [
       "[\"<bos><start_of_turn>user\\nTell me a story<end_of_turn>\\n<start_of_turn>model\\nThe old lighthouse keeper, Elias, squinted at the churning sea, its grey waves crashing against the jagged rocks below. For 50 years, he'd stood watch from this lonely post,\",\n",
       " \"<bos><start_of_turn>user\\nTell me a story<end_of_turn>\\n<start_of_turn>model\\nThe old lighthouse keeper, Elias, squinted at the graying sky. For fifty years, he'd watched the sun rise and set over the treacherous Rockhaven Reef, its stark white lighthouse beam\",\n",
       " '<bos><start_of_turn>user\\nTell me a story<end_of_turn>\\n<start_of_turn>model\\nThe wind whispered secrets through the long, dry grass of the savanna, secrets Elara strained to hear. She was a young gazelle, barely a year old, and today was her first solo hunt',\n",
       " '<bos><start_of_turn>user\\nTell me a story<end_of_turn>\\n<start_of_turn>model\\nThe old woman, Elara, knelt beside the overgrown rosebush, her wrinkled hands brushing against thorns as she searched for a bloom. The thorns pricked her skin, but she barely flinched.',\n",
       " '<bos><start_of_turn>user\\nTell me a story<end_of_turn>\\n<start_of_turn>model\\nThe old woman, Elara, sat on the rickety porch swing, its groan a familiar melody in the stillness of the twilight. Her wrinkled hands, maps of a life well-lived, clutched',\n",
       " \"<bos><start_of_turn>user\\nTell me a story<end_of_turn>\\n<start_of_turn>model\\nThe wind whispered secrets through the rusted gears of the abandoned factory, secrets Elara didn't want to hear. She peeked through the grime-coated window, her heart hammering a rhythm against her\",\n",
       " '<bos><start_of_turn>user\\nTell me a story<end_of_turn>\\n<start_of_turn>model\\nThe old lighthouse keeper, Elias, squinted at the churning sea. His beard, weathered likedriftwood, was whipped by the salty wind as he scanned the horizon. The storm had been raging for',\n",
       " '<bos><start_of_turn>user\\nTell me a story<end_of_turn>\\n<start_of_turn>model\\nThe wind whipped around Elara, biting at her exposed skin despite the layers she wore. She hugged her tattered cloak tighter, squinting at the snow-covered vista before her. The jagged peaks of',\n",
       " '<bos><start_of_turn>user\\nTell me a story<end_of_turn>\\n<start_of_turn>model\\nThe old lighthouse keeper, Silas, squinted at the churning sea, his weathered face etched with worry. The storm had raged for two days straight, the wind howling like a banshee, waves crashing',\n",
       " \"<bos><start_of_turn>user\\nTell me a story<end_of_turn>\\n<start_of_turn>model\\nThe old lighthouse keeper named Silas squinted into the churning gray sea. For fifty years, he'd watched storms brew and ships sail, the steady pulse of his lantern guiding them through the treacherous reef\"]"
      ]
     },
     "execution_count": 97,
     "metadata": {},
     "output_type": "execute_result"
    }
   ],
   "source": [
    "gen_toks = model.generate(toks, max_new_tokens=40)\n",
    "model.to_string(gen_toks)"
   ]
  },
  {
   "cell_type": "code",
   "execution_count": 122,
   "metadata": {},
   "outputs": [],
   "source": [
    "# # Layer 9\n",
    "# london = sae.W_dec[4457]\n",
    "# britain = sae.W_dec[10423]\n",
    "\n",
    "# Layer 20\n",
    "britain = sae.W_dec[5771]\n",
    "# london = sae.W_dec[5771]\n",
    "happy = sae.W_dec[9022]\n",
    "poems = sae.W_dec[101]"
   ]
  },
  {
   "cell_type": "code",
   "execution_count": 123,
   "metadata": {},
   "outputs": [
    {
     "data": {
      "application/vnd.jupyter.widget-view+json": {
       "model_id": "ff9f87e273144062bd3b58efb4b50974",
       "version_major": 2,
       "version_minor": 0
      },
      "text/plain": [
       "  0%|          | 0/40 [00:00<?, ?it/s]"
      ]
     },
     "metadata": {},
     "output_type": "display_data"
    },
    {
     "data": {
      "text/plain": [
       "['<bos><start_of_turn>user\\nTell me a story<end_of_turn>\\n<start_of_turn>model\\nThe old lighthouse stood sentinel on the craggy cliff,\\nA lonely heart, a weathered soul,\\nWhispering tales of crashing waves and drifting ships.\\n\\nIt spoke of storms that tore the sky',\n",
       " \"<bos><start_of_turn>user\\nTell me a story<end_of_turn>\\n<start_of_turn>model\\nThe old lighthouse keeper, bent with age and salt, watched the tide creep in,\\n\\nHe'd seen a thousand sunsets on this craggy, lonely shore,\\nFelt the ocean's pulse\",\n",
       " '<bos><start_of_turn>user\\nTell me a story<end_of_turn>\\n<start_of_turn>model\\nThe old lighthouse stood weathered and worn,\\nUpon a craggy cliff, its spirit torn.\\nIt watched the waves crash, ceaseless, strong,\\nA testament to love, both sweet and long',\n",
       " '<bos><start_of_turn>user\\nTell me a story<end_of_turn>\\n<start_of_turn>model\\nThe old lighthouse keeper, weathered and worn like the cliffs he climbed, watched the waves crash against the shore. The sea was restless tonight, its voice a mournful dirge of wind and foam. He',\n",
       " '<bos><start_of_turn>user\\nTell me a story<end_of_turn>\\n<start_of_turn>model\\nThe old lighthouse stood sentinel by the churning sea,\\nIts weathered face a map of storms and salty memories.\\n\\nIt watched the ships come sailing, fragile things of hope,\\nEach one a fragile',\n",
       " '<bos><start_of_turn>user\\nTell me a story<end_of_turn>\\n<start_of_turn>model\\nThe old oak stood on a hill, its gnarled branches whispering tales of seasons past.  Sun-drenched summers, storm-tossed winters, all wove a tapestry of life and loss',\n",
       " '<bos><start_of_turn>user\\nTell me a story<end_of_turn>\\n<start_of_turn>model\\nThe city slept beneath a veil of smoke,\\nEach breath a whispered plea for peace untold.\\nA weary traveler trudged on cobbled roads,\\nHis heart a heavy drum within his chest.',\n",
       " '<bos><start_of_turn>user\\nTell me a story<end_of_turn>\\n<start_of_turn>model\\nThe old lighthouse keeper, Silas, watched the rain lash against the glass,\\nEach drop a tear for the ship that sailed too far,\\n\\nA ship that mirrored his own weary heart.\\nHe',\n",
       " '<bos><start_of_turn>user\\nTell me a story<end_of_turn>\\n<start_of_turn>model\\nThe old lighthouse stood sentinel on the windswept shore,\\nA solitary figure, weathered, worn, and sore.\\nIt watched the crashing waves, a ceaseless, surging tide,\\nOf sorrow whispered',\n",
       " \"<bos><start_of_turn>user\\nTell me a story<end_of_turn>\\n<start_of_turn>model\\nThe old oak stood by the river's edge, its leaves whispering secrets to the breeze. It had seen centuries pass, felt love and loss, the birth of spring and the sting of winter.\"]"
      ]
     },
     "execution_count": 123,
     "metadata": {},
     "output_type": "execute_result"
    }
   ],
   "source": [
    "with model.hooks([(hp, partial(patch_resid, steering=poems, scale=150))]):\n",
    "    gen_toks = model.generate(toks, max_new_tokens=40)\n",
    "model.to_string(gen_toks)"
   ]
  },
  {
   "cell_type": "code",
   "execution_count": 124,
   "metadata": {},
   "outputs": [],
   "source": [
    "unsteered_texts = generate(model,\n",
    "        hooks=[],\n",
    "        max_new_tokens=35,\n",
    "        prompt=text,\n",
    "        batch_size=64,\n",
    "        n_samples=200,\n",
    "        )\n"
   ]
  },
  {
   "cell_type": "code",
   "execution_count": 125,
   "metadata": {},
   "outputs": [],
   "source": [
    "\n",
    "happy_texts = generate(model,\n",
    "        hooks=[(hp, partial(patch_resid, steering=happy, scale=60))],\n",
    "        max_new_tokens=35,\n",
    "        prompt=text,\n",
    "        batch_size=64,\n",
    "        n_samples=200,\n",
    "        )"
   ]
  },
  {
   "cell_type": "code",
   "execution_count": 140,
   "metadata": {},
   "outputs": [],
   "source": [
    "poem_texts = generate(model,\n",
    "                      hooks=[(hp, partial(patch_resid, steering=poems, scale=150))],\n",
    "                      max_new_tokens=35,\n",
    "                      prompt=text,\n",
    "                      batch_size=64,\n",
    "                      n_samples=200,\n",
    "                      )"
   ]
  },
  {
   "cell_type": "code",
   "execution_count": null,
   "metadata": {},
   "outputs": [],
   "source": []
  },
  {
   "cell_type": "code",
   "execution_count": 126,
   "metadata": {},
   "outputs": [
    {
     "data": {
      "text/plain": [
       "['Tell me a story about a little girl who loved to draw.\\n\\nLila was a whirlwind of glitter and crayons. From the moment her tiny toes touched the floor each morning, she was armed with',\n",
       " 'Tell me a story about a baker who bakes bread with magical ingredients for magical beasts.\\n\\nBertram Buttercrust wasn\\'t your average baker. His shop, \"Bertram\\'s Bites',\n",
       " \"Tell me a story about a time when you helped someone.\\n\\nThough I don't have personal experiences like humans do, I can tell you a story about a time I helped someone using the\",\n",
       " 'Tell me a story about a young girl named Emma.\\n\\nEmma lived in a tiny village nestled among rolling hills, where the air was sweet with the scent of fresh bread and blooming wildflowers. She',\n",
       " 'Tell me a story about an old man who finds an empty bottle at the beach.\\n\\nElias, with his weathered face etched with the lines of a life well-lived and sun-kissed']"
      ]
     },
     "execution_count": 126,
     "metadata": {},
     "output_type": "execute_result"
    }
   ],
   "source": [
    "(happy_texts[:5])"
   ]
  },
  {
   "cell_type": "code",
   "execution_count": 127,
   "metadata": {},
   "outputs": [],
   "source": [
    "@torch.no_grad()\n",
    "def get_feature_freqs(texts: list[str], model: HookedTransformer, sae: SAE, hook_point: str):\n",
    "    all_sae_acts = torch.zeros(sae.cfg.d_sae, device=sae.W_enc.device)\n",
    "    count = 0\n",
    "\n",
    "    for text in tqdm(texts):\n",
    "        _, acts = model.run_with_cache(text, names_filter=hook_point)\n",
    "        acts = acts[hook_point]\n",
    "\n",
    "        for batch in acts:\n",
    "            sae_acts = sae.encode(batch)\n",
    "            all_sae_acts += sae_acts.sum(dim=0)\n",
    "            count += acts.shape[0]\n",
    "    return all_sae_acts / count\n"
   ]
  },
  {
   "cell_type": "code",
   "execution_count": 129,
   "metadata": {},
   "outputs": [
    {
     "name": "stderr",
     "output_type": "stream",
     "text": [
      "100%|██████████| 200/200 [00:22<00:00,  8.85it/s]\n"
     ]
    }
   ],
   "source": [
    "unsteered_freqs = get_feature_freqs(unsteered_texts, model, sae, hp)"
   ]
  },
  {
   "cell_type": "code",
   "execution_count": 130,
   "metadata": {},
   "outputs": [
    {
     "name": "stderr",
     "output_type": "stream",
     "text": [
      "100%|██████████| 200/200 [00:21<00:00,  9.14it/s]\n"
     ]
    }
   ],
   "source": [
    "happy_freqs = get_feature_freqs(happy_texts, model, sae, hp)"
   ]
  },
  {
   "cell_type": "code",
   "execution_count": 141,
   "metadata": {},
   "outputs": [
    {
     "name": "stderr",
     "output_type": "stream",
     "text": [
      "100%|██████████| 200/200 [00:22<00:00,  8.90it/s]\n"
     ]
    }
   ],
   "source": [
    "poem_freqs = get_feature_freqs(poem_texts, model, sae, hp)"
   ]
  },
  {
   "cell_type": "code",
   "execution_count": 142,
   "metadata": {},
   "outputs": [
    {
     "name": "stdout",
     "output_type": "stream",
     "text": [
      "tensor([  990,  5611,  1178, 10871,  7644, 12169,  7603,  6919,  1401,  9702],\n",
      "       device='cuda:0')\n",
      "tensor([384.7408, 258.7422, 130.3225, 109.7412,  89.7206,  79.5050,  78.9244,\n",
      "         76.9000,  76.6184,  73.4022], device='cuda:0')\n"
     ]
    }
   ],
   "source": [
    "# happy_diff = happy_freqs - unsteered_freqs\n",
    "\n",
    "poem_diff = poem_freqs - unsteered_freqs\n",
    "top_v, top_i = torch.topk(poem_diff, 10, dim=-1)\n",
    "print(top_i)\n",
    "print(top_v)"
   ]
  },
  {
   "cell_type": "code",
   "execution_count": null,
   "metadata": {},
   "outputs": [],
   "source": []
  },
  {
   "cell_type": "code",
   "execution_count": 144,
   "metadata": {},
   "outputs": [
    {
     "data": {
      "text/plain": [
       "[\"Tell me a story about the moon,\\n\\nA silent watchtower of the night's vast sky,\\n\\n**The Moon's Lament**\\n\\nMy silver skin remembers every tear that falls,\",\n",
       " 'Tell me a story about the sun and the Moon.\\n\\nThe sun, a fiery king, ruled the day,\\nHis golden chariot climbed high and bright,\\nHe sang of joy, of',\n",
       " 'Tell me a story about a broken world.\\n\\nThe sky hangs gray, a tapestry of ash and dust,\\nA world choked with sorrow, a heart turned to rust.\\n\\nThe fields lie',\n",
       " 'Tell me a story about a love unrequited.\\n\\nThe wind whispers your name, oh willow,\\nAnd my heart, a captive, falls in line.\\nYou dance of freedom,',\n",
       " 'Tell me a story about a robot, looking out over a city.\\n\\nThe city hummed beneath its metallic gaze, \\na tapestry of light and shadow spun with haste.\\nSteel bones',\n",
       " 'Tell me a story about a lonely cloud,\\n\\n\\nA lonely cloud drifts on the breeze,\\n\\nA tale of longing and unseen ease.\\n\\nUpon a windswept heath it sighed,\\nAching',\n",
       " 'Tell me a story about a tiny house,\\n\\nWhere walls speak in hushed whispers low,\\nOf longing and love, and shadows that flow.\\n\\nTiny house, where do you hide your heart',\n",
       " 'Tell me a story about a stargazer that sits, looking at the vastness of the night sky.\\n\\nThe moon hangs silent, a silver coin adrift on a dark sea,\\nand',\n",
       " \"Tell me a story about a city, where people's hair tells their story.\\n\\nIn Whispering Wood, the trees spoke in shades of rust and gold, but the people's tongues\",\n",
       " \"Tell me a story about a love poem that finds its way home.\\n\\nThe wind whispered tales of love lost long ago,\\nA ballad echoing through the rustling trees' embrace.\\n\\nLost in\"]"
      ]
     },
     "execution_count": 144,
     "metadata": {},
     "output_type": "execute_result"
    }
   ],
   "source": [
    "poem_texts[:10]"
   ]
  },
  {
   "cell_type": "code",
   "execution_count": 147,
   "metadata": {},
   "outputs": [
    {
     "name": "stderr",
     "output_type": "stream",
     "text": [
      "100%|██████████| 3/3 [00:00<00:00, 10.49it/s]\n"
     ]
    },
    {
     "ename": "ValueError",
     "evalue": "cannot convert float NaN to integer",
     "output_type": "error",
     "traceback": [
      "\u001b[0;31m---------------------------------------------------------------------------\u001b[0m",
      "\u001b[0;31mValueError\u001b[0m                                Traceback (most recent call last)",
      "Cell \u001b[0;32mIn[147], line 1\u001b[0m\n\u001b[0;32m----> 1\u001b[0m \u001b[43mvisualize_feature\u001b[49m\u001b[43m(\u001b[49m\u001b[38;5;241;43m10871\u001b[39;49m\u001b[43m)\u001b[49m\n",
      "Cell \u001b[0;32mIn[132], line 4\u001b[0m, in \u001b[0;36mvisualize_feature\u001b[0;34m(ft_id)\u001b[0m\n\u001b[1;32m      2\u001b[0m samples \u001b[38;5;241m=\u001b[39m ready_tokens[top_k_indices[ft_id]]\n\u001b[1;32m      3\u001b[0m acts \u001b[38;5;241m=\u001b[39m acts_for_feature(samples, ft_id)\n\u001b[0;32m----> 4\u001b[0m \u001b[43mdisplay_highlighted_tokens\u001b[49m\u001b[43m(\u001b[49m\u001b[43msamples\u001b[49m\u001b[43m[\u001b[49m\u001b[43m:\u001b[49m\u001b[43m,\u001b[49m\u001b[43m \u001b[49m\u001b[38;5;241;43m3\u001b[39;49m\u001b[43m:\u001b[49m\u001b[43m]\u001b[49m\u001b[43m,\u001b[49m\u001b[43m \u001b[49m\u001b[43macts\u001b[49m\u001b[43m[\u001b[49m\u001b[43m:\u001b[49m\u001b[43m,\u001b[49m\u001b[43m \u001b[49m\u001b[38;5;241;43m3\u001b[39;49m\u001b[43m:\u001b[49m\u001b[43m]\u001b[49m\u001b[43m,\u001b[49m\u001b[43m \u001b[49m\u001b[43mmodel\u001b[49m\u001b[38;5;241;43m.\u001b[39;49m\u001b[43mtokenizer\u001b[49m\u001b[43m)\u001b[49m\n",
      "Cell \u001b[0;32mIn[62], line 29\u001b[0m, in \u001b[0;36mdisplay_highlighted_tokens\u001b[0;34m(tokens, values, tokenizer)\u001b[0m\n\u001b[1;32m     27\u001b[0m     \u001b[38;5;66;03m# Escape special characters to prevent HTML conflicts\u001b[39;00m\n\u001b[1;32m     28\u001b[0m     word_escaped \u001b[38;5;241m=\u001b[39m html\u001b[38;5;241m.\u001b[39mescape(word)\n\u001b[0;32m---> 29\u001b[0m     color \u001b[38;5;241m=\u001b[39m \u001b[43mvalue_to_color\u001b[49m\u001b[43m(\u001b[49m\u001b[43mvalue\u001b[49m\u001b[43m)\u001b[49m\n\u001b[1;32m     30\u001b[0m     html_output \u001b[38;5;241m+\u001b[39m\u001b[38;5;241m=\u001b[39m \u001b[38;5;124mf\u001b[39m\u001b[38;5;124m'\u001b[39m\u001b[38;5;124m<span style=\u001b[39m\u001b[38;5;124m\"\u001b[39m\u001b[38;5;124mbackground-color: \u001b[39m\u001b[38;5;132;01m{\u001b[39;00mcolor\u001b[38;5;132;01m}\u001b[39;00m\u001b[38;5;124m;\u001b[39m\u001b[38;5;124m\"\u001b[39m\u001b[38;5;124m>\u001b[39m\u001b[38;5;132;01m{\u001b[39;00mword_escaped\u001b[38;5;132;01m}\u001b[39;00m\u001b[38;5;124m</span>\u001b[39m\u001b[38;5;124m'\u001b[39m\n\u001b[1;32m     32\u001b[0m html_output \u001b[38;5;241m+\u001b[39m\u001b[38;5;241m=\u001b[39m \u001b[38;5;124m\"\u001b[39m\u001b[38;5;124m</p>\u001b[39m\u001b[38;5;124m\"\u001b[39m\n",
      "Cell \u001b[0;32mIn[62], line 14\u001b[0m, in \u001b[0;36mdisplay_highlighted_tokens.<locals>.value_to_color\u001b[0;34m(value)\u001b[0m\n\u001b[1;32m     12\u001b[0m \u001b[38;5;28;01mdef\u001b[39;00m \u001b[38;5;21mvalue_to_color\u001b[39m(value):\n\u001b[1;32m     13\u001b[0m     \u001b[38;5;66;03m# Using a gradient from white to red\u001b[39;00m\n\u001b[0;32m---> 14\u001b[0m     color_value \u001b[38;5;241m=\u001b[39m \u001b[38;5;28;43mint\u001b[39;49m\u001b[43m(\u001b[49m\u001b[38;5;241;43m255\u001b[39;49m\u001b[43m \u001b[49m\u001b[38;5;241;43m*\u001b[39;49m\u001b[43m \u001b[49m\u001b[43m(\u001b[49m\u001b[38;5;241;43m1\u001b[39;49m\u001b[43m \u001b[49m\u001b[38;5;241;43m-\u001b[39;49m\u001b[43m \u001b[49m\u001b[43mvalue\u001b[49m\u001b[38;5;241;43m.\u001b[39;49m\u001b[43mitem\u001b[49m\u001b[43m(\u001b[49m\u001b[43m)\u001b[49m\u001b[43m)\u001b[49m\u001b[43m)\u001b[49m\n\u001b[1;32m     15\u001b[0m     \u001b[38;5;28;01mreturn\u001b[39;00m \u001b[38;5;124mf\u001b[39m\u001b[38;5;124m\"\u001b[39m\u001b[38;5;124mrgb(255, \u001b[39m\u001b[38;5;132;01m{\u001b[39;00mcolor_value\u001b[38;5;132;01m}\u001b[39;00m\u001b[38;5;124m, \u001b[39m\u001b[38;5;132;01m{\u001b[39;00mcolor_value\u001b[38;5;132;01m}\u001b[39;00m\u001b[38;5;124m)\u001b[39m\u001b[38;5;124m\"\u001b[39m\n",
      "\u001b[0;31mValueError\u001b[0m: cannot convert float NaN to integer"
     ]
    }
   ],
   "source": [
    "visualize_feature(10871)"
   ]
  },
  {
   "cell_type": "code",
   "execution_count": null,
   "metadata": {},
   "outputs": [],
   "source": []
  }
 ],
 "metadata": {
  "kernelspec": {
   "display_name": ".venv",
   "language": "python",
   "name": "python3"
  },
  "language_info": {
   "codemirror_mode": {
    "name": "ipython",
    "version": 3
   },
   "file_extension": ".py",
   "mimetype": "text/x-python",
   "name": "python",
   "nbconvert_exporter": "python",
   "pygments_lexer": "ipython3",
   "version": "3.10.13"
  }
 },
 "nbformat": 4,
 "nbformat_minor": 2
}
